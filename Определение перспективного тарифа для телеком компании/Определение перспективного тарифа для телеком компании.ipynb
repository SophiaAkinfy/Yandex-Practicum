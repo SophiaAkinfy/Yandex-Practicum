{
 "cells": [
  {
   "cell_type": "markdown",
   "metadata": {},
   "source": [
    "# Определение перспективного тарифа для телеком компании"
   ]
  },
  {
   "cell_type": "markdown",
   "metadata": {},
   "source": [
    "**Задача:** Провести предварительный анализ тарифов на небольшой выборке клиентов с целью определить по поведению клиентов какой из двух тарифов лучше и приносит больше денег. Результат исследования будет учитываться при корректировке рекламного бюджета. \n",
    "\n",
    "**Исходные данные:** Данные 500 пользователей сотового оператора: кто они, откуда, каким тарифом пользуются, сколько звонков и сообщений каждый отправил за 2018 год. "
   ]
  },
  {
   "cell_type": "markdown",
   "metadata": {},
   "source": [
    "<a id='content'></a>\n",
    "## Оглавление \n",
    "[Предварительный анализ данных](#1)\n",
    "\n",
    "[Расчет параметров для пользователей](#2)\n",
    " - [Расчет для каждого пользователя количества сделанных звонков и израсходованных минут разговора по месяцам](#2-1)\n",
    " - [Расчет для каждого пользователя количества отправленных сообщений по месяцам](#2-2)\n",
    " - [Расчет для каждого пользователя объема израсходованного интернет-трафика по месяцам](#2-3)\n",
    " - [Расчет помесячной прибыли с каждого пользователя](#2-4)\n",
    " \n",
    "[Исследовательский анализ данных](#3)\n",
    "\n",
    "[Проверка гипотез](#4)\n",
    " - [Проверка гипотезы: средняя выручка пользователей тарифов «Ультра» и «Смарт» различаются](#4-1)\n",
    " - [Проверка гипотезы: средняя выручка пользователей из Москвы отличается от выручки пользователей из других регионов](#4-2)\n",
    "\n",
    "[Вывод](#outcome)"
   ]
  },
  {
   "cell_type": "markdown",
   "metadata": {},
   "source": [
    "<a id = '1'></a>\n",
    "## Предварительный анализ данных"
   ]
  },
  {
   "cell_type": "code",
   "execution_count": 1,
   "metadata": {},
   "outputs": [],
   "source": [
    "# импорт библиотек\n",
    "from scipy import stats as st\n",
    "import numpy as np\n",
    "import pandas as pd\n",
    "import math\n",
    "import copy\n",
    "import seaborn as sns "
   ]
  },
  {
   "cell_type": "code",
   "execution_count": 2,
   "metadata": {},
   "outputs": [],
   "source": [
    "# чтение данных из файлов\n",
    "calls = pd.read_csv('/datasets/calls.csv')\n",
    "internet = pd.read_csv('/datasets/internet.csv')\n",
    "messages = pd.read_csv('/datasets/messages.csv')\n",
    "tariffs = pd.read_csv('/datasets/tariffs.csv')\n",
    "users = pd.read_csv('/datasets/users.csv')"
   ]
  },
  {
   "cell_type": "markdown",
   "metadata": {},
   "source": [
    "### Calls"
   ]
  },
  {
   "cell_type": "code",
   "execution_count": 3,
   "metadata": {},
   "outputs": [
    {
     "name": "stdout",
     "output_type": "stream",
     "text": [
      "<class 'pandas.core.frame.DataFrame'>\n",
      "RangeIndex: 202607 entries, 0 to 202606\n",
      "Data columns (total 4 columns):\n",
      "id           202607 non-null object\n",
      "call_date    202607 non-null object\n",
      "duration     202607 non-null float64\n",
      "user_id      202607 non-null int64\n",
      "dtypes: float64(1), int64(1), object(2)\n",
      "memory usage: 6.2+ MB\n"
     ]
    },
    {
     "data": {
      "text/html": [
       "<div>\n",
       "<style scoped>\n",
       "    .dataframe tbody tr th:only-of-type {\n",
       "        vertical-align: middle;\n",
       "    }\n",
       "\n",
       "    .dataframe tbody tr th {\n",
       "        vertical-align: top;\n",
       "    }\n",
       "\n",
       "    .dataframe thead th {\n",
       "        text-align: right;\n",
       "    }\n",
       "</style>\n",
       "<table border=\"1\" class=\"dataframe\">\n",
       "  <thead>\n",
       "    <tr style=\"text-align: right;\">\n",
       "      <th></th>\n",
       "      <th>id</th>\n",
       "      <th>call_date</th>\n",
       "      <th>duration</th>\n",
       "      <th>user_id</th>\n",
       "    </tr>\n",
       "  </thead>\n",
       "  <tbody>\n",
       "    <tr>\n",
       "      <td>0</td>\n",
       "      <td>1000_0</td>\n",
       "      <td>2018-07-25</td>\n",
       "      <td>0.00</td>\n",
       "      <td>1000</td>\n",
       "    </tr>\n",
       "    <tr>\n",
       "      <td>1</td>\n",
       "      <td>1000_1</td>\n",
       "      <td>2018-08-17</td>\n",
       "      <td>0.00</td>\n",
       "      <td>1000</td>\n",
       "    </tr>\n",
       "    <tr>\n",
       "      <td>2</td>\n",
       "      <td>1000_2</td>\n",
       "      <td>2018-06-11</td>\n",
       "      <td>2.85</td>\n",
       "      <td>1000</td>\n",
       "    </tr>\n",
       "    <tr>\n",
       "      <td>3</td>\n",
       "      <td>1000_3</td>\n",
       "      <td>2018-09-21</td>\n",
       "      <td>13.80</td>\n",
       "      <td>1000</td>\n",
       "    </tr>\n",
       "    <tr>\n",
       "      <td>4</td>\n",
       "      <td>1000_4</td>\n",
       "      <td>2018-12-15</td>\n",
       "      <td>5.18</td>\n",
       "      <td>1000</td>\n",
       "    </tr>\n",
       "  </tbody>\n",
       "</table>\n",
       "</div>"
      ],
      "text/plain": [
       "       id   call_date  duration  user_id\n",
       "0  1000_0  2018-07-25      0.00     1000\n",
       "1  1000_1  2018-08-17      0.00     1000\n",
       "2  1000_2  2018-06-11      2.85     1000\n",
       "3  1000_3  2018-09-21     13.80     1000\n",
       "4  1000_4  2018-12-15      5.18     1000"
      ]
     },
     "execution_count": 3,
     "metadata": {},
     "output_type": "execute_result"
    }
   ],
   "source": [
    "# проверка данных\n",
    "calls.info()\n",
    "calls.duplicated().sum()\n",
    "calls.head()"
   ]
  },
  {
   "cell_type": "markdown",
   "metadata": {},
   "source": [
    "Call_date нужно перевести в формат datetime, длительность разговора округлить до минут. Дубликатов и пропущенных значений нет\n",
    "\n",
    "Для дальнейшего расчета добавлен столбец с месяцем события"
   ]
  },
  {
   "cell_type": "code",
   "execution_count": 4,
   "metadata": {},
   "outputs": [
    {
     "data": {
      "text/html": [
       "<div>\n",
       "<style scoped>\n",
       "    .dataframe tbody tr th:only-of-type {\n",
       "        vertical-align: middle;\n",
       "    }\n",
       "\n",
       "    .dataframe tbody tr th {\n",
       "        vertical-align: top;\n",
       "    }\n",
       "\n",
       "    .dataframe thead th {\n",
       "        text-align: right;\n",
       "    }\n",
       "</style>\n",
       "<table border=\"1\" class=\"dataframe\">\n",
       "  <thead>\n",
       "    <tr style=\"text-align: right;\">\n",
       "      <th></th>\n",
       "      <th>id</th>\n",
       "      <th>call_date</th>\n",
       "      <th>duration</th>\n",
       "      <th>user_id</th>\n",
       "      <th>month</th>\n",
       "    </tr>\n",
       "  </thead>\n",
       "  <tbody>\n",
       "    <tr>\n",
       "      <td>0</td>\n",
       "      <td>1000_0</td>\n",
       "      <td>2018-07-25</td>\n",
       "      <td>0</td>\n",
       "      <td>1000</td>\n",
       "      <td>7</td>\n",
       "    </tr>\n",
       "    <tr>\n",
       "      <td>1</td>\n",
       "      <td>1000_1</td>\n",
       "      <td>2018-08-17</td>\n",
       "      <td>0</td>\n",
       "      <td>1000</td>\n",
       "      <td>8</td>\n",
       "    </tr>\n",
       "    <tr>\n",
       "      <td>2</td>\n",
       "      <td>1000_2</td>\n",
       "      <td>2018-06-11</td>\n",
       "      <td>3</td>\n",
       "      <td>1000</td>\n",
       "      <td>6</td>\n",
       "    </tr>\n",
       "    <tr>\n",
       "      <td>3</td>\n",
       "      <td>1000_3</td>\n",
       "      <td>2018-09-21</td>\n",
       "      <td>14</td>\n",
       "      <td>1000</td>\n",
       "      <td>9</td>\n",
       "    </tr>\n",
       "    <tr>\n",
       "      <td>4</td>\n",
       "      <td>1000_4</td>\n",
       "      <td>2018-12-15</td>\n",
       "      <td>6</td>\n",
       "      <td>1000</td>\n",
       "      <td>12</td>\n",
       "    </tr>\n",
       "  </tbody>\n",
       "</table>\n",
       "</div>"
      ],
      "text/plain": [
       "       id  call_date  duration  user_id  month\n",
       "0  1000_0 2018-07-25         0     1000      7\n",
       "1  1000_1 2018-08-17         0     1000      8\n",
       "2  1000_2 2018-06-11         3     1000      6\n",
       "3  1000_3 2018-09-21        14     1000      9\n",
       "4  1000_4 2018-12-15         6     1000     12"
      ]
     },
     "execution_count": 4,
     "metadata": {},
     "output_type": "execute_result"
    }
   ],
   "source": [
    "# перевод формата столбца call_date в datetime\n",
    "calls['call_date'] = pd.to_datetime(calls['call_date'], format = '%Y-%m-%d')\n",
    "\n",
    "# округление длительности разговора до минут\n",
    "def ceil_value(value):\n",
    "    return math.ceil(value)\n",
    "calls['duration'] = calls['duration'].apply(ceil_value).astype('int')\n",
    "\n",
    "# столбец с месяцами звонков\n",
    "calls['month'] = pd.DatetimeIndex(calls['call_date']).month\n",
    "\n",
    "calls.head()"
   ]
  },
  {
   "cell_type": "markdown",
   "metadata": {},
   "source": [
    "### Internet"
   ]
  },
  {
   "cell_type": "code",
   "execution_count": 5,
   "metadata": {},
   "outputs": [
    {
     "name": "stdout",
     "output_type": "stream",
     "text": [
      "<class 'pandas.core.frame.DataFrame'>\n",
      "RangeIndex: 149396 entries, 0 to 149395\n",
      "Data columns (total 5 columns):\n",
      "Unnamed: 0      149396 non-null int64\n",
      "id              149396 non-null object\n",
      "mb_used         149396 non-null float64\n",
      "session_date    149396 non-null object\n",
      "user_id         149396 non-null int64\n",
      "dtypes: float64(1), int64(2), object(2)\n",
      "memory usage: 5.7+ MB\n"
     ]
    },
    {
     "data": {
      "text/html": [
       "<div>\n",
       "<style scoped>\n",
       "    .dataframe tbody tr th:only-of-type {\n",
       "        vertical-align: middle;\n",
       "    }\n",
       "\n",
       "    .dataframe tbody tr th {\n",
       "        vertical-align: top;\n",
       "    }\n",
       "\n",
       "    .dataframe thead th {\n",
       "        text-align: right;\n",
       "    }\n",
       "</style>\n",
       "<table border=\"1\" class=\"dataframe\">\n",
       "  <thead>\n",
       "    <tr style=\"text-align: right;\">\n",
       "      <th></th>\n",
       "      <th>Unnamed: 0</th>\n",
       "      <th>id</th>\n",
       "      <th>mb_used</th>\n",
       "      <th>session_date</th>\n",
       "      <th>user_id</th>\n",
       "    </tr>\n",
       "  </thead>\n",
       "  <tbody>\n",
       "    <tr>\n",
       "      <td>0</td>\n",
       "      <td>0</td>\n",
       "      <td>1000_0</td>\n",
       "      <td>112.95</td>\n",
       "      <td>2018-11-25</td>\n",
       "      <td>1000</td>\n",
       "    </tr>\n",
       "    <tr>\n",
       "      <td>1</td>\n",
       "      <td>1</td>\n",
       "      <td>1000_1</td>\n",
       "      <td>1052.81</td>\n",
       "      <td>2018-09-07</td>\n",
       "      <td>1000</td>\n",
       "    </tr>\n",
       "    <tr>\n",
       "      <td>2</td>\n",
       "      <td>2</td>\n",
       "      <td>1000_2</td>\n",
       "      <td>1197.26</td>\n",
       "      <td>2018-06-25</td>\n",
       "      <td>1000</td>\n",
       "    </tr>\n",
       "    <tr>\n",
       "      <td>3</td>\n",
       "      <td>3</td>\n",
       "      <td>1000_3</td>\n",
       "      <td>550.27</td>\n",
       "      <td>2018-08-22</td>\n",
       "      <td>1000</td>\n",
       "    </tr>\n",
       "    <tr>\n",
       "      <td>4</td>\n",
       "      <td>4</td>\n",
       "      <td>1000_4</td>\n",
       "      <td>302.56</td>\n",
       "      <td>2018-09-24</td>\n",
       "      <td>1000</td>\n",
       "    </tr>\n",
       "  </tbody>\n",
       "</table>\n",
       "</div>"
      ],
      "text/plain": [
       "   Unnamed: 0      id  mb_used session_date  user_id\n",
       "0           0  1000_0   112.95   2018-11-25     1000\n",
       "1           1  1000_1  1052.81   2018-09-07     1000\n",
       "2           2  1000_2  1197.26   2018-06-25     1000\n",
       "3           3  1000_3   550.27   2018-08-22     1000\n",
       "4           4  1000_4   302.56   2018-09-24     1000"
      ]
     },
     "execution_count": 5,
     "metadata": {},
     "output_type": "execute_result"
    }
   ],
   "source": [
    "# проверка данных\n",
    "internet.info()\n",
    "internet.duplicated().sum()\n",
    "internet.head()"
   ]
  },
  {
   "cell_type": "markdown",
   "metadata": {},
   "source": [
    "Session_date нужно перевести в формат datetime. Пропущенных значений и дубликатов нет. Для дальнейших расчетов будет добавлен столбец с месяцем события"
   ]
  },
  {
   "cell_type": "code",
   "execution_count": 6,
   "metadata": {},
   "outputs": [],
   "source": [
    "# перевод формата столбца session_date в datetime\n",
    "internet['session_date'] = pd.to_datetime(internet['session_date'], format = '%Y-%m-%d')\n",
    "\n",
    "# столбец с месяцами звонков\n",
    "internet['month'] = pd.DatetimeIndex(internet['session_date']).month"
   ]
  },
  {
   "cell_type": "markdown",
   "metadata": {},
   "source": [
    "### Messages"
   ]
  },
  {
   "cell_type": "code",
   "execution_count": 7,
   "metadata": {
    "scrolled": true
   },
   "outputs": [
    {
     "name": "stdout",
     "output_type": "stream",
     "text": [
      "<class 'pandas.core.frame.DataFrame'>\n",
      "RangeIndex: 123036 entries, 0 to 123035\n",
      "Data columns (total 3 columns):\n",
      "id              123036 non-null object\n",
      "message_date    123036 non-null object\n",
      "user_id         123036 non-null int64\n",
      "dtypes: int64(1), object(2)\n",
      "memory usage: 2.8+ MB\n"
     ]
    },
    {
     "data": {
      "text/html": [
       "<div>\n",
       "<style scoped>\n",
       "    .dataframe tbody tr th:only-of-type {\n",
       "        vertical-align: middle;\n",
       "    }\n",
       "\n",
       "    .dataframe tbody tr th {\n",
       "        vertical-align: top;\n",
       "    }\n",
       "\n",
       "    .dataframe thead th {\n",
       "        text-align: right;\n",
       "    }\n",
       "</style>\n",
       "<table border=\"1\" class=\"dataframe\">\n",
       "  <thead>\n",
       "    <tr style=\"text-align: right;\">\n",
       "      <th></th>\n",
       "      <th>id</th>\n",
       "      <th>message_date</th>\n",
       "      <th>user_id</th>\n",
       "    </tr>\n",
       "  </thead>\n",
       "  <tbody>\n",
       "    <tr>\n",
       "      <td>0</td>\n",
       "      <td>1000_0</td>\n",
       "      <td>2018-06-27</td>\n",
       "      <td>1000</td>\n",
       "    </tr>\n",
       "    <tr>\n",
       "      <td>1</td>\n",
       "      <td>1000_1</td>\n",
       "      <td>2018-10-08</td>\n",
       "      <td>1000</td>\n",
       "    </tr>\n",
       "    <tr>\n",
       "      <td>2</td>\n",
       "      <td>1000_2</td>\n",
       "      <td>2018-08-04</td>\n",
       "      <td>1000</td>\n",
       "    </tr>\n",
       "    <tr>\n",
       "      <td>3</td>\n",
       "      <td>1000_3</td>\n",
       "      <td>2018-06-16</td>\n",
       "      <td>1000</td>\n",
       "    </tr>\n",
       "    <tr>\n",
       "      <td>4</td>\n",
       "      <td>1000_4</td>\n",
       "      <td>2018-12-05</td>\n",
       "      <td>1000</td>\n",
       "    </tr>\n",
       "  </tbody>\n",
       "</table>\n",
       "</div>"
      ],
      "text/plain": [
       "       id message_date  user_id\n",
       "0  1000_0   2018-06-27     1000\n",
       "1  1000_1   2018-10-08     1000\n",
       "2  1000_2   2018-08-04     1000\n",
       "3  1000_3   2018-06-16     1000\n",
       "4  1000_4   2018-12-05     1000"
      ]
     },
     "execution_count": 7,
     "metadata": {},
     "output_type": "execute_result"
    }
   ],
   "source": [
    "# проверка данных\n",
    "messages.info()\n",
    "messages.duplicated().sum()\n",
    "messages.head()"
   ]
  },
  {
   "cell_type": "markdown",
   "metadata": {},
   "source": [
    "message_date нужно перевести в формат datetime. Пропущенных значений и дубликатов нет. Для дальнейших расчетов будет добавлен столбец с месяцем события"
   ]
  },
  {
   "cell_type": "code",
   "execution_count": 8,
   "metadata": {},
   "outputs": [],
   "source": [
    "# перевод формата столбца session_date в datetime\n",
    "messages['message_date'] = pd.to_datetime(messages['message_date'], format = '%Y-%m-%d')\n",
    "\n",
    "# добавление столбца с месяцем отправки сообщения\n",
    "messages['month'] = pd.DatetimeIndex(messages['message_date']).month"
   ]
  },
  {
   "cell_type": "markdown",
   "metadata": {},
   "source": [
    "### tariffs"
   ]
  },
  {
   "cell_type": "code",
   "execution_count": 9,
   "metadata": {},
   "outputs": [
    {
     "name": "stdout",
     "output_type": "stream",
     "text": [
      "<class 'pandas.core.frame.DataFrame'>\n",
      "RangeIndex: 2 entries, 0 to 1\n",
      "Data columns (total 8 columns):\n",
      "messages_included        2 non-null int64\n",
      "mb_per_month_included    2 non-null int64\n",
      "minutes_included         2 non-null int64\n",
      "rub_monthly_fee          2 non-null int64\n",
      "rub_per_gb               2 non-null int64\n",
      "rub_per_message          2 non-null int64\n",
      "rub_per_minute           2 non-null int64\n",
      "tariff_name              2 non-null object\n",
      "dtypes: int64(7), object(1)\n",
      "memory usage: 256.0+ bytes\n"
     ]
    },
    {
     "data": {
      "text/html": [
       "<div>\n",
       "<style scoped>\n",
       "    .dataframe tbody tr th:only-of-type {\n",
       "        vertical-align: middle;\n",
       "    }\n",
       "\n",
       "    .dataframe tbody tr th {\n",
       "        vertical-align: top;\n",
       "    }\n",
       "\n",
       "    .dataframe thead th {\n",
       "        text-align: right;\n",
       "    }\n",
       "</style>\n",
       "<table border=\"1\" class=\"dataframe\">\n",
       "  <thead>\n",
       "    <tr style=\"text-align: right;\">\n",
       "      <th></th>\n",
       "      <th>messages_included</th>\n",
       "      <th>mb_per_month_included</th>\n",
       "      <th>minutes_included</th>\n",
       "      <th>rub_monthly_fee</th>\n",
       "      <th>rub_per_gb</th>\n",
       "      <th>rub_per_message</th>\n",
       "      <th>rub_per_minute</th>\n",
       "      <th>tariff_name</th>\n",
       "    </tr>\n",
       "  </thead>\n",
       "  <tbody>\n",
       "    <tr>\n",
       "      <td>0</td>\n",
       "      <td>50</td>\n",
       "      <td>15360</td>\n",
       "      <td>500</td>\n",
       "      <td>550</td>\n",
       "      <td>200</td>\n",
       "      <td>3</td>\n",
       "      <td>3</td>\n",
       "      <td>smart</td>\n",
       "    </tr>\n",
       "    <tr>\n",
       "      <td>1</td>\n",
       "      <td>1000</td>\n",
       "      <td>30720</td>\n",
       "      <td>3000</td>\n",
       "      <td>1950</td>\n",
       "      <td>150</td>\n",
       "      <td>1</td>\n",
       "      <td>1</td>\n",
       "      <td>ultra</td>\n",
       "    </tr>\n",
       "  </tbody>\n",
       "</table>\n",
       "</div>"
      ],
      "text/plain": [
       "   messages_included  mb_per_month_included  minutes_included  \\\n",
       "0                 50                  15360               500   \n",
       "1               1000                  30720              3000   \n",
       "\n",
       "   rub_monthly_fee  rub_per_gb  rub_per_message  rub_per_minute tariff_name  \n",
       "0              550         200                3               3       smart  \n",
       "1             1950         150                1               1       ultra  "
      ]
     },
     "execution_count": 9,
     "metadata": {},
     "output_type": "execute_result"
    }
   ],
   "source": [
    "# проверка данных\n",
    "tariffs.info()\n",
    "tariffs.duplicated().sum()\n",
    "tariffs.head()"
   ]
  },
  {
   "cell_type": "markdown",
   "metadata": {},
   "source": [
    "Данные в порядке"
   ]
  },
  {
   "cell_type": "markdown",
   "metadata": {},
   "source": [
    " ### users"
   ]
  },
  {
   "cell_type": "code",
   "execution_count": 10,
   "metadata": {},
   "outputs": [
    {
     "name": "stdout",
     "output_type": "stream",
     "text": [
      "<class 'pandas.core.frame.DataFrame'>\n",
      "RangeIndex: 500 entries, 0 to 499\n",
      "Data columns (total 8 columns):\n",
      "user_id       500 non-null int64\n",
      "age           500 non-null int64\n",
      "churn_date    38 non-null object\n",
      "city          500 non-null object\n",
      "first_name    500 non-null object\n",
      "last_name     500 non-null object\n",
      "reg_date      500 non-null object\n",
      "tariff        500 non-null object\n",
      "dtypes: int64(2), object(6)\n",
      "memory usage: 31.4+ KB\n"
     ]
    },
    {
     "data": {
      "text/html": [
       "<div>\n",
       "<style scoped>\n",
       "    .dataframe tbody tr th:only-of-type {\n",
       "        vertical-align: middle;\n",
       "    }\n",
       "\n",
       "    .dataframe tbody tr th {\n",
       "        vertical-align: top;\n",
       "    }\n",
       "\n",
       "    .dataframe thead th {\n",
       "        text-align: right;\n",
       "    }\n",
       "</style>\n",
       "<table border=\"1\" class=\"dataframe\">\n",
       "  <thead>\n",
       "    <tr style=\"text-align: right;\">\n",
       "      <th></th>\n",
       "      <th>user_id</th>\n",
       "      <th>age</th>\n",
       "      <th>churn_date</th>\n",
       "      <th>city</th>\n",
       "      <th>first_name</th>\n",
       "      <th>last_name</th>\n",
       "      <th>reg_date</th>\n",
       "      <th>tariff</th>\n",
       "    </tr>\n",
       "  </thead>\n",
       "  <tbody>\n",
       "    <tr>\n",
       "      <td>0</td>\n",
       "      <td>1000</td>\n",
       "      <td>52</td>\n",
       "      <td>NaN</td>\n",
       "      <td>Краснодар</td>\n",
       "      <td>Рафаил</td>\n",
       "      <td>Верещагин</td>\n",
       "      <td>2018-05-25</td>\n",
       "      <td>ultra</td>\n",
       "    </tr>\n",
       "    <tr>\n",
       "      <td>1</td>\n",
       "      <td>1001</td>\n",
       "      <td>41</td>\n",
       "      <td>NaN</td>\n",
       "      <td>Москва</td>\n",
       "      <td>Иван</td>\n",
       "      <td>Ежов</td>\n",
       "      <td>2018-11-01</td>\n",
       "      <td>smart</td>\n",
       "    </tr>\n",
       "    <tr>\n",
       "      <td>2</td>\n",
       "      <td>1002</td>\n",
       "      <td>59</td>\n",
       "      <td>NaN</td>\n",
       "      <td>Стерлитамак</td>\n",
       "      <td>Евгений</td>\n",
       "      <td>Абрамович</td>\n",
       "      <td>2018-06-17</td>\n",
       "      <td>smart</td>\n",
       "    </tr>\n",
       "    <tr>\n",
       "      <td>3</td>\n",
       "      <td>1003</td>\n",
       "      <td>23</td>\n",
       "      <td>NaN</td>\n",
       "      <td>Москва</td>\n",
       "      <td>Белла</td>\n",
       "      <td>Белякова</td>\n",
       "      <td>2018-08-17</td>\n",
       "      <td>ultra</td>\n",
       "    </tr>\n",
       "    <tr>\n",
       "      <td>4</td>\n",
       "      <td>1004</td>\n",
       "      <td>68</td>\n",
       "      <td>NaN</td>\n",
       "      <td>Новокузнецк</td>\n",
       "      <td>Татьяна</td>\n",
       "      <td>Авдеенко</td>\n",
       "      <td>2018-05-14</td>\n",
       "      <td>ultra</td>\n",
       "    </tr>\n",
       "  </tbody>\n",
       "</table>\n",
       "</div>"
      ],
      "text/plain": [
       "   user_id  age churn_date         city first_name  last_name    reg_date  \\\n",
       "0     1000   52        NaN    Краснодар     Рафаил  Верещагин  2018-05-25   \n",
       "1     1001   41        NaN       Москва       Иван       Ежов  2018-11-01   \n",
       "2     1002   59        NaN  Стерлитамак    Евгений  Абрамович  2018-06-17   \n",
       "3     1003   23        NaN       Москва      Белла   Белякова  2018-08-17   \n",
       "4     1004   68        NaN  Новокузнецк    Татьяна   Авдеенко  2018-05-14   \n",
       "\n",
       "  tariff  \n",
       "0  ultra  \n",
       "1  smart  \n",
       "2  smart  \n",
       "3  ultra  \n",
       "4  ultra  "
      ]
     },
     "execution_count": 10,
     "metadata": {},
     "output_type": "execute_result"
    }
   ],
   "source": [
    "# проверка данных\n",
    "users.info()\n",
    "users.duplicated().sum()\n",
    "users.head()"
   ]
  },
  {
   "cell_type": "markdown",
   "metadata": {},
   "source": [
    "В столбцах churn_date и reg_date данные нужно привести к формату datetime. Для далнейшего расчета тарифы будут закодированы в 0 и 1. В столбце churn_date большинство значений пропущено. Оставим без изменений"
   ]
  },
  {
   "cell_type": "code",
   "execution_count": 11,
   "metadata": {},
   "outputs": [],
   "source": [
    "#перевод данных в столбцах churn_date и reg_date в формат datetime \n",
    "users['reg_date'] = pd.to_datetime(users['reg_date'], format='%Y-%m-%d')\n",
    "users['churn_date'] = pd.to_datetime(users['churn_date'], format='%Y-%m-%d')\n",
    "\n",
    "# добавление индекса тарифного плана\n",
    "def tariff_id(object):\n",
    "    if object == 'smart':\n",
    "        return 0\n",
    "    elif object == 'ultra':\n",
    "        return 1\n",
    "users['tariff_id'] = users['tariff'].apply(tariff_id)"
   ]
  },
  {
   "cell_type": "markdown",
   "metadata": {},
   "source": [
    "<b>Вывод:</b> была выполнена проверка и предобработка данных. Данные в исходных файлах приведены к нужным форматам. Ошибок в данных не обнаружено, много пропущенных значений"
   ]
  },
  {
   "cell_type": "markdown",
   "metadata": {},
   "source": [
    "[К оглавлению](#content)"
   ]
  },
  {
   "cell_type": "markdown",
   "metadata": {},
   "source": [
    "<a id = '2'></a>\n",
    "## Расчет параметров для пользователей"
   ]
  },
  {
   "cell_type": "markdown",
   "metadata": {},
   "source": [
    "Расчет для каждого пользователя: количества сделанных звонков и израсходованных минут разговора по месяцам, количества отправленных сообщений по месяцам, объем израсходованного интернет-трафика по месяцам, помесячная выручка с каждого пользователя."
   ]
  },
  {
   "cell_type": "markdown",
   "metadata": {},
   "source": [
    "<a id = '2-1'></a>\n",
    "### Расчет для каждого пользователя количества сделанных звонков и израсходованных минут разговора по месяцам"
   ]
  },
  {
   "cell_type": "code",
   "execution_count": 12,
   "metadata": {},
   "outputs": [
    {
     "data": {
      "text/html": [
       "<div>\n",
       "<style scoped>\n",
       "    .dataframe tbody tr th:only-of-type {\n",
       "        vertical-align: middle;\n",
       "    }\n",
       "\n",
       "    .dataframe tbody tr th {\n",
       "        vertical-align: top;\n",
       "    }\n",
       "\n",
       "    .dataframe thead th {\n",
       "        text-align: right;\n",
       "    }\n",
       "</style>\n",
       "<table border=\"1\" class=\"dataframe\">\n",
       "  <thead>\n",
       "    <tr style=\"text-align: right;\">\n",
       "      <th>month</th>\n",
       "      <th>user_id</th>\n",
       "      <th>1</th>\n",
       "      <th>2</th>\n",
       "      <th>3</th>\n",
       "      <th>4</th>\n",
       "      <th>5</th>\n",
       "      <th>6</th>\n",
       "      <th>7</th>\n",
       "      <th>8</th>\n",
       "      <th>9</th>\n",
       "      <th>10</th>\n",
       "      <th>11</th>\n",
       "      <th>12</th>\n",
       "    </tr>\n",
       "  </thead>\n",
       "  <tbody>\n",
       "    <tr>\n",
       "      <td>0</td>\n",
       "      <td>1000</td>\n",
       "      <td>NaN</td>\n",
       "      <td>NaN</td>\n",
       "      <td>NaN</td>\n",
       "      <td>NaN</td>\n",
       "      <td>22.0</td>\n",
       "      <td>43.0</td>\n",
       "      <td>47.0</td>\n",
       "      <td>52.0</td>\n",
       "      <td>58.0</td>\n",
       "      <td>57.0</td>\n",
       "      <td>43.0</td>\n",
       "      <td>46.0</td>\n",
       "    </tr>\n",
       "    <tr>\n",
       "      <td>1</td>\n",
       "      <td>1001</td>\n",
       "      <td>NaN</td>\n",
       "      <td>NaN</td>\n",
       "      <td>NaN</td>\n",
       "      <td>NaN</td>\n",
       "      <td>NaN</td>\n",
       "      <td>NaN</td>\n",
       "      <td>NaN</td>\n",
       "      <td>NaN</td>\n",
       "      <td>NaN</td>\n",
       "      <td>NaN</td>\n",
       "      <td>59.0</td>\n",
       "      <td>63.0</td>\n",
       "    </tr>\n",
       "    <tr>\n",
       "      <td>2</td>\n",
       "      <td>1002</td>\n",
       "      <td>NaN</td>\n",
       "      <td>NaN</td>\n",
       "      <td>NaN</td>\n",
       "      <td>NaN</td>\n",
       "      <td>NaN</td>\n",
       "      <td>15.0</td>\n",
       "      <td>26.0</td>\n",
       "      <td>42.0</td>\n",
       "      <td>36.0</td>\n",
       "      <td>33.0</td>\n",
       "      <td>32.0</td>\n",
       "      <td>33.0</td>\n",
       "    </tr>\n",
       "    <tr>\n",
       "      <td>3</td>\n",
       "      <td>1003</td>\n",
       "      <td>NaN</td>\n",
       "      <td>NaN</td>\n",
       "      <td>NaN</td>\n",
       "      <td>NaN</td>\n",
       "      <td>NaN</td>\n",
       "      <td>NaN</td>\n",
       "      <td>NaN</td>\n",
       "      <td>55.0</td>\n",
       "      <td>134.0</td>\n",
       "      <td>108.0</td>\n",
       "      <td>115.0</td>\n",
       "      <td>108.0</td>\n",
       "    </tr>\n",
       "    <tr>\n",
       "      <td>4</td>\n",
       "      <td>1004</td>\n",
       "      <td>NaN</td>\n",
       "      <td>NaN</td>\n",
       "      <td>NaN</td>\n",
       "      <td>NaN</td>\n",
       "      <td>9.0</td>\n",
       "      <td>31.0</td>\n",
       "      <td>22.0</td>\n",
       "      <td>19.0</td>\n",
       "      <td>26.0</td>\n",
       "      <td>29.0</td>\n",
       "      <td>19.0</td>\n",
       "      <td>21.0</td>\n",
       "    </tr>\n",
       "    <tr>\n",
       "      <td>...</td>\n",
       "      <td>...</td>\n",
       "      <td>...</td>\n",
       "      <td>...</td>\n",
       "      <td>...</td>\n",
       "      <td>...</td>\n",
       "      <td>...</td>\n",
       "      <td>...</td>\n",
       "      <td>...</td>\n",
       "      <td>...</td>\n",
       "      <td>...</td>\n",
       "      <td>...</td>\n",
       "      <td>...</td>\n",
       "      <td>...</td>\n",
       "    </tr>\n",
       "    <tr>\n",
       "      <td>487</td>\n",
       "      <td>1495</td>\n",
       "      <td>NaN</td>\n",
       "      <td>NaN</td>\n",
       "      <td>NaN</td>\n",
       "      <td>NaN</td>\n",
       "      <td>NaN</td>\n",
       "      <td>NaN</td>\n",
       "      <td>NaN</td>\n",
       "      <td>17.0</td>\n",
       "      <td>112.0</td>\n",
       "      <td>152.0</td>\n",
       "      <td>129.0</td>\n",
       "      <td>155.0</td>\n",
       "    </tr>\n",
       "    <tr>\n",
       "      <td>488</td>\n",
       "      <td>1496</td>\n",
       "      <td>7.0</td>\n",
       "      <td>77.0</td>\n",
       "      <td>79.0</td>\n",
       "      <td>67.0</td>\n",
       "      <td>63.0</td>\n",
       "      <td>74.0</td>\n",
       "      <td>73.0</td>\n",
       "      <td>88.0</td>\n",
       "      <td>68.0</td>\n",
       "      <td>72.0</td>\n",
       "      <td>80.0</td>\n",
       "      <td>80.0</td>\n",
       "    </tr>\n",
       "    <tr>\n",
       "      <td>489</td>\n",
       "      <td>1497</td>\n",
       "      <td>NaN</td>\n",
       "      <td>NaN</td>\n",
       "      <td>NaN</td>\n",
       "      <td>NaN</td>\n",
       "      <td>NaN</td>\n",
       "      <td>NaN</td>\n",
       "      <td>NaN</td>\n",
       "      <td>NaN</td>\n",
       "      <td>NaN</td>\n",
       "      <td>66.0</td>\n",
       "      <td>64.0</td>\n",
       "      <td>71.0</td>\n",
       "    </tr>\n",
       "    <tr>\n",
       "      <td>490</td>\n",
       "      <td>1498</td>\n",
       "      <td>NaN</td>\n",
       "      <td>NaN</td>\n",
       "      <td>NaN</td>\n",
       "      <td>NaN</td>\n",
       "      <td>NaN</td>\n",
       "      <td>NaN</td>\n",
       "      <td>23.0</td>\n",
       "      <td>57.0</td>\n",
       "      <td>59.0</td>\n",
       "      <td>41.0</td>\n",
       "      <td>NaN</td>\n",
       "      <td>NaN</td>\n",
       "    </tr>\n",
       "    <tr>\n",
       "      <td>491</td>\n",
       "      <td>1499</td>\n",
       "      <td>NaN</td>\n",
       "      <td>NaN</td>\n",
       "      <td>NaN</td>\n",
       "      <td>NaN</td>\n",
       "      <td>NaN</td>\n",
       "      <td>NaN</td>\n",
       "      <td>NaN</td>\n",
       "      <td>NaN</td>\n",
       "      <td>9.0</td>\n",
       "      <td>68.0</td>\n",
       "      <td>74.0</td>\n",
       "      <td>69.0</td>\n",
       "    </tr>\n",
       "  </tbody>\n",
       "</table>\n",
       "<p>492 rows × 13 columns</p>\n",
       "</div>"
      ],
      "text/plain": [
       "month  user_id    1     2     3     4     5     6     7     8      9     10  \\\n",
       "0         1000  NaN   NaN   NaN   NaN  22.0  43.0  47.0  52.0   58.0   57.0   \n",
       "1         1001  NaN   NaN   NaN   NaN   NaN   NaN   NaN   NaN    NaN    NaN   \n",
       "2         1002  NaN   NaN   NaN   NaN   NaN  15.0  26.0  42.0   36.0   33.0   \n",
       "3         1003  NaN   NaN   NaN   NaN   NaN   NaN   NaN  55.0  134.0  108.0   \n",
       "4         1004  NaN   NaN   NaN   NaN   9.0  31.0  22.0  19.0   26.0   29.0   \n",
       "..         ...  ...   ...   ...   ...   ...   ...   ...   ...    ...    ...   \n",
       "487       1495  NaN   NaN   NaN   NaN   NaN   NaN   NaN  17.0  112.0  152.0   \n",
       "488       1496  7.0  77.0  79.0  67.0  63.0  74.0  73.0  88.0   68.0   72.0   \n",
       "489       1497  NaN   NaN   NaN   NaN   NaN   NaN   NaN   NaN    NaN   66.0   \n",
       "490       1498  NaN   NaN   NaN   NaN   NaN   NaN  23.0  57.0   59.0   41.0   \n",
       "491       1499  NaN   NaN   NaN   NaN   NaN   NaN   NaN   NaN    9.0   68.0   \n",
       "\n",
       "month     11     12  \n",
       "0       43.0   46.0  \n",
       "1       59.0   63.0  \n",
       "2       32.0   33.0  \n",
       "3      115.0  108.0  \n",
       "4       19.0   21.0  \n",
       "..       ...    ...  \n",
       "487    129.0  155.0  \n",
       "488     80.0   80.0  \n",
       "489     64.0   71.0  \n",
       "490      NaN    NaN  \n",
       "491     74.0   69.0  \n",
       "\n",
       "[492 rows x 13 columns]"
      ]
     },
     "execution_count": 12,
     "metadata": {},
     "output_type": "execute_result"
    }
   ],
   "source": [
    "# ф-ция cоздания таблицы количества ресурсов по месяцам\n",
    "def amount_by_month(data_in, values_column, func):\n",
    "    data_out = data_in.pivot_table(index = 'user_id', values = values_column, columns = 'month', aggfunc = func)\n",
    "    data_out.reset_index(inplace=True)\n",
    "    return data_out\n",
    "\n",
    "# количество сделанных звонков по месяцам\n",
    "amount_calls_by_month = amount_by_month(calls, 'duration', 'count')\n",
    "amount_calls_by_month"
   ]
  },
  {
   "cell_type": "code",
   "execution_count": 13,
   "metadata": {
    "scrolled": true
   },
   "outputs": [
    {
     "data": {
      "text/html": [
       "<div>\n",
       "<style scoped>\n",
       "    .dataframe tbody tr th:only-of-type {\n",
       "        vertical-align: middle;\n",
       "    }\n",
       "\n",
       "    .dataframe tbody tr th {\n",
       "        vertical-align: top;\n",
       "    }\n",
       "\n",
       "    .dataframe thead th {\n",
       "        text-align: right;\n",
       "    }\n",
       "</style>\n",
       "<table border=\"1\" class=\"dataframe\">\n",
       "  <thead>\n",
       "    <tr style=\"text-align: right;\">\n",
       "      <th>month</th>\n",
       "      <th>user_id</th>\n",
       "      <th>1</th>\n",
       "      <th>2</th>\n",
       "      <th>3</th>\n",
       "      <th>4</th>\n",
       "      <th>5</th>\n",
       "      <th>6</th>\n",
       "      <th>7</th>\n",
       "      <th>8</th>\n",
       "      <th>9</th>\n",
       "      <th>10</th>\n",
       "      <th>11</th>\n",
       "      <th>12</th>\n",
       "    </tr>\n",
       "  </thead>\n",
       "  <tbody>\n",
       "    <tr>\n",
       "      <td>0</td>\n",
       "      <td>1000</td>\n",
       "      <td>NaN</td>\n",
       "      <td>NaN</td>\n",
       "      <td>NaN</td>\n",
       "      <td>NaN</td>\n",
       "      <td>159.0</td>\n",
       "      <td>172.0</td>\n",
       "      <td>340.0</td>\n",
       "      <td>408.0</td>\n",
       "      <td>466.0</td>\n",
       "      <td>350.0</td>\n",
       "      <td>338.0</td>\n",
       "      <td>333.0</td>\n",
       "    </tr>\n",
       "    <tr>\n",
       "      <td>1</td>\n",
       "      <td>1001</td>\n",
       "      <td>NaN</td>\n",
       "      <td>NaN</td>\n",
       "      <td>NaN</td>\n",
       "      <td>NaN</td>\n",
       "      <td>NaN</td>\n",
       "      <td>NaN</td>\n",
       "      <td>NaN</td>\n",
       "      <td>NaN</td>\n",
       "      <td>NaN</td>\n",
       "      <td>NaN</td>\n",
       "      <td>430.0</td>\n",
       "      <td>414.0</td>\n",
       "    </tr>\n",
       "    <tr>\n",
       "      <td>2</td>\n",
       "      <td>1002</td>\n",
       "      <td>NaN</td>\n",
       "      <td>NaN</td>\n",
       "      <td>NaN</td>\n",
       "      <td>NaN</td>\n",
       "      <td>NaN</td>\n",
       "      <td>117.0</td>\n",
       "      <td>214.0</td>\n",
       "      <td>289.0</td>\n",
       "      <td>206.0</td>\n",
       "      <td>212.0</td>\n",
       "      <td>243.0</td>\n",
       "      <td>236.0</td>\n",
       "    </tr>\n",
       "    <tr>\n",
       "      <td>3</td>\n",
       "      <td>1003</td>\n",
       "      <td>NaN</td>\n",
       "      <td>NaN</td>\n",
       "      <td>NaN</td>\n",
       "      <td>NaN</td>\n",
       "      <td>NaN</td>\n",
       "      <td>NaN</td>\n",
       "      <td>NaN</td>\n",
       "      <td>380.0</td>\n",
       "      <td>961.0</td>\n",
       "      <td>855.0</td>\n",
       "      <td>824.0</td>\n",
       "      <td>802.0</td>\n",
       "    </tr>\n",
       "    <tr>\n",
       "      <td>4</td>\n",
       "      <td>1004</td>\n",
       "      <td>NaN</td>\n",
       "      <td>NaN</td>\n",
       "      <td>NaN</td>\n",
       "      <td>NaN</td>\n",
       "      <td>35.0</td>\n",
       "      <td>171.0</td>\n",
       "      <td>135.0</td>\n",
       "      <td>137.0</td>\n",
       "      <td>117.0</td>\n",
       "      <td>145.0</td>\n",
       "      <td>117.0</td>\n",
       "      <td>130.0</td>\n",
       "    </tr>\n",
       "    <tr>\n",
       "      <td>...</td>\n",
       "      <td>...</td>\n",
       "      <td>...</td>\n",
       "      <td>...</td>\n",
       "      <td>...</td>\n",
       "      <td>...</td>\n",
       "      <td>...</td>\n",
       "      <td>...</td>\n",
       "      <td>...</td>\n",
       "      <td>...</td>\n",
       "      <td>...</td>\n",
       "      <td>...</td>\n",
       "      <td>...</td>\n",
       "      <td>...</td>\n",
       "    </tr>\n",
       "    <tr>\n",
       "      <td>487</td>\n",
       "      <td>1495</td>\n",
       "      <td>NaN</td>\n",
       "      <td>NaN</td>\n",
       "      <td>NaN</td>\n",
       "      <td>NaN</td>\n",
       "      <td>NaN</td>\n",
       "      <td>NaN</td>\n",
       "      <td>NaN</td>\n",
       "      <td>92.0</td>\n",
       "      <td>813.0</td>\n",
       "      <td>1030.0</td>\n",
       "      <td>954.0</td>\n",
       "      <td>1031.0</td>\n",
       "    </tr>\n",
       "    <tr>\n",
       "      <td>488</td>\n",
       "      <td>1496</td>\n",
       "      <td>48.0</td>\n",
       "      <td>594.0</td>\n",
       "      <td>557.0</td>\n",
       "      <td>521.0</td>\n",
       "      <td>484.0</td>\n",
       "      <td>555.0</td>\n",
       "      <td>582.0</td>\n",
       "      <td>527.0</td>\n",
       "      <td>486.0</td>\n",
       "      <td>450.0</td>\n",
       "      <td>662.0</td>\n",
       "      <td>518.0</td>\n",
       "    </tr>\n",
       "    <tr>\n",
       "      <td>489</td>\n",
       "      <td>1497</td>\n",
       "      <td>NaN</td>\n",
       "      <td>NaN</td>\n",
       "      <td>NaN</td>\n",
       "      <td>NaN</td>\n",
       "      <td>NaN</td>\n",
       "      <td>NaN</td>\n",
       "      <td>NaN</td>\n",
       "      <td>NaN</td>\n",
       "      <td>NaN</td>\n",
       "      <td>490.0</td>\n",
       "      <td>371.0</td>\n",
       "      <td>545.0</td>\n",
       "    </tr>\n",
       "    <tr>\n",
       "      <td>490</td>\n",
       "      <td>1498</td>\n",
       "      <td>NaN</td>\n",
       "      <td>NaN</td>\n",
       "      <td>NaN</td>\n",
       "      <td>NaN</td>\n",
       "      <td>NaN</td>\n",
       "      <td>NaN</td>\n",
       "      <td>175.0</td>\n",
       "      <td>400.0</td>\n",
       "      <td>471.0</td>\n",
       "      <td>247.0</td>\n",
       "      <td>NaN</td>\n",
       "      <td>NaN</td>\n",
       "    </tr>\n",
       "    <tr>\n",
       "      <td>491</td>\n",
       "      <td>1499</td>\n",
       "      <td>NaN</td>\n",
       "      <td>NaN</td>\n",
       "      <td>NaN</td>\n",
       "      <td>NaN</td>\n",
       "      <td>NaN</td>\n",
       "      <td>NaN</td>\n",
       "      <td>NaN</td>\n",
       "      <td>NaN</td>\n",
       "      <td>70.0</td>\n",
       "      <td>449.0</td>\n",
       "      <td>612.0</td>\n",
       "      <td>492.0</td>\n",
       "    </tr>\n",
       "  </tbody>\n",
       "</table>\n",
       "<p>492 rows × 13 columns</p>\n",
       "</div>"
      ],
      "text/plain": [
       "month  user_id     1      2      3      4      5      6      7      8      9  \\\n",
       "0         1000   NaN    NaN    NaN    NaN  159.0  172.0  340.0  408.0  466.0   \n",
       "1         1001   NaN    NaN    NaN    NaN    NaN    NaN    NaN    NaN    NaN   \n",
       "2         1002   NaN    NaN    NaN    NaN    NaN  117.0  214.0  289.0  206.0   \n",
       "3         1003   NaN    NaN    NaN    NaN    NaN    NaN    NaN  380.0  961.0   \n",
       "4         1004   NaN    NaN    NaN    NaN   35.0  171.0  135.0  137.0  117.0   \n",
       "..         ...   ...    ...    ...    ...    ...    ...    ...    ...    ...   \n",
       "487       1495   NaN    NaN    NaN    NaN    NaN    NaN    NaN   92.0  813.0   \n",
       "488       1496  48.0  594.0  557.0  521.0  484.0  555.0  582.0  527.0  486.0   \n",
       "489       1497   NaN    NaN    NaN    NaN    NaN    NaN    NaN    NaN    NaN   \n",
       "490       1498   NaN    NaN    NaN    NaN    NaN    NaN  175.0  400.0  471.0   \n",
       "491       1499   NaN    NaN    NaN    NaN    NaN    NaN    NaN    NaN   70.0   \n",
       "\n",
       "month      10     11      12  \n",
       "0       350.0  338.0   333.0  \n",
       "1         NaN  430.0   414.0  \n",
       "2       212.0  243.0   236.0  \n",
       "3       855.0  824.0   802.0  \n",
       "4       145.0  117.0   130.0  \n",
       "..        ...    ...     ...  \n",
       "487    1030.0  954.0  1031.0  \n",
       "488     450.0  662.0   518.0  \n",
       "489     490.0  371.0   545.0  \n",
       "490     247.0    NaN     NaN  \n",
       "491     449.0  612.0   492.0  \n",
       "\n",
       "[492 rows x 13 columns]"
      ]
     },
     "execution_count": 13,
     "metadata": {},
     "output_type": "execute_result"
    }
   ],
   "source": [
    "# количество израсходованных минут разговора по месяцам\n",
    "amount_minutes_by_month = amount_by_month(calls, 'duration', 'sum')\n",
    "amount_minutes_by_month"
   ]
  },
  {
   "cell_type": "markdown",
   "metadata": {},
   "source": [
    "[К оглавлению](#content)"
   ]
  },
  {
   "cell_type": "markdown",
   "metadata": {},
   "source": [
    "<a id = '2-2'></a>\n",
    "### Расчет для каждого пользователя количества отправленных сообщений по месяцам"
   ]
  },
  {
   "cell_type": "code",
   "execution_count": 14,
   "metadata": {
    "scrolled": true
   },
   "outputs": [
    {
     "data": {
      "text/html": [
       "<div>\n",
       "<style scoped>\n",
       "    .dataframe tbody tr th:only-of-type {\n",
       "        vertical-align: middle;\n",
       "    }\n",
       "\n",
       "    .dataframe tbody tr th {\n",
       "        vertical-align: top;\n",
       "    }\n",
       "\n",
       "    .dataframe thead th {\n",
       "        text-align: right;\n",
       "    }\n",
       "</style>\n",
       "<table border=\"1\" class=\"dataframe\">\n",
       "  <thead>\n",
       "    <tr style=\"text-align: right;\">\n",
       "      <th>month</th>\n",
       "      <th>user_id</th>\n",
       "      <th>1</th>\n",
       "      <th>2</th>\n",
       "      <th>3</th>\n",
       "      <th>4</th>\n",
       "      <th>5</th>\n",
       "      <th>6</th>\n",
       "      <th>7</th>\n",
       "      <th>8</th>\n",
       "      <th>9</th>\n",
       "      <th>10</th>\n",
       "      <th>11</th>\n",
       "      <th>12</th>\n",
       "    </tr>\n",
       "  </thead>\n",
       "  <tbody>\n",
       "    <tr>\n",
       "      <td>0</td>\n",
       "      <td>1000</td>\n",
       "      <td>NaN</td>\n",
       "      <td>NaN</td>\n",
       "      <td>NaN</td>\n",
       "      <td>NaN</td>\n",
       "      <td>22.0</td>\n",
       "      <td>60.0</td>\n",
       "      <td>75.0</td>\n",
       "      <td>81.0</td>\n",
       "      <td>57.0</td>\n",
       "      <td>73.0</td>\n",
       "      <td>58.0</td>\n",
       "      <td>70.0</td>\n",
       "    </tr>\n",
       "    <tr>\n",
       "      <td>1</td>\n",
       "      <td>1002</td>\n",
       "      <td>NaN</td>\n",
       "      <td>NaN</td>\n",
       "      <td>NaN</td>\n",
       "      <td>NaN</td>\n",
       "      <td>NaN</td>\n",
       "      <td>4.0</td>\n",
       "      <td>11.0</td>\n",
       "      <td>13.0</td>\n",
       "      <td>4.0</td>\n",
       "      <td>10.0</td>\n",
       "      <td>16.0</td>\n",
       "      <td>12.0</td>\n",
       "    </tr>\n",
       "    <tr>\n",
       "      <td>2</td>\n",
       "      <td>1003</td>\n",
       "      <td>NaN</td>\n",
       "      <td>NaN</td>\n",
       "      <td>NaN</td>\n",
       "      <td>NaN</td>\n",
       "      <td>NaN</td>\n",
       "      <td>NaN</td>\n",
       "      <td>NaN</td>\n",
       "      <td>37.0</td>\n",
       "      <td>91.0</td>\n",
       "      <td>83.0</td>\n",
       "      <td>94.0</td>\n",
       "      <td>75.0</td>\n",
       "    </tr>\n",
       "    <tr>\n",
       "      <td>3</td>\n",
       "      <td>1004</td>\n",
       "      <td>NaN</td>\n",
       "      <td>NaN</td>\n",
       "      <td>NaN</td>\n",
       "      <td>NaN</td>\n",
       "      <td>95.0</td>\n",
       "      <td>134.0</td>\n",
       "      <td>181.0</td>\n",
       "      <td>151.0</td>\n",
       "      <td>146.0</td>\n",
       "      <td>165.0</td>\n",
       "      <td>158.0</td>\n",
       "      <td>162.0</td>\n",
       "    </tr>\n",
       "    <tr>\n",
       "      <td>4</td>\n",
       "      <td>1005</td>\n",
       "      <td>7.0</td>\n",
       "      <td>38.0</td>\n",
       "      <td>56.0</td>\n",
       "      <td>41.0</td>\n",
       "      <td>42.0</td>\n",
       "      <td>47.0</td>\n",
       "      <td>56.0</td>\n",
       "      <td>64.0</td>\n",
       "      <td>52.0</td>\n",
       "      <td>44.0</td>\n",
       "      <td>51.0</td>\n",
       "      <td>54.0</td>\n",
       "    </tr>\n",
       "    <tr>\n",
       "      <td>...</td>\n",
       "      <td>...</td>\n",
       "      <td>...</td>\n",
       "      <td>...</td>\n",
       "      <td>...</td>\n",
       "      <td>...</td>\n",
       "      <td>...</td>\n",
       "      <td>...</td>\n",
       "      <td>...</td>\n",
       "      <td>...</td>\n",
       "      <td>...</td>\n",
       "      <td>...</td>\n",
       "      <td>...</td>\n",
       "      <td>...</td>\n",
       "    </tr>\n",
       "    <tr>\n",
       "      <td>421</td>\n",
       "      <td>1495</td>\n",
       "      <td>NaN</td>\n",
       "      <td>NaN</td>\n",
       "      <td>NaN</td>\n",
       "      <td>NaN</td>\n",
       "      <td>NaN</td>\n",
       "      <td>NaN</td>\n",
       "      <td>NaN</td>\n",
       "      <td>13.0</td>\n",
       "      <td>82.0</td>\n",
       "      <td>82.0</td>\n",
       "      <td>79.0</td>\n",
       "      <td>84.0</td>\n",
       "    </tr>\n",
       "    <tr>\n",
       "      <td>422</td>\n",
       "      <td>1496</td>\n",
       "      <td>9.0</td>\n",
       "      <td>45.0</td>\n",
       "      <td>46.0</td>\n",
       "      <td>49.0</td>\n",
       "      <td>40.0</td>\n",
       "      <td>35.0</td>\n",
       "      <td>42.0</td>\n",
       "      <td>41.0</td>\n",
       "      <td>29.0</td>\n",
       "      <td>35.0</td>\n",
       "      <td>46.0</td>\n",
       "      <td>51.0</td>\n",
       "    </tr>\n",
       "    <tr>\n",
       "      <td>423</td>\n",
       "      <td>1497</td>\n",
       "      <td>NaN</td>\n",
       "      <td>NaN</td>\n",
       "      <td>NaN</td>\n",
       "      <td>NaN</td>\n",
       "      <td>NaN</td>\n",
       "      <td>NaN</td>\n",
       "      <td>NaN</td>\n",
       "      <td>NaN</td>\n",
       "      <td>NaN</td>\n",
       "      <td>20.0</td>\n",
       "      <td>14.0</td>\n",
       "      <td>17.0</td>\n",
       "    </tr>\n",
       "    <tr>\n",
       "      <td>424</td>\n",
       "      <td>1498</td>\n",
       "      <td>NaN</td>\n",
       "      <td>NaN</td>\n",
       "      <td>NaN</td>\n",
       "      <td>NaN</td>\n",
       "      <td>NaN</td>\n",
       "      <td>NaN</td>\n",
       "      <td>20.0</td>\n",
       "      <td>62.0</td>\n",
       "      <td>44.0</td>\n",
       "      <td>42.0</td>\n",
       "      <td>NaN</td>\n",
       "      <td>NaN</td>\n",
       "    </tr>\n",
       "    <tr>\n",
       "      <td>425</td>\n",
       "      <td>1499</td>\n",
       "      <td>NaN</td>\n",
       "      <td>NaN</td>\n",
       "      <td>NaN</td>\n",
       "      <td>NaN</td>\n",
       "      <td>NaN</td>\n",
       "      <td>NaN</td>\n",
       "      <td>NaN</td>\n",
       "      <td>NaN</td>\n",
       "      <td>11.0</td>\n",
       "      <td>48.0</td>\n",
       "      <td>59.0</td>\n",
       "      <td>66.0</td>\n",
       "    </tr>\n",
       "  </tbody>\n",
       "</table>\n",
       "<p>426 rows × 13 columns</p>\n",
       "</div>"
      ],
      "text/plain": [
       "month  user_id    1     2     3     4     5      6      7      8      9  \\\n",
       "0         1000  NaN   NaN   NaN   NaN  22.0   60.0   75.0   81.0   57.0   \n",
       "1         1002  NaN   NaN   NaN   NaN   NaN    4.0   11.0   13.0    4.0   \n",
       "2         1003  NaN   NaN   NaN   NaN   NaN    NaN    NaN   37.0   91.0   \n",
       "3         1004  NaN   NaN   NaN   NaN  95.0  134.0  181.0  151.0  146.0   \n",
       "4         1005  7.0  38.0  56.0  41.0  42.0   47.0   56.0   64.0   52.0   \n",
       "..         ...  ...   ...   ...   ...   ...    ...    ...    ...    ...   \n",
       "421       1495  NaN   NaN   NaN   NaN   NaN    NaN    NaN   13.0   82.0   \n",
       "422       1496  9.0  45.0  46.0  49.0  40.0   35.0   42.0   41.0   29.0   \n",
       "423       1497  NaN   NaN   NaN   NaN   NaN    NaN    NaN    NaN    NaN   \n",
       "424       1498  NaN   NaN   NaN   NaN   NaN    NaN   20.0   62.0   44.0   \n",
       "425       1499  NaN   NaN   NaN   NaN   NaN    NaN    NaN    NaN   11.0   \n",
       "\n",
       "month     10     11     12  \n",
       "0       73.0   58.0   70.0  \n",
       "1       10.0   16.0   12.0  \n",
       "2       83.0   94.0   75.0  \n",
       "3      165.0  158.0  162.0  \n",
       "4       44.0   51.0   54.0  \n",
       "..       ...    ...    ...  \n",
       "421     82.0   79.0   84.0  \n",
       "422     35.0   46.0   51.0  \n",
       "423     20.0   14.0   17.0  \n",
       "424     42.0    NaN    NaN  \n",
       "425     48.0   59.0   66.0  \n",
       "\n",
       "[426 rows x 13 columns]"
      ]
     },
     "execution_count": 14,
     "metadata": {},
     "output_type": "execute_result"
    }
   ],
   "source": [
    "# количество отправленных сообщений по месяцам\n",
    "amount_messages_by_month = amount_by_month(messages, 'id', 'count')\n",
    "amount_messages_by_month"
   ]
  },
  {
   "cell_type": "markdown",
   "metadata": {},
   "source": [
    "[К оглавлению](#content)"
   ]
  },
  {
   "cell_type": "markdown",
   "metadata": {},
   "source": [
    "<a id='2-3'></a>\n",
    "### Расчет для каждого пользователя объема израсходованного интернет-трафика по месяцам"
   ]
  },
  {
   "cell_type": "code",
   "execution_count": 15,
   "metadata": {
    "scrolled": true
   },
   "outputs": [
    {
     "data": {
      "text/html": [
       "<div>\n",
       "<style scoped>\n",
       "    .dataframe tbody tr th:only-of-type {\n",
       "        vertical-align: middle;\n",
       "    }\n",
       "\n",
       "    .dataframe tbody tr th {\n",
       "        vertical-align: top;\n",
       "    }\n",
       "\n",
       "    .dataframe thead th {\n",
       "        text-align: right;\n",
       "    }\n",
       "</style>\n",
       "<table border=\"1\" class=\"dataframe\">\n",
       "  <thead>\n",
       "    <tr style=\"text-align: right;\">\n",
       "      <th>month</th>\n",
       "      <th>user_id</th>\n",
       "      <th>1</th>\n",
       "      <th>2</th>\n",
       "      <th>3</th>\n",
       "      <th>4</th>\n",
       "      <th>5</th>\n",
       "      <th>6</th>\n",
       "      <th>7</th>\n",
       "      <th>8</th>\n",
       "      <th>9</th>\n",
       "      <th>10</th>\n",
       "      <th>11</th>\n",
       "      <th>12</th>\n",
       "    </tr>\n",
       "  </thead>\n",
       "  <tbody>\n",
       "    <tr>\n",
       "      <td>0</td>\n",
       "      <td>1000</td>\n",
       "      <td>NaN</td>\n",
       "      <td>NaN</td>\n",
       "      <td>NaN</td>\n",
       "      <td>NaN</td>\n",
       "      <td>2253.49</td>\n",
       "      <td>23233.77</td>\n",
       "      <td>14003.64</td>\n",
       "      <td>14055.93</td>\n",
       "      <td>14568.91</td>\n",
       "      <td>14702.49</td>\n",
       "      <td>14756.47</td>\n",
       "      <td>9817.61</td>\n",
       "    </tr>\n",
       "    <tr>\n",
       "      <td>1</td>\n",
       "      <td>1001</td>\n",
       "      <td>NaN</td>\n",
       "      <td>NaN</td>\n",
       "      <td>NaN</td>\n",
       "      <td>NaN</td>\n",
       "      <td>NaN</td>\n",
       "      <td>NaN</td>\n",
       "      <td>NaN</td>\n",
       "      <td>NaN</td>\n",
       "      <td>NaN</td>\n",
       "      <td>NaN</td>\n",
       "      <td>18429.34</td>\n",
       "      <td>14036.66</td>\n",
       "    </tr>\n",
       "    <tr>\n",
       "      <td>2</td>\n",
       "      <td>1002</td>\n",
       "      <td>NaN</td>\n",
       "      <td>NaN</td>\n",
       "      <td>NaN</td>\n",
       "      <td>NaN</td>\n",
       "      <td>NaN</td>\n",
       "      <td>10856.82</td>\n",
       "      <td>17580.10</td>\n",
       "      <td>20319.26</td>\n",
       "      <td>16691.08</td>\n",
       "      <td>13888.25</td>\n",
       "      <td>18587.28</td>\n",
       "      <td>18113.73</td>\n",
       "    </tr>\n",
       "    <tr>\n",
       "      <td>3</td>\n",
       "      <td>1003</td>\n",
       "      <td>NaN</td>\n",
       "      <td>NaN</td>\n",
       "      <td>NaN</td>\n",
       "      <td>NaN</td>\n",
       "      <td>NaN</td>\n",
       "      <td>NaN</td>\n",
       "      <td>NaN</td>\n",
       "      <td>8565.21</td>\n",
       "      <td>12468.87</td>\n",
       "      <td>14768.14</td>\n",
       "      <td>11356.89</td>\n",
       "      <td>10121.53</td>\n",
       "    </tr>\n",
       "    <tr>\n",
       "      <td>4</td>\n",
       "      <td>1004</td>\n",
       "      <td>NaN</td>\n",
       "      <td>NaN</td>\n",
       "      <td>NaN</td>\n",
       "      <td>NaN</td>\n",
       "      <td>13403.98</td>\n",
       "      <td>17600.02</td>\n",
       "      <td>22229.58</td>\n",
       "      <td>28584.37</td>\n",
       "      <td>15109.03</td>\n",
       "      <td>18475.44</td>\n",
       "      <td>15616.02</td>\n",
       "      <td>18021.04</td>\n",
       "    </tr>\n",
       "    <tr>\n",
       "      <td>...</td>\n",
       "      <td>...</td>\n",
       "      <td>...</td>\n",
       "      <td>...</td>\n",
       "      <td>...</td>\n",
       "      <td>...</td>\n",
       "      <td>...</td>\n",
       "      <td>...</td>\n",
       "      <td>...</td>\n",
       "      <td>...</td>\n",
       "      <td>...</td>\n",
       "      <td>...</td>\n",
       "      <td>...</td>\n",
       "      <td>...</td>\n",
       "    </tr>\n",
       "    <tr>\n",
       "      <td>492</td>\n",
       "      <td>1495</td>\n",
       "      <td>NaN</td>\n",
       "      <td>NaN</td>\n",
       "      <td>NaN</td>\n",
       "      <td>NaN</td>\n",
       "      <td>NaN</td>\n",
       "      <td>NaN</td>\n",
       "      <td>NaN</td>\n",
       "      <td>2614.07</td>\n",
       "      <td>33067.62</td>\n",
       "      <td>29363.00</td>\n",
       "      <td>38939.11</td>\n",
       "      <td>23426.76</td>\n",
       "    </tr>\n",
       "    <tr>\n",
       "      <td>493</td>\n",
       "      <td>1496</td>\n",
       "      <td>3762.73</td>\n",
       "      <td>28489.67</td>\n",
       "      <td>24959.0</td>\n",
       "      <td>21074.67</td>\n",
       "      <td>23709.75</td>\n",
       "      <td>20134.31</td>\n",
       "      <td>24364.76</td>\n",
       "      <td>23530.03</td>\n",
       "      <td>26934.65</td>\n",
       "      <td>28183.17</td>\n",
       "      <td>25063.40</td>\n",
       "      <td>20736.15</td>\n",
       "    </tr>\n",
       "    <tr>\n",
       "      <td>494</td>\n",
       "      <td>1497</td>\n",
       "      <td>NaN</td>\n",
       "      <td>NaN</td>\n",
       "      <td>NaN</td>\n",
       "      <td>NaN</td>\n",
       "      <td>NaN</td>\n",
       "      <td>NaN</td>\n",
       "      <td>NaN</td>\n",
       "      <td>NaN</td>\n",
       "      <td>NaN</td>\n",
       "      <td>11500.29</td>\n",
       "      <td>14156.08</td>\n",
       "      <td>19918.60</td>\n",
       "    </tr>\n",
       "    <tr>\n",
       "      <td>495</td>\n",
       "      <td>1498</td>\n",
       "      <td>NaN</td>\n",
       "      <td>NaN</td>\n",
       "      <td>NaN</td>\n",
       "      <td>NaN</td>\n",
       "      <td>NaN</td>\n",
       "      <td>NaN</td>\n",
       "      <td>7476.24</td>\n",
       "      <td>24235.21</td>\n",
       "      <td>22134.41</td>\n",
       "      <td>20579.36</td>\n",
       "      <td>NaN</td>\n",
       "      <td>NaN</td>\n",
       "    </tr>\n",
       "    <tr>\n",
       "      <td>496</td>\n",
       "      <td>1499</td>\n",
       "      <td>NaN</td>\n",
       "      <td>NaN</td>\n",
       "      <td>NaN</td>\n",
       "      <td>NaN</td>\n",
       "      <td>NaN</td>\n",
       "      <td>NaN</td>\n",
       "      <td>NaN</td>\n",
       "      <td>NaN</td>\n",
       "      <td>1845.75</td>\n",
       "      <td>17788.51</td>\n",
       "      <td>17963.31</td>\n",
       "      <td>13055.58</td>\n",
       "    </tr>\n",
       "  </tbody>\n",
       "</table>\n",
       "<p>497 rows × 13 columns</p>\n",
       "</div>"
      ],
      "text/plain": [
       "month  user_id        1         2        3         4         5         6  \\\n",
       "0         1000      NaN       NaN      NaN       NaN   2253.49  23233.77   \n",
       "1         1001      NaN       NaN      NaN       NaN       NaN       NaN   \n",
       "2         1002      NaN       NaN      NaN       NaN       NaN  10856.82   \n",
       "3         1003      NaN       NaN      NaN       NaN       NaN       NaN   \n",
       "4         1004      NaN       NaN      NaN       NaN  13403.98  17600.02   \n",
       "..         ...      ...       ...      ...       ...       ...       ...   \n",
       "492       1495      NaN       NaN      NaN       NaN       NaN       NaN   \n",
       "493       1496  3762.73  28489.67  24959.0  21074.67  23709.75  20134.31   \n",
       "494       1497      NaN       NaN      NaN       NaN       NaN       NaN   \n",
       "495       1498      NaN       NaN      NaN       NaN       NaN       NaN   \n",
       "496       1499      NaN       NaN      NaN       NaN       NaN       NaN   \n",
       "\n",
       "month         7         8         9        10        11        12  \n",
       "0      14003.64  14055.93  14568.91  14702.49  14756.47   9817.61  \n",
       "1           NaN       NaN       NaN       NaN  18429.34  14036.66  \n",
       "2      17580.10  20319.26  16691.08  13888.25  18587.28  18113.73  \n",
       "3           NaN   8565.21  12468.87  14768.14  11356.89  10121.53  \n",
       "4      22229.58  28584.37  15109.03  18475.44  15616.02  18021.04  \n",
       "..          ...       ...       ...       ...       ...       ...  \n",
       "492         NaN   2614.07  33067.62  29363.00  38939.11  23426.76  \n",
       "493    24364.76  23530.03  26934.65  28183.17  25063.40  20736.15  \n",
       "494         NaN       NaN       NaN  11500.29  14156.08  19918.60  \n",
       "495     7476.24  24235.21  22134.41  20579.36       NaN       NaN  \n",
       "496         NaN       NaN   1845.75  17788.51  17963.31  13055.58  \n",
       "\n",
       "[497 rows x 13 columns]"
      ]
     },
     "execution_count": 15,
     "metadata": {},
     "output_type": "execute_result"
    }
   ],
   "source": [
    "# количество израсходованного траффика по месяцам\n",
    "amount_mb_by_month = amount_by_month(internet, 'mb_used', 'sum')\n",
    "amount_mb_by_month"
   ]
  },
  {
   "cell_type": "markdown",
   "metadata": {},
   "source": [
    "[К оглавлению](#content)"
   ]
  },
  {
   "cell_type": "markdown",
   "metadata": {},
   "source": [
    "<a id='2-4'></a>\n",
    "### Расчет помесячной прибыли с каждого пользователя"
   ]
  },
  {
   "cell_type": "code",
   "execution_count": 16,
   "metadata": {},
   "outputs": [
    {
     "data": {
      "text/html": [
       "<div>\n",
       "<style scoped>\n",
       "    .dataframe tbody tr th:only-of-type {\n",
       "        vertical-align: middle;\n",
       "    }\n",
       "\n",
       "    .dataframe tbody tr th {\n",
       "        vertical-align: top;\n",
       "    }\n",
       "\n",
       "    .dataframe thead th {\n",
       "        text-align: right;\n",
       "    }\n",
       "</style>\n",
       "<table border=\"1\" class=\"dataframe\">\n",
       "  <thead>\n",
       "    <tr style=\"text-align: right;\">\n",
       "      <th></th>\n",
       "      <th>user_id</th>\n",
       "      <th>1</th>\n",
       "      <th>2</th>\n",
       "      <th>3</th>\n",
       "      <th>4</th>\n",
       "      <th>5</th>\n",
       "      <th>6</th>\n",
       "      <th>7</th>\n",
       "      <th>8</th>\n",
       "      <th>9</th>\n",
       "      <th>10</th>\n",
       "      <th>11</th>\n",
       "      <th>12</th>\n",
       "      <th>tariff_id</th>\n",
       "      <th>minutes_included</th>\n",
       "      <th>rub_per_minute</th>\n",
       "    </tr>\n",
       "  </thead>\n",
       "  <tbody>\n",
       "    <tr>\n",
       "      <td>0</td>\n",
       "      <td>1000</td>\n",
       "      <td>NaN</td>\n",
       "      <td>NaN</td>\n",
       "      <td>NaN</td>\n",
       "      <td>NaN</td>\n",
       "      <td>0.0</td>\n",
       "      <td>0.0</td>\n",
       "      <td>0.0</td>\n",
       "      <td>0.0</td>\n",
       "      <td>0.0</td>\n",
       "      <td>0.0</td>\n",
       "      <td>0.0</td>\n",
       "      <td>0.0</td>\n",
       "      <td>1</td>\n",
       "      <td>3000</td>\n",
       "      <td>1</td>\n",
       "    </tr>\n",
       "    <tr>\n",
       "      <td>1</td>\n",
       "      <td>1001</td>\n",
       "      <td>NaN</td>\n",
       "      <td>NaN</td>\n",
       "      <td>NaN</td>\n",
       "      <td>NaN</td>\n",
       "      <td>NaN</td>\n",
       "      <td>NaN</td>\n",
       "      <td>NaN</td>\n",
       "      <td>NaN</td>\n",
       "      <td>NaN</td>\n",
       "      <td>NaN</td>\n",
       "      <td>0.0</td>\n",
       "      <td>0.0</td>\n",
       "      <td>0</td>\n",
       "      <td>500</td>\n",
       "      <td>3</td>\n",
       "    </tr>\n",
       "    <tr>\n",
       "      <td>2</td>\n",
       "      <td>1002</td>\n",
       "      <td>NaN</td>\n",
       "      <td>NaN</td>\n",
       "      <td>NaN</td>\n",
       "      <td>NaN</td>\n",
       "      <td>NaN</td>\n",
       "      <td>0.0</td>\n",
       "      <td>0.0</td>\n",
       "      <td>0.0</td>\n",
       "      <td>0.0</td>\n",
       "      <td>0.0</td>\n",
       "      <td>0.0</td>\n",
       "      <td>0.0</td>\n",
       "      <td>0</td>\n",
       "      <td>500</td>\n",
       "      <td>3</td>\n",
       "    </tr>\n",
       "    <tr>\n",
       "      <td>3</td>\n",
       "      <td>1003</td>\n",
       "      <td>NaN</td>\n",
       "      <td>NaN</td>\n",
       "      <td>NaN</td>\n",
       "      <td>NaN</td>\n",
       "      <td>NaN</td>\n",
       "      <td>NaN</td>\n",
       "      <td>NaN</td>\n",
       "      <td>0.0</td>\n",
       "      <td>0.0</td>\n",
       "      <td>0.0</td>\n",
       "      <td>0.0</td>\n",
       "      <td>0.0</td>\n",
       "      <td>1</td>\n",
       "      <td>3000</td>\n",
       "      <td>1</td>\n",
       "    </tr>\n",
       "    <tr>\n",
       "      <td>4</td>\n",
       "      <td>1004</td>\n",
       "      <td>NaN</td>\n",
       "      <td>NaN</td>\n",
       "      <td>NaN</td>\n",
       "      <td>NaN</td>\n",
       "      <td>0.0</td>\n",
       "      <td>0.0</td>\n",
       "      <td>0.0</td>\n",
       "      <td>0.0</td>\n",
       "      <td>0.0</td>\n",
       "      <td>0.0</td>\n",
       "      <td>0.0</td>\n",
       "      <td>0.0</td>\n",
       "      <td>1</td>\n",
       "      <td>3000</td>\n",
       "      <td>1</td>\n",
       "    </tr>\n",
       "    <tr>\n",
       "      <td>...</td>\n",
       "      <td>...</td>\n",
       "      <td>...</td>\n",
       "      <td>...</td>\n",
       "      <td>...</td>\n",
       "      <td>...</td>\n",
       "      <td>...</td>\n",
       "      <td>...</td>\n",
       "      <td>...</td>\n",
       "      <td>...</td>\n",
       "      <td>...</td>\n",
       "      <td>...</td>\n",
       "      <td>...</td>\n",
       "      <td>...</td>\n",
       "      <td>...</td>\n",
       "      <td>...</td>\n",
       "      <td>...</td>\n",
       "    </tr>\n",
       "    <tr>\n",
       "      <td>495</td>\n",
       "      <td>1231</td>\n",
       "      <td>NaN</td>\n",
       "      <td>NaN</td>\n",
       "      <td>NaN</td>\n",
       "      <td>NaN</td>\n",
       "      <td>NaN</td>\n",
       "      <td>NaN</td>\n",
       "      <td>NaN</td>\n",
       "      <td>NaN</td>\n",
       "      <td>NaN</td>\n",
       "      <td>NaN</td>\n",
       "      <td>NaN</td>\n",
       "      <td>NaN</td>\n",
       "      <td>1</td>\n",
       "      <td>3000</td>\n",
       "      <td>1</td>\n",
       "    </tr>\n",
       "    <tr>\n",
       "      <td>496</td>\n",
       "      <td>1328</td>\n",
       "      <td>NaN</td>\n",
       "      <td>NaN</td>\n",
       "      <td>NaN</td>\n",
       "      <td>NaN</td>\n",
       "      <td>NaN</td>\n",
       "      <td>NaN</td>\n",
       "      <td>NaN</td>\n",
       "      <td>NaN</td>\n",
       "      <td>NaN</td>\n",
       "      <td>NaN</td>\n",
       "      <td>NaN</td>\n",
       "      <td>NaN</td>\n",
       "      <td>1</td>\n",
       "      <td>3000</td>\n",
       "      <td>1</td>\n",
       "    </tr>\n",
       "    <tr>\n",
       "      <td>497</td>\n",
       "      <td>1371</td>\n",
       "      <td>NaN</td>\n",
       "      <td>NaN</td>\n",
       "      <td>NaN</td>\n",
       "      <td>NaN</td>\n",
       "      <td>NaN</td>\n",
       "      <td>NaN</td>\n",
       "      <td>NaN</td>\n",
       "      <td>NaN</td>\n",
       "      <td>NaN</td>\n",
       "      <td>NaN</td>\n",
       "      <td>NaN</td>\n",
       "      <td>NaN</td>\n",
       "      <td>0</td>\n",
       "      <td>500</td>\n",
       "      <td>3</td>\n",
       "    </tr>\n",
       "    <tr>\n",
       "      <td>498</td>\n",
       "      <td>1473</td>\n",
       "      <td>NaN</td>\n",
       "      <td>NaN</td>\n",
       "      <td>NaN</td>\n",
       "      <td>NaN</td>\n",
       "      <td>NaN</td>\n",
       "      <td>NaN</td>\n",
       "      <td>NaN</td>\n",
       "      <td>NaN</td>\n",
       "      <td>NaN</td>\n",
       "      <td>NaN</td>\n",
       "      <td>NaN</td>\n",
       "      <td>NaN</td>\n",
       "      <td>1</td>\n",
       "      <td>3000</td>\n",
       "      <td>1</td>\n",
       "    </tr>\n",
       "    <tr>\n",
       "      <td>499</td>\n",
       "      <td>1489</td>\n",
       "      <td>NaN</td>\n",
       "      <td>NaN</td>\n",
       "      <td>NaN</td>\n",
       "      <td>NaN</td>\n",
       "      <td>NaN</td>\n",
       "      <td>NaN</td>\n",
       "      <td>NaN</td>\n",
       "      <td>NaN</td>\n",
       "      <td>NaN</td>\n",
       "      <td>NaN</td>\n",
       "      <td>NaN</td>\n",
       "      <td>NaN</td>\n",
       "      <td>0</td>\n",
       "      <td>500</td>\n",
       "      <td>3</td>\n",
       "    </tr>\n",
       "  </tbody>\n",
       "</table>\n",
       "<p>500 rows × 16 columns</p>\n",
       "</div>"
      ],
      "text/plain": [
       "     user_id   1   2   3   4    5    6    7    8    9   10   11   12  \\\n",
       "0       1000 NaN NaN NaN NaN  0.0  0.0  0.0  0.0  0.0  0.0  0.0  0.0   \n",
       "1       1001 NaN NaN NaN NaN  NaN  NaN  NaN  NaN  NaN  NaN  0.0  0.0   \n",
       "2       1002 NaN NaN NaN NaN  NaN  0.0  0.0  0.0  0.0  0.0  0.0  0.0   \n",
       "3       1003 NaN NaN NaN NaN  NaN  NaN  NaN  0.0  0.0  0.0  0.0  0.0   \n",
       "4       1004 NaN NaN NaN NaN  0.0  0.0  0.0  0.0  0.0  0.0  0.0  0.0   \n",
       "..       ...  ..  ..  ..  ..  ...  ...  ...  ...  ...  ...  ...  ...   \n",
       "495     1231 NaN NaN NaN NaN  NaN  NaN  NaN  NaN  NaN  NaN  NaN  NaN   \n",
       "496     1328 NaN NaN NaN NaN  NaN  NaN  NaN  NaN  NaN  NaN  NaN  NaN   \n",
       "497     1371 NaN NaN NaN NaN  NaN  NaN  NaN  NaN  NaN  NaN  NaN  NaN   \n",
       "498     1473 NaN NaN NaN NaN  NaN  NaN  NaN  NaN  NaN  NaN  NaN  NaN   \n",
       "499     1489 NaN NaN NaN NaN  NaN  NaN  NaN  NaN  NaN  NaN  NaN  NaN   \n",
       "\n",
       "     tariff_id  minutes_included  rub_per_minute  \n",
       "0            1              3000               1  \n",
       "1            0               500               3  \n",
       "2            0               500               3  \n",
       "3            1              3000               1  \n",
       "4            1              3000               1  \n",
       "..         ...               ...             ...  \n",
       "495          1              3000               1  \n",
       "496          1              3000               1  \n",
       "497          0               500               3  \n",
       "498          1              3000               1  \n",
       "499          0               500               3  \n",
       "\n",
       "[500 rows x 16 columns]"
      ]
     },
     "execution_count": 16,
     "metadata": {},
     "output_type": "execute_result"
    }
   ],
   "source": [
    "# ф-ция добавления идентификатора тарифного плана в таблицу\n",
    "def add_tariff_id(data_in):\n",
    "    data_out = data_in.merge(users[['user_id', 'tariff_id']], on='user_id', how='right') \n",
    "    return data_out\n",
    "\n",
    "# ф-ция расчета превышения лимита\n",
    "def over_limit(row, value_column, limit_column):\n",
    "    result = row[value_column] - row[limit_column]\n",
    "    if result > 0:\n",
    "        return result\n",
    "    elif result <= 0:\n",
    "        return 0\n",
    "    return result\n",
    "def add_over_limit(data, limit_column):\n",
    "    for i in [1, 2, 3, 4, 5, 6, 7, 8, 9, 10, 11, 12]:\n",
    "        data[i] = data.apply(over_limit, axis=1, args = [i, limit_column])\n",
    "    return data\n",
    "\n",
    "# ф-ция добавления необходимых данных о тарифе в зав-ти от тарифного плана\n",
    "def tariffs_info(row, info_column):\n",
    "    result = tariffs[info_column][row['tariff_id']]\n",
    "    return result\n",
    "def add_tariffs_info(data, info_column):\n",
    "    data[info_column] = data.apply(tariffs_info, axis = 1, args = [info_column])\n",
    "    return data\n",
    "\n",
    "# ф-ция расчета прибыли за превышение лимита\n",
    "def profit_user_month(row, value_column, price_column):\n",
    "    result = row[value_column] * row[price_column]\n",
    "    return result\n",
    "def add_profit_user_month(data, price_column):\n",
    "    for i in [1, 2, 3, 4, 5, 6, 7, 8, 9, 10, 11, 12]:\n",
    "        data[i] = data.apply(profit_user_month, axis=1, args = [i, price_column])\n",
    "    return data\n",
    "\n",
    "# расчет стоимости превышения лимита количества минут\n",
    "# копия amount_minutes_by_month для расчета превышения тарифа\n",
    "amount_minutes_by_month_profit = copy.deepcopy(amount_minutes_by_month)\n",
    "\n",
    "# добавление тарифного плана в таблицу и информации о тарифе\n",
    "amount_minutes_by_month_profit = add_tariff_id(amount_minutes_by_month_profit)\n",
    "\n",
    "# добавим в таблицу данные о количестве включенных минут и стоимость одной превышенной минуты\n",
    "add_tariffs_info(amount_minutes_by_month_profit, 'minutes_included')\n",
    "add_tariffs_info(amount_minutes_by_month_profit, 'rub_per_minute')\n",
    "\n",
    "# расчет стоимости превышения лимитов\n",
    "add_over_limit(amount_minutes_by_month_profit, 'minutes_included')\n",
    "add_profit_user_month(amount_minutes_by_month_profit, 'rub_per_minute')\n",
    "\n",
    "columns = ['user_id', '1', '2', '3', '4', '5', '6', '7', '8', '9', '10', '11', '12', 'tariff_id', 'minutes_included', 'rub_per_minute']\n",
    "amount_minutes_by_month_profit.columns = columns\n",
    "\n",
    "amount_minutes_by_month_profit"
   ]
  },
  {
   "cell_type": "markdown",
   "metadata": {},
   "source": [
    "В таблице много пропущенных значений: в этот месяц пользователь не совершал звонки. \n",
    "\n",
    "В таблице много нулевых значений: в этот месяц пользователь не превышал лимит"
   ]
  },
  {
   "cell_type": "code",
   "execution_count": 17,
   "metadata": {
    "scrolled": true
   },
   "outputs": [
    {
     "data": {
      "text/html": [
       "<div>\n",
       "<style scoped>\n",
       "    .dataframe tbody tr th:only-of-type {\n",
       "        vertical-align: middle;\n",
       "    }\n",
       "\n",
       "    .dataframe tbody tr th {\n",
       "        vertical-align: top;\n",
       "    }\n",
       "\n",
       "    .dataframe thead th {\n",
       "        text-align: right;\n",
       "    }\n",
       "</style>\n",
       "<table border=\"1\" class=\"dataframe\">\n",
       "  <thead>\n",
       "    <tr style=\"text-align: right;\">\n",
       "      <th></th>\n",
       "      <th>user_id</th>\n",
       "      <th>1</th>\n",
       "      <th>2</th>\n",
       "      <th>3</th>\n",
       "      <th>4</th>\n",
       "      <th>5</th>\n",
       "      <th>6</th>\n",
       "      <th>7</th>\n",
       "      <th>8</th>\n",
       "      <th>9</th>\n",
       "      <th>10</th>\n",
       "      <th>11</th>\n",
       "      <th>12</th>\n",
       "      <th>tariff_id</th>\n",
       "      <th>messages_included</th>\n",
       "      <th>rub_per_message</th>\n",
       "    </tr>\n",
       "  </thead>\n",
       "  <tbody>\n",
       "    <tr>\n",
       "      <td>0</td>\n",
       "      <td>1000</td>\n",
       "      <td>NaN</td>\n",
       "      <td>NaN</td>\n",
       "      <td>NaN</td>\n",
       "      <td>NaN</td>\n",
       "      <td>0.0</td>\n",
       "      <td>0.0</td>\n",
       "      <td>0.0</td>\n",
       "      <td>0.0</td>\n",
       "      <td>0.0</td>\n",
       "      <td>0.0</td>\n",
       "      <td>0.0</td>\n",
       "      <td>0.0</td>\n",
       "      <td>1</td>\n",
       "      <td>1000</td>\n",
       "      <td>1</td>\n",
       "    </tr>\n",
       "    <tr>\n",
       "      <td>1</td>\n",
       "      <td>1002</td>\n",
       "      <td>NaN</td>\n",
       "      <td>NaN</td>\n",
       "      <td>NaN</td>\n",
       "      <td>NaN</td>\n",
       "      <td>NaN</td>\n",
       "      <td>0.0</td>\n",
       "      <td>0.0</td>\n",
       "      <td>0.0</td>\n",
       "      <td>0.0</td>\n",
       "      <td>0.0</td>\n",
       "      <td>0.0</td>\n",
       "      <td>0.0</td>\n",
       "      <td>0</td>\n",
       "      <td>50</td>\n",
       "      <td>3</td>\n",
       "    </tr>\n",
       "    <tr>\n",
       "      <td>2</td>\n",
       "      <td>1003</td>\n",
       "      <td>NaN</td>\n",
       "      <td>NaN</td>\n",
       "      <td>NaN</td>\n",
       "      <td>NaN</td>\n",
       "      <td>NaN</td>\n",
       "      <td>NaN</td>\n",
       "      <td>NaN</td>\n",
       "      <td>0.0</td>\n",
       "      <td>0.0</td>\n",
       "      <td>0.0</td>\n",
       "      <td>0.0</td>\n",
       "      <td>0.0</td>\n",
       "      <td>1</td>\n",
       "      <td>1000</td>\n",
       "      <td>1</td>\n",
       "    </tr>\n",
       "    <tr>\n",
       "      <td>3</td>\n",
       "      <td>1004</td>\n",
       "      <td>NaN</td>\n",
       "      <td>NaN</td>\n",
       "      <td>NaN</td>\n",
       "      <td>NaN</td>\n",
       "      <td>0.0</td>\n",
       "      <td>0.0</td>\n",
       "      <td>0.0</td>\n",
       "      <td>0.0</td>\n",
       "      <td>0.0</td>\n",
       "      <td>0.0</td>\n",
       "      <td>0.0</td>\n",
       "      <td>0.0</td>\n",
       "      <td>1</td>\n",
       "      <td>1000</td>\n",
       "      <td>1</td>\n",
       "    </tr>\n",
       "    <tr>\n",
       "      <td>4</td>\n",
       "      <td>1005</td>\n",
       "      <td>0.0</td>\n",
       "      <td>0.0</td>\n",
       "      <td>18.0</td>\n",
       "      <td>0.0</td>\n",
       "      <td>0.0</td>\n",
       "      <td>0.0</td>\n",
       "      <td>18.0</td>\n",
       "      <td>42.0</td>\n",
       "      <td>6.0</td>\n",
       "      <td>0.0</td>\n",
       "      <td>3.0</td>\n",
       "      <td>12.0</td>\n",
       "      <td>0</td>\n",
       "      <td>50</td>\n",
       "      <td>3</td>\n",
       "    </tr>\n",
       "    <tr>\n",
       "      <td>...</td>\n",
       "      <td>...</td>\n",
       "      <td>...</td>\n",
       "      <td>...</td>\n",
       "      <td>...</td>\n",
       "      <td>...</td>\n",
       "      <td>...</td>\n",
       "      <td>...</td>\n",
       "      <td>...</td>\n",
       "      <td>...</td>\n",
       "      <td>...</td>\n",
       "      <td>...</td>\n",
       "      <td>...</td>\n",
       "      <td>...</td>\n",
       "      <td>...</td>\n",
       "      <td>...</td>\n",
       "      <td>...</td>\n",
       "    </tr>\n",
       "    <tr>\n",
       "      <td>495</td>\n",
       "      <td>1462</td>\n",
       "      <td>NaN</td>\n",
       "      <td>NaN</td>\n",
       "      <td>NaN</td>\n",
       "      <td>NaN</td>\n",
       "      <td>NaN</td>\n",
       "      <td>NaN</td>\n",
       "      <td>NaN</td>\n",
       "      <td>NaN</td>\n",
       "      <td>NaN</td>\n",
       "      <td>NaN</td>\n",
       "      <td>NaN</td>\n",
       "      <td>NaN</td>\n",
       "      <td>0</td>\n",
       "      <td>50</td>\n",
       "      <td>3</td>\n",
       "    </tr>\n",
       "    <tr>\n",
       "      <td>496</td>\n",
       "      <td>1466</td>\n",
       "      <td>NaN</td>\n",
       "      <td>NaN</td>\n",
       "      <td>NaN</td>\n",
       "      <td>NaN</td>\n",
       "      <td>NaN</td>\n",
       "      <td>NaN</td>\n",
       "      <td>NaN</td>\n",
       "      <td>NaN</td>\n",
       "      <td>NaN</td>\n",
       "      <td>NaN</td>\n",
       "      <td>NaN</td>\n",
       "      <td>NaN</td>\n",
       "      <td>1</td>\n",
       "      <td>1000</td>\n",
       "      <td>1</td>\n",
       "    </tr>\n",
       "    <tr>\n",
       "      <td>497</td>\n",
       "      <td>1469</td>\n",
       "      <td>NaN</td>\n",
       "      <td>NaN</td>\n",
       "      <td>NaN</td>\n",
       "      <td>NaN</td>\n",
       "      <td>NaN</td>\n",
       "      <td>NaN</td>\n",
       "      <td>NaN</td>\n",
       "      <td>NaN</td>\n",
       "      <td>NaN</td>\n",
       "      <td>NaN</td>\n",
       "      <td>NaN</td>\n",
       "      <td>NaN</td>\n",
       "      <td>1</td>\n",
       "      <td>1000</td>\n",
       "      <td>1</td>\n",
       "    </tr>\n",
       "    <tr>\n",
       "      <td>498</td>\n",
       "      <td>1479</td>\n",
       "      <td>NaN</td>\n",
       "      <td>NaN</td>\n",
       "      <td>NaN</td>\n",
       "      <td>NaN</td>\n",
       "      <td>NaN</td>\n",
       "      <td>NaN</td>\n",
       "      <td>NaN</td>\n",
       "      <td>NaN</td>\n",
       "      <td>NaN</td>\n",
       "      <td>NaN</td>\n",
       "      <td>NaN</td>\n",
       "      <td>NaN</td>\n",
       "      <td>0</td>\n",
       "      <td>50</td>\n",
       "      <td>3</td>\n",
       "    </tr>\n",
       "    <tr>\n",
       "      <td>499</td>\n",
       "      <td>1494</td>\n",
       "      <td>NaN</td>\n",
       "      <td>NaN</td>\n",
       "      <td>NaN</td>\n",
       "      <td>NaN</td>\n",
       "      <td>NaN</td>\n",
       "      <td>NaN</td>\n",
       "      <td>NaN</td>\n",
       "      <td>NaN</td>\n",
       "      <td>NaN</td>\n",
       "      <td>NaN</td>\n",
       "      <td>NaN</td>\n",
       "      <td>NaN</td>\n",
       "      <td>0</td>\n",
       "      <td>50</td>\n",
       "      <td>3</td>\n",
       "    </tr>\n",
       "  </tbody>\n",
       "</table>\n",
       "<p>500 rows × 16 columns</p>\n",
       "</div>"
      ],
      "text/plain": [
       "     user_id    1    2     3    4    5    6     7     8    9   10   11    12  \\\n",
       "0       1000  NaN  NaN   NaN  NaN  0.0  0.0   0.0   0.0  0.0  0.0  0.0   0.0   \n",
       "1       1002  NaN  NaN   NaN  NaN  NaN  0.0   0.0   0.0  0.0  0.0  0.0   0.0   \n",
       "2       1003  NaN  NaN   NaN  NaN  NaN  NaN   NaN   0.0  0.0  0.0  0.0   0.0   \n",
       "3       1004  NaN  NaN   NaN  NaN  0.0  0.0   0.0   0.0  0.0  0.0  0.0   0.0   \n",
       "4       1005  0.0  0.0  18.0  0.0  0.0  0.0  18.0  42.0  6.0  0.0  3.0  12.0   \n",
       "..       ...  ...  ...   ...  ...  ...  ...   ...   ...  ...  ...  ...   ...   \n",
       "495     1462  NaN  NaN   NaN  NaN  NaN  NaN   NaN   NaN  NaN  NaN  NaN   NaN   \n",
       "496     1466  NaN  NaN   NaN  NaN  NaN  NaN   NaN   NaN  NaN  NaN  NaN   NaN   \n",
       "497     1469  NaN  NaN   NaN  NaN  NaN  NaN   NaN   NaN  NaN  NaN  NaN   NaN   \n",
       "498     1479  NaN  NaN   NaN  NaN  NaN  NaN   NaN   NaN  NaN  NaN  NaN   NaN   \n",
       "499     1494  NaN  NaN   NaN  NaN  NaN  NaN   NaN   NaN  NaN  NaN  NaN   NaN   \n",
       "\n",
       "     tariff_id  messages_included  rub_per_message  \n",
       "0            1               1000                1  \n",
       "1            0                 50                3  \n",
       "2            1               1000                1  \n",
       "3            1               1000                1  \n",
       "4            0                 50                3  \n",
       "..         ...                ...              ...  \n",
       "495          0                 50                3  \n",
       "496          1               1000                1  \n",
       "497          1               1000                1  \n",
       "498          0                 50                3  \n",
       "499          0                 50                3  \n",
       "\n",
       "[500 rows x 16 columns]"
      ]
     },
     "execution_count": 17,
     "metadata": {},
     "output_type": "execute_result"
    }
   ],
   "source": [
    "# расчет стоимости превышения лимита количества сообщений \n",
    "amount_messages_by_month_profit = copy.deepcopy(amount_messages_by_month)\n",
    "\n",
    "# добавление тарифного плана в таблицу и информации о тарифе\n",
    "amount_messages_by_month_profit = add_tariff_id(amount_messages_by_month_profit)\n",
    "add_tariffs_info(amount_messages_by_month_profit, 'messages_included')\n",
    "add_tariffs_info(amount_messages_by_month_profit, 'rub_per_message')\n",
    "\n",
    "# расчет стоимости превышения лимитов\n",
    "add_over_limit(amount_messages_by_month_profit, 'messages_included')\n",
    "add_profit_user_month(amount_messages_by_month_profit, 'rub_per_message')\n",
    "\n",
    "columns = ['user_id', '1', '2', '3', '4', '5', '6', '7', '8', '9', '10', '11', '12', 'tariff_id', 'messages_included', 'rub_per_message']\n",
    "amount_messages_by_month_profit.columns = columns\n",
    "\n",
    "amount_messages_by_month_profit"
   ]
  },
  {
   "cell_type": "markdown",
   "metadata": {},
   "source": [
    "В таблице много пропущенных значений: в этом месяце пользователь не отправлял сообщения. \n",
    "\n",
    "В таблице много нулевых значений: в этом месяце пользователь не превышал лимит"
   ]
  },
  {
   "cell_type": "code",
   "execution_count": 18,
   "metadata": {
    "scrolled": false
   },
   "outputs": [
    {
     "data": {
      "text/html": [
       "<div>\n",
       "<style scoped>\n",
       "    .dataframe tbody tr th:only-of-type {\n",
       "        vertical-align: middle;\n",
       "    }\n",
       "\n",
       "    .dataframe tbody tr th {\n",
       "        vertical-align: top;\n",
       "    }\n",
       "\n",
       "    .dataframe thead th {\n",
       "        text-align: right;\n",
       "    }\n",
       "</style>\n",
       "<table border=\"1\" class=\"dataframe\">\n",
       "  <thead>\n",
       "    <tr style=\"text-align: right;\">\n",
       "      <th></th>\n",
       "      <th>user_id</th>\n",
       "      <th>1</th>\n",
       "      <th>2</th>\n",
       "      <th>3</th>\n",
       "      <th>4</th>\n",
       "      <th>5</th>\n",
       "      <th>6</th>\n",
       "      <th>7</th>\n",
       "      <th>8</th>\n",
       "      <th>9</th>\n",
       "      <th>10</th>\n",
       "      <th>11</th>\n",
       "      <th>12</th>\n",
       "      <th>tariff_id</th>\n",
       "      <th>mb_per_month_included</th>\n",
       "      <th>rub_per_gb</th>\n",
       "    </tr>\n",
       "  </thead>\n",
       "  <tbody>\n",
       "    <tr>\n",
       "      <td>0</td>\n",
       "      <td>1000.0</td>\n",
       "      <td>0.0</td>\n",
       "      <td>0.0</td>\n",
       "      <td>0.0</td>\n",
       "      <td>0.0</td>\n",
       "      <td>0.0</td>\n",
       "      <td>0.0</td>\n",
       "      <td>0.0</td>\n",
       "      <td>0.0</td>\n",
       "      <td>0.0</td>\n",
       "      <td>0.0</td>\n",
       "      <td>0.0</td>\n",
       "      <td>0.0</td>\n",
       "      <td>1.0</td>\n",
       "      <td>30720.0</td>\n",
       "      <td>150.0</td>\n",
       "    </tr>\n",
       "    <tr>\n",
       "      <td>1</td>\n",
       "      <td>1001.0</td>\n",
       "      <td>0.0</td>\n",
       "      <td>0.0</td>\n",
       "      <td>0.0</td>\n",
       "      <td>0.0</td>\n",
       "      <td>0.0</td>\n",
       "      <td>0.0</td>\n",
       "      <td>0.0</td>\n",
       "      <td>0.0</td>\n",
       "      <td>0.0</td>\n",
       "      <td>0.0</td>\n",
       "      <td>600.0</td>\n",
       "      <td>0.0</td>\n",
       "      <td>0.0</td>\n",
       "      <td>15360.0</td>\n",
       "      <td>200.0</td>\n",
       "    </tr>\n",
       "    <tr>\n",
       "      <td>2</td>\n",
       "      <td>1002.0</td>\n",
       "      <td>0.0</td>\n",
       "      <td>0.0</td>\n",
       "      <td>0.0</td>\n",
       "      <td>0.0</td>\n",
       "      <td>0.0</td>\n",
       "      <td>0.0</td>\n",
       "      <td>600.0</td>\n",
       "      <td>1000.0</td>\n",
       "      <td>400.0</td>\n",
       "      <td>0.0</td>\n",
       "      <td>800.0</td>\n",
       "      <td>600.0</td>\n",
       "      <td>0.0</td>\n",
       "      <td>15360.0</td>\n",
       "      <td>200.0</td>\n",
       "    </tr>\n",
       "    <tr>\n",
       "      <td>3</td>\n",
       "      <td>1003.0</td>\n",
       "      <td>0.0</td>\n",
       "      <td>0.0</td>\n",
       "      <td>0.0</td>\n",
       "      <td>0.0</td>\n",
       "      <td>0.0</td>\n",
       "      <td>0.0</td>\n",
       "      <td>0.0</td>\n",
       "      <td>0.0</td>\n",
       "      <td>0.0</td>\n",
       "      <td>0.0</td>\n",
       "      <td>0.0</td>\n",
       "      <td>0.0</td>\n",
       "      <td>1.0</td>\n",
       "      <td>30720.0</td>\n",
       "      <td>150.0</td>\n",
       "    </tr>\n",
       "    <tr>\n",
       "      <td>4</td>\n",
       "      <td>1004.0</td>\n",
       "      <td>0.0</td>\n",
       "      <td>0.0</td>\n",
       "      <td>0.0</td>\n",
       "      <td>0.0</td>\n",
       "      <td>0.0</td>\n",
       "      <td>0.0</td>\n",
       "      <td>0.0</td>\n",
       "      <td>0.0</td>\n",
       "      <td>0.0</td>\n",
       "      <td>0.0</td>\n",
       "      <td>0.0</td>\n",
       "      <td>0.0</td>\n",
       "      <td>1.0</td>\n",
       "      <td>30720.0</td>\n",
       "      <td>150.0</td>\n",
       "    </tr>\n",
       "    <tr>\n",
       "      <td>...</td>\n",
       "      <td>...</td>\n",
       "      <td>...</td>\n",
       "      <td>...</td>\n",
       "      <td>...</td>\n",
       "      <td>...</td>\n",
       "      <td>...</td>\n",
       "      <td>...</td>\n",
       "      <td>...</td>\n",
       "      <td>...</td>\n",
       "      <td>...</td>\n",
       "      <td>...</td>\n",
       "      <td>...</td>\n",
       "      <td>...</td>\n",
       "      <td>...</td>\n",
       "      <td>...</td>\n",
       "      <td>...</td>\n",
       "    </tr>\n",
       "    <tr>\n",
       "      <td>495</td>\n",
       "      <td>1498.0</td>\n",
       "      <td>0.0</td>\n",
       "      <td>0.0</td>\n",
       "      <td>0.0</td>\n",
       "      <td>0.0</td>\n",
       "      <td>0.0</td>\n",
       "      <td>0.0</td>\n",
       "      <td>0.0</td>\n",
       "      <td>1800.0</td>\n",
       "      <td>1400.0</td>\n",
       "      <td>1200.0</td>\n",
       "      <td>0.0</td>\n",
       "      <td>0.0</td>\n",
       "      <td>0.0</td>\n",
       "      <td>15360.0</td>\n",
       "      <td>200.0</td>\n",
       "    </tr>\n",
       "    <tr>\n",
       "      <td>496</td>\n",
       "      <td>1499.0</td>\n",
       "      <td>0.0</td>\n",
       "      <td>0.0</td>\n",
       "      <td>0.0</td>\n",
       "      <td>0.0</td>\n",
       "      <td>0.0</td>\n",
       "      <td>0.0</td>\n",
       "      <td>0.0</td>\n",
       "      <td>0.0</td>\n",
       "      <td>0.0</td>\n",
       "      <td>600.0</td>\n",
       "      <td>600.0</td>\n",
       "      <td>0.0</td>\n",
       "      <td>0.0</td>\n",
       "      <td>15360.0</td>\n",
       "      <td>200.0</td>\n",
       "    </tr>\n",
       "    <tr>\n",
       "      <td>497</td>\n",
       "      <td>1128.0</td>\n",
       "      <td>0.0</td>\n",
       "      <td>0.0</td>\n",
       "      <td>0.0</td>\n",
       "      <td>0.0</td>\n",
       "      <td>0.0</td>\n",
       "      <td>0.0</td>\n",
       "      <td>0.0</td>\n",
       "      <td>0.0</td>\n",
       "      <td>0.0</td>\n",
       "      <td>0.0</td>\n",
       "      <td>0.0</td>\n",
       "      <td>0.0</td>\n",
       "      <td>1.0</td>\n",
       "      <td>30720.0</td>\n",
       "      <td>150.0</td>\n",
       "    </tr>\n",
       "    <tr>\n",
       "      <td>498</td>\n",
       "      <td>1273.0</td>\n",
       "      <td>0.0</td>\n",
       "      <td>0.0</td>\n",
       "      <td>0.0</td>\n",
       "      <td>0.0</td>\n",
       "      <td>0.0</td>\n",
       "      <td>0.0</td>\n",
       "      <td>0.0</td>\n",
       "      <td>0.0</td>\n",
       "      <td>0.0</td>\n",
       "      <td>0.0</td>\n",
       "      <td>0.0</td>\n",
       "      <td>0.0</td>\n",
       "      <td>1.0</td>\n",
       "      <td>30720.0</td>\n",
       "      <td>150.0</td>\n",
       "    </tr>\n",
       "    <tr>\n",
       "      <td>499</td>\n",
       "      <td>1371.0</td>\n",
       "      <td>0.0</td>\n",
       "      <td>0.0</td>\n",
       "      <td>0.0</td>\n",
       "      <td>0.0</td>\n",
       "      <td>0.0</td>\n",
       "      <td>0.0</td>\n",
       "      <td>0.0</td>\n",
       "      <td>0.0</td>\n",
       "      <td>0.0</td>\n",
       "      <td>0.0</td>\n",
       "      <td>0.0</td>\n",
       "      <td>0.0</td>\n",
       "      <td>0.0</td>\n",
       "      <td>15360.0</td>\n",
       "      <td>200.0</td>\n",
       "    </tr>\n",
       "  </tbody>\n",
       "</table>\n",
       "<p>500 rows × 16 columns</p>\n",
       "</div>"
      ],
      "text/plain": [
       "     user_id    1    2    3    4    5    6      7       8       9      10  \\\n",
       "0     1000.0  0.0  0.0  0.0  0.0  0.0  0.0    0.0     0.0     0.0     0.0   \n",
       "1     1001.0  0.0  0.0  0.0  0.0  0.0  0.0    0.0     0.0     0.0     0.0   \n",
       "2     1002.0  0.0  0.0  0.0  0.0  0.0  0.0  600.0  1000.0   400.0     0.0   \n",
       "3     1003.0  0.0  0.0  0.0  0.0  0.0  0.0    0.0     0.0     0.0     0.0   \n",
       "4     1004.0  0.0  0.0  0.0  0.0  0.0  0.0    0.0     0.0     0.0     0.0   \n",
       "..       ...  ...  ...  ...  ...  ...  ...    ...     ...     ...     ...   \n",
       "495   1498.0  0.0  0.0  0.0  0.0  0.0  0.0    0.0  1800.0  1400.0  1200.0   \n",
       "496   1499.0  0.0  0.0  0.0  0.0  0.0  0.0    0.0     0.0     0.0   600.0   \n",
       "497   1128.0  0.0  0.0  0.0  0.0  0.0  0.0    0.0     0.0     0.0     0.0   \n",
       "498   1273.0  0.0  0.0  0.0  0.0  0.0  0.0    0.0     0.0     0.0     0.0   \n",
       "499   1371.0  0.0  0.0  0.0  0.0  0.0  0.0    0.0     0.0     0.0     0.0   \n",
       "\n",
       "        11     12  tariff_id  mb_per_month_included  rub_per_gb  \n",
       "0      0.0    0.0        1.0                30720.0       150.0  \n",
       "1    600.0    0.0        0.0                15360.0       200.0  \n",
       "2    800.0  600.0        0.0                15360.0       200.0  \n",
       "3      0.0    0.0        1.0                30720.0       150.0  \n",
       "4      0.0    0.0        1.0                30720.0       150.0  \n",
       "..     ...    ...        ...                    ...         ...  \n",
       "495    0.0    0.0        0.0                15360.0       200.0  \n",
       "496  600.0    0.0        0.0                15360.0       200.0  \n",
       "497    0.0    0.0        1.0                30720.0       150.0  \n",
       "498    0.0    0.0        1.0                30720.0       150.0  \n",
       "499    0.0    0.0        0.0                15360.0       200.0  \n",
       "\n",
       "[500 rows x 16 columns]"
      ]
     },
     "execution_count": 18,
     "metadata": {},
     "output_type": "execute_result"
    }
   ],
   "source": [
    "# расчет стоимости превышения лимита количества сообщений \n",
    "amount_mb_by_month_profit = copy.deepcopy(amount_mb_by_month)\n",
    "\n",
    "# добавление тарифного плана в таблицу и информации о тарифе\n",
    "amount_mb_by_month_profit = add_tariff_id(amount_mb_by_month_profit)\n",
    "add_tariffs_info(amount_mb_by_month_profit, 'mb_per_month_included')\n",
    "add_tariffs_info(amount_mb_by_month_profit, 'rub_per_gb')\n",
    "\n",
    "# расчет стоимости превышения лимитов\n",
    "# расчет превышения в мб\n",
    "add_over_limit(amount_mb_by_month_profit, 'mb_per_month_included')\n",
    "\n",
    "# округление мб до гб\n",
    "def mb_used_value(row):\n",
    "    for i in [1, 2, 3, 4, 5, 6, 7, 8, 9, 10, 11, 12]:\n",
    "        row[i] = math.ceil(row[i] / 1024)\n",
    "    return row\n",
    "\n",
    "# округление мб до гб\n",
    "amount_mb_by_month_profit = amount_mb_by_month_profit.fillna(0)\n",
    "amount_mb_by_month_profit = amount_mb_by_month_profit.apply(mb_used_value, axis=1) \n",
    "# расчет стоимости в гб\n",
    "add_profit_user_month(amount_mb_by_month_profit, 'rub_per_gb')\n",
    "\n",
    "columns = ['user_id', '1', '2', '3', '4', '5', '6', '7', '8', '9', '10', '11', '12', 'tariff_id', 'mb_per_month_included', 'rub_per_gb']\n",
    "amount_mb_by_month_profit.columns = columns\n",
    "\n",
    "amount_mb_by_month_profit"
   ]
  },
  {
   "cell_type": "markdown",
   "metadata": {},
   "source": [
    "В таблице много пропущенных значений: в этом месяце пользователь не пользовался интернетом.\n",
    "\n",
    "В таблице много нулевых значений: в этом месяце пользователь не превышал лимит"
   ]
  },
  {
   "cell_type": "code",
   "execution_count": 19,
   "metadata": {
    "scrolled": true
   },
   "outputs": [
    {
     "data": {
      "text/html": [
       "<div>\n",
       "<style scoped>\n",
       "    .dataframe tbody tr th:only-of-type {\n",
       "        vertical-align: middle;\n",
       "    }\n",
       "\n",
       "    .dataframe tbody tr th {\n",
       "        vertical-align: top;\n",
       "    }\n",
       "\n",
       "    .dataframe thead th {\n",
       "        text-align: right;\n",
       "    }\n",
       "</style>\n",
       "<table border=\"1\" class=\"dataframe\">\n",
       "  <thead>\n",
       "    <tr style=\"text-align: right;\">\n",
       "      <th></th>\n",
       "      <th>user_id</th>\n",
       "      <th>1</th>\n",
       "      <th>2</th>\n",
       "      <th>3</th>\n",
       "      <th>4</th>\n",
       "      <th>5</th>\n",
       "      <th>6</th>\n",
       "      <th>7</th>\n",
       "      <th>8</th>\n",
       "      <th>9</th>\n",
       "      <th>10</th>\n",
       "      <th>11</th>\n",
       "      <th>12</th>\n",
       "      <th>tariff_id</th>\n",
       "      <th>rub_monthly_fee</th>\n",
       "    </tr>\n",
       "  </thead>\n",
       "  <tbody>\n",
       "    <tr>\n",
       "      <td>0</td>\n",
       "      <td>1000.0</td>\n",
       "      <td>NaN</td>\n",
       "      <td>NaN</td>\n",
       "      <td>NaN</td>\n",
       "      <td>NaN</td>\n",
       "      <td>1950.0</td>\n",
       "      <td>1950.0</td>\n",
       "      <td>1950.0</td>\n",
       "      <td>1950.0</td>\n",
       "      <td>1950.0</td>\n",
       "      <td>1950.0</td>\n",
       "      <td>1950.0</td>\n",
       "      <td>1950.0</td>\n",
       "      <td>1.0</td>\n",
       "      <td>1950</td>\n",
       "    </tr>\n",
       "    <tr>\n",
       "      <td>1</td>\n",
       "      <td>1001.0</td>\n",
       "      <td>NaN</td>\n",
       "      <td>NaN</td>\n",
       "      <td>NaN</td>\n",
       "      <td>NaN</td>\n",
       "      <td>NaN</td>\n",
       "      <td>NaN</td>\n",
       "      <td>NaN</td>\n",
       "      <td>NaN</td>\n",
       "      <td>NaN</td>\n",
       "      <td>NaN</td>\n",
       "      <td>NaN</td>\n",
       "      <td>NaN</td>\n",
       "      <td>0.0</td>\n",
       "      <td>550</td>\n",
       "    </tr>\n",
       "    <tr>\n",
       "      <td>2</td>\n",
       "      <td>1002.0</td>\n",
       "      <td>NaN</td>\n",
       "      <td>NaN</td>\n",
       "      <td>NaN</td>\n",
       "      <td>NaN</td>\n",
       "      <td>NaN</td>\n",
       "      <td>550.0</td>\n",
       "      <td>1750.0</td>\n",
       "      <td>2550.0</td>\n",
       "      <td>1350.0</td>\n",
       "      <td>550.0</td>\n",
       "      <td>2150.0</td>\n",
       "      <td>1750.0</td>\n",
       "      <td>0.0</td>\n",
       "      <td>550</td>\n",
       "    </tr>\n",
       "    <tr>\n",
       "      <td>3</td>\n",
       "      <td>1003.0</td>\n",
       "      <td>NaN</td>\n",
       "      <td>NaN</td>\n",
       "      <td>NaN</td>\n",
       "      <td>NaN</td>\n",
       "      <td>NaN</td>\n",
       "      <td>NaN</td>\n",
       "      <td>NaN</td>\n",
       "      <td>1950.0</td>\n",
       "      <td>1950.0</td>\n",
       "      <td>1950.0</td>\n",
       "      <td>1950.0</td>\n",
       "      <td>1950.0</td>\n",
       "      <td>1.0</td>\n",
       "      <td>1950</td>\n",
       "    </tr>\n",
       "    <tr>\n",
       "      <td>4</td>\n",
       "      <td>1004.0</td>\n",
       "      <td>NaN</td>\n",
       "      <td>NaN</td>\n",
       "      <td>NaN</td>\n",
       "      <td>NaN</td>\n",
       "      <td>1950.0</td>\n",
       "      <td>1950.0</td>\n",
       "      <td>1950.0</td>\n",
       "      <td>1950.0</td>\n",
       "      <td>1950.0</td>\n",
       "      <td>1950.0</td>\n",
       "      <td>1950.0</td>\n",
       "      <td>1950.0</td>\n",
       "      <td>1.0</td>\n",
       "      <td>1950</td>\n",
       "    </tr>\n",
       "    <tr>\n",
       "      <td>...</td>\n",
       "      <td>...</td>\n",
       "      <td>...</td>\n",
       "      <td>...</td>\n",
       "      <td>...</td>\n",
       "      <td>...</td>\n",
       "      <td>...</td>\n",
       "      <td>...</td>\n",
       "      <td>...</td>\n",
       "      <td>...</td>\n",
       "      <td>...</td>\n",
       "      <td>...</td>\n",
       "      <td>...</td>\n",
       "      <td>...</td>\n",
       "      <td>...</td>\n",
       "      <td>...</td>\n",
       "    </tr>\n",
       "    <tr>\n",
       "      <td>495</td>\n",
       "      <td>1498.0</td>\n",
       "      <td>NaN</td>\n",
       "      <td>NaN</td>\n",
       "      <td>NaN</td>\n",
       "      <td>NaN</td>\n",
       "      <td>NaN</td>\n",
       "      <td>NaN</td>\n",
       "      <td>550.0</td>\n",
       "      <td>4186.0</td>\n",
       "      <td>3350.0</td>\n",
       "      <td>2950.0</td>\n",
       "      <td>NaN</td>\n",
       "      <td>NaN</td>\n",
       "      <td>0.0</td>\n",
       "      <td>550</td>\n",
       "    </tr>\n",
       "    <tr>\n",
       "      <td>496</td>\n",
       "      <td>1499.0</td>\n",
       "      <td>NaN</td>\n",
       "      <td>NaN</td>\n",
       "      <td>NaN</td>\n",
       "      <td>NaN</td>\n",
       "      <td>NaN</td>\n",
       "      <td>NaN</td>\n",
       "      <td>NaN</td>\n",
       "      <td>NaN</td>\n",
       "      <td>550.0</td>\n",
       "      <td>1750.0</td>\n",
       "      <td>1777.0</td>\n",
       "      <td>598.0</td>\n",
       "      <td>0.0</td>\n",
       "      <td>550</td>\n",
       "    </tr>\n",
       "    <tr>\n",
       "      <td>497</td>\n",
       "      <td>1128.0</td>\n",
       "      <td>NaN</td>\n",
       "      <td>NaN</td>\n",
       "      <td>NaN</td>\n",
       "      <td>NaN</td>\n",
       "      <td>NaN</td>\n",
       "      <td>NaN</td>\n",
       "      <td>NaN</td>\n",
       "      <td>NaN</td>\n",
       "      <td>NaN</td>\n",
       "      <td>NaN</td>\n",
       "      <td>NaN</td>\n",
       "      <td>NaN</td>\n",
       "      <td>1.0</td>\n",
       "      <td>1950</td>\n",
       "    </tr>\n",
       "    <tr>\n",
       "      <td>498</td>\n",
       "      <td>1273.0</td>\n",
       "      <td>NaN</td>\n",
       "      <td>NaN</td>\n",
       "      <td>NaN</td>\n",
       "      <td>NaN</td>\n",
       "      <td>1950.0</td>\n",
       "      <td>1950.0</td>\n",
       "      <td>1950.0</td>\n",
       "      <td>1950.0</td>\n",
       "      <td>1950.0</td>\n",
       "      <td>1950.0</td>\n",
       "      <td>1950.0</td>\n",
       "      <td>1950.0</td>\n",
       "      <td>1.0</td>\n",
       "      <td>1950</td>\n",
       "    </tr>\n",
       "    <tr>\n",
       "      <td>499</td>\n",
       "      <td>1371.0</td>\n",
       "      <td>NaN</td>\n",
       "      <td>NaN</td>\n",
       "      <td>NaN</td>\n",
       "      <td>NaN</td>\n",
       "      <td>NaN</td>\n",
       "      <td>NaN</td>\n",
       "      <td>NaN</td>\n",
       "      <td>NaN</td>\n",
       "      <td>NaN</td>\n",
       "      <td>NaN</td>\n",
       "      <td>NaN</td>\n",
       "      <td>NaN</td>\n",
       "      <td>0.0</td>\n",
       "      <td>550</td>\n",
       "    </tr>\n",
       "  </tbody>\n",
       "</table>\n",
       "<p>500 rows × 15 columns</p>\n",
       "</div>"
      ],
      "text/plain": [
       "     user_id   1   2   3   4       5       6       7       8       9      10  \\\n",
       "0     1000.0 NaN NaN NaN NaN  1950.0  1950.0  1950.0  1950.0  1950.0  1950.0   \n",
       "1     1001.0 NaN NaN NaN NaN     NaN     NaN     NaN     NaN     NaN     NaN   \n",
       "2     1002.0 NaN NaN NaN NaN     NaN   550.0  1750.0  2550.0  1350.0   550.0   \n",
       "3     1003.0 NaN NaN NaN NaN     NaN     NaN     NaN  1950.0  1950.0  1950.0   \n",
       "4     1004.0 NaN NaN NaN NaN  1950.0  1950.0  1950.0  1950.0  1950.0  1950.0   \n",
       "..       ...  ..  ..  ..  ..     ...     ...     ...     ...     ...     ...   \n",
       "495   1498.0 NaN NaN NaN NaN     NaN     NaN   550.0  4186.0  3350.0  2950.0   \n",
       "496   1499.0 NaN NaN NaN NaN     NaN     NaN     NaN     NaN   550.0  1750.0   \n",
       "497   1128.0 NaN NaN NaN NaN     NaN     NaN     NaN     NaN     NaN     NaN   \n",
       "498   1273.0 NaN NaN NaN NaN  1950.0  1950.0  1950.0  1950.0  1950.0  1950.0   \n",
       "499   1371.0 NaN NaN NaN NaN     NaN     NaN     NaN     NaN     NaN     NaN   \n",
       "\n",
       "         11      12  tariff_id  rub_monthly_fee  \n",
       "0    1950.0  1950.0        1.0             1950  \n",
       "1       NaN     NaN        0.0              550  \n",
       "2    2150.0  1750.0        0.0              550  \n",
       "3    1950.0  1950.0        1.0             1950  \n",
       "4    1950.0  1950.0        1.0             1950  \n",
       "..      ...     ...        ...              ...  \n",
       "495     NaN     NaN        0.0              550  \n",
       "496  1777.0   598.0        0.0              550  \n",
       "497     NaN     NaN        1.0             1950  \n",
       "498  1950.0  1950.0        1.0             1950  \n",
       "499     NaN     NaN        0.0              550  \n",
       "\n",
       "[500 rows x 15 columns]"
      ]
     },
     "execution_count": 19,
     "metadata": {},
     "output_type": "execute_result"
    }
   ],
   "source": [
    "# Расчет суммарной прибыли с каждого пользователя по месяцам\n",
    "\n",
    "# расчет стоимости превышения за месяц\n",
    "def profit_by_user_by_month(table1, table2, column):\n",
    "    result = table1.merge(table2, on=column, suffixes=('_1', '_2'))\n",
    "    for i in range(1, 13):\n",
    "        result[str(i)] = result[str(i) + '_1'] + result[str(i) + '_2']\n",
    "    return result.loc[:, ['user_id', '1','2', '3', '4', '5', '6', '7', '8', '9', '10','11', '12', 'tariff_id_1']]\n",
    "\n",
    "#сложим таблицы превышений по минутам, сообщениям и интернет\n",
    "profit_by_user = profit_by_user_by_month(amount_mb_by_month_profit, amount_messages_by_month_profit, 'user_id')\n",
    "profit_by_user = profit_by_user_by_month(profit_by_user, amount_mb_by_month_profit, 'user_id')\n",
    "\n",
    "# прибавим тарифный план\n",
    "profit_by_user = profit_by_user.rename(columns={'tariff_id_1': 'tariff_id'})\n",
    "add_tariffs_info(profit_by_user, 'rub_monthly_fee')\n",
    "for i in range(1, 13):\n",
    "    profit_by_user[str(i)] = profit_by_user[str(i)] + profit_by_user['rub_monthly_fee']\n",
    "    \n",
    "profit_by_user"
   ]
  },
  {
   "cell_type": "markdown",
   "metadata": {},
   "source": [
    "Были расчитаны количество использованных минут, сообщений и интернет траффика в месяц по каждому пользователю.\n",
    "\n",
    "Так же было расчитана прибыль по каждому клиенту в месяц с учетом тарифного плана и превышений по использованным ресурсам"
   ]
  },
  {
   "cell_type": "markdown",
   "metadata": {},
   "source": [
    "[К оглавлению](#content)"
   ]
  },
  {
   "cell_type": "markdown",
   "metadata": {},
   "source": [
    "<a id='3'></a>\n",
    "## Исследовательский анализ данных"
   ]
  },
  {
   "cell_type": "markdown",
   "metadata": {},
   "source": [
    "Необходимо определить, сколько минут разговора, сколько сообщений и какой объём интернет-трафика требуется пользователям каждого тарифа в месяц"
   ]
  },
  {
   "cell_type": "code",
   "execution_count": 20,
   "metadata": {},
   "outputs": [
    {
     "data": {
      "text/html": [
       "<div>\n",
       "<style scoped>\n",
       "    .dataframe tbody tr th:only-of-type {\n",
       "        vertical-align: middle;\n",
       "    }\n",
       "\n",
       "    .dataframe tbody tr th {\n",
       "        vertical-align: top;\n",
       "    }\n",
       "\n",
       "    .dataframe thead th {\n",
       "        text-align: right;\n",
       "    }\n",
       "</style>\n",
       "<table border=\"1\" class=\"dataframe\">\n",
       "  <thead>\n",
       "    <tr style=\"text-align: right;\">\n",
       "      <th></th>\n",
       "      <th>user_id</th>\n",
       "      <th>tariff_id</th>\n",
       "      <th>minutes_mean_values</th>\n",
       "      <th>minutes_variation_values</th>\n",
       "      <th>minutes_std_values</th>\n",
       "      <th>messages_mean_values</th>\n",
       "      <th>messages_variation_values</th>\n",
       "      <th>messages_std_values</th>\n",
       "      <th>mb_mean_values</th>\n",
       "      <th>mb_variation_values</th>\n",
       "      <th>mb_std_values</th>\n",
       "      <th>profit_mean_values</th>\n",
       "      <th>profit_variation_values</th>\n",
       "      <th>profit_std_values</th>\n",
       "    </tr>\n",
       "  </thead>\n",
       "  <tbody>\n",
       "    <tr>\n",
       "      <td>0</td>\n",
       "      <td>1000</td>\n",
       "      <td>1</td>\n",
       "      <td>319.000000</td>\n",
       "      <td>13083.666667</td>\n",
       "      <td>114.383857</td>\n",
       "      <td>60.857143</td>\n",
       "      <td>381.142857</td>\n",
       "      <td>19.522880</td>\n",
       "      <td>13939.242857</td>\n",
       "      <td>3.743495e+07</td>\n",
       "      <td>6118.410805</td>\n",
       "      <td>1950.000000</td>\n",
       "      <td>0.000000e+00</td>\n",
       "      <td>0.000000</td>\n",
       "    </tr>\n",
       "    <tr>\n",
       "      <td>1</td>\n",
       "      <td>1002</td>\n",
       "      <td>0</td>\n",
       "      <td>213.500000</td>\n",
       "      <td>3188.300000</td>\n",
       "      <td>56.465033</td>\n",
       "      <td>9.666667</td>\n",
       "      <td>23.466667</td>\n",
       "      <td>4.844241</td>\n",
       "      <td>16320.465000</td>\n",
       "      <td>1.172399e+07</td>\n",
       "      <td>3424.030783</td>\n",
       "      <td>1483.333333</td>\n",
       "      <td>6.826667e+05</td>\n",
       "      <td>826.236447</td>\n",
       "    </tr>\n",
       "    <tr>\n",
       "      <td>2</td>\n",
       "      <td>1003</td>\n",
       "      <td>1</td>\n",
       "      <td>755.000000</td>\n",
       "      <td>65940.666667</td>\n",
       "      <td>256.789148</td>\n",
       "      <td>76.250000</td>\n",
       "      <td>706.250000</td>\n",
       "      <td>26.575365</td>\n",
       "      <td>11789.777500</td>\n",
       "      <td>6.639012e+06</td>\n",
       "      <td>2576.628091</td>\n",
       "      <td>1950.000000</td>\n",
       "      <td>0.000000e+00</td>\n",
       "      <td>0.000000</td>\n",
       "    </tr>\n",
       "    <tr>\n",
       "      <td>3</td>\n",
       "      <td>1004</td>\n",
       "      <td>1</td>\n",
       "      <td>122.428571</td>\n",
       "      <td>1823.619048</td>\n",
       "      <td>42.703853</td>\n",
       "      <td>147.142857</td>\n",
       "      <td>748.476190</td>\n",
       "      <td>27.358293</td>\n",
       "      <td>18716.920000</td>\n",
       "      <td>2.697849e+07</td>\n",
       "      <td>5194.081736</td>\n",
       "      <td>1950.000000</td>\n",
       "      <td>0.000000e+00</td>\n",
       "      <td>0.000000</td>\n",
       "    </tr>\n",
       "    <tr>\n",
       "      <td>4</td>\n",
       "      <td>1005</td>\n",
       "      <td>0</td>\n",
       "      <td>546.636364</td>\n",
       "      <td>29108.654545</td>\n",
       "      <td>170.612586</td>\n",
       "      <td>45.272727</td>\n",
       "      <td>221.018182</td>\n",
       "      <td>14.866680</td>\n",
       "      <td>8274.465455</td>\n",
       "      <td>6.538724e+06</td>\n",
       "      <td>2557.092917</td>\n",
       "      <td>557.909091</td>\n",
       "      <td>1.768909e+02</td>\n",
       "      <td>13.300034</td>\n",
       "    </tr>\n",
       "    <tr>\n",
       "      <td>...</td>\n",
       "      <td>...</td>\n",
       "      <td>...</td>\n",
       "      <td>...</td>\n",
       "      <td>...</td>\n",
       "      <td>...</td>\n",
       "      <td>...</td>\n",
       "      <td>...</td>\n",
       "      <td>...</td>\n",
       "      <td>...</td>\n",
       "      <td>...</td>\n",
       "      <td>...</td>\n",
       "      <td>...</td>\n",
       "      <td>...</td>\n",
       "      <td>...</td>\n",
       "    </tr>\n",
       "    <tr>\n",
       "      <td>414</td>\n",
       "      <td>1495</td>\n",
       "      <td>1</td>\n",
       "      <td>722.250000</td>\n",
       "      <td>184622.916667</td>\n",
       "      <td>429.677689</td>\n",
       "      <td>64.000000</td>\n",
       "      <td>1158.000000</td>\n",
       "      <td>34.029399</td>\n",
       "      <td>25995.950000</td>\n",
       "      <td>2.585277e+08</td>\n",
       "      <td>16078.798104</td>\n",
       "      <td>2850.000000</td>\n",
       "      <td>1.620000e+06</td>\n",
       "      <td>1272.792206</td>\n",
       "    </tr>\n",
       "    <tr>\n",
       "      <td>415</td>\n",
       "      <td>1496</td>\n",
       "      <td>0</td>\n",
       "      <td>496.909091</td>\n",
       "      <td>25639.890909</td>\n",
       "      <td>160.124611</td>\n",
       "      <td>37.909091</td>\n",
       "      <td>126.690909</td>\n",
       "      <td>11.255706</td>\n",
       "      <td>22746.012727</td>\n",
       "      <td>4.645078e+07</td>\n",
       "      <td>6815.480708</td>\n",
       "      <td>4004.545455</td>\n",
       "      <td>2.376727e+06</td>\n",
       "      <td>1541.663800</td>\n",
       "    </tr>\n",
       "    <tr>\n",
       "      <td>416</td>\n",
       "      <td>1497</td>\n",
       "      <td>0</td>\n",
       "      <td>430.500000</td>\n",
       "      <td>7080.500000</td>\n",
       "      <td>84.145707</td>\n",
       "      <td>17.000000</td>\n",
       "      <td>18.000000</td>\n",
       "      <td>4.242641</td>\n",
       "      <td>12828.185000</td>\n",
       "      <td>3.526610e+06</td>\n",
       "      <td>1877.927118</td>\n",
       "      <td>550.000000</td>\n",
       "      <td>0.000000e+00</td>\n",
       "      <td>0.000000</td>\n",
       "    </tr>\n",
       "    <tr>\n",
       "      <td>417</td>\n",
       "      <td>1498</td>\n",
       "      <td>0</td>\n",
       "      <td>323.250000</td>\n",
       "      <td>18504.250000</td>\n",
       "      <td>136.030328</td>\n",
       "      <td>42.000000</td>\n",
       "      <td>296.000000</td>\n",
       "      <td>17.204651</td>\n",
       "      <td>18606.305000</td>\n",
       "      <td>5.730113e+07</td>\n",
       "      <td>7569.750972</td>\n",
       "      <td>2759.000000</td>\n",
       "      <td>2.433924e+06</td>\n",
       "      <td>1560.103843</td>\n",
       "    </tr>\n",
       "    <tr>\n",
       "      <td>418</td>\n",
       "      <td>1499</td>\n",
       "      <td>0</td>\n",
       "      <td>377.000000</td>\n",
       "      <td>77329.000000</td>\n",
       "      <td>278.080923</td>\n",
       "      <td>39.333333</td>\n",
       "      <td>632.333333</td>\n",
       "      <td>25.146239</td>\n",
       "      <td>12532.523333</td>\n",
       "      <td>8.566298e+07</td>\n",
       "      <td>9255.429864</td>\n",
       "      <td>1359.000000</td>\n",
       "      <td>4.910430e+05</td>\n",
       "      <td>700.744604</td>\n",
       "    </tr>\n",
       "  </tbody>\n",
       "</table>\n",
       "<p>419 rows × 14 columns</p>\n",
       "</div>"
      ],
      "text/plain": [
       "     user_id  tariff_id  minutes_mean_values  minutes_variation_values  \\\n",
       "0       1000          1           319.000000              13083.666667   \n",
       "1       1002          0           213.500000               3188.300000   \n",
       "2       1003          1           755.000000              65940.666667   \n",
       "3       1004          1           122.428571               1823.619048   \n",
       "4       1005          0           546.636364              29108.654545   \n",
       "..       ...        ...                  ...                       ...   \n",
       "414     1495          1           722.250000             184622.916667   \n",
       "415     1496          0           496.909091              25639.890909   \n",
       "416     1497          0           430.500000               7080.500000   \n",
       "417     1498          0           323.250000              18504.250000   \n",
       "418     1499          0           377.000000              77329.000000   \n",
       "\n",
       "     minutes_std_values  messages_mean_values  messages_variation_values  \\\n",
       "0            114.383857             60.857143                 381.142857   \n",
       "1             56.465033              9.666667                  23.466667   \n",
       "2            256.789148             76.250000                 706.250000   \n",
       "3             42.703853            147.142857                 748.476190   \n",
       "4            170.612586             45.272727                 221.018182   \n",
       "..                  ...                   ...                        ...   \n",
       "414          429.677689             64.000000                1158.000000   \n",
       "415          160.124611             37.909091                 126.690909   \n",
       "416           84.145707             17.000000                  18.000000   \n",
       "417          136.030328             42.000000                 296.000000   \n",
       "418          278.080923             39.333333                 632.333333   \n",
       "\n",
       "     messages_std_values  mb_mean_values  mb_variation_values  mb_std_values  \\\n",
       "0              19.522880    13939.242857         3.743495e+07    6118.410805   \n",
       "1               4.844241    16320.465000         1.172399e+07    3424.030783   \n",
       "2              26.575365    11789.777500         6.639012e+06    2576.628091   \n",
       "3              27.358293    18716.920000         2.697849e+07    5194.081736   \n",
       "4              14.866680     8274.465455         6.538724e+06    2557.092917   \n",
       "..                   ...             ...                  ...            ...   \n",
       "414            34.029399    25995.950000         2.585277e+08   16078.798104   \n",
       "415            11.255706    22746.012727         4.645078e+07    6815.480708   \n",
       "416             4.242641    12828.185000         3.526610e+06    1877.927118   \n",
       "417            17.204651    18606.305000         5.730113e+07    7569.750972   \n",
       "418            25.146239    12532.523333         8.566298e+07    9255.429864   \n",
       "\n",
       "     profit_mean_values  profit_variation_values  profit_std_values  \n",
       "0           1950.000000             0.000000e+00           0.000000  \n",
       "1           1483.333333             6.826667e+05         826.236447  \n",
       "2           1950.000000             0.000000e+00           0.000000  \n",
       "3           1950.000000             0.000000e+00           0.000000  \n",
       "4            557.909091             1.768909e+02          13.300034  \n",
       "..                  ...                      ...                ...  \n",
       "414         2850.000000             1.620000e+06        1272.792206  \n",
       "415         4004.545455             2.376727e+06        1541.663800  \n",
       "416          550.000000             0.000000e+00           0.000000  \n",
       "417         2759.000000             2.433924e+06        1560.103843  \n",
       "418         1359.000000             4.910430e+05         700.744604  \n",
       "\n",
       "[419 rows x 14 columns]"
      ]
     },
     "execution_count": 20,
     "metadata": {},
     "output_type": "execute_result"
    }
   ],
   "source": [
    "# расчет среднего\n",
    "def mean_value(row):\n",
    "    return row[1:12].mean()\n",
    "\n",
    "# расчет дисперсии\n",
    "def variation_value(row):\n",
    "    result = row[1:12].var()\n",
    "    return result\n",
    "\n",
    "# расчет СКО\n",
    "def std_value(row):\n",
    "    result = row[1:12].std()\n",
    "    return result\n",
    "\n",
    "# расчет среднего, дисперсии и СКО для ресурсов \n",
    "amount_minutes_by_month['minutes_mean_values'] = amount_minutes_by_month.apply(mean_value, axis=1)\n",
    "amount_minutes_by_month['minutes_variation_values'] = amount_minutes_by_month.apply(variation_value, axis=1)\n",
    "amount_minutes_by_month['minutes_std_values'] = amount_minutes_by_month.apply(std_value, axis=1)\n",
    "amount_messages_by_month['messages_mean_values'] = amount_messages_by_month.apply(mean_value, axis=1)\n",
    "amount_messages_by_month['messages_variation_values'] = amount_messages_by_month.apply(variation_value, axis=1)\n",
    "amount_messages_by_month['messages_std_values'] = amount_messages_by_month.apply(std_value, axis=1)\n",
    "amount_mb_by_month['mb_mean_values'] = amount_mb_by_month.apply(mean_value, axis=1)\n",
    "amount_mb_by_month['mb_variation_values'] = amount_mb_by_month.apply(variation_value, axis=1)\n",
    "amount_mb_by_month['mb_std_values'] = amount_mb_by_month.apply(std_value, axis=1)\n",
    "\n",
    "# расчет среднего, дисперсии и СКО для прибыли\n",
    "profit_by_user['profit_mean_values'] = profit_by_user.apply(mean_value, axis=1)\n",
    "profit_by_user['profit_variation_values'] = profit_by_user.apply(variation_value, axis=1)\n",
    "profit_by_user['profit_std_values'] = profit_by_user.apply(std_value, axis=1)\n",
    "\n",
    "# обединим все значения в одну таблицу\n",
    "# ф-ция объединения таблиц по 'user_id'\n",
    "def merge_tables(table1, table2):\n",
    "    result = table1.merge(table2, on='user_id')\n",
    "    return result\n",
    "\n",
    "stat_values = users[['user_id', 'tariff_id']]\n",
    "stat_values = merge_tables(stat_values, amount_minutes_by_month[['user_id', 'minutes_mean_values', 'minutes_variation_values', 'minutes_std_values']])\n",
    "stat_values = merge_tables(stat_values, amount_messages_by_month[['user_id', 'messages_mean_values', 'messages_variation_values', 'messages_std_values']])\n",
    "stat_values = merge_tables(stat_values, amount_mb_by_month[['user_id', 'mb_mean_values', 'mb_variation_values', 'mb_std_values']])\n",
    "stat_values = merge_tables(stat_values, profit_by_user[['user_id', 'profit_mean_values', 'profit_variation_values', 'profit_std_values']])\n",
    "\n",
    "stat_values"
   ]
  },
  {
   "cell_type": "code",
   "execution_count": 21,
   "metadata": {},
   "outputs": [],
   "source": [
    "# создадим две таблицы по тарифам\n",
    "smart = stat_values[stat_values['tariff_id'] == 0]\n",
    "ultra = stat_values[stat_values['tariff_id'] == 1]"
   ]
  },
  {
   "cell_type": "code",
   "execution_count": 22,
   "metadata": {},
   "outputs": [
    {
     "name": "stdout",
     "output_type": "stream",
     "text": [
      "Тариф SMART, средние значения за месяц:\n",
      "\n",
      "Минут разговора: 395.4337321052249\n",
      "Сообщений: 36.27444240542067\n",
      "Мегабайт интернета: 15321.45665746234\n",
      "\n",
      "Стандартное отклонение минут разговора: 143.4453195229042\n",
      "Стандартное отклонение сообщений: 24.221590783728985\n",
      "Стандартное отклонение мегабайт интернета: 3998.7263097289847\n",
      "\n",
      "Дисперсия минут разговора: 20576.559693028084\n",
      "Дисперсия сообщений: 586.6854600944249\n",
      "Дисперсия мегабайт интернета: 15989812.100118784\n",
      "\n",
      "Средний доход с каждого пользователя: 1661.2082617060878\n",
      "\n",
      "\n",
      "\n",
      "Тариф ULTRA, средние значения за месяц:\n",
      "\n",
      "Минут разговора: 512.179843073593\n",
      "Сообщений: 61.86130275974027\n",
      "Мегабайт интернета: 18266.885484429757\n",
      "\n",
      "Стандартное отклонение минут разговора: 266.48757085484783\n",
      "Стандартное отклонение сообщений: 41.78409389129593\n",
      "Стандартное отклонение мегабайт интернета: 8119.392939671915\n",
      "\n",
      "Дисперсия минут разговора: 71015.62542011755\n",
      "Дисперсия сообщений: 1745.910502316634\n",
      "Дисперсия мегабайт интернета: 65924541.70879414\n",
      "\n",
      "Средний доход с каждого пользователя: 2138.074462739641\n"
     ]
    }
   ],
   "source": [
    "# Описание тарифа SMART\n",
    "print('Тариф SMART, средние значения за месяц:')\n",
    "print('')\n",
    "print('Минут разговора:', smart['minutes_mean_values'].describe()['mean'])\n",
    "print('Сообщений:', smart['messages_mean_values'].describe()['mean'])\n",
    "print('Мегабайт интернета:', smart['mb_mean_values'].describe()['mean'])\n",
    "print('')\n",
    "print('Стандартное отклонение минут разговора:', smart['minutes_mean_values'].describe()['std'])\n",
    "print('Стандартное отклонение сообщений:', smart['messages_mean_values'].describe()['std'])\n",
    "print('Стандартное отклонение мегабайт интернета:', smart['mb_mean_values'].describe()['std'])\n",
    "print('')\n",
    "print('Дисперсия минут разговора:', smart['minutes_mean_values'].describe()['std'] ** 2)\n",
    "print('Дисперсия сообщений:', smart['messages_mean_values'].describe()['std'] ** 2)\n",
    "print('Дисперсия мегабайт интернета:', smart['mb_mean_values'].describe()['std'] ** 2)\n",
    "print('')\n",
    "print('Средний доход с каждого пользователя:', smart['profit_mean_values'].describe()['mean'])\n",
    "\n",
    "print('')\n",
    "print('')\n",
    "print('')\n",
    "\n",
    "print('Тариф ULTRA, средние значения за месяц:')\n",
    "print('')\n",
    "print('Минут разговора:', ultra['minutes_mean_values'].describe()['mean'])\n",
    "print('Сообщений:', ultra['messages_mean_values'].describe()['mean'])\n",
    "print('Мегабайт интернета:', ultra['mb_mean_values'].describe()['mean'])\n",
    "print('')\n",
    "print('Стандартное отклонение минут разговора:', ultra['minutes_mean_values'].describe()['std'])\n",
    "print('Стандартное отклонение сообщений:', ultra['messages_mean_values'].describe()['std'])\n",
    "print('Стандартное отклонение мегабайт интернета:', ultra['mb_mean_values'].describe()['std'])\n",
    "print('')\n",
    "print('Дисперсия минут разговора:', ultra['minutes_mean_values'].describe()['std'] ** 2)\n",
    "print('Дисперсия сообщений:', ultra['messages_mean_values'].describe()['std'] ** 2)\n",
    "print('Дисперсия мегабайт интернета:', ultra['mb_mean_values'].describe()['std'] ** 2)\n",
    "print('')\n",
    "print('Средний доход с каждого пользователя:', ultra['profit_mean_values'].describe()['mean'])"
   ]
  },
  {
   "cell_type": "code",
   "execution_count": 23,
   "metadata": {},
   "outputs": [
    {
     "data": {
      "text/plain": [
       "<seaborn.axisgrid.PairGrid at 0x7fe29edaab10>"
      ]
     },
     "execution_count": 23,
     "metadata": {},
     "output_type": "execute_result"
    },
    {
     "data": {
      "image/png": "[encoded data removed]",
      "text/plain": [
       "<Figure size 720x720 with 20 Axes>"
      ]
     },
     "metadata": {
      "needs_background": "light"
     },
     "output_type": "display_data"
    }
   ],
   "source": [
    "# гистограммы для тарифа SMART\n",
    "sns.pairplot(smart[['minutes_mean_values', 'messages_mean_values', 'mb_mean_values', 'profit_mean_values']])"
   ]
  },
  {
   "cell_type": "markdown",
   "metadata": {},
   "source": [
    "Виды распределения для тарифа SMART:\n",
    "\n",
    "    1. количество минут - нормальное распеделение\n",
    "    \n",
    "    2. количество сообщений - распределение Пуассона\n",
    "    \n",
    "    3. интернет траффик - распределение нормальное"
   ]
  },
  {
   "cell_type": "code",
   "execution_count": 24,
   "metadata": {},
   "outputs": [
    {
     "data": {
      "text/plain": [
       "<seaborn.axisgrid.PairGrid at 0x7fe29edb88d0>"
      ]
     },
     "execution_count": 24,
     "metadata": {},
     "output_type": "execute_result"
    },
    {
     "data": {
      "image/png": "[encoded data removed]",
      "text/plain": [
       "<Figure size 720x720 with 20 Axes>"
      ]
     },
     "metadata": {
      "needs_background": "light"
     },
     "output_type": "display_data"
    }
   ],
   "source": [
    "# гистограммы для тарифа ULTRA\n",
    "sns.pairplot(ultra[['minutes_mean_values', 'messages_mean_values', 'mb_mean_values', 'profit_mean_values']])"
   ]
  },
  {
   "cell_type": "markdown",
   "metadata": {},
   "source": [
    "Виды распределения для тарифа ULTRA:\n",
    "\n",
    "    1. количество минут - нормальное распеделение\n",
    "    \n",
    "    2. количество сообщений - распределение Пуассона\n",
    "    \n",
    "    3. интернет траффик - нормальное распределение"
   ]
  },
  {
   "cell_type": "markdown",
   "metadata": {},
   "source": [
    "[К оглавлению](#content)"
   ]
  },
  {
   "cell_type": "markdown",
   "metadata": {},
   "source": [
    "<a id='4'></a>\n",
    "## Проверка гипотез"
   ]
  },
  {
   "cell_type": "markdown",
   "metadata": {},
   "source": [
    "Гипотезы для проверки: \n",
    "1. средняя выручка пользователей тарифов «Ультра» и «Смарт» различаются;\n",
    "2. средняя выручка пользователей из Москвы отличается от выручки пользователей из других регионов."
   ]
  },
  {
   "cell_type": "markdown",
   "metadata": {},
   "source": [
    "<a id='4-1'></a>\n",
    "### Проверка гипотезы: средняя выручка пользователей тарифов «Ультра» и «Смарт» различаются"
   ]
  },
  {
   "cell_type": "markdown",
   "metadata": {},
   "source": [
    "H0: средняя выручка пользователей тарифов не различается\n",
    "\n",
    "H1: средняя выручка пользователей тарифов различается\n",
    "\n",
    "Для проверки гипотезы будет спользован t-тест Стьюдента, т к выборки независимые. Уровень стистической значимости 5%"
   ]
  },
  {
   "cell_type": "code",
   "execution_count": 25,
   "metadata": {},
   "outputs": [
    {
     "name": "stdout",
     "output_type": "stream",
     "text": [
      "p-значение:  5.292449932263244e-10\n"
     ]
    }
   ],
   "source": [
    "# проверка гипотезы равенства выручки пользователей тарифов «Ультра» и «Смарт»\n",
    "results = st.ttest_ind(smart['profit_mean_values'], ultra['profit_mean_values'], equal_var = False, nan_policy='omit')\n",
    "print('p-значение: ', results.pvalue)"
   ]
  },
  {
   "cell_type": "markdown",
   "metadata": {},
   "source": [
    "Принимаем альтернативную гипотезу: существует статистически значимая разница между средними выручками в тарифах Smart и Ultra"
   ]
  },
  {
   "cell_type": "markdown",
   "metadata": {},
   "source": [
    "[К оглавлению](#content)"
   ]
  },
  {
   "cell_type": "markdown",
   "metadata": {},
   "source": [
    "<a id='4-2'></a>\n",
    "### Проверка гипотезы: средняя выручка пользователей из Москвы отличается от выручки пользователей из других регионов"
   ]
  },
  {
   "cell_type": "markdown",
   "metadata": {},
   "source": [
    "Проверим эту гипотезу для каждого тарифа отдельно. Нулевая и альтернативные гипотезы для тарфов будут одинаковыми:\n",
    "\n",
    "H0: Средняя выручка пользователей Москвы не отличается от выручки пользователей из других регионов\n",
    "\n",
    "H1: Средняя выручка пользователей Москвы отличается от выручки пользователей из регионов\n",
    "\n",
    "Для проверки гипотез будет спользован t-тест Стьюдента, т к выборки независимые. Уровень значимости примем 5%"
   ]
  },
  {
   "cell_type": "code",
   "execution_count": 26,
   "metadata": {},
   "outputs": [],
   "source": [
    "# проверим гипотезу для тарифа SMART\n",
    "\n",
    "# добавим в таблицу информацию о регионе\n",
    "smart = smart.merge(users[['user_id', 'city']], on='user_id', how='right')"
   ]
  },
  {
   "cell_type": "code",
   "execution_count": 27,
   "metadata": {},
   "outputs": [
    {
     "name": "stdout",
     "output_type": "stream",
     "text": [
      "p-значение:  0.16729478891107172\n"
     ]
    }
   ],
   "source": [
    "# расчитаем p-value\n",
    "results = st.ttest_ind(smart[smart['city'] == 'Москва']['profit_mean_values'], smart[smart['city'] != 'Москва']['profit_mean_values'], equal_var = False, nan_policy='omit')\n",
    "print('p-значение: ', results.pvalue)"
   ]
  },
  {
   "cell_type": "markdown",
   "metadata": {},
   "source": [
    "Принимаем нулевую гипотезу: для тарифа SMART выручка пользователей Москвы не отличается от выручки пользователей из других регионов"
   ]
  },
  {
   "cell_type": "code",
   "execution_count": 28,
   "metadata": {
    "scrolled": true
   },
   "outputs": [
    {
     "name": "stdout",
     "output_type": "stream",
     "text": [
      "p-значение:  0.45196203606347873\n"
     ]
    }
   ],
   "source": [
    "# проверим гипотезу для тарифа ULTRA\n",
    "\n",
    "# добавим в таблицу информацию о регионе\n",
    "ultra = ultra.merge(users[['user_id', 'city']], on='user_id')\n",
    "\n",
    "# расчитаем p-value\n",
    "results = st.ttest_ind(ultra[ultra['city'] == 'Москва']['profit_mean_values'], ultra[ultra['city'] != 'Москва']['profit_mean_values'], equal_var = False, nan_policy='omit')\n",
    "print('p-значение: ', results.pvalue)"
   ]
  },
  {
   "cell_type": "markdown",
   "metadata": {},
   "source": [
    "Принимаем нулевую гипотезу: для тарифа ULTRA выручка пользователей Москвы не отличается от выручки пользователей из других регионов"
   ]
  },
  {
   "cell_type": "markdown",
   "metadata": {},
   "source": [
    "[К оглавлению](#content)"
   ]
  },
  {
   "cell_type": "markdown",
   "metadata": {},
   "source": [
    "<a id='outcome'></a>\n",
    "## Вывод"
   ]
  },
  {
   "cell_type": "markdown",
   "metadata": {},
   "source": [
    "Были расчитаны средние значения израсходованных минут, сообщений, инернет траффика и прибыли по каждому из тарифов.\n",
    "\n",
    "Между собой было проведено сравнение прибыли по каждому из тарифов. Прибыли отличаются и <b>тариф ULTRA приносит компании больше денег</b>. При этом не было обнаружено различий в прибыли между Москвой и регионами по обоим тарифам."
   ]
  },
  {
   "cell_type": "markdown",
   "metadata": {},
   "source": [
    "[К оглавлению](#content)"
   ]
  }
 ],
 "metadata": {
  "ExecuteTimeLog": [
   {
    "duration": 1276,
    "start_time": "2021-11-18T18:35:09.695Z"
   },
   {
    "duration": 207,
    "start_time": "2021-11-18T18:36:22.084Z"
   },
   {
    "duration": 246,
    "start_time": "2021-11-18T18:37:18.129Z"
   },
   {
    "duration": 247,
    "start_time": "2021-11-18T18:37:44.871Z"
   },
   {
    "duration": 254,
    "start_time": "2021-11-18T18:37:56.378Z"
   },
   {
    "duration": 342,
    "start_time": "2021-11-18T18:38:53.660Z"
   },
   {
    "duration": 356,
    "start_time": "2021-11-18T18:39:01.101Z"
   },
   {
    "duration": 241,
    "start_time": "2021-11-18T18:39:08.382Z"
   },
   {
    "duration": 226,
    "start_time": "2021-11-18T18:41:59.150Z"
   },
   {
    "duration": 234,
    "start_time": "2021-11-18T18:42:17.274Z"
   },
   {
    "duration": 38,
    "start_time": "2021-11-18T18:47:55.802Z"
   },
   {
    "duration": 17,
    "start_time": "2021-11-18T18:48:13.223Z"
   },
   {
    "duration": 11,
    "start_time": "2021-11-18T18:48:21.450Z"
   },
   {
    "duration": 10,
    "start_time": "2021-11-18T18:49:09.542Z"
   },
   {
    "duration": 10,
    "start_time": "2021-11-18T18:49:55.142Z"
   },
   {
    "duration": 257,
    "start_time": "2021-11-18T18:51:45.361Z"
   },
   {
    "duration": 229,
    "start_time": "2021-11-18T18:52:07.501Z"
   },
   {
    "duration": 316,
    "start_time": "2021-11-18T18:52:17.733Z"
   },
   {
    "duration": 228,
    "start_time": "2021-11-18T18:52:24.473Z"
   },
   {
    "duration": 434,
    "start_time": "2021-11-18T18:52:48.625Z"
   },
   {
    "duration": 520,
    "start_time": "2021-11-18T18:53:03.300Z"
   },
   {
    "duration": 302,
    "start_time": "2021-11-18T18:53:10.977Z"
   },
   {
    "duration": 141,
    "start_time": "2021-11-18T18:53:34.711Z"
   },
   {
    "duration": 146,
    "start_time": "2021-11-18T18:54:58.600Z"
   },
   {
    "duration": 561,
    "start_time": "2021-11-18T18:57:04.350Z"
   },
   {
    "duration": 537,
    "start_time": "2021-11-18T18:57:09.437Z"
   },
   {
    "duration": 38,
    "start_time": "2021-11-18T18:57:09.976Z"
   },
   {
    "duration": 138,
    "start_time": "2021-11-18T18:57:10.017Z"
   },
   {
    "duration": 3,
    "start_time": "2021-11-18T18:59:04.853Z"
   },
   {
    "duration": 37,
    "start_time": "2021-11-18T18:59:58.867Z"
   },
   {
    "duration": 145,
    "start_time": "2021-11-18T19:00:19.113Z"
   },
   {
    "duration": 154,
    "start_time": "2021-11-18T19:00:32.971Z"
   },
   {
    "duration": 148,
    "start_time": "2021-11-18T19:00:45.697Z"
   },
   {
    "duration": 155,
    "start_time": "2021-11-18T19:01:02.523Z"
   },
   {
    "duration": 152,
    "start_time": "2021-11-18T19:01:12.434Z"
   },
   {
    "duration": 163,
    "start_time": "2021-11-18T19:01:16.604Z"
   },
   {
    "duration": 173,
    "start_time": "2021-11-18T19:01:25.157Z"
   },
   {
    "duration": 9,
    "start_time": "2021-11-18T19:02:25.063Z"
   },
   {
    "duration": 3,
    "start_time": "2021-11-18T19:12:09.931Z"
   },
   {
    "duration": 329,
    "start_time": "2021-11-18T19:12:33.888Z"
   },
   {
    "duration": 271,
    "start_time": "2021-11-18T19:13:23.311Z"
   },
   {
    "duration": 235,
    "start_time": "2021-11-18T19:13:29.753Z"
   },
   {
    "duration": 156,
    "start_time": "2021-11-18T19:15:11.455Z"
   },
   {
    "duration": 132,
    "start_time": "2021-11-18T19:15:15.224Z"
   },
   {
    "duration": 165,
    "start_time": "2021-11-18T19:16:21.700Z"
   },
   {
    "duration": 163,
    "start_time": "2021-11-18T19:16:31.439Z"
   },
   {
    "duration": 1225,
    "start_time": "2021-11-18T19:16:41.275Z"
   },
   {
    "duration": 565,
    "start_time": "2021-11-18T19:16:42.503Z"
   },
   {
    "duration": 195,
    "start_time": "2021-11-18T19:16:43.071Z"
   },
   {
    "duration": 233,
    "start_time": "2021-11-18T19:16:43.269Z"
   },
   {
    "duration": 158,
    "start_time": "2021-11-18T19:18:21.550Z"
   },
   {
    "duration": 171,
    "start_time": "2021-11-18T19:18:27.264Z"
   },
   {
    "duration": 138,
    "start_time": "2021-11-18T19:20:33.879Z"
   },
   {
    "duration": 145,
    "start_time": "2021-11-18T20:04:28.685Z"
   },
   {
    "duration": 128,
    "start_time": "2021-11-18T20:04:39.285Z"
   },
   {
    "duration": 150,
    "start_time": "2021-11-18T20:05:04.522Z"
   },
   {
    "duration": 150,
    "start_time": "2021-11-18T20:05:13.173Z"
   },
   {
    "duration": 167,
    "start_time": "2021-11-18T20:05:45.659Z"
   },
   {
    "duration": 88,
    "start_time": "2021-11-18T20:07:23.395Z"
   },
   {
    "duration": 173,
    "start_time": "2021-11-18T20:08:23.093Z"
   },
   {
    "duration": 32,
    "start_time": "2021-11-18T20:09:55.376Z"
   },
   {
    "duration": 22,
    "start_time": "2021-11-18T20:11:17.173Z"
   },
   {
    "duration": 27,
    "start_time": "2021-11-18T20:12:52.903Z"
   },
   {
    "duration": 28,
    "start_time": "2021-11-18T20:13:17.350Z"
   },
   {
    "duration": 1296,
    "start_time": "2021-11-19T13:51:31.301Z"
   },
   {
    "duration": 626,
    "start_time": "2021-11-19T13:51:32.600Z"
   },
   {
    "duration": 189,
    "start_time": "2021-11-19T13:51:33.229Z"
   },
   {
    "duration": 261,
    "start_time": "2021-11-19T13:51:33.422Z"
   },
   {
    "duration": 157,
    "start_time": "2021-11-19T13:51:33.686Z"
   },
   {
    "duration": 221,
    "start_time": "2021-11-19T13:51:33.846Z"
   },
   {
    "duration": 108,
    "start_time": "2021-11-19T13:51:34.070Z"
   },
   {
    "duration": 54,
    "start_time": "2021-11-19T13:51:34.182Z"
   },
   {
    "duration": 135,
    "start_time": "2021-11-19T13:51:34.238Z"
   },
   {
    "duration": 35,
    "start_time": "2021-11-19T13:51:34.376Z"
   },
   {
    "duration": 8,
    "start_time": "2021-11-19T14:53:43.216Z"
   },
   {
    "duration": 27,
    "start_time": "2021-11-19T14:54:01.818Z"
   },
   {
    "duration": 51,
    "start_time": "2021-11-19T15:22:08.622Z"
   },
   {
    "duration": 8451,
    "start_time": "2021-11-19T15:29:05.200Z"
   },
   {
    "duration": 942,
    "start_time": "2021-11-19T15:30:46.047Z"
   },
   {
    "duration": 532,
    "start_time": "2021-11-19T15:30:58.588Z"
   },
   {
    "duration": 692,
    "start_time": "2021-11-19T15:31:15.066Z"
   },
   {
    "duration": 82,
    "start_time": "2021-11-19T15:31:22.874Z"
   },
   {
    "duration": 94,
    "start_time": "2021-11-19T15:31:34.064Z"
   },
   {
    "duration": 31,
    "start_time": "2021-11-19T15:32:04.895Z"
   },
   {
    "duration": 493,
    "start_time": "2021-11-19T15:32:42.697Z"
   },
   {
    "duration": 187,
    "start_time": "2021-11-19T15:32:56.904Z"
   },
   {
    "duration": 1210,
    "start_time": "2021-11-19T15:33:15.966Z"
   },
   {
    "duration": 618,
    "start_time": "2021-11-19T15:33:17.178Z"
   },
   {
    "duration": 195,
    "start_time": "2021-11-19T15:33:17.800Z"
   },
   {
    "duration": 247,
    "start_time": "2021-11-19T15:33:18.002Z"
   },
   {
    "duration": 156,
    "start_time": "2021-11-19T15:33:18.252Z"
   },
   {
    "duration": 235,
    "start_time": "2021-11-19T15:33:18.412Z"
   },
   {
    "duration": 93,
    "start_time": "2021-11-19T15:33:18.650Z"
   },
   {
    "duration": 64,
    "start_time": "2021-11-19T15:33:18.747Z"
   },
   {
    "duration": 20,
    "start_time": "2021-11-19T15:33:18.814Z"
   },
   {
    "duration": 24,
    "start_time": "2021-11-19T15:33:18.837Z"
   },
   {
    "duration": 38,
    "start_time": "2021-11-19T15:33:18.863Z"
   },
   {
    "duration": 122,
    "start_time": "2021-11-19T15:33:18.905Z"
   },
   {
    "duration": 100,
    "start_time": "2021-11-19T15:34:24.804Z"
   },
   {
    "duration": 133,
    "start_time": "2021-11-19T15:34:50.257Z"
   },
   {
    "duration": 112,
    "start_time": "2021-11-19T15:34:57.352Z"
   },
   {
    "duration": 123,
    "start_time": "2021-11-19T15:35:19.104Z"
   },
   {
    "duration": 144,
    "start_time": "2021-11-19T15:37:40.038Z"
   },
   {
    "duration": 144,
    "start_time": "2021-11-19T15:37:52.523Z"
   },
   {
    "duration": 132,
    "start_time": "2021-11-19T15:43:56.012Z"
   },
   {
    "duration": 132,
    "start_time": "2021-11-19T15:46:15.142Z"
   },
   {
    "duration": 147,
    "start_time": "2021-11-19T16:02:09.674Z"
   },
   {
    "duration": 153,
    "start_time": "2021-11-19T16:02:28.249Z"
   },
   {
    "duration": 155,
    "start_time": "2021-11-19T16:03:18.018Z"
   },
   {
    "duration": 116,
    "start_time": "2021-11-19T16:04:11.411Z"
   },
   {
    "duration": 1237,
    "start_time": "2021-11-19T16:04:14.828Z"
   },
   {
    "duration": 587,
    "start_time": "2021-11-19T16:04:16.068Z"
   },
   {
    "duration": 187,
    "start_time": "2021-11-19T16:04:16.658Z"
   },
   {
    "duration": 238,
    "start_time": "2021-11-19T16:04:16.848Z"
   },
   {
    "duration": 145,
    "start_time": "2021-11-19T16:04:17.089Z"
   },
   {
    "duration": 212,
    "start_time": "2021-11-19T16:04:17.236Z"
   },
   {
    "duration": 89,
    "start_time": "2021-11-19T16:04:17.450Z"
   },
   {
    "duration": 61,
    "start_time": "2021-11-19T16:04:17.542Z"
   },
   {
    "duration": 21,
    "start_time": "2021-11-19T16:04:17.606Z"
   },
   {
    "duration": 26,
    "start_time": "2021-11-19T16:04:17.629Z"
   },
   {
    "duration": 10,
    "start_time": "2021-11-19T16:04:17.658Z"
   },
   {
    "duration": 106,
    "start_time": "2021-11-19T16:04:26.775Z"
   },
   {
    "duration": 1203,
    "start_time": "2021-11-19T16:04:43.526Z"
   },
   {
    "duration": 573,
    "start_time": "2021-11-19T16:04:44.732Z"
   },
   {
    "duration": 189,
    "start_time": "2021-11-19T16:04:45.308Z"
   },
   {
    "duration": 233,
    "start_time": "2021-11-19T16:04:45.502Z"
   },
   {
    "duration": 140,
    "start_time": "2021-11-19T16:04:45.737Z"
   },
   {
    "duration": 221,
    "start_time": "2021-11-19T16:04:45.879Z"
   },
   {
    "duration": 85,
    "start_time": "2021-11-19T16:04:46.102Z"
   },
   {
    "duration": 50,
    "start_time": "2021-11-19T16:04:46.189Z"
   },
   {
    "duration": 21,
    "start_time": "2021-11-19T16:04:46.243Z"
   },
   {
    "duration": 36,
    "start_time": "2021-11-19T16:04:46.267Z"
   },
   {
    "duration": 9,
    "start_time": "2021-11-19T16:04:46.306Z"
   },
   {
    "duration": 8667,
    "start_time": "2021-11-19T16:04:46.317Z"
   },
   {
    "duration": 168,
    "start_time": "2021-11-19T16:08:34.417Z"
   },
   {
    "duration": 141,
    "start_time": "2021-11-19T16:10:28.006Z"
   },
   {
    "duration": 114,
    "start_time": "2021-11-19T16:13:39.605Z"
   },
   {
    "duration": 625,
    "start_time": "2021-11-19T16:13:52.255Z"
   },
   {
    "duration": 1047,
    "start_time": "2021-11-19T16:13:59.873Z"
   },
   {
    "duration": 767,
    "start_time": "2021-11-19T16:15:02.068Z"
   },
   {
    "duration": 695,
    "start_time": "2021-11-19T16:15:43.864Z"
   },
   {
    "duration": 1242,
    "start_time": "2021-11-19T16:15:50.305Z"
   },
   {
    "duration": 554,
    "start_time": "2021-11-19T16:15:51.549Z"
   },
   {
    "duration": 200,
    "start_time": "2021-11-19T16:15:52.106Z"
   },
   {
    "duration": 236,
    "start_time": "2021-11-19T16:15:52.309Z"
   },
   {
    "duration": 147,
    "start_time": "2021-11-19T16:15:52.547Z"
   },
   {
    "duration": 214,
    "start_time": "2021-11-19T16:15:52.696Z"
   },
   {
    "duration": 96,
    "start_time": "2021-11-19T16:15:52.912Z"
   },
   {
    "duration": 45,
    "start_time": "2021-11-19T16:15:53.011Z"
   },
   {
    "duration": 41,
    "start_time": "2021-11-19T16:15:53.059Z"
   },
   {
    "duration": 25,
    "start_time": "2021-11-19T16:15:53.103Z"
   },
   {
    "duration": 9,
    "start_time": "2021-11-19T16:15:53.131Z"
   },
   {
    "duration": 553,
    "start_time": "2021-11-19T16:15:53.142Z"
   },
   {
    "duration": 1237,
    "start_time": "2021-11-19T16:16:06.726Z"
   },
   {
    "duration": 585,
    "start_time": "2021-11-19T16:16:07.965Z"
   },
   {
    "duration": 192,
    "start_time": "2021-11-19T16:16:08.553Z"
   },
   {
    "duration": 241,
    "start_time": "2021-11-19T16:16:08.748Z"
   },
   {
    "duration": 150,
    "start_time": "2021-11-19T16:16:08.992Z"
   },
   {
    "duration": 212,
    "start_time": "2021-11-19T16:16:09.144Z"
   },
   {
    "duration": 100,
    "start_time": "2021-11-19T16:16:09.358Z"
   },
   {
    "duration": 58,
    "start_time": "2021-11-19T16:16:09.461Z"
   },
   {
    "duration": 21,
    "start_time": "2021-11-19T16:16:09.522Z"
   },
   {
    "duration": 28,
    "start_time": "2021-11-19T16:16:09.545Z"
   },
   {
    "duration": 10,
    "start_time": "2021-11-19T16:16:09.601Z"
   },
   {
    "duration": 788,
    "start_time": "2021-11-19T16:16:09.614Z"
   },
   {
    "duration": 668,
    "start_time": "2021-11-19T16:16:48.159Z"
   },
   {
    "duration": 158,
    "start_time": "2021-11-19T16:16:56.715Z"
   },
   {
    "duration": 1431,
    "start_time": "2021-11-19T16:18:09.315Z"
   },
   {
    "duration": 599,
    "start_time": "2021-11-19T16:18:10.749Z"
   },
   {
    "duration": 189,
    "start_time": "2021-11-19T16:18:11.351Z"
   },
   {
    "duration": 242,
    "start_time": "2021-11-19T16:18:11.543Z"
   },
   {
    "duration": 187,
    "start_time": "2021-11-19T16:18:11.788Z"
   },
   {
    "duration": 218,
    "start_time": "2021-11-19T16:18:11.978Z"
   },
   {
    "duration": 105,
    "start_time": "2021-11-19T16:18:12.201Z"
   },
   {
    "duration": 49,
    "start_time": "2021-11-19T16:18:12.308Z"
   },
   {
    "duration": 43,
    "start_time": "2021-11-19T16:18:12.360Z"
   },
   {
    "duration": 34,
    "start_time": "2021-11-19T16:18:12.405Z"
   },
   {
    "duration": 21,
    "start_time": "2021-11-19T16:18:12.443Z"
   },
   {
    "duration": 242,
    "start_time": "2021-11-19T16:18:12.468Z"
   },
   {
    "duration": 164,
    "start_time": "2021-11-19T16:18:27.221Z"
   },
   {
    "duration": 159,
    "start_time": "2021-11-19T16:19:24.822Z"
   },
   {
    "duration": 146,
    "start_time": "2021-11-19T16:19:33.702Z"
   },
   {
    "duration": 158,
    "start_time": "2021-11-19T16:20:17.723Z"
   },
   {
    "duration": 162,
    "start_time": "2021-11-19T16:21:46.003Z"
   },
   {
    "duration": 161,
    "start_time": "2021-11-19T16:22:22.833Z"
   },
   {
    "duration": 732,
    "start_time": "2021-11-19T16:30:57.547Z"
   },
   {
    "duration": 167,
    "start_time": "2021-11-19T16:31:49.190Z"
   },
   {
    "duration": 591,
    "start_time": "2021-11-19T16:32:47.487Z"
   },
   {
    "duration": 582,
    "start_time": "2021-11-19T16:33:44.670Z"
   },
   {
    "duration": 644,
    "start_time": "2021-11-19T16:34:59.710Z"
   },
   {
    "duration": 651,
    "start_time": "2021-11-19T16:35:12.591Z"
   },
   {
    "duration": 367,
    "start_time": "2021-11-19T16:38:41.318Z"
   },
   {
    "duration": 117,
    "start_time": "2021-11-19T16:41:42.554Z"
   },
   {
    "duration": 14,
    "start_time": "2021-11-19T16:41:50.132Z"
   },
   {
    "duration": 1255,
    "start_time": "2021-11-19T16:41:57.965Z"
   },
   {
    "duration": 553,
    "start_time": "2021-11-19T16:41:59.223Z"
   },
   {
    "duration": 205,
    "start_time": "2021-11-19T16:41:59.784Z"
   },
   {
    "duration": 231,
    "start_time": "2021-11-19T16:41:59.991Z"
   },
   {
    "duration": 163,
    "start_time": "2021-11-19T16:42:00.224Z"
   },
   {
    "duration": 213,
    "start_time": "2021-11-19T16:42:00.389Z"
   },
   {
    "duration": 98,
    "start_time": "2021-11-19T16:42:00.604Z"
   },
   {
    "duration": 47,
    "start_time": "2021-11-19T16:42:00.706Z"
   },
   {
    "duration": 46,
    "start_time": "2021-11-19T16:42:00.755Z"
   },
   {
    "duration": 14,
    "start_time": "2021-11-19T16:42:00.803Z"
   },
   {
    "duration": 28,
    "start_time": "2021-11-19T16:42:00.820Z"
   },
   {
    "duration": 9,
    "start_time": "2021-11-19T16:42:00.850Z"
   },
   {
    "duration": 934,
    "start_time": "2021-11-19T16:42:00.861Z"
   },
   {
    "duration": 1235,
    "start_time": "2021-11-19T16:42:49.377Z"
   },
   {
    "duration": 564,
    "start_time": "2021-11-19T16:42:50.615Z"
   },
   {
    "duration": 183,
    "start_time": "2021-11-19T16:42:51.182Z"
   },
   {
    "duration": 243,
    "start_time": "2021-11-19T16:42:51.369Z"
   },
   {
    "duration": 155,
    "start_time": "2021-11-19T16:42:51.615Z"
   },
   {
    "duration": 220,
    "start_time": "2021-11-19T16:42:51.773Z"
   },
   {
    "duration": 84,
    "start_time": "2021-11-19T16:42:51.996Z"
   },
   {
    "duration": 43,
    "start_time": "2021-11-19T16:42:52.102Z"
   },
   {
    "duration": 27,
    "start_time": "2021-11-19T16:42:52.148Z"
   },
   {
    "duration": 36,
    "start_time": "2021-11-19T16:42:52.177Z"
   },
   {
    "duration": 30,
    "start_time": "2021-11-19T16:42:52.216Z"
   },
   {
    "duration": 10,
    "start_time": "2021-11-19T16:42:52.249Z"
   },
   {
    "duration": 803,
    "start_time": "2021-11-19T16:42:52.301Z"
   },
   {
    "duration": 667,
    "start_time": "2021-11-19T16:43:08.113Z"
   },
   {
    "duration": 627,
    "start_time": "2021-11-19T16:43:36.191Z"
   },
   {
    "duration": 163,
    "start_time": "2021-11-19T16:44:23.608Z"
   },
   {
    "duration": 350,
    "start_time": "2021-11-19T16:44:32.219Z"
   },
   {
    "duration": 155,
    "start_time": "2021-11-19T16:44:43.612Z"
   },
   {
    "duration": 1264,
    "start_time": "2021-11-19T16:45:01.973Z"
   },
   {
    "duration": 557,
    "start_time": "2021-11-19T16:45:03.240Z"
   },
   {
    "duration": 204,
    "start_time": "2021-11-19T16:45:03.801Z"
   },
   {
    "duration": 244,
    "start_time": "2021-11-19T16:45:04.009Z"
   },
   {
    "duration": 152,
    "start_time": "2021-11-19T16:45:04.255Z"
   },
   {
    "duration": 210,
    "start_time": "2021-11-19T16:45:04.410Z"
   },
   {
    "duration": 99,
    "start_time": "2021-11-19T16:45:04.622Z"
   },
   {
    "duration": 47,
    "start_time": "2021-11-19T16:45:04.725Z"
   },
   {
    "duration": 38,
    "start_time": "2021-11-19T16:45:04.775Z"
   },
   {
    "duration": 13,
    "start_time": "2021-11-19T16:45:04.815Z"
   },
   {
    "duration": 33,
    "start_time": "2021-11-19T16:45:04.830Z"
   },
   {
    "duration": 41,
    "start_time": "2021-11-19T16:45:04.865Z"
   },
   {
    "duration": 212,
    "start_time": "2021-11-19T16:45:04.909Z"
   },
   {
    "duration": 1004,
    "start_time": "2021-11-19T16:45:37.457Z"
   },
   {
    "duration": 623,
    "start_time": "2021-11-19T16:45:44.541Z"
   },
   {
    "duration": 631,
    "start_time": "2021-11-19T16:51:10.678Z"
   },
   {
    "duration": 655,
    "start_time": "2021-11-19T16:51:22.188Z"
   },
   {
    "duration": 613,
    "start_time": "2021-11-19T16:52:39.914Z"
   },
   {
    "duration": 619,
    "start_time": "2021-11-19T16:53:12.852Z"
   },
   {
    "duration": 157,
    "start_time": "2021-11-19T16:54:11.386Z"
   },
   {
    "duration": 148,
    "start_time": "2021-11-19T16:54:49.265Z"
   },
   {
    "duration": 158,
    "start_time": "2021-11-19T16:55:10.319Z"
   },
   {
    "duration": 390,
    "start_time": "2021-11-19T16:55:39.283Z"
   },
   {
    "duration": 4,
    "start_time": "2021-11-19T16:55:57.440Z"
   },
   {
    "duration": 848,
    "start_time": "2021-11-19T16:56:53.112Z"
   },
   {
    "duration": 638,
    "start_time": "2021-11-19T16:57:12.007Z"
   },
   {
    "duration": 158,
    "start_time": "2021-11-19T16:57:25.536Z"
   },
   {
    "duration": 613,
    "start_time": "2021-11-19T16:58:09.535Z"
   },
   {
    "duration": 1244,
    "start_time": "2021-11-19T16:58:20.178Z"
   },
   {
    "duration": 556,
    "start_time": "2021-11-19T16:58:21.424Z"
   },
   {
    "duration": 193,
    "start_time": "2021-11-19T16:58:21.983Z"
   },
   {
    "duration": 246,
    "start_time": "2021-11-19T16:58:22.179Z"
   },
   {
    "duration": 145,
    "start_time": "2021-11-19T16:58:22.427Z"
   },
   {
    "duration": 214,
    "start_time": "2021-11-19T16:58:22.574Z"
   },
   {
    "duration": 83,
    "start_time": "2021-11-19T16:58:22.791Z"
   },
   {
    "duration": 61,
    "start_time": "2021-11-19T16:58:22.876Z"
   },
   {
    "duration": 23,
    "start_time": "2021-11-19T16:58:22.942Z"
   },
   {
    "duration": 33,
    "start_time": "2021-11-19T16:58:22.968Z"
   },
   {
    "duration": 31,
    "start_time": "2021-11-19T16:58:23.003Z"
   },
   {
    "duration": 9,
    "start_time": "2021-11-19T16:58:23.037Z"
   },
   {
    "duration": 798,
    "start_time": "2021-11-19T16:58:23.048Z"
   },
   {
    "duration": 402,
    "start_time": "2021-11-19T16:58:49.789Z"
   },
   {
    "duration": 163,
    "start_time": "2021-11-19T16:58:58.769Z"
   },
   {
    "duration": 369,
    "start_time": "2021-11-19T17:00:42.893Z"
   },
   {
    "duration": 384,
    "start_time": "2021-11-19T17:00:50.678Z"
   },
   {
    "duration": 158,
    "start_time": "2021-11-19T17:01:01.331Z"
   },
   {
    "duration": 397,
    "start_time": "2021-11-19T17:01:25.298Z"
   },
   {
    "duration": 407,
    "start_time": "2021-11-19T17:01:47.433Z"
   },
   {
    "duration": 394,
    "start_time": "2021-11-19T17:02:13.444Z"
   },
   {
    "duration": 1179,
    "start_time": "2021-11-19T17:02:57.049Z"
   },
   {
    "duration": 579,
    "start_time": "2021-11-19T17:02:58.231Z"
   },
   {
    "duration": 186,
    "start_time": "2021-11-19T17:02:58.814Z"
   },
   {
    "duration": 228,
    "start_time": "2021-11-19T17:02:59.003Z"
   },
   {
    "duration": 152,
    "start_time": "2021-11-19T17:02:59.234Z"
   },
   {
    "duration": 213,
    "start_time": "2021-11-19T17:02:59.388Z"
   },
   {
    "duration": 106,
    "start_time": "2021-11-19T17:02:59.604Z"
   },
   {
    "duration": 59,
    "start_time": "2021-11-19T17:02:59.712Z"
   },
   {
    "duration": 39,
    "start_time": "2021-11-19T17:02:59.776Z"
   },
   {
    "duration": 7,
    "start_time": "2021-11-19T17:02:59.818Z"
   },
   {
    "duration": 31,
    "start_time": "2021-11-19T17:02:59.827Z"
   },
   {
    "duration": 40,
    "start_time": "2021-11-19T17:02:59.860Z"
   },
   {
    "duration": 548,
    "start_time": "2021-11-19T17:02:59.903Z"
   },
   {
    "duration": 624,
    "start_time": "2021-11-19T17:03:54.163Z"
   },
   {
    "duration": 389,
    "start_time": "2021-11-19T17:03:58.842Z"
   },
   {
    "duration": 390,
    "start_time": "2021-11-19T17:04:26.250Z"
   },
   {
    "duration": 1254,
    "start_time": "2021-11-19T17:05:19.019Z"
   },
   {
    "duration": 606,
    "start_time": "2021-11-19T17:05:20.275Z"
   },
   {
    "duration": 194,
    "start_time": "2021-11-19T17:05:20.884Z"
   },
   {
    "duration": 266,
    "start_time": "2021-11-19T17:05:21.081Z"
   },
   {
    "duration": 163,
    "start_time": "2021-11-19T17:05:21.349Z"
   },
   {
    "duration": 226,
    "start_time": "2021-11-19T17:05:21.516Z"
   },
   {
    "duration": 111,
    "start_time": "2021-11-19T17:05:21.745Z"
   },
   {
    "duration": 63,
    "start_time": "2021-11-19T17:05:21.858Z"
   },
   {
    "duration": 23,
    "start_time": "2021-11-19T17:05:21.925Z"
   },
   {
    "duration": 8,
    "start_time": "2021-11-19T17:05:21.951Z"
   },
   {
    "duration": 62,
    "start_time": "2021-11-19T17:05:21.962Z"
   },
   {
    "duration": 13,
    "start_time": "2021-11-19T17:05:22.028Z"
   },
   {
    "duration": 582,
    "start_time": "2021-11-19T17:05:22.044Z"
   },
   {
    "duration": 421,
    "start_time": "2021-11-19T17:05:36.319Z"
   },
   {
    "duration": 8317,
    "start_time": "2021-11-19T17:06:10.621Z"
   },
   {
    "duration": 192,
    "start_time": "2021-11-19T17:06:47.981Z"
   },
   {
    "duration": 368,
    "start_time": "2021-11-19T17:07:41.811Z"
   },
   {
    "duration": 173,
    "start_time": "2021-11-19T17:08:18.243Z"
   },
   {
    "duration": 175,
    "start_time": "2021-11-19T17:10:10.201Z"
   },
   {
    "duration": 2715,
    "start_time": "2021-11-19T17:11:09.792Z"
   },
   {
    "duration": 2930,
    "start_time": "2021-11-19T17:12:21.655Z"
   },
   {
    "duration": 141,
    "start_time": "2021-11-19T17:12:50.332Z"
   },
   {
    "duration": 148,
    "start_time": "2021-11-19T17:13:09.863Z"
   },
   {
    "duration": 699,
    "start_time": "2021-11-19T17:13:47.026Z"
   },
   {
    "duration": 153,
    "start_time": "2021-11-19T17:14:01.886Z"
   },
   {
    "duration": 686,
    "start_time": "2021-11-19T17:16:04.777Z"
   },
   {
    "duration": 141,
    "start_time": "2021-11-19T17:16:25.120Z"
   },
   {
    "duration": 2734,
    "start_time": "2021-11-19T17:17:15.428Z"
   },
   {
    "duration": 2823,
    "start_time": "2021-11-19T17:17:25.510Z"
   },
   {
    "duration": 2760,
    "start_time": "2021-11-19T17:17:30.170Z"
   },
   {
    "duration": 1344,
    "start_time": "2021-11-19T17:17:41.985Z"
   },
   {
    "duration": 565,
    "start_time": "2021-11-19T17:17:43.332Z"
   },
   {
    "duration": 197,
    "start_time": "2021-11-19T17:17:43.900Z"
   },
   {
    "duration": 260,
    "start_time": "2021-11-19T17:17:44.101Z"
   },
   {
    "duration": 152,
    "start_time": "2021-11-19T17:17:44.363Z"
   },
   {
    "duration": 219,
    "start_time": "2021-11-19T17:17:44.519Z"
   },
   {
    "duration": 108,
    "start_time": "2021-11-19T17:17:44.741Z"
   },
   {
    "duration": 56,
    "start_time": "2021-11-19T17:17:44.852Z"
   },
   {
    "duration": 25,
    "start_time": "2021-11-19T17:17:44.912Z"
   },
   {
    "duration": 7,
    "start_time": "2021-11-19T17:17:44.940Z"
   },
   {
    "duration": 71,
    "start_time": "2021-11-19T17:17:44.949Z"
   },
   {
    "duration": 10,
    "start_time": "2021-11-19T17:17:45.023Z"
   },
   {
    "duration": 2892,
    "start_time": "2021-11-19T17:17:45.036Z"
   },
   {
    "duration": 186,
    "start_time": "2021-11-19T17:17:54.974Z"
   },
   {
    "duration": 201,
    "start_time": "2021-11-19T17:18:55.279Z"
   },
   {
    "duration": 538,
    "start_time": "2021-11-19T17:19:26.364Z"
   },
   {
    "duration": 597,
    "start_time": "2021-11-19T17:19:44.721Z"
   },
   {
    "duration": 403,
    "start_time": "2021-11-19T17:20:29.523Z"
   },
   {
    "duration": 163,
    "start_time": "2021-11-19T17:20:37.641Z"
   },
   {
    "duration": 175,
    "start_time": "2021-11-19T18:03:15.915Z"
   },
   {
    "duration": 1260,
    "start_time": "2021-11-19T18:06:29.423Z"
   },
   {
    "duration": 588,
    "start_time": "2021-11-19T18:06:30.686Z"
   },
   {
    "duration": 204,
    "start_time": "2021-11-19T18:06:31.278Z"
   },
   {
    "duration": 251,
    "start_time": "2021-11-19T18:06:31.485Z"
   },
   {
    "duration": 165,
    "start_time": "2021-11-19T18:06:31.739Z"
   },
   {
    "duration": 223,
    "start_time": "2021-11-19T18:06:31.907Z"
   },
   {
    "duration": 101,
    "start_time": "2021-11-19T18:06:32.132Z"
   },
   {
    "duration": 66,
    "start_time": "2021-11-19T18:06:32.239Z"
   },
   {
    "duration": 22,
    "start_time": "2021-11-19T18:06:32.309Z"
   },
   {
    "duration": 7,
    "start_time": "2021-11-19T18:06:32.334Z"
   },
   {
    "duration": 26,
    "start_time": "2021-11-19T18:06:32.344Z"
   },
   {
    "duration": 12,
    "start_time": "2021-11-19T18:06:32.401Z"
   },
   {
    "duration": 878,
    "start_time": "2021-11-19T18:06:32.415Z"
   },
   {
    "duration": 193,
    "start_time": "2021-11-19T18:06:52.334Z"
   },
   {
    "duration": 191,
    "start_time": "2021-11-19T18:12:37.349Z"
   },
   {
    "duration": 583,
    "start_time": "2021-11-19T18:12:57.715Z"
   },
   {
    "duration": 1257,
    "start_time": "2021-11-19T18:13:09.032Z"
   },
   {
    "duration": 576,
    "start_time": "2021-11-19T18:13:10.291Z"
   },
   {
    "duration": 196,
    "start_time": "2021-11-19T18:13:10.870Z"
   },
   {
    "duration": 241,
    "start_time": "2021-11-19T18:13:11.069Z"
   },
   {
    "duration": 156,
    "start_time": "2021-11-19T18:13:11.314Z"
   },
   {
    "duration": 221,
    "start_time": "2021-11-19T18:13:11.473Z"
   },
   {
    "duration": 92,
    "start_time": "2021-11-19T18:13:11.696Z"
   },
   {
    "duration": 50,
    "start_time": "2021-11-19T18:13:11.803Z"
   },
   {
    "duration": 19,
    "start_time": "2021-11-19T18:13:11.856Z"
   },
   {
    "duration": 8,
    "start_time": "2021-11-19T18:13:11.901Z"
   },
   {
    "duration": 33,
    "start_time": "2021-11-19T18:13:11.912Z"
   },
   {
    "duration": 9,
    "start_time": "2021-11-19T18:13:11.947Z"
   },
   {
    "duration": 975,
    "start_time": "2021-11-19T18:13:11.958Z"
   },
   {
    "duration": 190,
    "start_time": "2021-11-19T18:14:33.770Z"
   },
   {
    "duration": 171,
    "start_time": "2021-11-19T18:17:08.698Z"
   },
   {
    "duration": 171,
    "start_time": "2021-11-19T18:17:38.926Z"
   },
   {
    "duration": 174,
    "start_time": "2021-11-19T18:17:52.013Z"
   },
   {
    "duration": 180,
    "start_time": "2021-11-19T18:42:07.253Z"
   },
   {
    "duration": 185,
    "start_time": "2021-11-19T18:42:29.599Z"
   },
   {
    "duration": 172,
    "start_time": "2021-11-19T18:43:04.285Z"
   },
   {
    "duration": 163,
    "start_time": "2021-11-19T18:43:13.907Z"
   },
   {
    "duration": 160,
    "start_time": "2021-11-19T18:43:21.478Z"
   },
   {
    "duration": 1197,
    "start_time": "2021-11-19T18:52:00.548Z"
   },
   {
    "duration": 476,
    "start_time": "2021-11-19T18:52:34.171Z"
   },
   {
    "duration": 494,
    "start_time": "2021-11-19T18:52:44.093Z"
   },
   {
    "duration": 124,
    "start_time": "2021-11-19T18:53:01.345Z"
   },
   {
    "duration": 156,
    "start_time": "2021-11-19T18:54:08.332Z"
   },
   {
    "duration": 155,
    "start_time": "2021-11-19T18:54:54.666Z"
   },
   {
    "duration": 561,
    "start_time": "2021-11-19T18:54:59.941Z"
   },
   {
    "duration": 472,
    "start_time": "2021-11-19T18:55:11.240Z"
   },
   {
    "duration": 483,
    "start_time": "2021-11-19T18:55:14.287Z"
   },
   {
    "duration": 161,
    "start_time": "2021-11-19T18:55:22.134Z"
   },
   {
    "duration": 165,
    "start_time": "2021-11-19T18:55:55.337Z"
   },
   {
    "duration": 171,
    "start_time": "2021-11-19T19:02:44.204Z"
   },
   {
    "duration": 166,
    "start_time": "2021-11-19T19:02:58.550Z"
   },
   {
    "duration": 247,
    "start_time": "2021-11-19T19:03:30.794Z"
   },
   {
    "duration": 502,
    "start_time": "2021-11-19T19:17:23.775Z"
   },
   {
    "duration": 182,
    "start_time": "2021-11-19T19:17:44.766Z"
   },
   {
    "duration": 1629,
    "start_time": "2021-11-19T19:21:37.016Z"
   },
   {
    "duration": 1517,
    "start_time": "2021-11-19T19:21:56.702Z"
   },
   {
    "duration": 193,
    "start_time": "2021-11-19T19:23:13.944Z"
   },
   {
    "duration": 539,
    "start_time": "2021-11-19T19:29:27.813Z"
   },
   {
    "duration": 469,
    "start_time": "2021-11-19T19:29:44.522Z"
   },
   {
    "duration": 5,
    "start_time": "2021-11-19T19:30:30.859Z"
   },
   {
    "duration": 773,
    "start_time": "2021-11-19T19:30:36.366Z"
   },
   {
    "duration": 1271,
    "start_time": "2021-11-19T19:31:11.560Z"
   },
   {
    "duration": 569,
    "start_time": "2021-11-19T19:31:12.834Z"
   },
   {
    "duration": 195,
    "start_time": "2021-11-19T19:31:13.406Z"
   },
   {
    "duration": 231,
    "start_time": "2021-11-19T19:31:13.604Z"
   },
   {
    "duration": 147,
    "start_time": "2021-11-19T19:31:13.837Z"
   },
   {
    "duration": 206,
    "start_time": "2021-11-19T19:31:13.986Z"
   },
   {
    "duration": 85,
    "start_time": "2021-11-19T19:31:14.194Z"
   },
   {
    "duration": 48,
    "start_time": "2021-11-19T19:31:14.300Z"
   },
   {
    "duration": 21,
    "start_time": "2021-11-19T19:31:14.352Z"
   },
   {
    "duration": 29,
    "start_time": "2021-11-19T19:31:14.377Z"
   },
   {
    "duration": 49,
    "start_time": "2021-11-19T19:31:14.409Z"
   },
   {
    "duration": 20,
    "start_time": "2021-11-19T19:31:14.460Z"
   },
   {
    "duration": 921,
    "start_time": "2021-11-19T19:31:14.484Z"
   },
   {
    "duration": 518,
    "start_time": "2021-11-19T19:31:47.714Z"
   },
   {
    "duration": 194,
    "start_time": "2021-11-19T19:31:56.017Z"
   },
   {
    "duration": 184,
    "start_time": "2021-11-19T19:32:15.367Z"
   },
   {
    "duration": 696,
    "start_time": "2021-11-19T19:32:43.878Z"
   },
   {
    "duration": 718,
    "start_time": "2021-11-19T19:32:59.953Z"
   },
   {
    "duration": 1589,
    "start_time": "2021-11-19T19:36:29.898Z"
   },
   {
    "duration": 4,
    "start_time": "2021-11-19T19:37:34.052Z"
   },
   {
    "duration": 484,
    "start_time": "2021-11-19T19:39:41.873Z"
   },
   {
    "duration": 502,
    "start_time": "2021-11-19T19:39:58.971Z"
   },
   {
    "duration": 574,
    "start_time": "2021-11-19T19:40:10.791Z"
   },
   {
    "duration": 475,
    "start_time": "2021-11-19T19:42:03.590Z"
   },
   {
    "duration": 473,
    "start_time": "2021-11-19T19:42:39.666Z"
   },
   {
    "duration": 483,
    "start_time": "2021-11-19T19:44:55.280Z"
   },
   {
    "duration": 468,
    "start_time": "2021-11-19T19:45:28.454Z"
   },
   {
    "duration": 464,
    "start_time": "2021-11-19T19:45:32.325Z"
   },
   {
    "duration": 175,
    "start_time": "2021-11-19T19:45:37.969Z"
   },
   {
    "duration": 163,
    "start_time": "2021-11-19T19:46:26.880Z"
   },
   {
    "duration": 1358,
    "start_time": "2021-11-19T19:49:10.913Z"
   },
   {
    "duration": 228,
    "start_time": "2021-11-19T19:50:18.532Z"
   },
   {
    "duration": 1394,
    "start_time": "2021-11-19T19:50:39.985Z"
   },
   {
    "duration": 148,
    "start_time": "2021-11-19T19:51:21.467Z"
   },
   {
    "duration": 146,
    "start_time": "2021-11-19T19:51:42.922Z"
   },
   {
    "duration": 147,
    "start_time": "2021-11-19T19:51:54.194Z"
   },
   {
    "duration": 589,
    "start_time": "2021-11-19T19:52:01.400Z"
   },
   {
    "duration": 159,
    "start_time": "2021-11-19T19:52:57.611Z"
   },
   {
    "duration": 158,
    "start_time": "2021-11-19T19:53:13.710Z"
   },
   {
    "duration": 150,
    "start_time": "2021-11-19T19:53:24.607Z"
   },
   {
    "duration": 133,
    "start_time": "2021-11-19T19:53:33.249Z"
   },
   {
    "duration": 1504,
    "start_time": "2021-11-19T19:53:49.879Z"
   },
   {
    "duration": 145,
    "start_time": "2021-11-19T19:53:58.957Z"
   },
   {
    "duration": 8861,
    "start_time": "2021-11-19T19:54:09.187Z"
   },
   {
    "duration": 521,
    "start_time": "2021-11-19T19:55:04.406Z"
   },
   {
    "duration": 8527,
    "start_time": "2021-11-19T19:55:16.520Z"
   },
   {
    "duration": 138,
    "start_time": "2021-11-19T19:55:32.278Z"
   },
   {
    "duration": 183,
    "start_time": "2021-11-19T20:00:43.737Z"
   },
   {
    "duration": 163,
    "start_time": "2021-11-19T20:01:13.398Z"
   },
   {
    "duration": 525,
    "start_time": "2021-11-19T20:01:29.984Z"
   },
   {
    "duration": 484,
    "start_time": "2021-11-19T20:02:36.870Z"
   },
   {
    "duration": 169,
    "start_time": "2021-11-19T20:03:34.168Z"
   },
   {
    "duration": 166,
    "start_time": "2021-11-19T20:04:58.000Z"
   },
   {
    "duration": 143,
    "start_time": "2021-11-19T20:05:21.191Z"
   },
   {
    "duration": 120,
    "start_time": "2021-11-19T20:05:59.668Z"
   },
   {
    "duration": 473,
    "start_time": "2021-11-19T20:06:07.300Z"
   },
   {
    "duration": 134,
    "start_time": "2021-11-19T20:06:16.602Z"
   },
   {
    "duration": 139,
    "start_time": "2021-11-19T20:06:22.707Z"
   },
   {
    "duration": 377,
    "start_time": "2021-11-20T09:43:39.572Z"
   },
   {
    "duration": 950,
    "start_time": "2021-11-20T09:43:45.206Z"
   },
   {
    "duration": 408,
    "start_time": "2021-11-20T09:43:46.158Z"
   },
   {
    "duration": 123,
    "start_time": "2021-11-20T09:43:46.570Z"
   },
   {
    "duration": 151,
    "start_time": "2021-11-20T09:43:46.695Z"
   },
   {
    "duration": 94,
    "start_time": "2021-11-20T09:43:46.847Z"
   },
   {
    "duration": 133,
    "start_time": "2021-11-20T09:43:46.943Z"
   },
   {
    "duration": 76,
    "start_time": "2021-11-20T09:43:47.078Z"
   },
   {
    "duration": 32,
    "start_time": "2021-11-20T09:43:47.155Z"
   },
   {
    "duration": 26,
    "start_time": "2021-11-20T09:43:47.189Z"
   },
   {
    "duration": 5,
    "start_time": "2021-11-20T09:43:47.216Z"
   },
   {
    "duration": 20,
    "start_time": "2021-11-20T09:43:47.223Z"
   },
   {
    "duration": 7,
    "start_time": "2021-11-20T09:43:47.245Z"
   },
   {
    "duration": 574,
    "start_time": "2021-11-20T09:43:47.254Z"
   },
   {
    "duration": 462,
    "start_time": "2021-11-20T09:46:42.460Z"
   },
   {
    "duration": 325,
    "start_time": "2021-11-20T09:47:17.513Z"
   },
   {
    "duration": 142,
    "start_time": "2021-11-20T09:48:19.596Z"
   },
   {
    "duration": 152,
    "start_time": "2021-11-20T09:48:31.205Z"
   },
   {
    "duration": 256,
    "start_time": "2021-11-20T09:49:18.424Z"
   },
   {
    "duration": 382,
    "start_time": "2021-11-20T09:49:39.162Z"
   },
   {
    "duration": 707,
    "start_time": "2021-11-20T09:52:19.940Z"
   },
   {
    "duration": 1746,
    "start_time": "2021-11-20T09:52:28.356Z"
   },
   {
    "duration": 6004,
    "start_time": "2021-11-20T09:53:06.003Z"
   },
   {
    "duration": 5111,
    "start_time": "2021-11-20T09:53:39.984Z"
   },
   {
    "duration": 5037,
    "start_time": "2021-11-20T09:54:18.544Z"
   },
   {
    "duration": 5187,
    "start_time": "2021-11-20T09:54:53.243Z"
   },
   {
    "duration": 205,
    "start_time": "2021-11-20T09:55:48.343Z"
   },
   {
    "duration": 11665,
    "start_time": "2021-11-20T09:57:01.545Z"
   },
   {
    "duration": 11369,
    "start_time": "2021-11-20T09:57:25.489Z"
   },
   {
    "duration": 12039,
    "start_time": "2021-11-20T09:58:03.566Z"
   },
   {
    "duration": 5161,
    "start_time": "2021-11-20T09:58:20.213Z"
   },
   {
    "duration": 5545,
    "start_time": "2021-11-20T09:59:09.284Z"
   },
   {
    "duration": 346,
    "start_time": "2021-11-20T10:00:16.996Z"
   },
   {
    "duration": 537,
    "start_time": "2021-11-20T10:03:12.138Z"
   },
   {
    "duration": 427,
    "start_time": "2021-11-20T10:03:52.140Z"
   },
   {
    "duration": 106,
    "start_time": "2021-11-20T10:04:46.461Z"
   },
   {
    "duration": 100,
    "start_time": "2021-11-20T10:07:49.058Z"
   },
   {
    "duration": 113,
    "start_time": "2021-11-20T10:08:18.804Z"
   },
   {
    "duration": 596,
    "start_time": "2021-11-20T11:34:07.007Z"
   },
   {
    "duration": 907,
    "start_time": "2021-11-20T11:34:19.980Z"
   },
   {
    "duration": 404,
    "start_time": "2021-11-20T11:34:20.890Z"
   },
   {
    "duration": 132,
    "start_time": "2021-11-20T11:34:21.297Z"
   },
   {
    "duration": 145,
    "start_time": "2021-11-20T11:34:21.431Z"
   },
   {
    "duration": 91,
    "start_time": "2021-11-20T11:34:21.578Z"
   },
   {
    "duration": 134,
    "start_time": "2021-11-20T11:34:21.671Z"
   },
   {
    "duration": 72,
    "start_time": "2021-11-20T11:34:21.807Z"
   },
   {
    "duration": 34,
    "start_time": "2021-11-20T11:34:21.882Z"
   },
   {
    "duration": 14,
    "start_time": "2021-11-20T11:34:21.918Z"
   },
   {
    "duration": 29,
    "start_time": "2021-11-20T11:34:21.935Z"
   },
   {
    "duration": 18,
    "start_time": "2021-11-20T11:34:21.966Z"
   },
   {
    "duration": 8,
    "start_time": "2021-11-20T11:34:21.986Z"
   },
   {
    "duration": 447,
    "start_time": "2021-11-20T11:34:21.995Z"
   },
   {
    "duration": 496,
    "start_time": "2021-11-20T11:49:38.262Z"
   },
   {
    "duration": 2254,
    "start_time": "2021-11-20T11:51:47.269Z"
   },
   {
    "duration": 2175,
    "start_time": "2021-11-20T11:52:15.020Z"
   },
   {
    "duration": 443,
    "start_time": "2021-11-20T11:52:24.047Z"
   },
   {
    "duration": 421,
    "start_time": "2021-11-20T11:52:28.535Z"
   },
   {
    "duration": 440,
    "start_time": "2021-11-20T11:52:44.226Z"
   },
   {
    "duration": 6487,
    "start_time": "2021-11-20T11:53:55.894Z"
   },
   {
    "duration": 6280,
    "start_time": "2021-11-20T11:54:13.558Z"
   },
   {
    "duration": 465,
    "start_time": "2021-11-20T11:54:43.205Z"
   },
   {
    "duration": 432,
    "start_time": "2021-11-20T11:56:00.520Z"
   },
   {
    "duration": 446,
    "start_time": "2021-11-20T11:56:11.661Z"
   },
   {
    "duration": 431,
    "start_time": "2021-11-20T11:56:18.988Z"
   },
   {
    "duration": 457,
    "start_time": "2021-11-20T11:56:45.752Z"
   },
   {
    "duration": 3747,
    "start_time": "2021-11-20T11:57:00.812Z"
   },
   {
    "duration": 488,
    "start_time": "2021-11-20T11:57:11.961Z"
   },
   {
    "duration": 427,
    "start_time": "2021-11-20T11:57:26.702Z"
   },
   {
    "duration": 3163,
    "start_time": "2021-11-20T11:57:44.865Z"
   },
   {
    "duration": 3212,
    "start_time": "2021-11-20T11:57:53.803Z"
   },
   {
    "duration": 10022,
    "start_time": "2021-11-20T11:58:25.923Z"
   },
   {
    "duration": 19663,
    "start_time": "2021-11-20T12:01:35.255Z"
   },
   {
    "duration": 903,
    "start_time": "2021-11-20T12:04:26.254Z"
   },
   {
    "duration": 420,
    "start_time": "2021-11-20T12:04:27.159Z"
   },
   {
    "duration": 136,
    "start_time": "2021-11-20T12:04:27.581Z"
   },
   {
    "duration": 165,
    "start_time": "2021-11-20T12:04:27.719Z"
   },
   {
    "duration": 95,
    "start_time": "2021-11-20T12:04:27.885Z"
   },
   {
    "duration": 149,
    "start_time": "2021-11-20T12:04:27.982Z"
   },
   {
    "duration": 86,
    "start_time": "2021-11-20T12:04:28.133Z"
   },
   {
    "duration": 30,
    "start_time": "2021-11-20T12:04:28.220Z"
   },
   {
    "duration": 30,
    "start_time": "2021-11-20T12:04:28.252Z"
   },
   {
    "duration": 20,
    "start_time": "2021-11-20T12:04:28.284Z"
   },
   {
    "duration": 49,
    "start_time": "2021-11-20T12:04:28.306Z"
   },
   {
    "duration": 24,
    "start_time": "2021-11-20T12:04:28.357Z"
   },
   {
    "duration": 157,
    "start_time": "2021-11-20T12:04:28.382Z"
   },
   {
    "duration": 114,
    "start_time": "2021-11-20T12:05:08.783Z"
   },
   {
    "duration": 139,
    "start_time": "2021-11-20T12:05:24.738Z"
   },
   {
    "duration": 110,
    "start_time": "2021-11-20T12:05:47.807Z"
   },
   {
    "duration": 123,
    "start_time": "2021-11-20T12:06:21.613Z"
   },
   {
    "duration": 125,
    "start_time": "2021-11-20T12:07:27.840Z"
   },
   {
    "duration": 122,
    "start_time": "2021-11-20T12:09:31.073Z"
   },
   {
    "duration": 114,
    "start_time": "2021-11-20T12:10:16.718Z"
   },
   {
    "duration": 505,
    "start_time": "2021-11-20T12:11:12.874Z"
   },
   {
    "duration": 116,
    "start_time": "2021-11-20T12:12:26.736Z"
   },
   {
    "duration": 125,
    "start_time": "2021-11-20T12:13:31.162Z"
   },
   {
    "duration": 353,
    "start_time": "2021-11-21T18:03:43.491Z"
   },
   {
    "duration": 1182,
    "start_time": "2021-11-21T18:03:49.272Z"
   },
   {
    "duration": 525,
    "start_time": "2021-11-21T18:03:50.457Z"
   },
   {
    "duration": 173,
    "start_time": "2021-11-21T18:03:50.984Z"
   },
   {
    "duration": 232,
    "start_time": "2021-11-21T18:03:51.159Z"
   },
   {
    "duration": 144,
    "start_time": "2021-11-21T18:03:51.393Z"
   },
   {
    "duration": 208,
    "start_time": "2021-11-21T18:03:51.540Z"
   },
   {
    "duration": 103,
    "start_time": "2021-11-21T18:03:51.751Z"
   },
   {
    "duration": 45,
    "start_time": "2021-11-21T18:03:51.857Z"
   },
   {
    "duration": 39,
    "start_time": "2021-11-21T18:03:51.904Z"
   },
   {
    "duration": 5,
    "start_time": "2021-11-21T18:03:51.946Z"
   },
   {
    "duration": 32,
    "start_time": "2021-11-21T18:03:51.953Z"
   },
   {
    "duration": 9,
    "start_time": "2021-11-21T18:03:51.987Z"
   },
   {
    "duration": 207,
    "start_time": "2021-11-21T18:03:52.030Z"
   },
   {
    "duration": 186,
    "start_time": "2021-11-21T18:04:25.113Z"
   },
   {
    "duration": 160,
    "start_time": "2021-11-21T18:04:45.108Z"
   },
   {
    "duration": 161,
    "start_time": "2021-11-21T18:05:02.209Z"
   },
   {
    "duration": 161,
    "start_time": "2021-11-21T18:05:18.083Z"
   },
   {
    "duration": 172,
    "start_time": "2021-11-21T18:08:54.985Z"
   },
   {
    "duration": 145,
    "start_time": "2021-11-21T18:09:24.735Z"
   },
   {
    "duration": 1206,
    "start_time": "2021-11-21T18:09:34.470Z"
   },
   {
    "duration": 548,
    "start_time": "2021-11-21T18:09:35.679Z"
   },
   {
    "duration": 200,
    "start_time": "2021-11-21T18:09:36.230Z"
   },
   {
    "duration": 228,
    "start_time": "2021-11-21T18:09:36.434Z"
   },
   {
    "duration": 155,
    "start_time": "2021-11-21T18:09:36.665Z"
   },
   {
    "duration": 201,
    "start_time": "2021-11-21T18:09:36.829Z"
   },
   {
    "duration": 79,
    "start_time": "2021-11-21T18:09:37.032Z"
   },
   {
    "duration": 56,
    "start_time": "2021-11-21T18:09:37.114Z"
   },
   {
    "duration": 20,
    "start_time": "2021-11-21T18:09:37.172Z"
   },
   {
    "duration": 35,
    "start_time": "2021-11-21T18:09:37.195Z"
   },
   {
    "duration": 27,
    "start_time": "2021-11-21T18:09:37.232Z"
   },
   {
    "duration": 8,
    "start_time": "2021-11-21T18:09:37.261Z"
   },
   {
    "duration": 201,
    "start_time": "2021-11-21T18:09:37.272Z"
   },
   {
    "duration": 167,
    "start_time": "2021-11-21T18:17:02.521Z"
   },
   {
    "duration": 175,
    "start_time": "2021-11-21T18:17:33.552Z"
   },
   {
    "duration": 177,
    "start_time": "2021-11-21T18:21:05.706Z"
   },
   {
    "duration": 161,
    "start_time": "2021-11-21T18:21:51.416Z"
   },
   {
    "duration": 161,
    "start_time": "2021-11-21T18:23:40.790Z"
   },
   {
    "duration": 155,
    "start_time": "2021-11-21T18:23:59.779Z"
   },
   {
    "duration": 778,
    "start_time": "2021-11-21T18:24:14.696Z"
   },
   {
    "duration": 628,
    "start_time": "2021-11-21T18:26:20.819Z"
   },
   {
    "duration": 593,
    "start_time": "2021-11-21T18:26:41.705Z"
   },
   {
    "duration": 604,
    "start_time": "2021-11-21T18:27:34.546Z"
   },
   {
    "duration": 601,
    "start_time": "2021-11-21T18:28:49.442Z"
   },
   {
    "duration": 150,
    "start_time": "2021-11-21T18:31:24.509Z"
   },
   {
    "duration": 133,
    "start_time": "2021-11-21T18:31:33.860Z"
   },
   {
    "duration": 154,
    "start_time": "2021-11-21T18:31:40.007Z"
   },
   {
    "duration": 169,
    "start_time": "2021-11-21T18:31:53.667Z"
   },
   {
    "duration": 594,
    "start_time": "2021-11-21T18:37:58.692Z"
   },
   {
    "duration": 1196,
    "start_time": "2021-11-21T18:38:12.042Z"
   },
   {
    "duration": 545,
    "start_time": "2021-11-21T18:38:13.241Z"
   },
   {
    "duration": 182,
    "start_time": "2021-11-21T18:38:13.790Z"
   },
   {
    "duration": 224,
    "start_time": "2021-11-21T18:38:13.975Z"
   },
   {
    "duration": 153,
    "start_time": "2021-11-21T18:38:14.202Z"
   },
   {
    "duration": 201,
    "start_time": "2021-11-21T18:38:14.357Z"
   },
   {
    "duration": 97,
    "start_time": "2021-11-21T18:38:14.561Z"
   },
   {
    "duration": 43,
    "start_time": "2021-11-21T18:38:14.662Z"
   },
   {
    "duration": 34,
    "start_time": "2021-11-21T18:38:14.708Z"
   },
   {
    "duration": 15,
    "start_time": "2021-11-21T18:38:14.744Z"
   },
   {
    "duration": 41,
    "start_time": "2021-11-21T18:38:14.761Z"
   },
   {
    "duration": 12,
    "start_time": "2021-11-21T18:38:14.804Z"
   },
   {
    "duration": 687,
    "start_time": "2021-11-21T18:38:14.818Z"
   },
   {
    "duration": 190,
    "start_time": "2021-11-21T18:38:40.540Z"
   },
   {
    "duration": 582,
    "start_time": "2021-11-22T16:44:34.595Z"
   },
   {
    "duration": 1175,
    "start_time": "2021-11-22T16:44:42.008Z"
   },
   {
    "duration": 567,
    "start_time": "2021-11-22T16:44:43.186Z"
   },
   {
    "duration": 193,
    "start_time": "2021-11-22T16:44:43.757Z"
   },
   {
    "duration": 253,
    "start_time": "2021-11-22T16:44:43.963Z"
   },
   {
    "duration": 148,
    "start_time": "2021-11-22T16:44:44.219Z"
   },
   {
    "duration": 204,
    "start_time": "2021-11-22T16:44:44.370Z"
   },
   {
    "duration": 95,
    "start_time": "2021-11-22T16:44:44.577Z"
   },
   {
    "duration": 45,
    "start_time": "2021-11-22T16:44:44.676Z"
   },
   {
    "duration": 47,
    "start_time": "2021-11-22T16:44:44.724Z"
   },
   {
    "duration": 10,
    "start_time": "2021-11-22T16:44:44.774Z"
   },
   {
    "duration": 27,
    "start_time": "2021-11-22T16:44:44.786Z"
   },
   {
    "duration": 8,
    "start_time": "2021-11-22T16:44:44.815Z"
   },
   {
    "duration": 222,
    "start_time": "2021-11-22T16:44:44.826Z"
   },
   {
    "duration": 167,
    "start_time": "2021-11-22T16:51:04.715Z"
   },
   {
    "duration": 161,
    "start_time": "2021-11-22T16:51:26.235Z"
   },
   {
    "duration": 188,
    "start_time": "2021-11-22T18:10:42.933Z"
   },
   {
    "duration": 1264,
    "start_time": "2021-11-22T18:11:23.866Z"
   },
   {
    "duration": 154,
    "start_time": "2021-11-22T18:11:41.659Z"
   },
   {
    "duration": 630,
    "start_time": "2021-11-22T18:13:08.898Z"
   },
   {
    "duration": 4,
    "start_time": "2021-11-22T18:13:37.338Z"
   },
   {
    "duration": 153,
    "start_time": "2021-11-22T18:13:42.273Z"
   },
   {
    "duration": 481,
    "start_time": "2021-11-22T18:14:23.749Z"
   },
   {
    "duration": 13341,
    "start_time": "2021-11-22T18:14:36.989Z"
   },
   {
    "duration": 13106,
    "start_time": "2021-11-22T18:15:02.148Z"
   },
   {
    "duration": 7480,
    "start_time": "2021-11-22T18:15:54.589Z"
   },
   {
    "duration": 18810,
    "start_time": "2021-11-22T18:17:35.332Z"
   },
   {
    "duration": 8234,
    "start_time": "2021-11-22T18:18:21.099Z"
   },
   {
    "duration": 182,
    "start_time": "2021-11-22T18:21:00.219Z"
   },
   {
    "duration": 250,
    "start_time": "2021-11-22T18:21:25.088Z"
   },
   {
    "duration": 209,
    "start_time": "2021-11-22T18:21:47.664Z"
   },
   {
    "duration": 263,
    "start_time": "2021-11-22T18:22:01.336Z"
   },
   {
    "duration": 6598,
    "start_time": "2021-11-22T18:22:31.151Z"
   },
   {
    "duration": 6725,
    "start_time": "2021-11-22T18:34:39.296Z"
   },
   {
    "duration": 6679,
    "start_time": "2021-11-22T18:35:02.994Z"
   },
   {
    "duration": 1318,
    "start_time": "2021-11-22T18:35:51.241Z"
   },
   {
    "duration": 556,
    "start_time": "2021-11-22T18:35:52.564Z"
   },
   {
    "duration": 199,
    "start_time": "2021-11-22T18:35:53.123Z"
   },
   {
    "duration": 243,
    "start_time": "2021-11-22T18:35:53.325Z"
   },
   {
    "duration": 191,
    "start_time": "2021-11-22T18:35:53.570Z"
   },
   {
    "duration": 219,
    "start_time": "2021-11-22T18:35:53.763Z"
   },
   {
    "duration": 95,
    "start_time": "2021-11-22T18:35:53.985Z"
   },
   {
    "duration": 46,
    "start_time": "2021-11-22T18:35:54.083Z"
   },
   {
    "duration": 43,
    "start_time": "2021-11-22T18:35:54.132Z"
   },
   {
    "duration": 10,
    "start_time": "2021-11-22T18:35:54.178Z"
   },
   {
    "duration": 27,
    "start_time": "2021-11-22T18:35:54.191Z"
   },
   {
    "duration": 9,
    "start_time": "2021-11-22T18:35:54.221Z"
   },
   {
    "duration": 6480,
    "start_time": "2021-11-22T18:35:54.259Z"
   },
   {
    "duration": 6872,
    "start_time": "2021-11-22T18:36:51.755Z"
   },
   {
    "duration": 5994,
    "start_time": "2021-11-22T18:37:14.291Z"
   },
   {
    "duration": 720,
    "start_time": "2021-11-22T18:38:27.437Z"
   },
   {
    "duration": 1428,
    "start_time": "2021-11-22T18:38:37.080Z"
   },
   {
    "duration": 547,
    "start_time": "2021-11-22T18:38:38.511Z"
   },
   {
    "duration": 188,
    "start_time": "2021-11-22T18:38:39.062Z"
   },
   {
    "duration": 247,
    "start_time": "2021-11-22T18:38:39.252Z"
   },
   {
    "duration": 144,
    "start_time": "2021-11-22T18:38:39.501Z"
   },
   {
    "duration": 233,
    "start_time": "2021-11-22T18:38:39.647Z"
   },
   {
    "duration": 133,
    "start_time": "2021-11-22T18:38:39.884Z"
   },
   {
    "duration": 78,
    "start_time": "2021-11-22T18:38:40.023Z"
   },
   {
    "duration": 31,
    "start_time": "2021-11-22T18:38:40.105Z"
   },
   {
    "duration": 49,
    "start_time": "2021-11-22T18:38:40.139Z"
   },
   {
    "duration": 17,
    "start_time": "2021-11-22T18:38:40.191Z"
   },
   {
    "duration": 967,
    "start_time": "2021-11-22T18:38:40.210Z"
   },
   {
    "duration": 18149,
    "start_time": "2021-11-22T18:39:29.602Z"
   },
   {
    "duration": 12283,
    "start_time": "2021-11-22T18:40:26.367Z"
   },
   {
    "duration": 480,
    "start_time": "2021-11-22T18:41:19.078Z"
   },
   {
    "duration": 1448,
    "start_time": "2021-11-22T18:41:43.949Z"
   },
   {
    "duration": 585,
    "start_time": "2021-11-22T18:41:45.401Z"
   },
   {
    "duration": 200,
    "start_time": "2021-11-22T18:41:45.989Z"
   },
   {
    "duration": 245,
    "start_time": "2021-11-22T18:41:46.193Z"
   },
   {
    "duration": 172,
    "start_time": "2021-11-22T18:41:46.441Z"
   },
   {
    "duration": 250,
    "start_time": "2021-11-22T18:41:46.616Z"
   },
   {
    "duration": 103,
    "start_time": "2021-11-22T18:41:46.869Z"
   },
   {
    "duration": 45,
    "start_time": "2021-11-22T18:41:46.977Z"
   },
   {
    "duration": 50,
    "start_time": "2021-11-22T18:41:47.026Z"
   },
   {
    "duration": 56,
    "start_time": "2021-11-22T18:41:47.079Z"
   },
   {
    "duration": 9,
    "start_time": "2021-11-22T18:41:47.138Z"
   },
   {
    "duration": 12540,
    "start_time": "2021-11-22T18:41:47.150Z"
   },
   {
    "duration": 15719,
    "start_time": "2021-11-22T18:43:30.352Z"
   },
   {
    "duration": 918,
    "start_time": "2021-11-22T19:13:53.797Z"
   },
   {
    "duration": 1298,
    "start_time": "2021-11-22T19:14:10.406Z"
   },
   {
    "duration": 526,
    "start_time": "2021-11-22T19:14:11.707Z"
   },
   {
    "duration": 172,
    "start_time": "2021-11-22T19:14:12.237Z"
   },
   {
    "duration": 265,
    "start_time": "2021-11-22T19:14:12.412Z"
   },
   {
    "duration": 162,
    "start_time": "2021-11-22T19:14:12.680Z"
   },
   {
    "duration": 205,
    "start_time": "2021-11-22T19:14:12.845Z"
   },
   {
    "duration": 118,
    "start_time": "2021-11-22T19:14:13.060Z"
   },
   {
    "duration": 81,
    "start_time": "2021-11-22T19:14:13.183Z"
   },
   {
    "duration": 31,
    "start_time": "2021-11-22T19:14:13.268Z"
   },
   {
    "duration": 50,
    "start_time": "2021-11-22T19:14:13.302Z"
   },
   {
    "duration": 10,
    "start_time": "2021-11-22T19:14:13.354Z"
   },
   {
    "duration": 1644,
    "start_time": "2021-11-22T19:14:13.366Z"
   },
   {
    "duration": 481,
    "start_time": "2021-11-22T19:14:14.533Z"
   },
   {
    "duration": 12830,
    "start_time": "2021-11-22T19:26:13.461Z"
   },
   {
    "duration": 1017,
    "start_time": "2021-11-22T19:26:44.532Z"
   },
   {
    "duration": 988,
    "start_time": "2021-11-22T19:26:51.380Z"
   },
   {
    "duration": 346,
    "start_time": "2021-11-22T19:27:39.027Z"
   },
   {
    "duration": 361,
    "start_time": "2021-11-22T19:28:17.677Z"
   },
   {
    "duration": 354,
    "start_time": "2021-11-22T19:29:40.531Z"
   },
   {
    "duration": 341,
    "start_time": "2021-11-22T19:29:59.176Z"
   },
   {
    "duration": 8228,
    "start_time": "2021-11-22T19:30:16.835Z"
   },
   {
    "duration": 10,
    "start_time": "2021-11-22T19:34:20.201Z"
   },
   {
    "duration": 7046,
    "start_time": "2021-11-22T19:34:28.418Z"
   },
   {
    "duration": 6322,
    "start_time": "2021-11-22T19:36:45.437Z"
   },
   {
    "duration": 149,
    "start_time": "2021-11-22T19:38:07.373Z"
   },
   {
    "duration": 30,
    "start_time": "2021-11-22T19:38:21.833Z"
   },
   {
    "duration": 27,
    "start_time": "2021-11-22T19:38:36.394Z"
   },
   {
    "duration": 11,
    "start_time": "2021-11-22T19:38:56.103Z"
   },
   {
    "duration": 1238,
    "start_time": "2021-11-22T19:39:21.251Z"
   },
   {
    "duration": 528,
    "start_time": "2021-11-22T19:39:22.491Z"
   },
   {
    "duration": 206,
    "start_time": "2021-11-22T19:39:23.023Z"
   },
   {
    "duration": 181,
    "start_time": "2021-11-22T19:39:23.231Z"
   },
   {
    "duration": 61,
    "start_time": "2021-11-22T19:39:23.414Z"
   },
   {
    "duration": 183,
    "start_time": "2021-11-22T19:39:23.477Z"
   },
   {
    "duration": 45,
    "start_time": "2021-11-22T19:39:23.663Z"
   },
   {
    "duration": 24,
    "start_time": "2021-11-22T19:39:23.711Z"
   },
   {
    "duration": 43,
    "start_time": "2021-11-22T19:39:23.738Z"
   },
   {
    "duration": 15,
    "start_time": "2021-11-22T19:39:23.784Z"
   },
   {
    "duration": 6617,
    "start_time": "2021-11-22T19:39:23.802Z"
   },
   {
    "duration": 7637,
    "start_time": "2021-11-22T19:40:11.025Z"
   },
   {
    "duration": 10,
    "start_time": "2021-11-22T19:42:35.661Z"
   },
   {
    "duration": 29,
    "start_time": "2021-11-22T19:42:54.113Z"
   },
   {
    "duration": 19,
    "start_time": "2021-11-22T19:42:54.883Z"
   },
   {
    "duration": 375,
    "start_time": "2021-11-22T19:44:31.769Z"
   },
   {
    "duration": 157,
    "start_time": "2021-11-22T19:44:59.579Z"
   },
   {
    "duration": 1267,
    "start_time": "2021-11-22T19:45:08.582Z"
   },
   {
    "duration": 535,
    "start_time": "2021-11-22T19:45:09.852Z"
   },
   {
    "duration": 170,
    "start_time": "2021-11-22T19:45:10.390Z"
   },
   {
    "duration": 222,
    "start_time": "2021-11-22T19:45:10.563Z"
   },
   {
    "duration": 143,
    "start_time": "2021-11-22T19:45:10.787Z"
   },
   {
    "duration": 214,
    "start_time": "2021-11-22T19:45:10.933Z"
   },
   {
    "duration": 124,
    "start_time": "2021-11-22T19:45:11.150Z"
   },
   {
    "duration": 45,
    "start_time": "2021-11-22T19:45:11.279Z"
   },
   {
    "duration": 36,
    "start_time": "2021-11-22T19:45:11.327Z"
   },
   {
    "duration": 25,
    "start_time": "2021-11-22T19:45:11.366Z"
   },
   {
    "duration": 196,
    "start_time": "2021-11-22T19:45:11.394Z"
   },
   {
    "duration": 196,
    "start_time": "2021-11-22T19:45:52.933Z"
   },
   {
    "duration": 195,
    "start_time": "2021-11-22T19:46:26.878Z"
   },
   {
    "duration": 148,
    "start_time": "2021-11-22T19:46:38.066Z"
   },
   {
    "duration": 860,
    "start_time": "2021-11-22T19:47:26.794Z"
   },
   {
    "duration": 870,
    "start_time": "2021-11-22T19:48:13.609Z"
   },
   {
    "duration": 684,
    "start_time": "2021-11-22T19:48:22.064Z"
   },
   {
    "duration": 786,
    "start_time": "2021-11-22T19:48:53.164Z"
   },
   {
    "duration": 1056,
    "start_time": "2021-11-22T19:49:39.843Z"
   },
   {
    "duration": 146,
    "start_time": "2021-11-22T19:49:59.433Z"
   },
   {
    "duration": 143,
    "start_time": "2021-11-22T19:50:08.127Z"
   },
   {
    "duration": 157,
    "start_time": "2021-11-22T19:50:26.787Z"
   },
   {
    "duration": 139,
    "start_time": "2021-11-22T19:50:39.320Z"
   },
   {
    "duration": 207,
    "start_time": "2021-11-22T19:50:51.135Z"
   },
   {
    "duration": 168,
    "start_time": "2021-11-22T19:51:02.164Z"
   },
   {
    "duration": 530,
    "start_time": "2021-11-22T19:51:37.557Z"
   },
   {
    "duration": 507,
    "start_time": "2021-11-22T19:52:06.237Z"
   },
   {
    "duration": 533,
    "start_time": "2021-11-22T19:53:45.650Z"
   },
   {
    "duration": 10167,
    "start_time": "2021-11-22T19:54:01.213Z"
   },
   {
    "duration": 11769,
    "start_time": "2021-11-22T19:55:32.774Z"
   },
   {
    "duration": 9746,
    "start_time": "2021-11-22T19:57:37.205Z"
   },
   {
    "duration": 10036,
    "start_time": "2021-11-22T19:58:11.391Z"
   },
   {
    "duration": 9582,
    "start_time": "2021-11-22T19:58:33.064Z"
   },
   {
    "duration": 10989,
    "start_time": "2021-11-22T19:59:28.918Z"
   },
   {
    "duration": 10601,
    "start_time": "2021-11-22T20:00:20.526Z"
   },
   {
    "duration": 9992,
    "start_time": "2021-11-22T20:00:42.796Z"
   },
   {
    "duration": 10345,
    "start_time": "2021-11-22T20:02:19.977Z"
   },
   {
    "duration": 11424,
    "start_time": "2021-11-22T20:04:32.493Z"
   },
   {
    "duration": 11192,
    "start_time": "2021-11-22T20:04:54.736Z"
   },
   {
    "duration": 11119,
    "start_time": "2021-11-22T20:05:53.767Z"
   },
   {
    "duration": 10255,
    "start_time": "2021-11-22T20:06:20.426Z"
   },
   {
    "duration": 13898,
    "start_time": "2021-11-22T20:06:47.643Z"
   },
   {
    "duration": 14577,
    "start_time": "2021-11-22T20:07:20.908Z"
   },
   {
    "duration": 8488,
    "start_time": "2021-11-22T20:07:39.523Z"
   },
   {
    "duration": 7163,
    "start_time": "2021-11-22T20:07:56.785Z"
   },
   {
    "duration": 8227,
    "start_time": "2021-11-22T20:08:05.905Z"
   },
   {
    "duration": 7440,
    "start_time": "2021-11-22T20:09:14.895Z"
   },
   {
    "duration": 9446,
    "start_time": "2021-11-22T20:09:49.152Z"
   },
   {
    "duration": 11272,
    "start_time": "2021-11-22T20:10:00.443Z"
   },
   {
    "duration": 12552,
    "start_time": "2021-11-22T20:11:35.443Z"
   },
   {
    "duration": 6779,
    "start_time": "2021-11-22T20:12:09.149Z"
   },
   {
    "duration": 1161,
    "start_time": "2021-11-22T20:13:38.913Z"
   },
   {
    "duration": 528,
    "start_time": "2021-11-22T20:13:40.076Z"
   },
   {
    "duration": 173,
    "start_time": "2021-11-22T20:13:40.607Z"
   },
   {
    "duration": 225,
    "start_time": "2021-11-22T20:13:40.783Z"
   },
   {
    "duration": 142,
    "start_time": "2021-11-22T20:13:41.010Z"
   },
   {
    "duration": 201,
    "start_time": "2021-11-22T20:13:41.158Z"
   },
   {
    "duration": 78,
    "start_time": "2021-11-22T20:13:41.361Z"
   },
   {
    "duration": 57,
    "start_time": "2021-11-22T20:13:41.442Z"
   },
   {
    "duration": 20,
    "start_time": "2021-11-22T20:13:41.501Z"
   },
   {
    "duration": 39,
    "start_time": "2021-11-22T20:13:41.523Z"
   },
   {
    "duration": 7091,
    "start_time": "2021-11-22T20:13:41.565Z"
   },
   {
    "duration": 6793,
    "start_time": "2021-11-22T20:14:07.548Z"
   },
   {
    "duration": 8056,
    "start_time": "2021-11-22T20:15:52.052Z"
   },
   {
    "duration": 7703,
    "start_time": "2021-11-22T20:16:45.247Z"
   },
   {
    "duration": 8788,
    "start_time": "2021-11-22T20:20:15.840Z"
   },
   {
    "duration": 7254,
    "start_time": "2021-11-22T20:20:53.648Z"
   },
   {
    "duration": 8522,
    "start_time": "2021-11-22T20:21:38.362Z"
   },
   {
    "duration": 1667,
    "start_time": "2021-11-22T20:22:25.265Z"
   },
   {
    "duration": 181,
    "start_time": "2021-11-22T20:23:11.228Z"
   },
   {
    "duration": 1018,
    "start_time": "2021-11-23T11:07:13.313Z"
   },
   {
    "duration": 438,
    "start_time": "2021-11-23T11:07:14.333Z"
   },
   {
    "duration": 174,
    "start_time": "2021-11-23T11:07:14.773Z"
   },
   {
    "duration": 163,
    "start_time": "2021-11-23T11:07:14.953Z"
   },
   {
    "duration": 105,
    "start_time": "2021-11-23T11:07:15.118Z"
   },
   {
    "duration": 163,
    "start_time": "2021-11-23T11:07:15.225Z"
   },
   {
    "duration": 70,
    "start_time": "2021-11-23T11:07:15.390Z"
   },
   {
    "duration": 29,
    "start_time": "2021-11-23T11:07:15.463Z"
   },
   {
    "duration": 12,
    "start_time": "2021-11-23T11:07:15.494Z"
   },
   {
    "duration": 25,
    "start_time": "2021-11-23T11:07:15.508Z"
   },
   {
    "duration": 227,
    "start_time": "2021-11-23T11:07:15.534Z"
   },
   {
    "duration": 5201,
    "start_time": "2021-11-23T11:09:30.763Z"
   },
   {
    "duration": 5901,
    "start_time": "2021-11-23T11:09:58.646Z"
   },
   {
    "duration": 5662,
    "start_time": "2021-11-23T11:11:22.343Z"
   },
   {
    "duration": 626,
    "start_time": "2021-11-23T11:11:43.549Z"
   },
   {
    "duration": 5233,
    "start_time": "2021-11-23T11:11:58.894Z"
   },
   {
    "duration": 5454,
    "start_time": "2021-11-23T11:12:15.614Z"
   },
   {
    "duration": 4982,
    "start_time": "2021-11-23T11:12:36.059Z"
   },
   {
    "duration": 4820,
    "start_time": "2021-11-23T11:13:08.030Z"
   },
   {
    "duration": 5721,
    "start_time": "2021-11-23T11:14:30.156Z"
   },
   {
    "duration": 4907,
    "start_time": "2021-11-23T11:19:25.542Z"
   },
   {
    "duration": 5581,
    "start_time": "2021-11-23T11:20:07.272Z"
   },
   {
    "duration": 130,
    "start_time": "2021-11-23T11:20:35.050Z"
   },
   {
    "duration": 5212,
    "start_time": "2021-11-23T11:20:46.087Z"
   },
   {
    "duration": 5077,
    "start_time": "2021-11-23T11:21:52.812Z"
   },
   {
    "duration": 6294,
    "start_time": "2021-11-23T11:22:42.480Z"
   },
   {
    "duration": 5130,
    "start_time": "2021-11-23T11:23:36.939Z"
   },
   {
    "duration": 5572,
    "start_time": "2021-11-23T11:24:54.250Z"
   },
   {
    "duration": 6243,
    "start_time": "2021-11-23T11:26:18.930Z"
   },
   {
    "duration": 4169,
    "start_time": "2021-11-23T11:26:39.317Z"
   },
   {
    "duration": 7680,
    "start_time": "2021-11-23T11:28:14.574Z"
   },
   {
    "duration": 7571,
    "start_time": "2021-11-23T11:28:22.517Z"
   },
   {
    "duration": 7642,
    "start_time": "2021-11-23T11:28:30.984Z"
   },
   {
    "duration": 137,
    "start_time": "2021-11-23T11:28:54.611Z"
   },
   {
    "duration": 127,
    "start_time": "2021-11-23T11:29:00.708Z"
   },
   {
    "duration": 5421,
    "start_time": "2021-11-23T11:29:09.049Z"
   },
   {
    "duration": 5782,
    "start_time": "2021-11-23T11:29:25.061Z"
   },
   {
    "duration": 5,
    "start_time": "2021-11-23T11:29:51.208Z"
   },
   {
    "duration": 8,
    "start_time": "2021-11-23T11:30:01.236Z"
   },
   {
    "duration": 5991,
    "start_time": "2021-11-23T11:30:30.941Z"
   },
   {
    "duration": 134,
    "start_time": "2021-11-23T11:35:15.416Z"
   },
   {
    "duration": 5958,
    "start_time": "2021-11-23T11:35:23.242Z"
   },
   {
    "duration": 6512,
    "start_time": "2021-11-23T11:36:19.946Z"
   },
   {
    "duration": 6115,
    "start_time": "2021-11-23T11:37:33.000Z"
   },
   {
    "duration": 104,
    "start_time": "2021-11-23T11:40:50.246Z"
   },
   {
    "duration": 101,
    "start_time": "2021-11-23T11:40:57.998Z"
   },
   {
    "duration": 122,
    "start_time": "2021-11-23T11:47:01.750Z"
   },
   {
    "duration": 476,
    "start_time": "2021-11-23T11:47:36.411Z"
   },
   {
    "duration": 96,
    "start_time": "2021-11-23T11:48:08.654Z"
   },
   {
    "duration": 102,
    "start_time": "2021-11-23T11:49:10.728Z"
   },
   {
    "duration": 444,
    "start_time": "2021-11-23T11:49:16.664Z"
   },
   {
    "duration": 426,
    "start_time": "2021-11-23T11:49:41.167Z"
   },
   {
    "duration": 126,
    "start_time": "2021-11-23T11:49:47.683Z"
   },
   {
    "duration": 100,
    "start_time": "2021-11-23T11:51:01.888Z"
   },
   {
    "duration": 117,
    "start_time": "2021-11-23T11:51:16.182Z"
   },
   {
    "duration": 184,
    "start_time": "2021-11-23T11:51:24.654Z"
   },
   {
    "duration": 156,
    "start_time": "2021-11-23T11:51:40.481Z"
   },
   {
    "duration": 163,
    "start_time": "2021-11-23T11:52:27.658Z"
   },
   {
    "duration": 173,
    "start_time": "2021-11-23T11:52:44.622Z"
   },
   {
    "duration": 150,
    "start_time": "2021-11-23T11:53:12.883Z"
   },
   {
    "duration": 138,
    "start_time": "2021-11-23T11:54:55.881Z"
   },
   {
    "duration": 8275,
    "start_time": "2021-11-23T11:55:05.251Z"
   },
   {
    "duration": 7700,
    "start_time": "2021-11-23T11:57:20.659Z"
   },
   {
    "duration": 7511,
    "start_time": "2021-11-23T11:57:31.938Z"
   },
   {
    "duration": 6,
    "start_time": "2021-11-23T11:58:28.602Z"
   },
   {
    "duration": 6,
    "start_time": "2021-11-23T13:41:43.268Z"
   },
   {
    "duration": 6,
    "start_time": "2021-11-23T14:05:41.712Z"
   },
   {
    "duration": 5,
    "start_time": "2021-11-23T14:06:05.696Z"
   },
   {
    "duration": 6,
    "start_time": "2021-11-23T14:06:14.606Z"
   },
   {
    "duration": 639,
    "start_time": "2021-11-23T14:06:51.143Z"
   },
   {
    "duration": 7486,
    "start_time": "2021-11-23T14:07:11.540Z"
   },
   {
    "duration": 7291,
    "start_time": "2021-11-23T14:10:03.859Z"
   },
   {
    "duration": 753,
    "start_time": "2021-11-23T14:11:34.899Z"
   },
   {
    "duration": 9497,
    "start_time": "2021-11-23T14:12:45.922Z"
   },
   {
    "duration": 6,
    "start_time": "2021-11-23T14:13:12.405Z"
   },
   {
    "duration": 8193,
    "start_time": "2021-11-23T14:13:51.644Z"
   },
   {
    "duration": 988,
    "start_time": "2021-11-23T14:15:03.422Z"
   },
   {
    "duration": 203,
    "start_time": "2021-11-23T14:15:32.085Z"
   },
   {
    "duration": 572,
    "start_time": "2021-11-23T14:16:25.622Z"
   },
   {
    "duration": 590,
    "start_time": "2021-11-23T14:18:15.388Z"
   },
   {
    "duration": 1244,
    "start_time": "2021-11-23T14:18:35.592Z"
   },
   {
    "duration": 732,
    "start_time": "2021-11-23T14:18:48.080Z"
   },
   {
    "duration": 574,
    "start_time": "2021-11-23T14:20:51.979Z"
   },
   {
    "duration": 687,
    "start_time": "2021-11-23T14:21:11.327Z"
   },
   {
    "duration": 792,
    "start_time": "2021-11-23T14:23:20.723Z"
   },
   {
    "duration": 582,
    "start_time": "2021-11-23T14:38:31.239Z"
   },
   {
    "duration": 155,
    "start_time": "2021-11-23T14:38:53.088Z"
   },
   {
    "duration": 5924,
    "start_time": "2021-11-23T14:39:57.918Z"
   },
   {
    "duration": 4881,
    "start_time": "2021-11-23T14:40:34.491Z"
   },
   {
    "duration": 119,
    "start_time": "2021-11-23T14:46:12.125Z"
   },
   {
    "duration": 116,
    "start_time": "2021-11-23T14:46:35.832Z"
   },
   {
    "duration": 8174,
    "start_time": "2021-11-23T14:46:49.067Z"
   },
   {
    "duration": 8496,
    "start_time": "2021-11-23T14:47:39.398Z"
   },
   {
    "duration": 262,
    "start_time": "2021-11-23T14:48:06.374Z"
   },
   {
    "duration": 278,
    "start_time": "2021-11-23T14:49:15.825Z"
   },
   {
    "duration": 5832,
    "start_time": "2021-11-23T14:49:28.556Z"
   },
   {
    "duration": 386,
    "start_time": "2021-11-23T14:49:52.606Z"
   },
   {
    "duration": 383,
    "start_time": "2021-11-23T14:51:36.849Z"
   },
   {
    "duration": 401,
    "start_time": "2021-11-23T14:51:56.509Z"
   },
   {
    "duration": 368,
    "start_time": "2021-11-23T14:52:15.149Z"
   },
   {
    "duration": 5208,
    "start_time": "2021-11-23T14:52:27.861Z"
   },
   {
    "duration": 5385,
    "start_time": "2021-11-23T14:54:54.827Z"
   },
   {
    "duration": 390,
    "start_time": "2021-11-23T14:55:07.140Z"
   },
   {
    "duration": 6950,
    "start_time": "2021-11-23T14:55:56.649Z"
   },
   {
    "duration": 165,
    "start_time": "2021-11-23T14:56:49.920Z"
   },
   {
    "duration": 10780,
    "start_time": "2021-11-23T14:57:17.084Z"
   },
   {
    "duration": 6773,
    "start_time": "2021-11-23T14:57:30.164Z"
   },
   {
    "duration": 170,
    "start_time": "2021-11-23T14:57:57.435Z"
   },
   {
    "duration": 480,
    "start_time": "2021-11-23T14:58:25.870Z"
   },
   {
    "duration": 1019,
    "start_time": "2021-11-23T14:58:50.226Z"
   },
   {
    "duration": 1846,
    "start_time": "2021-11-23T14:59:08.157Z"
   },
   {
    "duration": 2184,
    "start_time": "2021-11-23T14:59:23.950Z"
   },
   {
    "duration": 2320,
    "start_time": "2021-11-23T14:59:42.638Z"
   },
   {
    "duration": 2224,
    "start_time": "2021-11-23T14:59:56.580Z"
   },
   {
    "duration": 2243,
    "start_time": "2021-11-23T15:00:21.526Z"
   },
   {
    "duration": 2292,
    "start_time": "2021-11-23T15:00:37.521Z"
   },
   {
    "duration": 70,
    "start_time": "2021-11-23T15:06:28.984Z"
   },
   {
    "duration": 100,
    "start_time": "2021-11-23T15:06:42.587Z"
   },
   {
    "duration": 7,
    "start_time": "2021-11-23T15:08:01.031Z"
   },
   {
    "duration": 248,
    "start_time": "2021-11-24T06:55:46.760Z"
   },
   {
    "duration": 900,
    "start_time": "2021-11-24T06:55:55.696Z"
   },
   {
    "duration": 1183,
    "start_time": "2021-11-24T06:55:56.597Z"
   },
   {
    "duration": 124,
    "start_time": "2021-11-24T06:55:57.784Z"
   },
   {
    "duration": 147,
    "start_time": "2021-11-24T06:55:57.909Z"
   },
   {
    "duration": 92,
    "start_time": "2021-11-24T06:55:58.057Z"
   },
   {
    "duration": 124,
    "start_time": "2021-11-24T06:55:58.150Z"
   },
   {
    "duration": 59,
    "start_time": "2021-11-24T06:55:58.276Z"
   },
   {
    "duration": 30,
    "start_time": "2021-11-24T06:55:58.337Z"
   },
   {
    "duration": 24,
    "start_time": "2021-11-24T06:55:58.368Z"
   },
   {
    "duration": 8,
    "start_time": "2021-11-24T06:55:58.394Z"
   },
   {
    "duration": 128,
    "start_time": "2021-11-24T06:55:58.404Z"
   },
   {
    "duration": 845,
    "start_time": "2021-11-24T06:56:48.417Z"
   },
   {
    "duration": 385,
    "start_time": "2021-11-24T06:56:49.264Z"
   },
   {
    "duration": 120,
    "start_time": "2021-11-24T06:56:49.651Z"
   },
   {
    "duration": 146,
    "start_time": "2021-11-24T06:56:49.773Z"
   },
   {
    "duration": 93,
    "start_time": "2021-11-24T06:56:49.921Z"
   },
   {
    "duration": 137,
    "start_time": "2021-11-24T06:56:50.017Z"
   },
   {
    "duration": 66,
    "start_time": "2021-11-24T06:56:50.156Z"
   },
   {
    "duration": 31,
    "start_time": "2021-11-24T06:56:50.225Z"
   },
   {
    "duration": 33,
    "start_time": "2021-11-24T06:56:50.258Z"
   },
   {
    "duration": 10,
    "start_time": "2021-11-24T06:56:50.293Z"
   },
   {
    "duration": 125,
    "start_time": "2021-11-24T06:56:50.305Z"
   },
   {
    "duration": 104,
    "start_time": "2021-11-24T06:58:05.987Z"
   },
   {
    "duration": 100,
    "start_time": "2021-11-24T06:58:33.691Z"
   },
   {
    "duration": 39,
    "start_time": "2021-11-24T07:02:32.272Z"
   },
   {
    "duration": 41,
    "start_time": "2021-11-24T07:03:35.121Z"
   },
   {
    "duration": 38,
    "start_time": "2021-11-24T07:03:54.065Z"
   },
   {
    "duration": 4356,
    "start_time": "2021-11-24T07:04:33.998Z"
   },
   {
    "duration": 94,
    "start_time": "2021-11-24T07:06:07.974Z"
   },
   {
    "duration": 2256,
    "start_time": "2021-11-24T07:06:30.561Z"
   },
   {
    "duration": 2268,
    "start_time": "2021-11-24T07:09:00.805Z"
   },
   {
    "duration": 935,
    "start_time": "2021-11-24T07:09:23.499Z"
   },
   {
    "duration": 415,
    "start_time": "2021-11-24T07:09:24.436Z"
   },
   {
    "duration": 132,
    "start_time": "2021-11-24T07:09:24.853Z"
   },
   {
    "duration": 159,
    "start_time": "2021-11-24T07:09:24.987Z"
   },
   {
    "duration": 99,
    "start_time": "2021-11-24T07:09:25.148Z"
   },
   {
    "duration": 133,
    "start_time": "2021-11-24T07:09:25.249Z"
   },
   {
    "duration": 65,
    "start_time": "2021-11-24T07:09:25.383Z"
   },
   {
    "duration": 48,
    "start_time": "2021-11-24T07:09:25.450Z"
   },
   {
    "duration": 13,
    "start_time": "2021-11-24T07:09:25.500Z"
   },
   {
    "duration": 27,
    "start_time": "2021-11-24T07:09:25.515Z"
   },
   {
    "duration": 896,
    "start_time": "2021-11-24T07:09:25.544Z"
   },
   {
    "duration": 2258,
    "start_time": "2021-11-24T07:09:57.735Z"
   },
   {
    "duration": 2211,
    "start_time": "2021-11-24T07:10:23.990Z"
   },
   {
    "duration": 2289,
    "start_time": "2021-11-24T07:10:45.279Z"
   },
   {
    "duration": 165,
    "start_time": "2021-11-24T07:11:51.327Z"
   },
   {
    "duration": 132,
    "start_time": "2021-11-24T07:12:31.312Z"
   },
   {
    "duration": 62,
    "start_time": "2021-11-24T07:14:49.752Z"
   },
   {
    "duration": 61,
    "start_time": "2021-11-24T07:15:11.112Z"
   },
   {
    "duration": 61,
    "start_time": "2021-11-24T07:38:54.362Z"
   },
   {
    "duration": 60,
    "start_time": "2021-11-24T07:53:46.992Z"
   },
   {
    "duration": 62,
    "start_time": "2021-11-24T07:54:36.861Z"
   },
   {
    "duration": 47,
    "start_time": "2021-11-24T07:55:05.637Z"
   },
   {
    "duration": 168,
    "start_time": "2021-11-24T07:55:26.202Z"
   },
   {
    "duration": 174,
    "start_time": "2021-11-24T07:59:00.622Z"
   },
   {
    "duration": 7,
    "start_time": "2021-11-24T08:00:09.295Z"
   },
   {
    "duration": 15,
    "start_time": "2021-11-24T08:00:23.627Z"
   },
   {
    "duration": 171,
    "start_time": "2021-11-24T08:02:57.220Z"
   },
   {
    "duration": 161,
    "start_time": "2021-11-24T08:04:10.656Z"
   },
   {
    "duration": 178,
    "start_time": "2021-11-24T08:04:24.141Z"
   },
   {
    "duration": 19,
    "start_time": "2021-11-24T08:05:05.795Z"
   },
   {
    "duration": 115,
    "start_time": "2021-11-24T08:09:11.381Z"
   },
   {
    "duration": 54,
    "start_time": "2021-11-24T08:09:50.961Z"
   },
   {
    "duration": 14,
    "start_time": "2021-11-24T08:10:02.387Z"
   },
   {
    "duration": 15,
    "start_time": "2021-11-24T08:10:10.594Z"
   },
   {
    "duration": 15,
    "start_time": "2021-11-24T08:10:14.660Z"
   },
   {
    "duration": 178,
    "start_time": "2021-11-24T08:15:40.933Z"
   },
   {
    "duration": 178,
    "start_time": "2021-11-24T08:15:59.969Z"
   },
   {
    "duration": 849,
    "start_time": "2021-11-24T08:16:06.945Z"
   },
   {
    "duration": 462,
    "start_time": "2021-11-24T08:16:07.796Z"
   },
   {
    "duration": 122,
    "start_time": "2021-11-24T08:16:08.260Z"
   },
   {
    "duration": 150,
    "start_time": "2021-11-24T08:16:08.384Z"
   },
   {
    "duration": 91,
    "start_time": "2021-11-24T08:16:08.535Z"
   },
   {
    "duration": 127,
    "start_time": "2021-11-24T08:16:08.627Z"
   },
   {
    "duration": 61,
    "start_time": "2021-11-24T08:16:08.756Z"
   },
   {
    "duration": 30,
    "start_time": "2021-11-24T08:16:08.821Z"
   },
   {
    "duration": 13,
    "start_time": "2021-11-24T08:16:08.852Z"
   },
   {
    "duration": 38,
    "start_time": "2021-11-24T08:16:08.868Z"
   },
   {
    "duration": 16,
    "start_time": "2021-11-24T08:16:08.908Z"
   },
   {
    "duration": 259,
    "start_time": "2021-11-24T08:16:08.926Z"
   },
   {
    "duration": 586,
    "start_time": "2021-11-24T08:16:08.601Z"
   },
   {
    "duration": 172,
    "start_time": "2021-11-24T08:16:28.021Z"
   },
   {
    "duration": 897,
    "start_time": "2021-11-24T08:16:38.629Z"
   },
   {
    "duration": 423,
    "start_time": "2021-11-24T08:16:39.528Z"
   },
   {
    "duration": 131,
    "start_time": "2021-11-24T08:16:39.955Z"
   },
   {
    "duration": 148,
    "start_time": "2021-11-24T08:16:40.088Z"
   },
   {
    "duration": 90,
    "start_time": "2021-11-24T08:16:40.238Z"
   },
   {
    "duration": 122,
    "start_time": "2021-11-24T08:16:40.329Z"
   },
   {
    "duration": 63,
    "start_time": "2021-11-24T08:16:40.453Z"
   },
   {
    "duration": 30,
    "start_time": "2021-11-24T08:16:40.518Z"
   },
   {
    "duration": 12,
    "start_time": "2021-11-24T08:16:40.550Z"
   },
   {
    "duration": 37,
    "start_time": "2021-11-24T08:16:40.564Z"
   },
   {
    "duration": 15,
    "start_time": "2021-11-24T08:16:40.603Z"
   },
   {
    "duration": 198,
    "start_time": "2021-11-24T08:16:40.619Z"
   },
   {
    "duration": 387,
    "start_time": "2021-11-24T08:16:40.819Z"
   },
   {
    "duration": 169,
    "start_time": "2021-11-24T08:17:02.264Z"
   },
   {
    "duration": 210,
    "start_time": "2021-11-24T08:17:49.208Z"
   },
   {
    "duration": 858,
    "start_time": "2021-11-24T08:18:00.645Z"
   },
   {
    "duration": 425,
    "start_time": "2021-11-24T08:18:01.505Z"
   },
   {
    "duration": 143,
    "start_time": "2021-11-24T08:18:01.932Z"
   },
   {
    "duration": 157,
    "start_time": "2021-11-24T08:18:02.078Z"
   },
   {
    "duration": 94,
    "start_time": "2021-11-24T08:18:02.237Z"
   },
   {
    "duration": 135,
    "start_time": "2021-11-24T08:18:02.333Z"
   },
   {
    "duration": 64,
    "start_time": "2021-11-24T08:18:02.470Z"
   },
   {
    "duration": 33,
    "start_time": "2021-11-24T08:18:02.538Z"
   },
   {
    "duration": 31,
    "start_time": "2021-11-24T08:18:02.573Z"
   },
   {
    "duration": 18,
    "start_time": "2021-11-24T08:18:02.606Z"
   },
   {
    "duration": 16,
    "start_time": "2021-11-24T08:18:02.626Z"
   },
   {
    "duration": 209,
    "start_time": "2021-11-24T08:18:02.644Z"
   },
   {
    "duration": 408,
    "start_time": "2021-11-24T08:18:02.855Z"
   },
   {
    "duration": 6,
    "start_time": "2021-11-24T08:18:43.501Z"
   },
   {
    "duration": 174,
    "start_time": "2021-11-24T08:21:17.046Z"
   },
   {
    "duration": 56,
    "start_time": "2021-11-24T08:21:27.342Z"
   },
   {
    "duration": 82,
    "start_time": "2021-11-24T08:22:50.910Z"
   },
   {
    "duration": 341,
    "start_time": "2021-11-24T08:23:19.946Z"
   },
   {
    "duration": 100,
    "start_time": "2021-11-24T08:23:27.935Z"
   },
   {
    "duration": 86,
    "start_time": "2021-11-24T08:23:35.278Z"
   },
   {
    "duration": 91,
    "start_time": "2021-11-24T08:25:12.319Z"
   },
   {
    "duration": 6,
    "start_time": "2021-11-24T08:25:54.415Z"
   },
   {
    "duration": 96,
    "start_time": "2021-11-24T08:26:16.847Z"
   },
   {
    "duration": 106,
    "start_time": "2021-11-24T08:26:54.135Z"
   },
   {
    "duration": 224,
    "start_time": "2021-11-24T08:27:08.188Z"
   },
   {
    "duration": 219,
    "start_time": "2021-11-24T08:29:18.480Z"
   },
   {
    "duration": 218,
    "start_time": "2021-11-24T08:29:31.636Z"
   },
   {
    "duration": 234,
    "start_time": "2021-11-24T08:30:09.741Z"
   },
   {
    "duration": 210,
    "start_time": "2021-11-24T08:30:19.065Z"
   },
   {
    "duration": 218,
    "start_time": "2021-11-24T08:30:47.213Z"
   },
   {
    "duration": 214,
    "start_time": "2021-11-24T08:31:16.473Z"
   },
   {
    "duration": 175,
    "start_time": "2021-11-24T08:31:29.633Z"
   },
   {
    "duration": 28,
    "start_time": "2021-11-24T08:32:19.252Z"
   },
   {
    "duration": 34,
    "start_time": "2021-11-24T08:32:33.466Z"
   },
   {
    "duration": 38,
    "start_time": "2021-11-24T08:32:59.212Z"
   },
   {
    "duration": 165,
    "start_time": "2021-11-24T08:34:04.014Z"
   },
   {
    "duration": 2,
    "start_time": "2021-11-24T08:34:15.678Z"
   },
   {
    "duration": 3680,
    "start_time": "2021-11-24T08:34:36.742Z"
   },
   {
    "duration": 204,
    "start_time": "2021-11-24T08:34:54.177Z"
   },
   {
    "duration": 170,
    "start_time": "2021-11-24T08:34:57.695Z"
   },
   {
    "duration": 25,
    "start_time": "2021-11-24T08:37:31.902Z"
   },
   {
    "duration": 165,
    "start_time": "2021-11-24T08:37:59.516Z"
   },
   {
    "duration": 163,
    "start_time": "2021-11-24T08:38:57.420Z"
   },
   {
    "duration": 164,
    "start_time": "2021-11-24T08:39:31.826Z"
   },
   {
    "duration": 160,
    "start_time": "2021-11-24T08:39:36.622Z"
   },
   {
    "duration": 172,
    "start_time": "2021-11-24T08:42:26.973Z"
   },
   {
    "duration": 161,
    "start_time": "2021-11-24T08:50:02.351Z"
   },
   {
    "duration": 161,
    "start_time": "2021-11-24T08:50:31.894Z"
   },
   {
    "duration": 31,
    "start_time": "2021-11-24T08:50:44.041Z"
   },
   {
    "duration": 31,
    "start_time": "2021-11-24T08:50:55.516Z"
   },
   {
    "duration": 35,
    "start_time": "2021-11-24T08:51:12.244Z"
   },
   {
    "duration": 46,
    "start_time": "2021-11-24T08:51:31.394Z"
   },
   {
    "duration": 45,
    "start_time": "2021-11-24T08:51:49.247Z"
   },
   {
    "duration": 52,
    "start_time": "2021-11-24T08:53:52.541Z"
   },
   {
    "duration": 47,
    "start_time": "2021-11-24T08:54:07.186Z"
   },
   {
    "duration": 66,
    "start_time": "2021-11-24T08:54:23.466Z"
   },
   {
    "duration": 176,
    "start_time": "2021-11-24T08:54:37.197Z"
   },
   {
    "duration": 153,
    "start_time": "2021-11-24T08:55:20.443Z"
   },
   {
    "duration": 153,
    "start_time": "2021-11-24T08:55:34.262Z"
   },
   {
    "duration": 165,
    "start_time": "2021-11-24T08:55:43.847Z"
   },
   {
    "duration": 188,
    "start_time": "2021-11-24T08:56:16.504Z"
   },
   {
    "duration": 155,
    "start_time": "2021-11-24T08:56:24.139Z"
   },
   {
    "duration": 166,
    "start_time": "2021-11-24T08:56:33.312Z"
   },
   {
    "duration": 177,
    "start_time": "2021-11-24T08:58:42.235Z"
   },
   {
    "duration": 486,
    "start_time": "2021-11-24T08:59:05.309Z"
   },
   {
    "duration": 169,
    "start_time": "2021-11-24T08:59:40.185Z"
   },
   {
    "duration": 166,
    "start_time": "2021-11-24T08:59:49.291Z"
   },
   {
    "duration": 39,
    "start_time": "2021-11-24T09:00:03.099Z"
   },
   {
    "duration": 167,
    "start_time": "2021-11-24T09:00:13.048Z"
   },
   {
    "duration": 161,
    "start_time": "2021-11-24T09:01:10.709Z"
   },
   {
    "duration": 166,
    "start_time": "2021-11-24T09:02:17.893Z"
   },
   {
    "duration": 339,
    "start_time": "2021-11-24T09:02:28.462Z"
   },
   {
    "duration": 3,
    "start_time": "2021-11-24T09:13:08.206Z"
   },
   {
    "duration": 181,
    "start_time": "2021-11-24T09:13:26.684Z"
   },
   {
    "duration": 165,
    "start_time": "2021-11-24T09:13:32.848Z"
   },
   {
    "duration": 340,
    "start_time": "2021-11-24T09:14:50.330Z"
   },
   {
    "duration": 389,
    "start_time": "2021-11-24T09:15:57.033Z"
   },
   {
    "duration": 172,
    "start_time": "2021-11-24T09:16:06.820Z"
   },
   {
    "duration": 360,
    "start_time": "2021-11-24T10:32:58.119Z"
   },
   {
    "duration": 32,
    "start_time": "2021-11-24T10:33:56.296Z"
   },
   {
    "duration": 169,
    "start_time": "2021-11-24T10:34:18.913Z"
   },
   {
    "duration": 60,
    "start_time": "2021-11-24T10:40:26.604Z"
   },
   {
    "duration": 47,
    "start_time": "2021-11-24T10:41:22.153Z"
   },
   {
    "duration": 29,
    "start_time": "2021-11-24T10:41:36.719Z"
   },
   {
    "duration": 40,
    "start_time": "2021-11-24T10:41:38.881Z"
   },
   {
    "duration": 31,
    "start_time": "2021-11-24T10:41:41.677Z"
   },
   {
    "duration": 43,
    "start_time": "2021-11-24T10:41:47.773Z"
   },
   {
    "duration": 28,
    "start_time": "2021-11-24T10:42:15.972Z"
   },
   {
    "duration": 38,
    "start_time": "2021-11-24T10:42:20.937Z"
   },
   {
    "duration": 139,
    "start_time": "2021-11-24T10:42:37.587Z"
   },
   {
    "duration": 140,
    "start_time": "2021-11-24T10:42:41.126Z"
   },
   {
    "duration": 24,
    "start_time": "2021-11-24T10:42:52.738Z"
   },
   {
    "duration": 32,
    "start_time": "2021-11-24T10:42:57.693Z"
   },
   {
    "duration": 63,
    "start_time": "2021-11-24T10:48:47.369Z"
   },
   {
    "duration": 4019,
    "start_time": "2021-11-24T10:48:51.067Z"
   },
   {
    "duration": 307,
    "start_time": "2021-11-24T10:49:18.126Z"
   },
   {
    "duration": 3741,
    "start_time": "2021-11-24T10:49:28.569Z"
   },
   {
    "duration": 247,
    "start_time": "2021-11-24T10:50:36.903Z"
   },
   {
    "duration": 3346,
    "start_time": "2021-11-24T10:50:45.212Z"
   },
   {
    "duration": 258,
    "start_time": "2021-11-24T10:51:07.272Z"
   },
   {
    "duration": 3676,
    "start_time": "2021-11-24T10:52:17.838Z"
   },
   {
    "duration": 255,
    "start_time": "2021-11-24T10:52:35.047Z"
   },
   {
    "duration": 817,
    "start_time": "2021-11-24T10:52:41.325Z"
   },
   {
    "duration": 396,
    "start_time": "2021-11-24T10:52:42.144Z"
   },
   {
    "duration": 124,
    "start_time": "2021-11-24T10:52:42.542Z"
   },
   {
    "duration": 154,
    "start_time": "2021-11-24T10:52:42.668Z"
   },
   {
    "duration": 99,
    "start_time": "2021-11-24T10:52:42.824Z"
   },
   {
    "duration": 122,
    "start_time": "2021-11-24T10:52:42.925Z"
   },
   {
    "duration": 69,
    "start_time": "2021-11-24T10:52:43.049Z"
   },
   {
    "duration": 36,
    "start_time": "2021-11-24T10:52:43.122Z"
   },
   {
    "duration": 12,
    "start_time": "2021-11-24T10:52:43.160Z"
   },
   {
    "duration": 30,
    "start_time": "2021-11-24T10:52:43.173Z"
   },
   {
    "duration": 16,
    "start_time": "2021-11-24T10:52:43.204Z"
   },
   {
    "duration": 7,
    "start_time": "2021-11-24T10:52:43.221Z"
   },
   {
    "duration": 71,
    "start_time": "2021-11-24T10:52:43.230Z"
   },
   {
    "duration": 42,
    "start_time": "2021-11-24T10:52:43.303Z"
   },
   {
    "duration": 60,
    "start_time": "2021-11-24T10:52:43.347Z"
   },
   {
    "duration": 39,
    "start_time": "2021-11-24T10:52:43.408Z"
   },
   {
    "duration": 154,
    "start_time": "2021-11-24T10:52:43.448Z"
   },
   {
    "duration": 149,
    "start_time": "2021-11-24T10:52:43.604Z"
   },
   {
    "duration": 156,
    "start_time": "2021-11-24T10:52:43.755Z"
   },
   {
    "duration": 3277,
    "start_time": "2021-11-24T10:52:57.053Z"
   },
   {
    "duration": 887,
    "start_time": "2021-11-24T10:53:05.658Z"
   },
   {
    "duration": 390,
    "start_time": "2021-11-24T10:53:06.547Z"
   },
   {
    "duration": 126,
    "start_time": "2021-11-24T10:53:06.939Z"
   },
   {
    "duration": 142,
    "start_time": "2021-11-24T10:53:07.067Z"
   },
   {
    "duration": 90,
    "start_time": "2021-11-24T10:53:07.211Z"
   },
   {
    "duration": 124,
    "start_time": "2021-11-24T10:53:07.303Z"
   },
   {
    "duration": 63,
    "start_time": "2021-11-24T10:53:07.429Z"
   },
   {
    "duration": 31,
    "start_time": "2021-11-24T10:53:07.494Z"
   },
   {
    "duration": 12,
    "start_time": "2021-11-24T10:53:07.527Z"
   },
   {
    "duration": 20,
    "start_time": "2021-11-24T10:53:07.540Z"
   },
   {
    "duration": 39,
    "start_time": "2021-11-24T10:53:07.562Z"
   },
   {
    "duration": 24,
    "start_time": "2021-11-24T10:53:07.602Z"
   },
   {
    "duration": 74,
    "start_time": "2021-11-24T10:53:07.627Z"
   },
   {
    "duration": 41,
    "start_time": "2021-11-24T10:53:07.703Z"
   },
   {
    "duration": 57,
    "start_time": "2021-11-24T10:53:07.746Z"
   },
   {
    "duration": 37,
    "start_time": "2021-11-24T10:53:07.804Z"
   },
   {
    "duration": 171,
    "start_time": "2021-11-24T10:53:07.842Z"
   },
   {
    "duration": 159,
    "start_time": "2021-11-24T10:53:08.014Z"
   },
   {
    "duration": 160,
    "start_time": "2021-11-24T10:53:08.174Z"
   },
   {
    "duration": 3933,
    "start_time": "2021-11-24T11:01:10.171Z"
   },
   {
    "duration": 933,
    "start_time": "2021-11-24T11:01:19.552Z"
   },
   {
    "duration": 387,
    "start_time": "2021-11-24T11:01:20.487Z"
   },
   {
    "duration": 122,
    "start_time": "2021-11-24T11:01:20.879Z"
   },
   {
    "duration": 149,
    "start_time": "2021-11-24T11:01:21.003Z"
   },
   {
    "duration": 94,
    "start_time": "2021-11-24T11:01:21.154Z"
   },
   {
    "duration": 124,
    "start_time": "2021-11-24T11:01:21.250Z"
   },
   {
    "duration": 58,
    "start_time": "2021-11-24T11:01:21.377Z"
   },
   {
    "duration": 30,
    "start_time": "2021-11-24T11:01:21.438Z"
   },
   {
    "duration": 31,
    "start_time": "2021-11-24T11:01:21.470Z"
   },
   {
    "duration": 16,
    "start_time": "2021-11-24T11:01:21.503Z"
   },
   {
    "duration": 16,
    "start_time": "2021-11-24T11:01:21.521Z"
   },
   {
    "duration": 7,
    "start_time": "2021-11-24T11:01:21.538Z"
   },
   {
    "duration": 78,
    "start_time": "2021-11-24T11:01:21.547Z"
   },
   {
    "duration": 43,
    "start_time": "2021-11-24T11:01:21.627Z"
   },
   {
    "duration": 55,
    "start_time": "2021-11-24T11:01:21.672Z"
   },
   {
    "duration": 38,
    "start_time": "2021-11-24T11:01:21.729Z"
   },
   {
    "duration": 414,
    "start_time": "2021-11-24T11:01:21.769Z"
   },
   {
    "duration": 606,
    "start_time": "2021-11-24T11:01:21.579Z"
   },
   {
    "duration": 592,
    "start_time": "2021-11-24T11:01:21.595Z"
   },
   {
    "duration": 3676,
    "start_time": "2021-11-24T11:01:58.090Z"
   },
   {
    "duration": 865,
    "start_time": "2021-11-24T11:02:07.994Z"
   },
   {
    "duration": 407,
    "start_time": "2021-11-24T11:02:08.861Z"
   },
   {
    "duration": 129,
    "start_time": "2021-11-24T11:02:09.270Z"
   },
   {
    "duration": 143,
    "start_time": "2021-11-24T11:02:09.401Z"
   },
   {
    "duration": 90,
    "start_time": "2021-11-24T11:02:09.546Z"
   },
   {
    "duration": 126,
    "start_time": "2021-11-24T11:02:09.638Z"
   },
   {
    "duration": 58,
    "start_time": "2021-11-24T11:02:09.765Z"
   },
   {
    "duration": 39,
    "start_time": "2021-11-24T11:02:09.825Z"
   },
   {
    "duration": 36,
    "start_time": "2021-11-24T11:02:09.872Z"
   },
   {
    "duration": 20,
    "start_time": "2021-11-24T11:02:09.912Z"
   },
   {
    "duration": 35,
    "start_time": "2021-11-24T11:02:09.934Z"
   },
   {
    "duration": 12,
    "start_time": "2021-11-24T11:02:09.971Z"
   },
   {
    "duration": 80,
    "start_time": "2021-11-24T11:02:09.985Z"
   },
   {
    "duration": 41,
    "start_time": "2021-11-24T11:02:10.068Z"
   },
   {
    "duration": 40,
    "start_time": "2021-11-24T11:02:10.111Z"
   },
   {
    "duration": 53,
    "start_time": "2021-11-24T11:02:10.153Z"
   },
   {
    "duration": 718,
    "start_time": "2021-11-24T11:02:10.208Z"
   },
   {
    "duration": 476,
    "start_time": "2021-11-24T11:02:10.452Z"
   },
   {
    "duration": 474,
    "start_time": "2021-11-24T11:02:10.455Z"
   },
   {
    "duration": 4646,
    "start_time": "2021-11-24T11:02:59.833Z"
   },
   {
    "duration": 927,
    "start_time": "2021-11-24T11:03:16.669Z"
   },
   {
    "duration": 395,
    "start_time": "2021-11-24T11:03:17.598Z"
   },
   {
    "duration": 130,
    "start_time": "2021-11-24T11:03:17.996Z"
   },
   {
    "duration": 155,
    "start_time": "2021-11-24T11:03:18.128Z"
   },
   {
    "duration": 89,
    "start_time": "2021-11-24T11:03:18.285Z"
   },
   {
    "duration": 127,
    "start_time": "2021-11-24T11:03:18.376Z"
   },
   {
    "duration": 55,
    "start_time": "2021-11-24T11:03:18.505Z"
   },
   {
    "duration": 47,
    "start_time": "2021-11-24T11:03:18.562Z"
   },
   {
    "duration": 13,
    "start_time": "2021-11-24T11:03:18.611Z"
   },
   {
    "duration": 22,
    "start_time": "2021-11-24T11:03:18.625Z"
   },
   {
    "duration": 16,
    "start_time": "2021-11-24T11:03:18.648Z"
   },
   {
    "duration": 6,
    "start_time": "2021-11-24T11:03:18.666Z"
   },
   {
    "duration": 45,
    "start_time": "2021-11-24T11:03:18.692Z"
   },
   {
    "duration": 63,
    "start_time": "2021-11-24T11:03:18.739Z"
   },
   {
    "duration": 42,
    "start_time": "2021-11-24T11:03:18.804Z"
   },
   {
    "duration": 54,
    "start_time": "2021-11-24T11:03:18.848Z"
   },
   {
    "duration": 274,
    "start_time": "2021-11-24T11:03:18.903Z"
   },
   {
    "duration": 146,
    "start_time": "2021-11-24T11:03:19.179Z"
   },
   {
    "duration": 155,
    "start_time": "2021-11-24T11:03:19.326Z"
   },
   {
    "duration": 4005,
    "start_time": "2021-11-24T11:03:50.762Z"
   },
   {
    "duration": 877,
    "start_time": "2021-11-24T11:04:02.179Z"
   },
   {
    "duration": 392,
    "start_time": "2021-11-24T11:04:03.058Z"
   },
   {
    "duration": 125,
    "start_time": "2021-11-24T11:04:03.452Z"
   },
   {
    "duration": 150,
    "start_time": "2021-11-24T11:04:03.578Z"
   },
   {
    "duration": 86,
    "start_time": "2021-11-24T11:04:03.730Z"
   },
   {
    "duration": 129,
    "start_time": "2021-11-24T11:04:03.817Z"
   },
   {
    "duration": 60,
    "start_time": "2021-11-24T11:04:03.947Z"
   },
   {
    "duration": 31,
    "start_time": "2021-11-24T11:04:04.010Z"
   },
   {
    "duration": 13,
    "start_time": "2021-11-24T11:04:04.042Z"
   },
   {
    "duration": 41,
    "start_time": "2021-11-24T11:04:04.056Z"
   },
   {
    "duration": 16,
    "start_time": "2021-11-24T11:04:04.099Z"
   },
   {
    "duration": 5,
    "start_time": "2021-11-24T11:04:04.116Z"
   },
   {
    "duration": 50,
    "start_time": "2021-11-24T11:04:04.123Z"
   },
   {
    "duration": 57,
    "start_time": "2021-11-24T11:04:04.174Z"
   },
   {
    "duration": 41,
    "start_time": "2021-11-24T11:04:04.232Z"
   },
   {
    "duration": 53,
    "start_time": "2021-11-24T11:04:04.275Z"
   },
   {
    "duration": 266,
    "start_time": "2021-11-24T11:04:04.329Z"
   },
   {
    "duration": 140,
    "start_time": "2021-11-24T11:04:04.597Z"
   },
   {
    "duration": 157,
    "start_time": "2021-11-24T11:04:04.738Z"
   },
   {
    "duration": 7,
    "start_time": "2021-11-24T11:08:08.196Z"
   },
   {
    "duration": 1041,
    "start_time": "2021-11-24T11:08:14.404Z"
   },
   {
    "duration": 389,
    "start_time": "2021-11-24T11:08:15.447Z"
   },
   {
    "duration": 119,
    "start_time": "2021-11-24T11:08:15.838Z"
   },
   {
    "duration": 139,
    "start_time": "2021-11-24T11:08:15.959Z"
   },
   {
    "duration": 79,
    "start_time": "2021-11-24T11:08:16.100Z"
   },
   {
    "duration": 123,
    "start_time": "2021-11-24T11:08:16.192Z"
   },
   {
    "duration": 58,
    "start_time": "2021-11-24T11:08:16.317Z"
   },
   {
    "duration": 43,
    "start_time": "2021-11-24T11:08:16.377Z"
   },
   {
    "duration": 13,
    "start_time": "2021-11-24T11:08:16.422Z"
   },
   {
    "duration": 17,
    "start_time": "2021-11-24T11:08:16.436Z"
   },
   {
    "duration": 40,
    "start_time": "2021-11-24T11:08:16.454Z"
   },
   {
    "duration": 7,
    "start_time": "2021-11-24T11:08:16.495Z"
   },
   {
    "duration": 50,
    "start_time": "2021-11-24T11:08:16.503Z"
   },
   {
    "duration": 56,
    "start_time": "2021-11-24T11:08:16.555Z"
   },
   {
    "duration": 42,
    "start_time": "2021-11-24T11:08:16.612Z"
   },
   {
    "duration": 53,
    "start_time": "2021-11-24T11:08:16.656Z"
   },
   {
    "duration": 472,
    "start_time": "2021-11-24T11:08:16.711Z"
   },
   {
    "duration": 588,
    "start_time": "2021-11-24T11:08:16.597Z"
   },
   {
    "duration": 581,
    "start_time": "2021-11-24T11:08:16.605Z"
   },
   {
    "duration": 8,
    "start_time": "2021-11-24T11:08:32.107Z"
   },
   {
    "duration": 902,
    "start_time": "2021-11-24T11:08:47.522Z"
   },
   {
    "duration": 397,
    "start_time": "2021-11-24T11:08:48.426Z"
   },
   {
    "duration": 122,
    "start_time": "2021-11-24T11:08:48.825Z"
   },
   {
    "duration": 150,
    "start_time": "2021-11-24T11:08:48.949Z"
   },
   {
    "duration": 80,
    "start_time": "2021-11-24T11:08:49.101Z"
   },
   {
    "duration": 123,
    "start_time": "2021-11-24T11:08:49.191Z"
   },
   {
    "duration": 54,
    "start_time": "2021-11-24T11:08:49.315Z"
   },
   {
    "duration": 38,
    "start_time": "2021-11-24T11:08:49.371Z"
   },
   {
    "duration": 12,
    "start_time": "2021-11-24T11:08:49.410Z"
   },
   {
    "duration": 16,
    "start_time": "2021-11-24T11:08:49.424Z"
   },
   {
    "duration": 15,
    "start_time": "2021-11-24T11:08:49.442Z"
   },
   {
    "duration": 33,
    "start_time": "2021-11-24T11:08:49.459Z"
   },
   {
    "duration": 66,
    "start_time": "2021-11-24T11:08:49.493Z"
   },
   {
    "duration": 41,
    "start_time": "2021-11-24T11:08:49.561Z"
   },
   {
    "duration": 43,
    "start_time": "2021-11-24T11:08:49.603Z"
   },
   {
    "duration": 54,
    "start_time": "2021-11-24T11:08:49.647Z"
   },
   {
    "duration": 246,
    "start_time": "2021-11-24T11:08:49.703Z"
   },
   {
    "duration": 175,
    "start_time": "2021-11-24T11:08:49.951Z"
   },
   {
    "duration": 161,
    "start_time": "2021-11-24T11:08:50.128Z"
   },
   {
    "duration": 5265,
    "start_time": "2021-11-24T11:10:07.158Z"
   },
   {
    "duration": 897,
    "start_time": "2021-11-24T11:10:24.803Z"
   },
   {
    "duration": 390,
    "start_time": "2021-11-24T11:10:25.702Z"
   },
   {
    "duration": 138,
    "start_time": "2021-11-24T11:10:26.094Z"
   },
   {
    "duration": 160,
    "start_time": "2021-11-24T11:10:26.234Z"
   },
   {
    "duration": 83,
    "start_time": "2021-11-24T11:10:26.396Z"
   },
   {
    "duration": 130,
    "start_time": "2021-11-24T11:10:26.492Z"
   },
   {
    "duration": 70,
    "start_time": "2021-11-24T11:10:26.624Z"
   },
   {
    "duration": 33,
    "start_time": "2021-11-24T11:10:26.697Z"
   },
   {
    "duration": 14,
    "start_time": "2021-11-24T11:10:26.732Z"
   },
   {
    "duration": 17,
    "start_time": "2021-11-24T11:10:26.748Z"
   },
   {
    "duration": 18,
    "start_time": "2021-11-24T11:10:26.791Z"
   },
   {
    "duration": 7,
    "start_time": "2021-11-24T11:10:26.811Z"
   },
   {
    "duration": 87,
    "start_time": "2021-11-24T11:10:26.819Z"
   },
   {
    "duration": 43,
    "start_time": "2021-11-24T11:10:26.907Z"
   },
   {
    "duration": 56,
    "start_time": "2021-11-24T11:10:26.952Z"
   },
   {
    "duration": 42,
    "start_time": "2021-11-24T11:10:27.010Z"
   },
   {
    "duration": 290,
    "start_time": "2021-11-24T11:10:27.053Z"
   },
   {
    "duration": 152,
    "start_time": "2021-11-24T11:10:27.344Z"
   },
   {
    "duration": 158,
    "start_time": "2021-11-24T11:10:27.497Z"
   },
   {
    "duration": 3936,
    "start_time": "2021-11-24T11:13:16.595Z"
   },
   {
    "duration": 867,
    "start_time": "2021-11-24T11:13:26.402Z"
   },
   {
    "duration": 397,
    "start_time": "2021-11-24T11:13:27.271Z"
   },
   {
    "duration": 133,
    "start_time": "2021-11-24T11:13:27.670Z"
   },
   {
    "duration": 149,
    "start_time": "2021-11-24T11:13:27.804Z"
   },
   {
    "duration": 91,
    "start_time": "2021-11-24T11:13:27.954Z"
   },
   {
    "duration": 130,
    "start_time": "2021-11-24T11:13:28.047Z"
   },
   {
    "duration": 58,
    "start_time": "2021-11-24T11:13:28.179Z"
   },
   {
    "duration": 33,
    "start_time": "2021-11-24T11:13:28.239Z"
   },
   {
    "duration": 28,
    "start_time": "2021-11-24T11:13:28.273Z"
   },
   {
    "duration": 17,
    "start_time": "2021-11-24T11:13:28.302Z"
   },
   {
    "duration": 16,
    "start_time": "2021-11-24T11:13:28.320Z"
   },
   {
    "duration": 8,
    "start_time": "2021-11-24T11:13:28.338Z"
   },
   {
    "duration": 83,
    "start_time": "2021-11-24T11:13:28.347Z"
   },
   {
    "duration": 42,
    "start_time": "2021-11-24T11:13:28.432Z"
   },
   {
    "duration": 58,
    "start_time": "2021-11-24T11:13:28.476Z"
   },
   {
    "duration": 61,
    "start_time": "2021-11-24T11:13:28.536Z"
   },
   {
    "duration": 276,
    "start_time": "2021-11-24T11:13:28.598Z"
   },
   {
    "duration": 149,
    "start_time": "2021-11-24T11:13:28.876Z"
   },
   {
    "duration": 158,
    "start_time": "2021-11-24T11:13:29.027Z"
   },
   {
    "duration": 881,
    "start_time": "2021-11-24T11:17:09.868Z"
   },
   {
    "duration": 391,
    "start_time": "2021-11-24T11:17:10.751Z"
   },
   {
    "duration": 120,
    "start_time": "2021-11-24T11:17:11.144Z"
   },
   {
    "duration": 147,
    "start_time": "2021-11-24T11:17:11.266Z"
   },
   {
    "duration": 93,
    "start_time": "2021-11-24T11:17:11.415Z"
   },
   {
    "duration": 121,
    "start_time": "2021-11-24T11:17:11.509Z"
   },
   {
    "duration": 60,
    "start_time": "2021-11-24T11:17:11.632Z"
   },
   {
    "duration": 29,
    "start_time": "2021-11-24T11:17:11.694Z"
   },
   {
    "duration": 12,
    "start_time": "2021-11-24T11:17:11.725Z"
   },
   {
    "duration": 17,
    "start_time": "2021-11-24T11:17:11.738Z"
   },
   {
    "duration": 40,
    "start_time": "2021-11-24T11:17:11.756Z"
   },
   {
    "duration": 5,
    "start_time": "2021-11-24T11:17:11.798Z"
   },
   {
    "duration": 49,
    "start_time": "2021-11-24T11:17:11.805Z"
   },
   {
    "duration": 61,
    "start_time": "2021-11-24T11:17:11.855Z"
   },
   {
    "duration": 41,
    "start_time": "2021-11-24T11:17:11.917Z"
   },
   {
    "duration": 49,
    "start_time": "2021-11-24T11:17:11.959Z"
   },
   {
    "duration": 196,
    "start_time": "2021-11-24T11:17:12.010Z"
   },
   {
    "duration": 142,
    "start_time": "2021-11-24T11:17:12.207Z"
   },
   {
    "duration": 158,
    "start_time": "2021-11-24T11:17:12.350Z"
   },
   {
    "duration": 4,
    "start_time": "2021-11-24T11:17:51.850Z"
   },
   {
    "duration": 196,
    "start_time": "2021-11-24T11:18:05.069Z"
   },
   {
    "duration": 202,
    "start_time": "2021-11-24T11:18:08.078Z"
   },
   {
    "duration": 188,
    "start_time": "2021-11-24T11:18:10.702Z"
   },
   {
    "duration": 187,
    "start_time": "2021-11-24T11:19:05.494Z"
   },
   {
    "duration": 6,
    "start_time": "2021-11-24T11:19:31.986Z"
   },
   {
    "duration": 863,
    "start_time": "2021-11-24T11:19:37.304Z"
   },
   {
    "duration": 395,
    "start_time": "2021-11-24T11:19:38.169Z"
   },
   {
    "duration": 126,
    "start_time": "2021-11-24T11:19:38.566Z"
   },
   {
    "duration": 157,
    "start_time": "2021-11-24T11:19:38.693Z"
   },
   {
    "duration": 92,
    "start_time": "2021-11-24T11:19:38.852Z"
   },
   {
    "duration": 125,
    "start_time": "2021-11-24T11:19:38.946Z"
   },
   {
    "duration": 54,
    "start_time": "2021-11-24T11:19:39.072Z"
   },
   {
    "duration": 30,
    "start_time": "2021-11-24T11:19:39.129Z"
   },
   {
    "duration": 31,
    "start_time": "2021-11-24T11:19:39.161Z"
   },
   {
    "duration": 14,
    "start_time": "2021-11-24T11:19:39.194Z"
   },
   {
    "duration": 14,
    "start_time": "2021-11-24T11:19:39.210Z"
   },
   {
    "duration": 7,
    "start_time": "2021-11-24T11:19:39.226Z"
   },
   {
    "duration": 77,
    "start_time": "2021-11-24T11:19:39.234Z"
   },
   {
    "duration": 39,
    "start_time": "2021-11-24T11:19:39.313Z"
   },
   {
    "duration": 52,
    "start_time": "2021-11-24T11:19:39.354Z"
   },
   {
    "duration": 36,
    "start_time": "2021-11-24T11:19:39.408Z"
   },
   {
    "duration": 266,
    "start_time": "2021-11-24T11:19:39.445Z"
   },
   {
    "duration": 568,
    "start_time": "2021-11-24T11:19:39.145Z"
   },
   {
    "duration": 560,
    "start_time": "2021-11-24T11:19:39.154Z"
   },
   {
    "duration": 5,
    "start_time": "2021-11-24T11:21:35.848Z"
   },
   {
    "duration": 8,
    "start_time": "2021-11-24T11:22:45.908Z"
   },
   {
    "duration": 863,
    "start_time": "2021-11-24T11:22:51.749Z"
   },
   {
    "duration": 394,
    "start_time": "2021-11-24T11:22:52.614Z"
   },
   {
    "duration": 131,
    "start_time": "2021-11-24T11:22:53.010Z"
   },
   {
    "duration": 151,
    "start_time": "2021-11-24T11:22:53.142Z"
   },
   {
    "duration": 80,
    "start_time": "2021-11-24T11:22:53.295Z"
   },
   {
    "duration": 139,
    "start_time": "2021-11-24T11:22:53.377Z"
   },
   {
    "duration": 54,
    "start_time": "2021-11-24T11:22:53.517Z"
   },
   {
    "duration": 42,
    "start_time": "2021-11-24T11:22:53.573Z"
   },
   {
    "duration": 14,
    "start_time": "2021-11-24T11:22:53.617Z"
   },
   {
    "duration": 19,
    "start_time": "2021-11-24T11:22:53.632Z"
   },
   {
    "duration": 40,
    "start_time": "2021-11-24T11:22:53.653Z"
   },
   {
    "duration": 10,
    "start_time": "2021-11-24T11:22:53.696Z"
   },
   {
    "duration": 48,
    "start_time": "2021-11-24T11:22:53.708Z"
   },
   {
    "duration": 52,
    "start_time": "2021-11-24T11:22:53.758Z"
   },
   {
    "duration": 42,
    "start_time": "2021-11-24T11:22:53.812Z"
   },
   {
    "duration": 56,
    "start_time": "2021-11-24T11:22:53.856Z"
   },
   {
    "duration": 212,
    "start_time": "2021-11-24T11:22:53.914Z"
   },
   {
    "duration": 267,
    "start_time": "2021-11-24T11:22:54.128Z"
   },
   {
    "duration": 625,
    "start_time": "2021-11-24T11:22:53.772Z"
   },
   {
    "duration": 6,
    "start_time": "2021-11-24T11:23:14.194Z"
   },
   {
    "duration": 3848,
    "start_time": "2021-11-24T11:26:00.967Z"
   },
   {
    "duration": 895,
    "start_time": "2021-11-24T11:26:07.495Z"
   },
   {
    "duration": 391,
    "start_time": "2021-11-24T11:26:08.392Z"
   },
   {
    "duration": 121,
    "start_time": "2021-11-24T11:26:08.785Z"
   },
   {
    "duration": 152,
    "start_time": "2021-11-24T11:26:08.908Z"
   },
   {
    "duration": 91,
    "start_time": "2021-11-24T11:26:09.061Z"
   },
   {
    "duration": 128,
    "start_time": "2021-11-24T11:26:09.153Z"
   },
   {
    "duration": 56,
    "start_time": "2021-11-24T11:26:09.283Z"
   },
   {
    "duration": 30,
    "start_time": "2021-11-24T11:26:09.341Z"
   },
   {
    "duration": 29,
    "start_time": "2021-11-24T11:26:09.373Z"
   },
   {
    "duration": 15,
    "start_time": "2021-11-24T11:26:09.403Z"
   },
   {
    "duration": 16,
    "start_time": "2021-11-24T11:26:09.420Z"
   },
   {
    "duration": 8,
    "start_time": "2021-11-24T11:26:09.437Z"
   },
   {
    "duration": 82,
    "start_time": "2021-11-24T11:26:09.447Z"
   },
   {
    "duration": 40,
    "start_time": "2021-11-24T11:26:09.531Z"
   },
   {
    "duration": 54,
    "start_time": "2021-11-24T11:26:09.573Z"
   },
   {
    "duration": 38,
    "start_time": "2021-11-24T11:26:09.629Z"
   },
   {
    "duration": 204,
    "start_time": "2021-11-24T11:26:09.692Z"
   },
   {
    "duration": 3557,
    "start_time": "2021-11-24T11:26:09.897Z"
   },
   {
    "duration": 400,
    "start_time": "2021-11-24T11:26:13.056Z"
   },
   {
    "duration": 4037,
    "start_time": "2021-11-24T11:27:04.262Z"
   },
   {
    "duration": 845,
    "start_time": "2021-11-24T11:27:20.132Z"
   },
   {
    "duration": 407,
    "start_time": "2021-11-24T11:27:20.979Z"
   },
   {
    "duration": 130,
    "start_time": "2021-11-24T11:27:21.388Z"
   },
   {
    "duration": 158,
    "start_time": "2021-11-24T11:27:21.520Z"
   },
   {
    "duration": 89,
    "start_time": "2021-11-24T11:27:21.680Z"
   },
   {
    "duration": 131,
    "start_time": "2021-11-24T11:27:21.771Z"
   },
   {
    "duration": 56,
    "start_time": "2021-11-24T11:27:21.904Z"
   },
   {
    "duration": 48,
    "start_time": "2021-11-24T11:27:21.962Z"
   },
   {
    "duration": 13,
    "start_time": "2021-11-24T11:27:22.011Z"
   },
   {
    "duration": 17,
    "start_time": "2021-11-24T11:27:22.026Z"
   },
   {
    "duration": 15,
    "start_time": "2021-11-24T11:27:22.044Z"
   },
   {
    "duration": 31,
    "start_time": "2021-11-24T11:27:22.061Z"
   },
   {
    "duration": 55,
    "start_time": "2021-11-24T11:27:22.094Z"
   },
   {
    "duration": 56,
    "start_time": "2021-11-24T11:27:22.150Z"
   },
   {
    "duration": 42,
    "start_time": "2021-11-24T11:27:22.208Z"
   },
   {
    "duration": 55,
    "start_time": "2021-11-24T11:27:22.252Z"
   },
   {
    "duration": 201,
    "start_time": "2021-11-24T11:27:22.308Z"
   },
   {
    "duration": 3153,
    "start_time": "2021-11-24T11:27:22.511Z"
   },
   {
    "duration": 415,
    "start_time": "2021-11-24T11:27:25.251Z"
   },
   {
    "duration": 3217,
    "start_time": "2021-11-24T11:28:17.061Z"
   },
   {
    "duration": 4,
    "start_time": "2021-11-24T11:28:25.175Z"
   },
   {
    "duration": 864,
    "start_time": "2021-11-24T11:28:30.691Z"
   },
   {
    "duration": 406,
    "start_time": "2021-11-24T11:28:31.557Z"
   },
   {
    "duration": 129,
    "start_time": "2021-11-24T11:28:31.965Z"
   },
   {
    "duration": 152,
    "start_time": "2021-11-24T11:28:32.096Z"
   },
   {
    "duration": 95,
    "start_time": "2021-11-24T11:28:32.250Z"
   },
   {
    "duration": 123,
    "start_time": "2021-11-24T11:28:32.346Z"
   },
   {
    "duration": 59,
    "start_time": "2021-11-24T11:28:32.470Z"
   },
   {
    "duration": 30,
    "start_time": "2021-11-24T11:28:32.531Z"
   },
   {
    "duration": 12,
    "start_time": "2021-11-24T11:28:32.563Z"
   },
   {
    "duration": 14,
    "start_time": "2021-11-24T11:28:32.592Z"
   },
   {
    "duration": 15,
    "start_time": "2021-11-24T11:28:32.607Z"
   },
   {
    "duration": 6,
    "start_time": "2021-11-24T11:28:32.623Z"
   },
   {
    "duration": 72,
    "start_time": "2021-11-24T11:28:32.631Z"
   },
   {
    "duration": 43,
    "start_time": "2021-11-24T11:28:32.705Z"
   },
   {
    "duration": 63,
    "start_time": "2021-11-24T11:28:32.750Z"
   },
   {
    "duration": 41,
    "start_time": "2021-11-24T11:28:32.815Z"
   },
   {
    "duration": 206,
    "start_time": "2021-11-24T11:28:32.857Z"
   },
   {
    "duration": 3,
    "start_time": "2021-11-24T11:28:33.065Z"
   },
   {
    "duration": 292,
    "start_time": "2021-11-24T11:28:33.070Z"
   },
   {
    "duration": 7,
    "start_time": "2021-11-24T11:28:46.853Z"
   },
   {
    "duration": 3533,
    "start_time": "2021-11-24T11:28:53.973Z"
   },
   {
    "duration": 9,
    "start_time": "2021-11-24T11:29:10.905Z"
   },
   {
    "duration": 3367,
    "start_time": "2021-11-24T11:29:15.084Z"
   },
   {
    "duration": 842,
    "start_time": "2021-11-24T11:30:21.426Z"
   },
   {
    "duration": 446,
    "start_time": "2021-11-24T11:30:22.270Z"
   },
   {
    "duration": 144,
    "start_time": "2021-11-24T11:30:22.718Z"
   },
   {
    "duration": 170,
    "start_time": "2021-11-24T11:30:22.864Z"
   },
   {
    "duration": 103,
    "start_time": "2021-11-24T11:30:23.036Z"
   },
   {
    "duration": 132,
    "start_time": "2021-11-24T11:30:23.141Z"
   },
   {
    "duration": 75,
    "start_time": "2021-11-24T11:30:23.275Z"
   },
   {
    "duration": 46,
    "start_time": "2021-11-24T11:30:23.352Z"
   },
   {
    "duration": 15,
    "start_time": "2021-11-24T11:30:23.401Z"
   },
   {
    "duration": 28,
    "start_time": "2021-11-24T11:30:23.418Z"
   },
   {
    "duration": 21,
    "start_time": "2021-11-24T11:30:23.448Z"
   },
   {
    "duration": 20,
    "start_time": "2021-11-24T11:30:23.470Z"
   },
   {
    "duration": 68,
    "start_time": "2021-11-24T11:30:23.493Z"
   },
   {
    "duration": 49,
    "start_time": "2021-11-24T11:30:23.562Z"
   },
   {
    "duration": 45,
    "start_time": "2021-11-24T11:30:23.612Z"
   },
   {
    "duration": 59,
    "start_time": "2021-11-24T11:30:23.659Z"
   },
   {
    "duration": 228,
    "start_time": "2021-11-24T11:30:23.720Z"
   },
   {
    "duration": 3562,
    "start_time": "2021-11-24T11:30:23.950Z"
   },
   {
    "duration": 408,
    "start_time": "2021-11-24T11:30:27.105Z"
   },
   {
    "duration": 16,
    "start_time": "2021-11-24T11:31:10.757Z"
   },
   {
    "duration": 922,
    "start_time": "2021-11-24T11:31:19.845Z"
   },
   {
    "duration": 439,
    "start_time": "2021-11-24T11:31:20.768Z"
   },
   {
    "duration": 136,
    "start_time": "2021-11-24T11:31:21.209Z"
   },
   {
    "duration": 163,
    "start_time": "2021-11-24T11:31:21.347Z"
   },
   {
    "duration": 101,
    "start_time": "2021-11-24T11:31:21.511Z"
   },
   {
    "duration": 136,
    "start_time": "2021-11-24T11:31:21.613Z"
   },
   {
    "duration": 70,
    "start_time": "2021-11-24T11:31:21.750Z"
   },
   {
    "duration": 31,
    "start_time": "2021-11-24T11:31:21.824Z"
   },
   {
    "duration": 14,
    "start_time": "2021-11-24T11:31:21.857Z"
   },
   {
    "duration": 21,
    "start_time": "2021-11-24T11:31:21.892Z"
   },
   {
    "duration": 16,
    "start_time": "2021-11-24T11:31:21.915Z"
   },
   {
    "duration": 7,
    "start_time": "2021-11-24T11:31:21.933Z"
   },
   {
    "duration": 84,
    "start_time": "2021-11-24T11:31:21.942Z"
   },
   {
    "duration": 43,
    "start_time": "2021-11-24T11:31:22.028Z"
   },
   {
    "duration": 60,
    "start_time": "2021-11-24T11:31:22.072Z"
   },
   {
    "duration": 38,
    "start_time": "2021-11-24T11:31:22.134Z"
   },
   {
    "duration": 234,
    "start_time": "2021-11-24T11:31:22.173Z"
   },
   {
    "duration": 15,
    "start_time": "2021-11-24T11:31:22.409Z"
   },
   {
    "duration": 300,
    "start_time": "2021-11-24T11:31:22.425Z"
   },
   {
    "duration": 959,
    "start_time": "2021-11-24T11:32:03.997Z"
   },
   {
    "duration": 459,
    "start_time": "2021-11-24T11:32:04.957Z"
   },
   {
    "duration": 144,
    "start_time": "2021-11-24T11:32:05.417Z"
   },
   {
    "duration": 168,
    "start_time": "2021-11-24T11:32:05.563Z"
   },
   {
    "duration": 107,
    "start_time": "2021-11-24T11:32:05.732Z"
   },
   {
    "duration": 142,
    "start_time": "2021-11-24T11:32:05.840Z"
   },
   {
    "duration": 75,
    "start_time": "2021-11-24T11:32:05.984Z"
   },
   {
    "duration": 48,
    "start_time": "2021-11-24T11:32:06.062Z"
   },
   {
    "duration": 12,
    "start_time": "2021-11-24T11:32:06.112Z"
   },
   {
    "duration": 18,
    "start_time": "2021-11-24T11:32:06.126Z"
   },
   {
    "duration": 15,
    "start_time": "2021-11-24T11:32:06.146Z"
   },
   {
    "duration": 29,
    "start_time": "2021-11-24T11:32:06.162Z"
   },
   {
    "duration": 117,
    "start_time": "2021-11-24T11:32:06.193Z"
   },
   {
    "duration": 43,
    "start_time": "2021-11-24T11:32:06.312Z"
   },
   {
    "duration": 63,
    "start_time": "2021-11-24T11:32:06.356Z"
   },
   {
    "duration": 38,
    "start_time": "2021-11-24T11:32:06.420Z"
   },
   {
    "duration": 212,
    "start_time": "2021-11-24T11:32:06.460Z"
   },
   {
    "duration": 17,
    "start_time": "2021-11-24T11:32:06.674Z"
   },
   {
    "duration": 304,
    "start_time": "2021-11-24T11:32:06.694Z"
   },
   {
    "duration": 15,
    "start_time": "2021-11-24T11:35:28.731Z"
   },
   {
    "duration": 189,
    "start_time": "2021-11-24T11:35:38.296Z"
   },
   {
    "duration": 868,
    "start_time": "2021-11-24T11:35:59.116Z"
   },
   {
    "duration": 415,
    "start_time": "2021-11-24T11:35:59.986Z"
   },
   {
    "duration": 135,
    "start_time": "2021-11-24T11:36:00.402Z"
   },
   {
    "duration": 155,
    "start_time": "2021-11-24T11:36:00.539Z"
   },
   {
    "duration": 97,
    "start_time": "2021-11-24T11:36:00.695Z"
   },
   {
    "duration": 122,
    "start_time": "2021-11-24T11:36:00.794Z"
   },
   {
    "duration": 59,
    "start_time": "2021-11-24T11:36:00.918Z"
   },
   {
    "duration": 42,
    "start_time": "2021-11-24T11:36:00.979Z"
   },
   {
    "duration": 13,
    "start_time": "2021-11-24T11:36:01.023Z"
   },
   {
    "duration": 42,
    "start_time": "2021-11-24T11:36:01.037Z"
   },
   {
    "duration": 24,
    "start_time": "2021-11-24T11:36:01.080Z"
   },
   {
    "duration": 10,
    "start_time": "2021-11-24T11:36:01.106Z"
   },
   {
    "duration": 66,
    "start_time": "2021-11-24T11:36:01.118Z"
   },
   {
    "duration": 45,
    "start_time": "2021-11-24T11:36:01.186Z"
   },
   {
    "duration": 44,
    "start_time": "2021-11-24T11:36:01.232Z"
   },
   {
    "duration": 53,
    "start_time": "2021-11-24T11:36:01.278Z"
   },
   {
    "duration": 201,
    "start_time": "2021-11-24T11:36:01.333Z"
   },
   {
    "duration": 202,
    "start_time": "2021-11-24T11:36:01.536Z"
   },
   {
    "duration": 288,
    "start_time": "2021-11-24T11:36:01.739Z"
   },
   {
    "duration": 187,
    "start_time": "2021-11-24T11:36:33.316Z"
   },
   {
    "duration": 187,
    "start_time": "2021-11-24T11:36:58.908Z"
   },
   {
    "duration": 194,
    "start_time": "2021-11-24T11:39:29.318Z"
   },
   {
    "duration": 3326,
    "start_time": "2021-11-24T11:40:19.303Z"
   },
   {
    "duration": 4,
    "start_time": "2021-11-24T11:40:43.157Z"
   },
   {
    "duration": 7,
    "start_time": "2021-11-24T11:40:48.390Z"
   },
   {
    "duration": 3256,
    "start_time": "2021-11-24T11:40:52.444Z"
   },
   {
    "duration": 3589,
    "start_time": "2021-11-24T11:41:31.467Z"
   },
   {
    "duration": 872,
    "start_time": "2021-11-24T11:41:42.510Z"
   },
   {
    "duration": 412,
    "start_time": "2021-11-24T11:41:43.384Z"
   },
   {
    "duration": 132,
    "start_time": "2021-11-24T11:41:43.799Z"
   },
   {
    "duration": 153,
    "start_time": "2021-11-24T11:41:43.933Z"
   },
   {
    "duration": 75,
    "start_time": "2021-11-24T11:41:44.091Z"
   },
   {
    "duration": 124,
    "start_time": "2021-11-24T11:41:44.168Z"
   },
   {
    "duration": 53,
    "start_time": "2021-11-24T11:41:44.294Z"
   },
   {
    "duration": 50,
    "start_time": "2021-11-24T11:41:44.350Z"
   },
   {
    "duration": 13,
    "start_time": "2021-11-24T11:41:44.402Z"
   },
   {
    "duration": 15,
    "start_time": "2021-11-24T11:41:44.416Z"
   },
   {
    "duration": 15,
    "start_time": "2021-11-24T11:41:44.432Z"
   },
   {
    "duration": 6,
    "start_time": "2021-11-24T11:41:44.448Z"
   },
   {
    "duration": 76,
    "start_time": "2021-11-24T11:41:44.456Z"
   },
   {
    "duration": 42,
    "start_time": "2021-11-24T11:41:44.534Z"
   },
   {
    "duration": 50,
    "start_time": "2021-11-24T11:41:44.592Z"
   },
   {
    "duration": 52,
    "start_time": "2021-11-24T11:41:44.643Z"
   },
   {
    "duration": 198,
    "start_time": "2021-11-24T11:41:44.696Z"
   },
   {
    "duration": 210,
    "start_time": "2021-11-24T11:41:44.895Z"
   },
   {
    "duration": 35,
    "start_time": "2021-11-24T11:41:45.106Z"
   },
   {
    "duration": 49,
    "start_time": "2021-11-24T11:41:50.979Z"
   },
   {
    "duration": 693,
    "start_time": "2021-11-24T11:43:17.284Z"
   },
   {
    "duration": 332,
    "start_time": "2021-11-24T11:43:43.056Z"
   },
   {
    "duration": 333,
    "start_time": "2021-11-24T11:47:40.688Z"
   },
   {
    "duration": 367,
    "start_time": "2021-11-24T11:47:57.379Z"
   },
   {
    "duration": 913,
    "start_time": "2021-11-24T11:48:13.523Z"
   },
   {
    "duration": 504,
    "start_time": "2021-11-24T11:48:14.438Z"
   },
   {
    "duration": 134,
    "start_time": "2021-11-24T11:48:14.944Z"
   },
   {
    "duration": 156,
    "start_time": "2021-11-24T11:48:15.080Z"
   },
   {
    "duration": 96,
    "start_time": "2021-11-24T11:48:15.238Z"
   },
   {
    "duration": 35,
    "start_time": "2021-11-24T11:48:15.335Z"
   },
   {
    "duration": 75,
    "start_time": "2021-11-24T11:48:15.371Z"
   },
   {
    "duration": 28,
    "start_time": "2021-11-24T11:48:15.448Z"
   },
   {
    "duration": 25,
    "start_time": "2021-11-24T11:48:15.478Z"
   },
   {
    "duration": 15,
    "start_time": "2021-11-24T11:48:15.508Z"
   },
   {
    "duration": 15,
    "start_time": "2021-11-24T11:48:15.525Z"
   },
   {
    "duration": 6,
    "start_time": "2021-11-24T11:48:15.541Z"
   },
   {
    "duration": 80,
    "start_time": "2021-11-24T11:48:15.549Z"
   },
   {
    "duration": 45,
    "start_time": "2021-11-24T11:48:15.631Z"
   },
   {
    "duration": 59,
    "start_time": "2021-11-24T11:48:15.678Z"
   },
   {
    "duration": 37,
    "start_time": "2021-11-24T11:48:15.739Z"
   },
   {
    "duration": 192,
    "start_time": "2021-11-24T11:48:15.791Z"
   },
   {
    "duration": 212,
    "start_time": "2021-11-24T11:48:15.985Z"
   },
   {
    "duration": 428,
    "start_time": "2021-11-24T11:48:16.199Z"
   },
   {
    "duration": 385,
    "start_time": "2021-11-24T11:48:45.990Z"
   },
   {
    "duration": 346,
    "start_time": "2021-11-24T11:48:56.228Z"
   },
   {
    "duration": 795,
    "start_time": "2021-11-24T11:49:05.550Z"
   },
   {
    "duration": 400,
    "start_time": "2021-11-24T11:49:06.347Z"
   },
   {
    "duration": 127,
    "start_time": "2021-11-24T11:49:06.749Z"
   },
   {
    "duration": 160,
    "start_time": "2021-11-24T11:49:06.878Z"
   },
   {
    "duration": 101,
    "start_time": "2021-11-24T11:49:07.040Z"
   },
   {
    "duration": 35,
    "start_time": "2021-11-24T11:49:07.142Z"
   },
   {
    "duration": 67,
    "start_time": "2021-11-24T11:49:07.179Z"
   },
   {
    "duration": 48,
    "start_time": "2021-11-24T11:49:07.249Z"
   },
   {
    "duration": 12,
    "start_time": "2021-11-24T11:49:07.299Z"
   },
   {
    "duration": 16,
    "start_time": "2021-11-24T11:49:07.313Z"
   },
   {
    "duration": 19,
    "start_time": "2021-11-24T11:49:07.331Z"
   },
   {
    "duration": 7,
    "start_time": "2021-11-24T11:49:07.351Z"
   },
   {
    "duration": 75,
    "start_time": "2021-11-24T11:49:07.359Z"
   },
   {
    "duration": 57,
    "start_time": "2021-11-24T11:49:07.435Z"
   },
   {
    "duration": 44,
    "start_time": "2021-11-24T11:49:07.494Z"
   },
   {
    "duration": 55,
    "start_time": "2021-11-24T11:49:07.540Z"
   },
   {
    "duration": 186,
    "start_time": "2021-11-24T11:49:07.596Z"
   },
   {
    "duration": 194,
    "start_time": "2021-11-24T11:49:07.784Z"
   },
   {
    "duration": 458,
    "start_time": "2021-11-24T11:49:07.979Z"
   },
   {
    "duration": 77,
    "start_time": "2021-11-24T11:50:29.266Z"
   },
   {
    "duration": 362,
    "start_time": "2021-11-24T11:50:34.313Z"
   },
   {
    "duration": 389,
    "start_time": "2021-11-24T11:50:54.298Z"
   },
   {
    "duration": 369,
    "start_time": "2021-11-24T11:52:11.333Z"
   },
   {
    "duration": 398,
    "start_time": "2021-11-24T11:52:39.444Z"
   },
   {
    "duration": 417,
    "start_time": "2021-11-24T11:53:20.668Z"
   },
   {
    "duration": 855,
    "start_time": "2021-11-24T11:53:27.502Z"
   },
   {
    "duration": 408,
    "start_time": "2021-11-24T11:53:28.358Z"
   },
   {
    "duration": 130,
    "start_time": "2021-11-24T11:53:28.768Z"
   },
   {
    "duration": 150,
    "start_time": "2021-11-24T11:53:28.900Z"
   },
   {
    "duration": 94,
    "start_time": "2021-11-24T11:53:29.051Z"
   },
   {
    "duration": 34,
    "start_time": "2021-11-24T11:53:29.146Z"
   },
   {
    "duration": 58,
    "start_time": "2021-11-24T11:53:29.191Z"
   },
   {
    "duration": 47,
    "start_time": "2021-11-24T11:53:29.251Z"
   },
   {
    "duration": 12,
    "start_time": "2021-11-24T11:53:29.300Z"
   },
   {
    "duration": 15,
    "start_time": "2021-11-24T11:53:29.314Z"
   },
   {
    "duration": 15,
    "start_time": "2021-11-24T11:53:29.330Z"
   },
   {
    "duration": 5,
    "start_time": "2021-11-24T11:53:29.347Z"
   },
   {
    "duration": 75,
    "start_time": "2021-11-24T11:53:29.354Z"
   },
   {
    "duration": 42,
    "start_time": "2021-11-24T11:53:29.431Z"
   },
   {
    "duration": 57,
    "start_time": "2021-11-24T11:53:29.475Z"
   },
   {
    "duration": 39,
    "start_time": "2021-11-24T11:53:29.534Z"
   },
   {
    "duration": 203,
    "start_time": "2021-11-24T11:53:29.574Z"
   },
   {
    "duration": 194,
    "start_time": "2021-11-24T11:53:29.779Z"
   },
   {
    "duration": 498,
    "start_time": "2021-11-24T11:53:29.976Z"
   },
   {
    "duration": 349,
    "start_time": "2021-11-24T11:54:45.781Z"
   },
   {
    "duration": 365,
    "start_time": "2021-11-24T11:55:23.245Z"
   },
   {
    "duration": 344,
    "start_time": "2021-11-24T11:55:33.973Z"
   },
   {
    "duration": 356,
    "start_time": "2021-11-24T11:56:34.098Z"
   },
   {
    "duration": 535,
    "start_time": "2021-11-24T11:56:46.078Z"
   },
   {
    "duration": 1153,
    "start_time": "2021-11-24T11:57:57.499Z"
   },
   {
    "duration": 909,
    "start_time": "2021-11-24T11:58:16.583Z"
   },
   {
    "duration": 338,
    "start_time": "2021-11-24T11:59:46.708Z"
   },
   {
    "duration": 339,
    "start_time": "2021-11-24T12:04:14.339Z"
   },
   {
    "duration": 903,
    "start_time": "2021-11-24T12:04:26.035Z"
   },
   {
    "duration": 811,
    "start_time": "2021-11-24T12:05:32.316Z"
   },
   {
    "duration": 1763,
    "start_time": "2021-11-24T12:06:13.232Z"
   },
   {
    "duration": 1806,
    "start_time": "2021-11-24T12:07:48.981Z"
   },
   {
    "duration": 875,
    "start_time": "2021-11-24T12:08:04.757Z"
   },
   {
    "duration": 881,
    "start_time": "2021-11-24T12:08:09.966Z"
   },
   {
    "duration": 403,
    "start_time": "2021-11-24T12:08:10.849Z"
   },
   {
    "duration": 135,
    "start_time": "2021-11-24T12:08:11.257Z"
   },
   {
    "duration": 148,
    "start_time": "2021-11-24T12:08:11.394Z"
   },
   {
    "duration": 94,
    "start_time": "2021-11-24T12:08:11.543Z"
   },
   {
    "duration": 34,
    "start_time": "2021-11-24T12:08:11.638Z"
   },
   {
    "duration": 74,
    "start_time": "2021-11-24T12:08:11.674Z"
   },
   {
    "duration": 42,
    "start_time": "2021-11-24T12:08:11.750Z"
   },
   {
    "duration": 14,
    "start_time": "2021-11-24T12:08:11.794Z"
   },
   {
    "duration": 19,
    "start_time": "2021-11-24T12:08:11.810Z"
   },
   {
    "duration": 23,
    "start_time": "2021-11-24T12:08:11.831Z"
   },
   {
    "duration": 6,
    "start_time": "2021-11-24T12:08:11.856Z"
   },
   {
    "duration": 48,
    "start_time": "2021-11-24T12:08:11.891Z"
   },
   {
    "duration": 58,
    "start_time": "2021-11-24T12:08:11.941Z"
   },
   {
    "duration": 47,
    "start_time": "2021-11-24T12:08:12.000Z"
   },
   {
    "duration": 55,
    "start_time": "2021-11-24T12:08:12.049Z"
   },
   {
    "duration": 47,
    "start_time": "2021-11-24T12:08:12.105Z"
   },
   {
    "duration": 67,
    "start_time": "2021-11-24T12:08:12.154Z"
   },
   {
    "duration": 277,
    "start_time": "2021-11-24T12:08:12.222Z"
   },
   {
    "duration": 886,
    "start_time": "2021-11-24T12:08:24.740Z"
   },
   {
    "duration": 414,
    "start_time": "2021-11-24T12:08:25.628Z"
   },
   {
    "duration": 128,
    "start_time": "2021-11-24T12:08:26.044Z"
   },
   {
    "duration": 151,
    "start_time": "2021-11-24T12:08:26.174Z"
   },
   {
    "duration": 96,
    "start_time": "2021-11-24T12:08:26.327Z"
   },
   {
    "duration": 35,
    "start_time": "2021-11-24T12:08:26.425Z"
   },
   {
    "duration": 79,
    "start_time": "2021-11-24T12:08:26.462Z"
   },
   {
    "duration": 31,
    "start_time": "2021-11-24T12:08:26.545Z"
   },
   {
    "duration": 14,
    "start_time": "2021-11-24T12:08:26.591Z"
   },
   {
    "duration": 19,
    "start_time": "2021-11-24T12:08:26.606Z"
   },
   {
    "duration": 32,
    "start_time": "2021-11-24T12:08:26.627Z"
   },
   {
    "duration": 13,
    "start_time": "2021-11-24T12:08:26.660Z"
   },
   {
    "duration": 81,
    "start_time": "2021-11-24T12:08:26.674Z"
   },
   {
    "duration": 42,
    "start_time": "2021-11-24T12:08:26.756Z"
   },
   {
    "duration": 42,
    "start_time": "2021-11-24T12:08:26.800Z"
   },
   {
    "duration": 56,
    "start_time": "2021-11-24T12:08:26.844Z"
   },
   {
    "duration": 50,
    "start_time": "2021-11-24T12:08:26.902Z"
   },
   {
    "duration": 71,
    "start_time": "2021-11-24T12:08:26.954Z"
   },
   {
    "duration": 36,
    "start_time": "2021-11-24T12:08:27.027Z"
   },
   {
    "duration": 7,
    "start_time": "2021-11-24T12:12:22.921Z"
   },
   {
    "duration": 174,
    "start_time": "2021-11-24T12:13:39.486Z"
   },
   {
    "duration": 265,
    "start_time": "2021-11-24T12:14:29.058Z"
   },
   {
    "duration": 817,
    "start_time": "2021-11-24T12:14:34.925Z"
   },
   {
    "duration": 408,
    "start_time": "2021-11-24T12:14:35.744Z"
   },
   {
    "duration": 136,
    "start_time": "2021-11-24T12:14:36.154Z"
   },
   {
    "duration": 148,
    "start_time": "2021-11-24T12:14:36.292Z"
   },
   {
    "duration": 94,
    "start_time": "2021-11-24T12:14:36.442Z"
   },
   {
    "duration": 35,
    "start_time": "2021-11-24T12:14:36.538Z"
   },
   {
    "duration": 71,
    "start_time": "2021-11-24T12:14:36.574Z"
   },
   {
    "duration": 47,
    "start_time": "2021-11-24T12:14:36.647Z"
   },
   {
    "duration": 12,
    "start_time": "2021-11-24T12:14:36.696Z"
   },
   {
    "duration": 15,
    "start_time": "2021-11-24T12:14:36.710Z"
   },
   {
    "duration": 14,
    "start_time": "2021-11-24T12:14:36.727Z"
   },
   {
    "duration": 7,
    "start_time": "2021-11-24T12:14:36.743Z"
   },
   {
    "duration": 78,
    "start_time": "2021-11-24T12:14:36.752Z"
   },
   {
    "duration": 45,
    "start_time": "2021-11-24T12:14:36.831Z"
   },
   {
    "duration": 57,
    "start_time": "2021-11-24T12:14:36.877Z"
   },
   {
    "duration": 56,
    "start_time": "2021-11-24T12:14:36.936Z"
   },
   {
    "duration": 264,
    "start_time": "2021-11-24T12:14:36.994Z"
   },
   {
    "duration": 55,
    "start_time": "2021-11-24T12:14:37.260Z"
   },
   {
    "duration": 33,
    "start_time": "2021-11-24T12:14:37.316Z"
   },
   {
    "duration": 253,
    "start_time": "2021-11-24T12:17:10.361Z"
   },
   {
    "duration": 153,
    "start_time": "2021-11-24T12:17:58.973Z"
   },
   {
    "duration": 180,
    "start_time": "2021-11-24T12:18:31.937Z"
   },
   {
    "duration": 186,
    "start_time": "2021-11-24T12:18:45.401Z"
   },
   {
    "duration": 510,
    "start_time": "2021-11-24T12:19:07.553Z"
   },
   {
    "duration": 452,
    "start_time": "2021-11-24T12:19:32.805Z"
   },
   {
    "duration": 485,
    "start_time": "2021-11-24T12:19:50.329Z"
   },
   {
    "duration": 68,
    "start_time": "2021-11-24T12:20:35.749Z"
   },
   {
    "duration": 1011,
    "start_time": "2021-11-24T12:20:51.209Z"
   },
   {
    "duration": 1338,
    "start_time": "2021-11-24T12:21:21.628Z"
   },
   {
    "duration": 255,
    "start_time": "2021-11-24T12:21:40.509Z"
   },
   {
    "duration": 8,
    "start_time": "2021-11-24T12:22:36.256Z"
   },
   {
    "duration": 251,
    "start_time": "2021-11-24T12:22:41.459Z"
   },
   {
    "duration": 371,
    "start_time": "2021-11-24T12:23:48.426Z"
   },
   {
    "duration": 9,
    "start_time": "2021-11-24T12:24:18.733Z"
   },
   {
    "duration": 902,
    "start_time": "2021-11-24T12:24:25.948Z"
   },
   {
    "duration": 421,
    "start_time": "2021-11-24T12:24:26.852Z"
   },
   {
    "duration": 133,
    "start_time": "2021-11-24T12:24:27.275Z"
   },
   {
    "duration": 162,
    "start_time": "2021-11-24T12:24:27.409Z"
   },
   {
    "duration": 91,
    "start_time": "2021-11-24T12:24:27.573Z"
   },
   {
    "duration": 49,
    "start_time": "2021-11-24T12:24:27.665Z"
   },
   {
    "duration": 77,
    "start_time": "2021-11-24T12:24:27.715Z"
   },
   {
    "duration": 30,
    "start_time": "2021-11-24T12:24:27.795Z"
   },
   {
    "duration": 13,
    "start_time": "2021-11-24T12:24:27.827Z"
   },
   {
    "duration": 49,
    "start_time": "2021-11-24T12:24:27.842Z"
   },
   {
    "duration": 16,
    "start_time": "2021-11-24T12:24:27.893Z"
   },
   {
    "duration": 17,
    "start_time": "2021-11-24T12:24:27.911Z"
   },
   {
    "duration": 62,
    "start_time": "2021-11-24T12:24:27.930Z"
   },
   {
    "duration": 46,
    "start_time": "2021-11-24T12:24:27.994Z"
   },
   {
    "duration": 61,
    "start_time": "2021-11-24T12:24:28.041Z"
   },
   {
    "duration": 38,
    "start_time": "2021-11-24T12:24:28.103Z"
   },
   {
    "duration": 291,
    "start_time": "2021-11-24T12:24:28.143Z"
   },
   {
    "duration": 269,
    "start_time": "2021-11-24T12:24:28.435Z"
   },
   {
    "duration": 375,
    "start_time": "2021-11-24T12:24:28.705Z"
   },
   {
    "duration": 414,
    "start_time": "2021-11-24T12:25:20.754Z"
   },
   {
    "duration": 1285,
    "start_time": "2021-11-24T12:25:44.043Z"
   },
   {
    "duration": 432,
    "start_time": "2021-11-24T12:25:45.330Z"
   },
   {
    "duration": 134,
    "start_time": "2021-11-24T12:25:45.764Z"
   },
   {
    "duration": 167,
    "start_time": "2021-11-24T12:25:45.900Z"
   },
   {
    "duration": 95,
    "start_time": "2021-11-24T12:25:46.068Z"
   },
   {
    "duration": 45,
    "start_time": "2021-11-24T12:25:46.165Z"
   },
   {
    "duration": 59,
    "start_time": "2021-11-24T12:25:46.212Z"
   },
   {
    "duration": 44,
    "start_time": "2021-11-24T12:25:46.273Z"
   },
   {
    "duration": 13,
    "start_time": "2021-11-24T12:25:46.319Z"
   },
   {
    "duration": 15,
    "start_time": "2021-11-24T12:25:46.334Z"
   },
   {
    "duration": 16,
    "start_time": "2021-11-24T12:25:46.350Z"
   },
   {
    "duration": 8,
    "start_time": "2021-11-24T12:25:46.392Z"
   },
   {
    "duration": 49,
    "start_time": "2021-11-24T12:25:46.402Z"
   },
   {
    "duration": 58,
    "start_time": "2021-11-24T12:25:46.453Z"
   },
   {
    "duration": 42,
    "start_time": "2021-11-24T12:25:46.513Z"
   },
   {
    "duration": 54,
    "start_time": "2021-11-24T12:25:46.557Z"
   },
   {
    "duration": 276,
    "start_time": "2021-11-24T12:25:46.612Z"
   },
   {
    "duration": 273,
    "start_time": "2021-11-24T12:25:46.889Z"
   },
   {
    "duration": 378,
    "start_time": "2021-11-24T12:25:47.164Z"
   },
   {
    "duration": 15,
    "start_time": "2021-11-24T12:26:28.743Z"
   },
   {
    "duration": 24,
    "start_time": "2021-11-24T12:31:04.888Z"
   },
   {
    "duration": 26,
    "start_time": "2021-11-24T12:31:08.381Z"
   },
   {
    "duration": 25,
    "start_time": "2021-11-24T12:31:12.504Z"
   },
   {
    "duration": 23,
    "start_time": "2021-11-24T12:31:17.770Z"
   },
   {
    "duration": 10,
    "start_time": "2021-11-24T12:31:44.293Z"
   },
   {
    "duration": 8,
    "start_time": "2021-11-24T12:33:38.105Z"
   },
   {
    "duration": 15,
    "start_time": "2021-11-24T12:33:57.516Z"
   },
   {
    "duration": 15,
    "start_time": "2021-11-24T12:34:42.999Z"
   },
   {
    "duration": 500,
    "start_time": "2021-11-24T12:36:20.154Z"
   },
   {
    "duration": 5286,
    "start_time": "2021-11-24T12:36:37.599Z"
   },
   {
    "duration": 17,
    "start_time": "2021-11-24T12:36:51.513Z"
   },
   {
    "duration": 873,
    "start_time": "2021-11-24T12:37:00.336Z"
   },
   {
    "duration": 428,
    "start_time": "2021-11-24T12:37:01.211Z"
   },
   {
    "duration": 132,
    "start_time": "2021-11-24T12:37:01.641Z"
   },
   {
    "duration": 150,
    "start_time": "2021-11-24T12:37:01.775Z"
   },
   {
    "duration": 100,
    "start_time": "2021-11-24T12:37:01.926Z"
   },
   {
    "duration": 36,
    "start_time": "2021-11-24T12:37:02.027Z"
   },
   {
    "duration": 69,
    "start_time": "2021-11-24T12:37:02.065Z"
   },
   {
    "duration": 29,
    "start_time": "2021-11-24T12:37:02.138Z"
   },
   {
    "duration": 33,
    "start_time": "2021-11-24T12:37:02.169Z"
   },
   {
    "duration": 17,
    "start_time": "2021-11-24T12:37:02.204Z"
   },
   {
    "duration": 16,
    "start_time": "2021-11-24T12:37:02.223Z"
   },
   {
    "duration": 9,
    "start_time": "2021-11-24T12:37:02.240Z"
   },
   {
    "duration": 66,
    "start_time": "2021-11-24T12:37:02.250Z"
   },
   {
    "duration": 31,
    "start_time": "2021-11-24T12:37:02.318Z"
   },
   {
    "duration": 43,
    "start_time": "2021-11-24T12:37:02.351Z"
   },
   {
    "duration": 29,
    "start_time": "2021-11-24T12:37:02.396Z"
   },
   {
    "duration": 298,
    "start_time": "2021-11-24T12:37:02.427Z"
   },
   {
    "duration": 267,
    "start_time": "2021-11-24T12:37:02.726Z"
   },
   {
    "duration": 371,
    "start_time": "2021-11-24T12:37:02.994Z"
   },
   {
    "duration": 14,
    "start_time": "2021-11-24T12:37:03.366Z"
   },
   {
    "duration": 904,
    "start_time": "2021-11-24T12:37:55.252Z"
   },
   {
    "duration": 426,
    "start_time": "2021-11-24T12:37:56.158Z"
   },
   {
    "duration": 135,
    "start_time": "2021-11-24T12:37:56.586Z"
   },
   {
    "duration": 157,
    "start_time": "2021-11-24T12:37:56.723Z"
   },
   {
    "duration": 98,
    "start_time": "2021-11-24T12:37:56.881Z"
   },
   {
    "duration": 46,
    "start_time": "2021-11-24T12:37:56.981Z"
   },
   {
    "duration": 73,
    "start_time": "2021-11-24T12:37:57.029Z"
   },
   {
    "duration": 33,
    "start_time": "2021-11-24T12:37:57.104Z"
   },
   {
    "duration": 13,
    "start_time": "2021-11-24T12:37:57.139Z"
   },
   {
    "duration": 40,
    "start_time": "2021-11-24T12:37:57.154Z"
   },
   {
    "duration": 17,
    "start_time": "2021-11-24T12:37:57.196Z"
   },
   {
    "duration": 13,
    "start_time": "2021-11-24T12:37:57.215Z"
   },
   {
    "duration": 41,
    "start_time": "2021-11-24T12:37:57.230Z"
   },
   {
    "duration": 42,
    "start_time": "2021-11-24T12:37:57.272Z"
   },
   {
    "duration": 32,
    "start_time": "2021-11-24T12:37:57.316Z"
   },
   {
    "duration": 57,
    "start_time": "2021-11-24T12:37:57.350Z"
   },
   {
    "duration": 270,
    "start_time": "2021-11-24T12:37:57.408Z"
   },
   {
    "duration": 260,
    "start_time": "2021-11-24T12:37:57.680Z"
   },
   {
    "duration": 401,
    "start_time": "2021-11-24T12:37:57.942Z"
   },
   {
    "duration": 10,
    "start_time": "2021-11-24T12:37:58.345Z"
   },
   {
    "duration": 4911,
    "start_time": "2021-11-24T12:38:16.348Z"
   },
   {
    "duration": 866,
    "start_time": "2021-11-24T12:38:49.296Z"
   },
   {
    "duration": 427,
    "start_time": "2021-11-24T12:38:50.164Z"
   },
   {
    "duration": 135,
    "start_time": "2021-11-24T12:38:50.593Z"
   },
   {
    "duration": 156,
    "start_time": "2021-11-24T12:38:50.729Z"
   },
   {
    "duration": 83,
    "start_time": "2021-11-24T12:38:50.891Z"
   },
   {
    "duration": 48,
    "start_time": "2021-11-24T12:38:50.976Z"
   },
   {
    "duration": 67,
    "start_time": "2021-11-24T12:38:51.025Z"
   },
   {
    "duration": 30,
    "start_time": "2021-11-24T12:38:51.094Z"
   },
   {
    "duration": 12,
    "start_time": "2021-11-24T12:38:51.126Z"
   },
   {
    "duration": 19,
    "start_time": "2021-11-24T12:38:51.140Z"
   },
   {
    "duration": 34,
    "start_time": "2021-11-24T12:38:51.161Z"
   },
   {
    "duration": 11,
    "start_time": "2021-11-24T12:38:51.197Z"
   },
   {
    "duration": 38,
    "start_time": "2021-11-24T12:38:51.210Z"
   },
   {
    "duration": 42,
    "start_time": "2021-11-24T12:38:51.249Z"
   },
   {
    "duration": 32,
    "start_time": "2021-11-24T12:38:51.293Z"
   },
   {
    "duration": 27,
    "start_time": "2021-11-24T12:38:51.327Z"
   },
   {
    "duration": 282,
    "start_time": "2021-11-24T12:38:51.355Z"
   },
   {
    "duration": 268,
    "start_time": "2021-11-24T12:38:51.638Z"
   },
   {
    "duration": 389,
    "start_time": "2021-11-24T12:38:51.908Z"
   },
   {
    "duration": 10,
    "start_time": "2021-11-24T12:38:52.299Z"
   },
   {
    "duration": 7,
    "start_time": "2021-11-24T12:38:52.311Z"
   },
   {
    "duration": 6,
    "start_time": "2021-11-24T12:39:15.822Z"
   },
   {
    "duration": 7,
    "start_time": "2021-11-24T12:39:19.902Z"
   },
   {
    "duration": 6,
    "start_time": "2021-11-24T12:39:24.588Z"
   },
   {
    "duration": 4873,
    "start_time": "2021-11-24T12:39:41.937Z"
   },
   {
    "duration": 517,
    "start_time": "2021-11-24T12:39:46.295Z"
   },
   {
    "duration": 885,
    "start_time": "2021-11-24T12:39:55.964Z"
   },
   {
    "duration": 426,
    "start_time": "2021-11-24T12:39:56.851Z"
   },
   {
    "duration": 136,
    "start_time": "2021-11-24T12:39:57.279Z"
   },
   {
    "duration": 155,
    "start_time": "2021-11-24T12:39:57.417Z"
   },
   {
    "duration": 91,
    "start_time": "2021-11-24T12:39:57.573Z"
   },
   {
    "duration": 42,
    "start_time": "2021-11-24T12:39:57.666Z"
   },
   {
    "duration": 55,
    "start_time": "2021-11-24T12:39:57.709Z"
   },
   {
    "duration": 46,
    "start_time": "2021-11-24T12:39:57.766Z"
   },
   {
    "duration": 12,
    "start_time": "2021-11-24T12:39:57.814Z"
   },
   {
    "duration": 16,
    "start_time": "2021-11-24T12:39:57.828Z"
   },
   {
    "duration": 15,
    "start_time": "2021-11-24T12:39:57.845Z"
   },
   {
    "duration": 33,
    "start_time": "2021-11-24T12:39:57.861Z"
   },
   {
    "duration": 43,
    "start_time": "2021-11-24T12:39:57.895Z"
   },
   {
    "duration": 29,
    "start_time": "2021-11-24T12:39:57.940Z"
   },
   {
    "duration": 42,
    "start_time": "2021-11-24T12:39:57.970Z"
   },
   {
    "duration": 26,
    "start_time": "2021-11-24T12:39:58.013Z"
   },
   {
    "duration": 267,
    "start_time": "2021-11-24T12:39:58.040Z"
   },
   {
    "duration": 261,
    "start_time": "2021-11-24T12:39:58.308Z"
   },
   {
    "duration": 374,
    "start_time": "2021-11-24T12:39:58.571Z"
   },
   {
    "duration": 10,
    "start_time": "2021-11-24T12:39:58.946Z"
   },
   {
    "duration": 6,
    "start_time": "2021-11-24T12:39:58.957Z"
   },
   {
    "duration": 843,
    "start_time": "2021-11-24T12:40:47.614Z"
   },
   {
    "duration": 410,
    "start_time": "2021-11-24T12:40:48.459Z"
   },
   {
    "duration": 125,
    "start_time": "2021-11-24T12:40:48.871Z"
   },
   {
    "duration": 151,
    "start_time": "2021-11-24T12:40:48.998Z"
   },
   {
    "duration": 91,
    "start_time": "2021-11-24T12:40:49.151Z"
   },
   {
    "duration": 35,
    "start_time": "2021-11-24T12:40:49.243Z"
   },
   {
    "duration": 57,
    "start_time": "2021-11-24T12:40:49.291Z"
   },
   {
    "duration": 46,
    "start_time": "2021-11-24T12:40:49.351Z"
   },
   {
    "duration": 12,
    "start_time": "2021-11-24T12:40:49.399Z"
   },
   {
    "duration": 15,
    "start_time": "2021-11-24T12:40:49.413Z"
   },
   {
    "duration": 14,
    "start_time": "2021-11-24T12:40:49.430Z"
   },
   {
    "duration": 8,
    "start_time": "2021-11-24T12:40:49.445Z"
   },
   {
    "duration": 65,
    "start_time": "2021-11-24T12:40:49.454Z"
   },
   {
    "duration": 29,
    "start_time": "2021-11-24T12:40:49.521Z"
   },
   {
    "duration": 41,
    "start_time": "2021-11-24T12:40:49.551Z"
   },
   {
    "duration": 26,
    "start_time": "2021-11-24T12:40:49.594Z"
   },
   {
    "duration": 271,
    "start_time": "2021-11-24T12:40:49.621Z"
   },
   {
    "duration": 287,
    "start_time": "2021-11-24T12:40:49.893Z"
   },
   {
    "duration": 388,
    "start_time": "2021-11-24T12:40:50.182Z"
   },
   {
    "duration": 19,
    "start_time": "2021-11-24T12:40:50.572Z"
   },
   {
    "duration": 5,
    "start_time": "2021-11-24T12:40:50.593Z"
   },
   {
    "duration": 6,
    "start_time": "2021-11-24T12:41:25.049Z"
   },
   {
    "duration": 2,
    "start_time": "2021-11-24T12:42:43.024Z"
   },
   {
    "duration": 3,
    "start_time": "2021-11-24T12:42:45.257Z"
   },
   {
    "duration": 65,
    "start_time": "2021-11-24T12:43:02.618Z"
   },
   {
    "duration": 57,
    "start_time": "2021-11-24T12:43:35.900Z"
   },
   {
    "duration": 69,
    "start_time": "2021-11-24T12:44:02.045Z"
   },
   {
    "duration": 852,
    "start_time": "2021-11-24T12:44:15.919Z"
   },
   {
    "duration": 421,
    "start_time": "2021-11-24T12:44:16.772Z"
   },
   {
    "duration": 137,
    "start_time": "2021-11-24T12:44:17.195Z"
   },
   {
    "duration": 150,
    "start_time": "2021-11-24T12:44:17.333Z"
   },
   {
    "duration": 84,
    "start_time": "2021-11-24T12:44:17.485Z"
   },
   {
    "duration": 46,
    "start_time": "2021-11-24T12:44:17.571Z"
   },
   {
    "duration": 58,
    "start_time": "2021-11-24T12:44:17.618Z"
   },
   {
    "duration": 41,
    "start_time": "2021-11-24T12:44:17.678Z"
   },
   {
    "duration": 13,
    "start_time": "2021-11-24T12:44:17.721Z"
   },
   {
    "duration": 17,
    "start_time": "2021-11-24T12:44:17.735Z"
   },
   {
    "duration": 15,
    "start_time": "2021-11-24T12:44:17.753Z"
   },
   {
    "duration": 27,
    "start_time": "2021-11-24T12:44:17.769Z"
   },
   {
    "duration": 40,
    "start_time": "2021-11-24T12:44:17.798Z"
   },
   {
    "duration": 28,
    "start_time": "2021-11-24T12:44:17.840Z"
   },
   {
    "duration": 45,
    "start_time": "2021-11-24T12:44:17.870Z"
   },
   {
    "duration": 26,
    "start_time": "2021-11-24T12:44:17.917Z"
   },
   {
    "duration": 277,
    "start_time": "2021-11-24T12:44:17.944Z"
   },
   {
    "duration": 273,
    "start_time": "2021-11-24T12:44:18.223Z"
   },
   {
    "duration": 371,
    "start_time": "2021-11-24T12:44:18.497Z"
   },
   {
    "duration": 58,
    "start_time": "2021-11-24T12:44:18.869Z"
   },
   {
    "duration": 622,
    "start_time": "2021-11-24T12:44:18.307Z"
   },
   {
    "duration": 603,
    "start_time": "2021-11-24T12:44:18.327Z"
   },
   {
    "duration": 16,
    "start_time": "2021-11-24T12:44:55.204Z"
   },
   {
    "duration": 64,
    "start_time": "2021-11-24T12:45:10.841Z"
   },
   {
    "duration": 65,
    "start_time": "2021-11-24T12:45:17.404Z"
   },
   {
    "duration": 61,
    "start_time": "2021-11-24T12:46:01.028Z"
   },
   {
    "duration": 831,
    "start_time": "2021-11-24T12:46:08.245Z"
   },
   {
    "duration": 412,
    "start_time": "2021-11-24T12:46:09.077Z"
   },
   {
    "duration": 131,
    "start_time": "2021-11-24T12:46:09.491Z"
   },
   {
    "duration": 150,
    "start_time": "2021-11-24T12:46:09.624Z"
   },
   {
    "duration": 85,
    "start_time": "2021-11-24T12:46:09.776Z"
   },
   {
    "duration": 48,
    "start_time": "2021-11-24T12:46:09.863Z"
   },
   {
    "duration": 56,
    "start_time": "2021-11-24T12:46:09.913Z"
   },
   {
    "duration": 49,
    "start_time": "2021-11-24T12:46:09.972Z"
   },
   {
    "duration": 14,
    "start_time": "2021-11-24T12:46:10.024Z"
   },
   {
    "duration": 15,
    "start_time": "2021-11-24T12:46:10.041Z"
   },
   {
    "duration": 40,
    "start_time": "2021-11-24T12:46:10.058Z"
   },
   {
    "duration": 7,
    "start_time": "2021-11-24T12:46:10.100Z"
   },
   {
    "duration": 38,
    "start_time": "2021-11-24T12:46:10.109Z"
   },
   {
    "duration": 44,
    "start_time": "2021-11-24T12:46:10.149Z"
   },
   {
    "duration": 30,
    "start_time": "2021-11-24T12:46:10.194Z"
   },
   {
    "duration": 26,
    "start_time": "2021-11-24T12:46:10.225Z"
   },
   {
    "duration": 280,
    "start_time": "2021-11-24T12:46:10.253Z"
   },
   {
    "duration": 272,
    "start_time": "2021-11-24T12:46:10.535Z"
   },
   {
    "duration": 375,
    "start_time": "2021-11-24T12:46:10.808Z"
   },
   {
    "duration": 57,
    "start_time": "2021-11-24T12:46:11.184Z"
   },
   {
    "duration": 614,
    "start_time": "2021-11-24T12:46:10.628Z"
   },
   {
    "duration": 606,
    "start_time": "2021-11-24T12:46:10.637Z"
   },
   {
    "duration": 65,
    "start_time": "2021-11-24T12:46:50.086Z"
   },
   {
    "duration": 62,
    "start_time": "2021-11-24T12:46:52.504Z"
   },
   {
    "duration": 13,
    "start_time": "2021-11-24T12:46:58.492Z"
   },
   {
    "duration": 4473,
    "start_time": "2021-11-24T12:47:09.572Z"
   },
   {
    "duration": 189,
    "start_time": "2021-11-24T12:47:20.622Z"
   },
   {
    "duration": 537,
    "start_time": "2021-11-24T12:47:35.193Z"
   },
   {
    "duration": 10,
    "start_time": "2021-11-24T12:48:33.365Z"
   },
   {
    "duration": 804,
    "start_time": "2021-11-24T12:48:45.039Z"
   },
   {
    "duration": 402,
    "start_time": "2021-11-24T12:48:45.846Z"
   },
   {
    "duration": 131,
    "start_time": "2021-11-24T12:48:46.249Z"
   },
   {
    "duration": 148,
    "start_time": "2021-11-24T12:48:46.382Z"
   },
   {
    "duration": 89,
    "start_time": "2021-11-24T12:48:46.532Z"
   },
   {
    "duration": 34,
    "start_time": "2021-11-24T12:48:46.622Z"
   },
   {
    "duration": 69,
    "start_time": "2021-11-24T12:48:46.658Z"
   },
   {
    "duration": 30,
    "start_time": "2021-11-24T12:48:46.728Z"
   },
   {
    "duration": 12,
    "start_time": "2021-11-24T12:48:46.760Z"
   },
   {
    "duration": 15,
    "start_time": "2021-11-24T12:48:46.792Z"
   },
   {
    "duration": 16,
    "start_time": "2021-11-24T12:48:46.809Z"
   },
   {
    "duration": 9,
    "start_time": "2021-11-24T12:48:46.827Z"
   },
   {
    "duration": 68,
    "start_time": "2021-11-24T12:48:46.837Z"
   },
   {
    "duration": 30,
    "start_time": "2021-11-24T12:48:46.906Z"
   },
   {
    "duration": 29,
    "start_time": "2021-11-24T12:48:46.938Z"
   },
   {
    "duration": 42,
    "start_time": "2021-11-24T12:48:46.969Z"
   },
   {
    "duration": 267,
    "start_time": "2021-11-24T12:48:47.013Z"
   },
   {
    "duration": 263,
    "start_time": "2021-11-24T12:48:47.282Z"
   },
   {
    "duration": 359,
    "start_time": "2021-11-24T12:48:47.546Z"
   },
   {
    "duration": 9,
    "start_time": "2021-11-24T12:48:47.907Z"
   },
   {
    "duration": 3,
    "start_time": "2021-11-24T12:48:47.918Z"
   },
   {
    "duration": 6,
    "start_time": "2021-11-24T12:48:47.923Z"
   },
   {
    "duration": 63,
    "start_time": "2021-11-24T12:49:01.939Z"
   },
   {
    "duration": 94,
    "start_time": "2021-11-24T12:49:07.578Z"
   },
   {
    "duration": 64,
    "start_time": "2021-11-24T12:50:49.104Z"
   },
   {
    "duration": 884,
    "start_time": "2021-11-24T12:50:54.913Z"
   },
   {
    "duration": 429,
    "start_time": "2021-11-24T12:50:55.799Z"
   },
   {
    "duration": 134,
    "start_time": "2021-11-24T12:50:56.230Z"
   },
   {
    "duration": 156,
    "start_time": "2021-11-24T12:50:56.367Z"
   },
   {
    "duration": 99,
    "start_time": "2021-11-24T12:50:56.525Z"
   },
   {
    "duration": 36,
    "start_time": "2021-11-24T12:50:56.626Z"
   },
   {
    "duration": 72,
    "start_time": "2021-11-24T12:50:56.664Z"
   },
   {
    "duration": 51,
    "start_time": "2021-11-24T12:50:56.740Z"
   },
   {
    "duration": 13,
    "start_time": "2021-11-24T12:50:56.794Z"
   },
   {
    "duration": 15,
    "start_time": "2021-11-24T12:50:56.809Z"
   },
   {
    "duration": 16,
    "start_time": "2021-11-24T12:50:56.826Z"
   },
   {
    "duration": 8,
    "start_time": "2021-11-24T12:50:56.844Z"
   },
   {
    "duration": 64,
    "start_time": "2021-11-24T12:50:56.854Z"
   },
   {
    "duration": 28,
    "start_time": "2021-11-24T12:50:56.920Z"
   },
   {
    "duration": 45,
    "start_time": "2021-11-24T12:50:56.950Z"
   },
   {
    "duration": 27,
    "start_time": "2021-11-24T12:50:56.996Z"
   },
   {
    "duration": 280,
    "start_time": "2021-11-24T12:50:57.025Z"
   },
   {
    "duration": 273,
    "start_time": "2021-11-24T12:50:57.307Z"
   },
   {
    "duration": 366,
    "start_time": "2021-11-24T12:50:57.582Z"
   },
   {
    "duration": 68,
    "start_time": "2021-11-24T12:50:57.950Z"
   },
   {
    "duration": 642,
    "start_time": "2021-11-24T12:50:57.378Z"
   },
   {
    "duration": 627,
    "start_time": "2021-11-24T12:50:57.394Z"
   },
   {
    "duration": 25,
    "start_time": "2021-11-24T12:51:26.971Z"
   },
   {
    "duration": 4635,
    "start_time": "2021-11-24T12:51:42.844Z"
   },
   {
    "duration": 839,
    "start_time": "2021-11-24T12:52:00.240Z"
   },
   {
    "duration": 429,
    "start_time": "2021-11-24T12:52:01.081Z"
   },
   {
    "duration": 133,
    "start_time": "2021-11-24T12:52:01.512Z"
   },
   {
    "duration": 155,
    "start_time": "2021-11-24T12:52:01.647Z"
   },
   {
    "duration": 95,
    "start_time": "2021-11-24T12:52:01.804Z"
   },
   {
    "duration": 33,
    "start_time": "2021-11-24T12:52:01.901Z"
   },
   {
    "duration": 73,
    "start_time": "2021-11-24T12:52:01.936Z"
   },
   {
    "duration": 32,
    "start_time": "2021-11-24T12:52:02.012Z"
   },
   {
    "duration": 13,
    "start_time": "2021-11-24T12:52:02.046Z"
   },
   {
    "duration": 40,
    "start_time": "2021-11-24T12:52:02.061Z"
   },
   {
    "duration": 15,
    "start_time": "2021-11-24T12:52:02.103Z"
   },
   {
    "duration": 8,
    "start_time": "2021-11-24T12:52:02.120Z"
   },
   {
    "duration": 54,
    "start_time": "2021-11-24T12:52:02.129Z"
   },
   {
    "duration": 34,
    "start_time": "2021-11-24T12:52:02.184Z"
   },
   {
    "duration": 31,
    "start_time": "2021-11-24T12:52:02.220Z"
   },
   {
    "duration": 48,
    "start_time": "2021-11-24T12:52:02.253Z"
   },
   {
    "duration": 273,
    "start_time": "2021-11-24T12:52:02.303Z"
   },
   {
    "duration": 272,
    "start_time": "2021-11-24T12:52:02.577Z"
   },
   {
    "duration": 388,
    "start_time": "2021-11-24T12:52:02.850Z"
   },
   {
    "duration": 265,
    "start_time": "2021-11-24T12:52:03.239Z"
   },
   {
    "duration": 442,
    "start_time": "2021-11-24T12:52:03.064Z"
   },
   {
    "duration": 431,
    "start_time": "2021-11-24T12:52:03.076Z"
   },
   {
    "duration": 820,
    "start_time": "2021-11-24T13:13:35.937Z"
   },
   {
    "duration": 410,
    "start_time": "2021-11-24T13:13:36.758Z"
   },
   {
    "duration": 124,
    "start_time": "2021-11-24T13:13:37.170Z"
   },
   {
    "duration": 148,
    "start_time": "2021-11-24T13:13:37.296Z"
   },
   {
    "duration": 94,
    "start_time": "2021-11-24T13:13:37.445Z"
   },
   {
    "duration": 34,
    "start_time": "2021-11-24T13:13:37.540Z"
   },
   {
    "duration": 69,
    "start_time": "2021-11-24T13:13:37.576Z"
   },
   {
    "duration": 46,
    "start_time": "2021-11-24T13:13:37.648Z"
   },
   {
    "duration": 12,
    "start_time": "2021-11-24T13:13:37.696Z"
   },
   {
    "duration": 16,
    "start_time": "2021-11-24T13:13:37.709Z"
   },
   {
    "duration": 14,
    "start_time": "2021-11-24T13:13:37.726Z"
   },
   {
    "duration": 8,
    "start_time": "2021-11-24T13:13:37.742Z"
   },
   {
    "duration": 62,
    "start_time": "2021-11-24T13:13:37.751Z"
   },
   {
    "duration": 30,
    "start_time": "2021-11-24T13:13:37.815Z"
   },
   {
    "duration": 45,
    "start_time": "2021-11-24T13:13:37.846Z"
   },
   {
    "duration": 27,
    "start_time": "2021-11-24T13:13:37.893Z"
   },
   {
    "duration": 264,
    "start_time": "2021-11-24T13:13:37.921Z"
   },
   {
    "duration": 257,
    "start_time": "2021-11-24T13:13:38.187Z"
   },
   {
    "duration": 364,
    "start_time": "2021-11-24T13:13:38.446Z"
   },
   {
    "duration": 264,
    "start_time": "2021-11-24T13:13:38.811Z"
   },
   {
    "duration": 436,
    "start_time": "2021-11-24T13:13:38.641Z"
   },
   {
    "duration": 432,
    "start_time": "2021-11-24T13:13:38.646Z"
   },
   {
    "duration": 5138,
    "start_time": "2021-11-24T13:16:41.135Z"
   },
   {
    "duration": 872,
    "start_time": "2021-11-24T13:16:53.673Z"
   },
   {
    "duration": 413,
    "start_time": "2021-11-24T13:16:54.546Z"
   },
   {
    "duration": 123,
    "start_time": "2021-11-24T13:16:54.961Z"
   },
   {
    "duration": 143,
    "start_time": "2021-11-24T13:16:55.086Z"
   },
   {
    "duration": 91,
    "start_time": "2021-11-24T13:16:55.231Z"
   },
   {
    "duration": 34,
    "start_time": "2021-11-24T13:16:55.323Z"
   },
   {
    "duration": 69,
    "start_time": "2021-11-24T13:16:55.358Z"
   },
   {
    "duration": 30,
    "start_time": "2021-11-24T13:16:55.429Z"
   },
   {
    "duration": 32,
    "start_time": "2021-11-24T13:16:55.460Z"
   },
   {
    "duration": 14,
    "start_time": "2021-11-24T13:16:55.493Z"
   },
   {
    "duration": 15,
    "start_time": "2021-11-24T13:16:55.509Z"
   },
   {
    "duration": 8,
    "start_time": "2021-11-24T13:16:55.525Z"
   },
   {
    "duration": 57,
    "start_time": "2021-11-24T13:16:55.534Z"
   },
   {
    "duration": 27,
    "start_time": "2021-11-24T13:16:55.593Z"
   },
   {
    "duration": 29,
    "start_time": "2021-11-24T13:16:55.622Z"
   },
   {
    "duration": 41,
    "start_time": "2021-11-24T13:16:55.653Z"
   },
   {
    "duration": 262,
    "start_time": "2021-11-24T13:16:55.696Z"
   },
   {
    "duration": 277,
    "start_time": "2021-11-24T13:16:55.959Z"
   },
   {
    "duration": 374,
    "start_time": "2021-11-24T13:16:56.238Z"
   },
   {
    "duration": 2482,
    "start_time": "2021-11-24T13:16:56.615Z"
   },
   {
    "duration": 396,
    "start_time": "2021-11-24T13:16:58.703Z"
   },
   {
    "duration": 383,
    "start_time": "2021-11-24T13:16:58.717Z"
   },
   {
    "duration": 4885,
    "start_time": "2021-11-24T13:19:25.922Z"
   },
   {
    "duration": 879,
    "start_time": "2021-11-24T13:19:34.933Z"
   },
   {
    "duration": 404,
    "start_time": "2021-11-24T13:19:35.814Z"
   },
   {
    "duration": 129,
    "start_time": "2021-11-24T13:19:36.220Z"
   },
   {
    "duration": 148,
    "start_time": "2021-11-24T13:19:36.351Z"
   },
   {
    "duration": 92,
    "start_time": "2021-11-24T13:19:36.500Z"
   },
   {
    "duration": 35,
    "start_time": "2021-11-24T13:19:36.594Z"
   },
   {
    "duration": 70,
    "start_time": "2021-11-24T13:19:36.631Z"
   },
   {
    "duration": 29,
    "start_time": "2021-11-24T13:19:36.703Z"
   },
   {
    "duration": 13,
    "start_time": "2021-11-24T13:19:36.734Z"
   },
   {
    "duration": 44,
    "start_time": "2021-11-24T13:19:36.749Z"
   },
   {
    "duration": 16,
    "start_time": "2021-11-24T13:19:36.794Z"
   },
   {
    "duration": 8,
    "start_time": "2021-11-24T13:19:36.812Z"
   },
   {
    "duration": 40,
    "start_time": "2021-11-24T13:19:36.822Z"
   },
   {
    "duration": 51,
    "start_time": "2021-11-24T13:19:36.864Z"
   },
   {
    "duration": 32,
    "start_time": "2021-11-24T13:19:36.917Z"
   },
   {
    "duration": 42,
    "start_time": "2021-11-24T13:19:36.950Z"
   },
   {
    "duration": 273,
    "start_time": "2021-11-24T13:19:36.994Z"
   },
   {
    "duration": 271,
    "start_time": "2021-11-24T13:19:37.269Z"
   },
   {
    "duration": 377,
    "start_time": "2021-11-24T13:19:37.542Z"
   },
   {
    "duration": 11,
    "start_time": "2021-11-24T13:19:37.921Z"
   },
   {
    "duration": 3,
    "start_time": "2021-11-24T13:19:37.934Z"
   },
   {
    "duration": 9,
    "start_time": "2021-11-24T13:19:37.939Z"
   },
   {
    "duration": 848,
    "start_time": "2021-11-24T13:19:58.940Z"
   },
   {
    "duration": 420,
    "start_time": "2021-11-24T13:19:59.790Z"
   },
   {
    "duration": 134,
    "start_time": "2021-11-24T13:20:00.212Z"
   },
   {
    "duration": 155,
    "start_time": "2021-11-24T13:20:00.348Z"
   },
   {
    "duration": 96,
    "start_time": "2021-11-24T13:20:00.504Z"
   },
   {
    "duration": 34,
    "start_time": "2021-11-24T13:20:00.602Z"
   },
   {
    "duration": 78,
    "start_time": "2021-11-24T13:20:00.637Z"
   },
   {
    "duration": 32,
    "start_time": "2021-11-24T13:20:00.717Z"
   },
   {
    "duration": 13,
    "start_time": "2021-11-24T13:20:00.751Z"
   },
   {
    "duration": 41,
    "start_time": "2021-11-24T13:20:00.765Z"
   },
   {
    "duration": 17,
    "start_time": "2021-11-24T13:20:00.807Z"
   },
   {
    "duration": 18,
    "start_time": "2021-11-24T13:20:00.825Z"
   },
   {
    "duration": 46,
    "start_time": "2021-11-24T13:20:00.845Z"
   },
   {
    "duration": 29,
    "start_time": "2021-11-24T13:20:00.893Z"
   },
   {
    "duration": 31,
    "start_time": "2021-11-24T13:20:00.923Z"
   },
   {
    "duration": 45,
    "start_time": "2021-11-24T13:20:00.955Z"
   },
   {
    "duration": 270,
    "start_time": "2021-11-24T13:20:01.002Z"
   },
   {
    "duration": 265,
    "start_time": "2021-11-24T13:20:01.274Z"
   },
   {
    "duration": 390,
    "start_time": "2021-11-24T13:20:01.540Z"
   },
   {
    "duration": 9,
    "start_time": "2021-11-24T13:20:01.931Z"
   },
   {
    "duration": 17,
    "start_time": "2021-11-24T13:20:01.942Z"
   },
   {
    "duration": 8,
    "start_time": "2021-11-24T13:20:01.961Z"
   },
   {
    "duration": 832,
    "start_time": "2021-11-24T13:20:29.731Z"
   },
   {
    "duration": 421,
    "start_time": "2021-11-24T13:20:30.564Z"
   },
   {
    "duration": 141,
    "start_time": "2021-11-24T13:20:30.987Z"
   },
   {
    "duration": 146,
    "start_time": "2021-11-24T13:20:31.129Z"
   },
   {
    "duration": 96,
    "start_time": "2021-11-24T13:20:31.276Z"
   },
   {
    "duration": 38,
    "start_time": "2021-11-24T13:20:31.374Z"
   },
   {
    "duration": 57,
    "start_time": "2021-11-24T13:20:31.414Z"
   },
   {
    "duration": 45,
    "start_time": "2021-11-24T13:20:31.474Z"
   },
   {
    "duration": 12,
    "start_time": "2021-11-24T13:20:31.521Z"
   },
   {
    "duration": 24,
    "start_time": "2021-11-24T13:20:31.534Z"
   },
   {
    "duration": 15,
    "start_time": "2021-11-24T13:20:31.559Z"
   },
   {
    "duration": 7,
    "start_time": "2021-11-24T13:20:31.591Z"
   },
   {
    "duration": 40,
    "start_time": "2021-11-24T13:20:31.600Z"
   },
   {
    "duration": 29,
    "start_time": "2021-11-24T13:20:31.642Z"
   },
   {
    "duration": 42,
    "start_time": "2021-11-24T13:20:31.673Z"
   },
   {
    "duration": 27,
    "start_time": "2021-11-24T13:20:31.716Z"
   },
   {
    "duration": 275,
    "start_time": "2021-11-24T13:20:31.745Z"
   },
   {
    "duration": 270,
    "start_time": "2021-11-24T13:20:32.022Z"
   },
   {
    "duration": 375,
    "start_time": "2021-11-24T13:20:32.294Z"
   },
   {
    "duration": 9,
    "start_time": "2021-11-24T13:20:32.670Z"
   },
   {
    "duration": 11,
    "start_time": "2021-11-24T13:20:32.681Z"
   },
   {
    "duration": 13,
    "start_time": "2021-11-24T13:20:32.693Z"
   },
   {
    "duration": 7,
    "start_time": "2021-11-24T13:20:59.620Z"
   },
   {
    "duration": 7,
    "start_time": "2021-11-24T13:21:53.283Z"
   },
   {
    "duration": 8,
    "start_time": "2021-11-24T13:22:40.726Z"
   },
   {
    "duration": 880,
    "start_time": "2021-11-24T13:24:06.491Z"
   },
   {
    "duration": 446,
    "start_time": "2021-11-24T13:24:07.373Z"
   },
   {
    "duration": 139,
    "start_time": "2021-11-24T13:24:07.821Z"
   },
   {
    "duration": 152,
    "start_time": "2021-11-24T13:24:07.962Z"
   },
   {
    "duration": 100,
    "start_time": "2021-11-24T13:24:08.115Z"
   },
   {
    "duration": 35,
    "start_time": "2021-11-24T13:24:08.216Z"
   },
   {
    "duration": 78,
    "start_time": "2021-11-24T13:24:08.253Z"
   },
   {
    "duration": 31,
    "start_time": "2021-11-24T13:24:08.334Z"
   },
   {
    "duration": 33,
    "start_time": "2021-11-24T13:24:08.367Z"
   },
   {
    "duration": 31,
    "start_time": "2021-11-24T13:24:08.402Z"
   },
   {
    "duration": 19,
    "start_time": "2021-11-24T13:24:08.435Z"
   },
   {
    "duration": 8,
    "start_time": "2021-11-24T13:24:08.455Z"
   },
   {
    "duration": 42,
    "start_time": "2021-11-24T13:24:08.465Z"
   },
   {
    "duration": 29,
    "start_time": "2021-11-24T13:24:08.509Z"
   },
   {
    "duration": 32,
    "start_time": "2021-11-24T13:24:08.540Z"
   },
   {
    "duration": 39,
    "start_time": "2021-11-24T13:24:08.573Z"
   },
   {
    "duration": 280,
    "start_time": "2021-11-24T13:24:08.614Z"
   },
   {
    "duration": 268,
    "start_time": "2021-11-24T13:24:08.896Z"
   },
   {
    "duration": 372,
    "start_time": "2021-11-24T13:24:09.166Z"
   },
   {
    "duration": 10,
    "start_time": "2021-11-24T13:24:09.539Z"
   },
   {
    "duration": 8,
    "start_time": "2021-11-24T13:24:09.550Z"
   },
   {
    "duration": 10,
    "start_time": "2021-11-24T13:24:09.560Z"
   },
   {
    "duration": 8,
    "start_time": "2021-11-24T13:24:52.319Z"
   },
   {
    "duration": 6,
    "start_time": "2021-11-24T13:26:17.067Z"
   },
   {
    "duration": 7,
    "start_time": "2021-11-24T13:26:27.666Z"
   },
   {
    "duration": 283,
    "start_time": "2021-11-24T13:29:42.440Z"
   },
   {
    "duration": 360,
    "start_time": "2021-11-24T13:30:30.587Z"
   },
   {
    "duration": 4,
    "start_time": "2021-11-24T13:31:49.314Z"
   },
   {
    "duration": 6,
    "start_time": "2021-11-24T13:31:58.915Z"
   },
   {
    "duration": 244,
    "start_time": "2021-11-24T13:32:07.788Z"
   },
   {
    "duration": 7,
    "start_time": "2021-11-24T13:32:42.136Z"
   },
   {
    "duration": 200,
    "start_time": "2021-11-24T13:33:56.420Z"
   },
   {
    "duration": 9,
    "start_time": "2021-11-24T13:47:17.141Z"
   },
   {
    "duration": 970,
    "start_time": "2021-11-24T13:47:22.779Z"
   },
   {
    "duration": 429,
    "start_time": "2021-11-24T13:47:23.751Z"
   },
   {
    "duration": 134,
    "start_time": "2021-11-24T13:47:24.182Z"
   },
   {
    "duration": 154,
    "start_time": "2021-11-24T13:47:24.319Z"
   },
   {
    "duration": 97,
    "start_time": "2021-11-24T13:47:24.475Z"
   },
   {
    "duration": 49,
    "start_time": "2021-11-24T13:47:24.574Z"
   },
   {
    "duration": 72,
    "start_time": "2021-11-24T13:47:24.625Z"
   },
   {
    "duration": 31,
    "start_time": "2021-11-24T13:47:24.700Z"
   },
   {
    "duration": 13,
    "start_time": "2021-11-24T13:47:24.733Z"
   },
   {
    "duration": 18,
    "start_time": "2021-11-24T13:47:24.748Z"
   },
   {
    "duration": 16,
    "start_time": "2021-11-24T13:47:24.792Z"
   },
   {
    "duration": 9,
    "start_time": "2021-11-24T13:47:24.809Z"
   },
   {
    "duration": 35,
    "start_time": "2021-11-24T13:47:24.819Z"
   },
   {
    "duration": 52,
    "start_time": "2021-11-24T13:47:24.856Z"
   },
   {
    "duration": 32,
    "start_time": "2021-11-24T13:47:24.909Z"
   },
   {
    "duration": 28,
    "start_time": "2021-11-24T13:47:24.943Z"
   },
   {
    "duration": 299,
    "start_time": "2021-11-24T13:47:24.972Z"
   },
   {
    "duration": 277,
    "start_time": "2021-11-24T13:47:25.272Z"
   },
   {
    "duration": 389,
    "start_time": "2021-11-24T13:47:25.551Z"
   },
   {
    "duration": 10,
    "start_time": "2021-11-24T13:47:25.942Z"
   },
   {
    "duration": 279,
    "start_time": "2021-11-24T13:47:25.954Z"
   },
   {
    "duration": 2,
    "start_time": "2021-11-24T13:47:39.770Z"
   },
   {
    "duration": 187,
    "start_time": "2021-11-24T13:49:35.294Z"
   },
   {
    "duration": 134,
    "start_time": "2021-11-24T13:50:25.914Z"
   },
   {
    "duration": 514,
    "start_time": "2021-11-24T13:52:14.227Z"
   },
   {
    "duration": 616,
    "start_time": "2021-11-24T13:52:38.615Z"
   },
   {
    "duration": 517,
    "start_time": "2021-11-24T13:52:57.340Z"
   },
   {
    "duration": 310,
    "start_time": "2021-11-24T13:53:03.460Z"
   },
   {
    "duration": 400,
    "start_time": "2021-11-24T17:04:01.635Z"
   },
   {
    "duration": 1300,
    "start_time": "2021-11-24T17:04:07.165Z"
   },
   {
    "duration": 766,
    "start_time": "2021-11-24T17:04:08.468Z"
   },
   {
    "duration": 258,
    "start_time": "2021-11-24T17:04:09.242Z"
   },
   {
    "duration": 375,
    "start_time": "2021-11-24T17:04:09.503Z"
   },
   {
    "duration": 201,
    "start_time": "2021-11-24T17:04:09.883Z"
   },
   {
    "duration": 71,
    "start_time": "2021-11-24T17:04:10.087Z"
   },
   {
    "duration": 120,
    "start_time": "2021-11-24T17:04:10.163Z"
   },
   {
    "duration": 43,
    "start_time": "2021-11-24T17:04:10.286Z"
   },
   {
    "duration": 21,
    "start_time": "2021-11-24T17:04:10.332Z"
   },
   {
    "duration": 29,
    "start_time": "2021-11-24T17:04:10.383Z"
   },
   {
    "duration": 35,
    "start_time": "2021-11-24T17:04:10.415Z"
   },
   {
    "duration": 38,
    "start_time": "2021-11-24T17:04:10.453Z"
   },
   {
    "duration": 51,
    "start_time": "2021-11-24T17:04:10.493Z"
   },
   {
    "duration": 81,
    "start_time": "2021-11-24T17:04:10.548Z"
   },
   {
    "duration": 69,
    "start_time": "2021-11-24T17:04:10.632Z"
   },
   {
    "duration": 50,
    "start_time": "2021-11-24T17:04:10.704Z"
   },
   {
    "duration": 776,
    "start_time": "2021-11-24T17:04:10.758Z"
   },
   {
    "duration": 790,
    "start_time": "2021-11-24T17:04:11.537Z"
   },
   {
    "duration": 1197,
    "start_time": "2021-11-24T17:04:12.330Z"
   },
   {
    "duration": 15,
    "start_time": "2021-11-24T17:04:13.529Z"
   },
   {
    "duration": 1194,
    "start_time": "2021-11-24T17:04:13.547Z"
   },
   {
    "duration": 615,
    "start_time": "2021-11-24T17:05:15.830Z"
   },
   {
    "duration": 8328,
    "start_time": "2021-11-24T17:10:59.757Z"
   },
   {
    "duration": 318,
    "start_time": "2021-11-24T17:11:07.770Z"
   },
   {
    "duration": 1308,
    "start_time": "2021-11-24T17:11:21.474Z"
   },
   {
    "duration": 552,
    "start_time": "2021-11-24T17:11:22.786Z"
   },
   {
    "duration": 187,
    "start_time": "2021-11-24T17:11:23.341Z"
   },
   {
    "duration": 353,
    "start_time": "2021-11-24T17:11:23.532Z"
   },
   {
    "duration": 214,
    "start_time": "2021-11-24T17:11:23.888Z"
   },
   {
    "duration": 53,
    "start_time": "2021-11-24T17:11:24.104Z"
   },
   {
    "duration": 137,
    "start_time": "2021-11-24T17:11:24.160Z"
   },
   {
    "duration": 89,
    "start_time": "2021-11-24T17:11:24.299Z"
   },
   {
    "duration": 21,
    "start_time": "2021-11-24T17:11:24.392Z"
   },
   {
    "duration": 38,
    "start_time": "2021-11-24T17:11:24.416Z"
   },
   {
    "duration": 27,
    "start_time": "2021-11-24T17:11:24.456Z"
   },
   {
    "duration": 13,
    "start_time": "2021-11-24T17:11:24.486Z"
   },
   {
    "duration": 57,
    "start_time": "2021-11-24T17:11:24.501Z"
   },
   {
    "duration": 45,
    "start_time": "2021-11-24T17:11:24.560Z"
   },
   {
    "duration": 45,
    "start_time": "2021-11-24T17:11:24.608Z"
   },
   {
    "duration": 42,
    "start_time": "2021-11-24T17:11:24.656Z"
   },
   {
    "duration": 525,
    "start_time": "2021-11-24T17:11:24.700Z"
   },
   {
    "duration": 487,
    "start_time": "2021-11-24T17:11:25.227Z"
   },
   {
    "duration": 690,
    "start_time": "2021-11-24T17:11:25.716Z"
   },
   {
    "duration": 15,
    "start_time": "2021-11-24T17:11:26.408Z"
   },
   {
    "duration": 284,
    "start_time": "2021-11-24T17:11:26.425Z"
   },
   {
    "duration": 7,
    "start_time": "2021-11-24T17:12:48.683Z"
   },
   {
    "duration": 9,
    "start_time": "2021-11-24T17:13:01.624Z"
   },
   {
    "duration": 9645,
    "start_time": "2021-11-24T17:13:29.707Z"
   },
   {
    "duration": 1252,
    "start_time": "2021-11-24T17:13:49.425Z"
   },
   {
    "duration": 568,
    "start_time": "2021-11-24T17:13:50.680Z"
   },
   {
    "duration": 194,
    "start_time": "2021-11-24T17:13:51.251Z"
   },
   {
    "duration": 372,
    "start_time": "2021-11-24T17:13:51.448Z"
   },
   {
    "duration": 200,
    "start_time": "2021-11-24T17:13:51.823Z"
   },
   {
    "duration": 87,
    "start_time": "2021-11-24T17:13:52.026Z"
   },
   {
    "duration": 128,
    "start_time": "2021-11-24T17:13:52.116Z"
   },
   {
    "duration": 68,
    "start_time": "2021-11-24T17:13:52.250Z"
   },
   {
    "duration": 20,
    "start_time": "2021-11-24T17:13:52.322Z"
   },
   {
    "duration": 47,
    "start_time": "2021-11-24T17:13:52.344Z"
   },
   {
    "duration": 28,
    "start_time": "2021-11-24T17:13:52.393Z"
   },
   {
    "duration": 13,
    "start_time": "2021-11-24T17:13:52.424Z"
   },
   {
    "duration": 86,
    "start_time": "2021-11-24T17:13:52.440Z"
   },
   {
    "duration": 63,
    "start_time": "2021-11-24T17:13:52.528Z"
   },
   {
    "duration": 43,
    "start_time": "2021-11-24T17:13:52.594Z"
   },
   {
    "duration": 61,
    "start_time": "2021-11-24T17:13:52.640Z"
   },
   {
    "duration": 506,
    "start_time": "2021-11-24T17:13:52.703Z"
   },
   {
    "duration": 516,
    "start_time": "2021-11-24T17:13:53.211Z"
   },
   {
    "duration": 745,
    "start_time": "2021-11-24T17:13:53.730Z"
   },
   {
    "duration": 19,
    "start_time": "2021-11-24T17:13:54.478Z"
   },
   {
    "duration": 4,
    "start_time": "2021-11-24T17:13:54.500Z"
   },
   {
    "duration": 578,
    "start_time": "2021-11-24T17:23:55.485Z"
   },
   {
    "duration": 181,
    "start_time": "2021-11-24T17:26:35.657Z"
   },
   {
    "duration": 192,
    "start_time": "2021-11-24T17:26:47.159Z"
   },
   {
    "duration": 541,
    "start_time": "2021-11-24T17:27:07.171Z"
   },
   {
    "duration": 572,
    "start_time": "2021-11-24T17:27:25.613Z"
   },
   {
    "duration": 185,
    "start_time": "2021-11-24T17:28:05.425Z"
   },
   {
    "duration": 198,
    "start_time": "2021-11-24T17:29:20.956Z"
   },
   {
    "duration": 388,
    "start_time": "2021-11-24T17:39:55.875Z"
   },
   {
    "duration": 374,
    "start_time": "2021-11-24T17:40:33.301Z"
   },
   {
    "duration": 212,
    "start_time": "2021-11-24T17:40:44.318Z"
   },
   {
    "duration": 614,
    "start_time": "2021-11-24T17:41:25.723Z"
   },
   {
    "duration": 450,
    "start_time": "2021-11-24T17:41:34.677Z"
   },
   {
    "duration": 1547,
    "start_time": "2021-11-24T17:41:44.907Z"
   },
   {
    "duration": 776,
    "start_time": "2021-11-24T17:41:46.457Z"
   },
   {
    "duration": 228,
    "start_time": "2021-11-24T17:41:47.237Z"
   },
   {
    "duration": 335,
    "start_time": "2021-11-24T17:41:47.468Z"
   },
   {
    "duration": 150,
    "start_time": "2021-11-24T17:41:47.805Z"
   },
   {
    "duration": 60,
    "start_time": "2021-11-24T17:41:47.957Z"
   },
   {
    "duration": 93,
    "start_time": "2021-11-24T17:41:48.019Z"
   },
   {
    "duration": 45,
    "start_time": "2021-11-24T17:41:48.115Z"
   },
   {
    "duration": 36,
    "start_time": "2021-11-24T17:41:48.162Z"
   },
   {
    "duration": 25,
    "start_time": "2021-11-24T17:41:48.200Z"
   },
   {
    "duration": 24,
    "start_time": "2021-11-24T17:41:48.227Z"
   },
   {
    "duration": 12,
    "start_time": "2021-11-24T17:41:48.283Z"
   },
   {
    "duration": 52,
    "start_time": "2021-11-24T17:41:48.298Z"
   },
   {
    "duration": 58,
    "start_time": "2021-11-24T17:41:48.353Z"
   },
   {
    "duration": 42,
    "start_time": "2021-11-24T17:41:48.413Z"
   },
   {
    "duration": 54,
    "start_time": "2021-11-24T17:41:48.457Z"
   },
   {
    "duration": 470,
    "start_time": "2021-11-24T17:41:48.514Z"
   },
   {
    "duration": 470,
    "start_time": "2021-11-24T17:41:48.987Z"
   },
   {
    "duration": 673,
    "start_time": "2021-11-24T17:41:49.459Z"
   },
   {
    "duration": 652,
    "start_time": "2021-11-24T17:41:50.135Z"
   },
   {
    "duration": 508,
    "start_time": "2021-11-24T17:42:17.471Z"
   },
   {
    "duration": 611,
    "start_time": "2021-11-24T17:44:48.921Z"
   },
   {
    "duration": 503,
    "start_time": "2021-11-24T17:44:54.568Z"
   },
   {
    "duration": 553,
    "start_time": "2021-11-24T17:44:59.597Z"
   },
   {
    "duration": 514,
    "start_time": "2021-11-24T17:45:41.665Z"
   },
   {
    "duration": 600,
    "start_time": "2021-11-24T17:46:38.272Z"
   },
   {
    "duration": 436,
    "start_time": "2021-11-24T17:47:39.610Z"
   },
   {
    "duration": 451,
    "start_time": "2021-11-24T17:48:49.106Z"
   },
   {
    "duration": 1204,
    "start_time": "2021-11-24T17:57:58.948Z"
   },
   {
    "duration": 1172,
    "start_time": "2021-11-24T17:58:42.193Z"
   },
   {
    "duration": 541,
    "start_time": "2021-11-24T17:58:43.368Z"
   },
   {
    "duration": 174,
    "start_time": "2021-11-24T17:58:43.912Z"
   },
   {
    "duration": 228,
    "start_time": "2021-11-24T17:58:44.090Z"
   },
   {
    "duration": 139,
    "start_time": "2021-11-24T17:58:44.320Z"
   },
   {
    "duration": 60,
    "start_time": "2021-11-24T17:58:44.462Z"
   },
   {
    "duration": 98,
    "start_time": "2021-11-24T17:58:44.525Z"
   },
   {
    "duration": 43,
    "start_time": "2021-11-24T17:58:44.627Z"
   },
   {
    "duration": 20,
    "start_time": "2021-11-24T17:58:44.683Z"
   },
   {
    "duration": 35,
    "start_time": "2021-11-24T17:58:44.706Z"
   },
   {
    "duration": 69,
    "start_time": "2021-11-24T17:58:44.744Z"
   },
   {
    "duration": 13,
    "start_time": "2021-11-24T17:58:44.816Z"
   },
   {
    "duration": 74,
    "start_time": "2021-11-24T17:58:44.831Z"
   },
   {
    "duration": 40,
    "start_time": "2021-11-24T17:58:44.908Z"
   },
   {
    "duration": 63,
    "start_time": "2021-11-24T17:58:44.951Z"
   },
   {
    "duration": 38,
    "start_time": "2021-11-24T17:58:45.017Z"
   },
   {
    "duration": 482,
    "start_time": "2021-11-24T17:58:45.058Z"
   },
   {
    "duration": 477,
    "start_time": "2021-11-24T17:58:45.544Z"
   },
   {
    "duration": 663,
    "start_time": "2021-11-24T17:58:46.023Z"
   },
   {
    "duration": 944,
    "start_time": "2021-11-24T17:58:46.689Z"
   },
   {
    "duration": 1200,
    "start_time": "2021-11-24T17:59:08.879Z"
   },
   {
    "duration": 541,
    "start_time": "2021-11-24T17:59:10.082Z"
   },
   {
    "duration": 176,
    "start_time": "2021-11-24T17:59:10.626Z"
   },
   {
    "duration": 242,
    "start_time": "2021-11-24T17:59:10.805Z"
   },
   {
    "duration": 136,
    "start_time": "2021-11-24T17:59:11.050Z"
   },
   {
    "duration": 52,
    "start_time": "2021-11-24T17:59:11.188Z"
   },
   {
    "duration": 109,
    "start_time": "2021-11-24T17:59:11.243Z"
   },
   {
    "duration": 56,
    "start_time": "2021-11-24T17:59:11.355Z"
   },
   {
    "duration": 22,
    "start_time": "2021-11-24T17:59:11.415Z"
   },
   {
    "duration": 50,
    "start_time": "2021-11-24T17:59:11.440Z"
   },
   {
    "duration": 24,
    "start_time": "2021-11-24T17:59:11.492Z"
   },
   {
    "duration": 18,
    "start_time": "2021-11-24T17:59:11.519Z"
   },
   {
    "duration": 97,
    "start_time": "2021-11-24T17:59:11.539Z"
   },
   {
    "duration": 56,
    "start_time": "2021-11-24T17:59:11.639Z"
   },
   {
    "duration": 40,
    "start_time": "2021-11-24T17:59:11.698Z"
   },
   {
    "duration": 58,
    "start_time": "2021-11-24T17:59:11.740Z"
   },
   {
    "duration": 508,
    "start_time": "2021-11-24T17:59:11.800Z"
   },
   {
    "duration": 474,
    "start_time": "2021-11-24T17:59:12.311Z"
   },
   {
    "duration": 678,
    "start_time": "2021-11-24T17:59:12.787Z"
   },
   {
    "duration": 1203,
    "start_time": "2021-11-24T17:59:13.467Z"
   },
   {
    "duration": 2097,
    "start_time": "2021-11-24T18:02:01.818Z"
   },
   {
    "duration": 1717,
    "start_time": "2021-11-24T18:02:10.397Z"
   },
   {
    "duration": 1836,
    "start_time": "2021-11-24T18:03:29.964Z"
   },
   {
    "duration": 1733,
    "start_time": "2021-11-24T18:03:44.345Z"
   },
   {
    "duration": 1380,
    "start_time": "2021-11-24T18:03:56.556Z"
   },
   {
    "duration": 764,
    "start_time": "2021-11-24T18:03:57.939Z"
   },
   {
    "duration": 265,
    "start_time": "2021-11-24T18:03:58.708Z"
   },
   {
    "duration": 388,
    "start_time": "2021-11-24T18:03:58.982Z"
   },
   {
    "duration": 197,
    "start_time": "2021-11-24T18:03:59.373Z"
   },
   {
    "duration": 63,
    "start_time": "2021-11-24T18:03:59.573Z"
   },
   {
    "duration": 108,
    "start_time": "2021-11-24T18:03:59.639Z"
   },
   {
    "duration": 57,
    "start_time": "2021-11-24T18:03:59.753Z"
   },
   {
    "duration": 20,
    "start_time": "2021-11-24T18:03:59.813Z"
   },
   {
    "duration": 56,
    "start_time": "2021-11-24T18:03:59.836Z"
   },
   {
    "duration": 24,
    "start_time": "2021-11-24T18:03:59.895Z"
   },
   {
    "duration": 22,
    "start_time": "2021-11-24T18:03:59.922Z"
   },
   {
    "duration": 75,
    "start_time": "2021-11-24T18:03:59.947Z"
   },
   {
    "duration": 43,
    "start_time": "2021-11-24T18:04:00.024Z"
   },
   {
    "duration": 53,
    "start_time": "2021-11-24T18:04:00.069Z"
   },
   {
    "duration": 74,
    "start_time": "2021-11-24T18:04:00.125Z"
   },
   {
    "duration": 770,
    "start_time": "2021-11-24T18:04:00.202Z"
   },
   {
    "duration": 894,
    "start_time": "2021-11-24T18:04:00.983Z"
   },
   {
    "duration": 1037,
    "start_time": "2021-11-24T18:04:01.883Z"
   },
   {
    "duration": 2315,
    "start_time": "2021-11-24T18:04:02.923Z"
   },
   {
    "duration": 2007,
    "start_time": "2021-11-24T18:06:21.717Z"
   },
   {
    "duration": 7624,
    "start_time": "2021-11-24T18:08:06.504Z"
   },
   {
    "duration": 7359,
    "start_time": "2021-11-24T18:08:18.572Z"
   },
   {
    "duration": 7296,
    "start_time": "2021-11-24T18:08:42.778Z"
   },
   {
    "duration": 3632,
    "start_time": "2021-11-24T18:12:36.938Z"
   },
   {
    "duration": 1838,
    "start_time": "2021-11-24T18:13:03.231Z"
   },
   {
    "duration": 1721,
    "start_time": "2021-11-24T18:13:27.801Z"
   },
   {
    "duration": 1746,
    "start_time": "2021-11-24T18:13:43.499Z"
   },
   {
    "duration": 1268,
    "start_time": "2021-11-24T18:14:09.038Z"
   },
   {
    "duration": 619,
    "start_time": "2021-11-24T18:14:10.309Z"
   },
   {
    "duration": 197,
    "start_time": "2021-11-24T18:14:10.931Z"
   },
   {
    "duration": 261,
    "start_time": "2021-11-24T18:14:11.131Z"
   },
   {
    "duration": 163,
    "start_time": "2021-11-24T18:14:11.394Z"
   },
   {
    "duration": 65,
    "start_time": "2021-11-24T18:14:11.560Z"
   },
   {
    "duration": 102,
    "start_time": "2021-11-24T18:14:11.627Z"
   },
   {
    "duration": 53,
    "start_time": "2021-11-24T18:14:11.732Z"
   },
   {
    "duration": 20,
    "start_time": "2021-11-24T18:14:11.788Z"
   },
   {
    "duration": 33,
    "start_time": "2021-11-24T18:14:11.813Z"
   },
   {
    "duration": 54,
    "start_time": "2021-11-24T18:14:11.849Z"
   },
   {
    "duration": 24,
    "start_time": "2021-11-24T18:14:11.906Z"
   },
   {
    "duration": 69,
    "start_time": "2021-11-24T18:14:11.933Z"
   },
   {
    "duration": 42,
    "start_time": "2021-11-24T18:14:12.004Z"
   },
   {
    "duration": 60,
    "start_time": "2021-11-24T18:14:12.049Z"
   },
   {
    "duration": 42,
    "start_time": "2021-11-24T18:14:12.111Z"
   },
   {
    "duration": 487,
    "start_time": "2021-11-24T18:14:12.156Z"
   },
   {
    "duration": 475,
    "start_time": "2021-11-24T18:14:12.645Z"
   },
   {
    "duration": 696,
    "start_time": "2021-11-24T18:14:13.123Z"
   },
   {
    "duration": 1833,
    "start_time": "2021-11-24T18:14:13.822Z"
   },
   {
    "duration": 1793,
    "start_time": "2021-11-24T18:14:46.750Z"
   },
   {
    "duration": 896,
    "start_time": "2021-11-25T06:18:02.820Z"
   },
   {
    "duration": 1337,
    "start_time": "2021-11-25T06:18:12.054Z"
   },
   {
    "duration": 740,
    "start_time": "2021-11-25T06:18:13.394Z"
   },
   {
    "duration": 252,
    "start_time": "2021-11-25T06:18:14.138Z"
   },
   {
    "duration": 374,
    "start_time": "2021-11-25T06:18:14.393Z"
   },
   {
    "duration": 189,
    "start_time": "2021-11-25T06:18:14.769Z"
   },
   {
    "duration": 64,
    "start_time": "2021-11-25T06:18:14.961Z"
   },
   {
    "duration": 103,
    "start_time": "2021-11-25T06:18:15.027Z"
   },
   {
    "duration": 57,
    "start_time": "2021-11-25T06:18:15.134Z"
   },
   {
    "duration": 21,
    "start_time": "2021-11-25T06:18:15.194Z"
   },
   {
    "duration": 28,
    "start_time": "2021-11-25T06:18:15.218Z"
   },
   {
    "duration": 55,
    "start_time": "2021-11-25T06:18:15.248Z"
   },
   {
    "duration": 13,
    "start_time": "2021-11-25T06:18:15.305Z"
   },
   {
    "duration": 74,
    "start_time": "2021-11-25T06:18:15.321Z"
   },
   {
    "duration": 41,
    "start_time": "2021-11-25T06:18:15.397Z"
   },
   {
    "duration": 65,
    "start_time": "2021-11-25T06:18:15.441Z"
   },
   {
    "duration": 36,
    "start_time": "2021-11-25T06:18:15.509Z"
   },
   {
    "duration": 485,
    "start_time": "2021-11-25T06:18:15.547Z"
   },
   {
    "duration": 512,
    "start_time": "2021-11-25T06:18:16.034Z"
   },
   {
    "duration": 699,
    "start_time": "2021-11-25T06:18:16.549Z"
   },
   {
    "duration": 1861,
    "start_time": "2021-11-25T06:18:17.251Z"
   },
   {
    "duration": 1711,
    "start_time": "2021-11-25T06:18:27.796Z"
   },
   {
    "duration": 1238,
    "start_time": "2021-11-25T06:19:47.285Z"
   },
   {
    "duration": 521,
    "start_time": "2021-11-25T06:19:48.526Z"
   },
   {
    "duration": 173,
    "start_time": "2021-11-25T06:19:49.050Z"
   },
   {
    "duration": 225,
    "start_time": "2021-11-25T06:19:49.226Z"
   },
   {
    "duration": 140,
    "start_time": "2021-11-25T06:19:49.453Z"
   },
   {
    "duration": 51,
    "start_time": "2021-11-25T06:19:49.595Z"
   },
   {
    "duration": 106,
    "start_time": "2021-11-25T06:19:49.649Z"
   },
   {
    "duration": 55,
    "start_time": "2021-11-25T06:19:49.759Z"
   },
   {
    "duration": 19,
    "start_time": "2021-11-25T06:19:49.816Z"
   },
   {
    "duration": 45,
    "start_time": "2021-11-25T06:19:49.838Z"
   },
   {
    "duration": 24,
    "start_time": "2021-11-25T06:19:49.885Z"
   },
   {
    "duration": 12,
    "start_time": "2021-11-25T06:19:49.912Z"
   },
   {
    "duration": 79,
    "start_time": "2021-11-25T06:19:49.927Z"
   },
   {
    "duration": 41,
    "start_time": "2021-11-25T06:19:50.008Z"
   },
   {
    "duration": 58,
    "start_time": "2021-11-25T06:19:50.051Z"
   },
   {
    "duration": 36,
    "start_time": "2021-11-25T06:19:50.111Z"
   },
   {
    "duration": 477,
    "start_time": "2021-11-25T06:19:50.149Z"
   },
   {
    "duration": 472,
    "start_time": "2021-11-25T06:19:50.628Z"
   },
   {
    "duration": 668,
    "start_time": "2021-11-25T06:19:51.102Z"
   },
   {
    "duration": 1732,
    "start_time": "2021-11-25T06:19:51.773Z"
   },
   {
    "duration": 1780,
    "start_time": "2021-11-25T06:20:07.937Z"
   },
   {
    "duration": 1708,
    "start_time": "2021-11-25T06:20:32.745Z"
   },
   {
    "duration": 1814,
    "start_time": "2021-11-25T06:20:58.729Z"
   },
   {
    "duration": 2186,
    "start_time": "2021-11-25T06:21:41.410Z"
   },
   {
    "duration": 2287,
    "start_time": "2021-11-25T06:21:57.138Z"
   },
   {
    "duration": 1994,
    "start_time": "2021-11-25T06:22:42.018Z"
   },
   {
    "duration": 2061,
    "start_time": "2021-11-25T06:22:58.886Z"
   },
   {
    "duration": 1702,
    "start_time": "2021-11-25T06:27:37.672Z"
   },
   {
    "duration": 1749,
    "start_time": "2021-11-25T06:31:18.190Z"
   },
   {
    "duration": 2502,
    "start_time": "2021-11-25T06:31:35.882Z"
   },
   {
    "duration": 2167,
    "start_time": "2021-11-25T06:31:48.175Z"
   },
   {
    "duration": 2030,
    "start_time": "2021-11-25T06:33:26.892Z"
   },
   {
    "duration": 1991,
    "start_time": "2021-11-25T06:34:06.279Z"
   },
   {
    "duration": 2236,
    "start_time": "2021-11-25T06:34:16.439Z"
   },
   {
    "duration": 171,
    "start_time": "2021-11-25T06:34:53.764Z"
   },
   {
    "duration": 3568,
    "start_time": "2021-11-25T06:35:16.452Z"
   },
   {
    "duration": 2780,
    "start_time": "2021-11-25T06:36:39.565Z"
   },
   {
    "duration": 2814,
    "start_time": "2021-11-25T06:36:48.153Z"
   },
   {
    "duration": 2714,
    "start_time": "2021-11-25T06:36:51.037Z"
   },
   {
    "duration": 2591,
    "start_time": "2021-11-25T06:37:35.345Z"
   },
   {
    "duration": 1756,
    "start_time": "2021-11-25T06:37:48.889Z"
   },
   {
    "duration": 2456,
    "start_time": "2021-11-25T06:38:34.634Z"
   },
   {
    "duration": 2188,
    "start_time": "2021-11-25T06:38:42.557Z"
   },
   {
    "duration": 2199,
    "start_time": "2021-11-25T06:39:12.570Z"
   },
   {
    "duration": 10285,
    "start_time": "2021-11-25T06:39:49.698Z"
   },
   {
    "duration": 1826,
    "start_time": "2021-11-25T06:41:12.770Z"
   },
   {
    "duration": 1791,
    "start_time": "2021-11-25T06:41:43.875Z"
   },
   {
    "duration": 1752,
    "start_time": "2021-11-25T06:42:41.327Z"
   },
   {
    "duration": 2077,
    "start_time": "2021-11-25T06:43:02.268Z"
   },
   {
    "duration": 2314,
    "start_time": "2021-11-25T06:47:17.889Z"
   },
   {
    "duration": 184,
    "start_time": "2021-11-25T06:52:15.808Z"
   },
   {
    "duration": 54187,
    "start_time": "2021-11-25T06:52:21.932Z"
   },
   {
    "duration": 9606,
    "start_time": "2021-11-25T07:03:26.650Z"
   },
   {
    "duration": 5600,
    "start_time": "2021-11-25T07:03:49.085Z"
   },
   {
    "duration": 24,
    "start_time": "2021-11-25T07:05:33.366Z"
   },
   {
    "duration": 31,
    "start_time": "2021-11-25T07:05:48.617Z"
   },
   {
    "duration": 19,
    "start_time": "2021-11-25T07:06:30.466Z"
   },
   {
    "duration": 46,
    "start_time": "2021-11-25T07:08:03.976Z"
   },
   {
    "duration": 120,
    "start_time": "2021-11-25T07:12:26.648Z"
   },
   {
    "duration": 98,
    "start_time": "2021-11-25T07:12:34.097Z"
   },
   {
    "duration": 525,
    "start_time": "2021-11-25T07:13:01.150Z"
   },
   {
    "duration": 512,
    "start_time": "2021-11-25T07:13:06.560Z"
   },
   {
    "duration": 528,
    "start_time": "2021-11-25T07:13:19.629Z"
   },
   {
    "duration": 12,
    "start_time": "2021-11-25T07:13:29.238Z"
   },
   {
    "duration": 308,
    "start_time": "2021-11-25T07:14:04.983Z"
   },
   {
    "duration": 20,
    "start_time": "2021-11-25T07:15:37.950Z"
   },
   {
    "duration": 25,
    "start_time": "2021-11-25T07:15:41.132Z"
   },
   {
    "duration": 474,
    "start_time": "2021-11-25T07:16:37.165Z"
   },
   {
    "duration": 16,
    "start_time": "2021-11-25T07:16:48.149Z"
   },
   {
    "duration": 649,
    "start_time": "2021-11-25T07:41:04.087Z"
   },
   {
    "duration": 1102,
    "start_time": "2021-11-25T07:41:11.859Z"
   },
   {
    "duration": 663,
    "start_time": "2021-11-25T07:41:43.442Z"
   },
   {
    "duration": 110,
    "start_time": "2021-11-25T07:42:32.263Z"
   },
   {
    "duration": 109,
    "start_time": "2021-11-25T07:42:37.151Z"
   },
   {
    "duration": 104,
    "start_time": "2021-11-25T07:42:45.059Z"
   },
   {
    "duration": 110,
    "start_time": "2021-11-25T07:42:48.619Z"
   },
   {
    "duration": 546,
    "start_time": "2021-11-25T07:43:04.718Z"
   },
   {
    "duration": 662,
    "start_time": "2021-11-25T07:43:10.071Z"
   },
   {
    "duration": 855,
    "start_time": "2021-11-25T07:44:08.028Z"
   },
   {
    "duration": 666,
    "start_time": "2021-11-25T07:46:02.809Z"
   },
   {
    "duration": 114,
    "start_time": "2021-11-25T07:46:16.413Z"
   },
   {
    "duration": 3931,
    "start_time": "2021-11-25T07:46:23.406Z"
   },
   {
    "duration": 3496,
    "start_time": "2021-11-25T07:46:30.053Z"
   },
   {
    "duration": 2881,
    "start_time": "2021-11-25T07:47:55.078Z"
   },
   {
    "duration": 651,
    "start_time": "2021-11-25T07:48:05.770Z"
   },
   {
    "duration": 651,
    "start_time": "2021-11-25T07:48:22.126Z"
   },
   {
    "duration": 1087,
    "start_time": "2021-11-25T07:48:40.563Z"
   },
   {
    "duration": 2988,
    "start_time": "2021-11-25T07:49:41.315Z"
   },
   {
    "duration": 2933,
    "start_time": "2021-11-25T07:50:05.103Z"
   },
   {
    "duration": 665,
    "start_time": "2021-11-25T07:50:22.935Z"
   },
   {
    "duration": 668,
    "start_time": "2021-11-25T07:50:37.491Z"
   },
   {
    "duration": 1066,
    "start_time": "2021-11-25T07:50:52.216Z"
   },
   {
    "duration": 663,
    "start_time": "2021-11-25T07:51:46.348Z"
   },
   {
    "duration": 471,
    "start_time": "2021-11-25T07:52:36.030Z"
   },
   {
    "duration": 781,
    "start_time": "2021-11-25T07:55:20.747Z"
   },
   {
    "duration": 609,
    "start_time": "2021-11-25T07:55:53.305Z"
   },
   {
    "duration": 614,
    "start_time": "2021-11-25T07:56:04.194Z"
   },
   {
    "duration": 630,
    "start_time": "2021-11-25T07:56:29.506Z"
   },
   {
    "duration": 13,
    "start_time": "2021-11-25T07:56:48.631Z"
   },
   {
    "duration": 697,
    "start_time": "2021-11-25T07:56:56.221Z"
   },
   {
    "duration": 591,
    "start_time": "2021-11-25T07:57:19.232Z"
   },
   {
    "duration": 796,
    "start_time": "2021-11-25T07:57:49.043Z"
   },
   {
    "duration": 820,
    "start_time": "2021-11-25T07:58:00.039Z"
   },
   {
    "duration": 6764,
    "start_time": "2021-11-25T08:02:27.301Z"
   },
   {
    "duration": 3841,
    "start_time": "2021-11-25T08:04:24.630Z"
   },
   {
    "duration": 3790,
    "start_time": "2021-11-25T08:04:35.950Z"
   },
   {
    "duration": 8385,
    "start_time": "2021-11-25T08:05:12.711Z"
   },
   {
    "duration": 5284,
    "start_time": "2021-11-25T08:05:28.098Z"
   },
   {
    "duration": 24290,
    "start_time": "2021-11-25T08:06:05.495Z"
   },
   {
    "duration": 5378,
    "start_time": "2021-11-25T08:07:03.196Z"
   },
   {
    "duration": 841,
    "start_time": "2021-11-25T08:07:49.028Z"
   },
   {
    "duration": 1132,
    "start_time": "2021-11-25T08:07:50.952Z"
   },
   {
    "duration": 772,
    "start_time": "2021-11-25T08:08:02.292Z"
   },
   {
    "duration": 45,
    "start_time": "2021-11-25T08:25:17.654Z"
   },
   {
    "duration": 877,
    "start_time": "2021-11-25T08:27:32.285Z"
   },
   {
    "duration": 13,
    "start_time": "2021-11-25T08:27:38.700Z"
   },
   {
    "duration": 498,
    "start_time": "2021-11-25T08:28:15.967Z"
   },
   {
    "duration": 9,
    "start_time": "2021-11-25T08:28:29.712Z"
   },
   {
    "duration": 9,
    "start_time": "2021-11-25T08:28:47.417Z"
   },
   {
    "duration": 12,
    "start_time": "2021-11-25T08:28:55.033Z"
   },
   {
    "duration": 559,
    "start_time": "2021-11-25T08:29:14.593Z"
   },
   {
    "duration": 11,
    "start_time": "2021-11-25T08:29:24.066Z"
   },
   {
    "duration": 25,
    "start_time": "2021-11-25T08:29:49.893Z"
   },
   {
    "duration": 17,
    "start_time": "2021-11-25T08:30:54.386Z"
   },
   {
    "duration": 20,
    "start_time": "2021-11-25T08:31:00.261Z"
   },
   {
    "duration": 8022,
    "start_time": "2021-11-25T08:32:03.794Z"
   },
   {
    "duration": 789,
    "start_time": "2021-11-25T08:33:15.091Z"
   },
   {
    "duration": 3319,
    "start_time": "2021-11-25T08:35:19.437Z"
   },
   {
    "duration": 1628,
    "start_time": "2021-11-25T08:35:26.078Z"
   },
   {
    "duration": 535,
    "start_time": "2021-11-25T08:35:27.709Z"
   },
   {
    "duration": 166,
    "start_time": "2021-11-25T08:35:28.247Z"
   },
   {
    "duration": 228,
    "start_time": "2021-11-25T08:35:28.415Z"
   },
   {
    "duration": 179,
    "start_time": "2021-11-25T08:35:28.646Z"
   },
   {
    "duration": 85,
    "start_time": "2021-11-25T08:35:28.828Z"
   },
   {
    "duration": 102,
    "start_time": "2021-11-25T08:35:28.916Z"
   },
   {
    "duration": 42,
    "start_time": "2021-11-25T08:35:29.022Z"
   },
   {
    "duration": 33,
    "start_time": "2021-11-25T08:35:29.067Z"
   },
   {
    "duration": 26,
    "start_time": "2021-11-25T08:35:29.103Z"
   },
   {
    "duration": 58,
    "start_time": "2021-11-25T08:35:29.132Z"
   },
   {
    "duration": 13,
    "start_time": "2021-11-25T08:35:29.192Z"
   },
   {
    "duration": 48,
    "start_time": "2021-11-25T08:35:29.208Z"
   },
   {
    "duration": 63,
    "start_time": "2021-11-25T08:35:29.258Z"
   },
   {
    "duration": 70,
    "start_time": "2021-11-25T08:35:29.323Z"
   },
   {
    "duration": 37,
    "start_time": "2021-11-25T08:35:29.396Z"
   },
   {
    "duration": 474,
    "start_time": "2021-11-25T08:35:29.435Z"
   },
   {
    "duration": 472,
    "start_time": "2021-11-25T08:35:29.911Z"
   },
   {
    "duration": 679,
    "start_time": "2021-11-25T08:35:30.385Z"
   },
   {
    "duration": 3455,
    "start_time": "2021-11-25T08:35:31.066Z"
   },
   {
    "duration": 3313,
    "start_time": "2021-11-25T08:37:49.771Z"
   },
   {
    "duration": 3534,
    "start_time": "2021-11-25T08:38:04.296Z"
   },
   {
    "duration": 33,
    "start_time": "2021-11-25T08:43:29.060Z"
   },
   {
    "duration": 108,
    "start_time": "2021-11-25T08:45:41.956Z"
   },
   {
    "duration": 8672,
    "start_time": "2021-11-25T08:47:29.196Z"
   },
   {
    "duration": 7730,
    "start_time": "2021-11-25T08:48:03.482Z"
   },
   {
    "duration": 7723,
    "start_time": "2021-11-25T08:48:20.352Z"
   },
   {
    "duration": 14,
    "start_time": "2021-11-25T08:50:44.520Z"
   },
   {
    "duration": 5,
    "start_time": "2021-11-25T08:51:25.224Z"
   },
   {
    "duration": 13,
    "start_time": "2021-11-25T08:53:23.448Z"
   },
   {
    "duration": 508,
    "start_time": "2021-11-25T08:54:39.958Z"
   },
   {
    "duration": 669,
    "start_time": "2021-11-25T08:54:56.488Z"
   },
   {
    "duration": 857,
    "start_time": "2021-11-25T08:55:09.271Z"
   },
   {
    "duration": 570,
    "start_time": "2021-11-25T08:55:30.660Z"
   },
   {
    "duration": 39,
    "start_time": "2021-11-25T08:56:49.940Z"
   },
   {
    "duration": 46,
    "start_time": "2021-11-25T09:00:03.091Z"
   },
   {
    "duration": 64,
    "start_time": "2021-11-25T09:00:13.027Z"
   },
   {
    "duration": 61,
    "start_time": "2021-11-25T09:00:38.973Z"
   },
   {
    "duration": 67,
    "start_time": "2021-11-25T09:01:54.477Z"
   },
   {
    "duration": 67,
    "start_time": "2021-11-25T09:02:02.536Z"
   },
   {
    "duration": 26,
    "start_time": "2021-11-25T09:49:53.328Z"
   },
   {
    "duration": 299,
    "start_time": "2021-11-25T09:56:06.733Z"
   },
   {
    "duration": 461,
    "start_time": "2021-11-25T09:56:12.987Z"
   },
   {
    "duration": 308,
    "start_time": "2021-11-25T09:57:16.148Z"
   },
   {
    "duration": 1944,
    "start_time": "2021-11-25T09:58:38.126Z"
   },
   {
    "duration": 531,
    "start_time": "2021-11-25T09:58:40.073Z"
   },
   {
    "duration": 181,
    "start_time": "2021-11-25T09:58:40.607Z"
   },
   {
    "duration": 230,
    "start_time": "2021-11-25T09:58:40.791Z"
   },
   {
    "duration": 148,
    "start_time": "2021-11-25T09:58:41.023Z"
   },
   {
    "duration": 53,
    "start_time": "2021-11-25T09:58:41.181Z"
   },
   {
    "duration": 103,
    "start_time": "2021-11-25T09:58:41.237Z"
   },
   {
    "duration": 60,
    "start_time": "2021-11-25T09:58:41.344Z"
   },
   {
    "duration": 20,
    "start_time": "2021-11-25T09:58:41.407Z"
   },
   {
    "duration": 22,
    "start_time": "2021-11-25T09:58:41.429Z"
   },
   {
    "duration": 24,
    "start_time": "2021-11-25T09:58:41.483Z"
   },
   {
    "duration": 13,
    "start_time": "2021-11-25T09:58:41.510Z"
   },
   {
    "duration": 79,
    "start_time": "2021-11-25T09:58:41.526Z"
   },
   {
    "duration": 41,
    "start_time": "2021-11-25T09:58:41.608Z"
   },
   {
    "duration": 57,
    "start_time": "2021-11-25T09:58:41.651Z"
   },
   {
    "duration": 38,
    "start_time": "2021-11-25T09:58:41.711Z"
   },
   {
    "duration": 478,
    "start_time": "2021-11-25T09:58:41.752Z"
   },
   {
    "duration": 835,
    "start_time": "2021-11-25T09:58:42.232Z"
   },
   {
    "duration": 1205,
    "start_time": "2021-11-25T09:58:43.071Z"
   },
   {
    "duration": 549,
    "start_time": "2021-11-25T09:58:44.283Z"
   },
   {
    "duration": 666,
    "start_time": "2021-11-25T09:58:44.170Z"
   },
   {
    "duration": 305,
    "start_time": "2021-11-25T09:59:14.248Z"
   },
   {
    "duration": 402,
    "start_time": "2021-11-25T09:59:20.781Z"
   },
   {
    "duration": 1527,
    "start_time": "2021-11-25T09:59:33.315Z"
   },
   {
    "duration": 536,
    "start_time": "2021-11-25T09:59:34.845Z"
   },
   {
    "duration": 177,
    "start_time": "2021-11-25T09:59:35.384Z"
   },
   {
    "duration": 234,
    "start_time": "2021-11-25T09:59:35.564Z"
   },
   {
    "duration": 145,
    "start_time": "2021-11-25T09:59:35.801Z"
   },
   {
    "duration": 63,
    "start_time": "2021-11-25T09:59:35.948Z"
   },
   {
    "duration": 92,
    "start_time": "2021-11-25T09:59:36.014Z"
   },
   {
    "duration": 44,
    "start_time": "2021-11-25T09:59:36.109Z"
   },
   {
    "duration": 39,
    "start_time": "2021-11-25T09:59:36.156Z"
   },
   {
    "duration": 23,
    "start_time": "2021-11-25T09:59:36.198Z"
   },
   {
    "duration": 46,
    "start_time": "2021-11-25T09:59:36.224Z"
   },
   {
    "duration": 21,
    "start_time": "2021-11-25T09:59:36.272Z"
   },
   {
    "duration": 53,
    "start_time": "2021-11-25T09:59:36.296Z"
   },
   {
    "duration": 53,
    "start_time": "2021-11-25T09:59:36.352Z"
   },
   {
    "duration": 42,
    "start_time": "2021-11-25T09:59:36.408Z"
   },
   {
    "duration": 55,
    "start_time": "2021-11-25T09:59:36.452Z"
   },
   {
    "duration": 463,
    "start_time": "2021-11-25T09:59:36.510Z"
   },
   {
    "duration": 456,
    "start_time": "2021-11-25T09:59:36.975Z"
   },
   {
    "duration": 758,
    "start_time": "2021-11-25T09:59:37.433Z"
   },
   {
    "duration": 9,
    "start_time": "2021-11-25T09:59:38.194Z"
   },
   {
    "duration": 3427,
    "start_time": "2021-11-25T09:59:38.205Z"
   },
   {
    "duration": 13,
    "start_time": "2021-11-25T10:01:11.046Z"
   },
   {
    "duration": 15,
    "start_time": "2021-11-25T10:04:44.947Z"
   },
   {
    "duration": 16,
    "start_time": "2021-11-25T10:04:48.399Z"
   },
   {
    "duration": 1524,
    "start_time": "2021-11-25T10:04:56.497Z"
   },
   {
    "duration": 737,
    "start_time": "2021-11-25T10:04:58.024Z"
   },
   {
    "duration": 246,
    "start_time": "2021-11-25T10:04:58.764Z"
   },
   {
    "duration": 377,
    "start_time": "2021-11-25T10:04:59.014Z"
   },
   {
    "duration": 173,
    "start_time": "2021-11-25T10:04:59.394Z"
   },
   {
    "duration": 60,
    "start_time": "2021-11-25T10:04:59.569Z"
   },
   {
    "duration": 104,
    "start_time": "2021-11-25T10:04:59.631Z"
   },
   {
    "duration": 61,
    "start_time": "2021-11-25T10:04:59.738Z"
   },
   {
    "duration": 19,
    "start_time": "2021-11-25T10:04:59.802Z"
   },
   {
    "duration": 35,
    "start_time": "2021-11-25T10:04:59.824Z"
   },
   {
    "duration": 42,
    "start_time": "2021-11-25T10:04:59.861Z"
   },
   {
    "duration": 13,
    "start_time": "2021-11-25T10:04:59.906Z"
   },
   {
    "duration": 95,
    "start_time": "2021-11-25T10:04:59.921Z"
   },
   {
    "duration": 42,
    "start_time": "2021-11-25T10:05:00.019Z"
   },
   {
    "duration": 50,
    "start_time": "2021-11-25T10:05:00.063Z"
   },
   {
    "duration": 40,
    "start_time": "2021-11-25T10:05:00.115Z"
   },
   {
    "duration": 496,
    "start_time": "2021-11-25T10:05:00.157Z"
   },
   {
    "duration": 485,
    "start_time": "2021-11-25T10:05:00.655Z"
   },
   {
    "duration": 687,
    "start_time": "2021-11-25T10:05:01.143Z"
   },
   {
    "duration": 15,
    "start_time": "2021-11-25T10:05:01.833Z"
   },
   {
    "duration": 3417,
    "start_time": "2021-11-25T10:05:01.850Z"
   },
   {
    "duration": 31,
    "start_time": "2021-11-25T10:05:49.266Z"
   },
   {
    "duration": 8196,
    "start_time": "2021-11-25T10:08:57.671Z"
   },
   {
    "duration": 7837,
    "start_time": "2021-11-25T10:09:10.741Z"
   },
   {
    "duration": 566,
    "start_time": "2021-11-25T10:09:37.923Z"
   },
   {
    "duration": 1704,
    "start_time": "2021-11-25T10:09:46.893Z"
   },
   {
    "duration": 513,
    "start_time": "2021-11-25T10:09:48.600Z"
   },
   {
    "duration": 170,
    "start_time": "2021-11-25T10:09:49.116Z"
   },
   {
    "duration": 233,
    "start_time": "2021-11-25T10:09:49.288Z"
   },
   {
    "duration": 140,
    "start_time": "2021-11-25T10:09:49.524Z"
   },
   {
    "duration": 59,
    "start_time": "2021-11-25T10:09:49.666Z"
   },
   {
    "duration": 112,
    "start_time": "2021-11-25T10:09:49.727Z"
   },
   {
    "duration": 53,
    "start_time": "2021-11-25T10:09:49.843Z"
   },
   {
    "duration": 19,
    "start_time": "2021-11-25T10:09:49.899Z"
   },
   {
    "duration": 38,
    "start_time": "2021-11-25T10:09:49.920Z"
   },
   {
    "duration": 41,
    "start_time": "2021-11-25T10:09:49.961Z"
   },
   {
    "duration": 13,
    "start_time": "2021-11-25T10:09:50.004Z"
   },
   {
    "duration": 75,
    "start_time": "2021-11-25T10:09:50.019Z"
   },
   {
    "duration": 53,
    "start_time": "2021-11-25T10:09:50.096Z"
   },
   {
    "duration": 51,
    "start_time": "2021-11-25T10:09:50.151Z"
   },
   {
    "duration": 37,
    "start_time": "2021-11-25T10:09:50.205Z"
   },
   {
    "duration": 530,
    "start_time": "2021-11-25T10:09:50.245Z"
   },
   {
    "duration": 481,
    "start_time": "2021-11-25T10:09:50.777Z"
   },
   {
    "duration": 698,
    "start_time": "2021-11-25T10:09:51.260Z"
   },
   {
    "duration": 9986,
    "start_time": "2021-11-25T10:09:51.960Z"
   },
   {
    "duration": 575,
    "start_time": "2021-11-25T10:10:01.374Z"
   },
   {
    "duration": 569,
    "start_time": "2021-11-25T10:10:25.793Z"
   },
   {
    "duration": 1474,
    "start_time": "2021-11-25T10:11:46.595Z"
   },
   {
    "duration": 539,
    "start_time": "2021-11-25T10:11:48.071Z"
   },
   {
    "duration": 175,
    "start_time": "2021-11-25T10:11:48.617Z"
   },
   {
    "duration": 227,
    "start_time": "2021-11-25T10:11:48.795Z"
   },
   {
    "duration": 155,
    "start_time": "2021-11-25T10:11:49.025Z"
   },
   {
    "duration": 53,
    "start_time": "2021-11-25T10:11:49.182Z"
   },
   {
    "duration": 106,
    "start_time": "2021-11-25T10:11:49.239Z"
   },
   {
    "duration": 58,
    "start_time": "2021-11-25T10:11:49.348Z"
   },
   {
    "duration": 21,
    "start_time": "2021-11-25T10:11:49.408Z"
   },
   {
    "duration": 51,
    "start_time": "2021-11-25T10:11:49.431Z"
   },
   {
    "duration": 38,
    "start_time": "2021-11-25T10:11:49.485Z"
   },
   {
    "duration": 20,
    "start_time": "2021-11-25T10:11:49.526Z"
   },
   {
    "duration": 77,
    "start_time": "2021-11-25T10:11:49.549Z"
   },
   {
    "duration": 61,
    "start_time": "2021-11-25T10:11:49.629Z"
   },
   {
    "duration": 43,
    "start_time": "2021-11-25T10:11:49.692Z"
   },
   {
    "duration": 54,
    "start_time": "2021-11-25T10:11:49.737Z"
   },
   {
    "duration": 484,
    "start_time": "2021-11-25T10:11:49.793Z"
   },
   {
    "duration": 619,
    "start_time": "2021-11-25T10:11:50.283Z"
   },
   {
    "duration": 793,
    "start_time": "2021-11-25T10:11:50.904Z"
   },
   {
    "duration": 52,
    "start_time": "2021-11-25T10:11:51.700Z"
   },
   {
    "duration": 3424,
    "start_time": "2021-11-25T10:11:51.754Z"
   },
   {
    "duration": 45,
    "start_time": "2021-11-25T10:13:34.409Z"
   },
   {
    "duration": 475,
    "start_time": "2021-11-25T10:14:34.312Z"
   },
   {
    "duration": 12,
    "start_time": "2021-11-25T10:14:55.874Z"
   },
   {
    "duration": 12,
    "start_time": "2021-11-25T10:15:13.939Z"
   },
   {
    "duration": 9,
    "start_time": "2021-11-25T10:15:18.581Z"
   },
   {
    "duration": 1624,
    "start_time": "2021-11-25T10:15:27.483Z"
   },
   {
    "duration": 524,
    "start_time": "2021-11-25T10:15:29.110Z"
   },
   {
    "duration": 166,
    "start_time": "2021-11-25T10:15:29.637Z"
   },
   {
    "duration": 236,
    "start_time": "2021-11-25T10:15:29.807Z"
   },
   {
    "duration": 142,
    "start_time": "2021-11-25T10:15:30.046Z"
   },
   {
    "duration": 52,
    "start_time": "2021-11-25T10:15:30.191Z"
   },
   {
    "duration": 101,
    "start_time": "2021-11-25T10:15:30.245Z"
   },
   {
    "duration": 58,
    "start_time": "2021-11-25T10:15:30.349Z"
   },
   {
    "duration": 20,
    "start_time": "2021-11-25T10:15:30.410Z"
   },
   {
    "duration": 57,
    "start_time": "2021-11-25T10:15:30.432Z"
   },
   {
    "duration": 25,
    "start_time": "2021-11-25T10:15:30.492Z"
   },
   {
    "duration": 22,
    "start_time": "2021-11-25T10:15:30.519Z"
   },
   {
    "duration": 96,
    "start_time": "2021-11-25T10:15:30.543Z"
   },
   {
    "duration": 45,
    "start_time": "2021-11-25T10:15:30.641Z"
   },
   {
    "duration": 44,
    "start_time": "2021-11-25T10:15:30.688Z"
   },
   {
    "duration": 58,
    "start_time": "2021-11-25T10:15:30.735Z"
   },
   {
    "duration": 490,
    "start_time": "2021-11-25T10:15:30.796Z"
   },
   {
    "duration": 487,
    "start_time": "2021-11-25T10:15:31.288Z"
   },
   {
    "duration": 688,
    "start_time": "2021-11-25T10:15:31.777Z"
   },
   {
    "duration": 23,
    "start_time": "2021-11-25T10:15:32.468Z"
   },
   {
    "duration": 3892,
    "start_time": "2021-11-25T10:15:32.494Z"
   },
   {
    "duration": 3,
    "start_time": "2021-11-25T10:16:38.732Z"
   },
   {
    "duration": 1583,
    "start_time": "2021-11-25T10:17:01.742Z"
   },
   {
    "duration": 536,
    "start_time": "2021-11-25T10:17:03.327Z"
   },
   {
    "duration": 172,
    "start_time": "2021-11-25T10:17:03.866Z"
   },
   {
    "duration": 370,
    "start_time": "2021-11-25T10:17:04.041Z"
   },
   {
    "duration": 187,
    "start_time": "2021-11-25T10:17:04.414Z"
   },
   {
    "duration": 86,
    "start_time": "2021-11-25T10:17:04.604Z"
   },
   {
    "duration": 124,
    "start_time": "2021-11-25T10:17:04.694Z"
   },
   {
    "duration": 59,
    "start_time": "2021-11-25T10:17:04.823Z"
   },
   {
    "duration": 18,
    "start_time": "2021-11-25T10:17:04.885Z"
   },
   {
    "duration": 33,
    "start_time": "2021-11-25T10:17:04.906Z"
   },
   {
    "duration": 45,
    "start_time": "2021-11-25T10:17:04.941Z"
   },
   {
    "duration": 16,
    "start_time": "2021-11-25T10:17:04.989Z"
   },
   {
    "duration": 56,
    "start_time": "2021-11-25T10:17:05.007Z"
   },
   {
    "duration": 55,
    "start_time": "2021-11-25T10:17:05.066Z"
   },
   {
    "duration": 62,
    "start_time": "2021-11-25T10:17:05.123Z"
   },
   {
    "duration": 39,
    "start_time": "2021-11-25T10:17:05.188Z"
   },
   {
    "duration": 464,
    "start_time": "2021-11-25T10:17:05.229Z"
   },
   {
    "duration": 463,
    "start_time": "2021-11-25T10:17:05.695Z"
   },
   {
    "duration": 659,
    "start_time": "2021-11-25T10:17:06.160Z"
   },
   {
    "duration": 8838,
    "start_time": "2021-11-25T10:17:06.822Z"
   },
   {
    "duration": 526,
    "start_time": "2021-11-25T10:17:15.137Z"
   },
   {
    "duration": 18,
    "start_time": "2021-11-25T10:17:30.103Z"
   },
   {
    "duration": 120,
    "start_time": "2021-11-25T10:18:23.242Z"
   },
   {
    "duration": 37,
    "start_time": "2021-11-25T10:18:29.839Z"
   },
   {
    "duration": 37,
    "start_time": "2021-11-25T10:18:37.323Z"
   },
   {
    "duration": 1551,
    "start_time": "2021-11-25T10:18:44.905Z"
   },
   {
    "duration": 539,
    "start_time": "2021-11-25T10:18:46.459Z"
   },
   {
    "duration": 169,
    "start_time": "2021-11-25T10:18:47.002Z"
   },
   {
    "duration": 217,
    "start_time": "2021-11-25T10:18:47.174Z"
   },
   {
    "duration": 158,
    "start_time": "2021-11-25T10:18:47.393Z"
   },
   {
    "duration": 86,
    "start_time": "2021-11-25T10:18:47.553Z"
   },
   {
    "duration": 131,
    "start_time": "2021-11-25T10:18:47.642Z"
   },
   {
    "duration": 46,
    "start_time": "2021-11-25T10:18:47.784Z"
   },
   {
    "duration": 20,
    "start_time": "2021-11-25T10:18:47.833Z"
   },
   {
    "duration": 61,
    "start_time": "2021-11-25T10:18:47.856Z"
   },
   {
    "duration": 36,
    "start_time": "2021-11-25T10:18:47.920Z"
   },
   {
    "duration": 19,
    "start_time": "2021-11-25T10:18:47.983Z"
   },
   {
    "duration": 79,
    "start_time": "2021-11-25T10:18:48.005Z"
   },
   {
    "duration": 57,
    "start_time": "2021-11-25T10:18:48.088Z"
   },
   {
    "duration": 81,
    "start_time": "2021-11-25T10:18:48.148Z"
   },
   {
    "duration": 59,
    "start_time": "2021-11-25T10:18:48.232Z"
   },
   {
    "duration": 849,
    "start_time": "2021-11-25T10:18:48.294Z"
   },
   {
    "duration": 827,
    "start_time": "2021-11-25T10:18:49.147Z"
   },
   {
    "duration": 688,
    "start_time": "2021-11-25T10:18:49.982Z"
   },
   {
    "duration": 41,
    "start_time": "2021-11-25T10:18:50.673Z"
   },
   {
    "duration": 5313,
    "start_time": "2021-11-25T10:18:50.717Z"
   },
   {
    "duration": 51,
    "start_time": "2021-11-25T10:19:26.324Z"
   },
   {
    "duration": 1440,
    "start_time": "2021-11-25T10:19:42.525Z"
   },
   {
    "duration": 539,
    "start_time": "2021-11-25T10:19:43.967Z"
   },
   {
    "duration": 184,
    "start_time": "2021-11-25T10:19:44.509Z"
   },
   {
    "duration": 226,
    "start_time": "2021-11-25T10:19:44.696Z"
   },
   {
    "duration": 147,
    "start_time": "2021-11-25T10:19:44.925Z"
   },
   {
    "duration": 54,
    "start_time": "2021-11-25T10:19:45.074Z"
   },
   {
    "duration": 101,
    "start_time": "2021-11-25T10:19:45.131Z"
   },
   {
    "duration": 63,
    "start_time": "2021-11-25T10:19:45.236Z"
   },
   {
    "duration": 20,
    "start_time": "2021-11-25T10:19:45.303Z"
   },
   {
    "duration": 27,
    "start_time": "2021-11-25T10:19:45.325Z"
   },
   {
    "duration": 25,
    "start_time": "2021-11-25T10:19:45.383Z"
   },
   {
    "duration": 13,
    "start_time": "2021-11-25T10:19:45.411Z"
   },
   {
    "duration": 76,
    "start_time": "2021-11-25T10:19:45.426Z"
   },
   {
    "duration": 43,
    "start_time": "2021-11-25T10:19:45.505Z"
   },
   {
    "duration": 59,
    "start_time": "2021-11-25T10:19:45.550Z"
   },
   {
    "duration": 39,
    "start_time": "2021-11-25T10:19:45.612Z"
   },
   {
    "duration": 484,
    "start_time": "2021-11-25T10:19:45.653Z"
   },
   {
    "duration": 481,
    "start_time": "2021-11-25T10:19:46.140Z"
   },
   {
    "duration": 668,
    "start_time": "2021-11-25T10:19:46.624Z"
   },
   {
    "duration": 40,
    "start_time": "2021-11-25T10:19:47.294Z"
   },
   {
    "duration": 3334,
    "start_time": "2021-11-25T10:19:47.336Z"
   },
   {
    "duration": 510,
    "start_time": "2021-11-25T10:20:19.362Z"
   },
   {
    "duration": 50,
    "start_time": "2021-11-25T10:20:41.739Z"
   },
   {
    "duration": 45,
    "start_time": "2021-11-25T10:21:33.324Z"
   },
   {
    "duration": 49,
    "start_time": "2021-11-25T10:21:55.938Z"
   },
   {
    "duration": 42,
    "start_time": "2021-11-25T10:22:10.114Z"
   },
   {
    "duration": 60,
    "start_time": "2021-11-25T10:22:18.691Z"
   },
   {
    "duration": 100,
    "start_time": "2021-11-25T10:22:25.614Z"
   },
   {
    "duration": 45,
    "start_time": "2021-11-25T10:22:31.745Z"
   },
   {
    "duration": 48,
    "start_time": "2021-11-25T10:22:42.382Z"
   },
   {
    "duration": 43,
    "start_time": "2021-11-25T10:22:49.310Z"
   },
   {
    "duration": 46,
    "start_time": "2021-11-25T10:22:53.800Z"
   },
   {
    "duration": 38,
    "start_time": "2021-11-25T10:24:37.289Z"
   },
   {
    "duration": 2371,
    "start_time": "2021-11-25T10:24:45.840Z"
   },
   {
    "duration": 1517,
    "start_time": "2021-11-25T10:24:53.367Z"
   },
   {
    "duration": 550,
    "start_time": "2021-11-25T10:24:54.887Z"
   },
   {
    "duration": 171,
    "start_time": "2021-11-25T10:24:55.441Z"
   },
   {
    "duration": 237,
    "start_time": "2021-11-25T10:24:55.616Z"
   },
   {
    "duration": 143,
    "start_time": "2021-11-25T10:24:55.856Z"
   },
   {
    "duration": 87,
    "start_time": "2021-11-25T10:24:56.002Z"
   },
   {
    "duration": 119,
    "start_time": "2021-11-25T10:24:56.092Z"
   },
   {
    "duration": 46,
    "start_time": "2021-11-25T10:24:56.215Z"
   },
   {
    "duration": 40,
    "start_time": "2021-11-25T10:24:56.264Z"
   },
   {
    "duration": 26,
    "start_time": "2021-11-25T10:24:56.308Z"
   },
   {
    "duration": 64,
    "start_time": "2021-11-25T10:24:56.337Z"
   },
   {
    "duration": 14,
    "start_time": "2021-11-25T10:24:56.404Z"
   },
   {
    "duration": 73,
    "start_time": "2021-11-25T10:24:56.421Z"
   },
   {
    "duration": 42,
    "start_time": "2021-11-25T10:24:56.497Z"
   },
   {
    "duration": 67,
    "start_time": "2021-11-25T10:24:56.541Z"
   },
   {
    "duration": 37,
    "start_time": "2021-11-25T10:24:56.610Z"
   },
   {
    "duration": 503,
    "start_time": "2021-11-25T10:24:56.649Z"
   },
   {
    "duration": 480,
    "start_time": "2021-11-25T10:24:57.155Z"
   },
   {
    "duration": 825,
    "start_time": "2021-11-25T10:24:57.637Z"
   },
   {
    "duration": 51,
    "start_time": "2021-11-25T10:24:58.464Z"
   },
   {
    "duration": 2742,
    "start_time": "2021-11-25T10:24:58.518Z"
   },
   {
    "duration": 3695,
    "start_time": "2021-11-25T10:25:06.179Z"
   },
   {
    "duration": 1497,
    "start_time": "2021-11-25T10:25:12.391Z"
   },
   {
    "duration": 545,
    "start_time": "2021-11-25T10:25:13.891Z"
   },
   {
    "duration": 169,
    "start_time": "2021-11-25T10:25:14.440Z"
   },
   {
    "duration": 235,
    "start_time": "2021-11-25T10:25:14.612Z"
   },
   {
    "duration": 165,
    "start_time": "2021-11-25T10:25:14.849Z"
   },
   {
    "duration": 66,
    "start_time": "2021-11-25T10:25:15.016Z"
   },
   {
    "duration": 98,
    "start_time": "2021-11-25T10:25:15.084Z"
   },
   {
    "duration": 44,
    "start_time": "2021-11-25T10:25:15.186Z"
   },
   {
    "duration": 20,
    "start_time": "2021-11-25T10:25:15.233Z"
   },
   {
    "duration": 26,
    "start_time": "2021-11-25T10:25:15.283Z"
   },
   {
    "duration": 25,
    "start_time": "2021-11-25T10:25:15.311Z"
   },
   {
    "duration": 46,
    "start_time": "2021-11-25T10:25:15.339Z"
   },
   {
    "duration": 58,
    "start_time": "2021-11-25T10:25:15.389Z"
   },
   {
    "duration": 60,
    "start_time": "2021-11-25T10:25:15.449Z"
   },
   {
    "duration": 43,
    "start_time": "2021-11-25T10:25:15.511Z"
   },
   {
    "duration": 57,
    "start_time": "2021-11-25T10:25:15.557Z"
   },
   {
    "duration": 474,
    "start_time": "2021-11-25T10:25:15.617Z"
   },
   {
    "duration": 481,
    "start_time": "2021-11-25T10:25:16.093Z"
   },
   {
    "duration": 688,
    "start_time": "2021-11-25T10:25:16.576Z"
   },
   {
    "duration": 70,
    "start_time": "2021-11-25T10:25:17.266Z"
   },
   {
    "duration": 2537,
    "start_time": "2021-11-25T10:25:17.339Z"
   },
   {
    "duration": 5,
    "start_time": "2021-11-25T10:31:44.289Z"
   },
   {
    "duration": 1499,
    "start_time": "2021-11-25T10:35:28.927Z"
   },
   {
    "duration": 611,
    "start_time": "2021-11-25T10:35:30.429Z"
   },
   {
    "duration": 193,
    "start_time": "2021-11-25T10:35:31.043Z"
   },
   {
    "duration": 239,
    "start_time": "2021-11-25T10:35:31.239Z"
   },
   {
    "duration": 156,
    "start_time": "2021-11-25T10:35:31.481Z"
   },
   {
    "duration": 64,
    "start_time": "2021-11-25T10:35:31.639Z"
   },
   {
    "duration": 92,
    "start_time": "2021-11-25T10:35:31.706Z"
   },
   {
    "duration": 44,
    "start_time": "2021-11-25T10:35:31.801Z"
   },
   {
    "duration": 42,
    "start_time": "2021-11-25T10:35:31.847Z"
   },
   {
    "duration": 32,
    "start_time": "2021-11-25T10:35:31.892Z"
   },
   {
    "duration": 26,
    "start_time": "2021-11-25T10:35:31.927Z"
   },
   {
    "duration": 13,
    "start_time": "2021-11-25T10:35:31.983Z"
   },
   {
    "duration": 77,
    "start_time": "2021-11-25T10:35:31.999Z"
   },
   {
    "duration": 43,
    "start_time": "2021-11-25T10:35:32.078Z"
   },
   {
    "duration": 44,
    "start_time": "2021-11-25T10:35:32.124Z"
   },
   {
    "duration": 45,
    "start_time": "2021-11-25T10:35:32.183Z"
   },
   {
    "duration": 526,
    "start_time": "2021-11-25T10:35:32.231Z"
   },
   {
    "duration": 523,
    "start_time": "2021-11-25T10:35:32.760Z"
   },
   {
    "duration": 665,
    "start_time": "2021-11-25T10:35:33.286Z"
   },
   {
    "duration": 5,
    "start_time": "2021-11-25T10:35:33.954Z"
   },
   {
    "duration": 2204,
    "start_time": "2021-11-25T10:35:33.962Z"
   },
   {
    "duration": 44,
    "start_time": "2021-11-25T10:36:04.496Z"
   },
   {
    "duration": 136,
    "start_time": "2021-11-25T10:36:32.376Z"
   },
   {
    "duration": 1482,
    "start_time": "2021-11-25T10:36:41.555Z"
   },
   {
    "duration": 532,
    "start_time": "2021-11-25T10:36:43.040Z"
   },
   {
    "duration": 175,
    "start_time": "2021-11-25T10:36:43.574Z"
   },
   {
    "duration": 232,
    "start_time": "2021-11-25T10:36:43.751Z"
   },
   {
    "duration": 193,
    "start_time": "2021-11-25T10:36:43.986Z"
   },
   {
    "duration": 72,
    "start_time": "2021-11-25T10:36:44.184Z"
   },
   {
    "duration": 99,
    "start_time": "2021-11-25T10:36:44.260Z"
   },
   {
    "duration": 61,
    "start_time": "2021-11-25T10:36:44.362Z"
   },
   {
    "duration": 21,
    "start_time": "2021-11-25T10:36:44.426Z"
   },
   {
    "duration": 49,
    "start_time": "2021-11-25T10:36:44.449Z"
   },
   {
    "duration": 24,
    "start_time": "2021-11-25T10:36:44.501Z"
   },
   {
    "duration": 13,
    "start_time": "2021-11-25T10:36:44.527Z"
   },
   {
    "duration": 79,
    "start_time": "2021-11-25T10:36:44.542Z"
   },
   {
    "duration": 41,
    "start_time": "2021-11-25T10:36:44.624Z"
   },
   {
    "duration": 40,
    "start_time": "2021-11-25T10:36:44.683Z"
   },
   {
    "duration": 36,
    "start_time": "2021-11-25T10:36:44.726Z"
   },
   {
    "duration": 457,
    "start_time": "2021-11-25T10:36:44.782Z"
   },
   {
    "duration": 481,
    "start_time": "2021-11-25T10:36:45.242Z"
   },
   {
    "duration": 777,
    "start_time": "2021-11-25T10:36:45.726Z"
   },
   {
    "duration": 116,
    "start_time": "2021-11-25T10:36:46.506Z"
   },
   {
    "duration": 2295,
    "start_time": "2021-11-25T10:36:46.624Z"
   },
   {
    "duration": 109,
    "start_time": "2021-11-25T10:37:02.497Z"
   },
   {
    "duration": 1945,
    "start_time": "2021-11-25T10:37:11.791Z"
   },
   {
    "duration": 522,
    "start_time": "2021-11-25T10:37:13.739Z"
   },
   {
    "duration": 174,
    "start_time": "2021-11-25T10:37:14.264Z"
   },
   {
    "duration": 224,
    "start_time": "2021-11-25T10:37:14.441Z"
   },
   {
    "duration": 144,
    "start_time": "2021-11-25T10:37:14.668Z"
   },
   {
    "duration": 71,
    "start_time": "2021-11-25T10:37:14.815Z"
   },
   {
    "duration": 98,
    "start_time": "2021-11-25T10:37:14.889Z"
   },
   {
    "duration": 44,
    "start_time": "2021-11-25T10:37:14.991Z"
   },
   {
    "duration": 44,
    "start_time": "2021-11-25T10:37:15.038Z"
   },
   {
    "duration": 33,
    "start_time": "2021-11-25T10:37:15.084Z"
   },
   {
    "duration": 36,
    "start_time": "2021-11-25T10:37:15.120Z"
   },
   {
    "duration": 26,
    "start_time": "2021-11-25T10:37:15.158Z"
   },
   {
    "duration": 60,
    "start_time": "2021-11-25T10:37:15.187Z"
   },
   {
    "duration": 41,
    "start_time": "2021-11-25T10:37:15.250Z"
   },
   {
    "duration": 41,
    "start_time": "2021-11-25T10:37:15.293Z"
   },
   {
    "duration": 68,
    "start_time": "2021-11-25T10:37:15.338Z"
   },
   {
    "duration": 797,
    "start_time": "2021-11-25T10:37:15.409Z"
   },
   {
    "duration": 825,
    "start_time": "2021-11-25T10:37:16.209Z"
   },
   {
    "duration": 1207,
    "start_time": "2021-11-25T10:37:17.037Z"
   },
   {
    "duration": 171,
    "start_time": "2021-11-25T10:37:18.246Z"
   },
   {
    "duration": 3556,
    "start_time": "2021-11-25T10:37:18.421Z"
   },
   {
    "duration": 1577,
    "start_time": "2021-11-25T10:38:28.555Z"
   },
   {
    "duration": 538,
    "start_time": "2021-11-25T10:38:30.134Z"
   },
   {
    "duration": 187,
    "start_time": "2021-11-25T10:38:30.674Z"
   },
   {
    "duration": 235,
    "start_time": "2021-11-25T10:38:30.864Z"
   },
   {
    "duration": 161,
    "start_time": "2021-11-25T10:38:31.102Z"
   },
   {
    "duration": 63,
    "start_time": "2021-11-25T10:38:31.266Z"
   },
   {
    "duration": 110,
    "start_time": "2021-11-25T10:38:31.332Z"
   },
   {
    "duration": 63,
    "start_time": "2021-11-25T10:38:31.448Z"
   },
   {
    "duration": 20,
    "start_time": "2021-11-25T10:38:31.514Z"
   },
   {
    "duration": 52,
    "start_time": "2021-11-25T10:38:31.537Z"
   },
   {
    "duration": 37,
    "start_time": "2021-11-25T10:38:31.592Z"
   },
   {
    "duration": 17,
    "start_time": "2021-11-25T10:38:31.632Z"
   },
   {
    "duration": 76,
    "start_time": "2021-11-25T10:38:31.651Z"
   },
   {
    "duration": 65,
    "start_time": "2021-11-25T10:38:31.729Z"
   },
   {
    "duration": 43,
    "start_time": "2021-11-25T10:38:31.796Z"
   },
   {
    "duration": 57,
    "start_time": "2021-11-25T10:38:31.843Z"
   },
   {
    "duration": 485,
    "start_time": "2021-11-25T10:38:31.902Z"
   },
   {
    "duration": 473,
    "start_time": "2021-11-25T10:38:32.390Z"
   },
   {
    "duration": 656,
    "start_time": "2021-11-25T10:38:32.867Z"
   },
   {
    "duration": 111,
    "start_time": "2021-11-25T10:38:33.527Z"
   },
   {
    "duration": 2418,
    "start_time": "2021-11-25T10:38:33.641Z"
   },
   {
    "duration": 9,
    "start_time": "2021-11-25T10:41:38.097Z"
   },
   {
    "duration": 8,
    "start_time": "2021-11-25T10:41:55.149Z"
   },
   {
    "duration": 1617,
    "start_time": "2021-11-25T10:42:01.089Z"
   },
   {
    "duration": 3933,
    "start_time": "2021-11-25T10:42:02.709Z"
   },
   {
    "duration": 176,
    "start_time": "2021-11-25T10:42:06.645Z"
   },
   {
    "duration": 258,
    "start_time": "2021-11-25T10:42:06.824Z"
   },
   {
    "duration": 152,
    "start_time": "2021-11-25T10:42:07.085Z"
   },
   {
    "duration": 69,
    "start_time": "2021-11-25T10:42:07.239Z"
   },
   {
    "duration": 95,
    "start_time": "2021-11-25T10:42:07.310Z"
   },
   {
    "duration": 45,
    "start_time": "2021-11-25T10:42:07.409Z"
   },
   {
    "duration": 49,
    "start_time": "2021-11-25T10:42:07.457Z"
   },
   {
    "duration": 32,
    "start_time": "2021-11-25T10:42:07.508Z"
   },
   {
    "duration": 63,
    "start_time": "2021-11-25T10:42:07.543Z"
   },
   {
    "duration": 13,
    "start_time": "2021-11-25T10:42:07.609Z"
   },
   {
    "duration": 73,
    "start_time": "2021-11-25T10:42:07.624Z"
   },
   {
    "duration": 47,
    "start_time": "2021-11-25T10:42:07.700Z"
   },
   {
    "duration": 66,
    "start_time": "2021-11-25T10:42:07.749Z"
   },
   {
    "duration": 66,
    "start_time": "2021-11-25T10:42:07.819Z"
   },
   {
    "duration": 605,
    "start_time": "2021-11-25T10:42:07.889Z"
   },
   {
    "duration": 460,
    "start_time": "2021-11-25T10:42:08.496Z"
   },
   {
    "duration": 671,
    "start_time": "2021-11-25T10:42:08.959Z"
   },
   {
    "duration": 14,
    "start_time": "2021-11-25T10:42:09.632Z"
   },
   {
    "duration": 2310,
    "start_time": "2021-11-25T10:42:09.649Z"
   },
   {
    "duration": 8,
    "start_time": "2021-11-25T10:43:39.756Z"
   },
   {
    "duration": 1513,
    "start_time": "2021-11-25T10:43:45.083Z"
   },
   {
    "duration": 552,
    "start_time": "2021-11-25T10:43:46.599Z"
   },
   {
    "duration": 175,
    "start_time": "2021-11-25T10:43:47.155Z"
   },
   {
    "duration": 281,
    "start_time": "2021-11-25T10:43:47.333Z"
   },
   {
    "duration": 166,
    "start_time": "2021-11-25T10:43:47.617Z"
   },
   {
    "duration": 55,
    "start_time": "2021-11-25T10:43:47.786Z"
   },
   {
    "duration": 111,
    "start_time": "2021-11-25T10:43:47.844Z"
   },
   {
    "duration": 60,
    "start_time": "2021-11-25T10:43:47.959Z"
   },
   {
    "duration": 21,
    "start_time": "2021-11-25T10:43:48.022Z"
   },
   {
    "duration": 62,
    "start_time": "2021-11-25T10:43:48.046Z"
   },
   {
    "duration": 25,
    "start_time": "2021-11-25T10:43:48.111Z"
   },
   {
    "duration": 46,
    "start_time": "2021-11-25T10:43:48.138Z"
   },
   {
    "duration": 55,
    "start_time": "2021-11-25T10:43:48.187Z"
   },
   {
    "duration": 55,
    "start_time": "2021-11-25T10:43:48.244Z"
   },
   {
    "duration": 42,
    "start_time": "2021-11-25T10:43:48.302Z"
   },
   {
    "duration": 59,
    "start_time": "2021-11-25T10:43:48.346Z"
   },
   {
    "duration": 471,
    "start_time": "2021-11-25T10:43:48.408Z"
   },
   {
    "duration": 469,
    "start_time": "2021-11-25T10:43:48.883Z"
   },
   {
    "duration": 683,
    "start_time": "2021-11-25T10:43:49.355Z"
   },
   {
    "duration": 16,
    "start_time": "2021-11-25T10:43:50.041Z"
   },
   {
    "duration": 2261,
    "start_time": "2021-11-25T10:43:50.060Z"
   },
   {
    "duration": 7,
    "start_time": "2021-11-25T10:44:43.102Z"
   },
   {
    "duration": 1490,
    "start_time": "2021-11-25T10:44:49.392Z"
   },
   {
    "duration": 543,
    "start_time": "2021-11-25T10:44:50.884Z"
   },
   {
    "duration": 185,
    "start_time": "2021-11-25T10:44:51.431Z"
   },
   {
    "duration": 230,
    "start_time": "2021-11-25T10:44:51.620Z"
   },
   {
    "duration": 163,
    "start_time": "2021-11-25T10:44:51.852Z"
   },
   {
    "duration": 71,
    "start_time": "2021-11-25T10:44:52.018Z"
   },
   {
    "duration": 95,
    "start_time": "2021-11-25T10:44:52.092Z"
   },
   {
    "duration": 47,
    "start_time": "2021-11-25T10:44:52.191Z"
   },
   {
    "duration": 19,
    "start_time": "2021-11-25T10:44:52.240Z"
   },
   {
    "duration": 23,
    "start_time": "2021-11-25T10:44:52.283Z"
   },
   {
    "duration": 25,
    "start_time": "2021-11-25T10:44:52.308Z"
   },
   {
    "duration": 51,
    "start_time": "2021-11-25T10:44:52.335Z"
   },
   {
    "duration": 55,
    "start_time": "2021-11-25T10:44:52.389Z"
   },
   {
    "duration": 69,
    "start_time": "2021-11-25T10:44:52.448Z"
   },
   {
    "duration": 67,
    "start_time": "2021-11-25T10:44:52.520Z"
   },
   {
    "duration": 39,
    "start_time": "2021-11-25T10:44:52.590Z"
   },
   {
    "duration": 492,
    "start_time": "2021-11-25T10:44:52.631Z"
   },
   {
    "duration": 560,
    "start_time": "2021-11-25T10:44:53.126Z"
   },
   {
    "duration": 677,
    "start_time": "2021-11-25T10:44:53.689Z"
   },
   {
    "duration": 14,
    "start_time": "2021-11-25T10:44:54.368Z"
   },
   {
    "duration": 2197,
    "start_time": "2021-11-25T10:44:54.385Z"
   },
   {
    "duration": 7,
    "start_time": "2021-11-25T10:45:04.317Z"
   },
   {
    "duration": 1603,
    "start_time": "2021-11-25T10:48:38.879Z"
   },
   {
    "duration": 558,
    "start_time": "2021-11-25T10:48:40.485Z"
   },
   {
    "duration": 172,
    "start_time": "2021-11-25T10:48:41.046Z"
   },
   {
    "duration": 235,
    "start_time": "2021-11-25T10:48:41.221Z"
   },
   {
    "duration": 149,
    "start_time": "2021-11-25T10:48:41.458Z"
   },
   {
    "duration": 51,
    "start_time": "2021-11-25T10:48:41.609Z"
   },
   {
    "duration": 101,
    "start_time": "2021-11-25T10:48:41.663Z"
   },
   {
    "duration": 58,
    "start_time": "2021-11-25T10:48:41.768Z"
   },
   {
    "duration": 21,
    "start_time": "2021-11-25T10:48:41.829Z"
   },
   {
    "duration": 34,
    "start_time": "2021-11-25T10:48:41.884Z"
   },
   {
    "duration": 24,
    "start_time": "2021-11-25T10:48:41.920Z"
   },
   {
    "duration": 42,
    "start_time": "2021-11-25T10:48:41.947Z"
   },
   {
    "duration": 48,
    "start_time": "2021-11-25T10:48:41.991Z"
   },
   {
    "duration": 57,
    "start_time": "2021-11-25T10:48:42.042Z"
   },
   {
    "duration": 44,
    "start_time": "2021-11-25T10:48:42.101Z"
   },
   {
    "duration": 59,
    "start_time": "2021-11-25T10:48:42.148Z"
   },
   {
    "duration": 462,
    "start_time": "2021-11-25T10:48:42.209Z"
   },
   {
    "duration": 476,
    "start_time": "2021-11-25T10:48:42.673Z"
   },
   {
    "duration": 663,
    "start_time": "2021-11-25T10:48:43.151Z"
   },
   {
    "duration": 103,
    "start_time": "2021-11-25T10:48:43.816Z"
   },
   {
    "duration": 695,
    "start_time": "2021-11-25T10:48:43.226Z"
   },
   {
    "duration": 8,
    "start_time": "2021-11-25T10:48:48.138Z"
   },
   {
    "duration": 6,
    "start_time": "2021-11-25T10:48:55.070Z"
   },
   {
    "duration": 10,
    "start_time": "2021-11-25T10:49:04.248Z"
   },
   {
    "duration": 22,
    "start_time": "2021-11-25T10:49:22.554Z"
   },
   {
    "duration": 9,
    "start_time": "2021-11-25T10:49:31.819Z"
   },
   {
    "duration": 113,
    "start_time": "2021-11-25T10:51:58.099Z"
   },
   {
    "duration": 14,
    "start_time": "2021-11-25T10:52:07.579Z"
   },
   {
    "duration": 424,
    "start_time": "2021-11-25T11:06:25.859Z"
   },
   {
    "duration": 419,
    "start_time": "2021-11-25T11:06:45.147Z"
   },
   {
    "duration": 15,
    "start_time": "2021-11-25T11:07:04.006Z"
   },
   {
    "duration": 433,
    "start_time": "2021-11-25T11:07:47.375Z"
   },
   {
    "duration": 630,
    "start_time": "2021-11-25T11:08:14.659Z"
   },
   {
    "duration": 13,
    "start_time": "2021-11-25T11:08:28.943Z"
   },
   {
    "duration": 16,
    "start_time": "2021-11-25T11:08:45.907Z"
   },
   {
    "duration": 17,
    "start_time": "2021-11-25T11:08:59.750Z"
   },
   {
    "duration": 13,
    "start_time": "2021-11-25T11:09:10.251Z"
   },
   {
    "duration": 67,
    "start_time": "2021-11-25T11:09:49.863Z"
   },
   {
    "duration": 47,
    "start_time": "2021-11-25T11:10:31.035Z"
   },
   {
    "duration": 622,
    "start_time": "2021-11-25T11:11:33.238Z"
   },
   {
    "duration": 79,
    "start_time": "2021-11-25T11:11:40.294Z"
   },
   {
    "duration": 145,
    "start_time": "2021-11-25T11:12:43.941Z"
   },
   {
    "duration": 72,
    "start_time": "2021-11-25T11:12:59.411Z"
   },
   {
    "duration": 401,
    "start_time": "2021-11-25T11:13:35.217Z"
   },
   {
    "duration": 404,
    "start_time": "2021-11-25T11:13:42.667Z"
   },
   {
    "duration": 69,
    "start_time": "2021-11-25T11:13:50.307Z"
   },
   {
    "duration": 1522,
    "start_time": "2021-11-25T11:14:30.532Z"
   },
   {
    "duration": 592,
    "start_time": "2021-11-25T11:14:32.057Z"
   },
   {
    "duration": 193,
    "start_time": "2021-11-25T11:14:32.652Z"
   },
   {
    "duration": 225,
    "start_time": "2021-11-25T11:14:32.847Z"
   },
   {
    "duration": 147,
    "start_time": "2021-11-25T11:14:33.081Z"
   },
   {
    "duration": 80,
    "start_time": "2021-11-25T11:14:33.232Z"
   },
   {
    "duration": 96,
    "start_time": "2021-11-25T11:14:33.314Z"
   },
   {
    "duration": 44,
    "start_time": "2021-11-25T11:14:33.414Z"
   },
   {
    "duration": 33,
    "start_time": "2021-11-25T11:14:33.461Z"
   },
   {
    "duration": 27,
    "start_time": "2021-11-25T11:14:33.497Z"
   },
   {
    "duration": 60,
    "start_time": "2021-11-25T11:14:33.526Z"
   },
   {
    "duration": 13,
    "start_time": "2021-11-25T11:14:33.590Z"
   },
   {
    "duration": 64,
    "start_time": "2021-11-25T11:14:33.605Z"
   },
   {
    "duration": 70,
    "start_time": "2021-11-25T11:14:33.671Z"
   },
   {
    "duration": 83,
    "start_time": "2021-11-25T11:14:33.744Z"
   },
   {
    "duration": 62,
    "start_time": "2021-11-25T11:14:33.830Z"
   },
   {
    "duration": 536,
    "start_time": "2021-11-25T11:14:33.894Z"
   },
   {
    "duration": 479,
    "start_time": "2021-11-25T11:14:34.433Z"
   },
   {
    "duration": 687,
    "start_time": "2021-11-25T11:14:34.915Z"
   },
   {
    "duration": 88,
    "start_time": "2021-11-25T11:14:35.604Z"
   },
   {
    "duration": 2246,
    "start_time": "2021-11-25T11:14:35.695Z"
   },
   {
    "duration": 2490,
    "start_time": "2021-11-25T11:14:57.849Z"
   },
   {
    "duration": 3863,
    "start_time": "2021-11-25T11:15:09.628Z"
   },
   {
    "duration": 695,
    "start_time": "2021-11-25T11:15:56.349Z"
   },
   {
    "duration": 467,
    "start_time": "2021-11-25T11:16:15.453Z"
   },
   {
    "duration": 1470,
    "start_time": "2021-11-25T11:17:24.036Z"
   },
   {
    "duration": 550,
    "start_time": "2021-11-25T11:17:25.509Z"
   },
   {
    "duration": 245,
    "start_time": "2021-11-25T11:17:26.062Z"
   },
   {
    "duration": 260,
    "start_time": "2021-11-25T11:17:26.311Z"
   },
   {
    "duration": 154,
    "start_time": "2021-11-25T11:17:26.573Z"
   },
   {
    "duration": 66,
    "start_time": "2021-11-25T11:17:26.730Z"
   },
   {
    "duration": 126,
    "start_time": "2021-11-25T11:17:26.799Z"
   },
   {
    "duration": 62,
    "start_time": "2021-11-25T11:17:26.929Z"
   },
   {
    "duration": 21,
    "start_time": "2021-11-25T11:17:26.994Z"
   },
   {
    "duration": 67,
    "start_time": "2021-11-25T11:17:27.018Z"
   },
   {
    "duration": 25,
    "start_time": "2021-11-25T11:17:27.087Z"
   },
   {
    "duration": 14,
    "start_time": "2021-11-25T11:17:27.115Z"
   },
   {
    "duration": 71,
    "start_time": "2021-11-25T11:17:27.131Z"
   },
   {
    "duration": 43,
    "start_time": "2021-11-25T11:17:27.204Z"
   },
   {
    "duration": 67,
    "start_time": "2021-11-25T11:17:27.249Z"
   },
   {
    "duration": 38,
    "start_time": "2021-11-25T11:17:27.318Z"
   },
   {
    "duration": 456,
    "start_time": "2021-11-25T11:17:27.358Z"
   },
   {
    "duration": 470,
    "start_time": "2021-11-25T11:17:27.816Z"
   },
   {
    "duration": 659,
    "start_time": "2021-11-25T11:17:28.289Z"
   },
   {
    "duration": 86,
    "start_time": "2021-11-25T11:17:28.951Z"
   },
   {
    "duration": 3564,
    "start_time": "2021-11-25T11:17:29.040Z"
   },
   {
    "duration": 105,
    "start_time": "2021-11-25T11:17:45.406Z"
   },
   {
    "duration": 59,
    "start_time": "2021-11-25T11:18:07.547Z"
   },
   {
    "duration": 1783,
    "start_time": "2021-11-25T11:18:17.078Z"
   },
   {
    "duration": 533,
    "start_time": "2021-11-25T11:18:18.864Z"
   },
   {
    "duration": 183,
    "start_time": "2021-11-25T11:18:19.400Z"
   },
   {
    "duration": 235,
    "start_time": "2021-11-25T11:18:19.585Z"
   },
   {
    "duration": 152,
    "start_time": "2021-11-25T11:18:19.822Z"
   },
   {
    "duration": 56,
    "start_time": "2021-11-25T11:18:19.976Z"
   },
   {
    "duration": 108,
    "start_time": "2021-11-25T11:18:20.034Z"
   },
   {
    "duration": 56,
    "start_time": "2021-11-25T11:18:20.145Z"
   },
   {
    "duration": 23,
    "start_time": "2021-11-25T11:18:20.203Z"
   },
   {
    "duration": 55,
    "start_time": "2021-11-25T11:18:20.229Z"
   },
   {
    "duration": 26,
    "start_time": "2021-11-25T11:18:20.287Z"
   },
   {
    "duration": 13,
    "start_time": "2021-11-25T11:18:20.316Z"
   },
   {
    "duration": 77,
    "start_time": "2021-11-25T11:18:20.332Z"
   },
   {
    "duration": 42,
    "start_time": "2021-11-25T11:18:20.411Z"
   },
   {
    "duration": 61,
    "start_time": "2021-11-25T11:18:20.455Z"
   },
   {
    "duration": 37,
    "start_time": "2021-11-25T11:18:20.518Z"
   },
   {
    "duration": 458,
    "start_time": "2021-11-25T11:18:20.557Z"
   },
   {
    "duration": 466,
    "start_time": "2021-11-25T11:18:21.018Z"
   },
   {
    "duration": 709,
    "start_time": "2021-11-25T11:18:21.486Z"
   },
   {
    "duration": 66,
    "start_time": "2021-11-25T11:18:22.197Z"
   },
   {
    "duration": 2278,
    "start_time": "2021-11-25T11:18:22.266Z"
   },
   {
    "duration": 1976,
    "start_time": "2021-11-25T11:18:41.089Z"
   },
   {
    "duration": 728,
    "start_time": "2021-11-25T11:18:43.073Z"
   },
   {
    "duration": 168,
    "start_time": "2021-11-25T11:18:43.805Z"
   },
   {
    "duration": 224,
    "start_time": "2021-11-25T11:18:43.982Z"
   },
   {
    "duration": 134,
    "start_time": "2021-11-25T11:18:44.209Z"
   },
   {
    "duration": 62,
    "start_time": "2021-11-25T11:18:44.345Z"
   },
   {
    "duration": 96,
    "start_time": "2021-11-25T11:18:44.412Z"
   },
   {
    "duration": 46,
    "start_time": "2021-11-25T11:18:44.512Z"
   },
   {
    "duration": 33,
    "start_time": "2021-11-25T11:18:44.561Z"
   },
   {
    "duration": 23,
    "start_time": "2021-11-25T11:18:44.597Z"
   },
   {
    "duration": 25,
    "start_time": "2021-11-25T11:18:44.622Z"
   },
   {
    "duration": 12,
    "start_time": "2021-11-25T11:18:44.682Z"
   },
   {
    "duration": 48,
    "start_time": "2021-11-25T11:18:44.697Z"
   },
   {
    "duration": 58,
    "start_time": "2021-11-25T11:18:44.747Z"
   },
   {
    "duration": 42,
    "start_time": "2021-11-25T11:18:44.807Z"
   },
   {
    "duration": 56,
    "start_time": "2021-11-25T11:18:44.851Z"
   },
   {
    "duration": 446,
    "start_time": "2021-11-25T11:18:44.909Z"
   },
   {
    "duration": 464,
    "start_time": "2021-11-25T11:18:45.357Z"
   },
   {
    "duration": 694,
    "start_time": "2021-11-25T11:18:45.824Z"
   },
   {
    "duration": 81,
    "start_time": "2021-11-25T11:18:46.520Z"
   },
   {
    "duration": 2390,
    "start_time": "2021-11-25T11:18:46.604Z"
   },
   {
    "duration": 106,
    "start_time": "2021-11-25T11:19:35.080Z"
   },
   {
    "duration": 5118,
    "start_time": "2021-11-25T11:20:18.964Z"
   },
   {
    "duration": 92,
    "start_time": "2021-11-25T11:21:12.794Z"
   },
   {
    "duration": 62,
    "start_time": "2021-11-25T11:21:23.458Z"
   },
   {
    "duration": 2322,
    "start_time": "2021-11-25T11:22:53.370Z"
   },
   {
    "duration": 2166,
    "start_time": "2021-11-25T11:23:28.641Z"
   },
   {
    "duration": 7261,
    "start_time": "2021-11-25T11:23:47.711Z"
   },
   {
    "duration": 1551,
    "start_time": "2021-11-25T11:23:57.555Z"
   },
   {
    "duration": 536,
    "start_time": "2021-11-25T11:23:59.109Z"
   },
   {
    "duration": 165,
    "start_time": "2021-11-25T11:23:59.648Z"
   },
   {
    "duration": 232,
    "start_time": "2021-11-25T11:23:59.816Z"
   },
   {
    "duration": 150,
    "start_time": "2021-11-25T11:24:00.051Z"
   },
   {
    "duration": 55,
    "start_time": "2021-11-25T11:24:00.204Z"
   },
   {
    "duration": 101,
    "start_time": "2021-11-25T11:24:00.262Z"
   },
   {
    "duration": 59,
    "start_time": "2021-11-25T11:24:00.366Z"
   },
   {
    "duration": 25,
    "start_time": "2021-11-25T11:24:00.428Z"
   },
   {
    "duration": 59,
    "start_time": "2021-11-25T11:24:00.456Z"
   },
   {
    "duration": 63,
    "start_time": "2021-11-25T11:24:00.518Z"
   },
   {
    "duration": 20,
    "start_time": "2021-11-25T11:24:00.584Z"
   },
   {
    "duration": 55,
    "start_time": "2021-11-25T11:24:00.608Z"
   },
   {
    "duration": 55,
    "start_time": "2021-11-25T11:24:00.666Z"
   },
   {
    "duration": 62,
    "start_time": "2021-11-25T11:24:00.724Z"
   },
   {
    "duration": 39,
    "start_time": "2021-11-25T11:24:00.790Z"
   },
   {
    "duration": 832,
    "start_time": "2021-11-25T11:24:00.832Z"
   },
   {
    "duration": 776,
    "start_time": "2021-11-25T11:24:01.668Z"
   },
   {
    "duration": 1256,
    "start_time": "2021-11-25T11:24:02.448Z"
   },
   {
    "duration": 5902,
    "start_time": "2021-11-25T11:24:03.707Z"
   },
   {
    "duration": -953,
    "start_time": "2021-11-25T11:24:10.564Z"
   },
   {
    "duration": 66,
    "start_time": "2021-11-25T11:24:34.393Z"
   },
   {
    "duration": 55,
    "start_time": "2021-11-25T11:24:46.126Z"
   },
   {
    "duration": 57,
    "start_time": "2021-11-25T11:24:53.065Z"
   },
   {
    "duration": 61,
    "start_time": "2021-11-25T11:25:10.808Z"
   },
   {
    "duration": 57,
    "start_time": "2021-11-25T11:25:27.996Z"
   },
   {
    "duration": 62,
    "start_time": "2021-11-25T11:25:32.249Z"
   },
   {
    "duration": 80,
    "start_time": "2021-11-25T11:25:53.696Z"
   },
   {
    "duration": 5627,
    "start_time": "2021-11-25T11:25:59.457Z"
   },
   {
    "duration": 5460,
    "start_time": "2021-11-25T11:26:26.440Z"
   },
   {
    "duration": 4137,
    "start_time": "2021-11-25T11:26:57.280Z"
   },
   {
    "duration": 1491,
    "start_time": "2021-11-25T11:27:04.822Z"
   },
   {
    "duration": 554,
    "start_time": "2021-11-25T11:27:06.316Z"
   },
   {
    "duration": 174,
    "start_time": "2021-11-25T11:27:06.873Z"
   },
   {
    "duration": 235,
    "start_time": "2021-11-25T11:27:07.050Z"
   },
   {
    "duration": 146,
    "start_time": "2021-11-25T11:27:07.288Z"
   },
   {
    "duration": 72,
    "start_time": "2021-11-25T11:27:07.437Z"
   },
   {
    "duration": 127,
    "start_time": "2021-11-25T11:27:07.511Z"
   },
   {
    "duration": 61,
    "start_time": "2021-11-25T11:27:07.642Z"
   },
   {
    "duration": 19,
    "start_time": "2021-11-25T11:27:07.706Z"
   },
   {
    "duration": 57,
    "start_time": "2021-11-25T11:27:07.727Z"
   },
   {
    "duration": 26,
    "start_time": "2021-11-25T11:27:07.786Z"
   },
   {
    "duration": 15,
    "start_time": "2021-11-25T11:27:07.814Z"
   },
   {
    "duration": 84,
    "start_time": "2021-11-25T11:27:07.831Z"
   },
   {
    "duration": 45,
    "start_time": "2021-11-25T11:27:07.917Z"
   },
   {
    "duration": 54,
    "start_time": "2021-11-25T11:27:07.965Z"
   },
   {
    "duration": 36,
    "start_time": "2021-11-25T11:27:08.022Z"
   },
   {
    "duration": 467,
    "start_time": "2021-11-25T11:27:08.060Z"
   },
   {
    "duration": 451,
    "start_time": "2021-11-25T11:27:08.530Z"
   },
   {
    "duration": 647,
    "start_time": "2021-11-25T11:27:08.984Z"
   },
   {
    "duration": 77,
    "start_time": "2021-11-25T11:27:09.633Z"
   },
   {
    "duration": 3696,
    "start_time": "2021-11-25T11:27:09.712Z"
   },
   {
    "duration": 1726,
    "start_time": "2021-11-25T11:27:25.216Z"
   },
   {
    "duration": 2350,
    "start_time": "2021-11-25T11:27:34.627Z"
   },
   {
    "duration": 2856,
    "start_time": "2021-11-25T11:28:30.175Z"
   },
   {
    "duration": 3654,
    "start_time": "2021-11-25T11:28:49.392Z"
   },
   {
    "duration": 2430,
    "start_time": "2021-11-25T11:29:00.864Z"
   },
   {
    "duration": 2311,
    "start_time": "2021-11-25T11:29:09.836Z"
   },
   {
    "duration": 2792,
    "start_time": "2021-11-25T11:29:50.516Z"
   },
   {
    "duration": 8288,
    "start_time": "2021-11-25T11:30:59.941Z"
   },
   {
    "duration": 2344,
    "start_time": "2021-11-25T11:31:21.581Z"
   },
   {
    "duration": 2318,
    "start_time": "2021-11-25T11:31:28.273Z"
   },
   {
    "duration": 2401,
    "start_time": "2021-11-25T11:33:15.621Z"
   },
   {
    "duration": 4068,
    "start_time": "2021-11-25T11:34:05.318Z"
   },
   {
    "duration": 3723,
    "start_time": "2021-11-25T11:34:27.550Z"
   },
   {
    "duration": 2512,
    "start_time": "2021-11-25T11:34:52.982Z"
   },
   {
    "duration": 3491,
    "start_time": "2021-11-25T11:34:59.158Z"
   },
   {
    "duration": 116,
    "start_time": "2021-11-25T11:35:22.226Z"
   },
   {
    "duration": 98,
    "start_time": "2021-11-25T11:35:28.554Z"
   },
   {
    "duration": 98,
    "start_time": "2021-11-25T11:35:34.787Z"
   },
   {
    "duration": 160,
    "start_time": "2021-11-25T11:35:42.592Z"
   },
   {
    "duration": 2761,
    "start_time": "2021-11-25T11:35:50.008Z"
   },
   {
    "duration": 135,
    "start_time": "2021-11-25T11:36:01.612Z"
   },
   {
    "duration": 3188,
    "start_time": "2021-11-25T11:36:12.984Z"
   },
   {
    "duration": 2271,
    "start_time": "2021-11-25T11:37:00.096Z"
   },
   {
    "duration": 1478,
    "start_time": "2021-11-25T11:37:12.185Z"
   },
   {
    "duration": 539,
    "start_time": "2021-11-25T11:37:13.666Z"
   },
   {
    "duration": 173,
    "start_time": "2021-11-25T11:37:14.208Z"
   },
   {
    "duration": 225,
    "start_time": "2021-11-25T11:37:14.384Z"
   },
   {
    "duration": 152,
    "start_time": "2021-11-25T11:37:14.612Z"
   },
   {
    "duration": 60,
    "start_time": "2021-11-25T11:37:14.766Z"
   },
   {
    "duration": 97,
    "start_time": "2021-11-25T11:37:14.828Z"
   },
   {
    "duration": 61,
    "start_time": "2021-11-25T11:37:14.928Z"
   },
   {
    "duration": 21,
    "start_time": "2021-11-25T11:37:14.993Z"
   },
   {
    "duration": 31,
    "start_time": "2021-11-25T11:37:15.017Z"
   },
   {
    "duration": 47,
    "start_time": "2021-11-25T11:37:15.052Z"
   },
   {
    "duration": 16,
    "start_time": "2021-11-25T11:37:15.101Z"
   },
   {
    "duration": 69,
    "start_time": "2021-11-25T11:37:15.120Z"
   },
   {
    "duration": 40,
    "start_time": "2021-11-25T11:37:15.191Z"
   },
   {
    "duration": 57,
    "start_time": "2021-11-25T11:37:15.233Z"
   },
   {
    "duration": 40,
    "start_time": "2021-11-25T11:37:15.292Z"
   },
   {
    "duration": 453,
    "start_time": "2021-11-25T11:37:15.336Z"
   },
   {
    "duration": 441,
    "start_time": "2021-11-25T11:37:15.792Z"
   },
   {
    "duration": 640,
    "start_time": "2021-11-25T11:37:16.236Z"
   },
   {
    "duration": 69,
    "start_time": "2021-11-25T11:37:16.878Z"
   },
   {
    "duration": 2318,
    "start_time": "2021-11-25T11:37:16.949Z"
   },
   {
    "duration": 3511,
    "start_time": "2021-11-25T11:37:34.004Z"
   },
   {
    "duration": 2843,
    "start_time": "2021-11-25T11:37:43.113Z"
   },
   {
    "duration": 2622,
    "start_time": "2021-11-25T11:37:57.225Z"
   },
   {
    "duration": 2567,
    "start_time": "2021-11-25T11:38:35.266Z"
   },
   {
    "duration": 2333,
    "start_time": "2021-11-25T11:38:49.385Z"
   },
   {
    "duration": 2520,
    "start_time": "2021-11-25T11:39:09.242Z"
   },
   {
    "duration": 116,
    "start_time": "2021-11-25T11:39:31.114Z"
   },
   {
    "duration": 2594,
    "start_time": "2021-11-25T11:41:37.250Z"
   },
   {
    "duration": 2650,
    "start_time": "2021-11-25T11:41:51.763Z"
   },
   {
    "duration": 1523,
    "start_time": "2021-11-25T20:15:39.012Z"
   },
   {
    "duration": 568,
    "start_time": "2021-11-25T20:15:40.538Z"
   },
   {
    "duration": 177,
    "start_time": "2021-11-25T20:15:41.109Z"
   },
   {
    "duration": 238,
    "start_time": "2021-11-25T20:15:41.288Z"
   },
   {
    "duration": 152,
    "start_time": "2021-11-25T20:15:41.528Z"
   },
   {
    "duration": 61,
    "start_time": "2021-11-25T20:15:41.682Z"
   },
   {
    "duration": 104,
    "start_time": "2021-11-25T20:15:41.746Z"
   },
   {
    "duration": 58,
    "start_time": "2021-11-25T20:15:41.853Z"
   },
   {
    "duration": 20,
    "start_time": "2021-11-25T20:15:41.914Z"
   },
   {
    "duration": 26,
    "start_time": "2021-11-25T20:15:41.936Z"
   },
   {
    "duration": 55,
    "start_time": "2021-11-25T20:15:41.965Z"
   },
   {
    "duration": 13,
    "start_time": "2021-11-25T20:15:42.022Z"
   },
   {
    "duration": 68,
    "start_time": "2021-11-25T20:15:42.038Z"
   },
   {
    "duration": 42,
    "start_time": "2021-11-25T20:15:42.108Z"
   },
   {
    "duration": 63,
    "start_time": "2021-11-25T20:15:42.152Z"
   },
   {
    "duration": 39,
    "start_time": "2021-11-25T20:15:42.217Z"
   },
   {
    "duration": 482,
    "start_time": "2021-11-25T20:15:42.258Z"
   },
   {
    "duration": 462,
    "start_time": "2021-11-25T20:15:42.742Z"
   },
   {
    "duration": 678,
    "start_time": "2021-11-25T20:15:43.206Z"
   },
   {
    "duration": 73,
    "start_time": "2021-11-25T20:15:43.887Z"
   },
   {
    "duration": 2424,
    "start_time": "2021-11-25T20:15:43.963Z"
   },
   {
    "duration": 1181,
    "start_time": "2021-11-26T08:11:24.461Z"
   },
   {
    "duration": 399,
    "start_time": "2021-11-26T08:11:25.645Z"
   },
   {
    "duration": 134,
    "start_time": "2021-11-26T08:11:26.046Z"
   },
   {
    "duration": 159,
    "start_time": "2021-11-26T08:11:26.183Z"
   },
   {
    "duration": 103,
    "start_time": "2021-11-26T08:11:26.344Z"
   },
   {
    "duration": 42,
    "start_time": "2021-11-26T08:11:26.450Z"
   },
   {
    "duration": 80,
    "start_time": "2021-11-26T08:11:26.494Z"
   },
   {
    "duration": 32,
    "start_time": "2021-11-26T08:11:26.577Z"
   },
   {
    "duration": 14,
    "start_time": "2021-11-26T08:11:26.611Z"
   },
   {
    "duration": 41,
    "start_time": "2021-11-26T08:11:26.627Z"
   },
   {
    "duration": 17,
    "start_time": "2021-11-26T08:11:26.670Z"
   },
   {
    "duration": 10,
    "start_time": "2021-11-26T08:11:26.689Z"
   },
   {
    "duration": 38,
    "start_time": "2021-11-26T08:11:26.701Z"
   },
   {
    "duration": 46,
    "start_time": "2021-11-26T08:11:26.741Z"
   },
   {
    "duration": 32,
    "start_time": "2021-11-26T08:11:26.789Z"
   },
   {
    "duration": 44,
    "start_time": "2021-11-26T08:11:26.823Z"
   },
   {
    "duration": 255,
    "start_time": "2021-11-26T08:11:26.869Z"
   },
   {
    "duration": 259,
    "start_time": "2021-11-26T08:11:27.126Z"
   },
   {
    "duration": 373,
    "start_time": "2021-11-26T08:11:27.387Z"
   },
   {
    "duration": 44,
    "start_time": "2021-11-26T08:11:27.764Z"
   },
   {
    "duration": 1217,
    "start_time": "2021-11-26T08:11:27.810Z"
   },
   {
    "duration": 1894,
    "start_time": "2021-11-26T08:12:30.582Z"
   },
   {
    "duration": 1774,
    "start_time": "2021-11-26T08:12:37.371Z"
   },
   {
    "duration": 412,
    "start_time": "2021-11-26T08:12:39.147Z"
   },
   {
    "duration": 139,
    "start_time": "2021-11-26T08:12:39.561Z"
   },
   {
    "duration": 158,
    "start_time": "2021-11-26T08:12:39.702Z"
   },
   {
    "duration": 90,
    "start_time": "2021-11-26T08:12:39.863Z"
   },
   {
    "duration": 41,
    "start_time": "2021-11-26T08:12:39.955Z"
   },
   {
    "duration": 82,
    "start_time": "2021-11-26T08:12:39.998Z"
   },
   {
    "duration": 30,
    "start_time": "2021-11-26T08:12:40.083Z"
   },
   {
    "duration": 13,
    "start_time": "2021-11-26T08:12:40.115Z"
   },
   {
    "duration": 35,
    "start_time": "2021-11-26T08:12:40.130Z"
   },
   {
    "duration": 17,
    "start_time": "2021-11-26T08:12:40.167Z"
   },
   {
    "duration": 9,
    "start_time": "2021-11-26T08:12:40.185Z"
   },
   {
    "duration": 42,
    "start_time": "2021-11-26T08:12:40.196Z"
   },
   {
    "duration": 52,
    "start_time": "2021-11-26T08:12:40.240Z"
   },
   {
    "duration": 31,
    "start_time": "2021-11-26T08:12:40.294Z"
   },
   {
    "duration": 51,
    "start_time": "2021-11-26T08:12:40.327Z"
   },
   {
    "duration": 265,
    "start_time": "2021-11-26T08:12:40.380Z"
   },
   {
    "duration": 264,
    "start_time": "2021-11-26T08:12:40.647Z"
   },
   {
    "duration": 373,
    "start_time": "2021-11-26T08:12:40.913Z"
   },
   {
    "duration": 1874,
    "start_time": "2021-11-26T08:12:41.288Z"
   },
   {
    "duration": 766,
    "start_time": "2021-11-26T08:12:42.398Z"
   },
   {
    "duration": 46,
    "start_time": "2021-11-26T08:13:07.574Z"
   },
   {
    "duration": 1260,
    "start_time": "2021-11-26T08:13:17.655Z"
   },
   {
    "duration": 458,
    "start_time": "2021-11-26T08:13:18.918Z"
   },
   {
    "duration": 147,
    "start_time": "2021-11-26T08:13:19.378Z"
   },
   {
    "duration": 167,
    "start_time": "2021-11-26T08:13:19.527Z"
   },
   {
    "duration": 111,
    "start_time": "2021-11-26T08:13:19.696Z"
   },
   {
    "duration": 40,
    "start_time": "2021-11-26T08:13:19.809Z"
   },
   {
    "duration": 81,
    "start_time": "2021-11-26T08:13:19.851Z"
   },
   {
    "duration": 52,
    "start_time": "2021-11-26T08:13:19.934Z"
   },
   {
    "duration": 16,
    "start_time": "2021-11-26T08:13:19.989Z"
   },
   {
    "duration": 22,
    "start_time": "2021-11-26T08:13:20.007Z"
   },
   {
    "duration": 45,
    "start_time": "2021-11-26T08:13:20.031Z"
   },
   {
    "duration": 18,
    "start_time": "2021-11-26T08:13:20.078Z"
   },
   {
    "duration": 48,
    "start_time": "2021-11-26T08:13:20.098Z"
   },
   {
    "duration": 46,
    "start_time": "2021-11-26T08:13:20.148Z"
   },
   {
    "duration": 34,
    "start_time": "2021-11-26T08:13:20.196Z"
   },
   {
    "duration": 51,
    "start_time": "2021-11-26T08:13:20.232Z"
   },
   {
    "duration": 284,
    "start_time": "2021-11-26T08:13:20.285Z"
   },
   {
    "duration": 264,
    "start_time": "2021-11-26T08:13:20.571Z"
   },
   {
    "duration": 370,
    "start_time": "2021-11-26T08:13:20.837Z"
   },
   {
    "duration": 60,
    "start_time": "2021-11-26T08:13:21.209Z"
   },
   {
    "duration": 1212,
    "start_time": "2021-11-26T08:13:21.271Z"
   },
   {
    "duration": 3213,
    "start_time": "2021-11-26T08:14:48.162Z"
   },
   {
    "duration": 1105,
    "start_time": "2021-11-26T08:15:20.644Z"
   },
   {
    "duration": 471,
    "start_time": "2021-11-26T08:15:44.680Z"
   },
   {
    "duration": 52,
    "start_time": "2021-11-26T08:16:26.412Z"
   },
   {
    "duration": 1207,
    "start_time": "2021-11-26T08:16:51.304Z"
   },
   {
    "duration": 420,
    "start_time": "2021-11-26T08:16:52.513Z"
   },
   {
    "duration": 140,
    "start_time": "2021-11-26T08:16:52.935Z"
   },
   {
    "duration": 157,
    "start_time": "2021-11-26T08:16:53.077Z"
   },
   {
    "duration": 101,
    "start_time": "2021-11-26T08:16:53.236Z"
   },
   {
    "duration": 48,
    "start_time": "2021-11-26T08:16:53.339Z"
   },
   {
    "duration": 78,
    "start_time": "2021-11-26T08:16:53.389Z"
   },
   {
    "duration": 34,
    "start_time": "2021-11-26T08:16:53.469Z"
   },
   {
    "duration": 16,
    "start_time": "2021-11-26T08:16:53.505Z"
   },
   {
    "duration": 42,
    "start_time": "2021-11-26T08:16:53.523Z"
   },
   {
    "duration": 18,
    "start_time": "2021-11-26T08:16:53.567Z"
   },
   {
    "duration": 9,
    "start_time": "2021-11-26T08:16:53.586Z"
   },
   {
    "duration": 53,
    "start_time": "2021-11-26T08:16:53.597Z"
   },
   {
    "duration": 40,
    "start_time": "2021-11-26T08:16:53.652Z"
   },
   {
    "duration": 33,
    "start_time": "2021-11-26T08:16:53.694Z"
   },
   {
    "duration": 49,
    "start_time": "2021-11-26T08:16:53.729Z"
   },
   {
    "duration": 270,
    "start_time": "2021-11-26T08:16:53.780Z"
   },
   {
    "duration": 268,
    "start_time": "2021-11-26T08:16:54.052Z"
   },
   {
    "duration": 372,
    "start_time": "2021-11-26T08:16:54.322Z"
   },
   {
    "duration": 50,
    "start_time": "2021-11-26T08:16:54.696Z"
   },
   {
    "duration": 1199,
    "start_time": "2021-11-26T08:16:54.764Z"
   },
   {
    "duration": 136,
    "start_time": "2021-11-26T08:17:15.709Z"
   },
   {
    "duration": 29,
    "start_time": "2021-11-26T08:17:24.009Z"
   },
   {
    "duration": 350,
    "start_time": "2021-11-26T08:17:38.059Z"
   },
   {
    "duration": 30,
    "start_time": "2021-11-26T08:17:52.850Z"
   },
   {
    "duration": 28,
    "start_time": "2021-11-26T08:20:25.197Z"
   },
   {
    "duration": 673,
    "start_time": "2021-11-26T08:20:48.039Z"
   },
   {
    "duration": 85,
    "start_time": "2021-11-26T08:21:09.035Z"
   },
   {
    "duration": 94,
    "start_time": "2021-11-26T08:21:19.151Z"
   },
   {
    "duration": 394,
    "start_time": "2021-11-26T08:21:41.836Z"
   },
   {
    "duration": 364,
    "start_time": "2021-11-26T08:21:48.212Z"
   },
   {
    "duration": 511,
    "start_time": "2021-11-26T08:23:48.395Z"
   },
   {
    "duration": 512,
    "start_time": "2021-11-26T08:24:03.224Z"
   },
   {
    "duration": 1136,
    "start_time": "2021-11-26T08:24:14.667Z"
   },
   {
    "duration": 399,
    "start_time": "2021-11-26T08:24:15.805Z"
   },
   {
    "duration": 127,
    "start_time": "2021-11-26T08:24:16.206Z"
   },
   {
    "duration": 156,
    "start_time": "2021-11-26T08:24:16.335Z"
   },
   {
    "duration": 94,
    "start_time": "2021-11-26T08:24:16.492Z"
   },
   {
    "duration": 38,
    "start_time": "2021-11-26T08:24:16.587Z"
   },
   {
    "duration": 78,
    "start_time": "2021-11-26T08:24:16.626Z"
   },
   {
    "duration": 31,
    "start_time": "2021-11-26T08:24:16.706Z"
   },
   {
    "duration": 26,
    "start_time": "2021-11-26T08:24:16.739Z"
   },
   {
    "duration": 17,
    "start_time": "2021-11-26T08:24:16.767Z"
   },
   {
    "duration": 15,
    "start_time": "2021-11-26T08:24:16.785Z"
   },
   {
    "duration": 9,
    "start_time": "2021-11-26T08:24:16.801Z"
   },
   {
    "duration": 62,
    "start_time": "2021-11-26T08:24:16.812Z"
   },
   {
    "duration": 31,
    "start_time": "2021-11-26T08:24:16.876Z"
   },
   {
    "duration": 31,
    "start_time": "2021-11-26T08:24:16.909Z"
   },
   {
    "duration": 45,
    "start_time": "2021-11-26T08:24:16.941Z"
   },
   {
    "duration": 356,
    "start_time": "2021-11-26T08:24:16.988Z"
   },
   {
    "duration": 342,
    "start_time": "2021-11-26T08:24:17.346Z"
   },
   {
    "duration": 374,
    "start_time": "2021-11-26T08:24:17.689Z"
   },
   {
    "duration": 1216,
    "start_time": "2021-11-26T08:24:18.065Z"
   },
   {
    "duration": 463,
    "start_time": "2021-11-26T08:25:30.775Z"
   },
   {
    "duration": 838,
    "start_time": "2021-11-26T08:26:02.282Z"
   },
   {
    "duration": 237,
    "start_time": "2021-11-26T08:27:03.979Z"
   },
   {
    "duration": 251,
    "start_time": "2021-11-26T08:27:11.614Z"
   },
   {
    "duration": 354,
    "start_time": "2021-11-26T08:27:16.923Z"
   },
   {
    "duration": 3,
    "start_time": "2021-11-26T08:31:21.455Z"
   },
   {
    "duration": 9,
    "start_time": "2021-11-26T08:31:39.664Z"
   },
   {
    "duration": 1164,
    "start_time": "2021-11-26T08:31:45.701Z"
   },
   {
    "duration": 414,
    "start_time": "2021-11-26T08:31:46.867Z"
   },
   {
    "duration": 140,
    "start_time": "2021-11-26T08:31:47.286Z"
   },
   {
    "duration": 161,
    "start_time": "2021-11-26T08:31:47.428Z"
   },
   {
    "duration": 106,
    "start_time": "2021-11-26T08:31:47.591Z"
   },
   {
    "duration": 38,
    "start_time": "2021-11-26T08:31:47.699Z"
   },
   {
    "duration": 76,
    "start_time": "2021-11-26T08:31:47.740Z"
   },
   {
    "duration": 45,
    "start_time": "2021-11-26T08:31:47.818Z"
   },
   {
    "duration": 14,
    "start_time": "2021-11-26T08:31:47.865Z"
   },
   {
    "duration": 16,
    "start_time": "2021-11-26T08:31:47.881Z"
   },
   {
    "duration": 15,
    "start_time": "2021-11-26T08:31:47.899Z"
   },
   {
    "duration": 14,
    "start_time": "2021-11-26T08:31:47.915Z"
   },
   {
    "duration": 61,
    "start_time": "2021-11-26T08:31:47.931Z"
   },
   {
    "duration": 29,
    "start_time": "2021-11-26T08:31:47.994Z"
   },
   {
    "duration": 43,
    "start_time": "2021-11-26T08:31:48.025Z"
   },
   {
    "duration": 26,
    "start_time": "2021-11-26T08:31:48.070Z"
   },
   {
    "duration": 284,
    "start_time": "2021-11-26T08:31:48.098Z"
   },
   {
    "duration": 261,
    "start_time": "2021-11-26T08:31:48.384Z"
   },
   {
    "duration": 403,
    "start_time": "2021-11-26T08:31:48.647Z"
   },
   {
    "duration": 11,
    "start_time": "2021-11-26T08:31:49.052Z"
   },
   {
    "duration": 108,
    "start_time": "2021-11-26T08:31:49.065Z"
   },
   {
    "duration": 5,
    "start_time": "2021-11-26T08:31:54.392Z"
   },
   {
    "duration": 1221,
    "start_time": "2021-11-26T08:31:59.757Z"
   },
   {
    "duration": 413,
    "start_time": "2021-11-26T08:32:00.980Z"
   },
   {
    "duration": 142,
    "start_time": "2021-11-26T08:32:01.395Z"
   },
   {
    "duration": 159,
    "start_time": "2021-11-26T08:32:01.540Z"
   },
   {
    "duration": 103,
    "start_time": "2021-11-26T08:32:01.701Z"
   },
   {
    "duration": 37,
    "start_time": "2021-11-26T08:32:01.806Z"
   },
   {
    "duration": 77,
    "start_time": "2021-11-26T08:32:01.845Z"
   },
   {
    "duration": 45,
    "start_time": "2021-11-26T08:32:01.924Z"
   },
   {
    "duration": 14,
    "start_time": "2021-11-26T08:32:01.972Z"
   },
   {
    "duration": 41,
    "start_time": "2021-11-26T08:32:01.988Z"
   },
   {
    "duration": 43,
    "start_time": "2021-11-26T08:32:02.031Z"
   },
   {
    "duration": 17,
    "start_time": "2021-11-26T08:32:02.076Z"
   },
   {
    "duration": 55,
    "start_time": "2021-11-26T08:32:02.095Z"
   },
   {
    "duration": 30,
    "start_time": "2021-11-26T08:32:02.152Z"
   },
   {
    "duration": 31,
    "start_time": "2021-11-26T08:32:02.184Z"
   },
   {
    "duration": 83,
    "start_time": "2021-11-26T08:32:02.217Z"
   },
   {
    "duration": 294,
    "start_time": "2021-11-26T08:32:02.302Z"
   },
   {
    "duration": 251,
    "start_time": "2021-11-26T08:32:02.598Z"
   },
   {
    "duration": 365,
    "start_time": "2021-11-26T08:32:02.850Z"
   },
   {
    "duration": 332,
    "start_time": "2021-11-26T08:32:03.217Z"
   },
   {
    "duration": 766,
    "start_time": "2021-11-26T08:32:02.785Z"
   },
   {
    "duration": 4,
    "start_time": "2021-11-26T08:32:23.847Z"
   },
   {
    "duration": 3,
    "start_time": "2021-11-26T08:34:58.984Z"
   },
   {
    "duration": 5,
    "start_time": "2021-11-26T08:37:38.015Z"
   },
   {
    "duration": 8,
    "start_time": "2021-11-26T08:37:56.696Z"
   },
   {
    "duration": 1233,
    "start_time": "2021-11-26T08:38:09.370Z"
   },
   {
    "duration": 424,
    "start_time": "2021-11-26T08:38:10.605Z"
   },
   {
    "duration": 136,
    "start_time": "2021-11-26T08:38:11.032Z"
   },
   {
    "duration": 161,
    "start_time": "2021-11-26T08:38:11.171Z"
   },
   {
    "duration": 96,
    "start_time": "2021-11-26T08:38:11.334Z"
   },
   {
    "duration": 43,
    "start_time": "2021-11-26T08:38:11.432Z"
   },
   {
    "duration": 69,
    "start_time": "2021-11-26T08:38:11.477Z"
   },
   {
    "duration": 44,
    "start_time": "2021-11-26T08:38:11.548Z"
   },
   {
    "duration": 14,
    "start_time": "2021-11-26T08:38:11.595Z"
   },
   {
    "duration": 25,
    "start_time": "2021-11-26T08:38:11.610Z"
   },
   {
    "duration": 37,
    "start_time": "2021-11-26T08:38:11.637Z"
   },
   {
    "duration": 21,
    "start_time": "2021-11-26T08:38:11.676Z"
   },
   {
    "duration": 70,
    "start_time": "2021-11-26T08:38:11.699Z"
   },
   {
    "duration": 68,
    "start_time": "2021-11-26T08:38:11.771Z"
   },
   {
    "duration": 46,
    "start_time": "2021-11-26T08:38:11.841Z"
   },
   {
    "duration": 33,
    "start_time": "2021-11-26T08:38:11.889Z"
   },
   {
    "duration": 273,
    "start_time": "2021-11-26T08:38:11.924Z"
   },
   {
    "duration": 267,
    "start_time": "2021-11-26T08:38:12.198Z"
   },
   {
    "duration": 420,
    "start_time": "2021-11-26T08:38:12.467Z"
   },
   {
    "duration": 376,
    "start_time": "2021-11-26T08:38:12.889Z"
   },
   {
    "duration": 750,
    "start_time": "2021-11-26T08:38:12.517Z"
   },
   {
    "duration": 262,
    "start_time": "2021-11-26T08:39:04.598Z"
   },
   {
    "duration": 5,
    "start_time": "2021-11-26T08:40:16.999Z"
   },
   {
    "duration": 4,
    "start_time": "2021-11-26T08:40:22.579Z"
   },
   {
    "duration": 5,
    "start_time": "2021-11-26T08:40:46.392Z"
   },
   {
    "duration": 7,
    "start_time": "2021-11-26T08:40:52.867Z"
   },
   {
    "duration": 1221,
    "start_time": "2021-11-26T08:41:10.903Z"
   },
   {
    "duration": 445,
    "start_time": "2021-11-26T08:41:12.127Z"
   },
   {
    "duration": 143,
    "start_time": "2021-11-26T08:41:12.575Z"
   },
   {
    "duration": 165,
    "start_time": "2021-11-26T08:41:12.720Z"
   },
   {
    "duration": 108,
    "start_time": "2021-11-26T08:41:12.888Z"
   },
   {
    "duration": 40,
    "start_time": "2021-11-26T08:41:12.998Z"
   },
   {
    "duration": 95,
    "start_time": "2021-11-26T08:41:13.040Z"
   },
   {
    "duration": 53,
    "start_time": "2021-11-26T08:41:13.138Z"
   },
   {
    "duration": 16,
    "start_time": "2021-11-26T08:41:13.194Z"
   },
   {
    "duration": 21,
    "start_time": "2021-11-26T08:41:13.212Z"
   },
   {
    "duration": 41,
    "start_time": "2021-11-26T08:41:13.235Z"
   },
   {
    "duration": 11,
    "start_time": "2021-11-26T08:41:13.278Z"
   },
   {
    "duration": 49,
    "start_time": "2021-11-26T08:41:13.291Z"
   },
   {
    "duration": 53,
    "start_time": "2021-11-26T08:41:13.342Z"
   },
   {
    "duration": 48,
    "start_time": "2021-11-26T08:41:13.398Z"
   },
   {
    "duration": 54,
    "start_time": "2021-11-26T08:41:13.449Z"
   },
   {
    "duration": 358,
    "start_time": "2021-11-26T08:41:13.505Z"
   },
   {
    "duration": 286,
    "start_time": "2021-11-26T08:41:13.865Z"
   },
   {
    "duration": 401,
    "start_time": "2021-11-26T08:41:14.153Z"
   },
   {
    "duration": 20,
    "start_time": "2021-11-26T08:41:14.556Z"
   },
   {
    "duration": 948,
    "start_time": "2021-11-26T08:41:14.577Z"
   },
   {
    "duration": 11,
    "start_time": "2021-11-26T08:43:57.153Z"
   },
   {
    "duration": 1164,
    "start_time": "2021-11-26T08:44:02.613Z"
   },
   {
    "duration": 411,
    "start_time": "2021-11-26T08:44:03.782Z"
   },
   {
    "duration": 134,
    "start_time": "2021-11-26T08:44:04.196Z"
   },
   {
    "duration": 152,
    "start_time": "2021-11-26T08:44:04.332Z"
   },
   {
    "duration": 99,
    "start_time": "2021-11-26T08:44:04.486Z"
   },
   {
    "duration": 36,
    "start_time": "2021-11-26T08:44:04.587Z"
   },
   {
    "duration": 84,
    "start_time": "2021-11-26T08:44:04.625Z"
   },
   {
    "duration": 33,
    "start_time": "2021-11-26T08:44:04.711Z"
   },
   {
    "duration": 27,
    "start_time": "2021-11-26T08:44:04.746Z"
   },
   {
    "duration": 21,
    "start_time": "2021-11-26T08:44:04.776Z"
   },
   {
    "duration": 17,
    "start_time": "2021-11-26T08:44:04.799Z"
   },
   {
    "duration": 11,
    "start_time": "2021-11-26T08:44:04.818Z"
   },
   {
    "duration": 62,
    "start_time": "2021-11-26T08:44:04.830Z"
   },
   {
    "duration": 32,
    "start_time": "2021-11-26T08:44:04.894Z"
   },
   {
    "duration": 54,
    "start_time": "2021-11-26T08:44:04.928Z"
   },
   {
    "duration": 29,
    "start_time": "2021-11-26T08:44:04.984Z"
   },
   {
    "duration": 283,
    "start_time": "2021-11-26T08:44:05.015Z"
   },
   {
    "duration": 297,
    "start_time": "2021-11-26T08:44:05.300Z"
   },
   {
    "duration": 392,
    "start_time": "2021-11-26T08:44:05.599Z"
   },
   {
    "duration": 17,
    "start_time": "2021-11-26T08:44:05.993Z"
   },
   {
    "duration": 914,
    "start_time": "2021-11-26T08:44:06.012Z"
   },
   {
    "duration": 7,
    "start_time": "2021-11-26T08:44:22.762Z"
   },
   {
    "duration": 728,
    "start_time": "2021-11-26T08:44:51.725Z"
   },
   {
    "duration": 11,
    "start_time": "2021-11-26T08:45:06.822Z"
   },
   {
    "duration": 1172,
    "start_time": "2021-11-26T08:49:06.128Z"
   },
   {
    "duration": 429,
    "start_time": "2021-11-26T08:49:07.302Z"
   },
   {
    "duration": 138,
    "start_time": "2021-11-26T08:49:07.733Z"
   },
   {
    "duration": 157,
    "start_time": "2021-11-26T08:49:07.873Z"
   },
   {
    "duration": 102,
    "start_time": "2021-11-26T08:49:08.032Z"
   },
   {
    "duration": 46,
    "start_time": "2021-11-26T08:49:08.136Z"
   },
   {
    "duration": 81,
    "start_time": "2021-11-26T08:49:08.183Z"
   },
   {
    "duration": 34,
    "start_time": "2021-11-26T08:49:08.267Z"
   },
   {
    "duration": 14,
    "start_time": "2021-11-26T08:49:08.303Z"
   },
   {
    "duration": 45,
    "start_time": "2021-11-26T08:49:08.319Z"
   },
   {
    "duration": 19,
    "start_time": "2021-11-26T08:49:08.366Z"
   },
   {
    "duration": 10,
    "start_time": "2021-11-26T08:49:08.387Z"
   },
   {
    "duration": 42,
    "start_time": "2021-11-26T08:49:08.399Z"
   },
   {
    "duration": 49,
    "start_time": "2021-11-26T08:49:08.443Z"
   },
   {
    "duration": 34,
    "start_time": "2021-11-26T08:49:08.494Z"
   },
   {
    "duration": 46,
    "start_time": "2021-11-26T08:49:08.530Z"
   },
   {
    "duration": 266,
    "start_time": "2021-11-26T08:49:08.578Z"
   },
   {
    "duration": 271,
    "start_time": "2021-11-26T08:49:08.846Z"
   },
   {
    "duration": 393,
    "start_time": "2021-11-26T08:49:09.119Z"
   },
   {
    "duration": 926,
    "start_time": "2021-11-26T08:49:09.513Z"
   },
   {
    "duration": 463,
    "start_time": "2021-11-26T08:53:59.368Z"
   },
   {
    "duration": 1220,
    "start_time": "2021-11-26T08:54:04.377Z"
   },
   {
    "duration": 425,
    "start_time": "2021-11-26T08:54:05.599Z"
   },
   {
    "duration": 138,
    "start_time": "2021-11-26T08:54:06.026Z"
   },
   {
    "duration": 159,
    "start_time": "2021-11-26T08:54:06.166Z"
   },
   {
    "duration": 100,
    "start_time": "2021-11-26T08:54:06.326Z"
   },
   {
    "duration": 51,
    "start_time": "2021-11-26T08:54:06.428Z"
   },
   {
    "duration": 69,
    "start_time": "2021-11-26T08:54:06.481Z"
   },
   {
    "duration": 35,
    "start_time": "2021-11-26T08:54:06.565Z"
   },
   {
    "duration": 25,
    "start_time": "2021-11-26T08:54:06.602Z"
   },
   {
    "duration": 29,
    "start_time": "2021-11-26T08:54:06.629Z"
   },
   {
    "duration": 31,
    "start_time": "2021-11-26T08:54:06.659Z"
   },
   {
    "duration": 30,
    "start_time": "2021-11-26T08:54:06.692Z"
   },
   {
    "duration": 83,
    "start_time": "2021-11-26T08:54:06.724Z"
   },
   {
    "duration": 31,
    "start_time": "2021-11-26T08:54:06.809Z"
   },
   {
    "duration": 33,
    "start_time": "2021-11-26T08:54:06.842Z"
   },
   {
    "duration": 29,
    "start_time": "2021-11-26T08:54:06.877Z"
   },
   {
    "duration": 360,
    "start_time": "2021-11-26T08:54:06.908Z"
   },
   {
    "duration": 353,
    "start_time": "2021-11-26T08:54:07.270Z"
   },
   {
    "duration": 466,
    "start_time": "2021-11-26T08:54:07.625Z"
   },
   {
    "duration": 896,
    "start_time": "2021-11-26T08:54:08.093Z"
   },
   {
    "duration": 8,
    "start_time": "2021-11-26T08:54:50.790Z"
   },
   {
    "duration": 9,
    "start_time": "2021-11-26T08:54:52.455Z"
   },
   {
    "duration": 347,
    "start_time": "2021-11-26T08:55:02.509Z"
   },
   {
    "duration": 343,
    "start_time": "2021-11-26T08:55:07.963Z"
   },
   {
    "duration": 465,
    "start_time": "2021-11-26T08:55:13.206Z"
   },
   {
    "duration": 1206,
    "start_time": "2021-11-26T08:55:18.836Z"
   },
   {
    "duration": 431,
    "start_time": "2021-11-26T08:55:20.044Z"
   },
   {
    "duration": 141,
    "start_time": "2021-11-26T08:55:20.477Z"
   },
   {
    "duration": 159,
    "start_time": "2021-11-26T08:55:20.620Z"
   },
   {
    "duration": 100,
    "start_time": "2021-11-26T08:55:20.780Z"
   },
   {
    "duration": 41,
    "start_time": "2021-11-26T08:55:20.882Z"
   },
   {
    "duration": 94,
    "start_time": "2021-11-26T08:55:20.925Z"
   },
   {
    "duration": 47,
    "start_time": "2021-11-26T08:55:21.020Z"
   },
   {
    "duration": 13,
    "start_time": "2021-11-26T08:55:21.070Z"
   },
   {
    "duration": 15,
    "start_time": "2021-11-26T08:55:21.086Z"
   },
   {
    "duration": 17,
    "start_time": "2021-11-26T08:55:21.103Z"
   },
   {
    "duration": 42,
    "start_time": "2021-11-26T08:55:21.122Z"
   },
   {
    "duration": 50,
    "start_time": "2021-11-26T08:55:21.166Z"
   },
   {
    "duration": 31,
    "start_time": "2021-11-26T08:55:21.218Z"
   },
   {
    "duration": 37,
    "start_time": "2021-11-26T08:55:21.251Z"
   },
   {
    "duration": 28,
    "start_time": "2021-11-26T08:55:21.290Z"
   },
   {
    "duration": 372,
    "start_time": "2021-11-26T08:55:21.320Z"
   },
   {
    "duration": 357,
    "start_time": "2021-11-26T08:55:21.693Z"
   },
   {
    "duration": 465,
    "start_time": "2021-11-26T08:55:22.052Z"
   },
   {
    "duration": 892,
    "start_time": "2021-11-26T08:55:22.518Z"
   },
   {
    "duration": 1152,
    "start_time": "2021-11-26T09:05:22.811Z"
   },
   {
    "duration": 404,
    "start_time": "2021-11-26T09:05:23.965Z"
   },
   {
    "duration": 130,
    "start_time": "2021-11-26T09:05:24.371Z"
   },
   {
    "duration": 154,
    "start_time": "2021-11-26T09:05:24.503Z"
   },
   {
    "duration": 89,
    "start_time": "2021-11-26T09:05:24.659Z"
   },
   {
    "duration": 45,
    "start_time": "2021-11-26T09:05:24.750Z"
   },
   {
    "duration": 76,
    "start_time": "2021-11-26T09:05:24.796Z"
   },
   {
    "duration": 34,
    "start_time": "2021-11-26T09:05:24.874Z"
   },
   {
    "duration": 13,
    "start_time": "2021-11-26T09:05:24.910Z"
   },
   {
    "duration": 40,
    "start_time": "2021-11-26T09:05:24.925Z"
   },
   {
    "duration": 16,
    "start_time": "2021-11-26T09:05:24.967Z"
   },
   {
    "duration": 28,
    "start_time": "2021-11-26T09:05:24.985Z"
   },
   {
    "duration": 73,
    "start_time": "2021-11-26T09:05:25.015Z"
   },
   {
    "duration": 30,
    "start_time": "2021-11-26T09:05:25.090Z"
   },
   {
    "duration": 43,
    "start_time": "2021-11-26T09:05:25.122Z"
   },
   {
    "duration": 29,
    "start_time": "2021-11-26T09:05:25.167Z"
   },
   {
    "duration": 355,
    "start_time": "2021-11-26T09:05:25.197Z"
   },
   {
    "duration": 338,
    "start_time": "2021-11-26T09:05:25.554Z"
   },
   {
    "duration": 470,
    "start_time": "2021-11-26T09:05:25.894Z"
   },
   {
    "duration": 873,
    "start_time": "2021-11-26T09:05:26.366Z"
   },
   {
    "duration": 445,
    "start_time": "2021-11-26T09:05:59.194Z"
   },
   {
    "duration": 594,
    "start_time": "2021-11-26T09:06:41.905Z"
   },
   {
    "duration": 9,
    "start_time": "2021-11-26T09:07:09.781Z"
   },
   {
    "duration": 351,
    "start_time": "2021-11-26T09:07:17.267Z"
   },
   {
    "duration": 354,
    "start_time": "2021-11-26T09:07:22.535Z"
   },
   {
    "duration": 455,
    "start_time": "2021-11-26T09:07:45.338Z"
   },
   {
    "duration": 1322,
    "start_time": "2021-11-26T09:11:01.519Z"
   },
   {
    "duration": 903,
    "start_time": "2021-11-26T09:11:16.406Z"
   },
   {
    "duration": 931,
    "start_time": "2021-11-26T09:11:44.323Z"
   },
   {
    "duration": 874,
    "start_time": "2021-11-26T09:11:54.598Z"
   },
   {
    "duration": 1277,
    "start_time": "2021-11-26T09:12:00.236Z"
   },
   {
    "duration": 458,
    "start_time": "2021-11-26T09:12:01.515Z"
   },
   {
    "duration": 149,
    "start_time": "2021-11-26T09:12:01.976Z"
   },
   {
    "duration": 169,
    "start_time": "2021-11-26T09:12:02.127Z"
   },
   {
    "duration": 105,
    "start_time": "2021-11-26T09:12:02.298Z"
   },
   {
    "duration": 36,
    "start_time": "2021-11-26T09:12:02.404Z"
   },
   {
    "duration": 90,
    "start_time": "2021-11-26T09:12:02.442Z"
   },
   {
    "duration": 44,
    "start_time": "2021-11-26T09:12:02.535Z"
   },
   {
    "duration": 14,
    "start_time": "2021-11-26T09:12:02.581Z"
   },
   {
    "duration": 19,
    "start_time": "2021-11-26T09:12:02.597Z"
   },
   {
    "duration": 23,
    "start_time": "2021-11-26T09:12:02.617Z"
   },
   {
    "duration": 30,
    "start_time": "2021-11-26T09:12:02.642Z"
   },
   {
    "duration": 55,
    "start_time": "2021-11-26T09:12:02.674Z"
   },
   {
    "duration": 33,
    "start_time": "2021-11-26T09:12:02.731Z"
   },
   {
    "duration": 37,
    "start_time": "2021-11-26T09:12:02.766Z"
   },
   {
    "duration": 29,
    "start_time": "2021-11-26T09:12:02.805Z"
   },
   {
    "duration": 364,
    "start_time": "2021-11-26T09:12:02.836Z"
   },
   {
    "duration": 361,
    "start_time": "2021-11-26T09:12:03.202Z"
   },
   {
    "duration": 479,
    "start_time": "2021-11-26T09:12:03.565Z"
   },
   {
    "duration": 927,
    "start_time": "2021-11-26T09:12:04.046Z"
   },
   {
    "duration": 883,
    "start_time": "2021-11-26T09:12:15.162Z"
   },
   {
    "duration": 2014,
    "start_time": "2021-11-26T09:12:42.449Z"
   },
   {
    "duration": 897,
    "start_time": "2021-11-26T09:12:54.527Z"
   },
   {
    "duration": 1009,
    "start_time": "2021-11-26T09:13:30.738Z"
   },
   {
    "duration": 1166,
    "start_time": "2021-11-26T09:13:58.827Z"
   },
   {
    "duration": 917,
    "start_time": "2021-11-26T09:14:24.661Z"
   },
   {
    "duration": 930,
    "start_time": "2021-11-26T09:15:07.658Z"
   },
   {
    "duration": 1224,
    "start_time": "2021-11-26T09:15:34.939Z"
   },
   {
    "duration": 427,
    "start_time": "2021-11-26T09:15:36.165Z"
   },
   {
    "duration": 146,
    "start_time": "2021-11-26T09:15:36.594Z"
   },
   {
    "duration": 161,
    "start_time": "2021-11-26T09:15:36.743Z"
   },
   {
    "duration": 107,
    "start_time": "2021-11-26T09:15:36.906Z"
   },
   {
    "duration": 52,
    "start_time": "2021-11-26T09:15:37.015Z"
   },
   {
    "duration": 69,
    "start_time": "2021-11-26T09:15:37.069Z"
   },
   {
    "duration": 52,
    "start_time": "2021-11-26T09:15:37.141Z"
   },
   {
    "duration": 14,
    "start_time": "2021-11-26T09:15:37.196Z"
   },
   {
    "duration": 20,
    "start_time": "2021-11-26T09:15:37.212Z"
   },
   {
    "duration": 41,
    "start_time": "2021-11-26T09:15:37.233Z"
   },
   {
    "duration": 9,
    "start_time": "2021-11-26T09:15:37.275Z"
   },
   {
    "duration": 41,
    "start_time": "2021-11-26T09:15:37.286Z"
   },
   {
    "duration": 52,
    "start_time": "2021-11-26T09:15:37.329Z"
   },
   {
    "duration": 35,
    "start_time": "2021-11-26T09:15:37.383Z"
   },
   {
    "duration": 43,
    "start_time": "2021-11-26T09:15:37.420Z"
   },
   {
    "duration": 378,
    "start_time": "2021-11-26T09:15:37.465Z"
   },
   {
    "duration": 379,
    "start_time": "2021-11-26T09:15:37.845Z"
   },
   {
    "duration": 473,
    "start_time": "2021-11-26T09:15:38.225Z"
   },
   {
    "duration": 910,
    "start_time": "2021-11-26T09:15:38.700Z"
   },
   {
    "duration": 1309,
    "start_time": "2021-11-26T09:17:27.985Z"
   },
   {
    "duration": 1177,
    "start_time": "2021-11-26T09:17:43.342Z"
   },
   {
    "duration": 1240,
    "start_time": "2021-11-26T09:17:54.741Z"
   },
   {
    "duration": 424,
    "start_time": "2021-11-26T09:17:55.983Z"
   },
   {
    "duration": 137,
    "start_time": "2021-11-26T09:17:56.410Z"
   },
   {
    "duration": 159,
    "start_time": "2021-11-26T09:17:56.549Z"
   },
   {
    "duration": 105,
    "start_time": "2021-11-26T09:17:56.709Z"
   },
   {
    "duration": 48,
    "start_time": "2021-11-26T09:17:56.816Z"
   },
   {
    "duration": 66,
    "start_time": "2021-11-26T09:17:56.866Z"
   },
   {
    "duration": 50,
    "start_time": "2021-11-26T09:17:56.934Z"
   },
   {
    "duration": 13,
    "start_time": "2021-11-26T09:17:56.986Z"
   },
   {
    "duration": 29,
    "start_time": "2021-11-26T09:17:57.001Z"
   },
   {
    "duration": 17,
    "start_time": "2021-11-26T09:17:57.032Z"
   },
   {
    "duration": 18,
    "start_time": "2021-11-26T09:17:57.051Z"
   },
   {
    "duration": 57,
    "start_time": "2021-11-26T09:17:57.071Z"
   },
   {
    "duration": 32,
    "start_time": "2021-11-26T09:17:57.132Z"
   },
   {
    "duration": 31,
    "start_time": "2021-11-26T09:17:57.166Z"
   },
   {
    "duration": 29,
    "start_time": "2021-11-26T09:17:57.199Z"
   },
   {
    "duration": 373,
    "start_time": "2021-11-26T09:17:57.230Z"
   },
   {
    "duration": 589,
    "start_time": "2021-11-26T09:17:57.605Z"
   },
   {
    "duration": 470,
    "start_time": "2021-11-26T09:17:58.195Z"
   },
   {
    "duration": 1375,
    "start_time": "2021-11-26T09:17:58.667Z"
   },
   {
    "duration": 336,
    "start_time": "2021-11-26T09:18:50.344Z"
   },
   {
    "duration": 898,
    "start_time": "2021-11-26T09:19:06.708Z"
   },
   {
    "duration": 1140,
    "start_time": "2021-11-26T09:19:13.107Z"
   },
   {
    "duration": 502,
    "start_time": "2021-11-26T09:19:14.249Z"
   },
   {
    "duration": 131,
    "start_time": "2021-11-26T09:19:14.753Z"
   },
   {
    "duration": 148,
    "start_time": "2021-11-26T09:19:14.886Z"
   },
   {
    "duration": 103,
    "start_time": "2021-11-26T09:19:15.036Z"
   },
   {
    "duration": 44,
    "start_time": "2021-11-26T09:19:15.141Z"
   },
   {
    "duration": 64,
    "start_time": "2021-11-26T09:19:15.187Z"
   },
   {
    "duration": 32,
    "start_time": "2021-11-26T09:19:15.263Z"
   },
   {
    "duration": 14,
    "start_time": "2021-11-26T09:19:15.297Z"
   },
   {
    "duration": 14,
    "start_time": "2021-11-26T09:19:15.313Z"
   },
   {
    "duration": 45,
    "start_time": "2021-11-26T09:19:15.329Z"
   },
   {
    "duration": 9,
    "start_time": "2021-11-26T09:19:15.376Z"
   },
   {
    "duration": 44,
    "start_time": "2021-11-26T09:19:15.386Z"
   },
   {
    "duration": 42,
    "start_time": "2021-11-26T09:19:15.431Z"
   },
   {
    "duration": 30,
    "start_time": "2021-11-26T09:19:15.475Z"
   },
   {
    "duration": 26,
    "start_time": "2021-11-26T09:19:15.507Z"
   },
   {
    "duration": 354,
    "start_time": "2021-11-26T09:19:15.534Z"
   },
   {
    "duration": 432,
    "start_time": "2021-11-26T09:19:15.890Z"
   },
   {
    "duration": 447,
    "start_time": "2021-11-26T09:19:16.324Z"
   },
   {
    "duration": 853,
    "start_time": "2021-11-26T09:19:16.772Z"
   },
   {
    "duration": 901,
    "start_time": "2021-11-26T09:20:17.822Z"
   },
   {
    "duration": 4,
    "start_time": "2021-11-26T09:27:25.331Z"
   },
   {
    "duration": 424,
    "start_time": "2021-11-26T09:27:27.930Z"
   },
   {
    "duration": 15,
    "start_time": "2021-11-26T09:31:33.095Z"
   },
   {
    "duration": 64,
    "start_time": "2021-11-26T09:31:33.112Z"
   },
   {
    "duration": 19,
    "start_time": "2021-11-26T09:31:33.178Z"
   },
   {
    "duration": 22,
    "start_time": "2021-11-26T09:31:33.199Z"
   },
   {
    "duration": 619,
    "start_time": "2021-11-26T09:31:33.223Z"
   },
   {
    "duration": 697,
    "start_time": "2021-11-26T09:31:33.148Z"
   },
   {
    "duration": 693,
    "start_time": "2021-11-26T09:31:33.153Z"
   },
   {
    "duration": 692,
    "start_time": "2021-11-26T09:31:33.156Z"
   },
   {
    "duration": 689,
    "start_time": "2021-11-26T09:31:33.160Z"
   },
   {
    "duration": 686,
    "start_time": "2021-11-26T09:31:33.164Z"
   },
   {
    "duration": 684,
    "start_time": "2021-11-26T09:31:33.168Z"
   },
   {
    "duration": 675,
    "start_time": "2021-11-26T09:31:33.178Z"
   },
   {
    "duration": 1170,
    "start_time": "2021-11-26T09:35:10.815Z"
   },
   {
    "duration": 445,
    "start_time": "2021-11-26T09:35:11.987Z"
   },
   {
    "duration": 149,
    "start_time": "2021-11-26T09:35:12.434Z"
   },
   {
    "duration": 170,
    "start_time": "2021-11-26T09:35:12.586Z"
   },
   {
    "duration": 109,
    "start_time": "2021-11-26T09:35:12.759Z"
   },
   {
    "duration": 40,
    "start_time": "2021-11-26T09:35:12.870Z"
   },
   {
    "duration": 96,
    "start_time": "2021-11-26T09:35:12.912Z"
   },
   {
    "duration": 35,
    "start_time": "2021-11-26T09:35:13.012Z"
   },
   {
    "duration": 29,
    "start_time": "2021-11-26T09:35:13.049Z"
   },
   {
    "duration": 20,
    "start_time": "2021-11-26T09:35:13.080Z"
   },
   {
    "duration": 22,
    "start_time": "2021-11-26T09:35:13.101Z"
   },
   {
    "duration": 44,
    "start_time": "2021-11-26T09:35:13.125Z"
   },
   {
    "duration": 64,
    "start_time": "2021-11-26T09:35:13.171Z"
   },
   {
    "duration": 34,
    "start_time": "2021-11-26T09:35:13.236Z"
   },
   {
    "duration": 35,
    "start_time": "2021-11-26T09:35:13.272Z"
   },
   {
    "duration": 31,
    "start_time": "2021-11-26T09:35:13.309Z"
   },
   {
    "duration": 407,
    "start_time": "2021-11-26T09:35:13.341Z"
   },
   {
    "duration": 365,
    "start_time": "2021-11-26T09:35:13.750Z"
   },
   {
    "duration": 469,
    "start_time": "2021-11-26T09:35:14.117Z"
   },
   {
    "duration": 921,
    "start_time": "2021-11-26T09:35:14.588Z"
   },
   {
    "duration": 261,
    "start_time": "2021-11-26T09:37:09.622Z"
   },
   {
    "duration": 258,
    "start_time": "2021-11-26T09:37:41.422Z"
   },
   {
    "duration": 377,
    "start_time": "2021-11-26T09:37:57.049Z"
   },
   {
    "duration": 3,
    "start_time": "2021-11-26T09:38:59.116Z"
   },
   {
    "duration": 22,
    "start_time": "2021-11-26T09:39:30.448Z"
   },
   {
    "duration": 10,
    "start_time": "2021-11-26T09:46:12.748Z"
   },
   {
    "duration": 24,
    "start_time": "2021-11-26T09:46:20.115Z"
   },
   {
    "duration": 18,
    "start_time": "2021-11-26T09:47:26.531Z"
   },
   {
    "duration": 94,
    "start_time": "2021-11-26T09:47:57.140Z"
   },
   {
    "duration": 85,
    "start_time": "2021-11-26T09:48:00.590Z"
   },
   {
    "duration": 352,
    "start_time": "2021-11-26T09:48:18.884Z"
   },
   {
    "duration": 20,
    "start_time": "2021-11-26T09:48:38.384Z"
   },
   {
    "duration": 36,
    "start_time": "2021-11-26T09:50:48.149Z"
   },
   {
    "duration": 242,
    "start_time": "2021-11-26T09:56:58.251Z"
   },
   {
    "duration": 6131,
    "start_time": "2021-11-26T09:57:05.805Z"
   },
   {
    "duration": 20,
    "start_time": "2021-11-26T09:57:28.999Z"
   },
   {
    "duration": 36,
    "start_time": "2021-11-26T09:59:07.859Z"
   },
   {
    "duration": 27,
    "start_time": "2021-11-26T09:59:27.014Z"
   },
   {
    "duration": 45,
    "start_time": "2021-11-26T10:02:06.157Z"
   },
   {
    "duration": 452,
    "start_time": "2021-11-26T10:02:27.637Z"
   },
   {
    "duration": 20,
    "start_time": "2021-11-26T10:02:33.650Z"
   },
   {
    "duration": 17,
    "start_time": "2021-11-26T10:02:50.279Z"
   },
   {
    "duration": 440,
    "start_time": "2021-11-26T10:02:58.100Z"
   },
   {
    "duration": 27,
    "start_time": "2021-11-26T10:03:03.324Z"
   },
   {
    "duration": 264,
    "start_time": "2021-11-26T10:03:14.676Z"
   },
   {
    "duration": 6655,
    "start_time": "2021-11-26T10:03:40.856Z"
   },
   {
    "duration": 19,
    "start_time": "2021-11-26T10:03:54.823Z"
   },
   {
    "duration": 2862,
    "start_time": "2021-11-26T10:04:59.298Z"
   },
   {
    "duration": 29,
    "start_time": "2021-11-26T10:05:15.865Z"
   },
   {
    "duration": 25,
    "start_time": "2021-11-26T10:05:54.131Z"
   },
   {
    "duration": 1907,
    "start_time": "2021-11-26T10:06:15.845Z"
   },
   {
    "duration": 1990,
    "start_time": "2021-11-26T10:06:35.199Z"
   },
   {
    "duration": 24,
    "start_time": "2021-11-26T10:06:48.794Z"
   },
   {
    "duration": 90,
    "start_time": "2021-11-26T10:07:31.447Z"
   },
   {
    "duration": 114,
    "start_time": "2021-11-26T10:07:41.742Z"
   },
   {
    "duration": 25,
    "start_time": "2021-11-26T10:07:49.125Z"
   },
   {
    "duration": 27,
    "start_time": "2021-11-26T10:07:54.724Z"
   },
   {
    "duration": 18,
    "start_time": "2021-11-26T10:08:10.543Z"
   },
   {
    "duration": 28,
    "start_time": "2021-11-26T10:08:26.961Z"
   },
   {
    "duration": 99,
    "start_time": "2021-11-26T10:08:32.175Z"
   },
   {
    "duration": 25,
    "start_time": "2021-11-26T10:08:37.967Z"
   },
   {
    "duration": 37,
    "start_time": "2021-11-26T10:09:09.154Z"
   },
   {
    "duration": 27,
    "start_time": "2021-11-26T10:09:48.536Z"
   },
   {
    "duration": 36,
    "start_time": "2021-11-26T10:09:57.380Z"
   },
   {
    "duration": 84,
    "start_time": "2021-11-26T10:10:31.172Z"
   },
   {
    "duration": 460,
    "start_time": "2021-11-26T10:11:46.691Z"
   },
   {
    "duration": 64,
    "start_time": "2021-11-26T10:12:09.508Z"
   },
   {
    "duration": 76,
    "start_time": "2021-11-26T10:12:18.766Z"
   },
   {
    "duration": 50,
    "start_time": "2021-11-26T10:12:53.251Z"
   },
   {
    "duration": 38,
    "start_time": "2021-11-26T10:13:15.733Z"
   },
   {
    "duration": 49,
    "start_time": "2021-11-26T10:13:19.369Z"
   },
   {
    "duration": 44,
    "start_time": "2021-11-26T10:13:43.199Z"
   },
   {
    "duration": 79,
    "start_time": "2021-11-26T10:13:58.333Z"
   },
   {
    "duration": 71,
    "start_time": "2021-11-26T10:14:48.413Z"
   },
   {
    "duration": 43,
    "start_time": "2021-11-26T10:15:06.553Z"
   },
   {
    "duration": 33,
    "start_time": "2021-11-26T10:15:19.263Z"
   },
   {
    "duration": 63,
    "start_time": "2021-11-26T10:15:40.755Z"
   },
   {
    "duration": 49,
    "start_time": "2021-11-26T10:15:53.211Z"
   },
   {
    "duration": 60,
    "start_time": "2021-11-26T10:16:05.052Z"
   },
   {
    "duration": 95,
    "start_time": "2021-11-26T10:17:09.031Z"
   },
   {
    "duration": 32,
    "start_time": "2021-11-26T10:17:23.889Z"
   },
   {
    "duration": 12,
    "start_time": "2021-11-26T10:18:33.980Z"
   },
   {
    "duration": 8,
    "start_time": "2021-11-26T10:20:22.808Z"
   },
   {
    "duration": 784,
    "start_time": "2021-11-26T10:20:55.265Z"
   },
   {
    "duration": 7738,
    "start_time": "2021-11-26T10:21:09.047Z"
   },
   {
    "duration": 7458,
    "start_time": "2021-11-26T10:21:17.442Z"
   },
   {
    "duration": 8831,
    "start_time": "2021-11-26T10:21:29.837Z"
   },
   {
    "duration": 30,
    "start_time": "2021-11-26T10:21:48.975Z"
   },
   {
    "duration": 24,
    "start_time": "2021-11-26T10:22:14.976Z"
   },
   {
    "duration": 40,
    "start_time": "2021-11-26T10:22:36.322Z"
   },
   {
    "duration": 40,
    "start_time": "2021-11-26T10:22:54.556Z"
   },
   {
    "duration": 36,
    "start_time": "2021-11-26T10:23:10.276Z"
   },
   {
    "duration": 42,
    "start_time": "2021-11-26T10:23:24.797Z"
   },
   {
    "duration": 755,
    "start_time": "2021-11-26T10:23:31.353Z"
   },
   {
    "duration": 29,
    "start_time": "2021-11-26T10:23:44.920Z"
   },
   {
    "duration": 1366,
    "start_time": "2021-11-26T10:24:22.436Z"
   },
   {
    "duration": 558,
    "start_time": "2021-11-26T10:24:23.806Z"
   },
   {
    "duration": 196,
    "start_time": "2021-11-26T10:24:24.367Z"
   },
   {
    "duration": 262,
    "start_time": "2021-11-26T10:24:24.566Z"
   },
   {
    "duration": 154,
    "start_time": "2021-11-26T10:24:24.832Z"
   },
   {
    "duration": 51,
    "start_time": "2021-11-26T10:24:24.988Z"
   },
   {
    "duration": 136,
    "start_time": "2021-11-26T10:24:25.041Z"
   },
   {
    "duration": 45,
    "start_time": "2021-11-26T10:24:25.181Z"
   },
   {
    "duration": 45,
    "start_time": "2021-11-26T10:24:25.228Z"
   },
   {
    "duration": 26,
    "start_time": "2021-11-26T10:24:25.276Z"
   },
   {
    "duration": 22,
    "start_time": "2021-11-26T10:24:25.304Z"
   },
   {
    "duration": 46,
    "start_time": "2021-11-26T10:24:25.328Z"
   },
   {
    "duration": 65,
    "start_time": "2021-11-26T10:24:25.379Z"
   },
   {
    "duration": 54,
    "start_time": "2021-11-26T10:24:25.446Z"
   },
   {
    "duration": 60,
    "start_time": "2021-11-26T10:24:25.503Z"
   },
   {
    "duration": 40,
    "start_time": "2021-11-26T10:24:25.566Z"
   },
   {
    "duration": 460,
    "start_time": "2021-11-26T10:24:25.608Z"
   },
   {
    "duration": 284,
    "start_time": "2021-11-26T10:24:26.071Z"
   },
   {
    "duration": 682,
    "start_time": "2021-11-26T10:24:26.357Z"
   },
   {
    "duration": 43,
    "start_time": "2021-11-26T10:24:27.042Z"
   },
   {
    "duration": 1322,
    "start_time": "2021-11-26T10:24:27.087Z"
   },
   {
    "duration": 43,
    "start_time": "2021-11-26T10:24:43.927Z"
   },
   {
    "duration": 6750,
    "start_time": "2021-11-26T10:25:01.820Z"
   },
   {
    "duration": 30,
    "start_time": "2021-11-26T10:25:12.378Z"
   },
   {
    "duration": 21,
    "start_time": "2021-11-26T10:25:21.766Z"
   },
   {
    "duration": 19,
    "start_time": "2021-11-26T10:25:41.802Z"
   },
   {
    "duration": 1324,
    "start_time": "2021-11-26T10:25:55.116Z"
   },
   {
    "duration": 481,
    "start_time": "2021-11-26T10:25:56.442Z"
   },
   {
    "duration": 206,
    "start_time": "2021-11-26T10:25:56.926Z"
   },
   {
    "duration": 264,
    "start_time": "2021-11-26T10:25:57.135Z"
   },
   {
    "duration": 152,
    "start_time": "2021-11-26T10:25:57.402Z"
   },
   {
    "duration": 61,
    "start_time": "2021-11-26T10:25:57.556Z"
   },
   {
    "duration": 124,
    "start_time": "2021-11-26T10:25:57.619Z"
   },
   {
    "duration": 54,
    "start_time": "2021-11-26T10:25:57.747Z"
   },
   {
    "duration": 17,
    "start_time": "2021-11-26T10:25:57.804Z"
   },
   {
    "duration": 47,
    "start_time": "2021-11-26T10:25:57.823Z"
   },
   {
    "duration": 20,
    "start_time": "2021-11-26T10:25:57.874Z"
   },
   {
    "duration": 9,
    "start_time": "2021-11-26T10:25:57.896Z"
   },
   {
    "duration": 65,
    "start_time": "2021-11-26T10:25:57.906Z"
   },
   {
    "duration": 44,
    "start_time": "2021-11-26T10:25:57.974Z"
   },
   {
    "duration": 64,
    "start_time": "2021-11-26T10:25:58.021Z"
   },
   {
    "duration": 38,
    "start_time": "2021-11-26T10:25:58.088Z"
   },
   {
    "duration": 336,
    "start_time": "2021-11-26T10:25:58.129Z"
   },
   {
    "duration": 289,
    "start_time": "2021-11-26T10:25:58.467Z"
   },
   {
    "duration": 406,
    "start_time": "2021-11-26T10:25:58.758Z"
   },
   {
    "duration": 29,
    "start_time": "2021-11-26T10:25:59.176Z"
   },
   {
    "duration": 1600,
    "start_time": "2021-11-26T10:25:59.207Z"
   },
   {
    "duration": 44,
    "start_time": "2021-11-26T10:26:08.012Z"
   },
   {
    "duration": 90,
    "start_time": "2021-11-26T10:29:14.166Z"
   },
   {
    "duration": 349,
    "start_time": "2021-11-26T10:29:30.443Z"
   },
   {
    "duration": 85,
    "start_time": "2021-11-26T10:29:39.557Z"
   },
   {
    "duration": 34,
    "start_time": "2021-11-26T10:29:43.471Z"
   },
   {
    "duration": 38,
    "start_time": "2021-11-26T10:29:55.290Z"
   },
   {
    "duration": 72,
    "start_time": "2021-11-26T10:30:01.867Z"
   },
   {
    "duration": 53,
    "start_time": "2021-11-26T10:37:57.108Z"
   },
   {
    "duration": 52,
    "start_time": "2021-11-26T10:39:33.240Z"
   },
   {
    "duration": 49,
    "start_time": "2021-11-26T10:39:51.419Z"
   },
   {
    "duration": 48,
    "start_time": "2021-11-26T10:40:35.386Z"
   },
   {
    "duration": 59,
    "start_time": "2021-11-26T10:40:40.155Z"
   },
   {
    "duration": 41,
    "start_time": "2021-11-26T10:40:56.506Z"
   },
   {
    "duration": 11,
    "start_time": "2021-11-26T10:41:03.991Z"
   },
   {
    "duration": 13,
    "start_time": "2021-11-26T10:41:28.071Z"
   },
   {
    "duration": 1196,
    "start_time": "2021-11-26T10:41:33.016Z"
   },
   {
    "duration": 435,
    "start_time": "2021-11-26T10:41:34.214Z"
   },
   {
    "duration": 152,
    "start_time": "2021-11-26T10:41:34.651Z"
   },
   {
    "duration": 173,
    "start_time": "2021-11-26T10:41:34.805Z"
   },
   {
    "duration": 111,
    "start_time": "2021-11-26T10:41:34.980Z"
   },
   {
    "duration": 36,
    "start_time": "2021-11-26T10:41:35.093Z"
   },
   {
    "duration": 87,
    "start_time": "2021-11-26T10:41:35.131Z"
   },
   {
    "duration": 51,
    "start_time": "2021-11-26T10:41:35.221Z"
   },
   {
    "duration": 18,
    "start_time": "2021-11-26T10:41:35.274Z"
   },
   {
    "duration": 17,
    "start_time": "2021-11-26T10:41:35.294Z"
   },
   {
    "duration": 50,
    "start_time": "2021-11-26T10:41:35.313Z"
   },
   {
    "duration": 13,
    "start_time": "2021-11-26T10:41:35.371Z"
   },
   {
    "duration": 47,
    "start_time": "2021-11-26T10:41:35.386Z"
   },
   {
    "duration": 48,
    "start_time": "2021-11-26T10:41:35.435Z"
   },
   {
    "duration": 34,
    "start_time": "2021-11-26T10:41:35.485Z"
   },
   {
    "duration": 60,
    "start_time": "2021-11-26T10:41:35.521Z"
   },
   {
    "duration": 295,
    "start_time": "2021-11-26T10:41:35.584Z"
   },
   {
    "duration": 288,
    "start_time": "2021-11-26T10:41:35.881Z"
   },
   {
    "duration": 498,
    "start_time": "2021-11-26T10:41:36.171Z"
   },
   {
    "duration": 64,
    "start_time": "2021-11-26T10:41:36.672Z"
   },
   {
    "duration": 1696,
    "start_time": "2021-11-26T10:41:36.738Z"
   },
   {
    "duration": 1289,
    "start_time": "2021-11-26T10:43:14.719Z"
   },
   {
    "duration": 1305,
    "start_time": "2021-11-26T10:43:21.755Z"
   },
   {
    "duration": 471,
    "start_time": "2021-11-26T10:43:23.062Z"
   },
   {
    "duration": 200,
    "start_time": "2021-11-26T10:43:23.536Z"
   },
   {
    "duration": 242,
    "start_time": "2021-11-26T10:43:23.738Z"
   },
   {
    "duration": 140,
    "start_time": "2021-11-26T10:43:23.984Z"
   },
   {
    "duration": 63,
    "start_time": "2021-11-26T10:43:24.126Z"
   },
   {
    "duration": 84,
    "start_time": "2021-11-26T10:43:24.192Z"
   },
   {
    "duration": 42,
    "start_time": "2021-11-26T10:43:24.280Z"
   },
   {
    "duration": 14,
    "start_time": "2021-11-26T10:43:24.324Z"
   },
   {
    "duration": 46,
    "start_time": "2021-11-26T10:43:24.339Z"
   },
   {
    "duration": 22,
    "start_time": "2021-11-26T10:43:24.387Z"
   },
   {
    "duration": 57,
    "start_time": "2021-11-26T10:43:24.412Z"
   },
   {
    "duration": 43,
    "start_time": "2021-11-26T10:43:24.471Z"
   },
   {
    "duration": 51,
    "start_time": "2021-11-26T10:43:24.516Z"
   },
   {
    "duration": 36,
    "start_time": "2021-11-26T10:43:24.569Z"
   },
   {
    "duration": 28,
    "start_time": "2021-11-26T10:43:24.607Z"
   },
   {
    "duration": 323,
    "start_time": "2021-11-26T10:43:24.637Z"
   },
   {
    "duration": 300,
    "start_time": "2021-11-26T10:43:24.963Z"
   },
   {
    "duration": 570,
    "start_time": "2021-11-26T10:43:25.265Z"
   },
   {
    "duration": 54,
    "start_time": "2021-11-26T10:43:25.837Z"
   },
   {
    "duration": 1688,
    "start_time": "2021-11-26T10:43:25.893Z"
   },
   {
    "duration": 1783,
    "start_time": "2021-11-26T10:44:52.817Z"
   },
   {
    "duration": 1209,
    "start_time": "2021-11-26T10:46:07.827Z"
   },
   {
    "duration": 96,
    "start_time": "2021-11-26T10:48:59.463Z"
   },
   {
    "duration": 1423,
    "start_time": "2021-11-26T10:50:07.194Z"
   },
   {
    "duration": 1299,
    "start_time": "2021-11-26T10:50:19.489Z"
   },
   {
    "duration": 89,
    "start_time": "2021-11-26T10:50:45.888Z"
   },
   {
    "duration": 1785,
    "start_time": "2021-11-26T10:50:57.291Z"
   },
   {
    "duration": 1291,
    "start_time": "2021-11-26T10:53:24.769Z"
   },
   {
    "duration": 2123,
    "start_time": "2021-11-26T10:54:36.944Z"
   },
   {
    "duration": 1369,
    "start_time": "2021-11-26T10:54:49.347Z"
   },
   {
    "duration": 1268,
    "start_time": "2021-11-26T10:57:06.803Z"
   },
   {
    "duration": 1253,
    "start_time": "2021-11-26T10:57:48.513Z"
   },
   {
    "duration": 1362,
    "start_time": "2021-11-26T10:58:26.897Z"
   },
   {
    "duration": 1676,
    "start_time": "2021-11-26T10:58:59.335Z"
   },
   {
    "duration": 1359,
    "start_time": "2021-11-26T10:59:07.039Z"
   },
   {
    "duration": 317,
    "start_time": "2021-11-26T11:02:01.229Z"
   },
   {
    "duration": 390,
    "start_time": "2021-11-26T11:02:18.929Z"
   },
   {
    "duration": 391,
    "start_time": "2021-11-26T11:02:29.286Z"
   },
   {
    "duration": 52,
    "start_time": "2021-11-26T11:02:45.785Z"
   },
   {
    "duration": 396,
    "start_time": "2021-11-26T11:03:58.185Z"
   },
   {
    "duration": 1179,
    "start_time": "2021-11-26T11:04:06.236Z"
   },
   {
    "duration": 431,
    "start_time": "2021-11-26T11:04:07.417Z"
   },
   {
    "duration": 147,
    "start_time": "2021-11-26T11:04:07.851Z"
   },
   {
    "duration": 160,
    "start_time": "2021-11-26T11:04:08.000Z"
   },
   {
    "duration": 113,
    "start_time": "2021-11-26T11:04:08.163Z"
   },
   {
    "duration": 37,
    "start_time": "2021-11-26T11:04:08.278Z"
   },
   {
    "duration": 95,
    "start_time": "2021-11-26T11:04:08.317Z"
   },
   {
    "duration": 33,
    "start_time": "2021-11-26T11:04:08.414Z"
   },
   {
    "duration": 30,
    "start_time": "2021-11-26T11:04:08.449Z"
   },
   {
    "duration": 25,
    "start_time": "2021-11-26T11:04:08.483Z"
   },
   {
    "duration": 26,
    "start_time": "2021-11-26T11:04:08.510Z"
   },
   {
    "duration": 37,
    "start_time": "2021-11-26T11:04:08.538Z"
   },
   {
    "duration": 59,
    "start_time": "2021-11-26T11:04:08.577Z"
   },
   {
    "duration": 36,
    "start_time": "2021-11-26T11:04:08.638Z"
   },
   {
    "duration": 35,
    "start_time": "2021-11-26T11:04:08.676Z"
   },
   {
    "duration": 62,
    "start_time": "2021-11-26T11:04:08.713Z"
   },
   {
    "duration": 271,
    "start_time": "2021-11-26T11:04:08.777Z"
   },
   {
    "duration": 286,
    "start_time": "2021-11-26T11:04:09.050Z"
   },
   {
    "duration": 414,
    "start_time": "2021-11-26T11:04:09.338Z"
   },
   {
    "duration": 57,
    "start_time": "2021-11-26T11:04:09.753Z"
   },
   {
    "duration": 1256,
    "start_time": "2021-11-26T11:04:09.811Z"
   },
   {
    "duration": 425,
    "start_time": "2021-11-26T11:04:11.071Z"
   },
   {
    "duration": 29,
    "start_time": "2021-11-26T11:04:21.152Z"
   },
   {
    "duration": 23,
    "start_time": "2021-11-26T11:04:38.130Z"
   },
   {
    "duration": 301,
    "start_time": "2021-11-26T11:04:52.525Z"
   },
   {
    "duration": 10,
    "start_time": "2021-11-26T11:05:15.455Z"
   },
   {
    "duration": 32,
    "start_time": "2021-11-26T11:05:23.206Z"
   },
   {
    "duration": 44,
    "start_time": "2021-11-26T11:05:35.827Z"
   },
   {
    "duration": 45,
    "start_time": "2021-11-26T11:05:50.632Z"
   },
   {
    "duration": 37,
    "start_time": "2021-11-26T11:06:12.433Z"
   },
   {
    "duration": 39,
    "start_time": "2021-11-26T11:06:23.465Z"
   },
   {
    "duration": 9,
    "start_time": "2021-11-26T11:06:48.074Z"
   },
   {
    "duration": 303,
    "start_time": "2021-11-26T11:07:01.366Z"
   },
   {
    "duration": 7,
    "start_time": "2021-11-26T11:07:23.877Z"
   },
   {
    "duration": 276,
    "start_time": "2021-11-26T11:07:33.717Z"
   },
   {
    "duration": 273,
    "start_time": "2021-11-26T11:07:59.506Z"
   },
   {
    "duration": 285,
    "start_time": "2021-11-26T11:08:08.124Z"
   },
   {
    "duration": 281,
    "start_time": "2021-11-26T11:08:22.574Z"
   },
   {
    "duration": 1165,
    "start_time": "2021-11-26T11:08:32.455Z"
   },
   {
    "duration": 429,
    "start_time": "2021-11-26T11:08:33.623Z"
   },
   {
    "duration": 164,
    "start_time": "2021-11-26T11:08:34.054Z"
   },
   {
    "duration": 174,
    "start_time": "2021-11-26T11:08:34.220Z"
   },
   {
    "duration": 119,
    "start_time": "2021-11-26T11:08:34.396Z"
   },
   {
    "duration": 38,
    "start_time": "2021-11-26T11:08:34.517Z"
   },
   {
    "duration": 79,
    "start_time": "2021-11-26T11:08:34.557Z"
   },
   {
    "duration": 55,
    "start_time": "2021-11-26T11:08:34.638Z"
   },
   {
    "duration": 13,
    "start_time": "2021-11-26T11:08:34.695Z"
   },
   {
    "duration": 17,
    "start_time": "2021-11-26T11:08:34.709Z"
   },
   {
    "duration": 54,
    "start_time": "2021-11-26T11:08:34.728Z"
   },
   {
    "duration": 8,
    "start_time": "2021-11-26T11:08:34.784Z"
   },
   {
    "duration": 79,
    "start_time": "2021-11-26T11:08:34.793Z"
   },
   {
    "duration": 39,
    "start_time": "2021-11-26T11:08:34.874Z"
   },
   {
    "duration": 59,
    "start_time": "2021-11-26T11:08:34.916Z"
   },
   {
    "duration": 37,
    "start_time": "2021-11-26T11:08:34.977Z"
   },
   {
    "duration": 317,
    "start_time": "2021-11-26T11:08:35.017Z"
   },
   {
    "duration": 285,
    "start_time": "2021-11-26T11:08:35.337Z"
   },
   {
    "duration": 410,
    "start_time": "2021-11-26T11:08:35.624Z"
   },
   {
    "duration": 59,
    "start_time": "2021-11-26T11:08:36.036Z"
   },
   {
    "duration": 1228,
    "start_time": "2021-11-26T11:08:36.097Z"
   },
   {
    "duration": 370,
    "start_time": "2021-11-26T11:08:37.327Z"
   },
   {
    "duration": 296,
    "start_time": "2021-11-26T11:09:05.334Z"
   },
   {
    "duration": 305,
    "start_time": "2021-11-26T11:09:51.789Z"
   },
   {
    "duration": 293,
    "start_time": "2021-11-26T11:09:56.007Z"
   },
   {
    "duration": 5190,
    "start_time": "2021-11-26T11:10:10.668Z"
   },
   {
    "duration": 769,
    "start_time": "2021-11-26T11:10:15.091Z"
   },
   {
    "duration": 29,
    "start_time": "2021-11-26T11:10:18.624Z"
   },
   {
    "duration": 263,
    "start_time": "2021-11-26T11:11:10.331Z"
   },
   {
    "duration": 22,
    "start_time": "2021-11-26T11:11:13.900Z"
   },
   {
    "duration": 1207,
    "start_time": "2021-11-26T11:11:36.682Z"
   },
   {
    "duration": 434,
    "start_time": "2021-11-26T11:11:37.891Z"
   },
   {
    "duration": 171,
    "start_time": "2021-11-26T11:11:38.327Z"
   },
   {
    "duration": 181,
    "start_time": "2021-11-26T11:11:38.501Z"
   },
   {
    "duration": 103,
    "start_time": "2021-11-26T11:11:38.684Z"
   },
   {
    "duration": 36,
    "start_time": "2021-11-26T11:11:38.789Z"
   },
   {
    "duration": 83,
    "start_time": "2021-11-26T11:11:38.826Z"
   },
   {
    "duration": 30,
    "start_time": "2021-11-26T11:11:38.912Z"
   },
   {
    "duration": 32,
    "start_time": "2021-11-26T11:11:38.944Z"
   },
   {
    "duration": 31,
    "start_time": "2021-11-26T11:11:38.978Z"
   },
   {
    "duration": 36,
    "start_time": "2021-11-26T11:11:39.011Z"
   },
   {
    "duration": 69,
    "start_time": "2021-11-26T11:11:39.049Z"
   },
   {
    "duration": 73,
    "start_time": "2021-11-26T11:11:39.119Z"
   },
   {
    "duration": 37,
    "start_time": "2021-11-26T11:11:39.193Z"
   },
   {
    "duration": 54,
    "start_time": "2021-11-26T11:11:39.232Z"
   },
   {
    "duration": 35,
    "start_time": "2021-11-26T11:11:39.288Z"
   },
   {
    "duration": 43,
    "start_time": "2021-11-26T11:11:39.325Z"
   },
   {
    "duration": 286,
    "start_time": "2021-11-26T11:11:39.373Z"
   },
   {
    "duration": 283,
    "start_time": "2021-11-26T11:11:39.661Z"
   },
   {
    "duration": 387,
    "start_time": "2021-11-26T11:11:39.946Z"
   },
   {
    "duration": 60,
    "start_time": "2021-11-26T11:11:40.335Z"
   },
   {
    "duration": 1241,
    "start_time": "2021-11-26T11:11:40.397Z"
   },
   {
    "duration": 394,
    "start_time": "2021-11-26T11:11:41.642Z"
   },
   {
    "duration": 38,
    "start_time": "2021-11-26T11:12:06.037Z"
   },
   {
    "duration": 38,
    "start_time": "2021-11-26T11:12:21.429Z"
   },
   {
    "duration": 44,
    "start_time": "2021-11-26T11:12:23.930Z"
   },
   {
    "duration": 40,
    "start_time": "2021-11-26T11:12:26.904Z"
   },
   {
    "duration": 39,
    "start_time": "2021-11-26T11:12:32.650Z"
   },
   {
    "duration": 23,
    "start_time": "2021-11-26T11:12:37.438Z"
   },
   {
    "duration": 11,
    "start_time": "2021-11-26T11:13:07.715Z"
   },
   {
    "duration": 16,
    "start_time": "2021-11-26T11:14:11.060Z"
   },
   {
    "duration": 33,
    "start_time": "2021-11-26T11:15:20.871Z"
   },
   {
    "duration": 1204,
    "start_time": "2021-11-26T11:15:25.588Z"
   },
   {
    "duration": 442,
    "start_time": "2021-11-26T11:15:26.794Z"
   },
   {
    "duration": 146,
    "start_time": "2021-11-26T11:15:27.238Z"
   },
   {
    "duration": 174,
    "start_time": "2021-11-26T11:15:27.386Z"
   },
   {
    "duration": 119,
    "start_time": "2021-11-26T11:15:27.563Z"
   },
   {
    "duration": 38,
    "start_time": "2021-11-26T11:15:27.684Z"
   },
   {
    "duration": 89,
    "start_time": "2021-11-26T11:15:27.724Z"
   },
   {
    "duration": 58,
    "start_time": "2021-11-26T11:15:27.815Z"
   },
   {
    "duration": 15,
    "start_time": "2021-11-26T11:15:27.876Z"
   },
   {
    "duration": 22,
    "start_time": "2021-11-26T11:15:27.893Z"
   },
   {
    "duration": 18,
    "start_time": "2021-11-26T11:15:27.917Z"
   },
   {
    "duration": 32,
    "start_time": "2021-11-26T11:15:27.938Z"
   },
   {
    "duration": 66,
    "start_time": "2021-11-26T11:15:27.973Z"
   },
   {
    "duration": 54,
    "start_time": "2021-11-26T11:15:28.041Z"
   },
   {
    "duration": 78,
    "start_time": "2021-11-26T11:15:28.097Z"
   },
   {
    "duration": 38,
    "start_time": "2021-11-26T11:15:28.178Z"
   },
   {
    "duration": 15,
    "start_time": "2021-11-26T11:15:28.218Z"
   },
   {
    "duration": 5396,
    "start_time": "2021-11-26T11:15:28.235Z"
   },
   {
    "duration": 780,
    "start_time": "2021-11-26T11:15:32.853Z"
   },
   {
    "duration": 779,
    "start_time": "2021-11-26T11:15:32.855Z"
   },
   {
    "duration": 778,
    "start_time": "2021-11-26T11:15:32.857Z"
   },
   {
    "duration": 778,
    "start_time": "2021-11-26T11:15:32.858Z"
   },
   {
    "duration": 777,
    "start_time": "2021-11-26T11:15:32.859Z"
   },
   {
    "duration": 34,
    "start_time": "2021-11-26T11:16:20.090Z"
   },
   {
    "duration": 42,
    "start_time": "2021-11-26T11:16:23.370Z"
   },
   {
    "duration": 37,
    "start_time": "2021-11-26T11:16:37.013Z"
   },
   {
    "duration": 38,
    "start_time": "2021-11-26T11:16:42.368Z"
   },
   {
    "duration": 34,
    "start_time": "2021-11-26T11:16:50.110Z"
   },
   {
    "duration": 1174,
    "start_time": "2021-11-26T11:17:09.861Z"
   },
   {
    "duration": 454,
    "start_time": "2021-11-26T11:17:11.037Z"
   },
   {
    "duration": 150,
    "start_time": "2021-11-26T11:17:11.493Z"
   },
   {
    "duration": 178,
    "start_time": "2021-11-26T11:17:11.645Z"
   },
   {
    "duration": 119,
    "start_time": "2021-11-26T11:17:11.825Z"
   },
   {
    "duration": 54,
    "start_time": "2021-11-26T11:17:11.947Z"
   },
   {
    "duration": 91,
    "start_time": "2021-11-26T11:17:12.004Z"
   },
   {
    "duration": 34,
    "start_time": "2021-11-26T11:17:12.098Z"
   },
   {
    "duration": 49,
    "start_time": "2021-11-26T11:17:12.134Z"
   },
   {
    "duration": 16,
    "start_time": "2021-11-26T11:17:12.185Z"
   },
   {
    "duration": 17,
    "start_time": "2021-11-26T11:17:12.203Z"
   },
   {
    "duration": 7,
    "start_time": "2021-11-26T11:17:12.223Z"
   },
   {
    "duration": 50,
    "start_time": "2021-11-26T11:17:12.268Z"
   },
   {
    "duration": 61,
    "start_time": "2021-11-26T11:17:12.320Z"
   },
   {
    "duration": 42,
    "start_time": "2021-11-26T11:17:12.383Z"
   },
   {
    "duration": 61,
    "start_time": "2021-11-26T11:17:12.427Z"
   },
   {
    "duration": 15,
    "start_time": "2021-11-26T11:17:12.491Z"
   },
   {
    "duration": 5946,
    "start_time": "2021-11-26T11:17:12.509Z"
   },
   {
    "duration": 764,
    "start_time": "2021-11-26T11:17:17.693Z"
   },
   {
    "duration": 761,
    "start_time": "2021-11-26T11:17:17.699Z"
   },
   {
    "duration": 760,
    "start_time": "2021-11-26T11:17:17.701Z"
   },
   {
    "duration": 761,
    "start_time": "2021-11-26T11:17:17.702Z"
   },
   {
    "duration": 760,
    "start_time": "2021-11-26T11:17:17.704Z"
   },
   {
    "duration": 31,
    "start_time": "2021-11-26T11:17:41.271Z"
   },
   {
    "duration": 35,
    "start_time": "2021-11-26T11:17:52.151Z"
   },
   {
    "duration": 33,
    "start_time": "2021-11-26T11:18:46.156Z"
   },
   {
    "duration": 35,
    "start_time": "2021-11-26T11:18:57.748Z"
   },
   {
    "duration": 32,
    "start_time": "2021-11-26T11:19:02.839Z"
   },
   {
    "duration": 32,
    "start_time": "2021-11-26T11:19:08.022Z"
   },
   {
    "duration": 31,
    "start_time": "2021-11-26T11:19:13.658Z"
   },
   {
    "duration": 42,
    "start_time": "2021-11-26T11:19:19.953Z"
   },
   {
    "duration": 33,
    "start_time": "2021-11-26T11:19:25.211Z"
   },
   {
    "duration": 34,
    "start_time": "2021-11-26T11:19:27.809Z"
   },
   {
    "duration": 33,
    "start_time": "2021-11-26T11:19:30.788Z"
   },
   {
    "duration": 34,
    "start_time": "2021-11-26T11:19:39.766Z"
   },
   {
    "duration": 31,
    "start_time": "2021-11-26T11:19:56.045Z"
   },
   {
    "duration": 24,
    "start_time": "2021-11-26T11:20:12.780Z"
   },
   {
    "duration": 8,
    "start_time": "2021-11-26T11:20:45.127Z"
   },
   {
    "duration": 7,
    "start_time": "2021-11-26T11:20:47.986Z"
   },
   {
    "duration": 32,
    "start_time": "2021-11-26T11:20:50.991Z"
   },
   {
    "duration": 5316,
    "start_time": "2021-11-26T11:21:07.266Z"
   },
   {
    "duration": 1242,
    "start_time": "2021-11-26T11:22:39.473Z"
   },
   {
    "duration": 446,
    "start_time": "2021-11-26T11:22:40.718Z"
   },
   {
    "duration": 150,
    "start_time": "2021-11-26T11:22:41.169Z"
   },
   {
    "duration": 169,
    "start_time": "2021-11-26T11:22:41.321Z"
   },
   {
    "duration": 114,
    "start_time": "2021-11-26T11:22:41.492Z"
   },
   {
    "duration": 38,
    "start_time": "2021-11-26T11:22:41.608Z"
   },
   {
    "duration": 82,
    "start_time": "2021-11-26T11:22:41.648Z"
   },
   {
    "duration": 51,
    "start_time": "2021-11-26T11:22:41.732Z"
   },
   {
    "duration": 14,
    "start_time": "2021-11-26T11:22:41.785Z"
   },
   {
    "duration": 21,
    "start_time": "2021-11-26T11:22:41.801Z"
   },
   {
    "duration": 41,
    "start_time": "2021-11-26T11:22:41.824Z"
   },
   {
    "duration": 7,
    "start_time": "2021-11-26T11:22:41.867Z"
   },
   {
    "duration": 5712,
    "start_time": "2021-11-26T11:22:41.876Z"
   },
   {
    "duration": 796,
    "start_time": "2021-11-26T11:22:46.795Z"
   },
   {
    "duration": 794,
    "start_time": "2021-11-26T11:22:46.798Z"
   },
   {
    "duration": 793,
    "start_time": "2021-11-26T11:22:46.800Z"
   },
   {
    "duration": 793,
    "start_time": "2021-11-26T11:22:46.801Z"
   },
   {
    "duration": 791,
    "start_time": "2021-11-26T11:22:46.804Z"
   },
   {
    "duration": 786,
    "start_time": "2021-11-26T11:22:46.810Z"
   },
   {
    "duration": 784,
    "start_time": "2021-11-26T11:22:46.813Z"
   },
   {
    "duration": 784,
    "start_time": "2021-11-26T11:22:46.815Z"
   },
   {
    "duration": 783,
    "start_time": "2021-11-26T11:22:46.817Z"
   },
   {
    "duration": 783,
    "start_time": "2021-11-26T11:22:46.818Z"
   },
   {
    "duration": 5898,
    "start_time": "2021-11-26T11:23:14.655Z"
   },
   {
    "duration": 35,
    "start_time": "2021-11-26T11:23:55.912Z"
   },
   {
    "duration": 5870,
    "start_time": "2021-11-26T11:24:03.695Z"
   },
   {
    "duration": 37,
    "start_time": "2021-11-26T11:24:32.910Z"
   },
   {
    "duration": 44,
    "start_time": "2021-11-26T11:24:45.019Z"
   },
   {
    "duration": 33,
    "start_time": "2021-11-26T11:25:07.506Z"
   },
   {
    "duration": 33,
    "start_time": "2021-11-26T11:25:12.716Z"
   },
   {
    "duration": 34,
    "start_time": "2021-11-26T11:25:16.828Z"
   },
   {
    "duration": 30,
    "start_time": "2021-11-26T11:25:21.452Z"
   },
   {
    "duration": 16,
    "start_time": "2021-11-26T11:25:27.533Z"
   },
   {
    "duration": 25,
    "start_time": "2021-11-26T11:25:41.516Z"
   },
   {
    "duration": 21,
    "start_time": "2021-11-26T11:25:48.350Z"
   },
   {
    "duration": 24,
    "start_time": "2021-11-26T11:26:08.840Z"
   },
   {
    "duration": 18,
    "start_time": "2021-11-26T11:26:15.080Z"
   },
   {
    "duration": 17,
    "start_time": "2021-11-26T11:26:26.476Z"
   },
   {
    "duration": 15,
    "start_time": "2021-11-26T11:26:38.311Z"
   },
   {
    "duration": 18,
    "start_time": "2021-11-26T11:28:29.437Z"
   },
   {
    "duration": 23,
    "start_time": "2021-11-26T11:28:41.521Z"
   },
   {
    "duration": 12,
    "start_time": "2021-11-26T11:29:02.976Z"
   },
   {
    "duration": 318,
    "start_time": "2021-11-26T11:29:20.851Z"
   },
   {
    "duration": 4898,
    "start_time": "2021-11-26T11:29:35.643Z"
   },
   {
    "duration": 1278,
    "start_time": "2021-11-26T11:29:48.259Z"
   },
   {
    "duration": 403,
    "start_time": "2021-11-26T11:29:49.539Z"
   },
   {
    "duration": 128,
    "start_time": "2021-11-26T11:29:49.944Z"
   },
   {
    "duration": 161,
    "start_time": "2021-11-26T11:29:50.074Z"
   },
   {
    "duration": 104,
    "start_time": "2021-11-26T11:29:50.237Z"
   },
   {
    "duration": 50,
    "start_time": "2021-11-26T11:29:50.343Z"
   },
   {
    "duration": 76,
    "start_time": "2021-11-26T11:29:50.395Z"
   },
   {
    "duration": 33,
    "start_time": "2021-11-26T11:29:50.474Z"
   },
   {
    "duration": 22,
    "start_time": "2021-11-26T11:29:50.510Z"
   },
   {
    "duration": 48,
    "start_time": "2021-11-26T11:29:50.535Z"
   },
   {
    "duration": 13,
    "start_time": "2021-11-26T11:29:50.585Z"
   },
   {
    "duration": 32,
    "start_time": "2021-11-26T11:29:50.600Z"
   },
   {
    "duration": 90,
    "start_time": "2021-11-26T11:29:50.633Z"
   },
   {
    "duration": 31,
    "start_time": "2021-11-26T11:29:50.725Z"
   },
   {
    "duration": 51,
    "start_time": "2021-11-26T11:29:50.757Z"
   },
   {
    "duration": 29,
    "start_time": "2021-11-26T11:29:50.809Z"
   },
   {
    "duration": 23,
    "start_time": "2021-11-26T11:29:50.840Z"
   },
   {
    "duration": 280,
    "start_time": "2021-11-26T11:29:50.865Z"
   },
   {
    "duration": 271,
    "start_time": "2021-11-26T11:29:51.147Z"
   },
   {
    "duration": 401,
    "start_time": "2021-11-26T11:29:51.420Z"
   },
   {
    "duration": 62,
    "start_time": "2021-11-26T11:29:51.823Z"
   },
   {
    "duration": 1068,
    "start_time": "2021-11-26T11:29:51.888Z"
   },
   {
    "duration": 357,
    "start_time": "2021-11-26T11:29:52.959Z"
   },
   {
    "duration": 372,
    "start_time": "2021-11-26T11:30:14.075Z"
   },
   {
    "duration": 5079,
    "start_time": "2021-11-26T11:30:26.381Z"
   },
   {
    "duration": 265,
    "start_time": "2021-11-26T11:30:39.955Z"
   },
   {
    "duration": 1253,
    "start_time": "2021-11-26T11:30:56.281Z"
   },
   {
    "duration": 442,
    "start_time": "2021-11-26T11:30:57.536Z"
   },
   {
    "duration": 157,
    "start_time": "2021-11-26T11:30:57.980Z"
   },
   {
    "duration": 175,
    "start_time": "2021-11-26T11:30:58.140Z"
   },
   {
    "duration": 114,
    "start_time": "2021-11-26T11:30:58.316Z"
   },
   {
    "duration": 55,
    "start_time": "2021-11-26T11:30:58.431Z"
   },
   {
    "duration": 82,
    "start_time": "2021-11-26T11:30:58.488Z"
   },
   {
    "duration": 33,
    "start_time": "2021-11-26T11:30:58.572Z"
   },
   {
    "duration": 14,
    "start_time": "2021-11-26T11:30:58.608Z"
   },
   {
    "duration": 44,
    "start_time": "2021-11-26T11:30:58.623Z"
   },
   {
    "duration": 8,
    "start_time": "2021-11-26T11:30:58.669Z"
   },
   {
    "duration": 6,
    "start_time": "2021-11-26T11:30:58.679Z"
   },
   {
    "duration": 44,
    "start_time": "2021-11-26T11:30:58.687Z"
   },
   {
    "duration": 61,
    "start_time": "2021-11-26T11:30:58.733Z"
   },
   {
    "duration": 36,
    "start_time": "2021-11-26T11:30:58.796Z"
   },
   {
    "duration": 55,
    "start_time": "2021-11-26T11:30:58.834Z"
   },
   {
    "duration": 9,
    "start_time": "2021-11-26T11:30:58.891Z"
   },
   {
    "duration": 284,
    "start_time": "2021-11-26T11:30:58.902Z"
   },
   {
    "duration": 299,
    "start_time": "2021-11-26T11:30:59.188Z"
   },
   {
    "duration": 389,
    "start_time": "2021-11-26T11:30:59.489Z"
   },
   {
    "duration": 55,
    "start_time": "2021-11-26T11:30:59.880Z"
   },
   {
    "duration": 1087,
    "start_time": "2021-11-26T11:30:59.937Z"
   },
   {
    "duration": 357,
    "start_time": "2021-11-26T11:31:01.027Z"
   },
   {
    "duration": 361,
    "start_time": "2021-11-26T11:31:36.005Z"
   },
   {
    "duration": 4,
    "start_time": "2021-11-26T11:32:26.523Z"
   },
   {
    "duration": 51,
    "start_time": "2021-11-26T11:32:42.052Z"
   },
   {
    "duration": 89,
    "start_time": "2021-11-26T11:33:13.094Z"
   },
   {
    "duration": 44,
    "start_time": "2021-11-26T11:33:32.949Z"
   },
   {
    "duration": 364,
    "start_time": "2021-11-26T11:33:59.499Z"
   },
   {
    "duration": 1309,
    "start_time": "2021-11-26T11:35:21.652Z"
   },
   {
    "duration": 448,
    "start_time": "2021-11-26T11:35:22.964Z"
   },
   {
    "duration": 149,
    "start_time": "2021-11-26T11:35:23.414Z"
   },
   {
    "duration": 159,
    "start_time": "2021-11-26T11:35:23.565Z"
   },
   {
    "duration": 119,
    "start_time": "2021-11-26T11:35:23.726Z"
   },
   {
    "duration": 48,
    "start_time": "2021-11-26T11:35:23.847Z"
   },
   {
    "duration": 90,
    "start_time": "2021-11-26T11:35:23.897Z"
   },
   {
    "duration": 34,
    "start_time": "2021-11-26T11:35:23.989Z"
   },
   {
    "duration": 39,
    "start_time": "2021-11-26T11:35:24.026Z"
   },
   {
    "duration": 18,
    "start_time": "2021-11-26T11:35:24.067Z"
   },
   {
    "duration": 9,
    "start_time": "2021-11-26T11:35:24.087Z"
   },
   {
    "duration": 87,
    "start_time": "2021-11-26T11:35:24.098Z"
   },
   {
    "duration": 32,
    "start_time": "2021-11-26T11:35:24.187Z"
   },
   {
    "duration": 55,
    "start_time": "2021-11-26T11:35:24.221Z"
   },
   {
    "duration": 32,
    "start_time": "2021-11-26T11:35:24.277Z"
   },
   {
    "duration": 11,
    "start_time": "2021-11-26T11:35:24.311Z"
   },
   {
    "duration": 316,
    "start_time": "2021-11-26T11:35:24.324Z"
   },
   {
    "duration": 296,
    "start_time": "2021-11-26T11:35:24.643Z"
   },
   {
    "duration": 422,
    "start_time": "2021-11-26T11:35:24.941Z"
   },
   {
    "duration": 52,
    "start_time": "2021-11-26T11:35:25.365Z"
   },
   {
    "duration": 1164,
    "start_time": "2021-11-26T11:35:25.419Z"
   },
   {
    "duration": 374,
    "start_time": "2021-11-26T11:35:26.586Z"
   },
   {
    "duration": 298,
    "start_time": "2021-11-26T11:35:31.220Z"
   },
   {
    "duration": 5065,
    "start_time": "2021-11-26T11:35:35.978Z"
   },
   {
    "duration": 1196,
    "start_time": "2021-11-26T11:35:50.988Z"
   },
   {
    "duration": 414,
    "start_time": "2021-11-26T11:35:52.186Z"
   },
   {
    "duration": 194,
    "start_time": "2021-11-26T11:35:52.603Z"
   },
   {
    "duration": 251,
    "start_time": "2021-11-26T11:35:52.800Z"
   },
   {
    "duration": 148,
    "start_time": "2021-11-26T11:35:53.054Z"
   },
   {
    "duration": 65,
    "start_time": "2021-11-26T11:35:53.205Z"
   },
   {
    "duration": 110,
    "start_time": "2021-11-26T11:35:53.273Z"
   },
   {
    "duration": 45,
    "start_time": "2021-11-26T11:35:53.387Z"
   },
   {
    "duration": 39,
    "start_time": "2021-11-26T11:35:53.435Z"
   },
   {
    "duration": 22,
    "start_time": "2021-11-26T11:35:53.476Z"
   },
   {
    "duration": 13,
    "start_time": "2021-11-26T11:35:53.500Z"
   },
   {
    "duration": 84,
    "start_time": "2021-11-26T11:35:53.516Z"
   },
   {
    "duration": 46,
    "start_time": "2021-11-26T11:35:53.603Z"
   },
   {
    "duration": 54,
    "start_time": "2021-11-26T11:35:53.652Z"
   },
   {
    "duration": 57,
    "start_time": "2021-11-26T11:35:53.709Z"
   },
   {
    "duration": 16,
    "start_time": "2021-11-26T11:35:53.768Z"
   },
   {
    "duration": 480,
    "start_time": "2021-11-26T11:35:53.786Z"
   },
   {
    "duration": 476,
    "start_time": "2021-11-26T11:35:54.268Z"
   },
   {
    "duration": 517,
    "start_time": "2021-11-26T11:35:54.747Z"
   },
   {
    "duration": 48,
    "start_time": "2021-11-26T11:35:55.266Z"
   },
   {
    "duration": 1089,
    "start_time": "2021-11-26T11:35:55.316Z"
   },
   {
    "duration": 399,
    "start_time": "2021-11-26T11:35:56.407Z"
   },
   {
    "duration": 91,
    "start_time": "2021-11-26T11:37:38.639Z"
   },
   {
    "duration": 1229,
    "start_time": "2021-11-26T11:37:44.953Z"
   },
   {
    "duration": 1461,
    "start_time": "2021-11-26T11:37:50.255Z"
   },
   {
    "duration": 446,
    "start_time": "2021-11-26T11:37:51.719Z"
   },
   {
    "duration": 171,
    "start_time": "2021-11-26T11:37:52.171Z"
   },
   {
    "duration": 174,
    "start_time": "2021-11-26T11:37:52.345Z"
   },
   {
    "duration": 124,
    "start_time": "2021-11-26T11:37:52.522Z"
   },
   {
    "duration": 54,
    "start_time": "2021-11-26T11:37:52.648Z"
   },
   {
    "duration": 102,
    "start_time": "2021-11-26T11:37:52.704Z"
   },
   {
    "duration": 52,
    "start_time": "2021-11-26T11:37:52.811Z"
   },
   {
    "duration": 15,
    "start_time": "2021-11-26T11:37:52.866Z"
   },
   {
    "duration": 28,
    "start_time": "2021-11-26T11:37:52.884Z"
   },
   {
    "duration": 20,
    "start_time": "2021-11-26T11:37:52.914Z"
   },
   {
    "duration": 70,
    "start_time": "2021-11-26T11:37:52.935Z"
   },
   {
    "duration": 34,
    "start_time": "2021-11-26T11:37:53.007Z"
   },
   {
    "duration": 43,
    "start_time": "2021-11-26T11:37:53.043Z"
   },
   {
    "duration": 31,
    "start_time": "2021-11-26T11:37:53.088Z"
   },
   {
    "duration": 12,
    "start_time": "2021-11-26T11:37:53.121Z"
   },
   {
    "duration": 285,
    "start_time": "2021-11-26T11:37:53.164Z"
   },
   {
    "duration": 290,
    "start_time": "2021-11-26T11:37:53.451Z"
   },
   {
    "duration": 420,
    "start_time": "2021-11-26T11:37:53.743Z"
   },
   {
    "duration": 49,
    "start_time": "2021-11-26T11:37:54.165Z"
   },
   {
    "duration": 1067,
    "start_time": "2021-11-26T11:37:54.216Z"
   },
   {
    "duration": 361,
    "start_time": "2021-11-26T11:37:55.284Z"
   },
   {
    "duration": 1027,
    "start_time": "2021-11-26T11:38:34.659Z"
   },
   {
    "duration": 441,
    "start_time": "2021-11-26T11:39:32.035Z"
   },
   {
    "duration": 4277,
    "start_time": "2021-11-26T11:40:13.866Z"
   },
   {
    "duration": 4383,
    "start_time": "2021-11-26T11:41:11.227Z"
   },
   {
    "duration": 1097,
    "start_time": "2021-11-26T11:41:48.490Z"
   },
   {
    "duration": 1095,
    "start_time": "2021-11-26T11:42:18.722Z"
   },
   {
    "duration": 88,
    "start_time": "2021-11-26T11:44:07.252Z"
   },
   {
    "duration": 450,
    "start_time": "2021-11-26T11:44:23.305Z"
   },
   {
    "duration": 464,
    "start_time": "2021-11-26T11:46:13.091Z"
   },
   {
    "duration": 1238,
    "start_time": "2021-11-26T11:46:24.706Z"
   },
   {
    "duration": 446,
    "start_time": "2021-11-26T11:46:25.946Z"
   },
   {
    "duration": 153,
    "start_time": "2021-11-26T11:46:26.395Z"
   },
   {
    "duration": 173,
    "start_time": "2021-11-26T11:46:26.551Z"
   },
   {
    "duration": 118,
    "start_time": "2021-11-26T11:46:26.726Z"
   },
   {
    "duration": 47,
    "start_time": "2021-11-26T11:46:26.846Z"
   },
   {
    "duration": 81,
    "start_time": "2021-11-26T11:46:26.895Z"
   },
   {
    "duration": 34,
    "start_time": "2021-11-26T11:46:26.977Z"
   },
   {
    "duration": 15,
    "start_time": "2021-11-26T11:46:27.014Z"
   },
   {
    "duration": 48,
    "start_time": "2021-11-26T11:46:27.031Z"
   },
   {
    "duration": 10,
    "start_time": "2021-11-26T11:46:27.082Z"
   },
   {
    "duration": 69,
    "start_time": "2021-11-26T11:46:27.094Z"
   },
   {
    "duration": 36,
    "start_time": "2021-11-26T11:46:27.165Z"
   },
   {
    "duration": 60,
    "start_time": "2021-11-26T11:46:27.203Z"
   },
   {
    "duration": 33,
    "start_time": "2021-11-26T11:46:27.265Z"
   },
   {
    "duration": 11,
    "start_time": "2021-11-26T11:46:27.301Z"
   },
   {
    "duration": 291,
    "start_time": "2021-11-26T11:46:27.314Z"
   },
   {
    "duration": 278,
    "start_time": "2021-11-26T11:46:27.607Z"
   },
   {
    "duration": 437,
    "start_time": "2021-11-26T11:46:27.887Z"
   },
   {
    "duration": 56,
    "start_time": "2021-11-26T11:46:28.326Z"
   },
   {
    "duration": 617,
    "start_time": "2021-11-26T11:46:28.384Z"
   },
   {
    "duration": 798,
    "start_time": "2021-11-26T11:46:28.206Z"
   },
   {
    "duration": 465,
    "start_time": "2021-11-26T11:47:02.942Z"
   },
   {
    "duration": 432,
    "start_time": "2021-11-26T11:47:33.001Z"
   },
   {
    "duration": 1170,
    "start_time": "2021-11-26T11:48:21.188Z"
   },
   {
    "duration": 446,
    "start_time": "2021-11-26T11:49:33.752Z"
   },
   {
    "duration": 490,
    "start_time": "2021-11-26T11:51:46.364Z"
   },
   {
    "duration": 1191,
    "start_time": "2021-11-26T11:51:53.556Z"
   },
   {
    "duration": 437,
    "start_time": "2021-11-26T11:51:54.749Z"
   },
   {
    "duration": 140,
    "start_time": "2021-11-26T11:51:55.189Z"
   },
   {
    "duration": 157,
    "start_time": "2021-11-26T11:51:55.331Z"
   },
   {
    "duration": 108,
    "start_time": "2021-11-26T11:51:55.490Z"
   },
   {
    "duration": 36,
    "start_time": "2021-11-26T11:51:55.599Z"
   },
   {
    "duration": 79,
    "start_time": "2021-11-26T11:51:55.637Z"
   },
   {
    "duration": 48,
    "start_time": "2021-11-26T11:51:55.719Z"
   },
   {
    "duration": 15,
    "start_time": "2021-11-26T11:51:55.769Z"
   },
   {
    "duration": 16,
    "start_time": "2021-11-26T11:51:55.786Z"
   },
   {
    "duration": 7,
    "start_time": "2021-11-26T11:51:55.804Z"
   },
   {
    "duration": 75,
    "start_time": "2021-11-26T11:51:55.813Z"
   },
   {
    "duration": 33,
    "start_time": "2021-11-26T11:51:55.890Z"
   },
   {
    "duration": 45,
    "start_time": "2021-11-26T11:51:55.925Z"
   },
   {
    "duration": 29,
    "start_time": "2021-11-26T11:51:55.972Z"
   },
   {
    "duration": 9,
    "start_time": "2021-11-26T11:51:56.003Z"
   },
   {
    "duration": 285,
    "start_time": "2021-11-26T11:51:56.014Z"
   },
   {
    "duration": 273,
    "start_time": "2021-11-26T11:51:56.301Z"
   },
   {
    "duration": 379,
    "start_time": "2021-11-26T11:51:56.576Z"
   },
   {
    "duration": 48,
    "start_time": "2021-11-26T11:51:56.957Z"
   },
   {
    "duration": 509,
    "start_time": "2021-11-26T11:51:57.007Z"
   },
   {
    "duration": 790,
    "start_time": "2021-11-26T11:51:56.729Z"
   },
   {
    "duration": 5214,
    "start_time": "2021-11-26T11:53:38.109Z"
   },
   {
    "duration": 1178,
    "start_time": "2021-11-26T11:54:05.116Z"
   },
   {
    "duration": 445,
    "start_time": "2021-11-26T11:54:06.296Z"
   },
   {
    "duration": 141,
    "start_time": "2021-11-26T11:54:06.743Z"
   },
   {
    "duration": 204,
    "start_time": "2021-11-26T11:54:06.886Z"
   },
   {
    "duration": 121,
    "start_time": "2021-11-26T11:54:07.093Z"
   },
   {
    "duration": 54,
    "start_time": "2021-11-26T11:54:07.217Z"
   },
   {
    "duration": 96,
    "start_time": "2021-11-26T11:54:07.273Z"
   },
   {
    "duration": 36,
    "start_time": "2021-11-26T11:54:07.373Z"
   },
   {
    "duration": 21,
    "start_time": "2021-11-26T11:54:07.412Z"
   },
   {
    "duration": 16,
    "start_time": "2021-11-26T11:54:07.464Z"
   },
   {
    "duration": 10,
    "start_time": "2021-11-26T11:54:07.482Z"
   },
   {
    "duration": 75,
    "start_time": "2021-11-26T11:54:07.493Z"
   },
   {
    "duration": 43,
    "start_time": "2021-11-26T11:54:07.571Z"
   },
   {
    "duration": 49,
    "start_time": "2021-11-26T11:54:07.617Z"
   },
   {
    "duration": 30,
    "start_time": "2021-11-26T11:54:07.668Z"
   },
   {
    "duration": 9,
    "start_time": "2021-11-26T11:54:07.700Z"
   },
   {
    "duration": 315,
    "start_time": "2021-11-26T11:54:07.711Z"
   },
   {
    "duration": 324,
    "start_time": "2021-11-26T11:54:08.028Z"
   },
   {
    "duration": 583,
    "start_time": "2021-11-26T11:54:08.354Z"
   },
   {
    "duration": 69,
    "start_time": "2021-11-26T11:54:08.939Z"
   },
   {
    "duration": 3311,
    "start_time": "2021-11-26T11:54:09.010Z"
   },
   {
    "duration": 409,
    "start_time": "2021-11-26T11:54:12.323Z"
   },
   {
    "duration": 575,
    "start_time": "2021-11-26T11:54:44.699Z"
   },
   {
    "duration": 1060,
    "start_time": "2021-11-26T11:55:05.024Z"
   },
   {
    "duration": 1032,
    "start_time": "2021-11-26T11:56:53.115Z"
   },
   {
    "duration": 1123,
    "start_time": "2021-11-26T11:57:54.521Z"
   },
   {
    "duration": 1105,
    "start_time": "2021-11-26T12:00:35.977Z"
   },
   {
    "duration": 273,
    "start_time": "2021-11-26T12:00:49.157Z"
   },
   {
    "duration": 368,
    "start_time": "2021-11-26T12:01:04.898Z"
   },
   {
    "duration": 1129,
    "start_time": "2021-11-26T12:01:11.113Z"
   },
   {
    "duration": 1158,
    "start_time": "2021-11-26T12:01:40.937Z"
   },
   {
    "duration": 407,
    "start_time": "2021-11-26T12:02:38.004Z"
   },
   {
    "duration": 1145,
    "start_time": "2021-11-26T12:02:52.409Z"
   },
   {
    "duration": 1043,
    "start_time": "2021-11-26T12:03:26.681Z"
   },
   {
    "duration": 1120,
    "start_time": "2021-11-26T12:03:40.334Z"
   },
   {
    "duration": 1030,
    "start_time": "2021-11-26T12:04:03.062Z"
   },
   {
    "duration": 994,
    "start_time": "2021-11-26T12:04:18.808Z"
   },
   {
    "duration": 4531,
    "start_time": "2021-11-26T12:05:30.329Z"
   },
   {
    "duration": 4459,
    "start_time": "2021-11-26T12:05:36.135Z"
   },
   {
    "duration": 4772,
    "start_time": "2021-11-26T12:05:44.612Z"
   },
   {
    "duration": 86,
    "start_time": "2021-11-26T12:06:45.831Z"
   },
   {
    "duration": 1009,
    "start_time": "2021-11-26T12:07:15.125Z"
   },
   {
    "duration": 1005,
    "start_time": "2021-11-26T12:07:25.612Z"
   },
   {
    "duration": 1003,
    "start_time": "2021-11-26T12:07:57.063Z"
   },
   {
    "duration": 521,
    "start_time": "2021-11-26T12:08:52.555Z"
   },
   {
    "duration": 536,
    "start_time": "2021-11-26T12:09:06.111Z"
   },
   {
    "duration": 513,
    "start_time": "2021-11-26T12:10:33.852Z"
   },
   {
    "duration": 513,
    "start_time": "2021-11-26T12:10:41.463Z"
   },
   {
    "duration": 1081,
    "start_time": "2021-11-26T12:11:24.254Z"
   },
   {
    "duration": 1181,
    "start_time": "2021-11-26T12:13:44.972Z"
   },
   {
    "duration": 1211,
    "start_time": "2021-11-26T12:14:02.710Z"
   },
   {
    "duration": 449,
    "start_time": "2021-11-26T12:14:03.924Z"
   },
   {
    "duration": 156,
    "start_time": "2021-11-26T12:14:04.376Z"
   },
   {
    "duration": 175,
    "start_time": "2021-11-26T12:14:04.535Z"
   },
   {
    "duration": 110,
    "start_time": "2021-11-26T12:14:04.712Z"
   },
   {
    "duration": 47,
    "start_time": "2021-11-26T12:14:04.824Z"
   },
   {
    "duration": 89,
    "start_time": "2021-11-26T12:14:04.873Z"
   },
   {
    "duration": 34,
    "start_time": "2021-11-26T12:14:04.965Z"
   },
   {
    "duration": 15,
    "start_time": "2021-11-26T12:14:05.001Z"
   },
   {
    "duration": 33,
    "start_time": "2021-11-26T12:14:05.018Z"
   },
   {
    "duration": 22,
    "start_time": "2021-11-26T12:14:05.053Z"
   },
   {
    "duration": 66,
    "start_time": "2021-11-26T12:14:05.077Z"
   },
   {
    "duration": 32,
    "start_time": "2021-11-26T12:14:05.145Z"
   },
   {
    "duration": 35,
    "start_time": "2021-11-26T12:14:05.179Z"
   },
   {
    "duration": 47,
    "start_time": "2021-11-26T12:14:05.216Z"
   },
   {
    "duration": 11,
    "start_time": "2021-11-26T12:14:05.265Z"
   },
   {
    "duration": 313,
    "start_time": "2021-11-26T12:14:05.278Z"
   },
   {
    "duration": 293,
    "start_time": "2021-11-26T12:14:05.593Z"
   },
   {
    "duration": 423,
    "start_time": "2021-11-26T12:14:05.888Z"
   },
   {
    "duration": 56,
    "start_time": "2021-11-26T12:14:06.313Z"
   },
   {
    "duration": 1621,
    "start_time": "2021-11-26T12:14:06.371Z"
   },
   {
    "duration": 806,
    "start_time": "2021-11-26T12:14:07.188Z"
   },
   {
    "duration": 1316,
    "start_time": "2021-11-26T12:14:20.808Z"
   },
   {
    "duration": 1044,
    "start_time": "2021-11-26T12:14:29.831Z"
   },
   {
    "duration": 1070,
    "start_time": "2021-11-26T12:17:28.757Z"
   },
   {
    "duration": 1607,
    "start_time": "2021-11-26T12:17:35.841Z"
   },
   {
    "duration": 618,
    "start_time": "2021-11-26T12:17:37.451Z"
   },
   {
    "duration": 203,
    "start_time": "2021-11-26T12:17:38.072Z"
   },
   {
    "duration": 257,
    "start_time": "2021-11-26T12:17:38.277Z"
   },
   {
    "duration": 149,
    "start_time": "2021-11-26T12:17:38.537Z"
   },
   {
    "duration": 52,
    "start_time": "2021-11-26T12:17:38.689Z"
   },
   {
    "duration": 119,
    "start_time": "2021-11-26T12:17:38.744Z"
   },
   {
    "duration": 45,
    "start_time": "2021-11-26T12:17:38.867Z"
   },
   {
    "duration": 21,
    "start_time": "2021-11-26T12:17:38.916Z"
   },
   {
    "duration": 39,
    "start_time": "2021-11-26T12:17:38.939Z"
   },
   {
    "duration": 8,
    "start_time": "2021-11-26T12:17:38.979Z"
   },
   {
    "duration": 53,
    "start_time": "2021-11-26T12:17:38.989Z"
   },
   {
    "duration": 49,
    "start_time": "2021-11-26T12:17:39.044Z"
   },
   {
    "duration": 48,
    "start_time": "2021-11-26T12:17:39.095Z"
   },
   {
    "duration": 55,
    "start_time": "2021-11-26T12:17:39.146Z"
   },
   {
    "duration": 15,
    "start_time": "2021-11-26T12:17:39.204Z"
   },
   {
    "duration": 463,
    "start_time": "2021-11-26T12:17:39.221Z"
   },
   {
    "duration": 563,
    "start_time": "2021-11-26T12:17:39.687Z"
   },
   {
    "duration": 721,
    "start_time": "2021-11-26T12:17:40.253Z"
   },
   {
    "duration": 88,
    "start_time": "2021-11-26T12:17:40.976Z"
   },
   {
    "duration": 2047,
    "start_time": "2021-11-26T12:17:41.066Z"
   },
   {
    "duration": 376,
    "start_time": "2021-11-26T12:17:43.116Z"
   },
   {
    "duration": 1976,
    "start_time": "2021-11-26T12:18:43.600Z"
   },
   {
    "duration": 1934,
    "start_time": "2021-11-26T12:19:00.822Z"
   },
   {
    "duration": 1868,
    "start_time": "2021-11-26T12:19:49.428Z"
   },
   {
    "duration": 1680,
    "start_time": "2021-11-26T12:20:43.188Z"
   },
   {
    "duration": 1599,
    "start_time": "2021-11-26T12:21:00.101Z"
   },
   {
    "duration": 1518,
    "start_time": "2021-11-26T12:21:12.084Z"
   },
   {
    "duration": 1496,
    "start_time": "2021-11-26T12:21:24.289Z"
   },
   {
    "duration": 1459,
    "start_time": "2021-11-26T12:21:32.818Z"
   },
   {
    "duration": 2175,
    "start_time": "2021-11-26T12:22:07.893Z"
   },
   {
    "duration": 2216,
    "start_time": "2021-11-26T12:22:31.107Z"
   },
   {
    "duration": 1217,
    "start_time": "2021-11-26T12:23:00.715Z"
   },
   {
    "duration": 1159,
    "start_time": "2021-11-26T12:24:54.468Z"
   },
   {
    "duration": 1197,
    "start_time": "2021-11-26T12:25:32.612Z"
   },
   {
    "duration": 1257,
    "start_time": "2021-11-26T12:25:45.218Z"
   },
   {
    "duration": 423,
    "start_time": "2021-11-26T12:25:46.478Z"
   },
   {
    "duration": 136,
    "start_time": "2021-11-26T12:25:46.909Z"
   },
   {
    "duration": 153,
    "start_time": "2021-11-26T12:25:47.047Z"
   },
   {
    "duration": 103,
    "start_time": "2021-11-26T12:25:47.202Z"
   },
   {
    "duration": 37,
    "start_time": "2021-11-26T12:25:47.307Z"
   },
   {
    "duration": 79,
    "start_time": "2021-11-26T12:25:47.347Z"
   },
   {
    "duration": 46,
    "start_time": "2021-11-26T12:25:47.428Z"
   },
   {
    "duration": 13,
    "start_time": "2021-11-26T12:25:47.477Z"
   },
   {
    "duration": 50,
    "start_time": "2021-11-26T12:25:47.492Z"
   },
   {
    "duration": 20,
    "start_time": "2021-11-26T12:25:47.544Z"
   },
   {
    "duration": 56,
    "start_time": "2021-11-26T12:25:47.566Z"
   },
   {
    "duration": 41,
    "start_time": "2021-11-26T12:25:47.624Z"
   },
   {
    "duration": 35,
    "start_time": "2021-11-26T12:25:47.667Z"
   },
   {
    "duration": 31,
    "start_time": "2021-11-26T12:25:47.704Z"
   },
   {
    "duration": 26,
    "start_time": "2021-11-26T12:25:47.737Z"
   },
   {
    "duration": 308,
    "start_time": "2021-11-26T12:25:47.765Z"
   },
   {
    "duration": 270,
    "start_time": "2021-11-26T12:25:48.075Z"
   },
   {
    "duration": 432,
    "start_time": "2021-11-26T12:25:48.346Z"
   },
   {
    "duration": 48,
    "start_time": "2021-11-26T12:25:48.780Z"
   },
   {
    "duration": 1189,
    "start_time": "2021-11-26T12:25:48.830Z"
   },
   {
    "duration": 362,
    "start_time": "2021-11-26T12:25:50.024Z"
   },
   {
    "duration": 1145,
    "start_time": "2021-11-26T12:26:03.551Z"
   },
   {
    "duration": 1048,
    "start_time": "2021-11-26T12:26:13.994Z"
   },
   {
    "duration": 2421,
    "start_time": "2021-11-26T12:26:54.927Z"
   },
   {
    "duration": 1075,
    "start_time": "2021-11-26T12:27:07.621Z"
   },
   {
    "duration": 1137,
    "start_time": "2021-11-26T12:27:30.553Z"
   },
   {
    "duration": 1187,
    "start_time": "2021-11-26T12:27:57.295Z"
   },
   {
    "duration": 7137,
    "start_time": "2021-11-26T12:29:17.837Z"
   },
   {
    "duration": 6980,
    "start_time": "2021-11-26T12:31:12.719Z"
   },
   {
    "duration": 7554,
    "start_time": "2021-11-26T12:32:44.218Z"
   },
   {
    "duration": 62,
    "start_time": "2021-11-26T12:33:44.887Z"
   },
   {
    "duration": 62,
    "start_time": "2021-11-26T12:34:22.937Z"
   },
   {
    "duration": 1049,
    "start_time": "2021-11-26T12:34:40.369Z"
   },
   {
    "duration": 4359,
    "start_time": "2021-11-26T12:35:22.018Z"
   },
   {
    "duration": 4365,
    "start_time": "2021-11-26T12:35:38.815Z"
   },
   {
    "duration": 4425,
    "start_time": "2021-11-26T12:36:55.241Z"
   },
   {
    "duration": 253,
    "start_time": "2021-11-26T12:37:42.804Z"
   },
   {
    "duration": 4099,
    "start_time": "2021-11-26T12:38:04.431Z"
   },
   {
    "duration": 4013,
    "start_time": "2021-11-26T13:19:57.972Z"
   },
   {
    "duration": 1301,
    "start_time": "2021-11-26T13:20:08.697Z"
   },
   {
    "duration": 420,
    "start_time": "2021-11-26T13:20:10.000Z"
   },
   {
    "duration": 133,
    "start_time": "2021-11-26T13:20:10.423Z"
   },
   {
    "duration": 148,
    "start_time": "2021-11-26T13:20:10.562Z"
   },
   {
    "duration": 96,
    "start_time": "2021-11-26T13:20:10.712Z"
   },
   {
    "duration": 40,
    "start_time": "2021-11-26T13:20:10.809Z"
   },
   {
    "duration": 64,
    "start_time": "2021-11-26T13:20:10.864Z"
   },
   {
    "duration": 51,
    "start_time": "2021-11-26T13:20:10.930Z"
   },
   {
    "duration": 14,
    "start_time": "2021-11-26T13:20:10.984Z"
   },
   {
    "duration": 43,
    "start_time": "2021-11-26T13:20:11.001Z"
   },
   {
    "duration": 21,
    "start_time": "2021-11-26T13:20:11.047Z"
   },
   {
    "duration": 52,
    "start_time": "2021-11-26T13:20:11.070Z"
   },
   {
    "duration": 32,
    "start_time": "2021-11-26T13:20:11.124Z"
   },
   {
    "duration": 39,
    "start_time": "2021-11-26T13:20:11.158Z"
   },
   {
    "duration": 29,
    "start_time": "2021-11-26T13:20:11.198Z"
   },
   {
    "duration": 9,
    "start_time": "2021-11-26T13:20:11.229Z"
   },
   {
    "duration": 285,
    "start_time": "2021-11-26T13:20:11.240Z"
   },
   {
    "duration": 264,
    "start_time": "2021-11-26T13:20:11.527Z"
   },
   {
    "duration": 378,
    "start_time": "2021-11-26T13:20:11.794Z"
   },
   {
    "duration": 47,
    "start_time": "2021-11-26T13:20:12.174Z"
   },
   {
    "duration": 1051,
    "start_time": "2021-11-26T13:20:12.223Z"
   },
   {
    "duration": 61,
    "start_time": "2021-11-26T13:20:13.275Z"
   },
   {
    "duration": 4229,
    "start_time": "2021-11-26T13:20:13.339Z"
   },
   {
    "duration": 4409,
    "start_time": "2021-11-26T13:20:17.569Z"
   },
   {
    "duration": 4503,
    "start_time": "2021-11-26T13:23:15.190Z"
   },
   {
    "duration": 4,
    "start_time": "2021-11-26T13:31:51.801Z"
   },
   {
    "duration": 4,
    "start_time": "2021-11-26T13:32:23.916Z"
   },
   {
    "duration": 5,
    "start_time": "2021-11-26T13:34:46.221Z"
   },
   {
    "duration": 1252,
    "start_time": "2021-11-26T13:34:56.843Z"
   },
   {
    "duration": 443,
    "start_time": "2021-11-26T13:34:58.098Z"
   },
   {
    "duration": 148,
    "start_time": "2021-11-26T13:34:58.544Z"
   },
   {
    "duration": 170,
    "start_time": "2021-11-26T13:34:58.694Z"
   },
   {
    "duration": 109,
    "start_time": "2021-11-26T13:34:58.866Z"
   },
   {
    "duration": 39,
    "start_time": "2021-11-26T13:34:58.976Z"
   },
   {
    "duration": 91,
    "start_time": "2021-11-26T13:34:59.017Z"
   },
   {
    "duration": 34,
    "start_time": "2021-11-26T13:34:59.110Z"
   },
   {
    "duration": 36,
    "start_time": "2021-11-26T13:34:59.147Z"
   },
   {
    "duration": 16,
    "start_time": "2021-11-26T13:34:59.185Z"
   },
   {
    "duration": 9,
    "start_time": "2021-11-26T13:34:59.202Z"
   },
   {
    "duration": 67,
    "start_time": "2021-11-26T13:34:59.212Z"
   },
   {
    "duration": 37,
    "start_time": "2021-11-26T13:34:59.281Z"
   },
   {
    "duration": 58,
    "start_time": "2021-11-26T13:34:59.320Z"
   },
   {
    "duration": 33,
    "start_time": "2021-11-26T13:34:59.380Z"
   },
   {
    "duration": 12,
    "start_time": "2021-11-26T13:34:59.415Z"
   },
   {
    "duration": 285,
    "start_time": "2021-11-26T13:34:59.429Z"
   },
   {
    "duration": 275,
    "start_time": "2021-11-26T13:34:59.716Z"
   },
   {
    "duration": 404,
    "start_time": "2021-11-26T13:34:59.993Z"
   },
   {
    "duration": 63,
    "start_time": "2021-11-26T13:35:00.400Z"
   },
   {
    "duration": 1081,
    "start_time": "2021-11-26T13:35:00.466Z"
   },
   {
    "duration": 70,
    "start_time": "2021-11-26T13:35:01.549Z"
   },
   {
    "duration": 4074,
    "start_time": "2021-11-26T13:35:01.622Z"
   },
   {
    "duration": 4160,
    "start_time": "2021-11-26T13:35:05.698Z"
   },
   {
    "duration": 5,
    "start_time": "2021-11-26T13:35:09.859Z"
   },
   {
    "duration": 7,
    "start_time": "2021-11-26T13:36:03.941Z"
   },
   {
    "duration": 11,
    "start_time": "2021-11-26T13:36:29.861Z"
   },
   {
    "duration": 8,
    "start_time": "2021-11-26T13:39:56.534Z"
   },
   {
    "duration": 8,
    "start_time": "2021-11-26T13:40:30.393Z"
   },
   {
    "duration": 7,
    "start_time": "2021-11-26T13:41:54.291Z"
   },
   {
    "duration": 8,
    "start_time": "2021-11-26T13:42:32.792Z"
   },
   {
    "duration": 6,
    "start_time": "2021-11-26T13:43:00.926Z"
   },
   {
    "duration": 5,
    "start_time": "2021-11-26T13:43:17.140Z"
   },
   {
    "duration": 5,
    "start_time": "2021-11-26T13:45:16.380Z"
   },
   {
    "duration": 5,
    "start_time": "2021-11-26T13:45:25.012Z"
   },
   {
    "duration": 83,
    "start_time": "2021-11-26T13:46:19.910Z"
   },
   {
    "duration": 6,
    "start_time": "2021-11-26T13:46:25.557Z"
   },
   {
    "duration": 14,
    "start_time": "2021-11-26T13:46:58.384Z"
   },
   {
    "duration": 9,
    "start_time": "2021-11-26T13:47:36.744Z"
   },
   {
    "duration": 6,
    "start_time": "2021-11-26T13:48:05.005Z"
   },
   {
    "duration": 10,
    "start_time": "2021-11-26T13:48:44.722Z"
   },
   {
    "duration": 10,
    "start_time": "2021-11-26T13:48:55.357Z"
   },
   {
    "duration": 10,
    "start_time": "2021-11-26T13:49:05.116Z"
   },
   {
    "duration": 8,
    "start_time": "2021-11-26T13:49:17.917Z"
   },
   {
    "duration": 4,
    "start_time": "2021-11-26T13:49:23.380Z"
   },
   {
    "duration": 4,
    "start_time": "2021-11-26T13:53:59.391Z"
   },
   {
    "duration": 7,
    "start_time": "2021-11-26T13:56:00.951Z"
   },
   {
    "duration": 3,
    "start_time": "2021-11-26T14:04:20.901Z"
   },
   {
    "duration": 15,
    "start_time": "2021-11-26T14:04:36.270Z"
   },
   {
    "duration": 26,
    "start_time": "2021-11-26T14:05:04.035Z"
   },
   {
    "duration": 9,
    "start_time": "2021-11-26T14:07:44.155Z"
   },
   {
    "duration": 336,
    "start_time": "2021-11-26T14:07:53.798Z"
   },
   {
    "duration": 20,
    "start_time": "2021-11-26T14:07:58.820Z"
   },
   {
    "duration": 19,
    "start_time": "2021-11-26T14:08:37.831Z"
   },
   {
    "duration": 1260,
    "start_time": "2021-11-26T14:08:46.437Z"
   },
   {
    "duration": 430,
    "start_time": "2021-11-26T14:08:47.699Z"
   },
   {
    "duration": 146,
    "start_time": "2021-11-26T14:08:48.132Z"
   },
   {
    "duration": 159,
    "start_time": "2021-11-26T14:08:48.280Z"
   },
   {
    "duration": 110,
    "start_time": "2021-11-26T14:08:48.441Z"
   },
   {
    "duration": 38,
    "start_time": "2021-11-26T14:08:48.564Z"
   },
   {
    "duration": 82,
    "start_time": "2021-11-26T14:08:48.604Z"
   },
   {
    "duration": 35,
    "start_time": "2021-11-26T14:08:48.688Z"
   },
   {
    "duration": 14,
    "start_time": "2021-11-26T14:08:48.726Z"
   },
   {
    "duration": 36,
    "start_time": "2021-11-26T14:08:48.743Z"
   },
   {
    "duration": 10,
    "start_time": "2021-11-26T14:08:48.781Z"
   },
   {
    "duration": 44,
    "start_time": "2021-11-26T14:08:48.793Z"
   },
   {
    "duration": 38,
    "start_time": "2021-11-26T14:08:48.863Z"
   },
   {
    "duration": 38,
    "start_time": "2021-11-26T14:08:48.903Z"
   },
   {
    "duration": 52,
    "start_time": "2021-11-26T14:08:48.943Z"
   },
   {
    "duration": 11,
    "start_time": "2021-11-26T14:08:48.997Z"
   },
   {
    "duration": 283,
    "start_time": "2021-11-26T14:08:49.010Z"
   },
   {
    "duration": 272,
    "start_time": "2021-11-26T14:08:49.295Z"
   },
   {
    "duration": 396,
    "start_time": "2021-11-26T14:08:49.569Z"
   },
   {
    "duration": 47,
    "start_time": "2021-11-26T14:08:49.967Z"
   },
   {
    "duration": 1258,
    "start_time": "2021-11-26T14:08:50.017Z"
   },
   {
    "duration": 65,
    "start_time": "2021-11-26T14:08:51.277Z"
   },
   {
    "duration": 4237,
    "start_time": "2021-11-26T14:08:51.344Z"
   },
   {
    "duration": 4099,
    "start_time": "2021-11-26T14:08:55.582Z"
   },
   {
    "duration": 5,
    "start_time": "2021-11-26T14:08:59.683Z"
   },
   {
    "duration": 21,
    "start_time": "2021-11-26T14:08:59.691Z"
   },
   {
    "duration": 9,
    "start_time": "2021-11-26T14:10:46.860Z"
   },
   {
    "duration": 14,
    "start_time": "2021-11-26T14:13:23.234Z"
   },
   {
    "duration": 9,
    "start_time": "2021-11-26T14:14:29.075Z"
   },
   {
    "duration": 1524,
    "start_time": "2021-11-26T14:42:25.585Z"
   },
   {
    "duration": 572,
    "start_time": "2021-11-26T14:42:27.112Z"
   },
   {
    "duration": 197,
    "start_time": "2021-11-26T14:42:27.686Z"
   },
   {
    "duration": 251,
    "start_time": "2021-11-26T14:42:27.885Z"
   },
   {
    "duration": 144,
    "start_time": "2021-11-26T14:42:28.138Z"
   },
   {
    "duration": 36,
    "start_time": "2021-11-26T14:42:28.284Z"
   },
   {
    "duration": 80,
    "start_time": "2021-11-26T14:42:28.322Z"
   },
   {
    "duration": 32,
    "start_time": "2021-11-26T14:42:28.405Z"
   },
   {
    "duration": 31,
    "start_time": "2021-11-26T14:42:28.439Z"
   },
   {
    "duration": 18,
    "start_time": "2021-11-26T14:42:28.472Z"
   },
   {
    "duration": 8,
    "start_time": "2021-11-26T14:42:28.492Z"
   },
   {
    "duration": 68,
    "start_time": "2021-11-26T14:42:28.502Z"
   },
   {
    "duration": 33,
    "start_time": "2021-11-26T14:42:28.571Z"
   },
   {
    "duration": 32,
    "start_time": "2021-11-26T14:42:28.606Z"
   },
   {
    "duration": 47,
    "start_time": "2021-11-26T14:42:28.640Z"
   },
   {
    "duration": 10,
    "start_time": "2021-11-26T14:42:28.689Z"
   },
   {
    "duration": 280,
    "start_time": "2021-11-26T14:42:28.701Z"
   },
   {
    "duration": 260,
    "start_time": "2021-11-26T14:42:28.982Z"
   },
   {
    "duration": 377,
    "start_time": "2021-11-26T14:42:29.244Z"
   },
   {
    "duration": 55,
    "start_time": "2021-11-26T14:42:29.623Z"
   },
   {
    "duration": 1067,
    "start_time": "2021-11-26T14:42:29.680Z"
   },
   {
    "duration": 62,
    "start_time": "2021-11-26T14:42:30.749Z"
   },
   {
    "duration": 4342,
    "start_time": "2021-11-26T14:42:30.815Z"
   },
   {
    "duration": 4713,
    "start_time": "2021-11-26T14:42:35.159Z"
   },
   {
    "duration": 7,
    "start_time": "2021-11-26T14:42:39.874Z"
   },
   {
    "duration": 11,
    "start_time": "2021-11-26T14:42:39.883Z"
   },
   {
    "duration": 8,
    "start_time": "2021-11-26T14:42:39.896Z"
   },
   {
    "duration": 15,
    "start_time": "2021-11-26T14:42:39.906Z"
   },
   {
    "duration": 48,
    "start_time": "2021-11-26T14:42:52.524Z"
   },
   {
    "duration": 129,
    "start_time": "2021-11-26T14:43:04.613Z"
   },
   {
    "duration": 49,
    "start_time": "2021-11-26T14:43:25.497Z"
   },
   {
    "duration": 49,
    "start_time": "2021-11-26T14:44:08.782Z"
   },
   {
    "duration": 62,
    "start_time": "2021-11-26T14:44:16.379Z"
   },
   {
    "duration": 22,
    "start_time": "2021-11-26T14:45:40.695Z"
   },
   {
    "duration": 4652,
    "start_time": "2021-11-26T14:46:20.664Z"
   },
   {
    "duration": 4883,
    "start_time": "2021-11-26T14:46:35.974Z"
   },
   {
    "duration": 1251,
    "start_time": "2021-11-26T14:46:49.145Z"
   },
   {
    "duration": 422,
    "start_time": "2021-11-26T14:46:50.398Z"
   },
   {
    "duration": 150,
    "start_time": "2021-11-26T14:46:50.822Z"
   },
   {
    "duration": 183,
    "start_time": "2021-11-26T14:46:50.974Z"
   },
   {
    "duration": 139,
    "start_time": "2021-11-26T14:46:51.159Z"
   },
   {
    "duration": 52,
    "start_time": "2021-11-26T14:46:51.300Z"
   },
   {
    "duration": 105,
    "start_time": "2021-11-26T14:46:51.355Z"
   },
   {
    "duration": 45,
    "start_time": "2021-11-26T14:46:51.465Z"
   },
   {
    "duration": 19,
    "start_time": "2021-11-26T14:46:51.513Z"
   },
   {
    "duration": 36,
    "start_time": "2021-11-26T14:46:51.534Z"
   },
   {
    "duration": 8,
    "start_time": "2021-11-26T14:46:51.572Z"
   },
   {
    "duration": 55,
    "start_time": "2021-11-26T14:46:51.582Z"
   },
   {
    "duration": 47,
    "start_time": "2021-11-26T14:46:51.639Z"
   },
   {
    "duration": 47,
    "start_time": "2021-11-26T14:46:51.688Z"
   },
   {
    "duration": 53,
    "start_time": "2021-11-26T14:46:51.737Z"
   },
   {
    "duration": 441,
    "start_time": "2021-11-26T14:46:51.792Z"
   },
   {
    "duration": 641,
    "start_time": "2021-11-26T14:46:51.594Z"
   },
   {
    "duration": 639,
    "start_time": "2021-11-26T14:46:51.597Z"
   },
   {
    "duration": 639,
    "start_time": "2021-11-26T14:46:51.599Z"
   },
   {
    "duration": 638,
    "start_time": "2021-11-26T14:46:51.601Z"
   },
   {
    "duration": 626,
    "start_time": "2021-11-26T14:46:51.614Z"
   },
   {
    "duration": 624,
    "start_time": "2021-11-26T14:46:51.617Z"
   },
   {
    "duration": 622,
    "start_time": "2021-11-26T14:46:51.620Z"
   },
   {
    "duration": 611,
    "start_time": "2021-11-26T14:46:51.633Z"
   },
   {
    "duration": 609,
    "start_time": "2021-11-26T14:46:51.636Z"
   },
   {
    "duration": 603,
    "start_time": "2021-11-26T14:46:51.643Z"
   },
   {
    "duration": 602,
    "start_time": "2021-11-26T14:46:51.645Z"
   },
   {
    "duration": 256,
    "start_time": "2021-11-26T14:47:16.743Z"
   },
   {
    "duration": 284,
    "start_time": "2021-11-26T14:48:38.649Z"
   },
   {
    "duration": 274,
    "start_time": "2021-11-26T14:50:49.582Z"
   },
   {
    "duration": 1231,
    "start_time": "2021-11-26T14:51:23.354Z"
   },
   {
    "duration": 416,
    "start_time": "2021-11-26T14:51:24.587Z"
   },
   {
    "duration": 141,
    "start_time": "2021-11-26T14:51:25.005Z"
   },
   {
    "duration": 159,
    "start_time": "2021-11-26T14:51:25.148Z"
   },
   {
    "duration": 103,
    "start_time": "2021-11-26T14:51:25.308Z"
   },
   {
    "duration": 37,
    "start_time": "2021-11-26T14:51:25.413Z"
   },
   {
    "duration": 64,
    "start_time": "2021-11-26T14:51:25.463Z"
   },
   {
    "duration": 41,
    "start_time": "2021-11-26T14:51:25.530Z"
   },
   {
    "duration": 13,
    "start_time": "2021-11-26T14:51:25.573Z"
   },
   {
    "duration": 16,
    "start_time": "2021-11-26T14:51:25.588Z"
   },
   {
    "duration": 7,
    "start_time": "2021-11-26T14:51:25.606Z"
   },
   {
    "duration": 78,
    "start_time": "2021-11-26T14:51:25.615Z"
   },
   {
    "duration": 45,
    "start_time": "2021-11-26T14:51:25.694Z"
   },
   {
    "duration": 63,
    "start_time": "2021-11-26T14:51:25.741Z"
   },
   {
    "duration": 43,
    "start_time": "2021-11-26T14:51:25.805Z"
   },
   {
    "duration": 277,
    "start_time": "2021-11-26T14:51:25.864Z"
   },
   {
    "duration": 261,
    "start_time": "2021-11-26T14:51:26.143Z"
   },
   {
    "duration": 367,
    "start_time": "2021-11-26T14:51:26.405Z"
   },
   {
    "duration": 44,
    "start_time": "2021-11-26T14:51:26.778Z"
   },
   {
    "duration": 992,
    "start_time": "2021-11-26T14:51:26.824Z"
   },
   {
    "duration": 70,
    "start_time": "2021-11-26T14:51:27.817Z"
   },
   {
    "duration": 3885,
    "start_time": "2021-11-26T14:51:27.889Z"
   },
   {
    "duration": 3865,
    "start_time": "2021-11-26T14:51:31.776Z"
   },
   {
    "duration": 6,
    "start_time": "2021-11-26T14:51:35.644Z"
   },
   {
    "duration": 12,
    "start_time": "2021-11-26T14:51:35.664Z"
   },
   {
    "duration": 11,
    "start_time": "2021-11-26T14:51:35.678Z"
   },
   {
    "duration": 13,
    "start_time": "2021-11-26T14:51:35.691Z"
   },
   {
    "duration": 1522,
    "start_time": "2021-11-26T14:51:44.869Z"
   },
   {
    "duration": 1285,
    "start_time": "2021-11-26T14:52:26.542Z"
   },
   {
    "duration": 487,
    "start_time": "2021-11-26T14:52:27.830Z"
   },
   {
    "duration": 152,
    "start_time": "2021-11-26T14:52:28.319Z"
   },
   {
    "duration": 191,
    "start_time": "2021-11-26T14:52:28.473Z"
   },
   {
    "duration": 145,
    "start_time": "2021-11-26T14:52:28.667Z"
   },
   {
    "duration": 49,
    "start_time": "2021-11-26T14:52:28.814Z"
   },
   {
    "duration": 109,
    "start_time": "2021-11-26T14:52:28.866Z"
   },
   {
    "duration": 32,
    "start_time": "2021-11-26T14:52:28.978Z"
   },
   {
    "duration": 54,
    "start_time": "2021-11-26T14:52:29.012Z"
   },
   {
    "duration": 68,
    "start_time": "2021-11-26T14:52:29.068Z"
   },
   {
    "duration": 38,
    "start_time": "2021-11-26T14:52:29.138Z"
   },
   {
    "duration": 84,
    "start_time": "2021-11-26T14:52:29.178Z"
   },
   {
    "duration": 51,
    "start_time": "2021-11-26T14:52:29.264Z"
   },
   {
    "duration": 71,
    "start_time": "2021-11-26T14:52:29.317Z"
   },
   {
    "duration": 48,
    "start_time": "2021-11-26T14:52:29.390Z"
   },
   {
    "duration": 325,
    "start_time": "2021-11-26T14:52:29.440Z"
   },
   {
    "duration": 352,
    "start_time": "2021-11-26T14:52:29.768Z"
   },
   {
    "duration": 424,
    "start_time": "2021-11-26T14:52:30.122Z"
   },
   {
    "duration": 52,
    "start_time": "2021-11-26T14:52:30.548Z"
   },
   {
    "duration": 1252,
    "start_time": "2021-11-26T14:52:30.603Z"
   },
   {
    "duration": 55,
    "start_time": "2021-11-26T14:52:31.857Z"
   },
   {
    "duration": 4183,
    "start_time": "2021-11-26T14:52:31.913Z"
   },
   {
    "duration": 4391,
    "start_time": "2021-11-26T14:52:36.099Z"
   },
   {
    "duration": 5,
    "start_time": "2021-11-26T14:52:40.492Z"
   },
   {
    "duration": 19,
    "start_time": "2021-11-26T14:52:40.498Z"
   },
   {
    "duration": 8,
    "start_time": "2021-11-26T14:52:40.519Z"
   },
   {
    "duration": 10,
    "start_time": "2021-11-26T14:52:40.529Z"
   },
   {
    "duration": 2595,
    "start_time": "2021-11-26T14:53:22.600Z"
   },
   {
    "duration": 1215,
    "start_time": "2021-11-26T14:53:33.944Z"
   },
   {
    "duration": 426,
    "start_time": "2021-11-26T14:53:35.163Z"
   },
   {
    "duration": 134,
    "start_time": "2021-11-26T14:53:35.591Z"
   },
   {
    "duration": 152,
    "start_time": "2021-11-26T14:53:35.727Z"
   },
   {
    "duration": 102,
    "start_time": "2021-11-26T14:53:35.880Z"
   },
   {
    "duration": 37,
    "start_time": "2021-11-26T14:53:35.983Z"
   },
   {
    "duration": 75,
    "start_time": "2021-11-26T14:53:36.022Z"
   },
   {
    "duration": 30,
    "start_time": "2021-11-26T14:53:36.100Z"
   },
   {
    "duration": 33,
    "start_time": "2021-11-26T14:53:36.132Z"
   },
   {
    "duration": 20,
    "start_time": "2021-11-26T14:53:36.167Z"
   },
   {
    "duration": 7,
    "start_time": "2021-11-26T14:53:36.189Z"
   },
   {
    "duration": 67,
    "start_time": "2021-11-26T14:53:36.197Z"
   },
   {
    "duration": 43,
    "start_time": "2021-11-26T14:53:36.265Z"
   },
   {
    "duration": 57,
    "start_time": "2021-11-26T14:53:36.310Z"
   },
   {
    "duration": 42,
    "start_time": "2021-11-26T14:53:36.369Z"
   },
   {
    "duration": 293,
    "start_time": "2021-11-26T14:53:36.412Z"
   },
   {
    "duration": 391,
    "start_time": "2021-11-26T14:53:36.707Z"
   },
   {
    "duration": 381,
    "start_time": "2021-11-26T14:53:37.100Z"
   },
   {
    "duration": 45,
    "start_time": "2021-11-26T14:53:37.483Z"
   },
   {
    "duration": 1039,
    "start_time": "2021-11-26T14:53:37.530Z"
   },
   {
    "duration": 52,
    "start_time": "2021-11-26T14:53:38.571Z"
   },
   {
    "duration": 4363,
    "start_time": "2021-11-26T14:53:38.625Z"
   },
   {
    "duration": 5489,
    "start_time": "2021-11-26T14:53:42.992Z"
   },
   {
    "duration": 6,
    "start_time": "2021-11-26T14:53:48.484Z"
   },
   {
    "duration": 19,
    "start_time": "2021-11-26T14:53:48.492Z"
   },
   {
    "duration": 10,
    "start_time": "2021-11-26T14:53:48.514Z"
   },
   {
    "duration": 41,
    "start_time": "2021-11-26T14:53:48.526Z"
   },
   {
    "duration": 85,
    "start_time": "2021-11-26T14:54:05.658Z"
   },
   {
    "duration": 87,
    "start_time": "2021-11-26T14:54:40.267Z"
   },
   {
    "duration": 1028,
    "start_time": "2021-11-26T14:59:58.918Z"
   },
   {
    "duration": 7,
    "start_time": "2021-11-26T15:00:38.615Z"
   },
   {
    "duration": 1150,
    "start_time": "2021-11-26T15:00:43.165Z"
   },
   {
    "duration": 7,
    "start_time": "2021-11-26T15:01:13.792Z"
   },
   {
    "duration": 58,
    "start_time": "2021-11-26T15:01:49.282Z"
   },
   {
    "duration": 73,
    "start_time": "2021-11-26T15:01:59.047Z"
   },
   {
    "duration": 60,
    "start_time": "2021-11-26T15:02:22.697Z"
   },
   {
    "duration": 10,
    "start_time": "2021-11-26T15:04:11.331Z"
   },
   {
    "duration": 9,
    "start_time": "2021-11-26T15:04:33.396Z"
   },
   {
    "duration": 1313,
    "start_time": "2021-11-26T15:05:14.352Z"
   },
   {
    "duration": 466,
    "start_time": "2021-11-26T15:05:15.667Z"
   },
   {
    "duration": 144,
    "start_time": "2021-11-26T15:05:16.135Z"
   },
   {
    "duration": 165,
    "start_time": "2021-11-26T15:05:16.281Z"
   },
   {
    "duration": 118,
    "start_time": "2021-11-26T15:05:16.447Z"
   },
   {
    "duration": 44,
    "start_time": "2021-11-26T15:05:16.567Z"
   },
   {
    "duration": 83,
    "start_time": "2021-11-26T15:05:16.613Z"
   },
   {
    "duration": 48,
    "start_time": "2021-11-26T15:05:16.700Z"
   },
   {
    "duration": 33,
    "start_time": "2021-11-26T15:05:16.751Z"
   },
   {
    "duration": 17,
    "start_time": "2021-11-26T15:05:16.786Z"
   },
   {
    "duration": 9,
    "start_time": "2021-11-26T15:05:16.805Z"
   },
   {
    "duration": 83,
    "start_time": "2021-11-26T15:05:16.817Z"
   },
   {
    "duration": 45,
    "start_time": "2021-11-26T15:05:16.901Z"
   },
   {
    "duration": 61,
    "start_time": "2021-11-26T15:05:16.948Z"
   },
   {
    "duration": 60,
    "start_time": "2021-11-26T15:05:17.011Z"
   },
   {
    "duration": 291,
    "start_time": "2021-11-26T15:05:17.073Z"
   },
   {
    "duration": 295,
    "start_time": "2021-11-26T15:05:17.366Z"
   },
   {
    "duration": 594,
    "start_time": "2021-11-26T15:05:17.663Z"
   },
   {
    "duration": 69,
    "start_time": "2021-11-26T15:05:18.259Z"
   },
   {
    "duration": 1106,
    "start_time": "2021-11-26T15:05:18.331Z"
   },
   {
    "duration": 6,
    "start_time": "2021-11-26T15:05:19.439Z"
   },
   {
    "duration": 75,
    "start_time": "2021-11-26T15:05:19.446Z"
   },
   {
    "duration": 4310,
    "start_time": "2021-11-26T15:05:19.524Z"
   },
   {
    "duration": 4080,
    "start_time": "2021-11-26T15:05:23.836Z"
   },
   {
    "duration": 6,
    "start_time": "2021-11-26T15:05:27.918Z"
   },
   {
    "duration": 24,
    "start_time": "2021-11-26T15:05:27.926Z"
   },
   {
    "duration": 39,
    "start_time": "2021-11-26T15:05:27.952Z"
   },
   {
    "duration": 20,
    "start_time": "2021-11-26T15:05:27.993Z"
   },
   {
    "duration": 6,
    "start_time": "2021-11-26T15:07:30.709Z"
   },
   {
    "duration": 1480,
    "start_time": "2021-11-26T15:07:37.710Z"
   },
   {
    "duration": 629,
    "start_time": "2021-11-26T15:07:39.193Z"
   },
   {
    "duration": 217,
    "start_time": "2021-11-26T15:07:39.825Z"
   },
   {
    "duration": 251,
    "start_time": "2021-11-26T15:07:40.045Z"
   },
   {
    "duration": 110,
    "start_time": "2021-11-26T15:07:40.298Z"
   },
   {
    "duration": 53,
    "start_time": "2021-11-26T15:07:40.410Z"
   },
   {
    "duration": 72,
    "start_time": "2021-11-26T15:07:40.466Z"
   },
   {
    "duration": 53,
    "start_time": "2021-11-26T15:07:40.541Z"
   },
   {
    "duration": 14,
    "start_time": "2021-11-26T15:07:40.597Z"
   },
   {
    "duration": 31,
    "start_time": "2021-11-26T15:07:40.613Z"
   },
   {
    "duration": 26,
    "start_time": "2021-11-26T15:07:40.645Z"
   },
   {
    "duration": 58,
    "start_time": "2021-11-26T15:07:40.672Z"
   },
   {
    "duration": 60,
    "start_time": "2021-11-26T15:07:40.732Z"
   },
   {
    "duration": 69,
    "start_time": "2021-11-26T15:07:40.794Z"
   },
   {
    "duration": 45,
    "start_time": "2021-11-26T15:07:40.865Z"
   },
   {
    "duration": 308,
    "start_time": "2021-11-26T15:07:40.912Z"
   },
   {
    "duration": 289,
    "start_time": "2021-11-26T15:07:41.222Z"
   },
   {
    "duration": 395,
    "start_time": "2021-11-26T15:07:41.513Z"
   },
   {
    "duration": 67,
    "start_time": "2021-11-26T15:07:41.910Z"
   },
   {
    "duration": 1066,
    "start_time": "2021-11-26T15:07:41.979Z"
   },
   {
    "duration": 5,
    "start_time": "2021-11-26T15:07:43.046Z"
   },
   {
    "duration": 76,
    "start_time": "2021-11-26T15:07:43.063Z"
   },
   {
    "duration": 4179,
    "start_time": "2021-11-26T15:07:43.143Z"
   },
   {
    "duration": 4154,
    "start_time": "2021-11-26T15:07:47.324Z"
   },
   {
    "duration": 7,
    "start_time": "2021-11-26T15:07:51.481Z"
   },
   {
    "duration": 14,
    "start_time": "2021-11-26T15:07:51.490Z"
   },
   {
    "duration": 10,
    "start_time": "2021-11-26T15:07:51.506Z"
   },
   {
    "duration": 47,
    "start_time": "2021-11-26T15:07:51.518Z"
   },
   {
    "duration": 1332,
    "start_time": "2021-11-26T15:09:36.046Z"
   },
   {
    "duration": 448,
    "start_time": "2021-11-26T15:09:37.380Z"
   },
   {
    "duration": 141,
    "start_time": "2021-11-26T15:09:37.830Z"
   },
   {
    "duration": 162,
    "start_time": "2021-11-26T15:09:37.973Z"
   },
   {
    "duration": 105,
    "start_time": "2021-11-26T15:09:38.137Z"
   },
   {
    "duration": 39,
    "start_time": "2021-11-26T15:09:38.243Z"
   },
   {
    "duration": 81,
    "start_time": "2021-11-26T15:09:38.284Z"
   },
   {
    "duration": 36,
    "start_time": "2021-11-26T15:09:38.368Z"
   },
   {
    "duration": 13,
    "start_time": "2021-11-26T15:09:38.406Z"
   },
   {
    "duration": 17,
    "start_time": "2021-11-26T15:09:38.421Z"
   },
   {
    "duration": 9,
    "start_time": "2021-11-26T15:09:38.464Z"
   },
   {
    "duration": 52,
    "start_time": "2021-11-26T15:09:38.474Z"
   },
   {
    "duration": 67,
    "start_time": "2021-11-26T15:09:38.528Z"
   },
   {
    "duration": 49,
    "start_time": "2021-11-26T15:09:38.597Z"
   },
   {
    "duration": 51,
    "start_time": "2021-11-26T15:09:38.648Z"
   },
   {
    "duration": 296,
    "start_time": "2021-11-26T15:09:38.701Z"
   },
   {
    "duration": 291,
    "start_time": "2021-11-26T15:09:38.999Z"
   },
   {
    "duration": 694,
    "start_time": "2021-11-26T15:09:39.292Z"
   },
   {
    "duration": 77,
    "start_time": "2021-11-26T15:09:39.988Z"
   },
   {
    "duration": 1160,
    "start_time": "2021-11-26T15:09:40.067Z"
   },
   {
    "duration": 6,
    "start_time": "2021-11-26T15:09:41.229Z"
   },
   {
    "duration": 77,
    "start_time": "2021-11-26T15:09:41.237Z"
   },
   {
    "duration": 4547,
    "start_time": "2021-11-26T15:09:41.317Z"
   },
   {
    "duration": 6355,
    "start_time": "2021-11-26T15:09:45.866Z"
   },
   {
    "duration": 7,
    "start_time": "2021-11-26T15:09:52.224Z"
   },
   {
    "duration": 18,
    "start_time": "2021-11-26T15:09:52.232Z"
   },
   {
    "duration": 18,
    "start_time": "2021-11-26T15:09:52.252Z"
   },
   {
    "duration": 16,
    "start_time": "2021-11-26T15:09:52.272Z"
   },
   {
    "duration": 1446,
    "start_time": "2021-11-26T15:11:03.924Z"
   },
   {
    "duration": 1659,
    "start_time": "2021-11-26T15:11:12.414Z"
   },
   {
    "duration": 1484,
    "start_time": "2021-11-26T15:11:23.241Z"
   },
   {
    "duration": 1561,
    "start_time": "2021-11-26T15:11:31.972Z"
   },
   {
    "duration": 588,
    "start_time": "2021-11-26T15:11:33.536Z"
   },
   {
    "duration": 161,
    "start_time": "2021-11-26T15:11:34.127Z"
   },
   {
    "duration": 172,
    "start_time": "2021-11-26T15:11:34.292Z"
   },
   {
    "duration": 125,
    "start_time": "2021-11-26T15:11:34.467Z"
   },
   {
    "duration": 70,
    "start_time": "2021-11-26T15:11:34.595Z"
   },
   {
    "duration": 127,
    "start_time": "2021-11-26T15:11:34.668Z"
   },
   {
    "duration": 48,
    "start_time": "2021-11-26T15:11:34.799Z"
   },
   {
    "duration": 22,
    "start_time": "2021-11-26T15:11:34.864Z"
   },
   {
    "duration": 26,
    "start_time": "2021-11-26T15:11:34.889Z"
   },
   {
    "duration": 13,
    "start_time": "2021-11-26T15:11:34.918Z"
   },
   {
    "duration": 111,
    "start_time": "2021-11-26T15:11:34.934Z"
   },
   {
    "duration": 88,
    "start_time": "2021-11-26T15:11:35.048Z"
   },
   {
    "duration": 91,
    "start_time": "2021-11-26T15:11:35.138Z"
   },
   {
    "duration": 80,
    "start_time": "2021-11-26T15:11:35.231Z"
   },
   {
    "duration": 502,
    "start_time": "2021-11-26T15:11:35.314Z"
   },
   {
    "duration": 302,
    "start_time": "2021-11-26T15:11:35.819Z"
   },
   {
    "duration": 434,
    "start_time": "2021-11-26T15:11:36.124Z"
   },
   {
    "duration": 65,
    "start_time": "2021-11-26T15:11:36.560Z"
   },
   {
    "duration": 1740,
    "start_time": "2021-11-26T15:11:36.627Z"
   },
   {
    "duration": 5,
    "start_time": "2021-11-26T15:11:38.369Z"
   },
   {
    "duration": 87,
    "start_time": "2021-11-26T15:11:38.376Z"
   },
   {
    "duration": 5090,
    "start_time": "2021-11-26T15:11:38.468Z"
   },
   {
    "duration": 4718,
    "start_time": "2021-11-26T15:11:43.564Z"
   },
   {
    "duration": 8,
    "start_time": "2021-11-26T15:11:48.285Z"
   },
   {
    "duration": 21,
    "start_time": "2021-11-26T15:11:48.295Z"
   },
   {
    "duration": 10,
    "start_time": "2021-11-26T15:11:48.318Z"
   },
   {
    "duration": 34,
    "start_time": "2021-11-26T15:11:48.331Z"
   },
   {
    "duration": 1204,
    "start_time": "2021-11-26T18:07:12.913Z"
   },
   {
    "duration": 441,
    "start_time": "2021-11-26T18:07:14.119Z"
   },
   {
    "duration": 150,
    "start_time": "2021-11-26T18:07:14.562Z"
   },
   {
    "duration": 162,
    "start_time": "2021-11-26T18:07:14.715Z"
   },
   {
    "duration": 108,
    "start_time": "2021-11-26T18:07:14.880Z"
   },
   {
    "duration": 41,
    "start_time": "2021-11-26T18:07:14.990Z"
   },
   {
    "duration": 100,
    "start_time": "2021-11-26T18:07:15.033Z"
   },
   {
    "duration": 44,
    "start_time": "2021-11-26T18:07:15.136Z"
   },
   {
    "duration": 44,
    "start_time": "2021-11-26T18:07:15.183Z"
   },
   {
    "duration": 20,
    "start_time": "2021-11-26T18:07:15.229Z"
   },
   {
    "duration": 28,
    "start_time": "2021-11-26T18:07:15.252Z"
   },
   {
    "duration": 54,
    "start_time": "2021-11-26T18:07:15.282Z"
   },
   {
    "duration": 51,
    "start_time": "2021-11-26T18:07:15.338Z"
   },
   {
    "duration": 50,
    "start_time": "2021-11-26T18:07:15.391Z"
   },
   {
    "duration": 62,
    "start_time": "2021-11-26T18:07:15.443Z"
   },
   {
    "duration": 299,
    "start_time": "2021-11-26T18:07:15.507Z"
   },
   {
    "duration": 283,
    "start_time": "2021-11-26T18:07:15.808Z"
   },
   {
    "duration": 405,
    "start_time": "2021-11-26T18:07:16.093Z"
   },
   {
    "duration": 71,
    "start_time": "2021-11-26T18:07:16.500Z"
   },
   {
    "duration": 1110,
    "start_time": "2021-11-26T18:07:16.573Z"
   },
   {
    "duration": 6,
    "start_time": "2021-11-26T18:07:17.685Z"
   },
   {
    "duration": 84,
    "start_time": "2021-11-26T18:07:17.693Z"
   },
   {
    "duration": 4553,
    "start_time": "2021-11-26T18:07:17.780Z"
   },
   {
    "duration": 4487,
    "start_time": "2021-11-26T18:07:22.335Z"
   },
   {
    "duration": 5,
    "start_time": "2021-11-26T18:07:26.824Z"
   },
   {
    "duration": 33,
    "start_time": "2021-11-26T18:07:26.832Z"
   },
   {
    "duration": 36,
    "start_time": "2021-11-26T18:07:26.867Z"
   },
   {
    "duration": 27,
    "start_time": "2021-11-26T18:07:26.905Z"
   },
   {
    "duration": 1278,
    "start_time": "2021-11-27T11:04:47.362Z"
   },
   {
    "duration": 10,
    "start_time": "2021-11-27T11:05:02.396Z"
   },
   {
    "duration": 356,
    "start_time": "2021-11-27T11:05:47.163Z"
   },
   {
    "duration": 5,
    "start_time": "2021-11-27T11:05:50.337Z"
   },
   {
    "duration": 9,
    "start_time": "2021-11-27T11:05:50.921Z"
   },
   {
    "duration": 8,
    "start_time": "2021-11-27T11:05:56.206Z"
   },
   {
    "duration": 3,
    "start_time": "2021-11-27T11:11:11.629Z"
   },
   {
    "duration": 3,
    "start_time": "2021-11-27T11:11:12.270Z"
   },
   {
    "duration": 244,
    "start_time": "2021-11-27T11:11:16.544Z"
   },
   {
    "duration": 3,
    "start_time": "2021-11-27T11:11:27.030Z"
   },
   {
    "duration": 287,
    "start_time": "2021-11-27T11:11:27.989Z"
   },
   {
    "duration": 4,
    "start_time": "2021-11-27T11:12:01.795Z"
   },
   {
    "duration": 348,
    "start_time": "2021-11-27T11:12:02.087Z"
   },
   {
    "duration": 257,
    "start_time": "2021-11-27T11:12:15.053Z"
   },
   {
    "duration": 3,
    "start_time": "2021-11-27T11:12:50.282Z"
   },
   {
    "duration": 253,
    "start_time": "2021-11-27T11:12:50.514Z"
   },
   {
    "duration": 3,
    "start_time": "2021-11-27T11:12:56.526Z"
   },
   {
    "duration": 3,
    "start_time": "2021-11-27T11:13:02.648Z"
   },
   {
    "duration": 3,
    "start_time": "2021-11-27T11:13:10.036Z"
   },
   {
    "duration": 3,
    "start_time": "2021-11-27T11:13:10.491Z"
   },
   {
    "duration": 3,
    "start_time": "2021-11-27T11:13:10.957Z"
   },
   {
    "duration": 3,
    "start_time": "2021-11-27T11:13:11.447Z"
   },
   {
    "duration": 4,
    "start_time": "2021-11-27T11:13:21.846Z"
   },
   {
    "duration": 3,
    "start_time": "2021-11-27T11:13:41.257Z"
   },
   {
    "duration": 3,
    "start_time": "2021-11-27T11:13:41.590Z"
   },
   {
    "duration": 4,
    "start_time": "2021-11-27T11:13:43.443Z"
   },
   {
    "duration": 10,
    "start_time": "2021-11-27T11:15:58.397Z"
   },
   {
    "duration": 262,
    "start_time": "2021-11-27T11:16:00.216Z"
   },
   {
    "duration": 6,
    "start_time": "2021-11-27T11:16:18.208Z"
   },
   {
    "duration": 6,
    "start_time": "2021-11-27T11:16:24.194Z"
   },
   {
    "duration": 275,
    "start_time": "2021-11-27T11:16:27.638Z"
   },
   {
    "duration": 7,
    "start_time": "2021-11-27T11:16:44.147Z"
   },
   {
    "duration": 277,
    "start_time": "2021-11-27T11:16:44.855Z"
   },
   {
    "duration": 262,
    "start_time": "2021-11-27T11:18:26.864Z"
   },
   {
    "duration": 6,
    "start_time": "2021-11-27T11:18:51.470Z"
   },
   {
    "duration": 6,
    "start_time": "2021-11-27T11:21:11.175Z"
   },
   {
    "duration": 7,
    "start_time": "2021-11-27T11:21:14.205Z"
   },
   {
    "duration": 279,
    "start_time": "2021-11-27T11:21:18.535Z"
   },
   {
    "duration": 259,
    "start_time": "2021-11-27T11:21:46.799Z"
   },
   {
    "duration": 9,
    "start_time": "2021-11-27T11:22:58.538Z"
   },
   {
    "duration": 292,
    "start_time": "2021-11-27T11:23:42.891Z"
   },
   {
    "duration": 251,
    "start_time": "2021-11-27T11:24:00.178Z"
   },
   {
    "duration": 8,
    "start_time": "2021-11-27T11:24:05.294Z"
   },
   {
    "duration": 10,
    "start_time": "2021-11-27T11:25:56.535Z"
   },
   {
    "duration": 415,
    "start_time": "2021-11-27T11:27:23.095Z"
   },
   {
    "duration": 436,
    "start_time": "2021-11-27T11:27:29.219Z"
   },
   {
    "duration": 434,
    "start_time": "2021-11-27T11:29:12.551Z"
   },
   {
    "duration": 438,
    "start_time": "2021-11-27T11:29:26.439Z"
   },
   {
    "duration": 10,
    "start_time": "2021-11-27T11:29:45.242Z"
   }
  ],
  "kernelspec": {
   "display_name": "Python 3 (ipykernel)",
   "language": "python",
   "name": "python3"
  },
  "language_info": {
   "codemirror_mode": {
    "name": "ipython",
    "version": 3
   },
   "file_extension": ".py",
   "mimetype": "text/x-python",
   "name": "python",
   "nbconvert_exporter": "python",
   "pygments_lexer": "ipython3",
   "version": "3.9.7"
  },
  "toc": {
   "base_numbering": 1,
   "nav_menu": {},
   "number_sections": true,
   "sideBar": true,
   "skip_h1_title": true,
   "title_cell": "Table of Contents",
   "title_sidebar": "Contents",
   "toc_cell": false,
   "toc_position": {},
   "toc_section_display": true,
   "toc_window_display": false
  }
 },
 "nbformat": 4,
 "nbformat_minor": 2
}
