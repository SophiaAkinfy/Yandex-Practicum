{
 "cells": [
  {
   "cell_type": "markdown",
   "id": "c9cc9778",
   "metadata": {},
   "source": [
    "# Анализ поведения пользователей мобильного приложения"
   ]
  },
  {
   "cell_type": "markdown",
   "id": "7a50498b",
   "metadata": {},
   "source": [
    "**Задача:** На основе данных использования мобильного приложения для продажи продуктов питания проанализировать воронку продаж, а также оценить результаты A/A/B-тестирования"
   ]
  },
  {
   "cell_type": "markdown",
   "id": "10e9e829",
   "metadata": {},
   "source": [
    "<a name='content'></a>\n",
    "## Оглавление \n",
    "[Подготовка данных](#preprocessing)\n",
    "- [Импорт библиотек](#import)\n",
    "- [Загрузка и предобработка данных](#download)\n",
    "\n",
    "[Проверка данных](#check)\n",
    "- [Число событий в логе](#events_number)\n",
    "- [Число пользователей в логе](#number_users)\n",
    "- [Среднее число событий на одного пользователя](#mean_users)\n",
    "- [Анализ периода сбора данных](#data_period)\n",
    "- [Гистограмма количества событий по дате и времени](#event_days)\n",
    "- [Проверка числа пользователей в группах](#group_check)\n",
    "\n",
    "[Воронка событий](#funnel)\n",
    " - [События в логах и их частота](#funnel_analysis)\n",
    " - [Количество пользователей по событиям](#event_user)\n",
    " - [Визуализация воронки событий и анализ потерь на каждом этапе](#funnel_user)\n",
    " - [Анализ воронки событий по группам](#user_group_event)\n",
    " \n",
    "\n",
    "[Сравнение групп](#group_compare)\n",
    "- [Число пользователей в каждой группе](#user_event_group)\n",
    "- [Достоверность разницы в группах (для пользователей, которые последовательно прошли все этапы)](#group_dif)\n",
    "- [Достоверность разницы в группах (для всех пользователей)](#group_dif2)\n",
    "\n",
    "[Общий вывод](#result)"
   ]
  },
  {
   "cell_type": "markdown",
   "id": "a5cf830f",
   "metadata": {},
   "source": [
    "<a name = 'preprocessing'></a>\n",
    "## Подготовка данных"
   ]
  },
  {
   "cell_type": "markdown",
   "id": "f34d8999",
   "metadata": {},
   "source": [
    "<a name = 'import'></a>\n",
    "### Импорт библиотек"
   ]
  },
  {
   "cell_type": "code",
   "execution_count": 1,
   "id": "e0ea5f4f",
   "metadata": {},
   "outputs": [],
   "source": [
    "import pandas as pd\n",
    "import numpy as np\n",
    "import scipy.stats as stats\n",
    "import matplotlib.pyplot as plt\n",
    "import seaborn as sns\n",
    "import math as mth\n",
    "import plotly.express as px\n",
    "from plotly import graph_objects as go\n",
    "from statsmodels.stats.proportion import proportions_ztest"
   ]
  },
  {
   "cell_type": "markdown",
   "id": "2c0b9e6f",
   "metadata": {},
   "source": [
    "[К оглавлению](#content)"
   ]
  },
  {
   "cell_type": "markdown",
   "id": "c4e91c60",
   "metadata": {},
   "source": [
    "<a id = 'download'></a>\n",
    "### Загрузка и предобработка данных"
   ]
  },
  {
   "cell_type": "code",
   "execution_count": 2,
   "id": "c28d76d9",
   "metadata": {
    "scrolled": true
   },
   "outputs": [
    {
     "name": "stdout",
     "output_type": "stream",
     "text": [
      "<class 'pandas.core.frame.DataFrame'>\n",
      "RangeIndex: 244126 entries, 0 to 244125\n",
      "Data columns (total 4 columns):\n",
      " #   Column          Non-Null Count   Dtype \n",
      "---  ------          --------------   ----- \n",
      " 0   EventName       244126 non-null  object\n",
      " 1   DeviceIDHash    244126 non-null  int64 \n",
      " 2   EventTimestamp  244126 non-null  int64 \n",
      " 3   ExpId           244126 non-null  int64 \n",
      "dtypes: int64(3), object(1)\n",
      "memory usage: 7.5+ MB\n"
     ]
    }
   ],
   "source": [
    "url = 'logs_exp.csv'\n",
    "data = pd.read_csv(url, sep='\\t')\n",
    "data.info()"
   ]
  },
  {
   "cell_type": "code",
   "execution_count": 3,
   "id": "8dc1e282",
   "metadata": {
    "scrolled": true
   },
   "outputs": [
    {
     "data": {
      "text/html": [
       "<div>\n",
       "<style scoped>\n",
       "    .dataframe tbody tr th:only-of-type {\n",
       "        vertical-align: middle;\n",
       "    }\n",
       "\n",
       "    .dataframe tbody tr th {\n",
       "        vertical-align: top;\n",
       "    }\n",
       "\n",
       "    .dataframe thead th {\n",
       "        text-align: right;\n",
       "    }\n",
       "</style>\n",
       "<table border=\"1\" class=\"dataframe\">\n",
       "  <thead>\n",
       "    <tr style=\"text-align: right;\">\n",
       "      <th></th>\n",
       "      <th>EventName</th>\n",
       "      <th>DeviceIDHash</th>\n",
       "      <th>EventTimestamp</th>\n",
       "      <th>ExpId</th>\n",
       "    </tr>\n",
       "  </thead>\n",
       "  <tbody>\n",
       "    <tr>\n",
       "      <th>0</th>\n",
       "      <td>MainScreenAppear</td>\n",
       "      <td>4575588528974610257</td>\n",
       "      <td>1564029816</td>\n",
       "      <td>246</td>\n",
       "    </tr>\n",
       "    <tr>\n",
       "      <th>1</th>\n",
       "      <td>MainScreenAppear</td>\n",
       "      <td>7416695313311560658</td>\n",
       "      <td>1564053102</td>\n",
       "      <td>246</td>\n",
       "    </tr>\n",
       "    <tr>\n",
       "      <th>2</th>\n",
       "      <td>PaymentScreenSuccessful</td>\n",
       "      <td>3518123091307005509</td>\n",
       "      <td>1564054127</td>\n",
       "      <td>248</td>\n",
       "    </tr>\n",
       "    <tr>\n",
       "      <th>3</th>\n",
       "      <td>CartScreenAppear</td>\n",
       "      <td>3518123091307005509</td>\n",
       "      <td>1564054127</td>\n",
       "      <td>248</td>\n",
       "    </tr>\n",
       "    <tr>\n",
       "      <th>4</th>\n",
       "      <td>PaymentScreenSuccessful</td>\n",
       "      <td>6217807653094995999</td>\n",
       "      <td>1564055322</td>\n",
       "      <td>248</td>\n",
       "    </tr>\n",
       "  </tbody>\n",
       "</table>\n",
       "</div>"
      ],
      "text/plain": [
       "                 EventName         DeviceIDHash  EventTimestamp  ExpId\n",
       "0         MainScreenAppear  4575588528974610257      1564029816    246\n",
       "1         MainScreenAppear  7416695313311560658      1564053102    246\n",
       "2  PaymentScreenSuccessful  3518123091307005509      1564054127    248\n",
       "3         CartScreenAppear  3518123091307005509      1564054127    248\n",
       "4  PaymentScreenSuccessful  6217807653094995999      1564055322    248"
      ]
     },
     "execution_count": 3,
     "metadata": {},
     "output_type": "execute_result"
    }
   ],
   "source": [
    "data.head()"
   ]
  },
  {
   "cell_type": "markdown",
   "id": "34688615",
   "metadata": {},
   "source": [
    "Пропущенных значений нет, названия столбцов нужно привести одному регистру, тип столбца EventTimestamp привести к типу datetime"
   ]
  },
  {
   "cell_type": "code",
   "execution_count": 4,
   "id": "da94cef7",
   "metadata": {},
   "outputs": [],
   "source": [
    "# изменение названия столбцов\n",
    "data = data.rename(columns={'EventName' : 'event', 'DeviceIDHash' : 'user', \n",
    "                            'EventTimestamp' : 'event_time', 'ExpId' : 'group'})"
   ]
  },
  {
   "cell_type": "code",
   "execution_count": 5,
   "id": "f822ce70",
   "metadata": {},
   "outputs": [
    {
     "name": "stdout",
     "output_type": "stream",
     "text": [
      "Число дубликатов: 413\n"
     ]
    }
   ],
   "source": [
    "# проверка на дубликаты\n",
    "print('Число дубликатов:', data.duplicated().sum())"
   ]
  },
  {
   "cell_type": "code",
   "execution_count": 6,
   "id": "08093387",
   "metadata": {},
   "outputs": [],
   "source": [
    "# удаление дубликатов\n",
    "data = data.drop_duplicates()"
   ]
  },
  {
   "cell_type": "code",
   "execution_count": 7,
   "id": "771d40e2",
   "metadata": {
    "scrolled": true
   },
   "outputs": [
    {
     "name": "stdout",
     "output_type": "stream",
     "text": [
      "<class 'pandas.core.frame.DataFrame'>\n",
      "Int64Index: 243713 entries, 0 to 244125\n",
      "Data columns (total 6 columns):\n",
      " #   Column      Non-Null Count   Dtype         \n",
      "---  ------      --------------   -----         \n",
      " 0   event       243713 non-null  object        \n",
      " 1   user        243713 non-null  int64         \n",
      " 2   event_time  243713 non-null  int64         \n",
      " 3   group       243713 non-null  int64         \n",
      " 4   date_time   243713 non-null  datetime64[ns]\n",
      " 5   date        243713 non-null  datetime64[ns]\n",
      "dtypes: datetime64[ns](2), int64(3), object(1)\n",
      "memory usage: 13.0+ MB\n"
     ]
    }
   ],
   "source": [
    "# создание столбца datetime\n",
    "data['date_time'] = pd.to_datetime(data.event_time, unit = 's')\n",
    "data['date'] = data.date_time.dt.date.astype(\"datetime64\")\n",
    "data.info()"
   ]
  },
  {
   "cell_type": "markdown",
   "id": "364a0988",
   "metadata": {},
   "source": [
    "В результате предобработки данных были удалены дубликаты, изменены названия солбцов и созданы два дополнительных столбца: с датой/временем события и с датой события."
   ]
  },
  {
   "cell_type": "markdown",
   "id": "ff6cd1a9",
   "metadata": {},
   "source": [
    "#### Проверка пересечений пользователей в группах"
   ]
  },
  {
   "cell_type": "code",
   "execution_count": 8,
   "id": "1e10baa5",
   "metadata": {},
   "outputs": [
    {
     "name": "stdout",
     "output_type": "stream",
     "text": [
      "Пересечение пользователей в группах 246 и 247:  0\n",
      "Пересечение пользователей в группах 246 и 248:  0\n",
      "Пересечение пользователей в группах 2467 и 248:  0\n"
     ]
    }
   ],
   "source": [
    "def same_user(group1, group2):\n",
    "    same_visitors = (set(data[data['group'] == group1]['user']\n",
    "                    .unique()).intersection(data[data['group'] == group2]['user'].unique()))\n",
    "    return len(same_visitors)\n",
    "\n",
    "print('Пересечение пользователей в группах 246 и 247: ', same_user(246, 247))\n",
    "print('Пересечение пользователей в группах 246 и 248: ', same_user(246, 248))\n",
    "print('Пересечение пользователей в группах 2467 и 248: ', same_user(247, 248))"
   ]
  },
  {
   "cell_type": "markdown",
   "id": "ac59a7f1",
   "metadata": {},
   "source": [
    "Пользователи в группах не пересекаются "
   ]
  },
  {
   "cell_type": "markdown",
   "id": "41818fc4",
   "metadata": {},
   "source": [
    "[К оглавлению](#content)"
   ]
  },
  {
   "cell_type": "markdown",
   "id": "0c2be5f4",
   "metadata": {},
   "source": [
    "<a id='check'></a>\n",
    "## Проверка данных"
   ]
  },
  {
   "cell_type": "markdown",
   "id": "20e8c11e",
   "metadata": {},
   "source": [
    "<a id='events_number'></a>\n",
    "### Число событий в логе"
   ]
  },
  {
   "cell_type": "code",
   "execution_count": 9,
   "id": "35989daf",
   "metadata": {},
   "outputs": [
    {
     "name": "stdout",
     "output_type": "stream",
     "text": [
      "Число событий в логе:  243713\n"
     ]
    }
   ],
   "source": [
    "number_events = data.event.count()\n",
    "print('Число событий в логе: ', number_events)"
   ]
  },
  {
   "cell_type": "code",
   "execution_count": 10,
   "id": "04542355",
   "metadata": {
    "scrolled": true
   },
   "outputs": [
    {
     "name": "stdout",
     "output_type": "stream",
     "text": [
      "Названия уникальных событий в логе:  ['MainScreenAppear' 'PaymentScreenSuccessful' 'CartScreenAppear'\n",
      " 'OffersScreenAppear' 'Tutorial']\n"
     ]
    }
   ],
   "source": [
    "print('Названия уникальных событий в логе: ', data.event.unique())"
   ]
  },
  {
   "cell_type": "markdown",
   "id": "6927eeee",
   "metadata": {},
   "source": [
    "[К оглавлению](#content)"
   ]
  },
  {
   "cell_type": "markdown",
   "id": "e514c283",
   "metadata": {},
   "source": [
    "<a id='number_users'></a>\n",
    "### Число пользователей в логе"
   ]
  },
  {
   "cell_type": "code",
   "execution_count": 11,
   "id": "68216f01",
   "metadata": {},
   "outputs": [
    {
     "name": "stdout",
     "output_type": "stream",
     "text": [
      "Число уникальных пользователей в логе:  7551\n"
     ]
    }
   ],
   "source": [
    "number_users = data.user.nunique()\n",
    "print('Число уникальных пользователей в логе: ', number_users)"
   ]
  },
  {
   "cell_type": "markdown",
   "id": "6b5c0252",
   "metadata": {},
   "source": [
    "[К оглавлению](#content)"
   ]
  },
  {
   "cell_type": "markdown",
   "id": "45081513",
   "metadata": {},
   "source": [
    "<a id='mean_users'></a>\n",
    "### Среднее число событий на одного пользователя\n"
   ]
  },
  {
   "cell_type": "code",
   "execution_count": 12,
   "id": "61ddd026",
   "metadata": {
    "scrolled": true
   },
   "outputs": [
    {
     "data": {
      "text/plain": [
       "count    7551.000000\n",
       "mean       32.275593\n",
       "std        65.154219\n",
       "min         1.000000\n",
       "25%         9.000000\n",
       "50%        20.000000\n",
       "75%        37.000000\n",
       "max      2307.000000\n",
       "Name: event, dtype: float64"
      ]
     },
     "metadata": {},
     "output_type": "display_data"
    },
    {
     "name": "stdout",
     "output_type": "stream",
     "text": [
      "Среднее число событий на одного пользователя:  32.28\n",
      "Медианное число событий на одного пользователя:  20.0\n"
     ]
    }
   ],
   "source": [
    "events_by_user = data.groupby('user', as_index = False).agg({'event': 'count'})\n",
    "\n",
    "display(events_by_user.event.describe())\n",
    "\n",
    "print('Среднее число событий на одного пользователя: ', round(events_by_user.event.mean(), 2))\n",
    "print('Медианное число событий на одного пользователя: ', round(events_by_user.event.median(), 2))"
   ]
  },
  {
   "cell_type": "markdown",
   "id": "61fa59e1",
   "metadata": {},
   "source": [
    "Медиана и среднее сильно отличаются друг от друга. Стоить проверить характер распределения "
   ]
  },
  {
   "cell_type": "code",
   "execution_count": 13,
   "id": "a70cbe8b",
   "metadata": {
    "scrolled": false
   },
   "outputs": [
    {
     "data": {
      "image/png": "[encoded data removed]",
      "text/plain": [
       "<Figure size 1080x360 with 1 Axes>"
      ]
     },
     "metadata": {
      "needs_background": "light"
     },
     "output_type": "display_data"
    }
   ],
   "source": [
    "# гистограмма распределения числа пользователей и числа событий\n",
    "plt.figure(figsize=(15,5))\n",
    "plt.hist(events_by_user.event, bins=100) \n",
    "plt.xlabel('Количество событий')\n",
    "plt.ylabel('Количество пользователей')\n",
    "plt.title('Количество событий на пользователя')\n",
    "plt.show()"
   ]
  },
  {
   "cell_type": "code",
   "execution_count": 14,
   "id": "d6d9bccc",
   "metadata": {},
   "outputs": [
    {
     "data": {
      "image/png": "[encoded data removed]",
      "text/plain": [
       "<Figure size 1080x360 with 1 Axes>"
      ]
     },
     "metadata": {
      "needs_background": "light"
     },
     "output_type": "display_data"
    }
   ],
   "source": [
    "plt.figure(figsize=(15,5))\n",
    "plt.hist(events_by_user.event, bins=100, range = (150, 3000)) \n",
    "plt.xlabel('Количество событий')\n",
    "plt.ylabel('Количество пользователей')\n",
    "plt.title('Количество событий на пользователя')\n",
    "plt.show()"
   ]
  },
  {
   "cell_type": "markdown",
   "id": "ae40b6e1",
   "metadata": {},
   "source": [
    "Распределение количества событий по количеству пользователей - экспоненциальное, с выбросами (присутствуют пользователи с аномально большим количеством событий)"
   ]
  },
  {
   "cell_type": "code",
   "execution_count": 15,
   "id": "2405f24f",
   "metadata": {},
   "outputs": [
    {
     "data": {
      "text/plain": [
       "array([ 89. , 200.5])"
      ]
     },
     "execution_count": 15,
     "metadata": {},
     "output_type": "execute_result"
    }
   ],
   "source": [
    "np.percentile(events_by_user.event, [95, 99])"
   ]
  },
  {
   "cell_type": "markdown",
   "id": "0a2e272a",
   "metadata": {},
   "source": [
    "95% пользователей совершали более 89 событий, 1% более 200. Отфильтруем пользователей, которые совершали больше 200 событий"
   ]
  },
  {
   "cell_type": "code",
   "execution_count": 16,
   "id": "3de89e4c",
   "metadata": {
    "scrolled": true
   },
   "outputs": [
    {
     "data": {
      "text/plain": [
       "count    7475.000000\n",
       "mean       28.004415\n",
       "std        27.798365\n",
       "min         1.000000\n",
       "25%         9.000000\n",
       "50%        19.000000\n",
       "75%        37.000000\n",
       "max       199.000000\n",
       "Name: event, dtype: float64"
      ]
     },
     "metadata": {},
     "output_type": "display_data"
    },
    {
     "name": "stdout",
     "output_type": "stream",
     "text": [
      "Среднее число событий на одного пользователя:  28.0\n",
      "Медианное число событий на одного пользователя:  19.0\n"
     ]
    }
   ],
   "source": [
    "delete_user_list = events_by_user.query('event > 200').user.to_list()\n",
    "data = data.query('user not in @delete_user_list')\n",
    "\n",
    "events_by_user = data.groupby('user', as_index = False).agg({'event': 'count'})\n",
    "\n",
    "display(events_by_user.event.describe())\n",
    "\n",
    "print('Среднее число событий на одного пользователя: ', round(events_by_user.event.mean(), 2))\n",
    "print('Медианное число событий на одного пользователя: ', round(events_by_user.event.median(), 2))"
   ]
  },
  {
   "cell_type": "markdown",
   "id": "b1dea7e3",
   "metadata": {},
   "source": [
    "[К оглавлению](#content)"
   ]
  },
  {
   "cell_type": "markdown",
   "id": "bf12bfea",
   "metadata": {},
   "source": [
    "<a id='data_period'></a>\n",
    "### Анализ периода сбора данныx"
   ]
  },
  {
   "cell_type": "code",
   "execution_count": 17,
   "id": "5b02a0c6",
   "metadata": {
    "scrolled": true
   },
   "outputs": [
    {
     "name": "stdout",
     "output_type": "stream",
     "text": [
      "Минимальная дата:  2019-07-25 00:00:00\n",
      "Максимальная дата:  2019-08-07 00:00:00\n",
      "Период сбора данных:  13 days 00:00:00\n"
     ]
    }
   ],
   "source": [
    "print('Минимальная дата: ', data.date.min())\n",
    "print('Максимальная дата: ', data.date.max())\n",
    "print('Период сбора данных: ', data.date.max() - data.date.min())"
   ]
  },
  {
   "cell_type": "markdown",
   "id": "724f8a93",
   "metadata": {},
   "source": [
    "[К оглавлению](#content)"
   ]
  },
  {
   "cell_type": "markdown",
   "id": "66276f6c",
   "metadata": {},
   "source": [
    "<a id='event_days'></a>\n",
    "### Гистограмма количества событий по дате и времени"
   ]
  },
  {
   "cell_type": "code",
   "execution_count": 18,
   "id": "3996d0f7",
   "metadata": {},
   "outputs": [
    {
     "data": {
      "image/png": "[encoded data removed]"
     },
     "metadata": {},
     "output_type": "display_data"
    },
    {
     "data": {
      "text/html": [
       "<div>\n",
       "<style scoped>\n",
       "    .dataframe tbody tr th:only-of-type {\n",
       "        vertical-align: middle;\n",
       "    }\n",
       "\n",
       "    .dataframe tbody tr th {\n",
       "        vertical-align: top;\n",
       "    }\n",
       "\n",
       "    .dataframe thead th {\n",
       "        text-align: right;\n",
       "    }\n",
       "</style>\n",
       "<table border=\"1\" class=\"dataframe\">\n",
       "  <thead>\n",
       "    <tr style=\"text-align: right;\">\n",
       "      <th></th>\n",
       "      <th>date</th>\n",
       "      <th>event</th>\n",
       "    </tr>\n",
       "  </thead>\n",
       "  <tbody>\n",
       "    <tr>\n",
       "      <th>0</th>\n",
       "      <td>2019-07-25</td>\n",
       "      <td>9</td>\n",
       "    </tr>\n",
       "    <tr>\n",
       "      <th>1</th>\n",
       "      <td>2019-07-26</td>\n",
       "      <td>29</td>\n",
       "    </tr>\n",
       "    <tr>\n",
       "      <th>2</th>\n",
       "      <td>2019-07-27</td>\n",
       "      <td>55</td>\n",
       "    </tr>\n",
       "    <tr>\n",
       "      <th>3</th>\n",
       "      <td>2019-07-28</td>\n",
       "      <td>105</td>\n",
       "    </tr>\n",
       "    <tr>\n",
       "      <th>4</th>\n",
       "      <td>2019-07-29</td>\n",
       "      <td>184</td>\n",
       "    </tr>\n",
       "    <tr>\n",
       "      <th>5</th>\n",
       "      <td>2019-07-30</td>\n",
       "      <td>411</td>\n",
       "    </tr>\n",
       "    <tr>\n",
       "      <th>6</th>\n",
       "      <td>2019-07-31</td>\n",
       "      <td>1925</td>\n",
       "    </tr>\n",
       "    <tr>\n",
       "      <th>7</th>\n",
       "      <td>2019-08-01</td>\n",
       "      <td>30894</td>\n",
       "    </tr>\n",
       "    <tr>\n",
       "      <th>8</th>\n",
       "      <td>2019-08-02</td>\n",
       "      <td>29958</td>\n",
       "    </tr>\n",
       "    <tr>\n",
       "      <th>9</th>\n",
       "      <td>2019-08-03</td>\n",
       "      <td>28252</td>\n",
       "    </tr>\n",
       "    <tr>\n",
       "      <th>10</th>\n",
       "      <td>2019-08-04</td>\n",
       "      <td>27995</td>\n",
       "    </tr>\n",
       "    <tr>\n",
       "      <th>11</th>\n",
       "      <td>2019-08-05</td>\n",
       "      <td>30429</td>\n",
       "    </tr>\n",
       "    <tr>\n",
       "      <th>12</th>\n",
       "      <td>2019-08-06</td>\n",
       "      <td>31573</td>\n",
       "    </tr>\n",
       "    <tr>\n",
       "      <th>13</th>\n",
       "      <td>2019-08-07</td>\n",
       "      <td>27514</td>\n",
       "    </tr>\n",
       "  </tbody>\n",
       "</table>\n",
       "</div>"
      ],
      "text/plain": [
       "         date  event\n",
       "0  2019-07-25      9\n",
       "1  2019-07-26     29\n",
       "2  2019-07-27     55\n",
       "3  2019-07-28    105\n",
       "4  2019-07-29    184\n",
       "5  2019-07-30    411\n",
       "6  2019-07-31   1925\n",
       "7  2019-08-01  30894\n",
       "8  2019-08-02  29958\n",
       "9  2019-08-03  28252\n",
       "10 2019-08-04  27995\n",
       "11 2019-08-05  30429\n",
       "12 2019-08-06  31573\n",
       "13 2019-08-07  27514"
      ]
     },
     "execution_count": 18,
     "metadata": {},
     "output_type": "execute_result"
    }
   ],
   "source": [
    "# Количество событий по дням\n",
    "data_time = data.groupby('date', as_index = False).agg({'event': 'count'})\n",
    "\n",
    "fig = px.bar(data_time, x='date', y='event', title=\"Количество событий по дням\", \n",
    "             labels={'date':'Дата', 'event': 'Количество событий'})\n",
    "fig.show(\"png\")\n",
    "\n",
    "data_time"
   ]
  },
  {
   "cell_type": "markdown",
   "id": "1326309f",
   "metadata": {},
   "source": [
    "Данные были собраны в течение 13 дней. При этом, за июль количество собранных данных или активность пользователей существенно ниже, чем за август"
   ]
  },
  {
   "cell_type": "code",
   "execution_count": 19,
   "id": "cd161a46",
   "metadata": {},
   "outputs": [
    {
     "name": "stdout",
     "output_type": "stream",
     "text": [
      "За июль произошло 1.3% всех событий\n"
     ]
    }
   ],
   "source": [
    "# количество событий до 1го августа\n",
    "print('За июль произошло', \n",
    "      round(data.query('date < \"2019-08-01\"')['event'].count() / data.event.count() * 100, 1).astype('str') + '%', \n",
    "     'всех событий')"
   ]
  },
  {
   "cell_type": "markdown",
   "id": "a9be76cd",
   "metadata": {},
   "source": [
    "Таким образом, в июле произошло всего 1.2% всех событий. Полными данные можно считать только за август. Сбор данных в августе происходил в течение 7 дней. "
   ]
  },
  {
   "cell_type": "code",
   "execution_count": 20,
   "id": "cbc207b3",
   "metadata": {},
   "outputs": [],
   "source": [
    "# новый датасет, начиная с 1го августа включительно\n",
    "data_f = data.query('date >= \"2019-08-01\"')"
   ]
  },
  {
   "cell_type": "markdown",
   "id": "c2023600",
   "metadata": {},
   "source": [
    "#### Количество отфильтрованных пользователей"
   ]
  },
  {
   "cell_type": "code",
   "execution_count": 21,
   "id": "8c634c5e",
   "metadata": {},
   "outputs": [
    {
     "name": "stdout",
     "output_type": "stream",
     "text": [
      "Количество отфильтрованных пользователей:  17\n"
     ]
    }
   ],
   "source": [
    "print('Количество отфильтрованных пользователей: ', data.user.nunique() - data_f.user.nunique())"
   ]
  },
  {
   "cell_type": "markdown",
   "id": "8b1f05bc",
   "metadata": {},
   "source": [
    "[К оглавлению](#content)"
   ]
  },
  {
   "cell_type": "markdown",
   "id": "09db01ad",
   "metadata": {},
   "source": [
    "<a id='group_check'></a>\n",
    "### Проверка числа пользователей в группах"
   ]
  },
  {
   "cell_type": "code",
   "execution_count": 22,
   "id": "b69db113",
   "metadata": {
    "scrolled": false
   },
   "outputs": [
    {
     "data": {
      "text/plain": [
       "248    70908\n",
       "247    68295\n",
       "246    67412\n",
       "Name: group, dtype: int64"
      ]
     },
     "execution_count": 22,
     "metadata": {},
     "output_type": "execute_result"
    }
   ],
   "source": [
    "# проверка числа пользователей в группах\n",
    "data_f.group.value_counts()"
   ]
  },
  {
   "cell_type": "markdown",
   "id": "6ec37911",
   "metadata": {},
   "source": [
    "В новом датасете присутсвуют пользователи во всех группах, размеры групп сопоставимы"
   ]
  },
  {
   "cell_type": "markdown",
   "id": "0a5033fb",
   "metadata": {},
   "source": [
    "<b>Вывод:</b> число пользователей в логе - 7551. Распределение количества событий по количеству пользователей - экспоненциальное (есть выбросы - присутствуют пользователи с аномально большим количеством событий). После фильтрации аномалий, среднее число событий на одного пользователя - 24.76, медианное - 19. \n",
    "\n",
    "\n",
    "В логе 5 уникальных событий: \n",
    "1. MainScreenAppear - появление главного экрана - Пользователь зашел на сайт\n",
    "2. OffersScreenAppear - появление экрана предложений - Пользователь искал товар по каталогу\n",
    "3. CartScreenAppear - появление экрана корзины - Пользователь добавил товар в корзину\n",
    "4. PaymentScreenSuccessful - экран платеж успешен - Пользователь оплатил товар \n",
    "5. Tutorial - руководство пользователя - Пользователь изучал инструкцию\n",
    "\n",
    "Данные собирались в течение 13 дней. При этом, за июль количество собранных данных или активность пользователей существенно ниже, чем за август - в июле произошло всего 1.2% всех событий. Данные за июль были отфильтрованы из датасета. В новом датасете есть пользователи во всех группах, размеры групп сопоставимы"
   ]
  },
  {
   "cell_type": "markdown",
   "id": "f89707e7",
   "metadata": {},
   "source": [
    "[К оглавлению](#content)"
   ]
  },
  {
   "cell_type": "markdown",
   "id": "e102f52d",
   "metadata": {},
   "source": [
    "<a id='funnel'></a>\n",
    "## Воронка событий"
   ]
  },
  {
   "cell_type": "markdown",
   "id": "5cb16790",
   "metadata": {},
   "source": [
    "<a id='funnel_analysis'></a>\n",
    "### События в логах и их частота"
   ]
  },
  {
   "cell_type": "code",
   "execution_count": 23,
   "id": "c191cbe5",
   "metadata": {
    "scrolled": false
   },
   "outputs": [
    {
     "data": {
      "text/plain": [
       "MainScreenAppear           113264\n",
       "OffersScreenAppear          40956\n",
       "CartScreenAppear            29250\n",
       "PaymentScreenSuccessful     22164\n",
       "Tutorial                      981\n",
       "Name: event, dtype: int64"
      ]
     },
     "execution_count": 23,
     "metadata": {},
     "output_type": "execute_result"
    }
   ],
   "source": [
    "# события в логах их частота\n",
    "data_f.event.value_counts()"
   ]
  },
  {
   "cell_type": "markdown",
   "id": "c26c9288",
   "metadata": {},
   "source": [
    "[К оглавлению](#content)"
   ]
  },
  {
   "cell_type": "markdown",
   "id": "090c37ad",
   "metadata": {},
   "source": [
    "<a id='event_user'></a>\n",
    "### Количество пользователей по событиям"
   ]
  },
  {
   "cell_type": "code",
   "execution_count": 24,
   "id": "802a247c",
   "metadata": {},
   "outputs": [
    {
     "data": {
      "text/html": [
       "<div>\n",
       "<style scoped>\n",
       "    .dataframe tbody tr th:only-of-type {\n",
       "        vertical-align: middle;\n",
       "    }\n",
       "\n",
       "    .dataframe tbody tr th {\n",
       "        vertical-align: top;\n",
       "    }\n",
       "\n",
       "    .dataframe thead th {\n",
       "        text-align: right;\n",
       "    }\n",
       "</style>\n",
       "<table border=\"1\" class=\"dataframe\">\n",
       "  <thead>\n",
       "    <tr style=\"text-align: right;\">\n",
       "      <th></th>\n",
       "      <th>event</th>\n",
       "      <th>user</th>\n",
       "      <th>percentage</th>\n",
       "    </tr>\n",
       "  </thead>\n",
       "  <tbody>\n",
       "    <tr>\n",
       "      <th>1</th>\n",
       "      <td>MainScreenAppear</td>\n",
       "      <td>7344</td>\n",
       "      <td>98.5%</td>\n",
       "    </tr>\n",
       "    <tr>\n",
       "      <th>2</th>\n",
       "      <td>OffersScreenAppear</td>\n",
       "      <td>4517</td>\n",
       "      <td>60.6%</td>\n",
       "    </tr>\n",
       "    <tr>\n",
       "      <th>0</th>\n",
       "      <td>CartScreenAppear</td>\n",
       "      <td>3658</td>\n",
       "      <td>49.0%</td>\n",
       "    </tr>\n",
       "    <tr>\n",
       "      <th>3</th>\n",
       "      <td>PaymentScreenSuccessful</td>\n",
       "      <td>3463</td>\n",
       "      <td>46.4%</td>\n",
       "    </tr>\n",
       "    <tr>\n",
       "      <th>4</th>\n",
       "      <td>Tutorial</td>\n",
       "      <td>824</td>\n",
       "      <td>11.0%</td>\n",
       "    </tr>\n",
       "  </tbody>\n",
       "</table>\n",
       "</div>"
      ],
      "text/plain": [
       "                     event  user percentage\n",
       "1         MainScreenAppear  7344      98.5%\n",
       "2       OffersScreenAppear  4517      60.6%\n",
       "0         CartScreenAppear  3658      49.0%\n",
       "3  PaymentScreenSuccessful  3463      46.4%\n",
       "4                 Tutorial   824      11.0%"
      ]
     },
     "execution_count": 24,
     "metadata": {},
     "output_type": "execute_result"
    }
   ],
   "source": [
    "# число пользователей, совершавших событие\n",
    "data_event_users = (data_f.groupby('event', as_index = False)\n",
    "                    .agg({'user': 'nunique'})\n",
    "                    .sort_values(by = 'user', ascending = False))\n",
    "\n",
    "# доля пользователей, совершавших событие\n",
    "count_users = data_f.user.nunique()\n",
    "data_event_users['percentage'] = round(data_event_users.user / count_users * 100, 1).astype('str') + '%'\n",
    "\n",
    "data_event_users"
   ]
  },
  {
   "cell_type": "code",
   "execution_count": 25,
   "id": "e0076794",
   "metadata": {},
   "outputs": [
    {
     "data": {
      "image/png": "[encoded data removed]"
     },
     "metadata": {},
     "output_type": "display_data"
    }
   ],
   "source": [
    "fig = px.bar(data_event_users, x='event', y='user', title=\"Количество пользователей по событиям\", \n",
    "             labels={'event':'Событие', 'user': 'Число пользователей'},\n",
    "             text = 'percentage')\n",
    "fig.show(\"png\")"
   ]
  },
  {
   "cell_type": "markdown",
   "id": "d83a7501",
   "metadata": {},
   "source": [
    "Самое частое событие - MainScreenAppear (98.5%), самое редкое - Tutorial (11.1%)\n",
    "\n",
    "События происходят в следующем порядке: \n",
    "1. MainScreenAppear - появление главного экрана - Пользователь зашел на сайт\n",
    "2. OffersScreenAppear - появление экрана предложений - Пользователь искал товар по каталогу\n",
    "3. CartScreenAppear - появление экрана корзины - Пользователь добавил товар в корзину\n",
    "4. PaymentScreenSuccessful - экран платеж успешен - Пользователь оплатил товар (целевое действие)\n",
    "\n",
    "Событие Tutorial - руководство пользователя - может произойти на любом этапе и не входит в цепочку событий от захода на сайт до совершения покупки. Данное событие не будет учитываться при расчете воронки\n",
    "\n",
    "То, что событие MainScreenAppear присутствует только у 98.5% пользователей говорит о том, что часть пользователей проходила воронку событий не с первого этапа. "
   ]
  },
  {
   "cell_type": "markdown",
   "id": "7670c8fe",
   "metadata": {},
   "source": [
    "[К оглавлению](#content)"
   ]
  },
  {
   "cell_type": "markdown",
   "id": "550218ea",
   "metadata": {},
   "source": [
    "<a id='funnel_user'></a>\n",
    "### Визуализация воронки событий и анализ потерь на каждом этапе"
   ]
  },
  {
   "cell_type": "code",
   "execution_count": 26,
   "id": "546c68ac",
   "metadata": {},
   "outputs": [
    {
     "data": {
      "image/png": "[encoded data removed]"
     },
     "metadata": {},
     "output_type": "display_data"
    }
   ],
   "source": [
    "# воронка событий\n",
    "fig = go.Figure(go.Funnel(x = data_event_users.query('event != \"Tutorial\"').user, \n",
    "                          y = data_event_users.query('event != \"Tutorial\"').event, \n",
    "                          textinfo = \"value+percent initial+percent previous\"))\n",
    "fig.show(\"png\")"
   ]
  },
  {
   "cell_type": "markdown",
   "id": "d167f3a4",
   "metadata": {},
   "source": [
    "Больше всего пользователей теряется на этапе MainScreenAppear - OffersScreenAppear (38%). Меньше всего теряется пользователей на этапе CartScreenAppear - PaymentScreenSuccessful (5%)\n",
    "\n",
    "Конверсия оплаты от захода на сайт неправдоподобно высокая - 48%. Это может быть связано с тем, что часть пользователей проходила воронку событий не с первого этапа. Отфильтруем пользователей, которые прошли последовательно все этапы: "
   ]
  },
  {
   "cell_type": "code",
   "execution_count": 27,
   "id": "1e2e31f5",
   "metadata": {},
   "outputs": [
    {
     "data": {
      "text/html": [
       "<div>\n",
       "<style scoped>\n",
       "    .dataframe tbody tr th:only-of-type {\n",
       "        vertical-align: middle;\n",
       "    }\n",
       "\n",
       "    .dataframe tbody tr th {\n",
       "        vertical-align: top;\n",
       "    }\n",
       "\n",
       "    .dataframe thead th {\n",
       "        text-align: right;\n",
       "    }\n",
       "</style>\n",
       "<table border=\"1\" class=\"dataframe\">\n",
       "  <thead>\n",
       "    <tr style=\"text-align: right;\">\n",
       "      <th></th>\n",
       "      <th>event</th>\n",
       "      <th>user</th>\n",
       "    </tr>\n",
       "  </thead>\n",
       "  <tbody>\n",
       "    <tr>\n",
       "      <th>0</th>\n",
       "      <td>MainScreenAppear</td>\n",
       "      <td>7344</td>\n",
       "    </tr>\n",
       "    <tr>\n",
       "      <th>1</th>\n",
       "      <td>OffersScreenAppear</td>\n",
       "      <td>4140</td>\n",
       "    </tr>\n",
       "    <tr>\n",
       "      <th>2</th>\n",
       "      <td>CartScreenAppear</td>\n",
       "      <td>1729</td>\n",
       "    </tr>\n",
       "    <tr>\n",
       "      <th>3</th>\n",
       "      <td>PaymentScreenSuccessful</td>\n",
       "      <td>440</td>\n",
       "    </tr>\n",
       "  </tbody>\n",
       "</table>\n",
       "</div>"
      ],
      "text/plain": [
       "                     event  user\n",
       "0         MainScreenAppear  7344\n",
       "1       OffersScreenAppear  4140\n",
       "2         CartScreenAppear  1729\n",
       "3  PaymentScreenSuccessful   440"
      ]
     },
     "execution_count": 27,
     "metadata": {},
     "output_type": "execute_result"
    }
   ],
   "source": [
    "# воронка пользователей, которые последовательно прошли все события воронки (от первого до оплаты)\n",
    "data_clear_users = pd.pivot_table(data_f.query('event != \"Tutorial\"'), \n",
    "                                  values='date_time', \n",
    "                                  aggfunc='min',\n",
    "                                  index=['user', 'group'], \n",
    "                                  columns = 'event').reset_index()\n",
    "\n",
    "group_1 = data_clear_users.dropna(subset = ['MainScreenAppear'])\n",
    "group_2 = group_1.query('MainScreenAppear < OffersScreenAppear')\n",
    "group_3 = group_2.query('OffersScreenAppear < CartScreenAppear')\n",
    "group_4 = group_3.query('CartScreenAppear < PaymentScreenSuccessful')\n",
    "\n",
    "data_clear_users_table = pd.DataFrame(columns = ['event', 'user'], data = [\n",
    "    ['MainScreenAppear',group_1.user.count()],\n",
    "    ['OffersScreenAppear',group_2.user.count()],\n",
    "    ['CartScreenAppear',group_3.user.count()],\n",
    "    ['PaymentScreenSuccessful',group_4.user.count()]\n",
    "])\n",
    "\n",
    "data_clear_users_table"
   ]
  },
  {
   "cell_type": "code",
   "execution_count": 28,
   "id": "2f7914d3",
   "metadata": {
    "scrolled": false
   },
   "outputs": [
    {
     "data": {
      "image/png": "[encoded data removed]"
     },
     "metadata": {},
     "output_type": "display_data"
    }
   ],
   "source": [
    "fig = go.Figure(go.Funnel(x = data_clear_users_table.user, \n",
    "                          y = data_clear_users_table.event, \n",
    "                          textinfo = \"value+percent initial+percent previous\"))\n",
    "fig.show(\"png\")"
   ]
  },
  {
   "cell_type": "markdown",
   "id": "ef2437e5",
   "metadata": {},
   "source": [
    "После фильтрации воронка существенно изменилась: конверсия захода на сайт в покупку составляет 6%, самая большая потеря пользователей происходит на этапе оплаты - 75% от предыдущего этапа."
   ]
  },
  {
   "cell_type": "markdown",
   "id": "9415794f",
   "metadata": {},
   "source": [
    "[К оглавлению](#content)"
   ]
  },
  {
   "cell_type": "markdown",
   "id": "cd0c7a04",
   "metadata": {},
   "source": [
    "<a id='user_group_event'></a>\n",
    "### Анализ воронки событий по группам"
   ]
  },
  {
   "cell_type": "code",
   "execution_count": 29,
   "id": "5445519c",
   "metadata": {
    "scrolled": false
   },
   "outputs": [
    {
     "data": {
      "image/png": "[encoded data removed]"
     },
     "metadata": {},
     "output_type": "display_data"
    }
   ],
   "source": [
    "# воронка пользователей, которые последовательно прошли все этапы по группам\n",
    "group_1_by_group = group_1.groupby('group', as_index = False).agg({'user': 'count'})\n",
    "group_2_by_group = group_2.groupby('group', as_index = False).agg({'user': 'count'})\n",
    "group_3_by_group = group_3.groupby('group', as_index = False).agg({'user': 'count'})\n",
    "group_4_by_group = group_4.groupby('group', as_index = False).agg({'user': 'count'})\n",
    "\n",
    "data_clear_users_by_group = group_1_by_group.merge(group_2_by_group, on='group', suffixes=('_1', '_2'))\n",
    "data_clear_users_by_group = data_clear_users_by_group.merge(group_3_by_group, on='group', suffixes=('_2', '_3'))\n",
    "data_clear_users_by_group = data_clear_users_by_group.merge(group_4_by_group, on='group', suffixes=('_3', '_4'))\n",
    "\n",
    "data_clear_users_by_group.columns = ['group', 'MainScreenAppear', \n",
    "                                           'OffersScreenAppear', 'CartScreenAppear', 'PaymentScreenSuccessful']\n",
    "\n",
    "groups = data_clear_users_by_group.group.unique()\n",
    "\n",
    "fig = go.Figure()\n",
    "for i in [0, 1, 2]:\n",
    "    fig.add_trace(go.Funnel(\n",
    "        name = groups[i].astype('str'),\n",
    "        y = data_clear_users_table.event.tolist(),\n",
    "        x = data_clear_users_by_group[data_clear_users_by_group.group == groups[i]].iloc[0].tolist()[1:5],\n",
    "        textposition = \"inside\",\n",
    "        textinfo = \"percent initial\",\n",
    "        constraintext='outside',\n",
    "        textangle = 90,\n",
    "        insidetextfont = {'color': 'black'}))\n",
    "\n",
    "fig.show(\"png\")"
   ]
  },
  {
   "cell_type": "markdown",
   "id": "b2b42dcb",
   "metadata": {},
   "source": [
    "<b>Вывод:</b> самое частое событие - MainScreenAppear (98.5%), самое редкое - Tutorial (11.1%)\n",
    "\n",
    "События происходят в следующем порядке: \n",
    "1. MainScreenAppear - появление главного экрана - Пользователь зашел на сайт\n",
    "2. OffersScreenAppear - появление экрана предложений - Пользователь искал товар по каталогу\n",
    "3. CartScreenAppear - появление экрана корзины - Пользователь добавил товар в корзину\n",
    "4. PaymentScreenSuccessful - экран платеж успешен - Пользователь оплатил товар (целевое действие)\n",
    "\n",
    "Событие Tutorial - руководство пользователя - может произойти на любом этапе и не входит в цепочку событий от захода на сайт до совершения покупки. Данное событие не будет учитываться при расчете воронки\n",
    "\n",
    "Больше всего пользователей теряется на этапе MainScreenAppear - OffersScreenAppear (38%). Меньше всего теряется пользователей на этапе CartScreenAppear - PaymentScreenSuccessful (5%). Конверсия оплаты от захода на сайт неправдоподобно высокая - 48%. Это может быть связано с тем, что часть пользователей проходила воронку событий не с первого этапа. Отфильтруем пользователей, которые прошли последовательно все этапы: \n",
    "\n",
    "После фильтрации воронка существенно изменилась: конверсия захода на сайт в покупку составляет 6%, самая большая потеря пользователей происходит на этапе оплаты - 75%."
   ]
  },
  {
   "cell_type": "markdown",
   "id": "d1b33062",
   "metadata": {},
   "source": [
    "[К оглавлению](#content)"
   ]
  },
  {
   "cell_type": "markdown",
   "id": "fdada700",
   "metadata": {},
   "source": [
    "<a id='group_compare'></a>\n",
    "## Сравнение групп"
   ]
  },
  {
   "cell_type": "markdown",
   "id": "e15935e8",
   "metadata": {},
   "source": [
    "<a id='user_event_group'></a>\n",
    "### Число пользователей в каждой группе"
   ]
  },
  {
   "cell_type": "code",
   "execution_count": 30,
   "id": "e7bd8f66",
   "metadata": {
    "scrolled": true
   },
   "outputs": [
    {
     "data": {
      "text/html": [
       "<div>\n",
       "<style scoped>\n",
       "    .dataframe tbody tr th:only-of-type {\n",
       "        vertical-align: middle;\n",
       "    }\n",
       "\n",
       "    .dataframe tbody tr th {\n",
       "        vertical-align: top;\n",
       "    }\n",
       "\n",
       "    .dataframe thead th {\n",
       "        text-align: right;\n",
       "    }\n",
       "</style>\n",
       "<table border=\"1\" class=\"dataframe\">\n",
       "  <thead>\n",
       "    <tr style=\"text-align: right;\">\n",
       "      <th></th>\n",
       "      <th>group</th>\n",
       "      <th>MainScreenAppear</th>\n",
       "      <th>OffersScreenAppear</th>\n",
       "      <th>CartScreenAppear</th>\n",
       "      <th>PaymentScreenSuccessful</th>\n",
       "      <th>user</th>\n",
       "    </tr>\n",
       "  </thead>\n",
       "  <tbody>\n",
       "    <tr>\n",
       "      <th>0</th>\n",
       "      <td>246</td>\n",
       "      <td>2423</td>\n",
       "      <td>1387</td>\n",
       "      <td>569</td>\n",
       "      <td>138</td>\n",
       "      <td>2423</td>\n",
       "    </tr>\n",
       "    <tr>\n",
       "      <th>1</th>\n",
       "      <td>247</td>\n",
       "      <td>2454</td>\n",
       "      <td>1362</td>\n",
       "      <td>589</td>\n",
       "      <td>140</td>\n",
       "      <td>2454</td>\n",
       "    </tr>\n",
       "    <tr>\n",
       "      <th>2</th>\n",
       "      <td>248</td>\n",
       "      <td>2467</td>\n",
       "      <td>1391</td>\n",
       "      <td>571</td>\n",
       "      <td>162</td>\n",
       "      <td>2467</td>\n",
       "    </tr>\n",
       "  </tbody>\n",
       "</table>\n",
       "</div>"
      ],
      "text/plain": [
       "   group  MainScreenAppear  OffersScreenAppear  CartScreenAppear  \\\n",
       "0    246              2423                1387               569   \n",
       "1    247              2454                1362               589   \n",
       "2    248              2467                1391               571   \n",
       "\n",
       "   PaymentScreenSuccessful  user  \n",
       "0                      138  2423  \n",
       "1                      140  2454  \n",
       "2                      162  2467  "
      ]
     },
     "execution_count": 30,
     "metadata": {},
     "output_type": "execute_result"
    }
   ],
   "source": [
    "data_clear_users_by_group['user'] = data_clear_users_by_group['MainScreenAppear']\n",
    "data_clear_users_by_group"
   ]
  },
  {
   "cell_type": "code",
   "execution_count": 31,
   "id": "e5349f5d",
   "metadata": {
    "scrolled": true
   },
   "outputs": [
    {
     "data": {
      "text/html": [
       "<div>\n",
       "<style scoped>\n",
       "    .dataframe tbody tr th:only-of-type {\n",
       "        vertical-align: middle;\n",
       "    }\n",
       "\n",
       "    .dataframe tbody tr th {\n",
       "        vertical-align: top;\n",
       "    }\n",
       "\n",
       "    .dataframe thead th {\n",
       "        text-align: right;\n",
       "    }\n",
       "</style>\n",
       "<table border=\"1\" class=\"dataframe\">\n",
       "  <thead>\n",
       "    <tr style=\"text-align: right;\">\n",
       "      <th></th>\n",
       "      <th>group</th>\n",
       "      <th>MainScreenAppear</th>\n",
       "      <th>OffersScreenAppear</th>\n",
       "      <th>CartScreenAppear</th>\n",
       "      <th>PaymentScreenSuccessful</th>\n",
       "      <th>user</th>\n",
       "    </tr>\n",
       "  </thead>\n",
       "  <tbody>\n",
       "    <tr>\n",
       "      <th>0</th>\n",
       "      <td>246</td>\n",
       "      <td>2423</td>\n",
       "      <td>1387</td>\n",
       "      <td>569</td>\n",
       "      <td>138</td>\n",
       "      <td>2423</td>\n",
       "    </tr>\n",
       "    <tr>\n",
       "      <th>1</th>\n",
       "      <td>247</td>\n",
       "      <td>2454</td>\n",
       "      <td>1362</td>\n",
       "      <td>589</td>\n",
       "      <td>140</td>\n",
       "      <td>2454</td>\n",
       "    </tr>\n",
       "    <tr>\n",
       "      <th>2</th>\n",
       "      <td>248</td>\n",
       "      <td>2467</td>\n",
       "      <td>1391</td>\n",
       "      <td>571</td>\n",
       "      <td>162</td>\n",
       "      <td>2467</td>\n",
       "    </tr>\n",
       "    <tr>\n",
       "      <th>3</th>\n",
       "      <td>246_247</td>\n",
       "      <td>4877</td>\n",
       "      <td>2749</td>\n",
       "      <td>1158</td>\n",
       "      <td>278</td>\n",
       "      <td>4877</td>\n",
       "    </tr>\n",
       "  </tbody>\n",
       "</table>\n",
       "</div>"
      ],
      "text/plain": [
       "     group  MainScreenAppear  OffersScreenAppear  CartScreenAppear  \\\n",
       "0      246              2423                1387               569   \n",
       "1      247              2454                1362               589   \n",
       "2      248              2467                1391               571   \n",
       "3  246_247              4877                2749              1158   \n",
       "\n",
       "   PaymentScreenSuccessful  user  \n",
       "0                      138  2423  \n",
       "1                      140  2454  \n",
       "2                      162  2467  \n",
       "3                      278  4877  "
      ]
     },
     "execution_count": 31,
     "metadata": {},
     "output_type": "execute_result"
    }
   ],
   "source": [
    "# создание объединенной группы\n",
    "united_row = ['246_247',\n",
    "              data_clear_users_by_group.query('group == 246')['MainScreenAppear'].iloc[0]  + data_clear_users_by_group.query('group == 247')['MainScreenAppear'].iloc[0] , \n",
    "              data_clear_users_by_group.query('group == 246')['OffersScreenAppear'].iloc[0]  + data_clear_users_by_group.query('group == 247')['OffersScreenAppear'].iloc[0] , \n",
    "              data_clear_users_by_group.query('group == 246')['CartScreenAppear'].iloc[0]  + data_clear_users_by_group.query('group == 247')['CartScreenAppear'].iloc[0] , \n",
    "              data_clear_users_by_group.query('group == 246')['PaymentScreenSuccessful'].iloc[0]  + data_clear_users_by_group.query('group == 247')['PaymentScreenSuccessful'].iloc[0],\n",
    "              data_clear_users_by_group.query('group == 246')['user'].iloc[0]  + data_clear_users_by_group.query('group == 247')['user'].iloc[0] \n",
    "           ]\n",
    "data_clear_users_by_group.loc[3] = united_row\n",
    "data_clear_users_by_group"
   ]
  },
  {
   "cell_type": "markdown",
   "id": "bc26b03d",
   "metadata": {},
   "source": [
    "[К оглавлению](#content)"
   ]
  },
  {
   "cell_type": "markdown",
   "id": "8da6489e",
   "metadata": {},
   "source": [
    "<a id='group_dif'></a>\n",
    "## Достоверность разницы в группах (для пользователей, которые последовательно прошли все этапы)"
   ]
  },
  {
   "cell_type": "markdown",
   "id": "178f39df",
   "metadata": {},
   "source": [
    "Для расчета достоверности разницы в группах будет использоваться z-test. Будут проанализированы пользователи, которые прошли последовательно все этапы. Потому событие MainScreenAppear проанализировано не будет - это первый этап, который прошли 100% всех пользователей во всех группах"
   ]
  },
  {
   "cell_type": "code",
   "execution_count": 32,
   "id": "dee25758",
   "metadata": {},
   "outputs": [],
   "source": [
    "# z-test\n",
    "def z_test(data, group_1, group_2, alpha, events):\n",
    "    for item in events:\n",
    "        count = np.array([data.query('group == @group_1')[item].iloc[0], data.query('group == @group_2')[item].iloc[0]])\n",
    "        nobs = np.array([data.query('group == @group_1')['user'].iloc[0], data.query('group == @group_2')['user'].iloc[0]])\n",
    "        stat, p_value = proportions_ztest(count, nobs)\n",
    "        print('Событие {} p-значение: {}'.format(item, round(p_value, 3)))\n",
    "        if (p_value < alpha):\n",
    "            print(\"Отвергаем нулевую гипотезу: между долями есть значимая разница\")\n",
    "        else:\n",
    "            print(\"Не получилось отвергнуть нулевую гипотезу, нет оснований считать доли разными\")\n",
    "            print(' ')"
   ]
  },
  {
   "cell_type": "markdown",
   "id": "eb1876f4",
   "metadata": {},
   "source": [
    "### А/А тест: разница между двумя контрольными группами"
   ]
  },
  {
   "cell_type": "code",
   "execution_count": 33,
   "id": "3ba6867c",
   "metadata": {
    "scrolled": false
   },
   "outputs": [
    {
     "name": "stdout",
     "output_type": "stream",
     "text": [
      "Событие OffersScreenAppear p-значение: 0.22\n",
      "Не получилось отвергнуть нулевую гипотезу, нет оснований считать доли разными\n",
      " \n",
      "Событие CartScreenAppear p-значение: 0.671\n",
      "Не получилось отвергнуть нулевую гипотезу, нет оснований считать доли разными\n",
      " \n",
      "Событие PaymentScreenSuccessful p-значение: 0.989\n",
      "Не получилось отвергнуть нулевую гипотезу, нет оснований считать доли разными\n",
      " \n"
     ]
    }
   ],
   "source": [
    "z_test(data_clear_users_by_group, 246, 247, 0.01, ['OffersScreenAppear', 'CartScreenAppear', 'PaymentScreenSuccessful'])"
   ]
  },
  {
   "cell_type": "markdown",
   "id": "f240292a",
   "metadata": {},
   "source": [
    "### А/B тест: разница между контрольной и экспериментальной группой"
   ]
  },
  {
   "cell_type": "code",
   "execution_count": 34,
   "id": "bb8b167e",
   "metadata": {
    "scrolled": false
   },
   "outputs": [
    {
     "name": "stdout",
     "output_type": "stream",
     "text": [
      "Событие OffersScreenAppear p-значение: 0.544\n",
      "Не получилось отвергнуть нулевую гипотезу, нет оснований считать доли разными\n",
      " \n",
      "Событие CartScreenAppear p-значение: 0.78\n",
      "Не получилось отвергнуть нулевую гипотезу, нет оснований считать доли разными\n",
      " \n",
      "Событие PaymentScreenSuccessful p-значение: 0.204\n",
      "Не получилось отвергнуть нулевую гипотезу, нет оснований считать доли разными\n",
      " \n"
     ]
    }
   ],
   "source": [
    "z_test(data_clear_users_by_group, 246, 248, 0.05, ['OffersScreenAppear', 'CartScreenAppear', 'PaymentScreenSuccessful'])"
   ]
  },
  {
   "cell_type": "code",
   "execution_count": 35,
   "id": "764267a3",
   "metadata": {
    "scrolled": true
   },
   "outputs": [
    {
     "name": "stdout",
     "output_type": "stream",
     "text": [
      "Событие OffersScreenAppear p-значение: 0.533\n",
      "Не получилось отвергнуть нулевую гипотезу, нет оснований считать доли разными\n",
      " \n",
      "Событие CartScreenAppear p-значение: 0.479\n",
      "Не получилось отвергнуть нулевую гипотезу, нет оснований считать доли разными\n",
      " \n",
      "Событие PaymentScreenSuccessful p-значение: 0.208\n",
      "Не получилось отвергнуть нулевую гипотезу, нет оснований считать доли разными\n",
      " \n"
     ]
    }
   ],
   "source": [
    "z_test(data_clear_users_by_group, 247, 248, 0.05, ['OffersScreenAppear', 'CartScreenAppear', 'PaymentScreenSuccessful'])"
   ]
  },
  {
   "cell_type": "markdown",
   "id": "b099cc3b",
   "metadata": {},
   "source": [
    "### А/B тест: разница между объединенными контрольными и экспериментальной группой"
   ]
  },
  {
   "cell_type": "code",
   "execution_count": 36,
   "id": "0089b05e",
   "metadata": {
    "scrolled": true
   },
   "outputs": [
    {
     "name": "stdout",
     "output_type": "stream",
     "text": [
      "Событие OffersScreenAppear p-значение: 0.989\n",
      "Не получилось отвергнуть нулевую гипотезу, нет оснований считать доли разными\n",
      " \n",
      "Событие CartScreenAppear p-значение: 0.568\n",
      "Не получилось отвергнуть нулевую гипотезу, нет оснований считать доли разными\n",
      " \n",
      "Событие PaymentScreenSuccessful p-значение: 0.139\n",
      "Не получилось отвергнуть нулевую гипотезу, нет оснований считать доли разными\n",
      " \n"
     ]
    }
   ],
   "source": [
    "z_test(data_clear_users_by_group, '246_247', 248, 0.05, ['OffersScreenAppear', 'CartScreenAppear', 'PaymentScreenSuccessful'])"
   ]
  },
  {
   "cell_type": "markdown",
   "id": "89c2a6cc",
   "metadata": {},
   "source": [
    "<b>Вывод:</b> значимой разницы между группами во всех тестах нет\n",
    "\n",
    "Количество выполненных проверок - 12.\n",
    "Корректировка уровня значимости не требуется, во всех тестах уровень значимости значительно выше 5%"
   ]
  },
  {
   "cell_type": "markdown",
   "id": "31d034e4",
   "metadata": {},
   "source": [
    "[К оглавлению](#content) "
   ]
  },
  {
   "cell_type": "markdown",
   "id": "2cad5460",
   "metadata": {},
   "source": [
    "<a id='group_dif'></a>\n",
    "## Достоверность разницы в группах (для всех пользователей)"
   ]
  },
  {
   "cell_type": "code",
   "execution_count": 37,
   "id": "22ba67f6",
   "metadata": {},
   "outputs": [
    {
     "data": {
      "text/html": [
       "<div>\n",
       "<style scoped>\n",
       "    .dataframe tbody tr th:only-of-type {\n",
       "        vertical-align: middle;\n",
       "    }\n",
       "\n",
       "    .dataframe tbody tr th {\n",
       "        vertical-align: top;\n",
       "    }\n",
       "\n",
       "    .dataframe thead th {\n",
       "        text-align: right;\n",
       "    }\n",
       "</style>\n",
       "<table border=\"1\" class=\"dataframe\">\n",
       "  <thead>\n",
       "    <tr style=\"text-align: right;\">\n",
       "      <th></th>\n",
       "      <th>group</th>\n",
       "      <th>CartScreenAppear</th>\n",
       "      <th>MainScreenAppear</th>\n",
       "      <th>OffersScreenAppear</th>\n",
       "      <th>PaymentScreenSuccessful</th>\n",
       "      <th>user</th>\n",
       "    </tr>\n",
       "  </thead>\n",
       "  <tbody>\n",
       "    <tr>\n",
       "      <th>0</th>\n",
       "      <td>246</td>\n",
       "      <td>1238</td>\n",
       "      <td>2423</td>\n",
       "      <td>1514</td>\n",
       "      <td>1172</td>\n",
       "      <td>2455</td>\n",
       "    </tr>\n",
       "    <tr>\n",
       "      <th>1</th>\n",
       "      <td>247</td>\n",
       "      <td>1216</td>\n",
       "      <td>2454</td>\n",
       "      <td>1498</td>\n",
       "      <td>1136</td>\n",
       "      <td>2490</td>\n",
       "    </tr>\n",
       "    <tr>\n",
       "      <th>2</th>\n",
       "      <td>248</td>\n",
       "      <td>1204</td>\n",
       "      <td>2467</td>\n",
       "      <td>1505</td>\n",
       "      <td>1155</td>\n",
       "      <td>2509</td>\n",
       "    </tr>\n",
       "    <tr>\n",
       "      <th>3</th>\n",
       "      <td>246_247</td>\n",
       "      <td>2454</td>\n",
       "      <td>4877</td>\n",
       "      <td>3012</td>\n",
       "      <td>2308</td>\n",
       "      <td>4945</td>\n",
       "    </tr>\n",
       "  </tbody>\n",
       "</table>\n",
       "</div>"
      ],
      "text/plain": [
       "     group  CartScreenAppear  MainScreenAppear  OffersScreenAppear  \\\n",
       "0      246              1238              2423                1514   \n",
       "1      247              1216              2454                1498   \n",
       "2      248              1204              2467                1505   \n",
       "3  246_247              2454              4877                3012   \n",
       "\n",
       "   PaymentScreenSuccessful  user  \n",
       "0                     1172  2455  \n",
       "1                     1136  2490  \n",
       "2                     1155  2509  \n",
       "3                     2308  4945  "
      ]
     },
     "execution_count": 37,
     "metadata": {},
     "output_type": "execute_result"
    }
   ],
   "source": [
    "data_test = data_f.copy()\n",
    "data_test = data_test[data_test['event'] != 'Tutorial'].pivot_table(index = 'group', columns = 'event', values = 'user', aggfunc = 'nunique').reset_index()\n",
    "\n",
    "data_test = data_test.merge(data_f[data_f['event'] != 'Tutorial'].groupby('group')['user'].nunique(), on='group')\n",
    "\n",
    "united_row_test = ['246_247',\n",
    "              data_test.query('group == 246')['CartScreenAppear'].iloc[0]  + data_test.query('group == 247')['CartScreenAppear'].iloc[0], \n",
    "              data_test.query('group == 246')['MainScreenAppear'].iloc[0]  + data_test.query('group == 247')['MainScreenAppear'].iloc[0], \n",
    "              data_test.query('group == 246')['OffersScreenAppear'].iloc[0]  + data_test.query('group == 247')['OffersScreenAppear'].iloc[0], \n",
    "              data_test.query('group == 246')['PaymentScreenSuccessful'].iloc[0]  + data_test.query('group == 247')['PaymentScreenSuccessful'].iloc[0],\n",
    "              data_test.query('group == 246')['user'].iloc[0]  + data_test.query('group == 247')['user'].iloc[0] \n",
    "           ]\n",
    "data_test.loc[3] = united_row_test\n",
    "data_test"
   ]
  },
  {
   "cell_type": "markdown",
   "id": "fa6c2a5d",
   "metadata": {},
   "source": [
    "### А/А тест: разница между двумя контрольными группами"
   ]
  },
  {
   "cell_type": "code",
   "execution_count": 38,
   "id": "70f13e66",
   "metadata": {
    "scrolled": true
   },
   "outputs": [
    {
     "name": "stdout",
     "output_type": "stream",
     "text": [
      "Событие MainScreenAppear p-значение: 0.667\n",
      "Не получилось отвергнуть нулевую гипотезу, нет оснований считать доли разными\n",
      " \n",
      "Событие OffersScreenAppear p-значение: 0.277\n",
      "Не получилось отвергнуть нулевую гипотезу, нет оснований считать доли разными\n",
      " \n",
      "Событие CartScreenAppear p-значение: 0.263\n",
      "Не получилось отвергнуть нулевую гипотезу, нет оснований считать доли разными\n",
      " \n",
      "Событие PaymentScreenSuccessful p-значение: 0.136\n",
      "Не получилось отвергнуть нулевую гипотезу, нет оснований считать доли разными\n",
      " \n"
     ]
    }
   ],
   "source": [
    "z_test(data_test, 246, 247, 0.01, ['MainScreenAppear', 'OffersScreenAppear', 'CartScreenAppear', 'PaymentScreenSuccessful'])"
   ]
  },
  {
   "cell_type": "markdown",
   "id": "ab76f8bd",
   "metadata": {},
   "source": [
    "### А/B тест: разница между контрольной и экспериментальной группой"
   ]
  },
  {
   "cell_type": "code",
   "execution_count": 39,
   "id": "16ac6bd0",
   "metadata": {
    "scrolled": true
   },
   "outputs": [
    {
     "name": "stdout",
     "output_type": "stream",
     "text": [
      "Событие MainScreenAppear p-значение: 0.281\n",
      "Не получилось отвергнуть нулевую гипотезу, нет оснований считать доли разными\n",
      " \n",
      "Событие OffersScreenAppear p-значение: 0.224\n",
      "Не получилось отвергнуть нулевую гипотезу, нет оснований считать доли разными\n",
      " \n",
      "Событие CartScreenAppear p-значение: 0.086\n",
      "Не получилось отвергнуть нулевую гипотезу, нет оснований считать доли разными\n",
      " \n",
      "Событие PaymentScreenSuccessful p-значение: 0.229\n",
      "Не получилось отвергнуть нулевую гипотезу, нет оснований считать доли разными\n",
      " \n"
     ]
    }
   ],
   "source": [
    "z_test(data_test, 246, 248, 0.05, ['MainScreenAppear', 'OffersScreenAppear', 'CartScreenAppear', 'PaymentScreenSuccessful'])"
   ]
  },
  {
   "cell_type": "code",
   "execution_count": 40,
   "id": "a29b1ddd",
   "metadata": {},
   "outputs": [
    {
     "name": "stdout",
     "output_type": "stream",
     "text": [
      "Событие MainScreenAppear p-значение: 0.515\n",
      "Не получилось отвергнуть нулевую гипотезу, нет оснований считать доли разными\n",
      " \n",
      "Событие OffersScreenAppear p-значение: 0.899\n",
      "Не получилось отвергнуть нулевую гипотезу, нет оснований считать доли разными\n",
      " \n",
      "Событие CartScreenAppear p-значение: 0.549\n",
      "Не получилось отвергнуть нулевую гипотезу, нет оснований считать доли разными\n",
      " \n",
      "Событие PaymentScreenSuccessful p-значение: 0.77\n",
      "Не получилось отвергнуть нулевую гипотезу, нет оснований считать доли разными\n",
      " \n"
     ]
    }
   ],
   "source": [
    "z_test(data_test, 247, 248, 0.05, ['MainScreenAppear', 'OffersScreenAppear', 'CartScreenAppear', 'PaymentScreenSuccessful'])"
   ]
  },
  {
   "cell_type": "markdown",
   "id": "1e15506c",
   "metadata": {},
   "source": [
    "### А/B тест: разница между объединенными контрольными и экспериментальной группой"
   ]
  },
  {
   "cell_type": "code",
   "execution_count": 41,
   "id": "737e7cea",
   "metadata": {
    "scrolled": true
   },
   "outputs": [
    {
     "name": "stdout",
     "output_type": "stream",
     "text": [
      "Событие MainScreenAppear p-значение: 0.312\n",
      "Не получилось отвергнуть нулевую гипотезу, нет оснований считать доли разными\n",
      " \n",
      "Событие OffersScreenAppear p-значение: 0.439\n",
      "Не получилось отвергнуть нулевую гипотезу, нет оснований считать доли разными\n",
      " \n",
      "Событие CartScreenAppear p-значение: 0.181\n",
      "Не получилось отвергнуть нулевую гипотезу, нет оснований считать доли разными\n",
      " \n",
      "Событие PaymentScreenSuccessful p-значение: 0.601\n",
      "Не получилось отвергнуть нулевую гипотезу, нет оснований считать доли разными\n",
      " \n"
     ]
    }
   ],
   "source": [
    "z_test(data_test, '246_247', 248, 0.05, ['MainScreenAppear', 'OffersScreenAppear', 'CartScreenAppear', 'PaymentScreenSuccessful'])"
   ]
  },
  {
   "cell_type": "markdown",
   "id": "bd8df892",
   "metadata": {},
   "source": [
    "Количество выполненных проверок - 16.\n",
    "    \n",
    "Корректировка уровня значимости не требуется, во всех тестах уровень значимости выше 5%\n",
    "    \n",
    "<b>Вывод:</b> значимой разницы между группами во всех тестах нет"
   ]
  },
  {
   "cell_type": "markdown",
   "id": "1a6fae35",
   "metadata": {},
   "source": [
    "[К оглавлению](#content) "
   ]
  },
  {
   "cell_type": "markdown",
   "id": "2b9642ad",
   "metadata": {},
   "source": [
    "<a id='result'></a>\n",
    "# Общий вывод"
   ]
  },
  {
   "cell_type": "markdown",
   "id": "50e61f22",
   "metadata": {},
   "source": [
    "В ходе анализа и эксперементов было сделано и выявлено:\n",
    "\n",
    "В результате предобработки данных были удалены дубликаты, изменены названия солбцов и созданы два дополнительных столбца: с датой/временем события и с датой события. \n",
    "\n",
    "Распределение количества событий по количеству пользователей - экспоненциальное (есть выбросы - присутствуют пользователи с аномально большим количеством событий). После фильтрации аномалий, среднее число событий на одного пользователя - 24.76, медианное - 19, число пользователей в логе -  7475.\n",
    "\n",
    "Данные собирались в течение 13 дней. При этом, за июль количество собранных данных или активность пользователей существенно ниже, чем за август - в июле произошло всего 1.2% всех событий. Данные за июль были отфильтрованы из датасета. В новом датасете есть пользователи во всех группах, размеры групп сопоставимы\n",
    "\n",
    "События, которые составляют событийную воронку, происходят в следующем порядке: \n",
    "1. MainScreenAppear - появление главного экрана - Пользователь зашел на сайт\n",
    "2. OffersScreenAppear - появление экрана предложений - Пользователь искал товар по каталогу\n",
    "3. CartScreenAppear - появление экрана корзины - Пользователь добавил товар в корзину\n",
    "4. PaymentScreenSuccessful - экран платеж успешен - Пользователь оплатил товар (целевое действие)\n",
    "\n",
    "Событие Tutorial - руководство пользователя - может произойти на любом этапе и не входит в цепочку событий от захода на сайт до совершения покупки. Данное событие не учитывалось при расчете воронки\n",
    "\n",
    "Больше всего пользователей теряется на этапе MainScreenAppear - OffersScreenAppear (38%). Меньше всего теряется пользователей на этапе CartScreenAppear - PaymentScreenSuccessful (5%). Конверсия оплаты от захода на сайт неправдоподобно высокая - 48%. Это могло быть связано с тем, что часть пользователей проходила воронку событий не с первого этапа. Конверсия захода на сайт в покупку для пользователей последовательно прошедших все этапы событийной воронки составляет 6%, самая большая потеря пользователей происходит на этапе оплаты - 75%.\n",
    "\n",
    "Было оценено, существует ли достоверная разница между группами A1/A1, A1/B, A2/B, A1+A2/B. Значимой разницы между группами во всех тестах нет. Поэтому можно утверждать, что на поведение пользователей изменение шрифта значимого эффекта не оказало. Тестирование можно назвать успешным - изменение шрифта не повлияло на поведение пользователей."
   ]
  },
  {
   "cell_type": "markdown",
   "id": "f2d45e6a",
   "metadata": {},
   "source": [
    "[К оглавлению](#content) "
   ]
  }
 ],
 "metadata": {
  "ExecuteTimeLog": [
   {
    "duration": 2111,
    "start_time": "2022-02-19T05:15:44.049Z"
   },
   {
    "duration": 193,
    "start_time": "2022-02-19T05:15:46.163Z"
   },
   {
    "duration": 16,
    "start_time": "2022-02-19T05:15:46.359Z"
   },
   {
    "duration": 18,
    "start_time": "2022-02-19T05:15:46.378Z"
   },
   {
    "duration": 109,
    "start_time": "2022-02-19T05:15:46.398Z"
   },
   {
    "duration": 104,
    "start_time": "2022-02-19T05:15:46.510Z"
   },
   {
    "duration": 234,
    "start_time": "2022-02-19T05:15:46.616Z"
   },
   {
    "duration": 16,
    "start_time": "2022-02-19T05:15:46.853Z"
   },
   {
    "duration": 32,
    "start_time": "2022-02-19T05:15:46.872Z"
   },
   {
    "duration": 26,
    "start_time": "2022-02-19T05:15:46.906Z"
   },
   {
    "duration": 37,
    "start_time": "2022-02-19T05:15:46.935Z"
   },
   {
    "duration": 673,
    "start_time": "2022-02-19T05:15:46.975Z"
   },
   {
    "duration": 723,
    "start_time": "2022-02-19T05:15:47.651Z"
   },
   {
    "duration": 7,
    "start_time": "2022-02-19T05:15:48.376Z"
   },
   {
    "duration": 89,
    "start_time": "2022-02-19T05:15:48.385Z"
   },
   {
    "duration": 7,
    "start_time": "2022-02-19T05:15:48.477Z"
   },
   {
    "duration": 1250,
    "start_time": "2022-02-19T05:15:48.487Z"
   },
   {
    "duration": 19,
    "start_time": "2022-02-19T05:15:49.740Z"
   },
   {
    "duration": 69,
    "start_time": "2022-02-19T05:15:49.761Z"
   },
   {
    "duration": 10,
    "start_time": "2022-02-19T05:15:49.832Z"
   },
   {
    "duration": 27,
    "start_time": "2022-02-19T05:15:49.845Z"
   },
   {
    "duration": 121,
    "start_time": "2022-02-19T05:15:49.927Z"
   },
   {
    "duration": 435,
    "start_time": "2022-02-19T05:15:50.055Z"
   },
   {
    "duration": 361,
    "start_time": "2022-02-19T05:15:50.493Z"
   },
   {
    "duration": 161,
    "start_time": "2022-02-19T05:15:50.857Z"
   },
   {
    "duration": 202,
    "start_time": "2022-02-19T05:15:51.025Z"
   },
   {
    "duration": 258,
    "start_time": "2022-02-19T05:15:51.229Z"
   },
   {
    "duration": 9,
    "start_time": "2022-02-19T05:15:51.489Z"
   },
   {
    "duration": 54,
    "start_time": "2022-02-19T05:15:51.501Z"
   },
   {
    "duration": 8,
    "start_time": "2022-02-19T05:15:51.557Z"
   },
   {
    "duration": 64,
    "start_time": "2022-02-19T05:15:51.567Z"
   },
   {
    "duration": 37,
    "start_time": "2022-02-19T05:15:51.633Z"
   },
   {
    "duration": 59,
    "start_time": "2022-02-19T05:15:51.673Z"
   },
   {
    "duration": 38,
    "start_time": "2022-02-19T05:15:51.735Z"
   },
   {
    "duration": 294,
    "start_time": "2022-02-20T14:32:27.994Z"
   },
   {
    "duration": 2102,
    "start_time": "2022-02-20T14:32:34.451Z"
   },
   {
    "duration": 334,
    "start_time": "2022-02-20T14:32:36.556Z"
   },
   {
    "duration": 14,
    "start_time": "2022-02-20T14:32:36.893Z"
   },
   {
    "duration": 16,
    "start_time": "2022-02-20T14:32:36.911Z"
   },
   {
    "duration": 112,
    "start_time": "2022-02-20T14:32:36.930Z"
   },
   {
    "duration": 99,
    "start_time": "2022-02-20T14:32:37.045Z"
   },
   {
    "duration": 216,
    "start_time": "2022-02-20T14:32:37.147Z"
   },
   {
    "duration": 34,
    "start_time": "2022-02-20T14:32:37.367Z"
   },
   {
    "duration": 14,
    "start_time": "2022-02-20T14:32:37.404Z"
   },
   {
    "duration": 41,
    "start_time": "2022-02-20T14:32:37.421Z"
   },
   {
    "duration": 9,
    "start_time": "2022-02-20T14:32:37.465Z"
   },
   {
    "duration": 39,
    "start_time": "2022-02-20T14:32:37.495Z"
   },
   {
    "duration": 664,
    "start_time": "2022-02-20T14:32:37.536Z"
   },
   {
    "duration": 652,
    "start_time": "2022-02-20T14:32:38.202Z"
   },
   {
    "duration": 7,
    "start_time": "2022-02-20T14:32:38.856Z"
   },
   {
    "duration": 76,
    "start_time": "2022-02-20T14:32:38.866Z"
   },
   {
    "duration": 9,
    "start_time": "2022-02-20T14:32:38.944Z"
   },
   {
    "duration": 1716,
    "start_time": "2022-02-20T14:32:38.955Z"
   },
   {
    "duration": 37,
    "start_time": "2022-02-20T14:32:40.673Z"
   },
   {
    "duration": 14,
    "start_time": "2022-02-20T14:32:40.713Z"
   },
   {
    "duration": 66,
    "start_time": "2022-02-20T14:32:40.730Z"
   },
   {
    "duration": 28,
    "start_time": "2022-02-20T14:32:40.798Z"
   },
   {
    "duration": 119,
    "start_time": "2022-02-20T14:32:40.832Z"
   },
   {
    "duration": 380,
    "start_time": "2022-02-20T14:32:40.994Z"
   },
   {
    "duration": 345,
    "start_time": "2022-02-20T14:32:41.376Z"
   },
   {
    "duration": 139,
    "start_time": "2022-02-20T14:32:41.723Z"
   },
   {
    "duration": 180,
    "start_time": "2022-02-20T14:32:41.864Z"
   },
   {
    "duration": 248,
    "start_time": "2022-02-20T14:32:42.046Z"
   },
   {
    "duration": 10,
    "start_time": "2022-02-20T14:32:42.297Z"
   },
   {
    "duration": 38,
    "start_time": "2022-02-20T14:32:42.309Z"
   },
   {
    "duration": 12,
    "start_time": "2022-02-20T14:32:42.350Z"
   },
   {
    "duration": 68,
    "start_time": "2022-02-20T14:32:42.365Z"
   },
   {
    "duration": 36,
    "start_time": "2022-02-20T14:32:42.436Z"
   },
   {
    "duration": 39,
    "start_time": "2022-02-20T14:32:42.494Z"
   },
   {
    "duration": 62,
    "start_time": "2022-02-20T14:32:42.536Z"
   },
   {
    "duration": 24,
    "start_time": "2022-02-20T14:34:49.004Z"
   },
   {
    "duration": 38,
    "start_time": "2022-02-20T14:34:59.105Z"
   },
   {
    "duration": 50,
    "start_time": "2022-02-20T14:35:08.832Z"
   },
   {
    "duration": 9,
    "start_time": "2022-02-20T14:37:46.465Z"
   },
   {
    "duration": 38,
    "start_time": "2022-02-20T14:41:19.643Z"
   },
   {
    "duration": 815,
    "start_time": "2022-02-20T14:42:05.744Z"
   },
   {
    "duration": 11,
    "start_time": "2022-02-20T14:43:59.903Z"
   },
   {
    "duration": 4,
    "start_time": "2022-02-20T14:44:14.352Z"
   },
   {
    "duration": 11,
    "start_time": "2022-02-20T14:44:18.569Z"
   },
   {
    "duration": 24,
    "start_time": "2022-02-20T14:44:25.243Z"
   },
   {
    "duration": 25,
    "start_time": "2022-02-20T14:44:29.895Z"
   },
   {
    "duration": 103,
    "start_time": "2022-02-20T14:45:42.864Z"
   },
   {
    "duration": 66,
    "start_time": "2022-02-20T14:45:55.574Z"
   },
   {
    "duration": 60,
    "start_time": "2022-02-20T14:46:07.681Z"
   },
   {
    "duration": 73,
    "start_time": "2022-02-20T14:46:13.622Z"
   },
   {
    "duration": 100,
    "start_time": "2022-02-20T14:46:40.826Z"
   },
   {
    "duration": 106,
    "start_time": "2022-02-20T14:46:58.828Z"
   },
   {
    "duration": 35,
    "start_time": "2022-02-20T14:47:13.638Z"
   },
   {
    "duration": 35,
    "start_time": "2022-02-20T14:47:50.027Z"
   },
   {
    "duration": 37,
    "start_time": "2022-02-20T14:48:59.535Z"
   },
   {
    "duration": 318,
    "start_time": "2022-02-20T16:11:28.068Z"
   },
   {
    "duration": 38,
    "start_time": "2022-02-20T16:11:32.002Z"
   },
   {
    "duration": 39,
    "start_time": "2022-02-20T16:11:38.600Z"
   },
   {
    "duration": 42,
    "start_time": "2022-02-20T16:12:14.693Z"
   },
   {
    "duration": 343,
    "start_time": "2022-02-20T16:13:33.499Z"
   },
   {
    "duration": 39,
    "start_time": "2022-02-20T16:13:49.940Z"
   },
   {
    "duration": 350,
    "start_time": "2022-02-20T16:14:01.573Z"
   },
   {
    "duration": 42,
    "start_time": "2022-02-20T16:14:08.265Z"
   },
   {
    "duration": 6,
    "start_time": "2022-02-20T16:14:48.361Z"
   },
   {
    "duration": 242,
    "start_time": "2022-02-20T16:14:50.834Z"
   },
   {
    "duration": 38,
    "start_time": "2022-02-20T16:15:16.914Z"
   },
   {
    "duration": 48,
    "start_time": "2022-02-20T16:15:40.330Z"
   },
   {
    "duration": 147,
    "start_time": "2022-02-20T16:16:16.599Z"
   },
   {
    "duration": 352,
    "start_time": "2022-02-20T16:18:46.287Z"
   },
   {
    "duration": 43,
    "start_time": "2022-02-20T16:19:00.461Z"
   },
   {
    "duration": 10,
    "start_time": "2022-02-20T16:19:03.499Z"
   },
   {
    "duration": 342,
    "start_time": "2022-02-20T16:19:08.684Z"
   },
   {
    "duration": 648,
    "start_time": "2022-02-20T16:20:54.618Z"
   },
   {
    "duration": 628,
    "start_time": "2022-02-20T16:21:05.013Z"
   },
   {
    "duration": 670,
    "start_time": "2022-02-20T16:21:21.149Z"
   },
   {
    "duration": 416,
    "start_time": "2022-02-20T16:21:34.523Z"
   },
   {
    "duration": 445,
    "start_time": "2022-02-20T16:21:52.408Z"
   },
   {
    "duration": 366,
    "start_time": "2022-02-20T16:21:59.318Z"
   },
   {
    "duration": 385,
    "start_time": "2022-02-20T16:23:00.879Z"
   },
   {
    "duration": 410,
    "start_time": "2022-02-20T16:23:03.807Z"
   },
   {
    "duration": 77,
    "start_time": "2022-02-20T16:23:42.115Z"
   },
   {
    "duration": 427,
    "start_time": "2022-02-20T16:23:57.532Z"
   },
   {
    "duration": 12,
    "start_time": "2022-02-20T16:24:56.735Z"
   },
   {
    "duration": 322,
    "start_time": "2022-02-20T16:25:00.727Z"
   },
   {
    "duration": 47,
    "start_time": "2022-02-20T16:25:33.415Z"
   },
   {
    "duration": 7,
    "start_time": "2022-02-20T16:25:51.483Z"
   },
   {
    "duration": 41,
    "start_time": "2022-02-20T16:25:53.659Z"
   },
   {
    "duration": 39,
    "start_time": "2022-02-20T16:26:01.747Z"
   },
   {
    "duration": 45,
    "start_time": "2022-02-20T16:26:04.787Z"
   },
   {
    "duration": 42,
    "start_time": "2022-02-20T16:26:10.084Z"
   },
   {
    "duration": 57,
    "start_time": "2022-02-20T16:26:24.921Z"
   },
   {
    "duration": 49,
    "start_time": "2022-02-20T16:26:38.139Z"
   },
   {
    "duration": 52,
    "start_time": "2022-02-20T16:26:42.471Z"
   },
   {
    "duration": 49,
    "start_time": "2022-02-20T16:26:47.991Z"
   },
   {
    "duration": 1936,
    "start_time": "2022-02-20T16:26:59.641Z"
   },
   {
    "duration": 195,
    "start_time": "2022-02-20T16:27:01.580Z"
   },
   {
    "duration": 24,
    "start_time": "2022-02-20T16:27:01.778Z"
   },
   {
    "duration": 51,
    "start_time": "2022-02-20T16:27:01.807Z"
   },
   {
    "duration": 94,
    "start_time": "2022-02-20T16:27:01.860Z"
   },
   {
    "duration": 99,
    "start_time": "2022-02-20T16:27:01.957Z"
   },
   {
    "duration": 230,
    "start_time": "2022-02-20T16:27:02.059Z"
   },
   {
    "duration": 61,
    "start_time": "2022-02-20T16:27:02.297Z"
   },
   {
    "duration": 38,
    "start_time": "2022-02-20T16:27:02.361Z"
   },
   {
    "duration": 39,
    "start_time": "2022-02-20T16:27:02.404Z"
   },
   {
    "duration": 7,
    "start_time": "2022-02-20T16:27:02.446Z"
   },
   {
    "duration": 63,
    "start_time": "2022-02-20T16:27:02.456Z"
   },
   {
    "duration": 685,
    "start_time": "2022-02-20T16:27:02.522Z"
   },
   {
    "duration": 728,
    "start_time": "2022-02-20T16:27:03.210Z"
   },
   {
    "duration": 7,
    "start_time": "2022-02-20T16:27:03.941Z"
   },
   {
    "duration": 82,
    "start_time": "2022-02-20T16:27:03.950Z"
   },
   {
    "duration": 8,
    "start_time": "2022-02-20T16:27:04.035Z"
   },
   {
    "duration": 1216,
    "start_time": "2022-02-20T16:27:04.046Z"
   },
   {
    "duration": 51,
    "start_time": "2022-02-20T16:27:05.265Z"
   },
   {
    "duration": 17,
    "start_time": "2022-02-20T16:27:05.319Z"
   },
   {
    "duration": 69,
    "start_time": "2022-02-20T16:27:05.338Z"
   },
   {
    "duration": 15,
    "start_time": "2022-02-20T16:27:05.410Z"
   },
   {
    "duration": 82,
    "start_time": "2022-02-20T16:27:05.431Z"
   },
   {
    "duration": 132,
    "start_time": "2022-02-20T16:27:05.518Z"
   },
   {
    "duration": 451,
    "start_time": "2022-02-20T16:27:05.652Z"
   },
   {
    "duration": 364,
    "start_time": "2022-02-20T16:27:06.106Z"
   },
   {
    "duration": 148,
    "start_time": "2022-02-20T16:27:06.472Z"
   },
   {
    "duration": 191,
    "start_time": "2022-02-20T16:27:06.622Z"
   },
   {
    "duration": 254,
    "start_time": "2022-02-20T16:27:06.815Z"
   },
   {
    "duration": 25,
    "start_time": "2022-02-20T16:27:07.072Z"
   },
   {
    "duration": 49,
    "start_time": "2022-02-20T16:27:07.100Z"
   },
   {
    "duration": 7,
    "start_time": "2022-02-20T16:27:07.152Z"
   },
   {
    "duration": 75,
    "start_time": "2022-02-20T16:27:07.161Z"
   },
   {
    "duration": 77,
    "start_time": "2022-02-20T16:27:07.239Z"
   },
   {
    "duration": 36,
    "start_time": "2022-02-20T16:27:07.319Z"
   },
   {
    "duration": 70,
    "start_time": "2022-02-20T16:27:07.358Z"
   },
   {
    "duration": 414,
    "start_time": "2022-02-20T16:27:07.431Z"
   },
   {
    "duration": 59,
    "start_time": "2022-02-20T16:27:07.847Z"
   },
   {
    "duration": 84,
    "start_time": "2022-02-20T16:27:07.909Z"
   },
   {
    "duration": 51,
    "start_time": "2022-02-20T16:27:07.996Z"
   },
   {
    "duration": 80,
    "start_time": "2022-02-20T16:27:08.050Z"
   },
   {
    "duration": 10,
    "start_time": "2022-02-20T16:29:00.008Z"
   },
   {
    "duration": 51,
    "start_time": "2022-02-20T16:29:05.422Z"
   },
   {
    "duration": 7,
    "start_time": "2022-02-20T16:29:27.619Z"
   },
   {
    "duration": 1895,
    "start_time": "2022-02-20T16:29:33.430Z"
   },
   {
    "duration": 181,
    "start_time": "2022-02-20T16:29:35.328Z"
   },
   {
    "duration": 14,
    "start_time": "2022-02-20T16:29:35.512Z"
   },
   {
    "duration": 26,
    "start_time": "2022-02-20T16:29:35.529Z"
   },
   {
    "duration": 99,
    "start_time": "2022-02-20T16:29:35.558Z"
   },
   {
    "duration": 97,
    "start_time": "2022-02-20T16:29:35.660Z"
   },
   {
    "duration": 209,
    "start_time": "2022-02-20T16:29:35.760Z"
   },
   {
    "duration": 69,
    "start_time": "2022-02-20T16:29:35.973Z"
   },
   {
    "duration": 15,
    "start_time": "2022-02-20T16:29:36.045Z"
   },
   {
    "duration": 38,
    "start_time": "2022-02-20T16:29:36.062Z"
   },
   {
    "duration": 8,
    "start_time": "2022-02-20T16:29:36.103Z"
   },
   {
    "duration": 34,
    "start_time": "2022-02-20T16:29:36.115Z"
   },
   {
    "duration": 687,
    "start_time": "2022-02-20T16:29:36.151Z"
   },
   {
    "duration": 659,
    "start_time": "2022-02-20T16:29:36.841Z"
   },
   {
    "duration": 6,
    "start_time": "2022-02-20T16:29:37.503Z"
   },
   {
    "duration": 83,
    "start_time": "2022-02-20T16:29:37.512Z"
   },
   {
    "duration": 9,
    "start_time": "2022-02-20T16:29:37.597Z"
   },
   {
    "duration": 1111,
    "start_time": "2022-02-20T16:29:37.608Z"
   },
   {
    "duration": 19,
    "start_time": "2022-02-20T16:29:38.722Z"
   },
   {
    "duration": 62,
    "start_time": "2022-02-20T16:29:38.744Z"
   },
   {
    "duration": 10,
    "start_time": "2022-02-20T16:29:38.808Z"
   },
   {
    "duration": 10,
    "start_time": "2022-02-20T16:29:38.821Z"
   },
   {
    "duration": 30,
    "start_time": "2022-02-20T16:29:38.893Z"
   },
   {
    "duration": 123,
    "start_time": "2022-02-20T16:29:38.926Z"
   },
   {
    "duration": 442,
    "start_time": "2022-02-20T16:29:39.052Z"
   },
   {
    "duration": 347,
    "start_time": "2022-02-20T16:29:39.496Z"
   },
   {
    "duration": 144,
    "start_time": "2022-02-20T16:29:39.846Z"
   },
   {
    "duration": 195,
    "start_time": "2022-02-20T16:29:39.993Z"
   },
   {
    "duration": 252,
    "start_time": "2022-02-20T16:29:40.193Z"
   },
   {
    "duration": 12,
    "start_time": "2022-02-20T16:29:40.448Z"
   },
   {
    "duration": 81,
    "start_time": "2022-02-20T16:29:40.463Z"
   },
   {
    "duration": 7,
    "start_time": "2022-02-20T16:29:40.547Z"
   },
   {
    "duration": 66,
    "start_time": "2022-02-20T16:29:40.556Z"
   },
   {
    "duration": 40,
    "start_time": "2022-02-20T16:29:40.624Z"
   },
   {
    "duration": 61,
    "start_time": "2022-02-20T16:29:40.666Z"
   },
   {
    "duration": 38,
    "start_time": "2022-02-20T16:29:40.729Z"
   },
   {
    "duration": 414,
    "start_time": "2022-02-20T16:29:40.794Z"
   },
   {
    "duration": 50,
    "start_time": "2022-02-20T16:29:41.211Z"
   },
   {
    "duration": 69,
    "start_time": "2022-02-20T16:29:41.263Z"
   },
   {
    "duration": 74,
    "start_time": "2022-02-20T16:29:41.334Z"
   },
   {
    "duration": 82,
    "start_time": "2022-02-20T16:29:41.412Z"
   },
   {
    "duration": 2003,
    "start_time": "2022-02-20T16:29:53.626Z"
   },
   {
    "duration": 201,
    "start_time": "2022-02-20T16:29:55.632Z"
   },
   {
    "duration": 18,
    "start_time": "2022-02-20T16:29:55.836Z"
   },
   {
    "duration": 40,
    "start_time": "2022-02-20T16:29:55.857Z"
   },
   {
    "duration": 104,
    "start_time": "2022-02-20T16:29:55.899Z"
   },
   {
    "duration": 111,
    "start_time": "2022-02-20T16:29:56.005Z"
   },
   {
    "duration": 237,
    "start_time": "2022-02-20T16:29:56.120Z"
   },
   {
    "duration": 72,
    "start_time": "2022-02-20T16:29:56.362Z"
   },
   {
    "duration": 21,
    "start_time": "2022-02-20T16:29:56.437Z"
   },
   {
    "duration": 41,
    "start_time": "2022-02-20T16:29:56.460Z"
   },
   {
    "duration": 6,
    "start_time": "2022-02-20T16:29:56.504Z"
   },
   {
    "duration": 40,
    "start_time": "2022-02-20T16:29:56.513Z"
   },
   {
    "duration": 759,
    "start_time": "2022-02-20T16:29:56.556Z"
   },
   {
    "duration": 691,
    "start_time": "2022-02-20T16:29:57.318Z"
   },
   {
    "duration": 6,
    "start_time": "2022-02-20T16:29:58.012Z"
   },
   {
    "duration": 85,
    "start_time": "2022-02-20T16:29:58.021Z"
   },
   {
    "duration": 13,
    "start_time": "2022-02-20T16:29:58.111Z"
   },
   {
    "duration": 1186,
    "start_time": "2022-02-20T16:29:58.129Z"
   },
   {
    "duration": 22,
    "start_time": "2022-02-20T16:29:59.318Z"
   },
   {
    "duration": 62,
    "start_time": "2022-02-20T16:29:59.343Z"
   },
   {
    "duration": 11,
    "start_time": "2022-02-20T16:29:59.407Z"
   },
   {
    "duration": 12,
    "start_time": "2022-02-20T16:29:59.422Z"
   },
   {
    "duration": 31,
    "start_time": "2022-02-20T16:29:59.495Z"
   },
   {
    "duration": 185,
    "start_time": "2022-02-20T16:29:59.529Z"
   },
   {
    "duration": 485,
    "start_time": "2022-02-20T16:29:59.717Z"
   },
   {
    "duration": 388,
    "start_time": "2022-02-20T16:30:00.205Z"
   },
   {
    "duration": 159,
    "start_time": "2022-02-20T16:30:00.596Z"
   },
   {
    "duration": 207,
    "start_time": "2022-02-20T16:30:00.758Z"
   },
   {
    "duration": 255,
    "start_time": "2022-02-20T16:30:00.968Z"
   },
   {
    "duration": 11,
    "start_time": "2022-02-20T16:30:01.226Z"
   },
   {
    "duration": 67,
    "start_time": "2022-02-20T16:30:01.240Z"
   },
   {
    "duration": 20,
    "start_time": "2022-02-20T16:30:01.311Z"
   },
   {
    "duration": 47,
    "start_time": "2022-02-20T16:30:01.333Z"
   },
   {
    "duration": 40,
    "start_time": "2022-02-20T16:30:01.393Z"
   },
   {
    "duration": 64,
    "start_time": "2022-02-20T16:30:01.435Z"
   },
   {
    "duration": 53,
    "start_time": "2022-02-20T16:30:01.502Z"
   },
   {
    "duration": 458,
    "start_time": "2022-02-20T16:30:01.558Z"
   },
   {
    "duration": 48,
    "start_time": "2022-02-20T16:30:02.018Z"
   },
   {
    "duration": 66,
    "start_time": "2022-02-20T16:30:02.069Z"
   },
   {
    "duration": 79,
    "start_time": "2022-02-20T16:30:02.138Z"
   },
   {
    "duration": 74,
    "start_time": "2022-02-20T16:30:02.219Z"
   },
   {
    "duration": 46,
    "start_time": "2022-02-20T16:30:55.162Z"
   },
   {
    "duration": 416,
    "start_time": "2022-02-20T16:40:02.513Z"
   },
   {
    "duration": 2066,
    "start_time": "2022-02-20T16:41:38.908Z"
   },
   {
    "duration": 227,
    "start_time": "2022-02-20T16:41:40.976Z"
   },
   {
    "duration": 19,
    "start_time": "2022-02-20T16:41:41.207Z"
   },
   {
    "duration": 25,
    "start_time": "2022-02-20T16:41:41.230Z"
   },
   {
    "duration": 110,
    "start_time": "2022-02-20T16:41:41.258Z"
   },
   {
    "duration": 144,
    "start_time": "2022-02-20T16:41:41.371Z"
   },
   {
    "duration": 337,
    "start_time": "2022-02-20T16:41:41.520Z"
   },
   {
    "duration": 86,
    "start_time": "2022-02-20T16:41:41.863Z"
   },
   {
    "duration": 25,
    "start_time": "2022-02-20T16:41:41.954Z"
   },
   {
    "duration": 48,
    "start_time": "2022-02-20T16:41:41.995Z"
   },
   {
    "duration": 8,
    "start_time": "2022-02-20T16:41:42.046Z"
   },
   {
    "duration": 64,
    "start_time": "2022-02-20T16:41:42.056Z"
   },
   {
    "duration": 676,
    "start_time": "2022-02-20T16:41:42.123Z"
   },
   {
    "duration": 1052,
    "start_time": "2022-02-20T16:41:42.803Z"
   },
   {
    "duration": 9,
    "start_time": "2022-02-20T16:41:43.858Z"
   },
   {
    "duration": 103,
    "start_time": "2022-02-20T16:41:43.869Z"
   },
   {
    "duration": 20,
    "start_time": "2022-02-20T16:41:43.975Z"
   },
   {
    "duration": 1197,
    "start_time": "2022-02-20T16:41:43.999Z"
   },
   {
    "duration": 24,
    "start_time": "2022-02-20T16:41:45.199Z"
   },
   {
    "duration": 69,
    "start_time": "2022-02-20T16:41:45.226Z"
   },
   {
    "duration": 12,
    "start_time": "2022-02-20T16:41:45.299Z"
   },
   {
    "duration": 17,
    "start_time": "2022-02-20T16:41:45.314Z"
   },
   {
    "duration": 90,
    "start_time": "2022-02-20T16:41:45.336Z"
   },
   {
    "duration": 132,
    "start_time": "2022-02-20T16:41:45.430Z"
   },
   {
    "duration": 403,
    "start_time": "2022-02-20T16:41:45.593Z"
   },
   {
    "duration": 343,
    "start_time": "2022-02-20T16:41:45.998Z"
   },
   {
    "duration": 155,
    "start_time": "2022-02-20T16:41:46.343Z"
   },
   {
    "duration": 198,
    "start_time": "2022-02-20T16:41:46.501Z"
   },
   {
    "duration": 298,
    "start_time": "2022-02-20T16:41:46.701Z"
   },
   {
    "duration": 14,
    "start_time": "2022-02-20T16:41:47.003Z"
   },
   {
    "duration": 48,
    "start_time": "2022-02-20T16:41:47.020Z"
   },
   {
    "duration": 7,
    "start_time": "2022-02-20T16:41:47.095Z"
   },
   {
    "duration": 54,
    "start_time": "2022-02-20T16:41:47.105Z"
   },
   {
    "duration": 57,
    "start_time": "2022-02-20T16:41:47.162Z"
   },
   {
    "duration": 39,
    "start_time": "2022-02-20T16:41:47.221Z"
   },
   {
    "duration": 71,
    "start_time": "2022-02-20T16:41:47.263Z"
   },
   {
    "duration": 425,
    "start_time": "2022-02-20T16:41:47.337Z"
   },
   {
    "duration": 61,
    "start_time": "2022-02-20T16:41:47.764Z"
   },
   {
    "duration": 79,
    "start_time": "2022-02-20T16:41:47.827Z"
   },
   {
    "duration": 48,
    "start_time": "2022-02-20T16:41:47.909Z"
   },
   {
    "duration": 79,
    "start_time": "2022-02-20T16:41:47.959Z"
   },
   {
    "duration": 398,
    "start_time": "2022-02-20T16:43:54.777Z"
   },
   {
    "duration": 431,
    "start_time": "2022-02-20T16:44:11.234Z"
   },
   {
    "duration": 428,
    "start_time": "2022-02-20T16:44:44.699Z"
   },
   {
    "duration": 420,
    "start_time": "2022-02-20T16:44:56.730Z"
   },
   {
    "duration": 417,
    "start_time": "2022-02-20T16:45:09.812Z"
   },
   {
    "duration": 408,
    "start_time": "2022-02-20T16:46:04.821Z"
   },
   {
    "duration": 421,
    "start_time": "2022-02-20T16:46:15.735Z"
   },
   {
    "duration": 443,
    "start_time": "2022-02-20T16:46:44.040Z"
   },
   {
    "duration": 1987,
    "start_time": "2022-02-20T16:46:54.798Z"
   },
   {
    "duration": 199,
    "start_time": "2022-02-20T16:46:56.788Z"
   },
   {
    "duration": 20,
    "start_time": "2022-02-20T16:46:56.995Z"
   },
   {
    "duration": 17,
    "start_time": "2022-02-20T16:46:57.018Z"
   },
   {
    "duration": 117,
    "start_time": "2022-02-20T16:46:57.038Z"
   },
   {
    "duration": 102,
    "start_time": "2022-02-20T16:46:57.158Z"
   },
   {
    "duration": 238,
    "start_time": "2022-02-20T16:46:57.263Z"
   },
   {
    "duration": 60,
    "start_time": "2022-02-20T16:46:57.507Z"
   },
   {
    "duration": 37,
    "start_time": "2022-02-20T16:46:57.570Z"
   },
   {
    "duration": 35,
    "start_time": "2022-02-20T16:46:57.611Z"
   },
   {
    "duration": 7,
    "start_time": "2022-02-20T16:46:57.649Z"
   },
   {
    "duration": 63,
    "start_time": "2022-02-20T16:46:57.659Z"
   },
   {
    "duration": 658,
    "start_time": "2022-02-20T16:46:57.724Z"
   },
   {
    "duration": 651,
    "start_time": "2022-02-20T16:46:58.384Z"
   },
   {
    "duration": 7,
    "start_time": "2022-02-20T16:46:59.037Z"
   },
   {
    "duration": 93,
    "start_time": "2022-02-20T16:46:59.046Z"
   },
   {
    "duration": 9,
    "start_time": "2022-02-20T16:46:59.142Z"
   },
   {
    "duration": 1115,
    "start_time": "2022-02-20T16:46:59.153Z"
   },
   {
    "duration": 44,
    "start_time": "2022-02-20T16:47:00.270Z"
   },
   {
    "duration": 16,
    "start_time": "2022-02-20T16:47:00.316Z"
   },
   {
    "duration": 59,
    "start_time": "2022-02-20T16:47:00.335Z"
   },
   {
    "duration": 12,
    "start_time": "2022-02-20T16:47:00.398Z"
   },
   {
    "duration": 102,
    "start_time": "2022-02-20T16:47:00.415Z"
   },
   {
    "duration": 142,
    "start_time": "2022-02-20T16:47:00.521Z"
   },
   {
    "duration": 445,
    "start_time": "2022-02-20T16:47:00.665Z"
   },
   {
    "duration": 374,
    "start_time": "2022-02-20T16:47:01.113Z"
   },
   {
    "duration": 150,
    "start_time": "2022-02-20T16:47:01.493Z"
   },
   {
    "duration": 206,
    "start_time": "2022-02-20T16:47:01.645Z"
   },
   {
    "duration": 256,
    "start_time": "2022-02-20T16:47:01.853Z"
   },
   {
    "duration": 14,
    "start_time": "2022-02-20T16:47:02.111Z"
   },
   {
    "duration": 72,
    "start_time": "2022-02-20T16:47:02.127Z"
   },
   {
    "duration": 14,
    "start_time": "2022-02-20T16:47:02.203Z"
   },
   {
    "duration": 43,
    "start_time": "2022-02-20T16:47:02.220Z"
   },
   {
    "duration": 62,
    "start_time": "2022-02-20T16:47:02.265Z"
   },
   {
    "duration": 46,
    "start_time": "2022-02-20T16:47:02.329Z"
   },
   {
    "duration": 74,
    "start_time": "2022-02-20T16:47:02.378Z"
   },
   {
    "duration": 424,
    "start_time": "2022-02-20T16:47:02.455Z"
   },
   {
    "duration": 59,
    "start_time": "2022-02-20T16:47:02.881Z"
   },
   {
    "duration": 75,
    "start_time": "2022-02-20T16:47:02.943Z"
   },
   {
    "duration": 48,
    "start_time": "2022-02-20T16:47:03.021Z"
   },
   {
    "duration": 68,
    "start_time": "2022-02-20T16:47:03.072Z"
   },
   {
    "duration": 1980,
    "start_time": "2022-02-20T16:48:36.317Z"
   },
   {
    "duration": 206,
    "start_time": "2022-02-20T16:48:38.300Z"
   },
   {
    "duration": 17,
    "start_time": "2022-02-20T16:48:38.510Z"
   },
   {
    "duration": 19,
    "start_time": "2022-02-20T16:48:38.530Z"
   },
   {
    "duration": 110,
    "start_time": "2022-02-20T16:48:38.552Z"
   },
   {
    "duration": 98,
    "start_time": "2022-02-20T16:48:38.665Z"
   },
   {
    "duration": 229,
    "start_time": "2022-02-20T16:48:38.766Z"
   },
   {
    "duration": 65,
    "start_time": "2022-02-20T16:48:39.001Z"
   },
   {
    "duration": 36,
    "start_time": "2022-02-20T16:48:39.069Z"
   },
   {
    "duration": 30,
    "start_time": "2022-02-20T16:48:39.109Z"
   },
   {
    "duration": 10,
    "start_time": "2022-02-20T16:48:39.142Z"
   },
   {
    "duration": 77,
    "start_time": "2022-02-20T16:48:39.154Z"
   },
   {
    "duration": 678,
    "start_time": "2022-02-20T16:48:39.233Z"
   },
   {
    "duration": 890,
    "start_time": "2022-02-20T16:48:39.913Z"
   },
   {
    "duration": 12,
    "start_time": "2022-02-20T16:48:40.807Z"
   },
   {
    "duration": 97,
    "start_time": "2022-02-20T16:48:40.821Z"
   },
   {
    "duration": 8,
    "start_time": "2022-02-20T16:48:40.921Z"
   },
   {
    "duration": 1213,
    "start_time": "2022-02-20T16:48:40.932Z"
   },
   {
    "duration": 55,
    "start_time": "2022-02-20T16:48:42.148Z"
   },
   {
    "duration": 18,
    "start_time": "2022-02-20T16:48:42.206Z"
   },
   {
    "duration": 9,
    "start_time": "2022-02-20T16:48:42.227Z"
   },
   {
    "duration": 14,
    "start_time": "2022-02-20T16:48:42.295Z"
   },
   {
    "duration": 88,
    "start_time": "2022-02-20T16:48:42.314Z"
   },
   {
    "duration": 130,
    "start_time": "2022-02-20T16:48:42.407Z"
   },
   {
    "duration": 428,
    "start_time": "2022-02-20T16:48:42.539Z"
   },
   {
    "duration": 384,
    "start_time": "2022-02-20T16:48:42.969Z"
   },
   {
    "duration": 162,
    "start_time": "2022-02-20T16:48:43.355Z"
   },
   {
    "duration": 215,
    "start_time": "2022-02-20T16:48:43.520Z"
   },
   {
    "duration": 416,
    "start_time": "2022-02-20T16:48:43.739Z"
   },
   {
    "duration": 15,
    "start_time": "2022-02-20T16:48:44.158Z"
   },
   {
    "duration": 53,
    "start_time": "2022-02-20T16:48:44.195Z"
   },
   {
    "duration": 17,
    "start_time": "2022-02-20T16:48:44.250Z"
   },
   {
    "duration": 74,
    "start_time": "2022-02-20T16:48:44.270Z"
   },
   {
    "duration": 51,
    "start_time": "2022-02-20T16:48:44.346Z"
   },
   {
    "duration": 46,
    "start_time": "2022-02-20T16:48:44.401Z"
   },
   {
    "duration": 66,
    "start_time": "2022-02-20T16:48:44.449Z"
   },
   {
    "duration": 450,
    "start_time": "2022-02-20T16:48:44.518Z"
   },
   {
    "duration": 59,
    "start_time": "2022-02-20T16:48:44.970Z"
   },
   {
    "duration": 73,
    "start_time": "2022-02-20T16:48:45.032Z"
   },
   {
    "duration": 50,
    "start_time": "2022-02-20T16:48:45.107Z"
   },
   {
    "duration": 77,
    "start_time": "2022-02-20T16:48:45.159Z"
   },
   {
    "duration": 54,
    "start_time": "2022-02-20T16:49:02.348Z"
   },
   {
    "duration": 1741,
    "start_time": "2022-02-21T06:49:36.487Z"
   },
   {
    "duration": 150,
    "start_time": "2022-02-21T06:49:38.230Z"
   },
   {
    "duration": 24,
    "start_time": "2022-02-21T06:49:38.383Z"
   },
   {
    "duration": 26,
    "start_time": "2022-02-21T06:49:38.410Z"
   },
   {
    "duration": 72,
    "start_time": "2022-02-21T06:49:38.438Z"
   },
   {
    "duration": 67,
    "start_time": "2022-02-21T06:49:38.512Z"
   },
   {
    "duration": 176,
    "start_time": "2022-02-21T06:49:38.581Z"
   },
   {
    "duration": 60,
    "start_time": "2022-02-21T06:49:38.760Z"
   },
   {
    "duration": 15,
    "start_time": "2022-02-21T06:49:38.822Z"
   },
   {
    "duration": 25,
    "start_time": "2022-02-21T06:49:38.839Z"
   },
   {
    "duration": 22,
    "start_time": "2022-02-21T06:49:38.866Z"
   },
   {
    "duration": 39,
    "start_time": "2022-02-21T06:49:38.891Z"
   },
   {
    "duration": 442,
    "start_time": "2022-02-21T06:49:38.932Z"
   },
   {
    "duration": 446,
    "start_time": "2022-02-21T06:49:39.376Z"
   },
   {
    "duration": 5,
    "start_time": "2022-02-21T06:49:39.823Z"
   },
   {
    "duration": 60,
    "start_time": "2022-02-21T06:49:39.830Z"
   },
   {
    "duration": 7,
    "start_time": "2022-02-21T06:49:39.908Z"
   },
   {
    "duration": 855,
    "start_time": "2022-02-21T06:49:39.917Z"
   },
   {
    "duration": 36,
    "start_time": "2022-02-21T06:49:40.774Z"
   },
   {
    "duration": 12,
    "start_time": "2022-02-21T06:49:40.812Z"
   },
   {
    "duration": 8,
    "start_time": "2022-02-21T06:49:40.827Z"
   },
   {
    "duration": 8,
    "start_time": "2022-02-21T06:49:40.837Z"
   },
   {
    "duration": 79,
    "start_time": "2022-02-21T06:49:40.849Z"
   },
   {
    "duration": 111,
    "start_time": "2022-02-21T06:49:40.930Z"
   },
   {
    "duration": 315,
    "start_time": "2022-02-21T06:49:41.042Z"
   },
   {
    "duration": 275,
    "start_time": "2022-02-21T06:49:41.359Z"
   },
   {
    "duration": 112,
    "start_time": "2022-02-21T06:49:41.637Z"
   },
   {
    "duration": 131,
    "start_time": "2022-02-21T06:49:41.752Z"
   },
   {
    "duration": 177,
    "start_time": "2022-02-21T06:49:41.886Z"
   },
   {
    "duration": 11,
    "start_time": "2022-02-21T06:49:42.065Z"
   },
   {
    "duration": 71,
    "start_time": "2022-02-21T06:49:42.078Z"
   },
   {
    "duration": 31,
    "start_time": "2022-02-21T06:49:42.151Z"
   },
   {
    "duration": 52,
    "start_time": "2022-02-21T06:49:42.185Z"
   },
   {
    "duration": 31,
    "start_time": "2022-02-21T06:49:42.240Z"
   },
   {
    "duration": 51,
    "start_time": "2022-02-21T06:49:42.276Z"
   },
   {
    "duration": 32,
    "start_time": "2022-02-21T06:49:42.329Z"
   },
   {
    "duration": 330,
    "start_time": "2022-02-21T06:49:42.364Z"
   },
   {
    "duration": 48,
    "start_time": "2022-02-21T06:49:42.696Z"
   },
   {
    "duration": 35,
    "start_time": "2022-02-21T06:49:42.746Z"
   },
   {
    "duration": 37,
    "start_time": "2022-02-21T06:49:42.808Z"
   },
   {
    "duration": 60,
    "start_time": "2022-02-21T06:49:42.847Z"
   }
  ],
  "kernelspec": {
   "display_name": "Python 3 (ipykernel)",
   "language": "python",
   "name": "python3"
  },
  "language_info": {
   "codemirror_mode": {
    "name": "ipython",
    "version": 3
   },
   "file_extension": ".py",
   "mimetype": "text/x-python",
   "name": "python",
   "nbconvert_exporter": "python",
   "pygments_lexer": "ipython3",
   "version": "3.9.7"
  },
  "toc": {
   "base_numbering": 1,
   "nav_menu": {},
   "number_sections": true,
   "sideBar": true,
   "skip_h1_title": true,
   "title_cell": "Table of Contents",
   "title_sidebar": "Contents",
   "toc_cell": false,
   "toc_position": {},
   "toc_section_display": true,
   "toc_window_display": false
  }
 },
 "nbformat": 4,
 "nbformat_minor": 5
}
