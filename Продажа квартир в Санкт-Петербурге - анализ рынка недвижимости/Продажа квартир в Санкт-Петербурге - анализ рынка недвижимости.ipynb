{
 "cells": [
  {
   "cell_type": "markdown",
   "metadata": {},
   "source": [
    "# Продажа квартир в Санкт-Петербурге - анализ рынка недвижимости\n",
    "\n",
    "**Задача:** определить параметры, влияющие на стоимость недвижимость в Санкт-Петербурге и соседних населенных пунктах. Это позволит построить автоматизированную систему: она отследит аномалии и мошенническую деятельность.\n",
    "\n",
    "**Исходные данные:** архив объявлений о продаже квартир в Санкт-Петербурге и соседних населённых пунктах за несколько лет сервиса Яндекс.Недвижимость. По каждой квартире на продажу доступны два вида данных: первые вписаны пользователем, вторые получены автоматически на основе картографических данных (расстояние до центра, аэропорта, ближайшего парка и водоёма). "
   ]
  },
  {
   "cell_type": "markdown",
   "metadata": {},
   "source": [
    "<a id='content'></a>\n",
    "## Оглавление \n",
    "[Предварительный анализ данных](#1)\n",
    "\n",
    "[Предобработка данных](#2)\n",
    " \n",
    "[Исследовательский анализ данных](#3)\n",
    "\n",
    "[Вывод](#4)"
   ]
  },
  {
   "cell_type": "markdown",
   "metadata": {},
   "source": [
    "<a id = '1'></a>\n",
    "## Предварительный анализ данных"
   ]
  },
  {
   "cell_type": "code",
   "execution_count": null,
   "metadata": {},
   "outputs": [],
   "source": [
    "# импорт библиотек\n",
    "import pandas as pd\n",
    "import matplotlib.pyplot as plt"
   ]
  },
  {
   "cell_type": "code",
   "execution_count": 1,
   "metadata": {},
   "outputs": [
    {
     "name": "stdout",
     "output_type": "stream",
     "text": [
      "<class 'pandas.core.frame.DataFrame'>\n",
      "RangeIndex: 23699 entries, 0 to 23698\n",
      "Data columns (total 22 columns):\n",
      "total_images            23699 non-null int64\n",
      "last_price              23699 non-null float64\n",
      "total_area              23699 non-null float64\n",
      "first_day_exposition    23699 non-null object\n",
      "rooms                   23699 non-null int64\n",
      "ceiling_height          14504 non-null float64\n",
      "floors_total            23613 non-null float64\n",
      "living_area             21796 non-null float64\n",
      "floor                   23699 non-null int64\n",
      "is_apartment            2775 non-null object\n",
      "studio                  23699 non-null bool\n",
      "open_plan               23699 non-null bool\n",
      "kitchen_area            21421 non-null float64\n",
      "balcony                 12180 non-null float64\n",
      "locality_name           23650 non-null object\n",
      "airports_nearest        18157 non-null float64\n",
      "cityCenters_nearest     18180 non-null float64\n",
      "parks_around3000        18181 non-null float64\n",
      "parks_nearest           8079 non-null float64\n",
      "ponds_around3000        18181 non-null float64\n",
      "ponds_nearest           9110 non-null float64\n",
      "days_exposition         20518 non-null float64\n",
      "dtypes: bool(2), float64(14), int64(3), object(3)\n",
      "memory usage: 3.7+ MB\n"
     ]
    },
    {
     "data": {
      "text/html": [
       "<div>\n",
       "<style scoped>\n",
       "    .dataframe tbody tr th:only-of-type {\n",
       "        vertical-align: middle;\n",
       "    }\n",
       "\n",
       "    .dataframe tbody tr th {\n",
       "        vertical-align: top;\n",
       "    }\n",
       "\n",
       "    .dataframe thead th {\n",
       "        text-align: right;\n",
       "    }\n",
       "</style>\n",
       "<table border=\"1\" class=\"dataframe\">\n",
       "  <thead>\n",
       "    <tr style=\"text-align: right;\">\n",
       "      <th></th>\n",
       "      <th>total_images</th>\n",
       "      <th>last_price</th>\n",
       "      <th>total_area</th>\n",
       "      <th>first_day_exposition</th>\n",
       "      <th>rooms</th>\n",
       "      <th>ceiling_height</th>\n",
       "      <th>floors_total</th>\n",
       "      <th>living_area</th>\n",
       "      <th>floor</th>\n",
       "      <th>is_apartment</th>\n",
       "      <th>...</th>\n",
       "      <th>kitchen_area</th>\n",
       "      <th>balcony</th>\n",
       "      <th>locality_name</th>\n",
       "      <th>airports_nearest</th>\n",
       "      <th>cityCenters_nearest</th>\n",
       "      <th>parks_around3000</th>\n",
       "      <th>parks_nearest</th>\n",
       "      <th>ponds_around3000</th>\n",
       "      <th>ponds_nearest</th>\n",
       "      <th>days_exposition</th>\n",
       "    </tr>\n",
       "  </thead>\n",
       "  <tbody>\n",
       "    <tr>\n",
       "      <td>0</td>\n",
       "      <td>20</td>\n",
       "      <td>13000000.0</td>\n",
       "      <td>108.0</td>\n",
       "      <td>2019-03-07T00:00:00</td>\n",
       "      <td>3</td>\n",
       "      <td>2.70</td>\n",
       "      <td>16.0</td>\n",
       "      <td>51.0</td>\n",
       "      <td>8</td>\n",
       "      <td>NaN</td>\n",
       "      <td>...</td>\n",
       "      <td>25.0</td>\n",
       "      <td>NaN</td>\n",
       "      <td>Санкт-Петербург</td>\n",
       "      <td>18863.0</td>\n",
       "      <td>16028.0</td>\n",
       "      <td>1.0</td>\n",
       "      <td>482.0</td>\n",
       "      <td>2.0</td>\n",
       "      <td>755.0</td>\n",
       "      <td>NaN</td>\n",
       "    </tr>\n",
       "    <tr>\n",
       "      <td>1</td>\n",
       "      <td>7</td>\n",
       "      <td>3350000.0</td>\n",
       "      <td>40.4</td>\n",
       "      <td>2018-12-04T00:00:00</td>\n",
       "      <td>1</td>\n",
       "      <td>NaN</td>\n",
       "      <td>11.0</td>\n",
       "      <td>18.6</td>\n",
       "      <td>1</td>\n",
       "      <td>NaN</td>\n",
       "      <td>...</td>\n",
       "      <td>11.0</td>\n",
       "      <td>2.0</td>\n",
       "      <td>посёлок Шушары</td>\n",
       "      <td>12817.0</td>\n",
       "      <td>18603.0</td>\n",
       "      <td>0.0</td>\n",
       "      <td>NaN</td>\n",
       "      <td>0.0</td>\n",
       "      <td>NaN</td>\n",
       "      <td>81.0</td>\n",
       "    </tr>\n",
       "    <tr>\n",
       "      <td>2</td>\n",
       "      <td>10</td>\n",
       "      <td>5196000.0</td>\n",
       "      <td>56.0</td>\n",
       "      <td>2015-08-20T00:00:00</td>\n",
       "      <td>2</td>\n",
       "      <td>NaN</td>\n",
       "      <td>5.0</td>\n",
       "      <td>34.3</td>\n",
       "      <td>4</td>\n",
       "      <td>NaN</td>\n",
       "      <td>...</td>\n",
       "      <td>8.3</td>\n",
       "      <td>0.0</td>\n",
       "      <td>Санкт-Петербург</td>\n",
       "      <td>21741.0</td>\n",
       "      <td>13933.0</td>\n",
       "      <td>1.0</td>\n",
       "      <td>90.0</td>\n",
       "      <td>2.0</td>\n",
       "      <td>574.0</td>\n",
       "      <td>558.0</td>\n",
       "    </tr>\n",
       "    <tr>\n",
       "      <td>3</td>\n",
       "      <td>0</td>\n",
       "      <td>64900000.0</td>\n",
       "      <td>159.0</td>\n",
       "      <td>2015-07-24T00:00:00</td>\n",
       "      <td>3</td>\n",
       "      <td>NaN</td>\n",
       "      <td>14.0</td>\n",
       "      <td>NaN</td>\n",
       "      <td>9</td>\n",
       "      <td>NaN</td>\n",
       "      <td>...</td>\n",
       "      <td>NaN</td>\n",
       "      <td>0.0</td>\n",
       "      <td>Санкт-Петербург</td>\n",
       "      <td>28098.0</td>\n",
       "      <td>6800.0</td>\n",
       "      <td>2.0</td>\n",
       "      <td>84.0</td>\n",
       "      <td>3.0</td>\n",
       "      <td>234.0</td>\n",
       "      <td>424.0</td>\n",
       "    </tr>\n",
       "    <tr>\n",
       "      <td>4</td>\n",
       "      <td>2</td>\n",
       "      <td>10000000.0</td>\n",
       "      <td>100.0</td>\n",
       "      <td>2018-06-19T00:00:00</td>\n",
       "      <td>2</td>\n",
       "      <td>3.03</td>\n",
       "      <td>14.0</td>\n",
       "      <td>32.0</td>\n",
       "      <td>13</td>\n",
       "      <td>NaN</td>\n",
       "      <td>...</td>\n",
       "      <td>41.0</td>\n",
       "      <td>NaN</td>\n",
       "      <td>Санкт-Петербург</td>\n",
       "      <td>31856.0</td>\n",
       "      <td>8098.0</td>\n",
       "      <td>2.0</td>\n",
       "      <td>112.0</td>\n",
       "      <td>1.0</td>\n",
       "      <td>48.0</td>\n",
       "      <td>121.0</td>\n",
       "    </tr>\n",
       "  </tbody>\n",
       "</table>\n",
       "<p>5 rows × 22 columns</p>\n",
       "</div>"
      ],
      "text/plain": [
       "   total_images  last_price  total_area first_day_exposition  rooms  \\\n",
       "0            20  13000000.0       108.0  2019-03-07T00:00:00      3   \n",
       "1             7   3350000.0        40.4  2018-12-04T00:00:00      1   \n",
       "2            10   5196000.0        56.0  2015-08-20T00:00:00      2   \n",
       "3             0  64900000.0       159.0  2015-07-24T00:00:00      3   \n",
       "4             2  10000000.0       100.0  2018-06-19T00:00:00      2   \n",
       "\n",
       "   ceiling_height  floors_total  living_area  floor is_apartment  ...  \\\n",
       "0            2.70          16.0         51.0      8          NaN  ...   \n",
       "1             NaN          11.0         18.6      1          NaN  ...   \n",
       "2             NaN           5.0         34.3      4          NaN  ...   \n",
       "3             NaN          14.0          NaN      9          NaN  ...   \n",
       "4            3.03          14.0         32.0     13          NaN  ...   \n",
       "\n",
       "   kitchen_area  balcony    locality_name  airports_nearest  \\\n",
       "0          25.0      NaN  Санкт-Петербург           18863.0   \n",
       "1          11.0      2.0   посёлок Шушары           12817.0   \n",
       "2           8.3      0.0  Санкт-Петербург           21741.0   \n",
       "3           NaN      0.0  Санкт-Петербург           28098.0   \n",
       "4          41.0      NaN  Санкт-Петербург           31856.0   \n",
       "\n",
       "  cityCenters_nearest  parks_around3000  parks_nearest  ponds_around3000  \\\n",
       "0             16028.0               1.0          482.0               2.0   \n",
       "1             18603.0               0.0            NaN               0.0   \n",
       "2             13933.0               1.0           90.0               2.0   \n",
       "3              6800.0               2.0           84.0               3.0   \n",
       "4              8098.0               2.0          112.0               1.0   \n",
       "\n",
       "   ponds_nearest  days_exposition  \n",
       "0          755.0              NaN  \n",
       "1            NaN             81.0  \n",
       "2          574.0            558.0  \n",
       "3          234.0            424.0  \n",
       "4           48.0            121.0  \n",
       "\n",
       "[5 rows x 22 columns]"
      ]
     },
     "execution_count": 1,
     "metadata": {},
     "output_type": "execute_result"
    }
   ],
   "source": [
    "# чтение данных из файлов\n",
    "data = pd.read_csv('/datasets/real_estate_data.csv', sep = '\\t')\n",
    "\n",
    "# информация о типе данных и пропусках\n",
    "data.info()\n",
    "\n",
    "# проверка, что данные считались корректно\n",
    "data.head()"
   ]
  },
  {
   "cell_type": "markdown",
   "metadata": {},
   "source": [
    "<b>Вывод.</b>\n",
    "\n",
    "first_day_exposition - не соответствующий тип данных (должен быть тип datetime вместо object). Часы, минуты и секунды равны нулю\n",
    "\n",
    "ceiling_height, living_area, kitchen_area, balcony, locality_name, airports_nearest, cityCenters_nearest, parks_nearest, ponds_nearest - содержат нулевые значения\n",
    "\n",
    "floors_total, parks_around3000, ponds_around3000, days_exposition - должен быть тип int вместо float\n",
    "\n",
    "is_apartment - должен быть тип bool вместо object"
   ]
  },
  {
   "cell_type": "markdown",
   "metadata": {},
   "source": [
    "[К оглавлению](#content)"
   ]
  },
  {
   "cell_type": "markdown",
   "metadata": {},
   "source": [
    "<a id = '2'></a>\n",
    "## Предобработка данных"
   ]
  },
  {
   "cell_type": "code",
   "execution_count": 2,
   "metadata": {},
   "outputs": [
    {
     "name": "stdout",
     "output_type": "stream",
     "text": [
      "Index(['total_images', 'last_price', 'total_area', 'first_day_exposition',\n",
      "       'rooms', 'ceiling_height', 'floors_total', 'living_area', 'floor',\n",
      "       'is_apartment', 'studio', 'open_plan', 'kitchen_area', 'balcony',\n",
      "       'locality_name', 'airports_nearest', 'cityCenters_nearest',\n",
      "       'parks_around3000', 'parks_nearest', 'ponds_around3000',\n",
      "       'ponds_nearest', 'days_exposition'],\n",
      "      dtype='object')\n",
      "\n",
      "0\n"
     ]
    }
   ],
   "source": [
    "# получение название всех столбцов\n",
    "print(data.columns)\n",
    "print()\n",
    "\n",
    "# проверка на наличие дубликатов\n",
    "print(data.duplicated().sum())"
   ]
  },
  {
   "cell_type": "markdown",
   "metadata": {},
   "source": [
    "Явных и неявных дубликатов нет"
   ]
  },
  {
   "cell_type": "code",
   "execution_count": 3,
   "metadata": {
    "scrolled": false
   },
   "outputs": [
    {
     "name": "stdout",
     "output_type": "stream",
     "text": [
      "total_images\n",
      "0     1059\n",
      "1      872\n",
      "2      640\n",
      "3      769\n",
      "4      986\n",
      "5     1301\n",
      "6     1482\n",
      "7     1521\n",
      "8     1585\n",
      "9     1725\n",
      "10    1798\n",
      "11    1362\n",
      "12    1225\n",
      "13    1015\n",
      "14     986\n",
      "15     948\n",
      "16     761\n",
      "17     650\n",
      "18     642\n",
      "19     603\n",
      "20    1694\n",
      "21      12\n",
      "22       8\n",
      "23      16\n",
      "24       8\n",
      "25       1\n",
      "26       5\n",
      "27       2\n",
      "28       4\n",
      "29       3\n",
      "30       2\n",
      "31       2\n",
      "32       4\n",
      "35       2\n",
      "37       1\n",
      "39       1\n",
      "42       1\n",
      "50       3\n",
      "Name: total_images, dtype: int64\n"
     ]
    }
   ],
   "source": [
    "# проверим столбец 'total_images'\n",
    "print(data.groupby('total_images')['total_images'].count()) "
   ]
  },
  {
   "cell_type": "markdown",
   "metadata": {},
   "source": [
    "1059 квартир без изображений (total_images = 0)"
   ]
  },
  {
   "cell_type": "code",
   "execution_count": 4,
   "metadata": {},
   "outputs": [
    {
     "name": "stdout",
     "output_type": "stream",
     "text": [
      "last_price\n",
      "12190.0        1\n",
      "430000.0       2\n",
      "440000.0       1\n",
      "450000.0       4\n",
      "470000.0       3\n",
      "              ..\n",
      "300000000.0    1\n",
      "330000000.0    1\n",
      "401300000.0    1\n",
      "420000000.0    1\n",
      "763000000.0    1\n",
      "Name: last_price, Length: 2978, dtype: int64\n"
     ]
    }
   ],
   "source": [
    "# проверим столбец 'last_price'\n",
    "print(data.groupby('last_price')['last_price'].count()) \n",
    "\n",
    "# изменим тип данных на int\n",
    "data['last_price'] = data['last_price'].astype('int') \n",
    "\n",
    "# изменим неправдоподобную цену 12190 на медианную\n",
    "last_price_median = data['last_price'].median().astype('int')\n",
    "data['last_price'] = data['last_price'].replace(12190, last_price_median) "
   ]
  },
  {
   "cell_type": "markdown",
   "metadata": {},
   "source": [
    "Неправдоподобно низкая цена 12190 - похоже на выброс. Предполагаю, что при вводе цена была указана не в рублях, а в тысячах рублей. Заменила данное значение на медианное"
   ]
  },
  {
   "cell_type": "code",
   "execution_count": 5,
   "metadata": {},
   "outputs": [
    {
     "name": "stdout",
     "output_type": "stream",
     "text": [
      "total_area\n",
      "12.0     1\n",
      "13.0     3\n",
      "13.2     1\n",
      "14.0     1\n",
      "15.0     2\n",
      "        ..\n",
      "590.0    1\n",
      "618.0    1\n",
      "631.0    1\n",
      "631.2    1\n",
      "900.0    1\n",
      "Name: total_area, Length: 2182, dtype: int64\n"
     ]
    }
   ],
   "source": [
    "# проверим столбец 'total_area'\n",
    "print(data.groupby('total_area')['total_area'].count())"
   ]
  },
  {
   "cell_type": "markdown",
   "metadata": {},
   "source": [
    "Выбросы отсутствуют,  пропущенных значений нет"
   ]
  },
  {
   "cell_type": "code",
   "execution_count": 6,
   "metadata": {},
   "outputs": [
    {
     "name": "stdout",
     "output_type": "stream",
     "text": [
      "0   2019-03-07\n",
      "1   2018-12-04\n",
      "2   2015-08-20\n",
      "3   2015-07-24\n",
      "4   2018-06-19\n",
      "Name: first_day_exposition, dtype: datetime64[ns]\n"
     ]
    }
   ],
   "source": [
    "# переводим формат в столбце first_day_exposition в datetime\n",
    "data['first_day_exposition'] = pd.to_datetime(data['first_day_exposition'], format = '%Y-%m-%d') \n",
    "print(data['first_day_exposition'].head()) # проверим, что перевод корректный"
   ]
  },
  {
   "cell_type": "markdown",
   "metadata": {},
   "source": [
    "Формат данных в столбце first_day_exposition был изменен с object на datetime. Поскольку часы, минуты и секунды были равны нулю, эти данные не были сохранены при переводе"
   ]
  },
  {
   "cell_type": "code",
   "execution_count": 7,
   "metadata": {},
   "outputs": [
    {
     "name": "stdout",
     "output_type": "stream",
     "text": [
      "rooms\n",
      "0      197\n",
      "1     8047\n",
      "2     7940\n",
      "3     5814\n",
      "4     1180\n",
      "5      326\n",
      "6      105\n",
      "7       59\n",
      "8       12\n",
      "9        8\n",
      "10       3\n",
      "11       2\n",
      "12       1\n",
      "14       2\n",
      "15       1\n",
      "16       1\n",
      "19       1\n",
      "Name: rooms, dtype: int64\n"
     ]
    }
   ],
   "source": [
    "# проверим столбец 'rooms'\n",
    "print(data.groupby('rooms')['rooms'].count()) "
   ]
  },
  {
   "cell_type": "markdown",
   "metadata": {},
   "source": [
    "В 197 квартирах 0 комнат. Возможно это студии или пропущенные данные. Т к у нас нет информации о возможных причинах появления нулевых значений, данные оставлю без изменений.  При дальнейшем анализе влияния числа комнат на цену недвижимости 0 комнат из анализа будут исключены."
   ]
  },
  {
   "cell_type": "code",
   "execution_count": 8,
   "metadata": {},
   "outputs": [
    {
     "name": "stdout",
     "output_type": "stream",
     "text": [
      "ceiling_height\n",
      "1.00       1\n",
      "1.20       1\n",
      "1.75       1\n",
      "2.00      11\n",
      "2.20       1\n",
      "          ..\n",
      "26.00      1\n",
      "27.00      8\n",
      "27.50      1\n",
      "32.00      2\n",
      "100.00     1\n",
      "Name: ceiling_height, Length: 183, dtype: int64\n",
      "count    14504.000000\n",
      "mean         2.771499\n",
      "std          1.261056\n",
      "min          1.000000\n",
      "25%          2.520000\n",
      "50%          2.650000\n",
      "75%          2.800000\n",
      "max        100.000000\n",
      "Name: ceiling_height, dtype: float64\n",
      "Число пропущенных значений в ceiling_height:  9195\n"
     ]
    }
   ],
   "source": [
    "# проверим столбец 'ceiling_height'\n",
    "print(data.groupby('ceiling_height')['ceiling_height'].count()) \n",
    "\n",
    "#посмотрим описательную статистику\n",
    "print(data['ceiling_height'].describe())   \n",
    "\n",
    "# проверим число пропущенных значений\n",
    "print('Число пропущенных значений в ceiling_height: ', data['ceiling_height'].isna().sum()) \n",
    "\n",
    "# пропущенные значения заменим на нули и исключим их из анализа\n",
    "data['ceiling_height'] = data['ceiling_height'].fillna(0)\n"
   ]
  },
  {
   "cell_type": "markdown",
   "metadata": {},
   "source": [
    "Наблюдается большое число пропущенных значений - 39% от всей выборки. Пропущенные значения были заменены на нули и в дальнейщем будут исключены из анализа. Замена пропущенных значений на средние или медианные значения при таком таком большой числе пропусков привела бы к сильному искажению результата, а именно характеристик рассеивания.\n",
    "\n",
    "Неправдоподобными выглядят минимальные (1, 1.2) и максимальные (32, 100) значения высоты потолка. Возможно, некоторые из них это опечатки (32 вместо 3.2). Я бы уточнила у коллег, которые формировали данные, о возможной причине данного феномена."
   ]
  },
  {
   "cell_type": "code",
   "execution_count": 9,
   "metadata": {},
   "outputs": [
    {
     "name": "stdout",
     "output_type": "stream",
     "text": [
      "floors_total\n",
      "1.0       25\n",
      "2.0      383\n",
      "3.0      668\n",
      "4.0     1200\n",
      "5.0     5788\n",
      "6.0      914\n",
      "7.0      592\n",
      "8.0      390\n",
      "9.0     3761\n",
      "10.0    1174\n",
      "11.0     203\n",
      "12.0    1362\n",
      "13.0     229\n",
      "14.0     553\n",
      "15.0     365\n",
      "16.0    1376\n",
      "17.0     833\n",
      "18.0     505\n",
      "19.0     339\n",
      "20.0     271\n",
      "21.0     158\n",
      "22.0     286\n",
      "23.0     352\n",
      "24.0     469\n",
      "25.0    1075\n",
      "26.0     124\n",
      "27.0     164\n",
      "28.0      21\n",
      "29.0       1\n",
      "33.0       1\n",
      "34.0       1\n",
      "35.0      24\n",
      "36.0       3\n",
      "37.0       1\n",
      "52.0       1\n",
      "60.0       1\n",
      "Name: floors_total, dtype: int64\n",
      "Число пропущенных значений в floors_total:  86\n"
     ]
    }
   ],
   "source": [
    "# проверим столбец 'floors_total'\n",
    "print(data.groupby('floors_total')['floors_total'].count())\n",
    "data['floors_total'].astype('int', errors = 'ignore')\n",
    "print('Число пропущенных значений в floors_total: ', data['floors_total'].isna().sum())"
   ]
  },
  {
   "cell_type": "markdown",
   "metadata": {},
   "source": [
    "Тип данных был приведен к int. Существуют пропущенные значения, о природе которых и возможных причинах нет информации. Для дальшейшего анализа оставлю данные без изменений, так как этот параметр не нужен для проверки поставленных гипотез"
   ]
  },
  {
   "cell_type": "code",
   "execution_count": 10,
   "metadata": {},
   "outputs": [
    {
     "name": "stdout",
     "output_type": "stream",
     "text": [
      "living_area\n",
      "2.0      2\n",
      "3.0      2\n",
      "5.0      1\n",
      "5.4      1\n",
      "6.0      1\n",
      "        ..\n",
      "322.3    1\n",
      "332.0    1\n",
      "347.5    1\n",
      "409.0    1\n",
      "409.7    1\n",
      "Name: living_area, Length: 1782, dtype: int64\n",
      "Число пропущенных значений в living_area:  1903\n"
     ]
    }
   ],
   "source": [
    "# проверим столбец 'living_area'\n",
    "print(data.groupby('living_area')['living_area'].count())\n",
    "print('Число пропущенных значений в living_area: ', data['living_area'].isna().sum()) "
   ]
  },
  {
   "cell_type": "markdown",
   "metadata": {},
   "source": [
    "В выборке представлены неправдоподобно маленькие площади. Существуют пропущенные значения, о природе которых и возможных причинах нет информации. Для дальшейшего анализа оставлю данные без изменений, так как этот параметр не нужен для проверки поставленных гипотез"
   ]
  },
  {
   "cell_type": "code",
   "execution_count": 11,
   "metadata": {},
   "outputs": [
    {
     "name": "stdout",
     "output_type": "stream",
     "text": [
      "floor\n",
      "1     2917\n",
      "2     3368\n",
      "3     3073\n",
      "4     2804\n",
      "5     2621\n",
      "6     1305\n",
      "7     1218\n",
      "8     1083\n",
      "9     1051\n",
      "10     687\n",
      "11     523\n",
      "12     526\n",
      "13     379\n",
      "14     337\n",
      "15     343\n",
      "16     315\n",
      "17     227\n",
      "18     178\n",
      "19     147\n",
      "20     110\n",
      "21     125\n",
      "22     113\n",
      "23     100\n",
      "24      63\n",
      "25      46\n",
      "26      24\n",
      "27      10\n",
      "28       1\n",
      "29       1\n",
      "30       1\n",
      "31       1\n",
      "32       1\n",
      "33       1\n",
      "Name: floor, dtype: int64\n"
     ]
    }
   ],
   "source": [
    "# проверим столбец 'floor'\n",
    "print(data.groupby('floor')['floor'].count()) # нулевых значений нет"
   ]
  },
  {
   "cell_type": "markdown",
   "metadata": {},
   "source": [
    "Данные в порядке"
   ]
  },
  {
   "cell_type": "code",
   "execution_count": 12,
   "metadata": {},
   "outputs": [
    {
     "name": "stdout",
     "output_type": "stream",
     "text": [
      "is_apartment\n",
      "False    2725\n",
      "True       50\n",
      "Name: is_apartment, dtype: int64\n"
     ]
    }
   ],
   "source": [
    "# проверим столбец 'is_apartment'\n",
    "print(data.groupby('is_apartment')['is_apartment'].count()) \n",
    "data['is_apartment'] = data['is_apartment'].fillna(False)"
   ]
  },
  {
   "cell_type": "markdown",
   "metadata": {},
   "source": [
    "Поскольку всего 50 аппартементов и большое число пропусков, скорее всего столбец появился недавно. Пропуски были заменены на False"
   ]
  },
  {
   "cell_type": "code",
   "execution_count": 13,
   "metadata": {},
   "outputs": [
    {
     "name": "stdout",
     "output_type": "stream",
     "text": [
      "studio\n",
      "False    23550\n",
      "True       149\n",
      "Name: studio, dtype: int64\n"
     ]
    }
   ],
   "source": [
    "# проверим столбец 'studio'\n",
    "print(data.groupby('studio')['studio'].count()) "
   ]
  },
  {
   "cell_type": "markdown",
   "metadata": {},
   "source": [
    "С данными все в порядке, пропусков нет. Число студий не совпадает с числом квартир с 0 комнат"
   ]
  },
  {
   "cell_type": "code",
   "execution_count": 14,
   "metadata": {},
   "outputs": [
    {
     "name": "stdout",
     "output_type": "stream",
     "text": [
      "open_plan\n",
      "False    23632\n",
      "True        67\n",
      "Name: open_plan, dtype: int64\n"
     ]
    }
   ],
   "source": [
    "# проверим столбец 'open_plan'\n",
    "print(data.groupby('open_plan')['open_plan'].count()) "
   ]
  },
  {
   "cell_type": "markdown",
   "metadata": {},
   "source": [
    "С данными все в порядке, пропусков нет"
   ]
  },
  {
   "cell_type": "code",
   "execution_count": 15,
   "metadata": {},
   "outputs": [
    {
     "name": "stdout",
     "output_type": "stream",
     "text": [
      "kitchen_area\n",
      "1.30      1\n",
      "2.00      7\n",
      "2.30      1\n",
      "2.40      1\n",
      "2.89      1\n",
      "         ..\n",
      "93.20     1\n",
      "100.00    1\n",
      "100.70    1\n",
      "107.00    1\n",
      "112.00    1\n",
      "Name: kitchen_area, Length: 971, dtype: int64\n",
      "Число пропущенных значений в kitchen_area:  2278\n"
     ]
    }
   ],
   "source": [
    "# проверим столбец 'kitchen_area'\n",
    "print(data.groupby('kitchen_area')['kitchen_area'].count()) \n",
    "print('Число пропущенных значений в kitchen_area: ', data['kitchen_area'].isna().sum()) "
   ]
  },
  {
   "cell_type": "markdown",
   "metadata": {},
   "source": [
    "2278 пропущенных значений. Для дальшейшего анализа оставлю данные без изменений, так как этот параметр не нужен для проверки поставленных гипотез"
   ]
  },
  {
   "cell_type": "code",
   "execution_count": 16,
   "metadata": {},
   "outputs": [
    {
     "name": "stdout",
     "output_type": "stream",
     "text": [
      "balcony\n",
      "0.0    3758\n",
      "1.0    4195\n",
      "2.0    3659\n",
      "3.0      81\n",
      "4.0     183\n",
      "5.0     304\n",
      "Name: balcony, dtype: int64\n"
     ]
    }
   ],
   "source": [
    "# проверим столбец 'balcony'\n",
    "print(data.groupby('balcony')['balcony'].count()) \n",
    "data['balcony'] = data['balcony'].fillna(0)\n",
    "data['balcony'] = data['balcony'].astype('int')"
   ]
  },
  {
   "cell_type": "markdown",
   "metadata": {},
   "source": [
    "Пропущенные значения были заменены на 0, тип данных приведен к int"
   ]
  },
  {
   "cell_type": "code",
   "execution_count": 17,
   "metadata": {},
   "outputs": [
    {
     "name": "stdout",
     "output_type": "stream",
     "text": [
      "locality_name\n",
      "Бокситогорск             16\n",
      "Волосово                 36\n",
      "Волхов                  111\n",
      "Всеволожск              398\n",
      "Выборг                  237\n",
      "                       ... \n",
      "село Путилово             2\n",
      "село Рождествено          3\n",
      "село Русско-Высоцкое      9\n",
      "село Старая Ладога        2\n",
      "село Шум                  1\n",
      "Name: locality_name, Length: 364, dtype: int64\n",
      "Число пропущенных значений в locality_name:  49\n"
     ]
    }
   ],
   "source": [
    "# проверим столбец 'locality_name'\n",
    "print(data.groupby('locality_name')['locality_name'].count()) \n",
    "print('Число пропущенных значений в locality_name: ', data['locality_name'].isna().sum()) # "
   ]
  },
  {
   "cell_type": "markdown",
   "metadata": {},
   "source": [
    "Пропущенных значений 49, причина непонятна. Оставим данные без изменений, т к у нас нет информации, по которой мы могли бы восстановить пропуски"
   ]
  },
  {
   "cell_type": "code",
   "execution_count": 18,
   "metadata": {},
   "outputs": [
    {
     "name": "stdout",
     "output_type": "stream",
     "text": [
      "airports_nearest\n",
      "0.0        1\n",
      "6450.0     2\n",
      "6914.0     1\n",
      "6949.0     1\n",
      "6989.0     6\n",
      "          ..\n",
      "83758.0    1\n",
      "84006.0    1\n",
      "84665.0    1\n",
      "84853.0    1\n",
      "84869.0    1\n",
      "Name: airports_nearest, Length: 8275, dtype: int64\n",
      "Число пропущенных значений в airports_nearest:  5542\n",
      "\n"
     ]
    }
   ],
   "source": [
    "# проверим столбец 'airports_nearest'\n",
    "print(data.groupby('airports_nearest')['airports_nearest'].count()) \n",
    "print('Число пропущенных значений в airports_nearest: ', data['airports_nearest'].isna().sum()) # пропущенных значений 5542\n",
    "print()"
   ]
  },
  {
   "cell_type": "markdown",
   "metadata": {},
   "source": [
    "Пропущенных значений 5542. Для дальшейшего анализа оставлю данные без изменений, так как этот параметр не нужен для проверки поставленных гипотез"
   ]
  },
  {
   "cell_type": "code",
   "execution_count": 19,
   "metadata": {},
   "outputs": [
    {
     "name": "stdout",
     "output_type": "stream",
     "text": [
      "cityCenters_nearest\n",
      "181.0      1\n",
      "208.0      1\n",
      "215.0      1\n",
      "287.0      1\n",
      "291.0      1\n",
      "          ..\n",
      "64857.0    1\n",
      "65105.0    1\n",
      "65764.0    1\n",
      "65952.0    1\n",
      "65968.0    1\n",
      "Name: cityCenters_nearest, Length: 7642, dtype: int64\n",
      "Число пропущенных значений в cityCenters_nearest:  5519\n"
     ]
    }
   ],
   "source": [
    "# проверим столбец 'cityCenters_nearest'\n",
    "print(data.groupby('cityCenters_nearest')['cityCenters_nearest'].count()) \n",
    "print('Число пропущенных значений в cityCenters_nearest: ', data['cityCenters_nearest'].isna().sum()) "
   ]
  },
  {
   "cell_type": "markdown",
   "metadata": {},
   "source": [
    "Пропущенных значений 5519, причина неизвестна. Возможно, данные квартиры находятся в центре, возможно это пропуск или баг (данный столбец заполнялся системой автоматически). У нас нет информации, по которой мы могли бы восстановить данный параметр. Поэтому оставим данные без изменений. Если бы была возможность - я бы задала вопрос коллегам, которые формировали данные. Возможно, проспуски можно заполнить"
   ]
  },
  {
   "cell_type": "code",
   "execution_count": 20,
   "metadata": {},
   "outputs": [
    {
     "name": "stdout",
     "output_type": "stream",
     "text": [
      "parks_around3000\n",
      "0.0    10106\n",
      "1.0     5681\n",
      "2.0     1747\n",
      "3.0      647\n",
      "Name: parks_around3000, dtype: int64\n",
      "Число пропущенных значений в parks_around3000:  5518\n"
     ]
    }
   ],
   "source": [
    "# проверим столбец 'parks_around3000'\n",
    "print(data.groupby('parks_around3000')['parks_around3000'].count()) \n",
    "print('Число пропущенных значений в parks_around3000: ', data['parks_around3000'].isna().sum()) "
   ]
  },
  {
   "cell_type": "markdown",
   "metadata": {},
   "source": [
    "Пропущенных значений 5518. Причина возникновения пропусков неизвестна. Для дальшейшего анализа оставлю данные без изменений, так как этот параметр не нужен для проверки поставленных гипотез"
   ]
  },
  {
   "cell_type": "code",
   "execution_count": 21,
   "metadata": {},
   "outputs": [
    {
     "name": "stdout",
     "output_type": "stream",
     "text": [
      "ponds_around3000\n",
      "0.0    9071\n",
      "1.0    5717\n",
      "2.0    1892\n",
      "3.0    1501\n",
      "Name: ponds_around3000, dtype: int64\n",
      "Число пропущенных значений в ponds_around3000:  5518\n"
     ]
    }
   ],
   "source": [
    "# проверим столбец 'ponds_around3000'\n",
    "print(data.groupby('ponds_around3000')['ponds_around3000'].count()) \n",
    "print('Число пропущенных значений в ponds_around3000: ', data['ponds_around3000'].isna().sum()) # пропущенных значений 5518"
   ]
  },
  {
   "cell_type": "markdown",
   "metadata": {},
   "source": [
    "Пропущенных значений 5518. Причина возникновения пропусков неизвестна. Для дальшейшего анализа оставлю данные без изменений, так как этот параметр не нужен для проверки поставленных гипотез"
   ]
  },
  {
   "cell_type": "code",
   "execution_count": 22,
   "metadata": {},
   "outputs": [
    {
     "name": "stdout",
     "output_type": "stream",
     "text": [
      "ponds_nearest\n",
      "13.0      2\n",
      "16.0      8\n",
      "19.0      4\n",
      "20.0      5\n",
      "22.0      7\n",
      "         ..\n",
      "1299.0    1\n",
      "1313.0    1\n",
      "1337.0    1\n",
      "1341.0    2\n",
      "1344.0    1\n",
      "Name: ponds_nearest, Length: 1096, dtype: int64\n",
      "Число пропущенных значений в ponds_nearest:  14589\n"
     ]
    }
   ],
   "source": [
    "# проверим столбец 'ponds_nearest'\n",
    "print(data.groupby('ponds_nearest')['ponds_nearest'].count()) \n",
    "print('Число пропущенных значений в ponds_nearest: ', data['ponds_nearest'].isna().sum())"
   ]
  },
  {
   "cell_type": "markdown",
   "metadata": {},
   "source": [
    "Пропущенных значений 14589, возникновения пропусков неизвестна. Для дальшейшего анализа оставлю данные без изменений, так как этот параметр не нужен для проверки поставленных гипотез"
   ]
  },
  {
   "cell_type": "code",
   "execution_count": 23,
   "metadata": {},
   "outputs": [
    {
     "name": "stdout",
     "output_type": "stream",
     "text": [
      "days_exposition\n",
      "1.0         1\n",
      "2.0         3\n",
      "3.0       158\n",
      "4.0       176\n",
      "5.0       152\n",
      "         ... \n",
      "1512.0      2\n",
      "1513.0      1\n",
      "1553.0      1\n",
      "1572.0      1\n",
      "1580.0      1\n",
      "Name: days_exposition, Length: 1141, dtype: int64\n"
     ]
    }
   ],
   "source": [
    " # проверим столбец 'days_exposition'. Заменим пропуски и тип данных\n",
    "print(data.groupby('days_exposition')['days_exposition'].count()) \n",
    "data['days_exposition'] = data['days_exposition'].fillna(0).astype('int')"
   ]
  },
  {
   "cell_type": "markdown",
   "metadata": {},
   "source": [
    "Пропущенные значения заменены на 0 и не будут учитываться в дальнейшем анализе. Причина возникновения пропусков неизвестна. Данные приведены к типу int"
   ]
  },
  {
   "cell_type": "markdown",
   "metadata": {},
   "source": [
    "<b>Общий вывод:</b> была произведена предобработка исходных данных, данные приведены к необходимым для последующих расчетов типам, частично заполнены пропуски. В большинстве случаев было принято решение пропуски не заполнять или заполнять их нулями и игнорировать их в дальнейших рачетах. Данное решение было принято на основании того, что у нас нет информации о возможных причинах появления пропусков (как данных которые заполнялись вручную, так и автоматических), пропуски можно отнести к случайным и использование других стратегий, например, замена средним значением по всей выборке, может исказить результат в более малых группах (например, по городам)."
   ]
  },
  {
   "cell_type": "markdown",
   "metadata": {},
   "source": [
    "[К оглавлению](#content)"
   ]
  },
  {
   "cell_type": "markdown",
   "metadata": {},
   "source": [
    "<a id = '3'></a>\n",
    "## Исследовательский анализ данных"
   ]
  },
  {
   "cell_type": "code",
   "execution_count": 24,
   "metadata": {},
   "outputs": [],
   "source": [
    "# посчитаем цену квадратного метра\n",
    "data['price_per_square_meter'] = data['last_price'] / data['total_area']\n",
    "\n",
    "# день недели, месяц и год публикации объявления\n",
    "# день недели\n",
    "data['weekday'] = data['first_day_exposition'].dt.weekday\n",
    "# месяц\n",
    "data['month'] = data['first_day_exposition'].dt.month\n",
    "# год\n",
    "data['year'] = data['first_day_exposition'].dt.year\n",
    "\n",
    "# этаж квартиры\n",
    "def floor_category(row):\n",
    "    floors = row['floors_total']\n",
    "    floor = row['floor']\n",
    "    if floor == 1:\n",
    "        return 'первый'\n",
    "    elif 1 < floor < floors:\n",
    "        return 'другой'\n",
    "    elif floor == floors:\n",
    "        return 'последний'\n",
    "    \n",
    "data['floor_category'] = data.apply(floor_category, axis=1)\n",
    "\n",
    "# соотношение жилой и общей площади\n",
    "data['living_total_area_ratio'] = data['living_area'] / data['total_area']\n",
    "\n",
    "# отношение площади кухни к общей площади\n",
    "data['kitchen_total_area_ratio'] = data['kitchen_area'] / data['total_area']\n"
   ]
  },
  {
   "cell_type": "code",
   "execution_count": 25,
   "metadata": {},
   "outputs": [
    {
     "name": "stdout",
     "output_type": "stream",
     "text": [
      "count    23699.000000\n",
      "mean        60.348651\n",
      "std         35.654083\n",
      "min         12.000000\n",
      "25%         40.000000\n",
      "50%         52.000000\n",
      "75%         69.900000\n",
      "max        900.000000\n",
      "Name: total_area, dtype: float64\n"
     ]
    },
    {
     "data": {
      "text/plain": [
       "<matplotlib.axes._subplots.AxesSubplot at 0x7f6820030710>"
      ]
     },
     "execution_count": 25,
     "metadata": {},
     "output_type": "execute_result"
    },
    {
     "data": {
      "image/png": "[encoded data removed]",
      "text/plain": [
       "<Figure size 360x288 with 1 Axes>"
      ]
     },
     "metadata": {
      "needs_background": "light"
     },
     "output_type": "display_data"
    }
   ],
   "source": [
    "# общая площадь\n",
    "print(data['total_area'].describe()) \n",
    "data.plot(y='total_area', kind = 'hist', bins = 100, grid=True, figsize = (5,4), range = (0, 400))"
   ]
  },
  {
   "cell_type": "markdown",
   "metadata": {},
   "source": [
    "Распределение данных Гаусса, есть выбросы. Общая площадь в диапозоне от 12 м^2 до 900 м^2, квантили 40, 52, 70 (медина 52 м^2) "
   ]
  },
  {
   "cell_type": "code",
   "execution_count": 26,
   "metadata": {},
   "outputs": [
    {
     "name": "stdout",
     "output_type": "stream",
     "text": [
      "count    2.369900e+04\n",
      "mean     6.541744e+06\n",
      "std      1.088694e+07\n",
      "min      4.300000e+05\n",
      "25%      3.400000e+06\n",
      "50%      4.650000e+06\n",
      "75%      6.800000e+06\n",
      "max      7.630000e+08\n",
      "Name: last_price, dtype: float64\n"
     ]
    },
    {
     "data": {
      "image/png": "[encoded data removed]",
      "text/plain": [
       "<Figure size 360x288 with 1 Axes>"
      ]
     },
     "metadata": {
      "needs_background": "light"
     },
     "output_type": "display_data"
    }
   ],
   "source": [
    "# цена\n",
    "data.plot(y='last_price', kind = 'hist', bins = 100, grid=True, figsize = (5,4), range = (0, 30000000))\n",
    "print(data['last_price'].describe()) #распределение Пуассона"
   ]
  },
  {
   "cell_type": "markdown",
   "metadata": {},
   "source": [
    "Цены на недвижимость в диапозоне от 0.43 млн руб до 763 млн руб., квантили 3.4, 4.7, 6.8 (медиана 4.7 млн руб). Распределение данных Гаусса."
   ]
  },
  {
   "cell_type": "code",
   "execution_count": 27,
   "metadata": {},
   "outputs": [
    {
     "name": "stdout",
     "output_type": "stream",
     "text": [
      "count    23502.000000\n",
      "mean         2.087993\n",
      "std          1.066050\n",
      "min          1.000000\n",
      "25%          1.000000\n",
      "50%          2.000000\n",
      "75%          3.000000\n",
      "max         19.000000\n",
      "Name: rooms, dtype: float64\n"
     ]
    },
    {
     "data": {
      "image/png": "[encoded data removed]",
      "text/plain": [
       "<Figure size 360x288 with 1 Axes>"
      ]
     },
     "metadata": {
      "needs_background": "light"
     },
     "output_type": "display_data"
    }
   ],
   "source": [
    "# число комнат\n",
    "data.plot(y='rooms', kind = 'hist', bins = 19, grid=True, figsize = (5,4), range = (0, 19))\n",
    "print(data[data['rooms'] != 0]['rooms'].describe()) "
   ]
  },
  {
   "cell_type": "markdown",
   "metadata": {},
   "source": [
    "Количество комнат в диапазоне от 1 до 19. Больше всего однокомнатных квартир, немногим меньше двухкомнатных"
   ]
  },
  {
   "cell_type": "code",
   "execution_count": 28,
   "metadata": {},
   "outputs": [
    {
     "name": "stdout",
     "output_type": "stream",
     "text": [
      "count    14504.000000\n",
      "mean         2.771499\n",
      "std          1.261056\n",
      "min          1.000000\n",
      "25%          2.520000\n",
      "50%          2.650000\n",
      "75%          2.800000\n",
      "max        100.000000\n",
      "Name: ceiling_height, dtype: float64\n"
     ]
    },
    {
     "data": {
      "image/png": "[encoded data removed]",
      "text/plain": [
       "<Figure size 360x288 with 1 Axes>"
      ]
     },
     "metadata": {
      "needs_background": "light"
     },
     "output_type": "display_data"
    }
   ],
   "source": [
    "# высота потолков\n",
    "data.plot(y='ceiling_height', kind = 'hist', bins = 50, grid=True, figsize = (5,4), range = (1, 5))\n",
    "print(data[data['ceiling_height'] != 0]['ceiling_height'].describe())"
   ]
  },
  {
   "cell_type": "code",
   "execution_count": 29,
   "metadata": {},
   "outputs": [
    {
     "data": {
      "text/plain": [
       "{'whiskers': [<matplotlib.lines.Line2D at 0x7f68170e2450>,\n",
       "  <matplotlib.lines.Line2D at 0x7f68170e9650>],\n",
       " 'caps': [<matplotlib.lines.Line2D at 0x7f68170e9b50>,\n",
       "  <matplotlib.lines.Line2D at 0x7f68170e9e50>],\n",
       " 'boxes': [<matplotlib.lines.Line2D at 0x7f68170e2410>],\n",
       " 'medians': [<matplotlib.lines.Line2D at 0x7f68170f1590>],\n",
       " 'fliers': [<matplotlib.lines.Line2D at 0x7f68170f1ad0>],\n",
       " 'means': []}"
      ]
     },
     "execution_count": 29,
     "metadata": {},
     "output_type": "execute_result"
    },
    {
     "data": {
      "image/png": "[encoded data removed]",
      "text/plain": [
       "<Figure size 432x288 with 1 Axes>"
      ]
     },
     "metadata": {
      "needs_background": "light"
     },
     "output_type": "display_data"
    }
   ],
   "source": [
    "# посмотрим диаграмму распределения высоты потолков\n",
    "plt.ylim(0, 5)\n",
    "plt.boxplot(data[data['ceiling_height'] != 0]['ceiling_height'])\n",
    "plt.show()"
   ]
  },
  {
   "cell_type": "markdown",
   "metadata": {},
   "source": [
    "На стадии предобработки было отмечено, что неправдоподобными выглядят минимальные (1, 1.2) и максимальные (32, 100) значения высоты потолка. После пострения диаграммы распределения стало наглядно, что значения менее 2.2 и более 3.3 метров можно считать выбросами. Квантили 2.52, 2.65, 2.80 (медиана 2,65 м)"
   ]
  },
  {
   "cell_type": "code",
   "execution_count": 52,
   "metadata": {},
   "outputs": [
    {
     "name": "stdout",
     "output_type": "stream",
     "text": [
      "count    14504.000000\n",
      "mean         2.727832\n",
      "std          0.292399\n",
      "min          2.000000\n",
      "25%          2.510000\n",
      "50%          2.650000\n",
      "75%          2.800000\n",
      "max          8.300000\n",
      "Name: ceiling_height, dtype: float64\n"
     ]
    },
    {
     "data": {
      "image/png": "[encoded data removed]",
      "text/plain": [
       "<Figure size 432x288 with 1 Axes>"
      ]
     },
     "metadata": {
      "needs_background": "light"
     },
     "output_type": "display_data"
    }
   ],
   "source": [
    "# заменим значения меньше 2х метров и больше 10ти метров на медианные \n",
    "bad_ceiling_height_data = data[(data['ceiling_height'] != 0) & (data['ceiling_height'] < 2.0) | (data['ceiling_height'] > 10.0)]['ceiling_height']\n",
    "median_ceiling_height = data['ceiling_height'].median()\n",
    "data['ceiling_height'] = data['ceiling_height'].replace(bad_ceiling_height_data, median_ceiling_height)\n",
    "\n",
    "plt.ylim(1, 10)\n",
    "plt.boxplot(data[data['ceiling_height'] != 0]['ceiling_height'])\n",
    "plt.show()\n",
    "\n",
    "print(data[data['ceiling_height'] != 0]['ceiling_height'].describe())"
   ]
  },
  {
   "cell_type": "markdown",
   "metadata": {},
   "source": [
    "Частично выбросы значения высоты потолка были заменены на медианные значения: до двух метров и больше 20ти метров. Квантили остались без изменений, однако сильно изменилась СКО: с 1.26 на 0.29"
   ]
  },
  {
   "cell_type": "markdown",
   "metadata": {},
   "source": [
    "<b>Общий вывод:</b> в данных есть значения, которые могут быть нереалистичными (0 комнат, минимальное и максимальное значение высоты потолков). О данных значениях стоит спросить у сотрудников, предоставивших выборку"
   ]
  },
  {
   "cell_type": "code",
   "execution_count": 31,
   "metadata": {},
   "outputs": [
    {
     "data": {
      "text/plain": [
       "count    20518.000000\n",
       "mean       180.888634\n",
       "std        219.727988\n",
       "min          1.000000\n",
       "25%         45.000000\n",
       "50%         95.000000\n",
       "75%        232.000000\n",
       "max       1580.000000\n",
       "Name: days_exposition, dtype: float64"
      ]
     },
     "execution_count": 31,
     "metadata": {},
     "output_type": "execute_result"
    },
    {
     "data": {
      "image/png": "[encoded data removed]",
      "text/plain": [
       "<Figure size 432x288 with 1 Axes>"
      ]
     },
     "metadata": {
      "needs_background": "light"
     },
     "output_type": "display_data"
    },
    {
     "data": {
      "image/png": "[encoded data removed]",
      "text/plain": [
       "<Figure size 360x288 with 1 Axes>"
      ]
     },
     "metadata": {
      "needs_background": "light"
     },
     "output_type": "display_data"
    },
    {
     "data": {
      "image/png": "[encoded data removed]",
      "text/plain": [
       "<Figure size 360x288 with 1 Axes>"
      ]
     },
     "metadata": {
      "needs_background": "light"
     },
     "output_type": "display_data"
    }
   ],
   "source": [
    "# Время продажи квартиры (нулевые значения из анализа исключаем).\n",
    "# Cтоит учитывать, что день снятия квартиры с объявления, который мы используем в анализе,\n",
    "# может не совпадать с днем продажи квартиры\n",
    "plt.ylim(0, 600)\n",
    "plt.boxplot(data[data['days_exposition'] != 0]['days_exposition'])\n",
    "plt.show()\n",
    "\n",
    "data[data['days_exposition'] != 0].plot(y='days_exposition', kind = 'hist', bins = 100, grid=True, figsize = (5,4), range = (0, 1580))\n",
    "data[data['days_exposition'] != 0]['days_exposition'].describe()\n",
    "\n",
    "data[data['days_exposition'] != 0].plot(y='days_exposition', kind = 'hist', bins = 100, grid=True, figsize = (5,4), range = (0, 100))\n",
    "\n",
    "data[data['days_exposition'] != 0]['days_exposition'].describe()\n",
    "\n",
    "data[data['days_exposition'] != 0]['days_exposition'].describe()\n"
   ]
  },
  {
   "cell_type": "markdown",
   "metadata": {},
   "source": [
    "При интерпритации результата стоит учитывать, что день снятия объявления с публикации и день продажи квартиры могут не совпадать. Существует большая разница между медианой (95 дней) и средней (181 день), так же существуют выбросы в 7, 30, 45, 60 и 90 дней (максимальные пики в 45 и 60 дней). Возможно, это связано с процедурой сбора данных (существует автоматическая отсечка - если квартира в продаже дольше этого срока, то объявление снимается). Данную гипотезу нужно усточнить у сотрудников, которые собирали данные.\n",
    "\n",
    "Для того, чтобы ответить на вопрос, какие продажи прошли очень быстро, а какие очень медленно, была построена диаграмма размаха: размах от минимального значения до примерно 500 дней. Таким образом \"нормальными\" можно считать сделки в диапозоне от 1 до 500, \"очень быстрых\" значений нет, \"очень долгими\" значениями могут читать значения больше 500. "
   ]
  },
  {
   "cell_type": "code",
   "execution_count": 32,
   "metadata": {},
   "outputs": [
    {
     "data": {
      "text/plain": [
       "count    18454.000000\n",
       "mean       195.803349\n",
       "std        226.760010\n",
       "min          1.000000\n",
       "25%         44.000000\n",
       "50%        114.000000\n",
       "75%        259.000000\n",
       "max       1580.000000\n",
       "Name: days_exposition, dtype: float64"
      ]
     },
     "execution_count": 32,
     "metadata": {},
     "output_type": "execute_result"
    },
    {
     "data": {
      "image/png": "[encoded data removed]",
      "text/plain": [
       "<Figure size 432x288 with 1 Axes>"
      ]
     },
     "metadata": {
      "needs_background": "light"
     },
     "output_type": "display_data"
    },
    {
     "data": {
      "image/png": "[encoded data removed]",
      "text/plain": [
       "<Figure size 360x288 with 1 Axes>"
      ]
     },
     "metadata": {
      "needs_background": "light"
     },
     "output_type": "display_data"
    }
   ],
   "source": [
    "# отфильтруем данные от выбросов\n",
    "good_data = data.query('days_exposition != 0 and days_exposition != 7 and days_exposition != 30 and days_exposition != 45 and days_exposition != 60 and days_exposition != 90').reset_index(drop=True)\n",
    "\n",
    "# диаграмма размаха\n",
    "plt.ylim(0, 600)\n",
    "plt.boxplot(good_data['days_exposition'])\n",
    "\n",
    "# гистограмма\n",
    "good_data.plot(y='days_exposition', kind = 'hist', bins = 100, grid=True, figsize = (5,4), range = (0, 1000))\n",
    "\n",
    "# описательная статистика\n",
    "good_data['days_exposition'].describe()\n"
   ]
  },
  {
   "cell_type": "markdown",
   "metadata": {},
   "source": [
    "В очищенных от выбросов данных медиана и средние значение больше, чем в неочищенных: 114 и 195 дней соответственно, вместо 95 и 180. Нормальные значения теперь в диапозоне от 1 до 580 дней вместо от 1 до 500 дней."
   ]
  },
  {
   "cell_type": "code",
   "execution_count": 33,
   "metadata": {
    "scrolled": false
   },
   "outputs": [
    {
     "name": "stdout",
     "output_type": "stream",
     "text": [
      "0.6537041315713309\n",
      "0.3020256320018514\n"
     ]
    },
    {
     "data": {
      "image/png": "[encoded data removed]",
      "text/plain": [
       "<Figure size 432x288 with 1 Axes>"
      ]
     },
     "metadata": {
      "needs_background": "light"
     },
     "output_type": "display_data"
    },
    {
     "data": {
      "image/png": "[encoded data removed]",
      "text/plain": [
       "<Figure size 432x288 with 1 Axes>"
      ]
     },
     "metadata": {
      "needs_background": "light"
     },
     "output_type": "display_data"
    }
   ],
   "source": [
    "# цена и площадь\n",
    "data.plot(x='last_price', y='total_area', kind='scatter') \n",
    "print(data['total_area'].corr(data['last_price']))\n",
    "\n",
    "data.plot(x='price_per_square_meter', y='total_area', kind='scatter') \n",
    "print(data['total_area'].corr(data['price_per_square_meter']))\n"
   ]
  },
  {
   "cell_type": "markdown",
   "metadata": {},
   "source": [
    "Существует средняя корреляция (0.65) между ценой на недвижимость и площадью (что логично): чем больше площадь, тем выше стоимость. При этом цена за квадратный метр слабо связана с площадью (0.30): чем больше площадь, тем выше стоимость за квадратный метр"
   ]
  },
  {
   "cell_type": "code",
   "execution_count": 34,
   "metadata": {},
   "outputs": [
    {
     "name": "stdout",
     "output_type": "stream",
     "text": [
      "0.364737203478692\n",
      "0.059335592298397986\n"
     ]
    },
    {
     "data": {
      "text/plain": [
       "<matplotlib.axes._subplots.AxesSubplot at 0x7f68173db190>"
      ]
     },
     "execution_count": 34,
     "metadata": {},
     "output_type": "execute_result"
    },
    {
     "data": {
      "image/png": "[encoded data removed]",
      "text/plain": [
       "<Figure size 432x288 with 1 Axes>"
      ]
     },
     "metadata": {
      "needs_background": "light"
     },
     "output_type": "display_data"
    },
    {
     "data": {
      "image/png": "[encoded data removed]",
      "text/plain": [
       "<Figure size 432x288 with 1 Axes>"
      ]
     },
     "metadata": {
      "needs_background": "light"
     },
     "output_type": "display_data"
    }
   ],
   "source": [
    "# цена и число комнат\n",
    "\n",
    "# корреляции\n",
    "print(data[data['rooms'] != 0]['rooms'].corr(data['last_price']))\n",
    "print(data[data['rooms'] != 0]['rooms'].corr(data['price_per_square_meter']))\n",
    "\n",
    "# оценим медиану цены  \n",
    "last_price_rooms = data.pivot_table(index = 'rooms', values = 'last_price', aggfunc = ['count', 'median'])\n",
    "last_price_rooms.columns = ['count', 'median']\n",
    "last_price_rooms.query('count > 12').plot(y = 'median') # не рассматриваем редкое число комнат из-за выбросов по цене\n",
    "\n",
    "# оценим медиану цены квадратного метра \n",
    "price_per_square_meter_rooms = data.pivot_table(index = 'rooms', values = 'price_per_square_meter', aggfunc = ['count', 'median'])\n",
    "price_per_square_meter_rooms.columns = ['count', 'median']\n",
    "price_per_square_meter_rooms.query('count > 12').plot(y = 'median') # не рассматриваем редкое число комнат из-за выбросов по цене"
   ]
  },
  {
   "cell_type": "markdown",
   "metadata": {},
   "source": [
    "Существует слабая корреляция (0.36) между ценой на недвижимость и числом комнат: чем больше комнат, тем выше цена на недвижимость. Зависимость между числом комнат и медианой стоимостьи квартиры монотонная, но скорее квадратичная, чем линейная. Поэтому рассматривать корреляцию как мерило связи стоит с осторожностью. \n",
    "\n",
    "Зависимость между числом комнат и медианой цены за квадратный метр не линейная (скорее квадратичная), поэтому рассматривать корреляцию как показатель связи мы не можем. Можно сказать, что до трех комнат с ростом числа комнат снижается цена за квадратный метр, а потом растет. Возможно, это связано с тем, что квартиры с большим числом комнат могут встречаться в более элитных домах."
   ]
  },
  {
   "cell_type": "code",
   "execution_count": 35,
   "metadata": {},
   "outputs": [
    {
     "name": "stdout",
     "output_type": "stream",
     "text": [
      "-0.20676146810674825\n",
      "-0.31800420959934855\n"
     ]
    },
    {
     "data": {
      "text/plain": [
       "<matplotlib.axes._subplots.AxesSubplot at 0x7f6816c9d710>"
      ]
     },
     "execution_count": 35,
     "metadata": {},
     "output_type": "execute_result"
    },
    {
     "data": {
      "image/png": "[encoded data removed]",
      "text/plain": [
       "<Figure size 432x288 with 1 Axes>"
      ]
     },
     "metadata": {
      "needs_background": "light"
     },
     "output_type": "display_data"
    },
    {
     "data": {
      "image/png": "[encoded data removed]",
      "text/plain": [
       "<Figure size 432x288 with 1 Axes>"
      ]
     },
     "metadata": {
      "needs_background": "light"
     },
     "output_type": "display_data"
    }
   ],
   "source": [
    "# цена и удаленность от центра\n",
    "print(data['cityCenters_nearest'].corr(data['last_price']))\n",
    "print(data['cityCenters_nearest'].corr(data['price_per_square_meter']))\n",
    "\n",
    "# диграмма рассеивания\n",
    "data.plot(x='cityCenters_nearest', y='last_price', kind='scatter', alpha=0.5, ylim=(0, 100000000))\n",
    "data.plot(x='cityCenters_nearest', y='price_per_square_meter', kind='scatter', alpha=0.5, ylim=(0, 600000))"
   ]
  },
  {
   "cell_type": "markdown",
   "metadata": {},
   "source": [
    "Чем ближе центр, тем выше цена недвижимости и цена за квадратный метр"
   ]
  },
  {
   "cell_type": "code",
   "execution_count": 36,
   "metadata": {},
   "outputs": [
    {
     "data": {
      "text/plain": [
       "<matplotlib.axes._subplots.AxesSubplot at 0x7f6816c6f1d0>"
      ]
     },
     "execution_count": 36,
     "metadata": {},
     "output_type": "execute_result"
    },
    {
     "data": {
      "image/png": "[encoded data removed]",
      "text/plain": [
       "<Figure size 432x288 with 1 Axes>"
      ]
     },
     "metadata": {
      "needs_background": "light"
     },
     "output_type": "display_data"
    },
    {
     "data": {
      "image/png": "[encoded data removed]",
      "text/plain": [
       "<Figure size 432x288 with 1 Axes>"
      ]
     },
     "metadata": {
      "needs_background": "light"
     },
     "output_type": "display_data"
    }
   ],
   "source": [
    "#цена и этаж\n",
    "\n",
    "#оценим медиану строимости квартиры в зависимости от категории этажа квартиры\n",
    "float_category_last_price = data.pivot_table(index = 'floor_category', values = 'last_price', aggfunc = ['count', 'median'])\n",
    "float_category_last_price.plot(y='median', style='x-')\n",
    "\n",
    "#оценим медиану строимости квадратного метра квартиры в зависимости от категории этажа квартиры\n",
    "float_category_price_per_square_meter= data.pivot_table(index = 'floor_category', values = 'price_per_square_meter', aggfunc = ['count', 'median'])\n",
    "float_category_price_per_square_meter.plot(y='median', style='x-')"
   ]
  },
  {
   "cell_type": "markdown",
   "metadata": {},
   "source": [
    "Квартиры на первых и последних этажах дешевле, чем на других. Квартиры на первых этажах дешевле, чем на последних"
   ]
  },
  {
   "cell_type": "code",
   "execution_count": 37,
   "metadata": {},
   "outputs": [
    {
     "data": {
      "text/plain": [
       "<matplotlib.axes._subplots.AxesSubplot at 0x7f6816bb0590>"
      ]
     },
     "execution_count": 37,
     "metadata": {},
     "output_type": "execute_result"
    },
    {
     "data": {
      "image/png": "[encoded data removed]",
      "text/plain": [
       "<Figure size 432x288 with 1 Axes>"
      ]
     },
     "metadata": {
      "needs_background": "light"
     },
     "output_type": "display_data"
    },
    {
     "data": {
      "image/png": "[encoded data removed]",
      "text/plain": [
       "<Figure size 432x288 with 1 Axes>"
      ]
     },
     "metadata": {
      "needs_background": "light"
     },
     "output_type": "display_data"
    }
   ],
   "source": [
    "# цена и год размещения\n",
    "\n",
    "#оценим медиану строимости квартиры в зависимости от года размещения\n",
    "year_last_price = data.pivot_table(index = 'year', values = 'last_price', aggfunc = ['count', 'median'])\n",
    "year_last_price.plot(y='median', style='x-')\n",
    "\n",
    "#оценим медиану строимости квадратного метра квартиры в зависимости от года размещения\n",
    "year_last_price = data.pivot_table(index = 'year', values = 'price_per_square_meter', aggfunc = ['count', 'median'])\n",
    "year_last_price.plot(y='median', style='x-')\n"
   ]
  },
  {
   "cell_type": "markdown",
   "metadata": {},
   "source": [
    "Стоимость квартир и цены за квадратный метр снижалась до 2016 года, потом тренд изменился - стоимость начала возрастать. Возможно, снижение цен на недвижимость было связано со снижением уровня дохода населения после введения санкций относительно РФ, последующий рост цены на недвижимость может быть связан с изменением политики налогооблажения"
   ]
  },
  {
   "cell_type": "code",
   "execution_count": 38,
   "metadata": {},
   "outputs": [
    {
     "data": {
      "text/plain": [
       "<matplotlib.axes._subplots.AxesSubplot at 0x7f6816b26250>"
      ]
     },
     "execution_count": 38,
     "metadata": {},
     "output_type": "execute_result"
    },
    {
     "data": {
      "image/png": "[encoded data removed]",
      "text/plain": [
       "<Figure size 432x288 with 1 Axes>"
      ]
     },
     "metadata": {
      "needs_background": "light"
     },
     "output_type": "display_data"
    },
    {
     "data": {
      "image/png": "[encoded data removed]",
      "text/plain": [
       "<Figure size 432x288 with 1 Axes>"
      ]
     },
     "metadata": {
      "needs_background": "light"
     },
     "output_type": "display_data"
    }
   ],
   "source": [
    "# цена и месяц размещения\n",
    "\n",
    "#оценим медиану строимости квартиры в зависимости от месяца размещения\n",
    "year_last_price = data.pivot_table(index = 'month', values = 'last_price', aggfunc = ['count', 'median'])\n",
    "year_last_price.plot(y='median', style='x-')\n",
    "\n",
    "#оценим медиану строимости квадратного метра квартиры в зависимости от года размещения\n",
    "year_last_price = data.pivot_table(index = 'month', values = 'price_per_square_meter', aggfunc = ['count', 'median'])\n",
    "year_last_price.plot(y='median', style='x-')"
   ]
  },
  {
   "cell_type": "markdown",
   "metadata": {},
   "source": [
    "Можно говорить о сезонности данного рынка. Самая высокая стоимость недвижимости в апреле и августе, а самая низкая стоимость в мае и июне. Данный феномен может быть связан с отпусками и началом учебного года"
   ]
  },
  {
   "cell_type": "code",
   "execution_count": 39,
   "metadata": {},
   "outputs": [
    {
     "data": {
      "text/plain": [
       "<matplotlib.axes._subplots.AxesSubplot at 0x7f681739de10>"
      ]
     },
     "execution_count": 39,
     "metadata": {},
     "output_type": "execute_result"
    },
    {
     "data": {
      "image/png": "[encoded data removed]",
      "text/plain": [
       "<Figure size 432x288 with 1 Axes>"
      ]
     },
     "metadata": {
      "needs_background": "light"
     },
     "output_type": "display_data"
    },
    {
     "data": {
      "image/png": "[encoded data removed]",
      "text/plain": [
       "<Figure size 432x288 with 1 Axes>"
      ]
     },
     "metadata": {
      "needs_background": "light"
     },
     "output_type": "display_data"
    }
   ],
   "source": [
    "# цена и день размещения\n",
    "\n",
    "#оценим медиану строимости квартиры в зависимости от дня размещения\n",
    "year_last_price = data.pivot_table(index = 'weekday', values = 'last_price', aggfunc = ['count', 'median'])\n",
    "year_last_price.plot(y='median', style='x-')\n",
    "\n",
    "#оценим медиану строимости квадратного метра квартиры в зависимости от дня размещения\n",
    "year_last_price = data.pivot_table(index = 'weekday', values = 'price_per_square_meter', aggfunc = ['count', 'median'])\n",
    "year_last_price.plot(y='median', style='x-')"
   ]
  },
  {
   "cell_type": "markdown",
   "metadata": {},
   "source": [
    "Самая высокая цена на недвижимость во вторник, самая низкая в субботу. Возможно, стоимость выставленной на продажу недвижимости зависит от общей активности людей, более высокой в рабочие дни"
   ]
  },
  {
   "cell_type": "code",
   "execution_count": 40,
   "metadata": {},
   "outputs": [
    {
     "name": "stdout",
     "output_type": "stream",
     "text": [
      "                            mean         median  count\n",
      "locality_name                                         \n",
      "Санкт-Петербург    114851.715283  104761.904762  15721\n",
      "Пушкин             103125.819291  100000.000000    369\n",
      "деревня Кудрово     92473.547576   91860.465116    299\n",
      "посёлок Парголово   90175.913458   91642.857143    327\n",
      "посёлок Мурино      85752.189195   85878.462169    522\n",
      "посёлок Шушары      78677.364217   76876.172608    440\n",
      "Колпино             75424.579098   74723.748474    338\n",
      "Гатчина             68746.146763   67796.610169    307\n",
      "Всеволожск          68654.473986   65789.473684    398\n",
      "Выборг              58141.909153   58158.319871    237\n"
     ]
    }
   ],
   "source": [
    "# средняя цена за квадратный метр в 10 населённых пунктов с наибольшим числом объявлений\n",
    "locality_name_pivot_table = data.pivot_table(index='locality_name', values='price_per_square_meter', aggfunc=['mean', 'median', 'count'])\n",
    "locality_name_pivot_table.columns = ['mean', 'median', 'count']\n",
    "name_pivot_table = locality_name_pivot_table.sort_values(by='count', ascending = False).head(10)\n",
    "print(name_pivot_table.sort_values(by='mean', ascending = False))"
   ]
  },
  {
   "cell_type": "markdown",
   "metadata": {},
   "source": [
    "Из 10 населённых пунктов с самым большим количеством объявлений самая высокая стоимость за квадратный метр в Санкт-Петербурге, самая низкая в Выборге"
   ]
  },
  {
   "cell_type": "code",
   "execution_count": 41,
   "metadata": {},
   "outputs": [
    {
     "data": {
      "text/plain": [
       "<matplotlib.axes._subplots.AxesSubplot at 0x7f6817430290>"
      ]
     },
     "execution_count": 41,
     "metadata": {},
     "output_type": "execute_result"
    },
    {
     "data": {
      "image/png": "[encoded data removed]",
      "text/plain": [
       "<Figure size 432x288 with 1 Axes>"
      ]
     },
     "metadata": {
      "needs_background": "light"
     },
     "output_type": "display_data"
    }
   ],
   "source": [
    "spb_data = data.query('locality_name == \"Санкт-Петербург\"').reset_index() \n",
    "spb_data['cityCenters_nearest_km'] = spb_data['cityCenters_nearest'] / 1000\n",
    "\n",
    "# удалим из анализа пропущенные значения и округлим до целых значений\n",
    "spb_data = spb_data.dropna(subset = ['cityCenters_nearest_km']).reset_index(drop = True)\n",
    "spb_data['cityCenters_nearest_km'] = spb_data['cityCenters_nearest_km'].astype('int')\n",
    "\n",
    "# Посчитаем среднюю цену для каждого км\n",
    "spb_data_pivot_table = spb_data.pivot_table(index='cityCenters_nearest_km', values='price_per_square_meter', aggfunc=['mean'])\n",
    "spb_data_pivot_table.columns = ['mean']\n",
    "spb_data_pivot_table.plot()\n"
   ]
  },
  {
   "cell_type": "markdown",
   "metadata": {},
   "source": [
    "Центром будем считать радиусом в 3 км. Выбор данного радиуса обусловлен тем, что это первый экстремум изменения цены в зависимости от удаленности от центра и он хорошо совпадает с географичеким центром."
   ]
  },
  {
   "cell_type": "code",
   "execution_count": 42,
   "metadata": {},
   "outputs": [
    {
     "name": "stdout",
     "output_type": "stream",
     "text": [
      "count    1159.000000\n",
      "mean       97.399172\n",
      "std        55.772422\n",
      "min        12.000000\n",
      "25%        62.000000\n",
      "50%        84.100000\n",
      "75%       115.250000\n",
      "max       517.000000\n",
      "Name: total_area, dtype: float64\n"
     ]
    },
    {
     "data": {
      "image/png": "[encoded data removed]",
      "text/plain": [
       "<Figure size 360x288 with 1 Axes>"
      ]
     },
     "metadata": {
      "needs_background": "light"
     },
     "output_type": "display_data"
    }
   ],
   "source": [
    "# Анализ квартир в центре Санкт-Петербурга\n",
    "spb_certer_radius = 3\n",
    "center_spb_data = spb_data.query('cityCenters_nearest_km <= @spb_certer_radius and locality_name == \"Санкт-Петербург\"')\n",
    "\n",
    "# общая площадь\n",
    "center_spb_data.plot(y='total_area', kind = 'hist', bins = 100, grid=True, figsize = (5,4), range = (0, 400))\n",
    "print(center_spb_data['total_area'].describe()) #распределение Пуассона "
   ]
  },
  {
   "cell_type": "code",
   "execution_count": 43,
   "metadata": {},
   "outputs": [
    {
     "name": "stdout",
     "output_type": "stream",
     "text": [
      "count    1.159000e+03\n",
      "mean     1.602257e+07\n",
      "std      3.292117e+07\n",
      "min      2.100000e+06\n",
      "25%      7.000000e+06\n",
      "50%      9.500000e+06\n",
      "75%      1.447000e+07\n",
      "max      7.630000e+08\n",
      "Name: last_price, dtype: float64\n"
     ]
    },
    {
     "data": {
      "image/png": "[encoded data removed]",
      "text/plain": [
       "<Figure size 360x288 with 1 Axes>"
      ]
     },
     "metadata": {
      "needs_background": "light"
     },
     "output_type": "display_data"
    }
   ],
   "source": [
    "# цена\n",
    "center_spb_data.plot(y='last_price', kind = 'hist', bins = 100, grid=True, figsize = (5,4), range = (0, 30000000))\n",
    "print(center_spb_data['last_price'].describe()) #распределение Пуассона"
   ]
  },
  {
   "cell_type": "code",
   "execution_count": 44,
   "metadata": {},
   "outputs": [
    {
     "name": "stdout",
     "output_type": "stream",
     "text": [
      "count    1154.000000\n",
      "mean        3.117851\n",
      "std         1.548850\n",
      "min         1.000000\n",
      "25%         2.000000\n",
      "50%         3.000000\n",
      "75%         4.000000\n",
      "max        19.000000\n",
      "Name: rooms, dtype: float64\n"
     ]
    },
    {
     "data": {
      "image/png": "[encoded data removed]",
      "text/plain": [
       "<Figure size 360x288 with 1 Axes>"
      ]
     },
     "metadata": {
      "needs_background": "light"
     },
     "output_type": "display_data"
    }
   ],
   "source": [
    "# число комнат\n",
    "center_spb_data.plot(y='rooms', kind = 'hist', bins = 19, grid=True, figsize = (5,4), range = (0, 19))\n",
    "print(center_spb_data[center_spb_data['rooms'] != 0]['rooms'].describe()) #распределение Пуассона"
   ]
  },
  {
   "cell_type": "code",
   "execution_count": 53,
   "metadata": {},
   "outputs": [
    {
     "name": "stdout",
     "output_type": "stream",
     "text": [
      "count    795.000000\n",
      "mean       3.195396\n",
      "std        0.377474\n",
      "min        2.450000\n",
      "25%        3.000000\n",
      "50%        3.160000\n",
      "75%        3.400000\n",
      "max        5.800000\n",
      "Name: ceiling_height, dtype: float64\n"
     ]
    },
    {
     "data": {
      "image/png": "[encoded data removed]",
      "text/plain": [
       "<Figure size 360x288 with 1 Axes>"
      ]
     },
     "metadata": {
      "needs_background": "light"
     },
     "output_type": "display_data"
    }
   ],
   "source": [
    "# высота потолков\n",
    "center_spb_data.plot(y='ceiling_height', kind = 'hist', bins = 50, grid=True, figsize = (5,4), range = (1, 5))\n",
    "print(center_spb_data[center_spb_data['ceiling_height'] != 0]['ceiling_height'].describe())"
   ]
  },
  {
   "cell_type": "markdown",
   "metadata": {},
   "source": [
    "Характеристики квартир в центре Санкт-Петербурга отличаются от общей выборки: общая площадь больше (медиана 84.1 против 52), цена выше (медиана 9.5 млн против 4.65 млн), комнат в квартирах больше (медиана 3 против 2) и выше высота потолков (медиана 3.16 против 2.65)"
   ]
  },
  {
   "cell_type": "code",
   "execution_count": 46,
   "metadata": {},
   "outputs": [
    {
     "name": "stdout",
     "output_type": "stream",
     "text": [
      "0.2553440822918841\n"
     ]
    },
    {
     "data": {
      "text/plain": [
       "<matplotlib.axes._subplots.AxesSubplot at 0x7f6816fbf410>"
      ]
     },
     "execution_count": 46,
     "metadata": {},
     "output_type": "execute_result"
    },
    {
     "data": {
      "image/png": "[encoded data removed]",
      "text/plain": [
       "<Figure size 432x288 with 1 Axes>"
      ]
     },
     "metadata": {
      "needs_background": "light"
     },
     "output_type": "display_data"
    },
    {
     "data": {
      "image/png": "[encoded data removed]",
      "text/plain": [
       "<Figure size 432x288 with 1 Axes>"
      ]
     },
     "metadata": {
      "needs_background": "light"
     },
     "output_type": "display_data"
    }
   ],
   "source": [
    "# цена и число комнат\n",
    "center_spb_last_price_rooms = center_spb_data[(center_spb_data['rooms'] != 0) & (center_spb_data['rooms'] < 14)].pivot_table(index = 'rooms', values='last_price', aggfunc=['mean', 'median'])\n",
    "center_spb_last_price_rooms.columns = ['mean', 'median']\n",
    "center_spb_last_price_rooms.plot(y='median')\n",
    "\n",
    "# корреляция между ценой и числом комнат\n",
    "print(center_spb_data[center_spb_data['rooms'] < 14]['rooms'].corr(center_spb_data[center_spb_data['rooms'] < 14]['last_price']))\n",
    "\n",
    "# цена за квадратный метр и число комнат\n",
    "center_spb_price_meter_rooms = center_spb_data[(center_spb_data['rooms'] != 0) & (center_spb_data['rooms'] < 14)].pivot_table(index = 'rooms', values='price_per_square_meter', aggfunc=['mean', 'median'])\n",
    "center_spb_price_meter_rooms.columns = ['mean', 'median']\n",
    "center_spb_price_meter_rooms.plot(y='median')"
   ]
  },
  {
   "cell_type": "markdown",
   "metadata": {},
   "source": [
    "Число комнат слабо положительно связано с ростом цены на недвижимость (коэф корреляции Пирсона 0.3). При этом, зависимость медианы цены квадратного метра недвижимости от числа комнат имеет нелинейный характер: до шести комнат имеет место отрицательный тренд, от девяти положительный"
   ]
  },
  {
   "cell_type": "code",
   "execution_count": 47,
   "metadata": {},
   "outputs": [
    {
     "data": {
      "text/plain": [
       "<matplotlib.axes._subplots.AxesSubplot at 0x7f6816f36090>"
      ]
     },
     "execution_count": 47,
     "metadata": {},
     "output_type": "execute_result"
    },
    {
     "data": {
      "image/png": "[encoded data removed]",
      "text/plain": [
       "<Figure size 432x288 with 1 Axes>"
      ]
     },
     "metadata": {
      "needs_background": "light"
     },
     "output_type": "display_data"
    },
    {
     "data": {
      "image/png": "[encoded data removed]",
      "text/plain": [
       "<Figure size 432x288 with 1 Axes>"
      ]
     },
     "metadata": {
      "needs_background": "light"
     },
     "output_type": "display_data"
    }
   ],
   "source": [
    "# цена и этаж\n",
    "center_spb_last_price_floor = center_spb_data.pivot_table(index = 'floor_category', values='last_price', aggfunc=['mean', 'median'])\n",
    "center_spb_last_price_floor.columns = ['mean', 'median']\n",
    "center_spb_last_price_floor.plot(y='median')\n",
    "\n",
    "# цена за квадратный метр и этаж\n",
    "center_spb_price_meter_floor = center_spb_data.pivot_table(index = 'floor_category', values='price_per_square_meter', aggfunc=['mean', 'median'])\n",
    "center_spb_price_meter_floor.columns = ['mean', 'median']\n",
    "center_spb_price_meter_floor.plot(y='median')"
   ]
  },
  {
   "cell_type": "markdown",
   "metadata": {},
   "source": [
    "Можно отметить сходство с трендом для всей выборки: на первом и последнем этаже цена за квадратный метр недвижимости ниже, чем на других этажах и цена на первом этаже ниже, чем на последнем. "
   ]
  },
  {
   "cell_type": "code",
   "execution_count": 48,
   "metadata": {},
   "outputs": [
    {
     "data": {
      "text/plain": [
       "<matplotlib.axes._subplots.AxesSubplot at 0x7f6816d85050>"
      ]
     },
     "execution_count": 48,
     "metadata": {},
     "output_type": "execute_result"
    },
    {
     "data": {
      "image/png": "[encoded data removed]",
      "text/plain": [
       "<Figure size 432x288 with 1 Axes>"
      ]
     },
     "metadata": {
      "needs_background": "light"
     },
     "output_type": "display_data"
    },
    {
     "data": {
      "image/png": "[encoded data removed]",
      "text/plain": [
       "<Figure size 432x288 with 1 Axes>"
      ]
     },
     "metadata": {
      "needs_background": "light"
     },
     "output_type": "display_data"
    }
   ],
   "source": [
    "# цена и удаленность от центра\n",
    "center_spb_data.plot(x = 'cityCenters_nearest', y = 'last_price', kind = 'scatter', ylim=(0, 100000000), alpha = 0.3)\n",
    "\n",
    "# цена за квадратный метр и удаленность от центра\n",
    "center_spb_data.plot(x = 'cityCenters_nearest', y = 'price_per_square_meter', kind = 'scatter', ylim=(0, 500000), alpha = 0.3)"
   ]
  },
  {
   "cell_type": "markdown",
   "metadata": {},
   "source": [
    "Зависимость цены и цены квадратного метра в центре города не просматривается"
   ]
  },
  {
   "cell_type": "code",
   "execution_count": 49,
   "metadata": {},
   "outputs": [
    {
     "data": {
      "text/plain": [
       "<matplotlib.axes._subplots.AxesSubplot at 0x7f68172591d0>"
      ]
     },
     "execution_count": 49,
     "metadata": {},
     "output_type": "execute_result"
    },
    {
     "data": {
      "image/png": "[encoded data removed]",
      "text/plain": [
       "<Figure size 432x288 with 1 Axes>"
      ]
     },
     "metadata": {
      "needs_background": "light"
     },
     "output_type": "display_data"
    },
    {
     "data": {
      "image/png": "[encoded data removed]",
      "text/plain": [
       "<Figure size 432x288 with 1 Axes>"
      ]
     },
     "metadata": {
      "needs_background": "light"
     },
     "output_type": "display_data"
    }
   ],
   "source": [
    "# цена и год размещения объявления\n",
    "\n",
    "# цена и год\n",
    "center_spb_last_year = center_spb_data.pivot_table(index = 'year', values='last_price', aggfunc=['mean', 'median'])\n",
    "center_spb_last_year.columns = ['mean', 'median']\n",
    "center_spb_last_year.plot(y='median', style='o-')\n",
    "\n",
    "# цена за квадратный метр и год\n",
    "center_spb_price_meter_year = center_spb_data.pivot_table(index = 'year', values='price_per_square_meter', aggfunc=['mean', 'median'])\n",
    "center_spb_price_meter_year.columns = ['mean', 'median']\n",
    "center_spb_price_meter_year.plot(y='median', style='o-')"
   ]
  },
  {
   "cell_type": "markdown",
   "metadata": {},
   "source": [
    "Тренд изменения цены на недвижимость в центре Санкт-Петербурга отличается от тренда для общей выборки: в центре Санкт-Петербурга стоимость за квадратный метр растет с 2015 года, в то время как общая выборка демонтрирует рост с 2016 года. "
   ]
  },
  {
   "cell_type": "code",
   "execution_count": 50,
   "metadata": {},
   "outputs": [
    {
     "data": {
      "text/plain": [
       "<matplotlib.axes._subplots.AxesSubplot at 0x7f6817165990>"
      ]
     },
     "execution_count": 50,
     "metadata": {},
     "output_type": "execute_result"
    },
    {
     "data": {
      "image/png": "[encoded data removed]",
      "text/plain": [
       "<Figure size 432x288 with 1 Axes>"
      ]
     },
     "metadata": {
      "needs_background": "light"
     },
     "output_type": "display_data"
    },
    {
     "data": {
      "image/png": "[encoded data removed]",
      "text/plain": [
       "<Figure size 432x288 with 1 Axes>"
      ]
     },
     "metadata": {
      "needs_background": "light"
     },
     "output_type": "display_data"
    }
   ],
   "source": [
    "# цена и месяц размещения объявления\n",
    "\n",
    "# цена и месяц\n",
    "center_spb_last_month = center_spb_data.pivot_table(index = 'month', values='last_price', aggfunc=['mean', 'median'])\n",
    "center_spb_last_month.columns = ['mean', 'median']\n",
    "center_spb_last_month.plot(y='median')\n",
    "\n",
    "# цена за квадратный метр и месяц\n",
    "center_spb_price_meter_month = center_spb_data.pivot_table(index = 'month', values='price_per_square_meter', aggfunc=['mean', 'median'])\n",
    "center_spb_price_meter_month.columns = ['mean', 'median']\n",
    "center_spb_price_meter_month.plot(y='median')"
   ]
  },
  {
   "cell_type": "markdown",
   "metadata": {},
   "source": [
    "Как и в общей выборке, можно говорить о сезонности. Самая высокая стоимость за квадратный метр недвижимости в апреле, октябре и декабре, самая низкая в мае и августе. Данный тренд несколько отличается от общей выборки, где самая высокая стоимость в апреле и августе, а самая низкая стоимость в мае и июне. "
   ]
  },
  {
   "cell_type": "code",
   "execution_count": 51,
   "metadata": {},
   "outputs": [
    {
     "data": {
      "text/plain": [
       "<matplotlib.axes._subplots.AxesSubplot at 0x7f68170c7a90>"
      ]
     },
     "execution_count": 51,
     "metadata": {},
     "output_type": "execute_result"
    },
    {
     "data": {
      "image/png": "[encoded data removed]",
      "text/plain": [
       "<Figure size 432x288 with 1 Axes>"
      ]
     },
     "metadata": {
      "needs_background": "light"
     },
     "output_type": "display_data"
    },
    {
     "data": {
      "image/png": "[encoded data removed]",
      "text/plain": [
       "<Figure size 432x288 with 1 Axes>"
      ]
     },
     "metadata": {
      "needs_background": "light"
     },
     "output_type": "display_data"
    }
   ],
   "source": [
    "# цена и день размещения объявления\n",
    "\n",
    "# цена и день\n",
    "center_spb_last_weekday = center_spb_data.pivot_table(index = 'weekday', values='last_price', aggfunc=['mean', 'median'])\n",
    "center_spb_last_weekday.columns = ['mean', 'median']\n",
    "center_spb_last_weekday.plot(y='median')\n",
    "\n",
    "# цена за квадратный метр и день\n",
    "center_spb_price_meter_weekday = center_spb_data.pivot_table(index = 'weekday', values='price_per_square_meter', aggfunc=['mean', 'median'])\n",
    "center_spb_price_meter_weekday.columns = ['mean', 'median']\n",
    "center_spb_price_meter_weekday.plot(y='median')"
   ]
  },
  {
   "cell_type": "markdown",
   "metadata": {},
   "source": [
    "Тренд отличается от общей выборки: минимальные цены за квадратный метр в четверг, самые высокие - в пятницу, субботу и понедельник"
   ]
  },
  {
   "cell_type": "markdown",
   "metadata": {},
   "source": [
    "[К оглавлению](#content)"
   ]
  },
  {
   "cell_type": "markdown",
   "metadata": {},
   "source": [
    "<a id = '4'></a>\n",
    "## Вывод"
   ]
  },
  {
   "cell_type": "markdown",
   "metadata": {},
   "source": [
    "Был изучен файл с первоначальными данными, на предмет соответствия данных необходимым типам и наличия пропусков значений. В результате предобработки был приведен к соответствию формат данных. В столбцах «Balcony» и «days_exposition» пропущенные/отсутствующие данные были заменены нулями. \n",
    "Были отмечены выбросы в столбцах цена, высота потолков и жилая площадь. В анализе значения данных столбцов оставила без изменений. О причине появления данных выбросов стоит спросить у коллег, которые предоставили выборку.\n",
    "Отмечены квартиры с 0 комнатами. Возможно, это квартиры-студии, но число квартир студий не совпадает с числом квартир с 0 количеством комнат. Это нужно уточнить у коллег, которые предоставили выборку. В своем анализе 0 значения комнат я не использовала.  \n",
    "\n",
    "Были рассчитаны и добавлены в таблицу цена квадратного метра, день недели, месяц и год публикации, категории этажа квартиры, соотношение жилой и общей площади и кухни и общей площади.\n",
    "\n",
    "Чтобы оценить время продажи квартиры использовался день снятия квартиры с объявления. Стоит учитывать, что данные значения могут быть не равны. Так, были отмечены выбросы в 7, 30, 45, 60 и 90 дней (максимальные пики в 45 и 60 дней), которые могут совпадать с днями отсечки по объявлению. Из анализа данные выбросы были исключены. В результате построения диаграммы рассеивания было определено, что нормальные значения продажи квартиры находятся в диапазоне от 1 до 580 дней (медиана 114 дней).\n",
    "\n",
    "Для всей выборки, чем больше площадь и ближе квартира к центру города тем выше стоимость квадратного метра недвижимости. Стоимость квадратного метра снижается с ростом комнат до трех, а потом возрастает. Квартиры на первых этажах в среднем самые дешевые, так же квартиры на последних этажах дешевле, чем на других.\n",
    "\n",
    "Стоимость квартир снижалась с 2014 года до 2016 года.  Начиная с 2016 года отмечен рост. Отмечена сезонность в продаже квартир: самая высокая стоимость недвижимости в апреле и августе, а самая низкая стоимость в мае и июне. \n",
    "\n",
    "Самая высокая средняя цена квадратного метра в Санкт-Петербурге. Стоимость квартир в центре Санкт-Петербурга была проанализирована отдельно (центром города по результату расчета изменения цены на недвижмость считаем удаленность до 3х км). Данные по центру Санкт-Петербурга несколько отличаются от общей выборки: отмечается рост квадратного метра недвижимости начиная с 2015 года и несколько другая сезонность. Так же сильно отличаются характеристики квартир в центре Санкт-Петербурга от общей выборки: общая площадь больше (медиана 84.1 против 52), цена выше (медиана 9.5 млн против 4.65 млн), комнат в квартирах больше (медиана 3 против 2) и выше высота потолков (медиана 3.17 против 2.65).\n",
    "Число комнат слабо положительно связано с ростом цены на недвижимость (коэф корреляции Пирсона 0.3). При этом зависимость медианы цены квадратного метра недвижимости от числа комнат имеет нелинейный характер: до шести комнат имеет место отрицательный тренд, от девяти положительный\n",
    "Таким образом, можно сделать вывод, что характер изменения цены на недвижимость может отличаться в зависимости от региона и для более точно результат стоит проанализировать каждый регион в отдельности.\n"
   ]
  },
  {
   "cell_type": "markdown",
   "metadata": {},
   "source": [
    "[К оглавлению](#content)"
   ]
  }
 ],
 "metadata": {
  "ExecuteTimeLog": [
   {
    "duration": 815,
    "start_time": "2021-11-11T20:11:58.524Z"
   },
   {
    "duration": 80,
    "start_time": "2021-11-11T20:12:12.821Z"
   },
   {
    "duration": 93,
    "start_time": "2021-11-11T20:13:53.423Z"
   },
   {
    "duration": 94,
    "start_time": "2021-11-11T20:15:21.299Z"
   },
   {
    "duration": 83,
    "start_time": "2021-11-11T20:15:26.034Z"
   },
   {
    "duration": 79,
    "start_time": "2021-11-11T20:15:49.477Z"
   },
   {
    "duration": 77,
    "start_time": "2021-11-11T20:15:53.715Z"
   },
   {
    "duration": 82,
    "start_time": "2021-11-11T20:15:58.739Z"
   },
   {
    "duration": 108,
    "start_time": "2021-11-11T20:16:52.197Z"
   },
   {
    "duration": 112,
    "start_time": "2021-11-11T20:18:48.838Z"
   },
   {
    "duration": 116,
    "start_time": "2021-11-11T20:20:47.759Z"
   },
   {
    "duration": 1917,
    "start_time": "2021-11-11T20:36:36.285Z"
   },
   {
    "duration": 10,
    "start_time": "2021-11-11T20:36:57.474Z"
   },
   {
    "duration": 8,
    "start_time": "2021-11-11T20:37:22.072Z"
   },
   {
    "duration": 7,
    "start_time": "2021-11-11T20:39:16.559Z"
   },
   {
    "duration": 32,
    "start_time": "2021-11-11T20:39:47.611Z"
   },
   {
    "duration": 15,
    "start_time": "2021-11-11T20:40:16.224Z"
   },
   {
    "duration": 11,
    "start_time": "2021-11-11T20:40:20.056Z"
   },
   {
    "duration": 9,
    "start_time": "2021-11-11T20:40:23.270Z"
   },
   {
    "duration": 16,
    "start_time": "2021-11-11T20:41:00.151Z"
   },
   {
    "duration": 11,
    "start_time": "2021-11-11T20:41:26.252Z"
   },
   {
    "duration": 14,
    "start_time": "2021-11-11T20:43:24.862Z"
   },
   {
    "duration": 14,
    "start_time": "2021-11-11T20:46:09.556Z"
   },
   {
    "duration": 18,
    "start_time": "2021-11-11T20:46:28.838Z"
   },
   {
    "duration": 14,
    "start_time": "2021-11-11T20:46:51.241Z"
   },
   {
    "duration": 18,
    "start_time": "2021-11-11T20:47:07.662Z"
   },
   {
    "duration": 20,
    "start_time": "2021-11-11T20:49:00.778Z"
   },
   {
    "duration": 30,
    "start_time": "2021-11-11T20:49:21.134Z"
   },
   {
    "duration": 17,
    "start_time": "2021-11-11T20:49:56.686Z"
   },
   {
    "duration": 20,
    "start_time": "2021-11-11T20:50:07.241Z"
   },
   {
    "duration": 18,
    "start_time": "2021-11-11T20:50:20.215Z"
   },
   {
    "duration": 14,
    "start_time": "2021-11-11T20:50:46.873Z"
   },
   {
    "duration": 17,
    "start_time": "2021-11-11T20:50:56.127Z"
   },
   {
    "duration": 21,
    "start_time": "2021-11-11T20:51:01.324Z"
   },
   {
    "duration": 21,
    "start_time": "2021-11-11T20:51:14.336Z"
   },
   {
    "duration": 27,
    "start_time": "2021-11-11T20:51:38.468Z"
   },
   {
    "duration": 26,
    "start_time": "2021-11-11T20:52:10.076Z"
   },
   {
    "duration": 18,
    "start_time": "2021-11-11T20:52:17.943Z"
   },
   {
    "duration": 17,
    "start_time": "2021-11-11T20:52:36.707Z"
   },
   {
    "duration": 25,
    "start_time": "2021-11-11T20:52:44.399Z"
   },
   {
    "duration": 20,
    "start_time": "2021-11-11T20:54:23.678Z"
   },
   {
    "duration": 21,
    "start_time": "2021-11-11T20:55:13.514Z"
   },
   {
    "duration": 24,
    "start_time": "2021-11-11T20:55:32.869Z"
   },
   {
    "duration": 90,
    "start_time": "2021-11-11T20:57:21.904Z"
   },
   {
    "duration": 24,
    "start_time": "2021-11-11T20:57:26.830Z"
   },
   {
    "duration": 26,
    "start_time": "2021-11-11T20:58:00.609Z"
   },
   {
    "duration": 11,
    "start_time": "2021-11-11T20:58:16.440Z"
   },
   {
    "duration": 16,
    "start_time": "2021-11-11T20:58:52.274Z"
   },
   {
    "duration": 25,
    "start_time": "2021-11-11T20:59:02.167Z"
   },
   {
    "duration": 27,
    "start_time": "2021-11-11T20:59:19.291Z"
   },
   {
    "duration": 31,
    "start_time": "2021-11-11T20:59:34.674Z"
   },
   {
    "duration": 25,
    "start_time": "2021-11-11T21:00:02.115Z"
   },
   {
    "duration": 31,
    "start_time": "2021-11-11T21:00:36.297Z"
   },
   {
    "duration": 26,
    "start_time": "2021-11-11T21:02:19.044Z"
   },
   {
    "duration": 30,
    "start_time": "2021-11-11T21:02:50.821Z"
   },
   {
    "duration": 32,
    "start_time": "2021-11-11T21:03:43.978Z"
   },
   {
    "duration": 34,
    "start_time": "2021-11-11T21:04:02.771Z"
   },
   {
    "duration": 37,
    "start_time": "2021-11-11T21:04:27.553Z"
   },
   {
    "duration": 33,
    "start_time": "2021-11-11T21:05:09.583Z"
   },
   {
    "duration": 32,
    "start_time": "2021-11-11T21:05:20.516Z"
   },
   {
    "duration": 43,
    "start_time": "2021-11-11T21:05:39.170Z"
   },
   {
    "duration": 46,
    "start_time": "2021-11-11T21:06:29.507Z"
   },
   {
    "duration": 39,
    "start_time": "2021-11-11T21:07:13.747Z"
   },
   {
    "duration": 58,
    "start_time": "2021-11-11T21:10:42.697Z"
   },
   {
    "duration": 45,
    "start_time": "2021-11-11T21:11:05.520Z"
   },
   {
    "duration": 41,
    "start_time": "2021-11-11T21:11:59.591Z"
   },
   {
    "duration": 40,
    "start_time": "2021-11-11T21:12:15.095Z"
   },
   {
    "duration": 43,
    "start_time": "2021-11-11T21:12:40.320Z"
   },
   {
    "duration": 52,
    "start_time": "2021-11-11T21:13:30.954Z"
   },
   {
    "duration": 34,
    "start_time": "2021-11-11T21:13:46.441Z"
   },
   {
    "duration": 37,
    "start_time": "2021-11-11T21:14:04.002Z"
   },
   {
    "duration": 34,
    "start_time": "2021-11-11T21:14:17.368Z"
   },
   {
    "duration": 39,
    "start_time": "2021-11-11T21:14:22.716Z"
   },
   {
    "duration": 42,
    "start_time": "2021-11-11T21:14:33.228Z"
   },
   {
    "duration": 484,
    "start_time": "2021-11-11T21:16:06.373Z"
   },
   {
    "duration": 41,
    "start_time": "2021-11-11T21:16:23.629Z"
   },
   {
    "duration": 40,
    "start_time": "2021-11-11T21:17:02.492Z"
   },
   {
    "duration": 378,
    "start_time": "2021-11-11T21:17:52.741Z"
   },
   {
    "duration": 63,
    "start_time": "2021-11-11T21:18:00.413Z"
   },
   {
    "duration": 821,
    "start_time": "2021-11-11T21:18:43.328Z"
   },
   {
    "duration": 333,
    "start_time": "2021-11-11T21:19:31.913Z"
   },
   {
    "duration": 41,
    "start_time": "2021-11-11T21:20:29.556Z"
   },
   {
    "duration": 35,
    "start_time": "2021-11-11T21:20:42.143Z"
   },
   {
    "duration": 39,
    "start_time": "2021-11-11T21:21:03.578Z"
   },
   {
    "duration": 297,
    "start_time": "2021-11-12T10:28:41.726Z"
   },
   {
    "duration": 678,
    "start_time": "2021-11-12T10:28:49.591Z"
   },
   {
    "duration": 36,
    "start_time": "2021-11-12T10:28:54.720Z"
   },
   {
    "duration": 29,
    "start_time": "2021-11-12T10:29:16.863Z"
   },
   {
    "duration": 25,
    "start_time": "2021-11-12T10:30:19.798Z"
   },
   {
    "duration": 25,
    "start_time": "2021-11-12T10:31:02.107Z"
   },
   {
    "duration": 28,
    "start_time": "2021-11-12T10:32:27.696Z"
   },
   {
    "duration": 23,
    "start_time": "2021-11-12T10:32:59.348Z"
   },
   {
    "duration": 23,
    "start_time": "2021-11-12T10:33:13.044Z"
   },
   {
    "duration": 26,
    "start_time": "2021-11-12T10:33:28.247Z"
   },
   {
    "duration": 28,
    "start_time": "2021-11-12T10:34:06.158Z"
   },
   {
    "duration": 28,
    "start_time": "2021-11-12T10:35:06.631Z"
   },
   {
    "duration": 28,
    "start_time": "2021-11-12T10:35:50.300Z"
   },
   {
    "duration": 26,
    "start_time": "2021-11-12T10:36:04.572Z"
   },
   {
    "duration": 25,
    "start_time": "2021-11-12T10:36:20.020Z"
   },
   {
    "duration": 18,
    "start_time": "2021-11-12T10:36:41.135Z"
   },
   {
    "duration": 15,
    "start_time": "2021-11-12T10:37:13.080Z"
   },
   {
    "duration": 15,
    "start_time": "2021-11-12T10:37:27.088Z"
   },
   {
    "duration": 60,
    "start_time": "2021-11-12T10:38:08.543Z"
   },
   {
    "duration": 15,
    "start_time": "2021-11-12T10:38:19.214Z"
   },
   {
    "duration": 16,
    "start_time": "2021-11-12T10:39:10.858Z"
   },
   {
    "duration": 18,
    "start_time": "2021-11-12T10:39:47.402Z"
   },
   {
    "duration": 19,
    "start_time": "2021-11-12T10:40:23.350Z"
   },
   {
    "duration": 20,
    "start_time": "2021-11-12T10:41:44.512Z"
   },
   {
    "duration": 20,
    "start_time": "2021-11-12T10:41:49.934Z"
   },
   {
    "duration": 21,
    "start_time": "2021-11-12T10:41:52.738Z"
   },
   {
    "duration": 28,
    "start_time": "2021-11-12T10:42:29.172Z"
   },
   {
    "duration": 27,
    "start_time": "2021-11-12T10:43:39.223Z"
   },
   {
    "duration": 26,
    "start_time": "2021-11-12T10:44:21.204Z"
   },
   {
    "duration": 27,
    "start_time": "2021-11-12T10:44:42.606Z"
   },
   {
    "duration": 30,
    "start_time": "2021-11-12T10:45:33.954Z"
   },
   {
    "duration": 28,
    "start_time": "2021-11-12T10:47:04.074Z"
   },
   {
    "duration": 29,
    "start_time": "2021-11-12T10:47:34.710Z"
   },
   {
    "duration": 34,
    "start_time": "2021-11-12T10:48:06.842Z"
   },
   {
    "duration": 33,
    "start_time": "2021-11-12T10:48:40.133Z"
   },
   {
    "duration": 33,
    "start_time": "2021-11-12T10:49:36.655Z"
   },
   {
    "duration": 33,
    "start_time": "2021-11-12T10:49:58.009Z"
   },
   {
    "duration": 38,
    "start_time": "2021-11-12T10:50:42.627Z"
   },
   {
    "duration": 48,
    "start_time": "2021-11-12T10:51:46.937Z"
   },
   {
    "duration": 43,
    "start_time": "2021-11-12T11:17:51.667Z"
   },
   {
    "duration": 48,
    "start_time": "2021-11-12T11:20:02.715Z"
   },
   {
    "duration": 50,
    "start_time": "2021-11-12T11:20:33.332Z"
   },
   {
    "duration": 53,
    "start_time": "2021-11-12T11:27:12.165Z"
   },
   {
    "duration": 59,
    "start_time": "2021-11-12T11:27:54.611Z"
   },
   {
    "duration": 75,
    "start_time": "2021-11-12T11:30:43.061Z"
   },
   {
    "duration": 82,
    "start_time": "2021-11-12T11:31:42.484Z"
   },
   {
    "duration": 85,
    "start_time": "2021-11-12T11:35:37.183Z"
   },
   {
    "duration": 99,
    "start_time": "2021-11-12T11:37:16.178Z"
   },
   {
    "duration": 82,
    "start_time": "2021-11-12T11:38:08.397Z"
   },
   {
    "duration": 97,
    "start_time": "2021-11-12T11:39:52.837Z"
   },
   {
    "duration": 82,
    "start_time": "2021-11-12T11:45:04.155Z"
   },
   {
    "duration": 99,
    "start_time": "2021-11-12T11:45:04.239Z"
   },
   {
    "duration": 6,
    "start_time": "2021-11-12T11:48:50.658Z"
   },
   {
    "duration": 211,
    "start_time": "2021-11-12T12:19:42.131Z"
   },
   {
    "duration": 11,
    "start_time": "2021-11-12T12:19:48.299Z"
   },
   {
    "duration": 13,
    "start_time": "2021-11-12T12:20:25.633Z"
   },
   {
    "duration": 445,
    "start_time": "2021-11-12T12:29:06.762Z"
   },
   {
    "duration": 2570,
    "start_time": "2021-11-12T12:29:53.067Z"
   },
   {
    "duration": 450,
    "start_time": "2021-11-12T12:30:13.246Z"
   },
   {
    "duration": 440,
    "start_time": "2021-11-12T12:34:21.052Z"
   },
   {
    "duration": 449,
    "start_time": "2021-11-12T12:34:59.274Z"
   },
   {
    "duration": 480,
    "start_time": "2021-11-12T12:35:54.426Z"
   },
   {
    "duration": 231,
    "start_time": "2021-11-12T12:39:52.028Z"
   },
   {
    "duration": 325,
    "start_time": "2021-11-12T12:40:52.497Z"
   },
   {
    "duration": 311,
    "start_time": "2021-11-12T12:41:18.838Z"
   },
   {
    "duration": 370,
    "start_time": "2021-11-12T12:41:41.602Z"
   },
   {
    "duration": 329,
    "start_time": "2021-11-12T12:41:50.886Z"
   },
   {
    "duration": 321,
    "start_time": "2021-11-12T12:49:07.301Z"
   },
   {
    "duration": 306,
    "start_time": "2021-11-12T12:49:38.716Z"
   },
   {
    "duration": 312,
    "start_time": "2021-11-12T12:49:47.597Z"
   },
   {
    "duration": 358,
    "start_time": "2021-11-12T12:49:52.545Z"
   },
   {
    "duration": 310,
    "start_time": "2021-11-12T12:50:12.717Z"
   },
   {
    "duration": 326,
    "start_time": "2021-11-12T12:50:34.283Z"
   },
   {
    "duration": 414,
    "start_time": "2021-11-12T12:50:48.722Z"
   },
   {
    "duration": 497,
    "start_time": "2021-11-12T12:53:43.304Z"
   },
   {
    "duration": 507,
    "start_time": "2021-11-12T12:54:28.888Z"
   },
   {
    "duration": 686,
    "start_time": "2021-11-12T12:55:53.377Z"
   },
   {
    "duration": 787,
    "start_time": "2021-11-12T12:56:15.300Z"
   },
   {
    "duration": 872,
    "start_time": "2021-11-12T12:56:31.722Z"
   },
   {
    "duration": 761,
    "start_time": "2021-11-12T12:57:02.773Z"
   },
   {
    "duration": 776,
    "start_time": "2021-11-12T12:57:19.938Z"
   },
   {
    "duration": 892,
    "start_time": "2021-11-12T12:57:34.932Z"
   },
   {
    "duration": 761,
    "start_time": "2021-11-12T12:57:57.158Z"
   },
   {
    "duration": 1110,
    "start_time": "2021-11-12T13:00:10.552Z"
   },
   {
    "duration": 1267,
    "start_time": "2021-11-12T13:00:23.237Z"
   },
   {
    "duration": 1120,
    "start_time": "2021-11-12T13:07:10.144Z"
   },
   {
    "duration": 1278,
    "start_time": "2021-11-12T13:07:27.179Z"
   },
   {
    "duration": 1180,
    "start_time": "2021-11-12T13:08:01.688Z"
   },
   {
    "duration": 1230,
    "start_time": "2021-11-12T13:08:08.464Z"
   },
   {
    "duration": 1131,
    "start_time": "2021-11-12T13:08:19.400Z"
   },
   {
    "duration": 1310,
    "start_time": "2021-11-12T13:08:26.707Z"
   },
   {
    "duration": 1503,
    "start_time": "2021-11-12T13:09:38.838Z"
   },
   {
    "duration": 1624,
    "start_time": "2021-11-12T13:09:51.276Z"
   },
   {
    "duration": 1540,
    "start_time": "2021-11-12T13:10:02.302Z"
   },
   {
    "duration": 1507,
    "start_time": "2021-11-12T13:10:15.800Z"
   },
   {
    "duration": 1462,
    "start_time": "2021-11-12T13:10:23.915Z"
   },
   {
    "duration": 1575,
    "start_time": "2021-11-12T13:10:34.232Z"
   },
   {
    "duration": 1270,
    "start_time": "2021-11-12T13:11:06.096Z"
   },
   {
    "duration": 1426,
    "start_time": "2021-11-12T13:18:52.795Z"
   },
   {
    "duration": 1297,
    "start_time": "2021-11-12T13:19:17.121Z"
   },
   {
    "duration": 1370,
    "start_time": "2021-11-12T13:19:35.599Z"
   },
   {
    "duration": 1350,
    "start_time": "2021-11-12T13:19:56.567Z"
   },
   {
    "duration": 1425,
    "start_time": "2021-11-12T13:25:34.287Z"
   },
   {
    "duration": 1331,
    "start_time": "2021-11-12T13:31:56.820Z"
   },
   {
    "duration": 1426,
    "start_time": "2021-11-12T13:33:04.022Z"
   },
   {
    "duration": 1310,
    "start_time": "2021-11-12T13:33:08.756Z"
   },
   {
    "duration": 2,
    "start_time": "2021-11-12T13:42:16.483Z"
   },
   {
    "duration": 199,
    "start_time": "2021-11-12T13:43:52.994Z"
   },
   {
    "duration": 9,
    "start_time": "2021-11-12T13:44:38.435Z"
   },
   {
    "duration": 374,
    "start_time": "2021-11-12T13:45:13.795Z"
   },
   {
    "duration": 394,
    "start_time": "2021-11-12T13:45:23.712Z"
   },
   {
    "duration": 504,
    "start_time": "2021-11-12T13:46:43.343Z"
   },
   {
    "duration": 435,
    "start_time": "2021-11-12T13:47:06.394Z"
   },
   {
    "duration": 1813,
    "start_time": "2021-11-12T13:47:13.737Z"
   },
   {
    "duration": 375,
    "start_time": "2021-11-12T13:48:39.608Z"
   },
   {
    "duration": 390,
    "start_time": "2021-11-12T13:49:02.147Z"
   },
   {
    "duration": 4631,
    "start_time": "2021-11-12T13:49:27.896Z"
   },
   {
    "duration": 4442,
    "start_time": "2021-11-12T13:49:36.147Z"
   },
   {
    "duration": 382,
    "start_time": "2021-11-12T13:50:00.778Z"
   },
   {
    "duration": 563,
    "start_time": "2021-11-12T13:50:20.746Z"
   },
   {
    "duration": 615,
    "start_time": "2021-11-12T13:50:28.233Z"
   },
   {
    "duration": 393,
    "start_time": "2021-11-12T13:50:43.706Z"
   },
   {
    "duration": 784,
    "start_time": "2021-11-12T13:52:52.007Z"
   },
   {
    "duration": 736,
    "start_time": "2021-11-12T13:53:01.265Z"
   },
   {
    "duration": 780,
    "start_time": "2021-11-12T13:53:22.757Z"
   },
   {
    "duration": 1210,
    "start_time": "2021-11-12T15:05:34.822Z"
   },
   {
    "duration": 991,
    "start_time": "2021-11-12T15:05:37.491Z"
   },
   {
    "duration": 759,
    "start_time": "2021-11-12T15:07:31.696Z"
   },
   {
    "duration": 1059,
    "start_time": "2021-11-12T15:07:49.391Z"
   },
   {
    "duration": 945,
    "start_time": "2021-11-12T15:08:26.566Z"
   },
   {
    "duration": 889,
    "start_time": "2021-11-12T15:08:53.541Z"
   },
   {
    "duration": 1045,
    "start_time": "2021-11-12T15:09:02.079Z"
   },
   {
    "duration": 882,
    "start_time": "2021-11-12T15:09:09.844Z"
   },
   {
    "duration": 14,
    "start_time": "2021-11-12T15:31:58.100Z"
   },
   {
    "duration": 480,
    "start_time": "2021-11-12T15:32:46.839Z"
   },
   {
    "duration": 385,
    "start_time": "2021-11-12T15:33:09.267Z"
   },
   {
    "duration": 1170,
    "start_time": "2021-11-12T15:34:38.742Z"
   },
   {
    "duration": 552,
    "start_time": "2021-11-12T15:35:10.361Z"
   },
   {
    "duration": 506,
    "start_time": "2021-11-12T15:35:23.515Z"
   },
   {
    "duration": 564,
    "start_time": "2021-11-12T15:35:58.857Z"
   },
   {
    "duration": 492,
    "start_time": "2021-11-12T15:36:16.449Z"
   },
   {
    "duration": 645,
    "start_time": "2021-11-12T15:40:42.784Z"
   },
   {
    "duration": 484,
    "start_time": "2021-11-12T15:40:55.300Z"
   },
   {
    "duration": 70,
    "start_time": "2021-11-12T16:00:07.876Z"
   },
   {
    "duration": 5,
    "start_time": "2021-11-12T16:01:46.383Z"
   },
   {
    "duration": 7,
    "start_time": "2021-11-12T16:04:57.112Z"
   },
   {
    "duration": 710,
    "start_time": "2021-11-12T16:05:45.081Z"
   },
   {
    "duration": 8,
    "start_time": "2021-11-12T16:07:29.185Z"
   },
   {
    "duration": 12,
    "start_time": "2021-11-12T16:07:53.058Z"
   },
   {
    "duration": 540,
    "start_time": "2021-11-12T16:08:49.884Z"
   },
   {
    "duration": 941,
    "start_time": "2021-11-12T16:12:47.107Z"
   },
   {
    "duration": 210,
    "start_time": "2021-11-13T08:37:01.469Z"
   },
   {
    "duration": 630,
    "start_time": "2021-11-13T08:37:14.392Z"
   },
   {
    "duration": 98,
    "start_time": "2021-11-13T08:37:15.024Z"
   },
   {
    "duration": 463,
    "start_time": "2021-11-13T08:37:15.124Z"
   },
   {
    "duration": 1355,
    "start_time": "2021-11-13T08:37:15.588Z"
   },
   {
    "duration": 902,
    "start_time": "2021-11-13T08:37:16.944Z"
   },
   {
    "duration": 506,
    "start_time": "2021-11-13T08:37:17.847Z"
   },
   {
    "duration": 1567,
    "start_time": "2021-11-13T08:37:18.355Z"
   },
   {
    "duration": 1607,
    "start_time": "2021-11-13T08:38:10.577Z"
   },
   {
    "duration": 2876,
    "start_time": "2021-11-13T08:38:34.519Z"
   },
   {
    "duration": 468,
    "start_time": "2021-11-13T08:40:49.504Z"
   },
   {
    "duration": 458,
    "start_time": "2021-11-13T08:42:24.982Z"
   },
   {
    "duration": 8,
    "start_time": "2021-11-13T08:43:11.122Z"
   },
   {
    "duration": 517,
    "start_time": "2021-11-13T08:44:14.548Z"
   },
   {
    "duration": 8,
    "start_time": "2021-11-13T08:44:22.551Z"
   },
   {
    "duration": 478,
    "start_time": "2021-11-13T08:44:33.546Z"
   },
   {
    "duration": 490,
    "start_time": "2021-11-13T08:44:46.520Z"
   },
   {
    "duration": 485,
    "start_time": "2021-11-13T08:46:06.462Z"
   },
   {
    "duration": 963,
    "start_time": "2021-11-13T08:46:38.162Z"
   },
   {
    "duration": 957,
    "start_time": "2021-11-13T08:47:08.572Z"
   },
   {
    "duration": 463,
    "start_time": "2021-11-13T08:47:34.199Z"
   },
   {
    "duration": 956,
    "start_time": "2021-11-13T08:49:59.081Z"
   },
   {
    "duration": 1015,
    "start_time": "2021-11-13T08:50:32.724Z"
   },
   {
    "duration": 1014,
    "start_time": "2021-11-13T08:52:26.740Z"
   },
   {
    "duration": 1308,
    "start_time": "2021-11-13T08:58:53.772Z"
   },
   {
    "duration": 1313,
    "start_time": "2021-11-13T09:00:10.769Z"
   },
   {
    "duration": 1126,
    "start_time": "2021-11-13T09:00:45.320Z"
   },
   {
    "duration": 1160,
    "start_time": "2021-11-13T09:01:11.254Z"
   },
   {
    "duration": 1579,
    "start_time": "2021-11-13T09:01:21.553Z"
   },
   {
    "duration": 1167,
    "start_time": "2021-11-13T09:01:31.116Z"
   },
   {
    "duration": 1152,
    "start_time": "2021-11-13T09:01:53.565Z"
   },
   {
    "duration": 953,
    "start_time": "2021-11-13T09:02:16.508Z"
   },
   {
    "duration": 1133,
    "start_time": "2021-11-13T09:59:11.793Z"
   },
   {
    "duration": 1181,
    "start_time": "2021-11-13T09:59:23.692Z"
   },
   {
    "duration": 1204,
    "start_time": "2021-11-13T09:59:50.928Z"
   },
   {
    "duration": 1175,
    "start_time": "2021-11-13T10:19:23.869Z"
   },
   {
    "duration": 1136,
    "start_time": "2021-11-13T10:20:13.689Z"
   },
   {
    "duration": 1155,
    "start_time": "2021-11-13T10:20:25.116Z"
   },
   {
    "duration": 63,
    "start_time": "2021-11-13T10:21:26.931Z"
   },
   {
    "duration": 1125,
    "start_time": "2021-11-13T10:21:32.805Z"
   },
   {
    "duration": 1150,
    "start_time": "2021-11-13T10:22:12.989Z"
   },
   {
    "duration": 1703,
    "start_time": "2021-11-13T10:22:45.011Z"
   },
   {
    "duration": 1152,
    "start_time": "2021-11-13T10:23:40.555Z"
   },
   {
    "duration": 1132,
    "start_time": "2021-11-13T10:24:35.803Z"
   },
   {
    "duration": 1355,
    "start_time": "2021-11-13T10:26:59.154Z"
   },
   {
    "duration": 371,
    "start_time": "2021-11-13T10:37:24.911Z"
   },
   {
    "duration": 476,
    "start_time": "2021-11-13T10:39:01.910Z"
   },
   {
    "duration": 450,
    "start_time": "2021-11-13T10:39:49.856Z"
   },
   {
    "duration": 418,
    "start_time": "2021-11-13T10:43:56.821Z"
   },
   {
    "duration": 199,
    "start_time": "2021-11-13T11:08:46.210Z"
   },
   {
    "duration": 825,
    "start_time": "2021-11-13T11:11:48.966Z"
   },
   {
    "duration": 574,
    "start_time": "2021-11-13T11:12:17.919Z"
   },
   {
    "duration": 895,
    "start_time": "2021-11-13T11:12:42.383Z"
   },
   {
    "duration": 868,
    "start_time": "2021-11-13T11:13:44.433Z"
   },
   {
    "duration": 1284,
    "start_time": "2021-11-13T11:15:15.201Z"
   },
   {
    "duration": 1358,
    "start_time": "2021-11-13T11:17:08.716Z"
   },
   {
    "duration": 487,
    "start_time": "2021-11-13T11:18:57.042Z"
   },
   {
    "duration": 569,
    "start_time": "2021-11-13T11:19:31.648Z"
   },
   {
    "duration": 510,
    "start_time": "2021-11-13T11:19:47.630Z"
   },
   {
    "duration": 430,
    "start_time": "2021-11-13T11:19:57.666Z"
   },
   {
    "duration": 461,
    "start_time": "2021-11-13T11:20:08.097Z"
   },
   {
    "duration": 63,
    "start_time": "2021-11-13T11:20:27.661Z"
   },
   {
    "duration": 63,
    "start_time": "2021-11-13T11:20:50.335Z"
   },
   {
    "duration": 502,
    "start_time": "2021-11-13T11:20:56.749Z"
   },
   {
    "duration": 503,
    "start_time": "2021-11-13T11:21:04.328Z"
   },
   {
    "duration": 493,
    "start_time": "2021-11-13T11:21:14.236Z"
   },
   {
    "duration": 952,
    "start_time": "2021-11-13T11:21:33.931Z"
   },
   {
    "duration": 989,
    "start_time": "2021-11-13T11:21:43.421Z"
   },
   {
    "duration": 951,
    "start_time": "2021-11-13T11:22:13.286Z"
   },
   {
    "duration": 922,
    "start_time": "2021-11-13T11:22:32.981Z"
   },
   {
    "duration": 934,
    "start_time": "2021-11-13T11:22:40.883Z"
   },
   {
    "duration": 1100,
    "start_time": "2021-11-13T11:23:27.158Z"
   },
   {
    "duration": 5180,
    "start_time": "2021-11-13T11:23:59.658Z"
   },
   {
    "duration": 964,
    "start_time": "2021-11-13T11:24:49.485Z"
   },
   {
    "duration": 62,
    "start_time": "2021-11-13T11:25:36.893Z"
   },
   {
    "duration": 246,
    "start_time": "2021-11-13T11:29:02.848Z"
   },
   {
    "duration": 159,
    "start_time": "2021-11-13T11:29:08.255Z"
   },
   {
    "duration": 461,
    "start_time": "2021-11-13T11:30:10.847Z"
   },
   {
    "duration": 159,
    "start_time": "2021-11-13T11:30:19.276Z"
   },
   {
    "duration": 163,
    "start_time": "2021-11-13T11:32:02.268Z"
   },
   {
    "duration": 164,
    "start_time": "2021-11-13T11:32:17.401Z"
   },
   {
    "duration": 328,
    "start_time": "2021-11-13T11:33:47.546Z"
   },
   {
    "duration": 187,
    "start_time": "2021-11-13T11:40:25.867Z"
   },
   {
    "duration": 384,
    "start_time": "2021-11-13T11:40:52.875Z"
   },
   {
    "duration": 738,
    "start_time": "2021-11-13T11:42:13.829Z"
   },
   {
    "duration": 394,
    "start_time": "2021-11-14T10:15:52.669Z"
   },
   {
    "duration": 349,
    "start_time": "2021-11-14T10:19:33.690Z"
   },
   {
    "duration": 652,
    "start_time": "2021-11-14T10:19:44.561Z"
   },
   {
    "duration": 98,
    "start_time": "2021-11-14T10:19:45.215Z"
   },
   {
    "duration": 459,
    "start_time": "2021-11-14T10:19:45.317Z"
   },
   {
    "duration": 1260,
    "start_time": "2021-11-14T10:19:45.777Z"
   },
   {
    "duration": 811,
    "start_time": "2021-11-14T10:19:47.039Z"
   },
   {
    "duration": 462,
    "start_time": "2021-11-14T10:19:47.852Z"
   },
   {
    "duration": 1002,
    "start_time": "2021-11-14T10:19:48.317Z"
   },
   {
    "duration": 1250,
    "start_time": "2021-11-14T10:19:49.321Z"
   },
   {
    "duration": 933,
    "start_time": "2021-11-14T10:19:50.573Z"
   },
   {
    "duration": 313,
    "start_time": "2021-11-14T10:19:51.508Z"
   },
   {
    "duration": 1048,
    "start_time": "2021-11-14T10:19:51.822Z"
   },
   {
    "duration": 1007,
    "start_time": "2021-11-14T10:40:01.853Z"
   },
   {
    "duration": 10,
    "start_time": "2021-11-14T10:41:41.490Z"
   },
   {
    "duration": 1213,
    "start_time": "2021-11-14T10:41:54.773Z"
   },
   {
    "duration": 11,
    "start_time": "2021-11-14T10:42:29.293Z"
   },
   {
    "duration": 10,
    "start_time": "2021-11-14T10:43:17.020Z"
   },
   {
    "duration": 12,
    "start_time": "2021-11-14T10:43:30.930Z"
   },
   {
    "duration": 7,
    "start_time": "2021-11-14T10:43:58.816Z"
   },
   {
    "duration": 8,
    "start_time": "2021-11-14T10:44:07.499Z"
   },
   {
    "duration": 10,
    "start_time": "2021-11-14T10:44:46.812Z"
   },
   {
    "duration": 398,
    "start_time": "2021-11-14T10:51:26.354Z"
   },
   {
    "duration": 122,
    "start_time": "2021-11-14T10:51:39.896Z"
   },
   {
    "duration": 89,
    "start_time": "2021-11-14T10:58:50.317Z"
   },
   {
    "duration": 24,
    "start_time": "2021-11-14T11:00:55.944Z"
   },
   {
    "duration": 25,
    "start_time": "2021-11-14T11:02:13.314Z"
   },
   {
    "duration": 27,
    "start_time": "2021-11-14T11:02:27.633Z"
   },
   {
    "duration": 660,
    "start_time": "2021-11-14T11:02:36.209Z"
   },
   {
    "duration": 38,
    "start_time": "2021-11-14T11:02:42.544Z"
   },
   {
    "duration": 27,
    "start_time": "2021-11-14T11:03:56.834Z"
   },
   {
    "duration": 28,
    "start_time": "2021-11-14T11:04:24.399Z"
   },
   {
    "duration": 6,
    "start_time": "2021-11-14T11:10:54.988Z"
   },
   {
    "duration": 395,
    "start_time": "2021-11-14T11:11:14.916Z"
   },
   {
    "duration": 357,
    "start_time": "2021-11-14T11:11:50.835Z"
   },
   {
    "duration": 5,
    "start_time": "2021-11-14T11:12:22.663Z"
   },
   {
    "duration": 8,
    "start_time": "2021-11-14T11:14:03.207Z"
   },
   {
    "duration": 6,
    "start_time": "2021-11-14T11:14:47.261Z"
   },
   {
    "duration": 9205,
    "start_time": "2021-11-14T11:16:18.063Z"
   },
   {
    "duration": 855,
    "start_time": "2021-11-14T11:17:56.943Z"
   },
   {
    "duration": 23,
    "start_time": "2021-11-14T11:18:45.271Z"
   },
   {
    "duration": 23,
    "start_time": "2021-11-14T11:19:34.157Z"
   },
   {
    "duration": 10,
    "start_time": "2021-11-14T11:21:22.860Z"
   },
   {
    "duration": 15,
    "start_time": "2021-11-14T11:22:02.744Z"
   },
   {
    "duration": 10,
    "start_time": "2021-11-14T11:22:02.929Z"
   },
   {
    "duration": 10,
    "start_time": "2021-11-14T11:22:06.927Z"
   },
   {
    "duration": 8,
    "start_time": "2021-11-14T11:22:21.546Z"
   },
   {
    "duration": 8,
    "start_time": "2021-11-14T11:22:25.830Z"
   },
   {
    "duration": 9,
    "start_time": "2021-11-14T11:22:41.097Z"
   },
   {
    "duration": 9,
    "start_time": "2021-11-14T11:22:52.944Z"
   },
   {
    "duration": 9,
    "start_time": "2021-11-14T11:23:16.420Z"
   },
   {
    "duration": 9,
    "start_time": "2021-11-14T11:23:26.099Z"
   },
   {
    "duration": 654,
    "start_time": "2021-11-14T11:23:31.845Z"
   },
   {
    "duration": 87,
    "start_time": "2021-11-14T11:23:32.501Z"
   },
   {
    "duration": 464,
    "start_time": "2021-11-14T11:23:32.590Z"
   },
   {
    "duration": 1265,
    "start_time": "2021-11-14T11:23:33.056Z"
   },
   {
    "duration": 796,
    "start_time": "2021-11-14T11:23:34.323Z"
   },
   {
    "duration": 464,
    "start_time": "2021-11-14T11:23:35.121Z"
   },
   {
    "duration": 1037,
    "start_time": "2021-11-14T11:23:35.587Z"
   },
   {
    "duration": 1237,
    "start_time": "2021-11-14T11:23:36.626Z"
   },
   {
    "duration": 933,
    "start_time": "2021-11-14T11:23:37.865Z"
   },
   {
    "duration": 310,
    "start_time": "2021-11-14T11:23:38.799Z"
   },
   {
    "duration": 1036,
    "start_time": "2021-11-14T11:23:39.111Z"
   },
   {
    "duration": 27,
    "start_time": "2021-11-14T11:23:40.148Z"
   },
   {
    "duration": 12,
    "start_time": "2021-11-14T11:23:40.177Z"
   },
   {
    "duration": 9,
    "start_time": "2021-11-14T11:24:01.097Z"
   },
   {
    "duration": 180,
    "start_time": "2021-11-14T11:24:20.566Z"
   },
   {
    "duration": 4,
    "start_time": "2021-11-14T11:24:34.574Z"
   },
   {
    "duration": 4,
    "start_time": "2021-11-14T11:24:40.033Z"
   },
   {
    "duration": 10,
    "start_time": "2021-11-14T11:27:50.476Z"
   },
   {
    "duration": 12,
    "start_time": "2021-11-14T11:28:01.255Z"
   },
   {
    "duration": 9,
    "start_time": "2021-11-14T11:30:09.694Z"
   },
   {
    "duration": 107,
    "start_time": "2021-11-14T11:30:29.061Z"
   },
   {
    "duration": 22,
    "start_time": "2021-11-14T11:31:12.349Z"
   },
   {
    "duration": 10,
    "start_time": "2021-11-14T11:31:19.814Z"
   },
   {
    "duration": 16,
    "start_time": "2021-11-14T11:31:42.714Z"
   },
   {
    "duration": 701,
    "start_time": "2021-11-14T11:32:22.142Z"
   },
   {
    "duration": 11,
    "start_time": "2021-11-14T11:32:23.219Z"
   },
   {
    "duration": 1406,
    "start_time": "2021-11-14T11:33:53.431Z"
   },
   {
    "duration": 15,
    "start_time": "2021-11-14T11:34:07.511Z"
   },
   {
    "duration": 475,
    "start_time": "2021-11-14T11:35:16.353Z"
   },
   {
    "duration": 13,
    "start_time": "2021-11-14T11:35:23.753Z"
   },
   {
    "duration": 33,
    "start_time": "2021-11-14T11:58:03.687Z"
   },
   {
    "duration": 633,
    "start_time": "2021-11-14T12:06:17.039Z"
   },
   {
    "duration": 23,
    "start_time": "2021-11-14T12:06:34.188Z"
   },
   {
    "duration": 26,
    "start_time": "2021-11-14T12:07:28.721Z"
   },
   {
    "duration": 443,
    "start_time": "2021-11-14T12:08:12.562Z"
   },
   {
    "duration": 13,
    "start_time": "2021-11-14T12:08:46.538Z"
   },
   {
    "duration": 13,
    "start_time": "2021-11-14T12:09:57.196Z"
   },
   {
    "duration": 14,
    "start_time": "2021-11-14T12:10:04.577Z"
   },
   {
    "duration": 372,
    "start_time": "2021-11-14T12:10:12.401Z"
   },
   {
    "duration": 441,
    "start_time": "2021-11-14T12:11:14.551Z"
   },
   {
    "duration": 31,
    "start_time": "2021-11-14T12:12:50.340Z"
   },
   {
    "duration": 22,
    "start_time": "2021-11-14T12:13:18.623Z"
   },
   {
    "duration": 23,
    "start_time": "2021-11-14T12:13:39.260Z"
   },
   {
    "duration": 181,
    "start_time": "2021-11-14T12:13:53.637Z"
   },
   {
    "duration": 194,
    "start_time": "2021-11-14T12:14:27.522Z"
   },
   {
    "duration": 191,
    "start_time": "2021-11-14T12:14:51.381Z"
   },
   {
    "duration": 8,
    "start_time": "2021-11-14T12:32:56.652Z"
   },
   {
    "duration": 186,
    "start_time": "2021-11-14T12:34:23.007Z"
   },
   {
    "duration": 195,
    "start_time": "2021-11-14T12:36:00.314Z"
   },
   {
    "duration": 8,
    "start_time": "2021-11-14T12:36:15.962Z"
   },
   {
    "duration": 15,
    "start_time": "2021-11-14T12:37:51.748Z"
   },
   {
    "duration": 175,
    "start_time": "2021-11-14T12:38:01.461Z"
   },
   {
    "duration": 168,
    "start_time": "2021-11-14T12:38:32.198Z"
   },
   {
    "duration": 170,
    "start_time": "2021-11-14T12:38:36.563Z"
   },
   {
    "duration": 187,
    "start_time": "2021-11-14T12:38:46.490Z"
   },
   {
    "duration": 205,
    "start_time": "2021-11-14T12:39:01.862Z"
   },
   {
    "duration": 188,
    "start_time": "2021-11-14T12:39:06.639Z"
   },
   {
    "duration": 263,
    "start_time": "2021-11-14T12:39:10.778Z"
   },
   {
    "duration": 181,
    "start_time": "2021-11-14T12:39:35.632Z"
   },
   {
    "duration": 265,
    "start_time": "2021-11-14T12:39:43.815Z"
   },
   {
    "duration": 182,
    "start_time": "2021-11-14T12:40:25.630Z"
   },
   {
    "duration": 188,
    "start_time": "2021-11-14T12:41:16.378Z"
   },
   {
    "duration": 354,
    "start_time": "2021-11-14T12:42:36.756Z"
   },
   {
    "duration": 352,
    "start_time": "2021-11-14T12:43:48.394Z"
   },
   {
    "duration": 445,
    "start_time": "2021-11-14T12:43:55.379Z"
   },
   {
    "duration": 345,
    "start_time": "2021-11-14T12:44:07.118Z"
   },
   {
    "duration": 9777,
    "start_time": "2021-11-14T12:46:18.613Z"
   },
   {
    "duration": 514,
    "start_time": "2021-11-14T12:46:52.781Z"
   },
   {
    "duration": 344,
    "start_time": "2021-11-14T12:46:57.881Z"
   },
   {
    "duration": 850,
    "start_time": "2021-11-14T12:48:19.126Z"
   },
   {
    "duration": 337,
    "start_time": "2021-11-14T12:48:22.498Z"
   },
   {
    "duration": 682,
    "start_time": "2021-11-14T12:48:39.741Z"
   },
   {
    "duration": 348,
    "start_time": "2021-11-14T12:49:07.042Z"
   },
   {
    "duration": 379,
    "start_time": "2021-11-14T12:49:48.263Z"
   },
   {
    "duration": 416,
    "start_time": "2021-11-14T12:50:08.864Z"
   },
   {
    "duration": 344,
    "start_time": "2021-11-14T12:50:49.443Z"
   },
   {
    "duration": 431,
    "start_time": "2021-11-14T12:51:07.398Z"
   },
   {
    "duration": 406,
    "start_time": "2021-11-14T12:51:27.269Z"
   },
   {
    "duration": 346,
    "start_time": "2021-11-14T12:51:33.169Z"
   },
   {
    "duration": 415,
    "start_time": "2021-11-14T12:51:42.666Z"
   },
   {
    "duration": 400,
    "start_time": "2021-11-14T12:52:18.393Z"
   },
   {
    "duration": 332,
    "start_time": "2021-11-14T12:53:35.558Z"
   },
   {
    "duration": 477,
    "start_time": "2021-11-14T13:01:26.596Z"
   },
   {
    "duration": 207,
    "start_time": "2021-11-14T13:01:42.460Z"
   },
   {
    "duration": 323,
    "start_time": "2021-11-14T13:02:38.229Z"
   },
   {
    "duration": 329,
    "start_time": "2021-11-14T13:04:35.782Z"
   },
   {
    "duration": 363,
    "start_time": "2021-11-14T13:05:07.096Z"
   },
   {
    "duration": 445,
    "start_time": "2021-11-14T13:08:23.594Z"
   },
   {
    "duration": 454,
    "start_time": "2021-11-14T13:09:14.923Z"
   },
   {
    "duration": 9915,
    "start_time": "2021-11-14T13:09:55.393Z"
   },
   {
    "duration": 859,
    "start_time": "2021-11-14T13:12:00.774Z"
   },
   {
    "duration": 9867,
    "start_time": "2021-11-14T13:12:03.466Z"
   },
   {
    "duration": 593,
    "start_time": "2021-11-14T13:12:31.746Z"
   },
   {
    "duration": 618,
    "start_time": "2021-11-14T13:17:29.915Z"
   },
   {
    "duration": 642,
    "start_time": "2021-11-14T13:17:39.671Z"
   },
   {
    "duration": 569,
    "start_time": "2021-11-14T13:17:45.658Z"
   },
   {
    "duration": 585,
    "start_time": "2021-11-14T13:17:59.498Z"
   },
   {
    "duration": 573,
    "start_time": "2021-11-14T13:18:06.521Z"
   },
   {
    "duration": 711,
    "start_time": "2021-11-14T13:18:15.515Z"
   },
   {
    "duration": 671,
    "start_time": "2021-11-14T13:18:23.077Z"
   },
   {
    "duration": 674,
    "start_time": "2021-11-14T13:19:36.696Z"
   },
   {
    "duration": 424,
    "start_time": "2021-11-14T13:33:19.038Z"
   },
   {
    "duration": 331,
    "start_time": "2021-11-14T13:33:41.758Z"
   },
   {
    "duration": 646,
    "start_time": "2021-11-14T13:34:14.047Z"
   },
   {
    "duration": 87,
    "start_time": "2021-11-14T13:34:14.695Z"
   },
   {
    "duration": 461,
    "start_time": "2021-11-14T13:34:14.784Z"
   },
   {
    "duration": 1363,
    "start_time": "2021-11-14T13:34:15.247Z"
   },
   {
    "duration": 823,
    "start_time": "2021-11-14T13:34:16.611Z"
   },
   {
    "duration": 473,
    "start_time": "2021-11-14T13:34:17.436Z"
   },
   {
    "duration": 1046,
    "start_time": "2021-11-14T13:34:17.911Z"
   },
   {
    "duration": 1340,
    "start_time": "2021-11-14T13:34:18.960Z"
   },
   {
    "duration": 934,
    "start_time": "2021-11-14T13:34:20.302Z"
   },
   {
    "duration": 328,
    "start_time": "2021-11-14T13:34:21.238Z"
   },
   {
    "duration": 1163,
    "start_time": "2021-11-14T13:34:21.568Z"
   },
   {
    "duration": 28,
    "start_time": "2021-11-14T13:34:22.732Z"
   },
   {
    "duration": 434,
    "start_time": "2021-11-14T13:34:22.762Z"
   },
   {
    "duration": 829,
    "start_time": "2021-11-14T13:34:22.369Z"
   },
   {
    "duration": 823,
    "start_time": "2021-11-14T13:34:22.376Z"
   },
   {
    "duration": 819,
    "start_time": "2021-11-14T13:34:22.381Z"
   },
   {
    "duration": 816,
    "start_time": "2021-11-14T13:34:22.385Z"
   },
   {
    "duration": 703,
    "start_time": "2021-11-14T13:34:48.999Z"
   },
   {
    "duration": 93,
    "start_time": "2021-11-14T13:34:49.704Z"
   },
   {
    "duration": 475,
    "start_time": "2021-11-14T13:34:49.799Z"
   },
   {
    "duration": 1327,
    "start_time": "2021-11-14T13:34:50.276Z"
   },
   {
    "duration": 830,
    "start_time": "2021-11-14T13:34:51.605Z"
   },
   {
    "duration": 471,
    "start_time": "2021-11-14T13:34:52.437Z"
   },
   {
    "duration": 1041,
    "start_time": "2021-11-14T13:34:52.910Z"
   },
   {
    "duration": 1305,
    "start_time": "2021-11-14T13:34:53.954Z"
   },
   {
    "duration": 966,
    "start_time": "2021-11-14T13:34:55.261Z"
   },
   {
    "duration": 319,
    "start_time": "2021-11-14T13:34:56.229Z"
   },
   {
    "duration": 1050,
    "start_time": "2021-11-14T13:34:56.550Z"
   },
   {
    "duration": 28,
    "start_time": "2021-11-14T13:34:57.601Z"
   },
   {
    "duration": 191,
    "start_time": "2021-11-14T13:34:57.630Z"
   },
   {
    "duration": 494,
    "start_time": "2021-11-14T13:34:57.823Z"
   },
   {
    "duration": 701,
    "start_time": "2021-11-14T13:34:57.618Z"
   },
   {
    "duration": 694,
    "start_time": "2021-11-14T13:34:57.626Z"
   },
   {
    "duration": 691,
    "start_time": "2021-11-14T13:34:57.630Z"
   },
   {
    "duration": 505,
    "start_time": "2021-11-14T13:35:47.891Z"
   },
   {
    "duration": 177,
    "start_time": "2021-11-14T13:36:11.568Z"
   },
   {
    "duration": 333,
    "start_time": "2021-11-14T13:36:41.783Z"
   },
   {
    "duration": 706,
    "start_time": "2021-11-14T13:36:51.245Z"
   },
   {
    "duration": 97,
    "start_time": "2021-11-14T13:36:51.953Z"
   },
   {
    "duration": 467,
    "start_time": "2021-11-14T13:36:52.052Z"
   },
   {
    "duration": 1278,
    "start_time": "2021-11-14T13:36:52.520Z"
   },
   {
    "duration": 832,
    "start_time": "2021-11-14T13:36:53.800Z"
   },
   {
    "duration": 469,
    "start_time": "2021-11-14T13:36:54.634Z"
   },
   {
    "duration": 1027,
    "start_time": "2021-11-14T13:36:55.106Z"
   },
   {
    "duration": 1307,
    "start_time": "2021-11-14T13:36:56.136Z"
   },
   {
    "duration": 946,
    "start_time": "2021-11-14T13:36:57.445Z"
   },
   {
    "duration": 332,
    "start_time": "2021-11-14T13:36:58.393Z"
   },
   {
    "duration": 1063,
    "start_time": "2021-11-14T13:36:58.727Z"
   },
   {
    "duration": 37,
    "start_time": "2021-11-14T13:36:59.792Z"
   },
   {
    "duration": 188,
    "start_time": "2021-11-14T13:36:59.830Z"
   },
   {
    "duration": 433,
    "start_time": "2021-11-14T13:37:00.020Z"
   },
   {
    "duration": 331,
    "start_time": "2021-11-14T13:37:00.454Z"
   },
   {
    "duration": 655,
    "start_time": "2021-11-14T13:37:00.787Z"
   },
   {
    "duration": 384,
    "start_time": "2021-11-14T13:37:01.444Z"
   },
   {
    "duration": 369,
    "start_time": "2021-11-14T13:41:39.805Z"
   },
   {
    "duration": 341,
    "start_time": "2021-11-14T13:51:42.594Z"
   },
   {
    "duration": 137,
    "start_time": "2021-11-14T13:53:15.491Z"
   },
   {
    "duration": 335,
    "start_time": "2021-11-14T13:54:23.765Z"
   },
   {
    "duration": 858,
    "start_time": "2021-11-14T14:39:25.614Z"
   },
   {
    "duration": 790,
    "start_time": "2021-11-14T14:40:16.243Z"
   },
   {
    "duration": 814,
    "start_time": "2021-11-14T14:40:44.003Z"
   },
   {
    "duration": 456,
    "start_time": "2021-11-14T14:47:32.905Z"
   },
   {
    "duration": 578,
    "start_time": "2021-11-14T14:47:39.170Z"
   },
   {
    "duration": 455,
    "start_time": "2021-11-14T14:48:20.772Z"
   },
   {
    "duration": 1053,
    "start_time": "2021-11-14T14:51:53.863Z"
   },
   {
    "duration": 1344,
    "start_time": "2021-11-14T14:54:44.773Z"
   },
   {
    "duration": 1350,
    "start_time": "2021-11-14T14:54:59.666Z"
   },
   {
    "duration": 1414,
    "start_time": "2021-11-14T15:02:23.694Z"
   },
   {
    "duration": 1258,
    "start_time": "2021-11-14T15:02:31.318Z"
   },
   {
    "duration": 354,
    "start_time": "2021-11-14T15:04:49.343Z"
   },
   {
    "duration": 319,
    "start_time": "2021-11-14T15:10:31.698Z"
   },
   {
    "duration": 336,
    "start_time": "2021-11-14T15:18:28.228Z"
   },
   {
    "duration": 684,
    "start_time": "2021-11-14T15:18:33.429Z"
   },
   {
    "duration": 104,
    "start_time": "2021-11-14T15:18:34.115Z"
   },
   {
    "duration": 480,
    "start_time": "2021-11-14T15:18:34.221Z"
   },
   {
    "duration": 1283,
    "start_time": "2021-11-14T15:18:34.703Z"
   },
   {
    "duration": 820,
    "start_time": "2021-11-14T15:18:35.988Z"
   },
   {
    "duration": 480,
    "start_time": "2021-11-14T15:18:36.810Z"
   },
   {
    "duration": 1049,
    "start_time": "2021-11-14T15:18:37.293Z"
   },
   {
    "duration": 374,
    "start_time": "2021-11-14T15:18:38.344Z"
   },
   {
    "duration": 889,
    "start_time": "2021-11-14T15:18:38.720Z"
   },
   {
    "duration": 309,
    "start_time": "2021-11-14T15:18:39.610Z"
   },
   {
    "duration": 1058,
    "start_time": "2021-11-14T15:18:39.922Z"
   },
   {
    "duration": 32,
    "start_time": "2021-11-14T15:18:40.982Z"
   },
   {
    "duration": 248,
    "start_time": "2021-11-14T15:18:41.015Z"
   },
   {
    "duration": 354,
    "start_time": "2021-11-14T15:18:41.265Z"
   },
   {
    "duration": 364,
    "start_time": "2021-11-14T15:18:41.621Z"
   },
   {
    "duration": 497,
    "start_time": "2021-11-14T15:18:41.986Z"
   },
   {
    "duration": 368,
    "start_time": "2021-11-14T15:18:42.484Z"
   },
   {
    "duration": 353,
    "start_time": "2021-11-14T15:18:42.853Z"
   },
   {
    "duration": 357,
    "start_time": "2021-11-14T15:18:43.208Z"
   },
   {
    "duration": 1038,
    "start_time": "2021-11-14T15:20:18.507Z"
   },
   {
    "duration": 344,
    "start_time": "2021-11-14T15:35:50.091Z"
   },
   {
    "duration": 336,
    "start_time": "2021-11-14T15:36:17.482Z"
   },
   {
    "duration": 1775,
    "start_time": "2021-11-14T15:38:41.667Z"
   },
   {
    "duration": 1802,
    "start_time": "2021-11-14T15:39:34.320Z"
   },
   {
    "duration": 1454,
    "start_time": "2021-11-14T15:40:51.198Z"
   },
   {
    "duration": 1990,
    "start_time": "2021-11-14T15:45:11.651Z"
   },
   {
    "duration": 870,
    "start_time": "2021-11-14T15:46:26.278Z"
   },
   {
    "duration": 106,
    "start_time": "2021-11-14T15:46:27.150Z"
   },
   {
    "duration": 616,
    "start_time": "2021-11-14T15:46:27.258Z"
   },
   {
    "duration": 1515,
    "start_time": "2021-11-14T15:46:27.876Z"
   },
   {
    "duration": 928,
    "start_time": "2021-11-14T15:46:29.393Z"
   },
   {
    "duration": 479,
    "start_time": "2021-11-14T15:46:30.322Z"
   },
   {
    "duration": 1231,
    "start_time": "2021-11-14T15:46:30.802Z"
   },
   {
    "duration": 379,
    "start_time": "2021-11-14T15:46:32.036Z"
   },
   {
    "duration": 1067,
    "start_time": "2021-11-14T15:46:32.418Z"
   },
   {
    "duration": 332,
    "start_time": "2021-11-14T15:46:33.488Z"
   },
   {
    "duration": 1230,
    "start_time": "2021-11-14T15:46:33.822Z"
   },
   {
    "duration": 55,
    "start_time": "2021-11-14T15:46:35.054Z"
   },
   {
    "duration": 297,
    "start_time": "2021-11-14T15:46:35.112Z"
   },
   {
    "duration": 1664,
    "start_time": "2021-11-14T15:46:35.411Z"
   },
   {
    "duration": 337,
    "start_time": "2021-11-14T15:46:37.077Z"
   },
   {
    "duration": 680,
    "start_time": "2021-11-14T15:46:37.416Z"
   },
   {
    "duration": 601,
    "start_time": "2021-11-14T15:46:38.097Z"
   },
   {
    "duration": 526,
    "start_time": "2021-11-14T15:46:38.699Z"
   },
   {
    "duration": 379,
    "start_time": "2021-11-14T15:46:39.227Z"
   },
   {
    "duration": 1537,
    "start_time": "2021-11-14T15:50:45.105Z"
   },
   {
    "duration": 792,
    "start_time": "2021-11-14T15:54:00.777Z"
   },
   {
    "duration": 99,
    "start_time": "2021-11-14T15:54:01.571Z"
   },
   {
    "duration": 472,
    "start_time": "2021-11-14T15:54:01.672Z"
   },
   {
    "duration": 1297,
    "start_time": "2021-11-14T15:54:02.146Z"
   },
   {
    "duration": 947,
    "start_time": "2021-11-14T15:54:03.444Z"
   },
   {
    "duration": 485,
    "start_time": "2021-11-14T15:54:04.393Z"
   },
   {
    "duration": 1090,
    "start_time": "2021-11-14T15:54:04.879Z"
   },
   {
    "duration": 367,
    "start_time": "2021-11-14T15:54:05.972Z"
   },
   {
    "duration": 988,
    "start_time": "2021-11-14T15:54:06.342Z"
   },
   {
    "duration": 325,
    "start_time": "2021-11-14T15:54:07.331Z"
   },
   {
    "duration": 1077,
    "start_time": "2021-11-14T15:54:07.658Z"
   },
   {
    "duration": 31,
    "start_time": "2021-11-14T15:54:08.737Z"
   },
   {
    "duration": 208,
    "start_time": "2021-11-14T15:54:08.770Z"
   },
   {
    "duration": 1710,
    "start_time": "2021-11-14T15:54:08.980Z"
   },
   {
    "duration": 424,
    "start_time": "2021-11-14T15:54:10.693Z"
   },
   {
    "duration": 642,
    "start_time": "2021-11-14T15:54:11.119Z"
   },
   {
    "duration": 363,
    "start_time": "2021-11-14T15:54:11.763Z"
   },
   {
    "duration": 359,
    "start_time": "2021-11-14T15:54:12.128Z"
   },
   {
    "duration": 365,
    "start_time": "2021-11-14T15:54:12.490Z"
   },
   {
    "duration": 1667,
    "start_time": "2021-11-14T15:58:29.526Z"
   },
   {
    "duration": 1897,
    "start_time": "2021-11-14T15:59:03.162Z"
   },
   {
    "duration": 838,
    "start_time": "2021-11-14T15:59:23.395Z"
   },
   {
    "duration": 99,
    "start_time": "2021-11-14T15:59:24.235Z"
   },
   {
    "duration": 570,
    "start_time": "2021-11-14T15:59:24.336Z"
   },
   {
    "duration": 1469,
    "start_time": "2021-11-14T15:59:24.909Z"
   },
   {
    "duration": 977,
    "start_time": "2021-11-14T15:59:26.379Z"
   },
   {
    "duration": 505,
    "start_time": "2021-11-14T15:59:27.359Z"
   },
   {
    "duration": 1147,
    "start_time": "2021-11-14T15:59:27.865Z"
   },
   {
    "duration": 549,
    "start_time": "2021-11-14T15:59:29.014Z"
   },
   {
    "duration": 984,
    "start_time": "2021-11-14T15:59:29.566Z"
   },
   {
    "duration": 429,
    "start_time": "2021-11-14T15:59:30.552Z"
   },
   {
    "duration": 1312,
    "start_time": "2021-11-14T15:59:30.983Z"
   },
   {
    "duration": 36,
    "start_time": "2021-11-14T15:59:32.296Z"
   },
   {
    "duration": 227,
    "start_time": "2021-11-14T15:59:32.334Z"
   },
   {
    "duration": 1973,
    "start_time": "2021-11-14T15:59:32.563Z"
   },
   {
    "duration": 336,
    "start_time": "2021-11-14T15:59:34.538Z"
   },
   {
    "duration": 719,
    "start_time": "2021-11-14T15:59:34.877Z"
   },
   {
    "duration": 715,
    "start_time": "2021-11-14T15:59:35.597Z"
   },
   {
    "duration": 396,
    "start_time": "2021-11-14T15:59:36.314Z"
   },
   {
    "duration": 382,
    "start_time": "2021-11-14T15:59:36.712Z"
   },
   {
    "duration": 545,
    "start_time": "2021-11-14T16:00:08.041Z"
   },
   {
    "duration": 1268,
    "start_time": "2021-11-14T16:00:30.004Z"
   },
   {
    "duration": 898,
    "start_time": "2021-11-14T16:00:37.875Z"
   },
   {
    "duration": 96,
    "start_time": "2021-11-14T16:00:38.775Z"
   },
   {
    "duration": 540,
    "start_time": "2021-11-14T16:00:38.873Z"
   },
   {
    "duration": 1468,
    "start_time": "2021-11-14T16:00:39.415Z"
   },
   {
    "duration": 1024,
    "start_time": "2021-11-14T16:00:40.885Z"
   },
   {
    "duration": 649,
    "start_time": "2021-11-14T16:00:41.911Z"
   },
   {
    "duration": 1115,
    "start_time": "2021-11-14T16:00:42.562Z"
   },
   {
    "duration": 437,
    "start_time": "2021-11-14T16:00:43.679Z"
   },
   {
    "duration": 977,
    "start_time": "2021-11-14T16:00:44.118Z"
   },
   {
    "duration": 429,
    "start_time": "2021-11-14T16:00:45.097Z"
   },
   {
    "duration": 1287,
    "start_time": "2021-11-14T16:00:45.528Z"
   },
   {
    "duration": 29,
    "start_time": "2021-11-14T16:00:46.817Z"
   },
   {
    "duration": 222,
    "start_time": "2021-11-14T16:00:46.848Z"
   },
   {
    "duration": 1781,
    "start_time": "2021-11-14T16:00:47.072Z"
   },
   {
    "duration": 428,
    "start_time": "2021-11-14T16:00:48.855Z"
   },
   {
    "duration": 621,
    "start_time": "2021-11-14T16:00:49.285Z"
   },
   {
    "duration": 507,
    "start_time": "2021-11-14T16:00:49.908Z"
   },
   {
    "duration": 376,
    "start_time": "2021-11-14T16:00:50.417Z"
   },
   {
    "duration": 526,
    "start_time": "2021-11-14T16:00:50.795Z"
   },
   {
    "duration": 148,
    "start_time": "2021-11-15T08:30:29.351Z"
   },
   {
    "duration": 667,
    "start_time": "2021-11-15T10:27:28.126Z"
   },
   {
    "duration": 83,
    "start_time": "2021-11-15T10:27:46.297Z"
   },
   {
    "duration": 69,
    "start_time": "2021-11-15T10:27:53.134Z"
   },
   {
    "duration": 84,
    "start_time": "2021-11-15T10:28:05.829Z"
   },
   {
    "duration": 7,
    "start_time": "2021-11-15T10:33:19.312Z"
   },
   {
    "duration": 6,
    "start_time": "2021-11-15T10:33:23.240Z"
   },
   {
    "duration": 6,
    "start_time": "2021-11-15T10:33:50.085Z"
   },
   {
    "duration": 11,
    "start_time": "2021-11-15T10:34:15.801Z"
   },
   {
    "duration": 65,
    "start_time": "2021-11-15T10:34:24.161Z"
   },
   {
    "duration": 11,
    "start_time": "2021-11-15T10:35:13.654Z"
   },
   {
    "duration": 7,
    "start_time": "2021-11-15T10:35:45.745Z"
   },
   {
    "duration": 6,
    "start_time": "2021-11-15T10:36:19.094Z"
   },
   {
    "duration": 6,
    "start_time": "2021-11-15T10:36:32.790Z"
   },
   {
    "duration": 43,
    "start_time": "2021-11-15T10:36:43.554Z"
   },
   {
    "duration": 6,
    "start_time": "2021-11-15T10:37:05.189Z"
   },
   {
    "duration": 5,
    "start_time": "2021-11-15T10:37:44.077Z"
   },
   {
    "duration": 7,
    "start_time": "2021-11-15T10:38:11.987Z"
   },
   {
    "duration": 5,
    "start_time": "2021-11-15T10:38:14.496Z"
   },
   {
    "duration": 39,
    "start_time": "2021-11-15T10:38:28.987Z"
   },
   {
    "duration": 697,
    "start_time": "2021-11-15T10:40:04.181Z"
   },
   {
    "duration": 5,
    "start_time": "2021-11-15T10:40:04.880Z"
   },
   {
    "duration": 7,
    "start_time": "2021-11-15T10:40:04.887Z"
   },
   {
    "duration": 8,
    "start_time": "2021-11-15T10:40:04.895Z"
   },
   {
    "duration": 11,
    "start_time": "2021-11-15T10:40:04.904Z"
   },
   {
    "duration": 5,
    "start_time": "2021-11-15T10:40:04.916Z"
   },
   {
    "duration": 10,
    "start_time": "2021-11-15T10:40:04.922Z"
   },
   {
    "duration": 6,
    "start_time": "2021-11-15T10:40:04.934Z"
   },
   {
    "duration": 7,
    "start_time": "2021-11-15T10:40:04.942Z"
   },
   {
    "duration": 39,
    "start_time": "2021-11-15T10:40:04.950Z"
   },
   {
    "duration": 9,
    "start_time": "2021-11-15T10:40:04.990Z"
   },
   {
    "duration": 13,
    "start_time": "2021-11-15T10:40:05.000Z"
   },
   {
    "duration": 9,
    "start_time": "2021-11-15T10:40:05.014Z"
   },
   {
    "duration": 7,
    "start_time": "2021-11-15T10:40:05.024Z"
   },
   {
    "duration": 9,
    "start_time": "2021-11-15T10:40:05.033Z"
   },
   {
    "duration": 9,
    "start_time": "2021-11-15T10:40:05.044Z"
   },
   {
    "duration": 42,
    "start_time": "2021-11-15T10:40:05.054Z"
   },
   {
    "duration": 28,
    "start_time": "2021-11-15T10:40:05.097Z"
   },
   {
    "duration": 467,
    "start_time": "2021-11-15T10:40:05.126Z"
   },
   {
    "duration": 1209,
    "start_time": "2021-11-15T10:40:05.595Z"
   },
   {
    "duration": 769,
    "start_time": "2021-11-15T10:40:06.805Z"
   },
   {
    "duration": 446,
    "start_time": "2021-11-15T10:40:07.576Z"
   },
   {
    "duration": 959,
    "start_time": "2021-11-15T10:40:08.025Z"
   },
   {
    "duration": 328,
    "start_time": "2021-11-15T10:40:08.988Z"
   },
   {
    "duration": 859,
    "start_time": "2021-11-15T10:40:09.318Z"
   },
   {
    "duration": 308,
    "start_time": "2021-11-15T10:40:10.179Z"
   },
   {
    "duration": 977,
    "start_time": "2021-11-15T10:40:10.489Z"
   },
   {
    "duration": 35,
    "start_time": "2021-11-15T10:40:11.468Z"
   },
   {
    "duration": 169,
    "start_time": "2021-11-15T10:40:11.504Z"
   },
   {
    "duration": 1427,
    "start_time": "2021-11-15T10:40:11.675Z"
   },
   {
    "duration": 295,
    "start_time": "2021-11-15T10:40:13.103Z"
   },
   {
    "duration": 523,
    "start_time": "2021-11-15T10:40:13.399Z"
   },
   {
    "duration": 333,
    "start_time": "2021-11-15T10:40:13.924Z"
   },
   {
    "duration": 333,
    "start_time": "2021-11-15T10:40:14.258Z"
   },
   {
    "duration": 334,
    "start_time": "2021-11-15T10:40:14.593Z"
   },
   {
    "duration": 9,
    "start_time": "2021-11-15T12:18:02.449Z"
   },
   {
    "duration": 6,
    "start_time": "2021-11-15T12:18:22.821Z"
   },
   {
    "duration": 6,
    "start_time": "2021-11-15T12:18:41.313Z"
   },
   {
    "duration": 7,
    "start_time": "2021-11-15T12:19:05.877Z"
   },
   {
    "duration": 7,
    "start_time": "2021-11-15T12:19:20.169Z"
   },
   {
    "duration": 28,
    "start_time": "2021-11-15T12:21:04.436Z"
   },
   {
    "duration": 26,
    "start_time": "2021-11-15T12:21:24.095Z"
   },
   {
    "duration": 5,
    "start_time": "2021-11-15T12:21:48.059Z"
   },
   {
    "duration": 23,
    "start_time": "2021-11-15T12:21:59.719Z"
   },
   {
    "duration": 95,
    "start_time": "2021-11-15T12:22:41.683Z"
   },
   {
    "duration": 11,
    "start_time": "2021-11-15T12:28:02.455Z"
   },
   {
    "duration": 96,
    "start_time": "2021-11-15T12:28:15.682Z"
   },
   {
    "duration": 93,
    "start_time": "2021-11-15T12:28:30.190Z"
   },
   {
    "duration": 112,
    "start_time": "2021-11-15T12:29:08.254Z"
   },
   {
    "duration": 10,
    "start_time": "2021-11-15T12:29:16.973Z"
   },
   {
    "duration": 85,
    "start_time": "2021-11-15T12:29:46.799Z"
   },
   {
    "duration": 116,
    "start_time": "2021-11-15T12:36:45.137Z"
   },
   {
    "duration": 107,
    "start_time": "2021-11-15T12:37:46.751Z"
   },
   {
    "duration": 336,
    "start_time": "2021-11-15T12:38:30.553Z"
   },
   {
    "duration": 5467,
    "start_time": "2021-11-15T12:39:14.571Z"
   },
   {
    "duration": 5029,
    "start_time": "2021-11-15T12:39:37.451Z"
   },
   {
    "duration": 7197,
    "start_time": "2021-11-15T12:39:48.915Z"
   },
   {
    "duration": 5012,
    "start_time": "2021-11-15T12:40:16.819Z"
   },
   {
    "duration": 5065,
    "start_time": "2021-11-15T12:40:41.722Z"
   },
   {
    "duration": 6032,
    "start_time": "2021-11-15T12:41:08.776Z"
   },
   {
    "duration": 8,
    "start_time": "2021-11-15T12:41:45.170Z"
   },
   {
    "duration": 9,
    "start_time": "2021-11-15T12:42:03.189Z"
   },
   {
    "duration": 5580,
    "start_time": "2021-11-15T12:42:08.697Z"
   },
   {
    "duration": 5045,
    "start_time": "2021-11-15T12:42:32.961Z"
   },
   {
    "duration": 25,
    "start_time": "2021-11-15T12:43:55.777Z"
   },
   {
    "duration": 8,
    "start_time": "2021-11-15T12:45:26.255Z"
   },
   {
    "duration": 824,
    "start_time": "2021-11-15T12:50:23.974Z"
   },
   {
    "duration": 9,
    "start_time": "2021-11-15T12:50:40.529Z"
   },
   {
    "duration": 10,
    "start_time": "2021-11-15T12:51:04.149Z"
   },
   {
    "duration": 9,
    "start_time": "2021-11-15T12:51:23.732Z"
   },
   {
    "duration": 13,
    "start_time": "2021-11-15T12:51:28.190Z"
   },
   {
    "duration": 5773,
    "start_time": "2021-11-15T12:51:43.437Z"
   },
   {
    "duration": 9,
    "start_time": "2021-11-15T12:52:08.234Z"
   },
   {
    "duration": 11,
    "start_time": "2021-11-15T12:52:16.199Z"
   },
   {
    "duration": 10,
    "start_time": "2021-11-15T12:52:21.849Z"
   },
   {
    "duration": 5767,
    "start_time": "2021-11-15T12:53:18.631Z"
   },
   {
    "duration": 5985,
    "start_time": "2021-11-15T12:53:42.833Z"
   },
   {
    "duration": 23,
    "start_time": "2021-11-15T12:54:18.811Z"
   },
   {
    "duration": 13,
    "start_time": "2021-11-15T12:54:34.984Z"
   },
   {
    "duration": 8,
    "start_time": "2021-11-15T12:54:39.423Z"
   },
   {
    "duration": 10,
    "start_time": "2021-11-15T12:55:31.077Z"
   },
   {
    "duration": 7,
    "start_time": "2021-11-15T12:55:59.156Z"
   },
   {
    "duration": 2326,
    "start_time": "2021-11-15T12:56:42.905Z"
   },
   {
    "duration": 8,
    "start_time": "2021-11-15T12:57:06.477Z"
   },
   {
    "duration": 269,
    "start_time": "2021-11-15T12:59:10.854Z"
   },
   {
    "duration": 275,
    "start_time": "2021-11-15T12:59:20.317Z"
   },
   {
    "duration": 8,
    "start_time": "2021-11-15T12:59:28.477Z"
   },
   {
    "duration": 8,
    "start_time": "2021-11-15T13:00:09.670Z"
   },
   {
    "duration": 8,
    "start_time": "2021-11-15T13:00:29.658Z"
   },
   {
    "duration": 10,
    "start_time": "2021-11-15T13:25:16.113Z"
   },
   {
    "duration": 86,
    "start_time": "2021-11-15T13:27:37.701Z"
   },
   {
    "duration": 6,
    "start_time": "2021-11-15T13:31:00.218Z"
   },
   {
    "duration": 10,
    "start_time": "2021-11-15T13:31:49.985Z"
   },
   {
    "duration": 7,
    "start_time": "2021-11-15T13:32:06.567Z"
   },
   {
    "duration": 10,
    "start_time": "2021-11-15T13:33:13.603Z"
   },
   {
    "duration": 6,
    "start_time": "2021-11-15T13:38:52.304Z"
   },
   {
    "duration": 85,
    "start_time": "2021-11-15T13:41:00.331Z"
   },
   {
    "duration": 6,
    "start_time": "2021-11-15T13:41:18.979Z"
   },
   {
    "duration": 84,
    "start_time": "2021-11-15T13:41:34.604Z"
   },
   {
    "duration": 6,
    "start_time": "2021-11-15T13:41:47.515Z"
   },
   {
    "duration": 5,
    "start_time": "2021-11-15T13:43:10.604Z"
   },
   {
    "duration": 5,
    "start_time": "2021-11-15T13:44:26.272Z"
   },
   {
    "duration": 93,
    "start_time": "2021-11-15T13:44:39.381Z"
   },
   {
    "duration": 6,
    "start_time": "2021-11-15T13:45:49.828Z"
   },
   {
    "duration": 84,
    "start_time": "2021-11-15T13:46:25.003Z"
   },
   {
    "duration": 85,
    "start_time": "2021-11-15T13:49:09.496Z"
   },
   {
    "duration": 7,
    "start_time": "2021-11-15T13:50:37.669Z"
   },
   {
    "duration": 8,
    "start_time": "2021-11-15T13:55:30.966Z"
   },
   {
    "duration": 422,
    "start_time": "2021-11-15T13:56:52.781Z"
   },
   {
    "duration": 336,
    "start_time": "2021-11-15T13:56:56.227Z"
   },
   {
    "duration": 198,
    "start_time": "2021-11-15T13:56:59.265Z"
   },
   {
    "duration": 247,
    "start_time": "2021-11-15T13:57:04.459Z"
   },
   {
    "duration": 318,
    "start_time": "2021-11-15T13:59:55.533Z"
   },
   {
    "duration": 330,
    "start_time": "2021-11-15T14:00:14.796Z"
   },
   {
    "duration": 316,
    "start_time": "2021-11-15T14:00:30.636Z"
   },
   {
    "duration": 406,
    "start_time": "2021-11-15T14:00:39.725Z"
   },
   {
    "duration": 341,
    "start_time": "2021-11-15T14:00:57.516Z"
   },
   {
    "duration": 688,
    "start_time": "2021-11-15T14:04:13.312Z"
   },
   {
    "duration": 22,
    "start_time": "2021-11-15T14:04:14.001Z"
   },
   {
    "duration": 4,
    "start_time": "2021-11-15T14:04:14.024Z"
   },
   {
    "duration": 13,
    "start_time": "2021-11-15T14:04:14.030Z"
   },
   {
    "duration": 6,
    "start_time": "2021-11-15T14:04:14.045Z"
   },
   {
    "duration": 9,
    "start_time": "2021-11-15T14:04:14.052Z"
   },
   {
    "duration": 4,
    "start_time": "2021-11-15T14:04:14.087Z"
   },
   {
    "duration": 9,
    "start_time": "2021-11-15T14:04:14.093Z"
   },
   {
    "duration": 6,
    "start_time": "2021-11-15T14:04:14.104Z"
   },
   {
    "duration": 7,
    "start_time": "2021-11-15T14:04:14.111Z"
   },
   {
    "duration": 5,
    "start_time": "2021-11-15T14:04:14.120Z"
   },
   {
    "duration": 10,
    "start_time": "2021-11-15T14:04:14.126Z"
   },
   {
    "duration": 6,
    "start_time": "2021-11-15T14:04:14.138Z"
   },
   {
    "duration": 43,
    "start_time": "2021-11-15T14:04:14.145Z"
   },
   {
    "duration": 7,
    "start_time": "2021-11-15T14:04:14.189Z"
   },
   {
    "duration": 7,
    "start_time": "2021-11-15T14:04:14.198Z"
   },
   {
    "duration": 8,
    "start_time": "2021-11-15T14:04:14.206Z"
   },
   {
    "duration": 7,
    "start_time": "2021-11-15T14:04:14.215Z"
   },
   {
    "duration": 7,
    "start_time": "2021-11-15T14:04:14.223Z"
   },
   {
    "duration": 5,
    "start_time": "2021-11-15T14:04:14.231Z"
   },
   {
    "duration": 6,
    "start_time": "2021-11-15T14:04:14.237Z"
   },
   {
    "duration": 46,
    "start_time": "2021-11-15T14:04:14.244Z"
   },
   {
    "duration": 86,
    "start_time": "2021-11-15T14:04:14.293Z"
   },
   {
    "duration": 618,
    "start_time": "2021-11-15T14:04:13.763Z"
   },
   {
    "duration": 613,
    "start_time": "2021-11-15T14:04:13.769Z"
   },
   {
    "duration": 578,
    "start_time": "2021-11-15T14:04:13.804Z"
   },
   {
    "duration": 574,
    "start_time": "2021-11-15T14:04:13.809Z"
   },
   {
    "duration": 571,
    "start_time": "2021-11-15T14:04:13.813Z"
   },
   {
    "duration": 566,
    "start_time": "2021-11-15T14:04:13.819Z"
   },
   {
    "duration": 564,
    "start_time": "2021-11-15T14:04:13.822Z"
   },
   {
    "duration": 539,
    "start_time": "2021-11-15T14:04:13.847Z"
   },
   {
    "duration": 536,
    "start_time": "2021-11-15T14:04:13.851Z"
   },
   {
    "duration": 533,
    "start_time": "2021-11-15T14:04:13.855Z"
   },
   {
    "duration": 530,
    "start_time": "2021-11-15T14:04:13.859Z"
   },
   {
    "duration": 528,
    "start_time": "2021-11-15T14:04:13.862Z"
   },
   {
    "duration": 519,
    "start_time": "2021-11-15T14:04:13.872Z"
   },
   {
    "duration": 515,
    "start_time": "2021-11-15T14:04:13.877Z"
   },
   {
    "duration": 511,
    "start_time": "2021-11-15T14:04:13.882Z"
   },
   {
    "duration": 490,
    "start_time": "2021-11-15T14:04:13.903Z"
   },
   {
    "duration": 474,
    "start_time": "2021-11-15T14:04:13.920Z"
   },
   {
    "duration": 465,
    "start_time": "2021-11-15T14:04:13.930Z"
   },
   {
    "duration": 458,
    "start_time": "2021-11-15T14:04:13.938Z"
   },
   {
    "duration": 434,
    "start_time": "2021-11-15T14:04:13.963Z"
   },
   {
    "duration": 707,
    "start_time": "2021-11-15T16:03:28.029Z"
   },
   {
    "duration": 29,
    "start_time": "2021-11-15T16:03:28.738Z"
   },
   {
    "duration": 5,
    "start_time": "2021-11-15T16:03:28.770Z"
   },
   {
    "duration": 17,
    "start_time": "2021-11-15T16:03:28.777Z"
   },
   {
    "duration": 7,
    "start_time": "2021-11-15T16:03:28.795Z"
   },
   {
    "duration": 9,
    "start_time": "2021-11-15T16:03:28.803Z"
   },
   {
    "duration": 12,
    "start_time": "2021-11-15T16:03:28.814Z"
   },
   {
    "duration": 13,
    "start_time": "2021-11-15T16:03:28.828Z"
   },
   {
    "duration": 25,
    "start_time": "2021-11-15T16:03:28.843Z"
   },
   {
    "duration": 23,
    "start_time": "2021-11-15T16:03:28.870Z"
   },
   {
    "duration": 5,
    "start_time": "2021-11-15T16:03:28.894Z"
   },
   {
    "duration": 15,
    "start_time": "2021-11-15T16:03:28.900Z"
   },
   {
    "duration": 6,
    "start_time": "2021-11-15T16:03:28.917Z"
   },
   {
    "duration": 13,
    "start_time": "2021-11-15T16:03:28.924Z"
   },
   {
    "duration": 12,
    "start_time": "2021-11-15T16:03:28.938Z"
   },
   {
    "duration": 19,
    "start_time": "2021-11-15T16:03:28.951Z"
   },
   {
    "duration": 11,
    "start_time": "2021-11-15T16:03:28.972Z"
   },
   {
    "duration": 8,
    "start_time": "2021-11-15T16:03:28.985Z"
   },
   {
    "duration": 8,
    "start_time": "2021-11-15T16:03:28.994Z"
   },
   {
    "duration": 14,
    "start_time": "2021-11-15T16:03:29.003Z"
   },
   {
    "duration": 16,
    "start_time": "2021-11-15T16:03:29.019Z"
   },
   {
    "duration": 29,
    "start_time": "2021-11-15T16:03:29.037Z"
   },
   {
    "duration": 77,
    "start_time": "2021-11-15T16:03:29.069Z"
   },
   {
    "duration": -27,
    "start_time": "2021-11-15T16:03:29.176Z"
   },
   {
    "duration": -29,
    "start_time": "2021-11-15T16:03:29.179Z"
   },
   {
    "duration": -30,
    "start_time": "2021-11-15T16:03:29.181Z"
   },
   {
    "duration": -31,
    "start_time": "2021-11-15T16:03:29.183Z"
   },
   {
    "duration": -33,
    "start_time": "2021-11-15T16:03:29.186Z"
   },
   {
    "duration": -37,
    "start_time": "2021-11-15T16:03:29.191Z"
   },
   {
    "duration": -40,
    "start_time": "2021-11-15T16:03:29.195Z"
   },
   {
    "duration": -43,
    "start_time": "2021-11-15T16:03:29.199Z"
   },
   {
    "duration": -46,
    "start_time": "2021-11-15T16:03:29.203Z"
   },
   {
    "duration": -49,
    "start_time": "2021-11-15T16:03:29.207Z"
   },
   {
    "duration": -52,
    "start_time": "2021-11-15T16:03:29.211Z"
   },
   {
    "duration": -54,
    "start_time": "2021-11-15T16:03:29.214Z"
   },
   {
    "duration": -55,
    "start_time": "2021-11-15T16:03:29.216Z"
   },
   {
    "duration": -56,
    "start_time": "2021-11-15T16:03:29.218Z"
   },
   {
    "duration": -68,
    "start_time": "2021-11-15T16:03:29.231Z"
   },
   {
    "duration": -70,
    "start_time": "2021-11-15T16:03:29.234Z"
   },
   {
    "duration": -75,
    "start_time": "2021-11-15T16:03:29.240Z"
   },
   {
    "duration": -77,
    "start_time": "2021-11-15T16:03:29.243Z"
   },
   {
    "duration": -78,
    "start_time": "2021-11-15T16:03:29.245Z"
   },
   {
    "duration": -79,
    "start_time": "2021-11-15T16:03:29.247Z"
   },
   {
    "duration": 852,
    "start_time": "2021-11-15T16:04:02.205Z"
   },
   {
    "duration": 36,
    "start_time": "2021-11-15T16:04:03.059Z"
   },
   {
    "duration": 6,
    "start_time": "2021-11-15T16:04:03.098Z"
   },
   {
    "duration": 17,
    "start_time": "2021-11-15T16:04:03.106Z"
   },
   {
    "duration": 8,
    "start_time": "2021-11-15T16:04:03.126Z"
   },
   {
    "duration": 40,
    "start_time": "2021-11-15T16:04:03.136Z"
   },
   {
    "duration": 5,
    "start_time": "2021-11-15T16:04:03.178Z"
   },
   {
    "duration": 13,
    "start_time": "2021-11-15T16:04:03.187Z"
   },
   {
    "duration": 8,
    "start_time": "2021-11-15T16:04:03.202Z"
   },
   {
    "duration": 7,
    "start_time": "2021-11-15T16:04:03.211Z"
   },
   {
    "duration": 7,
    "start_time": "2021-11-15T16:04:03.219Z"
   },
   {
    "duration": 42,
    "start_time": "2021-11-15T16:04:03.227Z"
   },
   {
    "duration": 5,
    "start_time": "2021-11-15T16:04:03.271Z"
   },
   {
    "duration": 10,
    "start_time": "2021-11-15T16:04:03.278Z"
   },
   {
    "duration": 12,
    "start_time": "2021-11-15T16:04:03.290Z"
   },
   {
    "duration": 10,
    "start_time": "2021-11-15T16:04:03.304Z"
   },
   {
    "duration": 13,
    "start_time": "2021-11-15T16:04:03.317Z"
   },
   {
    "duration": 11,
    "start_time": "2021-11-15T16:04:03.364Z"
   },
   {
    "duration": 11,
    "start_time": "2021-11-15T16:04:03.377Z"
   },
   {
    "duration": 7,
    "start_time": "2021-11-15T16:04:03.390Z"
   },
   {
    "duration": 9,
    "start_time": "2021-11-15T16:04:03.399Z"
   },
   {
    "duration": 9,
    "start_time": "2021-11-15T16:04:03.410Z"
   },
   {
    "duration": 134,
    "start_time": "2021-11-15T16:04:03.423Z"
   },
   {
    "duration": -19,
    "start_time": "2021-11-15T16:04:03.579Z"
   },
   {
    "duration": -21,
    "start_time": "2021-11-15T16:04:03.582Z"
   },
   {
    "duration": -21,
    "start_time": "2021-11-15T16:04:03.584Z"
   },
   {
    "duration": -40,
    "start_time": "2021-11-15T16:04:03.604Z"
   },
   {
    "duration": -41,
    "start_time": "2021-11-15T16:04:03.606Z"
   },
   {
    "duration": -42,
    "start_time": "2021-11-15T16:04:03.608Z"
   },
   {
    "duration": -45,
    "start_time": "2021-11-15T16:04:03.613Z"
   },
   {
    "duration": -46,
    "start_time": "2021-11-15T16:04:03.615Z"
   },
   {
    "duration": -47,
    "start_time": "2021-11-15T16:04:03.617Z"
   },
   {
    "duration": -47,
    "start_time": "2021-11-15T16:04:03.619Z"
   },
   {
    "duration": -48,
    "start_time": "2021-11-15T16:04:03.621Z"
   },
   {
    "duration": -50,
    "start_time": "2021-11-15T16:04:03.624Z"
   },
   {
    "duration": -49,
    "start_time": "2021-11-15T16:04:03.625Z"
   },
   {
    "duration": -52,
    "start_time": "2021-11-15T16:04:03.629Z"
   },
   {
    "duration": -53,
    "start_time": "2021-11-15T16:04:03.631Z"
   },
   {
    "duration": -53,
    "start_time": "2021-11-15T16:04:03.633Z"
   },
   {
    "duration": -54,
    "start_time": "2021-11-15T16:04:03.635Z"
   },
   {
    "duration": -55,
    "start_time": "2021-11-15T16:04:03.637Z"
   },
   {
    "duration": -55,
    "start_time": "2021-11-15T16:04:03.639Z"
   },
   {
    "duration": -57,
    "start_time": "2021-11-15T16:04:03.642Z"
   },
   {
    "duration": 10,
    "start_time": "2021-11-15T16:06:04.527Z"
   },
   {
    "duration": 9,
    "start_time": "2021-11-15T16:06:21.325Z"
   },
   {
    "duration": 715,
    "start_time": "2021-11-15T16:06:30.389Z"
   },
   {
    "duration": 27,
    "start_time": "2021-11-15T16:06:31.106Z"
   },
   {
    "duration": 6,
    "start_time": "2021-11-15T16:06:31.135Z"
   },
   {
    "duration": 28,
    "start_time": "2021-11-15T16:06:31.143Z"
   },
   {
    "duration": 13,
    "start_time": "2021-11-15T16:06:31.173Z"
   },
   {
    "duration": 15,
    "start_time": "2021-11-15T16:06:31.188Z"
   },
   {
    "duration": 17,
    "start_time": "2021-11-15T16:06:31.205Z"
   },
   {
    "duration": 18,
    "start_time": "2021-11-15T16:06:31.225Z"
   },
   {
    "duration": 20,
    "start_time": "2021-11-15T16:06:31.245Z"
   },
   {
    "duration": 12,
    "start_time": "2021-11-15T16:06:31.267Z"
   },
   {
    "duration": 15,
    "start_time": "2021-11-15T16:06:31.281Z"
   },
   {
    "duration": 19,
    "start_time": "2021-11-15T16:06:31.298Z"
   },
   {
    "duration": 19,
    "start_time": "2021-11-15T16:06:31.319Z"
   },
   {
    "duration": 14,
    "start_time": "2021-11-15T16:06:31.339Z"
   },
   {
    "duration": 14,
    "start_time": "2021-11-15T16:06:31.355Z"
   },
   {
    "duration": 22,
    "start_time": "2021-11-15T16:06:31.371Z"
   },
   {
    "duration": 21,
    "start_time": "2021-11-15T16:06:31.395Z"
   },
   {
    "duration": 16,
    "start_time": "2021-11-15T16:06:31.418Z"
   },
   {
    "duration": 22,
    "start_time": "2021-11-15T16:06:31.436Z"
   },
   {
    "duration": 16,
    "start_time": "2021-11-15T16:06:31.459Z"
   },
   {
    "duration": 12,
    "start_time": "2021-11-15T16:06:31.476Z"
   },
   {
    "duration": 15,
    "start_time": "2021-11-15T16:06:31.489Z"
   },
   {
    "duration": 21,
    "start_time": "2021-11-15T16:06:31.508Z"
   },
   {
    "duration": 492,
    "start_time": "2021-11-15T16:06:31.532Z"
   },
   {
    "duration": 502,
    "start_time": "2021-11-15T16:06:32.026Z"
   },
   {
    "duration": 392,
    "start_time": "2021-11-15T16:06:32.530Z"
   },
   {
    "duration": 243,
    "start_time": "2021-11-15T16:06:32.924Z"
   },
   {
    "duration": 335,
    "start_time": "2021-11-15T16:06:33.169Z"
   },
   {
    "duration": 923,
    "start_time": "2021-11-15T16:06:33.506Z"
   },
   {
    "duration": 614,
    "start_time": "2021-11-15T16:06:34.432Z"
   },
   {
    "duration": 972,
    "start_time": "2021-11-15T16:06:35.048Z"
   },
   {
    "duration": 392,
    "start_time": "2021-11-15T16:06:36.021Z"
   },
   {
    "duration": 1010,
    "start_time": "2021-11-15T16:06:36.414Z"
   },
   {
    "duration": 349,
    "start_time": "2021-11-15T16:06:37.425Z"
   },
   {
    "duration": 1125,
    "start_time": "2021-11-15T16:06:37.775Z"
   },
   {
    "duration": 29,
    "start_time": "2021-11-15T16:06:38.902Z"
   },
   {
    "duration": 297,
    "start_time": "2021-11-15T16:06:38.933Z"
   },
   {
    "duration": 1574,
    "start_time": "2021-11-15T16:06:39.232Z"
   },
   {
    "duration": 330,
    "start_time": "2021-11-15T16:06:40.808Z"
   },
   {
    "duration": 598,
    "start_time": "2021-11-15T16:06:41.140Z"
   },
   {
    "duration": 374,
    "start_time": "2021-11-15T16:06:41.740Z"
   },
   {
    "duration": 379,
    "start_time": "2021-11-15T16:06:42.116Z"
   },
   {
    "duration": 520,
    "start_time": "2021-11-15T16:06:42.497Z"
   },
   {
    "duration": 1559,
    "start_time": "2021-11-15T16:17:35.780Z"
   },
   {
    "duration": 12,
    "start_time": "2021-11-15T16:41:35.438Z"
   },
   {
    "duration": 12,
    "start_time": "2021-11-15T17:02:25.757Z"
   },
   {
    "duration": 12,
    "start_time": "2021-11-15T17:03:01.531Z"
   },
   {
    "duration": 12,
    "start_time": "2021-11-15T17:03:37.355Z"
   },
   {
    "duration": 87,
    "start_time": "2021-11-15T17:39:22.594Z"
   },
   {
    "duration": 12,
    "start_time": "2021-11-15T17:43:09.709Z"
   },
   {
    "duration": 12,
    "start_time": "2021-11-15T17:43:17.393Z"
   },
   {
    "duration": 15,
    "start_time": "2021-11-15T17:43:23.437Z"
   },
   {
    "duration": 12,
    "start_time": "2021-11-15T17:43:34.325Z"
   },
   {
    "duration": 11,
    "start_time": "2021-11-15T17:45:16.714Z"
   },
   {
    "duration": 13,
    "start_time": "2021-11-15T17:45:41.507Z"
   },
   {
    "duration": 9,
    "start_time": "2021-11-15T17:53:56.553Z"
   },
   {
    "duration": 12,
    "start_time": "2021-11-15T17:55:54.615Z"
   },
   {
    "duration": 12,
    "start_time": "2021-11-15T17:56:58.620Z"
   },
   {
    "duration": 11,
    "start_time": "2021-11-15T17:58:00.908Z"
   },
   {
    "duration": 12,
    "start_time": "2021-11-15T17:59:05.239Z"
   },
   {
    "duration": 14,
    "start_time": "2021-11-15T18:00:01.482Z"
   },
   {
    "duration": 14,
    "start_time": "2021-11-15T18:00:06.667Z"
   },
   {
    "duration": 13,
    "start_time": "2021-11-15T18:01:39.639Z"
   },
   {
    "duration": 13,
    "start_time": "2021-11-15T18:01:44.562Z"
   },
   {
    "duration": 15,
    "start_time": "2021-11-15T18:01:59.241Z"
   },
   {
    "duration": 13,
    "start_time": "2021-11-15T18:01:59.881Z"
   },
   {
    "duration": 15,
    "start_time": "2021-11-15T18:02:00.349Z"
   },
   {
    "duration": 14,
    "start_time": "2021-11-15T18:02:00.788Z"
   },
   {
    "duration": 680,
    "start_time": "2021-11-15T18:02:05.619Z"
   },
   {
    "duration": 26,
    "start_time": "2021-11-15T18:02:06.301Z"
   },
   {
    "duration": 5,
    "start_time": "2021-11-15T18:02:06.330Z"
   },
   {
    "duration": 33,
    "start_time": "2021-11-15T18:02:06.337Z"
   },
   {
    "duration": 7,
    "start_time": "2021-11-15T18:02:06.372Z"
   },
   {
    "duration": 12,
    "start_time": "2021-11-15T18:02:06.381Z"
   },
   {
    "duration": 8,
    "start_time": "2021-11-15T18:02:06.395Z"
   },
   {
    "duration": 14,
    "start_time": "2021-11-15T18:02:06.406Z"
   },
   {
    "duration": 43,
    "start_time": "2021-11-15T18:02:06.422Z"
   },
   {
    "duration": 8,
    "start_time": "2021-11-15T18:02:06.466Z"
   },
   {
    "duration": 9,
    "start_time": "2021-11-15T18:02:06.476Z"
   },
   {
    "duration": 17,
    "start_time": "2021-11-15T18:02:06.487Z"
   },
   {
    "duration": 6,
    "start_time": "2021-11-15T18:02:06.506Z"
   },
   {
    "duration": 9,
    "start_time": "2021-11-15T18:02:06.513Z"
   },
   {
    "duration": 11,
    "start_time": "2021-11-15T18:02:06.523Z"
   },
   {
    "duration": 35,
    "start_time": "2021-11-15T18:02:06.536Z"
   },
   {
    "duration": 11,
    "start_time": "2021-11-15T18:02:06.573Z"
   },
   {
    "duration": 9,
    "start_time": "2021-11-15T18:02:06.586Z"
   },
   {
    "duration": 8,
    "start_time": "2021-11-15T18:02:06.597Z"
   },
   {
    "duration": 6,
    "start_time": "2021-11-15T18:02:06.607Z"
   },
   {
    "duration": 54,
    "start_time": "2021-11-15T18:02:06.615Z"
   },
   {
    "duration": 11,
    "start_time": "2021-11-15T18:02:06.671Z"
   },
   {
    "duration": 10,
    "start_time": "2021-11-15T18:02:06.686Z"
   },
   {
    "duration": 542,
    "start_time": "2021-11-15T18:02:06.699Z"
   },
   {
    "duration": 721,
    "start_time": "2021-11-15T18:02:07.242Z"
   },
   {
    "duration": 659,
    "start_time": "2021-11-15T18:02:07.965Z"
   },
   {
    "duration": 388,
    "start_time": "2021-11-15T18:02:08.626Z"
   },
   {
    "duration": 475,
    "start_time": "2021-11-15T18:02:09.016Z"
   },
   {
    "duration": 1380,
    "start_time": "2021-11-15T18:02:09.494Z"
   },
   {
    "duration": 890,
    "start_time": "2021-11-15T18:02:10.877Z"
   },
   {
    "duration": 944,
    "start_time": "2021-11-15T18:02:11.769Z"
   },
   {
    "duration": 376,
    "start_time": "2021-11-15T18:02:12.715Z"
   },
   {
    "duration": 1012,
    "start_time": "2021-11-15T18:02:13.092Z"
   },
   {
    "duration": 324,
    "start_time": "2021-11-15T18:02:14.106Z"
   },
   {
    "duration": 1097,
    "start_time": "2021-11-15T18:02:14.432Z"
   },
   {
    "duration": 36,
    "start_time": "2021-11-15T18:02:15.530Z"
   },
   {
    "duration": 270,
    "start_time": "2021-11-15T18:02:15.568Z"
   },
   {
    "duration": 1562,
    "start_time": "2021-11-15T18:02:15.840Z"
   },
   {
    "duration": 328,
    "start_time": "2021-11-15T18:02:17.404Z"
   },
   {
    "duration": 663,
    "start_time": "2021-11-15T18:02:17.734Z"
   },
   {
    "duration": 377,
    "start_time": "2021-11-15T18:02:18.399Z"
   },
   {
    "duration": 386,
    "start_time": "2021-11-15T18:02:18.778Z"
   },
   {
    "duration": 449,
    "start_time": "2021-11-15T18:02:19.166Z"
   },
   {
    "duration": 16,
    "start_time": "2021-11-15T18:02:32.968Z"
   },
   {
    "duration": 692,
    "start_time": "2021-11-15T18:02:40.804Z"
   },
   {
    "duration": 27,
    "start_time": "2021-11-15T18:02:41.498Z"
   },
   {
    "duration": 5,
    "start_time": "2021-11-15T18:02:41.528Z"
   },
   {
    "duration": 32,
    "start_time": "2021-11-15T18:02:41.535Z"
   },
   {
    "duration": 7,
    "start_time": "2021-11-15T18:02:41.568Z"
   },
   {
    "duration": 11,
    "start_time": "2021-11-15T18:02:41.576Z"
   },
   {
    "duration": 5,
    "start_time": "2021-11-15T18:02:41.589Z"
   },
   {
    "duration": 15,
    "start_time": "2021-11-15T18:02:41.596Z"
   },
   {
    "duration": 6,
    "start_time": "2021-11-15T18:02:41.613Z"
   },
   {
    "duration": 45,
    "start_time": "2021-11-15T18:02:41.620Z"
   },
   {
    "duration": 6,
    "start_time": "2021-11-15T18:02:41.667Z"
   },
   {
    "duration": 21,
    "start_time": "2021-11-15T18:02:41.675Z"
   },
   {
    "duration": 6,
    "start_time": "2021-11-15T18:02:41.698Z"
   },
   {
    "duration": 8,
    "start_time": "2021-11-15T18:02:41.706Z"
   },
   {
    "duration": 11,
    "start_time": "2021-11-15T18:02:41.716Z"
   },
   {
    "duration": 34,
    "start_time": "2021-11-15T18:02:41.729Z"
   },
   {
    "duration": 12,
    "start_time": "2021-11-15T18:02:41.765Z"
   },
   {
    "duration": 8,
    "start_time": "2021-11-15T18:02:41.779Z"
   },
   {
    "duration": 8,
    "start_time": "2021-11-15T18:02:41.789Z"
   },
   {
    "duration": 7,
    "start_time": "2021-11-15T18:02:41.799Z"
   },
   {
    "duration": 11,
    "start_time": "2021-11-15T18:02:41.807Z"
   },
   {
    "duration": 47,
    "start_time": "2021-11-15T18:02:41.820Z"
   },
   {
    "duration": 10,
    "start_time": "2021-11-15T18:02:41.872Z"
   },
   {
    "duration": 607,
    "start_time": "2021-11-15T18:02:41.884Z"
   },
   {
    "duration": 483,
    "start_time": "2021-11-15T18:02:42.492Z"
   },
   {
    "duration": 435,
    "start_time": "2021-11-15T18:02:42.977Z"
   },
   {
    "duration": 499,
    "start_time": "2021-11-15T18:02:43.414Z"
   },
   {
    "duration": 331,
    "start_time": "2021-11-15T18:02:43.915Z"
   },
   {
    "duration": 1052,
    "start_time": "2021-11-15T18:02:44.247Z"
   },
   {
    "duration": 869,
    "start_time": "2021-11-15T18:02:45.301Z"
   },
   {
    "duration": 1314,
    "start_time": "2021-11-15T18:02:46.172Z"
   },
   {
    "duration": 697,
    "start_time": "2021-11-15T18:02:47.488Z"
   },
   {
    "duration": 1334,
    "start_time": "2021-11-15T18:02:48.187Z"
   },
   {
    "duration": 351,
    "start_time": "2021-11-15T18:02:49.524Z"
   },
   {
    "duration": 1641,
    "start_time": "2021-11-15T18:02:49.877Z"
   },
   {
    "duration": 47,
    "start_time": "2021-11-15T18:02:51.520Z"
   },
   {
    "duration": 284,
    "start_time": "2021-11-15T18:02:51.570Z"
   },
   {
    "duration": 1925,
    "start_time": "2021-11-15T18:02:51.863Z"
   },
   {
    "duration": 351,
    "start_time": "2021-11-15T18:02:53.790Z"
   },
   {
    "duration": 646,
    "start_time": "2021-11-15T18:02:54.143Z"
   },
   {
    "duration": 397,
    "start_time": "2021-11-15T18:02:54.791Z"
   },
   {
    "duration": 436,
    "start_time": "2021-11-15T18:02:55.190Z"
   },
   {
    "duration": 461,
    "start_time": "2021-11-15T18:02:55.628Z"
   },
   {
    "duration": 19,
    "start_time": "2021-11-15T18:03:45.413Z"
   },
   {
    "duration": 716,
    "start_time": "2021-11-15T18:03:54.599Z"
   },
   {
    "duration": 46,
    "start_time": "2021-11-15T18:03:55.317Z"
   },
   {
    "duration": 6,
    "start_time": "2021-11-15T18:03:55.366Z"
   },
   {
    "duration": 13,
    "start_time": "2021-11-15T18:03:55.375Z"
   },
   {
    "duration": 9,
    "start_time": "2021-11-15T18:03:55.390Z"
   },
   {
    "duration": 14,
    "start_time": "2021-11-15T18:03:55.401Z"
   },
   {
    "duration": 8,
    "start_time": "2021-11-15T18:03:55.417Z"
   },
   {
    "duration": 54,
    "start_time": "2021-11-15T18:03:55.428Z"
   },
   {
    "duration": 10,
    "start_time": "2021-11-15T18:03:55.484Z"
   },
   {
    "duration": 11,
    "start_time": "2021-11-15T18:03:55.496Z"
   },
   {
    "duration": 5,
    "start_time": "2021-11-15T18:03:55.509Z"
   },
   {
    "duration": 13,
    "start_time": "2021-11-15T18:03:55.516Z"
   },
   {
    "duration": 7,
    "start_time": "2021-11-15T18:03:55.564Z"
   },
   {
    "duration": 7,
    "start_time": "2021-11-15T18:03:55.572Z"
   },
   {
    "duration": 10,
    "start_time": "2021-11-15T18:03:55.580Z"
   },
   {
    "duration": 8,
    "start_time": "2021-11-15T18:03:55.592Z"
   },
   {
    "duration": 11,
    "start_time": "2021-11-15T18:03:55.602Z"
   },
   {
    "duration": 9,
    "start_time": "2021-11-15T18:03:55.614Z"
   },
   {
    "duration": 43,
    "start_time": "2021-11-15T18:03:55.624Z"
   },
   {
    "duration": 6,
    "start_time": "2021-11-15T18:03:55.669Z"
   },
   {
    "duration": 8,
    "start_time": "2021-11-15T18:03:55.676Z"
   },
   {
    "duration": 9,
    "start_time": "2021-11-15T18:03:55.686Z"
   },
   {
    "duration": 13,
    "start_time": "2021-11-15T18:03:55.698Z"
   },
   {
    "duration": 497,
    "start_time": "2021-11-15T18:03:55.713Z"
   },
   {
    "duration": 479,
    "start_time": "2021-11-15T18:03:56.212Z"
   },
   {
    "duration": 372,
    "start_time": "2021-11-15T18:03:56.693Z"
   },
   {
    "duration": 218,
    "start_time": "2021-11-15T18:03:57.067Z"
   },
   {
    "duration": 283,
    "start_time": "2021-11-15T18:03:57.286Z"
   },
   {
    "duration": 878,
    "start_time": "2021-11-15T18:03:57.571Z"
   },
   {
    "duration": 561,
    "start_time": "2021-11-15T18:03:58.451Z"
   },
   {
    "duration": 1007,
    "start_time": "2021-11-15T18:03:59.014Z"
   },
   {
    "duration": 414,
    "start_time": "2021-11-15T18:04:00.023Z"
   },
   {
    "duration": 1074,
    "start_time": "2021-11-15T18:04:00.439Z"
   },
   {
    "duration": 338,
    "start_time": "2021-11-15T18:04:01.515Z"
   },
   {
    "duration": 1097,
    "start_time": "2021-11-15T18:04:01.855Z"
   },
   {
    "duration": 34,
    "start_time": "2021-11-15T18:04:02.954Z"
   },
   {
    "duration": 279,
    "start_time": "2021-11-15T18:04:02.990Z"
   },
   {
    "duration": 1542,
    "start_time": "2021-11-15T18:04:03.271Z"
   },
   {
    "duration": 349,
    "start_time": "2021-11-15T18:04:04.815Z"
   },
   {
    "duration": 588,
    "start_time": "2021-11-15T18:04:05.165Z"
   },
   {
    "duration": 382,
    "start_time": "2021-11-15T18:04:05.754Z"
   },
   {
    "duration": 373,
    "start_time": "2021-11-15T18:04:06.138Z"
   },
   {
    "duration": 466,
    "start_time": "2021-11-15T18:04:06.513Z"
   },
   {
    "duration": 124,
    "start_time": "2021-11-15T18:05:34.711Z"
   },
   {
    "duration": 138,
    "start_time": "2021-11-15T18:05:45.857Z"
   },
   {
    "duration": 128,
    "start_time": "2021-11-15T18:07:23.889Z"
   },
   {
    "duration": 135,
    "start_time": "2021-11-15T18:08:16.709Z"
   },
   {
    "duration": 121,
    "start_time": "2021-11-15T18:08:49.053Z"
   },
   {
    "duration": 125,
    "start_time": "2021-11-15T18:09:12.492Z"
   },
   {
    "duration": 297,
    "start_time": "2021-11-15T18:10:11.947Z"
   },
   {
    "duration": 663,
    "start_time": "2021-11-15T18:11:40.388Z"
   },
   {
    "duration": 26,
    "start_time": "2021-11-15T18:11:41.056Z"
   },
   {
    "duration": 6,
    "start_time": "2021-11-15T18:11:41.084Z"
   },
   {
    "duration": 11,
    "start_time": "2021-11-15T18:11:41.092Z"
   },
   {
    "duration": 8,
    "start_time": "2021-11-15T18:11:41.106Z"
   },
   {
    "duration": 10,
    "start_time": "2021-11-15T18:11:41.116Z"
   },
   {
    "duration": 7,
    "start_time": "2021-11-15T18:11:41.163Z"
   },
   {
    "duration": 322,
    "start_time": "2021-11-15T18:11:41.174Z"
   },
   {
    "duration": 10,
    "start_time": "2021-11-15T18:11:41.499Z"
   },
   {
    "duration": 8,
    "start_time": "2021-11-15T18:11:41.512Z"
   },
   {
    "duration": 5,
    "start_time": "2021-11-15T18:11:41.522Z"
   },
   {
    "duration": 37,
    "start_time": "2021-11-15T18:11:41.529Z"
   },
   {
    "duration": 7,
    "start_time": "2021-11-15T18:11:41.568Z"
   },
   {
    "duration": 8,
    "start_time": "2021-11-15T18:11:41.576Z"
   },
   {
    "duration": 8,
    "start_time": "2021-11-15T18:11:41.585Z"
   },
   {
    "duration": 12,
    "start_time": "2021-11-15T18:11:41.595Z"
   },
   {
    "duration": 10,
    "start_time": "2021-11-15T18:11:41.609Z"
   },
   {
    "duration": 45,
    "start_time": "2021-11-15T18:11:41.621Z"
   },
   {
    "duration": 9,
    "start_time": "2021-11-15T18:11:41.668Z"
   },
   {
    "duration": 6,
    "start_time": "2021-11-15T18:11:41.678Z"
   },
   {
    "duration": 10,
    "start_time": "2021-11-15T18:11:41.685Z"
   },
   {
    "duration": 8,
    "start_time": "2021-11-15T18:11:41.696Z"
   },
   {
    "duration": 12,
    "start_time": "2021-11-15T18:11:41.705Z"
   },
   {
    "duration": 678,
    "start_time": "2021-11-15T18:11:41.719Z"
   },
   {
    "duration": 367,
    "start_time": "2021-11-15T18:11:42.399Z"
   },
   {
    "duration": 418,
    "start_time": "2021-11-15T18:11:42.770Z"
   },
   {
    "duration": 232,
    "start_time": "2021-11-15T18:11:43.191Z"
   },
   {
    "duration": 289,
    "start_time": "2021-11-15T18:11:43.425Z"
   },
   {
    "duration": 919,
    "start_time": "2021-11-15T18:11:43.715Z"
   },
   {
    "duration": 490,
    "start_time": "2021-11-15T18:11:44.635Z"
   },
   {
    "duration": 997,
    "start_time": "2021-11-15T18:11:45.127Z"
   },
   {
    "duration": 387,
    "start_time": "2021-11-15T18:11:46.126Z"
   },
   {
    "duration": 1009,
    "start_time": "2021-11-15T18:11:46.515Z"
   },
   {
    "duration": 340,
    "start_time": "2021-11-15T18:11:47.526Z"
   },
   {
    "duration": 1094,
    "start_time": "2021-11-15T18:11:47.869Z"
   },
   {
    "duration": 30,
    "start_time": "2021-11-15T18:11:48.965Z"
   },
   {
    "duration": 297,
    "start_time": "2021-11-15T18:11:48.997Z"
   },
   {
    "duration": 1601,
    "start_time": "2021-11-15T18:11:49.296Z"
   },
   {
    "duration": 347,
    "start_time": "2021-11-15T18:11:50.898Z"
   },
   {
    "duration": 567,
    "start_time": "2021-11-15T18:11:51.247Z"
   },
   {
    "duration": 374,
    "start_time": "2021-11-15T18:11:51.816Z"
   },
   {
    "duration": 359,
    "start_time": "2021-11-15T18:11:52.192Z"
   },
   {
    "duration": 443,
    "start_time": "2021-11-15T18:11:52.553Z"
   },
   {
    "duration": 118,
    "start_time": "2021-11-15T18:12:29.867Z"
   },
   {
    "duration": 191,
    "start_time": "2021-11-15T18:13:10.804Z"
   },
   {
    "duration": 177,
    "start_time": "2021-11-15T18:13:19.079Z"
   },
   {
    "duration": 179,
    "start_time": "2021-11-15T18:13:23.281Z"
   },
   {
    "duration": 123,
    "start_time": "2021-11-15T18:14:16.676Z"
   },
   {
    "duration": 667,
    "start_time": "2021-11-15T18:14:27.005Z"
   },
   {
    "duration": 25,
    "start_time": "2021-11-15T18:14:27.674Z"
   },
   {
    "duration": 5,
    "start_time": "2021-11-15T18:14:27.701Z"
   },
   {
    "duration": 12,
    "start_time": "2021-11-15T18:14:27.708Z"
   },
   {
    "duration": 7,
    "start_time": "2021-11-15T18:14:27.721Z"
   },
   {
    "duration": 38,
    "start_time": "2021-11-15T18:14:27.729Z"
   },
   {
    "duration": 8,
    "start_time": "2021-11-15T18:14:27.769Z"
   },
   {
    "duration": 198,
    "start_time": "2021-11-15T18:14:27.779Z"
   },
   {
    "duration": 8,
    "start_time": "2021-11-15T18:14:27.980Z"
   },
   {
    "duration": 6,
    "start_time": "2021-11-15T18:14:27.990Z"
   },
   {
    "duration": 5,
    "start_time": "2021-11-15T18:14:27.998Z"
   },
   {
    "duration": 11,
    "start_time": "2021-11-15T18:14:28.004Z"
   },
   {
    "duration": 6,
    "start_time": "2021-11-15T18:14:28.016Z"
   },
   {
    "duration": 40,
    "start_time": "2021-11-15T18:14:28.023Z"
   },
   {
    "duration": 14,
    "start_time": "2021-11-15T18:14:28.066Z"
   },
   {
    "duration": 10,
    "start_time": "2021-11-15T18:14:28.082Z"
   },
   {
    "duration": 11,
    "start_time": "2021-11-15T18:14:28.094Z"
   },
   {
    "duration": 8,
    "start_time": "2021-11-15T18:14:28.107Z"
   },
   {
    "duration": 13,
    "start_time": "2021-11-15T18:14:28.118Z"
   },
   {
    "duration": 8,
    "start_time": "2021-11-15T18:14:28.167Z"
   },
   {
    "duration": 6,
    "start_time": "2021-11-15T18:14:28.177Z"
   },
   {
    "duration": 16,
    "start_time": "2021-11-15T18:14:28.184Z"
   },
   {
    "duration": 10,
    "start_time": "2021-11-15T18:14:28.203Z"
   },
   {
    "duration": 530,
    "start_time": "2021-11-15T18:14:28.215Z"
   },
   {
    "duration": 363,
    "start_time": "2021-11-15T18:14:28.747Z"
   },
   {
    "duration": 364,
    "start_time": "2021-11-15T18:14:29.111Z"
   },
   {
    "duration": 224,
    "start_time": "2021-11-15T18:14:29.477Z"
   },
   {
    "duration": 271,
    "start_time": "2021-11-15T18:14:29.703Z"
   },
   {
    "duration": 937,
    "start_time": "2021-11-15T18:14:29.976Z"
   },
   {
    "duration": 485,
    "start_time": "2021-11-15T18:14:30.914Z"
   },
   {
    "duration": 992,
    "start_time": "2021-11-15T18:14:31.401Z"
   },
   {
    "duration": 376,
    "start_time": "2021-11-15T18:14:32.394Z"
   },
   {
    "duration": 952,
    "start_time": "2021-11-15T18:14:32.772Z"
   },
   {
    "duration": 348,
    "start_time": "2021-11-15T18:14:33.725Z"
   },
   {
    "duration": 1090,
    "start_time": "2021-11-15T18:14:34.074Z"
   },
   {
    "duration": 32,
    "start_time": "2021-11-15T18:14:35.166Z"
   },
   {
    "duration": 311,
    "start_time": "2021-11-15T18:14:35.199Z"
   },
   {
    "duration": 1562,
    "start_time": "2021-11-15T18:14:35.512Z"
   },
   {
    "duration": 326,
    "start_time": "2021-11-15T18:14:37.076Z"
   },
   {
    "duration": 800,
    "start_time": "2021-11-15T18:14:37.403Z"
   },
   {
    "duration": 355,
    "start_time": "2021-11-15T18:14:38.204Z"
   },
   {
    "duration": 355,
    "start_time": "2021-11-15T18:14:38.563Z"
   },
   {
    "duration": 451,
    "start_time": "2021-11-15T18:14:38.919Z"
   },
   {
    "duration": 126,
    "start_time": "2021-11-15T18:15:38.180Z"
   },
   {
    "duration": 122,
    "start_time": "2021-11-15T18:16:22.995Z"
   },
   {
    "duration": 656,
    "start_time": "2021-11-15T18:16:39.717Z"
   },
   {
    "duration": 24,
    "start_time": "2021-11-15T18:16:40.375Z"
   },
   {
    "duration": 5,
    "start_time": "2021-11-15T18:16:40.402Z"
   },
   {
    "duration": 13,
    "start_time": "2021-11-15T18:16:40.409Z"
   },
   {
    "duration": 39,
    "start_time": "2021-11-15T18:16:40.424Z"
   },
   {
    "duration": 10,
    "start_time": "2021-11-15T18:16:40.465Z"
   },
   {
    "duration": 8,
    "start_time": "2021-11-15T18:16:40.477Z"
   },
   {
    "duration": 218,
    "start_time": "2021-11-15T18:16:40.487Z"
   },
   {
    "duration": 7,
    "start_time": "2021-11-15T18:16:40.707Z"
   },
   {
    "duration": 6,
    "start_time": "2021-11-15T18:16:40.716Z"
   },
   {
    "duration": 4,
    "start_time": "2021-11-15T18:16:40.724Z"
   },
   {
    "duration": 36,
    "start_time": "2021-11-15T18:16:40.730Z"
   },
   {
    "duration": 8,
    "start_time": "2021-11-15T18:16:40.768Z"
   },
   {
    "duration": 6,
    "start_time": "2021-11-15T18:16:40.777Z"
   },
   {
    "duration": 8,
    "start_time": "2021-11-15T18:16:40.784Z"
   },
   {
    "duration": 8,
    "start_time": "2021-11-15T18:16:40.794Z"
   },
   {
    "duration": 13,
    "start_time": "2021-11-15T18:16:40.804Z"
   },
   {
    "duration": 51,
    "start_time": "2021-11-15T18:16:40.819Z"
   },
   {
    "duration": 8,
    "start_time": "2021-11-15T18:16:40.872Z"
   },
   {
    "duration": 6,
    "start_time": "2021-11-15T18:16:40.882Z"
   },
   {
    "duration": 6,
    "start_time": "2021-11-15T18:16:40.890Z"
   },
   {
    "duration": 10,
    "start_time": "2021-11-15T18:16:40.898Z"
   },
   {
    "duration": 9,
    "start_time": "2021-11-15T18:16:40.912Z"
   },
   {
    "duration": 569,
    "start_time": "2021-11-15T18:16:40.923Z"
   },
   {
    "duration": 374,
    "start_time": "2021-11-15T18:16:41.493Z"
   },
   {
    "duration": 375,
    "start_time": "2021-11-15T18:16:41.869Z"
   },
   {
    "duration": 222,
    "start_time": "2021-11-15T18:16:42.246Z"
   },
   {
    "duration": 277,
    "start_time": "2021-11-15T18:16:42.469Z"
   },
   {
    "duration": 1018,
    "start_time": "2021-11-15T18:16:42.748Z"
   },
   {
    "duration": 485,
    "start_time": "2021-11-15T18:16:43.768Z"
   },
   {
    "duration": 978,
    "start_time": "2021-11-15T18:16:44.263Z"
   },
   {
    "duration": 411,
    "start_time": "2021-11-15T18:16:45.243Z"
   },
   {
    "duration": 953,
    "start_time": "2021-11-15T18:16:45.656Z"
   },
   {
    "duration": 352,
    "start_time": "2021-11-15T18:16:46.611Z"
   },
   {
    "duration": 1149,
    "start_time": "2021-11-15T18:16:46.965Z"
   },
   {
    "duration": 31,
    "start_time": "2021-11-15T18:16:48.116Z"
   },
   {
    "duration": 329,
    "start_time": "2021-11-15T18:16:48.149Z"
   },
   {
    "duration": 1617,
    "start_time": "2021-11-15T18:16:48.480Z"
   },
   {
    "duration": 372,
    "start_time": "2021-11-15T18:16:50.099Z"
   },
   {
    "duration": 574,
    "start_time": "2021-11-15T18:16:50.473Z"
   },
   {
    "duration": 390,
    "start_time": "2021-11-15T18:16:51.049Z"
   },
   {
    "duration": 367,
    "start_time": "2021-11-15T18:16:51.441Z"
   },
   {
    "duration": 460,
    "start_time": "2021-11-15T18:16:51.810Z"
   },
   {
    "duration": 712,
    "start_time": "2021-11-15T18:17:23.271Z"
   },
   {
    "duration": 23,
    "start_time": "2021-11-15T18:17:23.984Z"
   },
   {
    "duration": 5,
    "start_time": "2021-11-15T18:17:24.012Z"
   },
   {
    "duration": 10,
    "start_time": "2021-11-15T18:17:24.019Z"
   },
   {
    "duration": 30,
    "start_time": "2021-11-15T18:17:24.031Z"
   },
   {
    "duration": 10,
    "start_time": "2021-11-15T18:17:24.063Z"
   },
   {
    "duration": 13,
    "start_time": "2021-11-15T18:17:24.076Z"
   },
   {
    "duration": 226,
    "start_time": "2021-11-15T18:17:24.091Z"
   },
   {
    "duration": 8,
    "start_time": "2021-11-15T18:17:24.319Z"
   },
   {
    "duration": 8,
    "start_time": "2021-11-15T18:17:24.329Z"
   },
   {
    "duration": 27,
    "start_time": "2021-11-15T18:17:24.339Z"
   },
   {
    "duration": 15,
    "start_time": "2021-11-15T18:17:24.368Z"
   },
   {
    "duration": 6,
    "start_time": "2021-11-15T18:17:24.385Z"
   },
   {
    "duration": 4,
    "start_time": "2021-11-15T18:17:24.393Z"
   },
   {
    "duration": 7,
    "start_time": "2021-11-15T18:17:24.399Z"
   },
   {
    "duration": 10,
    "start_time": "2021-11-15T18:17:24.407Z"
   },
   {
    "duration": 48,
    "start_time": "2021-11-15T18:17:24.419Z"
   },
   {
    "duration": 12,
    "start_time": "2021-11-15T18:17:24.469Z"
   },
   {
    "duration": 9,
    "start_time": "2021-11-15T18:17:24.483Z"
   },
   {
    "duration": 6,
    "start_time": "2021-11-15T18:17:24.494Z"
   },
   {
    "duration": 10,
    "start_time": "2021-11-15T18:17:24.502Z"
   },
   {
    "duration": 14,
    "start_time": "2021-11-15T18:17:24.514Z"
   },
   {
    "duration": 42,
    "start_time": "2021-11-15T18:17:24.530Z"
   },
   {
    "duration": 844,
    "start_time": "2021-11-15T18:17:24.574Z"
   },
   {
    "duration": 600,
    "start_time": "2021-11-15T18:17:25.421Z"
   },
   {
    "duration": 385,
    "start_time": "2021-11-15T18:17:26.025Z"
   },
   {
    "duration": 221,
    "start_time": "2021-11-15T18:17:26.412Z"
   },
   {
    "duration": 286,
    "start_time": "2021-11-15T18:17:26.635Z"
   },
   {
    "duration": 924,
    "start_time": "2021-11-15T18:17:26.922Z"
   },
   {
    "duration": 549,
    "start_time": "2021-11-15T18:17:27.848Z"
   },
   {
    "duration": 1012,
    "start_time": "2021-11-15T18:17:28.399Z"
   },
   {
    "duration": 374,
    "start_time": "2021-11-15T18:17:29.412Z"
   },
   {
    "duration": 1029,
    "start_time": "2021-11-15T18:17:29.787Z"
   },
   {
    "duration": 329,
    "start_time": "2021-11-15T18:17:30.818Z"
   },
   {
    "duration": 1072,
    "start_time": "2021-11-15T18:17:31.149Z"
   },
   {
    "duration": 43,
    "start_time": "2021-11-15T18:17:32.223Z"
   },
   {
    "duration": 418,
    "start_time": "2021-11-15T18:17:32.269Z"
   },
   {
    "duration": 1765,
    "start_time": "2021-11-15T18:17:32.689Z"
   },
   {
    "duration": 419,
    "start_time": "2021-11-15T18:17:34.456Z"
   },
   {
    "duration": 562,
    "start_time": "2021-11-15T18:17:34.877Z"
   },
   {
    "duration": 368,
    "start_time": "2021-11-15T18:17:35.440Z"
   },
   {
    "duration": 367,
    "start_time": "2021-11-15T18:17:35.810Z"
   },
   {
    "duration": 453,
    "start_time": "2021-11-15T18:17:36.178Z"
   },
   {
    "duration": 121,
    "start_time": "2021-11-15T18:20:00.812Z"
   },
   {
    "duration": 136,
    "start_time": "2021-11-15T18:20:35.490Z"
   },
   {
    "duration": 741,
    "start_time": "2021-11-15T18:20:42.558Z"
   },
   {
    "duration": 27,
    "start_time": "2021-11-15T18:20:43.301Z"
   },
   {
    "duration": 5,
    "start_time": "2021-11-15T18:20:43.330Z"
   },
   {
    "duration": 29,
    "start_time": "2021-11-15T18:20:43.337Z"
   },
   {
    "duration": 7,
    "start_time": "2021-11-15T18:20:43.368Z"
   },
   {
    "duration": 13,
    "start_time": "2021-11-15T18:20:43.376Z"
   },
   {
    "duration": 8,
    "start_time": "2021-11-15T18:20:43.391Z"
   },
   {
    "duration": 356,
    "start_time": "2021-11-15T18:20:43.401Z"
   },
   {
    "duration": -27,
    "start_time": "2021-11-15T18:20:43.787Z"
   },
   {
    "duration": -33,
    "start_time": "2021-11-15T18:20:43.795Z"
   },
   {
    "duration": -36,
    "start_time": "2021-11-15T18:20:43.799Z"
   },
   {
    "duration": -39,
    "start_time": "2021-11-15T18:20:43.802Z"
   },
   {
    "duration": -41,
    "start_time": "2021-11-15T18:20:43.805Z"
   },
   {
    "duration": -42,
    "start_time": "2021-11-15T18:20:43.807Z"
   },
   {
    "duration": -45,
    "start_time": "2021-11-15T18:20:43.810Z"
   },
   {
    "duration": -46,
    "start_time": "2021-11-15T18:20:43.812Z"
   },
   {
    "duration": -49,
    "start_time": "2021-11-15T18:20:43.815Z"
   },
   {
    "duration": -57,
    "start_time": "2021-11-15T18:20:43.824Z"
   },
   {
    "duration": -59,
    "start_time": "2021-11-15T18:20:43.826Z"
   },
   {
    "duration": -60,
    "start_time": "2021-11-15T18:20:43.828Z"
   },
   {
    "duration": -61,
    "start_time": "2021-11-15T18:20:43.830Z"
   },
   {
    "duration": -64,
    "start_time": "2021-11-15T18:20:43.833Z"
   },
   {
    "duration": -67,
    "start_time": "2021-11-15T18:20:43.837Z"
   },
   {
    "duration": -76,
    "start_time": "2021-11-15T18:20:43.846Z"
   },
   {
    "duration": -79,
    "start_time": "2021-11-15T18:20:43.850Z"
   },
   {
    "duration": -83,
    "start_time": "2021-11-15T18:20:43.854Z"
   },
   {
    "duration": -91,
    "start_time": "2021-11-15T18:20:43.863Z"
   },
   {
    "duration": -94,
    "start_time": "2021-11-15T18:20:43.867Z"
   },
   {
    "duration": -97,
    "start_time": "2021-11-15T18:20:43.870Z"
   },
   {
    "duration": -103,
    "start_time": "2021-11-15T18:20:43.877Z"
   },
   {
    "duration": -106,
    "start_time": "2021-11-15T18:20:43.881Z"
   },
   {
    "duration": -107,
    "start_time": "2021-11-15T18:20:43.883Z"
   },
   {
    "duration": -108,
    "start_time": "2021-11-15T18:20:43.885Z"
   },
   {
    "duration": -115,
    "start_time": "2021-11-15T18:20:43.893Z"
   },
   {
    "duration": -117,
    "start_time": "2021-11-15T18:20:43.896Z"
   },
   {
    "duration": -118,
    "start_time": "2021-11-15T18:20:43.898Z"
   },
   {
    "duration": -120,
    "start_time": "2021-11-15T18:20:43.901Z"
   },
   {
    "duration": -121,
    "start_time": "2021-11-15T18:20:43.903Z"
   },
   {
    "duration": -128,
    "start_time": "2021-11-15T18:20:43.911Z"
   },
   {
    "duration": -131,
    "start_time": "2021-11-15T18:20:43.915Z"
   },
   {
    "duration": -132,
    "start_time": "2021-11-15T18:20:43.917Z"
   },
   {
    "duration": -134,
    "start_time": "2021-11-15T18:20:43.920Z"
   },
   {
    "duration": -141,
    "start_time": "2021-11-15T18:20:43.928Z"
   },
   {
    "duration": 203,
    "start_time": "2021-11-15T18:21:12.178Z"
   },
   {
    "duration": 768,
    "start_time": "2021-11-15T18:21:17.427Z"
   },
   {
    "duration": 25,
    "start_time": "2021-11-15T18:21:18.197Z"
   },
   {
    "duration": 5,
    "start_time": "2021-11-15T18:21:18.224Z"
   },
   {
    "duration": 32,
    "start_time": "2021-11-15T18:21:18.231Z"
   },
   {
    "duration": 10,
    "start_time": "2021-11-15T18:21:18.266Z"
   },
   {
    "duration": 16,
    "start_time": "2021-11-15T18:21:18.278Z"
   },
   {
    "duration": 7,
    "start_time": "2021-11-15T18:21:18.296Z"
   },
   {
    "duration": 335,
    "start_time": "2021-11-15T18:21:18.306Z"
   },
   {
    "duration": 9,
    "start_time": "2021-11-15T18:21:18.644Z"
   },
   {
    "duration": 8,
    "start_time": "2021-11-15T18:21:18.664Z"
   },
   {
    "duration": 5,
    "start_time": "2021-11-15T18:21:18.675Z"
   },
   {
    "duration": 21,
    "start_time": "2021-11-15T18:21:18.682Z"
   },
   {
    "duration": 15,
    "start_time": "2021-11-15T18:21:18.706Z"
   },
   {
    "duration": 9,
    "start_time": "2021-11-15T18:21:18.723Z"
   },
   {
    "duration": 12,
    "start_time": "2021-11-15T18:21:18.734Z"
   },
   {
    "duration": 11,
    "start_time": "2021-11-15T18:21:18.763Z"
   },
   {
    "duration": 12,
    "start_time": "2021-11-15T18:21:18.776Z"
   },
   {
    "duration": 9,
    "start_time": "2021-11-15T18:21:18.790Z"
   },
   {
    "duration": 8,
    "start_time": "2021-11-15T18:21:18.801Z"
   },
   {
    "duration": 6,
    "start_time": "2021-11-15T18:21:18.811Z"
   },
   {
    "duration": 48,
    "start_time": "2021-11-15T18:21:18.819Z"
   },
   {
    "duration": 7,
    "start_time": "2021-11-15T18:21:18.869Z"
   },
   {
    "duration": 10,
    "start_time": "2021-11-15T18:21:18.879Z"
   },
   {
    "duration": 547,
    "start_time": "2021-11-15T18:21:18.891Z"
   },
   {
    "duration": 382,
    "start_time": "2021-11-15T18:21:19.439Z"
   },
   {
    "duration": 387,
    "start_time": "2021-11-15T18:21:19.823Z"
   },
   {
    "duration": 239,
    "start_time": "2021-11-15T18:21:20.213Z"
   },
   {
    "duration": 336,
    "start_time": "2021-11-15T18:21:20.454Z"
   },
   {
    "duration": 1014,
    "start_time": "2021-11-15T18:21:20.791Z"
   },
   {
    "duration": 503,
    "start_time": "2021-11-15T18:21:21.807Z"
   },
   {
    "duration": 1024,
    "start_time": "2021-11-15T18:21:22.312Z"
   },
   {
    "duration": 370,
    "start_time": "2021-11-15T18:21:23.337Z"
   },
   {
    "duration": 996,
    "start_time": "2021-11-15T18:21:23.709Z"
   },
   {
    "duration": 333,
    "start_time": "2021-11-15T18:21:24.707Z"
   },
   {
    "duration": 1095,
    "start_time": "2021-11-15T18:21:25.043Z"
   },
   {
    "duration": 51,
    "start_time": "2021-11-15T18:21:26.141Z"
   },
   {
    "duration": 431,
    "start_time": "2021-11-15T18:21:26.194Z"
   },
   {
    "duration": 1536,
    "start_time": "2021-11-15T18:21:26.627Z"
   },
   {
    "duration": 325,
    "start_time": "2021-11-15T18:21:28.165Z"
   },
   {
    "duration": 550,
    "start_time": "2021-11-15T18:21:28.492Z"
   },
   {
    "duration": 371,
    "start_time": "2021-11-15T18:21:29.043Z"
   },
   {
    "duration": 363,
    "start_time": "2021-11-15T18:21:29.415Z"
   },
   {
    "duration": 484,
    "start_time": "2021-11-15T18:21:29.779Z"
   },
   {
    "duration": 12,
    "start_time": "2021-11-15T18:28:57.985Z"
   },
   {
    "duration": 700,
    "start_time": "2021-11-15T18:29:05.335Z"
   },
   {
    "duration": 34,
    "start_time": "2021-11-15T18:29:06.037Z"
   },
   {
    "duration": 5,
    "start_time": "2021-11-15T18:29:06.074Z"
   },
   {
    "duration": 13,
    "start_time": "2021-11-15T18:29:06.081Z"
   },
   {
    "duration": 9,
    "start_time": "2021-11-15T18:29:06.096Z"
   },
   {
    "duration": 9,
    "start_time": "2021-11-15T18:29:06.107Z"
   },
   {
    "duration": 7,
    "start_time": "2021-11-15T18:29:06.118Z"
   },
   {
    "duration": 42,
    "start_time": "2021-11-15T18:29:06.127Z"
   },
   {
    "duration": 7,
    "start_time": "2021-11-15T18:29:06.172Z"
   },
   {
    "duration": 7,
    "start_time": "2021-11-15T18:29:06.181Z"
   },
   {
    "duration": 10,
    "start_time": "2021-11-15T18:29:06.190Z"
   },
   {
    "duration": 12,
    "start_time": "2021-11-15T18:29:06.202Z"
   },
   {
    "duration": 10,
    "start_time": "2021-11-15T18:29:06.216Z"
   },
   {
    "duration": 9,
    "start_time": "2021-11-15T18:29:06.228Z"
   },
   {
    "duration": 9,
    "start_time": "2021-11-15T18:29:06.264Z"
   },
   {
    "duration": 9,
    "start_time": "2021-11-15T18:29:06.275Z"
   },
   {
    "duration": 11,
    "start_time": "2021-11-15T18:29:06.286Z"
   },
   {
    "duration": 7,
    "start_time": "2021-11-15T18:29:06.299Z"
   },
   {
    "duration": 8,
    "start_time": "2021-11-15T18:29:06.308Z"
   },
   {
    "duration": 45,
    "start_time": "2021-11-15T18:29:06.318Z"
   },
   {
    "duration": 6,
    "start_time": "2021-11-15T18:29:06.365Z"
   },
   {
    "duration": 9,
    "start_time": "2021-11-15T18:29:06.373Z"
   },
   {
    "duration": 12,
    "start_time": "2021-11-15T18:29:06.384Z"
   },
   {
    "duration": 795,
    "start_time": "2021-11-15T18:29:06.398Z"
   },
   {
    "duration": 503,
    "start_time": "2021-11-15T18:29:07.195Z"
   },
   {
    "duration": 371,
    "start_time": "2021-11-15T18:29:07.699Z"
   },
   {
    "duration": 224,
    "start_time": "2021-11-15T18:29:08.074Z"
   },
   {
    "duration": 287,
    "start_time": "2021-11-15T18:29:08.300Z"
   },
   {
    "duration": 860,
    "start_time": "2021-11-15T18:29:08.589Z"
   },
   {
    "duration": 567,
    "start_time": "2021-11-15T18:29:09.451Z"
   },
   {
    "duration": 1022,
    "start_time": "2021-11-15T18:29:10.019Z"
   },
   {
    "duration": 377,
    "start_time": "2021-11-15T18:29:11.043Z"
   },
   {
    "duration": 972,
    "start_time": "2021-11-15T18:29:11.422Z"
   },
   {
    "duration": 330,
    "start_time": "2021-11-15T18:29:12.396Z"
   },
   {
    "duration": 1109,
    "start_time": "2021-11-15T18:29:12.728Z"
   },
   {
    "duration": 41,
    "start_time": "2021-11-15T18:29:13.839Z"
   },
   {
    "duration": 281,
    "start_time": "2021-11-15T18:29:13.882Z"
   },
   {
    "duration": 2565,
    "start_time": "2021-11-15T18:29:14.166Z"
   },
   {
    "duration": 392,
    "start_time": "2021-11-15T18:29:16.733Z"
   },
   {
    "duration": 589,
    "start_time": "2021-11-15T18:29:17.127Z"
   },
   {
    "duration": 381,
    "start_time": "2021-11-15T18:29:17.718Z"
   },
   {
    "duration": 382,
    "start_time": "2021-11-15T18:29:18.101Z"
   },
   {
    "duration": 462,
    "start_time": "2021-11-15T18:29:18.485Z"
   },
   {
    "duration": 121,
    "start_time": "2021-11-15T18:40:47.922Z"
   },
   {
    "duration": 12,
    "start_time": "2021-11-15T18:42:54.127Z"
   },
   {
    "duration": 254,
    "start_time": "2021-11-15T18:43:44.352Z"
   },
   {
    "duration": 267,
    "start_time": "2021-11-15T18:44:19.637Z"
   },
   {
    "duration": 254,
    "start_time": "2021-11-15T18:44:24.318Z"
   },
   {
    "duration": 280,
    "start_time": "2021-11-15T18:44:28.962Z"
   },
   {
    "duration": 129,
    "start_time": "2021-11-15T18:44:50.617Z"
   },
   {
    "duration": 101,
    "start_time": "2021-11-15T18:49:34.720Z"
   },
   {
    "duration": 92,
    "start_time": "2021-11-15T18:49:51.813Z"
   },
   {
    "duration": 80,
    "start_time": "2021-11-15T18:50:07.258Z"
   },
   {
    "duration": 84,
    "start_time": "2021-11-15T18:50:12.527Z"
   },
   {
    "duration": 10,
    "start_time": "2021-11-15T18:50:23.006Z"
   },
   {
    "duration": 13,
    "start_time": "2021-11-15T18:51:40.021Z"
   },
   {
    "duration": 17,
    "start_time": "2021-11-15T18:51:50.386Z"
   },
   {
    "duration": 122,
    "start_time": "2021-11-15T18:52:05.570Z"
   },
   {
    "duration": 124,
    "start_time": "2021-11-15T18:53:13.296Z"
   },
   {
    "duration": 381,
    "start_time": "2021-11-15T18:53:39.729Z"
   },
   {
    "duration": 239,
    "start_time": "2021-11-15T18:54:02.961Z"
   },
   {
    "duration": 191,
    "start_time": "2021-11-15T18:54:26.576Z"
   },
   {
    "duration": 183,
    "start_time": "2021-11-15T18:55:26.198Z"
   },
   {
    "duration": 84,
    "start_time": "2021-11-15T18:57:24.163Z"
   },
   {
    "duration": 84,
    "start_time": "2021-11-15T18:57:53.382Z"
   },
   {
    "duration": 80,
    "start_time": "2021-11-15T18:58:42.902Z"
   },
   {
    "duration": 264,
    "start_time": "2021-11-15T18:59:39.445Z"
   },
   {
    "duration": 243,
    "start_time": "2021-11-15T18:59:47.953Z"
   },
   {
    "duration": 6545,
    "start_time": "2021-11-15T19:00:41.924Z"
   },
   {
    "duration": 6626,
    "start_time": "2021-11-15T19:01:48.326Z"
   },
   {
    "duration": 147,
    "start_time": "2021-11-15T19:02:29.704Z"
   },
   {
    "duration": 203,
    "start_time": "2021-11-15T19:03:22.376Z"
   },
   {
    "duration": 199,
    "start_time": "2021-11-15T19:03:33.327Z"
   },
   {
    "duration": 726,
    "start_time": "2021-11-15T19:03:40.898Z"
   },
   {
    "duration": 36,
    "start_time": "2021-11-15T19:03:41.627Z"
   },
   {
    "duration": 5,
    "start_time": "2021-11-15T19:03:41.668Z"
   },
   {
    "duration": 13,
    "start_time": "2021-11-15T19:03:41.675Z"
   },
   {
    "duration": 8,
    "start_time": "2021-11-15T19:03:41.690Z"
   },
   {
    "duration": 10,
    "start_time": "2021-11-15T19:03:41.700Z"
   },
   {
    "duration": 5,
    "start_time": "2021-11-15T19:03:41.713Z"
   },
   {
    "duration": 54,
    "start_time": "2021-11-15T19:03:41.721Z"
   },
   {
    "duration": 7,
    "start_time": "2021-11-15T19:03:41.777Z"
   },
   {
    "duration": 7,
    "start_time": "2021-11-15T19:03:41.785Z"
   },
   {
    "duration": 5,
    "start_time": "2021-11-15T19:03:41.794Z"
   },
   {
    "duration": 14,
    "start_time": "2021-11-15T19:03:41.800Z"
   },
   {
    "duration": 6,
    "start_time": "2021-11-15T19:03:41.816Z"
   },
   {
    "duration": 43,
    "start_time": "2021-11-15T19:03:41.825Z"
   },
   {
    "duration": 10,
    "start_time": "2021-11-15T19:03:41.870Z"
   },
   {
    "duration": 10,
    "start_time": "2021-11-15T19:03:41.882Z"
   },
   {
    "duration": 20,
    "start_time": "2021-11-15T19:03:41.894Z"
   },
   {
    "duration": 11,
    "start_time": "2021-11-15T19:03:41.916Z"
   },
   {
    "duration": 43,
    "start_time": "2021-11-15T19:03:41.928Z"
   },
   {
    "duration": 7,
    "start_time": "2021-11-15T19:03:41.973Z"
   },
   {
    "duration": 8,
    "start_time": "2021-11-15T19:03:41.983Z"
   },
   {
    "duration": 6,
    "start_time": "2021-11-15T19:03:41.995Z"
   },
   {
    "duration": 11,
    "start_time": "2021-11-15T19:03:42.004Z"
   },
   {
    "duration": 516,
    "start_time": "2021-11-15T19:03:42.017Z"
   },
   {
    "duration": 512,
    "start_time": "2021-11-15T19:03:42.535Z"
   },
   {
    "duration": 403,
    "start_time": "2021-11-15T19:03:43.049Z"
   },
   {
    "duration": 231,
    "start_time": "2021-11-15T19:03:43.454Z"
   },
   {
    "duration": 293,
    "start_time": "2021-11-15T19:03:43.687Z"
   },
   {
    "duration": 137,
    "start_time": "2021-11-15T19:03:43.982Z"
   },
   {
    "duration": 165,
    "start_time": "2021-11-15T19:03:44.121Z"
   },
   {
    "duration": 944,
    "start_time": "2021-11-15T19:03:44.287Z"
   },
   {
    "duration": 492,
    "start_time": "2021-11-15T19:03:45.233Z"
   },
   {
    "duration": 990,
    "start_time": "2021-11-15T19:03:45.726Z"
   },
   {
    "duration": 382,
    "start_time": "2021-11-15T19:03:46.717Z"
   },
   {
    "duration": 1350,
    "start_time": "2021-11-15T19:03:47.101Z"
   },
   {
    "duration": 503,
    "start_time": "2021-11-15T19:03:48.454Z"
   },
   {
    "duration": 1604,
    "start_time": "2021-11-15T19:03:48.964Z"
   },
   {
    "duration": 30,
    "start_time": "2021-11-15T19:03:50.570Z"
   },
   {
    "duration": 205,
    "start_time": "2021-11-15T19:03:50.602Z"
   },
   {
    "duration": 1525,
    "start_time": "2021-11-15T19:03:50.809Z"
   },
   {
    "duration": 330,
    "start_time": "2021-11-15T19:03:52.336Z"
   },
   {
    "duration": 559,
    "start_time": "2021-11-15T19:03:52.668Z"
   },
   {
    "duration": 372,
    "start_time": "2021-11-15T19:03:53.229Z"
   },
   {
    "duration": 492,
    "start_time": "2021-11-15T19:03:53.603Z"
   },
   {
    "duration": 374,
    "start_time": "2021-11-15T19:03:54.097Z"
   },
   {
    "duration": 129,
    "start_time": "2021-11-15T19:04:48.980Z"
   },
   {
    "duration": 167,
    "start_time": "2021-11-15T19:05:31.928Z"
   },
   {
    "duration": 128,
    "start_time": "2021-11-15T19:06:06.873Z"
   },
   {
    "duration": 136,
    "start_time": "2021-11-15T19:06:45.304Z"
   },
   {
    "duration": 136,
    "start_time": "2021-11-15T19:07:03.606Z"
   },
   {
    "duration": 463,
    "start_time": "2021-11-15T19:07:59.746Z"
   },
   {
    "duration": 358,
    "start_time": "2021-11-15T19:08:39.334Z"
   },
   {
    "duration": 325,
    "start_time": "2021-11-15T19:09:45.188Z"
   },
   {
    "duration": 914,
    "start_time": "2021-11-15T19:09:55.042Z"
   },
   {
    "duration": 36,
    "start_time": "2021-11-15T19:09:55.958Z"
   },
   {
    "duration": 6,
    "start_time": "2021-11-15T19:09:55.996Z"
   },
   {
    "duration": 13,
    "start_time": "2021-11-15T19:09:56.005Z"
   },
   {
    "duration": 8,
    "start_time": "2021-11-15T19:09:56.020Z"
   },
   {
    "duration": 40,
    "start_time": "2021-11-15T19:09:56.030Z"
   },
   {
    "duration": 8,
    "start_time": "2021-11-15T19:09:56.072Z"
   },
   {
    "duration": 13,
    "start_time": "2021-11-15T19:09:56.082Z"
   },
   {
    "duration": 6,
    "start_time": "2021-11-15T19:09:56.097Z"
   },
   {
    "duration": 6,
    "start_time": "2021-11-15T19:09:56.105Z"
   },
   {
    "duration": 5,
    "start_time": "2021-11-15T19:09:56.113Z"
   },
   {
    "duration": 44,
    "start_time": "2021-11-15T19:09:56.119Z"
   },
   {
    "duration": 6,
    "start_time": "2021-11-15T19:09:56.165Z"
   },
   {
    "duration": 5,
    "start_time": "2021-11-15T19:09:56.173Z"
   },
   {
    "duration": 10,
    "start_time": "2021-11-15T19:09:56.179Z"
   },
   {
    "duration": 9,
    "start_time": "2021-11-15T19:09:56.190Z"
   },
   {
    "duration": 15,
    "start_time": "2021-11-15T19:09:56.200Z"
   },
   {
    "duration": 9,
    "start_time": "2021-11-15T19:09:56.217Z"
   },
   {
    "duration": 37,
    "start_time": "2021-11-15T19:09:56.228Z"
   },
   {
    "duration": 6,
    "start_time": "2021-11-15T19:09:56.266Z"
   },
   {
    "duration": 7,
    "start_time": "2021-11-15T19:09:56.273Z"
   },
   {
    "duration": 10,
    "start_time": "2021-11-15T19:09:56.281Z"
   },
   {
    "duration": 11,
    "start_time": "2021-11-15T19:09:56.294Z"
   },
   {
    "duration": 504,
    "start_time": "2021-11-15T19:09:56.307Z"
   },
   {
    "duration": 489,
    "start_time": "2021-11-15T19:09:56.813Z"
   },
   {
    "duration": 374,
    "start_time": "2021-11-15T19:09:57.304Z"
   },
   {
    "duration": 226,
    "start_time": "2021-11-15T19:09:57.679Z"
   },
   {
    "duration": 463,
    "start_time": "2021-11-15T19:09:57.907Z"
   },
   {
    "duration": 185,
    "start_time": "2021-11-15T19:09:58.371Z"
   },
   {
    "duration": 234,
    "start_time": "2021-11-15T19:09:58.558Z"
   },
   {
    "duration": 916,
    "start_time": "2021-11-15T19:09:58.794Z"
   },
   {
    "duration": 580,
    "start_time": "2021-11-15T19:09:59.713Z"
   },
   {
    "duration": 1003,
    "start_time": "2021-11-15T19:10:00.295Z"
   },
   {
    "duration": 408,
    "start_time": "2021-11-15T19:10:01.301Z"
   },
   {
    "duration": 984,
    "start_time": "2021-11-15T19:10:01.711Z"
   },
   {
    "duration": 326,
    "start_time": "2021-11-15T19:10:02.697Z"
   },
   {
    "duration": 1178,
    "start_time": "2021-11-15T19:10:03.025Z"
   },
   {
    "duration": 30,
    "start_time": "2021-11-15T19:10:04.205Z"
   },
   {
    "duration": 216,
    "start_time": "2021-11-15T19:10:04.237Z"
   },
   {
    "duration": 1547,
    "start_time": "2021-11-15T19:10:04.455Z"
   },
   {
    "duration": 344,
    "start_time": "2021-11-15T19:10:06.004Z"
   },
   {
    "duration": 622,
    "start_time": "2021-11-15T19:10:06.350Z"
   },
   {
    "duration": 381,
    "start_time": "2021-11-15T19:10:06.974Z"
   },
   {
    "duration": 486,
    "start_time": "2021-11-15T19:10:07.356Z"
   },
   {
    "duration": 387,
    "start_time": "2021-11-15T19:10:07.843Z"
   },
   {
    "duration": 137,
    "start_time": "2021-11-15T19:10:35.807Z"
   },
   {
    "duration": 703,
    "start_time": "2021-11-15T19:11:05.129Z"
   },
   {
    "duration": 35,
    "start_time": "2021-11-15T19:11:05.834Z"
   },
   {
    "duration": 5,
    "start_time": "2021-11-15T19:11:05.871Z"
   },
   {
    "duration": 12,
    "start_time": "2021-11-15T19:11:05.878Z"
   },
   {
    "duration": 7,
    "start_time": "2021-11-15T19:11:05.891Z"
   },
   {
    "duration": 13,
    "start_time": "2021-11-15T19:11:05.900Z"
   },
   {
    "duration": 6,
    "start_time": "2021-11-15T19:11:05.915Z"
   },
   {
    "duration": 55,
    "start_time": "2021-11-15T19:11:05.924Z"
   },
   {
    "duration": 9,
    "start_time": "2021-11-15T19:11:05.982Z"
   },
   {
    "duration": 8,
    "start_time": "2021-11-15T19:11:05.993Z"
   },
   {
    "duration": 6,
    "start_time": "2021-11-15T19:11:06.003Z"
   },
   {
    "duration": 13,
    "start_time": "2021-11-15T19:11:06.011Z"
   },
   {
    "duration": 41,
    "start_time": "2021-11-15T19:11:06.027Z"
   },
   {
    "duration": 6,
    "start_time": "2021-11-15T19:11:06.070Z"
   },
   {
    "duration": 16,
    "start_time": "2021-11-15T19:11:06.077Z"
   },
   {
    "duration": 10,
    "start_time": "2021-11-15T19:11:06.095Z"
   },
   {
    "duration": 17,
    "start_time": "2021-11-15T19:11:06.106Z"
   },
   {
    "duration": 40,
    "start_time": "2021-11-15T19:11:06.125Z"
   },
   {
    "duration": 8,
    "start_time": "2021-11-15T19:11:06.167Z"
   },
   {
    "duration": 6,
    "start_time": "2021-11-15T19:11:06.177Z"
   },
   {
    "duration": 8,
    "start_time": "2021-11-15T19:11:06.184Z"
   },
   {
    "duration": 10,
    "start_time": "2021-11-15T19:11:06.194Z"
   },
   {
    "duration": 23,
    "start_time": "2021-11-15T19:11:06.207Z"
   },
   {
    "duration": 518,
    "start_time": "2021-11-15T19:11:06.232Z"
   },
   {
    "duration": 476,
    "start_time": "2021-11-15T19:11:06.752Z"
   },
   {
    "duration": 388,
    "start_time": "2021-11-15T19:11:07.230Z"
   },
   {
    "duration": 225,
    "start_time": "2021-11-15T19:11:07.620Z"
   },
   {
    "duration": 292,
    "start_time": "2021-11-15T19:11:07.847Z"
   },
   {
    "duration": 132,
    "start_time": "2021-11-15T19:11:08.141Z"
   },
   {
    "duration": 166,
    "start_time": "2021-11-15T19:11:08.275Z"
   },
   {
    "duration": 948,
    "start_time": "2021-11-15T19:11:08.442Z"
   },
   {
    "duration": 505,
    "start_time": "2021-11-15T19:11:09.392Z"
   },
   {
    "duration": 1002,
    "start_time": "2021-11-15T19:11:09.898Z"
   },
   {
    "duration": 378,
    "start_time": "2021-11-15T19:11:10.902Z"
   },
   {
    "duration": 998,
    "start_time": "2021-11-15T19:11:11.282Z"
   },
   {
    "duration": 334,
    "start_time": "2021-11-15T19:11:12.283Z"
   },
   {
    "duration": 1211,
    "start_time": "2021-11-15T19:11:12.620Z"
   },
   {
    "duration": 37,
    "start_time": "2021-11-15T19:11:13.832Z"
   },
   {
    "duration": 204,
    "start_time": "2021-11-15T19:11:13.871Z"
   },
   {
    "duration": 1646,
    "start_time": "2021-11-15T19:11:14.076Z"
   },
   {
    "duration": 339,
    "start_time": "2021-11-15T19:11:15.724Z"
   },
   {
    "duration": 581,
    "start_time": "2021-11-15T19:11:16.065Z"
   },
   {
    "duration": 391,
    "start_time": "2021-11-15T19:11:16.648Z"
   },
   {
    "duration": 482,
    "start_time": "2021-11-15T19:11:17.040Z"
   },
   {
    "duration": 380,
    "start_time": "2021-11-15T19:11:17.524Z"
   },
   {
    "duration": 582,
    "start_time": "2021-11-15T19:17:27.541Z"
   },
   {
    "duration": 379,
    "start_time": "2021-11-15T19:17:38.377Z"
   },
   {
    "duration": 392,
    "start_time": "2021-11-15T19:18:33.076Z"
   },
   {
    "duration": 1662,
    "start_time": "2021-11-15T19:19:50.066Z"
   },
   {
    "duration": 362,
    "start_time": "2021-11-15T19:22:20.908Z"
   },
   {
    "duration": 1187,
    "start_time": "2021-11-15T19:22:23.924Z"
   },
   {
    "duration": 936,
    "start_time": "2021-11-15T19:23:51.358Z"
   },
   {
    "duration": 528,
    "start_time": "2021-11-15T19:25:38.386Z"
   },
   {
    "duration": 370,
    "start_time": "2021-11-15T19:26:03.770Z"
   },
   {
    "duration": 436,
    "start_time": "2021-11-15T19:26:17.871Z"
   },
   {
    "duration": 382,
    "start_time": "2021-11-15T19:28:53.933Z"
   },
   {
    "duration": 386,
    "start_time": "2021-11-15T19:29:01.601Z"
   },
   {
    "duration": 340,
    "start_time": "2021-11-15T19:29:08.278Z"
   },
   {
    "duration": 470,
    "start_time": "2021-11-15T19:29:18.319Z"
   },
   {
    "duration": 387,
    "start_time": "2021-11-15T19:30:20.064Z"
   },
   {
    "duration": 275,
    "start_time": "2021-11-15T19:30:52.230Z"
   },
   {
    "duration": 283,
    "start_time": "2021-11-15T19:31:07.054Z"
   },
   {
    "duration": 219,
    "start_time": "2021-11-15T19:31:30.844Z"
   },
   {
    "duration": 394,
    "start_time": "2021-11-15T19:33:14.687Z"
   },
   {
    "duration": 367,
    "start_time": "2021-11-15T19:33:28.281Z"
   },
   {
    "duration": 776,
    "start_time": "2021-11-15T19:33:53.774Z"
   },
   {
    "duration": 30,
    "start_time": "2021-11-15T19:33:54.552Z"
   },
   {
    "duration": 5,
    "start_time": "2021-11-15T19:33:54.584Z"
   },
   {
    "duration": 12,
    "start_time": "2021-11-15T19:33:54.591Z"
   },
   {
    "duration": 8,
    "start_time": "2021-11-15T19:33:54.605Z"
   },
   {
    "duration": 12,
    "start_time": "2021-11-15T19:33:54.615Z"
   },
   {
    "duration": 38,
    "start_time": "2021-11-15T19:33:54.629Z"
   },
   {
    "duration": 14,
    "start_time": "2021-11-15T19:33:54.670Z"
   },
   {
    "duration": 12,
    "start_time": "2021-11-15T19:33:54.688Z"
   },
   {
    "duration": 9,
    "start_time": "2021-11-15T19:33:54.702Z"
   },
   {
    "duration": 7,
    "start_time": "2021-11-15T19:33:54.713Z"
   },
   {
    "duration": 46,
    "start_time": "2021-11-15T19:33:54.722Z"
   },
   {
    "duration": 6,
    "start_time": "2021-11-15T19:33:54.770Z"
   },
   {
    "duration": 8,
    "start_time": "2021-11-15T19:33:54.778Z"
   },
   {
    "duration": 11,
    "start_time": "2021-11-15T19:33:54.788Z"
   },
   {
    "duration": 10,
    "start_time": "2021-11-15T19:33:54.801Z"
   },
   {
    "duration": 14,
    "start_time": "2021-11-15T19:33:54.813Z"
   },
   {
    "duration": 39,
    "start_time": "2021-11-15T19:33:54.830Z"
   },
   {
    "duration": 10,
    "start_time": "2021-11-15T19:33:54.872Z"
   },
   {
    "duration": 8,
    "start_time": "2021-11-15T19:33:54.884Z"
   },
   {
    "duration": 8,
    "start_time": "2021-11-15T19:33:54.894Z"
   },
   {
    "duration": 9,
    "start_time": "2021-11-15T19:33:54.904Z"
   },
   {
    "duration": 53,
    "start_time": "2021-11-15T19:33:54.917Z"
   },
   {
    "duration": 519,
    "start_time": "2021-11-15T19:33:54.973Z"
   },
   {
    "duration": 543,
    "start_time": "2021-11-15T19:33:55.494Z"
   },
   {
    "duration": 511,
    "start_time": "2021-11-15T19:33:56.039Z"
   },
   {
    "duration": 226,
    "start_time": "2021-11-15T19:33:56.552Z"
   },
   {
    "duration": 292,
    "start_time": "2021-11-15T19:33:56.780Z"
   },
   {
    "duration": 145,
    "start_time": "2021-11-15T19:33:57.073Z"
   },
   {
    "duration": 172,
    "start_time": "2021-11-15T19:33:57.220Z"
   },
   {
    "duration": 955,
    "start_time": "2021-11-15T19:33:57.394Z"
   },
   {
    "duration": 469,
    "start_time": "2021-11-15T19:33:58.350Z"
   },
   {
    "duration": 1017,
    "start_time": "2021-11-15T19:33:58.821Z"
   },
   {
    "duration": 393,
    "start_time": "2021-11-15T19:33:59.840Z"
   },
   {
    "duration": 988,
    "start_time": "2021-11-15T19:34:00.236Z"
   },
   {
    "duration": 357,
    "start_time": "2021-11-15T19:34:01.226Z"
   },
   {
    "duration": 449,
    "start_time": "2021-11-15T19:34:01.586Z"
   },
   {
    "duration": 485,
    "start_time": "2021-11-15T19:34:02.038Z"
   },
   {
    "duration": 510,
    "start_time": "2021-11-15T19:34:02.526Z"
   },
   {
    "duration": 39,
    "start_time": "2021-11-15T19:34:03.037Z"
   },
   {
    "duration": 209,
    "start_time": "2021-11-15T19:34:03.078Z"
   },
   {
    "duration": 388,
    "start_time": "2021-11-15T19:34:03.289Z"
   },
   {
    "duration": 370,
    "start_time": "2021-11-15T19:34:03.679Z"
   },
   {
    "duration": 214,
    "start_time": "2021-11-15T19:34:04.051Z"
   },
   {
    "duration": 280,
    "start_time": "2021-11-15T19:34:04.268Z"
   },
   {
    "duration": 406,
    "start_time": "2021-11-15T19:34:04.550Z"
   },
   {
    "duration": 447,
    "start_time": "2021-11-15T19:34:04.957Z"
   },
   {
    "duration": 679,
    "start_time": "2021-11-15T19:34:05.406Z"
   },
   {
    "duration": 412,
    "start_time": "2021-11-15T19:34:06.087Z"
   },
   {
    "duration": 375,
    "start_time": "2021-11-15T19:34:06.501Z"
   },
   {
    "duration": 497,
    "start_time": "2021-11-15T19:34:06.878Z"
   },
   {
    "duration": 140,
    "start_time": "2021-11-15T19:36:03.043Z"
   },
   {
    "duration": 276,
    "start_time": "2021-11-15T19:40:09.030Z"
   }
  ],
  "kernelspec": {
   "display_name": "Python 3 (ipykernel)",
   "language": "python",
   "name": "python3"
  },
  "language_info": {
   "codemirror_mode": {
    "name": "ipython",
    "version": 3
   },
   "file_extension": ".py",
   "mimetype": "text/x-python",
   "name": "python",
   "nbconvert_exporter": "python",
   "pygments_lexer": "ipython3",
   "version": "3.9.7"
  },
  "toc": {
   "base_numbering": 1,
   "nav_menu": {},
   "number_sections": true,
   "sideBar": true,
   "skip_h1_title": true,
   "title_cell": "Содержание",
   "title_sidebar": "Contents",
   "toc_cell": true,
   "toc_position": {
    "height": "calc(100% - 180px)",
    "left": "10px",
    "top": "150px",
    "width": "165px"
   },
   "toc_section_display": true,
   "toc_window_display": true
  }
 },
 "nbformat": 4,
 "nbformat_minor": 2
}
