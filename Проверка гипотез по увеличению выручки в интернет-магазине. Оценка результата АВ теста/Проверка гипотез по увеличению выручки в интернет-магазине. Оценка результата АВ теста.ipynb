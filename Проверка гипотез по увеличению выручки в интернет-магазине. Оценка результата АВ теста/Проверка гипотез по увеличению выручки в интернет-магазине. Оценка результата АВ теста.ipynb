{
 "cells": [
  {
   "cell_type": "markdown",
   "metadata": {},
   "source": [
    "# Проверка гипотез по увеличению выручки в интернет-магазине. Приоритезация гипотез. Оценка результата А/В теста"
   ]
  },
  {
   "cell_type": "markdown",
   "metadata": {},
   "source": [
    "**Задача:** Был подготовлен список гипотез для увеличения выручки крупного интернет-магазина. Используя данные\n",
    "интернет-магазина необходимо приоритизировать гипотезы, запустить A/B-тест и проанализировать полученные результаты."
   ]
  },
  {
   "cell_type": "markdown",
   "metadata": {},
   "source": [
    "<a id='content'></a>\n",
    "## Оглавление \n",
    "[Предварительный анализ данных](#1)\n",
    "\n",
    "[Приоритизация гипотез](#2)\n",
    " - [Фреймворк ICE для приоритизации гипотез](#2-1)\n",
    " - [Фреймворк RICE для приоритизации гипотез](#2-2)\n",
    " - [Сводная таблица результатов](#2-3)\n",
    "\n",
    "[Анализ A/B-теста](#3)\n",
    " - [График кумулятивной выручки по группам](#3-1)\n",
    " - [График кумулятивного среднего чека по группам](#3-2)\n",
    " - [График относительного изменения кумулятивного среднего чека группы B к группе A](#3-3)\n",
    " - [График кумулятивной конверсии по группам](#3-4)\n",
    " - [График относительного изменения кумулятивной конверсии группы B к группе A](#3-5) \n",
    " - [График распределения количества заказов по пользователям](#3-6) \n",
    " - [95-й и 99-й перцентили количества заказов на пользователя](#3-7)\n",
    " - [График распределения стоимостей заказов](#3-8)\n",
    " - [95-й и 99-й перцентили стоимости заказов](#3-9)\n",
    " - [Проверка статистической значимости различий в конверсии между группами по неотфильтрованным данным](#3-11)\n",
    " - [Проверка статистической значимости различий в среднем чеке заказа между группами по неотфильтрованным данным](#3-12)\n",
    " - [Проверка статистической значимости различий в конверсии между группами по отфильтрованным данным](#3-13) \n",
    " - [Проверка статистической значимости различий в среднем чеке заказа между группами по отфильтрованным данным](#3-14)\n",
    " \n",
    "[Вывод](#4)"
   ]
  },
  {
   "cell_type": "markdown",
   "metadata": {},
   "source": [
    "<a id = '1'></a>\n",
    "## Предварительный анализ данных"
   ]
  },
  {
   "cell_type": "code",
   "execution_count": 1,
   "metadata": {},
   "outputs": [],
   "source": [
    "# импорт библиотек\n",
    "import pandas as pd\n",
    "import numpy as np\n",
    "import matplotlib.pyplot as plt\n",
    "import scipy.stats as stats\n",
    "import seaborn as sns\n",
    "\n",
    "pd.plotting.register_matplotlib_converters()\n",
    "pd.set_option('display.max_columns', None)\n",
    "pd.options.display.max_colwidth = 150  "
   ]
  },
  {
   "cell_type": "code",
   "execution_count": 2,
   "metadata": {},
   "outputs": [],
   "source": [
    "# импорт данных\n",
    "hypothesis = pd.read_csv('/datasets/hypothesis.csv')\n",
    "orders = pd.read_csv('/datasets/orders.csv')\n",
    "visitors = pd.read_csv('/datasets/visitors.csv')"
   ]
  },
  {
   "cell_type": "markdown",
   "metadata": {},
   "source": [
    "### Проверка датасета Hypothesis"
   ]
  },
  {
   "cell_type": "code",
   "execution_count": 3,
   "metadata": {
    "scrolled": true
   },
   "outputs": [
    {
     "name": "stdout",
     "output_type": "stream",
     "text": [
      "<class 'pandas.core.frame.DataFrame'>\n",
      "RangeIndex: 9 entries, 0 to 8\n",
      "Data columns (total 5 columns):\n",
      "Hypothesis    9 non-null object\n",
      "Reach         9 non-null int64\n",
      "Impact        9 non-null int64\n",
      "Confidence    9 non-null int64\n",
      "Efforts       9 non-null int64\n",
      "dtypes: int64(4), object(1)\n",
      "memory usage: 488.0+ bytes\n"
     ]
    }
   ],
   "source": [
    "hypothesis.info()"
   ]
  },
  {
   "cell_type": "code",
   "execution_count": 4,
   "metadata": {},
   "outputs": [
    {
     "data": {
      "text/plain": [
       "0"
      ]
     },
     "execution_count": 4,
     "metadata": {},
     "output_type": "execute_result"
    }
   ],
   "source": [
    "hypothesis.duplicated().sum()"
   ]
  },
  {
   "cell_type": "code",
   "execution_count": 5,
   "metadata": {},
   "outputs": [],
   "source": [
    "hypothesis.columns = hypothesis.columns.str.lower()"
   ]
  },
  {
   "cell_type": "code",
   "execution_count": 6,
   "metadata": {},
   "outputs": [
    {
     "data": {
      "text/html": [
       "<div>\n",
       "<style scoped>\n",
       "    .dataframe tbody tr th:only-of-type {\n",
       "        vertical-align: middle;\n",
       "    }\n",
       "\n",
       "    .dataframe tbody tr th {\n",
       "        vertical-align: top;\n",
       "    }\n",
       "\n",
       "    .dataframe thead th {\n",
       "        text-align: right;\n",
       "    }\n",
       "</style>\n",
       "<table border=\"1\" class=\"dataframe\">\n",
       "  <thead>\n",
       "    <tr style=\"text-align: right;\">\n",
       "      <th></th>\n",
       "      <th>hypothesis</th>\n",
       "      <th>reach</th>\n",
       "      <th>impact</th>\n",
       "      <th>confidence</th>\n",
       "      <th>efforts</th>\n",
       "    </tr>\n",
       "  </thead>\n",
       "  <tbody>\n",
       "    <tr>\n",
       "      <td>0</td>\n",
       "      <td>Добавить два новых канала привлечения трафика, что позволит привлекать на 30% больше пользователей</td>\n",
       "      <td>3</td>\n",
       "      <td>10</td>\n",
       "      <td>8</td>\n",
       "      <td>6</td>\n",
       "    </tr>\n",
       "    <tr>\n",
       "      <td>1</td>\n",
       "      <td>Запустить собственную службу доставки, что сократит срок доставки заказов</td>\n",
       "      <td>2</td>\n",
       "      <td>5</td>\n",
       "      <td>4</td>\n",
       "      <td>10</td>\n",
       "    </tr>\n",
       "    <tr>\n",
       "      <td>2</td>\n",
       "      <td>Добавить блоки рекомендаций товаров на сайт интернет магазина, чтобы повысить конверсию и средний чек заказа</td>\n",
       "      <td>8</td>\n",
       "      <td>3</td>\n",
       "      <td>7</td>\n",
       "      <td>3</td>\n",
       "    </tr>\n",
       "    <tr>\n",
       "      <td>3</td>\n",
       "      <td>Изменить структура категорий, что увеличит конверсию, т.к. пользователи быстрее найдут нужный товар</td>\n",
       "      <td>8</td>\n",
       "      <td>3</td>\n",
       "      <td>3</td>\n",
       "      <td>8</td>\n",
       "    </tr>\n",
       "    <tr>\n",
       "      <td>4</td>\n",
       "      <td>Изменить цвет фона главной страницы, чтобы увеличить вовлеченность пользователей</td>\n",
       "      <td>3</td>\n",
       "      <td>1</td>\n",
       "      <td>1</td>\n",
       "      <td>1</td>\n",
       "    </tr>\n",
       "  </tbody>\n",
       "</table>\n",
       "</div>"
      ],
      "text/plain": [
       "                                                                                                     hypothesis  \\\n",
       "0            Добавить два новых канала привлечения трафика, что позволит привлекать на 30% больше пользователей   \n",
       "1                                     Запустить собственную службу доставки, что сократит срок доставки заказов   \n",
       "2  Добавить блоки рекомендаций товаров на сайт интернет магазина, чтобы повысить конверсию и средний чек заказа   \n",
       "3           Изменить структура категорий, что увеличит конверсию, т.к. пользователи быстрее найдут нужный товар   \n",
       "4                              Изменить цвет фона главной страницы, чтобы увеличить вовлеченность пользователей   \n",
       "\n",
       "   reach  impact  confidence  efforts  \n",
       "0      3      10           8        6  \n",
       "1      2       5           4       10  \n",
       "2      8       3           7        3  \n",
       "3      8       3           3        8  \n",
       "4      3       1           1        1  "
      ]
     },
     "execution_count": 6,
     "metadata": {},
     "output_type": "execute_result"
    }
   ],
   "source": [
    "hypothesis.head()"
   ]
  },
  {
   "cell_type": "markdown",
   "metadata": {},
   "source": [
    "В датасете нет дубликатов и пропусков. Названия столбцов приведены к одному регистру"
   ]
  },
  {
   "cell_type": "markdown",
   "metadata": {},
   "source": [
    "### Проверка датасета Orders"
   ]
  },
  {
   "cell_type": "code",
   "execution_count": 7,
   "metadata": {},
   "outputs": [
    {
     "name": "stdout",
     "output_type": "stream",
     "text": [
      "<class 'pandas.core.frame.DataFrame'>\n",
      "RangeIndex: 1197 entries, 0 to 1196\n",
      "Data columns (total 5 columns):\n",
      "transactionId    1197 non-null int64\n",
      "visitorId        1197 non-null int64\n",
      "date             1197 non-null object\n",
      "revenue          1197 non-null int64\n",
      "group            1197 non-null object\n",
      "dtypes: int64(3), object(2)\n",
      "memory usage: 46.9+ KB\n"
     ]
    }
   ],
   "source": [
    "orders.info()"
   ]
  },
  {
   "cell_type": "code",
   "execution_count": 8,
   "metadata": {},
   "outputs": [
    {
     "data": {
      "text/plain": [
       "0"
      ]
     },
     "execution_count": 8,
     "metadata": {},
     "output_type": "execute_result"
    }
   ],
   "source": [
    "orders.duplicated().sum()"
   ]
  },
  {
   "cell_type": "code",
   "execution_count": 9,
   "metadata": {},
   "outputs": [],
   "source": [
    "orders = orders.rename(columns={'transactionId' : 'transaction_id', 'visitorId' : 'visitor_id'})"
   ]
  },
  {
   "cell_type": "code",
   "execution_count": 10,
   "metadata": {},
   "outputs": [],
   "source": [
    "orders['date'] = pd.to_datetime(orders['date'])"
   ]
  },
  {
   "cell_type": "code",
   "execution_count": 11,
   "metadata": {},
   "outputs": [
    {
     "data": {
      "text/html": [
       "<div>\n",
       "<style scoped>\n",
       "    .dataframe tbody tr th:only-of-type {\n",
       "        vertical-align: middle;\n",
       "    }\n",
       "\n",
       "    .dataframe tbody tr th {\n",
       "        vertical-align: top;\n",
       "    }\n",
       "\n",
       "    .dataframe thead th {\n",
       "        text-align: right;\n",
       "    }\n",
       "</style>\n",
       "<table border=\"1\" class=\"dataframe\">\n",
       "  <thead>\n",
       "    <tr style=\"text-align: right;\">\n",
       "      <th></th>\n",
       "      <th>transaction_id</th>\n",
       "      <th>visitor_id</th>\n",
       "      <th>date</th>\n",
       "      <th>revenue</th>\n",
       "      <th>group</th>\n",
       "    </tr>\n",
       "  </thead>\n",
       "  <tbody>\n",
       "    <tr>\n",
       "      <td>0</td>\n",
       "      <td>3667963787</td>\n",
       "      <td>3312258926</td>\n",
       "      <td>2019-08-15</td>\n",
       "      <td>1650</td>\n",
       "      <td>B</td>\n",
       "    </tr>\n",
       "    <tr>\n",
       "      <td>1</td>\n",
       "      <td>2804400009</td>\n",
       "      <td>3642806036</td>\n",
       "      <td>2019-08-15</td>\n",
       "      <td>730</td>\n",
       "      <td>B</td>\n",
       "    </tr>\n",
       "    <tr>\n",
       "      <td>2</td>\n",
       "      <td>2961555356</td>\n",
       "      <td>4069496402</td>\n",
       "      <td>2019-08-15</td>\n",
       "      <td>400</td>\n",
       "      <td>A</td>\n",
       "    </tr>\n",
       "    <tr>\n",
       "      <td>3</td>\n",
       "      <td>3797467345</td>\n",
       "      <td>1196621759</td>\n",
       "      <td>2019-08-15</td>\n",
       "      <td>9759</td>\n",
       "      <td>B</td>\n",
       "    </tr>\n",
       "    <tr>\n",
       "      <td>4</td>\n",
       "      <td>2282983706</td>\n",
       "      <td>2322279887</td>\n",
       "      <td>2019-08-15</td>\n",
       "      <td>2308</td>\n",
       "      <td>B</td>\n",
       "    </tr>\n",
       "  </tbody>\n",
       "</table>\n",
       "</div>"
      ],
      "text/plain": [
       "   transaction_id  visitor_id       date  revenue group\n",
       "0      3667963787  3312258926 2019-08-15     1650     B\n",
       "1      2804400009  3642806036 2019-08-15      730     B\n",
       "2      2961555356  4069496402 2019-08-15      400     A\n",
       "3      3797467345  1196621759 2019-08-15     9759     B\n",
       "4      2282983706  2322279887 2019-08-15     2308     B"
      ]
     },
     "execution_count": 11,
     "metadata": {},
     "output_type": "execute_result"
    }
   ],
   "source": [
    "orders.head()"
   ]
  },
  {
   "cell_type": "markdown",
   "metadata": {},
   "source": [
    "В датасете нет дубликатов и пропусков. Названия столбцов приведены к стилю snake. Дата приведена к формату datetime64"
   ]
  },
  {
   "cell_type": "markdown",
   "metadata": {},
   "source": [
    "### Проверка датасета Visitors"
   ]
  },
  {
   "cell_type": "code",
   "execution_count": 12,
   "metadata": {},
   "outputs": [
    {
     "name": "stdout",
     "output_type": "stream",
     "text": [
      "<class 'pandas.core.frame.DataFrame'>\n",
      "RangeIndex: 62 entries, 0 to 61\n",
      "Data columns (total 3 columns):\n",
      "date        62 non-null object\n",
      "group       62 non-null object\n",
      "visitors    62 non-null int64\n",
      "dtypes: int64(1), object(2)\n",
      "memory usage: 1.6+ KB\n"
     ]
    }
   ],
   "source": [
    "visitors.info()"
   ]
  },
  {
   "cell_type": "code",
   "execution_count": 13,
   "metadata": {
    "scrolled": true
   },
   "outputs": [
    {
     "data": {
      "text/plain": [
       "0"
      ]
     },
     "execution_count": 13,
     "metadata": {},
     "output_type": "execute_result"
    }
   ],
   "source": [
    "visitors.duplicated().sum()"
   ]
  },
  {
   "cell_type": "code",
   "execution_count": 14,
   "metadata": {},
   "outputs": [
    {
     "data": {
      "text/html": [
       "<div>\n",
       "<style scoped>\n",
       "    .dataframe tbody tr th:only-of-type {\n",
       "        vertical-align: middle;\n",
       "    }\n",
       "\n",
       "    .dataframe tbody tr th {\n",
       "        vertical-align: top;\n",
       "    }\n",
       "\n",
       "    .dataframe thead th {\n",
       "        text-align: right;\n",
       "    }\n",
       "</style>\n",
       "<table border=\"1\" class=\"dataframe\">\n",
       "  <thead>\n",
       "    <tr style=\"text-align: right;\">\n",
       "      <th></th>\n",
       "      <th>date</th>\n",
       "      <th>group</th>\n",
       "      <th>visitors</th>\n",
       "    </tr>\n",
       "  </thead>\n",
       "  <tbody>\n",
       "    <tr>\n",
       "      <td>0</td>\n",
       "      <td>2019-08-01</td>\n",
       "      <td>A</td>\n",
       "      <td>719</td>\n",
       "    </tr>\n",
       "    <tr>\n",
       "      <td>1</td>\n",
       "      <td>2019-08-02</td>\n",
       "      <td>A</td>\n",
       "      <td>619</td>\n",
       "    </tr>\n",
       "    <tr>\n",
       "      <td>2</td>\n",
       "      <td>2019-08-03</td>\n",
       "      <td>A</td>\n",
       "      <td>507</td>\n",
       "    </tr>\n",
       "    <tr>\n",
       "      <td>3</td>\n",
       "      <td>2019-08-04</td>\n",
       "      <td>A</td>\n",
       "      <td>717</td>\n",
       "    </tr>\n",
       "    <tr>\n",
       "      <td>4</td>\n",
       "      <td>2019-08-05</td>\n",
       "      <td>A</td>\n",
       "      <td>756</td>\n",
       "    </tr>\n",
       "    <tr>\n",
       "      <td>...</td>\n",
       "      <td>...</td>\n",
       "      <td>...</td>\n",
       "      <td>...</td>\n",
       "    </tr>\n",
       "    <tr>\n",
       "      <td>57</td>\n",
       "      <td>2019-08-27</td>\n",
       "      <td>B</td>\n",
       "      <td>720</td>\n",
       "    </tr>\n",
       "    <tr>\n",
       "      <td>58</td>\n",
       "      <td>2019-08-28</td>\n",
       "      <td>B</td>\n",
       "      <td>654</td>\n",
       "    </tr>\n",
       "    <tr>\n",
       "      <td>59</td>\n",
       "      <td>2019-08-29</td>\n",
       "      <td>B</td>\n",
       "      <td>531</td>\n",
       "    </tr>\n",
       "    <tr>\n",
       "      <td>60</td>\n",
       "      <td>2019-08-30</td>\n",
       "      <td>B</td>\n",
       "      <td>490</td>\n",
       "    </tr>\n",
       "    <tr>\n",
       "      <td>61</td>\n",
       "      <td>2019-08-31</td>\n",
       "      <td>B</td>\n",
       "      <td>718</td>\n",
       "    </tr>\n",
       "  </tbody>\n",
       "</table>\n",
       "<p>62 rows × 3 columns</p>\n",
       "</div>"
      ],
      "text/plain": [
       "         date group  visitors\n",
       "0  2019-08-01     A       719\n",
       "1  2019-08-02     A       619\n",
       "2  2019-08-03     A       507\n",
       "3  2019-08-04     A       717\n",
       "4  2019-08-05     A       756\n",
       "..        ...   ...       ...\n",
       "57 2019-08-27     B       720\n",
       "58 2019-08-28     B       654\n",
       "59 2019-08-29     B       531\n",
       "60 2019-08-30     B       490\n",
       "61 2019-08-31     B       718\n",
       "\n",
       "[62 rows x 3 columns]"
      ]
     },
     "execution_count": 14,
     "metadata": {},
     "output_type": "execute_result"
    }
   ],
   "source": [
    "visitors['date'] = pd.to_datetime(visitors['date'])\n",
    "\n",
    "visitors"
   ]
  },
  {
   "cell_type": "markdown",
   "metadata": {},
   "source": [
    "В датасете нет дубликатов и пропусков. Дата приведена к формату datetime64"
   ]
  },
  {
   "cell_type": "markdown",
   "metadata": {},
   "source": [
    "Проверка наличия пользователей, попавших одновременно в обе группы"
   ]
  },
  {
   "cell_type": "code",
   "execution_count": 15,
   "metadata": {},
   "outputs": [
    {
     "data": {
      "text/plain": [
       "58"
      ]
     },
     "execution_count": 15,
     "metadata": {},
     "output_type": "execute_result"
    }
   ],
   "source": [
    "same_visitors = (set(orders[orders['group'] == 'A']['visitor_id']\n",
    "                    .unique()).intersection(orders[orders['group'] == 'B']['visitor_id'].unique()))\n",
    "len(same_visitors)"
   ]
  },
  {
   "cell_type": "code",
   "execution_count": 16,
   "metadata": {},
   "outputs": [],
   "source": [
    "# удаление повторяющхся пользователей из датасета orders\n",
    "orders = orders.query('visitor_id not in @same_visitors')"
   ]
  },
  {
   "cell_type": "markdown",
   "metadata": {},
   "source": [
    "58 пользователей попали в обе группы одновременно и были удалены из датасета"
   ]
  },
  {
   "cell_type": "markdown",
   "metadata": {},
   "source": [
    "[К оглавлению](#content)"
   ]
  },
  {
   "cell_type": "markdown",
   "metadata": {},
   "source": [
    "<a id = '2'></a>\n",
    "## Приоритизация гипотез"
   ]
  },
  {
   "cell_type": "markdown",
   "metadata": {},
   "source": [
    "<a id = '2-1'></a>\n",
    "### Фреймворк ICE для приоритизации гипотез"
   ]
  },
  {
   "cell_type": "code",
   "execution_count": 17,
   "metadata": {
    "scrolled": true
   },
   "outputs": [
    {
     "data": {
      "text/html": [
       "<div>\n",
       "<style scoped>\n",
       "    .dataframe tbody tr th:only-of-type {\n",
       "        vertical-align: middle;\n",
       "    }\n",
       "\n",
       "    .dataframe tbody tr th {\n",
       "        vertical-align: top;\n",
       "    }\n",
       "\n",
       "    .dataframe thead th {\n",
       "        text-align: right;\n",
       "    }\n",
       "</style>\n",
       "<table border=\"1\" class=\"dataframe\">\n",
       "  <thead>\n",
       "    <tr style=\"text-align: right;\">\n",
       "      <th></th>\n",
       "      <th>hypothesis</th>\n",
       "      <th>ICE</th>\n",
       "    </tr>\n",
       "  </thead>\n",
       "  <tbody>\n",
       "    <tr>\n",
       "      <td>8</td>\n",
       "      <td>Запустить акцию, дающую скидку на товар в день рождения</td>\n",
       "      <td>16.20</td>\n",
       "    </tr>\n",
       "    <tr>\n",
       "      <td>0</td>\n",
       "      <td>Добавить два новых канала привлечения трафика, что позволит привлекать на 30% больше пользователей</td>\n",
       "      <td>13.33</td>\n",
       "    </tr>\n",
       "    <tr>\n",
       "      <td>7</td>\n",
       "      <td>Добавить форму подписки на все основные страницы, чтобы собрать базу клиентов для email-рассылок</td>\n",
       "      <td>11.20</td>\n",
       "    </tr>\n",
       "    <tr>\n",
       "      <td>6</td>\n",
       "      <td>Показать на главной странице баннеры с актуальными акциями и распродажами, чтобы увеличить конверсию</td>\n",
       "      <td>8.00</td>\n",
       "    </tr>\n",
       "    <tr>\n",
       "      <td>2</td>\n",
       "      <td>Добавить блоки рекомендаций товаров на сайт интернет магазина, чтобы повысить конверсию и средний чек заказа</td>\n",
       "      <td>7.00</td>\n",
       "    </tr>\n",
       "    <tr>\n",
       "      <td>1</td>\n",
       "      <td>Запустить собственную службу доставки, что сократит срок доставки заказов</td>\n",
       "      <td>2.00</td>\n",
       "    </tr>\n",
       "    <tr>\n",
       "      <td>5</td>\n",
       "      <td>Добавить страницу отзывов клиентов о магазине, что позволит увеличить количество заказов</td>\n",
       "      <td>1.33</td>\n",
       "    </tr>\n",
       "    <tr>\n",
       "      <td>3</td>\n",
       "      <td>Изменить структура категорий, что увеличит конверсию, т.к. пользователи быстрее найдут нужный товар</td>\n",
       "      <td>1.12</td>\n",
       "    </tr>\n",
       "    <tr>\n",
       "      <td>4</td>\n",
       "      <td>Изменить цвет фона главной страницы, чтобы увеличить вовлеченность пользователей</td>\n",
       "      <td>1.00</td>\n",
       "    </tr>\n",
       "  </tbody>\n",
       "</table>\n",
       "</div>"
      ],
      "text/plain": [
       "                                                                                                     hypothesis  \\\n",
       "8                                                       Запустить акцию, дающую скидку на товар в день рождения   \n",
       "0            Добавить два новых канала привлечения трафика, что позволит привлекать на 30% больше пользователей   \n",
       "7              Добавить форму подписки на все основные страницы, чтобы собрать базу клиентов для email-рассылок   \n",
       "6          Показать на главной странице баннеры с актуальными акциями и распродажами, чтобы увеличить конверсию   \n",
       "2  Добавить блоки рекомендаций товаров на сайт интернет магазина, чтобы повысить конверсию и средний чек заказа   \n",
       "1                                     Запустить собственную службу доставки, что сократит срок доставки заказов   \n",
       "5                      Добавить страницу отзывов клиентов о магазине, что позволит увеличить количество заказов   \n",
       "3           Изменить структура категорий, что увеличит конверсию, т.к. пользователи быстрее найдут нужный товар   \n",
       "4                              Изменить цвет фона главной страницы, чтобы увеличить вовлеченность пользователей   \n",
       "\n",
       "     ICE  \n",
       "8  16.20  \n",
       "0  13.33  \n",
       "7  11.20  \n",
       "6   8.00  \n",
       "2   7.00  \n",
       "1   2.00  \n",
       "5   1.33  \n",
       "3   1.12  \n",
       "4   1.00  "
      ]
     },
     "metadata": {},
     "output_type": "display_data"
    }
   ],
   "source": [
    "hypothesis['ICE'] = (hypothesis['impact'] * hypothesis['confidence'] / hypothesis['efforts'])\n",
    "hypothesis['ICE'] = hypothesis['ICE'].round(2)\n",
    "display(hypothesis[['hypothesis', 'ICE']].sort_values(by='ICE', ascending=False))"
   ]
  },
  {
   "cell_type": "markdown",
   "metadata": {},
   "source": [
    "Наиболее перспективые гипотезы по ICE: 8, 0, 7, 6 и 2"
   ]
  },
  {
   "cell_type": "markdown",
   "metadata": {},
   "source": [
    "[К оглавлению](#content)"
   ]
  },
  {
   "cell_type": "markdown",
   "metadata": {},
   "source": [
    "<a id = '2-2'></a>\n",
    "### Фреймворк RICE для приоритизации гипотез"
   ]
  },
  {
   "cell_type": "code",
   "execution_count": 18,
   "metadata": {
    "scrolled": true
   },
   "outputs": [
    {
     "data": {
      "text/html": [
       "<div>\n",
       "<style scoped>\n",
       "    .dataframe tbody tr th:only-of-type {\n",
       "        vertical-align: middle;\n",
       "    }\n",
       "\n",
       "    .dataframe tbody tr th {\n",
       "        vertical-align: top;\n",
       "    }\n",
       "\n",
       "    .dataframe thead th {\n",
       "        text-align: right;\n",
       "    }\n",
       "</style>\n",
       "<table border=\"1\" class=\"dataframe\">\n",
       "  <thead>\n",
       "    <tr style=\"text-align: right;\">\n",
       "      <th></th>\n",
       "      <th>hypothesis</th>\n",
       "      <th>reach</th>\n",
       "      <th>RICE</th>\n",
       "    </tr>\n",
       "  </thead>\n",
       "  <tbody>\n",
       "    <tr>\n",
       "      <td>7</td>\n",
       "      <td>Добавить форму подписки на все основные страницы, чтобы собрать базу клиентов для email-рассылок</td>\n",
       "      <td>10</td>\n",
       "      <td>112.0</td>\n",
       "    </tr>\n",
       "    <tr>\n",
       "      <td>2</td>\n",
       "      <td>Добавить блоки рекомендаций товаров на сайт интернет магазина, чтобы повысить конверсию и средний чек заказа</td>\n",
       "      <td>8</td>\n",
       "      <td>56.0</td>\n",
       "    </tr>\n",
       "    <tr>\n",
       "      <td>0</td>\n",
       "      <td>Добавить два новых канала привлечения трафика, что позволит привлекать на 30% больше пользователей</td>\n",
       "      <td>3</td>\n",
       "      <td>40.0</td>\n",
       "    </tr>\n",
       "    <tr>\n",
       "      <td>6</td>\n",
       "      <td>Показать на главной странице баннеры с актуальными акциями и распродажами, чтобы увеличить конверсию</td>\n",
       "      <td>5</td>\n",
       "      <td>40.0</td>\n",
       "    </tr>\n",
       "    <tr>\n",
       "      <td>8</td>\n",
       "      <td>Запустить акцию, дающую скидку на товар в день рождения</td>\n",
       "      <td>1</td>\n",
       "      <td>16.2</td>\n",
       "    </tr>\n",
       "    <tr>\n",
       "      <td>3</td>\n",
       "      <td>Изменить структура категорий, что увеличит конверсию, т.к. пользователи быстрее найдут нужный товар</td>\n",
       "      <td>8</td>\n",
       "      <td>9.0</td>\n",
       "    </tr>\n",
       "    <tr>\n",
       "      <td>1</td>\n",
       "      <td>Запустить собственную службу доставки, что сократит срок доставки заказов</td>\n",
       "      <td>2</td>\n",
       "      <td>4.0</td>\n",
       "    </tr>\n",
       "    <tr>\n",
       "      <td>5</td>\n",
       "      <td>Добавить страницу отзывов клиентов о магазине, что позволит увеличить количество заказов</td>\n",
       "      <td>3</td>\n",
       "      <td>4.0</td>\n",
       "    </tr>\n",
       "    <tr>\n",
       "      <td>4</td>\n",
       "      <td>Изменить цвет фона главной страницы, чтобы увеличить вовлеченность пользователей</td>\n",
       "      <td>3</td>\n",
       "      <td>3.0</td>\n",
       "    </tr>\n",
       "  </tbody>\n",
       "</table>\n",
       "</div>"
      ],
      "text/plain": [
       "                                                                                                     hypothesis  \\\n",
       "7              Добавить форму подписки на все основные страницы, чтобы собрать базу клиентов для email-рассылок   \n",
       "2  Добавить блоки рекомендаций товаров на сайт интернет магазина, чтобы повысить конверсию и средний чек заказа   \n",
       "0            Добавить два новых канала привлечения трафика, что позволит привлекать на 30% больше пользователей   \n",
       "6          Показать на главной странице баннеры с актуальными акциями и распродажами, чтобы увеличить конверсию   \n",
       "8                                                       Запустить акцию, дающую скидку на товар в день рождения   \n",
       "3           Изменить структура категорий, что увеличит конверсию, т.к. пользователи быстрее найдут нужный товар   \n",
       "1                                     Запустить собственную службу доставки, что сократит срок доставки заказов   \n",
       "5                      Добавить страницу отзывов клиентов о магазине, что позволит увеличить количество заказов   \n",
       "4                              Изменить цвет фона главной страницы, чтобы увеличить вовлеченность пользователей   \n",
       "\n",
       "   reach   RICE  \n",
       "7     10  112.0  \n",
       "2      8   56.0  \n",
       "0      3   40.0  \n",
       "6      5   40.0  \n",
       "8      1   16.2  \n",
       "3      8    9.0  \n",
       "1      2    4.0  \n",
       "5      3    4.0  \n",
       "4      3    3.0  "
      ]
     },
     "metadata": {},
     "output_type": "display_data"
    }
   ],
   "source": [
    "hypothesis['RICE'] = hypothesis['impact'] * hypothesis['confidence'] * hypothesis['reach']/ hypothesis['efforts']\n",
    "\n",
    "display(hypothesis[['hypothesis', 'reach', 'RICE']].sort_values(by='RICE', ascending=False))"
   ]
  },
  {
   "cell_type": "markdown",
   "metadata": {},
   "source": [
    "[К оглавлению](#content)"
   ]
  },
  {
   "cell_type": "markdown",
   "metadata": {},
   "source": [
    "<a id = '2-3'></a>\n",
    "### Сводная таблица результатов"
   ]
  },
  {
   "cell_type": "code",
   "execution_count": 19,
   "metadata": {
    "scrolled": true
   },
   "outputs": [
    {
     "data": {
      "text/html": [
       "<style  type=\"text/css\" >\n",
       "    #T_cb2d0b36_7e95_11ec_8826_02420a3985fdrow0_col1 {\n",
       "            background-color:  #4caa4c;\n",
       "            color:  #000000;\n",
       "        }    #T_cb2d0b36_7e95_11ec_8826_02420a3985fdrow0_col2 {\n",
       "            background-color:  #008000;\n",
       "            color:  #f1f1f1;\n",
       "        }    #T_cb2d0b36_7e95_11ec_8826_02420a3985fdrow1_col1 {\n",
       "            background-color:  #8bcd8b;\n",
       "            color:  #000000;\n",
       "        }    #T_cb2d0b36_7e95_11ec_8826_02420a3985fdrow1_col2 {\n",
       "            background-color:  #76c176;\n",
       "            color:  #000000;\n",
       "        }    #T_cb2d0b36_7e95_11ec_8826_02420a3985fdrow2_col1 {\n",
       "            background-color:  #2b982b;\n",
       "            color:  #000000;\n",
       "        }    #T_cb2d0b36_7e95_11ec_8826_02420a3985fdrow2_col2 {\n",
       "            background-color:  #98d498;\n",
       "            color:  #000000;\n",
       "        }    #T_cb2d0b36_7e95_11ec_8826_02420a3985fdrow3_col1 {\n",
       "            background-color:  #7cc57c;\n",
       "            color:  #000000;\n",
       "        }    #T_cb2d0b36_7e95_11ec_8826_02420a3985fdrow3_col2 {\n",
       "            background-color:  #98d498;\n",
       "            color:  #000000;\n",
       "        }    #T_cb2d0b36_7e95_11ec_8826_02420a3985fdrow4_col1 {\n",
       "            background-color:  #008000;\n",
       "            color:  #f1f1f1;\n",
       "        }    #T_cb2d0b36_7e95_11ec_8826_02420a3985fdrow4_col2 {\n",
       "            background-color:  #caf0ca;\n",
       "            color:  #000000;\n",
       "        }    #T_cb2d0b36_7e95_11ec_8826_02420a3985fdrow5_col1 {\n",
       "            background-color:  #e4fee4;\n",
       "            color:  #000000;\n",
       "        }    #T_cb2d0b36_7e95_11ec_8826_02420a3985fdrow5_col2 {\n",
       "            background-color:  #d9f8d9;\n",
       "            color:  #000000;\n",
       "        }    #T_cb2d0b36_7e95_11ec_8826_02420a3985fdrow6_col1 {\n",
       "            background-color:  #d7f7d7;\n",
       "            color:  #000000;\n",
       "        }    #T_cb2d0b36_7e95_11ec_8826_02420a3985fdrow6_col2 {\n",
       "            background-color:  #e4fee4;\n",
       "            color:  #000000;\n",
       "        }    #T_cb2d0b36_7e95_11ec_8826_02420a3985fdrow7_col1 {\n",
       "            background-color:  #e1fde1;\n",
       "            color:  #000000;\n",
       "        }    #T_cb2d0b36_7e95_11ec_8826_02420a3985fdrow7_col2 {\n",
       "            background-color:  #e4fee4;\n",
       "            color:  #000000;\n",
       "        }    #T_cb2d0b36_7e95_11ec_8826_02420a3985fdrow8_col1 {\n",
       "            background-color:  #e5ffe5;\n",
       "            color:  #000000;\n",
       "        }    #T_cb2d0b36_7e95_11ec_8826_02420a3985fdrow8_col2 {\n",
       "            background-color:  #e5ffe5;\n",
       "            color:  #000000;\n",
       "        }</style><table id=\"T_cb2d0b36_7e95_11ec_8826_02420a3985fd\" ><thead>    <tr>        <th class=\"blank level0\" ></th>        <th class=\"col_heading level0 col0\" >hypothesis</th>        <th class=\"col_heading level0 col1\" >ICE</th>        <th class=\"col_heading level0 col2\" >RICE</th>    </tr></thead><tbody>\n",
       "                <tr>\n",
       "                        <th id=\"T_cb2d0b36_7e95_11ec_8826_02420a3985fdlevel0_row0\" class=\"row_heading level0 row0\" >7</th>\n",
       "                        <td id=\"T_cb2d0b36_7e95_11ec_8826_02420a3985fdrow0_col0\" class=\"data row0 col0\" >Добавить форму подписки на все основные страницы, чтобы собрать базу клиентов для email-рассылок</td>\n",
       "                        <td id=\"T_cb2d0b36_7e95_11ec_8826_02420a3985fdrow0_col1\" class=\"data row0 col1\" >11.2</td>\n",
       "                        <td id=\"T_cb2d0b36_7e95_11ec_8826_02420a3985fdrow0_col2\" class=\"data row0 col2\" >112</td>\n",
       "            </tr>\n",
       "            <tr>\n",
       "                        <th id=\"T_cb2d0b36_7e95_11ec_8826_02420a3985fdlevel0_row1\" class=\"row_heading level0 row1\" >2</th>\n",
       "                        <td id=\"T_cb2d0b36_7e95_11ec_8826_02420a3985fdrow1_col0\" class=\"data row1 col0\" >Добавить блоки рекомендаций товаров на сайт интернет магазина, чтобы повысить конверсию и средний чек заказа</td>\n",
       "                        <td id=\"T_cb2d0b36_7e95_11ec_8826_02420a3985fdrow1_col1\" class=\"data row1 col1\" >7</td>\n",
       "                        <td id=\"T_cb2d0b36_7e95_11ec_8826_02420a3985fdrow1_col2\" class=\"data row1 col2\" >56</td>\n",
       "            </tr>\n",
       "            <tr>\n",
       "                        <th id=\"T_cb2d0b36_7e95_11ec_8826_02420a3985fdlevel0_row2\" class=\"row_heading level0 row2\" >0</th>\n",
       "                        <td id=\"T_cb2d0b36_7e95_11ec_8826_02420a3985fdrow2_col0\" class=\"data row2 col0\" >Добавить два новых канала привлечения трафика, что позволит привлекать на 30% больше пользователей</td>\n",
       "                        <td id=\"T_cb2d0b36_7e95_11ec_8826_02420a3985fdrow2_col1\" class=\"data row2 col1\" >13.33</td>\n",
       "                        <td id=\"T_cb2d0b36_7e95_11ec_8826_02420a3985fdrow2_col2\" class=\"data row2 col2\" >40</td>\n",
       "            </tr>\n",
       "            <tr>\n",
       "                        <th id=\"T_cb2d0b36_7e95_11ec_8826_02420a3985fdlevel0_row3\" class=\"row_heading level0 row3\" >6</th>\n",
       "                        <td id=\"T_cb2d0b36_7e95_11ec_8826_02420a3985fdrow3_col0\" class=\"data row3 col0\" >Показать на главной странице баннеры с актуальными акциями и распродажами, чтобы увеличить конверсию</td>\n",
       "                        <td id=\"T_cb2d0b36_7e95_11ec_8826_02420a3985fdrow3_col1\" class=\"data row3 col1\" >8</td>\n",
       "                        <td id=\"T_cb2d0b36_7e95_11ec_8826_02420a3985fdrow3_col2\" class=\"data row3 col2\" >40</td>\n",
       "            </tr>\n",
       "            <tr>\n",
       "                        <th id=\"T_cb2d0b36_7e95_11ec_8826_02420a3985fdlevel0_row4\" class=\"row_heading level0 row4\" >8</th>\n",
       "                        <td id=\"T_cb2d0b36_7e95_11ec_8826_02420a3985fdrow4_col0\" class=\"data row4 col0\" >Запустить акцию, дающую скидку на товар в день рождения</td>\n",
       "                        <td id=\"T_cb2d0b36_7e95_11ec_8826_02420a3985fdrow4_col1\" class=\"data row4 col1\" >16.2</td>\n",
       "                        <td id=\"T_cb2d0b36_7e95_11ec_8826_02420a3985fdrow4_col2\" class=\"data row4 col2\" >16.2</td>\n",
       "            </tr>\n",
       "            <tr>\n",
       "                        <th id=\"T_cb2d0b36_7e95_11ec_8826_02420a3985fdlevel0_row5\" class=\"row_heading level0 row5\" >3</th>\n",
       "                        <td id=\"T_cb2d0b36_7e95_11ec_8826_02420a3985fdrow5_col0\" class=\"data row5 col0\" >Изменить структура категорий, что увеличит конверсию, т.к. пользователи быстрее найдут нужный товар</td>\n",
       "                        <td id=\"T_cb2d0b36_7e95_11ec_8826_02420a3985fdrow5_col1\" class=\"data row5 col1\" >1.12</td>\n",
       "                        <td id=\"T_cb2d0b36_7e95_11ec_8826_02420a3985fdrow5_col2\" class=\"data row5 col2\" >9</td>\n",
       "            </tr>\n",
       "            <tr>\n",
       "                        <th id=\"T_cb2d0b36_7e95_11ec_8826_02420a3985fdlevel0_row6\" class=\"row_heading level0 row6\" >1</th>\n",
       "                        <td id=\"T_cb2d0b36_7e95_11ec_8826_02420a3985fdrow6_col0\" class=\"data row6 col0\" >Запустить собственную службу доставки, что сократит срок доставки заказов</td>\n",
       "                        <td id=\"T_cb2d0b36_7e95_11ec_8826_02420a3985fdrow6_col1\" class=\"data row6 col1\" >2</td>\n",
       "                        <td id=\"T_cb2d0b36_7e95_11ec_8826_02420a3985fdrow6_col2\" class=\"data row6 col2\" >4</td>\n",
       "            </tr>\n",
       "            <tr>\n",
       "                        <th id=\"T_cb2d0b36_7e95_11ec_8826_02420a3985fdlevel0_row7\" class=\"row_heading level0 row7\" >5</th>\n",
       "                        <td id=\"T_cb2d0b36_7e95_11ec_8826_02420a3985fdrow7_col0\" class=\"data row7 col0\" >Добавить страницу отзывов клиентов о магазине, что позволит увеличить количество заказов</td>\n",
       "                        <td id=\"T_cb2d0b36_7e95_11ec_8826_02420a3985fdrow7_col1\" class=\"data row7 col1\" >1.33</td>\n",
       "                        <td id=\"T_cb2d0b36_7e95_11ec_8826_02420a3985fdrow7_col2\" class=\"data row7 col2\" >4</td>\n",
       "            </tr>\n",
       "            <tr>\n",
       "                        <th id=\"T_cb2d0b36_7e95_11ec_8826_02420a3985fdlevel0_row8\" class=\"row_heading level0 row8\" >4</th>\n",
       "                        <td id=\"T_cb2d0b36_7e95_11ec_8826_02420a3985fdrow8_col0\" class=\"data row8 col0\" >Изменить цвет фона главной страницы, чтобы увеличить вовлеченность пользователей</td>\n",
       "                        <td id=\"T_cb2d0b36_7e95_11ec_8826_02420a3985fdrow8_col1\" class=\"data row8 col1\" >1</td>\n",
       "                        <td id=\"T_cb2d0b36_7e95_11ec_8826_02420a3985fdrow8_col2\" class=\"data row8 col2\" >3</td>\n",
       "            </tr>\n",
       "    </tbody></table>"
      ],
      "text/plain": [
       "<pandas.io.formats.style.Styler at 0x7fe04e303290>"
      ]
     },
     "execution_count": 19,
     "metadata": {},
     "output_type": "execute_result"
    }
   ],
   "source": [
    "cm = sns.light_palette(\"green\", as_cmap=True)\n",
    "hypothesis[['hypothesis', 'ICE', 'RICE']].sort_values(by='RICE', ascending=False).style.background_gradient(cmap=cm)"
   ]
  },
  {
   "cell_type": "markdown",
   "metadata": {},
   "source": [
    "Наиболее перспективые гипотезы по RICE: <br>\n",
    "7я - \"Добавить форму подписки на все основные страницы, чтобы собрать базу клиентов для email-рассылок\",<br>\n",
    "2я - \"Добавить блоки рекомендаций товаров на сайт интернет магазина, чтобы повысить конверсию и средний чек заказа\",<br>\n",
    "0я - \"Добавить два новых канала привлечения трафика, что позволит привлекать на 30% больше пользователей\", <br>\n",
    "6я - \"Показать на главной странице баннеры с актуальными акциями и распродажами, чтобы увеличить конверсию\",<br>\n",
    "и 8я - \"Запустить акцию, дающую скидку на товар в день рождения\"<br>\n",
    "\n",
    "Песпективные гипотезы по RICE совпадают с перспективными гипотезами по ICE, но изменяется их порядок из-за влияния параметра reach"
   ]
  },
  {
   "cell_type": "markdown",
   "metadata": {},
   "source": [
    "[К оглавлению](#content)"
   ]
  },
  {
   "cell_type": "markdown",
   "metadata": {},
   "source": [
    "<a id = '3'></a>\n",
    "## Анализ A/B-теста"
   ]
  },
  {
   "cell_type": "markdown",
   "metadata": {},
   "source": [
    "<a id = '3-1'></a>\n",
    "### График кумулятивной выручки по группам"
   ]
  },
  {
   "cell_type": "code",
   "execution_count": 20,
   "metadata": {},
   "outputs": [
    {
     "data": {
      "image/png": "[encoded data removed]",
      "text/plain": [
       "<Figure size 1080x720 with 1 Axes>"
      ]
     },
     "metadata": {
      "needs_background": "light"
     },
     "output_type": "display_data"
    }
   ],
   "source": [
    "# подготовка данных\n",
    "datesGroups = orders[['date', 'group']].drop_duplicates()\n",
    "\n",
    "ordersAggregated = datesGroups.apply(\n",
    "    lambda x: orders[\n",
    "        np.logical_and(\n",
    "            orders['date'] <= x['date'], orders['group'] == x['group']\n",
    "        )\n",
    "    ].agg(\n",
    "        {\n",
    "            'date': 'max',\n",
    "            'group': 'max',\n",
    "            'transaction_id': 'nunique',\n",
    "            'visitor_id': 'nunique',\n",
    "            'revenue': 'sum',\n",
    "        }\n",
    "    ),\n",
    "    axis=1\n",
    ").sort_values(by=['date', 'group'])\n",
    "\n",
    "visitorsAggregated = datesGroups.apply(\n",
    "    lambda x: visitors[\n",
    "        np.logical_and(\n",
    "            visitors['date'] <= x['date'], visitors['group'] == x['group']\n",
    "        )\n",
    "    ].agg({'date': 'max', 'group': 'max', 'visitors': 'sum'}), axis=1\n",
    ").sort_values(by=['date', 'group'])\n",
    "\n",
    "cumulativeData = ordersAggregated.merge(\n",
    "    visitorsAggregated, left_on=['date', 'group'], right_on=['date', 'group']\n",
    ")\n",
    "cumulativeData.columns = [\n",
    "    'date',\n",
    "    'group',\n",
    "    'orders',\n",
    "    'buyers',\n",
    "    'revenue',\n",
    "    'visitors',\n",
    "]\n",
    "\n",
    "# датафрейм с кумулятивным количеством заказов и кумулятивной выручкой по дням в группе А\n",
    "cumulativeRevenueA = cumulativeData[cumulativeData['group']=='A'][['date','revenue', 'orders']]\n",
    "\n",
    "# датафрейм с кумулятивным количеством заказов и кумулятивной выручкой по дням в группе B\n",
    "cumulativeRevenueB = cumulativeData[cumulativeData['group']=='B'][['date','revenue', 'orders']]\n",
    "\n",
    "# Размер графика\n",
    "plt.figure(figsize=(15, 10)) \n",
    "\n",
    "# График выручки группы А\n",
    "plt.plot(cumulativeRevenueA['date'], cumulativeRevenueA['revenue'], label='A')\n",
    "\n",
    "# График выручки группы B\n",
    "\n",
    "plt.plot(cumulativeRevenueB['date'], cumulativeRevenueB['revenue'], label='B')\n",
    "plt.annotate('скачок', xy=('2019-08-17', 2800000), xytext=('2019-08-10', 3500000),\n",
    "            arrowprops=dict(facecolor='g'))\n",
    "plt.annotate('отрыв', xy=('2019-08-13', 1600000), xytext=('2019-08-08', 2020000),\n",
    "            arrowprops=dict(facecolor='g')) \n",
    "\n",
    "\n",
    "plt.title('Кумулятивная выручка по группам')\n",
    "plt.xlabel('Дата')\n",
    "plt.ylabel('Объем кумулятивной выручки')\n",
    "plt.legend() \n",
    "plt.show()"
   ]
  },
  {
   "cell_type": "markdown",
   "metadata": {},
   "source": [
    "В середине теста группа B скачкообразно вырвалась вперед и продолжала лидировать весь отстаток теста. Возможно, это произошло в результате сильного влияния выброса"
   ]
  },
  {
   "cell_type": "markdown",
   "metadata": {},
   "source": [
    "[К оглавлению](#content)"
   ]
  },
  {
   "cell_type": "markdown",
   "metadata": {},
   "source": [
    "<a id = '3-2'></a>\n",
    "### График кумулятивного среднего чека по группам"
   ]
  },
  {
   "cell_type": "code",
   "execution_count": 33,
   "metadata": {},
   "outputs": [
    {
     "data": {
      "image/png": "[encoded data removed]",
      "text/plain": [
       "<Figure size 1080x720 with 1 Axes>"
      ]
     },
     "metadata": {
      "needs_background": "light"
     },
     "output_type": "display_data"
    }
   ],
   "source": [
    "plt.figure(figsize=(15, 10)) \n",
    "plt.plot(cumulativeRevenueA['date'], cumulativeRevenueA['revenue']/cumulativeRevenueA['orders'], label='A')\n",
    "plt.plot(cumulativeRevenueB['date'], cumulativeRevenueB['revenue']/cumulativeRevenueB['orders'], label='B')\n",
    "plt.annotate('скачок', xy=('2019-08-17', 7300), xytext=('2019-08-10', 8300),\n",
    "            arrowprops=dict(facecolor='g'))\n",
    "\n",
    "plt.title('Кумулятивный средний чек по группам')\n",
    "plt.xlabel('Дата')\n",
    "plt.ylabel('Объем кумулятивного среднего чека')\n",
    "plt.legend()\n",
    "plt.show()"
   ]
  },
  {
   "cell_type": "markdown",
   "metadata": {},
   "source": [
    "Кумулятивное значение среднего чека по грруппам имеет сильные колебания. В середине теста в группе В наблюдается сильный скачок, на конец теста средний чек группы B сильно выше чем в группе А. Требуется дополнительный анализ выбросов"
   ]
  },
  {
   "cell_type": "markdown",
   "metadata": {},
   "source": [
    "[К оглавлению](#content)"
   ]
  },
  {
   "cell_type": "markdown",
   "metadata": {},
   "source": [
    "<a id = '3-3'></a>\n",
    "### График относительного изменения кумулятивного среднего чека группы B к группе A"
   ]
  },
  {
   "cell_type": "code",
   "execution_count": 35,
   "metadata": {},
   "outputs": [
    {
     "data": {
      "image/png": "[encoded data removed]",
      "text/plain": [
       "<Figure size 1080x720 with 1 Axes>"
      ]
     },
     "metadata": {
      "needs_background": "light"
     },
     "output_type": "display_data"
    }
   ],
   "source": [
    "# подготовка данных\n",
    "mergedCumulativeRevenue = cumulativeRevenueA.merge(cumulativeRevenueB, left_on='date', right_on='date', how='left', suffixes=['A', 'B'])\n",
    "\n",
    "# построение графика\n",
    "plt.figure(figsize=(15, 10)) \n",
    "plt.plot(mergedCumulativeRevenue['date'], (mergedCumulativeRevenue['revenueB']/mergedCumulativeRevenue['ordersB'])/(mergedCumulativeRevenue['revenueA']/mergedCumulativeRevenue['ordersA'])-1)\n",
    "plt.axhline(y=0, color='black', linestyle='--')\n",
    "\n",
    "plt.title('Относительное изменение кумулятивного среднего чека группы В к группе А')\n",
    "plt.xlabel('Дата')\n",
    "plt.ylabel('Относительное значение кумулятивного среднего чека')\n",
    "plt.show()"
   ]
  },
  {
   "cell_type": "markdown",
   "metadata": {},
   "source": [
    "Результаты теста значительно и резко менялись в несколько дат. Необходимо проверить датасет на наличие аномальных заказов "
   ]
  },
  {
   "cell_type": "markdown",
   "metadata": {},
   "source": [
    "[К оглавлению](#content)"
   ]
  },
  {
   "cell_type": "markdown",
   "metadata": {},
   "source": [
    "<a id = '3-4'></a>\n",
    "### График кумулятивной конверсии по группам"
   ]
  },
  {
   "cell_type": "code",
   "execution_count": 23,
   "metadata": {},
   "outputs": [
    {
     "data": {
      "image/png": "[encoded data removed]",
      "text/plain": [
       "<Figure size 1080x720 with 1 Axes>"
      ]
     },
     "metadata": {
      "needs_background": "light"
     },
     "output_type": "display_data"
    }
   ],
   "source": [
    "# расчет кумулятивной конверсии\n",
    "cumulativeData['conversion'] = cumulativeData['orders']/cumulativeData['visitors']\n",
    "\n",
    "# данные по группе A\n",
    "cumulativeDataA = cumulativeData[cumulativeData['group']=='A']\n",
    "\n",
    "# данные по группе B\n",
    "cumulativeDataB = cumulativeData[cumulativeData['group']=='B']\n",
    "\n",
    "# построение графика\n",
    "plt.figure(figsize=(15, 10)) \n",
    "plt.plot(cumulativeDataA['date'], cumulativeDataA['conversion'], label='A')\n",
    "plt.plot(cumulativeDataB['date'], cumulativeDataB['conversion'], label='B')\n",
    "plt.legend()\n",
    "\n",
    "plt.axis([\"2019-08-01\", '2019-09-01', 0.02, 0.04]) \n",
    "\n",
    "plt.title('Кумулятивная конверсия в группах')\n",
    "plt.xlabel('Дата')\n",
    "plt.ylabel('Кумулятивная конверсия')\n",
    "plt.show()"
   ]
  },
  {
   "cell_type": "markdown",
   "metadata": {},
   "source": [
    "На момент окончания тестирования конверсия группы B выше конверсии группы А. "
   ]
  },
  {
   "cell_type": "markdown",
   "metadata": {},
   "source": [
    "[К оглавлению](#content)"
   ]
  },
  {
   "cell_type": "markdown",
   "metadata": {},
   "source": [
    "<a id = '3-5'></a>\n",
    "### График относительного изменения кумулятивной конверсии группы B к группе A"
   ]
  },
  {
   "cell_type": "code",
   "execution_count": 24,
   "metadata": {},
   "outputs": [
    {
     "data": {
      "image/png": "[encoded data removed]",
      "text/plain": [
       "<Figure size 1080x720 with 1 Axes>"
      ]
     },
     "metadata": {
      "needs_background": "light"
     },
     "output_type": "display_data"
    }
   ],
   "source": [
    "mergedCumulativeConversions = cumulativeDataA[['date','conversion']].merge(cumulativeDataB[['date','conversion']], left_on='date', right_on='date', how='left', suffixes=['A', 'B'])\n",
    "\n",
    "plt.figure(figsize=(15, 10))\n",
    "plt.plot(mergedCumulativeConversions['date'], mergedCumulativeConversions['conversionB']/mergedCumulativeConversions['conversionA']-1)\n",
    "\n",
    "plt.axhline(y=0, color='black', linestyle='--')\n",
    "plt.axhline(y=0.15, color='grey', linestyle='--')\n",
    "plt.axis([\"2019-08-01\", '2019-09-01', -0.3, 0.3])\n",
    "\n",
    "plt.title('Относительный прирост конверсии группы B относительно группы A')\n",
    "plt.xlabel('Дата')\n",
    "plt.ylabel('Относительное значение конверсии')\n",
    "plt.show()"
   ]
  },
  {
   "cell_type": "markdown",
   "metadata": {},
   "source": [
    "Почти с самого начала теста, группа В лидирует по конверсии. На момент окончания теста, прирост конверсии в группе В около 15% относительно группы А"
   ]
  },
  {
   "cell_type": "markdown",
   "metadata": {},
   "source": [
    "[К оглавлению](#content)"
   ]
  },
  {
   "cell_type": "markdown",
   "metadata": {},
   "source": [
    "<a id = '3-6'></a>\n",
    "### График распределения количества заказов по пользователям"
   ]
  },
  {
   "cell_type": "code",
   "execution_count": 25,
   "metadata": {},
   "outputs": [
    {
     "data": {
      "image/png": "[encoded data removed]",
      "text/plain": [
       "<Figure size 1080x720 with 1 Axes>"
      ]
     },
     "metadata": {
      "needs_background": "light"
     },
     "output_type": "display_data"
    }
   ],
   "source": [
    "ordersByUsers = (\n",
    "    orders.groupby('visitor_id', as_index=False)\n",
    "    .agg({'transaction_id': pd.Series.nunique})\n",
    ")\n",
    "\n",
    "ordersByUsers.columns = ['userId', 'orders']\n",
    "\n",
    "# построение графика\n",
    "plt.figure(figsize=(15, 10))\n",
    "x_values = pd.Series(range(0,len(ordersByUsers)))\n",
    "plt.scatter(x_values, ordersByUsers['orders']) \n",
    "\n",
    "plt.title('Количество заказов среди пользователей')\n",
    "plt.xlabel('Номер пользователя')\n",
    "plt.ylabel('Количество заказов')\n",
    "plt.show()"
   ]
  },
  {
   "cell_type": "markdown",
   "metadata": {},
   "source": [
    "Пользователей, сделавших больше одного заказа, мало. Это могут быть аномалии"
   ]
  },
  {
   "cell_type": "markdown",
   "metadata": {},
   "source": [
    "[К оглавлению](#content)"
   ]
  },
  {
   "cell_type": "markdown",
   "metadata": {},
   "source": [
    "<a id = '3-7'></a>\n",
    "### 95-й и 99-й перцентили количества заказов на пользователя"
   ]
  },
  {
   "cell_type": "code",
   "execution_count": 26,
   "metadata": {},
   "outputs": [
    {
     "name": "stdout",
     "output_type": "stream",
     "text": [
      "[1. 2.]\n"
     ]
    }
   ],
   "source": [
    "print(np.percentile(ordersByUsers['orders'], [95, 99]))"
   ]
  },
  {
   "cell_type": "markdown",
   "metadata": {},
   "source": [
    "Не более 5% совершали больше 1х заказа и не более 1% пользователей больше 2"
   ]
  },
  {
   "cell_type": "markdown",
   "metadata": {},
   "source": [
    "[К оглавлению](#content)"
   ]
  },
  {
   "cell_type": "markdown",
   "metadata": {},
   "source": [
    "<a id = '3-8'></a>\n",
    "### График распределения стоимостей заказов"
   ]
  },
  {
   "cell_type": "code",
   "execution_count": 27,
   "metadata": {},
   "outputs": [
    {
     "data": {
      "image/png": "[encoded data removed]",
      "text/plain": [
       "<Figure size 1080x720 with 1 Axes>"
      ]
     },
     "metadata": {
      "needs_background": "light"
     },
     "output_type": "display_data"
    }
   ],
   "source": [
    "plt.figure(figsize=(15, 10))\n",
    "x_values = pd.Series(range(0, len(orders['revenue'])))\n",
    "plt.scatter(x_values, orders['revenue']) \n",
    "\n",
    "plt.title('Стоимость заказов среди пользователей')\n",
    "plt.xlabel('Номер пользователя')\n",
    "plt.ylabel('Стоимость заказа')\n",
    "plt.show()"
   ]
  },
  {
   "cell_type": "markdown",
   "metadata": {},
   "source": [
    "Есть выброс, который мог сильно исказить результат"
   ]
  },
  {
   "cell_type": "markdown",
   "metadata": {},
   "source": [
    "[К оглавлению](#content)"
   ]
  },
  {
   "cell_type": "markdown",
   "metadata": {},
   "source": [
    "<a id = '3-9'></a>\n",
    "### 95-й и 99-й перцентили стоимости заказов"
   ]
  },
  {
   "cell_type": "code",
   "execution_count": 28,
   "metadata": {},
   "outputs": [
    {
     "name": "stdout",
     "output_type": "stream",
     "text": [
      "[26785. 53904.]\n"
     ]
    }
   ],
   "source": [
    "print(np.percentile(orders['revenue'], [95, 99]))"
   ]
  },
  {
   "cell_type": "markdown",
   "metadata": {},
   "source": [
    "Не более чем у 5% заказов чек дороже 26785. И не более чем у 1% пользователей чек дороже 58904"
   ]
  },
  {
   "cell_type": "markdown",
   "metadata": {},
   "source": [
    "[К оглавлению](#content)"
   ]
  },
  {
   "cell_type": "markdown",
   "metadata": {},
   "source": [
    "<a id = '3-11'></a>\n",
    "### Проверка статистической значимости различий в конверсии между группами по неотфильтрованным данным"
   ]
  },
  {
   "cell_type": "markdown",
   "metadata": {},
   "source": [
    "Проверка, существует ли статистически значимая разница между конверсиями в группах А и В <br>\n",
    "1. <u>Нулевая гипотеза:</u> не существует статистически значимой разницы между конверсиями в группах А и В <br>\n",
    "2. <u>Альтернативная гипотеза:</u> существует статистически значимая разница между конверсиями в группах А и В <br>\n"
   ]
  },
  {
   "cell_type": "code",
   "execution_count": 29,
   "metadata": {},
   "outputs": [
    {
     "name": "stdout",
     "output_type": "stream",
     "text": [
      "p-value: 0.01102\n",
      "Относительный прирост конверсии: 0.160\n"
     ]
    }
   ],
   "source": [
    "visitorsADaily = visitors[visitors['group'] == 'A'][['date', 'visitors']]\n",
    "visitorsADaily.columns = ['date', 'visitorsPerDateA']\n",
    "\n",
    "visitorsACummulative = visitorsADaily.apply(\n",
    "    lambda x: visitorsADaily[visitorsADaily['date'] <= x['date']].agg(\n",
    "        {'date': 'max', 'visitorsPerDateA': 'sum'}\n",
    "    ),\n",
    "    axis=1,\n",
    ")\n",
    "visitorsACummulative.columns = ['date', 'visitorsCummulativeA']\n",
    "\n",
    "visitorsBDaily = visitors[visitors['group'] == 'B'][['date', 'visitors']]\n",
    "visitorsBDaily.columns = ['date', 'visitorsPerDateB']\n",
    "\n",
    "visitorsBCummulative = visitorsBDaily.apply(\n",
    "    lambda x: visitorsBDaily[visitorsBDaily['date'] <= x['date']].agg(\n",
    "        {'date': 'max', 'visitorsPerDateB': 'sum'}\n",
    "    ),\n",
    "    axis=1,\n",
    ")\n",
    "visitorsBCummulative.columns = ['date', 'visitorsCummulativeB']\n",
    "\n",
    "ordersADaily = (\n",
    "    orders[orders['group'] == 'A'][['date', 'transaction_id', 'visitor_id', 'revenue']]\n",
    "    .groupby('date', as_index=False)\n",
    "    .agg({'transaction_id': pd.Series.nunique, 'revenue': 'sum'})\n",
    ")\n",
    "ordersADaily.columns = ['date', 'ordersPerDateA', 'revenuePerDateA']\n",
    "\n",
    "ordersACummulative = ordersADaily.apply(\n",
    "    lambda x: ordersADaily[ordersADaily['date'] <= x['date']].agg(\n",
    "        {'date': 'max', 'ordersPerDateA': 'sum', 'revenuePerDateA': 'sum'}\n",
    "    ),\n",
    "    axis=1,\n",
    ").sort_values(by=['date'])\n",
    "ordersACummulative.columns = [\n",
    "    'date',\n",
    "    'ordersCummulativeA',\n",
    "    'revenueCummulativeA',\n",
    "]\n",
    "\n",
    "ordersBDaily = (\n",
    "    orders[orders['group'] == 'B'][['date', 'transaction_id', 'visitor_id', 'revenue']]\n",
    "    .groupby('date', as_index=False)\n",
    "    .agg({'transaction_id': pd.Series.nunique, 'revenue': 'sum'})\n",
    ")\n",
    "ordersBDaily.columns = ['date', 'ordersPerDateB', 'revenuePerDateB']\n",
    "\n",
    "ordersBCummulative = ordersBDaily.apply(\n",
    "    lambda x: ordersBDaily[ordersBDaily['date'] <= x['date']].agg(\n",
    "        {'date': 'max', 'ordersPerDateB': 'sum', 'revenuePerDateB': 'sum'}\n",
    "    ),\n",
    "    axis=1,\n",
    ").sort_values(by=['date'])\n",
    "ordersBCummulative.columns = [\n",
    "    'date',\n",
    "    'ordersCummulativeB',\n",
    "    'revenueCummulativeB',\n",
    "]\n",
    "\n",
    "data = (\n",
    "    ordersADaily.merge(\n",
    "        ordersBDaily, left_on='date', right_on='date', how='left'\n",
    "    )\n",
    "    .merge(ordersACummulative, left_on='date', right_on='date', how='left')\n",
    "    .merge(ordersBCummulative, left_on='date', right_on='date', how='left')\n",
    "    .merge(visitorsADaily, left_on='date', right_on='date', how='left')\n",
    "    .merge(visitorsBDaily, left_on='date', right_on='date', how='left')\n",
    "    .merge(visitorsACummulative, left_on='date', right_on='date', how='left')\n",
    "    .merge(visitorsBCummulative, left_on='date', right_on='date', how='left')\n",
    ")\n",
    "\n",
    "ordersByUsersA = (\n",
    "    orders[orders['group'] == 'A']\n",
    "    .groupby('visitor_id', as_index=False)\n",
    "    .agg({'transaction_id': pd.Series.nunique})\n",
    ")\n",
    "ordersByUsersA.columns = ['userId', 'orders']\n",
    "\n",
    "ordersByUsersB = (\n",
    "    orders[orders['group'] == 'B']\n",
    "    .groupby('visitor_id', as_index=False)\n",
    "    .agg({'transaction_id': pd.Series.nunique})\n",
    ")\n",
    "ordersByUsersB.columns = ['userId', 'orders']\n",
    "\n",
    "pd.Series(0, index=np.arange(data['visitorsPerDateA'].sum() - len(ordersByUsersA['orders'])), name='orders')\n",
    "[ordersByUsersA['orders'],pd.Series(0, index=np.arange(data['visitorsPerDateA'].sum() - len(ordersByUsersA['orders'])), name='orders')]\n",
    "\n",
    "sampleA = pd.concat([ordersByUsersA['orders'],pd.Series(0, index=np.arange(data['visitorsPerDateA'].sum() - len(ordersByUsersA['orders'])), name='orders')],axis=0)\n",
    "\n",
    "sampleB = pd.concat([ordersByUsersB['orders'],pd.Series(0, index=np.arange(data['visitorsPerDateB'].sum() - len(ordersByUsersB['orders'])), name='orders')],axis=0)\n",
    "\n",
    "ordersByUsersA = (\n",
    "    orders[orders['group'] == 'A']\n",
    "    .groupby('visitor_id', as_index=False)\n",
    "    .agg({'transaction_id': pd.Series.nunique})\n",
    ")\n",
    "ordersByUsersA.columns = ['userId', 'orders']\n",
    "\n",
    "ordersByUsersB = (\n",
    "    orders[orders['group'] == 'B']\n",
    "    .groupby('visitor_id', as_index=False)\n",
    "    .agg({'transaction_id': pd.Series.nunique})\n",
    ")\n",
    "ordersByUsersB.columns = ['userId', 'orders']\n",
    "\n",
    "sampleA = pd.concat(\n",
    "    [\n",
    "        ordersByUsersA['orders'],\n",
    "        pd.Series(\n",
    "            0,\n",
    "            index=np.arange(\n",
    "                data['visitorsPerDateA'].sum() - len(ordersByUsersA['orders'])\n",
    "            ),\n",
    "            name='orders',\n",
    "        ),\n",
    "    ],\n",
    "    axis=0,\n",
    ")\n",
    "\n",
    "sampleB = pd.concat(\n",
    "    [\n",
    "        ordersByUsersB['orders'],\n",
    "        pd.Series(\n",
    "            0,\n",
    "            index=np.arange(\n",
    "                data['visitorsPerDateB'].sum() - len(ordersByUsersB['orders'])\n",
    "            ),\n",
    "            name='orders',\n",
    "        ),\n",
    "    ],\n",
    "    axis=0,\n",
    ")\n",
    "\n",
    "print('p-value: '\"{0:.5f}\".format(stats.mannwhitneyu(sampleA, sampleB, alternative = 'two-sided')[1]))\n",
    "\n",
    "print('Относительный прирост конверсии: '\"{0:.3f}\".format((data['ordersPerDateB'].sum()/data['visitorsPerDateB'].sum())/(data['ordersPerDateA'].sum()/data['visitorsPerDateA'].sum())-1))"
   ]
  },
  {
   "cell_type": "markdown",
   "metadata": {},
   "source": [
    "p-value меньше 0.05, поэтому нулевую гипотезу отвергаем: в конверсиях между группами есть статистически значимые различия. \n",
    "<br>\n",
    "Относительный прирост конверсии группы В относительно конверсии группы А равен 16.0% "
   ]
  },
  {
   "cell_type": "markdown",
   "metadata": {},
   "source": [
    "[К оглавлению](#content)"
   ]
  },
  {
   "cell_type": "markdown",
   "metadata": {},
   "source": [
    "<a id = '3-12'></a>\n",
    "### Проверка статистической значимости различий в среднем чеке заказа между группами по неотфильтрованным данным"
   ]
  },
  {
   "cell_type": "markdown",
   "metadata": {},
   "source": [
    "Проверка, существует ли статистически значимая разница между средними чеками в группах А и В <br>\n",
    "1. <u>Нулевая гипотеза:</u> не существует статистически значимой разницы между средними чеками в группах А и В <br>\n",
    "2. <u>Альтернативная гипотеза:</u> существует статистически значимая разница между средними чеками в группах А и В <br>"
   ]
  },
  {
   "cell_type": "code",
   "execution_count": 30,
   "metadata": {
    "scrolled": true
   },
   "outputs": [
    {
     "name": "stdout",
     "output_type": "stream",
     "text": [
      "p-value: 0.829\n",
      "Относительный прирост среднего чека: 0.287\n"
     ]
    }
   ],
   "source": [
    "ordersByUsersA = (\n",
    "    orders[orders['group'] == 'A']\n",
    "    .groupby('transaction_id', as_index=False)\n",
    "    .agg({'visitor_id': pd.Series.nunique})\n",
    ")\n",
    "ordersByUsersA.columns = ['userId', 'orders']\n",
    "\n",
    "ordersByUsersB = (\n",
    "    orders[orders['group'] == 'B']\n",
    "    .groupby('transaction_id', as_index=False)\n",
    "    .agg({'visitor_id': pd.Series.nunique})\n",
    ")\n",
    "ordersByUsersB.columns = ['userId', 'orders']\n",
    "\n",
    "pd.Series(0, index=np.arange(data['visitorsPerDateA'].sum() - len(ordersByUsersA['orders'])), name='orders')\n",
    "\n",
    "[ordersByUsersA['orders'],pd.Series(0, index=np.arange(data['visitorsPerDateA'].sum() - len(ordersByUsersA['orders'])), name='orders')]\n",
    "\n",
    "sampleA = pd.concat([ordersByUsersA['orders'],pd.Series(0, index=np.arange(data['visitorsPerDateA'].sum() - len(ordersByUsersA['orders'])), name='orders')],axis=0)\n",
    "\n",
    "sampleB = pd.concat([ordersByUsersB['orders'],pd.Series(0, index=np.arange(data['visitorsPerDateB'].sum() - len(ordersByUsersB['orders'])), name='orders')],axis=0)\n",
    "\n",
    "print('p-value: ''{0:.3f}'.format(stats.mannwhitneyu(orders[orders['group']=='A']['revenue'], orders[orders['group']=='B']['revenue'], alternative = 'two-sided')[1]))\n",
    "print('Относительный прирост среднего чека: ''{0:.3f}'.format(orders[orders['group']=='B']['revenue'].mean()/orders[orders['group']=='A']['revenue'].mean()-1))"
   ]
  },
  {
   "cell_type": "markdown",
   "metadata": {},
   "source": [
    "p-value больше 0.05, поэтому нулевую гипотезу принимаем: в среднем чеке заказа между группам нет статистически значимых различий. Не смотря на то, что относительное различие среднего чека между группами 28,7%. <br>Возможно, столь большое различие появилось из-за аномальных заказов"
   ]
  },
  {
   "cell_type": "markdown",
   "metadata": {},
   "source": [
    "[К оглавлению](#content)"
   ]
  },
  {
   "cell_type": "markdown",
   "metadata": {},
   "source": [
    "<a id = '3-13'></a>\n",
    "### Проверка статистической значимости различий в конверсии между группами по отфильтрованным данным"
   ]
  },
  {
   "cell_type": "markdown",
   "metadata": {},
   "source": [
    "Проверка, существует ли статистически значимая разница между конверсиями в группах А и В после фильтрации данных<br><br>\n",
    "1. <u>Нулевая гипотеза:</u> не существует статистически значимой разницы между конверсиями в группах А и В <br>\n",
    "2. <u>Альтернативная гипотеза:</u> существует статистически значимая разница между конверсиями в группах А и В <br>"
   ]
  },
  {
   "cell_type": "markdown",
   "metadata": {},
   "source": [
    "Будут отфильтрованы пользователи:<br>\n",
    " - кто сделал 2 заказа и больше<br>\n",
    " - чей средний чек больше 40000 "
   ]
  },
  {
   "cell_type": "code",
   "execution_count": 31,
   "metadata": {
    "scrolled": true
   },
   "outputs": [
    {
     "name": "stdout",
     "output_type": "stream",
     "text": [
      "0.00575\n",
      "0.198\n"
     ]
    }
   ],
   "source": [
    "visitorsADaily = visitors[visitors['group'] == 'A'][['date', 'visitors']]\n",
    "visitorsADaily.columns = ['date', 'visitorsPerDateA']\n",
    "\n",
    "visitorsACummulative = visitorsADaily.apply(\n",
    "    lambda x: visitorsADaily[visitorsADaily['date'] <= x['date']].agg(\n",
    "        {'date': 'max', 'visitorsPerDateA': 'sum'}\n",
    "    ),\n",
    "    axis=1,\n",
    ")\n",
    "visitorsACummulative.columns = ['date', 'visitorsCummulativeA']\n",
    "\n",
    "visitorsBDaily = visitors[visitors['group'] == 'B'][['date', 'visitors']]\n",
    "visitorsBDaily.columns = ['date', 'visitorsPerDateB']\n",
    "\n",
    "visitorsBCummulative = visitorsBDaily.apply(\n",
    "    lambda x: visitorsBDaily[visitorsBDaily['date'] <= x['date']].agg(\n",
    "        {'date': 'max', 'visitorsPerDateB': 'sum'}\n",
    "    ),\n",
    "    axis=1,\n",
    ")\n",
    "visitorsBCummulative.columns = ['date', 'visitorsCummulativeB']\n",
    "\n",
    "ordersADaily = (\n",
    "    orders[orders['group'] == 'A'][['date', 'transaction_id', 'visitor_id', 'revenue']]\n",
    "    .groupby('date', as_index=False)\n",
    "    .agg({'transaction_id': pd.Series.nunique, 'revenue': 'sum'})\n",
    ")\n",
    "ordersADaily.columns = ['date', 'ordersPerDateA', 'revenuePerDateA']\n",
    "\n",
    "ordersACummulative = ordersADaily.apply(\n",
    "    lambda x: ordersADaily[ordersADaily['date'] <= x['date']].agg(\n",
    "        {'date': 'max', 'ordersPerDateA': 'sum', 'revenuePerDateA': 'sum'}\n",
    "    ),\n",
    "    axis=1,\n",
    ").sort_values(by=['date'])\n",
    "ordersACummulative.columns = [\n",
    "    'date',\n",
    "    'ordersCummulativeA',\n",
    "    'revenueCummulativeA',\n",
    "]\n",
    "\n",
    "ordersBDaily = (\n",
    "    orders[orders['group'] == 'B'][['date', 'transaction_id', 'visitor_id', 'revenue']]\n",
    "    .groupby('date', as_index=False)\n",
    "    .agg({'transaction_id': pd.Series.nunique, 'revenue': 'sum'})\n",
    ")\n",
    "ordersBDaily.columns = ['date', 'ordersPerDateB', 'revenuePerDateB']\n",
    "\n",
    "ordersBCummulative = ordersBDaily.apply(\n",
    "    lambda x: ordersBDaily[ordersBDaily['date'] <= x['date']].agg(\n",
    "        {'date': 'max', 'ordersPerDateB': 'sum', 'revenuePerDateB': 'sum'}\n",
    "    ),\n",
    "    axis=1,\n",
    ").sort_values(by=['date'])\n",
    "ordersBCummulative.columns = [\n",
    "    'date',\n",
    "    'ordersCummulativeB',\n",
    "    'revenueCummulativeB',\n",
    "]\n",
    "\n",
    "data = (\n",
    "    ordersADaily.merge(\n",
    "        ordersBDaily, left_on='date', right_on='date', how='left'\n",
    "    )\n",
    "    .merge(ordersACummulative, left_on='date', right_on='date', how='left')\n",
    "    .merge(ordersBCummulative, left_on='date', right_on='date', how='left')\n",
    "    .merge(visitorsADaily, left_on='date', right_on='date', how='left')\n",
    "    .merge(visitorsBDaily, left_on='date', right_on='date', how='left')\n",
    "    .merge(visitorsACummulative, left_on='date', right_on='date', how='left')\n",
    "    .merge(visitorsBCummulative, left_on='date', right_on='date', how='left')\n",
    ")\n",
    "\n",
    "ordersByUsersA = (\n",
    "    orders[orders['group'] == 'A']\n",
    "    .groupby('visitor_id', as_index=False)\n",
    "    .agg({'transaction_id': pd.Series.nunique})\n",
    ")\n",
    "ordersByUsersA.columns = ['userId', 'orders']\n",
    "\n",
    "ordersByUsersB = (\n",
    "    orders[orders['group'] == 'B']\n",
    "    .groupby('visitor_id', as_index=False)\n",
    "    .agg({'transaction_id': pd.Series.nunique})\n",
    ")\n",
    "ordersByUsersB.columns = ['userId', 'orders']\n",
    "\n",
    "\n",
    "usersWithManyOrders = pd.concat(\n",
    "    [\n",
    "        ordersByUsersA[ordersByUsersA['orders'] > 1]['userId'],\n",
    "        ordersByUsersB[ordersByUsersB['orders'] > 1]['userId'],\n",
    "    ],\n",
    "    axis=0,\n",
    ")\n",
    "usersWithExpensiveOrders = orders[orders['revenue'] > 40000]['visitor_id']\n",
    "abnormalUsers = (\n",
    "    pd.concat([usersWithManyOrders, usersWithExpensiveOrders], axis=0)\n",
    "    .drop_duplicates()\n",
    "    .sort_values()\n",
    ")\n",
    "\n",
    "sampleAFiltered = pd.concat(\n",
    "    [\n",
    "        ordersByUsersA[\n",
    "            np.logical_not(ordersByUsersA['userId'].isin(abnormalUsers))\n",
    "        ]['orders'],\n",
    "        pd.Series(\n",
    "            0,\n",
    "            index=np.arange(\n",
    "                data['visitorsPerDateA'].sum() - len(ordersByUsersA['orders'])\n",
    "            ),\n",
    "            name='orders',\n",
    "        ),\n",
    "    ],\n",
    "    axis=0,\n",
    ")\n",
    "\n",
    "sampleBFiltered = pd.concat(\n",
    "    [\n",
    "        ordersByUsersB[\n",
    "            np.logical_not(ordersByUsersB['userId'].isin(abnormalUsers))\n",
    "        ]['orders'],\n",
    "        pd.Series(\n",
    "            0,\n",
    "            index=np.arange(\n",
    "                data['visitorsPerDateB'].sum() - len(ordersByUsersB['orders'])\n",
    "            ),\n",
    "            name='orders',\n",
    "        ),\n",
    "    ],\n",
    "    axis=0,\n",
    ")\n",
    "\n",
    "print('{0:.5f}'.format(stats.mannwhitneyu(sampleAFiltered, sampleBFiltered, alternative = 'two-sided')[1]))\n",
    "print('{0:.3f}'.format(sampleBFiltered.mean()/sampleAFiltered.mean()-1))"
   ]
  },
  {
   "cell_type": "markdown",
   "metadata": {},
   "source": [
    "p-value меньше 0.05, нулевую гипотезу отвергаем: в конверсиях между группами существует статистическая разница\n",
    "<br>\n",
    "Относительный прирост конверсии группы В относительно конверсии группы А равен 19.8%"
   ]
  },
  {
   "cell_type": "markdown",
   "metadata": {},
   "source": [
    "[К оглавлению](#content)"
   ]
  },
  {
   "cell_type": "markdown",
   "metadata": {},
   "source": [
    "<a id = '3-14'></a>\n",
    "### Проверка статистической значимости различий в среднем чеке заказа между группами по отфильтрованным данным"
   ]
  },
  {
   "cell_type": "markdown",
   "metadata": {},
   "source": [
    "Проверка, существует ли статистически значимая разница между средними чеками в группах А и В после фильтрации данных<br>\n",
    "1. <u>Нулевая гипотеза:</u> не существует статистически значимой разницы между средними чеками в группах А и В <br>\n",
    "2. <u>Альтернативная гипотеза:</u> существует статистически значимая разница между средними чеками в группах А и В <br>"
   ]
  },
  {
   "cell_type": "code",
   "execution_count": 32,
   "metadata": {},
   "outputs": [
    {
     "name": "stdout",
     "output_type": "stream",
     "text": [
      "p-value: 0.837\n",
      "Относительный прирост среднего чека: 0.076\n"
     ]
    }
   ],
   "source": [
    "print('p-value: '\n",
    "    '{0:.3f}'.format(\n",
    "        stats.mannwhitneyu(\n",
    "            orders[\n",
    "                np.logical_and(\n",
    "                    orders['group'] == 'A',\n",
    "                    np.logical_not(orders['visitor_id'].isin(abnormalUsers)),\n",
    "                )\n",
    "            ]['revenue'],\n",
    "            orders[\n",
    "                np.logical_and(\n",
    "                    orders['group'] == 'B',\n",
    "                    np.logical_not(orders['visitor_id'].isin(abnormalUsers)),\n",
    "                )\n",
    "            ]['revenue'], alternative = 'two-sided'\n",
    "        )[1]\n",
    "    )\n",
    ")\n",
    "\n",
    "print('Относительный прирост среднего чека: '\n",
    "    \"{0:.3f}\".format(\n",
    "        orders[\n",
    "            np.logical_and(\n",
    "                orders['group'] == 'B',\n",
    "                np.logical_not(orders['visitor_id'].isin(abnormalUsers)),\n",
    "            )\n",
    "        ]['revenue'].mean()\n",
    "        / orders[\n",
    "            np.logical_and(\n",
    "                orders['group'] == 'A',\n",
    "                np.logical_not(orders['visitor_id'].isin(abnormalUsers)),\n",
    "            )\n",
    "        ]['revenue'].mean()\n",
    "        - 1\n",
    "    )\n",
    ")\n"
   ]
  },
  {
   "cell_type": "markdown",
   "metadata": {},
   "source": [
    "p-value больше 0.05, поэтому нулевую гипотезу принимаем: в среднем чеке заказа между группам нет статистически значимых различий. Результат совпадает с неотфильтрованными данными<br> В отфильтрованных данных разница между чеками 7.6%, что значительно ниже, чем в неотфильтрованных данных (28,7%)\n",
    "\n"
   ]
  },
  {
   "cell_type": "markdown",
   "metadata": {},
   "source": [
    "[К оглавлению](#content)"
   ]
  },
  {
   "cell_type": "markdown",
   "metadata": {},
   "source": [
    "<a id = '4'></a>\n",
    "## Вывод"
   ]
  },
  {
   "cell_type": "markdown",
   "metadata": {},
   "source": [
    "Была проведена предобработка данных, в результате которой были удалены пользователи, которые одновременно присутствовали в обеих группах.<br>  \n",
    "Наиболее перспективые гипотезы по фреймворку RICE: <br>\n",
    "7я - \"Добавить форму подписки на все основные страницы, чтобы собрать базу клиентов для email-рассылок\",<br>\n",
    "2я - \"Добавить блоки рекомендаций товаров на сайт интернет магазина, чтобы повысить конверсию и средний чек заказа\",<br>\n",
    "0я - \"Добавить два новых канала привлечения трафика, что позволит привлекать на 30% больше пользователей\", <br>\n",
    "6я - \"Показать на главной странице баннеры с актуальными акциями и распродажами, чтобы увеличить конверсию\",<br>\n",
    "и 8я - \"Запустить акцию, дающую скидку на товар в день рождения\"<br>\n",
    "Песпективные гипотезы по фреймворку RICE совпали с перспективными гипотезами по фреймворку ICE, но изменился их порядок из-за влияния параметра охвата\n",
    "\n",
    "Кумулятивные метрики по выручке, среднему чеку и конверсии большее время тестирования лидировали в группе B. \n",
    "До фильтрации аномальных значений данных, на графиках кумулятивной выручки и кумулятивного среднего чека в группе В присутствовали резкие колебания. <br><br>\n",
    "Разница между средними чеками не является статистически значимой. После фильтрации данных разница между средними чеками заметно снизилась: с 28.7% до 7.6%.<br>\n",
    "До и после очистки данных разница в конверсиях между группами статистически значимая. Показатель конверсии в группе B больше показателя в группе A на 19.8% (после фильтрации данных от выбросов).<br><br>    \n",
    "<b>Вывод</b>: Разница показателей конверсии между группами и до и после фильтрации данных является <u>статистически значимой</u>, график конверсии говорит о фиксации результата. Это  позволяет сделать вывод о том, что A/B тест стоит остановить и зафиксировать рост конверсии в группе В"
   ]
  },
  {
   "cell_type": "markdown",
   "metadata": {},
   "source": [
    "[К оглавлению](#content)"
   ]
  }
 ],
 "metadata": {
  "ExecuteTimeLog": [
   {
    "duration": 414,
    "start_time": "2022-01-20T13:54:33.341Z"
   },
   {
    "duration": 817,
    "start_time": "2022-01-20T13:54:36.732Z"
   },
   {
    "duration": 20,
    "start_time": "2022-01-20T13:54:38.695Z"
   },
   {
    "duration": 4,
    "start_time": "2022-01-20T13:55:00.572Z"
   },
   {
    "duration": 69,
    "start_time": "2022-01-20T13:56:17.452Z"
   },
   {
    "duration": 27,
    "start_time": "2022-01-20T13:57:29.830Z"
   },
   {
    "duration": 326,
    "start_time": "2022-01-21T08:06:13.949Z"
   },
   {
    "duration": 580,
    "start_time": "2022-01-21T08:06:21.052Z"
   },
   {
    "duration": 81,
    "start_time": "2022-01-21T08:06:21.633Z"
   },
   {
    "duration": 6,
    "start_time": "2022-01-21T08:06:21.716Z"
   },
   {
    "duration": 5,
    "start_time": "2022-01-21T08:07:13.532Z"
   },
   {
    "duration": 14,
    "start_time": "2022-01-21T08:07:21.477Z"
   },
   {
    "duration": 559,
    "start_time": "2022-01-21T08:07:34.504Z"
   },
   {
    "duration": 450,
    "start_time": "2022-01-21T08:07:37.655Z"
   },
   {
    "duration": 6,
    "start_time": "2022-01-21T08:08:19.110Z"
   },
   {
    "duration": 481,
    "start_time": "2022-01-21T08:09:03.581Z"
   },
   {
    "duration": 11,
    "start_time": "2022-01-21T08:09:36.346Z"
   },
   {
    "duration": 8,
    "start_time": "2022-01-21T08:10:10.803Z"
   },
   {
    "duration": 3,
    "start_time": "2022-01-21T08:10:19.026Z"
   },
   {
    "duration": 9,
    "start_time": "2022-01-21T08:10:21.136Z"
   },
   {
    "duration": 7,
    "start_time": "2022-01-21T08:11:40.477Z"
   },
   {
    "duration": 7,
    "start_time": "2022-01-21T08:11:50.475Z"
   },
   {
    "duration": 11,
    "start_time": "2022-01-21T08:12:03.615Z"
   },
   {
    "duration": 8,
    "start_time": "2022-01-21T08:12:10.595Z"
   },
   {
    "duration": 1469,
    "start_time": "2022-01-21T08:12:29.611Z"
   },
   {
    "duration": 79,
    "start_time": "2022-01-21T08:12:31.082Z"
   },
   {
    "duration": 9,
    "start_time": "2022-01-21T08:12:31.165Z"
   },
   {
    "duration": 17,
    "start_time": "2022-01-21T08:12:31.177Z"
   },
   {
    "duration": 10,
    "start_time": "2022-01-21T08:12:31.196Z"
   },
   {
    "duration": 14,
    "start_time": "2022-01-21T08:12:31.207Z"
   },
   {
    "duration": 22,
    "start_time": "2022-01-21T08:12:31.223Z"
   },
   {
    "duration": 12,
    "start_time": "2022-01-21T08:12:31.248Z"
   },
   {
    "duration": 7,
    "start_time": "2022-01-21T08:13:13.927Z"
   },
   {
    "duration": 114,
    "start_time": "2022-01-21T08:14:59.458Z"
   },
   {
    "duration": 4,
    "start_time": "2022-01-21T08:15:18.678Z"
   },
   {
    "duration": 7,
    "start_time": "2022-01-21T08:15:36.381Z"
   },
   {
    "duration": 5,
    "start_time": "2022-01-21T08:17:20.513Z"
   },
   {
    "duration": 6,
    "start_time": "2022-01-21T08:17:36.008Z"
   },
   {
    "duration": 82,
    "start_time": "2022-01-21T08:21:47.284Z"
   },
   {
    "duration": 305,
    "start_time": "2022-01-21T09:35:13.997Z"
   },
   {
    "duration": 464,
    "start_time": "2022-01-21T12:46:42.598Z"
   },
   {
    "duration": 790,
    "start_time": "2022-01-21T12:46:50.304Z"
   },
   {
    "duration": 72,
    "start_time": "2022-01-21T12:46:51.097Z"
   },
   {
    "duration": 11,
    "start_time": "2022-01-21T12:46:51.172Z"
   },
   {
    "duration": 17,
    "start_time": "2022-01-21T12:46:51.187Z"
   },
   {
    "duration": 5,
    "start_time": "2022-01-21T12:46:51.206Z"
   },
   {
    "duration": 49,
    "start_time": "2022-01-21T12:46:51.214Z"
   },
   {
    "duration": 11,
    "start_time": "2022-01-21T12:46:51.265Z"
   },
   {
    "duration": 13,
    "start_time": "2022-01-21T12:46:51.279Z"
   },
   {
    "duration": 6,
    "start_time": "2022-01-21T12:46:51.297Z"
   },
   {
    "duration": 9,
    "start_time": "2022-01-21T12:46:51.307Z"
   },
   {
    "duration": 12,
    "start_time": "2022-01-21T12:46:51.358Z"
   },
   {
    "duration": 12,
    "start_time": "2022-01-21T12:46:51.372Z"
   },
   {
    "duration": 8,
    "start_time": "2022-01-21T12:46:51.386Z"
   },
   {
    "duration": 798,
    "start_time": "2022-01-21T12:51:23.599Z"
   },
   {
    "duration": 67,
    "start_time": "2022-01-21T12:51:24.400Z"
   },
   {
    "duration": 9,
    "start_time": "2022-01-21T12:51:24.471Z"
   },
   {
    "duration": 17,
    "start_time": "2022-01-21T12:51:24.483Z"
   },
   {
    "duration": 5,
    "start_time": "2022-01-21T12:51:24.503Z"
   },
   {
    "duration": 13,
    "start_time": "2022-01-21T12:51:24.510Z"
   },
   {
    "duration": 36,
    "start_time": "2022-01-21T12:51:24.525Z"
   },
   {
    "duration": 10,
    "start_time": "2022-01-21T12:51:24.565Z"
   },
   {
    "duration": 5,
    "start_time": "2022-01-21T12:51:24.577Z"
   },
   {
    "duration": 9,
    "start_time": "2022-01-21T12:51:24.584Z"
   },
   {
    "duration": 14,
    "start_time": "2022-01-21T12:51:24.595Z"
   },
   {
    "duration": 53,
    "start_time": "2022-01-21T12:51:24.612Z"
   },
   {
    "duration": 10,
    "start_time": "2022-01-21T12:51:24.667Z"
   },
   {
    "duration": 10,
    "start_time": "2022-01-21T12:52:09.518Z"
   },
   {
    "duration": 12,
    "start_time": "2022-01-21T12:52:19.843Z"
   },
   {
    "duration": 446,
    "start_time": "2022-01-21T13:06:44.143Z"
   },
   {
    "duration": 15,
    "start_time": "2022-01-21T13:06:49.993Z"
   },
   {
    "duration": 13,
    "start_time": "2022-01-21T13:07:27.859Z"
   },
   {
    "duration": 14,
    "start_time": "2022-01-21T13:10:29.295Z"
   },
   {
    "duration": 15,
    "start_time": "2022-01-21T13:12:37.629Z"
   },
   {
    "duration": 1656,
    "start_time": "2022-01-21T13:21:21.668Z"
   },
   {
    "duration": 5,
    "start_time": "2022-01-21T13:23:52.253Z"
   },
   {
    "duration": 13,
    "start_time": "2022-01-21T13:24:43.701Z"
   },
   {
    "duration": 1882,
    "start_time": "2022-01-21T13:41:50.888Z"
   },
   {
    "duration": 743,
    "start_time": "2022-01-21T13:42:32.793Z"
   },
   {
    "duration": 613,
    "start_time": "2022-01-21T13:43:11.021Z"
   },
   {
    "duration": 617,
    "start_time": "2022-01-21T13:44:00.372Z"
   },
   {
    "duration": 184,
    "start_time": "2022-01-21T13:45:26.854Z"
   },
   {
    "duration": 1247,
    "start_time": "2022-01-21T13:45:38.378Z"
   },
   {
    "duration": 892,
    "start_time": "2022-01-21T13:46:02.470Z"
   },
   {
    "duration": 1692,
    "start_time": "2022-01-21T13:46:57.925Z"
   },
   {
    "duration": 3,
    "start_time": "2022-01-21T13:47:31.913Z"
   },
   {
    "duration": 860,
    "start_time": "2022-01-21T13:47:37.664Z"
   },
   {
    "duration": 67,
    "start_time": "2022-01-21T13:47:38.527Z"
   },
   {
    "duration": 9,
    "start_time": "2022-01-21T13:47:38.597Z"
   },
   {
    "duration": 13,
    "start_time": "2022-01-21T13:47:38.609Z"
   },
   {
    "duration": 6,
    "start_time": "2022-01-21T13:47:38.625Z"
   },
   {
    "duration": 27,
    "start_time": "2022-01-21T13:47:38.633Z"
   },
   {
    "duration": 10,
    "start_time": "2022-01-21T13:47:38.663Z"
   },
   {
    "duration": 10,
    "start_time": "2022-01-21T13:47:38.675Z"
   },
   {
    "duration": 5,
    "start_time": "2022-01-21T13:47:38.688Z"
   },
   {
    "duration": 5,
    "start_time": "2022-01-21T13:47:38.696Z"
   },
   {
    "duration": 13,
    "start_time": "2022-01-21T13:47:38.703Z"
   },
   {
    "duration": 9,
    "start_time": "2022-01-21T13:47:38.759Z"
   },
   {
    "duration": 9,
    "start_time": "2022-01-21T13:47:38.770Z"
   },
   {
    "duration": 10,
    "start_time": "2022-01-21T13:47:38.781Z"
   },
   {
    "duration": 21,
    "start_time": "2022-01-21T13:47:38.793Z"
   },
   {
    "duration": 17,
    "start_time": "2022-01-21T13:47:38.860Z"
   },
   {
    "duration": 1774,
    "start_time": "2022-01-21T13:47:38.881Z"
   },
   {
    "duration": 1838,
    "start_time": "2022-01-21T13:48:32.060Z"
   },
   {
    "duration": 2242,
    "start_time": "2022-01-21T13:48:49.656Z"
   },
   {
    "duration": 1636,
    "start_time": "2022-01-21T13:48:58.348Z"
   },
   {
    "duration": 2047,
    "start_time": "2022-01-21T13:49:09.491Z"
   },
   {
    "duration": 813,
    "start_time": "2022-01-21T13:49:36.307Z"
   },
   {
    "duration": 68,
    "start_time": "2022-01-21T13:49:37.123Z"
   },
   {
    "duration": 9,
    "start_time": "2022-01-21T13:49:37.194Z"
   },
   {
    "duration": 11,
    "start_time": "2022-01-21T13:49:37.205Z"
   },
   {
    "duration": 5,
    "start_time": "2022-01-21T13:49:37.218Z"
   },
   {
    "duration": 13,
    "start_time": "2022-01-21T13:49:37.225Z"
   },
   {
    "duration": 19,
    "start_time": "2022-01-21T13:49:37.240Z"
   },
   {
    "duration": 8,
    "start_time": "2022-01-21T13:49:37.263Z"
   },
   {
    "duration": 4,
    "start_time": "2022-01-21T13:49:37.274Z"
   },
   {
    "duration": 3,
    "start_time": "2022-01-21T13:49:37.281Z"
   },
   {
    "duration": 15,
    "start_time": "2022-01-21T13:49:37.286Z"
   },
   {
    "duration": 9,
    "start_time": "2022-01-21T13:49:37.303Z"
   },
   {
    "duration": 54,
    "start_time": "2022-01-21T13:49:37.314Z"
   },
   {
    "duration": 12,
    "start_time": "2022-01-21T13:49:37.371Z"
   },
   {
    "duration": 21,
    "start_time": "2022-01-21T13:49:37.385Z"
   },
   {
    "duration": 16,
    "start_time": "2022-01-21T13:49:37.409Z"
   },
   {
    "duration": 940,
    "start_time": "2022-01-21T13:49:37.427Z"
   },
   {
    "duration": 918,
    "start_time": "2022-01-21T13:49:49.201Z"
   },
   {
    "duration": 872,
    "start_time": "2022-01-21T13:50:07.566Z"
   },
   {
    "duration": 67,
    "start_time": "2022-01-21T13:50:08.441Z"
   },
   {
    "duration": 10,
    "start_time": "2022-01-21T13:50:08.511Z"
   },
   {
    "duration": 11,
    "start_time": "2022-01-21T13:50:08.523Z"
   },
   {
    "duration": 4,
    "start_time": "2022-01-21T13:50:08.537Z"
   },
   {
    "duration": 15,
    "start_time": "2022-01-21T13:50:08.543Z"
   },
   {
    "duration": 8,
    "start_time": "2022-01-21T13:50:08.561Z"
   },
   {
    "duration": 9,
    "start_time": "2022-01-21T13:50:08.572Z"
   },
   {
    "duration": 5,
    "start_time": "2022-01-21T13:50:08.583Z"
   },
   {
    "duration": 9,
    "start_time": "2022-01-21T13:50:08.590Z"
   },
   {
    "duration": 13,
    "start_time": "2022-01-21T13:50:08.601Z"
   },
   {
    "duration": 8,
    "start_time": "2022-01-21T13:50:08.660Z"
   },
   {
    "duration": 12,
    "start_time": "2022-01-21T13:50:08.671Z"
   },
   {
    "duration": 15,
    "start_time": "2022-01-21T13:50:08.685Z"
   },
   {
    "duration": 21,
    "start_time": "2022-01-21T13:50:08.702Z"
   },
   {
    "duration": 50,
    "start_time": "2022-01-21T13:50:08.725Z"
   },
   {
    "duration": 891,
    "start_time": "2022-01-21T13:50:08.778Z"
   },
   {
    "duration": 1301,
    "start_time": "2022-01-21T13:54:53.513Z"
   },
   {
    "duration": 1141,
    "start_time": "2022-01-21T13:55:09.518Z"
   },
   {
    "duration": 1089,
    "start_time": "2022-01-21T13:55:55.886Z"
   },
   {
    "duration": 1293,
    "start_time": "2022-01-21T13:58:36.378Z"
   },
   {
    "duration": 1072,
    "start_time": "2022-01-21T14:00:55.377Z"
   },
   {
    "duration": 288,
    "start_time": "2022-01-21T14:03:28.028Z"
   },
   {
    "duration": 506,
    "start_time": "2022-01-21T14:03:40.339Z"
   },
   {
    "duration": 401,
    "start_time": "2022-01-21T14:15:07.559Z"
   },
   {
    "duration": 625,
    "start_time": "2022-01-21T14:15:41.734Z"
   },
   {
    "duration": 289,
    "start_time": "2022-01-21T14:22:12.072Z"
   },
   {
    "duration": 330,
    "start_time": "2022-01-21T14:22:25.543Z"
   },
   {
    "duration": 554,
    "start_time": "2022-01-21T14:22:40.698Z"
   },
   {
    "duration": 611,
    "start_time": "2022-01-21T14:27:48.801Z"
   },
   {
    "duration": 641,
    "start_time": "2022-01-21T14:29:46.092Z"
   },
   {
    "duration": 616,
    "start_time": "2022-01-21T14:30:00.095Z"
   },
   {
    "duration": 602,
    "start_time": "2022-01-21T14:30:44.784Z"
   },
   {
    "duration": 634,
    "start_time": "2022-01-21T14:30:56.608Z"
   },
   {
    "duration": 628,
    "start_time": "2022-01-21T14:31:09.250Z"
   },
   {
    "duration": 647,
    "start_time": "2022-01-21T14:32:13.374Z"
   },
   {
    "duration": 634,
    "start_time": "2022-01-21T14:32:22.671Z"
   },
   {
    "duration": 723,
    "start_time": "2022-01-21T14:32:45.097Z"
   },
   {
    "duration": 653,
    "start_time": "2022-01-21T14:32:52.363Z"
   },
   {
    "duration": 697,
    "start_time": "2022-01-21T14:33:02.716Z"
   },
   {
    "duration": 854,
    "start_time": "2022-01-21T14:33:10.457Z"
   },
   {
    "duration": 908,
    "start_time": "2022-01-21T15:29:30.720Z"
   },
   {
    "duration": 66,
    "start_time": "2022-01-21T15:29:31.631Z"
   },
   {
    "duration": 8,
    "start_time": "2022-01-21T15:29:31.701Z"
   },
   {
    "duration": 12,
    "start_time": "2022-01-21T15:29:31.711Z"
   },
   {
    "duration": 5,
    "start_time": "2022-01-21T15:29:31.725Z"
   },
   {
    "duration": 13,
    "start_time": "2022-01-21T15:29:31.732Z"
   },
   {
    "duration": 12,
    "start_time": "2022-01-21T15:29:31.747Z"
   },
   {
    "duration": 9,
    "start_time": "2022-01-21T15:29:31.763Z"
   },
   {
    "duration": 5,
    "start_time": "2022-01-21T15:29:31.774Z"
   },
   {
    "duration": 7,
    "start_time": "2022-01-21T15:29:31.781Z"
   },
   {
    "duration": 12,
    "start_time": "2022-01-21T15:29:31.791Z"
   },
   {
    "duration": 10,
    "start_time": "2022-01-21T15:29:31.806Z"
   },
   {
    "duration": 9,
    "start_time": "2022-01-21T15:29:31.858Z"
   },
   {
    "duration": 13,
    "start_time": "2022-01-21T15:29:31.869Z"
   },
   {
    "duration": 15,
    "start_time": "2022-01-21T15:29:31.884Z"
   },
   {
    "duration": 17,
    "start_time": "2022-01-21T15:29:31.902Z"
   },
   {
    "duration": 1094,
    "start_time": "2022-01-21T15:29:31.960Z"
   },
   {
    "duration": 553,
    "start_time": "2022-01-21T15:29:33.060Z"
   },
   {
    "duration": 643,
    "start_time": "2022-01-21T15:29:33.616Z"
   },
   {
    "duration": 567,
    "start_time": "2022-01-21T15:29:34.261Z"
   },
   {
    "duration": 769,
    "start_time": "2022-01-21T15:29:34.830Z"
   },
   {
    "duration": 473,
    "start_time": "2022-01-21T15:29:35.601Z"
   },
   {
    "duration": 210,
    "start_time": "2022-01-21T15:33:05.532Z"
   },
   {
    "duration": 201,
    "start_time": "2022-01-21T15:33:41.252Z"
   },
   {
    "duration": 452,
    "start_time": "2022-01-21T15:34:51.551Z"
   },
   {
    "duration": 615,
    "start_time": "2022-01-21T15:35:29.329Z"
   },
   {
    "duration": 801,
    "start_time": "2022-01-21T15:36:41.045Z"
   },
   {
    "duration": 6,
    "start_time": "2022-01-21T15:48:12.501Z"
   },
   {
    "duration": 7,
    "start_time": "2022-01-21T18:37:13.948Z"
   },
   {
    "duration": 375,
    "start_time": "2022-01-21T18:38:47.097Z"
   },
   {
    "duration": 588,
    "start_time": "2022-01-21T18:39:28.141Z"
   },
   {
    "duration": 471,
    "start_time": "2022-01-21T18:39:43.516Z"
   },
   {
    "duration": 515,
    "start_time": "2022-01-21T18:40:00.344Z"
   },
   {
    "duration": 622,
    "start_time": "2022-01-21T18:40:25.498Z"
   },
   {
    "duration": 872,
    "start_time": "2022-01-21T18:40:36.858Z"
   },
   {
    "duration": 741,
    "start_time": "2022-01-21T18:44:30.206Z"
   },
   {
    "duration": 357,
    "start_time": "2022-01-21T18:48:53.287Z"
   },
   {
    "duration": 9378,
    "start_time": "2022-01-21T18:48:59.692Z"
   },
   {
    "duration": 634,
    "start_time": "2022-01-21T18:49:11.034Z"
   },
   {
    "duration": 682,
    "start_time": "2022-01-21T18:50:51.828Z"
   },
   {
    "duration": 616,
    "start_time": "2022-01-21T18:50:58.560Z"
   },
   {
    "duration": 601,
    "start_time": "2022-01-21T18:51:11.058Z"
   },
   {
    "duration": 576,
    "start_time": "2022-01-21T18:51:25.486Z"
   },
   {
    "duration": 7,
    "start_time": "2022-01-21T18:53:43.099Z"
   },
   {
    "duration": 6,
    "start_time": "2022-01-21T18:56:35.091Z"
   },
   {
    "duration": 612,
    "start_time": "2022-01-21T19:03:59.307Z"
   },
   {
    "duration": 9576,
    "start_time": "2022-01-21T19:04:24.104Z"
   },
   {
    "duration": 444,
    "start_time": "2022-01-21T19:05:13.904Z"
   },
   {
    "duration": 249,
    "start_time": "2022-01-21T19:09:20.016Z"
   },
   {
    "duration": 2493,
    "start_time": "2022-01-21T19:10:13.383Z"
   },
   {
    "duration": 1300,
    "start_time": "2022-01-21T19:10:31.443Z"
   },
   {
    "duration": 515,
    "start_time": "2022-01-21T19:10:54.314Z"
   },
   {
    "duration": 886,
    "start_time": "2022-01-21T19:10:59.457Z"
   },
   {
    "duration": 424,
    "start_time": "2022-01-21T19:11:21.268Z"
   },
   {
    "duration": 681,
    "start_time": "2022-01-21T19:17:48.899Z"
   },
   {
    "duration": 253,
    "start_time": "2022-01-21T19:18:22.937Z"
   },
   {
    "duration": 1483,
    "start_time": "2022-01-21T19:18:41.823Z"
   },
   {
    "duration": 68,
    "start_time": "2022-01-21T19:18:43.308Z"
   },
   {
    "duration": 10,
    "start_time": "2022-01-21T19:18:43.378Z"
   },
   {
    "duration": 11,
    "start_time": "2022-01-21T19:18:43.391Z"
   },
   {
    "duration": 6,
    "start_time": "2022-01-21T19:18:43.404Z"
   },
   {
    "duration": 13,
    "start_time": "2022-01-21T19:18:43.412Z"
   },
   {
    "duration": 40,
    "start_time": "2022-01-21T19:18:43.427Z"
   },
   {
    "duration": 12,
    "start_time": "2022-01-21T19:18:43.473Z"
   },
   {
    "duration": 6,
    "start_time": "2022-01-21T19:18:43.489Z"
   },
   {
    "duration": 10,
    "start_time": "2022-01-21T19:18:43.498Z"
   },
   {
    "duration": 54,
    "start_time": "2022-01-21T19:18:43.511Z"
   },
   {
    "duration": 8,
    "start_time": "2022-01-21T19:18:43.567Z"
   },
   {
    "duration": 9,
    "start_time": "2022-01-21T19:18:43.577Z"
   },
   {
    "duration": 15,
    "start_time": "2022-01-21T19:18:43.588Z"
   },
   {
    "duration": 54,
    "start_time": "2022-01-21T19:18:43.606Z"
   },
   {
    "duration": 16,
    "start_time": "2022-01-21T19:18:43.663Z"
   },
   {
    "duration": 1127,
    "start_time": "2022-01-21T19:18:43.681Z"
   },
   {
    "duration": 556,
    "start_time": "2022-01-21T19:18:44.812Z"
   },
   {
    "duration": 616,
    "start_time": "2022-01-21T19:18:45.371Z"
   },
   {
    "duration": 632,
    "start_time": "2022-01-21T19:18:45.992Z"
   },
   {
    "duration": 687,
    "start_time": "2022-01-21T19:18:46.627Z"
   },
   {
    "duration": 821,
    "start_time": "2022-01-21T19:18:47.317Z"
   },
   {
    "duration": 5,
    "start_time": "2022-01-21T19:18:48.143Z"
   },
   {
    "duration": 617,
    "start_time": "2022-01-21T19:18:48.160Z"
   },
   {
    "duration": 5,
    "start_time": "2022-01-21T19:18:48.779Z"
   },
   {
    "duration": 809,
    "start_time": "2022-01-21T19:18:48.787Z"
   },
   {
    "duration": -42,
    "start_time": "2022-01-21T19:18:49.640Z"
   },
   {
    "duration": 652,
    "start_time": "2022-01-21T19:20:49.981Z"
   },
   {
    "duration": 847,
    "start_time": "2022-01-21T19:21:19.492Z"
   },
   {
    "duration": 287,
    "start_time": "2022-01-21T19:21:34.204Z"
   },
   {
    "duration": 1368,
    "start_time": "2022-01-21T19:21:47.855Z"
   },
   {
    "duration": 75,
    "start_time": "2022-01-21T19:21:49.226Z"
   },
   {
    "duration": 11,
    "start_time": "2022-01-21T19:21:49.306Z"
   },
   {
    "duration": 12,
    "start_time": "2022-01-21T19:21:49.320Z"
   },
   {
    "duration": 4,
    "start_time": "2022-01-21T19:21:49.334Z"
   },
   {
    "duration": 14,
    "start_time": "2022-01-21T19:21:49.340Z"
   },
   {
    "duration": 9,
    "start_time": "2022-01-21T19:21:49.355Z"
   },
   {
    "duration": 9,
    "start_time": "2022-01-21T19:21:49.366Z"
   },
   {
    "duration": 5,
    "start_time": "2022-01-21T19:21:49.378Z"
   },
   {
    "duration": 6,
    "start_time": "2022-01-21T19:21:49.386Z"
   },
   {
    "duration": 13,
    "start_time": "2022-01-21T19:21:49.394Z"
   },
   {
    "duration": 55,
    "start_time": "2022-01-21T19:21:49.409Z"
   },
   {
    "duration": 8,
    "start_time": "2022-01-21T19:21:49.468Z"
   },
   {
    "duration": 16,
    "start_time": "2022-01-21T19:21:49.480Z"
   },
   {
    "duration": 19,
    "start_time": "2022-01-21T19:21:49.499Z"
   },
   {
    "duration": 53,
    "start_time": "2022-01-21T19:21:49.520Z"
   },
   {
    "duration": 1208,
    "start_time": "2022-01-21T19:21:49.575Z"
   },
   {
    "duration": 545,
    "start_time": "2022-01-21T19:21:50.786Z"
   },
   {
    "duration": 628,
    "start_time": "2022-01-21T19:21:51.334Z"
   },
   {
    "duration": 536,
    "start_time": "2022-01-21T19:21:51.965Z"
   },
   {
    "duration": 684,
    "start_time": "2022-01-21T19:21:52.504Z"
   },
   {
    "duration": 752,
    "start_time": "2022-01-21T19:21:53.190Z"
   },
   {
    "duration": 6,
    "start_time": "2022-01-21T19:21:53.944Z"
   },
   {
    "duration": 613,
    "start_time": "2022-01-21T19:21:53.960Z"
   },
   {
    "duration": 5,
    "start_time": "2022-01-21T19:21:54.576Z"
   },
   {
    "duration": 855,
    "start_time": "2022-01-21T19:21:54.584Z"
   },
   {
    "duration": 268,
    "start_time": "2022-01-21T19:21:55.443Z"
   },
   {
    "duration": -35,
    "start_time": "2022-01-21T19:28:01.810Z"
   },
   {
    "duration": 1319,
    "start_time": "2022-01-21T19:28:14.195Z"
   },
   {
    "duration": 67,
    "start_time": "2022-01-21T19:28:15.517Z"
   },
   {
    "duration": 10,
    "start_time": "2022-01-21T19:28:15.590Z"
   },
   {
    "duration": 11,
    "start_time": "2022-01-21T19:28:15.602Z"
   },
   {
    "duration": 4,
    "start_time": "2022-01-21T19:28:15.616Z"
   },
   {
    "duration": 39,
    "start_time": "2022-01-21T19:28:15.623Z"
   },
   {
    "duration": 9,
    "start_time": "2022-01-21T19:28:15.667Z"
   },
   {
    "duration": 9,
    "start_time": "2022-01-21T19:28:15.678Z"
   },
   {
    "duration": 4,
    "start_time": "2022-01-21T19:28:15.690Z"
   },
   {
    "duration": 10,
    "start_time": "2022-01-21T19:28:15.696Z"
   },
   {
    "duration": 58,
    "start_time": "2022-01-21T19:28:15.709Z"
   },
   {
    "duration": 10,
    "start_time": "2022-01-21T19:28:15.770Z"
   },
   {
    "duration": 8,
    "start_time": "2022-01-21T19:28:15.782Z"
   },
   {
    "duration": 13,
    "start_time": "2022-01-21T19:28:15.793Z"
   },
   {
    "duration": 53,
    "start_time": "2022-01-21T19:28:15.808Z"
   },
   {
    "duration": 16,
    "start_time": "2022-01-21T19:28:15.863Z"
   },
   {
    "duration": 1158,
    "start_time": "2022-01-21T19:28:15.882Z"
   },
   {
    "duration": 680,
    "start_time": "2022-01-21T19:28:17.043Z"
   },
   {
    "duration": 751,
    "start_time": "2022-01-21T19:28:17.725Z"
   },
   {
    "duration": 646,
    "start_time": "2022-01-21T19:28:18.478Z"
   },
   {
    "duration": 665,
    "start_time": "2022-01-21T19:28:19.126Z"
   },
   {
    "duration": 879,
    "start_time": "2022-01-21T19:28:19.795Z"
   },
   {
    "duration": 5,
    "start_time": "2022-01-21T19:28:20.677Z"
   },
   {
    "duration": 609,
    "start_time": "2022-01-21T19:28:20.685Z"
   },
   {
    "duration": 6,
    "start_time": "2022-01-21T19:28:21.296Z"
   },
   {
    "duration": 957,
    "start_time": "2022-01-21T19:28:21.305Z"
   },
   {
    "duration": 251,
    "start_time": "2022-01-21T19:28:22.264Z"
   },
   {
    "duration": 9405,
    "start_time": "2022-01-21T19:28:22.518Z"
   },
   {
    "duration": 214,
    "start_time": "2022-01-21T19:28:53.279Z"
   },
   {
    "duration": 9780,
    "start_time": "2022-01-21T19:31:10.467Z"
   },
   {
    "duration": 9749,
    "start_time": "2022-01-21T19:31:40.927Z"
   },
   {
    "duration": 673,
    "start_time": "2022-01-21T19:32:20.457Z"
   },
   {
    "duration": 10259,
    "start_time": "2022-01-21T19:40:32.055Z"
   },
   {
    "duration": 20,
    "start_time": "2022-01-21T19:41:15.783Z"
   },
   {
    "duration": 1481,
    "start_time": "2022-01-21T19:46:30.440Z"
   },
   {
    "duration": 67,
    "start_time": "2022-01-21T19:46:31.924Z"
   },
   {
    "duration": 9,
    "start_time": "2022-01-21T19:46:31.994Z"
   },
   {
    "duration": 12,
    "start_time": "2022-01-21T19:46:32.005Z"
   },
   {
    "duration": 5,
    "start_time": "2022-01-21T19:46:32.019Z"
   },
   {
    "duration": 14,
    "start_time": "2022-01-21T19:46:32.026Z"
   },
   {
    "duration": 8,
    "start_time": "2022-01-21T19:46:32.042Z"
   },
   {
    "duration": 9,
    "start_time": "2022-01-21T19:46:32.061Z"
   },
   {
    "duration": 5,
    "start_time": "2022-01-21T19:46:32.072Z"
   },
   {
    "duration": 7,
    "start_time": "2022-01-21T19:46:32.079Z"
   },
   {
    "duration": 12,
    "start_time": "2022-01-21T19:46:32.088Z"
   },
   {
    "duration": 7,
    "start_time": "2022-01-21T19:46:32.102Z"
   },
   {
    "duration": 53,
    "start_time": "2022-01-21T19:46:32.112Z"
   },
   {
    "duration": 15,
    "start_time": "2022-01-21T19:46:32.168Z"
   },
   {
    "duration": 17,
    "start_time": "2022-01-21T19:46:32.186Z"
   },
   {
    "duration": 56,
    "start_time": "2022-01-21T19:46:32.205Z"
   },
   {
    "duration": 1095,
    "start_time": "2022-01-21T19:46:32.264Z"
   },
   {
    "duration": 523,
    "start_time": "2022-01-21T19:46:33.361Z"
   },
   {
    "duration": 654,
    "start_time": "2022-01-21T19:46:33.887Z"
   },
   {
    "duration": 546,
    "start_time": "2022-01-21T19:46:34.544Z"
   },
   {
    "duration": 674,
    "start_time": "2022-01-21T19:46:35.093Z"
   },
   {
    "duration": 763,
    "start_time": "2022-01-21T19:46:35.770Z"
   },
   {
    "duration": 6,
    "start_time": "2022-01-21T19:46:36.537Z"
   },
   {
    "duration": 593,
    "start_time": "2022-01-21T19:46:36.560Z"
   },
   {
    "duration": 7,
    "start_time": "2022-01-21T19:46:37.160Z"
   },
   {
    "duration": 863,
    "start_time": "2022-01-21T19:46:37.170Z"
   },
   {
    "duration": 286,
    "start_time": "2022-01-21T19:46:38.036Z"
   },
   {
    "duration": 690,
    "start_time": "2022-01-21T19:46:38.326Z"
   },
   {
    "duration": 20,
    "start_time": "2022-01-21T19:46:39.018Z"
   },
   {
    "duration": 1376,
    "start_time": "2022-01-21T19:50:42.329Z"
   },
   {
    "duration": 68,
    "start_time": "2022-01-21T19:50:43.708Z"
   },
   {
    "duration": 8,
    "start_time": "2022-01-21T19:50:43.779Z"
   },
   {
    "duration": 12,
    "start_time": "2022-01-21T19:50:43.790Z"
   },
   {
    "duration": 7,
    "start_time": "2022-01-21T19:50:43.805Z"
   },
   {
    "duration": 18,
    "start_time": "2022-01-21T19:50:43.815Z"
   },
   {
    "duration": 9,
    "start_time": "2022-01-21T19:50:43.860Z"
   },
   {
    "duration": 9,
    "start_time": "2022-01-21T19:50:43.873Z"
   },
   {
    "duration": 5,
    "start_time": "2022-01-21T19:50:43.885Z"
   },
   {
    "duration": 7,
    "start_time": "2022-01-21T19:50:43.892Z"
   },
   {
    "duration": 12,
    "start_time": "2022-01-21T19:50:43.902Z"
   },
   {
    "duration": 48,
    "start_time": "2022-01-21T19:50:43.917Z"
   },
   {
    "duration": 10,
    "start_time": "2022-01-21T19:50:43.968Z"
   },
   {
    "duration": 14,
    "start_time": "2022-01-21T19:50:43.980Z"
   },
   {
    "duration": 16,
    "start_time": "2022-01-21T19:50:43.997Z"
   },
   {
    "duration": 56,
    "start_time": "2022-01-21T19:50:44.015Z"
   },
   {
    "duration": 1089,
    "start_time": "2022-01-21T19:50:44.074Z"
   },
   {
    "duration": 525,
    "start_time": "2022-01-21T19:50:45.166Z"
   },
   {
    "duration": 611,
    "start_time": "2022-01-21T19:50:45.694Z"
   },
   {
    "duration": 602,
    "start_time": "2022-01-21T19:50:46.308Z"
   },
   {
    "duration": 675,
    "start_time": "2022-01-21T19:50:46.912Z"
   },
   {
    "duration": 747,
    "start_time": "2022-01-21T19:50:47.589Z"
   },
   {
    "duration": 6,
    "start_time": "2022-01-21T19:50:48.340Z"
   },
   {
    "duration": 617,
    "start_time": "2022-01-21T19:50:48.360Z"
   },
   {
    "duration": 6,
    "start_time": "2022-01-21T19:50:48.979Z"
   },
   {
    "duration": 887,
    "start_time": "2022-01-21T19:50:48.988Z"
   },
   {
    "duration": 294,
    "start_time": "2022-01-21T19:50:49.877Z"
   },
   {
    "duration": 681,
    "start_time": "2022-01-21T19:50:50.174Z"
   },
   {
    "duration": 19,
    "start_time": "2022-01-21T19:50:50.859Z"
   },
   {
    "duration": 1973,
    "start_time": "2022-01-21T19:52:24.078Z"
   },
   {
    "duration": 67,
    "start_time": "2022-01-21T19:52:26.055Z"
   },
   {
    "duration": 11,
    "start_time": "2022-01-21T19:52:26.129Z"
   },
   {
    "duration": 16,
    "start_time": "2022-01-21T19:52:26.143Z"
   },
   {
    "duration": 6,
    "start_time": "2022-01-21T19:52:26.162Z"
   },
   {
    "duration": 20,
    "start_time": "2022-01-21T19:52:26.171Z"
   },
   {
    "duration": 11,
    "start_time": "2022-01-21T19:52:26.197Z"
   },
   {
    "duration": 47,
    "start_time": "2022-01-21T19:52:26.213Z"
   },
   {
    "duration": 7,
    "start_time": "2022-01-21T19:52:26.264Z"
   },
   {
    "duration": 14,
    "start_time": "2022-01-21T19:52:26.274Z"
   },
   {
    "duration": 17,
    "start_time": "2022-01-21T19:52:26.291Z"
   },
   {
    "duration": 11,
    "start_time": "2022-01-21T19:52:26.310Z"
   },
   {
    "duration": 46,
    "start_time": "2022-01-21T19:52:26.323Z"
   },
   {
    "duration": 19,
    "start_time": "2022-01-21T19:52:26.372Z"
   },
   {
    "duration": 23,
    "start_time": "2022-01-21T19:52:26.394Z"
   },
   {
    "duration": 50,
    "start_time": "2022-01-21T19:52:26.419Z"
   },
   {
    "duration": 1109,
    "start_time": "2022-01-21T19:52:26.471Z"
   },
   {
    "duration": 634,
    "start_time": "2022-01-21T19:52:27.582Z"
   },
   {
    "duration": 632,
    "start_time": "2022-01-21T19:52:28.219Z"
   },
   {
    "duration": 521,
    "start_time": "2022-01-21T19:52:28.853Z"
   },
   {
    "duration": 632,
    "start_time": "2022-01-21T19:52:29.376Z"
   },
   {
    "duration": 776,
    "start_time": "2022-01-21T19:52:30.013Z"
   },
   {
    "duration": 6,
    "start_time": "2022-01-21T19:52:30.792Z"
   },
   {
    "duration": 632,
    "start_time": "2022-01-21T19:52:30.800Z"
   },
   {
    "duration": 5,
    "start_time": "2022-01-21T19:52:31.435Z"
   },
   {
    "duration": 885,
    "start_time": "2022-01-21T19:52:31.444Z"
   },
   {
    "duration": 274,
    "start_time": "2022-01-21T19:52:32.332Z"
   },
   {
    "duration": 688,
    "start_time": "2022-01-21T19:52:32.608Z"
   },
   {
    "duration": 20,
    "start_time": "2022-01-21T19:52:33.298Z"
   },
   {
    "duration": 1221,
    "start_time": "2022-01-22T11:20:58.671Z"
   },
   {
    "duration": 75,
    "start_time": "2022-01-22T11:20:59.893Z"
   },
   {
    "duration": 7,
    "start_time": "2022-01-22T11:20:59.970Z"
   },
   {
    "duration": 12,
    "start_time": "2022-01-22T11:20:59.979Z"
   },
   {
    "duration": 9,
    "start_time": "2022-01-22T11:20:59.993Z"
   },
   {
    "duration": 24,
    "start_time": "2022-01-22T11:21:00.004Z"
   },
   {
    "duration": 13,
    "start_time": "2022-01-22T11:21:00.030Z"
   },
   {
    "duration": 22,
    "start_time": "2022-01-22T11:21:00.046Z"
   },
   {
    "duration": 5,
    "start_time": "2022-01-22T11:21:00.071Z"
   },
   {
    "duration": 25,
    "start_time": "2022-01-22T11:21:00.078Z"
   },
   {
    "duration": 16,
    "start_time": "2022-01-22T11:21:00.105Z"
   },
   {
    "duration": 26,
    "start_time": "2022-01-22T11:21:00.123Z"
   },
   {
    "duration": 17,
    "start_time": "2022-01-22T11:21:00.151Z"
   },
   {
    "duration": 17,
    "start_time": "2022-01-22T11:21:00.170Z"
   },
   {
    "duration": 18,
    "start_time": "2022-01-22T11:21:00.189Z"
   },
   {
    "duration": 21,
    "start_time": "2022-01-22T11:21:00.209Z"
   },
   {
    "duration": 637,
    "start_time": "2022-01-22T11:21:00.232Z"
   },
   {
    "duration": 314,
    "start_time": "2022-01-22T11:21:00.870Z"
   },
   {
    "duration": 401,
    "start_time": "2022-01-22T11:21:01.187Z"
   },
   {
    "duration": 317,
    "start_time": "2022-01-22T11:21:01.590Z"
   },
   {
    "duration": 418,
    "start_time": "2022-01-22T11:21:01.909Z"
   },
   {
    "duration": 621,
    "start_time": "2022-01-22T11:21:02.329Z"
   },
   {
    "duration": 5,
    "start_time": "2022-01-22T11:21:02.954Z"
   },
   {
    "duration": 516,
    "start_time": "2022-01-22T11:21:02.961Z"
   },
   {
    "duration": 4,
    "start_time": "2022-01-22T11:21:03.479Z"
   },
   {
    "duration": 694,
    "start_time": "2022-01-22T11:21:03.485Z"
   },
   {
    "duration": 194,
    "start_time": "2022-01-22T11:21:04.181Z"
   },
   {
    "duration": 558,
    "start_time": "2022-01-22T11:21:04.377Z"
   },
   {
    "duration": 16,
    "start_time": "2022-01-22T11:21:04.937Z"
   },
   {
    "duration": 971,
    "start_time": "2022-01-22T11:24:43.071Z"
   },
   {
    "duration": 64,
    "start_time": "2022-01-22T11:24:44.043Z"
   },
   {
    "duration": 6,
    "start_time": "2022-01-22T11:24:44.109Z"
   },
   {
    "duration": 8,
    "start_time": "2022-01-22T11:24:44.116Z"
   },
   {
    "duration": 2,
    "start_time": "2022-01-22T11:24:44.126Z"
   },
   {
    "duration": 8,
    "start_time": "2022-01-22T11:24:44.130Z"
   },
   {
    "duration": 5,
    "start_time": "2022-01-22T11:24:44.139Z"
   },
   {
    "duration": 7,
    "start_time": "2022-01-22T11:24:44.145Z"
   },
   {
    "duration": 3,
    "start_time": "2022-01-22T11:24:44.154Z"
   },
   {
    "duration": 10,
    "start_time": "2022-01-22T11:24:44.159Z"
   },
   {
    "duration": 11,
    "start_time": "2022-01-22T11:24:44.170Z"
   },
   {
    "duration": 8,
    "start_time": "2022-01-22T11:24:44.183Z"
   },
   {
    "duration": 11,
    "start_time": "2022-01-22T11:24:44.193Z"
   },
   {
    "duration": 13,
    "start_time": "2022-01-22T11:24:44.206Z"
   },
   {
    "duration": 15,
    "start_time": "2022-01-22T11:24:44.220Z"
   },
   {
    "duration": 10,
    "start_time": "2022-01-22T11:24:44.236Z"
   },
   {
    "duration": 631,
    "start_time": "2022-01-22T11:24:44.247Z"
   },
   {
    "duration": 322,
    "start_time": "2022-01-22T11:24:44.879Z"
   },
   {
    "duration": 400,
    "start_time": "2022-01-22T11:24:45.202Z"
   },
   {
    "duration": 318,
    "start_time": "2022-01-22T11:24:45.603Z"
   },
   {
    "duration": 433,
    "start_time": "2022-01-22T11:24:45.923Z"
   },
   {
    "duration": 507,
    "start_time": "2022-01-22T11:24:46.359Z"
   },
   {
    "duration": 6,
    "start_time": "2022-01-22T11:24:46.868Z"
   },
   {
    "duration": 404,
    "start_time": "2022-01-22T11:24:46.876Z"
   },
   {
    "duration": 5,
    "start_time": "2022-01-22T11:24:47.282Z"
   },
   {
    "duration": 468,
    "start_time": "2022-01-22T11:24:47.289Z"
   },
   {
    "duration": 148,
    "start_time": "2022-01-22T11:24:47.760Z"
   },
   {
    "duration": 381,
    "start_time": "2022-01-22T11:24:47.909Z"
   },
   {
    "duration": 12,
    "start_time": "2022-01-22T11:24:48.291Z"
   },
   {
    "duration": 65,
    "start_time": "2022-01-22T11:25:15.284Z"
   },
   {
    "duration": 6,
    "start_time": "2022-01-22T11:25:26.909Z"
   },
   {
    "duration": 6,
    "start_time": "2022-01-22T11:25:46.512Z"
   },
   {
    "duration": 1271,
    "start_time": "2022-01-22T11:26:09.852Z"
   },
   {
    "duration": 68,
    "start_time": "2022-01-22T11:26:11.125Z"
   },
   {
    "duration": 6,
    "start_time": "2022-01-22T11:26:11.195Z"
   },
   {
    "duration": 19,
    "start_time": "2022-01-22T11:26:11.203Z"
   },
   {
    "duration": 19,
    "start_time": "2022-01-22T11:26:11.223Z"
   },
   {
    "duration": 22,
    "start_time": "2022-01-22T11:26:11.243Z"
   },
   {
    "duration": 27,
    "start_time": "2022-01-22T11:26:11.266Z"
   },
   {
    "duration": 14,
    "start_time": "2022-01-22T11:26:11.295Z"
   },
   {
    "duration": 23,
    "start_time": "2022-01-22T11:26:11.311Z"
   },
   {
    "duration": 16,
    "start_time": "2022-01-22T11:26:11.336Z"
   },
   {
    "duration": 19,
    "start_time": "2022-01-22T11:26:11.353Z"
   },
   {
    "duration": 9,
    "start_time": "2022-01-22T11:26:11.374Z"
   },
   {
    "duration": 6,
    "start_time": "2022-01-22T11:26:11.385Z"
   },
   {
    "duration": 8,
    "start_time": "2022-01-22T11:26:11.392Z"
   },
   {
    "duration": 11,
    "start_time": "2022-01-22T11:26:11.402Z"
   },
   {
    "duration": 11,
    "start_time": "2022-01-22T11:26:11.415Z"
   },
   {
    "duration": 671,
    "start_time": "2022-01-22T11:26:11.427Z"
   },
   {
    "duration": 305,
    "start_time": "2022-01-22T11:26:12.100Z"
   },
   {
    "duration": 374,
    "start_time": "2022-01-22T11:26:12.407Z"
   },
   {
    "duration": 312,
    "start_time": "2022-01-22T11:26:12.783Z"
   },
   {
    "duration": 430,
    "start_time": "2022-01-22T11:26:13.097Z"
   },
   {
    "duration": 478,
    "start_time": "2022-01-22T11:26:13.529Z"
   },
   {
    "duration": 4,
    "start_time": "2022-01-22T11:26:14.010Z"
   },
   {
    "duration": 390,
    "start_time": "2022-01-22T11:26:14.016Z"
   },
   {
    "duration": 4,
    "start_time": "2022-01-22T11:26:14.407Z"
   },
   {
    "duration": 467,
    "start_time": "2022-01-22T11:26:14.412Z"
   },
   {
    "duration": 149,
    "start_time": "2022-01-22T11:26:14.881Z"
   },
   {
    "duration": 387,
    "start_time": "2022-01-22T11:26:15.032Z"
   },
   {
    "duration": 13,
    "start_time": "2022-01-22T11:26:15.421Z"
   },
   {
    "duration": 5,
    "start_time": "2022-01-22T11:26:32.413Z"
   },
   {
    "duration": 1145,
    "start_time": "2022-01-22T11:29:01.607Z"
   },
   {
    "duration": 64,
    "start_time": "2022-01-22T11:29:02.753Z"
   },
   {
    "duration": 6,
    "start_time": "2022-01-22T11:29:02.819Z"
   },
   {
    "duration": 7,
    "start_time": "2022-01-22T11:29:02.827Z"
   },
   {
    "duration": 4,
    "start_time": "2022-01-22T11:29:02.836Z"
   },
   {
    "duration": 9,
    "start_time": "2022-01-22T11:29:02.842Z"
   },
   {
    "duration": 5,
    "start_time": "2022-01-22T11:29:02.853Z"
   },
   {
    "duration": 5,
    "start_time": "2022-01-22T11:29:02.860Z"
   },
   {
    "duration": 4,
    "start_time": "2022-01-22T11:29:02.867Z"
   },
   {
    "duration": 10,
    "start_time": "2022-01-22T11:29:02.873Z"
   },
   {
    "duration": 14,
    "start_time": "2022-01-22T11:29:02.884Z"
   },
   {
    "duration": 9,
    "start_time": "2022-01-22T11:29:02.899Z"
   },
   {
    "duration": 9,
    "start_time": "2022-01-22T11:29:02.910Z"
   },
   {
    "duration": 13,
    "start_time": "2022-01-22T11:29:02.921Z"
   },
   {
    "duration": 15,
    "start_time": "2022-01-22T11:29:02.935Z"
   },
   {
    "duration": 9,
    "start_time": "2022-01-22T11:29:02.952Z"
   },
   {
    "duration": 645,
    "start_time": "2022-01-22T11:29:02.962Z"
   },
   {
    "duration": 321,
    "start_time": "2022-01-22T11:29:03.609Z"
   },
   {
    "duration": 402,
    "start_time": "2022-01-22T11:29:03.932Z"
   },
   {
    "duration": 308,
    "start_time": "2022-01-22T11:29:04.335Z"
   },
   {
    "duration": 450,
    "start_time": "2022-01-22T11:29:04.645Z"
   },
   {
    "duration": 489,
    "start_time": "2022-01-22T11:29:05.097Z"
   },
   {
    "duration": 4,
    "start_time": "2022-01-22T11:29:05.590Z"
   },
   {
    "duration": 403,
    "start_time": "2022-01-22T11:29:05.596Z"
   },
   {
    "duration": 3,
    "start_time": "2022-01-22T11:29:06.001Z"
   },
   {
    "duration": 454,
    "start_time": "2022-01-22T11:29:06.007Z"
   },
   {
    "duration": 135,
    "start_time": "2022-01-22T11:29:06.463Z"
   },
   {
    "duration": 365,
    "start_time": "2022-01-22T11:29:06.600Z"
   },
   {
    "duration": 12,
    "start_time": "2022-01-22T11:29:06.967Z"
   },
   {
    "duration": 630,
    "start_time": "2022-01-22T11:31:52.744Z"
   },
   {
    "duration": 341,
    "start_time": "2022-01-22T11:34:40.101Z"
   },
   {
    "duration": 379,
    "start_time": "2022-01-22T11:37:21.634Z"
   },
   {
    "duration": 300,
    "start_time": "2022-01-22T11:38:15.167Z"
   },
   {
    "duration": 474,
    "start_time": "2022-01-22T11:39:01.339Z"
   },
   {
    "duration": 444,
    "start_time": "2022-01-22T11:39:06.829Z"
   },
   {
    "duration": 200,
    "start_time": "2022-01-22T11:40:21.567Z"
   },
   {
    "duration": 130,
    "start_time": "2022-01-22T11:40:26.781Z"
   },
   {
    "duration": 109,
    "start_time": "2022-01-22T11:40:49.864Z"
   },
   {
    "duration": 446,
    "start_time": "2022-01-22T11:41:12.264Z"
   },
   {
    "duration": 452,
    "start_time": "2022-01-22T11:42:29.633Z"
   },
   {
    "duration": 153,
    "start_time": "2022-01-22T11:43:28.541Z"
   },
   {
    "duration": 128,
    "start_time": "2022-01-22T11:43:56.256Z"
   },
   {
    "duration": 359,
    "start_time": "2022-01-22T11:46:48.216Z"
   },
   {
    "duration": 377,
    "start_time": "2022-01-22T11:54:33.816Z"
   },
   {
    "duration": 14,
    "start_time": "2022-01-22T11:55:07.328Z"
   },
   {
    "duration": 1081,
    "start_time": "2022-01-22T12:06:50.843Z"
   },
   {
    "duration": 65,
    "start_time": "2022-01-22T12:06:51.926Z"
   },
   {
    "duration": 6,
    "start_time": "2022-01-22T12:06:51.994Z"
   },
   {
    "duration": 15,
    "start_time": "2022-01-22T12:06:52.002Z"
   },
   {
    "duration": 26,
    "start_time": "2022-01-22T12:06:52.018Z"
   },
   {
    "duration": 16,
    "start_time": "2022-01-22T12:06:52.046Z"
   },
   {
    "duration": 24,
    "start_time": "2022-01-22T12:06:52.064Z"
   },
   {
    "duration": 11,
    "start_time": "2022-01-22T12:06:52.090Z"
   },
   {
    "duration": 13,
    "start_time": "2022-01-22T12:06:52.103Z"
   },
   {
    "duration": 27,
    "start_time": "2022-01-22T12:06:52.117Z"
   },
   {
    "duration": 13,
    "start_time": "2022-01-22T12:06:52.145Z"
   },
   {
    "duration": 21,
    "start_time": "2022-01-22T12:06:52.160Z"
   },
   {
    "duration": 20,
    "start_time": "2022-01-22T12:06:52.183Z"
   },
   {
    "duration": 23,
    "start_time": "2022-01-22T12:06:52.204Z"
   },
   {
    "duration": 24,
    "start_time": "2022-01-22T12:06:52.228Z"
   },
   {
    "duration": 17,
    "start_time": "2022-01-22T12:06:52.254Z"
   },
   {
    "duration": 617,
    "start_time": "2022-01-22T12:06:52.272Z"
   },
   {
    "duration": 316,
    "start_time": "2022-01-22T12:06:52.891Z"
   },
   {
    "duration": 406,
    "start_time": "2022-01-22T12:06:53.208Z"
   },
   {
    "duration": 296,
    "start_time": "2022-01-22T12:06:53.616Z"
   },
   {
    "duration": 405,
    "start_time": "2022-01-22T12:06:53.913Z"
   },
   {
    "duration": 534,
    "start_time": "2022-01-22T12:06:54.320Z"
   },
   {
    "duration": 15,
    "start_time": "2022-01-22T12:06:54.856Z"
   },
   {
    "duration": 413,
    "start_time": "2022-01-22T12:06:54.872Z"
   },
   {
    "duration": 4,
    "start_time": "2022-01-22T12:06:55.287Z"
   },
   {
    "duration": 460,
    "start_time": "2022-01-22T12:06:55.293Z"
   },
   {
    "duration": 140,
    "start_time": "2022-01-22T12:06:55.755Z"
   },
   {
    "duration": 389,
    "start_time": "2022-01-22T12:06:55.897Z"
   },
   {
    "duration": 12,
    "start_time": "2022-01-22T12:06:56.288Z"
   },
   {
    "duration": 7819,
    "start_time": "2022-01-22T12:08:02.422Z"
   },
   {
    "duration": 7518,
    "start_time": "2022-01-22T12:08:20.712Z"
   },
   {
    "duration": 7399,
    "start_time": "2022-01-22T12:09:07.068Z"
   },
   {
    "duration": 4,
    "start_time": "2022-01-22T12:09:25.799Z"
   },
   {
    "duration": 4,
    "start_time": "2022-01-22T12:09:38.555Z"
   },
   {
    "duration": 2466,
    "start_time": "2022-01-22T12:10:04.425Z"
   },
   {
    "duration": 1655,
    "start_time": "2022-01-22T12:10:08.938Z"
   },
   {
    "duration": 10,
    "start_time": "2022-01-22T12:10:27.324Z"
   },
   {
    "duration": 4,
    "start_time": "2022-01-22T12:10:31.492Z"
   },
   {
    "duration": 5,
    "start_time": "2022-01-22T12:10:42.381Z"
   },
   {
    "duration": 6,
    "start_time": "2022-01-22T12:10:53.411Z"
   },
   {
    "duration": 7,
    "start_time": "2022-01-22T12:11:06.398Z"
   },
   {
    "duration": 99,
    "start_time": "2022-01-22T12:11:58.062Z"
   },
   {
    "duration": 7,
    "start_time": "2022-01-22T12:12:05.004Z"
   },
   {
    "duration": 1051,
    "start_time": "2022-01-22T12:15:32.488Z"
   },
   {
    "duration": 84,
    "start_time": "2022-01-22T12:15:33.540Z"
   },
   {
    "duration": 6,
    "start_time": "2022-01-22T12:15:33.626Z"
   },
   {
    "duration": 16,
    "start_time": "2022-01-22T12:15:33.634Z"
   },
   {
    "duration": 8,
    "start_time": "2022-01-22T12:15:33.651Z"
   },
   {
    "duration": 17,
    "start_time": "2022-01-22T12:15:33.661Z"
   },
   {
    "duration": 19,
    "start_time": "2022-01-22T12:15:33.679Z"
   },
   {
    "duration": 11,
    "start_time": "2022-01-22T12:15:33.700Z"
   },
   {
    "duration": 16,
    "start_time": "2022-01-22T12:15:33.713Z"
   },
   {
    "duration": 23,
    "start_time": "2022-01-22T12:15:33.731Z"
   },
   {
    "duration": 10,
    "start_time": "2022-01-22T12:15:33.756Z"
   },
   {
    "duration": 30,
    "start_time": "2022-01-22T12:15:33.767Z"
   },
   {
    "duration": 10,
    "start_time": "2022-01-22T12:15:33.799Z"
   },
   {
    "duration": 20,
    "start_time": "2022-01-22T12:15:33.811Z"
   },
   {
    "duration": 18,
    "start_time": "2022-01-22T12:15:33.832Z"
   },
   {
    "duration": 24,
    "start_time": "2022-01-22T12:15:33.852Z"
   },
   {
    "duration": 624,
    "start_time": "2022-01-22T12:15:33.877Z"
   },
   {
    "duration": 298,
    "start_time": "2022-01-22T12:15:34.503Z"
   },
   {
    "duration": 387,
    "start_time": "2022-01-22T12:15:34.802Z"
   },
   {
    "duration": 320,
    "start_time": "2022-01-22T12:15:35.191Z"
   },
   {
    "duration": 415,
    "start_time": "2022-01-22T12:15:35.512Z"
   },
   {
    "duration": 478,
    "start_time": "2022-01-22T12:15:35.929Z"
   },
   {
    "duration": 4,
    "start_time": "2022-01-22T12:15:36.410Z"
   },
   {
    "duration": 390,
    "start_time": "2022-01-22T12:15:36.416Z"
   },
   {
    "duration": 4,
    "start_time": "2022-01-22T12:15:36.808Z"
   },
   {
    "duration": 463,
    "start_time": "2022-01-22T12:15:36.815Z"
   },
   {
    "duration": 140,
    "start_time": "2022-01-22T12:15:37.280Z"
   },
   {
    "duration": 375,
    "start_time": "2022-01-22T12:15:37.422Z"
   },
   {
    "duration": 12,
    "start_time": "2022-01-22T12:15:37.799Z"
   },
   {
    "duration": 103,
    "start_time": "2022-01-22T12:16:34.137Z"
   },
   {
    "duration": 136,
    "start_time": "2022-01-22T12:16:34.106Z"
   },
   {
    "duration": 134,
    "start_time": "2022-01-22T12:16:34.109Z"
   },
   {
    "duration": 133,
    "start_time": "2022-01-22T12:16:34.111Z"
   },
   {
    "duration": 98,
    "start_time": "2022-01-22T12:16:34.148Z"
   },
   {
    "duration": 96,
    "start_time": "2022-01-22T12:16:34.151Z"
   },
   {
    "duration": 95,
    "start_time": "2022-01-22T12:16:34.152Z"
   },
   {
    "duration": 93,
    "start_time": "2022-01-22T12:16:34.155Z"
   },
   {
    "duration": 93,
    "start_time": "2022-01-22T12:16:34.156Z"
   },
   {
    "duration": 92,
    "start_time": "2022-01-22T12:16:34.158Z"
   },
   {
    "duration": 92,
    "start_time": "2022-01-22T12:16:34.159Z"
   },
   {
    "duration": 91,
    "start_time": "2022-01-22T12:16:34.161Z"
   },
   {
    "duration": 89,
    "start_time": "2022-01-22T12:16:34.164Z"
   },
   {
    "duration": 89,
    "start_time": "2022-01-22T12:16:34.165Z"
   },
   {
    "duration": 88,
    "start_time": "2022-01-22T12:16:34.167Z"
   },
   {
    "duration": 88,
    "start_time": "2022-01-22T12:16:34.168Z"
   },
   {
    "duration": 87,
    "start_time": "2022-01-22T12:16:34.170Z"
   },
   {
    "duration": 86,
    "start_time": "2022-01-22T12:16:34.172Z"
   },
   {
    "duration": 85,
    "start_time": "2022-01-22T12:16:34.174Z"
   },
   {
    "duration": 84,
    "start_time": "2022-01-22T12:16:34.176Z"
   },
   {
    "duration": 83,
    "start_time": "2022-01-22T12:16:34.178Z"
   },
   {
    "duration": 82,
    "start_time": "2022-01-22T12:16:34.180Z"
   },
   {
    "duration": 82,
    "start_time": "2022-01-22T12:16:34.181Z"
   },
   {
    "duration": 81,
    "start_time": "2022-01-22T12:16:34.183Z"
   },
   {
    "duration": 80,
    "start_time": "2022-01-22T12:16:34.185Z"
   },
   {
    "duration": 66,
    "start_time": "2022-01-22T12:16:34.200Z"
   },
   {
    "duration": 64,
    "start_time": "2022-01-22T12:16:34.203Z"
   },
   {
    "duration": 63,
    "start_time": "2022-01-22T12:16:34.205Z"
   },
   {
    "duration": 62,
    "start_time": "2022-01-22T12:16:34.207Z"
   },
   {
    "duration": 937,
    "start_time": "2022-01-22T12:16:53.023Z"
   },
   {
    "duration": 75,
    "start_time": "2022-01-22T12:16:53.962Z"
   },
   {
    "duration": 6,
    "start_time": "2022-01-22T12:16:54.039Z"
   },
   {
    "duration": 8,
    "start_time": "2022-01-22T12:16:54.046Z"
   },
   {
    "duration": 2,
    "start_time": "2022-01-22T12:16:54.056Z"
   },
   {
    "duration": 11,
    "start_time": "2022-01-22T12:16:54.060Z"
   },
   {
    "duration": 5,
    "start_time": "2022-01-22T12:16:54.072Z"
   },
   {
    "duration": 12,
    "start_time": "2022-01-22T12:16:54.079Z"
   },
   {
    "duration": 3,
    "start_time": "2022-01-22T12:16:54.093Z"
   },
   {
    "duration": 9,
    "start_time": "2022-01-22T12:16:54.098Z"
   },
   {
    "duration": 14,
    "start_time": "2022-01-22T12:16:54.109Z"
   },
   {
    "duration": 10,
    "start_time": "2022-01-22T12:16:54.124Z"
   },
   {
    "duration": 11,
    "start_time": "2022-01-22T12:16:54.135Z"
   },
   {
    "duration": 12,
    "start_time": "2022-01-22T12:16:54.147Z"
   },
   {
    "duration": 19,
    "start_time": "2022-01-22T12:16:54.161Z"
   },
   {
    "duration": 9,
    "start_time": "2022-01-22T12:16:54.182Z"
   },
   {
    "duration": 641,
    "start_time": "2022-01-22T12:16:54.193Z"
   },
   {
    "duration": 303,
    "start_time": "2022-01-22T12:16:54.836Z"
   },
   {
    "duration": 441,
    "start_time": "2022-01-22T12:16:55.140Z"
   },
   {
    "duration": 314,
    "start_time": "2022-01-22T12:16:55.583Z"
   },
   {
    "duration": 423,
    "start_time": "2022-01-22T12:16:55.899Z"
   },
   {
    "duration": 450,
    "start_time": "2022-01-22T12:16:56.324Z"
   },
   {
    "duration": 4,
    "start_time": "2022-01-22T12:16:56.777Z"
   },
   {
    "duration": 395,
    "start_time": "2022-01-22T12:16:56.783Z"
   },
   {
    "duration": 4,
    "start_time": "2022-01-22T12:16:57.180Z"
   },
   {
    "duration": 453,
    "start_time": "2022-01-22T12:16:57.185Z"
   },
   {
    "duration": 137,
    "start_time": "2022-01-22T12:16:57.640Z"
   },
   {
    "duration": 381,
    "start_time": "2022-01-22T12:16:57.779Z"
   },
   {
    "duration": 19,
    "start_time": "2022-01-22T12:16:58.161Z"
   },
   {
    "duration": 1014,
    "start_time": "2022-01-22T12:20:27.135Z"
   },
   {
    "duration": 442,
    "start_time": "2022-01-22T12:20:28.151Z"
   },
   {
    "duration": 129,
    "start_time": "2022-01-22T12:20:28.467Z"
   },
   {
    "duration": 125,
    "start_time": "2022-01-22T12:20:28.472Z"
   },
   {
    "duration": 103,
    "start_time": "2022-01-22T12:20:28.495Z"
   },
   {
    "duration": 100,
    "start_time": "2022-01-22T12:20:28.499Z"
   },
   {
    "duration": 97,
    "start_time": "2022-01-22T12:20:28.503Z"
   },
   {
    "duration": 93,
    "start_time": "2022-01-22T12:20:28.508Z"
   },
   {
    "duration": 92,
    "start_time": "2022-01-22T12:20:28.511Z"
   },
   {
    "duration": 88,
    "start_time": "2022-01-22T12:20:28.515Z"
   },
   {
    "duration": 87,
    "start_time": "2022-01-22T12:20:28.517Z"
   },
   {
    "duration": 86,
    "start_time": "2022-01-22T12:20:28.519Z"
   },
   {
    "duration": 85,
    "start_time": "2022-01-22T12:20:28.522Z"
   },
   {
    "duration": 84,
    "start_time": "2022-01-22T12:20:28.524Z"
   },
   {
    "duration": 83,
    "start_time": "2022-01-22T12:20:28.526Z"
   },
   {
    "duration": 81,
    "start_time": "2022-01-22T12:20:28.528Z"
   },
   {
    "duration": 78,
    "start_time": "2022-01-22T12:20:28.533Z"
   },
   {
    "duration": 76,
    "start_time": "2022-01-22T12:20:28.536Z"
   },
   {
    "duration": 75,
    "start_time": "2022-01-22T12:20:28.537Z"
   },
   {
    "duration": 74,
    "start_time": "2022-01-22T12:20:28.539Z"
   },
   {
    "duration": 74,
    "start_time": "2022-01-22T12:20:28.540Z"
   },
   {
    "duration": 73,
    "start_time": "2022-01-22T12:20:28.542Z"
   },
   {
    "duration": 72,
    "start_time": "2022-01-22T12:20:28.544Z"
   },
   {
    "duration": 70,
    "start_time": "2022-01-22T12:20:28.547Z"
   },
   {
    "duration": 70,
    "start_time": "2022-01-22T12:20:28.548Z"
   },
   {
    "duration": 66,
    "start_time": "2022-01-22T12:20:28.554Z"
   },
   {
    "duration": 65,
    "start_time": "2022-01-22T12:20:28.556Z"
   },
   {
    "duration": 65,
    "start_time": "2022-01-22T12:20:28.558Z"
   },
   {
    "duration": 64,
    "start_time": "2022-01-22T12:20:28.560Z"
   },
   {
    "duration": 1056,
    "start_time": "2022-01-22T12:20:59.395Z"
   },
   {
    "duration": 65,
    "start_time": "2022-01-22T12:21:00.453Z"
   },
   {
    "duration": 6,
    "start_time": "2022-01-22T12:21:00.520Z"
   },
   {
    "duration": 9,
    "start_time": "2022-01-22T12:21:00.528Z"
   },
   {
    "duration": 11,
    "start_time": "2022-01-22T12:21:00.538Z"
   },
   {
    "duration": 13,
    "start_time": "2022-01-22T12:21:00.550Z"
   },
   {
    "duration": 5,
    "start_time": "2022-01-22T12:21:00.565Z"
   },
   {
    "duration": 10,
    "start_time": "2022-01-22T12:21:00.573Z"
   },
   {
    "duration": 4,
    "start_time": "2022-01-22T12:21:00.585Z"
   },
   {
    "duration": 12,
    "start_time": "2022-01-22T12:21:00.591Z"
   },
   {
    "duration": 14,
    "start_time": "2022-01-22T12:21:00.604Z"
   },
   {
    "duration": 17,
    "start_time": "2022-01-22T12:21:00.620Z"
   },
   {
    "duration": 9,
    "start_time": "2022-01-22T12:21:00.639Z"
   },
   {
    "duration": 19,
    "start_time": "2022-01-22T12:21:00.649Z"
   },
   {
    "duration": 31,
    "start_time": "2022-01-22T12:21:00.670Z"
   },
   {
    "duration": 13,
    "start_time": "2022-01-22T12:21:00.703Z"
   },
   {
    "duration": 660,
    "start_time": "2022-01-22T12:21:00.717Z"
   },
   {
    "duration": 307,
    "start_time": "2022-01-22T12:21:01.379Z"
   },
   {
    "duration": 408,
    "start_time": "2022-01-22T12:21:01.687Z"
   },
   {
    "duration": 332,
    "start_time": "2022-01-22T12:21:02.096Z"
   },
   {
    "duration": 443,
    "start_time": "2022-01-22T12:21:02.429Z"
   },
   {
    "duration": 512,
    "start_time": "2022-01-22T12:21:02.873Z"
   },
   {
    "duration": 3,
    "start_time": "2022-01-22T12:21:03.388Z"
   },
   {
    "duration": 388,
    "start_time": "2022-01-22T12:21:03.393Z"
   },
   {
    "duration": 4,
    "start_time": "2022-01-22T12:21:03.783Z"
   },
   {
    "duration": 458,
    "start_time": "2022-01-22T12:21:03.789Z"
   },
   {
    "duration": 146,
    "start_time": "2022-01-22T12:21:04.249Z"
   },
   {
    "duration": 380,
    "start_time": "2022-01-22T12:21:04.397Z"
   },
   {
    "duration": 13,
    "start_time": "2022-01-22T12:21:04.779Z"
   },
   {
    "duration": 1084,
    "start_time": "2022-01-22T12:22:01.254Z"
   },
   {
    "duration": 64,
    "start_time": "2022-01-22T12:22:02.340Z"
   },
   {
    "duration": 5,
    "start_time": "2022-01-22T12:22:02.406Z"
   },
   {
    "duration": 7,
    "start_time": "2022-01-22T12:22:02.413Z"
   },
   {
    "duration": 3,
    "start_time": "2022-01-22T12:22:02.422Z"
   },
   {
    "duration": 9,
    "start_time": "2022-01-22T12:22:02.427Z"
   },
   {
    "duration": 5,
    "start_time": "2022-01-22T12:22:02.437Z"
   },
   {
    "duration": 6,
    "start_time": "2022-01-22T12:22:02.444Z"
   },
   {
    "duration": 4,
    "start_time": "2022-01-22T12:22:02.453Z"
   },
   {
    "duration": 10,
    "start_time": "2022-01-22T12:22:02.458Z"
   },
   {
    "duration": 13,
    "start_time": "2022-01-22T12:22:02.469Z"
   },
   {
    "duration": 9,
    "start_time": "2022-01-22T12:22:02.483Z"
   },
   {
    "duration": 8,
    "start_time": "2022-01-22T12:22:02.494Z"
   },
   {
    "duration": 12,
    "start_time": "2022-01-22T12:22:02.504Z"
   },
   {
    "duration": 14,
    "start_time": "2022-01-22T12:22:02.517Z"
   },
   {
    "duration": 12,
    "start_time": "2022-01-22T12:22:02.533Z"
   },
   {
    "duration": 748,
    "start_time": "2022-01-22T12:22:02.546Z"
   },
   {
    "duration": 307,
    "start_time": "2022-01-22T12:22:03.296Z"
   },
   {
    "duration": 387,
    "start_time": "2022-01-22T12:22:03.605Z"
   },
   {
    "duration": 320,
    "start_time": "2022-01-22T12:22:03.994Z"
   },
   {
    "duration": 411,
    "start_time": "2022-01-22T12:22:04.316Z"
   },
   {
    "duration": 463,
    "start_time": "2022-01-22T12:22:04.729Z"
   },
   {
    "duration": 5,
    "start_time": "2022-01-22T12:22:05.194Z"
   },
   {
    "duration": 394,
    "start_time": "2022-01-22T12:22:05.201Z"
   },
   {
    "duration": 4,
    "start_time": "2022-01-22T12:22:05.597Z"
   },
   {
    "duration": 468,
    "start_time": "2022-01-22T12:22:05.603Z"
   },
   {
    "duration": 142,
    "start_time": "2022-01-22T12:22:06.074Z"
   },
   {
    "duration": 386,
    "start_time": "2022-01-22T12:22:06.218Z"
   },
   {
    "duration": 14,
    "start_time": "2022-01-22T12:22:06.606Z"
   },
   {
    "duration": 1006,
    "start_time": "2022-01-22T12:22:39.495Z"
   },
   {
    "duration": 63,
    "start_time": "2022-01-22T12:22:40.503Z"
   },
   {
    "duration": 6,
    "start_time": "2022-01-22T12:22:40.567Z"
   },
   {
    "duration": 7,
    "start_time": "2022-01-22T12:22:40.575Z"
   },
   {
    "duration": 3,
    "start_time": "2022-01-22T12:22:40.584Z"
   },
   {
    "duration": 10,
    "start_time": "2022-01-22T12:22:40.589Z"
   },
   {
    "duration": 5,
    "start_time": "2022-01-22T12:22:40.600Z"
   },
   {
    "duration": 5,
    "start_time": "2022-01-22T12:22:40.608Z"
   },
   {
    "duration": 5,
    "start_time": "2022-01-22T12:22:40.615Z"
   },
   {
    "duration": 15,
    "start_time": "2022-01-22T12:22:40.621Z"
   },
   {
    "duration": 14,
    "start_time": "2022-01-22T12:22:40.637Z"
   },
   {
    "duration": 20,
    "start_time": "2022-01-22T12:22:40.652Z"
   },
   {
    "duration": 9,
    "start_time": "2022-01-22T12:22:40.673Z"
   },
   {
    "duration": 15,
    "start_time": "2022-01-22T12:22:40.683Z"
   },
   {
    "duration": 14,
    "start_time": "2022-01-22T12:22:40.700Z"
   },
   {
    "duration": 10,
    "start_time": "2022-01-22T12:22:40.716Z"
   },
   {
    "duration": 668,
    "start_time": "2022-01-22T12:22:40.728Z"
   },
   {
    "duration": 297,
    "start_time": "2022-01-22T12:22:41.398Z"
   },
   {
    "duration": 406,
    "start_time": "2022-01-22T12:22:41.697Z"
   },
   {
    "duration": 307,
    "start_time": "2022-01-22T12:22:42.104Z"
   },
   {
    "duration": 410,
    "start_time": "2022-01-22T12:22:42.413Z"
   },
   {
    "duration": 457,
    "start_time": "2022-01-22T12:22:42.824Z"
   },
   {
    "duration": 3,
    "start_time": "2022-01-22T12:22:43.284Z"
   },
   {
    "duration": 399,
    "start_time": "2022-01-22T12:22:43.289Z"
   },
   {
    "duration": 3,
    "start_time": "2022-01-22T12:22:43.690Z"
   },
   {
    "duration": 477,
    "start_time": "2022-01-22T12:22:43.695Z"
   },
   {
    "duration": 147,
    "start_time": "2022-01-22T12:22:44.173Z"
   },
   {
    "duration": 374,
    "start_time": "2022-01-22T12:22:44.321Z"
   },
   {
    "duration": 13,
    "start_time": "2022-01-22T12:22:44.697Z"
   },
   {
    "duration": 444,
    "start_time": "2022-01-22T12:29:32.443Z"
   },
   {
    "duration": 526,
    "start_time": "2022-01-22T12:29:39.902Z"
   },
   {
    "duration": 1000,
    "start_time": "2022-01-22T12:29:46.657Z"
   },
   {
    "duration": 64,
    "start_time": "2022-01-22T12:29:47.659Z"
   },
   {
    "duration": 7,
    "start_time": "2022-01-22T12:29:47.725Z"
   },
   {
    "duration": 21,
    "start_time": "2022-01-22T12:29:47.734Z"
   },
   {
    "duration": 22,
    "start_time": "2022-01-22T12:29:47.757Z"
   },
   {
    "duration": 16,
    "start_time": "2022-01-22T12:29:47.781Z"
   },
   {
    "duration": 14,
    "start_time": "2022-01-22T12:29:47.799Z"
   },
   {
    "duration": 12,
    "start_time": "2022-01-22T12:29:47.817Z"
   },
   {
    "duration": 15,
    "start_time": "2022-01-22T12:29:47.831Z"
   },
   {
    "duration": 28,
    "start_time": "2022-01-22T12:29:47.848Z"
   },
   {
    "duration": 25,
    "start_time": "2022-01-22T12:29:47.878Z"
   },
   {
    "duration": 16,
    "start_time": "2022-01-22T12:29:47.905Z"
   },
   {
    "duration": 20,
    "start_time": "2022-01-22T12:29:47.923Z"
   },
   {
    "duration": 16,
    "start_time": "2022-01-22T12:29:47.945Z"
   },
   {
    "duration": 25,
    "start_time": "2022-01-22T12:29:47.963Z"
   },
   {
    "duration": 24,
    "start_time": "2022-01-22T12:29:47.989Z"
   },
   {
    "duration": 629,
    "start_time": "2022-01-22T12:29:48.014Z"
   },
   {
    "duration": 317,
    "start_time": "2022-01-22T12:29:48.645Z"
   },
   {
    "duration": 426,
    "start_time": "2022-01-22T12:29:48.964Z"
   },
   {
    "duration": 302,
    "start_time": "2022-01-22T12:29:49.391Z"
   },
   {
    "duration": 412,
    "start_time": "2022-01-22T12:29:49.696Z"
   },
   {
    "duration": 462,
    "start_time": "2022-01-22T12:29:50.110Z"
   },
   {
    "duration": 4,
    "start_time": "2022-01-22T12:29:50.575Z"
   },
   {
    "duration": 404,
    "start_time": "2022-01-22T12:29:50.581Z"
   },
   {
    "duration": 3,
    "start_time": "2022-01-22T12:29:50.987Z"
   },
   {
    "duration": 455,
    "start_time": "2022-01-22T12:29:50.992Z"
   },
   {
    "duration": 128,
    "start_time": "2022-01-22T12:29:51.449Z"
   },
   {
    "duration": 361,
    "start_time": "2022-01-22T12:29:51.579Z"
   },
   {
    "duration": 11,
    "start_time": "2022-01-22T12:29:51.942Z"
   },
   {
    "duration": 1038,
    "start_time": "2022-01-22T17:32:04.163Z"
   },
   {
    "duration": 55,
    "start_time": "2022-01-22T17:32:05.203Z"
   },
   {
    "duration": 7,
    "start_time": "2022-01-22T17:32:05.260Z"
   },
   {
    "duration": 9,
    "start_time": "2022-01-22T17:32:05.269Z"
   },
   {
    "duration": 4,
    "start_time": "2022-01-22T17:32:05.280Z"
   },
   {
    "duration": 10,
    "start_time": "2022-01-22T17:32:05.286Z"
   },
   {
    "duration": 6,
    "start_time": "2022-01-22T17:32:05.298Z"
   },
   {
    "duration": 7,
    "start_time": "2022-01-22T17:32:05.306Z"
   },
   {
    "duration": 4,
    "start_time": "2022-01-22T17:32:05.315Z"
   },
   {
    "duration": 7,
    "start_time": "2022-01-22T17:32:05.320Z"
   },
   {
    "duration": 9,
    "start_time": "2022-01-22T17:32:05.328Z"
   },
   {
    "duration": 6,
    "start_time": "2022-01-22T17:32:05.338Z"
   },
   {
    "duration": 15,
    "start_time": "2022-01-22T17:32:05.345Z"
   },
   {
    "duration": 12,
    "start_time": "2022-01-22T17:32:05.361Z"
   },
   {
    "duration": 10,
    "start_time": "2022-01-22T17:32:05.375Z"
   },
   {
    "duration": 31,
    "start_time": "2022-01-22T17:32:05.387Z"
   },
   {
    "duration": 670,
    "start_time": "2022-01-22T17:32:05.420Z"
   },
   {
    "duration": 333,
    "start_time": "2022-01-22T17:32:06.091Z"
   },
   {
    "duration": 418,
    "start_time": "2022-01-22T17:32:06.425Z"
   },
   {
    "duration": 333,
    "start_time": "2022-01-22T17:32:06.845Z"
   },
   {
    "duration": 474,
    "start_time": "2022-01-22T17:32:07.179Z"
   },
   {
    "duration": 502,
    "start_time": "2022-01-22T17:32:07.655Z"
   },
   {
    "duration": 3,
    "start_time": "2022-01-22T17:32:08.159Z"
   },
   {
    "duration": 404,
    "start_time": "2022-01-22T17:32:08.164Z"
   },
   {
    "duration": 4,
    "start_time": "2022-01-22T17:32:08.570Z"
   },
   {
    "duration": 471,
    "start_time": "2022-01-22T17:32:08.576Z"
   },
   {
    "duration": 162,
    "start_time": "2022-01-22T17:32:09.051Z"
   },
   {
    "duration": 369,
    "start_time": "2022-01-22T17:32:09.215Z"
   },
   {
    "duration": 13,
    "start_time": "2022-01-22T17:32:09.585Z"
   },
   {
    "duration": 5,
    "start_time": "2022-01-22T17:37:47.989Z"
   },
   {
    "duration": 4,
    "start_time": "2022-01-22T17:37:58.228Z"
   },
   {
    "duration": 3,
    "start_time": "2022-01-22T17:38:08.548Z"
   },
   {
    "duration": 4,
    "start_time": "2022-01-22T17:38:37.883Z"
   },
   {
    "duration": 7,
    "start_time": "2022-01-22T17:41:18.266Z"
   },
   {
    "duration": 7,
    "start_time": "2022-01-22T17:41:31.384Z"
   },
   {
    "duration": 7,
    "start_time": "2022-01-22T17:41:44.009Z"
   },
   {
    "duration": 6,
    "start_time": "2022-01-22T17:42:00.448Z"
   },
   {
    "duration": 237,
    "start_time": "2022-01-23T10:21:21.118Z"
   },
   {
    "duration": 1088,
    "start_time": "2022-01-23T10:21:28.098Z"
   },
   {
    "duration": 62,
    "start_time": "2022-01-23T10:21:29.187Z"
   },
   {
    "duration": 6,
    "start_time": "2022-01-23T10:21:29.251Z"
   },
   {
    "duration": 8,
    "start_time": "2022-01-23T10:21:29.259Z"
   },
   {
    "duration": 5,
    "start_time": "2022-01-23T10:21:29.268Z"
   },
   {
    "duration": 10,
    "start_time": "2022-01-23T10:21:29.274Z"
   },
   {
    "duration": 5,
    "start_time": "2022-01-23T10:21:29.286Z"
   },
   {
    "duration": 5,
    "start_time": "2022-01-23T10:21:29.293Z"
   },
   {
    "duration": 3,
    "start_time": "2022-01-23T10:21:29.300Z"
   },
   {
    "duration": 9,
    "start_time": "2022-01-23T10:21:29.304Z"
   },
   {
    "duration": 7,
    "start_time": "2022-01-23T10:21:29.315Z"
   },
   {
    "duration": 7,
    "start_time": "2022-01-23T10:21:29.323Z"
   },
   {
    "duration": 5,
    "start_time": "2022-01-23T10:21:29.332Z"
   },
   {
    "duration": 10,
    "start_time": "2022-01-23T10:21:29.339Z"
   },
   {
    "duration": 5,
    "start_time": "2022-01-23T10:21:29.351Z"
   },
   {
    "duration": 12,
    "start_time": "2022-01-23T10:21:29.357Z"
   },
   {
    "duration": 43,
    "start_time": "2022-01-23T10:21:29.370Z"
   },
   {
    "duration": 671,
    "start_time": "2022-01-23T10:21:29.415Z"
   },
   {
    "duration": 327,
    "start_time": "2022-01-23T10:21:30.088Z"
   },
   {
    "duration": 429,
    "start_time": "2022-01-23T10:21:30.416Z"
   },
   {
    "duration": 327,
    "start_time": "2022-01-23T10:21:30.847Z"
   },
   {
    "duration": 463,
    "start_time": "2022-01-23T10:21:31.176Z"
   },
   {
    "duration": 492,
    "start_time": "2022-01-23T10:21:31.642Z"
   },
   {
    "duration": 4,
    "start_time": "2022-01-23T10:21:32.136Z"
   },
   {
    "duration": 413,
    "start_time": "2022-01-23T10:21:32.141Z"
   },
   {
    "duration": 5,
    "start_time": "2022-01-23T10:21:32.555Z"
   },
   {
    "duration": 478,
    "start_time": "2022-01-23T10:21:32.561Z"
   },
   {
    "duration": 141,
    "start_time": "2022-01-23T10:21:33.040Z"
   },
   {
    "duration": 374,
    "start_time": "2022-01-23T10:21:33.183Z"
   },
   {
    "duration": 12,
    "start_time": "2022-01-23T10:21:33.559Z"
   },
   {
    "duration": 7,
    "start_time": "2022-01-23T10:21:55.454Z"
   },
   {
    "duration": 12,
    "start_time": "2022-01-23T10:22:38.649Z"
   },
   {
    "duration": 7,
    "start_time": "2022-01-23T10:23:28.299Z"
   },
   {
    "duration": 7,
    "start_time": "2022-01-23T10:23:30.828Z"
   },
   {
    "duration": 5,
    "start_time": "2022-01-23T10:23:57.881Z"
   },
   {
    "duration": 7,
    "start_time": "2022-01-23T10:24:31.517Z"
   },
   {
    "duration": 6,
    "start_time": "2022-01-23T10:24:44.245Z"
   },
   {
    "duration": 6,
    "start_time": "2022-01-23T10:24:59.592Z"
   },
   {
    "duration": 6,
    "start_time": "2022-01-23T10:25:09.605Z"
   },
   {
    "duration": 70,
    "start_time": "2022-01-23T10:26:10.233Z"
   },
   {
    "duration": 4,
    "start_time": "2022-01-23T10:44:20.784Z"
   },
   {
    "duration": 949,
    "start_time": "2022-01-23T10:44:27.637Z"
   },
   {
    "duration": 58,
    "start_time": "2022-01-23T10:44:28.588Z"
   },
   {
    "duration": 6,
    "start_time": "2022-01-23T10:44:28.648Z"
   },
   {
    "duration": 8,
    "start_time": "2022-01-23T10:44:28.656Z"
   },
   {
    "duration": 5,
    "start_time": "2022-01-23T10:44:28.665Z"
   },
   {
    "duration": 10,
    "start_time": "2022-01-23T10:44:28.671Z"
   },
   {
    "duration": 6,
    "start_time": "2022-01-23T10:44:28.682Z"
   },
   {
    "duration": 6,
    "start_time": "2022-01-23T10:44:28.690Z"
   },
   {
    "duration": 4,
    "start_time": "2022-01-23T10:44:28.697Z"
   },
   {
    "duration": 12,
    "start_time": "2022-01-23T10:44:28.702Z"
   },
   {
    "duration": 8,
    "start_time": "2022-01-23T10:44:28.715Z"
   },
   {
    "duration": 9,
    "start_time": "2022-01-23T10:44:28.724Z"
   },
   {
    "duration": 7,
    "start_time": "2022-01-23T10:44:28.734Z"
   },
   {
    "duration": 12,
    "start_time": "2022-01-23T10:44:28.743Z"
   },
   {
    "duration": 8,
    "start_time": "2022-01-23T10:44:28.757Z"
   },
   {
    "duration": 5,
    "start_time": "2022-01-23T10:44:28.767Z"
   },
   {
    "duration": 40,
    "start_time": "2022-01-23T10:44:28.773Z"
   },
   {
    "duration": 10,
    "start_time": "2022-01-23T10:44:28.815Z"
   },
   {
    "duration": 669,
    "start_time": "2022-01-23T10:44:28.827Z"
   },
   {
    "duration": 321,
    "start_time": "2022-01-23T10:44:29.498Z"
   },
   {
    "duration": 428,
    "start_time": "2022-01-23T10:44:29.820Z"
   },
   {
    "duration": 336,
    "start_time": "2022-01-23T10:44:30.249Z"
   },
   {
    "duration": 471,
    "start_time": "2022-01-23T10:44:30.588Z"
   },
   {
    "duration": 530,
    "start_time": "2022-01-23T10:44:31.060Z"
   },
   {
    "duration": 3,
    "start_time": "2022-01-23T10:44:31.592Z"
   },
   {
    "duration": 466,
    "start_time": "2022-01-23T10:44:31.597Z"
   },
   {
    "duration": 4,
    "start_time": "2022-01-23T10:44:32.065Z"
   },
   {
    "duration": 472,
    "start_time": "2022-01-23T10:44:32.071Z"
   },
   {
    "duration": 143,
    "start_time": "2022-01-23T10:44:32.545Z"
   },
   {
    "duration": 401,
    "start_time": "2022-01-23T10:44:32.690Z"
   },
   {
    "duration": 24,
    "start_time": "2022-01-23T10:44:33.093Z"
   },
   {
    "duration": 984,
    "start_time": "2022-01-23T10:45:30.306Z"
   },
   {
    "duration": 55,
    "start_time": "2022-01-23T10:45:31.291Z"
   },
   {
    "duration": 6,
    "start_time": "2022-01-23T10:45:31.348Z"
   },
   {
    "duration": 11,
    "start_time": "2022-01-23T10:45:31.356Z"
   },
   {
    "duration": 5,
    "start_time": "2022-01-23T10:45:31.368Z"
   },
   {
    "duration": 9,
    "start_time": "2022-01-23T10:45:31.375Z"
   },
   {
    "duration": 6,
    "start_time": "2022-01-23T10:45:31.386Z"
   },
   {
    "duration": 6,
    "start_time": "2022-01-23T10:45:31.401Z"
   },
   {
    "duration": 4,
    "start_time": "2022-01-23T10:45:31.408Z"
   },
   {
    "duration": 7,
    "start_time": "2022-01-23T10:45:31.413Z"
   },
   {
    "duration": 9,
    "start_time": "2022-01-23T10:45:31.422Z"
   },
   {
    "duration": 7,
    "start_time": "2022-01-23T10:45:31.432Z"
   },
   {
    "duration": 9,
    "start_time": "2022-01-23T10:45:31.441Z"
   },
   {
    "duration": 16,
    "start_time": "2022-01-23T10:45:31.451Z"
   },
   {
    "duration": 9,
    "start_time": "2022-01-23T10:45:31.468Z"
   },
   {
    "duration": 7,
    "start_time": "2022-01-23T10:45:31.478Z"
   },
   {
    "duration": 33,
    "start_time": "2022-01-23T10:45:31.487Z"
   },
   {
    "duration": 12,
    "start_time": "2022-01-23T10:45:31.521Z"
   },
   {
    "duration": 679,
    "start_time": "2022-01-23T10:45:31.535Z"
   },
   {
    "duration": 326,
    "start_time": "2022-01-23T10:45:32.216Z"
   },
   {
    "duration": 427,
    "start_time": "2022-01-23T10:45:32.543Z"
   },
   {
    "duration": 321,
    "start_time": "2022-01-23T10:45:32.972Z"
   },
   {
    "duration": 481,
    "start_time": "2022-01-23T10:45:33.296Z"
   },
   {
    "duration": 483,
    "start_time": "2022-01-23T10:45:33.779Z"
   },
   {
    "duration": 4,
    "start_time": "2022-01-23T10:45:34.263Z"
   },
   {
    "duration": 389,
    "start_time": "2022-01-23T10:45:34.268Z"
   },
   {
    "duration": 4,
    "start_time": "2022-01-23T10:45:34.658Z"
   },
   {
    "duration": 479,
    "start_time": "2022-01-23T10:45:34.664Z"
   },
   {
    "duration": 136,
    "start_time": "2022-01-23T10:45:35.145Z"
   },
   {
    "duration": 380,
    "start_time": "2022-01-23T10:45:35.283Z"
   },
   {
    "duration": 14,
    "start_time": "2022-01-23T10:45:35.665Z"
   },
   {
    "duration": 11,
    "start_time": "2022-01-23T10:46:16.314Z"
   },
   {
    "duration": 296,
    "start_time": "2022-01-23T10:54:48.115Z"
   },
   {
    "duration": 216,
    "start_time": "2022-01-23T10:58:31.187Z"
   },
   {
    "duration": 11,
    "start_time": "2022-01-23T10:58:40.729Z"
   },
   {
    "duration": 12,
    "start_time": "2022-01-23T10:58:45.953Z"
   },
   {
    "duration": 104,
    "start_time": "2022-01-23T10:59:00.785Z"
   },
   {
    "duration": 10,
    "start_time": "2022-01-23T11:00:41.772Z"
   },
   {
    "duration": 10,
    "start_time": "2022-01-23T11:00:57.222Z"
   },
   {
    "duration": 3,
    "start_time": "2022-01-23T11:01:03.687Z"
   },
   {
    "duration": 1034,
    "start_time": "2022-01-23T11:01:08.535Z"
   },
   {
    "duration": 55,
    "start_time": "2022-01-23T11:01:09.570Z"
   },
   {
    "duration": 6,
    "start_time": "2022-01-23T11:01:09.627Z"
   },
   {
    "duration": 16,
    "start_time": "2022-01-23T11:01:09.634Z"
   },
   {
    "duration": 16,
    "start_time": "2022-01-23T11:01:09.651Z"
   },
   {
    "duration": 14,
    "start_time": "2022-01-23T11:01:09.669Z"
   },
   {
    "duration": 15,
    "start_time": "2022-01-23T11:01:09.685Z"
   },
   {
    "duration": 18,
    "start_time": "2022-01-23T11:01:09.703Z"
   },
   {
    "duration": 22,
    "start_time": "2022-01-23T11:01:09.723Z"
   },
   {
    "duration": 23,
    "start_time": "2022-01-23T11:01:09.747Z"
   },
   {
    "duration": 31,
    "start_time": "2022-01-23T11:01:09.772Z"
   },
   {
    "duration": 12,
    "start_time": "2022-01-23T11:01:09.805Z"
   },
   {
    "duration": 11,
    "start_time": "2022-01-23T11:01:09.818Z"
   },
   {
    "duration": 25,
    "start_time": "2022-01-23T11:01:09.830Z"
   },
   {
    "duration": 14,
    "start_time": "2022-01-23T11:01:09.857Z"
   },
   {
    "duration": 5,
    "start_time": "2022-01-23T11:01:09.872Z"
   },
   {
    "duration": 30,
    "start_time": "2022-01-23T11:01:09.879Z"
   },
   {
    "duration": 11,
    "start_time": "2022-01-23T11:01:09.911Z"
   },
   {
    "duration": 24,
    "start_time": "2022-01-23T11:01:09.923Z"
   },
   {
    "duration": 659,
    "start_time": "2022-01-23T11:01:09.949Z"
   },
   {
    "duration": 323,
    "start_time": "2022-01-23T11:01:10.612Z"
   },
   {
    "duration": 430,
    "start_time": "2022-01-23T11:01:10.937Z"
   },
   {
    "duration": 321,
    "start_time": "2022-01-23T11:01:11.370Z"
   },
   {
    "duration": 481,
    "start_time": "2022-01-23T11:01:11.692Z"
   },
   {
    "duration": 466,
    "start_time": "2022-01-23T11:01:12.175Z"
   },
   {
    "duration": 5,
    "start_time": "2022-01-23T11:01:12.643Z"
   },
   {
    "duration": 415,
    "start_time": "2022-01-23T11:01:12.650Z"
   },
   {
    "duration": 5,
    "start_time": "2022-01-23T11:01:13.068Z"
   },
   {
    "duration": 474,
    "start_time": "2022-01-23T11:01:13.075Z"
   },
   {
    "duration": 136,
    "start_time": "2022-01-23T11:01:13.551Z"
   },
   {
    "duration": 378,
    "start_time": "2022-01-23T11:01:13.689Z"
   },
   {
    "duration": 15,
    "start_time": "2022-01-23T11:01:14.069Z"
   },
   {
    "duration": 10,
    "start_time": "2022-01-23T11:02:51.391Z"
   },
   {
    "duration": 622,
    "start_time": "2022-01-23T11:03:45.951Z"
   },
   {
    "duration": 122,
    "start_time": "2022-01-23T11:06:03.520Z"
   },
   {
    "duration": 27,
    "start_time": "2022-01-23T11:06:08.386Z"
   },
   {
    "duration": 20,
    "start_time": "2022-01-23T11:06:26.913Z"
   },
   {
    "duration": 14,
    "start_time": "2022-01-23T11:06:49.838Z"
   },
   {
    "duration": 15,
    "start_time": "2022-01-23T11:08:08.905Z"
   },
   {
    "duration": 10,
    "start_time": "2022-01-23T11:08:18.421Z"
   },
   {
    "duration": 17,
    "start_time": "2022-01-23T11:08:21.337Z"
   },
   {
    "duration": 64,
    "start_time": "2022-01-23T11:08:39.227Z"
   },
   {
    "duration": 17,
    "start_time": "2022-01-23T11:08:42.964Z"
   },
   {
    "duration": 4,
    "start_time": "2022-01-23T11:09:24.935Z"
   },
   {
    "duration": 19,
    "start_time": "2022-01-23T11:09:31.671Z"
   },
   {
    "duration": 12,
    "start_time": "2022-01-23T11:10:05.068Z"
   },
   {
    "duration": 1057,
    "start_time": "2022-01-23T11:10:16.341Z"
   },
   {
    "duration": 55,
    "start_time": "2022-01-23T11:10:17.400Z"
   },
   {
    "duration": 7,
    "start_time": "2022-01-23T11:10:17.457Z"
   },
   {
    "duration": 9,
    "start_time": "2022-01-23T11:10:17.466Z"
   },
   {
    "duration": 11,
    "start_time": "2022-01-23T11:10:17.476Z"
   },
   {
    "duration": 10,
    "start_time": "2022-01-23T11:10:17.488Z"
   },
   {
    "duration": 6,
    "start_time": "2022-01-23T11:10:17.500Z"
   },
   {
    "duration": 6,
    "start_time": "2022-01-23T11:10:17.508Z"
   },
   {
    "duration": 3,
    "start_time": "2022-01-23T11:10:17.516Z"
   },
   {
    "duration": 7,
    "start_time": "2022-01-23T11:10:17.521Z"
   },
   {
    "duration": 11,
    "start_time": "2022-01-23T11:10:17.529Z"
   },
   {
    "duration": 6,
    "start_time": "2022-01-23T11:10:17.542Z"
   },
   {
    "duration": 7,
    "start_time": "2022-01-23T11:10:17.549Z"
   },
   {
    "duration": 11,
    "start_time": "2022-01-23T11:10:17.557Z"
   },
   {
    "duration": 7,
    "start_time": "2022-01-23T11:10:17.570Z"
   },
   {
    "duration": 33,
    "start_time": "2022-01-23T11:10:17.579Z"
   },
   {
    "duration": 15,
    "start_time": "2022-01-23T11:10:17.614Z"
   },
   {
    "duration": 10,
    "start_time": "2022-01-23T11:10:17.631Z"
   },
   {
    "duration": 291,
    "start_time": "2022-01-23T11:10:17.643Z"
   },
   {
    "duration": 676,
    "start_time": "2022-01-23T11:10:17.936Z"
   },
   {
    "duration": 331,
    "start_time": "2022-01-23T11:10:18.613Z"
   },
   {
    "duration": 468,
    "start_time": "2022-01-23T11:10:18.946Z"
   },
   {
    "duration": 333,
    "start_time": "2022-01-23T11:10:19.418Z"
   },
   {
    "duration": 510,
    "start_time": "2022-01-23T11:10:19.753Z"
   },
   {
    "duration": 494,
    "start_time": "2022-01-23T11:10:20.264Z"
   },
   {
    "duration": 4,
    "start_time": "2022-01-23T11:10:20.760Z"
   },
   {
    "duration": 399,
    "start_time": "2022-01-23T11:10:20.766Z"
   },
   {
    "duration": 4,
    "start_time": "2022-01-23T11:10:21.167Z"
   },
   {
    "duration": 472,
    "start_time": "2022-01-23T11:10:21.173Z"
   },
   {
    "duration": 134,
    "start_time": "2022-01-23T11:10:21.647Z"
   },
   {
    "duration": 376,
    "start_time": "2022-01-23T11:10:21.783Z"
   },
   {
    "duration": 11,
    "start_time": "2022-01-23T11:10:22.161Z"
   },
   {
    "duration": 11,
    "start_time": "2022-01-23T11:10:27.236Z"
   },
   {
    "duration": 290,
    "start_time": "2022-01-23T11:10:43.842Z"
   },
   {
    "duration": 191,
    "start_time": "2022-01-23T11:10:58.893Z"
   },
   {
    "duration": 66,
    "start_time": "2022-01-23T11:11:21.513Z"
   },
   {
    "duration": 66,
    "start_time": "2022-01-23T11:11:28.542Z"
   },
   {
    "duration": 11,
    "start_time": "2022-01-23T11:12:38.142Z"
   },
   {
    "duration": 185,
    "start_time": "2022-01-23T11:18:03.567Z"
   },
   {
    "duration": 9,
    "start_time": "2022-01-23T11:18:25.016Z"
   },
   {
    "duration": 1071,
    "start_time": "2022-01-23T11:18:44.596Z"
   },
   {
    "duration": 54,
    "start_time": "2022-01-23T11:18:45.668Z"
   },
   {
    "duration": 7,
    "start_time": "2022-01-23T11:18:45.724Z"
   },
   {
    "duration": 7,
    "start_time": "2022-01-23T11:18:45.733Z"
   },
   {
    "duration": 4,
    "start_time": "2022-01-23T11:18:45.741Z"
   },
   {
    "duration": 10,
    "start_time": "2022-01-23T11:18:45.746Z"
   },
   {
    "duration": 5,
    "start_time": "2022-01-23T11:18:45.758Z"
   },
   {
    "duration": 5,
    "start_time": "2022-01-23T11:18:45.766Z"
   },
   {
    "duration": 3,
    "start_time": "2022-01-23T11:18:45.773Z"
   },
   {
    "duration": 35,
    "start_time": "2022-01-23T11:18:45.778Z"
   },
   {
    "duration": 7,
    "start_time": "2022-01-23T11:18:45.815Z"
   },
   {
    "duration": 8,
    "start_time": "2022-01-23T11:18:45.823Z"
   },
   {
    "duration": 5,
    "start_time": "2022-01-23T11:18:45.833Z"
   },
   {
    "duration": 11,
    "start_time": "2022-01-23T11:18:45.840Z"
   },
   {
    "duration": 6,
    "start_time": "2022-01-23T11:18:45.853Z"
   },
   {
    "duration": 5,
    "start_time": "2022-01-23T11:18:45.861Z"
   },
   {
    "duration": 13,
    "start_time": "2022-01-23T11:18:45.867Z"
   },
   {
    "duration": 12,
    "start_time": "2022-01-23T11:18:45.912Z"
   },
   {
    "duration": 291,
    "start_time": "2022-01-23T11:18:45.926Z"
   },
   {
    "duration": 664,
    "start_time": "2022-01-23T11:18:46.219Z"
   },
   {
    "duration": 335,
    "start_time": "2022-01-23T11:18:46.886Z"
   },
   {
    "duration": 452,
    "start_time": "2022-01-23T11:18:47.224Z"
   },
   {
    "duration": 321,
    "start_time": "2022-01-23T11:18:47.679Z"
   },
   {
    "duration": 484,
    "start_time": "2022-01-23T11:18:48.002Z"
   },
   {
    "duration": 536,
    "start_time": "2022-01-23T11:18:48.487Z"
   },
   {
    "duration": 4,
    "start_time": "2022-01-23T11:18:49.025Z"
   },
   {
    "duration": 407,
    "start_time": "2022-01-23T11:18:49.030Z"
   },
   {
    "duration": 4,
    "start_time": "2022-01-23T11:18:49.439Z"
   },
   {
    "duration": 463,
    "start_time": "2022-01-23T11:18:49.444Z"
   },
   {
    "duration": 134,
    "start_time": "2022-01-23T11:18:49.912Z"
   },
   {
    "duration": 375,
    "start_time": "2022-01-23T11:18:50.047Z"
   },
   {
    "duration": 12,
    "start_time": "2022-01-23T11:18:50.423Z"
   },
   {
    "duration": 289,
    "start_time": "2022-01-23T11:19:20.371Z"
   },
   {
    "duration": 10,
    "start_time": "2022-01-23T11:19:36.496Z"
   },
   {
    "duration": 193,
    "start_time": "2022-01-23T11:21:06.077Z"
   },
   {
    "duration": 10,
    "start_time": "2022-01-23T11:21:14.940Z"
   },
   {
    "duration": 11,
    "start_time": "2022-01-23T11:23:24.689Z"
   },
   {
    "duration": 11,
    "start_time": "2022-01-23T11:23:28.800Z"
   },
   {
    "duration": 176,
    "start_time": "2022-01-23T11:25:21.029Z"
   },
   {
    "duration": 14,
    "start_time": "2022-01-23T11:25:36.182Z"
   },
   {
    "duration": 317,
    "start_time": "2022-01-23T11:26:11.885Z"
   },
   {
    "duration": 19,
    "start_time": "2022-01-23T11:27:56.143Z"
   },
   {
    "duration": 549,
    "start_time": "2022-01-23T11:40:35.640Z"
   },
   {
    "duration": 815,
    "start_time": "2022-01-23T11:41:40.440Z"
   },
   {
    "duration": 808,
    "start_time": "2022-01-23T11:41:54.241Z"
   },
   {
    "duration": 820,
    "start_time": "2022-01-23T11:42:00.288Z"
   },
   {
    "duration": 670,
    "start_time": "2022-01-23T11:42:10.929Z"
   },
   {
    "duration": 899,
    "start_time": "2022-01-23T11:42:16.283Z"
   },
   {
    "duration": 817,
    "start_time": "2022-01-23T11:42:23.599Z"
   },
   {
    "duration": 765,
    "start_time": "2022-01-23T11:43:20.814Z"
   },
   {
    "duration": 663,
    "start_time": "2022-01-23T11:43:38.540Z"
   },
   {
    "duration": 668,
    "start_time": "2022-01-23T11:44:06.998Z"
   },
   {
    "duration": 815,
    "start_time": "2022-01-23T11:45:00.372Z"
   },
   {
    "duration": 987,
    "start_time": "2022-01-23T11:49:34.749Z"
   },
   {
    "duration": 647,
    "start_time": "2022-01-23T11:49:43.404Z"
   },
   {
    "duration": 658,
    "start_time": "2022-01-23T11:54:36.284Z"
   },
   {
    "duration": 652,
    "start_time": "2022-01-23T11:55:51.944Z"
   },
   {
    "duration": 321,
    "start_time": "2022-01-23T11:57:19.335Z"
   },
   {
    "duration": 331,
    "start_time": "2022-01-23T11:57:58.903Z"
   },
   {
    "duration": 551,
    "start_time": "2022-01-23T11:58:10.693Z"
   },
   {
    "duration": 817,
    "start_time": "2022-01-23T11:58:18.897Z"
   },
   {
    "duration": 1060,
    "start_time": "2022-01-23T11:58:29.208Z"
   },
   {
    "duration": 53,
    "start_time": "2022-01-23T11:58:30.270Z"
   },
   {
    "duration": 8,
    "start_time": "2022-01-23T11:58:30.326Z"
   },
   {
    "duration": 13,
    "start_time": "2022-01-23T11:58:30.336Z"
   },
   {
    "duration": 12,
    "start_time": "2022-01-23T11:58:30.350Z"
   },
   {
    "duration": 13,
    "start_time": "2022-01-23T11:58:30.363Z"
   },
   {
    "duration": 8,
    "start_time": "2022-01-23T11:58:30.378Z"
   },
   {
    "duration": 9,
    "start_time": "2022-01-23T11:58:30.389Z"
   },
   {
    "duration": 12,
    "start_time": "2022-01-23T11:58:30.400Z"
   },
   {
    "duration": 16,
    "start_time": "2022-01-23T11:58:30.414Z"
   },
   {
    "duration": 17,
    "start_time": "2022-01-23T11:58:30.432Z"
   },
   {
    "duration": 9,
    "start_time": "2022-01-23T11:58:30.450Z"
   },
   {
    "duration": 13,
    "start_time": "2022-01-23T11:58:30.461Z"
   },
   {
    "duration": 23,
    "start_time": "2022-01-23T11:58:30.475Z"
   },
   {
    "duration": 10,
    "start_time": "2022-01-23T11:58:30.500Z"
   },
   {
    "duration": 12,
    "start_time": "2022-01-23T11:58:30.512Z"
   },
   {
    "duration": 20,
    "start_time": "2022-01-23T11:58:30.525Z"
   },
   {
    "duration": 11,
    "start_time": "2022-01-23T11:58:30.547Z"
   },
   {
    "duration": 319,
    "start_time": "2022-01-23T11:58:30.559Z"
   },
   {
    "duration": 803,
    "start_time": "2022-01-23T11:58:30.880Z"
   },
   {
    "duration": 461,
    "start_time": "2022-01-23T11:58:31.685Z"
   },
   {
    "duration": 526,
    "start_time": "2022-01-23T11:58:32.148Z"
   },
   {
    "duration": 327,
    "start_time": "2022-01-23T11:58:32.676Z"
   },
   {
    "duration": 447,
    "start_time": "2022-01-23T11:58:33.012Z"
   },
   {
    "duration": 483,
    "start_time": "2022-01-23T11:58:33.461Z"
   },
   {
    "duration": 5,
    "start_time": "2022-01-23T11:58:33.946Z"
   },
   {
    "duration": 393,
    "start_time": "2022-01-23T11:58:33.953Z"
   },
   {
    "duration": 5,
    "start_time": "2022-01-23T11:58:34.349Z"
   },
   {
    "duration": 472,
    "start_time": "2022-01-23T11:58:34.356Z"
   },
   {
    "duration": 138,
    "start_time": "2022-01-23T11:58:34.830Z"
   },
   {
    "duration": 374,
    "start_time": "2022-01-23T11:58:34.970Z"
   },
   {
    "duration": 13,
    "start_time": "2022-01-23T11:58:35.345Z"
   },
   {
    "duration": 489,
    "start_time": "2022-01-23T17:30:07.481Z"
   },
   {
    "duration": 1504,
    "start_time": "2022-01-23T17:30:33.770Z"
   },
   {
    "duration": 88,
    "start_time": "2022-01-23T17:30:35.277Z"
   },
   {
    "duration": 10,
    "start_time": "2022-01-23T17:30:35.368Z"
   },
   {
    "duration": 11,
    "start_time": "2022-01-23T17:30:35.381Z"
   },
   {
    "duration": 4,
    "start_time": "2022-01-23T17:30:35.394Z"
   },
   {
    "duration": 13,
    "start_time": "2022-01-23T17:30:35.400Z"
   },
   {
    "duration": 7,
    "start_time": "2022-01-23T17:30:35.416Z"
   },
   {
    "duration": 41,
    "start_time": "2022-01-23T17:30:35.425Z"
   },
   {
    "duration": 5,
    "start_time": "2022-01-23T17:30:35.470Z"
   },
   {
    "duration": 8,
    "start_time": "2022-01-23T17:30:35.478Z"
   },
   {
    "duration": 12,
    "start_time": "2022-01-23T17:30:35.488Z"
   },
   {
    "duration": 9,
    "start_time": "2022-01-23T17:30:35.502Z"
   },
   {
    "duration": 53,
    "start_time": "2022-01-23T17:30:35.513Z"
   },
   {
    "duration": 19,
    "start_time": "2022-01-23T17:30:35.568Z"
   },
   {
    "duration": 9,
    "start_time": "2022-01-23T17:30:35.590Z"
   },
   {
    "duration": 6,
    "start_time": "2022-01-23T17:30:35.601Z"
   },
   {
    "duration": 55,
    "start_time": "2022-01-23T17:30:35.610Z"
   },
   {
    "duration": 17,
    "start_time": "2022-01-23T17:30:35.667Z"
   },
   {
    "duration": 977,
    "start_time": "2022-01-23T17:30:35.687Z"
   },
   {
    "duration": 1508,
    "start_time": "2022-01-23T17:30:36.668Z"
   },
   {
    "duration": 794,
    "start_time": "2022-01-23T17:30:38.179Z"
   },
   {
    "duration": 720,
    "start_time": "2022-01-23T17:30:38.976Z"
   },
   {
    "duration": 526,
    "start_time": "2022-01-23T17:30:39.699Z"
   },
   {
    "duration": 673,
    "start_time": "2022-01-23T17:30:40.227Z"
   },
   {
    "duration": 871,
    "start_time": "2022-01-23T17:30:40.902Z"
   },
   {
    "duration": 6,
    "start_time": "2022-01-23T17:30:41.776Z"
   },
   {
    "duration": 586,
    "start_time": "2022-01-23T17:30:41.787Z"
   },
   {
    "duration": 6,
    "start_time": "2022-01-23T17:30:42.376Z"
   },
   {
    "duration": 831,
    "start_time": "2022-01-23T17:30:42.385Z"
   },
   {
    "duration": 285,
    "start_time": "2022-01-23T17:30:43.218Z"
   },
   {
    "duration": 687,
    "start_time": "2022-01-23T17:30:43.506Z"
   },
   {
    "duration": 23,
    "start_time": "2022-01-23T17:30:44.197Z"
   },
   {
    "duration": 1293,
    "start_time": "2022-01-23T17:37:05.435Z"
   },
   {
    "duration": 1104,
    "start_time": "2022-01-23T17:37:12.194Z"
   },
   {
    "duration": 1495,
    "start_time": "2022-01-23T17:37:24.436Z"
   },
   {
    "duration": 69,
    "start_time": "2022-01-23T17:37:25.934Z"
   },
   {
    "duration": 10,
    "start_time": "2022-01-23T17:37:26.006Z"
   },
   {
    "duration": 16,
    "start_time": "2022-01-23T17:37:26.019Z"
   },
   {
    "duration": 10,
    "start_time": "2022-01-23T17:37:26.039Z"
   },
   {
    "duration": 19,
    "start_time": "2022-01-23T17:37:26.052Z"
   },
   {
    "duration": 12,
    "start_time": "2022-01-23T17:37:26.074Z"
   },
   {
    "duration": 8,
    "start_time": "2022-01-23T17:37:26.089Z"
   },
   {
    "duration": 6,
    "start_time": "2022-01-23T17:37:26.100Z"
   },
   {
    "duration": 52,
    "start_time": "2022-01-23T17:37:26.108Z"
   },
   {
    "duration": 15,
    "start_time": "2022-01-23T17:37:26.162Z"
   },
   {
    "duration": 10,
    "start_time": "2022-01-23T17:37:26.179Z"
   },
   {
    "duration": 11,
    "start_time": "2022-01-23T17:37:26.191Z"
   },
   {
    "duration": 68,
    "start_time": "2022-01-23T17:37:26.205Z"
   },
   {
    "duration": 10,
    "start_time": "2022-01-23T17:37:26.275Z"
   },
   {
    "duration": 6,
    "start_time": "2022-01-23T17:37:26.288Z"
   },
   {
    "duration": 25,
    "start_time": "2022-01-23T17:37:26.296Z"
   },
   {
    "duration": 44,
    "start_time": "2022-01-23T17:37:26.325Z"
   },
   {
    "duration": 724,
    "start_time": "2022-01-23T17:37:26.371Z"
   },
   {
    "duration": 1141,
    "start_time": "2022-01-23T17:37:27.098Z"
   },
   {
    "duration": 800,
    "start_time": "2022-01-23T17:37:28.241Z"
   },
   {
    "duration": 707,
    "start_time": "2022-01-23T17:37:29.044Z"
   },
   {
    "duration": 622,
    "start_time": "2022-01-23T17:37:29.761Z"
   },
   {
    "duration": 635,
    "start_time": "2022-01-23T17:37:30.386Z"
   },
   {
    "duration": 769,
    "start_time": "2022-01-23T17:37:31.023Z"
   },
   {
    "duration": 6,
    "start_time": "2022-01-23T17:37:31.795Z"
   },
   {
    "duration": 664,
    "start_time": "2022-01-23T17:37:31.804Z"
   },
   {
    "duration": 7,
    "start_time": "2022-01-23T17:37:32.471Z"
   },
   {
    "duration": 889,
    "start_time": "2022-01-23T17:37:32.481Z"
   },
   {
    "duration": 307,
    "start_time": "2022-01-23T17:37:33.372Z"
   },
   {
    "duration": 733,
    "start_time": "2022-01-23T17:37:33.681Z"
   },
   {
    "duration": 42,
    "start_time": "2022-01-23T17:37:34.417Z"
   },
   {
    "duration": 1206,
    "start_time": "2022-01-23T17:40:42.091Z"
   },
   {
    "duration": 1194,
    "start_time": "2022-01-23T17:41:13.372Z"
   },
   {
    "duration": 109,
    "start_time": "2022-01-23T17:41:37.365Z"
   },
   {
    "duration": 534,
    "start_time": "2022-01-23T17:46:01.108Z"
   },
   {
    "duration": 536,
    "start_time": "2022-01-23T17:46:46.650Z"
   },
   {
    "duration": 417,
    "start_time": "2022-01-23T17:47:22.805Z"
   },
   {
    "duration": 558,
    "start_time": "2022-01-23T17:47:46.012Z"
   },
   {
    "duration": 621,
    "start_time": "2022-01-23T17:48:06.054Z"
   },
   {
    "duration": 1473,
    "start_time": "2022-01-23T17:48:17.493Z"
   },
   {
    "duration": 68,
    "start_time": "2022-01-23T17:48:18.969Z"
   },
   {
    "duration": 9,
    "start_time": "2022-01-23T17:48:19.040Z"
   },
   {
    "duration": 12,
    "start_time": "2022-01-23T17:48:19.052Z"
   },
   {
    "duration": 4,
    "start_time": "2022-01-23T17:48:19.067Z"
   },
   {
    "duration": 16,
    "start_time": "2022-01-23T17:48:19.074Z"
   },
   {
    "duration": 8,
    "start_time": "2022-01-23T17:48:19.093Z"
   },
   {
    "duration": 9,
    "start_time": "2022-01-23T17:48:19.103Z"
   },
   {
    "duration": 43,
    "start_time": "2022-01-23T17:48:19.116Z"
   },
   {
    "duration": 9,
    "start_time": "2022-01-23T17:48:19.162Z"
   },
   {
    "duration": 14,
    "start_time": "2022-01-23T17:48:19.173Z"
   },
   {
    "duration": 7,
    "start_time": "2022-01-23T17:48:19.189Z"
   },
   {
    "duration": 11,
    "start_time": "2022-01-23T17:48:19.199Z"
   },
   {
    "duration": 68,
    "start_time": "2022-01-23T17:48:19.212Z"
   },
   {
    "duration": 18,
    "start_time": "2022-01-23T17:48:19.283Z"
   },
   {
    "duration": 6,
    "start_time": "2022-01-23T17:48:19.304Z"
   },
   {
    "duration": 55,
    "start_time": "2022-01-23T17:48:19.313Z"
   },
   {
    "duration": 24,
    "start_time": "2022-01-23T17:48:19.372Z"
   },
   {
    "duration": 850,
    "start_time": "2022-01-23T17:48:19.399Z"
   },
   {
    "duration": 1224,
    "start_time": "2022-01-23T17:48:20.252Z"
   },
   {
    "duration": 549,
    "start_time": "2022-01-23T17:48:21.478Z"
   },
   {
    "duration": 681,
    "start_time": "2022-01-23T17:48:22.029Z"
   },
   {
    "duration": 527,
    "start_time": "2022-01-23T17:48:22.712Z"
   },
   {
    "duration": 846,
    "start_time": "2022-01-23T17:48:23.242Z"
   },
   {
    "duration": 734,
    "start_time": "2022-01-23T17:48:24.091Z"
   },
   {
    "duration": 6,
    "start_time": "2022-01-23T17:48:24.827Z"
   },
   {
    "duration": 634,
    "start_time": "2022-01-23T17:48:24.838Z"
   },
   {
    "duration": 6,
    "start_time": "2022-01-23T17:48:25.475Z"
   },
   {
    "duration": 870,
    "start_time": "2022-01-23T17:48:25.483Z"
   },
   {
    "duration": 274,
    "start_time": "2022-01-23T17:48:26.359Z"
   },
   {
    "duration": 688,
    "start_time": "2022-01-23T17:48:26.636Z"
   },
   {
    "duration": 32,
    "start_time": "2022-01-23T17:48:27.327Z"
   },
   {
    "duration": 2014,
    "start_time": "2022-01-23T17:49:57.852Z"
   },
   {
    "duration": 647,
    "start_time": "2022-01-23T17:50:11.769Z"
   },
   {
    "duration": 595,
    "start_time": "2022-01-23T17:50:53.316Z"
   },
   {
    "duration": 604,
    "start_time": "2022-01-23T17:51:16.461Z"
   },
   {
    "duration": 584,
    "start_time": "2022-01-23T17:51:24.417Z"
   },
   {
    "duration": 581,
    "start_time": "2022-01-23T17:51:39.522Z"
   },
   {
    "duration": 579,
    "start_time": "2022-01-23T17:51:52.725Z"
   },
   {
    "duration": 685,
    "start_time": "2022-01-23T17:52:03.998Z"
   },
   {
    "duration": 673,
    "start_time": "2022-01-23T17:52:13.250Z"
   },
   {
    "duration": 661,
    "start_time": "2022-01-23T17:53:38.139Z"
   },
   {
    "duration": 645,
    "start_time": "2022-01-23T17:53:43.047Z"
   },
   {
    "duration": 600,
    "start_time": "2022-01-23T17:53:47.091Z"
   },
   {
    "duration": 636,
    "start_time": "2022-01-23T17:54:20.568Z"
   },
   {
    "duration": 605,
    "start_time": "2022-01-23T17:54:32.798Z"
   },
   {
    "duration": 515,
    "start_time": "2022-01-23T17:55:00.432Z"
   },
   {
    "duration": 545,
    "start_time": "2022-01-23T17:55:09.664Z"
   },
   {
    "duration": 551,
    "start_time": "2022-01-23T17:57:30.475Z"
   },
   {
    "duration": 540,
    "start_time": "2022-01-23T17:57:42.456Z"
   },
   {
    "duration": 1477,
    "start_time": "2022-01-23T17:58:38.218Z"
   },
   {
    "duration": 68,
    "start_time": "2022-01-23T17:58:39.698Z"
   },
   {
    "duration": 10,
    "start_time": "2022-01-23T17:58:39.769Z"
   },
   {
    "duration": 11,
    "start_time": "2022-01-23T17:58:39.782Z"
   },
   {
    "duration": 5,
    "start_time": "2022-01-23T17:58:39.796Z"
   },
   {
    "duration": 15,
    "start_time": "2022-01-23T17:58:39.804Z"
   },
   {
    "duration": 9,
    "start_time": "2022-01-23T17:58:39.859Z"
   },
   {
    "duration": 8,
    "start_time": "2022-01-23T17:58:39.872Z"
   },
   {
    "duration": 5,
    "start_time": "2022-01-23T17:58:39.883Z"
   },
   {
    "duration": 7,
    "start_time": "2022-01-23T17:58:39.890Z"
   },
   {
    "duration": 12,
    "start_time": "2022-01-23T17:58:39.899Z"
   },
   {
    "duration": 53,
    "start_time": "2022-01-23T17:58:39.914Z"
   },
   {
    "duration": 8,
    "start_time": "2022-01-23T17:58:39.969Z"
   },
   {
    "duration": 16,
    "start_time": "2022-01-23T17:58:39.979Z"
   },
   {
    "duration": 9,
    "start_time": "2022-01-23T17:58:39.997Z"
   },
   {
    "duration": 6,
    "start_time": "2022-01-23T17:58:40.008Z"
   },
   {
    "duration": 25,
    "start_time": "2022-01-23T17:58:40.059Z"
   },
   {
    "duration": 18,
    "start_time": "2022-01-23T17:58:40.087Z"
   },
   {
    "duration": 708,
    "start_time": "2022-01-23T17:58:40.108Z"
   },
   {
    "duration": 1217,
    "start_time": "2022-01-23T17:58:40.819Z"
   },
   {
    "duration": 593,
    "start_time": "2022-01-23T17:58:42.039Z"
   },
   {
    "duration": 705,
    "start_time": "2022-01-23T17:58:42.634Z"
   },
   {
    "duration": 546,
    "start_time": "2022-01-23T17:58:43.344Z"
   },
   {
    "duration": 725,
    "start_time": "2022-01-23T17:58:43.893Z"
   },
   {
    "duration": 793,
    "start_time": "2022-01-23T17:58:44.621Z"
   },
   {
    "duration": 6,
    "start_time": "2022-01-23T17:58:45.417Z"
   },
   {
    "duration": 668,
    "start_time": "2022-01-23T17:58:45.425Z"
   },
   {
    "duration": 6,
    "start_time": "2022-01-23T17:58:46.097Z"
   },
   {
    "duration": 896,
    "start_time": "2022-01-23T17:58:46.106Z"
   },
   {
    "duration": 283,
    "start_time": "2022-01-23T17:58:47.005Z"
   },
   {
    "duration": 678,
    "start_time": "2022-01-23T17:58:47.291Z"
   },
   {
    "duration": 21,
    "start_time": "2022-01-23T17:58:47.972Z"
   },
   {
    "duration": 659,
    "start_time": "2022-01-23T17:59:44.805Z"
   },
   {
    "duration": 693,
    "start_time": "2022-01-23T17:59:54.137Z"
   },
   {
    "duration": 774,
    "start_time": "2022-01-23T18:00:04.854Z"
   },
   {
    "duration": 622,
    "start_time": "2022-01-23T18:00:22.887Z"
   },
   {
    "duration": 682,
    "start_time": "2022-01-23T18:00:27.919Z"
   },
   {
    "duration": 1694,
    "start_time": "2022-01-23T18:01:28.122Z"
   },
   {
    "duration": 68,
    "start_time": "2022-01-23T18:01:29.819Z"
   },
   {
    "duration": 13,
    "start_time": "2022-01-23T18:01:29.891Z"
   },
   {
    "duration": 10,
    "start_time": "2022-01-23T18:01:29.907Z"
   },
   {
    "duration": 6,
    "start_time": "2022-01-23T18:01:29.920Z"
   },
   {
    "duration": 35,
    "start_time": "2022-01-23T18:01:29.928Z"
   },
   {
    "duration": 12,
    "start_time": "2022-01-23T18:01:29.965Z"
   },
   {
    "duration": 9,
    "start_time": "2022-01-23T18:01:29.981Z"
   },
   {
    "duration": 6,
    "start_time": "2022-01-23T18:01:29.993Z"
   },
   {
    "duration": 22,
    "start_time": "2022-01-23T18:01:30.001Z"
   },
   {
    "duration": 42,
    "start_time": "2022-01-23T18:01:30.026Z"
   },
   {
    "duration": 10,
    "start_time": "2022-01-23T18:01:30.070Z"
   },
   {
    "duration": 15,
    "start_time": "2022-01-23T18:01:30.083Z"
   },
   {
    "duration": 30,
    "start_time": "2022-01-23T18:01:30.101Z"
   },
   {
    "duration": 35,
    "start_time": "2022-01-23T18:01:30.134Z"
   },
   {
    "duration": 14,
    "start_time": "2022-01-23T18:01:30.172Z"
   },
   {
    "duration": 30,
    "start_time": "2022-01-23T18:01:30.189Z"
   },
   {
    "duration": 16,
    "start_time": "2022-01-23T18:01:30.222Z"
   },
   {
    "duration": 1591,
    "start_time": "2022-01-23T18:01:30.260Z"
   },
   {
    "duration": 1325,
    "start_time": "2022-01-23T18:01:31.859Z"
   },
   {
    "duration": 733,
    "start_time": "2022-01-23T18:01:33.187Z"
   },
   {
    "duration": 853,
    "start_time": "2022-01-23T18:01:33.923Z"
   },
   {
    "duration": 645,
    "start_time": "2022-01-23T18:01:34.783Z"
   },
   {
    "duration": 881,
    "start_time": "2022-01-23T18:01:35.432Z"
   },
   {
    "duration": 937,
    "start_time": "2022-01-23T18:01:36.315Z"
   },
   {
    "duration": 19,
    "start_time": "2022-01-23T18:01:37.255Z"
   },
   {
    "duration": 717,
    "start_time": "2022-01-23T18:01:37.283Z"
   },
   {
    "duration": 9,
    "start_time": "2022-01-23T18:01:38.007Z"
   },
   {
    "duration": 971,
    "start_time": "2022-01-23T18:01:38.019Z"
   },
   {
    "duration": 389,
    "start_time": "2022-01-23T18:01:38.992Z"
   },
   {
    "duration": 811,
    "start_time": "2022-01-23T18:01:39.385Z"
   },
   {
    "duration": 24,
    "start_time": "2022-01-23T18:01:40.199Z"
   },
   {
    "duration": 625,
    "start_time": "2022-01-23T18:02:44.884Z"
   },
   {
    "duration": 1239,
    "start_time": "2022-01-24T17:56:53.212Z"
   },
   {
    "duration": 104,
    "start_time": "2022-01-24T17:56:54.454Z"
   },
   {
    "duration": 8,
    "start_time": "2022-01-24T17:56:54.560Z"
   },
   {
    "duration": 13,
    "start_time": "2022-01-24T17:56:54.570Z"
   },
   {
    "duration": 8,
    "start_time": "2022-01-24T17:56:54.585Z"
   },
   {
    "duration": 13,
    "start_time": "2022-01-24T17:56:54.595Z"
   },
   {
    "duration": 10,
    "start_time": "2022-01-24T17:56:54.610Z"
   },
   {
    "duration": 8,
    "start_time": "2022-01-24T17:56:54.625Z"
   },
   {
    "duration": 5,
    "start_time": "2022-01-24T17:56:54.636Z"
   },
   {
    "duration": 10,
    "start_time": "2022-01-24T17:56:54.643Z"
   },
   {
    "duration": 15,
    "start_time": "2022-01-24T17:56:54.656Z"
   },
   {
    "duration": 10,
    "start_time": "2022-01-24T17:56:54.706Z"
   },
   {
    "duration": 7,
    "start_time": "2022-01-24T17:56:54.719Z"
   },
   {
    "duration": 19,
    "start_time": "2022-01-24T17:56:54.728Z"
   },
   {
    "duration": 10,
    "start_time": "2022-01-24T17:56:54.750Z"
   },
   {
    "duration": 48,
    "start_time": "2022-01-24T17:56:54.762Z"
   },
   {
    "duration": 18,
    "start_time": "2022-01-24T17:56:54.813Z"
   },
   {
    "duration": 13,
    "start_time": "2022-01-24T17:56:54.833Z"
   },
   {
    "duration": 548,
    "start_time": "2022-01-24T17:56:54.848Z"
   },
   {
    "duration": 785,
    "start_time": "2022-01-24T17:56:55.399Z"
   },
   {
    "duration": 603,
    "start_time": "2022-01-24T17:56:56.186Z"
   },
   {
    "duration": 695,
    "start_time": "2022-01-24T17:56:56.791Z"
   },
   {
    "duration": 380,
    "start_time": "2022-01-24T17:56:57.492Z"
   },
   {
    "duration": 590,
    "start_time": "2022-01-24T17:56:57.875Z"
   },
   {
    "duration": 573,
    "start_time": "2022-01-24T17:56:58.467Z"
   },
   {
    "duration": 4,
    "start_time": "2022-01-24T17:56:59.043Z"
   },
   {
    "duration": 451,
    "start_time": "2022-01-24T17:56:59.050Z"
   },
   {
    "duration": 6,
    "start_time": "2022-01-24T17:56:59.509Z"
   },
   {
    "duration": 981,
    "start_time": "2022-01-24T17:56:59.517Z"
   },
   {
    "duration": 188,
    "start_time": "2022-01-24T17:57:00.500Z"
   },
   {
    "duration": 477,
    "start_time": "2022-01-24T17:57:00.691Z"
   },
   {
    "duration": 16,
    "start_time": "2022-01-24T17:57:01.170Z"
   },
   {
    "duration": 341,
    "start_time": "2022-01-24T18:02:21.089Z"
   },
   {
    "duration": 251,
    "start_time": "2022-01-24T18:02:32.542Z"
   },
   {
    "duration": 1192,
    "start_time": "2022-01-24T18:02:41.092Z"
   },
   {
    "duration": 70,
    "start_time": "2022-01-24T18:02:42.286Z"
   },
   {
    "duration": 9,
    "start_time": "2022-01-24T18:02:42.358Z"
   },
   {
    "duration": 9,
    "start_time": "2022-01-24T18:02:42.369Z"
   },
   {
    "duration": 6,
    "start_time": "2022-01-24T18:02:42.379Z"
   },
   {
    "duration": 22,
    "start_time": "2022-01-24T18:02:42.386Z"
   },
   {
    "duration": 12,
    "start_time": "2022-01-24T18:02:42.410Z"
   },
   {
    "duration": 8,
    "start_time": "2022-01-24T18:02:42.424Z"
   },
   {
    "duration": 5,
    "start_time": "2022-01-24T18:02:42.435Z"
   },
   {
    "duration": 11,
    "start_time": "2022-01-24T18:02:42.442Z"
   },
   {
    "duration": 15,
    "start_time": "2022-01-24T18:02:42.455Z"
   },
   {
    "duration": 9,
    "start_time": "2022-01-24T18:02:42.472Z"
   },
   {
    "duration": 26,
    "start_time": "2022-01-24T18:02:42.483Z"
   },
   {
    "duration": 12,
    "start_time": "2022-01-24T18:02:42.511Z"
   },
   {
    "duration": 7,
    "start_time": "2022-01-24T18:02:42.525Z"
   },
   {
    "duration": 11,
    "start_time": "2022-01-24T18:02:42.534Z"
   },
   {
    "duration": 19,
    "start_time": "2022-01-24T18:02:42.547Z"
   },
   {
    "duration": 12,
    "start_time": "2022-01-24T18:02:42.567Z"
   },
   {
    "duration": 444,
    "start_time": "2022-01-24T18:02:42.608Z"
   },
   {
    "duration": 788,
    "start_time": "2022-01-24T18:02:43.054Z"
   },
   {
    "duration": 419,
    "start_time": "2022-01-24T18:02:43.844Z"
   },
   {
    "duration": 544,
    "start_time": "2022-01-24T18:02:44.265Z"
   },
   {
    "duration": 397,
    "start_time": "2022-01-24T18:02:44.813Z"
   },
   {
    "duration": 595,
    "start_time": "2022-01-24T18:02:45.212Z"
   },
   {
    "duration": 555,
    "start_time": "2022-01-24T18:02:45.809Z"
   },
   {
    "duration": 5,
    "start_time": "2022-01-24T18:02:46.366Z"
   },
   {
    "duration": 508,
    "start_time": "2022-01-24T18:02:46.373Z"
   },
   {
    "duration": 5,
    "start_time": "2022-01-24T18:02:46.884Z"
   },
   {
    "duration": 620,
    "start_time": "2022-01-24T18:02:46.892Z"
   },
   {
    "duration": 170,
    "start_time": "2022-01-24T18:02:47.514Z"
   },
   {
    "duration": 463,
    "start_time": "2022-01-24T18:02:47.687Z"
   },
   {
    "duration": 14,
    "start_time": "2022-01-24T18:02:48.151Z"
   },
   {
    "duration": 331,
    "start_time": "2022-01-24T18:03:41.201Z"
   },
   {
    "duration": 294,
    "start_time": "2022-01-24T18:03:59.654Z"
   },
   {
    "duration": 1193,
    "start_time": "2022-01-24T18:04:06.701Z"
   },
   {
    "duration": 69,
    "start_time": "2022-01-24T18:04:07.897Z"
   },
   {
    "duration": 12,
    "start_time": "2022-01-24T18:04:07.968Z"
   },
   {
    "duration": 66,
    "start_time": "2022-01-24T18:04:07.982Z"
   },
   {
    "duration": 63,
    "start_time": "2022-01-24T18:04:08.050Z"
   },
   {
    "duration": 47,
    "start_time": "2022-01-24T18:04:08.115Z"
   },
   {
    "duration": 66,
    "start_time": "2022-01-24T18:04:08.164Z"
   },
   {
    "duration": 35,
    "start_time": "2022-01-24T18:04:08.233Z"
   },
   {
    "duration": 43,
    "start_time": "2022-01-24T18:04:08.271Z"
   },
   {
    "duration": 38,
    "start_time": "2022-01-24T18:04:08.316Z"
   },
   {
    "duration": 40,
    "start_time": "2022-01-24T18:04:08.356Z"
   },
   {
    "duration": 37,
    "start_time": "2022-01-24T18:04:08.398Z"
   },
   {
    "duration": 24,
    "start_time": "2022-01-24T18:04:08.438Z"
   },
   {
    "duration": 47,
    "start_time": "2022-01-24T18:04:08.464Z"
   },
   {
    "duration": 46,
    "start_time": "2022-01-24T18:04:08.513Z"
   },
   {
    "duration": 417,
    "start_time": "2022-01-24T18:04:08.561Z"
   },
   {
    "duration": 86,
    "start_time": "2022-01-24T18:04:08.895Z"
   },
   {
    "duration": 63,
    "start_time": "2022-01-24T18:04:08.919Z"
   },
   {
    "duration": 60,
    "start_time": "2022-01-24T18:04:08.923Z"
   },
   {
    "duration": 45,
    "start_time": "2022-01-24T18:04:08.939Z"
   },
   {
    "duration": 41,
    "start_time": "2022-01-24T18:04:08.944Z"
   },
   {
    "duration": 32,
    "start_time": "2022-01-24T18:04:08.954Z"
   },
   {
    "duration": 29,
    "start_time": "2022-01-24T18:04:08.958Z"
   },
   {
    "duration": 19,
    "start_time": "2022-01-24T18:04:08.969Z"
   },
   {
    "duration": 17,
    "start_time": "2022-01-24T18:04:08.972Z"
   },
   {
    "duration": 14,
    "start_time": "2022-01-24T18:04:08.975Z"
   },
   {
    "duration": 6,
    "start_time": "2022-01-24T18:04:08.985Z"
   },
   {
    "duration": 3,
    "start_time": "2022-01-24T18:04:08.989Z"
   },
   {
    "duration": -1,
    "start_time": "2022-01-24T18:04:08.994Z"
   },
   {
    "duration": -9,
    "start_time": "2022-01-24T18:04:09.003Z"
   },
   {
    "duration": -10,
    "start_time": "2022-01-24T18:04:09.006Z"
   },
   {
    "duration": -12,
    "start_time": "2022-01-24T18:04:09.009Z"
   },
   {
    "duration": 85,
    "start_time": "2022-01-24T18:04:42.803Z"
   },
   {
    "duration": 1197,
    "start_time": "2022-01-24T18:04:49.292Z"
   },
   {
    "duration": 69,
    "start_time": "2022-01-24T18:04:50.491Z"
   },
   {
    "duration": 8,
    "start_time": "2022-01-24T18:04:50.563Z"
   },
   {
    "duration": 24,
    "start_time": "2022-01-24T18:04:50.573Z"
   },
   {
    "duration": 14,
    "start_time": "2022-01-24T18:04:50.598Z"
   },
   {
    "duration": 17,
    "start_time": "2022-01-24T18:04:50.614Z"
   },
   {
    "duration": 18,
    "start_time": "2022-01-24T18:04:50.633Z"
   },
   {
    "duration": 21,
    "start_time": "2022-01-24T18:04:50.654Z"
   },
   {
    "duration": 17,
    "start_time": "2022-01-24T18:04:50.677Z"
   },
   {
    "duration": 22,
    "start_time": "2022-01-24T18:04:50.696Z"
   },
   {
    "duration": 18,
    "start_time": "2022-01-24T18:04:50.720Z"
   },
   {
    "duration": 23,
    "start_time": "2022-01-24T18:04:50.740Z"
   },
   {
    "duration": 17,
    "start_time": "2022-01-24T18:04:50.765Z"
   },
   {
    "duration": 20,
    "start_time": "2022-01-24T18:04:50.784Z"
   },
   {
    "duration": 23,
    "start_time": "2022-01-24T18:04:50.806Z"
   },
   {
    "duration": 134,
    "start_time": "2022-01-24T18:04:50.831Z"
   },
   {
    "duration": 72,
    "start_time": "2022-01-24T18:04:50.895Z"
   },
   {
    "duration": 56,
    "start_time": "2022-01-24T18:04:50.913Z"
   },
   {
    "duration": 48,
    "start_time": "2022-01-24T18:04:50.923Z"
   },
   {
    "duration": 46,
    "start_time": "2022-01-24T18:04:50.926Z"
   },
   {
    "duration": 43,
    "start_time": "2022-01-24T18:04:50.930Z"
   },
   {
    "duration": 35,
    "start_time": "2022-01-24T18:04:50.939Z"
   },
   {
    "duration": 32,
    "start_time": "2022-01-24T18:04:50.943Z"
   },
   {
    "duration": 28,
    "start_time": "2022-01-24T18:04:50.947Z"
   },
   {
    "duration": 20,
    "start_time": "2022-01-24T18:04:50.956Z"
   },
   {
    "duration": 17,
    "start_time": "2022-01-24T18:04:50.960Z"
   },
   {
    "duration": 14,
    "start_time": "2022-01-24T18:04:50.964Z"
   },
   {
    "duration": 6,
    "start_time": "2022-01-24T18:04:50.973Z"
   },
   {
    "duration": 4,
    "start_time": "2022-01-24T18:04:50.976Z"
   },
   {
    "duration": 3,
    "start_time": "2022-01-24T18:04:50.979Z"
   },
   {
    "duration": -7,
    "start_time": "2022-01-24T18:04:50.990Z"
   },
   {
    "duration": -10,
    "start_time": "2022-01-24T18:04:50.993Z"
   },
   {
    "duration": 7,
    "start_time": "2022-01-24T18:05:30.440Z"
   },
   {
    "duration": 330,
    "start_time": "2022-01-24T18:06:53.128Z"
   },
   {
    "duration": 1485,
    "start_time": "2022-01-24T18:07:02.933Z"
   },
   {
    "duration": 70,
    "start_time": "2022-01-24T18:07:04.420Z"
   },
   {
    "duration": 7,
    "start_time": "2022-01-24T18:07:04.492Z"
   },
   {
    "duration": 14,
    "start_time": "2022-01-24T18:07:04.502Z"
   },
   {
    "duration": 10,
    "start_time": "2022-01-24T18:07:04.517Z"
   },
   {
    "duration": 13,
    "start_time": "2022-01-24T18:07:04.529Z"
   },
   {
    "duration": 10,
    "start_time": "2022-01-24T18:07:04.544Z"
   },
   {
    "duration": 10,
    "start_time": "2022-01-24T18:07:04.557Z"
   },
   {
    "duration": 5,
    "start_time": "2022-01-24T18:07:04.570Z"
   },
   {
    "duration": 35,
    "start_time": "2022-01-24T18:07:04.577Z"
   },
   {
    "duration": 16,
    "start_time": "2022-01-24T18:07:04.615Z"
   },
   {
    "duration": 11,
    "start_time": "2022-01-24T18:07:04.634Z"
   },
   {
    "duration": 15,
    "start_time": "2022-01-24T18:07:04.647Z"
   },
   {
    "duration": 20,
    "start_time": "2022-01-24T18:07:04.664Z"
   },
   {
    "duration": 383,
    "start_time": "2022-01-24T18:07:04.686Z"
   },
   {
    "duration": 18,
    "start_time": "2022-01-24T18:07:05.053Z"
   },
   {
    "duration": 16,
    "start_time": "2022-01-24T18:07:05.056Z"
   },
   {
    "duration": 15,
    "start_time": "2022-01-24T18:07:05.059Z"
   },
   {
    "duration": 13,
    "start_time": "2022-01-24T18:07:05.062Z"
   },
   {
    "duration": 4,
    "start_time": "2022-01-24T18:07:05.073Z"
   },
   {
    "duration": 2,
    "start_time": "2022-01-24T18:07:05.076Z"
   },
   {
    "duration": -1,
    "start_time": "2022-01-24T18:07:05.080Z"
   },
   {
    "duration": -3,
    "start_time": "2022-01-24T18:07:05.083Z"
   },
   {
    "duration": -4,
    "start_time": "2022-01-24T18:07:05.085Z"
   },
   {
    "duration": -6,
    "start_time": "2022-01-24T18:07:05.088Z"
   },
   {
    "duration": -5,
    "start_time": "2022-01-24T18:07:05.090Z"
   },
   {
    "duration": -7,
    "start_time": "2022-01-24T18:07:05.093Z"
   },
   {
    "duration": -26,
    "start_time": "2022-01-24T18:07:05.113Z"
   },
   {
    "duration": -31,
    "start_time": "2022-01-24T18:07:05.120Z"
   },
   {
    "duration": -34,
    "start_time": "2022-01-24T18:07:05.123Z"
   },
   {
    "duration": -36,
    "start_time": "2022-01-24T18:07:05.127Z"
   },
   {
    "duration": -39,
    "start_time": "2022-01-24T18:07:05.131Z"
   },
   {
    "duration": 7291,
    "start_time": "2022-01-24T18:09:04.936Z"
   },
   {
    "duration": 8,
    "start_time": "2022-01-24T18:09:27.007Z"
   },
   {
    "duration": 3,
    "start_time": "2022-01-24T18:13:41.375Z"
   },
   {
    "duration": 4,
    "start_time": "2022-01-24T18:13:50.477Z"
   },
   {
    "duration": 7,
    "start_time": "2022-01-24T18:14:56.012Z"
   },
   {
    "duration": 10,
    "start_time": "2022-01-24T18:15:42.775Z"
   },
   {
    "duration": 240,
    "start_time": "2022-01-24T18:16:48.663Z"
   },
   {
    "duration": 246,
    "start_time": "2022-01-24T18:18:40.852Z"
   },
   {
    "duration": 325,
    "start_time": "2022-01-24T18:19:03.298Z"
   },
   {
    "duration": 233,
    "start_time": "2022-01-24T18:19:15.872Z"
   },
   {
    "duration": 240,
    "start_time": "2022-01-24T18:19:25.191Z"
   },
   {
    "duration": 9,
    "start_time": "2022-01-24T18:20:02.575Z"
   },
   {
    "duration": 10,
    "start_time": "2022-01-24T18:20:34.413Z"
   },
   {
    "duration": 10,
    "start_time": "2022-01-24T18:20:57.185Z"
   },
   {
    "duration": 9,
    "start_time": "2022-01-24T18:27:59.589Z"
   },
   {
    "duration": 6,
    "start_time": "2022-01-24T18:28:37.930Z"
   },
   {
    "duration": 6,
    "start_time": "2022-01-24T18:28:46.491Z"
   },
   {
    "duration": 7,
    "start_time": "2022-01-24T18:28:50.693Z"
   },
   {
    "duration": 7,
    "start_time": "2022-01-24T18:29:00.679Z"
   },
   {
    "duration": 8,
    "start_time": "2022-01-24T18:30:41.963Z"
   },
   {
    "duration": 7,
    "start_time": "2022-01-24T18:31:18.292Z"
   },
   {
    "duration": 7,
    "start_time": "2022-01-24T18:31:26.915Z"
   },
   {
    "duration": 9,
    "start_time": "2022-01-24T18:32:06.694Z"
   },
   {
    "duration": 5,
    "start_time": "2022-01-24T18:32:52.954Z"
   },
   {
    "duration": 6,
    "start_time": "2022-01-24T18:32:56.826Z"
   },
   {
    "duration": 5,
    "start_time": "2022-01-24T18:33:08.568Z"
   },
   {
    "duration": 7,
    "start_time": "2022-01-24T18:33:10.302Z"
   },
   {
    "duration": 10,
    "start_time": "2022-01-24T18:33:17.885Z"
   },
   {
    "duration": 250,
    "start_time": "2022-01-24T18:33:52.531Z"
   },
   {
    "duration": 246,
    "start_time": "2022-01-24T18:41:29.014Z"
   },
   {
    "duration": 236,
    "start_time": "2022-01-24T18:41:40.293Z"
   },
   {
    "duration": 261,
    "start_time": "2022-01-24T18:41:52.963Z"
   },
   {
    "duration": 239,
    "start_time": "2022-01-24T18:42:02.198Z"
   },
   {
    "duration": 239,
    "start_time": "2022-01-24T18:42:18.498Z"
   },
   {
    "duration": 254,
    "start_time": "2022-01-24T18:42:28.741Z"
   },
   {
    "duration": 92,
    "start_time": "2022-01-24T18:44:41.972Z"
   },
   {
    "duration": 4,
    "start_time": "2022-01-24T18:46:59.154Z"
   },
   {
    "duration": 11,
    "start_time": "2022-01-24T18:47:10.687Z"
   },
   {
    "duration": 9,
    "start_time": "2022-01-24T18:47:54.705Z"
   },
   {
    "duration": 74,
    "start_time": "2022-01-24T18:47:58.021Z"
   },
   {
    "duration": 4,
    "start_time": "2022-01-24T18:48:13.267Z"
   },
   {
    "duration": 3,
    "start_time": "2022-01-24T18:49:22.988Z"
   },
   {
    "duration": 4,
    "start_time": "2022-01-24T18:49:28.851Z"
   },
   {
    "duration": 4,
    "start_time": "2022-01-24T18:49:41.053Z"
   },
   {
    "duration": 8,
    "start_time": "2022-01-24T18:49:51.239Z"
   },
   {
    "duration": 9,
    "start_time": "2022-01-24T18:49:57.876Z"
   },
   {
    "duration": 8,
    "start_time": "2022-01-24T18:50:02.524Z"
   },
   {
    "duration": 4,
    "start_time": "2022-01-24T18:50:25.128Z"
   },
   {
    "duration": 263,
    "start_time": "2022-01-24T18:50:59.994Z"
   },
   {
    "duration": 229,
    "start_time": "2022-01-25T12:21:20.101Z"
   },
   {
    "duration": 1058,
    "start_time": "2022-01-25T12:21:33.116Z"
   },
   {
    "duration": 56,
    "start_time": "2022-01-25T12:21:34.176Z"
   },
   {
    "duration": 7,
    "start_time": "2022-01-25T12:21:34.235Z"
   },
   {
    "duration": 8,
    "start_time": "2022-01-25T12:21:34.243Z"
   },
   {
    "duration": 5,
    "start_time": "2022-01-25T12:21:34.252Z"
   },
   {
    "duration": 10,
    "start_time": "2022-01-25T12:21:34.258Z"
   },
   {
    "duration": 4,
    "start_time": "2022-01-25T12:21:34.270Z"
   },
   {
    "duration": 5,
    "start_time": "2022-01-25T12:21:34.277Z"
   },
   {
    "duration": 3,
    "start_time": "2022-01-25T12:21:34.284Z"
   },
   {
    "duration": 6,
    "start_time": "2022-01-25T12:21:34.288Z"
   },
   {
    "duration": 10,
    "start_time": "2022-01-25T12:21:34.313Z"
   },
   {
    "duration": 7,
    "start_time": "2022-01-25T12:21:34.325Z"
   },
   {
    "duration": 12,
    "start_time": "2022-01-25T12:21:34.334Z"
   },
   {
    "duration": 13,
    "start_time": "2022-01-25T12:21:34.347Z"
   },
   {
    "duration": 10,
    "start_time": "2022-01-25T12:21:34.361Z"
   },
   {
    "duration": 263,
    "start_time": "2022-01-25T12:21:34.372Z"
   },
   {
    "duration": -61,
    "start_time": "2022-01-25T12:21:34.699Z"
   },
   {
    "duration": -70,
    "start_time": "2022-01-25T12:21:34.709Z"
   },
   {
    "duration": -82,
    "start_time": "2022-01-25T12:21:34.722Z"
   },
   {
    "duration": -96,
    "start_time": "2022-01-25T12:21:34.737Z"
   },
   {
    "duration": -107,
    "start_time": "2022-01-25T12:21:34.749Z"
   },
   {
    "duration": -113,
    "start_time": "2022-01-25T12:21:34.756Z"
   },
   {
    "duration": -118,
    "start_time": "2022-01-25T12:21:34.762Z"
   },
   {
    "duration": -146,
    "start_time": "2022-01-25T12:21:34.791Z"
   },
   {
    "duration": -149,
    "start_time": "2022-01-25T12:21:34.794Z"
   },
   {
    "duration": -155,
    "start_time": "2022-01-25T12:21:34.801Z"
   },
   {
    "duration": -164,
    "start_time": "2022-01-25T12:21:34.811Z"
   },
   {
    "duration": -174,
    "start_time": "2022-01-25T12:21:34.822Z"
   },
   {
    "duration": -188,
    "start_time": "2022-01-25T12:21:34.837Z"
   },
   {
    "duration": -195,
    "start_time": "2022-01-25T12:21:34.845Z"
   },
   {
    "duration": -199,
    "start_time": "2022-01-25T12:21:34.849Z"
   },
   {
    "duration": -211,
    "start_time": "2022-01-25T12:21:34.862Z"
   },
   {
    "duration": 3,
    "start_time": "2022-01-25T12:22:22.763Z"
   },
   {
    "duration": 202,
    "start_time": "2022-01-25T12:34:24.246Z"
   },
   {
    "duration": 210,
    "start_time": "2022-01-25T12:34:34.694Z"
   },
   {
    "duration": 200,
    "start_time": "2022-01-25T12:36:33.427Z"
   },
   {
    "duration": 190,
    "start_time": "2022-01-25T12:36:56.212Z"
   },
   {
    "duration": 4,
    "start_time": "2022-01-25T12:37:06.012Z"
   },
   {
    "duration": 9,
    "start_time": "2022-01-25T12:39:58.519Z"
   },
   {
    "duration": 5800,
    "start_time": "2022-01-25T12:40:08.229Z"
   },
   {
    "duration": 227,
    "start_time": "2022-01-25T12:40:18.645Z"
   },
   {
    "duration": 4,
    "start_time": "2022-01-25T12:40:39.397Z"
   },
   {
    "duration": 197,
    "start_time": "2022-01-25T12:41:12.325Z"
   },
   {
    "duration": 201,
    "start_time": "2022-01-25T12:41:17.106Z"
   },
   {
    "duration": 5,
    "start_time": "2022-01-25T12:41:57.621Z"
   },
   {
    "duration": 218,
    "start_time": "2022-01-25T12:42:43.594Z"
   },
   {
    "duration": 10,
    "start_time": "2022-01-25T12:43:53.726Z"
   },
   {
    "duration": 9,
    "start_time": "2022-01-25T12:44:00.711Z"
   },
   {
    "duration": 6,
    "start_time": "2022-01-25T12:44:28.039Z"
   },
   {
    "duration": 209,
    "start_time": "2022-01-25T12:50:25.434Z"
   },
   {
    "duration": 5,
    "start_time": "2022-01-25T12:50:43.309Z"
   },
   {
    "duration": 187,
    "start_time": "2022-01-25T12:51:55.640Z"
   },
   {
    "duration": 6,
    "start_time": "2022-01-25T12:52:01.180Z"
   },
   {
    "duration": 4712,
    "start_time": "2022-01-25T12:52:28.720Z"
   },
   {
    "duration": 4,
    "start_time": "2022-01-25T12:54:00.605Z"
   },
   {
    "duration": 186,
    "start_time": "2022-01-25T12:56:47.617Z"
   },
   {
    "duration": 73,
    "start_time": "2022-01-25T12:56:58.477Z"
   },
   {
    "duration": 203,
    "start_time": "2022-01-25T12:57:50.612Z"
   },
   {
    "duration": 12,
    "start_time": "2022-01-25T13:00:06.073Z"
   },
   {
    "duration": 11,
    "start_time": "2022-01-25T13:01:53.700Z"
   },
   {
    "duration": 4,
    "start_time": "2022-01-25T13:02:04.520Z"
   },
   {
    "duration": 9,
    "start_time": "2022-01-25T13:02:16.378Z"
   },
   {
    "duration": 194,
    "start_time": "2022-01-25T13:10:37.084Z"
   },
   {
    "duration": 6,
    "start_time": "2022-01-25T13:10:46.355Z"
   },
   {
    "duration": 8,
    "start_time": "2022-01-25T13:10:59.424Z"
   },
   {
    "duration": 8,
    "start_time": "2022-01-25T13:11:07.654Z"
   },
   {
    "duration": 10,
    "start_time": "2022-01-25T13:12:54.648Z"
   },
   {
    "duration": 10,
    "start_time": "2022-01-25T13:13:02.549Z"
   },
   {
    "duration": 10,
    "start_time": "2022-01-25T13:15:15.645Z"
   },
   {
    "duration": 5293,
    "start_time": "2022-01-25T13:35:58.389Z"
   },
   {
    "duration": 8,
    "start_time": "2022-01-25T13:36:14.775Z"
   },
   {
    "duration": 210,
    "start_time": "2022-01-25T13:36:33.108Z"
   },
   {
    "duration": 192,
    "start_time": "2022-01-25T13:36:52.893Z"
   },
   {
    "duration": 8,
    "start_time": "2022-01-25T13:37:27.370Z"
   },
   {
    "duration": 210,
    "start_time": "2022-01-25T13:39:58.528Z"
   },
   {
    "duration": 12,
    "start_time": "2022-01-25T13:40:09.456Z"
   },
   {
    "duration": 1096,
    "start_time": "2022-01-25T13:40:29.459Z"
   },
   {
    "duration": 61,
    "start_time": "2022-01-25T13:40:30.560Z"
   },
   {
    "duration": 7,
    "start_time": "2022-01-25T13:40:30.624Z"
   },
   {
    "duration": 18,
    "start_time": "2022-01-25T13:40:30.633Z"
   },
   {
    "duration": 8,
    "start_time": "2022-01-25T13:40:30.652Z"
   },
   {
    "duration": 18,
    "start_time": "2022-01-25T13:40:30.662Z"
   },
   {
    "duration": 13,
    "start_time": "2022-01-25T13:40:30.682Z"
   },
   {
    "duration": 11,
    "start_time": "2022-01-25T13:40:30.697Z"
   },
   {
    "duration": 5,
    "start_time": "2022-01-25T13:40:30.710Z"
   },
   {
    "duration": 26,
    "start_time": "2022-01-25T13:40:30.716Z"
   },
   {
    "duration": 18,
    "start_time": "2022-01-25T13:40:30.744Z"
   },
   {
    "duration": 18,
    "start_time": "2022-01-25T13:40:30.764Z"
   },
   {
    "duration": 9,
    "start_time": "2022-01-25T13:40:30.783Z"
   },
   {
    "duration": 15,
    "start_time": "2022-01-25T13:40:30.794Z"
   },
   {
    "duration": 16,
    "start_time": "2022-01-25T13:40:30.810Z"
   },
   {
    "duration": 14,
    "start_time": "2022-01-25T13:40:30.829Z"
   },
   {
    "duration": 10,
    "start_time": "2022-01-25T13:40:30.845Z"
   },
   {
    "duration": 11,
    "start_time": "2022-01-25T13:40:30.856Z"
   },
   {
    "duration": 339,
    "start_time": "2022-01-25T13:40:30.869Z"
   },
   {
    "duration": 811,
    "start_time": "2022-01-25T13:40:31.210Z"
   },
   {
    "duration": 382,
    "start_time": "2022-01-25T13:40:32.023Z"
   },
   {
    "duration": 525,
    "start_time": "2022-01-25T13:40:32.412Z"
   },
   {
    "duration": 340,
    "start_time": "2022-01-25T13:40:32.939Z"
   },
   {
    "duration": 506,
    "start_time": "2022-01-25T13:40:33.281Z"
   },
   {
    "duration": 482,
    "start_time": "2022-01-25T13:40:33.789Z"
   },
   {
    "duration": 4,
    "start_time": "2022-01-25T13:40:34.272Z"
   },
   {
    "duration": 429,
    "start_time": "2022-01-25T13:40:34.278Z"
   },
   {
    "duration": 4,
    "start_time": "2022-01-25T13:40:34.712Z"
   },
   {
    "duration": 476,
    "start_time": "2022-01-25T13:40:34.717Z"
   },
   {
    "duration": 147,
    "start_time": "2022-01-25T13:40:35.195Z"
   },
   {
    "duration": 391,
    "start_time": "2022-01-25T13:40:35.344Z"
   },
   {
    "duration": 14,
    "start_time": "2022-01-25T13:40:35.737Z"
   },
   {
    "duration": 15,
    "start_time": "2022-01-25T13:43:34.409Z"
   },
   {
    "duration": 290,
    "start_time": "2022-01-25T13:45:43.065Z"
   },
   {
    "duration": 200,
    "start_time": "2022-01-25T13:46:11.330Z"
   },
   {
    "duration": 6,
    "start_time": "2022-01-25T13:51:27.199Z"
   },
   {
    "duration": 9,
    "start_time": "2022-01-25T13:52:00.113Z"
   },
   {
    "duration": 8,
    "start_time": "2022-01-25T13:52:20.100Z"
   },
   {
    "duration": 202,
    "start_time": "2022-01-25T13:53:05.761Z"
   },
   {
    "duration": 9,
    "start_time": "2022-01-25T13:53:14.013Z"
   },
   {
    "duration": 6,
    "start_time": "2022-01-25T13:57:59.542Z"
   },
   {
    "duration": 424,
    "start_time": "2022-01-25T13:59:13.137Z"
   },
   {
    "duration": 5,
    "start_time": "2022-01-25T14:00:17.554Z"
   },
   {
    "duration": 1197,
    "start_time": "2022-01-25T15:53:31.441Z"
   },
   {
    "duration": 102,
    "start_time": "2022-01-25T15:53:32.640Z"
   },
   {
    "duration": 8,
    "start_time": "2022-01-25T15:53:32.744Z"
   },
   {
    "duration": 16,
    "start_time": "2022-01-25T15:53:32.754Z"
   },
   {
    "duration": 8,
    "start_time": "2022-01-25T15:53:32.772Z"
   },
   {
    "duration": 14,
    "start_time": "2022-01-25T15:53:32.782Z"
   },
   {
    "duration": 8,
    "start_time": "2022-01-25T15:53:32.799Z"
   },
   {
    "duration": 10,
    "start_time": "2022-01-25T15:53:32.810Z"
   },
   {
    "duration": 9,
    "start_time": "2022-01-25T15:53:32.823Z"
   },
   {
    "duration": 14,
    "start_time": "2022-01-25T15:53:32.834Z"
   },
   {
    "duration": 20,
    "start_time": "2022-01-25T15:53:32.850Z"
   },
   {
    "duration": 8,
    "start_time": "2022-01-25T15:53:32.872Z"
   },
   {
    "duration": 16,
    "start_time": "2022-01-25T15:53:32.882Z"
   },
   {
    "duration": 14,
    "start_time": "2022-01-25T15:53:32.907Z"
   },
   {
    "duration": 14,
    "start_time": "2022-01-25T15:53:32.922Z"
   },
   {
    "duration": 9,
    "start_time": "2022-01-25T15:53:32.938Z"
   },
   {
    "duration": 15,
    "start_time": "2022-01-25T15:53:32.949Z"
   },
   {
    "duration": 40,
    "start_time": "2022-01-25T15:53:32.967Z"
   },
   {
    "duration": 589,
    "start_time": "2022-01-25T15:53:33.009Z"
   },
   {
    "duration": 821,
    "start_time": "2022-01-25T15:53:33.600Z"
   },
   {
    "duration": 423,
    "start_time": "2022-01-25T15:53:34.423Z"
   },
   {
    "duration": 518,
    "start_time": "2022-01-25T15:53:34.849Z"
   },
   {
    "duration": 568,
    "start_time": "2022-01-25T15:53:35.371Z"
   },
   {
    "duration": 636,
    "start_time": "2022-01-25T15:53:35.941Z"
   },
   {
    "duration": 578,
    "start_time": "2022-01-25T15:53:36.579Z"
   },
   {
    "duration": 4,
    "start_time": "2022-01-25T15:53:37.159Z"
   },
   {
    "duration": 436,
    "start_time": "2022-01-25T15:53:37.165Z"
   },
   {
    "duration": 5,
    "start_time": "2022-01-25T15:53:37.607Z"
   },
   {
    "duration": 494,
    "start_time": "2022-01-25T15:53:37.614Z"
   },
   {
    "duration": 136,
    "start_time": "2022-01-25T15:53:38.110Z"
   },
   {
    "duration": 399,
    "start_time": "2022-01-25T15:53:38.248Z"
   },
   {
    "duration": 17,
    "start_time": "2022-01-25T15:53:38.649Z"
   },
   {
    "duration": 455,
    "start_time": "2022-01-25T15:56:33.025Z"
   },
   {
    "duration": 456,
    "start_time": "2022-01-25T15:56:49.314Z"
   },
   {
    "duration": 93,
    "start_time": "2022-01-25T15:57:26.244Z"
   },
   {
    "duration": 1139,
    "start_time": "2022-01-25T16:06:25.354Z"
   },
   {
    "duration": 68,
    "start_time": "2022-01-25T16:06:26.496Z"
   },
   {
    "duration": 7,
    "start_time": "2022-01-25T16:06:26.567Z"
   },
   {
    "duration": 31,
    "start_time": "2022-01-25T16:06:26.576Z"
   },
   {
    "duration": 35,
    "start_time": "2022-01-25T16:06:26.609Z"
   },
   {
    "duration": 30,
    "start_time": "2022-01-25T16:06:26.645Z"
   },
   {
    "duration": 21,
    "start_time": "2022-01-25T16:06:26.677Z"
   },
   {
    "duration": 18,
    "start_time": "2022-01-25T16:06:26.701Z"
   },
   {
    "duration": 19,
    "start_time": "2022-01-25T16:06:26.722Z"
   },
   {
    "duration": 28,
    "start_time": "2022-01-25T16:06:26.744Z"
   },
   {
    "duration": 20,
    "start_time": "2022-01-25T16:06:26.775Z"
   },
   {
    "duration": 22,
    "start_time": "2022-01-25T16:06:26.797Z"
   },
   {
    "duration": 21,
    "start_time": "2022-01-25T16:06:26.821Z"
   },
   {
    "duration": 31,
    "start_time": "2022-01-25T16:06:26.844Z"
   },
   {
    "duration": 15,
    "start_time": "2022-01-25T16:06:26.877Z"
   },
   {
    "duration": 18,
    "start_time": "2022-01-25T16:06:26.894Z"
   },
   {
    "duration": 19,
    "start_time": "2022-01-25T16:06:26.914Z"
   },
   {
    "duration": 26,
    "start_time": "2022-01-25T16:06:26.935Z"
   },
   {
    "duration": 685,
    "start_time": "2022-01-25T16:06:26.963Z"
   },
   {
    "duration": 817,
    "start_time": "2022-01-25T16:06:27.651Z"
   },
   {
    "duration": 402,
    "start_time": "2022-01-25T16:06:28.469Z"
   },
   {
    "duration": 593,
    "start_time": "2022-01-25T16:06:28.873Z"
   },
   {
    "duration": 386,
    "start_time": "2022-01-25T16:06:29.468Z"
   },
   {
    "duration": 647,
    "start_time": "2022-01-25T16:06:29.856Z"
   },
   {
    "duration": 548,
    "start_time": "2022-01-25T16:06:30.505Z"
   },
   {
    "duration": 4,
    "start_time": "2022-01-25T16:06:31.056Z"
   },
   {
    "duration": 458,
    "start_time": "2022-01-25T16:06:31.064Z"
   },
   {
    "duration": 5,
    "start_time": "2022-01-25T16:06:31.524Z"
   },
   {
    "duration": 577,
    "start_time": "2022-01-25T16:06:31.531Z"
   },
   {
    "duration": 157,
    "start_time": "2022-01-25T16:06:32.111Z"
   },
   {
    "duration": 429,
    "start_time": "2022-01-25T16:06:32.271Z"
   },
   {
    "duration": 16,
    "start_time": "2022-01-25T16:06:32.701Z"
   },
   {
    "duration": 574,
    "start_time": "2022-01-25T16:15:21.249Z"
   },
   {
    "duration": 547,
    "start_time": "2022-01-25T16:15:31.035Z"
   },
   {
    "duration": 518,
    "start_time": "2022-01-25T16:15:43.136Z"
   },
   {
    "duration": 542,
    "start_time": "2022-01-25T16:15:55.960Z"
   },
   {
    "duration": 539,
    "start_time": "2022-01-25T16:18:22.339Z"
   },
   {
    "duration": 580,
    "start_time": "2022-01-25T16:24:36.990Z"
   },
   {
    "duration": 491,
    "start_time": "2022-01-25T16:25:17.026Z"
   },
   {
    "duration": 1209,
    "start_time": "2022-01-25T16:37:02.582Z"
   },
   {
    "duration": 71,
    "start_time": "2022-01-25T16:37:03.794Z"
   },
   {
    "duration": 8,
    "start_time": "2022-01-25T16:37:03.867Z"
   },
   {
    "duration": 11,
    "start_time": "2022-01-25T16:37:03.878Z"
   },
   {
    "duration": 11,
    "start_time": "2022-01-25T16:37:03.892Z"
   },
   {
    "duration": 17,
    "start_time": "2022-01-25T16:37:03.905Z"
   },
   {
    "duration": 7,
    "start_time": "2022-01-25T16:37:03.925Z"
   },
   {
    "duration": 8,
    "start_time": "2022-01-25T16:37:03.935Z"
   },
   {
    "duration": 6,
    "start_time": "2022-01-25T16:37:03.946Z"
   },
   {
    "duration": 13,
    "start_time": "2022-01-25T16:37:03.954Z"
   },
   {
    "duration": 38,
    "start_time": "2022-01-25T16:37:03.969Z"
   },
   {
    "duration": 7,
    "start_time": "2022-01-25T16:37:04.009Z"
   },
   {
    "duration": 11,
    "start_time": "2022-01-25T16:37:04.018Z"
   },
   {
    "duration": 16,
    "start_time": "2022-01-25T16:37:04.031Z"
   },
   {
    "duration": 13,
    "start_time": "2022-01-25T16:37:04.049Z"
   },
   {
    "duration": 16,
    "start_time": "2022-01-25T16:37:04.064Z"
   },
   {
    "duration": 30,
    "start_time": "2022-01-25T16:37:04.082Z"
   },
   {
    "duration": 15,
    "start_time": "2022-01-25T16:37:04.114Z"
   },
   {
    "duration": 529,
    "start_time": "2022-01-25T16:37:04.131Z"
   },
   {
    "duration": 900,
    "start_time": "2022-01-25T16:37:04.663Z"
   },
   {
    "duration": 402,
    "start_time": "2022-01-25T16:37:05.565Z"
   },
   {
    "duration": 548,
    "start_time": "2022-01-25T16:37:05.970Z"
   },
   {
    "duration": 370,
    "start_time": "2022-01-25T16:37:06.521Z"
   },
   {
    "duration": 589,
    "start_time": "2022-01-25T16:37:06.894Z"
   },
   {
    "duration": 592,
    "start_time": "2022-01-25T16:37:07.485Z"
   },
   {
    "duration": 5,
    "start_time": "2022-01-25T16:37:08.079Z"
   },
   {
    "duration": 489,
    "start_time": "2022-01-25T16:37:08.085Z"
   },
   {
    "duration": 5,
    "start_time": "2022-01-25T16:37:08.575Z"
   },
   {
    "duration": 505,
    "start_time": "2022-01-25T16:37:08.581Z"
   },
   {
    "duration": 143,
    "start_time": "2022-01-25T16:37:09.088Z"
   },
   {
    "duration": 424,
    "start_time": "2022-01-25T16:37:09.233Z"
   },
   {
    "duration": 15,
    "start_time": "2022-01-25T16:37:09.659Z"
   },
   {
    "duration": 429,
    "start_time": "2022-01-25T16:39:44.352Z"
   },
   {
    "duration": 404,
    "start_time": "2022-01-25T16:39:53.972Z"
   },
   {
    "duration": 438,
    "start_time": "2022-01-25T16:40:02.677Z"
   },
   {
    "duration": 408,
    "start_time": "2022-01-25T16:40:12.327Z"
   },
   {
    "duration": 414,
    "start_time": "2022-01-25T16:40:21.430Z"
   },
   {
    "duration": 685,
    "start_time": "2022-01-25T16:40:36.696Z"
   },
   {
    "duration": 422,
    "start_time": "2022-01-25T16:40:51.293Z"
   },
   {
    "duration": 434,
    "start_time": "2022-01-25T16:41:02.180Z"
   },
   {
    "duration": 401,
    "start_time": "2022-01-25T16:57:08.212Z"
   },
   {
    "duration": 416,
    "start_time": "2022-01-25T16:57:16.681Z"
   },
   {
    "duration": 458,
    "start_time": "2022-01-25T16:57:22.559Z"
   },
   {
    "duration": 419,
    "start_time": "2022-01-25T16:57:30.207Z"
   },
   {
    "duration": 437,
    "start_time": "2022-01-25T16:58:50.818Z"
   },
   {
    "duration": 441,
    "start_time": "2022-01-25T16:59:10.925Z"
   },
   {
    "duration": 440,
    "start_time": "2022-01-25T16:59:21.989Z"
   },
   {
    "duration": 513,
    "start_time": "2022-01-25T17:00:54.170Z"
   },
   {
    "duration": 292,
    "start_time": "2022-01-25T17:01:15.168Z"
   },
   {
    "duration": 311,
    "start_time": "2022-01-25T17:01:29.649Z"
   },
   {
    "duration": 384,
    "start_time": "2022-01-25T17:02:11.120Z"
   },
   {
    "duration": 551,
    "start_time": "2022-01-25T17:03:52.976Z"
   },
   {
    "duration": 554,
    "start_time": "2022-01-25T17:05:05.767Z"
   },
   {
    "duration": 6426,
    "start_time": "2022-01-25T17:06:10.965Z"
   },
   {
    "duration": 7107,
    "start_time": "2022-01-25T17:06:49.983Z"
   },
   {
    "duration": 7115,
    "start_time": "2022-01-25T17:07:15.703Z"
   },
   {
    "duration": 426,
    "start_time": "2022-01-25T17:08:12.685Z"
   },
   {
    "duration": 411,
    "start_time": "2022-01-25T17:45:10.511Z"
   },
   {
    "duration": 398,
    "start_time": "2022-01-25T17:45:35.354Z"
   },
   {
    "duration": 552,
    "start_time": "2022-01-25T18:01:29.351Z"
   },
   {
    "duration": 140,
    "start_time": "2022-01-25T18:01:49.621Z"
   },
   {
    "duration": 433,
    "start_time": "2022-01-25T18:02:01.510Z"
   },
   {
    "duration": 17,
    "start_time": "2022-01-25T18:02:41.620Z"
   },
   {
    "duration": 100,
    "start_time": "2022-01-25T18:08:27.655Z"
   },
   {
    "duration": 3129,
    "start_time": "2022-01-25T18:35:35.360Z"
   },
   {
    "duration": 1043,
    "start_time": "2022-01-25T18:35:49.619Z"
   },
   {
    "duration": 833,
    "start_time": "2022-01-25T18:36:03.559Z"
   },
   {
    "duration": 999,
    "start_time": "2022-01-25T18:36:14.793Z"
   },
   {
    "duration": 820,
    "start_time": "2022-01-25T18:36:23.690Z"
   },
   {
    "duration": 800,
    "start_time": "2022-01-25T18:36:41.543Z"
   },
   {
    "duration": 790,
    "start_time": "2022-01-25T18:36:52.383Z"
   },
   {
    "duration": 838,
    "start_time": "2022-01-25T18:37:02.320Z"
   },
   {
    "duration": 1173,
    "start_time": "2022-01-25T18:37:22.138Z"
   },
   {
    "duration": 829,
    "start_time": "2022-01-25T18:37:41.882Z"
   },
   {
    "duration": 470,
    "start_time": "2022-01-25T18:38:44.271Z"
   },
   {
    "duration": 5,
    "start_time": "2022-01-25T18:39:20.668Z"
   },
   {
    "duration": 248,
    "start_time": "2022-01-26T10:50:28.746Z"
   },
   {
    "duration": 1123,
    "start_time": "2022-01-26T10:50:34.751Z"
   },
   {
    "duration": 106,
    "start_time": "2022-01-26T10:50:35.876Z"
   },
   {
    "duration": 9,
    "start_time": "2022-01-26T10:50:35.985Z"
   },
   {
    "duration": 13,
    "start_time": "2022-01-26T10:50:35.996Z"
   },
   {
    "duration": 13,
    "start_time": "2022-01-26T10:50:36.011Z"
   },
   {
    "duration": 14,
    "start_time": "2022-01-26T10:50:36.026Z"
   },
   {
    "duration": 15,
    "start_time": "2022-01-26T10:50:36.042Z"
   },
   {
    "duration": 11,
    "start_time": "2022-01-26T10:50:36.060Z"
   },
   {
    "duration": 5,
    "start_time": "2022-01-26T10:50:36.074Z"
   },
   {
    "duration": 18,
    "start_time": "2022-01-26T10:50:36.081Z"
   },
   {
    "duration": 10,
    "start_time": "2022-01-26T10:50:36.101Z"
   },
   {
    "duration": 10,
    "start_time": "2022-01-26T10:50:36.113Z"
   },
   {
    "duration": 9,
    "start_time": "2022-01-26T10:50:36.125Z"
   },
   {
    "duration": 16,
    "start_time": "2022-01-26T10:50:36.136Z"
   },
   {
    "duration": 9,
    "start_time": "2022-01-26T10:50:36.155Z"
   },
   {
    "duration": 39,
    "start_time": "2022-01-26T10:50:36.166Z"
   },
   {
    "duration": 14,
    "start_time": "2022-01-26T10:50:36.207Z"
   },
   {
    "duration": 17,
    "start_time": "2022-01-26T10:50:36.223Z"
   },
   {
    "duration": 324,
    "start_time": "2022-01-26T10:50:36.242Z"
   },
   {
    "duration": 765,
    "start_time": "2022-01-26T10:50:36.568Z"
   },
   {
    "duration": 397,
    "start_time": "2022-01-26T10:50:37.335Z"
   },
   {
    "duration": 484,
    "start_time": "2022-01-26T10:50:37.734Z"
   },
   {
    "duration": 368,
    "start_time": "2022-01-26T10:50:38.222Z"
   },
   {
    "duration": 578,
    "start_time": "2022-01-26T10:50:38.593Z"
   },
   {
    "duration": 587,
    "start_time": "2022-01-26T10:50:39.173Z"
   },
   {
    "duration": 4,
    "start_time": "2022-01-26T10:50:39.762Z"
   },
   {
    "duration": 478,
    "start_time": "2022-01-26T10:50:39.768Z"
   },
   {
    "duration": 4,
    "start_time": "2022-01-26T10:50:40.248Z"
   },
   {
    "duration": 463,
    "start_time": "2022-01-26T10:50:40.254Z"
   },
   {
    "duration": 128,
    "start_time": "2022-01-26T10:50:40.720Z"
   },
   {
    "duration": 376,
    "start_time": "2022-01-26T10:50:40.850Z"
   },
   {
    "duration": 15,
    "start_time": "2022-01-26T10:50:41.227Z"
   },
   {
    "duration": 408,
    "start_time": "2022-01-26T10:53:02.431Z"
   },
   {
    "duration": 442,
    "start_time": "2022-01-26T10:53:13.008Z"
   },
   {
    "duration": 426,
    "start_time": "2022-01-26T10:53:16.355Z"
   }
  ],
  "kernelspec": {
   "display_name": "Python 3 (ipykernel)",
   "language": "python",
   "name": "python3"
  },
  "language_info": {
   "codemirror_mode": {
    "name": "ipython",
    "version": 3
   },
   "file_extension": ".py",
   "mimetype": "text/x-python",
   "name": "python",
   "nbconvert_exporter": "python",
   "pygments_lexer": "ipython3",
   "version": "3.9.7"
  },
  "toc": {
   "base_numbering": 1,
   "nav_menu": {},
   "number_sections": true,
   "sideBar": true,
   "skip_h1_title": true,
   "title_cell": "Table of Contents",
   "title_sidebar": "Contents",
   "toc_cell": false,
   "toc_position": {},
   "toc_section_display": true,
   "toc_window_display": false
  }
 },
 "nbformat": 4,
 "nbformat_minor": 2
}
