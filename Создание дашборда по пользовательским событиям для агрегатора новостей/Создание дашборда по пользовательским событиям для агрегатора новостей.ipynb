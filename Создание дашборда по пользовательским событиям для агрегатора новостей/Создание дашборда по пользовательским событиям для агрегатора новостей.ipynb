{
 "cells": [
  {
   "cell_type": "markdown",
   "id": "f638eebc",
   "metadata": {},
   "source": [
    "# Создание дашборда по пользовательским событиям для агрегатора новостей\n",
    "\n",
    "**Задача:** Используя данные Яндекс.Дзена построить дашборд с метриками взаимодействия пользователей с карточками статей.\n",
    "\n",
    "**Ссылка на презентацию:**\n",
    "https://drive.google.com/file/d/148ASqkKWuq2uagXNQc0nQutCn6ypvPMu/view?usp=sharing\n",
    "\n",
    "**Дашборд на Tableau Public:**\n",
    "https://public.tableau.com/app/profile/sofyaak/viz/Sophia_Akinfy_project/Dashboard1?publish=yes"
   ]
  },
  {
   "cell_type": "markdown",
   "id": "bffc44c7",
   "metadata": {},
   "source": [
    "### Запрос к базе данных"
   ]
  },
  {
   "cell_type": "code",
   "execution_count": 1,
   "id": "d02b4208",
   "metadata": {},
   "outputs": [],
   "source": [
    "# импортируем библиотеки\n",
    "import pandas as pd\n",
    "import numpy as np\n",
    "from sqlalchemy import create_engine\n",
    "\n",
    "db_config = {'user': 'praktikum_student', # имя пользователя\n",
    "            'pwd': 'Sdf4$2;d-d30pp', # пароль\n",
    "            'host': 'rc1b-wcoijxj3yxfsf3fs.mdb.yandexcloud.net',\n",
    "            'port': 6432, # порт подключения\n",
    "            'db': 'data-analyst-zen-project-db'} # название базы данных\n",
    "\n",
    "connection_string = 'postgresql://{}:{}@{}:{}/{}'.format(db_config['user'],\n",
    "                                                db_config['pwd'],\n",
    "                                                db_config['host'],\n",
    "                                                db_config['port'],\n",
    "                                                db_config['db'])\n",
    "\n",
    "engine = create_engine(connection_string)\n",
    "\n",
    "query = ''' SELECT *\n",
    "            FROM dash_visits\n",
    "        '''\n",
    "\n",
    "data = pd.io.sql.read_sql(query, con = engine)"
   ]
  },
  {
   "cell_type": "code",
   "execution_count": 2,
   "id": "7d9a56a9",
   "metadata": {},
   "outputs": [
    {
     "data": {
      "text/html": [
       "<div>\n",
       "<style scoped>\n",
       "    .dataframe tbody tr th:only-of-type {\n",
       "        vertical-align: middle;\n",
       "    }\n",
       "\n",
       "    .dataframe tbody tr th {\n",
       "        vertical-align: top;\n",
       "    }\n",
       "\n",
       "    .dataframe thead th {\n",
       "        text-align: right;\n",
       "    }\n",
       "</style>\n",
       "<table border=\"1\" class=\"dataframe\">\n",
       "  <thead>\n",
       "    <tr style=\"text-align: right;\">\n",
       "      <th></th>\n",
       "      <th>record_id</th>\n",
       "      <th>item_topic</th>\n",
       "      <th>source_topic</th>\n",
       "      <th>age_segment</th>\n",
       "      <th>dt</th>\n",
       "      <th>visits</th>\n",
       "    </tr>\n",
       "  </thead>\n",
       "  <tbody>\n",
       "    <tr>\n",
       "      <th>0</th>\n",
       "      <td>1040597</td>\n",
       "      <td>Деньги</td>\n",
       "      <td>Авто</td>\n",
       "      <td>18-25</td>\n",
       "      <td>2019-09-24 18:32:00</td>\n",
       "      <td>3</td>\n",
       "    </tr>\n",
       "    <tr>\n",
       "      <th>1</th>\n",
       "      <td>1040598</td>\n",
       "      <td>Деньги</td>\n",
       "      <td>Авто</td>\n",
       "      <td>18-25</td>\n",
       "      <td>2019-09-24 18:35:00</td>\n",
       "      <td>1</td>\n",
       "    </tr>\n",
       "    <tr>\n",
       "      <th>2</th>\n",
       "      <td>1040599</td>\n",
       "      <td>Деньги</td>\n",
       "      <td>Авто</td>\n",
       "      <td>18-25</td>\n",
       "      <td>2019-09-24 18:54:00</td>\n",
       "      <td>4</td>\n",
       "    </tr>\n",
       "    <tr>\n",
       "      <th>3</th>\n",
       "      <td>1040600</td>\n",
       "      <td>Деньги</td>\n",
       "      <td>Авто</td>\n",
       "      <td>18-25</td>\n",
       "      <td>2019-09-24 18:55:00</td>\n",
       "      <td>17</td>\n",
       "    </tr>\n",
       "    <tr>\n",
       "      <th>4</th>\n",
       "      <td>1040601</td>\n",
       "      <td>Деньги</td>\n",
       "      <td>Авто</td>\n",
       "      <td>18-25</td>\n",
       "      <td>2019-09-24 18:56:00</td>\n",
       "      <td>27</td>\n",
       "    </tr>\n",
       "  </tbody>\n",
       "</table>\n",
       "</div>"
      ],
      "text/plain": [
       "   record_id item_topic source_topic age_segment                  dt  visits\n",
       "0    1040597     Деньги         Авто       18-25 2019-09-24 18:32:00       3\n",
       "1    1040598     Деньги         Авто       18-25 2019-09-24 18:35:00       1\n",
       "2    1040599     Деньги         Авто       18-25 2019-09-24 18:54:00       4\n",
       "3    1040600     Деньги         Авто       18-25 2019-09-24 18:55:00      17\n",
       "4    1040601     Деньги         Авто       18-25 2019-09-24 18:56:00      27"
      ]
     },
     "execution_count": 2,
     "metadata": {},
     "output_type": "execute_result"
    }
   ],
   "source": [
    "data.head()"
   ]
  },
  {
   "cell_type": "markdown",
   "id": "cc663b22",
   "metadata": {},
   "source": [
    "### Проверка данных"
   ]
  },
  {
   "cell_type": "code",
   "execution_count": 3,
   "id": "0f138cbb",
   "metadata": {
    "scrolled": true
   },
   "outputs": [
    {
     "name": "stdout",
     "output_type": "stream",
     "text": [
      "<class 'pandas.core.frame.DataFrame'>\n",
      "RangeIndex: 30745 entries, 0 to 30744\n",
      "Data columns (total 6 columns):\n",
      " #   Column        Non-Null Count  Dtype         \n",
      "---  ------        --------------  -----         \n",
      " 0   record_id     30745 non-null  int64         \n",
      " 1   item_topic    30745 non-null  object        \n",
      " 2   source_topic  30745 non-null  object        \n",
      " 3   age_segment   30745 non-null  object        \n",
      " 4   dt            30745 non-null  datetime64[ns]\n",
      " 5   visits        30745 non-null  int64         \n",
      "dtypes: datetime64[ns](1), int64(2), object(3)\n",
      "memory usage: 1.4+ MB\n"
     ]
    }
   ],
   "source": [
    "data.info()"
   ]
  },
  {
   "cell_type": "markdown",
   "id": "060a4815",
   "metadata": {},
   "source": [
    "Пропущенных значений нет, тип данных корректен"
   ]
  },
  {
   "cell_type": "code",
   "execution_count": 4,
   "id": "78d94c25",
   "metadata": {},
   "outputs": [
    {
     "data": {
      "text/plain": [
       "0"
      ]
     },
     "execution_count": 4,
     "metadata": {},
     "output_type": "execute_result"
    }
   ],
   "source": [
    "data[['item_topic', 'source_topic', 'age_segment', 'dt', 'visits']].duplicated().sum()"
   ]
  },
  {
   "cell_type": "markdown",
   "id": "1e9e3df8",
   "metadata": {},
   "source": [
    "дубликатов нет"
   ]
  },
  {
   "cell_type": "markdown",
   "id": "67a6bc34",
   "metadata": {},
   "source": [
    "#### Проверка столбца record_id"
   ]
  },
  {
   "cell_type": "code",
   "execution_count": 5,
   "id": "c2557f87",
   "metadata": {},
   "outputs": [
    {
     "data": {
      "text/plain": [
       "30745"
      ]
     },
     "execution_count": 5,
     "metadata": {},
     "output_type": "execute_result"
    }
   ],
   "source": [
    "data['record_id'].nunique()"
   ]
  },
  {
   "cell_type": "markdown",
   "id": "03c97250",
   "metadata": {},
   "source": [
    "Все идентификаторы уникальны, количество уникальных значений совпадает с количеством строк"
   ]
  },
  {
   "cell_type": "markdown",
   "id": "9daf9975",
   "metadata": {},
   "source": [
    "#### Проверка столбца item_topic"
   ]
  },
  {
   "cell_type": "code",
   "execution_count": 6,
   "id": "8781e81b",
   "metadata": {
    "scrolled": false
   },
   "outputs": [
    {
     "data": {
      "text/plain": [
       "Отношения             1536\n",
       "Интересные факты      1535\n",
       "Наука                 1505\n",
       "Подборки              1456\n",
       "Полезные советы       1424\n",
       "Общество              1422\n",
       "Россия                1385\n",
       "История               1363\n",
       "Семья                 1287\n",
       "Путешествия           1247\n",
       "Деньги                1234\n",
       "Женщины               1230\n",
       "Дети                  1229\n",
       "Туризм                1206\n",
       "Здоровье              1203\n",
       "Красота               1193\n",
       "Культура              1160\n",
       "Юмор                  1129\n",
       "Искусство             1119\n",
       "Рассказы              1109\n",
       "Психология            1056\n",
       "Скандалы              1023\n",
       "Знаменитости           976\n",
       "Женская психология     914\n",
       "Шоу                    804\n",
       "Name: item_topic, dtype: int64"
      ]
     },
     "execution_count": 6,
     "metadata": {},
     "output_type": "execute_result"
    }
   ],
   "source": [
    "data['item_topic'].value_counts()"
   ]
  },
  {
   "cell_type": "markdown",
   "id": "e5f7b7fd",
   "metadata": {},
   "source": [
    "Неявных дубликатов нет"
   ]
  },
  {
   "cell_type": "markdown",
   "id": "795ac3ec",
   "metadata": {},
   "source": [
    "#### Проверка столбца source_topic"
   ]
  },
  {
   "cell_type": "code",
   "execution_count": 7,
   "id": "a54a6dc7",
   "metadata": {},
   "outputs": [
    {
     "data": {
      "text/plain": [
       "Семейные отношения    1822\n",
       "Россия                1687\n",
       "Знаменитости          1650\n",
       "Полезные советы       1578\n",
       "Путешествия           1563\n",
       "Кино                  1505\n",
       "Дети                  1459\n",
       "История               1437\n",
       "Семья                 1405\n",
       "Одежда                1379\n",
       "Здоровье              1243\n",
       "Искусство             1228\n",
       "Авто                  1077\n",
       "Психология            1055\n",
       "Сад и дача            1036\n",
       "Политика              1024\n",
       "Спорт                 1007\n",
       "Сделай сам             995\n",
       "Ремонт                 985\n",
       "Деньги                 973\n",
       "Еда                    912\n",
       "Интерьеры              809\n",
       "Строительство          758\n",
       "Музыка                 750\n",
       "Технологии             741\n",
       "Финансы                667\n",
       "Name: source_topic, dtype: int64"
      ]
     },
     "execution_count": 7,
     "metadata": {},
     "output_type": "execute_result"
    }
   ],
   "source": [
    "data['source_topic'].value_counts()"
   ]
  },
  {
   "cell_type": "markdown",
   "id": "2b11789f",
   "metadata": {},
   "source": [
    "Неявных дубликатов нет"
   ]
  },
  {
   "cell_type": "markdown",
   "id": "d0e3f981",
   "metadata": {},
   "source": [
    "#### Проверка столбца age_segment "
   ]
  },
  {
   "cell_type": "code",
   "execution_count": 8,
   "id": "12a347cf",
   "metadata": {
    "scrolled": true
   },
   "outputs": [
    {
     "data": {
      "text/plain": [
       "18-25    7056\n",
       "26-30    5875\n",
       "31-35    5552\n",
       "36-40    5105\n",
       "41-45    3903\n",
       "45+      3254\n",
       "Name: age_segment, dtype: int64"
      ]
     },
     "execution_count": 8,
     "metadata": {},
     "output_type": "execute_result"
    }
   ],
   "source": [
    "data['age_segment'].value_counts()"
   ]
  },
  {
   "cell_type": "markdown",
   "id": "19562970",
   "metadata": {},
   "source": [
    "Неявных дубликатов нет. Пересечений нет"
   ]
  },
  {
   "cell_type": "markdown",
   "id": "0c842dab",
   "metadata": {},
   "source": [
    "#### Проверка столбца dt"
   ]
  },
  {
   "cell_type": "code",
   "execution_count": 9,
   "id": "0fda2451",
   "metadata": {},
   "outputs": [
    {
     "data": {
      "text/plain": [
       "2019-09-24 18:58:00    3383\n",
       "2019-09-24 18:57:00    3342\n",
       "2019-09-24 18:56:00    3325\n",
       "2019-09-24 18:59:00    3317\n",
       "2019-09-24 18:55:00    3088\n",
       "2019-09-24 19:00:00    2729\n",
       "2019-09-24 18:54:00    2551\n",
       "2019-09-24 18:30:00    1261\n",
       "2019-09-24 18:32:00    1257\n",
       "2019-09-24 18:31:00    1253\n",
       "2019-09-24 18:53:00    1107\n",
       "2019-09-24 18:29:00    1031\n",
       "2019-09-24 18:33:00    1007\n",
       "2019-09-24 18:52:00     719\n",
       "2019-09-24 18:28:00     615\n",
       "2019-09-24 18:34:00     576\n",
       "2019-09-24 18:35:00     184\n",
       "Name: dt, dtype: int64"
      ]
     },
     "execution_count": 9,
     "metadata": {},
     "output_type": "execute_result"
    }
   ],
   "source": [
    "data['dt'].value_counts()"
   ]
  },
  {
   "cell_type": "code",
   "execution_count": 10,
   "id": "e3595964",
   "metadata": {
    "scrolled": true
   },
   "outputs": [
    {
     "name": "stderr",
     "output_type": "stream",
     "text": [
      "C:\\Users\\Sofya\\AppData\\Local\\Temp/ipykernel_8508/946708098.py:1: FutureWarning: Treating datetime data as categorical rather than numeric in `.describe` is deprecated and will be removed in a future version of pandas. Specify `datetime_is_numeric=True` to silence this warning and adopt the future behavior now.\n",
      "  data['dt'].describe()\n"
     ]
    },
    {
     "data": {
      "text/plain": [
       "count                   30745\n",
       "unique                     17\n",
       "top       2019-09-24 18:58:00\n",
       "freq                     3383\n",
       "first     2019-09-24 18:28:00\n",
       "last      2019-09-24 19:00:00\n",
       "Name: dt, dtype: object"
      ]
     },
     "execution_count": 10,
     "metadata": {},
     "output_type": "execute_result"
    }
   ],
   "source": [
    "data['dt'].describe()"
   ]
  },
  {
   "cell_type": "markdown",
   "id": "382fba21",
   "metadata": {},
   "source": [
    "В датасете данные за 32 минуты"
   ]
  },
  {
   "cell_type": "markdown",
   "id": "fa74b048",
   "metadata": {},
   "source": [
    "#### Проверка столбца visits"
   ]
  },
  {
   "cell_type": "code",
   "execution_count": 11,
   "id": "7060f574",
   "metadata": {},
   "outputs": [
    {
     "data": {
      "text/plain": [
       "count    30745.000000\n",
       "mean        10.089673\n",
       "std         19.727601\n",
       "min          1.000000\n",
       "25%          1.000000\n",
       "50%          3.000000\n",
       "75%         10.000000\n",
       "max        371.000000\n",
       "Name: visits, dtype: float64"
      ]
     },
     "execution_count": 11,
     "metadata": {},
     "output_type": "execute_result"
    }
   ],
   "source": [
    "data['visits'].describe()"
   ]
  },
  {
   "cell_type": "code",
   "execution_count": 12,
   "id": "fd8bbd95",
   "metadata": {},
   "outputs": [
    {
     "data": {
      "text/plain": [
       "<AxesSubplot:>"
      ]
     },
     "execution_count": 12,
     "metadata": {},
     "output_type": "execute_result"
    },
    {
     "data": {
      "image/png": "[encoded data removed]",
      "text/plain": [
       "<Figure size 1080x360 with 1 Axes>"
      ]
     },
     "metadata": {
      "needs_background": "light"
     },
     "output_type": "display_data"
    }
   ],
   "source": [
    "data['visits'].hist(bins=50, figsize=(15, 5))"
   ]
  },
  {
   "cell_type": "code",
   "execution_count": 13,
   "id": "ff2b34d7",
   "metadata": {},
   "outputs": [
    {
     "data": {
      "text/plain": [
       "array([42., 95.])"
      ]
     },
     "execution_count": 13,
     "metadata": {},
     "output_type": "execute_result"
    }
   ],
   "source": [
    "np.percentile(data['visits'], [95, 99])"
   ]
  },
  {
   "cell_type": "markdown",
   "id": "8f55fca4",
   "metadata": {},
   "source": [
    "Есть выбросы до 371, 95% значений расположены до 42"
   ]
  },
  {
   "cell_type": "markdown",
   "id": "41d24b79",
   "metadata": {},
   "source": [
    "<b> Вывод: пропусков и дубликатов нет, тип данных корректен. Выбросы в столбце 'visits'. Данные не требуют обработки. Таблица оставлена для анализа без изменений.</b>"
   ]
  },
  {
   "cell_type": "markdown",
   "id": "c0c16a95",
   "metadata": {},
   "source": [
    "### Экспорт данных в csv-файл"
   ]
  },
  {
   "cell_type": "code",
   "execution_count": 14,
   "id": "402d2d1d",
   "metadata": {},
   "outputs": [],
   "source": [
    "data.to_csv('data.csv', index=False)"
   ]
  },
  {
   "cell_type": "code",
   "execution_count": 15,
   "id": "9efbe71b",
   "metadata": {
    "scrolled": false
   },
   "outputs": [
    {
     "data": {
      "text/html": [
       "<div>\n",
       "<style scoped>\n",
       "    .dataframe tbody tr th:only-of-type {\n",
       "        vertical-align: middle;\n",
       "    }\n",
       "\n",
       "    .dataframe tbody tr th {\n",
       "        vertical-align: top;\n",
       "    }\n",
       "\n",
       "    .dataframe thead th {\n",
       "        text-align: right;\n",
       "    }\n",
       "</style>\n",
       "<table border=\"1\" class=\"dataframe\">\n",
       "  <thead>\n",
       "    <tr style=\"text-align: right;\">\n",
       "      <th></th>\n",
       "      <th>record_id</th>\n",
       "      <th>item_topic</th>\n",
       "      <th>source_topic</th>\n",
       "      <th>age_segment</th>\n",
       "      <th>dt</th>\n",
       "      <th>visits</th>\n",
       "    </tr>\n",
       "  </thead>\n",
       "  <tbody>\n",
       "    <tr>\n",
       "      <th>0</th>\n",
       "      <td>1040597</td>\n",
       "      <td>Деньги</td>\n",
       "      <td>Авто</td>\n",
       "      <td>18-25</td>\n",
       "      <td>2019-09-24 18:32:00</td>\n",
       "      <td>3</td>\n",
       "    </tr>\n",
       "    <tr>\n",
       "      <th>1</th>\n",
       "      <td>1040598</td>\n",
       "      <td>Деньги</td>\n",
       "      <td>Авто</td>\n",
       "      <td>18-25</td>\n",
       "      <td>2019-09-24 18:35:00</td>\n",
       "      <td>1</td>\n",
       "    </tr>\n",
       "    <tr>\n",
       "      <th>2</th>\n",
       "      <td>1040599</td>\n",
       "      <td>Деньги</td>\n",
       "      <td>Авто</td>\n",
       "      <td>18-25</td>\n",
       "      <td>2019-09-24 18:54:00</td>\n",
       "      <td>4</td>\n",
       "    </tr>\n",
       "    <tr>\n",
       "      <th>3</th>\n",
       "      <td>1040600</td>\n",
       "      <td>Деньги</td>\n",
       "      <td>Авто</td>\n",
       "      <td>18-25</td>\n",
       "      <td>2019-09-24 18:55:00</td>\n",
       "      <td>17</td>\n",
       "    </tr>\n",
       "    <tr>\n",
       "      <th>4</th>\n",
       "      <td>1040601</td>\n",
       "      <td>Деньги</td>\n",
       "      <td>Авто</td>\n",
       "      <td>18-25</td>\n",
       "      <td>2019-09-24 18:56:00</td>\n",
       "      <td>27</td>\n",
       "    </tr>\n",
       "    <tr>\n",
       "      <th>...</th>\n",
       "      <td>...</td>\n",
       "      <td>...</td>\n",
       "      <td>...</td>\n",
       "      <td>...</td>\n",
       "      <td>...</td>\n",
       "      <td>...</td>\n",
       "    </tr>\n",
       "    <tr>\n",
       "      <th>30740</th>\n",
       "      <td>1071337</td>\n",
       "      <td>Юмор</td>\n",
       "      <td>Финансы</td>\n",
       "      <td>36-40</td>\n",
       "      <td>2019-09-24 18:57:00</td>\n",
       "      <td>2</td>\n",
       "    </tr>\n",
       "    <tr>\n",
       "      <th>30741</th>\n",
       "      <td>1071338</td>\n",
       "      <td>Юмор</td>\n",
       "      <td>Финансы</td>\n",
       "      <td>36-40</td>\n",
       "      <td>2019-09-24 19:00:00</td>\n",
       "      <td>1</td>\n",
       "    </tr>\n",
       "    <tr>\n",
       "      <th>30742</th>\n",
       "      <td>1071339</td>\n",
       "      <td>Юмор</td>\n",
       "      <td>Финансы</td>\n",
       "      <td>41-45</td>\n",
       "      <td>2019-09-24 18:54:00</td>\n",
       "      <td>1</td>\n",
       "    </tr>\n",
       "    <tr>\n",
       "      <th>30743</th>\n",
       "      <td>1071340</td>\n",
       "      <td>Юмор</td>\n",
       "      <td>Финансы</td>\n",
       "      <td>41-45</td>\n",
       "      <td>2019-09-24 18:56:00</td>\n",
       "      <td>1</td>\n",
       "    </tr>\n",
       "    <tr>\n",
       "      <th>30744</th>\n",
       "      <td>1071341</td>\n",
       "      <td>Юмор</td>\n",
       "      <td>Финансы</td>\n",
       "      <td>41-45</td>\n",
       "      <td>2019-09-24 19:00:00</td>\n",
       "      <td>1</td>\n",
       "    </tr>\n",
       "  </tbody>\n",
       "</table>\n",
       "<p>30745 rows × 6 columns</p>\n",
       "</div>"
      ],
      "text/plain": [
       "       record_id item_topic source_topic age_segment                   dt  \\\n",
       "0        1040597     Деньги         Авто       18-25  2019-09-24 18:32:00   \n",
       "1        1040598     Деньги         Авто       18-25  2019-09-24 18:35:00   \n",
       "2        1040599     Деньги         Авто       18-25  2019-09-24 18:54:00   \n",
       "3        1040600     Деньги         Авто       18-25  2019-09-24 18:55:00   \n",
       "4        1040601     Деньги         Авто       18-25  2019-09-24 18:56:00   \n",
       "...          ...        ...          ...         ...                  ...   \n",
       "30740    1071337       Юмор      Финансы       36-40  2019-09-24 18:57:00   \n",
       "30741    1071338       Юмор      Финансы       36-40  2019-09-24 19:00:00   \n",
       "30742    1071339       Юмор      Финансы       41-45  2019-09-24 18:54:00   \n",
       "30743    1071340       Юмор      Финансы       41-45  2019-09-24 18:56:00   \n",
       "30744    1071341       Юмор      Финансы       41-45  2019-09-24 19:00:00   \n",
       "\n",
       "       visits  \n",
       "0           3  \n",
       "1           1  \n",
       "2           4  \n",
       "3          17  \n",
       "4          27  \n",
       "...       ...  \n",
       "30740       2  \n",
       "30741       1  \n",
       "30742       1  \n",
       "30743       1  \n",
       "30744       1  \n",
       "\n",
       "[30745 rows x 6 columns]"
      ]
     },
     "execution_count": 15,
     "metadata": {},
     "output_type": "execute_result"
    }
   ],
   "source": [
    "test = pd.read_csv('data.csv')\n",
    "test"
   ]
  }
 ],
 "metadata": {
  "kernelspec": {
   "display_name": "Python 3 (ipykernel)",
   "language": "python",
   "name": "python3"
  },
  "language_info": {
   "codemirror_mode": {
    "name": "ipython",
    "version": 3
   },
   "file_extension": ".py",
   "mimetype": "text/x-python",
   "name": "python",
   "nbconvert_exporter": "python",
   "pygments_lexer": "ipython3",
   "version": "3.9.7"
  }
 },
 "nbformat": 4,
 "nbformat_minor": 5
}
