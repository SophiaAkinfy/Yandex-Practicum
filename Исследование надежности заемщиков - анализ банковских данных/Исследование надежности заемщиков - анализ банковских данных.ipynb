{
 "cells": [
  {
   "cell_type": "markdown",
   "metadata": {},
   "source": [
    "# Исследование надёжности заёмщиков - анализ банковских данных\n",
    "\n",
    "**Задача:** Заказчик — кредитный отдел банка. Нужно провести анализ данных и выяснить, влияет ли семейное положение и количество детей клиента на погашение кредита в срок. Результаты исследования будут учтены при построении модели кредитного скоринга (системы оценки способности потенциального заёмщика вернуть кредит банку).\n",
    "\n",
    "**Входные данные от банка:** Статистика о платёжеспособности клиентов."
   ]
  },
  {
   "cell_type": "markdown",
   "metadata": {},
   "source": [
    "<a id='content'></a>\n",
    "## Оглавление \n",
    "[Предварительный анализ данных](#preprocessing)\n",
    "\n",
    "[Предобработка данных](#preprocessing_part2)\n",
    " - [Обработка пропусков](#2-2)\n",
    " - [Замена типа данных](#2-3)\n",
    " - [Обработка дубликатов](#2-4)\n",
    " - [Лемматизация](#2-5) \n",
    " - [Категоризация данных](#2-6) \n",
    "  \n",
    "[Исследовательский анализ данных](#EDA)\n",
    " - [Есть ли зависимость между наличием детей и возвратом кредита в срок?](#3-1)\n",
    " - [Есть ли зависимость между семейным положением и возвратом кредита в срок?](#3-2)\n",
    " - [Есть ли зависимость между уровнем дохода и возвратом кредита в срок?](#3-3)\n",
    " - [Как разные цели кредита влияют на его возврат в срок?](#3-4)\n",
    " \n",
    "[Общий вывод](#outcome)"
   ]
  },
  {
   "cell_type": "markdown",
   "metadata": {},
   "source": [
    "<a id = 'preprocessing'></a>\n",
    "## Предварительный анализ данных"
   ]
  },
  {
   "cell_type": "code",
   "execution_count": null,
   "metadata": {},
   "outputs": [],
   "source": [
    "# импорт библиотек\n",
    "import pandas as pd\n",
    "from pymystem3 import Mystem"
   ]
  },
  {
   "cell_type": "code",
   "execution_count": 1,
   "metadata": {},
   "outputs": [
    {
     "name": "stdout",
     "output_type": "stream",
     "text": [
      "<class 'pandas.core.frame.DataFrame'>\n",
      "RangeIndex: 21525 entries, 0 to 21524\n",
      "Data columns (total 12 columns):\n",
      "children            21525 non-null int64\n",
      "days_employed       19351 non-null float64\n",
      "dob_years           21525 non-null int64\n",
      "education           21525 non-null object\n",
      "education_id        21525 non-null int64\n",
      "family_status       21525 non-null object\n",
      "family_status_id    21525 non-null int64\n",
      "gender              21525 non-null object\n",
      "income_type         21525 non-null object\n",
      "debt                21525 non-null int64\n",
      "total_income        19351 non-null float64\n",
      "purpose             21525 non-null object\n",
      "dtypes: float64(2), int64(5), object(5)\n",
      "memory usage: 2.0+ MB\n"
     ]
    },
    {
     "data": {
      "text/html": [
       "<div>\n",
       "<style scoped>\n",
       "    .dataframe tbody tr th:only-of-type {\n",
       "        vertical-align: middle;\n",
       "    }\n",
       "\n",
       "    .dataframe tbody tr th {\n",
       "        vertical-align: top;\n",
       "    }\n",
       "\n",
       "    .dataframe thead th {\n",
       "        text-align: right;\n",
       "    }\n",
       "</style>\n",
       "<table border=\"1\" class=\"dataframe\">\n",
       "  <thead>\n",
       "    <tr style=\"text-align: right;\">\n",
       "      <th></th>\n",
       "      <th>children</th>\n",
       "      <th>days_employed</th>\n",
       "      <th>dob_years</th>\n",
       "      <th>education</th>\n",
       "      <th>education_id</th>\n",
       "      <th>family_status</th>\n",
       "      <th>family_status_id</th>\n",
       "      <th>gender</th>\n",
       "      <th>income_type</th>\n",
       "      <th>debt</th>\n",
       "      <th>total_income</th>\n",
       "      <th>purpose</th>\n",
       "    </tr>\n",
       "  </thead>\n",
       "  <tbody>\n",
       "    <tr>\n",
       "      <td>0</td>\n",
       "      <td>1</td>\n",
       "      <td>-8437.673028</td>\n",
       "      <td>42</td>\n",
       "      <td>высшее</td>\n",
       "      <td>0</td>\n",
       "      <td>женат / замужем</td>\n",
       "      <td>0</td>\n",
       "      <td>F</td>\n",
       "      <td>сотрудник</td>\n",
       "      <td>0</td>\n",
       "      <td>253875.639453</td>\n",
       "      <td>покупка жилья</td>\n",
       "    </tr>\n",
       "    <tr>\n",
       "      <td>1</td>\n",
       "      <td>1</td>\n",
       "      <td>-4024.803754</td>\n",
       "      <td>36</td>\n",
       "      <td>среднее</td>\n",
       "      <td>1</td>\n",
       "      <td>женат / замужем</td>\n",
       "      <td>0</td>\n",
       "      <td>F</td>\n",
       "      <td>сотрудник</td>\n",
       "      <td>0</td>\n",
       "      <td>112080.014102</td>\n",
       "      <td>приобретение автомобиля</td>\n",
       "    </tr>\n",
       "    <tr>\n",
       "      <td>2</td>\n",
       "      <td>0</td>\n",
       "      <td>-5623.422610</td>\n",
       "      <td>33</td>\n",
       "      <td>Среднее</td>\n",
       "      <td>1</td>\n",
       "      <td>женат / замужем</td>\n",
       "      <td>0</td>\n",
       "      <td>M</td>\n",
       "      <td>сотрудник</td>\n",
       "      <td>0</td>\n",
       "      <td>145885.952297</td>\n",
       "      <td>покупка жилья</td>\n",
       "    </tr>\n",
       "    <tr>\n",
       "      <td>3</td>\n",
       "      <td>3</td>\n",
       "      <td>-4124.747207</td>\n",
       "      <td>32</td>\n",
       "      <td>среднее</td>\n",
       "      <td>1</td>\n",
       "      <td>женат / замужем</td>\n",
       "      <td>0</td>\n",
       "      <td>M</td>\n",
       "      <td>сотрудник</td>\n",
       "      <td>0</td>\n",
       "      <td>267628.550329</td>\n",
       "      <td>дополнительное образование</td>\n",
       "    </tr>\n",
       "    <tr>\n",
       "      <td>4</td>\n",
       "      <td>0</td>\n",
       "      <td>340266.072047</td>\n",
       "      <td>53</td>\n",
       "      <td>среднее</td>\n",
       "      <td>1</td>\n",
       "      <td>гражданский брак</td>\n",
       "      <td>1</td>\n",
       "      <td>F</td>\n",
       "      <td>пенсионер</td>\n",
       "      <td>0</td>\n",
       "      <td>158616.077870</td>\n",
       "      <td>сыграть свадьбу</td>\n",
       "    </tr>\n",
       "    <tr>\n",
       "      <td>...</td>\n",
       "      <td>...</td>\n",
       "      <td>...</td>\n",
       "      <td>...</td>\n",
       "      <td>...</td>\n",
       "      <td>...</td>\n",
       "      <td>...</td>\n",
       "      <td>...</td>\n",
       "      <td>...</td>\n",
       "      <td>...</td>\n",
       "      <td>...</td>\n",
       "      <td>...</td>\n",
       "      <td>...</td>\n",
       "    </tr>\n",
       "    <tr>\n",
       "      <td>21520</td>\n",
       "      <td>1</td>\n",
       "      <td>-4529.316663</td>\n",
       "      <td>43</td>\n",
       "      <td>среднее</td>\n",
       "      <td>1</td>\n",
       "      <td>гражданский брак</td>\n",
       "      <td>1</td>\n",
       "      <td>F</td>\n",
       "      <td>компаньон</td>\n",
       "      <td>0</td>\n",
       "      <td>224791.862382</td>\n",
       "      <td>операции с жильем</td>\n",
       "    </tr>\n",
       "    <tr>\n",
       "      <td>21521</td>\n",
       "      <td>0</td>\n",
       "      <td>343937.404131</td>\n",
       "      <td>67</td>\n",
       "      <td>среднее</td>\n",
       "      <td>1</td>\n",
       "      <td>женат / замужем</td>\n",
       "      <td>0</td>\n",
       "      <td>F</td>\n",
       "      <td>пенсионер</td>\n",
       "      <td>0</td>\n",
       "      <td>155999.806512</td>\n",
       "      <td>сделка с автомобилем</td>\n",
       "    </tr>\n",
       "    <tr>\n",
       "      <td>21522</td>\n",
       "      <td>1</td>\n",
       "      <td>-2113.346888</td>\n",
       "      <td>38</td>\n",
       "      <td>среднее</td>\n",
       "      <td>1</td>\n",
       "      <td>гражданский брак</td>\n",
       "      <td>1</td>\n",
       "      <td>M</td>\n",
       "      <td>сотрудник</td>\n",
       "      <td>1</td>\n",
       "      <td>89672.561153</td>\n",
       "      <td>недвижимость</td>\n",
       "    </tr>\n",
       "    <tr>\n",
       "      <td>21523</td>\n",
       "      <td>3</td>\n",
       "      <td>-3112.481705</td>\n",
       "      <td>38</td>\n",
       "      <td>среднее</td>\n",
       "      <td>1</td>\n",
       "      <td>женат / замужем</td>\n",
       "      <td>0</td>\n",
       "      <td>M</td>\n",
       "      <td>сотрудник</td>\n",
       "      <td>1</td>\n",
       "      <td>244093.050500</td>\n",
       "      <td>на покупку своего автомобиля</td>\n",
       "    </tr>\n",
       "    <tr>\n",
       "      <td>21524</td>\n",
       "      <td>2</td>\n",
       "      <td>-1984.507589</td>\n",
       "      <td>40</td>\n",
       "      <td>среднее</td>\n",
       "      <td>1</td>\n",
       "      <td>женат / замужем</td>\n",
       "      <td>0</td>\n",
       "      <td>F</td>\n",
       "      <td>сотрудник</td>\n",
       "      <td>0</td>\n",
       "      <td>82047.418899</td>\n",
       "      <td>на покупку автомобиля</td>\n",
       "    </tr>\n",
       "  </tbody>\n",
       "</table>\n",
       "<p>21525 rows × 12 columns</p>\n",
       "</div>"
      ],
      "text/plain": [
       "       children  days_employed  dob_years education  education_id  \\\n",
       "0             1   -8437.673028         42    высшее             0   \n",
       "1             1   -4024.803754         36   среднее             1   \n",
       "2             0   -5623.422610         33   Среднее             1   \n",
       "3             3   -4124.747207         32   среднее             1   \n",
       "4             0  340266.072047         53   среднее             1   \n",
       "...         ...            ...        ...       ...           ...   \n",
       "21520         1   -4529.316663         43   среднее             1   \n",
       "21521         0  343937.404131         67   среднее             1   \n",
       "21522         1   -2113.346888         38   среднее             1   \n",
       "21523         3   -3112.481705         38   среднее             1   \n",
       "21524         2   -1984.507589         40   среднее             1   \n",
       "\n",
       "          family_status  family_status_id gender income_type  debt  \\\n",
       "0       женат / замужем                 0      F   сотрудник     0   \n",
       "1       женат / замужем                 0      F   сотрудник     0   \n",
       "2       женат / замужем                 0      M   сотрудник     0   \n",
       "3       женат / замужем                 0      M   сотрудник     0   \n",
       "4      гражданский брак                 1      F   пенсионер     0   \n",
       "...                 ...               ...    ...         ...   ...   \n",
       "21520  гражданский брак                 1      F   компаньон     0   \n",
       "21521   женат / замужем                 0      F   пенсионер     0   \n",
       "21522  гражданский брак                 1      M   сотрудник     1   \n",
       "21523   женат / замужем                 0      M   сотрудник     1   \n",
       "21524   женат / замужем                 0      F   сотрудник     0   \n",
       "\n",
       "        total_income                       purpose  \n",
       "0      253875.639453                 покупка жилья  \n",
       "1      112080.014102       приобретение автомобиля  \n",
       "2      145885.952297                 покупка жилья  \n",
       "3      267628.550329    дополнительное образование  \n",
       "4      158616.077870               сыграть свадьбу  \n",
       "...              ...                           ...  \n",
       "21520  224791.862382             операции с жильем  \n",
       "21521  155999.806512          сделка с автомобилем  \n",
       "21522   89672.561153                  недвижимость  \n",
       "21523  244093.050500  на покупку своего автомобиля  \n",
       "21524   82047.418899         на покупку автомобиля  \n",
       "\n",
       "[21525 rows x 12 columns]"
      ]
     },
     "metadata": {},
     "output_type": "display_data"
    },
    {
     "data": {
      "text/plain": [
       "income_type\n",
       "безработный            2\n",
       "в декрете              1\n",
       "госслужащий         1459\n",
       "компаньон           5085\n",
       "пенсионер           3856\n",
       "предприниматель        2\n",
       "сотрудник          11119\n",
       "студент                1\n",
       "Name: income_type, dtype: int64"
      ]
     },
     "metadata": {},
     "output_type": "display_data"
    }
   ],
   "source": [
    "# чтение данных из файла\n",
    "df = pd.read_csv('/datasets/data.csv')\n",
    "\n",
    "# информация о данных\n",
    "df.info()\n",
    "\n",
    "# вывод данных\n",
    "display(df)\n",
    "\n",
    "# значения столбца income_type\n",
    "display(df.groupby('income_type')['income_type'].count())"
   ]
  },
  {
   "cell_type": "markdown",
   "metadata": {},
   "source": [
    "<b>Вывод:</b> столбец days_employed принимает положительные и отрицательные значения. Причем, положительные значения days_employed соотвествуют income_type 'пенсионер'. Так же, зачения days_employed для пенсионеров завышены и нереальны (343937 дней это 942 года). Стоит обратить на это внимание операторов с целью выявить причину и исправить данную ошибку. Использование текущих значений для расчетов может исказить результат. Однако, для проверки нашей гипотезы данная информация не требуется <br><br>\n",
    "\n",
    "Столбец education_id кодирует education. Столбец family_status_id кодирует family_status. Стоит вынести эту кодировку в отдельную таблицу<br><br>\n",
    "\n",
    "В столбце 'education' используются разный регистр букв. Это приведет к появлению неявных дубликатов"
   ]
  },
  {
   "cell_type": "markdown",
   "metadata": {},
   "source": [
    "[К оглавлению](#content)"
   ]
  },
  {
   "cell_type": "markdown",
   "metadata": {},
   "source": [
    "<a id = 'preprocessing_part2'></a>\n",
    "## Предобработка данных"
   ]
  },
  {
   "cell_type": "markdown",
   "metadata": {},
   "source": [
    "<a id = '2-2'></a>\n",
    "### Обработка пропусков"
   ]
  },
  {
   "cell_type": "code",
   "execution_count": 2,
   "metadata": {},
   "outputs": [
    {
     "data": {
      "text/plain": [
       "children               0\n",
       "days_employed       2174\n",
       "dob_years              0\n",
       "education              0\n",
       "education_id           0\n",
       "family_status          0\n",
       "family_status_id       0\n",
       "gender                 0\n",
       "income_type            0\n",
       "debt                   0\n",
       "total_income        2174\n",
       "purpose                0\n",
       "dtype: int64"
      ]
     },
     "execution_count": 2,
     "metadata": {},
     "output_type": "execute_result"
    }
   ],
   "source": [
    "df.isnull().sum()"
   ]
  },
  {
   "cell_type": "markdown",
   "metadata": {},
   "source": [
    "<b>Вывод:</b> пропущенны значения в столбцах 'days_employed' и 'total_income'. Поскольку характер распределения значений не известен, пропущенные значения будут заменены на медианные. Вероятно, пропуски появились при выгрузке или существует системная ошибка. Стоит уточнить у специалистов, которые подготавливали базу данных\n",
    "\n",
    "Для расчета медианного значения days_employed_median не будут использоваться значения income_type 'пенсионер', поскольку данные значения нереалистичны"
   ]
  },
  {
   "cell_type": "code",
   "execution_count": 3,
   "metadata": {
    "scrolled": false
   },
   "outputs": [
    {
     "data": {
      "text/plain": [
       "children            0\n",
       "days_employed       0\n",
       "dob_years           0\n",
       "education           0\n",
       "education_id        0\n",
       "family_status       0\n",
       "family_status_id    0\n",
       "gender              0\n",
       "income_type         0\n",
       "debt                0\n",
       "total_income        0\n",
       "purpose             0\n",
       "dtype: int64"
      ]
     },
     "execution_count": 3,
     "metadata": {},
     "output_type": "execute_result"
    }
   ],
   "source": [
    "# расчет медианных значений\n",
    "days_employed_median = df[df['income_type'] != 'пенсионер']['days_employed'].median()\n",
    "total_income_median = df['total_income'].median()\n",
    "\n",
    "# функция замены отрицательных значений на положительные в столбце days_employed \n",
    "def negative_to_positive(item):\n",
    "    if item < 0:\n",
    "        item *= -1\n",
    "    return item\n",
    "\n",
    "# замена отрицательных значений на положительные в столбце days_employed\n",
    "df['days_employed'] = df['days_employed'].apply(negative_to_positive)     \n",
    "\n",
    "# замена пропущенных значений на медианные\n",
    "df['days_employed'] = df['days_employed'].fillna(days_employed_median)\n",
    "df['total_income'] = df['total_income'].fillna(total_income_median)\n",
    "\n",
    "df.isnull().sum()"
   ]
  },
  {
   "cell_type": "markdown",
   "metadata": {},
   "source": [
    "[К оглавлению](#content)"
   ]
  },
  {
   "cell_type": "markdown",
   "metadata": {},
   "source": [
    "<a id = '2-3'></a>\n",
    "### Замена типа данных"
   ]
  },
  {
   "cell_type": "code",
   "execution_count": 4,
   "metadata": {},
   "outputs": [
    {
     "name": "stdout",
     "output_type": "stream",
     "text": [
      "<class 'pandas.core.frame.DataFrame'>\n",
      "RangeIndex: 21525 entries, 0 to 21524\n",
      "Data columns (total 12 columns):\n",
      "children            21525 non-null int64\n",
      "days_employed       21525 non-null int64\n",
      "dob_years           21525 non-null int64\n",
      "education           21525 non-null object\n",
      "education_id        21525 non-null int64\n",
      "family_status       21525 non-null object\n",
      "family_status_id    21525 non-null int64\n",
      "gender              21525 non-null object\n",
      "income_type         21525 non-null object\n",
      "debt                21525 non-null int64\n",
      "total_income        21525 non-null int64\n",
      "purpose             21525 non-null object\n",
      "dtypes: int64(7), object(5)\n",
      "memory usage: 2.0+ MB\n"
     ]
    }
   ],
   "source": [
    "df['days_employed'] = df['days_employed'].astype('int')\n",
    "df['total_income'] = df['total_income'].astype('int')\n",
    "\n",
    "df.info() "
   ]
  },
  {
   "cell_type": "markdown",
   "metadata": {},
   "source": [
    "<b>Вывод:</b> в столбцах days_employed и total_income значения типа float заменены на int"
   ]
  },
  {
   "cell_type": "markdown",
   "metadata": {},
   "source": [
    "[К оглавлению](#content)"
   ]
  },
  {
   "cell_type": "markdown",
   "metadata": {},
   "source": [
    "<a id = '2-4'></a>\n",
    "### Обработка дубликатов"
   ]
  },
  {
   "cell_type": "code",
   "execution_count": 5,
   "metadata": {},
   "outputs": [
    {
     "data": {
      "text/plain": [
       "education\n",
       "ВЫСШЕЕ                   274\n",
       "Высшее                   268\n",
       "НАЧАЛЬНОЕ                 17\n",
       "НЕОКОНЧЕННОЕ ВЫСШЕЕ       29\n",
       "Начальное                 15\n",
       "Неоконченное высшее       47\n",
       "СРЕДНЕЕ                  772\n",
       "Среднее                  711\n",
       "УЧЕНАЯ СТЕПЕНЬ             1\n",
       "Ученая степень             1\n",
       "высшее                  4718\n",
       "начальное                250\n",
       "неоконченное высшее      668\n",
       "среднее                13750\n",
       "ученая степень             4\n",
       "Name: education, dtype: int64"
      ]
     },
     "metadata": {},
     "output_type": "display_data"
    },
    {
     "data": {
      "text/plain": [
       "education\n",
       "высшее                  5260\n",
       "начальное                282\n",
       "неоконченное высшее      744\n",
       "среднее                15233\n",
       "ученая степень             6\n",
       "Name: education, dtype: int64"
      ]
     },
     "metadata": {},
     "output_type": "display_data"
    },
    {
     "data": {
      "text/plain": [
       "F      14236\n",
       "M       7288\n",
       "XNA        1\n",
       "Name: gender, dtype: int64"
      ]
     },
     "metadata": {},
     "output_type": "display_data"
    },
    {
     "data": {
      "text/plain": [
       " 0     14149\n",
       " 1      4818\n",
       " 2      2055\n",
       " 3       330\n",
       " 20       76\n",
       "-1        47\n",
       " 4        41\n",
       " 5         9\n",
       "Name: children, dtype: int64"
      ]
     },
     "metadata": {},
     "output_type": "display_data"
    },
    {
     "data": {
      "text/plain": [
       "0    14225\n",
       "1     4865\n",
       "2     2055\n",
       "3      330\n",
       "4       41\n",
       "5        9\n",
       "Name: children, dtype: int64"
      ]
     },
     "metadata": {},
     "output_type": "display_data"
    },
    {
     "data": {
      "text/plain": [
       "женат / замужем          12380\n",
       "гражданский брак          4177\n",
       "Не женат / не замужем     2813\n",
       "в разводе                 1195\n",
       "вдовец / вдова             960\n",
       "Name: family_status, dtype: int64"
      ]
     },
     "metadata": {},
     "output_type": "display_data"
    },
    {
     "data": {
      "text/plain": [
       "сотрудник          11119\n",
       "компаньон           5085\n",
       "пенсионер           3856\n",
       "госслужащий         1459\n",
       "предприниматель        2\n",
       "безработный            2\n",
       "студент                1\n",
       "в декрете              1\n",
       "Name: income_type, dtype: int64"
      ]
     },
     "metadata": {},
     "output_type": "display_data"
    },
    {
     "data": {
      "text/plain": [
       "свадьба                                   797\n",
       "на проведение свадьбы                     777\n",
       "сыграть свадьбу                           774\n",
       "операции с недвижимостью                  676\n",
       "покупка коммерческой недвижимости         664\n",
       "покупка жилья для сдачи                   653\n",
       "операции с жильем                         653\n",
       "операции с коммерческой недвижимостью     651\n",
       "покупка жилья                             647\n",
       "жилье                                     647\n",
       "покупка жилья для семьи                   641\n",
       "строительство собственной недвижимости    635\n",
       "недвижимость                              634\n",
       "операции со своей недвижимостью           630\n",
       "строительство жилой недвижимости          626\n",
       "покупка недвижимости                      624\n",
       "строительство недвижимости                620\n",
       "покупка своего жилья                      620\n",
       "ремонт жилью                              612\n",
       "покупка жилой недвижимости                607\n",
       "на покупку своего автомобиля              505\n",
       "заняться высшим образованием              496\n",
       "автомобиль                                495\n",
       "сделка с подержанным автомобилем          489\n",
       "свой автомобиль                           480\n",
       "на покупку подержанного автомобиля        479\n",
       "автомобили                                478\n",
       "на покупку автомобиля                     472\n",
       "приобретение автомобиля                   462\n",
       "дополнительное образование                462\n",
       "сделка с автомобилем                      455\n",
       "высшее образование                        453\n",
       "получение дополнительного образования     447\n",
       "образование                               447\n",
       "получение образования                     443\n",
       "профильное образование                    436\n",
       "получение высшего образования             426\n",
       "заняться образованием                     412\n",
       "Name: purpose, dtype: int64"
      ]
     },
     "metadata": {},
     "output_type": "display_data"
    }
   ],
   "source": [
    "# обработка дубликатов в столбце education по причине разного регистра \n",
    "display(df.groupby('education')['education'].count())\n",
    "df['education'] = df['education'].str.lower()\n",
    "display(df.groupby('education')['education'].count())\n",
    "\n",
    "# проверка столбца gender на дубликаты \n",
    "display(df['gender'].value_counts())\n",
    "\n",
    "# проверка столбца children. Замена значения -1 на 1, 20 на медианное значение\n",
    "display(df['children'].value_counts())\n",
    "\n",
    "df['children'] = df['children'].replace(-1, 1)\n",
    "children_median =  df['children'].median()\n",
    "df['children'] = df['children'].replace(20, children_median)\n",
    "display(df['children'].value_counts())\n",
    "\n",
    "# проверка столбца family на дубликаты\n",
    "display(df['family_status'].value_counts())\n",
    "\n",
    "# проверка столбца income_type на дубликаты\n",
    "display(df['income_type'].value_counts())\n",
    "\n",
    "# проверка столбца purpose на дубликаты\n",
    "display(df['purpose'].value_counts())"
   ]
  },
  {
   "cell_type": "code",
   "execution_count": 12,
   "metadata": {},
   "outputs": [
    {
     "data": {
      "text/plain": [
       "71"
      ]
     },
     "execution_count": 12,
     "metadata": {},
     "output_type": "execute_result"
    }
   ],
   "source": [
    "# проеврка на дубликаты строк\n",
    "df.duplicated().sum()"
   ]
  },
  {
   "cell_type": "code",
   "execution_count": 13,
   "metadata": {},
   "outputs": [
    {
     "data": {
      "text/html": [
       "<div>\n",
       "<style scoped>\n",
       "    .dataframe tbody tr th:only-of-type {\n",
       "        vertical-align: middle;\n",
       "    }\n",
       "\n",
       "    .dataframe tbody tr th {\n",
       "        vertical-align: top;\n",
       "    }\n",
       "\n",
       "    .dataframe thead th {\n",
       "        text-align: right;\n",
       "    }\n",
       "</style>\n",
       "<table border=\"1\" class=\"dataframe\">\n",
       "  <thead>\n",
       "    <tr style=\"text-align: right;\">\n",
       "      <th></th>\n",
       "      <th>children</th>\n",
       "      <th>days_employed</th>\n",
       "      <th>dob_years</th>\n",
       "      <th>education</th>\n",
       "      <th>education_id</th>\n",
       "      <th>family_status</th>\n",
       "      <th>family_status_id</th>\n",
       "      <th>gender</th>\n",
       "      <th>income_type</th>\n",
       "      <th>debt</th>\n",
       "      <th>total_income</th>\n",
       "      <th>purpose</th>\n",
       "      <th>purpose_category</th>\n",
       "      <th>total_income_id</th>\n",
       "    </tr>\n",
       "  </thead>\n",
       "  <tbody>\n",
       "    <tr>\n",
       "      <td>2849</td>\n",
       "      <td>0</td>\n",
       "      <td>-1629</td>\n",
       "      <td>41</td>\n",
       "      <td>среднее</td>\n",
       "      <td>1</td>\n",
       "      <td>женат / замужем</td>\n",
       "      <td>0</td>\n",
       "      <td>F</td>\n",
       "      <td>сотрудник</td>\n",
       "      <td>0</td>\n",
       "      <td>145017</td>\n",
       "      <td>покупка жилья для семьи</td>\n",
       "      <td>недвижимость</td>\n",
       "      <td>2</td>\n",
       "    </tr>\n",
       "    <tr>\n",
       "      <td>3290</td>\n",
       "      <td>0</td>\n",
       "      <td>-1629</td>\n",
       "      <td>58</td>\n",
       "      <td>среднее</td>\n",
       "      <td>1</td>\n",
       "      <td>гражданский брак</td>\n",
       "      <td>1</td>\n",
       "      <td>F</td>\n",
       "      <td>пенсионер</td>\n",
       "      <td>0</td>\n",
       "      <td>145017</td>\n",
       "      <td>сыграть свадьбу</td>\n",
       "      <td>свадьба</td>\n",
       "      <td>2</td>\n",
       "    </tr>\n",
       "    <tr>\n",
       "      <td>4182</td>\n",
       "      <td>1</td>\n",
       "      <td>-1629</td>\n",
       "      <td>34</td>\n",
       "      <td>высшее</td>\n",
       "      <td>0</td>\n",
       "      <td>гражданский брак</td>\n",
       "      <td>1</td>\n",
       "      <td>F</td>\n",
       "      <td>сотрудник</td>\n",
       "      <td>0</td>\n",
       "      <td>145017</td>\n",
       "      <td>свадьба</td>\n",
       "      <td>свадьба</td>\n",
       "      <td>2</td>\n",
       "    </tr>\n",
       "    <tr>\n",
       "      <td>4851</td>\n",
       "      <td>0</td>\n",
       "      <td>-1629</td>\n",
       "      <td>60</td>\n",
       "      <td>среднее</td>\n",
       "      <td>1</td>\n",
       "      <td>гражданский брак</td>\n",
       "      <td>1</td>\n",
       "      <td>F</td>\n",
       "      <td>пенсионер</td>\n",
       "      <td>0</td>\n",
       "      <td>145017</td>\n",
       "      <td>свадьба</td>\n",
       "      <td>свадьба</td>\n",
       "      <td>2</td>\n",
       "    </tr>\n",
       "    <tr>\n",
       "      <td>5557</td>\n",
       "      <td>0</td>\n",
       "      <td>-1629</td>\n",
       "      <td>58</td>\n",
       "      <td>среднее</td>\n",
       "      <td>1</td>\n",
       "      <td>гражданский брак</td>\n",
       "      <td>1</td>\n",
       "      <td>F</td>\n",
       "      <td>пенсионер</td>\n",
       "      <td>0</td>\n",
       "      <td>145017</td>\n",
       "      <td>сыграть свадьбу</td>\n",
       "      <td>свадьба</td>\n",
       "      <td>2</td>\n",
       "    </tr>\n",
       "    <tr>\n",
       "      <td>...</td>\n",
       "      <td>...</td>\n",
       "      <td>...</td>\n",
       "      <td>...</td>\n",
       "      <td>...</td>\n",
       "      <td>...</td>\n",
       "      <td>...</td>\n",
       "      <td>...</td>\n",
       "      <td>...</td>\n",
       "      <td>...</td>\n",
       "      <td>...</td>\n",
       "      <td>...</td>\n",
       "      <td>...</td>\n",
       "      <td>...</td>\n",
       "      <td>...</td>\n",
       "    </tr>\n",
       "    <tr>\n",
       "      <td>20702</td>\n",
       "      <td>0</td>\n",
       "      <td>-1629</td>\n",
       "      <td>64</td>\n",
       "      <td>среднее</td>\n",
       "      <td>1</td>\n",
       "      <td>женат / замужем</td>\n",
       "      <td>0</td>\n",
       "      <td>F</td>\n",
       "      <td>пенсионер</td>\n",
       "      <td>0</td>\n",
       "      <td>145017</td>\n",
       "      <td>дополнительное образование</td>\n",
       "      <td>образование</td>\n",
       "      <td>2</td>\n",
       "    </tr>\n",
       "    <tr>\n",
       "      <td>21032</td>\n",
       "      <td>0</td>\n",
       "      <td>-1629</td>\n",
       "      <td>60</td>\n",
       "      <td>среднее</td>\n",
       "      <td>1</td>\n",
       "      <td>женат / замужем</td>\n",
       "      <td>0</td>\n",
       "      <td>F</td>\n",
       "      <td>пенсионер</td>\n",
       "      <td>0</td>\n",
       "      <td>145017</td>\n",
       "      <td>заняться образованием</td>\n",
       "      <td>образование</td>\n",
       "      <td>2</td>\n",
       "    </tr>\n",
       "    <tr>\n",
       "      <td>21132</td>\n",
       "      <td>0</td>\n",
       "      <td>-1629</td>\n",
       "      <td>47</td>\n",
       "      <td>среднее</td>\n",
       "      <td>1</td>\n",
       "      <td>женат / замужем</td>\n",
       "      <td>0</td>\n",
       "      <td>F</td>\n",
       "      <td>сотрудник</td>\n",
       "      <td>0</td>\n",
       "      <td>145017</td>\n",
       "      <td>ремонт жилью</td>\n",
       "      <td>недвижимость</td>\n",
       "      <td>2</td>\n",
       "    </tr>\n",
       "    <tr>\n",
       "      <td>21281</td>\n",
       "      <td>1</td>\n",
       "      <td>-1629</td>\n",
       "      <td>30</td>\n",
       "      <td>высшее</td>\n",
       "      <td>0</td>\n",
       "      <td>женат / замужем</td>\n",
       "      <td>0</td>\n",
       "      <td>F</td>\n",
       "      <td>сотрудник</td>\n",
       "      <td>0</td>\n",
       "      <td>145017</td>\n",
       "      <td>покупка коммерческой недвижимости</td>\n",
       "      <td>недвижимость</td>\n",
       "      <td>2</td>\n",
       "    </tr>\n",
       "    <tr>\n",
       "      <td>21415</td>\n",
       "      <td>0</td>\n",
       "      <td>-1629</td>\n",
       "      <td>54</td>\n",
       "      <td>среднее</td>\n",
       "      <td>1</td>\n",
       "      <td>женат / замужем</td>\n",
       "      <td>0</td>\n",
       "      <td>F</td>\n",
       "      <td>пенсионер</td>\n",
       "      <td>0</td>\n",
       "      <td>145017</td>\n",
       "      <td>операции с жильем</td>\n",
       "      <td>недвижимость</td>\n",
       "      <td>2</td>\n",
       "    </tr>\n",
       "  </tbody>\n",
       "</table>\n",
       "<p>71 rows × 14 columns</p>\n",
       "</div>"
      ],
      "text/plain": [
       "       children  days_employed  dob_years education  education_id  \\\n",
       "2849          0          -1629         41   среднее             1   \n",
       "3290          0          -1629         58   среднее             1   \n",
       "4182          1          -1629         34    высшее             0   \n",
       "4851          0          -1629         60   среднее             1   \n",
       "5557          0          -1629         58   среднее             1   \n",
       "...         ...            ...        ...       ...           ...   \n",
       "20702         0          -1629         64   среднее             1   \n",
       "21032         0          -1629         60   среднее             1   \n",
       "21132         0          -1629         47   среднее             1   \n",
       "21281         1          -1629         30    высшее             0   \n",
       "21415         0          -1629         54   среднее             1   \n",
       "\n",
       "          family_status  family_status_id gender income_type  debt  \\\n",
       "2849    женат / замужем                 0      F   сотрудник     0   \n",
       "3290   гражданский брак                 1      F   пенсионер     0   \n",
       "4182   гражданский брак                 1      F   сотрудник     0   \n",
       "4851   гражданский брак                 1      F   пенсионер     0   \n",
       "5557   гражданский брак                 1      F   пенсионер     0   \n",
       "...                 ...               ...    ...         ...   ...   \n",
       "20702   женат / замужем                 0      F   пенсионер     0   \n",
       "21032   женат / замужем                 0      F   пенсионер     0   \n",
       "21132   женат / замужем                 0      F   сотрудник     0   \n",
       "21281   женат / замужем                 0      F   сотрудник     0   \n",
       "21415   женат / замужем                 0      F   пенсионер     0   \n",
       "\n",
       "       total_income                            purpose purpose_category  \\\n",
       "2849         145017            покупка жилья для семьи     недвижимость   \n",
       "3290         145017                    сыграть свадьбу          свадьба   \n",
       "4182         145017                            свадьба          свадьба   \n",
       "4851         145017                            свадьба          свадьба   \n",
       "5557         145017                    сыграть свадьбу          свадьба   \n",
       "...             ...                                ...              ...   \n",
       "20702        145017         дополнительное образование      образование   \n",
       "21032        145017              заняться образованием      образование   \n",
       "21132        145017                       ремонт жилью     недвижимость   \n",
       "21281        145017  покупка коммерческой недвижимости     недвижимость   \n",
       "21415        145017                  операции с жильем     недвижимость   \n",
       "\n",
       "       total_income_id  \n",
       "2849                 2  \n",
       "3290                 2  \n",
       "4182                 2  \n",
       "4851                 2  \n",
       "5557                 2  \n",
       "...                ...  \n",
       "20702                2  \n",
       "21032                2  \n",
       "21132                2  \n",
       "21281                2  \n",
       "21415                2  \n",
       "\n",
       "[71 rows x 14 columns]"
      ]
     },
     "execution_count": 13,
     "metadata": {},
     "output_type": "execute_result"
    }
   ],
   "source": [
    "df.loc[df.duplicated()]"
   ]
  },
  {
   "cell_type": "markdown",
   "metadata": {},
   "source": [
    "<b>Вывод: </b> в столбце education значения приведены к одному регистру.\n",
    "\n",
    "В столбце gender обнаружено значение пола 'XNA'. Скорее всего это пропуск. Данное значение не будет использовано для анализа\n",
    "\n",
    "В столбце children два атрефакта: -1 и 20. -1 заменила на 1 (скорее всего -1 это опечатка). 20 заменила на медианное значение, т к нет информации, по какой причине возникла эта опечатка (возможно это 2)\n",
    "\n",
    "Столбцы gender, children, family_status и income_type были проверены на дубликаты при помощи метода value_counts(). Дубликаты обнаружены не были\n",
    "    \n",
    "Проверка на дубликаты в столбце education была выполнена при помощи метода count(). Поскольку разница была только в регистре, все значения были приведены к единому регистру. Тем самым дубликаты были удалены\n",
    "\n",
    "Столбец purpose был проверен на дубликаты при помощи метода value_counts(). Для избавления от дубликатов нужна лемматизация"
   ]
  },
  {
   "cell_type": "markdown",
   "metadata": {},
   "source": [
    "[К оглавлению](#content)"
   ]
  },
  {
   "cell_type": "markdown",
   "metadata": {},
   "source": [
    "<a id = '2-5'></a>\n",
    "### Лемматизация"
   ]
  },
  {
   "cell_type": "code",
   "execution_count": 6,
   "metadata": {
    "scrolled": true
   },
   "outputs": [
    {
     "data": {
      "text/plain": [
       "недвижимость    10840\n",
       "автомобиль       4315\n",
       "образование      4022\n",
       "свадьба          2348\n",
       "Name: purpose_category, dtype: int64"
      ]
     },
     "metadata": {},
     "output_type": "display_data"
    }
   ],
   "source": [
    "m = Mystem()\n",
    "\n",
    "estate = ['недвижим', 'жиль']\n",
    "wedding = ['свадьб']\n",
    "auto = ['автомоб']\n",
    "education = ['образов']\n",
    "\n",
    "df['purpose_category'] = 0\n",
    "\n",
    "def purpose_categoryzer(lemmas, category):\n",
    "    lemmas = '|'.join(lemmas)\n",
    "    index = df[df['purpose'].str.lower().str.contains(lemmas)].index.to_list()\n",
    "    for i in index:\n",
    "        df.loc[i, 'purpose_category'] = category\n",
    "    return df           \n",
    "    \n",
    "\n",
    "purpose_categoryzer(wedding, 'свадьба')\n",
    "purpose_categoryzer(estate, 'недвижимость')\n",
    "purpose_categoryzer(auto, 'автомобиль')\n",
    "purpose_categoryzer(education, 'образование')\n",
    "\n",
    "display(df['purpose_category'].value_counts())"
   ]
  },
  {
   "cell_type": "markdown",
   "metadata": {},
   "source": [
    "<b>Вывод:</b> были выявлены 4 семантические группы: свадьба, недвижимость и жилье, автомобиль и образование"
   ]
  },
  {
   "cell_type": "markdown",
   "metadata": {},
   "source": [
    "[К оглавлению](#content)"
   ]
  },
  {
   "cell_type": "markdown",
   "metadata": {},
   "source": [
    "<a id = '2-6'></a>\n",
    "### Категоризация данных"
   ]
  },
  {
   "cell_type": "code",
   "execution_count": 7,
   "metadata": {},
   "outputs": [
    {
     "data": {
      "text/plain": [
       "children\n",
       "0    14225\n",
       "1     4865\n",
       "2     2055\n",
       "3      330\n",
       "4       41\n",
       "5        9\n",
       "Name: debt, dtype: int64"
      ]
     },
     "metadata": {},
     "output_type": "display_data"
    },
    {
     "data": {
      "text/plain": [
       "family_status\n",
       "Не женат / не замужем     2813\n",
       "в разводе                 1195\n",
       "вдовец / вдова             960\n",
       "гражданский брак          4177\n",
       "женат / замужем          12380\n",
       "Name: debt, dtype: int64"
      ]
     },
     "metadata": {},
     "output_type": "display_data"
    },
    {
     "data": {
      "text/plain": [
       "2    11996\n",
       "1     4463\n",
       "3     3584\n",
       "4      954\n",
       "5      306\n",
       "6      222\n",
       "Name: total_income_id, dtype: int64"
      ]
     },
     "execution_count": 7,
     "metadata": {},
     "output_type": "execute_result"
    }
   ],
   "source": [
    "display(df.groupby('children')['debt'].count())\n",
    "display(df.groupby('family_status')['debt'].count())\n",
    "\n",
    "# категоризация по доходу с шагом 100000\n",
    "df['total_income_id'] = 0\n",
    "\n",
    "def income_categoryzer():\n",
    "    for i in range(len(df['total_income'])):\n",
    "        if df.loc[i, 'total_income'] <= 100000: \n",
    "            df.loc[i, 'total_income_id'] = 1\n",
    "        elif 100000 < df.loc[i, 'total_income'] <= 200000:\n",
    "            df.loc[i, 'total_income_id'] = 2\n",
    "        elif 200000 < df.loc[i, 'total_income'] <= 300000:\n",
    "            df.loc[i, 'total_income_id'] = 3\n",
    "        elif 300000 < df.loc[i, 'total_income'] <= 400000:\n",
    "            df.loc[i, 'total_income_id'] = 4\n",
    "        elif 400000 < df.loc[i, 'total_income'] <= 500000:\n",
    "            df.loc[i, 'total_income_id'] = 5\n",
    "        else:\n",
    "            df.loc[i, 'total_income_id'] = 6\n",
    "    return df\n",
    "\n",
    "income_categoryzer()\n",
    "df['total_income_id'].value_counts()\n"
   ]
  },
  {
   "cell_type": "markdown",
   "metadata": {},
   "source": [
    "<b>Вывод:</b> предстоит проанализировать влияние семейного положения и количества детей клиента на факт погашения кредита в срок.Количество детей и семейное положение категоризировать не нужно. Уровень дохода был категоризирован с шагом 100000 рублей"
   ]
  },
  {
   "cell_type": "markdown",
   "metadata": {},
   "source": [
    "[К оглавлению](#content)"
   ]
  },
  {
   "cell_type": "markdown",
   "metadata": {},
   "source": [
    "<a id='EDA'></a>\n",
    "## Исследовательский анализ данных"
   ]
  },
  {
   "cell_type": "markdown",
   "metadata": {},
   "source": [
    "<a id = '3-1'></a>\n",
    "### Есть ли зависимость между наличием детей и возвратом кредита в срок?"
   ]
  },
  {
   "cell_type": "code",
   "execution_count": 8,
   "metadata": {
    "scrolled": true
   },
   "outputs": [
    {
     "data": {
      "text/html": [
       "<div>\n",
       "<style scoped>\n",
       "    .dataframe tbody tr th:only-of-type {\n",
       "        vertical-align: middle;\n",
       "    }\n",
       "\n",
       "    .dataframe tbody tr th {\n",
       "        vertical-align: top;\n",
       "    }\n",
       "\n",
       "    .dataframe thead th {\n",
       "        text-align: right;\n",
       "    }\n",
       "</style>\n",
       "<table border=\"1\" class=\"dataframe\">\n",
       "  <thead>\n",
       "    <tr style=\"text-align: right;\">\n",
       "      <th></th>\n",
       "      <th>count_children</th>\n",
       "      <th>sum_children</th>\n",
       "      <th>result_children</th>\n",
       "    </tr>\n",
       "    <tr>\n",
       "      <th>children</th>\n",
       "      <th></th>\n",
       "      <th></th>\n",
       "      <th></th>\n",
       "    </tr>\n",
       "  </thead>\n",
       "  <tbody>\n",
       "    <tr>\n",
       "      <td>0</td>\n",
       "      <td>14225</td>\n",
       "      <td>1071</td>\n",
       "      <td>0.075290</td>\n",
       "    </tr>\n",
       "    <tr>\n",
       "      <td>1</td>\n",
       "      <td>4865</td>\n",
       "      <td>445</td>\n",
       "      <td>0.091470</td>\n",
       "    </tr>\n",
       "    <tr>\n",
       "      <td>2</td>\n",
       "      <td>2055</td>\n",
       "      <td>194</td>\n",
       "      <td>0.094404</td>\n",
       "    </tr>\n",
       "    <tr>\n",
       "      <td>3</td>\n",
       "      <td>330</td>\n",
       "      <td>27</td>\n",
       "      <td>0.081818</td>\n",
       "    </tr>\n",
       "    <tr>\n",
       "      <td>4</td>\n",
       "      <td>41</td>\n",
       "      <td>4</td>\n",
       "      <td>0.097561</td>\n",
       "    </tr>\n",
       "    <tr>\n",
       "      <td>5</td>\n",
       "      <td>9</td>\n",
       "      <td>0</td>\n",
       "      <td>0.000000</td>\n",
       "    </tr>\n",
       "  </tbody>\n",
       "</table>\n",
       "</div>"
      ],
      "text/plain": [
       "          count_children  sum_children  result_children\n",
       "children                                               \n",
       "0                  14225          1071         0.075290\n",
       "1                   4865           445         0.091470\n",
       "2                   2055           194         0.094404\n",
       "3                    330            27         0.081818\n",
       "4                     41             4         0.097561\n",
       "5                      9             0         0.000000"
      ]
     },
     "metadata": {},
     "output_type": "display_data"
    },
    {
     "data": {
      "text/plain": [
       "debt\n",
       "0    19784\n",
       "1     1741\n",
       "Name: debt, dtype: int64"
      ]
     },
     "metadata": {},
     "output_type": "display_data"
    }
   ],
   "source": [
    "debt_children = pd.DataFrame()\n",
    "debt_children['count_children'] = df.groupby('children')['debt'].count()\n",
    "debt_children['sum_children'] = df.groupby('children')['debt'].sum()\n",
    "debt_children['result_children'] = debt_children['sum_children'] / debt_children['count_children'] \n",
    "display(debt_children)\n",
    "\n",
    "# для проверки сравним sum_children и общим числом задержек по кредиту\n",
    "display(df.groupby('debt')['debt'].count())"
   ]
  },
  {
   "cell_type": "markdown",
   "metadata": {},
   "source": [
    "<b>Вывод: </b>заемщики без детей реже имеют задолжность по кредитам, чем заемщики с детьми. В целом, можно говорить о восходящем тренде - чем больше детей, тем чаще встречается задолжность по кредитам. Исключение составляют заемщики с тремя детьми и с пятью детьми, что может быть связано с малой выборкой. По заемщикам с пятью детьми недостаточно исходных данных для анализа. "
   ]
  },
  {
   "cell_type": "markdown",
   "metadata": {},
   "source": [
    "[К оглавлению](#content)"
   ]
  },
  {
   "cell_type": "markdown",
   "metadata": {},
   "source": [
    "<a id = '3-2'></a>\n",
    "### Есть ли зависимость между семейным положением и возвратом кредита в срок?"
   ]
  },
  {
   "cell_type": "code",
   "execution_count": 9,
   "metadata": {},
   "outputs": [
    {
     "data": {
      "text/html": [
       "<div>\n",
       "<style scoped>\n",
       "    .dataframe tbody tr th:only-of-type {\n",
       "        vertical-align: middle;\n",
       "    }\n",
       "\n",
       "    .dataframe tbody tr th {\n",
       "        vertical-align: top;\n",
       "    }\n",
       "\n",
       "    .dataframe thead th {\n",
       "        text-align: right;\n",
       "    }\n",
       "</style>\n",
       "<table border=\"1\" class=\"dataframe\">\n",
       "  <thead>\n",
       "    <tr style=\"text-align: right;\">\n",
       "      <th></th>\n",
       "      <th>count_family</th>\n",
       "      <th>sum_family</th>\n",
       "      <th>debt_family</th>\n",
       "    </tr>\n",
       "    <tr>\n",
       "      <th>family_status</th>\n",
       "      <th></th>\n",
       "      <th></th>\n",
       "      <th></th>\n",
       "    </tr>\n",
       "  </thead>\n",
       "  <tbody>\n",
       "    <tr>\n",
       "      <td>Не женат / не замужем</td>\n",
       "      <td>2813</td>\n",
       "      <td>274</td>\n",
       "      <td>0.097405</td>\n",
       "    </tr>\n",
       "    <tr>\n",
       "      <td>гражданский брак</td>\n",
       "      <td>4177</td>\n",
       "      <td>388</td>\n",
       "      <td>0.092890</td>\n",
       "    </tr>\n",
       "    <tr>\n",
       "      <td>женат / замужем</td>\n",
       "      <td>12380</td>\n",
       "      <td>931</td>\n",
       "      <td>0.075202</td>\n",
       "    </tr>\n",
       "    <tr>\n",
       "      <td>в разводе</td>\n",
       "      <td>1195</td>\n",
       "      <td>85</td>\n",
       "      <td>0.071130</td>\n",
       "    </tr>\n",
       "    <tr>\n",
       "      <td>вдовец / вдова</td>\n",
       "      <td>960</td>\n",
       "      <td>63</td>\n",
       "      <td>0.065625</td>\n",
       "    </tr>\n",
       "  </tbody>\n",
       "</table>\n",
       "</div>"
      ],
      "text/plain": [
       "                       count_family  sum_family  debt_family\n",
       "family_status                                               \n",
       "Не женат / не замужем          2813         274     0.097405\n",
       "гражданский брак               4177         388     0.092890\n",
       "женат / замужем               12380         931     0.075202\n",
       "в разводе                      1195          85     0.071130\n",
       "вдовец / вдова                  960          63     0.065625"
      ]
     },
     "execution_count": 9,
     "metadata": {},
     "output_type": "execute_result"
    }
   ],
   "source": [
    "debt_family = pd.DataFrame()\n",
    "debt_family['count_family'] = df.groupby('family_status')['debt'].count()\n",
    "debt_family['sum_family'] = df.groupby('family_status')['debt'].sum()\n",
    "debt_family['debt_family'] = debt_family['sum_family'] / debt_family['count_family'] \n",
    "\n",
    "debt_family.sort_values('debt_family', ascending = False) "
   ]
  },
  {
   "cell_type": "markdown",
   "metadata": {},
   "source": [
    "<b>Вывод: </b>заемщики не состоящие в официальных отношениях чаще имеют задолжности по кредитам, чем заемщики состоящие или состоявшие в официальных отношениях. Меньше всего задолжность по кредиту встречается в категории вдовец/вдова"
   ]
  },
  {
   "cell_type": "markdown",
   "metadata": {},
   "source": [
    "[К оглавлению](#content)"
   ]
  },
  {
   "cell_type": "markdown",
   "metadata": {},
   "source": [
    "<a id = '3-3'></a>\n",
    "### Есть ли зависимость между уровнем дохода и возвратом кредита в срок?"
   ]
  },
  {
   "cell_type": "code",
   "execution_count": 10,
   "metadata": {},
   "outputs": [
    {
     "data": {
      "text/html": [
       "<div>\n",
       "<style scoped>\n",
       "    .dataframe tbody tr th:only-of-type {\n",
       "        vertical-align: middle;\n",
       "    }\n",
       "\n",
       "    .dataframe tbody tr th {\n",
       "        vertical-align: top;\n",
       "    }\n",
       "\n",
       "    .dataframe thead th {\n",
       "        text-align: right;\n",
       "    }\n",
       "</style>\n",
       "<table border=\"1\" class=\"dataframe\">\n",
       "  <thead>\n",
       "    <tr style=\"text-align: right;\">\n",
       "      <th></th>\n",
       "      <th>count_income</th>\n",
       "      <th>sum_income</th>\n",
       "      <th>debt_income</th>\n",
       "    </tr>\n",
       "    <tr>\n",
       "      <th>total_income_id</th>\n",
       "      <th></th>\n",
       "      <th></th>\n",
       "      <th></th>\n",
       "    </tr>\n",
       "  </thead>\n",
       "  <tbody>\n",
       "    <tr>\n",
       "      <td>2</td>\n",
       "      <td>11996</td>\n",
       "      <td>1029</td>\n",
       "      <td>0.085779</td>\n",
       "    </tr>\n",
       "    <tr>\n",
       "      <td>1</td>\n",
       "      <td>4463</td>\n",
       "      <td>354</td>\n",
       "      <td>0.079319</td>\n",
       "    </tr>\n",
       "    <tr>\n",
       "      <td>4</td>\n",
       "      <td>954</td>\n",
       "      <td>75</td>\n",
       "      <td>0.078616</td>\n",
       "    </tr>\n",
       "    <tr>\n",
       "      <td>3</td>\n",
       "      <td>3584</td>\n",
       "      <td>252</td>\n",
       "      <td>0.070312</td>\n",
       "    </tr>\n",
       "    <tr>\n",
       "      <td>6</td>\n",
       "      <td>222</td>\n",
       "      <td>14</td>\n",
       "      <td>0.063063</td>\n",
       "    </tr>\n",
       "    <tr>\n",
       "      <td>5</td>\n",
       "      <td>306</td>\n",
       "      <td>17</td>\n",
       "      <td>0.055556</td>\n",
       "    </tr>\n",
       "  </tbody>\n",
       "</table>\n",
       "</div>"
      ],
      "text/plain": [
       "                 count_income  sum_income  debt_income\n",
       "total_income_id                                       \n",
       "2                       11996        1029     0.085779\n",
       "1                        4463         354     0.079319\n",
       "4                         954          75     0.078616\n",
       "3                        3584         252     0.070312\n",
       "6                         222          14     0.063063\n",
       "5                         306          17     0.055556"
      ]
     },
     "execution_count": 10,
     "metadata": {},
     "output_type": "execute_result"
    }
   ],
   "source": [
    "debt_income = pd.DataFrame()\n",
    "\n",
    "debt_income['count_income'] = df.groupby('total_income_id')['debt'].count()\n",
    "debt_income['sum_income'] = df.groupby('total_income_id')['debt'].sum()\n",
    "debt_income['debt_income'] = debt_income['sum_income'] / debt_income['count_income'] \n",
    "\n",
    "debt_income.sort_values('debt_income', ascending = False) "
   ]
  },
  {
   "cell_type": "markdown",
   "metadata": {},
   "source": [
    "<b>Вывод: </b>существует нисходящий тренд: чем выше уровень дохода, чем меньше число задолжностей по кредиту."
   ]
  },
  {
   "cell_type": "markdown",
   "metadata": {},
   "source": [
    "[К оглавлению](#content)"
   ]
  },
  {
   "cell_type": "markdown",
   "metadata": {},
   "source": [
    "<a id = '3-4'></a>\n",
    "### Как разные цели кредита влияют на его возврат в срок?"
   ]
  },
  {
   "cell_type": "code",
   "execution_count": 11,
   "metadata": {},
   "outputs": [
    {
     "data": {
      "text/html": [
       "<div>\n",
       "<style scoped>\n",
       "    .dataframe tbody tr th:only-of-type {\n",
       "        vertical-align: middle;\n",
       "    }\n",
       "\n",
       "    .dataframe tbody tr th {\n",
       "        vertical-align: top;\n",
       "    }\n",
       "\n",
       "    .dataframe thead th {\n",
       "        text-align: right;\n",
       "    }\n",
       "</style>\n",
       "<table border=\"1\" class=\"dataframe\">\n",
       "  <thead>\n",
       "    <tr style=\"text-align: right;\">\n",
       "      <th></th>\n",
       "      <th>count_purpose</th>\n",
       "      <th>sum_purpose</th>\n",
       "      <th>debt_purpose</th>\n",
       "    </tr>\n",
       "    <tr>\n",
       "      <th>purpose_category</th>\n",
       "      <th></th>\n",
       "      <th></th>\n",
       "      <th></th>\n",
       "    </tr>\n",
       "  </thead>\n",
       "  <tbody>\n",
       "    <tr>\n",
       "      <td>автомобиль</td>\n",
       "      <td>4315</td>\n",
       "      <td>403</td>\n",
       "      <td>0.093395</td>\n",
       "    </tr>\n",
       "    <tr>\n",
       "      <td>образование</td>\n",
       "      <td>4022</td>\n",
       "      <td>370</td>\n",
       "      <td>0.091994</td>\n",
       "    </tr>\n",
       "    <tr>\n",
       "      <td>свадьба</td>\n",
       "      <td>2348</td>\n",
       "      <td>186</td>\n",
       "      <td>0.079216</td>\n",
       "    </tr>\n",
       "    <tr>\n",
       "      <td>недвижимость</td>\n",
       "      <td>10840</td>\n",
       "      <td>782</td>\n",
       "      <td>0.072140</td>\n",
       "    </tr>\n",
       "  </tbody>\n",
       "</table>\n",
       "</div>"
      ],
      "text/plain": [
       "                  count_purpose  sum_purpose  debt_purpose\n",
       "purpose_category                                          \n",
       "автомобиль                 4315          403      0.093395\n",
       "образование                4022          370      0.091994\n",
       "свадьба                    2348          186      0.079216\n",
       "недвижимость              10840          782      0.072140"
      ]
     },
     "execution_count": 11,
     "metadata": {},
     "output_type": "execute_result"
    }
   ],
   "source": [
    "debt_purpose = pd.DataFrame()\n",
    "\n",
    "debt_purpose['count_purpose'] = df.groupby('purpose_category')['debt'].count()\n",
    "debt_purpose['sum_purpose'] = df.groupby('purpose_category')['debt'].sum()\n",
    "debt_purpose['debt_purpose'] = debt_purpose['sum_purpose'] / debt_purpose['count_purpose'] \n",
    "\n",
    "debt_purpose.sort_values('debt_purpose', ascending = False) "
   ]
  },
  {
   "cell_type": "markdown",
   "metadata": {},
   "source": [
    "<b>Вывод: </b>минимальное количество задолжностей встречается среди заемщиков, которые брали кредит на недвижимость. Заемщики, которые берут кредит на покупку автомобиля или на образование чаще имеют просрочку по кредиту, чем заемщики, которые берут кредит на недвижимость и свадьбу. "
   ]
  },
  {
   "cell_type": "markdown",
   "metadata": {},
   "source": [
    "[К оглавлению](#content)"
   ]
  },
  {
   "cell_type": "markdown",
   "metadata": {},
   "source": [
    "<a id='outcome'></a>\n",
    "## Общий вывод"
   ]
  },
  {
   "cell_type": "markdown",
   "metadata": {},
   "source": [
    " - Семейный статус связан с вероятностью просрочки по кредиту. Заемщики, состоящие в браке имеют меньше задолжностей по кредитам чем заемщики, которые не бывали в браке. При этом разведенные и овдовевшие имеют меньше просрочек, чем люди в браке. \n",
    " - Количество детей также связано с вероятностью просрочки по кредиту. Чем больше детей у заемщика тем больше вероятность, что будет просрочка по выплате кредита. Заемщики без детей имеют меньше просрочек по кредитам, чем заемщики с детьми."
   ]
  },
  {
   "cell_type": "markdown",
   "metadata": {},
   "source": [
    "[К оглавлению](#content)"
   ]
  }
 ],
 "metadata": {
  "ExecuteTimeLog": [
   {
    "duration": 644,
    "start_time": "2021-10-22T20:00:18.891Z"
   },
   {
    "duration": 52,
    "start_time": "2021-10-22T20:00:22.976Z"
   },
   {
    "duration": 58,
    "start_time": "2021-10-22T20:00:40.083Z"
   },
   {
    "duration": 69,
    "start_time": "2021-10-22T20:00:57.501Z"
   },
   {
    "duration": 57,
    "start_time": "2021-10-22T20:07:24.322Z"
   },
   {
    "duration": 71,
    "start_time": "2021-10-22T20:07:55.922Z"
   },
   {
    "duration": 11,
    "start_time": "2021-10-22T20:09:23.506Z"
   },
   {
    "duration": 982,
    "start_time": "2021-10-22T20:15:58.758Z"
   },
   {
    "duration": 15,
    "start_time": "2021-10-22T20:16:07.983Z"
   },
   {
    "duration": 74,
    "start_time": "2021-10-22T20:18:02.015Z"
   },
   {
    "duration": 5,
    "start_time": "2021-10-22T20:18:35.811Z"
   },
   {
    "duration": 5,
    "start_time": "2021-10-22T20:18:38.185Z"
   },
   {
    "duration": 7,
    "start_time": "2021-10-22T20:21:22.856Z"
   },
   {
    "duration": 13,
    "start_time": "2021-10-22T20:21:33.482Z"
   },
   {
    "duration": 837,
    "start_time": "2021-10-23T09:02:35.091Z"
   },
   {
    "duration": 99,
    "start_time": "2021-10-23T09:02:56.608Z"
   },
   {
    "duration": 102,
    "start_time": "2021-10-23T09:04:05.368Z"
   },
   {
    "duration": 102,
    "start_time": "2021-10-23T09:04:23.660Z"
   },
   {
    "duration": 109,
    "start_time": "2021-10-23T09:04:46.738Z"
   },
   {
    "duration": 96,
    "start_time": "2021-10-23T09:05:12.585Z"
   },
   {
    "duration": 20,
    "start_time": "2021-10-23T09:11:32.052Z"
   },
   {
    "duration": 27,
    "start_time": "2021-10-23T09:13:05.779Z"
   },
   {
    "duration": 100,
    "start_time": "2021-10-23T09:21:37.613Z"
   },
   {
    "duration": 110,
    "start_time": "2021-10-23T09:37:39.545Z"
   },
   {
    "duration": 458,
    "start_time": "2021-10-23T09:39:21.852Z"
   },
   {
    "duration": 610,
    "start_time": "2021-10-23T09:40:02.093Z"
   },
   {
    "duration": 108,
    "start_time": "2021-10-23T09:40:33.060Z"
   },
   {
    "duration": 108,
    "start_time": "2021-10-23T09:40:36.140Z"
   },
   {
    "duration": 28,
    "start_time": "2021-10-23T09:47:58.178Z"
   },
   {
    "duration": 30,
    "start_time": "2021-10-23T09:56:21.967Z"
   },
   {
    "duration": 30,
    "start_time": "2021-10-23T09:58:35.242Z"
   },
   {
    "duration": 6,
    "start_time": "2021-10-23T10:01:18.494Z"
   },
   {
    "duration": 27,
    "start_time": "2021-10-23T10:06:43.902Z"
   },
   {
    "duration": 22,
    "start_time": "2021-10-23T10:06:54.376Z"
   },
   {
    "duration": 22,
    "start_time": "2021-10-23T10:06:58.623Z"
   },
   {
    "duration": 22,
    "start_time": "2021-10-23T10:07:01.396Z"
   },
   {
    "duration": 21,
    "start_time": "2021-10-23T10:07:04.967Z"
   },
   {
    "duration": 29,
    "start_time": "2021-10-23T10:07:07.989Z"
   },
   {
    "duration": 11,
    "start_time": "2021-10-23T10:07:20.911Z"
   },
   {
    "duration": 10,
    "start_time": "2021-10-23T10:08:03.302Z"
   },
   {
    "duration": 21,
    "start_time": "2021-10-23T10:08:59.548Z"
   },
   {
    "duration": 19,
    "start_time": "2021-10-23T10:09:13.407Z"
   },
   {
    "duration": 814,
    "start_time": "2021-10-23T10:09:34.336Z"
   },
   {
    "duration": 31,
    "start_time": "2021-10-23T10:09:35.153Z"
   },
   {
    "duration": 35,
    "start_time": "2021-10-23T10:09:35.186Z"
   },
   {
    "duration": 7,
    "start_time": "2021-10-23T10:09:35.223Z"
   },
   {
    "duration": 50,
    "start_time": "2021-10-23T10:09:35.232Z"
   },
   {
    "duration": 8,
    "start_time": "2021-10-23T10:10:04.982Z"
   },
   {
    "duration": 9,
    "start_time": "2021-10-23T10:10:27.632Z"
   },
   {
    "duration": 10,
    "start_time": "2021-10-23T10:10:42.940Z"
   },
   {
    "duration": 16,
    "start_time": "2021-10-23T10:10:59.377Z"
   },
   {
    "duration": 26,
    "start_time": "2021-10-23T10:11:23.226Z"
   },
   {
    "duration": 32,
    "start_time": "2021-10-23T10:11:35.859Z"
   },
   {
    "duration": 794,
    "start_time": "2021-10-23T10:11:45.331Z"
   },
   {
    "duration": 12,
    "start_time": "2021-10-23T10:11:46.127Z"
   },
   {
    "duration": 56,
    "start_time": "2021-10-23T10:11:46.142Z"
   },
   {
    "duration": 6,
    "start_time": "2021-10-23T10:11:46.200Z"
   },
   {
    "duration": 23,
    "start_time": "2021-10-23T10:11:46.208Z"
   },
   {
    "duration": 30,
    "start_time": "2021-10-23T10:12:23.298Z"
   },
   {
    "duration": 103,
    "start_time": "2021-10-23T10:14:31.891Z"
   },
   {
    "duration": 33,
    "start_time": "2021-10-23T10:15:10.849Z"
   },
   {
    "duration": 63,
    "start_time": "2021-10-23T10:31:13.260Z"
   },
   {
    "duration": 890,
    "start_time": "2021-10-23T10:31:19.993Z"
   },
   {
    "duration": 14,
    "start_time": "2021-10-23T10:31:20.886Z"
   },
   {
    "duration": 35,
    "start_time": "2021-10-23T10:31:20.903Z"
   },
   {
    "duration": 6,
    "start_time": "2021-10-23T10:31:20.941Z"
   },
   {
    "duration": 38,
    "start_time": "2021-10-23T10:31:20.983Z"
   },
   {
    "duration": 34,
    "start_time": "2021-10-23T10:31:37.704Z"
   },
   {
    "duration": 898,
    "start_time": "2021-10-23T10:31:45.774Z"
   },
   {
    "duration": 19,
    "start_time": "2021-10-23T10:31:46.674Z"
   },
   {
    "duration": 34,
    "start_time": "2021-10-23T10:31:46.697Z"
   },
   {
    "duration": 6,
    "start_time": "2021-10-23T10:31:46.733Z"
   },
   {
    "duration": 66,
    "start_time": "2021-10-23T10:31:46.741Z"
   },
   {
    "duration": 50,
    "start_time": "2021-10-23T10:32:02.936Z"
   },
   {
    "duration": 898,
    "start_time": "2021-10-23T10:32:09.884Z"
   },
   {
    "duration": 16,
    "start_time": "2021-10-23T10:32:10.785Z"
   },
   {
    "duration": 34,
    "start_time": "2021-10-23T10:32:10.805Z"
   },
   {
    "duration": 40,
    "start_time": "2021-10-23T10:32:10.842Z"
   },
   {
    "duration": 28,
    "start_time": "2021-10-23T10:32:10.885Z"
   },
   {
    "duration": 861,
    "start_time": "2021-10-23T10:32:35.783Z"
   },
   {
    "duration": 13,
    "start_time": "2021-10-23T10:32:36.646Z"
   },
   {
    "duration": 43,
    "start_time": "2021-10-23T10:32:36.662Z"
   },
   {
    "duration": 6,
    "start_time": "2021-10-23T10:32:36.708Z"
   },
   {
    "duration": 19,
    "start_time": "2021-10-23T10:32:36.716Z"
   },
   {
    "duration": 24,
    "start_time": "2021-10-23T10:32:46.160Z"
   },
   {
    "duration": 21,
    "start_time": "2021-10-23T10:32:49.781Z"
   },
   {
    "duration": 22,
    "start_time": "2021-10-23T10:32:51.285Z"
   },
   {
    "duration": 22,
    "start_time": "2021-10-23T10:32:52.521Z"
   },
   {
    "duration": 28,
    "start_time": "2021-10-23T10:33:24.170Z"
   },
   {
    "duration": 1186,
    "start_time": "2021-10-23T10:33:30.761Z"
   },
   {
    "duration": 30,
    "start_time": "2021-10-23T10:33:31.953Z"
   },
   {
    "duration": 52,
    "start_time": "2021-10-23T10:33:31.986Z"
   },
   {
    "duration": 8,
    "start_time": "2021-10-23T10:33:32.040Z"
   },
   {
    "duration": 40,
    "start_time": "2021-10-23T10:33:32.051Z"
   },
   {
    "duration": 40,
    "start_time": "2021-10-23T10:34:02.616Z"
   },
   {
    "duration": 37,
    "start_time": "2021-10-23T10:34:25.141Z"
   },
   {
    "duration": 517,
    "start_time": "2021-10-23T10:38:47.448Z"
   },
   {
    "duration": 552,
    "start_time": "2021-10-23T10:39:00.116Z"
   },
   {
    "duration": 356,
    "start_time": "2021-10-23T10:39:15.463Z"
   },
   {
    "duration": 46,
    "start_time": "2021-10-23T10:39:32.937Z"
   },
   {
    "duration": 42,
    "start_time": "2021-10-23T10:42:28.653Z"
   },
   {
    "duration": 44,
    "start_time": "2021-10-23T10:42:43.898Z"
   },
   {
    "duration": 47,
    "start_time": "2021-10-23T10:42:55.087Z"
   },
   {
    "duration": 43,
    "start_time": "2021-10-23T10:43:28.294Z"
   },
   {
    "duration": 446,
    "start_time": "2021-10-23T10:43:57.164Z"
   },
   {
    "duration": 338,
    "start_time": "2021-10-23T10:44:04.881Z"
   },
   {
    "duration": 298,
    "start_time": "2021-10-23T10:44:11.025Z"
   },
   {
    "duration": 42,
    "start_time": "2021-10-23T10:44:31.044Z"
   },
   {
    "duration": 41,
    "start_time": "2021-10-23T10:44:50.614Z"
   },
   {
    "duration": 44,
    "start_time": "2021-10-23T10:49:06.596Z"
   },
   {
    "duration": 50,
    "start_time": "2021-10-23T10:52:19.396Z"
   },
   {
    "duration": 46,
    "start_time": "2021-10-23T10:55:34.585Z"
   },
   {
    "duration": 810,
    "start_time": "2021-10-23T10:55:53.922Z"
   },
   {
    "duration": 11,
    "start_time": "2021-10-23T10:55:54.734Z"
   },
   {
    "duration": 48,
    "start_time": "2021-10-23T10:55:54.749Z"
   },
   {
    "duration": 5,
    "start_time": "2021-10-23T10:55:54.799Z"
   },
   {
    "duration": 84,
    "start_time": "2021-10-23T10:55:54.807Z"
   },
   {
    "duration": 55,
    "start_time": "2021-10-23T10:56:36.514Z"
   },
   {
    "duration": 10,
    "start_time": "2021-10-23T11:20:10.421Z"
   },
   {
    "duration": 12,
    "start_time": "2021-10-23T11:20:25.082Z"
   },
   {
    "duration": 55,
    "start_time": "2021-10-23T11:27:04.980Z"
   },
   {
    "duration": 7612,
    "start_time": "2021-10-23T11:27:31.541Z"
   },
   {
    "duration": 343,
    "start_time": "2021-10-23T11:29:00.683Z"
   },
   {
    "duration": 17,
    "start_time": "2021-10-23T11:32:04.245Z"
   },
   {
    "duration": 13,
    "start_time": "2021-10-23T11:37:08.685Z"
   },
   {
    "duration": 13,
    "start_time": "2021-10-23T11:37:42.596Z"
   },
   {
    "duration": 14,
    "start_time": "2021-10-23T11:40:41.802Z"
   },
   {
    "duration": 13,
    "start_time": "2021-10-23T11:41:12.907Z"
   },
   {
    "duration": 280,
    "start_time": "2021-10-23T11:41:25.725Z"
   },
   {
    "duration": 641,
    "start_time": "2021-10-23T11:41:38.105Z"
   },
   {
    "duration": 1629,
    "start_time": "2021-10-23T11:41:59.662Z"
   },
   {
    "duration": 575,
    "start_time": "2021-10-23T11:42:12.460Z"
   },
   {
    "duration": 554,
    "start_time": "2021-10-23T11:42:57.716Z"
   },
   {
    "duration": 102,
    "start_time": "2021-10-23T11:44:52.396Z"
   },
   {
    "duration": 513,
    "start_time": "2021-10-23T11:45:13.697Z"
   },
   {
    "duration": 469,
    "start_time": "2021-10-23T11:45:50.737Z"
   },
   {
    "duration": 897,
    "start_time": "2021-10-23T11:46:00.786Z"
   },
   {
    "duration": 12,
    "start_time": "2021-10-23T11:46:01.686Z"
   },
   {
    "duration": 37,
    "start_time": "2021-10-23T11:46:01.703Z"
   },
   {
    "duration": 6,
    "start_time": "2021-10-23T11:46:01.743Z"
   },
   {
    "duration": 72,
    "start_time": "2021-10-23T11:46:01.783Z"
   },
   {
    "duration": 635,
    "start_time": "2021-10-23T11:46:01.883Z"
   },
   {
    "duration": 498,
    "start_time": "2021-10-23T11:46:36.389Z"
   },
   {
    "duration": 533,
    "start_time": "2021-10-23T11:47:49.713Z"
   },
   {
    "duration": 8851,
    "start_time": "2021-10-23T11:48:28.156Z"
   },
   {
    "duration": 125,
    "start_time": "2021-10-23T11:49:20.133Z"
   },
   {
    "duration": 101,
    "start_time": "2021-10-23T11:49:28.143Z"
   },
   {
    "duration": 535,
    "start_time": "2021-10-23T11:49:45.309Z"
   },
   {
    "duration": 564,
    "start_time": "2021-10-23T11:50:08.105Z"
   },
   {
    "duration": 8668,
    "start_time": "2021-10-23T11:50:23.335Z"
   },
   {
    "duration": 9860,
    "start_time": "2021-10-23T11:50:38.195Z"
   },
   {
    "duration": 842,
    "start_time": "2021-10-23T11:51:23.521Z"
   },
   {
    "duration": 23,
    "start_time": "2021-10-23T11:51:24.369Z"
   },
   {
    "duration": 33,
    "start_time": "2021-10-23T11:51:24.395Z"
   },
   {
    "duration": 5,
    "start_time": "2021-10-23T11:51:24.430Z"
   },
   {
    "duration": 88,
    "start_time": "2021-10-23T11:51:24.437Z"
   },
   {
    "duration": 8660,
    "start_time": "2021-10-23T11:51:24.527Z"
   },
   {
    "duration": 601,
    "start_time": "2021-10-23T11:53:37.736Z"
   },
   {
    "duration": 475,
    "start_time": "2021-10-23T11:54:55.031Z"
   },
   {
    "duration": 731,
    "start_time": "2021-10-23T11:56:59.189Z"
   },
   {
    "duration": 1126,
    "start_time": "2021-10-23T11:57:17.094Z"
   },
   {
    "duration": 889,
    "start_time": "2021-10-23T11:59:00.366Z"
   },
   {
    "duration": 25,
    "start_time": "2021-10-23T11:59:01.258Z"
   },
   {
    "duration": 34,
    "start_time": "2021-10-23T11:59:01.290Z"
   },
   {
    "duration": 6,
    "start_time": "2021-10-23T11:59:01.327Z"
   },
   {
    "duration": 93,
    "start_time": "2021-10-23T11:59:01.336Z"
   },
   {
    "duration": 270,
    "start_time": "2021-10-23T11:59:43.900Z"
   },
   {
    "duration": 26,
    "start_time": "2021-10-23T11:59:54.831Z"
   },
   {
    "duration": 811,
    "start_time": "2021-10-23T12:00:20.330Z"
   },
   {
    "duration": 12,
    "start_time": "2021-10-23T12:00:21.143Z"
   },
   {
    "duration": 52,
    "start_time": "2021-10-23T12:00:21.160Z"
   },
   {
    "duration": 5,
    "start_time": "2021-10-23T12:00:21.215Z"
   },
   {
    "duration": 84,
    "start_time": "2021-10-23T12:00:21.223Z"
   },
   {
    "duration": 27,
    "start_time": "2021-10-23T12:00:21.310Z"
   },
   {
    "duration": 2316,
    "start_time": "2021-10-23T12:00:39.777Z"
   },
   {
    "duration": 836,
    "start_time": "2021-10-23T12:01:25.626Z"
   },
   {
    "duration": 25,
    "start_time": "2021-10-23T12:01:26.465Z"
   },
   {
    "duration": 32,
    "start_time": "2021-10-23T12:01:26.494Z"
   },
   {
    "duration": 6,
    "start_time": "2021-10-23T12:01:26.528Z"
   },
   {
    "duration": 85,
    "start_time": "2021-10-23T12:01:26.536Z"
   },
   {
    "duration": 6465,
    "start_time": "2021-10-23T12:01:26.623Z"
   },
   {
    "duration": 2831,
    "start_time": "2021-10-23T12:01:54.341Z"
   },
   {
    "duration": 2879,
    "start_time": "2021-10-23T12:05:16.419Z"
   },
   {
    "duration": 3313,
    "start_time": "2021-10-23T12:05:43.422Z"
   },
   {
    "duration": 270,
    "start_time": "2021-10-23T12:06:48.147Z"
   },
   {
    "duration": 858,
    "start_time": "2021-10-23T12:06:50.988Z"
   },
   {
    "duration": 13,
    "start_time": "2021-10-23T12:06:51.849Z"
   },
   {
    "duration": 33,
    "start_time": "2021-10-23T12:06:51.886Z"
   },
   {
    "duration": 5,
    "start_time": "2021-10-23T12:06:51.921Z"
   },
   {
    "duration": 86,
    "start_time": "2021-10-23T12:06:51.929Z"
   },
   {
    "duration": 43,
    "start_time": "2021-10-23T12:07:19.098Z"
   },
   {
    "duration": 872,
    "start_time": "2021-10-23T12:08:52.212Z"
   },
   {
    "duration": 14,
    "start_time": "2021-10-23T12:08:53.086Z"
   },
   {
    "duration": 36,
    "start_time": "2021-10-23T12:08:53.104Z"
   },
   {
    "duration": 7,
    "start_time": "2021-10-23T12:08:53.142Z"
   },
   {
    "duration": 86,
    "start_time": "2021-10-23T12:08:53.151Z"
   },
   {
    "duration": 53,
    "start_time": "2021-10-23T12:08:53.239Z"
   },
   {
    "duration": 26907,
    "start_time": "2021-10-23T12:09:00.796Z"
   },
   {
    "duration": 941,
    "start_time": "2021-10-23T12:10:09.163Z"
   },
   {
    "duration": 915,
    "start_time": "2021-10-23T12:10:49.179Z"
   },
   {
    "duration": 939,
    "start_time": "2021-10-23T12:11:00.280Z"
   },
   {
    "duration": 1344,
    "start_time": "2021-10-23T12:11:37.232Z"
   },
   {
    "duration": 909,
    "start_time": "2021-10-23T12:11:49.489Z"
   },
   {
    "duration": 514,
    "start_time": "2021-10-23T12:13:31.343Z"
   },
   {
    "duration": 912,
    "start_time": "2021-10-23T12:13:59.570Z"
   },
   {
    "duration": 956,
    "start_time": "2021-10-23T12:14:51.303Z"
   },
   {
    "duration": 2329,
    "start_time": "2021-10-23T12:15:15.169Z"
   },
   {
    "duration": 7540,
    "start_time": "2021-10-23T12:15:49.518Z"
   },
   {
    "duration": 799,
    "start_time": "2021-10-23T12:16:12.124Z"
   },
   {
    "duration": 14,
    "start_time": "2021-10-23T12:16:12.926Z"
   },
   {
    "duration": 57,
    "start_time": "2021-10-23T12:16:12.947Z"
   },
   {
    "duration": 7,
    "start_time": "2021-10-23T12:16:13.006Z"
   },
   {
    "duration": 88,
    "start_time": "2021-10-23T12:16:13.015Z"
   },
   {
    "duration": 4027,
    "start_time": "2021-10-23T12:16:13.106Z"
   },
   {
    "duration": 3982,
    "start_time": "2021-10-23T12:18:21.302Z"
   },
   {
    "duration": 40448,
    "start_time": "2021-10-23T12:18:49.890Z"
   },
   {
    "duration": 9121,
    "start_time": "2021-10-23T12:19:55.682Z"
   },
   {
    "duration": 7224,
    "start_time": "2021-10-23T12:20:31.030Z"
   },
   {
    "duration": 7056,
    "start_time": "2021-10-23T12:21:08.751Z"
   },
   {
    "duration": 14124,
    "start_time": "2021-10-23T12:21:36.697Z"
   },
   {
    "duration": 13975,
    "start_time": "2021-10-23T12:22:22.693Z"
   },
   {
    "duration": 1010,
    "start_time": "2021-10-23T12:23:24.656Z"
   },
   {
    "duration": 22,
    "start_time": "2021-10-23T12:23:25.668Z"
   },
   {
    "duration": 34,
    "start_time": "2021-10-23T12:23:25.693Z"
   },
   {
    "duration": 8,
    "start_time": "2021-10-23T12:23:25.729Z"
   },
   {
    "duration": 98,
    "start_time": "2021-10-23T12:23:25.739Z"
   },
   {
    "duration": 10591,
    "start_time": "2021-10-23T12:23:25.839Z"
   },
   {
    "duration": 21734,
    "start_time": "2021-10-23T12:23:54.469Z"
   },
   {
    "duration": 2766,
    "start_time": "2021-10-23T12:24:43.468Z"
   },
   {
    "duration": 873,
    "start_time": "2021-10-23T12:24:57.278Z"
   },
   {
    "duration": 28,
    "start_time": "2021-10-23T12:24:58.155Z"
   },
   {
    "duration": 36,
    "start_time": "2021-10-23T12:24:58.187Z"
   },
   {
    "duration": 5,
    "start_time": "2021-10-23T12:24:58.226Z"
   },
   {
    "duration": 92,
    "start_time": "2021-10-23T12:24:58.234Z"
   },
   {
    "duration": 20633,
    "start_time": "2021-10-23T12:24:58.329Z"
   },
   {
    "duration": 147,
    "start_time": "2021-10-23T12:25:46.948Z"
   },
   {
    "duration": 886,
    "start_time": "2021-10-23T12:25:58.371Z"
   },
   {
    "duration": 22,
    "start_time": "2021-10-23T12:25:59.260Z"
   },
   {
    "duration": 32,
    "start_time": "2021-10-23T12:25:59.286Z"
   },
   {
    "duration": 6,
    "start_time": "2021-10-23T12:25:59.320Z"
   },
   {
    "duration": 85,
    "start_time": "2021-10-23T12:25:59.329Z"
   },
   {
    "duration": 111,
    "start_time": "2021-10-23T12:25:59.416Z"
   },
   {
    "duration": 852,
    "start_time": "2021-10-23T12:26:37.494Z"
   },
   {
    "duration": 13,
    "start_time": "2021-10-23T12:26:38.352Z"
   },
   {
    "duration": 32,
    "start_time": "2021-10-23T12:26:38.383Z"
   },
   {
    "duration": 6,
    "start_time": "2021-10-23T12:26:38.418Z"
   },
   {
    "duration": 86,
    "start_time": "2021-10-23T12:26:38.426Z"
   },
   {
    "duration": 1469,
    "start_time": "2021-10-23T12:27:13.915Z"
   },
   {
    "duration": 13,
    "start_time": "2021-10-23T12:27:15.387Z"
   },
   {
    "duration": 35,
    "start_time": "2021-10-23T12:27:15.403Z"
   },
   {
    "duration": 44,
    "start_time": "2021-10-23T12:27:15.441Z"
   },
   {
    "duration": 59,
    "start_time": "2021-10-23T12:27:15.488Z"
   },
   {
    "duration": 23433,
    "start_time": "2021-10-23T12:27:15.549Z"
   },
   {
    "duration": 862,
    "start_time": "2021-10-23T13:34:46.835Z"
   },
   {
    "duration": 12,
    "start_time": "2021-10-23T13:34:47.699Z"
   },
   {
    "duration": 33,
    "start_time": "2021-10-23T13:34:47.718Z"
   },
   {
    "duration": 6,
    "start_time": "2021-10-23T13:34:47.782Z"
   },
   {
    "duration": 56,
    "start_time": "2021-10-23T13:34:47.790Z"
   },
   {
    "duration": 867,
    "start_time": "2021-10-23T13:35:17.960Z"
   },
   {
    "duration": 12,
    "start_time": "2021-10-23T13:35:18.830Z"
   },
   {
    "duration": 62,
    "start_time": "2021-10-23T13:35:18.845Z"
   },
   {
    "duration": 5,
    "start_time": "2021-10-23T13:35:18.909Z"
   },
   {
    "duration": 80,
    "start_time": "2021-10-23T13:35:18.917Z"
   },
   {
    "duration": 21646,
    "start_time": "2021-10-23T13:35:18.999Z"
   },
   {
    "duration": 21825,
    "start_time": "2021-10-23T13:36:03.918Z"
   },
   {
    "duration": 10291,
    "start_time": "2021-10-23T13:36:58.541Z"
   },
   {
    "duration": 24844,
    "start_time": "2021-10-23T13:37:27.745Z"
   },
   {
    "duration": 385,
    "start_time": "2021-10-23T13:38:43.478Z"
   },
   {
    "duration": 306,
    "start_time": "2021-10-23T13:38:51.887Z"
   },
   {
    "duration": 21,
    "start_time": "2021-10-23T13:39:08.309Z"
   },
   {
    "duration": 12,
    "start_time": "2021-10-23T13:39:26.088Z"
   },
   {
    "duration": 13,
    "start_time": "2021-10-23T13:39:32.484Z"
   },
   {
    "duration": 890,
    "start_time": "2021-10-23T13:39:42.262Z"
   },
   {
    "duration": 12,
    "start_time": "2021-10-23T13:39:43.154Z"
   },
   {
    "duration": 32,
    "start_time": "2021-10-23T13:39:43.183Z"
   },
   {
    "duration": 6,
    "start_time": "2021-10-23T13:39:43.217Z"
   },
   {
    "duration": 83,
    "start_time": "2021-10-23T13:39:43.225Z"
   },
   {
    "duration": 22318,
    "start_time": "2021-10-23T13:39:43.310Z"
   },
   {
    "duration": 18,
    "start_time": "2021-10-23T13:40:05.631Z"
   },
   {
    "duration": 18,
    "start_time": "2021-10-23T13:40:09.911Z"
   },
   {
    "duration": 20,
    "start_time": "2021-10-23T13:41:17.528Z"
   },
   {
    "duration": 23,
    "start_time": "2021-10-23T13:41:45.673Z"
   },
   {
    "duration": 21,
    "start_time": "2021-10-23T14:49:59.020Z"
   },
   {
    "duration": 9,
    "start_time": "2021-10-23T14:52:05.598Z"
   },
   {
    "duration": 15,
    "start_time": "2021-10-23T14:54:51.295Z"
   },
   {
    "duration": 16,
    "start_time": "2021-10-23T14:54:58.309Z"
   },
   {
    "duration": 343,
    "start_time": "2021-10-23T14:59:08.597Z"
   },
   {
    "duration": 318,
    "start_time": "2021-10-23T14:59:26.209Z"
   },
   {
    "duration": 8,
    "start_time": "2021-10-23T14:59:45.224Z"
   },
   {
    "duration": 12,
    "start_time": "2021-10-23T15:00:06.279Z"
   },
   {
    "duration": 12,
    "start_time": "2021-10-23T15:00:30.019Z"
   },
   {
    "duration": 11,
    "start_time": "2021-10-23T15:00:59.218Z"
   },
   {
    "duration": 11,
    "start_time": "2021-10-23T15:01:09.027Z"
   },
   {
    "duration": 11,
    "start_time": "2021-10-23T15:01:32.595Z"
   },
   {
    "duration": 12,
    "start_time": "2021-10-23T15:01:44.001Z"
   },
   {
    "duration": 17,
    "start_time": "2021-10-23T15:02:09.700Z"
   },
   {
    "duration": 15,
    "start_time": "2021-10-23T15:02:42.614Z"
   },
   {
    "duration": 14,
    "start_time": "2021-10-23T15:03:16.546Z"
   },
   {
    "duration": 15,
    "start_time": "2021-10-23T15:03:22.953Z"
   },
   {
    "duration": 14,
    "start_time": "2021-10-23T15:04:19.805Z"
   },
   {
    "duration": 18,
    "start_time": "2021-10-23T15:04:32.944Z"
   },
   {
    "duration": 25,
    "start_time": "2021-10-23T15:06:33.881Z"
   },
   {
    "duration": 24,
    "start_time": "2021-10-23T15:06:39.674Z"
   },
   {
    "duration": 18,
    "start_time": "2021-10-23T15:07:22.153Z"
   },
   {
    "duration": 15,
    "start_time": "2021-10-23T15:07:28.004Z"
   },
   {
    "duration": 19,
    "start_time": "2021-10-23T15:07:48.979Z"
   },
   {
    "duration": 23,
    "start_time": "2021-10-23T15:10:28.788Z"
   },
   {
    "duration": 23,
    "start_time": "2021-10-23T15:11:42.973Z"
   },
   {
    "duration": 259,
    "start_time": "2021-10-23T15:19:08.396Z"
   },
   {
    "duration": 346,
    "start_time": "2021-10-23T15:19:41.969Z"
   },
   {
    "duration": 19,
    "start_time": "2021-10-23T15:20:07.521Z"
   },
   {
    "duration": 23,
    "start_time": "2021-10-23T15:20:52.510Z"
   },
   {
    "duration": 23,
    "start_time": "2021-10-23T15:21:36.230Z"
   },
   {
    "duration": 23,
    "start_time": "2021-10-23T15:21:40.856Z"
   },
   {
    "duration": 22,
    "start_time": "2021-10-23T15:21:41.583Z"
   },
   {
    "duration": 24,
    "start_time": "2021-10-23T15:21:41.813Z"
   },
   {
    "duration": 23,
    "start_time": "2021-10-23T15:21:41.983Z"
   },
   {
    "duration": 21,
    "start_time": "2021-10-23T15:21:42.140Z"
   },
   {
    "duration": 23,
    "start_time": "2021-10-23T15:21:42.301Z"
   },
   {
    "duration": 22,
    "start_time": "2021-10-23T15:21:43.214Z"
   },
   {
    "duration": 304,
    "start_time": "2021-10-23T15:38:52.183Z"
   },
   {
    "duration": 282,
    "start_time": "2021-10-23T15:39:08.120Z"
   },
   {
    "duration": 7833,
    "start_time": "2021-10-23T15:39:51.143Z"
   },
   {
    "duration": 274,
    "start_time": "2021-10-23T15:40:38.039Z"
   },
   {
    "duration": 6852,
    "start_time": "2021-10-23T15:40:39.850Z"
   },
   {
    "duration": 6893,
    "start_time": "2021-10-23T15:40:57.605Z"
   },
   {
    "duration": 7959,
    "start_time": "2021-10-23T15:41:22.290Z"
   },
   {
    "duration": 276,
    "start_time": "2021-10-23T15:41:56.751Z"
   },
   {
    "duration": 815,
    "start_time": "2021-10-23T15:42:15.916Z"
   },
   {
    "duration": 14,
    "start_time": "2021-10-23T15:42:16.736Z"
   },
   {
    "duration": 56,
    "start_time": "2021-10-23T15:42:16.753Z"
   },
   {
    "duration": 7,
    "start_time": "2021-10-23T15:42:16.812Z"
   },
   {
    "duration": 102,
    "start_time": "2021-10-23T15:42:16.822Z"
   },
   {
    "duration": 22508,
    "start_time": "2021-10-23T15:42:16.927Z"
   },
   {
    "duration": 259,
    "start_time": "2021-10-23T15:42:46.177Z"
   },
   {
    "duration": 253,
    "start_time": "2021-10-23T15:42:46.184Z"
   },
   {
    "duration": 249,
    "start_time": "2021-10-23T15:42:46.190Z"
   },
   {
    "duration": 249,
    "start_time": "2021-10-23T15:42:46.194Z"
   },
   {
    "duration": 63,
    "start_time": "2021-10-23T15:43:10.575Z"
   },
   {
    "duration": 8902,
    "start_time": "2021-10-23T15:44:58.927Z"
   },
   {
    "duration": 7980,
    "start_time": "2021-10-23T15:47:09.267Z"
   },
   {
    "duration": 7005,
    "start_time": "2021-10-23T15:48:46.988Z"
   },
   {
    "duration": 6628,
    "start_time": "2021-10-23T15:49:00.213Z"
   },
   {
    "duration": 7,
    "start_time": "2021-10-23T15:49:17.150Z"
   },
   {
    "duration": 5,
    "start_time": "2021-10-23T15:51:03.227Z"
   },
   {
    "duration": 5,
    "start_time": "2021-10-23T15:51:11.989Z"
   },
   {
    "duration": 3732,
    "start_time": "2021-10-23T15:52:49.854Z"
   },
   {
    "duration": 9120,
    "start_time": "2021-10-23T15:55:16.951Z"
   },
   {
    "duration": 40,
    "start_time": "2021-10-23T15:56:18.306Z"
   },
   {
    "duration": 15,
    "start_time": "2021-10-23T15:57:42.259Z"
   },
   {
    "duration": 93,
    "start_time": "2021-10-23T16:00:23.855Z"
   },
   {
    "duration": 866,
    "start_time": "2021-10-23T16:01:41.069Z"
   },
   {
    "duration": 13,
    "start_time": "2021-10-23T16:01:41.937Z"
   },
   {
    "duration": 54,
    "start_time": "2021-10-23T16:01:41.953Z"
   },
   {
    "duration": 6,
    "start_time": "2021-10-23T16:01:42.010Z"
   },
   {
    "duration": 81,
    "start_time": "2021-10-23T16:01:42.018Z"
   },
   {
    "duration": 22308,
    "start_time": "2021-10-23T16:01:42.101Z"
   },
   {
    "duration": 824,
    "start_time": "2021-10-23T16:02:37.312Z"
   },
   {
    "duration": 13,
    "start_time": "2021-10-23T16:02:38.141Z"
   },
   {
    "duration": 55,
    "start_time": "2021-10-23T16:02:38.158Z"
   },
   {
    "duration": 7,
    "start_time": "2021-10-23T16:02:38.216Z"
   },
   {
    "duration": 91,
    "start_time": "2021-10-23T16:02:38.226Z"
   },
   {
    "duration": 22250,
    "start_time": "2021-10-23T16:02:38.320Z"
   },
   {
    "duration": 31176,
    "start_time": "2021-10-23T16:03:00.573Z"
   },
   {
    "duration": 379,
    "start_time": "2021-10-23T16:03:31.751Z"
   },
   {
    "duration": 260,
    "start_time": "2021-10-23T16:03:31.873Z"
   },
   {
    "duration": 257,
    "start_time": "2021-10-23T16:03:31.877Z"
   },
   {
    "duration": 506,
    "start_time": "2021-10-23T16:04:50.742Z"
   },
   {
    "duration": 31737,
    "start_time": "2021-10-23T16:05:11.783Z"
   },
   {
    "duration": 30,
    "start_time": "2021-10-23T16:06:53.152Z"
   },
   {
    "duration": 30261,
    "start_time": "2021-10-23T16:08:21.939Z"
   },
   {
    "duration": 287,
    "start_time": "2021-10-23T16:10:06.049Z"
   },
   {
    "duration": 531,
    "start_time": "2021-10-23T16:10:18.825Z"
   },
   {
    "duration": 21,
    "start_time": "2021-10-23T16:10:29.609Z"
   },
   {
    "duration": 7094,
    "start_time": "2021-10-23T16:15:54.526Z"
   },
   {
    "duration": 7096,
    "start_time": "2021-10-23T16:16:16.668Z"
   },
   {
    "duration": 21,
    "start_time": "2021-10-23T16:16:55.727Z"
   },
   {
    "duration": 108,
    "start_time": "2021-10-23T16:27:41.163Z"
   },
   {
    "duration": 881,
    "start_time": "2021-10-23T16:28:05.555Z"
   },
   {
    "duration": 99,
    "start_time": "2021-10-23T16:28:06.438Z"
   },
   {
    "duration": 293,
    "start_time": "2021-10-23T16:28:06.247Z"
   },
   {
    "duration": 289,
    "start_time": "2021-10-23T16:28:06.252Z"
   },
   {
    "duration": 288,
    "start_time": "2021-10-23T16:28:06.254Z"
   },
   {
    "duration": 277,
    "start_time": "2021-10-23T16:28:06.267Z"
   },
   {
    "duration": 276,
    "start_time": "2021-10-23T16:28:06.269Z"
   },
   {
    "duration": 267,
    "start_time": "2021-10-23T16:28:06.280Z"
   },
   {
    "duration": 266,
    "start_time": "2021-10-23T16:28:06.282Z"
   },
   {
    "duration": 265,
    "start_time": "2021-10-23T16:28:06.284Z"
   },
   {
    "duration": 266,
    "start_time": "2021-10-23T16:28:06.285Z"
   },
   {
    "duration": 266,
    "start_time": "2021-10-23T16:28:06.286Z"
   },
   {
    "duration": 13,
    "start_time": "2021-10-23T16:31:15.653Z"
   },
   {
    "duration": 856,
    "start_time": "2021-10-23T16:33:27.913Z"
   },
   {
    "duration": 16,
    "start_time": "2021-10-23T16:33:28.775Z"
   },
   {
    "duration": 33,
    "start_time": "2021-10-23T16:33:28.795Z"
   },
   {
    "duration": 6,
    "start_time": "2021-10-23T16:33:28.831Z"
   },
   {
    "duration": 89,
    "start_time": "2021-10-23T16:33:28.839Z"
   },
   {
    "duration": 22397,
    "start_time": "2021-10-23T16:33:28.931Z"
   },
   {
    "duration": 30574,
    "start_time": "2021-10-23T16:33:51.331Z"
   },
   {
    "duration": 27,
    "start_time": "2021-10-23T16:34:21.907Z"
   },
   {
    "duration": 22,
    "start_time": "2021-10-23T16:34:21.937Z"
   },
   {
    "duration": 20,
    "start_time": "2021-10-23T16:34:21.982Z"
   },
   {
    "duration": 22,
    "start_time": "2021-10-23T16:34:22.005Z"
   },
   {
    "duration": 18,
    "start_time": "2021-10-23T16:34:22.082Z"
   },
   {
    "duration": 960,
    "start_time": "2021-10-24T09:14:41.688Z"
   },
   {
    "duration": 12,
    "start_time": "2021-10-24T09:14:42.650Z"
   },
   {
    "duration": 62,
    "start_time": "2021-10-24T09:14:42.665Z"
   },
   {
    "duration": 18,
    "start_time": "2021-10-24T09:14:42.729Z"
   },
   {
    "duration": 84,
    "start_time": "2021-10-24T09:14:42.749Z"
   },
   {
    "duration": 24907,
    "start_time": "2021-10-24T09:14:42.836Z"
   },
   {
    "duration": 32153,
    "start_time": "2021-10-24T09:15:07.746Z"
   },
   {
    "duration": 28,
    "start_time": "2021-10-24T09:15:39.901Z"
   },
   {
    "duration": 21,
    "start_time": "2021-10-24T09:15:39.933Z"
   },
   {
    "duration": 51,
    "start_time": "2021-10-24T09:15:39.957Z"
   },
   {
    "duration": 21,
    "start_time": "2021-10-24T09:15:40.011Z"
   },
   {
    "duration": 230,
    "start_time": "2021-10-24T17:43:10.584Z"
   },
   {
    "duration": 619,
    "start_time": "2021-10-24T17:43:18.007Z"
   },
   {
    "duration": 8,
    "start_time": "2021-10-24T17:43:18.628Z"
   },
   {
    "duration": 22,
    "start_time": "2021-10-24T17:43:18.638Z"
   },
   {
    "duration": 36,
    "start_time": "2021-10-24T17:43:18.661Z"
   },
   {
    "duration": 36,
    "start_time": "2021-10-24T17:43:18.699Z"
   },
   {
    "duration": 12321,
    "start_time": "2021-10-24T17:43:18.736Z"
   },
   {
    "duration": 17587,
    "start_time": "2021-10-24T17:43:31.059Z"
   },
   {
    "duration": 16,
    "start_time": "2021-10-24T17:43:48.648Z"
   },
   {
    "duration": 35,
    "start_time": "2021-10-24T17:43:48.666Z"
   },
   {
    "duration": 12,
    "start_time": "2021-10-24T17:43:48.703Z"
   },
   {
    "duration": 15,
    "start_time": "2021-10-24T17:43:48.717Z"
   },
   {
    "duration": 54,
    "start_time": "2021-10-24T17:45:07.317Z"
   },
   {
    "duration": 52,
    "start_time": "2021-10-24T17:45:15.823Z"
   },
   {
    "duration": 40,
    "start_time": "2021-10-24T17:46:13.505Z"
   },
   {
    "duration": 41,
    "start_time": "2021-10-24T17:46:44.789Z"
   },
   {
    "duration": 39,
    "start_time": "2021-10-24T17:51:28.820Z"
   },
   {
    "duration": 44,
    "start_time": "2021-10-24T17:57:56.162Z"
   },
   {
    "duration": 44,
    "start_time": "2021-10-24T17:57:59.242Z"
   },
   {
    "duration": 595,
    "start_time": "2021-10-24T18:04:34.637Z"
   },
   {
    "duration": 9,
    "start_time": "2021-10-24T18:04:35.234Z"
   },
   {
    "duration": 23,
    "start_time": "2021-10-24T18:04:35.245Z"
   },
   {
    "duration": 32,
    "start_time": "2021-10-24T18:04:35.270Z"
   },
   {
    "duration": 41,
    "start_time": "2021-10-24T18:04:35.303Z"
   },
   {
    "duration": 12063,
    "start_time": "2021-10-24T18:04:35.345Z"
   },
   {
    "duration": 17985,
    "start_time": "2021-10-24T18:04:47.410Z"
   },
   {
    "duration": 15,
    "start_time": "2021-10-24T18:05:05.397Z"
   },
   {
    "duration": 12,
    "start_time": "2021-10-24T18:05:05.414Z"
   },
   {
    "duration": 11,
    "start_time": "2021-10-24T18:05:05.428Z"
   },
   {
    "duration": 13,
    "start_time": "2021-10-24T18:05:05.440Z"
   },
   {
    "duration": 868,
    "start_time": "2021-10-25T07:03:55.006Z"
   },
   {
    "duration": 13,
    "start_time": "2021-10-25T07:03:55.876Z"
   },
   {
    "duration": 58,
    "start_time": "2021-10-25T07:03:55.892Z"
   },
   {
    "duration": 24,
    "start_time": "2021-10-25T07:03:55.954Z"
   },
   {
    "duration": 92,
    "start_time": "2021-10-25T07:03:55.983Z"
   },
   {
    "duration": 22458,
    "start_time": "2021-10-25T07:03:56.077Z"
   },
   {
    "duration": 31047,
    "start_time": "2021-10-25T07:04:18.537Z"
   },
   {
    "duration": 36,
    "start_time": "2021-10-25T07:04:49.587Z"
   },
   {
    "duration": 20,
    "start_time": "2021-10-25T07:04:49.626Z"
   },
   {
    "duration": 18,
    "start_time": "2021-10-25T07:04:49.648Z"
   },
   {
    "duration": 53,
    "start_time": "2021-10-25T07:04:49.669Z"
   },
   {
    "duration": 26,
    "start_time": "2021-10-25T07:05:01.562Z"
   },
   {
    "duration": 48,
    "start_time": "2021-10-25T07:05:13.539Z"
   }
  ],
  "kernelspec": {
   "display_name": "Python 3 (ipykernel)",
   "language": "python",
   "name": "python3"
  },
  "language_info": {
   "codemirror_mode": {
    "name": "ipython",
    "version": 3
   },
   "file_extension": ".py",
   "mimetype": "text/x-python",
   "name": "python",
   "nbconvert_exporter": "python",
   "pygments_lexer": "ipython3",
   "version": "3.9.7"
  },
  "toc": {
   "base_numbering": 1,
   "nav_menu": {},
   "number_sections": true,
   "sideBar": true,
   "skip_h1_title": true,
   "title_cell": "Table of Contents",
   "title_sidebar": "Contents",
   "toc_cell": false,
   "toc_position": {
    "height": "calc(100% - 180px)",
    "left": "10px",
    "top": "150px",
    "width": "240px"
   },
   "toc_section_display": true,
   "toc_window_display": true
  }
 },
 "nbformat": 4,
 "nbformat_minor": 2
}
