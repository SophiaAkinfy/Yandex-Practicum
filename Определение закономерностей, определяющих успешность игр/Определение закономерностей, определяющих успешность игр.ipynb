{
 "cells": [
  {
   "cell_type": "markdown",
   "metadata": {},
   "source": [
    "# Определение закономерностей, определяющих успешность игр"
   ]
  },
  {
   "cell_type": "markdown",
   "metadata": {},
   "source": [
    "**Задача:** Выявить определяющие успешность игры закономерности и поcтроить прогноз на следующий (2017й) год.\n",
    "\n",
    "**Исходные данные:** исторические данные о продажах игр, оценки пользователей и экспертов, жанры и платформы (например, Xbox или PlayStation) собранные из открытых источников. "
   ]
  },
  {
   "cell_type": "markdown",
   "metadata": {},
   "source": [
    "<a id='content'></a>\n",
    "## Оглавление \n",
    "[Предварительный анализ данных](#1)\n",
    "\n",
    "[Исследовательский анализ данных](#2)\n",
    " - [Количество релизов по годам](#2-1)\n",
    " - [Количество релизов по платформам](#2-2)\n",
    " - [Анализ платформ лидеров продаж](#2-3)\n",
    "\n",
    "[Портрет пользователя каждого региона](#3)\n",
    " - [Топ 5 платформ по регионам](#3-1)\n",
    " - [Топ 5 популярных жанров по регионам ](#3-2)\n",
    " - [Анализ связи рейтинга ESRB и продаж в регионах](#3-3)\n",
    " \n",
    "[Проверка гипотез](#4)\n",
    "\n",
    "[Вывод](#outcome)"
   ]
  },
  {
   "cell_type": "markdown",
   "metadata": {},
   "source": [
    "<a id='1'></a>\n",
    "## Предварительный анализ данных"
   ]
  },
  {
   "cell_type": "code",
   "execution_count": 1,
   "metadata": {},
   "outputs": [],
   "source": [
    "# импорт библиотек\n",
    "import pandas as pd\n",
    "import matplotlib.pyplot as plt\n",
    "import seaborn as sns\n",
    "from scipy.stats import spearmanr\n",
    "import copy\n",
    "from scipy import stats as st"
   ]
  },
  {
   "cell_type": "code",
   "execution_count": 2,
   "metadata": {
    "scrolled": true
   },
   "outputs": [
    {
     "data": {
      "text/html": [
       "<div>\n",
       "<style scoped>\n",
       "    .dataframe tbody tr th:only-of-type {\n",
       "        vertical-align: middle;\n",
       "    }\n",
       "\n",
       "    .dataframe tbody tr th {\n",
       "        vertical-align: top;\n",
       "    }\n",
       "\n",
       "    .dataframe thead th {\n",
       "        text-align: right;\n",
       "    }\n",
       "</style>\n",
       "<table border=\"1\" class=\"dataframe\">\n",
       "  <thead>\n",
       "    <tr style=\"text-align: right;\">\n",
       "      <th></th>\n",
       "      <th>Name</th>\n",
       "      <th>Platform</th>\n",
       "      <th>Year_of_Release</th>\n",
       "      <th>Genre</th>\n",
       "      <th>NA_sales</th>\n",
       "      <th>EU_sales</th>\n",
       "      <th>JP_sales</th>\n",
       "      <th>Other_sales</th>\n",
       "      <th>Critic_Score</th>\n",
       "      <th>User_Score</th>\n",
       "      <th>Rating</th>\n",
       "    </tr>\n",
       "  </thead>\n",
       "  <tbody>\n",
       "    <tr>\n",
       "      <td>0</td>\n",
       "      <td>Wii Sports</td>\n",
       "      <td>Wii</td>\n",
       "      <td>2006.0</td>\n",
       "      <td>Sports</td>\n",
       "      <td>41.36</td>\n",
       "      <td>28.96</td>\n",
       "      <td>3.77</td>\n",
       "      <td>8.45</td>\n",
       "      <td>76.0</td>\n",
       "      <td>8</td>\n",
       "      <td>E</td>\n",
       "    </tr>\n",
       "    <tr>\n",
       "      <td>1</td>\n",
       "      <td>Super Mario Bros.</td>\n",
       "      <td>NES</td>\n",
       "      <td>1985.0</td>\n",
       "      <td>Platform</td>\n",
       "      <td>29.08</td>\n",
       "      <td>3.58</td>\n",
       "      <td>6.81</td>\n",
       "      <td>0.77</td>\n",
       "      <td>NaN</td>\n",
       "      <td>NaN</td>\n",
       "      <td>NaN</td>\n",
       "    </tr>\n",
       "    <tr>\n",
       "      <td>2</td>\n",
       "      <td>Mario Kart Wii</td>\n",
       "      <td>Wii</td>\n",
       "      <td>2008.0</td>\n",
       "      <td>Racing</td>\n",
       "      <td>15.68</td>\n",
       "      <td>12.76</td>\n",
       "      <td>3.79</td>\n",
       "      <td>3.29</td>\n",
       "      <td>82.0</td>\n",
       "      <td>8.3</td>\n",
       "      <td>E</td>\n",
       "    </tr>\n",
       "    <tr>\n",
       "      <td>3</td>\n",
       "      <td>Wii Sports Resort</td>\n",
       "      <td>Wii</td>\n",
       "      <td>2009.0</td>\n",
       "      <td>Sports</td>\n",
       "      <td>15.61</td>\n",
       "      <td>10.93</td>\n",
       "      <td>3.28</td>\n",
       "      <td>2.95</td>\n",
       "      <td>80.0</td>\n",
       "      <td>8</td>\n",
       "      <td>E</td>\n",
       "    </tr>\n",
       "    <tr>\n",
       "      <td>4</td>\n",
       "      <td>Pokemon Red/Pokemon Blue</td>\n",
       "      <td>GB</td>\n",
       "      <td>1996.0</td>\n",
       "      <td>Role-Playing</td>\n",
       "      <td>11.27</td>\n",
       "      <td>8.89</td>\n",
       "      <td>10.22</td>\n",
       "      <td>1.00</td>\n",
       "      <td>NaN</td>\n",
       "      <td>NaN</td>\n",
       "      <td>NaN</td>\n",
       "    </tr>\n",
       "    <tr>\n",
       "      <td>...</td>\n",
       "      <td>...</td>\n",
       "      <td>...</td>\n",
       "      <td>...</td>\n",
       "      <td>...</td>\n",
       "      <td>...</td>\n",
       "      <td>...</td>\n",
       "      <td>...</td>\n",
       "      <td>...</td>\n",
       "      <td>...</td>\n",
       "      <td>...</td>\n",
       "      <td>...</td>\n",
       "    </tr>\n",
       "    <tr>\n",
       "      <td>16710</td>\n",
       "      <td>Samurai Warriors: Sanada Maru</td>\n",
       "      <td>PS3</td>\n",
       "      <td>2016.0</td>\n",
       "      <td>Action</td>\n",
       "      <td>0.00</td>\n",
       "      <td>0.00</td>\n",
       "      <td>0.01</td>\n",
       "      <td>0.00</td>\n",
       "      <td>NaN</td>\n",
       "      <td>NaN</td>\n",
       "      <td>NaN</td>\n",
       "    </tr>\n",
       "    <tr>\n",
       "      <td>16711</td>\n",
       "      <td>LMA Manager 2007</td>\n",
       "      <td>X360</td>\n",
       "      <td>2006.0</td>\n",
       "      <td>Sports</td>\n",
       "      <td>0.00</td>\n",
       "      <td>0.01</td>\n",
       "      <td>0.00</td>\n",
       "      <td>0.00</td>\n",
       "      <td>NaN</td>\n",
       "      <td>NaN</td>\n",
       "      <td>NaN</td>\n",
       "    </tr>\n",
       "    <tr>\n",
       "      <td>16712</td>\n",
       "      <td>Haitaka no Psychedelica</td>\n",
       "      <td>PSV</td>\n",
       "      <td>2016.0</td>\n",
       "      <td>Adventure</td>\n",
       "      <td>0.00</td>\n",
       "      <td>0.00</td>\n",
       "      <td>0.01</td>\n",
       "      <td>0.00</td>\n",
       "      <td>NaN</td>\n",
       "      <td>NaN</td>\n",
       "      <td>NaN</td>\n",
       "    </tr>\n",
       "    <tr>\n",
       "      <td>16713</td>\n",
       "      <td>Spirits &amp; Spells</td>\n",
       "      <td>GBA</td>\n",
       "      <td>2003.0</td>\n",
       "      <td>Platform</td>\n",
       "      <td>0.01</td>\n",
       "      <td>0.00</td>\n",
       "      <td>0.00</td>\n",
       "      <td>0.00</td>\n",
       "      <td>NaN</td>\n",
       "      <td>NaN</td>\n",
       "      <td>NaN</td>\n",
       "    </tr>\n",
       "    <tr>\n",
       "      <td>16714</td>\n",
       "      <td>Winning Post 8 2016</td>\n",
       "      <td>PSV</td>\n",
       "      <td>2016.0</td>\n",
       "      <td>Simulation</td>\n",
       "      <td>0.00</td>\n",
       "      <td>0.00</td>\n",
       "      <td>0.01</td>\n",
       "      <td>0.00</td>\n",
       "      <td>NaN</td>\n",
       "      <td>NaN</td>\n",
       "      <td>NaN</td>\n",
       "    </tr>\n",
       "  </tbody>\n",
       "</table>\n",
       "<p>16715 rows × 11 columns</p>\n",
       "</div>"
      ],
      "text/plain": [
       "                                Name Platform  Year_of_Release         Genre  \\\n",
       "0                         Wii Sports      Wii           2006.0        Sports   \n",
       "1                  Super Mario Bros.      NES           1985.0      Platform   \n",
       "2                     Mario Kart Wii      Wii           2008.0        Racing   \n",
       "3                  Wii Sports Resort      Wii           2009.0        Sports   \n",
       "4           Pokemon Red/Pokemon Blue       GB           1996.0  Role-Playing   \n",
       "...                              ...      ...              ...           ...   \n",
       "16710  Samurai Warriors: Sanada Maru      PS3           2016.0        Action   \n",
       "16711               LMA Manager 2007     X360           2006.0        Sports   \n",
       "16712        Haitaka no Psychedelica      PSV           2016.0     Adventure   \n",
       "16713               Spirits & Spells      GBA           2003.0      Platform   \n",
       "16714            Winning Post 8 2016      PSV           2016.0    Simulation   \n",
       "\n",
       "       NA_sales  EU_sales  JP_sales  Other_sales  Critic_Score User_Score  \\\n",
       "0         41.36     28.96      3.77         8.45          76.0          8   \n",
       "1         29.08      3.58      6.81         0.77           NaN        NaN   \n",
       "2         15.68     12.76      3.79         3.29          82.0        8.3   \n",
       "3         15.61     10.93      3.28         2.95          80.0          8   \n",
       "4         11.27      8.89     10.22         1.00           NaN        NaN   \n",
       "...         ...       ...       ...          ...           ...        ...   \n",
       "16710      0.00      0.00      0.01         0.00           NaN        NaN   \n",
       "16711      0.00      0.01      0.00         0.00           NaN        NaN   \n",
       "16712      0.00      0.00      0.01         0.00           NaN        NaN   \n",
       "16713      0.01      0.00      0.00         0.00           NaN        NaN   \n",
       "16714      0.00      0.00      0.01         0.00           NaN        NaN   \n",
       "\n",
       "      Rating  \n",
       "0          E  \n",
       "1        NaN  \n",
       "2          E  \n",
       "3          E  \n",
       "4        NaN  \n",
       "...      ...  \n",
       "16710    NaN  \n",
       "16711    NaN  \n",
       "16712    NaN  \n",
       "16713    NaN  \n",
       "16714    NaN  \n",
       "\n",
       "[16715 rows x 11 columns]"
      ]
     },
     "execution_count": 2,
     "metadata": {},
     "output_type": "execute_result"
    }
   ],
   "source": [
    "# импорт данных\n",
    "data = pd.read_csv('/datasets/games.csv')\n",
    "data"
   ]
  },
  {
   "cell_type": "markdown",
   "metadata": {},
   "source": [
    "Описание данных:<br>\n",
    "Имеются данные до 2016 года. Данные за 2016 год могут быть неполными.<br>\n",
    "Name — название игры<br>\n",
    "Platform — платформа<br>\n",
    "Year_of_Release — год выпуска<br>\n",
    "Genre — жанр игры<br>\n",
    "NA_sales — продажи в Северной Америке (миллионы проданных копий)<br>\n",
    "EU_sales — продажи в Европе (миллионы проданных копий)<br>\n",
    "JP_sales — продажи в Японии (миллионы проданных копий)<br>\n",
    "Other_sales — продажи в других странах (миллионы проданных копий)<br>\n",
    "Critic_Score — оценка критиков (максимум 100)<br>\n",
    "User_Score — оценка пользователей (максимум 10)<br>\n",
    "Rating — рейтинг от организации ESRB (англ. Entertainment Software Rating Board). Эта ассоциация определяет рейтинг компьютерных игр и присваивает им подходящую возрастную категорию."
   ]
  },
  {
   "cell_type": "code",
   "execution_count": 3,
   "metadata": {
    "scrolled": true
   },
   "outputs": [
    {
     "name": "stdout",
     "output_type": "stream",
     "text": [
      "<class 'pandas.core.frame.DataFrame'>\n",
      "RangeIndex: 16715 entries, 0 to 16714\n",
      "Data columns (total 11 columns):\n",
      "Name               16713 non-null object\n",
      "Platform           16715 non-null object\n",
      "Year_of_Release    16446 non-null float64\n",
      "Genre              16713 non-null object\n",
      "NA_sales           16715 non-null float64\n",
      "EU_sales           16715 non-null float64\n",
      "JP_sales           16715 non-null float64\n",
      "Other_sales        16715 non-null float64\n",
      "Critic_Score       8137 non-null float64\n",
      "User_Score         10014 non-null object\n",
      "Rating             9949 non-null object\n",
      "dtypes: float64(6), object(5)\n",
      "memory usage: 1.4+ MB\n"
     ]
    }
   ],
   "source": [
    "# проверка типа данных и наличия пропущенных значений\n",
    "data.info()"
   ]
  },
  {
   "cell_type": "markdown",
   "metadata": {},
   "source": [
    "Пропущенные значения в столбцах: name, year_of_release, genre, critic_score, user_score, rating. Заполнять пропущенные значения не будем, т к у нас нет достаточной информации для восстановления. Возможно, пропуски появились из-за технической ошибки. Можно попробовать поговорить с коллегами, предоставившими данные\n",
    "\n",
    "Поскольку у нас нет информации, по которой мы могли бы востановить рейтинг, наверное лучше выделить пропуски в отдельную группу\n",
    "\n",
    "В столбце user_score тип данных подразумевается float, сейчас object\n",
    "\n",
    "Названия столбцов нужно привести к одному регистру"
   ]
  },
  {
   "cell_type": "code",
   "execution_count": 4,
   "metadata": {},
   "outputs": [
    {
     "data": {
      "text/plain": [
       "0         E\n",
       "1        WR\n",
       "2         E\n",
       "3         E\n",
       "4        WR\n",
       "         ..\n",
       "16710    WR\n",
       "16711    WR\n",
       "16712    WR\n",
       "16713    WR\n",
       "16714    WR\n",
       "Name: Rating, Length: 16715, dtype: object"
      ]
     },
     "execution_count": 4,
     "metadata": {},
     "output_type": "execute_result"
    }
   ],
   "source": [
    "# заполнение пропущенных значений в столце rating на 'WR' (without rating)\n",
    "data['Rating'] = data['Rating'].fillna('WR')"
   ]
  },
  {
   "cell_type": "code",
   "execution_count": 5,
   "metadata": {},
   "outputs": [],
   "source": [
    "# приведение названий столбцов к одному регистру\n",
    "data.columns = data.columns.str.lower()"
   ]
  },
  {
   "cell_type": "code",
   "execution_count": 6,
   "metadata": {},
   "outputs": [
    {
     "data": {
      "text/plain": [
       "0"
      ]
     },
     "execution_count": 6,
     "metadata": {},
     "output_type": "execute_result"
    }
   ],
   "source": [
    "# проверка на дубликаты\n",
    "data.duplicated().sum()"
   ]
  },
  {
   "cell_type": "markdown",
   "metadata": {},
   "source": [
    "дубликатов нет"
   ]
  },
  {
   "cell_type": "code",
   "execution_count": 7,
   "metadata": {},
   "outputs": [
    {
     "data": {
      "text/plain": [
       "array(['8', nan, '8.3', '8.5', '6.6', '8.4', '8.6', '7.7', '6.3', '7.4',\n",
       "       '8.2', '9', '7.9', '8.1', '8.7', '7.1', '3.4', '5.3', '4.8', '3.2',\n",
       "       '8.9', '6.4', '7.8', '7.5', '2.6', '7.2', '9.2', '7', '7.3', '4.3',\n",
       "       '7.6', '5.7', '5', '9.1', '6.5', 'tbd', '8.8', '6.9', '9.4', '6.8',\n",
       "       '6.1', '6.7', '5.4', '4', '4.9', '4.5', '9.3', '6.2', '4.2', '6',\n",
       "       '3.7', '4.1', '5.8', '5.6', '5.5', '4.4', '4.6', '5.9', '3.9',\n",
       "       '3.1', '2.9', '5.2', '3.3', '4.7', '5.1', '3.5', '2.5', '1.9', '3',\n",
       "       '2.7', '2.2', '2', '9.5', '2.1', '3.6', '2.8', '1.8', '3.8', '0',\n",
       "       '1.6', '9.6', '2.4', '1.7', '1.1', '0.3', '1.5', '0.7', '1.2',\n",
       "       '2.3', '0.5', '1.3', '0.2', '0.6', '1.4', '0.9', '1', '9.7'],\n",
       "      dtype=object)"
      ]
     },
     "execution_count": 7,
     "metadata": {},
     "output_type": "execute_result"
    }
   ],
   "source": [
    "# изучение столбца user_score. Использование метода .to_numeric привело в ошибке\n",
    "data['user_score'].unique()"
   ]
  },
  {
   "cell_type": "markdown",
   "metadata": {},
   "source": [
    "Есть пропущенные значения nan, есть значения 'tbd'. Абривиатура tbd при оценке рейтинга расшифровывается как To Be Decided. \n",
    "\n",
    "Изучим количество рейтинга tbd в разные года"
   ]
  },
  {
   "cell_type": "code",
   "execution_count": 8,
   "metadata": {},
   "outputs": [
    {
     "data": {
      "text/plain": [
       "year_of_release\n",
       "1997.0      1\n",
       "1999.0      8\n",
       "2000.0     43\n",
       "2001.0     82\n",
       "2002.0    192\n",
       "2003.0     95\n",
       "2004.0    107\n",
       "2005.0    121\n",
       "2006.0    124\n",
       "2007.0    192\n",
       "2008.0    326\n",
       "2009.0    405\n",
       "2010.0    331\n",
       "2011.0    217\n",
       "2012.0     24\n",
       "2013.0     15\n",
       "2014.0     21\n",
       "2015.0     38\n",
       "2016.0     34\n",
       "Name: user_score, dtype: int64"
      ]
     },
     "execution_count": 8,
     "metadata": {},
     "output_type": "execute_result"
    }
   ],
   "source": [
    "data[data['user_score'] == 'tbd'].groupby('year_of_release').count()['user_score']"
   ]
  },
  {
   "cell_type": "markdown",
   "metadata": {},
   "source": [
    "Оценка tbd присутствует практически во все года. Возможно, user_score для этих игр или в результате так и не был определен, или в таблице можно восстановить tbd в user-score из других источников. Стоит поговорить с коллегами, которые выдали данные\n",
    "\n",
    "Для дальнейшего исследования приведем значения столбца user_score к типу float"
   ]
  },
  {
   "cell_type": "code",
   "execution_count": 9,
   "metadata": {},
   "outputs": [],
   "source": [
    "data['user_score'] = pd.to_numeric(data['user_score'], errors='coerce')"
   ]
  },
  {
   "cell_type": "code",
   "execution_count": 10,
   "metadata": {
    "scrolled": true
   },
   "outputs": [
    {
     "data": {
      "text/html": [
       "<div>\n",
       "<style scoped>\n",
       "    .dataframe tbody tr th:only-of-type {\n",
       "        vertical-align: middle;\n",
       "    }\n",
       "\n",
       "    .dataframe tbody tr th {\n",
       "        vertical-align: top;\n",
       "    }\n",
       "\n",
       "    .dataframe thead th {\n",
       "        text-align: right;\n",
       "    }\n",
       "</style>\n",
       "<table border=\"1\" class=\"dataframe\">\n",
       "  <thead>\n",
       "    <tr style=\"text-align: right;\">\n",
       "      <th></th>\n",
       "      <th>name</th>\n",
       "      <th>platform</th>\n",
       "      <th>year_of_release</th>\n",
       "      <th>genre</th>\n",
       "      <th>na_sales</th>\n",
       "      <th>eu_sales</th>\n",
       "      <th>jp_sales</th>\n",
       "      <th>other_sales</th>\n",
       "      <th>critic_score</th>\n",
       "      <th>user_score</th>\n",
       "      <th>rating</th>\n",
       "      <th>total_sales</th>\n",
       "    </tr>\n",
       "  </thead>\n",
       "  <tbody>\n",
       "    <tr>\n",
       "      <td>0</td>\n",
       "      <td>Wii Sports</td>\n",
       "      <td>Wii</td>\n",
       "      <td>2006.0</td>\n",
       "      <td>Sports</td>\n",
       "      <td>41.36</td>\n",
       "      <td>28.96</td>\n",
       "      <td>3.77</td>\n",
       "      <td>8.45</td>\n",
       "      <td>76.0</td>\n",
       "      <td>8.0</td>\n",
       "      <td>E</td>\n",
       "      <td>82.54</td>\n",
       "    </tr>\n",
       "    <tr>\n",
       "      <td>1</td>\n",
       "      <td>Super Mario Bros.</td>\n",
       "      <td>NES</td>\n",
       "      <td>1985.0</td>\n",
       "      <td>Platform</td>\n",
       "      <td>29.08</td>\n",
       "      <td>3.58</td>\n",
       "      <td>6.81</td>\n",
       "      <td>0.77</td>\n",
       "      <td>NaN</td>\n",
       "      <td>NaN</td>\n",
       "      <td>NaN</td>\n",
       "      <td>40.24</td>\n",
       "    </tr>\n",
       "    <tr>\n",
       "      <td>2</td>\n",
       "      <td>Mario Kart Wii</td>\n",
       "      <td>Wii</td>\n",
       "      <td>2008.0</td>\n",
       "      <td>Racing</td>\n",
       "      <td>15.68</td>\n",
       "      <td>12.76</td>\n",
       "      <td>3.79</td>\n",
       "      <td>3.29</td>\n",
       "      <td>82.0</td>\n",
       "      <td>8.3</td>\n",
       "      <td>E</td>\n",
       "      <td>35.52</td>\n",
       "    </tr>\n",
       "    <tr>\n",
       "      <td>3</td>\n",
       "      <td>Wii Sports Resort</td>\n",
       "      <td>Wii</td>\n",
       "      <td>2009.0</td>\n",
       "      <td>Sports</td>\n",
       "      <td>15.61</td>\n",
       "      <td>10.93</td>\n",
       "      <td>3.28</td>\n",
       "      <td>2.95</td>\n",
       "      <td>80.0</td>\n",
       "      <td>8.0</td>\n",
       "      <td>E</td>\n",
       "      <td>32.77</td>\n",
       "    </tr>\n",
       "    <tr>\n",
       "      <td>4</td>\n",
       "      <td>Pokemon Red/Pokemon Blue</td>\n",
       "      <td>GB</td>\n",
       "      <td>1996.0</td>\n",
       "      <td>Role-Playing</td>\n",
       "      <td>11.27</td>\n",
       "      <td>8.89</td>\n",
       "      <td>10.22</td>\n",
       "      <td>1.00</td>\n",
       "      <td>NaN</td>\n",
       "      <td>NaN</td>\n",
       "      <td>NaN</td>\n",
       "      <td>31.38</td>\n",
       "    </tr>\n",
       "    <tr>\n",
       "      <td>...</td>\n",
       "      <td>...</td>\n",
       "      <td>...</td>\n",
       "      <td>...</td>\n",
       "      <td>...</td>\n",
       "      <td>...</td>\n",
       "      <td>...</td>\n",
       "      <td>...</td>\n",
       "      <td>...</td>\n",
       "      <td>...</td>\n",
       "      <td>...</td>\n",
       "      <td>...</td>\n",
       "      <td>...</td>\n",
       "    </tr>\n",
       "    <tr>\n",
       "      <td>16710</td>\n",
       "      <td>Samurai Warriors: Sanada Maru</td>\n",
       "      <td>PS3</td>\n",
       "      <td>2016.0</td>\n",
       "      <td>Action</td>\n",
       "      <td>0.00</td>\n",
       "      <td>0.00</td>\n",
       "      <td>0.01</td>\n",
       "      <td>0.00</td>\n",
       "      <td>NaN</td>\n",
       "      <td>NaN</td>\n",
       "      <td>NaN</td>\n",
       "      <td>0.01</td>\n",
       "    </tr>\n",
       "    <tr>\n",
       "      <td>16711</td>\n",
       "      <td>LMA Manager 2007</td>\n",
       "      <td>X360</td>\n",
       "      <td>2006.0</td>\n",
       "      <td>Sports</td>\n",
       "      <td>0.00</td>\n",
       "      <td>0.01</td>\n",
       "      <td>0.00</td>\n",
       "      <td>0.00</td>\n",
       "      <td>NaN</td>\n",
       "      <td>NaN</td>\n",
       "      <td>NaN</td>\n",
       "      <td>0.01</td>\n",
       "    </tr>\n",
       "    <tr>\n",
       "      <td>16712</td>\n",
       "      <td>Haitaka no Psychedelica</td>\n",
       "      <td>PSV</td>\n",
       "      <td>2016.0</td>\n",
       "      <td>Adventure</td>\n",
       "      <td>0.00</td>\n",
       "      <td>0.00</td>\n",
       "      <td>0.01</td>\n",
       "      <td>0.00</td>\n",
       "      <td>NaN</td>\n",
       "      <td>NaN</td>\n",
       "      <td>NaN</td>\n",
       "      <td>0.01</td>\n",
       "    </tr>\n",
       "    <tr>\n",
       "      <td>16713</td>\n",
       "      <td>Spirits &amp; Spells</td>\n",
       "      <td>GBA</td>\n",
       "      <td>2003.0</td>\n",
       "      <td>Platform</td>\n",
       "      <td>0.01</td>\n",
       "      <td>0.00</td>\n",
       "      <td>0.00</td>\n",
       "      <td>0.00</td>\n",
       "      <td>NaN</td>\n",
       "      <td>NaN</td>\n",
       "      <td>NaN</td>\n",
       "      <td>0.01</td>\n",
       "    </tr>\n",
       "    <tr>\n",
       "      <td>16714</td>\n",
       "      <td>Winning Post 8 2016</td>\n",
       "      <td>PSV</td>\n",
       "      <td>2016.0</td>\n",
       "      <td>Simulation</td>\n",
       "      <td>0.00</td>\n",
       "      <td>0.00</td>\n",
       "      <td>0.01</td>\n",
       "      <td>0.00</td>\n",
       "      <td>NaN</td>\n",
       "      <td>NaN</td>\n",
       "      <td>NaN</td>\n",
       "      <td>0.01</td>\n",
       "    </tr>\n",
       "  </tbody>\n",
       "</table>\n",
       "<p>16715 rows × 12 columns</p>\n",
       "</div>"
      ],
      "text/plain": [
       "                                name platform  year_of_release         genre  \\\n",
       "0                         Wii Sports      Wii           2006.0        Sports   \n",
       "1                  Super Mario Bros.      NES           1985.0      Platform   \n",
       "2                     Mario Kart Wii      Wii           2008.0        Racing   \n",
       "3                  Wii Sports Resort      Wii           2009.0        Sports   \n",
       "4           Pokemon Red/Pokemon Blue       GB           1996.0  Role-Playing   \n",
       "...                              ...      ...              ...           ...   \n",
       "16710  Samurai Warriors: Sanada Maru      PS3           2016.0        Action   \n",
       "16711               LMA Manager 2007     X360           2006.0        Sports   \n",
       "16712        Haitaka no Psychedelica      PSV           2016.0     Adventure   \n",
       "16713               Spirits & Spells      GBA           2003.0      Platform   \n",
       "16714            Winning Post 8 2016      PSV           2016.0    Simulation   \n",
       "\n",
       "       na_sales  eu_sales  jp_sales  other_sales  critic_score  user_score  \\\n",
       "0         41.36     28.96      3.77         8.45          76.0         8.0   \n",
       "1         29.08      3.58      6.81         0.77           NaN         NaN   \n",
       "2         15.68     12.76      3.79         3.29          82.0         8.3   \n",
       "3         15.61     10.93      3.28         2.95          80.0         8.0   \n",
       "4         11.27      8.89     10.22         1.00           NaN         NaN   \n",
       "...         ...       ...       ...          ...           ...         ...   \n",
       "16710      0.00      0.00      0.01         0.00           NaN         NaN   \n",
       "16711      0.00      0.01      0.00         0.00           NaN         NaN   \n",
       "16712      0.00      0.00      0.01         0.00           NaN         NaN   \n",
       "16713      0.01      0.00      0.00         0.00           NaN         NaN   \n",
       "16714      0.00      0.00      0.01         0.00           NaN         NaN   \n",
       "\n",
       "      rating  total_sales  \n",
       "0          E        82.54  \n",
       "1        NaN        40.24  \n",
       "2          E        35.52  \n",
       "3          E        32.77  \n",
       "4        NaN        31.38  \n",
       "...      ...          ...  \n",
       "16710    NaN         0.01  \n",
       "16711    NaN         0.01  \n",
       "16712    NaN         0.01  \n",
       "16713    NaN         0.01  \n",
       "16714    NaN         0.01  \n",
       "\n",
       "[16715 rows x 12 columns]"
      ]
     },
     "execution_count": 10,
     "metadata": {},
     "output_type": "execute_result"
    }
   ],
   "source": [
    "# суммарные продажи в регионах\n",
    "data['total_sales'] = data['na_sales'] + data['eu_sales'] + data['jp_sales'] + data['other_sales']\n",
    "data"
   ]
  },
  {
   "cell_type": "markdown",
   "metadata": {},
   "source": [
    "[К оглавлению](#content)"
   ]
  },
  {
   "cell_type": "markdown",
   "metadata": {},
   "source": [
    "<a id='2'></a>\n",
    "## Исследовательский анализ данных"
   ]
  },
  {
   "cell_type": "markdown",
   "metadata": {},
   "source": [
    "[К оглавлению](#content)"
   ]
  },
  {
   "cell_type": "markdown",
   "metadata": {},
   "source": [
    "<a id='2-1'></a>\n",
    "### Количество релизов по годам"
   ]
  },
  {
   "cell_type": "code",
   "execution_count": 11,
   "metadata": {},
   "outputs": [
    {
     "data": {
      "text/plain": [
       "year_of_release\n",
       "1980.0       9\n",
       "1981.0      46\n",
       "1982.0      36\n",
       "1983.0      17\n",
       "1984.0      14\n",
       "1985.0      14\n",
       "1986.0      21\n",
       "1987.0      16\n",
       "1988.0      15\n",
       "1989.0      17\n",
       "1990.0      16\n",
       "1991.0      41\n",
       "1992.0      43\n",
       "1993.0      62\n",
       "1994.0     121\n",
       "1995.0     219\n",
       "1996.0     263\n",
       "1997.0     289\n",
       "1998.0     379\n",
       "1999.0     338\n",
       "2000.0     350\n",
       "2001.0     482\n",
       "2002.0     829\n",
       "2003.0     775\n",
       "2004.0     762\n",
       "2005.0     939\n",
       "2006.0    1006\n",
       "2007.0    1197\n",
       "2008.0    1427\n",
       "2009.0    1426\n",
       "2010.0    1255\n",
       "2011.0    1136\n",
       "2012.0     653\n",
       "2013.0     544\n",
       "2014.0     581\n",
       "2015.0     606\n",
       "2016.0     502\n",
       "Name: year_of_release, dtype: int64"
      ]
     },
     "execution_count": 11,
     "metadata": {},
     "output_type": "execute_result"
    }
   ],
   "source": [
    "# сколько игр выпускалось в разные годы\n",
    "data.groupby('year_of_release')['year_of_release'].count()"
   ]
  },
  {
   "cell_type": "code",
   "execution_count": 12,
   "metadata": {},
   "outputs": [
    {
     "data": {
      "text/plain": [
       "Text(0.5, 1.0, 'Amount of games by years')"
      ]
     },
     "execution_count": 12,
     "metadata": {},
     "output_type": "execute_result"
    },
    {
     "data": {
      "image/png": "[encoded data removed]",
      "text/plain": [
       "<Figure size 432x288 with 1 Axes>"
      ]
     },
     "metadata": {
      "needs_background": "light"
     },
     "output_type": "display_data"
    }
   ],
   "source": [
    "# сколько игр выпускалось в разные годы\n",
    "fig, ax = plt.subplots() \n",
    "ax.plot(data.groupby('year_of_release')['year_of_release'].count().index, \n",
    "        data.groupby('year_of_release')['year_of_release'].count())\n",
    "ax.set_xlabel('year of release')\n",
    "ax.set_ylabel('amount of games')\n",
    "ax.set_title(\"Amount of games by years\")"
   ]
  },
  {
   "cell_type": "markdown",
   "metadata": {},
   "source": [
    "До 1994 года тренд боковой: выпускалось относительно мало и примерно одинаковое количество игр в год. После 1994 количество выпускаемых игр в год начинает расти и достигает максимума в 2008-2009 годах. Далее наблюдается отрицательный тренд"
   ]
  },
  {
   "cell_type": "markdown",
   "metadata": {},
   "source": [
    "[К оглавлению](#content)"
   ]
  },
  {
   "cell_type": "markdown",
   "metadata": {},
   "source": [
    "<a id='2-2'></a>\n",
    "### Количество релизов по платформам"
   ]
  },
  {
   "cell_type": "code",
   "execution_count": 13,
   "metadata": {},
   "outputs": [
    {
     "data": {
      "text/plain": [
       "platform\n",
       "PS2     2161\n",
       "DS      2151\n",
       "PS3     1331\n",
       "Wii     1320\n",
       "X360    1262\n",
       "PSP     1209\n",
       "PS      1197\n",
       "PC       974\n",
       "XB       824\n",
       "GBA      822\n",
       "Name: platform, dtype: int64"
      ]
     },
     "execution_count": 13,
     "metadata": {},
     "output_type": "execute_result"
    }
   ],
   "source": [
    "# количество релизов по платформам\n",
    "popular_platform_amount = data.groupby('platform')['platform'].count().sort_values(ascending = False).head(10)\n",
    "popular_platform_amount"
   ]
  },
  {
   "cell_type": "code",
   "execution_count": 14,
   "metadata": {
    "scrolled": false
   },
   "outputs": [
    {
     "data": {
      "image/png": "[encoded data removed]",
      "text/plain": [
       "<Figure size 432x288 with 1 Axes>"
      ]
     },
     "metadata": {
      "needs_background": "light"
     },
     "output_type": "display_data"
    },
    {
     "data": {
      "image/png": "[encoded data removed]",
      "text/plain": [
       "<Figure size 432x288 with 1 Axes>"
      ]
     },
     "metadata": {
      "needs_background": "light"
     },
     "output_type": "display_data"
    },
    {
     "data": {
      "image/png": "[encoded data removed]",
      "text/plain": [
       "<Figure size 432x288 with 1 Axes>"
      ]
     },
     "metadata": {
      "needs_background": "light"
     },
     "output_type": "display_data"
    },
    {
     "data": {
      "image/png": "[encoded data removed]",
      "text/plain": [
       "<Figure size 432x288 with 1 Axes>"
      ]
     },
     "metadata": {
      "needs_background": "light"
     },
     "output_type": "display_data"
    },
    {
     "data": {
      "image/png": "[encoded data removed]",
      "text/plain": [
       "<Figure size 432x288 with 1 Axes>"
      ]
     },
     "metadata": {
      "needs_background": "light"
     },
     "output_type": "display_data"
    },
    {
     "data": {
      "image/png": "[encoded data removed]",
      "text/plain": [
       "<Figure size 432x288 with 1 Axes>"
      ]
     },
     "metadata": {
      "needs_background": "light"
     },
     "output_type": "display_data"
    },
    {
     "data": {
      "image/png": "[encoded data removed]",
      "text/plain": [
       "<Figure size 432x288 with 1 Axes>"
      ]
     },
     "metadata": {
      "needs_background": "light"
     },
     "output_type": "display_data"
    },
    {
     "data": {
      "image/png": "[encoded data removed]",
      "text/plain": [
       "<Figure size 432x288 with 1 Axes>"
      ]
     },
     "metadata": {
      "needs_background": "light"
     },
     "output_type": "display_data"
    },
    {
     "data": {
      "image/png": "[encoded data removed]",
      "text/plain": [
       "<Figure size 432x288 with 1 Axes>"
      ]
     },
     "metadata": {
      "needs_background": "light"
     },
     "output_type": "display_data"
    },
    {
     "data": {
      "image/png": "[encoded data removed]",
      "text/plain": [
       "<Figure size 432x288 with 1 Axes>"
      ]
     },
     "metadata": {
      "needs_background": "light"
     },
     "output_type": "display_data"
    }
   ],
   "source": [
    "# функция построения гистограммы распределения по годам релизов популярных платформ\n",
    "def platform_plot_hist(platform_name):\n",
    "    data[data['platform'] == platform_name].plot(y='year_of_release', kind='hist', title=platform_name).set_xlabel('year of release')\n",
    "\n",
    "# распределение по годам релизов 10 популярных платформ\n",
    "for i in range(0, 10):\n",
    "    platform_plot_hist(popular_platform_amount.index[i])"
   ]
  },
  {
   "cell_type": "markdown",
   "metadata": {},
   "source": [
    "Характерный срок жизни платформы около 9-11 лет. Исходя из этого, чтобы анализировать актуальные платформы, далее будут проанализированы данные за последние 5 лет (начиная с 2011 года). Введем для этого переменную cut_of_year и сформируем новую базу данных, которая будет содержать в себе данные после 2010 года"
   ]
  },
  {
   "cell_type": "code",
   "execution_count": 15,
   "metadata": {},
   "outputs": [],
   "source": [
    "cut_of_year = 2010\n",
    "data_cut_of_year = copy.deepcopy(data[data['year_of_release'] > cut_of_year])"
   ]
  },
  {
   "cell_type": "markdown",
   "metadata": {},
   "source": [
    "[К оглавлению](#content)"
   ]
  },
  {
   "cell_type": "markdown",
   "metadata": {},
   "source": [
    "<a id='2-3'></a>\n",
    "### Анализ платформ лидеров продаж"
   ]
  },
  {
   "cell_type": "code",
   "execution_count": 16,
   "metadata": {},
   "outputs": [
    {
     "data": {
      "text/plain": [
       "platform\n",
       "PS3     445.57\n",
       "X360    380.38\n",
       "PS4     314.14\n",
       "3DS     257.81\n",
       "XOne    159.32\n",
       "PC       97.68\n",
       "Wii      95.02\n",
       "WiiU     82.19\n",
       "PSV      53.81\n",
       "DS       38.73\n",
       "Name: total_sales, dtype: float64"
      ]
     },
     "execution_count": 16,
     "metadata": {},
     "output_type": "execute_result"
    }
   ],
   "source": [
    "# какие платформы лидируют по продажам за последние 5 лет\n",
    "popular_platform_sales = data_cut_of_year.groupby('platform')['total_sales'].sum().sort_values(ascending = False).head(10)\n",
    "popular_platform_sales"
   ]
  },
  {
   "cell_type": "code",
   "execution_count": 17,
   "metadata": {
    "scrolled": false
   },
   "outputs": [
    {
     "data": {
      "image/png": "[encoded data removed]",
      "text/plain": [
       "<Figure size 1440x720 with 1 Axes>"
      ]
     },
     "metadata": {
      "needs_background": "light"
     },
     "output_type": "display_data"
    }
   ],
   "source": [
    "# функция построения динамики продаж по годам\n",
    "def platform_sales_dynamics(platform, ax):\n",
    "    x = data_cut_of_year[data_cut_of_year['platform'] == platform].groupby('year_of_release')['total_sales'].sum().index\n",
    "    y = data_cut_of_year[data_cut_of_year['platform'] == platform].groupby('year_of_release')['total_sales'].sum()\n",
    "    ax.plot(x, y, label = platform)\n",
    "    ax.legend()\n",
    "    ax.set_ylabel('amount of sales')\n",
    "    ax.set_xlabel('year of release')\n",
    "\n",
    "# построение графика динамики продаж по платформам\n",
    "fig, ax = plt.subplots()\n",
    "ax.set_title('Amount of sales by platform per year')\n",
    "fig.set_figwidth(20)\n",
    "fig.set_figheight(10)\n",
    "\n",
    "for i in range(len(popular_platform_sales)):\n",
    "    platform_sales_dynamics(popular_platform_sales.index[i], ax)"
   ]
  },
  {
   "cell_type": "markdown",
   "metadata": {},
   "source": [
    "Поскольку данные за 2016 год не полные, проанализируем продажи до 2015 года включительно. Платформы с наибольшим количеством продаж на 2015 год с восходящим трендом - PS4 и XOne. На третьем месте платформа 3DS, однако у нее нисходящий тренд, начиная с 2013 года"
   ]
  },
  {
   "cell_type": "code",
   "execution_count": 18,
   "metadata": {
    "scrolled": false
   },
   "outputs": [
    {
     "name": "stdout",
     "output_type": "stream",
     "text": [
      "PS3        total_sales\n",
      "count     6.000000\n",
      "mean     74.261667\n",
      "std      60.695667\n",
      "min       3.600000\n",
      "25%      24.555000\n",
      "50%      77.560000\n",
      "75%     111.777500\n",
      "max     156.780000\n",
      "X360        total_sales\n",
      "count     6.000000\n",
      "mean     63.396667\n",
      "std      56.074638\n",
      "min       1.520000\n",
      "25%      17.655000\n",
      "50%      61.660000\n",
      "75%      96.950000\n",
      "max     143.840000\n",
      "PS4        total_sales\n",
      "count     4.000000\n",
      "mean     78.535000\n",
      "std      40.567917\n",
      "min      25.990000\n",
      "25%      58.435000\n",
      "50%      84.625000\n",
      "75%     104.725000\n",
      "max     118.900000\n",
      "3DS        total_sales\n",
      "count     6.000000\n",
      "mean     42.968333\n",
      "std      18.278261\n",
      "min      15.140000\n",
      "25%      31.775000\n",
      "50%      47.560000\n",
      "75%      55.267500\n",
      "max      63.200000\n",
      "XOne        total_sales\n",
      "count     4.000000\n",
      "mean     39.830000\n",
      "std      20.313977\n",
      "min      18.960000\n",
      "25%      24.352500\n",
      "50%      40.110000\n",
      "75%      55.587500\n",
      "max      60.140000\n"
     ]
    },
    {
     "data": {
      "image/png": "[encoded data removed]",
      "text/plain": [
       "<Figure size 432x288 with 1 Axes>"
      ]
     },
     "metadata": {
      "needs_background": "light"
     },
     "output_type": "display_data"
    },
    {
     "data": {
      "image/png": "[encoded data removed]",
      "text/plain": [
       "<Figure size 432x288 with 1 Axes>"
      ]
     },
     "metadata": {
      "needs_background": "light"
     },
     "output_type": "display_data"
    },
    {
     "data": {
      "image/png": "[encoded data removed]",
      "text/plain": [
       "<Figure size 432x288 with 1 Axes>"
      ]
     },
     "metadata": {
      "needs_background": "light"
     },
     "output_type": "display_data"
    },
    {
     "data": {
      "image/png": "[encoded data removed]",
      "text/plain": [
       "<Figure size 432x288 with 1 Axes>"
      ]
     },
     "metadata": {
      "needs_background": "light"
     },
     "output_type": "display_data"
    },
    {
     "data": {
      "image/png": "[encoded data removed]",
      "text/plain": [
       "<Figure size 432x288 with 1 Axes>"
      ]
     },
     "metadata": {
      "needs_background": "light"
     },
     "output_type": "display_data"
    }
   ],
   "source": [
    "# построение ящика с усами для топ 5 платфор по прибыли за последние 5 лет\n",
    "# функция построения ящика с усами и вывода описательной статистики\n",
    "def platform_plot_box(platform_name):\n",
    "    (data_cut_of_year\n",
    "     .query('platform == @platform_name')\n",
    "     .pivot_table(index='year_of_release', values='total_sales', aggfunc='sum')\n",
    "     .plot(kind='box', title=platform_name, grid=True)\n",
    "    )\n",
    "    print(platform_name, data_cut_of_year\n",
    "     .query('platform == @platform_name')\n",
    "     .pivot_table(index='year_of_release', values='total_sales', aggfunc='sum')\n",
    "     .describe()\n",
    "    )\n",
    "\n",
    "# построение ящиков с усами и описательная статистика по продажам по годам для топ 5 платформ по прибыли\n",
    "for i in range(0, 5):\n",
    "    platform_plot_box(popular_platform_sales.index[i])"
   ]
  },
  {
   "cell_type": "markdown",
   "metadata": {},
   "source": [
    "Медианы продаж за последние 5 лет по платформам и 95% CI: PS3 - 78 (CI 5-155), X360 - 62 (CI 5-145), PS4 - 85 (CI 10-120), 3DS - 48 (CI 5-65), XOne - 40 (CI 15-60)\n",
    "\n",
    "Наблюдается существенная разница между объемами продаж в тройке лидеров (PS3, X360 и PS4) и остальными платформами"
   ]
  },
  {
   "cell_type": "code",
   "execution_count": 19,
   "metadata": {
    "scrolled": false
   },
   "outputs": [
    {
     "name": "stdout",
     "output_type": "stream",
     "text": [
      "PS3 count    708.000000\n",
      "mean       0.629336\n",
      "std        1.451388\n",
      "min        0.010000\n",
      "25%        0.070000\n",
      "50%        0.210000\n",
      "75%        0.640000\n",
      "max       21.050000\n",
      "Name: total_sales, dtype: float64\n",
      "X360 count    498.000000\n",
      "mean       0.763815\n",
      "std        1.637090\n",
      "min        0.010000\n",
      "25%        0.090000\n",
      "50%        0.270000\n",
      "75%        0.780000\n",
      "max       16.270000\n",
      "Name: total_sales, dtype: float64\n",
      "PS4 count    392.000000\n",
      "mean       0.801378\n",
      "std        1.609456\n",
      "min        0.010000\n",
      "25%        0.060000\n",
      "50%        0.200000\n",
      "75%        0.730000\n",
      "max       14.630000\n",
      "Name: total_sales, dtype: float64\n",
      "3DS count    512.000000\n",
      "mean       0.503535\n",
      "std        1.441271\n",
      "min        0.010000\n",
      "25%        0.050000\n",
      "50%        0.120000\n",
      "75%        0.332500\n",
      "max       14.600000\n",
      "Name: total_sales, dtype: float64\n",
      "XOne count    247.000000\n",
      "mean       0.645020\n",
      "std        1.036139\n",
      "min        0.010000\n",
      "25%        0.060000\n",
      "50%        0.220000\n",
      "75%        0.685000\n",
      "max        7.390000\n",
      "Name: total_sales, dtype: float64\n"
     ]
    },
    {
     "data": {
      "image/png": "[encoded data removed]",
      "text/plain": [
       "<Figure size 432x288 with 1 Axes>"
      ]
     },
     "metadata": {
      "needs_background": "light"
     },
     "output_type": "display_data"
    }
   ],
   "source": [
    "# график без групировки по годам \n",
    "ax = sns.boxplot(x=\"platform\", y=\"total_sales\", data=data_cut_of_year)\n",
    "\n",
    "# описательная статистика для платформ без групировки по годам\n",
    "def platform_sales_describe(platform_name, data_cut_of_year):\n",
    "    print(platform_name, data_cut_of_year[data_cut_of_year['platform'] == platform_name]['total_sales'].describe())\n",
    "\n",
    "# описательная статистика продаж для топ 5 платформ по прибыли\n",
    "for i in range(0, 5):\n",
    "    platform_sales_describe(popular_platform_sales.index[i], data_cut_of_year)"
   ]
  },
  {
   "cell_type": "markdown",
   "metadata": {},
   "source": [
    "Самые продаваемые игры на платформах PS3, X360, PS4 и 3DS. Самая продаваемая за все время игра была на платформе PS3 (21.05 млн копий)"
   ]
  },
  {
   "cell_type": "code",
   "execution_count": 20,
   "metadata": {
    "scrolled": true
   },
   "outputs": [
    {
     "data": {
      "image/png": "[encoded data removed]",
      "text/plain": [
       "<Figure size 432x288 with 1 Axes>"
      ]
     },
     "metadata": {
      "needs_background": "light"
     },
     "output_type": "display_data"
    }
   ],
   "source": [
    "# график без групировки по годам \n",
    "plt.ylim(0, 2)\n",
    "ax = sns.boxplot(x=\"platform\", y=\"total_sales\", data=data_cut_of_year)"
   ]
  },
  {
   "cell_type": "markdown",
   "metadata": {},
   "source": [
    "Медианы продаж за все время по 5 самым популярным платформам за посление пять лет и 95% CI: \n",
    "    \n",
    "PS3 - 0.21 (CI 0.01 - 1.5)\n",
    "    \n",
    "X360 - 0.27 (CI 0.01 - 1.75)\n",
    "    \n",
    "PS4 - 0.20 (CI 0.01 - 1.74)\n",
    "    \n",
    "3DS - 0.12 (CI 0.01 - 0.75)\n",
    "    \n",
    "XOne - 0.22 (CI 0.01 - 1.6)\n"
   ]
  },
  {
   "cell_type": "markdown",
   "metadata": {},
   "source": [
    "Изучение влияние на продажи отзывов пользователей и критиков для платформы PS3"
   ]
  },
  {
   "cell_type": "code",
   "execution_count": 21,
   "metadata": {},
   "outputs": [
    {
     "data": {
      "text/plain": [
       "<matplotlib.axes._subplots.AxesSubplot at 0x7ff119b43b10>"
      ]
     },
     "execution_count": 21,
     "metadata": {},
     "output_type": "execute_result"
    },
    {
     "data": {
      "image/png": "[encoded data removed]",
      "text/plain": [
       "<Figure size 432x288 with 1 Axes>"
      ]
     },
     "metadata": {
      "needs_background": "light"
     },
     "output_type": "display_data"
    },
    {
     "data": {
      "image/png": "[encoded data removed]",
      "text/plain": [
       "<Figure size 432x288 with 1 Axes>"
      ]
     },
     "metadata": {
      "needs_background": "light"
     },
     "output_type": "display_data"
    }
   ],
   "source": [
    "# построение диаграммы рассеивания отзывов и продаж для платформы PS3\n",
    "data_cut_of_year[data_cut_of_year['platform'] == 'PS3'].plot(x='critic_score', y='total_sales', alpha=0.5, kind='scatter', ylim=(0, 5))\n",
    "data_cut_of_year[(data_cut_of_year['platform'] == 'PS3')].plot(x='user_score', y='total_sales', alpha=0.5, kind='scatter', ylim=(0, 5))"
   ]
  },
  {
   "cell_type": "code",
   "execution_count": 22,
   "metadata": {},
   "outputs": [
    {
     "data": {
      "text/plain": [
       "0.3801111471829076"
      ]
     },
     "metadata": {},
     "output_type": "display_data"
    },
    {
     "data": {
      "text/plain": [
       "0.014089348308019396"
      ]
     },
     "metadata": {},
     "output_type": "display_data"
    }
   ],
   "source": [
    "# расчет корреляции отзывов критиков и продаж для платформы PS3\n",
    "display(data_cut_of_year[(data_cut_of_year['platform'] == 'PS3')]['critic_score'].corr(data[data['platform'] == 'PS3']['total_sales']))\n",
    "\n",
    "# расчет корреляции отзывов пользователей и продаж для платформы PS3\n",
    "display(data_cut_of_year[(data_cut_of_year['platform'] == 'PS3')]['user_score'].corr(data[data['platform'] == 'PS3']['total_sales']))"
   ]
  },
  {
   "cell_type": "markdown",
   "metadata": {},
   "source": [
    "Имеется средняя положительная корреляция между отзывами критиков и объемом продаж. Нет корреляции между отзывами пользователей и объемами продаж\n",
    "\n",
    "Ради интереса посмотрим корреляции между отзывами и объемом продаж для всех платформ"
   ]
  },
  {
   "cell_type": "code",
   "execution_count": 23,
   "metadata": {},
   "outputs": [
    {
     "data": {
      "text/plain": [
       "<matplotlib.axes._subplots.AxesSubplot at 0x7ff119f94f10>"
      ]
     },
     "execution_count": 23,
     "metadata": {},
     "output_type": "execute_result"
    },
    {
     "data": {
      "image/png": "[encoded data removed]",
      "text/plain": [
       "<Figure size 432x288 with 1 Axes>"
      ]
     },
     "metadata": {
      "needs_background": "light"
     },
     "output_type": "display_data"
    },
    {
     "data": {
      "image/png": "[encoded data removed]",
      "text/plain": [
       "<Figure size 432x288 with 1 Axes>"
      ]
     },
     "metadata": {
      "needs_background": "light"
     },
     "output_type": "display_data"
    }
   ],
   "source": [
    "# построение диаграммы рассеивания отзывов и продаж для платформы PS3\n",
    "data.plot(x='critic_score', y='total_sales', alpha=0.5, kind='scatter', ylim=(0, 10))\n",
    "data.plot(x='user_score', y='total_sales', alpha=0.5, kind='scatter', ylim=(0, 10))"
   ]
  },
  {
   "cell_type": "code",
   "execution_count": 24,
   "metadata": {},
   "outputs": [
    {
     "data": {
      "text/plain": [
       "0.3299765050114585"
      ]
     },
     "metadata": {},
     "output_type": "display_data"
    },
    {
     "data": {
      "text/plain": [
       "0.03163612772559288"
      ]
     },
     "metadata": {},
     "output_type": "display_data"
    }
   ],
   "source": [
    "# расчет корреляции отзывов критиков и продаж для всех платформ за последние пять лет\n",
    "display(data_cut_of_year['critic_score'].corr(data_cut_of_year['total_sales']))\n",
    "\n",
    "# расчет корреляции отзывов пользователей и продаж для всех платформ за последние пять лет\n",
    "display(data_cut_of_year['user_score'].corr(data_cut_of_year['total_sales']))"
   ]
  },
  {
   "cell_type": "markdown",
   "metadata": {},
   "source": [
    "Так же имеется средняя положительная корреляция между отзывами критиков и объемом продаж. Корреляция между отзывами пользователей и объемами продаж незначительная\n",
    "\n",
    "Таким обазом, стоит взаимодествовать с критиками и лидерами мнений для продвижения новой игры"
   ]
  },
  {
   "cell_type": "code",
   "execution_count": 25,
   "metadata": {},
   "outputs": [
    {
     "data": {
      "text/plain": [
       "genre\n",
       "Action          1744.17\n",
       "Sports          1331.27\n",
       "Shooter         1052.45\n",
       "Role-Playing     934.56\n",
       "Platform         827.77\n",
       "Misc             802.51\n",
       "Racing           728.67\n",
       "Fighting         447.53\n",
       "Simulation       389.97\n",
       "Puzzle           242.57\n",
       "Adventure        237.59\n",
       "Strategy         174.23\n",
       "Name: total_sales, dtype: float64"
      ]
     },
     "metadata": {},
     "output_type": "display_data"
    },
    {
     "data": {
      "text/plain": [
       "genre\n",
       "Action          557.80\n",
       "Shooter         402.91\n",
       "Role-Playing    245.63\n",
       "Sports          237.15\n",
       "Misc            139.42\n",
       "Platform         88.68\n",
       "Racing           88.31\n",
       "Fighting         66.90\n",
       "Simulation       50.26\n",
       "Adventure        45.04\n",
       "Strategy         22.16\n",
       "Puzzle            9.85\n",
       "Name: total_sales, dtype: float64"
      ]
     },
     "metadata": {},
     "output_type": "display_data"
    }
   ],
   "source": [
    "# распределение продаж по жанрам в целом\n",
    "display(data.groupby('genre')['total_sales'].sum().sort_values(ascending = False))\n",
    "\n",
    "# распределение продаж по жанрам за последние пять лет\n",
    "display(data_cut_of_year.groupby('genre')['total_sales'].sum().sort_values(ascending = False))"
   ]
  },
  {
   "cell_type": "markdown",
   "metadata": {},
   "source": [
    "Самыми продаваемыми жанрами за последние пять лет явлются Action, Shooter и Role-Playing, что совпадает с самыми продаваемыми жанрами за все года. Самыми не продаваемыми жанрами являются Adventure, Strategy и Puzzle"
   ]
  },
  {
   "cell_type": "markdown",
   "metadata": {},
   "source": [
    "Расчет количества игр в каждом жанре"
   ]
  },
  {
   "cell_type": "code",
   "execution_count": 26,
   "metadata": {},
   "outputs": [
    {
     "data": {
      "text/plain": [
       "genre\n",
       "Action          1269\n",
       "Role-Playing     465\n",
       "Adventure        410\n",
       "Sports           389\n",
       "Misc             375\n",
       "Shooter          329\n",
       "Racing           180\n",
       "Fighting         159\n",
       "Simulation       136\n",
       "Platform         122\n",
       "Strategy         117\n",
       "Puzzle            71\n",
       "Name: genre, dtype: int64"
      ]
     },
     "execution_count": 26,
     "metadata": {},
     "output_type": "execute_result"
    }
   ],
   "source": [
    "# количество игр в каждом жанре\n",
    "data_cut_of_year.groupby('genre')['genre'].count().sort_values(ascending = False)"
   ]
  },
  {
   "cell_type": "code",
   "execution_count": 27,
   "metadata": {},
   "outputs": [
    {
     "data": {
      "text/plain": [
       "genre\n",
       "Shooter         0.410\n",
       "Sports          0.200\n",
       "Platform        0.185\n",
       "Fighting        0.180\n",
       "Racing          0.160\n",
       "Role-Playing    0.150\n",
       "Misc            0.130\n",
       "Action          0.130\n",
       "Simulation      0.110\n",
       "Strategy        0.080\n",
       "Puzzle          0.050\n",
       "Adventure       0.030\n",
       "Name: total_sales, dtype: float64"
      ]
     },
     "execution_count": 27,
     "metadata": {},
     "output_type": "execute_result"
    }
   ],
   "source": [
    "# количество игр сильно различается\n",
    "# расчет медианны продаж игр по жанрам\n",
    "data_cut_of_year.groupby('genre')['total_sales'].median().sort_values(ascending = False)"
   ]
  },
  {
   "cell_type": "markdown",
   "metadata": {},
   "source": [
    "Самые большие медианы продаж у жанров Shooter (0.41), Sports (0.2) и Platform (0.185)\n",
    "    \n",
    "Самые низкие медианы продаж у жанров Strategy (0.08), Puzzle (0.05) и Adventure (0.03)"
   ]
  },
  {
   "cell_type": "markdown",
   "metadata": {},
   "source": [
    "[К оглавлению](#content)"
   ]
  },
  {
   "cell_type": "markdown",
   "metadata": {},
   "source": [
    "<a id='3'></a>\n",
    "## Портрет пользователя каждого региона"
   ]
  },
  {
   "cell_type": "markdown",
   "metadata": {},
   "source": [
    "[К оглавлению](#content)"
   ]
  },
  {
   "cell_type": "markdown",
   "metadata": {},
   "source": [
    "<a id='3-1'></a>\n",
    "### Топ 5 платформ по регионам"
   ]
  },
  {
   "cell_type": "code",
   "execution_count": 28,
   "metadata": {},
   "outputs": [
    {
     "data": {
      "text/plain": [
       "platform\n",
       "X360    226.80\n",
       "PS3     168.26\n",
       "PS4     108.74\n",
       "XOne     93.12\n",
       "3DS      82.65\n",
       "Name: na_sales, dtype: float64"
      ]
     },
     "execution_count": 28,
     "metadata": {},
     "output_type": "execute_result"
    }
   ],
   "source": [
    "def top_region_func(region, parameter):\n",
    "    result = data_cut_of_year.groupby(parameter)[region].sum().sort_values(ascending=False).head()\n",
    "    return result\n",
    "\n",
    "# регион NA\n",
    "top_region_func('na_sales','platform')"
   ]
  },
  {
   "cell_type": "code",
   "execution_count": 29,
   "metadata": {},
   "outputs": [
    {
     "data": {
      "text/plain": [
       "platform\n",
       "PS3     163.10\n",
       "PS4     141.09\n",
       "X360    117.10\n",
       "3DS      61.27\n",
       "PC       56.70\n",
       "Name: eu_sales, dtype: float64"
      ]
     },
     "execution_count": 29,
     "metadata": {},
     "output_type": "execute_result"
    }
   ],
   "source": [
    "# регион EU \n",
    "top_region_func('eu_sales','platform')"
   ]
  },
  {
   "cell_type": "code",
   "execution_count": 30,
   "metadata": {
    "scrolled": true
   },
   "outputs": [
    {
     "data": {
      "text/plain": [
       "platform\n",
       "3DS    100.62\n",
       "PS3     49.39\n",
       "PSP     24.04\n",
       "PSV     21.84\n",
       "PS4     15.96\n",
       "Name: jp_sales, dtype: float64"
      ]
     },
     "execution_count": 30,
     "metadata": {},
     "output_type": "execute_result"
    }
   ],
   "source": [
    "# регион JP\n",
    "top_region_func('jp_sales','platform')"
   ]
  },
  {
   "cell_type": "markdown",
   "metadata": {},
   "source": [
    "В регионах разные топ 5 по продажам платформы за последние 5 лет. В NA с большим отрывом лидирует платформа X360 и при этом она не входит в топ платформ в JP. В рейтинге топ 5 платформ во всех регионах присутствуют PS3, PS4 и 3DS "
   ]
  },
  {
   "cell_type": "markdown",
   "metadata": {},
   "source": [
    "Расчет доли продаж каждой платформы от общих продаж в регионе"
   ]
  },
  {
   "cell_type": "code",
   "execution_count": 31,
   "metadata": {},
   "outputs": [
    {
     "data": {
      "text/plain": [
       "platform\n",
       "X360    27.333205\n",
       "PS3     20.278153\n",
       "PS4     13.104994\n",
       "XOne    11.222522\n",
       "3DS      9.960712\n",
       "Name: na_sales, dtype: float64"
      ]
     },
     "execution_count": 31,
     "metadata": {},
     "output_type": "execute_result"
    }
   ],
   "source": [
    "# доля продаж каждой платформ от общих продаж в регионе\n",
    "def platform_totalsales_func(region, parameter):\n",
    "    result = (data_cut_of_year.groupby(parameter)[region].sum() * 100 \n",
    "              / data_cut_of_year[region].sum()).sort_values(ascending=False).head()\n",
    "    return result\n",
    "\n",
    "# регион NA\n",
    "platform_totalsales_func('na_sales','platform')"
   ]
  },
  {
   "cell_type": "code",
   "execution_count": 32,
   "metadata": {
    "scrolled": true
   },
   "outputs": [
    {
     "data": {
      "text/plain": [
       "platform\n",
       "PS3     24.350916\n",
       "PS4     21.064811\n",
       "X360    17.483092\n",
       "3DS      9.147643\n",
       "PC       8.465340\n",
       "Name: eu_sales, dtype: float64"
      ]
     },
     "execution_count": 32,
     "metadata": {},
     "output_type": "execute_result"
    }
   ],
   "source": [
    "# регион EU\n",
    "platform_totalsales_func('eu_sales','platform')"
   ]
  },
  {
   "cell_type": "code",
   "execution_count": 33,
   "metadata": {
    "scrolled": true
   },
   "outputs": [
    {
     "data": {
      "text/plain": [
       "platform\n",
       "3DS    40.960716\n",
       "PS3    20.105842\n",
       "PSP     9.786281\n",
       "PSV     8.890698\n",
       "PS4     6.497049\n",
       "Name: jp_sales, dtype: float64"
      ]
     },
     "execution_count": 33,
     "metadata": {},
     "output_type": "execute_result"
    }
   ],
   "source": [
    "# регион JP\n",
    "platform_totalsales_func('jp_sales','platform')"
   ]
  },
  {
   "cell_type": "markdown",
   "metadata": {},
   "source": [
    "В регионах разные относительные объемы продаж игр по платформам. В NA это X360 (27%), в EU - PS3 (24%), в JP - 3DS (41%). Продажи игр на на самых популярных платформах в NA и EU соcтавляют менее трети объема продаж, продажи игр на самой популярной патформе в JP при этом более 40% от суммарного объема продаж по региону.\n",
    "    \n",
    "\n",
    "Относительный объем продаж игр на PS3 во всех регионах примерно одинаковый  - немногим больше 20%\n",
    "    \n",
    "Самый большой относительный объем продаж игр на PS4 в EU"
   ]
  },
  {
   "cell_type": "markdown",
   "metadata": {},
   "source": [
    "[К оглавлению](#content)"
   ]
  },
  {
   "cell_type": "markdown",
   "metadata": {},
   "source": [
    "<a id='3-2'></a>\n",
    "### Топ 5 популярных жанров по регионам "
   ]
  },
  {
   "cell_type": "code",
   "execution_count": 34,
   "metadata": {},
   "outputs": [
    {
     "data": {
      "text/plain": [
       "genre\n",
       "Action          230.92\n",
       "Shooter         194.43\n",
       "Sports          108.70\n",
       "Role-Playing     83.78\n",
       "Misc             69.69\n",
       "Name: na_sales, dtype: float64"
      ]
     },
     "execution_count": 34,
     "metadata": {},
     "output_type": "execute_result"
    }
   ],
   "source": [
    "# регион NA\n",
    "top_region_func('na_sales', 'genre')"
   ]
  },
  {
   "cell_type": "code",
   "execution_count": 35,
   "metadata": {},
   "outputs": [
    {
     "data": {
      "text/plain": [
       "genre\n",
       "Action          199.12\n",
       "Shooter         148.02\n",
       "Sports           88.48\n",
       "Role-Playing     62.30\n",
       "Racing           40.58\n",
       "Name: eu_sales, dtype: float64"
      ]
     },
     "execution_count": 35,
     "metadata": {},
     "output_type": "execute_result"
    }
   ],
   "source": [
    "# регион EU \n",
    "top_region_func('eu_sales', 'genre')"
   ]
  },
  {
   "cell_type": "code",
   "execution_count": 36,
   "metadata": {
    "scrolled": true
   },
   "outputs": [
    {
     "data": {
      "text/plain": [
       "genre\n",
       "Role-Playing    79.87\n",
       "Action          63.62\n",
       "Misc            17.60\n",
       "Fighting        12.38\n",
       "Platform        12.13\n",
       "Name: jp_sales, dtype: float64"
      ]
     },
     "execution_count": 36,
     "metadata": {},
     "output_type": "execute_result"
    }
   ],
   "source": [
    "# регион JP\n",
    "top_region_func('jp_sales', 'genre')"
   ]
  },
  {
   "cell_type": "markdown",
   "metadata": {},
   "source": [
    "В NA и EU совпадают топ 4 самых продаваемых жанра (Action, Shooter, Sports, Role-Playing). В регионе JP самые продаваемые жанры Role-Playing и Action, с большим отрывом от остальных жанров. Во всех регионах в топ 5 входят жанры Action и Role-Playing. Можно сказать, что Action самый популярный жанр за последние пять лет в целом по регионам"
   ]
  },
  {
   "cell_type": "markdown",
   "metadata": {},
   "source": [
    "[К оглавлению](#content)"
   ]
  },
  {
   "cell_type": "markdown",
   "metadata": {},
   "source": [
    "<a id='3-3'></a>\n",
    "### Анализ связи рейтинга ESRB и продаж в регионах"
   ]
  },
  {
   "cell_type": "code",
   "execution_count": 37,
   "metadata": {},
   "outputs": [],
   "source": [
    "# заменим пропущенные значения на 'WR' (without rating)\n",
    "data_cut_of_year['rating'] = data_cut_of_year['rating'].fillna('WR')\n",
    "\n",
    "# изучим рейтинги\n",
    "def ESRB_sales_region(region):\n",
    "    print(data_cut_of_year.groupby('rating')[region].sum()\n",
    "          .sort_values() * 100 / sum(data_cut_of_year[region]))"
   ]
  },
  {
   "cell_type": "code",
   "execution_count": 38,
   "metadata": {},
   "outputs": [
    {
     "name": "stdout",
     "output_type": "stream",
     "text": [
      "rating\n",
      "RP       0.000000\n",
      "EC       0.050617\n",
      "T       13.173689\n",
      "E10+    14.187235\n",
      "WR      14.906720\n",
      "E       20.508340\n",
      "M       37.173400\n",
      "Name: na_sales, dtype: float64\n"
     ]
    }
   ],
   "source": [
    "# продажи в зависимости от рейтинга в NA в %\n",
    "ESRB_sales_region('na_sales')"
   ]
  },
  {
   "cell_type": "code",
   "execution_count": 39,
   "metadata": {},
   "outputs": [
    {
     "name": "stdout",
     "output_type": "stream",
     "text": [
      "rating\n",
      "EC       0.000000\n",
      "RP       0.004479\n",
      "E10+    11.645441\n",
      "T       12.415832\n",
      "WR      17.409934\n",
      "E       21.160364\n",
      "M       37.363950\n",
      "Name: eu_sales, dtype: float64\n"
     ]
    }
   ],
   "source": [
    "# продажи в зависимости от рейтинга в EU в %\n",
    "ESRB_sales_region('eu_sales')"
   ]
  },
  {
   "cell_type": "code",
   "execution_count": 40,
   "metadata": {},
   "outputs": [
    {
     "name": "stdout",
     "output_type": "stream",
     "text": [
      "rating\n",
      "EC       0.000000\n",
      "RP       0.000000\n",
      "E10+     4.571545\n",
      "M       10.641156\n",
      "T       13.592510\n",
      "E       14.931814\n",
      "WR      56.262976\n",
      "Name: jp_sales, dtype: float64\n"
     ]
    }
   ],
   "source": [
    "# продажи в зависимости от рейтинга в JP в %\n",
    "ESRB_sales_region('jp_sales')"
   ]
  },
  {
   "cell_type": "markdown",
   "metadata": {},
   "source": [
    "В NA и EU больше всего продаются игры с рейтингами M и E - более половины всех продаж. В JP больше половины проданных игр не имеют рейтинга, а самые продаваемые рейтинги E и T, чуть хуже продаются игры с ретингом M. Во всех регионах меньше всего продаются игры с рейтингом EC.\n",
    "\n",
    "Рейтинг ESRB плохо подходит для анализа рынка Японии, так как ориентирован на Америку, а в Японии есть свои особенности. Возможно стоит найти локальный возрастной рейтинг для анализа рынка Азии."
   ]
  },
  {
   "cell_type": "markdown",
   "metadata": {},
   "source": [
    "[К оглавлению](#content)"
   ]
  },
  {
   "cell_type": "markdown",
   "metadata": {},
   "source": [
    "<a id='4'></a>\n",
    "## Проверка гипотез"
   ]
  },
  {
   "cell_type": "markdown",
   "metadata": {},
   "source": [
    "### Средние пользовательские рейтинги платформ Xbox One и PC одинаковые"
   ]
  },
  {
   "cell_type": "markdown",
   "metadata": {},
   "source": [
    "Нулевая гипотеза: средние пользовательские рейтинги платформ Xbox One и PC одинаковые\n",
    "\n",
    "Альтернативная гипотеза: средние пользовательские рейтинги не одинаковые\n",
    "\n",
    "Проверка гипотезы будет производиться t-критерием Стьюдента, уровень значимости примем 0.05"
   ]
  },
  {
   "cell_type": "code",
   "execution_count": 41,
   "metadata": {},
   "outputs": [
    {
     "data": {
      "text/plain": [
       "'p-value'"
      ]
     },
     "metadata": {},
     "output_type": "display_data"
    },
    {
     "data": {
      "text/plain": [
       "0.6130712247637622"
      ]
     },
     "metadata": {},
     "output_type": "display_data"
    }
   ],
   "source": [
    "# проеврка гипотезы\n",
    "results = st.ttest_ind(data_cut_of_year[data_cut_of_year['platform'] == 'XOne']['user_score'], \n",
    "                      data_cut_of_year[data_cut_of_year['platform'] == 'PC']['user_score'], \n",
    "                      equal_var=False, nan_policy='omit')\n",
    "\n",
    "display('p-value', results.pvalue)"
   ]
  },
  {
   "cell_type": "markdown",
   "metadata": {},
   "source": [
    "p-value > 0.05, принимаем нулевую гипотезу: средние пользовательские рейтинги платформ Xbox One и PC одинаковые"
   ]
  },
  {
   "cell_type": "markdown",
   "metadata": {},
   "source": [
    "### Средние пользовательские рейтинги жанров Action (англ. «действие», экшен-игры) и Sports (англ. «спортивные соревнования») разные."
   ]
  },
  {
   "cell_type": "markdown",
   "metadata": {},
   "source": [
    "Нулевая гипотеза: средние пользовательские рейтинги жанров Action и Sports одинаковые\n",
    "\n",
    "Альтернативная гипотеза: средние пользовательские рейтинги жанров Action и Sports разные\n",
    "\n",
    "Проверка гипотезы будет производиться t-критерием Стьюдента, уровень значимости примем 0.05"
   ]
  },
  {
   "cell_type": "code",
   "execution_count": 42,
   "metadata": {
    "scrolled": true
   },
   "outputs": [
    {
     "data": {
      "text/plain": [
       "'p-value'"
      ]
     },
     "metadata": {},
     "output_type": "display_data"
    },
    {
     "data": {
      "text/plain": [
       "8.285648549430888e-19"
      ]
     },
     "metadata": {},
     "output_type": "display_data"
    },
    {
     "data": {
      "text/plain": [
       "6.775903614457831"
      ]
     },
     "metadata": {},
     "output_type": "display_data"
    },
    {
     "data": {
      "text/plain": [
       "5.650813008130081"
      ]
     },
     "metadata": {},
     "output_type": "display_data"
    }
   ],
   "source": [
    "# проверка гипотезы\n",
    "results = st.ttest_ind(data_cut_of_year[data_cut_of_year['genre'] == 'Action']['user_score'], \n",
    "                      data_cut_of_year[data_cut_of_year['genre'] == 'Sports']['user_score'], \n",
    "                      equal_var=False, nan_policy='omit')\n",
    "\n",
    "display('p-value', results.pvalue)\n",
    "display(data_cut_of_year[data_cut_of_year['genre'] == 'Action']['user_score'].mean())\n",
    "display(data_cut_of_year[data_cut_of_year['genre'] == 'Sports']['user_score'].mean())"
   ]
  },
  {
   "cell_type": "markdown",
   "metadata": {},
   "source": [
    "p-value < 0.05, принимаем альтернативную гипотезу: средний пользовательский рейтинг жанра Action выше чем средний пользовательский рейтинг жанра Sports"
   ]
  },
  {
   "cell_type": "markdown",
   "metadata": {},
   "source": [
    "[К оглавлению](#content)"
   ]
  },
  {
   "cell_type": "markdown",
   "metadata": {},
   "source": [
    "<a id='outcome'></a>\n",
    "## Вывод"
   ]
  },
  {
   "cell_type": "markdown",
   "metadata": {},
   "source": [
    "Были изучены и предобработаны исходные данные. В данных наблюдаются пропущенные значения, в рейтинге пользователей встречается значение 'tbd'. Стоит поговорить с коллегами, выдавшими данные, о возможности восстановления пропущенных значений и рейтингов \n",
    "\n",
    " - Характерный **срок жизни платформы около 9-11 лет**.\n",
    "\n",
    " - В целом на текущий момент по всем регионам самые продаваемые платформы PS3, X360 и PS4, самые продаваемые жанры Action, Shooter и Role-Playing. Хуже всего продаются жанры Adventure, Strategy и Puzzle\n",
    "\n",
    " - Самые продаваемые платформы различны в регионах: в NA с большим отрывом лидирует платформа X360 и при этом она не входит в топ платформ в JP. В рейтинге топ 5 платформ во всех регионах присутствуют PS3, PS4 и 3DS. Самые продаваемые игры на платформах PS3, X360, PS4 и 3DS. Самая продаваемая за все время игра была на платформе PS3. В регионах разные относительные объемы продаж игр по платформам. В NA это X360 (27%), в EU - PS3 (24%), в JP - 3DS (41%). Относительный объем продаж игр на PS3 во всех регионах примерно одинаковый  - немногим больше 20%. Самый большой относительный объем продаж игр на PS4 в EU. Самый большой относительный объем продаж игр на XOne в NA \n",
    "\n",
    " - В NA и EU совпадают топ 4 самых продаваемых жанров: Action, Shooter, Sports и Role-Playing. В JP самые продаваемые жанры Role-Playing и Action, с большим отрывом от остальных жанров. Во всех регионах в топ 5 входят жанры Action и Role-Playing. Можно сказать, что **Action самый популярный жанр за последние пять лет в целом по регионам.** Самые большие медианы продаж у жанров Shooter, Sports и Platform, самые низкие медианы продаж у жанров Strategy, Puzzle и Adventure.\n",
    "\n",
    " - В NA и EU больше всего продаются игры с рейтингами M и E - более половины всех продаж. В JP больше половины проданных игр не имеют рейтинга. Во всех регионах меньше всего продаются игры с рейтингом EC. У Xbox One и PC одинаковые средние пользовательские рейтинги. У жанра Action выше средние пользовательские рейтинги, чем у жанра Sports\n",
    "\n",
    " - **платформы с наибольшим количеством продаж по данным 2015 года и с восходящим трендом - PS4 и XOne**. На третьем месте по объему продаж платформа 3DS, однако у нее нисходящий тренд    \n",
    "       \n"
   ]
  },
  {
   "cell_type": "markdown",
   "metadata": {},
   "source": [
    "[К оглавлению](#content)"
   ]
  }
 ],
 "metadata": {
  "ExecuteTimeLog": [
   {
    "duration": 310,
    "start_time": "2021-11-29T12:59:00.790Z"
   },
   {
    "duration": 589,
    "start_time": "2021-11-29T12:59:06.035Z"
   },
   {
    "duration": 56,
    "start_time": "2021-11-29T12:59:07.872Z"
   },
   {
    "duration": 44,
    "start_time": "2021-11-29T12:59:27.966Z"
   },
   {
    "duration": 48,
    "start_time": "2021-11-29T12:59:36.482Z"
   },
   {
    "duration": 10,
    "start_time": "2021-11-29T13:00:40.590Z"
   },
   {
    "duration": 3,
    "start_time": "2021-11-29T13:29:28.153Z"
   },
   {
    "duration": 10,
    "start_time": "2021-11-29T13:29:35.100Z"
   },
   {
    "duration": 317,
    "start_time": "2021-11-29T13:31:48.944Z"
   },
   {
    "duration": 5,
    "start_time": "2021-11-29T13:33:00.938Z"
   },
   {
    "duration": 11,
    "start_time": "2021-11-29T13:33:08.358Z"
   },
   {
    "duration": 15,
    "start_time": "2021-11-29T13:33:48.860Z"
   },
   {
    "duration": 4,
    "start_time": "2021-11-29T13:34:10.387Z"
   },
   {
    "duration": 4,
    "start_time": "2021-11-29T13:34:21.936Z"
   },
   {
    "duration": 770,
    "start_time": "2021-11-29T13:34:28.572Z"
   },
   {
    "duration": 62,
    "start_time": "2021-11-29T13:34:29.344Z"
   },
   {
    "duration": 11,
    "start_time": "2021-11-29T13:34:29.408Z"
   },
   {
    "duration": 2292,
    "start_time": "2021-11-29T13:34:29.421Z"
   },
   {
    "duration": 14,
    "start_time": "2021-11-29T13:34:31.701Z"
   },
   {
    "duration": 9,
    "start_time": "2021-11-29T13:34:43.717Z"
   },
   {
    "duration": 282,
    "start_time": "2021-11-29T13:35:14.501Z"
   },
   {
    "duration": 591,
    "start_time": "2021-11-29T13:35:42.463Z"
   },
   {
    "duration": 58,
    "start_time": "2021-11-29T13:35:43.056Z"
   },
   {
    "duration": 9,
    "start_time": "2021-11-29T13:35:43.115Z"
   },
   {
    "duration": 32,
    "start_time": "2021-11-29T13:35:43.126Z"
   },
   {
    "duration": 322,
    "start_time": "2021-11-29T13:35:43.160Z"
   },
   {
    "duration": 17,
    "start_time": "2021-11-29T13:36:17.043Z"
   },
   {
    "duration": 2,
    "start_time": "2021-11-29T13:36:33.897Z"
   },
   {
    "duration": 5,
    "start_time": "2021-11-29T13:40:42.312Z"
   },
   {
    "duration": 607,
    "start_time": "2021-11-29T13:40:50.332Z"
   },
   {
    "duration": 57,
    "start_time": "2021-11-29T13:40:50.940Z"
   },
   {
    "duration": 9,
    "start_time": "2021-11-29T13:40:50.999Z"
   },
   {
    "duration": 1969,
    "start_time": "2021-11-29T13:40:51.009Z"
   },
   {
    "duration": 23,
    "start_time": "2021-11-29T13:40:52.957Z"
   },
   {
    "duration": 3,
    "start_time": "2021-11-29T13:41:03.435Z"
   },
   {
    "duration": 5,
    "start_time": "2021-11-29T13:41:49.533Z"
   },
   {
    "duration": 20,
    "start_time": "2021-11-29T13:44:01.545Z"
   },
   {
    "duration": 8,
    "start_time": "2021-11-29T13:51:14.755Z"
   },
   {
    "duration": 287,
    "start_time": "2021-11-29T13:51:35.147Z"
   },
   {
    "duration": 7,
    "start_time": "2021-11-29T13:53:26.633Z"
   },
   {
    "duration": 6,
    "start_time": "2021-11-29T13:53:49.133Z"
   },
   {
    "duration": 8,
    "start_time": "2021-11-29T13:53:55.411Z"
   },
   {
    "duration": 16,
    "start_time": "2021-11-29T13:54:16.519Z"
   },
   {
    "duration": 2142,
    "start_time": "2021-11-29T13:57:07.758Z"
   },
   {
    "duration": 287,
    "start_time": "2021-11-29T13:57:22.757Z"
   },
   {
    "duration": 313,
    "start_time": "2021-11-29T13:57:52.468Z"
   },
   {
    "duration": 8,
    "start_time": "2021-11-29T13:58:33.892Z"
   },
   {
    "duration": 281,
    "start_time": "2021-11-30T07:10:15.640Z"
   },
   {
    "duration": 557,
    "start_time": "2021-11-30T07:10:22.805Z"
   },
   {
    "duration": 58,
    "start_time": "2021-11-30T07:10:23.364Z"
   },
   {
    "duration": 10,
    "start_time": "2021-11-30T07:10:23.424Z"
   },
   {
    "duration": 3,
    "start_time": "2021-11-30T07:10:23.436Z"
   },
   {
    "duration": 18,
    "start_time": "2021-11-30T07:10:23.440Z"
   },
   {
    "duration": 5,
    "start_time": "2021-11-30T07:10:23.460Z"
   },
   {
    "duration": 38,
    "start_time": "2021-11-30T07:10:23.466Z"
   },
   {
    "duration": 8,
    "start_time": "2021-11-30T07:10:23.506Z"
   },
   {
    "duration": 8,
    "start_time": "2021-11-30T07:10:23.515Z"
   },
   {
    "duration": 20,
    "start_time": "2021-11-30T07:10:36.943Z"
   },
   {
    "duration": 9,
    "start_time": "2021-11-30T08:33:24.050Z"
   },
   {
    "duration": 244,
    "start_time": "2021-11-30T08:33:45.855Z"
   },
   {
    "duration": 6,
    "start_time": "2021-11-30T08:34:10.591Z"
   },
   {
    "duration": 172,
    "start_time": "2021-11-30T08:34:35.618Z"
   },
   {
    "duration": 3,
    "start_time": "2021-11-30T08:38:19.168Z"
   },
   {
    "duration": 8,
    "start_time": "2021-11-30T08:38:42.956Z"
   },
   {
    "duration": 10,
    "start_time": "2021-11-30T08:39:20.825Z"
   },
   {
    "duration": 10,
    "start_time": "2021-11-30T08:39:40.972Z"
   },
   {
    "duration": 7,
    "start_time": "2021-11-30T08:40:27.187Z"
   },
   {
    "duration": 7,
    "start_time": "2021-11-30T08:40:40.430Z"
   },
   {
    "duration": 9,
    "start_time": "2021-11-30T08:43:55.384Z"
   },
   {
    "duration": 8,
    "start_time": "2021-11-30T08:44:20.115Z"
   },
   {
    "duration": 46,
    "start_time": "2021-11-30T08:50:09.684Z"
   },
   {
    "duration": 48,
    "start_time": "2021-11-30T08:51:04.638Z"
   },
   {
    "duration": 831,
    "start_time": "2021-11-30T08:52:54.700Z"
   },
   {
    "duration": 181,
    "start_time": "2021-11-30T08:53:06.581Z"
   },
   {
    "duration": 989,
    "start_time": "2021-11-30T08:53:33.684Z"
   },
   {
    "duration": 180,
    "start_time": "2021-11-30T08:57:38.938Z"
   },
   {
    "duration": 433,
    "start_time": "2021-11-30T08:58:14.645Z"
   },
   {
    "duration": 201,
    "start_time": "2021-11-30T08:58:34.313Z"
   },
   {
    "duration": 202,
    "start_time": "2021-11-30T08:58:39.558Z"
   },
   {
    "duration": 183,
    "start_time": "2021-11-30T08:59:25.152Z"
   },
   {
    "duration": 32,
    "start_time": "2021-11-30T09:00:20.459Z"
   },
   {
    "duration": 255,
    "start_time": "2021-11-30T09:00:40.590Z"
   },
   {
    "duration": 217,
    "start_time": "2021-11-30T09:01:36.339Z"
   },
   {
    "duration": 59,
    "start_time": "2021-11-30T09:02:27.566Z"
   },
   {
    "duration": 175,
    "start_time": "2021-11-30T09:02:42.291Z"
   },
   {
    "duration": 28,
    "start_time": "2021-11-30T09:02:56.528Z"
   },
   {
    "duration": 14926,
    "start_time": "2021-11-30T09:07:24.244Z"
   },
   {
    "duration": 2,
    "start_time": "2021-11-30T09:08:28.719Z"
   },
   {
    "duration": 602,
    "start_time": "2021-11-30T09:08:34.407Z"
   },
   {
    "duration": 55,
    "start_time": "2021-11-30T09:08:35.011Z"
   },
   {
    "duration": 14,
    "start_time": "2021-11-30T09:08:35.068Z"
   },
   {
    "duration": 3,
    "start_time": "2021-11-30T09:08:35.085Z"
   },
   {
    "duration": 21,
    "start_time": "2021-11-30T09:08:35.091Z"
   },
   {
    "duration": 5,
    "start_time": "2021-11-30T09:08:35.114Z"
   },
   {
    "duration": 34,
    "start_time": "2021-11-30T09:08:35.120Z"
   },
   {
    "duration": 9,
    "start_time": "2021-11-30T09:08:35.157Z"
   },
   {
    "duration": 38,
    "start_time": "2021-11-30T09:08:35.168Z"
   },
   {
    "duration": 9,
    "start_time": "2021-11-30T09:08:35.208Z"
   },
   {
    "duration": 207,
    "start_time": "2021-11-30T09:08:35.218Z"
   },
   {
    "duration": 8,
    "start_time": "2021-11-30T09:08:35.427Z"
   },
   {
    "duration": 29,
    "start_time": "2021-11-30T09:08:50.344Z"
   },
   {
    "duration": 2081,
    "start_time": "2021-11-30T09:09:03.015Z"
   },
   {
    "duration": 29,
    "start_time": "2021-11-30T09:09:11.240Z"
   },
   {
    "duration": 472,
    "start_time": "2021-11-30T09:22:32.140Z"
   },
   {
    "duration": 200,
    "start_time": "2021-11-30T09:23:03.371Z"
   },
   {
    "duration": 172,
    "start_time": "2021-11-30T09:23:28.883Z"
   },
   {
    "duration": 392,
    "start_time": "2021-11-30T09:27:02.309Z"
   },
   {
    "duration": 177,
    "start_time": "2021-11-30T09:27:48.790Z"
   },
   {
    "duration": 6,
    "start_time": "2021-11-30T09:28:28.402Z"
   },
   {
    "duration": 8,
    "start_time": "2021-11-30T09:28:38.939Z"
   },
   {
    "duration": 316,
    "start_time": "2021-11-30T09:29:05.580Z"
   },
   {
    "duration": 4,
    "start_time": "2021-11-30T09:29:21.913Z"
   },
   {
    "duration": 9,
    "start_time": "2021-11-30T09:30:02.015Z"
   },
   {
    "duration": 5,
    "start_time": "2021-11-30T09:31:12.042Z"
   },
   {
    "duration": 401,
    "start_time": "2021-11-30T09:31:31.069Z"
   },
   {
    "duration": 423,
    "start_time": "2021-11-30T10:44:35.865Z"
   },
   {
    "duration": 398,
    "start_time": "2021-11-30T10:44:41.775Z"
   },
   {
    "duration": 205,
    "start_time": "2021-11-30T10:48:06.619Z"
   },
   {
    "duration": 205,
    "start_time": "2021-11-30T10:48:12.475Z"
   },
   {
    "duration": 427,
    "start_time": "2021-11-30T10:51:59.068Z"
   },
   {
    "duration": 1054,
    "start_time": "2021-11-30T10:53:21.893Z"
   },
   {
    "duration": 55,
    "start_time": "2021-11-30T10:53:22.949Z"
   },
   {
    "duration": 9,
    "start_time": "2021-11-30T10:53:23.006Z"
   },
   {
    "duration": 10,
    "start_time": "2021-11-30T10:53:23.017Z"
   },
   {
    "duration": 41,
    "start_time": "2021-11-30T10:53:23.028Z"
   },
   {
    "duration": 10,
    "start_time": "2021-11-30T10:53:23.070Z"
   },
   {
    "duration": 38,
    "start_time": "2021-11-30T10:53:23.082Z"
   },
   {
    "duration": 30,
    "start_time": "2021-11-30T10:53:23.122Z"
   },
   {
    "duration": 43,
    "start_time": "2021-11-30T10:53:23.154Z"
   },
   {
    "duration": 13,
    "start_time": "2021-11-30T10:53:23.199Z"
   },
   {
    "duration": 193,
    "start_time": "2021-11-30T10:53:23.213Z"
   },
   {
    "duration": 8,
    "start_time": "2021-11-30T10:53:23.407Z"
   },
   {
    "duration": 564,
    "start_time": "2021-11-30T10:54:11.433Z"
   },
   {
    "duration": 362,
    "start_time": "2021-11-30T10:54:30.718Z"
   },
   {
    "duration": 236,
    "start_time": "2021-11-30T10:54:37.923Z"
   },
   {
    "duration": 3,
    "start_time": "2021-11-30T10:54:54.212Z"
   },
   {
    "duration": 171,
    "start_time": "2021-11-30T10:55:15.136Z"
   },
   {
    "duration": 176,
    "start_time": "2021-11-30T10:55:32.157Z"
   },
   {
    "duration": 174,
    "start_time": "2021-11-30T11:26:40.959Z"
   },
   {
    "duration": 3,
    "start_time": "2021-11-30T11:29:18.019Z"
   },
   {
    "duration": 1130,
    "start_time": "2021-11-30T11:29:26.807Z"
   },
   {
    "duration": 54,
    "start_time": "2021-11-30T11:29:27.941Z"
   },
   {
    "duration": 15,
    "start_time": "2021-11-30T11:29:27.997Z"
   },
   {
    "duration": 3,
    "start_time": "2021-11-30T11:29:28.013Z"
   },
   {
    "duration": 19,
    "start_time": "2021-11-30T11:29:28.017Z"
   },
   {
    "duration": 4,
    "start_time": "2021-11-30T11:29:28.038Z"
   },
   {
    "duration": 16,
    "start_time": "2021-11-30T11:29:28.044Z"
   },
   {
    "duration": 29,
    "start_time": "2021-11-30T11:29:28.062Z"
   },
   {
    "duration": 21,
    "start_time": "2021-11-30T11:29:28.093Z"
   },
   {
    "duration": 7,
    "start_time": "2021-11-30T11:29:28.116Z"
   },
   {
    "duration": 211,
    "start_time": "2021-11-30T11:29:28.125Z"
   },
   {
    "duration": 8,
    "start_time": "2021-11-30T11:29:28.337Z"
   },
   {
    "duration": 3,
    "start_time": "2021-11-30T11:29:28.346Z"
   },
   {
    "duration": 210,
    "start_time": "2021-11-30T11:29:28.351Z"
   },
   {
    "duration": 203,
    "start_time": "2021-11-30T11:29:28.564Z"
   },
   {
    "duration": 195,
    "start_time": "2021-11-30T11:29:28.769Z"
   },
   {
    "duration": 382,
    "start_time": "2021-11-30T11:29:59.085Z"
   },
   {
    "duration": 2100,
    "start_time": "2021-11-30T11:31:53.858Z"
   },
   {
    "duration": 1909,
    "start_time": "2021-11-30T11:33:10.184Z"
   },
   {
    "duration": 57,
    "start_time": "2021-11-30T11:34:49.209Z"
   },
   {
    "duration": 277,
    "start_time": "2021-11-30T11:34:52.859Z"
   },
   {
    "duration": 2059,
    "start_time": "2021-11-30T11:35:53.391Z"
   },
   {
    "duration": 2019,
    "start_time": "2021-11-30T11:36:34.785Z"
   },
   {
    "duration": 1067,
    "start_time": "2021-11-30T11:36:45.268Z"
   },
   {
    "duration": 54,
    "start_time": "2021-11-30T11:36:46.337Z"
   },
   {
    "duration": 9,
    "start_time": "2021-11-30T11:36:46.393Z"
   },
   {
    "duration": 3,
    "start_time": "2021-11-30T11:36:46.403Z"
   },
   {
    "duration": 17,
    "start_time": "2021-11-30T11:36:46.408Z"
   },
   {
    "duration": 4,
    "start_time": "2021-11-30T11:36:46.427Z"
   },
   {
    "duration": 17,
    "start_time": "2021-11-30T11:36:46.433Z"
   },
   {
    "duration": 7,
    "start_time": "2021-11-30T11:36:46.452Z"
   },
   {
    "duration": 48,
    "start_time": "2021-11-30T11:36:46.461Z"
   },
   {
    "duration": 7,
    "start_time": "2021-11-30T11:36:46.511Z"
   },
   {
    "duration": 194,
    "start_time": "2021-11-30T11:36:46.520Z"
   },
   {
    "duration": 7,
    "start_time": "2021-11-30T11:36:46.716Z"
   },
   {
    "duration": 1960,
    "start_time": "2021-11-30T11:36:46.725Z"
   },
   {
    "duration": 280,
    "start_time": "2021-11-30T12:22:39.460Z"
   },
   {
    "duration": 10,
    "start_time": "2021-11-30T12:22:50.341Z"
   },
   {
    "duration": 10,
    "start_time": "2021-11-30T12:23:01.870Z"
   },
   {
    "duration": 7,
    "start_time": "2021-11-30T12:25:37.784Z"
   },
   {
    "duration": 10,
    "start_time": "2021-11-30T12:25:50.025Z"
   },
   {
    "duration": 792,
    "start_time": "2021-11-30T12:29:27.465Z"
   },
   {
    "duration": 73,
    "start_time": "2021-11-30T12:29:47.475Z"
   },
   {
    "duration": 1356,
    "start_time": "2021-11-30T12:29:52.589Z"
   },
   {
    "duration": 804,
    "start_time": "2021-11-30T12:30:24.567Z"
   },
   {
    "duration": 640,
    "start_time": "2021-11-30T12:31:31.685Z"
   },
   {
    "duration": 674,
    "start_time": "2021-11-30T12:31:46.076Z"
   },
   {
    "duration": 719,
    "start_time": "2021-11-30T12:31:53.547Z"
   },
   {
    "duration": 660,
    "start_time": "2021-11-30T12:32:06.194Z"
   },
   {
    "duration": 854,
    "start_time": "2021-11-30T12:32:23.591Z"
   },
   {
    "duration": 234,
    "start_time": "2021-11-30T12:35:50.017Z"
   },
   {
    "duration": 118,
    "start_time": "2021-11-30T12:36:08.947Z"
   },
   {
    "duration": 139,
    "start_time": "2021-11-30T12:36:30.644Z"
   },
   {
    "duration": 139,
    "start_time": "2021-11-30T12:37:16.628Z"
   },
   {
    "duration": 715,
    "start_time": "2021-11-30T12:37:21.053Z"
   },
   {
    "duration": 791,
    "start_time": "2021-11-30T12:37:38.726Z"
   },
   {
    "duration": 712,
    "start_time": "2021-11-30T12:37:46.219Z"
   },
   {
    "duration": 4020,
    "start_time": "2021-11-30T12:38:17.938Z"
   },
   {
    "duration": 840,
    "start_time": "2021-11-30T12:38:34.118Z"
   },
   {
    "duration": 1008,
    "start_time": "2021-11-30T12:38:46.141Z"
   },
   {
    "duration": 54,
    "start_time": "2021-11-30T12:38:47.151Z"
   },
   {
    "duration": 9,
    "start_time": "2021-11-30T12:38:47.207Z"
   },
   {
    "duration": 25,
    "start_time": "2021-11-30T12:38:47.218Z"
   },
   {
    "duration": 41,
    "start_time": "2021-11-30T12:38:47.245Z"
   },
   {
    "duration": 21,
    "start_time": "2021-11-30T12:38:47.288Z"
   },
   {
    "duration": 27,
    "start_time": "2021-11-30T12:38:47.310Z"
   },
   {
    "duration": 15,
    "start_time": "2021-11-30T12:38:47.339Z"
   },
   {
    "duration": 46,
    "start_time": "2021-11-30T12:38:47.356Z"
   },
   {
    "duration": 13,
    "start_time": "2021-11-30T12:38:47.404Z"
   },
   {
    "duration": 192,
    "start_time": "2021-11-30T12:38:47.419Z"
   },
   {
    "duration": 7,
    "start_time": "2021-11-30T12:38:47.613Z"
   },
   {
    "duration": 1971,
    "start_time": "2021-11-30T12:38:47.622Z"
   },
   {
    "duration": 11,
    "start_time": "2021-11-30T12:38:49.595Z"
   },
   {
    "duration": 934,
    "start_time": "2021-11-30T12:38:49.608Z"
   },
   {
    "duration": 8,
    "start_time": "2021-11-30T12:40:00.265Z"
   },
   {
    "duration": 10,
    "start_time": "2021-11-30T12:40:35.613Z"
   },
   {
    "duration": 86,
    "start_time": "2021-11-30T12:41:12.643Z"
   },
   {
    "duration": 63,
    "start_time": "2021-11-30T12:41:22.099Z"
   },
   {
    "duration": 138,
    "start_time": "2021-11-30T12:41:28.495Z"
   },
   {
    "duration": 105,
    "start_time": "2021-11-30T12:42:36.080Z"
   },
   {
    "duration": 137,
    "start_time": "2021-11-30T12:42:39.887Z"
   },
   {
    "duration": 270,
    "start_time": "2021-11-30T12:42:44.784Z"
   },
   {
    "duration": 423,
    "start_time": "2021-11-30T12:44:21.189Z"
   },
   {
    "duration": 418,
    "start_time": "2021-11-30T12:45:25.842Z"
   },
   {
    "duration": 213,
    "start_time": "2021-11-30T12:46:13.028Z"
   },
   {
    "duration": 186,
    "start_time": "2021-11-30T12:49:53.871Z"
   },
   {
    "duration": 206,
    "start_time": "2021-11-30T12:50:11.520Z"
   },
   {
    "duration": 236,
    "start_time": "2021-11-30T12:51:22.379Z"
   },
   {
    "duration": 245,
    "start_time": "2021-11-30T12:51:31.816Z"
   },
   {
    "duration": 254,
    "start_time": "2021-11-30T12:52:15.987Z"
   },
   {
    "duration": 1131,
    "start_time": "2021-11-30T12:52:36.803Z"
   },
   {
    "duration": 56,
    "start_time": "2021-11-30T12:52:37.936Z"
   },
   {
    "duration": 10,
    "start_time": "2021-11-30T12:52:37.994Z"
   },
   {
    "duration": 5,
    "start_time": "2021-11-30T12:52:38.005Z"
   },
   {
    "duration": 18,
    "start_time": "2021-11-30T12:52:38.012Z"
   },
   {
    "duration": 5,
    "start_time": "2021-11-30T12:52:38.032Z"
   },
   {
    "duration": 16,
    "start_time": "2021-11-30T12:52:38.039Z"
   },
   {
    "duration": 7,
    "start_time": "2021-11-30T12:52:38.057Z"
   },
   {
    "duration": 23,
    "start_time": "2021-11-30T12:52:38.092Z"
   },
   {
    "duration": 8,
    "start_time": "2021-11-30T12:52:38.116Z"
   },
   {
    "duration": 212,
    "start_time": "2021-11-30T12:52:38.125Z"
   },
   {
    "duration": 8,
    "start_time": "2021-11-30T12:52:38.339Z"
   },
   {
    "duration": 1934,
    "start_time": "2021-11-30T12:52:38.348Z"
   },
   {
    "duration": 13,
    "start_time": "2021-11-30T12:52:40.284Z"
   },
   {
    "duration": 316,
    "start_time": "2021-11-30T12:52:40.299Z"
   },
   {
    "duration": 211,
    "start_time": "2021-11-30T12:53:01.253Z"
   },
   {
    "duration": 392,
    "start_time": "2021-11-30T12:54:14.334Z"
   },
   {
    "duration": 310,
    "start_time": "2021-11-30T12:54:25.892Z"
   },
   {
    "duration": 216,
    "start_time": "2021-11-30T12:54:32.280Z"
   },
   {
    "duration": 360,
    "start_time": "2021-11-30T12:55:45.758Z"
   },
   {
    "duration": 209,
    "start_time": "2021-11-30T12:55:56.242Z"
   },
   {
    "duration": 259,
    "start_time": "2021-11-30T12:56:12.649Z"
   },
   {
    "duration": 251,
    "start_time": "2021-11-30T12:56:32.914Z"
   },
   {
    "duration": 78,
    "start_time": "2021-11-30T12:56:46.659Z"
   },
   {
    "duration": 266,
    "start_time": "2021-11-30T12:56:49.872Z"
   },
   {
    "duration": 645,
    "start_time": "2021-11-30T12:57:40.584Z"
   },
   {
    "duration": 843,
    "start_time": "2021-11-30T12:58:17.966Z"
   },
   {
    "duration": 649,
    "start_time": "2021-11-30T12:58:31.043Z"
   },
   {
    "duration": 320,
    "start_time": "2021-11-30T13:02:36.426Z"
   },
   {
    "duration": 441,
    "start_time": "2021-11-30T13:03:04.585Z"
   },
   {
    "duration": 461,
    "start_time": "2021-11-30T13:03:20.048Z"
   },
   {
    "duration": 419,
    "start_time": "2021-11-30T13:04:04.293Z"
   },
   {
    "duration": 701,
    "start_time": "2021-11-30T13:04:16.072Z"
   },
   {
    "duration": 690,
    "start_time": "2021-11-30T13:04:54.156Z"
   },
   {
    "duration": 771,
    "start_time": "2021-11-30T13:05:55.076Z"
   },
   {
    "duration": 686,
    "start_time": "2021-11-30T13:06:35.034Z"
   },
   {
    "duration": 737,
    "start_time": "2021-11-30T13:07:02.881Z"
   },
   {
    "duration": 25,
    "start_time": "2021-11-30T13:07:46.647Z"
   },
   {
    "duration": 24,
    "start_time": "2021-11-30T13:08:07.414Z"
   },
   {
    "duration": 44,
    "start_time": "2021-11-30T13:08:32.452Z"
   },
   {
    "duration": 24,
    "start_time": "2021-11-30T13:08:37.719Z"
   },
   {
    "duration": 3,
    "start_time": "2021-11-30T13:08:42.005Z"
   },
   {
    "duration": 23,
    "start_time": "2021-11-30T13:08:46.785Z"
   },
   {
    "duration": 25,
    "start_time": "2021-11-30T13:08:55.468Z"
   },
   {
    "duration": 22,
    "start_time": "2021-11-30T13:09:02.293Z"
   },
   {
    "duration": 22,
    "start_time": "2021-11-30T13:09:16.582Z"
   },
   {
    "duration": 22,
    "start_time": "2021-11-30T13:09:29.685Z"
   },
   {
    "duration": 25,
    "start_time": "2021-11-30T13:10:41.939Z"
   },
   {
    "duration": 25,
    "start_time": "2021-11-30T13:11:02.623Z"
   },
   {
    "duration": 355,
    "start_time": "2021-11-30T13:11:16.968Z"
   },
   {
    "duration": 401,
    "start_time": "2021-11-30T13:11:30.840Z"
   },
   {
    "duration": 1142,
    "start_time": "2021-11-30T13:11:41.800Z"
   },
   {
    "duration": 56,
    "start_time": "2021-11-30T13:11:42.943Z"
   },
   {
    "duration": 10,
    "start_time": "2021-11-30T13:11:43.001Z"
   },
   {
    "duration": 36,
    "start_time": "2021-11-30T13:11:43.012Z"
   },
   {
    "duration": 41,
    "start_time": "2021-11-30T13:11:43.049Z"
   },
   {
    "duration": 15,
    "start_time": "2021-11-30T13:11:43.091Z"
   },
   {
    "duration": 36,
    "start_time": "2021-11-30T13:11:43.108Z"
   },
   {
    "duration": 26,
    "start_time": "2021-11-30T13:11:43.148Z"
   },
   {
    "duration": 66,
    "start_time": "2021-11-30T13:11:43.177Z"
   },
   {
    "duration": 11,
    "start_time": "2021-11-30T13:11:43.245Z"
   },
   {
    "duration": 217,
    "start_time": "2021-11-30T13:11:43.257Z"
   },
   {
    "duration": 16,
    "start_time": "2021-11-30T13:11:43.476Z"
   },
   {
    "duration": 2055,
    "start_time": "2021-11-30T13:11:43.494Z"
   },
   {
    "duration": 9,
    "start_time": "2021-11-30T13:11:45.551Z"
   },
   {
    "duration": 508,
    "start_time": "2021-11-30T13:11:45.562Z"
   },
   {
    "duration": 4,
    "start_time": "2021-11-30T13:12:12.246Z"
   },
   {
    "duration": 24,
    "start_time": "2021-11-30T13:12:36.555Z"
   },
   {
    "duration": 31,
    "start_time": "2021-11-30T13:12:43.382Z"
   },
   {
    "duration": 146,
    "start_time": "2021-11-30T13:13:02.915Z"
   },
   {
    "duration": 415,
    "start_time": "2021-11-30T13:13:41.014Z"
   },
   {
    "duration": 60,
    "start_time": "2021-11-30T13:14:02.785Z"
   },
   {
    "duration": 342,
    "start_time": "2021-11-30T13:14:14.413Z"
   },
   {
    "duration": 707,
    "start_time": "2021-11-30T13:14:33.154Z"
   },
   {
    "duration": 704,
    "start_time": "2021-11-30T13:15:09.128Z"
   },
   {
    "duration": 715,
    "start_time": "2021-11-30T13:18:17.703Z"
   },
   {
    "duration": 854,
    "start_time": "2021-11-30T13:19:13.854Z"
   },
   {
    "duration": 812,
    "start_time": "2021-11-30T13:19:23.905Z"
   },
   {
    "duration": 10,
    "start_time": "2021-11-30T13:20:57.910Z"
   },
   {
    "duration": 771,
    "start_time": "2021-11-30T13:21:13.670Z"
   },
   {
    "duration": 792,
    "start_time": "2021-11-30T13:29:37.087Z"
   },
   {
    "duration": 9,
    "start_time": "2021-11-30T13:34:24.462Z"
   },
   {
    "duration": 294,
    "start_time": "2021-11-30T14:03:18.816Z"
   },
   {
    "duration": 382,
    "start_time": "2021-11-30T14:03:39.701Z"
   },
   {
    "duration": 384,
    "start_time": "2021-11-30T14:03:54.050Z"
   },
   {
    "duration": 414,
    "start_time": "2021-11-30T14:04:02.066Z"
   },
   {
    "duration": 315,
    "start_time": "2021-11-30T14:04:46.472Z"
   },
   {
    "duration": 313,
    "start_time": "2021-11-30T14:06:53.164Z"
   },
   {
    "duration": 519,
    "start_time": "2021-11-30T14:09:15.599Z"
   },
   {
    "duration": 10,
    "start_time": "2021-11-30T14:10:53.095Z"
   },
   {
    "duration": 5282,
    "start_time": "2021-11-30T14:12:08.867Z"
   },
   {
    "duration": 14,
    "start_time": "2021-11-30T14:12:25.864Z"
   },
   {
    "duration": 14,
    "start_time": "2021-11-30T14:12:40.191Z"
   },
   {
    "duration": 261,
    "start_time": "2021-11-30T18:58:45.781Z"
   },
   {
    "duration": 1100,
    "start_time": "2021-11-30T18:58:52.366Z"
   },
   {
    "duration": 51,
    "start_time": "2021-11-30T18:58:53.467Z"
   },
   {
    "duration": 9,
    "start_time": "2021-11-30T18:58:53.520Z"
   },
   {
    "duration": 6,
    "start_time": "2021-11-30T18:58:53.530Z"
   },
   {
    "duration": 17,
    "start_time": "2021-11-30T18:58:53.537Z"
   },
   {
    "duration": 4,
    "start_time": "2021-11-30T18:58:53.555Z"
   },
   {
    "duration": 37,
    "start_time": "2021-11-30T18:58:53.561Z"
   },
   {
    "duration": 7,
    "start_time": "2021-11-30T18:58:53.601Z"
   },
   {
    "duration": 22,
    "start_time": "2021-11-30T18:58:53.610Z"
   },
   {
    "duration": 7,
    "start_time": "2021-11-30T18:58:53.633Z"
   },
   {
    "duration": 184,
    "start_time": "2021-11-30T18:58:53.641Z"
   },
   {
    "duration": 7,
    "start_time": "2021-11-30T18:58:53.827Z"
   },
   {
    "duration": 1854,
    "start_time": "2021-11-30T18:58:53.835Z"
   },
   {
    "duration": 8,
    "start_time": "2021-11-30T18:58:55.691Z"
   },
   {
    "duration": 789,
    "start_time": "2021-11-30T18:58:55.701Z"
   },
   {
    "duration": 498,
    "start_time": "2021-11-30T18:58:56.493Z"
   },
   {
    "duration": 15,
    "start_time": "2021-11-30T18:58:56.992Z"
   },
   {
    "duration": 768,
    "start_time": "2021-11-30T18:58:57.008Z"
   },
   {
    "duration": 690,
    "start_time": "2021-11-30T18:59:08.602Z"
   },
   {
    "duration": 6,
    "start_time": "2021-11-30T18:59:53.518Z"
   },
   {
    "duration": 10,
    "start_time": "2021-11-30T19:02:13.739Z"
   },
   {
    "duration": 10,
    "start_time": "2021-11-30T19:05:51.666Z"
   },
   {
    "duration": 308,
    "start_time": "2021-11-30T19:06:08.940Z"
   },
   {
    "duration": 298,
    "start_time": "2021-11-30T19:06:26.241Z"
   },
   {
    "duration": 8,
    "start_time": "2021-11-30T19:06:32.512Z"
   },
   {
    "duration": 11,
    "start_time": "2021-11-30T19:09:34.075Z"
   },
   {
    "duration": 12,
    "start_time": "2021-11-30T19:09:53.434Z"
   },
   {
    "duration": 1246,
    "start_time": "2021-12-01T11:13:51.438Z"
   },
   {
    "duration": 61,
    "start_time": "2021-12-01T11:13:52.686Z"
   },
   {
    "duration": 10,
    "start_time": "2021-12-01T11:13:52.750Z"
   },
   {
    "duration": 4,
    "start_time": "2021-12-01T11:13:52.762Z"
   },
   {
    "duration": 20,
    "start_time": "2021-12-01T11:13:52.768Z"
   },
   {
    "duration": 23,
    "start_time": "2021-12-01T11:13:52.790Z"
   },
   {
    "duration": 23,
    "start_time": "2021-12-01T11:13:52.816Z"
   },
   {
    "duration": 9,
    "start_time": "2021-12-01T11:13:52.841Z"
   },
   {
    "duration": 57,
    "start_time": "2021-12-01T11:13:52.852Z"
   },
   {
    "duration": 12,
    "start_time": "2021-12-01T11:13:52.912Z"
   },
   {
    "duration": 211,
    "start_time": "2021-12-01T11:13:52.927Z"
   },
   {
    "duration": 8,
    "start_time": "2021-12-01T11:13:53.140Z"
   },
   {
    "duration": 2325,
    "start_time": "2021-12-01T11:13:53.150Z"
   },
   {
    "duration": 10,
    "start_time": "2021-12-01T11:13:55.477Z"
   },
   {
    "duration": 973,
    "start_time": "2021-12-01T11:13:55.489Z"
   },
   {
    "duration": 632,
    "start_time": "2021-12-01T11:13:56.464Z"
   },
   {
    "duration": 24,
    "start_time": "2021-12-01T11:13:57.097Z"
   },
   {
    "duration": 909,
    "start_time": "2021-12-01T11:13:57.124Z"
   },
   {
    "duration": 13,
    "start_time": "2021-12-01T11:13:58.035Z"
   },
   {
    "duration": 11,
    "start_time": "2021-12-01T11:13:58.050Z"
   },
   {
    "duration": 488,
    "start_time": "2021-12-01T11:55:46.754Z"
   },
   {
    "duration": 419,
    "start_time": "2021-12-01T11:56:10.198Z"
   },
   {
    "duration": 9,
    "start_time": "2021-12-01T11:56:15.636Z"
   },
   {
    "duration": 416,
    "start_time": "2021-12-01T11:56:42.180Z"
   },
   {
    "duration": 955,
    "start_time": "2021-12-01T11:56:58.881Z"
   },
   {
    "duration": 15,
    "start_time": "2021-12-01T11:57:09.304Z"
   },
   {
    "duration": 8,
    "start_time": "2021-12-01T11:59:09.174Z"
   },
   {
    "duration": 10,
    "start_time": "2021-12-01T11:59:25.982Z"
   },
   {
    "duration": 641,
    "start_time": "2021-12-01T12:00:56.067Z"
   },
   {
    "duration": 12,
    "start_time": "2021-12-01T12:01:06.268Z"
   },
   {
    "duration": 10,
    "start_time": "2021-12-01T12:01:42.701Z"
   },
   {
    "duration": 8,
    "start_time": "2021-12-01T12:02:14.950Z"
   },
   {
    "duration": 2,
    "start_time": "2021-12-01T12:04:42.969Z"
   },
   {
    "duration": 10,
    "start_time": "2021-12-01T12:04:49.259Z"
   },
   {
    "duration": 821,
    "start_time": "2021-12-01T12:09:40.939Z"
   },
   {
    "duration": 13,
    "start_time": "2021-12-01T12:19:54.442Z"
   },
   {
    "duration": 1249,
    "start_time": "2021-12-01T12:20:01.440Z"
   },
   {
    "duration": 63,
    "start_time": "2021-12-01T12:20:02.691Z"
   },
   {
    "duration": 11,
    "start_time": "2021-12-01T12:20:02.756Z"
   },
   {
    "duration": 12,
    "start_time": "2021-12-01T12:20:02.769Z"
   },
   {
    "duration": 41,
    "start_time": "2021-12-01T12:20:02.783Z"
   },
   {
    "duration": 5,
    "start_time": "2021-12-01T12:20:02.826Z"
   },
   {
    "duration": 27,
    "start_time": "2021-12-01T12:20:02.833Z"
   },
   {
    "duration": 10,
    "start_time": "2021-12-01T12:20:02.863Z"
   },
   {
    "duration": 57,
    "start_time": "2021-12-01T12:20:02.876Z"
   },
   {
    "duration": 9,
    "start_time": "2021-12-01T12:20:02.936Z"
   },
   {
    "duration": 211,
    "start_time": "2021-12-01T12:20:02.947Z"
   },
   {
    "duration": 11,
    "start_time": "2021-12-01T12:20:03.160Z"
   },
   {
    "duration": 2236,
    "start_time": "2021-12-01T12:20:03.172Z"
   },
   {
    "duration": 4,
    "start_time": "2021-12-01T12:20:05.410Z"
   },
   {
    "duration": 22,
    "start_time": "2021-12-01T12:20:05.417Z"
   },
   {
    "duration": 965,
    "start_time": "2021-12-01T12:20:05.442Z"
   },
   {
    "duration": 609,
    "start_time": "2021-12-01T12:20:06.410Z"
   },
   {
    "duration": 15,
    "start_time": "2021-12-01T12:20:07.022Z"
   },
   {
    "duration": 872,
    "start_time": "2021-12-01T12:20:07.039Z"
   },
   {
    "duration": 18,
    "start_time": "2021-12-01T12:20:07.914Z"
   },
   {
    "duration": 11,
    "start_time": "2021-12-01T12:20:07.934Z"
   },
   {
    "duration": 11,
    "start_time": "2021-12-01T12:20:07.947Z"
   },
   {
    "duration": 8,
    "start_time": "2021-12-01T12:20:07.961Z"
   },
   {
    "duration": 49,
    "start_time": "2021-12-01T12:20:07.971Z"
   },
   {
    "duration": 1283,
    "start_time": "2021-12-01T12:20:26.303Z"
   },
   {
    "duration": 63,
    "start_time": "2021-12-01T12:20:27.589Z"
   },
   {
    "duration": 11,
    "start_time": "2021-12-01T12:20:27.654Z"
   },
   {
    "duration": 4,
    "start_time": "2021-12-01T12:20:27.667Z"
   },
   {
    "duration": 55,
    "start_time": "2021-12-01T12:20:27.673Z"
   },
   {
    "duration": 5,
    "start_time": "2021-12-01T12:20:27.730Z"
   },
   {
    "duration": 17,
    "start_time": "2021-12-01T12:20:27.737Z"
   },
   {
    "duration": 9,
    "start_time": "2021-12-01T12:20:27.758Z"
   },
   {
    "duration": 67,
    "start_time": "2021-12-01T12:20:27.769Z"
   },
   {
    "duration": 9,
    "start_time": "2021-12-01T12:20:27.839Z"
   },
   {
    "duration": 312,
    "start_time": "2021-12-01T12:20:27.850Z"
   },
   {
    "duration": 9,
    "start_time": "2021-12-01T12:20:28.164Z"
   },
   {
    "duration": 2152,
    "start_time": "2021-12-01T12:20:28.175Z"
   },
   {
    "duration": 3,
    "start_time": "2021-12-01T12:20:30.330Z"
   },
   {
    "duration": 32,
    "start_time": "2021-12-01T12:20:30.335Z"
   },
   {
    "duration": 974,
    "start_time": "2021-12-01T12:20:30.369Z"
   },
   {
    "duration": 582,
    "start_time": "2021-12-01T12:20:31.345Z"
   },
   {
    "duration": 14,
    "start_time": "2021-12-01T12:20:31.930Z"
   },
   {
    "duration": 979,
    "start_time": "2021-12-01T12:20:31.946Z"
   },
   {
    "duration": 13,
    "start_time": "2021-12-01T12:20:32.927Z"
   },
   {
    "duration": 16,
    "start_time": "2021-12-01T12:20:32.942Z"
   },
   {
    "duration": 36,
    "start_time": "2021-12-01T12:20:32.960Z"
   },
   {
    "duration": 23,
    "start_time": "2021-12-01T12:20:33.000Z"
   },
   {
    "duration": 13,
    "start_time": "2021-12-01T12:20:33.025Z"
   },
   {
    "duration": 12,
    "start_time": "2021-12-01T12:20:48.827Z"
   },
   {
    "duration": 10,
    "start_time": "2021-12-01T12:20:52.496Z"
   },
   {
    "duration": 520,
    "start_time": "2021-12-01T12:22:14.246Z"
   },
   {
    "duration": 512,
    "start_time": "2021-12-01T12:22:33.853Z"
   },
   {
    "duration": 18,
    "start_time": "2021-12-01T12:23:05.647Z"
   },
   {
    "duration": 10,
    "start_time": "2021-12-01T12:28:58.881Z"
   },
   {
    "duration": 8,
    "start_time": "2021-12-01T12:29:21.575Z"
   },
   {
    "duration": 11,
    "start_time": "2021-12-01T12:29:35.414Z"
   },
   {
    "duration": 461,
    "start_time": "2021-12-01T12:30:12.973Z"
   },
   {
    "duration": 375,
    "start_time": "2021-12-01T12:30:14.608Z"
   },
   {
    "duration": 10,
    "start_time": "2021-12-01T12:30:16.269Z"
   },
   {
    "duration": 18,
    "start_time": "2021-12-01T12:30:17.939Z"
   },
   {
    "duration": 9,
    "start_time": "2021-12-01T12:30:19.721Z"
   },
   {
    "duration": 10,
    "start_time": "2021-12-01T12:30:29.270Z"
   },
   {
    "duration": 9,
    "start_time": "2021-12-01T12:30:39.168Z"
   },
   {
    "duration": 8,
    "start_time": "2021-12-01T12:30:41.285Z"
   },
   {
    "duration": 9,
    "start_time": "2021-12-01T12:30:43.381Z"
   },
   {
    "duration": 9,
    "start_time": "2021-12-01T12:33:48.246Z"
   },
   {
    "duration": 10,
    "start_time": "2021-12-01T12:33:50.910Z"
   },
   {
    "duration": 9,
    "start_time": "2021-12-01T12:33:53.036Z"
   },
   {
    "duration": 10,
    "start_time": "2021-12-01T12:34:01.575Z"
   },
   {
    "duration": 8,
    "start_time": "2021-12-01T12:34:08.242Z"
   },
   {
    "duration": 10,
    "start_time": "2021-12-01T12:34:10.509Z"
   },
   {
    "duration": 12,
    "start_time": "2021-12-01T12:35:40.968Z"
   },
   {
    "duration": 10,
    "start_time": "2021-12-01T12:35:58.149Z"
   },
   {
    "duration": 9,
    "start_time": "2021-12-01T12:35:59.770Z"
   },
   {
    "duration": 917,
    "start_time": "2021-12-01T12:36:18.311Z"
   },
   {
    "duration": 9,
    "start_time": "2021-12-01T12:36:23.947Z"
   },
   {
    "duration": 9,
    "start_time": "2021-12-01T12:36:39.852Z"
   },
   {
    "duration": 8,
    "start_time": "2021-12-01T12:36:41.585Z"
   },
   {
    "duration": 2,
    "start_time": "2021-12-01T12:41:18.721Z"
   },
   {
    "duration": 12,
    "start_time": "2021-12-01T13:13:10.793Z"
   },
   {
    "duration": 121,
    "start_time": "2021-12-01T13:13:45.483Z"
   },
   {
    "duration": 10,
    "start_time": "2021-12-01T13:13:53.242Z"
   },
   {
    "duration": 8,
    "start_time": "2021-12-01T13:14:06.953Z"
   },
   {
    "duration": 1293,
    "start_time": "2021-12-01T13:14:45.727Z"
   },
   {
    "duration": 56,
    "start_time": "2021-12-01T13:14:47.023Z"
   },
   {
    "duration": 11,
    "start_time": "2021-12-01T13:14:47.081Z"
   },
   {
    "duration": 16,
    "start_time": "2021-12-01T13:14:47.094Z"
   },
   {
    "duration": 26,
    "start_time": "2021-12-01T13:14:47.112Z"
   },
   {
    "duration": 9,
    "start_time": "2021-12-01T13:14:47.140Z"
   },
   {
    "duration": 32,
    "start_time": "2021-12-01T13:14:47.151Z"
   },
   {
    "duration": 8,
    "start_time": "2021-12-01T13:14:47.186Z"
   },
   {
    "duration": 31,
    "start_time": "2021-12-01T13:14:47.196Z"
   },
   {
    "duration": 7,
    "start_time": "2021-12-01T13:14:47.229Z"
   },
   {
    "duration": 202,
    "start_time": "2021-12-01T13:14:47.238Z"
   },
   {
    "duration": 9,
    "start_time": "2021-12-01T13:14:47.443Z"
   },
   {
    "duration": 1990,
    "start_time": "2021-12-01T13:14:47.454Z"
   },
   {
    "duration": 3,
    "start_time": "2021-12-01T13:14:49.446Z"
   },
   {
    "duration": 17,
    "start_time": "2021-12-01T13:14:49.451Z"
   },
   {
    "duration": 866,
    "start_time": "2021-12-01T13:14:49.470Z"
   },
   {
    "duration": 503,
    "start_time": "2021-12-01T13:14:50.338Z"
   },
   {
    "duration": 16,
    "start_time": "2021-12-01T13:14:50.843Z"
   },
   {
    "duration": 917,
    "start_time": "2021-12-01T13:14:50.861Z"
   },
   {
    "duration": 11,
    "start_time": "2021-12-01T13:14:51.780Z"
   },
   {
    "duration": 41,
    "start_time": "2021-12-01T13:14:51.793Z"
   },
   {
    "duration": 26,
    "start_time": "2021-12-01T13:14:51.836Z"
   },
   {
    "duration": 16,
    "start_time": "2021-12-01T13:14:51.866Z"
   },
   {
    "duration": 12,
    "start_time": "2021-12-01T13:14:51.884Z"
   },
   {
    "duration": 15,
    "start_time": "2021-12-01T13:14:51.898Z"
   },
   {
    "duration": 16,
    "start_time": "2021-12-01T13:14:51.917Z"
   },
   {
    "duration": 24,
    "start_time": "2021-12-01T13:14:51.935Z"
   },
   {
    "duration": 1288,
    "start_time": "2021-12-01T13:14:51.962Z"
   },
   {
    "duration": 8,
    "start_time": "2021-12-01T13:16:18.245Z"
   },
   {
    "duration": 6,
    "start_time": "2021-12-01T13:21:16.787Z"
   },
   {
    "duration": 3,
    "start_time": "2021-12-01T13:21:40.024Z"
   },
   {
    "duration": 1377,
    "start_time": "2021-12-01T13:28:42.444Z"
   },
   {
    "duration": 1324,
    "start_time": "2021-12-01T13:28:51.916Z"
   },
   {
    "duration": 10041,
    "start_time": "2021-12-01T13:31:07.044Z"
   },
   {
    "duration": 10210,
    "start_time": "2021-12-01T13:32:05.094Z"
   },
   {
    "duration": 123,
    "start_time": "2021-12-01T13:33:01.752Z"
   },
   {
    "duration": 10519,
    "start_time": "2021-12-01T13:33:12.343Z"
   },
   {
    "duration": 135,
    "start_time": "2021-12-01T13:39:10.636Z"
   },
   {
    "duration": 445,
    "start_time": "2021-12-01T13:39:15.076Z"
   },
   {
    "duration": 9,
    "start_time": "2021-12-01T13:39:31.157Z"
   },
   {
    "duration": 35,
    "start_time": "2021-12-01T13:39:36.068Z"
   },
   {
    "duration": 369,
    "start_time": "2021-12-01T13:42:11.194Z"
   },
   {
    "duration": 388,
    "start_time": "2021-12-01T13:43:25.159Z"
   },
   {
    "duration": 3,
    "start_time": "2021-12-01T13:46:14.460Z"
   },
   {
    "duration": 403,
    "start_time": "2021-12-01T13:46:35.597Z"
   },
   {
    "duration": 1414,
    "start_time": "2021-12-01T13:47:20.023Z"
   },
   {
    "duration": 1979,
    "start_time": "2021-12-01T13:48:03.010Z"
   },
   {
    "duration": 931,
    "start_time": "2021-12-01T13:49:16.722Z"
   },
   {
    "duration": 9,
    "start_time": "2021-12-01T13:49:25.032Z"
   },
   {
    "duration": 28,
    "start_time": "2021-12-01T13:49:29.851Z"
   },
   {
    "duration": 32,
    "start_time": "2021-12-01T13:49:43.104Z"
   },
   {
    "duration": 1035,
    "start_time": "2021-12-01T13:50:28.786Z"
   },
   {
    "duration": 890,
    "start_time": "2021-12-01T13:50:57.164Z"
   },
   {
    "duration": 1723,
    "start_time": "2021-12-01T13:52:16.441Z"
   },
   {
    "duration": 26,
    "start_time": "2021-12-01T13:53:20.563Z"
   },
   {
    "duration": 30,
    "start_time": "2021-12-01T13:53:32.396Z"
   },
   {
    "duration": 23,
    "start_time": "2021-12-01T13:54:23.925Z"
   },
   {
    "duration": 67,
    "start_time": "2021-12-01T13:54:41.006Z"
   },
   {
    "duration": 23,
    "start_time": "2021-12-01T13:54:46.836Z"
   },
   {
    "duration": 12,
    "start_time": "2021-12-01T13:56:21.035Z"
   },
   {
    "duration": 1262,
    "start_time": "2021-12-01T13:56:38.178Z"
   },
   {
    "duration": 59,
    "start_time": "2021-12-01T13:56:39.443Z"
   },
   {
    "duration": 16,
    "start_time": "2021-12-01T13:56:39.504Z"
   },
   {
    "duration": 19,
    "start_time": "2021-12-01T13:56:39.523Z"
   },
   {
    "duration": 32,
    "start_time": "2021-12-01T13:56:39.544Z"
   },
   {
    "duration": 15,
    "start_time": "2021-12-01T13:56:39.578Z"
   },
   {
    "duration": 37,
    "start_time": "2021-12-01T13:56:39.595Z"
   },
   {
    "duration": 19,
    "start_time": "2021-12-01T13:56:39.635Z"
   },
   {
    "duration": 37,
    "start_time": "2021-12-01T13:56:39.656Z"
   },
   {
    "duration": 27,
    "start_time": "2021-12-01T13:56:39.695Z"
   },
   {
    "duration": 260,
    "start_time": "2021-12-01T13:56:39.724Z"
   },
   {
    "duration": 20,
    "start_time": "2021-12-01T13:56:39.987Z"
   },
   {
    "duration": 3251,
    "start_time": "2021-12-01T13:56:40.013Z"
   },
   {
    "duration": 4,
    "start_time": "2021-12-01T13:56:43.266Z"
   },
   {
    "duration": 24,
    "start_time": "2021-12-01T13:56:43.272Z"
   },
   {
    "duration": 1020,
    "start_time": "2021-12-01T13:56:43.298Z"
   },
   {
    "duration": 573,
    "start_time": "2021-12-01T13:56:44.320Z"
   },
   {
    "duration": 26,
    "start_time": "2021-12-01T13:56:44.895Z"
   },
   {
    "duration": 884,
    "start_time": "2021-12-01T13:56:44.926Z"
   },
   {
    "duration": 18,
    "start_time": "2021-12-01T13:56:45.812Z"
   },
   {
    "duration": 867,
    "start_time": "2021-12-01T13:56:45.832Z"
   },
   {
    "duration": 240,
    "start_time": "2021-12-01T13:56:46.700Z"
   },
   {
    "duration": 34,
    "start_time": "2021-12-01T13:56:46.943Z"
   },
   {
    "duration": 30,
    "start_time": "2021-12-01T13:56:46.979Z"
   },
   {
    "duration": 20,
    "start_time": "2021-12-01T13:56:47.011Z"
   },
   {
    "duration": 27,
    "start_time": "2021-12-01T13:56:47.033Z"
   },
   {
    "duration": 21,
    "start_time": "2021-12-01T13:56:47.062Z"
   },
   {
    "duration": 16,
    "start_time": "2021-12-01T13:56:47.085Z"
   },
   {
    "duration": 45,
    "start_time": "2021-12-01T13:56:47.103Z"
   },
   {
    "duration": 1125,
    "start_time": "2021-12-01T18:16:36.839Z"
   },
   {
    "duration": 55,
    "start_time": "2021-12-01T18:16:37.966Z"
   },
   {
    "duration": 9,
    "start_time": "2021-12-01T18:16:38.026Z"
   },
   {
    "duration": 17,
    "start_time": "2021-12-01T18:16:38.037Z"
   },
   {
    "duration": 33,
    "start_time": "2021-12-01T18:16:38.055Z"
   },
   {
    "duration": 8,
    "start_time": "2021-12-01T18:16:38.089Z"
   },
   {
    "duration": 28,
    "start_time": "2021-12-01T18:16:38.099Z"
   },
   {
    "duration": 9,
    "start_time": "2021-12-01T18:16:38.129Z"
   },
   {
    "duration": 37,
    "start_time": "2021-12-01T18:16:38.140Z"
   },
   {
    "duration": 7,
    "start_time": "2021-12-01T18:16:38.178Z"
   },
   {
    "duration": 177,
    "start_time": "2021-12-01T18:16:38.187Z"
   },
   {
    "duration": 9,
    "start_time": "2021-12-01T18:16:38.366Z"
   },
   {
    "duration": 1946,
    "start_time": "2021-12-01T18:16:38.376Z"
   },
   {
    "duration": 3,
    "start_time": "2021-12-01T18:16:40.324Z"
   },
   {
    "duration": 12,
    "start_time": "2021-12-01T18:16:40.328Z"
   },
   {
    "duration": 837,
    "start_time": "2021-12-01T18:16:40.342Z"
   },
   {
    "duration": 570,
    "start_time": "2021-12-01T18:16:41.181Z"
   },
   {
    "duration": 16,
    "start_time": "2021-12-01T18:16:41.752Z"
   },
   {
    "duration": 937,
    "start_time": "2021-12-01T18:16:41.769Z"
   },
   {
    "duration": 12,
    "start_time": "2021-12-01T18:16:42.708Z"
   },
   {
    "duration": 12,
    "start_time": "2021-12-01T18:16:42.723Z"
   },
   {
    "duration": 9,
    "start_time": "2021-12-01T18:16:42.739Z"
   },
   {
    "duration": 7,
    "start_time": "2021-12-01T18:16:42.750Z"
   },
   {
    "duration": 8,
    "start_time": "2021-12-01T18:16:42.758Z"
   },
   {
    "duration": 8,
    "start_time": "2021-12-01T18:16:42.807Z"
   },
   {
    "duration": 7,
    "start_time": "2021-12-01T18:16:42.817Z"
   },
   {
    "duration": 8,
    "start_time": "2021-12-01T18:16:42.825Z"
   },
   {
    "duration": 515,
    "start_time": "2021-12-01T18:16:42.834Z"
   },
   {
    "duration": -201,
    "start_time": "2021-12-01T18:16:43.552Z"
   },
   {
    "duration": 26,
    "start_time": "2021-12-01T18:17:42.509Z"
   },
   {
    "duration": 380,
    "start_time": "2021-12-01T18:18:05.154Z"
   },
   {
    "duration": 19,
    "start_time": "2021-12-01T18:18:20.796Z"
   },
   {
    "duration": 389,
    "start_time": "2021-12-01T18:19:27.395Z"
   },
   {
    "duration": 19,
    "start_time": "2021-12-01T18:19:40.013Z"
   },
   {
    "duration": 9,
    "start_time": "2021-12-01T18:21:02.188Z"
   },
   {
    "duration": 9,
    "start_time": "2021-12-01T18:21:19.018Z"
   },
   {
    "duration": 9,
    "start_time": "2021-12-01T18:21:27.850Z"
   },
   {
    "duration": 10,
    "start_time": "2021-12-01T18:22:40.574Z"
   },
   {
    "duration": 11,
    "start_time": "2021-12-01T18:22:50.791Z"
   },
   {
    "duration": 10,
    "start_time": "2021-12-01T18:25:10.678Z"
   },
   {
    "duration": 359,
    "start_time": "2021-12-01T18:27:25.536Z"
   },
   {
    "duration": 369,
    "start_time": "2021-12-01T18:27:36.467Z"
   },
   {
    "duration": 119,
    "start_time": "2021-12-01T18:27:39.025Z"
   },
   {
    "duration": 3,
    "start_time": "2021-12-01T18:27:42.839Z"
   },
   {
    "duration": 9,
    "start_time": "2021-12-01T18:27:44.780Z"
   },
   {
    "duration": 8,
    "start_time": "2021-12-01T18:28:45.930Z"
   },
   {
    "duration": 9,
    "start_time": "2021-12-01T18:29:08.695Z"
   },
   {
    "duration": 4,
    "start_time": "2021-12-01T18:31:06.930Z"
   },
   {
    "duration": 8,
    "start_time": "2021-12-01T18:31:08.764Z"
   },
   {
    "duration": 4,
    "start_time": "2021-12-01T18:31:17.406Z"
   },
   {
    "duration": 8,
    "start_time": "2021-12-01T18:31:19.974Z"
   },
   {
    "duration": 3,
    "start_time": "2021-12-01T18:32:02.106Z"
   },
   {
    "duration": 1848,
    "start_time": "2021-12-01T18:32:04.407Z"
   },
   {
    "duration": 4,
    "start_time": "2021-12-01T18:32:25.885Z"
   },
   {
    "duration": 1256,
    "start_time": "2021-12-01T18:32:31.808Z"
   },
   {
    "duration": 57,
    "start_time": "2021-12-01T18:32:33.066Z"
   },
   {
    "duration": 10,
    "start_time": "2021-12-01T18:32:33.125Z"
   },
   {
    "duration": 2,
    "start_time": "2021-12-01T18:32:33.138Z"
   },
   {
    "duration": 28,
    "start_time": "2021-12-01T18:32:33.142Z"
   },
   {
    "duration": 4,
    "start_time": "2021-12-01T18:32:33.172Z"
   },
   {
    "duration": 35,
    "start_time": "2021-12-01T18:32:33.178Z"
   },
   {
    "duration": 10,
    "start_time": "2021-12-01T18:32:33.215Z"
   },
   {
    "duration": 25,
    "start_time": "2021-12-01T18:32:33.227Z"
   },
   {
    "duration": 9,
    "start_time": "2021-12-01T18:32:33.253Z"
   },
   {
    "duration": 205,
    "start_time": "2021-12-01T18:32:33.264Z"
   },
   {
    "duration": 8,
    "start_time": "2021-12-01T18:32:33.471Z"
   },
   {
    "duration": 1928,
    "start_time": "2021-12-01T18:32:33.481Z"
   },
   {
    "duration": 2,
    "start_time": "2021-12-01T18:32:35.411Z"
   },
   {
    "duration": 10,
    "start_time": "2021-12-01T18:32:35.415Z"
   },
   {
    "duration": 824,
    "start_time": "2021-12-01T18:32:35.427Z"
   },
   {
    "duration": 478,
    "start_time": "2021-12-01T18:32:36.252Z"
   },
   {
    "duration": 16,
    "start_time": "2021-12-01T18:32:36.732Z"
   },
   {
    "duration": 780,
    "start_time": "2021-12-01T18:32:36.750Z"
   },
   {
    "duration": 10,
    "start_time": "2021-12-01T18:32:37.532Z"
   },
   {
    "duration": 10,
    "start_time": "2021-12-01T18:32:37.544Z"
   },
   {
    "duration": 20,
    "start_time": "2021-12-01T18:32:37.555Z"
   },
   {
    "duration": 30,
    "start_time": "2021-12-01T18:32:37.578Z"
   },
   {
    "duration": 9,
    "start_time": "2021-12-01T18:32:37.610Z"
   },
   {
    "duration": 10,
    "start_time": "2021-12-01T18:32:37.621Z"
   },
   {
    "duration": 10,
    "start_time": "2021-12-01T18:32:37.633Z"
   },
   {
    "duration": 10,
    "start_time": "2021-12-01T18:32:37.645Z"
   },
   {
    "duration": 4,
    "start_time": "2021-12-01T18:32:37.657Z"
   },
   {
    "duration": 50,
    "start_time": "2021-12-01T18:32:37.663Z"
   },
   {
    "duration": 10,
    "start_time": "2021-12-01T18:32:37.715Z"
   },
   {
    "duration": 21,
    "start_time": "2021-12-01T18:32:37.726Z"
   },
   {
    "duration": 43,
    "start_time": "2021-12-01T18:32:37.749Z"
   },
   {
    "duration": 3,
    "start_time": "2021-12-01T18:32:54.054Z"
   },
   {
    "duration": 9,
    "start_time": "2021-12-01T18:32:56.943Z"
   },
   {
    "duration": 4,
    "start_time": "2021-12-01T18:33:17.981Z"
   },
   {
    "duration": 11,
    "start_time": "2021-12-01T18:33:20.746Z"
   },
   {
    "duration": 4,
    "start_time": "2021-12-01T18:33:46.629Z"
   },
   {
    "duration": 9,
    "start_time": "2021-12-01T18:33:49.349Z"
   },
   {
    "duration": 3,
    "start_time": "2021-12-01T18:35:35.425Z"
   },
   {
    "duration": 10,
    "start_time": "2021-12-01T18:35:38.269Z"
   },
   {
    "duration": 123,
    "start_time": "2021-12-01T18:35:58.683Z"
   },
   {
    "duration": 4,
    "start_time": "2021-12-01T18:36:12.943Z"
   },
   {
    "duration": 13,
    "start_time": "2021-12-01T18:36:16.020Z"
   },
   {
    "duration": 4,
    "start_time": "2021-12-01T18:36:49.285Z"
   },
   {
    "duration": 16,
    "start_time": "2021-12-01T18:36:51.874Z"
   },
   {
    "duration": 4,
    "start_time": "2021-12-01T18:37:01.858Z"
   },
   {
    "duration": 17,
    "start_time": "2021-12-01T18:37:04.763Z"
   },
   {
    "duration": 4,
    "start_time": "2021-12-01T18:37:26.819Z"
   },
   {
    "duration": 10,
    "start_time": "2021-12-01T18:37:29.315Z"
   },
   {
    "duration": 9,
    "start_time": "2021-12-01T18:37:38.742Z"
   },
   {
    "duration": 9,
    "start_time": "2021-12-01T18:37:41.445Z"
   },
   {
    "duration": 9,
    "start_time": "2021-12-01T18:37:43.698Z"
   },
   {
    "duration": 24,
    "start_time": "2021-12-01T18:38:08.750Z"
   },
   {
    "duration": 24,
    "start_time": "2021-12-01T18:38:15.031Z"
   },
   {
    "duration": 285,
    "start_time": "2021-12-02T10:00:35.463Z"
   },
   {
    "duration": 1117,
    "start_time": "2021-12-02T10:00:41.184Z"
   },
   {
    "duration": 63,
    "start_time": "2021-12-02T10:00:42.303Z"
   },
   {
    "duration": 9,
    "start_time": "2021-12-02T10:00:42.368Z"
   },
   {
    "duration": 2,
    "start_time": "2021-12-02T10:00:42.379Z"
   },
   {
    "duration": 21,
    "start_time": "2021-12-02T10:00:42.383Z"
   },
   {
    "duration": 4,
    "start_time": "2021-12-02T10:00:42.406Z"
   },
   {
    "duration": 17,
    "start_time": "2021-12-02T10:00:42.412Z"
   },
   {
    "duration": 7,
    "start_time": "2021-12-02T10:00:42.431Z"
   },
   {
    "duration": 24,
    "start_time": "2021-12-02T10:00:42.440Z"
   },
   {
    "duration": 23,
    "start_time": "2021-12-02T10:00:42.466Z"
   },
   {
    "duration": 165,
    "start_time": "2021-12-02T10:00:42.490Z"
   },
   {
    "duration": 7,
    "start_time": "2021-12-02T10:00:42.656Z"
   },
   {
    "duration": 1748,
    "start_time": "2021-12-02T10:00:42.665Z"
   },
   {
    "duration": 3,
    "start_time": "2021-12-02T10:00:44.414Z"
   },
   {
    "duration": 16,
    "start_time": "2021-12-02T10:00:44.418Z"
   },
   {
    "duration": 837,
    "start_time": "2021-12-02T10:00:44.436Z"
   },
   {
    "duration": 439,
    "start_time": "2021-12-02T10:00:45.275Z"
   },
   {
    "duration": 15,
    "start_time": "2021-12-02T10:00:45.716Z"
   },
   {
    "duration": 732,
    "start_time": "2021-12-02T10:00:45.732Z"
   },
   {
    "duration": 10,
    "start_time": "2021-12-02T10:00:46.466Z"
   },
   {
    "duration": 17,
    "start_time": "2021-12-02T10:00:46.488Z"
   },
   {
    "duration": 38,
    "start_time": "2021-12-02T10:00:46.506Z"
   },
   {
    "duration": 14,
    "start_time": "2021-12-02T10:00:46.547Z"
   },
   {
    "duration": 13,
    "start_time": "2021-12-02T10:00:46.563Z"
   },
   {
    "duration": 7,
    "start_time": "2021-12-02T10:00:46.577Z"
   },
   {
    "duration": 8,
    "start_time": "2021-12-02T10:00:46.586Z"
   },
   {
    "duration": 7,
    "start_time": "2021-12-02T10:00:46.596Z"
   },
   {
    "duration": 4,
    "start_time": "2021-12-02T10:00:46.605Z"
   },
   {
    "duration": 9,
    "start_time": "2021-12-02T10:00:46.611Z"
   },
   {
    "duration": 9,
    "start_time": "2021-12-02T10:00:46.622Z"
   },
   {
    "duration": 8,
    "start_time": "2021-12-02T10:00:46.633Z"
   },
   {
    "duration": 50,
    "start_time": "2021-12-02T10:00:46.643Z"
   },
   {
    "duration": 12,
    "start_time": "2021-12-02T10:01:22.519Z"
   },
   {
    "duration": 12,
    "start_time": "2021-12-02T10:02:21.196Z"
   },
   {
    "duration": 11,
    "start_time": "2021-12-02T10:02:23.264Z"
   },
   {
    "duration": 14,
    "start_time": "2021-12-02T10:02:41.083Z"
   },
   {
    "duration": 22,
    "start_time": "2021-12-02T10:03:05.988Z"
   },
   {
    "duration": 22,
    "start_time": "2021-12-02T10:04:03.734Z"
   },
   {
    "duration": 15,
    "start_time": "2021-12-02T10:04:20.744Z"
   },
   {
    "duration": 15,
    "start_time": "2021-12-02T10:04:43.993Z"
   },
   {
    "duration": 15,
    "start_time": "2021-12-02T10:04:58.841Z"
   },
   {
    "duration": 15,
    "start_time": "2021-12-02T10:05:00.999Z"
   },
   {
    "duration": 338,
    "start_time": "2021-12-02T10:06:21.149Z"
   },
   {
    "duration": 247,
    "start_time": "2021-12-02T10:06:26.979Z"
   },
   {
    "duration": 239,
    "start_time": "2021-12-02T10:06:37.429Z"
   },
   {
    "duration": 18,
    "start_time": "2021-12-02T10:06:50.737Z"
   },
   {
    "duration": 251,
    "start_time": "2021-12-02T10:07:02.565Z"
   },
   {
    "duration": 258,
    "start_time": "2021-12-02T10:07:09.319Z"
   },
   {
    "duration": 246,
    "start_time": "2021-12-02T10:07:12.743Z"
   },
   {
    "duration": 42,
    "start_time": "2021-12-02T10:07:27.392Z"
   },
   {
    "duration": 17,
    "start_time": "2021-12-02T10:08:38.381Z"
   },
   {
    "duration": 19,
    "start_time": "2021-12-02T10:09:35.368Z"
   },
   {
    "duration": 19,
    "start_time": "2021-12-02T10:09:58.063Z"
   },
   {
    "duration": 5,
    "start_time": "2021-12-02T10:10:46.977Z"
   },
   {
    "duration": 17,
    "start_time": "2021-12-02T10:10:51.308Z"
   },
   {
    "duration": 5,
    "start_time": "2021-12-02T10:11:06.812Z"
   },
   {
    "duration": 18,
    "start_time": "2021-12-02T10:11:09.936Z"
   },
   {
    "duration": 14,
    "start_time": "2021-12-02T10:11:47.324Z"
   },
   {
    "duration": 14,
    "start_time": "2021-12-02T10:12:09.091Z"
   },
   {
    "duration": 14,
    "start_time": "2021-12-02T10:12:16.912Z"
   },
   {
    "duration": 995,
    "start_time": "2021-12-02T10:12:56.222Z"
   },
   {
    "duration": 51,
    "start_time": "2021-12-02T10:12:57.219Z"
   },
   {
    "duration": 9,
    "start_time": "2021-12-02T10:12:57.271Z"
   },
   {
    "duration": 3,
    "start_time": "2021-12-02T10:12:57.281Z"
   },
   {
    "duration": 17,
    "start_time": "2021-12-02T10:12:57.285Z"
   },
   {
    "duration": 4,
    "start_time": "2021-12-02T10:12:57.304Z"
   },
   {
    "duration": 16,
    "start_time": "2021-12-02T10:12:57.309Z"
   },
   {
    "duration": 7,
    "start_time": "2021-12-02T10:12:57.327Z"
   },
   {
    "duration": 21,
    "start_time": "2021-12-02T10:12:57.336Z"
   },
   {
    "duration": 32,
    "start_time": "2021-12-02T10:12:57.358Z"
   },
   {
    "duration": 164,
    "start_time": "2021-12-02T10:12:57.391Z"
   },
   {
    "duration": 7,
    "start_time": "2021-12-02T10:12:57.556Z"
   },
   {
    "duration": 1727,
    "start_time": "2021-12-02T10:12:57.564Z"
   },
   {
    "duration": 2,
    "start_time": "2021-12-02T10:12:59.293Z"
   },
   {
    "duration": 10,
    "start_time": "2021-12-02T10:12:59.296Z"
   },
   {
    "duration": 743,
    "start_time": "2021-12-02T10:12:59.308Z"
   },
   {
    "duration": 556,
    "start_time": "2021-12-02T10:13:00.054Z"
   },
   {
    "duration": 16,
    "start_time": "2021-12-02T10:13:00.612Z"
   },
   {
    "duration": 858,
    "start_time": "2021-12-02T10:13:00.630Z"
   },
   {
    "duration": 12,
    "start_time": "2021-12-02T10:13:01.490Z"
   },
   {
    "duration": 17,
    "start_time": "2021-12-02T10:13:01.503Z"
   },
   {
    "duration": 14,
    "start_time": "2021-12-02T10:13:01.522Z"
   },
   {
    "duration": 16,
    "start_time": "2021-12-02T10:13:01.539Z"
   },
   {
    "duration": 12,
    "start_time": "2021-12-02T10:13:01.557Z"
   },
   {
    "duration": 18,
    "start_time": "2021-12-02T10:13:01.571Z"
   },
   {
    "duration": 9,
    "start_time": "2021-12-02T10:13:01.591Z"
   },
   {
    "duration": 29,
    "start_time": "2021-12-02T10:13:01.601Z"
   },
   {
    "duration": 5,
    "start_time": "2021-12-02T10:13:01.631Z"
   },
   {
    "duration": 27,
    "start_time": "2021-12-02T10:13:01.637Z"
   },
   {
    "duration": 25,
    "start_time": "2021-12-02T10:13:01.666Z"
   },
   {
    "duration": 21,
    "start_time": "2021-12-02T10:13:01.693Z"
   },
   {
    "duration": 28,
    "start_time": "2021-12-02T10:13:01.716Z"
   },
   {
    "duration": 6,
    "start_time": "2021-12-02T10:18:10.279Z"
   },
   {
    "duration": 11,
    "start_time": "2021-12-02T10:18:24.445Z"
   },
   {
    "duration": 5,
    "start_time": "2021-12-02T10:18:32.856Z"
   },
   {
    "duration": 11,
    "start_time": "2021-12-02T10:18:35.315Z"
   },
   {
    "duration": 6,
    "start_time": "2021-12-02T10:18:49.124Z"
   },
   {
    "duration": 11,
    "start_time": "2021-12-02T10:18:51.060Z"
   },
   {
    "duration": 14,
    "start_time": "2021-12-02T10:19:01.478Z"
   },
   {
    "duration": 11,
    "start_time": "2021-12-02T10:19:04.495Z"
   },
   {
    "duration": 5,
    "start_time": "2021-12-02T10:19:24.876Z"
   },
   {
    "duration": 11,
    "start_time": "2021-12-02T10:19:27.643Z"
   },
   {
    "duration": 14,
    "start_time": "2021-12-02T10:19:29.416Z"
   },
   {
    "duration": 11,
    "start_time": "2021-12-02T10:19:32.156Z"
   },
   {
    "duration": 6,
    "start_time": "2021-12-02T10:19:45.327Z"
   },
   {
    "duration": 13,
    "start_time": "2021-12-02T10:19:47.393Z"
   },
   {
    "duration": 11,
    "start_time": "2021-12-02T10:19:49.515Z"
   },
   {
    "duration": 12,
    "start_time": "2021-12-02T10:19:52.946Z"
   },
   {
    "duration": 21,
    "start_time": "2021-12-02T10:20:55.094Z"
   },
   {
    "duration": 21,
    "start_time": "2021-12-02T10:20:58.496Z"
   },
   {
    "duration": 26,
    "start_time": "2021-12-02T10:23:31.194Z"
   },
   {
    "duration": 21,
    "start_time": "2021-12-02T10:23:39.748Z"
   },
   {
    "duration": 18,
    "start_time": "2021-12-02T10:26:04.931Z"
   },
   {
    "duration": 17,
    "start_time": "2021-12-02T10:26:08.469Z"
   },
   {
    "duration": 22,
    "start_time": "2021-12-02T10:26:15.029Z"
   },
   {
    "duration": 5,
    "start_time": "2021-12-02T10:26:45.580Z"
   },
   {
    "duration": 5,
    "start_time": "2021-12-02T10:26:47.695Z"
   },
   {
    "duration": 9,
    "start_time": "2021-12-02T10:26:50.616Z"
   },
   {
    "duration": 10,
    "start_time": "2021-12-02T10:26:53.432Z"
   },
   {
    "duration": 9,
    "start_time": "2021-12-02T10:26:55.887Z"
   },
   {
    "duration": 21,
    "start_time": "2021-12-02T10:29:25.303Z"
   },
   {
    "duration": 21,
    "start_time": "2021-12-02T10:29:36.782Z"
   },
   {
    "duration": 1024,
    "start_time": "2021-12-02T13:41:59.544Z"
   },
   {
    "duration": 52,
    "start_time": "2021-12-02T13:42:00.570Z"
   },
   {
    "duration": 9,
    "start_time": "2021-12-02T13:42:00.625Z"
   },
   {
    "duration": 8,
    "start_time": "2021-12-02T13:42:00.636Z"
   },
   {
    "duration": 20,
    "start_time": "2021-12-02T13:42:00.646Z"
   },
   {
    "duration": 4,
    "start_time": "2021-12-02T13:42:00.668Z"
   },
   {
    "duration": 27,
    "start_time": "2021-12-02T13:42:00.673Z"
   },
   {
    "duration": 7,
    "start_time": "2021-12-02T13:42:00.702Z"
   },
   {
    "duration": 24,
    "start_time": "2021-12-02T13:42:00.710Z"
   },
   {
    "duration": 6,
    "start_time": "2021-12-02T13:42:00.736Z"
   },
   {
    "duration": 189,
    "start_time": "2021-12-02T13:42:00.743Z"
   },
   {
    "duration": 7,
    "start_time": "2021-12-02T13:42:00.934Z"
   },
   {
    "duration": 1725,
    "start_time": "2021-12-02T13:42:00.942Z"
   },
   {
    "duration": 4,
    "start_time": "2021-12-02T13:42:02.669Z"
   },
   {
    "duration": 15,
    "start_time": "2021-12-02T13:42:02.676Z"
   },
   {
    "duration": 771,
    "start_time": "2021-12-02T13:42:02.693Z"
   },
   {
    "duration": 515,
    "start_time": "2021-12-02T13:42:03.465Z"
   },
   {
    "duration": 17,
    "start_time": "2021-12-02T13:42:03.983Z"
   },
   {
    "duration": 804,
    "start_time": "2021-12-02T13:42:04.002Z"
   },
   {
    "duration": 10,
    "start_time": "2021-12-02T13:42:04.808Z"
   },
   {
    "duration": 10,
    "start_time": "2021-12-02T13:42:04.819Z"
   },
   {
    "duration": 8,
    "start_time": "2021-12-02T13:42:04.831Z"
   },
   {
    "duration": 7,
    "start_time": "2021-12-02T13:42:04.840Z"
   },
   {
    "duration": 46,
    "start_time": "2021-12-02T13:42:04.848Z"
   },
   {
    "duration": 8,
    "start_time": "2021-12-02T13:42:04.896Z"
   },
   {
    "duration": 8,
    "start_time": "2021-12-02T13:42:04.907Z"
   },
   {
    "duration": 9,
    "start_time": "2021-12-02T13:42:04.917Z"
   },
   {
    "duration": 4,
    "start_time": "2021-12-02T13:42:04.927Z"
   },
   {
    "duration": 9,
    "start_time": "2021-12-02T13:42:04.933Z"
   },
   {
    "duration": 7,
    "start_time": "2021-12-02T13:42:04.943Z"
   },
   {
    "duration": 36,
    "start_time": "2021-12-02T13:42:04.952Z"
   },
   {
    "duration": 25,
    "start_time": "2021-12-02T13:42:04.990Z"
   },
   {
    "duration": 22,
    "start_time": "2021-12-02T13:46:30.954Z"
   },
   {
    "duration": 934,
    "start_time": "2021-12-03T08:33:05.068Z"
   },
   {
    "duration": 94,
    "start_time": "2021-12-03T08:34:04.789Z"
   },
   {
    "duration": 282,
    "start_time": "2021-12-03T08:34:28.433Z"
   },
   {
    "duration": 1116,
    "start_time": "2021-12-03T08:34:35.176Z"
   },
   {
    "duration": 54,
    "start_time": "2021-12-03T08:34:36.294Z"
   },
   {
    "duration": 9,
    "start_time": "2021-12-03T08:34:36.350Z"
   },
   {
    "duration": 3,
    "start_time": "2021-12-03T08:34:36.360Z"
   },
   {
    "duration": 24,
    "start_time": "2021-12-03T08:34:36.365Z"
   },
   {
    "duration": 16,
    "start_time": "2021-12-03T08:34:36.390Z"
   },
   {
    "duration": 25,
    "start_time": "2021-12-03T08:34:36.408Z"
   },
   {
    "duration": 17,
    "start_time": "2021-12-03T08:34:36.435Z"
   },
   {
    "duration": 25,
    "start_time": "2021-12-03T08:34:36.454Z"
   },
   {
    "duration": 8,
    "start_time": "2021-12-03T08:34:36.481Z"
   },
   {
    "duration": 183,
    "start_time": "2021-12-03T08:34:36.491Z"
   },
   {
    "duration": 7,
    "start_time": "2021-12-03T08:34:36.676Z"
   },
   {
    "duration": 1839,
    "start_time": "2021-12-03T08:34:36.684Z"
   },
   {
    "duration": 3,
    "start_time": "2021-12-03T08:34:38.524Z"
   },
   {
    "duration": 20,
    "start_time": "2021-12-03T08:34:38.528Z"
   },
   {
    "duration": 802,
    "start_time": "2021-12-03T08:34:38.549Z"
   },
   {
    "duration": 535,
    "start_time": "2021-12-03T08:34:39.353Z"
   },
   {
    "duration": 17,
    "start_time": "2021-12-03T08:34:39.890Z"
   },
   {
    "duration": 756,
    "start_time": "2021-12-03T08:34:39.909Z"
   },
   {
    "duration": 11,
    "start_time": "2021-12-03T08:34:40.667Z"
   },
   {
    "duration": 10,
    "start_time": "2021-12-03T08:34:40.680Z"
   },
   {
    "duration": 11,
    "start_time": "2021-12-03T08:34:40.691Z"
   },
   {
    "duration": 7,
    "start_time": "2021-12-03T08:34:40.705Z"
   },
   {
    "duration": 35,
    "start_time": "2021-12-03T08:34:40.714Z"
   },
   {
    "duration": 8,
    "start_time": "2021-12-03T08:34:40.751Z"
   },
   {
    "duration": 8,
    "start_time": "2021-12-03T08:34:40.761Z"
   },
   {
    "duration": 9,
    "start_time": "2021-12-03T08:34:40.770Z"
   },
   {
    "duration": 6,
    "start_time": "2021-12-03T08:34:40.780Z"
   },
   {
    "duration": 12,
    "start_time": "2021-12-03T08:34:40.788Z"
   },
   {
    "duration": 44,
    "start_time": "2021-12-03T08:34:40.802Z"
   },
   {
    "duration": 8,
    "start_time": "2021-12-03T08:34:40.848Z"
   },
   {
    "duration": 35,
    "start_time": "2021-12-03T08:34:40.857Z"
   },
   {
    "duration": 18,
    "start_time": "2021-12-03T08:34:40.894Z"
   },
   {
    "duration": 11,
    "start_time": "2021-12-03T08:35:08.115Z"
   },
   {
    "duration": 11,
    "start_time": "2021-12-03T08:35:40.858Z"
   },
   {
    "duration": 10,
    "start_time": "2021-12-03T08:36:08.576Z"
   },
   {
    "duration": 16,
    "start_time": "2021-12-03T08:36:46.483Z"
   },
   {
    "duration": 18,
    "start_time": "2021-12-03T08:37:09.939Z"
   },
   {
    "duration": 16,
    "start_time": "2021-12-03T08:37:22.697Z"
   },
   {
    "duration": 382,
    "start_time": "2021-12-03T08:37:33.017Z"
   },
   {
    "duration": 16,
    "start_time": "2021-12-03T08:37:40.943Z"
   },
   {
    "duration": 1154,
    "start_time": "2021-12-03T08:37:50.240Z"
   },
   {
    "duration": 62,
    "start_time": "2021-12-03T08:37:51.396Z"
   },
   {
    "duration": 11,
    "start_time": "2021-12-03T08:37:51.461Z"
   },
   {
    "duration": 3,
    "start_time": "2021-12-03T08:37:51.475Z"
   },
   {
    "duration": 19,
    "start_time": "2021-12-03T08:37:51.481Z"
   },
   {
    "duration": 6,
    "start_time": "2021-12-03T08:37:51.502Z"
   },
   {
    "duration": 47,
    "start_time": "2021-12-03T08:37:51.510Z"
   },
   {
    "duration": 9,
    "start_time": "2021-12-03T08:37:51.560Z"
   },
   {
    "duration": 26,
    "start_time": "2021-12-03T08:37:51.571Z"
   },
   {
    "duration": 8,
    "start_time": "2021-12-03T08:37:51.599Z"
   },
   {
    "duration": 201,
    "start_time": "2021-12-03T08:37:51.609Z"
   },
   {
    "duration": 8,
    "start_time": "2021-12-03T08:37:51.812Z"
   },
   {
    "duration": 2140,
    "start_time": "2021-12-03T08:37:51.821Z"
   },
   {
    "duration": 3,
    "start_time": "2021-12-03T08:37:53.963Z"
   },
   {
    "duration": 15,
    "start_time": "2021-12-03T08:37:53.968Z"
   },
   {
    "duration": 822,
    "start_time": "2021-12-03T08:37:53.985Z"
   },
   {
    "duration": 473,
    "start_time": "2021-12-03T08:37:54.808Z"
   },
   {
    "duration": 15,
    "start_time": "2021-12-03T08:37:55.282Z"
   },
   {
    "duration": 781,
    "start_time": "2021-12-03T08:37:55.298Z"
   },
   {
    "duration": 11,
    "start_time": "2021-12-03T08:37:56.080Z"
   },
   {
    "duration": 10,
    "start_time": "2021-12-03T08:37:56.092Z"
   },
   {
    "duration": 8,
    "start_time": "2021-12-03T08:37:56.104Z"
   },
   {
    "duration": 32,
    "start_time": "2021-12-03T08:37:56.114Z"
   },
   {
    "duration": 7,
    "start_time": "2021-12-03T08:37:56.148Z"
   },
   {
    "duration": 8,
    "start_time": "2021-12-03T08:37:56.157Z"
   },
   {
    "duration": 7,
    "start_time": "2021-12-03T08:37:56.166Z"
   },
   {
    "duration": 7,
    "start_time": "2021-12-03T08:37:56.175Z"
   },
   {
    "duration": 5,
    "start_time": "2021-12-03T08:37:56.184Z"
   },
   {
    "duration": 10,
    "start_time": "2021-12-03T08:37:56.190Z"
   },
   {
    "duration": 45,
    "start_time": "2021-12-03T08:37:56.202Z"
   },
   {
    "duration": 9,
    "start_time": "2021-12-03T08:37:56.249Z"
   },
   {
    "duration": 23,
    "start_time": "2021-12-03T08:37:56.260Z"
   },
   {
    "duration": 18,
    "start_time": "2021-12-03T08:37:56.285Z"
   },
   {
    "duration": 12,
    "start_time": "2021-12-03T08:39:53.925Z"
   },
   {
    "duration": 11,
    "start_time": "2021-12-03T08:47:35.645Z"
   },
   {
    "duration": 12,
    "start_time": "2021-12-03T08:47:48.691Z"
   },
   {
    "duration": 3,
    "start_time": "2021-12-03T08:52:33.070Z"
   },
   {
    "duration": 1889,
    "start_time": "2021-12-03T08:53:00.913Z"
   },
   {
    "duration": 254,
    "start_time": "2021-12-03T08:56:37.447Z"
   },
   {
    "duration": 6,
    "start_time": "2021-12-03T09:02:46.690Z"
   },
   {
    "duration": 9,
    "start_time": "2021-12-03T09:02:53.969Z"
   },
   {
    "duration": 1001,
    "start_time": "2021-12-03T09:03:03.686Z"
   },
   {
    "duration": 52,
    "start_time": "2021-12-03T09:03:04.689Z"
   },
   {
    "duration": 9,
    "start_time": "2021-12-03T09:03:04.743Z"
   },
   {
    "duration": 3,
    "start_time": "2021-12-03T09:03:04.754Z"
   },
   {
    "duration": 16,
    "start_time": "2021-12-03T09:03:04.759Z"
   },
   {
    "duration": 6,
    "start_time": "2021-12-03T09:03:04.777Z"
   },
   {
    "duration": 17,
    "start_time": "2021-12-03T09:03:04.784Z"
   },
   {
    "duration": 8,
    "start_time": "2021-12-03T09:03:04.804Z"
   },
   {
    "duration": 54,
    "start_time": "2021-12-03T09:03:04.814Z"
   },
   {
    "duration": 9,
    "start_time": "2021-12-03T09:03:04.870Z"
   },
   {
    "duration": 193,
    "start_time": "2021-12-03T09:03:04.881Z"
   },
   {
    "duration": 9,
    "start_time": "2021-12-03T09:03:05.076Z"
   },
   {
    "duration": 1811,
    "start_time": "2021-12-03T09:03:05.087Z"
   },
   {
    "duration": 3,
    "start_time": "2021-12-03T09:03:06.900Z"
   },
   {
    "duration": 10,
    "start_time": "2021-12-03T09:03:06.905Z"
   },
   {
    "duration": 815,
    "start_time": "2021-12-03T09:03:06.917Z"
   },
   {
    "duration": 520,
    "start_time": "2021-12-03T09:03:07.734Z"
   },
   {
    "duration": 14,
    "start_time": "2021-12-03T09:03:08.256Z"
   },
   {
    "duration": 768,
    "start_time": "2021-12-03T09:03:08.272Z"
   },
   {
    "duration": 11,
    "start_time": "2021-12-03T09:03:09.041Z"
   },
   {
    "duration": 10,
    "start_time": "2021-12-03T09:03:09.053Z"
   },
   {
    "duration": 8,
    "start_time": "2021-12-03T09:03:09.065Z"
   },
   {
    "duration": 7,
    "start_time": "2021-12-03T09:03:09.076Z"
   },
   {
    "duration": 7,
    "start_time": "2021-12-03T09:03:09.084Z"
   },
   {
    "duration": 7,
    "start_time": "2021-12-03T09:03:09.093Z"
   },
   {
    "duration": 47,
    "start_time": "2021-12-03T09:03:09.102Z"
   },
   {
    "duration": 8,
    "start_time": "2021-12-03T09:03:09.151Z"
   },
   {
    "duration": 5,
    "start_time": "2021-12-03T09:03:09.160Z"
   },
   {
    "duration": 18,
    "start_time": "2021-12-03T09:03:09.167Z"
   },
   {
    "duration": 8,
    "start_time": "2021-12-03T09:03:09.187Z"
   },
   {
    "duration": 7,
    "start_time": "2021-12-03T09:03:09.197Z"
   },
   {
    "duration": 57,
    "start_time": "2021-12-03T09:03:09.206Z"
   },
   {
    "duration": 13,
    "start_time": "2021-12-03T09:03:09.265Z"
   },
   {
    "duration": 12,
    "start_time": "2021-12-03T09:03:09.280Z"
   },
   {
    "duration": 28,
    "start_time": "2021-12-03T09:04:27.536Z"
   },
   {
    "duration": 24,
    "start_time": "2021-12-03T09:04:31.855Z"
   },
   {
    "duration": 393,
    "start_time": "2021-12-03T09:04:53.058Z"
   },
   {
    "duration": 13,
    "start_time": "2021-12-03T09:05:10.857Z"
   },
   {
    "duration": 338,
    "start_time": "2021-12-03T09:05:42.138Z"
   },
   {
    "duration": 363,
    "start_time": "2021-12-03T09:05:46.387Z"
   },
   {
    "duration": 13,
    "start_time": "2021-12-03T09:05:58.615Z"
   },
   {
    "duration": 9,
    "start_time": "2021-12-03T09:06:24.689Z"
   },
   {
    "duration": 1114,
    "start_time": "2021-12-03T09:06:30.595Z"
   },
   {
    "duration": 55,
    "start_time": "2021-12-03T09:06:31.711Z"
   },
   {
    "duration": 9,
    "start_time": "2021-12-03T09:06:31.768Z"
   },
   {
    "duration": 3,
    "start_time": "2021-12-03T09:06:31.779Z"
   },
   {
    "duration": 18,
    "start_time": "2021-12-03T09:06:31.783Z"
   },
   {
    "duration": 4,
    "start_time": "2021-12-03T09:06:31.803Z"
   },
   {
    "duration": 43,
    "start_time": "2021-12-03T09:06:31.808Z"
   },
   {
    "duration": 7,
    "start_time": "2021-12-03T09:06:31.854Z"
   },
   {
    "duration": 24,
    "start_time": "2021-12-03T09:06:31.864Z"
   },
   {
    "duration": 7,
    "start_time": "2021-12-03T09:06:31.890Z"
   },
   {
    "duration": 193,
    "start_time": "2021-12-03T09:06:31.899Z"
   },
   {
    "duration": 7,
    "start_time": "2021-12-03T09:06:32.094Z"
   },
   {
    "duration": 1875,
    "start_time": "2021-12-03T09:06:32.103Z"
   },
   {
    "duration": 2,
    "start_time": "2021-12-03T09:06:33.980Z"
   },
   {
    "duration": 11,
    "start_time": "2021-12-03T09:06:33.984Z"
   },
   {
    "duration": 827,
    "start_time": "2021-12-03T09:06:33.997Z"
   },
   {
    "duration": 521,
    "start_time": "2021-12-03T09:06:34.826Z"
   },
   {
    "duration": 15,
    "start_time": "2021-12-03T09:06:35.349Z"
   },
   {
    "duration": 804,
    "start_time": "2021-12-03T09:06:35.366Z"
   },
   {
    "duration": 11,
    "start_time": "2021-12-03T09:06:36.172Z"
   },
   {
    "duration": 15,
    "start_time": "2021-12-03T09:06:36.185Z"
   },
   {
    "duration": 10,
    "start_time": "2021-12-03T09:06:36.202Z"
   },
   {
    "duration": 36,
    "start_time": "2021-12-03T09:06:36.215Z"
   },
   {
    "duration": 8,
    "start_time": "2021-12-03T09:06:36.253Z"
   },
   {
    "duration": 8,
    "start_time": "2021-12-03T09:06:36.263Z"
   },
   {
    "duration": 7,
    "start_time": "2021-12-03T09:06:36.273Z"
   },
   {
    "duration": 12,
    "start_time": "2021-12-03T09:06:36.282Z"
   },
   {
    "duration": 21,
    "start_time": "2021-12-03T09:06:36.295Z"
   },
   {
    "duration": 29,
    "start_time": "2021-12-03T09:06:36.318Z"
   },
   {
    "duration": 10,
    "start_time": "2021-12-03T09:06:36.348Z"
   },
   {
    "duration": 9,
    "start_time": "2021-12-03T09:06:36.359Z"
   },
   {
    "duration": 24,
    "start_time": "2021-12-03T09:06:36.369Z"
   },
   {
    "duration": 11,
    "start_time": "2021-12-03T09:06:36.395Z"
   },
   {
    "duration": 43,
    "start_time": "2021-12-03T09:06:36.408Z"
   },
   {
    "duration": 373,
    "start_time": "2021-12-03T09:07:28.685Z"
   },
   {
    "duration": 1121,
    "start_time": "2021-12-03T09:07:41.870Z"
   },
   {
    "duration": 54,
    "start_time": "2021-12-03T09:07:42.993Z"
   },
   {
    "duration": 9,
    "start_time": "2021-12-03T09:07:43.050Z"
   },
   {
    "duration": 2,
    "start_time": "2021-12-03T09:07:43.061Z"
   },
   {
    "duration": 18,
    "start_time": "2021-12-03T09:07:43.065Z"
   },
   {
    "duration": 5,
    "start_time": "2021-12-03T09:07:43.084Z"
   },
   {
    "duration": 414,
    "start_time": "2021-12-03T09:07:43.090Z"
   },
   {
    "duration": 126,
    "start_time": "2021-12-03T09:07:43.381Z"
   },
   {
    "duration": 125,
    "start_time": "2021-12-03T09:07:43.383Z"
   },
   {
    "duration": 125,
    "start_time": "2021-12-03T09:07:43.384Z"
   },
   {
    "duration": 125,
    "start_time": "2021-12-03T09:07:43.385Z"
   },
   {
    "duration": 125,
    "start_time": "2021-12-03T09:07:43.387Z"
   },
   {
    "duration": 125,
    "start_time": "2021-12-03T09:07:43.388Z"
   },
   {
    "duration": 125,
    "start_time": "2021-12-03T09:07:43.389Z"
   },
   {
    "duration": 124,
    "start_time": "2021-12-03T09:07:43.391Z"
   },
   {
    "duration": 124,
    "start_time": "2021-12-03T09:07:43.392Z"
   },
   {
    "duration": 124,
    "start_time": "2021-12-03T09:07:43.393Z"
   },
   {
    "duration": 124,
    "start_time": "2021-12-03T09:07:43.395Z"
   },
   {
    "duration": 117,
    "start_time": "2021-12-03T09:07:43.403Z"
   },
   {
    "duration": 117,
    "start_time": "2021-12-03T09:07:43.405Z"
   },
   {
    "duration": 117,
    "start_time": "2021-12-03T09:07:43.406Z"
   },
   {
    "duration": 115,
    "start_time": "2021-12-03T09:07:43.409Z"
   },
   {
    "duration": 114,
    "start_time": "2021-12-03T09:07:43.411Z"
   },
   {
    "duration": 112,
    "start_time": "2021-12-03T09:07:43.414Z"
   },
   {
    "duration": 113,
    "start_time": "2021-12-03T09:07:43.415Z"
   },
   {
    "duration": 112,
    "start_time": "2021-12-03T09:07:43.417Z"
   },
   {
    "duration": 111,
    "start_time": "2021-12-03T09:07:43.419Z"
   },
   {
    "duration": 110,
    "start_time": "2021-12-03T09:07:43.421Z"
   },
   {
    "duration": 110,
    "start_time": "2021-12-03T09:07:43.423Z"
   },
   {
    "duration": 110,
    "start_time": "2021-12-03T09:07:43.424Z"
   },
   {
    "duration": 110,
    "start_time": "2021-12-03T09:07:43.425Z"
   },
   {
    "duration": 111,
    "start_time": "2021-12-03T09:07:43.427Z"
   },
   {
    "duration": 111,
    "start_time": "2021-12-03T09:07:43.428Z"
   },
   {
    "duration": 110,
    "start_time": "2021-12-03T09:07:43.430Z"
   },
   {
    "duration": 6968,
    "start_time": "2021-12-03T09:13:43.055Z"
   },
   {
    "duration": 1107,
    "start_time": "2021-12-03T09:14:29.084Z"
   },
   {
    "duration": 54,
    "start_time": "2021-12-03T09:14:30.193Z"
   },
   {
    "duration": 10,
    "start_time": "2021-12-03T09:14:30.249Z"
   },
   {
    "duration": 14,
    "start_time": "2021-12-03T09:14:30.261Z"
   },
   {
    "duration": 21,
    "start_time": "2021-12-03T09:14:30.277Z"
   },
   {
    "duration": 7,
    "start_time": "2021-12-03T09:14:30.299Z"
   },
   {
    "duration": 7318,
    "start_time": "2021-12-03T09:14:30.307Z"
   },
   {
    "duration": -133,
    "start_time": "2021-12-03T09:14:37.761Z"
   },
   {
    "duration": -138,
    "start_time": "2021-12-03T09:14:37.767Z"
   },
   {
    "duration": -144,
    "start_time": "2021-12-03T09:14:37.773Z"
   },
   {
    "duration": -149,
    "start_time": "2021-12-03T09:14:37.779Z"
   },
   {
    "duration": -152,
    "start_time": "2021-12-03T09:14:37.783Z"
   },
   {
    "duration": -155,
    "start_time": "2021-12-03T09:14:37.787Z"
   },
   {
    "duration": -157,
    "start_time": "2021-12-03T09:14:37.790Z"
   },
   {
    "duration": -160,
    "start_time": "2021-12-03T09:14:37.794Z"
   },
   {
    "duration": -162,
    "start_time": "2021-12-03T09:14:37.797Z"
   },
   {
    "duration": -165,
    "start_time": "2021-12-03T09:14:37.801Z"
   },
   {
    "duration": -169,
    "start_time": "2021-12-03T09:14:37.805Z"
   },
   {
    "duration": -171,
    "start_time": "2021-12-03T09:14:37.808Z"
   },
   {
    "duration": -173,
    "start_time": "2021-12-03T09:14:37.811Z"
   },
   {
    "duration": -176,
    "start_time": "2021-12-03T09:14:37.815Z"
   },
   {
    "duration": -178,
    "start_time": "2021-12-03T09:14:37.818Z"
   },
   {
    "duration": -181,
    "start_time": "2021-12-03T09:14:37.822Z"
   },
   {
    "duration": -183,
    "start_time": "2021-12-03T09:14:37.825Z"
   },
   {
    "duration": -185,
    "start_time": "2021-12-03T09:14:37.828Z"
   },
   {
    "duration": -189,
    "start_time": "2021-12-03T09:14:37.832Z"
   },
   {
    "duration": -191,
    "start_time": "2021-12-03T09:14:37.835Z"
   },
   {
    "duration": -193,
    "start_time": "2021-12-03T09:14:37.838Z"
   },
   {
    "duration": -201,
    "start_time": "2021-12-03T09:14:37.848Z"
   },
   {
    "duration": -203,
    "start_time": "2021-12-03T09:14:37.851Z"
   },
   {
    "duration": -205,
    "start_time": "2021-12-03T09:14:37.854Z"
   },
   {
    "duration": -206,
    "start_time": "2021-12-03T09:14:37.856Z"
   },
   {
    "duration": -207,
    "start_time": "2021-12-03T09:14:37.858Z"
   },
   {
    "duration": -209,
    "start_time": "2021-12-03T09:14:37.860Z"
   },
   {
    "duration": 280,
    "start_time": "2021-12-03T09:14:54.595Z"
   },
   {
    "duration": 1103,
    "start_time": "2021-12-03T09:15:03.195Z"
   },
   {
    "duration": 58,
    "start_time": "2021-12-03T09:15:04.300Z"
   },
   {
    "duration": 12,
    "start_time": "2021-12-03T09:15:04.361Z"
   },
   {
    "duration": 11,
    "start_time": "2021-12-03T09:15:04.376Z"
   },
   {
    "duration": 27,
    "start_time": "2021-12-03T09:15:04.388Z"
   },
   {
    "duration": 7,
    "start_time": "2021-12-03T09:15:04.417Z"
   },
   {
    "duration": 404,
    "start_time": "2021-12-03T09:15:04.426Z"
   },
   {
    "duration": 71,
    "start_time": "2021-12-03T09:15:04.763Z"
   },
   {
    "duration": 34,
    "start_time": "2021-12-03T09:15:04.801Z"
   },
   {
    "duration": 9,
    "start_time": "2021-12-03T09:15:04.828Z"
   },
   {
    "duration": -33,
    "start_time": "2021-12-03T09:15:04.871Z"
   },
   {
    "duration": -67,
    "start_time": "2021-12-03T09:15:04.906Z"
   },
   {
    "duration": -70,
    "start_time": "2021-12-03T09:15:04.911Z"
   },
   {
    "duration": -78,
    "start_time": "2021-12-03T09:15:04.920Z"
   },
   {
    "duration": -81,
    "start_time": "2021-12-03T09:15:04.924Z"
   },
   {
    "duration": -83,
    "start_time": "2021-12-03T09:15:04.928Z"
   },
   {
    "duration": -91,
    "start_time": "2021-12-03T09:15:04.937Z"
   },
   {
    "duration": -93,
    "start_time": "2021-12-03T09:15:04.940Z"
   },
   {
    "duration": -95,
    "start_time": "2021-12-03T09:15:04.944Z"
   },
   {
    "duration": -103,
    "start_time": "2021-12-03T09:15:04.953Z"
   },
   {
    "duration": -104,
    "start_time": "2021-12-03T09:15:04.956Z"
   },
   {
    "duration": -106,
    "start_time": "2021-12-03T09:15:04.959Z"
   },
   {
    "duration": -109,
    "start_time": "2021-12-03T09:15:04.963Z"
   },
   {
    "duration": -113,
    "start_time": "2021-12-03T09:15:04.969Z"
   },
   {
    "duration": -115,
    "start_time": "2021-12-03T09:15:04.972Z"
   },
   {
    "duration": -116,
    "start_time": "2021-12-03T09:15:04.974Z"
   },
   {
    "duration": -118,
    "start_time": "2021-12-03T09:15:04.978Z"
   },
   {
    "duration": -124,
    "start_time": "2021-12-03T09:15:04.985Z"
   },
   {
    "duration": -125,
    "start_time": "2021-12-03T09:15:04.988Z"
   },
   {
    "duration": -123,
    "start_time": "2021-12-03T09:15:04.990Z"
   },
   {
    "duration": -124,
    "start_time": "2021-12-03T09:15:04.992Z"
   },
   {
    "duration": -126,
    "start_time": "2021-12-03T09:15:04.996Z"
   },
   {
    "duration": -132,
    "start_time": "2021-12-03T09:15:05.003Z"
   },
   {
    "duration": -133,
    "start_time": "2021-12-03T09:15:05.006Z"
   },
   {
    "duration": 17,
    "start_time": "2021-12-03T09:15:21.362Z"
   },
   {
    "duration": 10,
    "start_time": "2021-12-03T09:15:52.837Z"
   },
   {
    "duration": 1090,
    "start_time": "2021-12-03T09:18:12.211Z"
   },
   {
    "duration": 54,
    "start_time": "2021-12-03T09:18:13.303Z"
   },
   {
    "duration": 11,
    "start_time": "2021-12-03T09:18:13.359Z"
   },
   {
    "duration": 3,
    "start_time": "2021-12-03T09:18:13.372Z"
   },
   {
    "duration": 18,
    "start_time": "2021-12-03T09:18:13.377Z"
   },
   {
    "duration": 6,
    "start_time": "2021-12-03T09:18:13.397Z"
   },
   {
    "duration": 18,
    "start_time": "2021-12-03T09:18:13.404Z"
   },
   {
    "duration": 9,
    "start_time": "2021-12-03T09:18:13.445Z"
   },
   {
    "duration": 23,
    "start_time": "2021-12-03T09:18:13.456Z"
   },
   {
    "duration": 7,
    "start_time": "2021-12-03T09:18:13.481Z"
   },
   {
    "duration": 190,
    "start_time": "2021-12-03T09:18:13.490Z"
   },
   {
    "duration": 7,
    "start_time": "2021-12-03T09:18:13.681Z"
   },
   {
    "duration": 1836,
    "start_time": "2021-12-03T09:18:13.690Z"
   },
   {
    "duration": 3,
    "start_time": "2021-12-03T09:18:15.527Z"
   },
   {
    "duration": 16,
    "start_time": "2021-12-03T09:18:15.532Z"
   },
   {
    "duration": 784,
    "start_time": "2021-12-03T09:18:15.550Z"
   },
   {
    "duration": 515,
    "start_time": "2021-12-03T09:18:16.336Z"
   },
   {
    "duration": 14,
    "start_time": "2021-12-03T09:18:16.853Z"
   },
   {
    "duration": 778,
    "start_time": "2021-12-03T09:18:16.869Z"
   },
   {
    "duration": 12,
    "start_time": "2021-12-03T09:18:17.649Z"
   },
   {
    "duration": 30,
    "start_time": "2021-12-03T09:18:17.663Z"
   },
   {
    "duration": 38,
    "start_time": "2021-12-03T09:18:17.695Z"
   },
   {
    "duration": 31,
    "start_time": "2021-12-03T09:18:17.737Z"
   },
   {
    "duration": 25,
    "start_time": "2021-12-03T09:18:17.769Z"
   },
   {
    "duration": 32,
    "start_time": "2021-12-03T09:18:17.796Z"
   },
   {
    "duration": 10,
    "start_time": "2021-12-03T09:18:17.830Z"
   },
   {
    "duration": 18,
    "start_time": "2021-12-03T09:18:17.842Z"
   },
   {
    "duration": 16,
    "start_time": "2021-12-03T09:18:17.862Z"
   },
   {
    "duration": 30,
    "start_time": "2021-12-03T09:18:17.880Z"
   },
   {
    "duration": 33,
    "start_time": "2021-12-03T09:18:17.912Z"
   },
   {
    "duration": 14,
    "start_time": "2021-12-03T09:18:17.947Z"
   },
   {
    "duration": 40,
    "start_time": "2021-12-03T09:18:17.963Z"
   },
   {
    "duration": 14,
    "start_time": "2021-12-03T09:18:18.004Z"
   },
   {
    "duration": 19,
    "start_time": "2021-12-03T09:18:18.019Z"
   },
   {
    "duration": 4,
    "start_time": "2021-12-03T09:28:56.187Z"
   },
   {
    "duration": 7,
    "start_time": "2021-12-03T09:29:06.027Z"
   },
   {
    "duration": 1117,
    "start_time": "2021-12-03T09:29:11.878Z"
   },
   {
    "duration": 58,
    "start_time": "2021-12-03T09:29:12.997Z"
   },
   {
    "duration": 9,
    "start_time": "2021-12-03T09:29:13.057Z"
   },
   {
    "duration": 7,
    "start_time": "2021-12-03T09:29:13.068Z"
   },
   {
    "duration": 30,
    "start_time": "2021-12-03T09:29:13.077Z"
   },
   {
    "duration": 5,
    "start_time": "2021-12-03T09:29:13.108Z"
   },
   {
    "duration": 13,
    "start_time": "2021-12-03T09:29:13.115Z"
   },
   {
    "duration": 21,
    "start_time": "2021-12-03T09:29:13.131Z"
   },
   {
    "duration": 35,
    "start_time": "2021-12-03T09:29:13.154Z"
   },
   {
    "duration": 8,
    "start_time": "2021-12-03T09:29:13.191Z"
   },
   {
    "duration": 182,
    "start_time": "2021-12-03T09:29:13.200Z"
   },
   {
    "duration": 7,
    "start_time": "2021-12-03T09:29:13.384Z"
   },
   {
    "duration": 1836,
    "start_time": "2021-12-03T09:29:13.393Z"
   },
   {
    "duration": 5,
    "start_time": "2021-12-03T09:29:15.231Z"
   },
   {
    "duration": 26,
    "start_time": "2021-12-03T09:29:15.245Z"
   },
   {
    "duration": 809,
    "start_time": "2021-12-03T09:29:15.272Z"
   },
   {
    "duration": 488,
    "start_time": "2021-12-03T09:29:16.083Z"
   },
   {
    "duration": 16,
    "start_time": "2021-12-03T09:29:16.573Z"
   },
   {
    "duration": 778,
    "start_time": "2021-12-03T09:29:16.591Z"
   },
   {
    "duration": 11,
    "start_time": "2021-12-03T09:29:17.370Z"
   },
   {
    "duration": 13,
    "start_time": "2021-12-03T09:29:17.383Z"
   },
   {
    "duration": 17,
    "start_time": "2021-12-03T09:29:17.398Z"
   },
   {
    "duration": 22,
    "start_time": "2021-12-03T09:29:17.419Z"
   },
   {
    "duration": 15,
    "start_time": "2021-12-03T09:29:17.443Z"
   },
   {
    "duration": 23,
    "start_time": "2021-12-03T09:29:17.460Z"
   },
   {
    "duration": 21,
    "start_time": "2021-12-03T09:29:17.485Z"
   },
   {
    "duration": 17,
    "start_time": "2021-12-03T09:29:17.508Z"
   },
   {
    "duration": 8,
    "start_time": "2021-12-03T09:29:17.526Z"
   },
   {
    "duration": 22,
    "start_time": "2021-12-03T09:29:17.535Z"
   },
   {
    "duration": 22,
    "start_time": "2021-12-03T09:29:17.564Z"
   },
   {
    "duration": 26,
    "start_time": "2021-12-03T09:29:17.588Z"
   },
   {
    "duration": 34,
    "start_time": "2021-12-03T09:29:17.616Z"
   },
   {
    "duration": 23,
    "start_time": "2021-12-03T09:29:17.652Z"
   },
   {
    "duration": 32,
    "start_time": "2021-12-03T09:29:17.677Z"
   },
   {
    "duration": 6,
    "start_time": "2021-12-03T09:30:19.502Z"
   },
   {
    "duration": 661,
    "start_time": "2021-12-03T09:30:45.453Z"
   },
   {
    "duration": 707,
    "start_time": "2021-12-03T09:31:23.569Z"
   },
   {
    "duration": 767,
    "start_time": "2021-12-03T09:31:43.558Z"
   },
   {
    "duration": 705,
    "start_time": "2021-12-03T09:31:55.320Z"
   },
   {
    "duration": 451,
    "start_time": "2021-12-03T09:36:15.714Z"
   },
   {
    "duration": 13,
    "start_time": "2021-12-03T09:36:52.622Z"
   },
   {
    "duration": 5,
    "start_time": "2021-12-03T09:39:20.353Z"
   },
   {
    "duration": 6,
    "start_time": "2021-12-03T09:40:10.624Z"
   },
   {
    "duration": 5,
    "start_time": "2021-12-03T09:40:22.144Z"
   },
   {
    "duration": 9,
    "start_time": "2021-12-03T09:40:32.567Z"
   },
   {
    "duration": 11,
    "start_time": "2021-12-03T09:40:37.692Z"
   },
   {
    "duration": 12,
    "start_time": "2021-12-03T09:40:49.460Z"
   },
   {
    "duration": 6,
    "start_time": "2021-12-03T09:40:58.760Z"
   },
   {
    "duration": 7,
    "start_time": "2021-12-03T09:41:04.844Z"
   },
   {
    "duration": 15,
    "start_time": "2021-12-03T09:41:12.263Z"
   },
   {
    "duration": 15,
    "start_time": "2021-12-03T09:41:16.518Z"
   },
   {
    "duration": 8,
    "start_time": "2021-12-03T09:43:23.706Z"
   },
   {
    "duration": 7,
    "start_time": "2021-12-03T09:43:28.207Z"
   },
   {
    "duration": 7,
    "start_time": "2021-12-03T09:43:29.871Z"
   },
   {
    "duration": 5,
    "start_time": "2021-12-03T09:46:00.572Z"
   },
   {
    "duration": 5,
    "start_time": "2021-12-03T09:46:07.074Z"
   },
   {
    "duration": 7,
    "start_time": "2021-12-03T09:46:08.583Z"
   },
   {
    "duration": 7,
    "start_time": "2021-12-03T09:46:10.789Z"
   },
   {
    "duration": 8,
    "start_time": "2021-12-03T09:46:13.623Z"
   },
   {
    "duration": 23,
    "start_time": "2021-12-03T09:47:29.683Z"
   },
   {
    "duration": 23,
    "start_time": "2021-12-03T09:48:12.693Z"
   },
   {
    "duration": 367,
    "start_time": "2021-12-03T09:49:12.176Z"
   },
   {
    "duration": 55,
    "start_time": "2021-12-03T09:50:51.419Z"
   },
   {
    "duration": 54,
    "start_time": "2021-12-03T09:51:16.332Z"
   },
   {
    "duration": 55,
    "start_time": "2021-12-03T09:51:24.079Z"
   },
   {
    "duration": 60,
    "start_time": "2021-12-03T09:51:34.853Z"
   },
   {
    "duration": 57,
    "start_time": "2021-12-03T09:51:48.077Z"
   },
   {
    "duration": 62,
    "start_time": "2021-12-03T09:52:56.864Z"
   },
   {
    "duration": 29,
    "start_time": "2021-12-03T09:53:47.808Z"
   },
   {
    "duration": 1149,
    "start_time": "2021-12-03T09:53:55.632Z"
   },
   {
    "duration": 54,
    "start_time": "2021-12-03T09:53:56.783Z"
   },
   {
    "duration": 14,
    "start_time": "2021-12-03T09:53:56.839Z"
   },
   {
    "duration": 3,
    "start_time": "2021-12-03T09:53:56.855Z"
   },
   {
    "duration": 18,
    "start_time": "2021-12-03T09:53:56.860Z"
   },
   {
    "duration": 5,
    "start_time": "2021-12-03T09:53:56.880Z"
   },
   {
    "duration": 12,
    "start_time": "2021-12-03T09:53:56.887Z"
   },
   {
    "duration": 7,
    "start_time": "2021-12-03T09:53:56.902Z"
   },
   {
    "duration": 56,
    "start_time": "2021-12-03T09:53:56.912Z"
   },
   {
    "duration": 7,
    "start_time": "2021-12-03T09:53:56.970Z"
   },
   {
    "duration": 194,
    "start_time": "2021-12-03T09:53:56.979Z"
   },
   {
    "duration": 8,
    "start_time": "2021-12-03T09:53:57.175Z"
   },
   {
    "duration": 1786,
    "start_time": "2021-12-03T09:53:57.184Z"
   },
   {
    "duration": 4,
    "start_time": "2021-12-03T09:53:58.972Z"
   },
   {
    "duration": 10,
    "start_time": "2021-12-03T09:53:58.977Z"
   },
   {
    "duration": 796,
    "start_time": "2021-12-03T09:53:58.988Z"
   },
   {
    "duration": 510,
    "start_time": "2021-12-03T09:53:59.786Z"
   },
   {
    "duration": 13,
    "start_time": "2021-12-03T09:54:00.298Z"
   },
   {
    "duration": 851,
    "start_time": "2021-12-03T09:54:00.312Z"
   },
   {
    "duration": 6,
    "start_time": "2021-12-03T09:54:01.165Z"
   },
   {
    "duration": 13,
    "start_time": "2021-12-03T09:54:01.173Z"
   },
   {
    "duration": 8,
    "start_time": "2021-12-03T09:54:01.188Z"
   },
   {
    "duration": 8,
    "start_time": "2021-12-03T09:54:01.200Z"
   },
   {
    "duration": 39,
    "start_time": "2021-12-03T09:54:01.210Z"
   },
   {
    "duration": 10,
    "start_time": "2021-12-03T09:54:01.251Z"
   },
   {
    "duration": 13,
    "start_time": "2021-12-03T09:54:01.262Z"
   },
   {
    "duration": 10,
    "start_time": "2021-12-03T09:54:01.277Z"
   },
   {
    "duration": 7,
    "start_time": "2021-12-03T09:54:01.288Z"
   },
   {
    "duration": 31,
    "start_time": "2021-12-03T09:54:01.296Z"
   },
   {
    "duration": 21,
    "start_time": "2021-12-03T09:54:01.329Z"
   },
   {
    "duration": 10,
    "start_time": "2021-12-03T09:54:01.352Z"
   },
   {
    "duration": 39,
    "start_time": "2021-12-03T09:54:01.364Z"
   },
   {
    "duration": 40,
    "start_time": "2021-12-03T09:54:01.405Z"
   },
   {
    "duration": 12,
    "start_time": "2021-12-03T09:54:01.447Z"
   },
   {
    "duration": 7191,
    "start_time": "2021-12-03T10:58:22.835Z"
   },
   {
    "duration": 57,
    "start_time": "2021-12-03T10:58:42.754Z"
   },
   {
    "duration": 12,
    "start_time": "2021-12-03T10:59:33.434Z"
   },
   {
    "duration": 22,
    "start_time": "2021-12-03T10:59:47.760Z"
   },
   {
    "duration": 8,
    "start_time": "2021-12-03T11:00:16.818Z"
   },
   {
    "duration": 57,
    "start_time": "2021-12-03T11:01:02.256Z"
   },
   {
    "duration": 73,
    "start_time": "2021-12-03T11:01:28.396Z"
   },
   {
    "duration": 1085,
    "start_time": "2021-12-03T11:01:36.801Z"
   },
   {
    "duration": 55,
    "start_time": "2021-12-03T11:01:37.887Z"
   },
   {
    "duration": 9,
    "start_time": "2021-12-03T11:01:37.944Z"
   },
   {
    "duration": 21,
    "start_time": "2021-12-03T11:01:37.955Z"
   },
   {
    "duration": 19,
    "start_time": "2021-12-03T11:01:37.978Z"
   },
   {
    "duration": 5,
    "start_time": "2021-12-03T11:01:37.998Z"
   },
   {
    "duration": 16,
    "start_time": "2021-12-03T11:01:38.004Z"
   },
   {
    "duration": 11,
    "start_time": "2021-12-03T11:01:38.022Z"
   },
   {
    "duration": 26,
    "start_time": "2021-12-03T11:01:38.035Z"
   },
   {
    "duration": 7,
    "start_time": "2021-12-03T11:01:38.063Z"
   },
   {
    "duration": 187,
    "start_time": "2021-12-03T11:01:38.071Z"
   },
   {
    "duration": 7,
    "start_time": "2021-12-03T11:01:38.260Z"
   },
   {
    "duration": 1813,
    "start_time": "2021-12-03T11:01:38.269Z"
   },
   {
    "duration": 4,
    "start_time": "2021-12-03T11:01:40.084Z"
   },
   {
    "duration": 9,
    "start_time": "2021-12-03T11:01:40.090Z"
   },
   {
    "duration": 789,
    "start_time": "2021-12-03T11:01:40.101Z"
   },
   {
    "duration": 467,
    "start_time": "2021-12-03T11:01:40.892Z"
   },
   {
    "duration": 17,
    "start_time": "2021-12-03T11:01:41.361Z"
   },
   {
    "duration": 756,
    "start_time": "2021-12-03T11:01:41.380Z"
   },
   {
    "duration": 9,
    "start_time": "2021-12-03T11:01:42.138Z"
   },
   {
    "duration": 13,
    "start_time": "2021-12-03T11:01:42.149Z"
   },
   {
    "duration": 8,
    "start_time": "2021-12-03T11:01:42.164Z"
   },
   {
    "duration": 6,
    "start_time": "2021-12-03T11:01:42.175Z"
   },
   {
    "duration": 6,
    "start_time": "2021-12-03T11:01:42.183Z"
   },
   {
    "duration": 6,
    "start_time": "2021-12-03T11:01:42.190Z"
   },
   {
    "duration": 52,
    "start_time": "2021-12-03T11:01:42.198Z"
   },
   {
    "duration": 7,
    "start_time": "2021-12-03T11:01:42.252Z"
   },
   {
    "duration": 5,
    "start_time": "2021-12-03T11:01:42.260Z"
   },
   {
    "duration": 8,
    "start_time": "2021-12-03T11:01:42.267Z"
   },
   {
    "duration": 6,
    "start_time": "2021-12-03T11:01:42.277Z"
   },
   {
    "duration": 7,
    "start_time": "2021-12-03T11:01:42.284Z"
   },
   {
    "duration": 115,
    "start_time": "2021-12-03T11:01:42.292Z"
   },
   {
    "duration": 8,
    "start_time": "2021-12-03T11:01:42.408Z"
   },
   {
    "duration": 31,
    "start_time": "2021-12-03T11:01:42.418Z"
   },
   {
    "duration": 77,
    "start_time": "2021-12-03T11:01:52.152Z"
   },
   {
    "duration": 3,
    "start_time": "2021-12-03T11:04:03.794Z"
   },
   {
    "duration": 356,
    "start_time": "2021-12-03T11:04:42.071Z"
   },
   {
    "duration": 5,
    "start_time": "2021-12-03T11:04:51.767Z"
   },
   {
    "duration": 1091,
    "start_time": "2021-12-03T11:04:58.202Z"
   },
   {
    "duration": 54,
    "start_time": "2021-12-03T11:04:59.295Z"
   },
   {
    "duration": 9,
    "start_time": "2021-12-03T11:04:59.351Z"
   },
   {
    "duration": 26,
    "start_time": "2021-12-03T11:04:59.362Z"
   },
   {
    "duration": 36,
    "start_time": "2021-12-03T11:04:59.390Z"
   },
   {
    "duration": 13,
    "start_time": "2021-12-03T11:04:59.428Z"
   },
   {
    "duration": 41,
    "start_time": "2021-12-03T11:04:59.443Z"
   },
   {
    "duration": 29,
    "start_time": "2021-12-03T11:04:59.486Z"
   },
   {
    "duration": 32,
    "start_time": "2021-12-03T11:04:59.518Z"
   },
   {
    "duration": 8,
    "start_time": "2021-12-03T11:04:59.553Z"
   },
   {
    "duration": 183,
    "start_time": "2021-12-03T11:04:59.563Z"
   },
   {
    "duration": 7,
    "start_time": "2021-12-03T11:04:59.747Z"
   },
   {
    "duration": 1869,
    "start_time": "2021-12-03T11:04:59.756Z"
   },
   {
    "duration": 6,
    "start_time": "2021-12-03T11:05:01.627Z"
   },
   {
    "duration": 64,
    "start_time": "2021-12-03T11:05:01.634Z"
   },
   {
    "duration": 824,
    "start_time": "2021-12-03T11:05:01.700Z"
   },
   {
    "duration": 454,
    "start_time": "2021-12-03T11:05:02.526Z"
   },
   {
    "duration": 16,
    "start_time": "2021-12-03T11:05:02.982Z"
   },
   {
    "duration": 844,
    "start_time": "2021-12-03T11:05:03.000Z"
   },
   {
    "duration": 6,
    "start_time": "2021-12-03T11:05:03.846Z"
   },
   {
    "duration": 24,
    "start_time": "2021-12-03T11:05:03.853Z"
   },
   {
    "duration": 23,
    "start_time": "2021-12-03T11:05:03.878Z"
   },
   {
    "duration": 19,
    "start_time": "2021-12-03T11:05:03.903Z"
   },
   {
    "duration": 21,
    "start_time": "2021-12-03T11:05:03.923Z"
   },
   {
    "duration": 24,
    "start_time": "2021-12-03T11:05:03.946Z"
   },
   {
    "duration": 24,
    "start_time": "2021-12-03T11:05:03.971Z"
   },
   {
    "duration": 23,
    "start_time": "2021-12-03T11:05:03.998Z"
   },
   {
    "duration": 33,
    "start_time": "2021-12-03T11:05:04.023Z"
   },
   {
    "duration": 22,
    "start_time": "2021-12-03T11:05:04.058Z"
   },
   {
    "duration": 34,
    "start_time": "2021-12-03T11:05:04.082Z"
   },
   {
    "duration": 18,
    "start_time": "2021-12-03T11:05:04.118Z"
   },
   {
    "duration": 7678,
    "start_time": "2021-12-03T11:05:04.138Z"
   },
   {
    "duration": 14,
    "start_time": "2021-12-03T11:05:11.804Z"
   },
   {
    "duration": 7,
    "start_time": "2021-12-03T11:05:11.812Z"
   },
   {
    "duration": 8451,
    "start_time": "2021-12-03T11:05:19.743Z"
   },
   {
    "duration": 1111,
    "start_time": "2021-12-03T11:05:42.887Z"
   },
   {
    "duration": 55,
    "start_time": "2021-12-03T11:05:44.000Z"
   },
   {
    "duration": 11,
    "start_time": "2021-12-03T11:05:44.058Z"
   },
   {
    "duration": 3,
    "start_time": "2021-12-03T11:05:44.072Z"
   },
   {
    "duration": 20,
    "start_time": "2021-12-03T11:05:44.077Z"
   },
   {
    "duration": 5,
    "start_time": "2021-12-03T11:05:44.099Z"
   },
   {
    "duration": 39,
    "start_time": "2021-12-03T11:05:44.106Z"
   },
   {
    "duration": 8,
    "start_time": "2021-12-03T11:05:44.149Z"
   },
   {
    "duration": 26,
    "start_time": "2021-12-03T11:05:44.160Z"
   },
   {
    "duration": 10,
    "start_time": "2021-12-03T11:05:44.188Z"
   },
   {
    "duration": 210,
    "start_time": "2021-12-03T11:05:44.200Z"
   },
   {
    "duration": 10,
    "start_time": "2021-12-03T11:05:44.412Z"
   },
   {
    "duration": 1882,
    "start_time": "2021-12-03T11:05:44.424Z"
   },
   {
    "duration": 5,
    "start_time": "2021-12-03T11:05:46.308Z"
   },
   {
    "duration": 15,
    "start_time": "2021-12-03T11:05:46.314Z"
   },
   {
    "duration": 783,
    "start_time": "2021-12-03T11:05:46.331Z"
   },
   {
    "duration": 559,
    "start_time": "2021-12-03T11:05:47.116Z"
   },
   {
    "duration": 14,
    "start_time": "2021-12-03T11:05:47.677Z"
   },
   {
    "duration": 871,
    "start_time": "2021-12-03T11:05:47.692Z"
   },
   {
    "duration": 7,
    "start_time": "2021-12-03T11:05:48.565Z"
   },
   {
    "duration": 11,
    "start_time": "2021-12-03T11:05:48.573Z"
   },
   {
    "duration": 6,
    "start_time": "2021-12-03T11:05:48.586Z"
   },
   {
    "duration": 7,
    "start_time": "2021-12-03T11:05:48.595Z"
   },
   {
    "duration": 42,
    "start_time": "2021-12-03T11:05:48.603Z"
   },
   {
    "duration": 7,
    "start_time": "2021-12-03T11:05:48.647Z"
   },
   {
    "duration": 12,
    "start_time": "2021-12-03T11:05:48.655Z"
   },
   {
    "duration": 12,
    "start_time": "2021-12-03T11:05:48.669Z"
   },
   {
    "duration": 9,
    "start_time": "2021-12-03T11:05:48.683Z"
   },
   {
    "duration": 18,
    "start_time": "2021-12-03T11:05:48.694Z"
   },
   {
    "duration": 14,
    "start_time": "2021-12-03T11:05:48.714Z"
   },
   {
    "duration": 15,
    "start_time": "2021-12-03T11:05:48.730Z"
   },
   {
    "duration": 7351,
    "start_time": "2021-12-03T11:05:48.747Z"
   },
   {
    "duration": 97,
    "start_time": "2021-12-03T11:05:56.003Z"
   },
   {
    "duration": 91,
    "start_time": "2021-12-03T11:05:56.010Z"
   },
   {
    "duration": 61,
    "start_time": "2021-12-03T11:06:53.408Z"
   },
   {
    "duration": 7113,
    "start_time": "2021-12-03T11:08:08.144Z"
   },
   {
    "duration": 703,
    "start_time": "2021-12-03T11:08:44.126Z"
   },
   {
    "duration": 57,
    "start_time": "2021-12-03T11:09:23.331Z"
   },
   {
    "duration": 65,
    "start_time": "2021-12-03T11:10:11.694Z"
   },
   {
    "duration": 46,
    "start_time": "2021-12-03T11:10:41.562Z"
   },
   {
    "duration": 47,
    "start_time": "2021-12-03T11:11:01.733Z"
   },
   {
    "duration": 5,
    "start_time": "2021-12-03T11:12:00.651Z"
   },
   {
    "duration": 11,
    "start_time": "2021-12-03T11:21:36.783Z"
   },
   {
    "duration": 11,
    "start_time": "2021-12-03T11:21:41.238Z"
   },
   {
    "duration": 10,
    "start_time": "2021-12-03T11:21:43.937Z"
   },
   {
    "duration": 13,
    "start_time": "2021-12-03T11:22:03.366Z"
   },
   {
    "duration": 15,
    "start_time": "2021-12-03T11:22:23.824Z"
   },
   {
    "duration": 1239,
    "start_time": "2021-12-03T11:27:14.349Z"
   },
   {
    "duration": 57,
    "start_time": "2021-12-03T11:27:15.590Z"
   },
   {
    "duration": 11,
    "start_time": "2021-12-03T11:27:15.650Z"
   },
   {
    "duration": 15,
    "start_time": "2021-12-03T11:27:15.663Z"
   },
   {
    "duration": 28,
    "start_time": "2021-12-03T11:27:15.680Z"
   },
   {
    "duration": 8,
    "start_time": "2021-12-03T11:27:15.710Z"
   },
   {
    "duration": 22,
    "start_time": "2021-12-03T11:27:15.720Z"
   },
   {
    "duration": 32,
    "start_time": "2021-12-03T11:27:15.745Z"
   },
   {
    "duration": 22,
    "start_time": "2021-12-03T11:27:15.779Z"
   },
   {
    "duration": 9,
    "start_time": "2021-12-03T11:27:15.802Z"
   },
   {
    "duration": 279,
    "start_time": "2021-12-03T11:27:15.812Z"
   },
   {
    "duration": 9,
    "start_time": "2021-12-03T11:27:16.093Z"
   },
   {
    "duration": 1912,
    "start_time": "2021-12-03T11:27:16.103Z"
   },
   {
    "duration": 5,
    "start_time": "2021-12-03T11:27:18.017Z"
   },
   {
    "duration": 9,
    "start_time": "2021-12-03T11:27:18.023Z"
   },
   {
    "duration": 875,
    "start_time": "2021-12-03T11:27:18.045Z"
   },
   {
    "duration": 482,
    "start_time": "2021-12-03T11:27:18.922Z"
   },
   {
    "duration": 18,
    "start_time": "2021-12-03T11:27:19.406Z"
   },
   {
    "duration": 877,
    "start_time": "2021-12-03T11:27:19.426Z"
   },
   {
    "duration": 7,
    "start_time": "2021-12-03T11:27:20.304Z"
   },
   {
    "duration": 30,
    "start_time": "2021-12-03T11:27:20.313Z"
   },
   {
    "duration": 21,
    "start_time": "2021-12-03T11:27:20.344Z"
   },
   {
    "duration": 25,
    "start_time": "2021-12-03T11:27:20.368Z"
   },
   {
    "duration": 25,
    "start_time": "2021-12-03T11:27:20.395Z"
   },
   {
    "duration": 23,
    "start_time": "2021-12-03T11:27:20.423Z"
   },
   {
    "duration": 14,
    "start_time": "2021-12-03T11:27:20.448Z"
   },
   {
    "duration": 21,
    "start_time": "2021-12-03T11:27:20.464Z"
   },
   {
    "duration": 26,
    "start_time": "2021-12-03T11:27:20.487Z"
   },
   {
    "duration": 22,
    "start_time": "2021-12-03T11:27:20.514Z"
   },
   {
    "duration": 29,
    "start_time": "2021-12-03T11:27:20.537Z"
   },
   {
    "duration": 38,
    "start_time": "2021-12-03T11:27:20.567Z"
   },
   {
    "duration": 49,
    "start_time": "2021-12-03T11:27:20.607Z"
   },
   {
    "duration": 8,
    "start_time": "2021-12-03T11:27:20.657Z"
   },
   {
    "duration": 30,
    "start_time": "2021-12-03T11:27:20.667Z"
   },
   {
    "duration": 1112,
    "start_time": "2021-12-03T11:29:50.789Z"
   },
   {
    "duration": 54,
    "start_time": "2021-12-03T11:29:51.903Z"
   },
   {
    "duration": 9,
    "start_time": "2021-12-03T11:29:51.959Z"
   },
   {
    "duration": 9,
    "start_time": "2021-12-03T11:29:51.970Z"
   },
   {
    "duration": 24,
    "start_time": "2021-12-03T11:29:51.981Z"
   },
   {
    "duration": 8,
    "start_time": "2021-12-03T11:29:52.007Z"
   },
   {
    "duration": 27,
    "start_time": "2021-12-03T11:29:52.017Z"
   },
   {
    "duration": 9,
    "start_time": "2021-12-03T11:29:52.046Z"
   },
   {
    "duration": 24,
    "start_time": "2021-12-03T11:29:52.057Z"
   },
   {
    "duration": 8,
    "start_time": "2021-12-03T11:29:52.082Z"
   },
   {
    "duration": 192,
    "start_time": "2021-12-03T11:29:52.091Z"
   },
   {
    "duration": 7,
    "start_time": "2021-12-03T11:29:52.285Z"
   },
   {
    "duration": 1853,
    "start_time": "2021-12-03T11:29:52.293Z"
   },
   {
    "duration": 5,
    "start_time": "2021-12-03T11:29:54.148Z"
   },
   {
    "duration": 8,
    "start_time": "2021-12-03T11:29:54.154Z"
   },
   {
    "duration": 992,
    "start_time": "2021-12-03T11:29:54.164Z"
   },
   {
    "duration": 495,
    "start_time": "2021-12-03T11:29:55.158Z"
   },
   {
    "duration": 14,
    "start_time": "2021-12-03T11:29:55.655Z"
   },
   {
    "duration": 754,
    "start_time": "2021-12-03T11:29:55.670Z"
   },
   {
    "duration": 6,
    "start_time": "2021-12-03T11:29:56.426Z"
   },
   {
    "duration": 22,
    "start_time": "2021-12-03T11:29:56.444Z"
   },
   {
    "duration": 24,
    "start_time": "2021-12-03T11:29:56.468Z"
   },
   {
    "duration": 15,
    "start_time": "2021-12-03T11:29:56.495Z"
   },
   {
    "duration": 27,
    "start_time": "2021-12-03T11:29:56.512Z"
   },
   {
    "duration": 34,
    "start_time": "2021-12-03T11:29:56.541Z"
   },
   {
    "duration": 20,
    "start_time": "2021-12-03T11:29:56.576Z"
   },
   {
    "duration": 27,
    "start_time": "2021-12-03T11:29:56.598Z"
   },
   {
    "duration": 11,
    "start_time": "2021-12-03T11:29:56.627Z"
   },
   {
    "duration": 21,
    "start_time": "2021-12-03T11:29:56.639Z"
   },
   {
    "duration": 24,
    "start_time": "2021-12-03T11:29:56.662Z"
   },
   {
    "duration": 29,
    "start_time": "2021-12-03T11:29:56.688Z"
   },
   {
    "duration": 62,
    "start_time": "2021-12-03T11:29:56.719Z"
   },
   {
    "duration": 8,
    "start_time": "2021-12-03T11:29:56.783Z"
   },
   {
    "duration": 39,
    "start_time": "2021-12-03T11:29:56.793Z"
   },
   {
    "duration": 1562,
    "start_time": "2021-12-03T18:52:46.302Z"
   },
   {
    "duration": 75,
    "start_time": "2021-12-03T18:52:47.867Z"
   },
   {
    "duration": 14,
    "start_time": "2021-12-03T18:52:47.946Z"
   },
   {
    "duration": 21,
    "start_time": "2021-12-03T18:52:47.963Z"
   },
   {
    "duration": 29,
    "start_time": "2021-12-03T18:52:47.987Z"
   },
   {
    "duration": 7,
    "start_time": "2021-12-03T18:52:48.019Z"
   },
   {
    "duration": 57,
    "start_time": "2021-12-03T18:52:48.029Z"
   },
   {
    "duration": 12,
    "start_time": "2021-12-03T18:52:48.090Z"
   },
   {
    "duration": 46,
    "start_time": "2021-12-03T18:52:48.106Z"
   },
   {
    "duration": 29,
    "start_time": "2021-12-03T18:52:48.155Z"
   },
   {
    "duration": 327,
    "start_time": "2021-12-03T18:52:48.187Z"
   },
   {
    "duration": 15,
    "start_time": "2021-12-03T18:52:48.518Z"
   },
   {
    "duration": 5431,
    "start_time": "2021-12-03T18:52:48.536Z"
   },
   {
    "duration": 20,
    "start_time": "2021-12-03T18:52:53.971Z"
   },
   {
    "duration": 17,
    "start_time": "2021-12-03T18:52:53.994Z"
   },
   {
    "duration": 1592,
    "start_time": "2021-12-03T18:52:54.015Z"
   },
   {
    "duration": 811,
    "start_time": "2021-12-03T18:52:55.610Z"
   },
   {
    "duration": 28,
    "start_time": "2021-12-03T18:52:56.424Z"
   },
   {
    "duration": 1475,
    "start_time": "2021-12-03T18:52:56.483Z"
   },
   {
    "duration": 29,
    "start_time": "2021-12-03T18:52:57.961Z"
   },
   {
    "duration": 28,
    "start_time": "2021-12-03T18:52:57.993Z"
   },
   {
    "duration": 16,
    "start_time": "2021-12-03T18:52:58.026Z"
   },
   {
    "duration": 14,
    "start_time": "2021-12-03T18:52:58.089Z"
   },
   {
    "duration": 14,
    "start_time": "2021-12-03T18:52:58.107Z"
   },
   {
    "duration": 16,
    "start_time": "2021-12-03T18:52:58.125Z"
   },
   {
    "duration": 10,
    "start_time": "2021-12-03T18:52:58.184Z"
   },
   {
    "duration": 15,
    "start_time": "2021-12-03T18:52:58.198Z"
   },
   {
    "duration": 10,
    "start_time": "2021-12-03T18:52:58.216Z"
   },
   {
    "duration": 61,
    "start_time": "2021-12-03T18:52:58.229Z"
   },
   {
    "duration": 17,
    "start_time": "2021-12-03T18:52:58.293Z"
   },
   {
    "duration": 18,
    "start_time": "2021-12-03T18:52:58.314Z"
   },
   {
    "duration": 170,
    "start_time": "2021-12-03T18:52:58.336Z"
   },
   {
    "duration": 21,
    "start_time": "2021-12-03T18:52:58.509Z"
   },
   {
    "duration": 70,
    "start_time": "2021-12-03T18:52:58.534Z"
   },
   {
    "duration": 606,
    "start_time": "2021-12-03T18:59:25.053Z"
   },
   {
    "duration": 10,
    "start_time": "2021-12-03T19:01:10.307Z"
   },
   {
    "duration": 530,
    "start_time": "2021-12-03T19:06:55.545Z"
   },
   {
    "duration": 429,
    "start_time": "2021-12-03T19:07:53.043Z"
   },
   {
    "duration": 533,
    "start_time": "2021-12-03T19:08:07.040Z"
   },
   {
    "duration": 534,
    "start_time": "2021-12-03T19:08:29.192Z"
   },
   {
    "duration": 9,
    "start_time": "2021-12-03T19:26:30.358Z"
   },
   {
    "duration": 8,
    "start_time": "2021-12-03T19:26:39.026Z"
   },
   {
    "duration": 192,
    "start_time": "2021-12-03T19:50:32.606Z"
   },
   {
    "duration": 291,
    "start_time": "2021-12-03T19:56:32.806Z"
   },
   {
    "duration": 1120,
    "start_time": "2021-12-03T19:56:38.038Z"
   },
   {
    "duration": 53,
    "start_time": "2021-12-03T19:56:39.160Z"
   },
   {
    "duration": 11,
    "start_time": "2021-12-03T19:56:39.216Z"
   },
   {
    "duration": 17,
    "start_time": "2021-12-03T19:56:39.229Z"
   },
   {
    "duration": 3,
    "start_time": "2021-12-03T19:56:39.248Z"
   },
   {
    "duration": 17,
    "start_time": "2021-12-03T19:56:39.253Z"
   },
   {
    "duration": 5,
    "start_time": "2021-12-03T19:56:39.272Z"
   },
   {
    "duration": 13,
    "start_time": "2021-12-03T19:56:39.280Z"
   },
   {
    "duration": 8,
    "start_time": "2021-12-03T19:56:39.295Z"
   },
   {
    "duration": 57,
    "start_time": "2021-12-03T19:56:39.305Z"
   },
   {
    "duration": 8,
    "start_time": "2021-12-03T19:56:39.364Z"
   },
   {
    "duration": 193,
    "start_time": "2021-12-03T19:56:39.374Z"
   },
   {
    "duration": 7,
    "start_time": "2021-12-03T19:56:39.569Z"
   },
   {
    "duration": 1812,
    "start_time": "2021-12-03T19:56:39.578Z"
   },
   {
    "duration": 4,
    "start_time": "2021-12-03T19:56:41.392Z"
   },
   {
    "duration": 8,
    "start_time": "2021-12-03T19:56:41.398Z"
   },
   {
    "duration": 783,
    "start_time": "2021-12-03T19:56:41.407Z"
   },
   {
    "duration": 568,
    "start_time": "2021-12-03T19:56:42.192Z"
   },
   {
    "duration": 14,
    "start_time": "2021-12-03T19:56:42.762Z"
   },
   {
    "duration": 761,
    "start_time": "2021-12-03T19:56:42.778Z"
   },
   {
    "duration": 9,
    "start_time": "2021-12-03T19:56:43.540Z"
   },
   {
    "duration": 11,
    "start_time": "2021-12-03T19:56:43.550Z"
   },
   {
    "duration": 7,
    "start_time": "2021-12-03T19:56:43.564Z"
   },
   {
    "duration": 8,
    "start_time": "2021-12-03T19:56:43.573Z"
   },
   {
    "duration": 8,
    "start_time": "2021-12-03T19:56:43.583Z"
   },
   {
    "duration": 7,
    "start_time": "2021-12-03T19:56:43.593Z"
   },
   {
    "duration": 44,
    "start_time": "2021-12-03T19:56:43.601Z"
   },
   {
    "duration": 8,
    "start_time": "2021-12-03T19:56:43.647Z"
   },
   {
    "duration": 4,
    "start_time": "2021-12-03T19:56:43.657Z"
   },
   {
    "duration": 6,
    "start_time": "2021-12-03T19:56:43.663Z"
   },
   {
    "duration": 6,
    "start_time": "2021-12-03T19:56:43.671Z"
   },
   {
    "duration": 5,
    "start_time": "2021-12-03T19:56:43.679Z"
   },
   {
    "duration": 75,
    "start_time": "2021-12-03T19:56:43.686Z"
   },
   {
    "duration": 10,
    "start_time": "2021-12-03T19:56:43.763Z"
   },
   {
    "duration": 15,
    "start_time": "2021-12-03T19:56:43.774Z"
   },
   {
    "duration": 177,
    "start_time": "2021-12-03T20:14:08.629Z"
   },
   {
    "duration": 170,
    "start_time": "2021-12-03T20:14:19.008Z"
   },
   {
    "duration": 186,
    "start_time": "2021-12-03T20:15:36.044Z"
   },
   {
    "duration": 179,
    "start_time": "2021-12-03T20:16:21.987Z"
   },
   {
    "duration": 168,
    "start_time": "2021-12-03T20:16:31.590Z"
   },
   {
    "duration": 177,
    "start_time": "2021-12-03T20:16:36.710Z"
   },
   {
    "duration": 336,
    "start_time": "2021-12-03T20:17:47.719Z"
   },
   {
    "duration": 517,
    "start_time": "2021-12-03T20:20:46.737Z"
   },
   {
    "duration": 400,
    "start_time": "2021-12-03T20:21:48.954Z"
   },
   {
    "duration": 527,
    "start_time": "2021-12-03T20:21:58.785Z"
   },
   {
    "duration": 457,
    "start_time": "2021-12-03T20:22:17.326Z"
   },
   {
    "duration": 151,
    "start_time": "2021-12-03T20:23:07.380Z"
   },
   {
    "duration": 188,
    "start_time": "2021-12-03T20:25:06.793Z"
   },
   {
    "duration": 180,
    "start_time": "2021-12-03T20:25:47.749Z"
   },
   {
    "duration": 421,
    "start_time": "2021-12-03T20:25:57.699Z"
   },
   {
    "duration": 178,
    "start_time": "2021-12-03T20:26:11.291Z"
   },
   {
    "duration": 3,
    "start_time": "2021-12-03T20:28:46.901Z"
   },
   {
    "duration": 398,
    "start_time": "2021-12-04T10:48:47.585Z"
   },
   {
    "duration": 1337,
    "start_time": "2021-12-04T10:48:52.298Z"
   },
   {
    "duration": 70,
    "start_time": "2021-12-04T10:48:53.637Z"
   },
   {
    "duration": 11,
    "start_time": "2021-12-04T10:48:53.710Z"
   },
   {
    "duration": 6,
    "start_time": "2021-12-04T10:48:53.723Z"
   },
   {
    "duration": 4,
    "start_time": "2021-12-04T10:48:53.731Z"
   },
   {
    "duration": 18,
    "start_time": "2021-12-04T10:48:53.737Z"
   },
   {
    "duration": 5,
    "start_time": "2021-12-04T10:48:53.756Z"
   },
   {
    "duration": 49,
    "start_time": "2021-12-04T10:48:53.763Z"
   },
   {
    "duration": 8,
    "start_time": "2021-12-04T10:48:53.814Z"
   },
   {
    "duration": 25,
    "start_time": "2021-12-04T10:48:53.824Z"
   },
   {
    "duration": 8,
    "start_time": "2021-12-04T10:48:53.851Z"
   },
   {
    "duration": 212,
    "start_time": "2021-12-04T10:48:53.860Z"
   },
   {
    "duration": 8,
    "start_time": "2021-12-04T10:48:54.074Z"
   },
   {
    "duration": 1886,
    "start_time": "2021-12-04T10:48:54.083Z"
   },
   {
    "duration": 5,
    "start_time": "2021-12-04T10:48:55.971Z"
   },
   {
    "duration": 7,
    "start_time": "2021-12-04T10:48:55.978Z"
   },
   {
    "duration": 843,
    "start_time": "2021-12-04T10:48:55.986Z"
   },
   {
    "duration": 544,
    "start_time": "2021-12-04T10:48:56.831Z"
   },
   {
    "duration": 31,
    "start_time": "2021-12-04T10:48:57.377Z"
   },
   {
    "duration": 828,
    "start_time": "2021-12-04T10:48:57.410Z"
   },
   {
    "duration": 7,
    "start_time": "2021-12-04T10:48:58.240Z"
   },
   {
    "duration": 14,
    "start_time": "2021-12-04T10:48:58.249Z"
   },
   {
    "duration": 7,
    "start_time": "2021-12-04T10:48:58.266Z"
   },
   {
    "duration": 7,
    "start_time": "2021-12-04T10:48:58.307Z"
   },
   {
    "duration": 9,
    "start_time": "2021-12-04T10:48:58.316Z"
   },
   {
    "duration": 6,
    "start_time": "2021-12-04T10:48:58.327Z"
   },
   {
    "duration": 8,
    "start_time": "2021-12-04T10:48:58.335Z"
   },
   {
    "duration": 9,
    "start_time": "2021-12-04T10:48:58.345Z"
   },
   {
    "duration": 10,
    "start_time": "2021-12-04T10:48:58.356Z"
   },
   {
    "duration": 9,
    "start_time": "2021-12-04T10:48:58.368Z"
   },
   {
    "duration": 7,
    "start_time": "2021-12-04T10:48:58.407Z"
   },
   {
    "duration": 8,
    "start_time": "2021-12-04T10:48:58.416Z"
   },
   {
    "duration": 47,
    "start_time": "2021-12-04T10:48:58.426Z"
   },
   {
    "duration": 10,
    "start_time": "2021-12-04T10:48:58.507Z"
   },
   {
    "duration": 14,
    "start_time": "2021-12-04T10:48:58.519Z"
   },
   {
    "duration": 134,
    "start_time": "2021-12-04T10:53:38.822Z"
   },
   {
    "duration": 57,
    "start_time": "2021-12-04T10:53:48.613Z"
   },
   {
    "duration": 55,
    "start_time": "2021-12-04T10:53:55.952Z"
   },
   {
    "duration": 662,
    "start_time": "2021-12-04T10:54:29.748Z"
   },
   {
    "duration": 1884,
    "start_time": "2021-12-04T10:54:42.692Z"
   },
   {
    "duration": 2161,
    "start_time": "2021-12-04T11:00:06.987Z"
   },
   {
    "duration": 2034,
    "start_time": "2021-12-04T11:00:37.166Z"
   },
   {
    "duration": 170,
    "start_time": "2021-12-04T13:09:41.539Z"
   },
   {
    "duration": 352,
    "start_time": "2021-12-04T13:11:21.110Z"
   },
   {
    "duration": 157,
    "start_time": "2021-12-04T13:11:31.311Z"
   },
   {
    "duration": 378,
    "start_time": "2021-12-04T13:12:09.350Z"
   },
   {
    "duration": 192,
    "start_time": "2021-12-04T13:12:16.891Z"
   },
   {
    "duration": 207,
    "start_time": "2021-12-04T13:12:23.773Z"
   },
   {
    "duration": 356,
    "start_time": "2021-12-04T13:12:54.066Z"
   },
   {
    "duration": 1072,
    "start_time": "2021-12-04T13:13:43.403Z"
   },
   {
    "duration": 1191,
    "start_time": "2021-12-04T13:14:35.733Z"
   },
   {
    "duration": 179,
    "start_time": "2021-12-04T13:14:47.005Z"
   },
   {
    "duration": 500,
    "start_time": "2021-12-04T13:15:57.510Z"
   },
   {
    "duration": 186,
    "start_time": "2021-12-04T13:16:07.662Z"
   },
   {
    "duration": 113,
    "start_time": "2021-12-04T13:16:42.397Z"
   },
   {
    "duration": 13,
    "start_time": "2021-12-04T13:16:55.178Z"
   },
   {
    "duration": 12,
    "start_time": "2021-12-04T13:16:58.770Z"
   },
   {
    "duration": 13,
    "start_time": "2021-12-04T13:17:04.022Z"
   },
   {
    "duration": 177,
    "start_time": "2021-12-04T13:17:16.906Z"
   },
   {
    "duration": 165,
    "start_time": "2021-12-04T13:19:28.243Z"
   },
   {
    "duration": 734,
    "start_time": "2021-12-04T13:21:00.760Z"
   },
   {
    "duration": 1651,
    "start_time": "2021-12-04T13:21:28.743Z"
   },
   {
    "duration": 1756,
    "start_time": "2021-12-04T13:22:50.703Z"
   },
   {
    "duration": 1731,
    "start_time": "2021-12-04T13:23:07.493Z"
   },
   {
    "duration": 1917,
    "start_time": "2021-12-04T13:24:28.975Z"
   },
   {
    "duration": 141,
    "start_time": "2021-12-04T13:31:48.958Z"
   },
   {
    "duration": 252,
    "start_time": "2021-12-04T13:32:01.281Z"
   },
   {
    "duration": 121,
    "start_time": "2021-12-04T13:33:01.506Z"
   },
   {
    "duration": 260,
    "start_time": "2021-12-04T13:33:21.510Z"
   },
   {
    "duration": 128,
    "start_time": "2021-12-04T13:33:47.057Z"
   },
   {
    "duration": 755,
    "start_time": "2021-12-04T13:33:51.152Z"
   },
   {
    "duration": 250,
    "start_time": "2021-12-04T13:33:57.894Z"
   },
   {
    "duration": 760,
    "start_time": "2021-12-04T13:34:50.084Z"
   },
   {
    "duration": 801,
    "start_time": "2021-12-04T13:35:39.183Z"
   },
   {
    "duration": 254,
    "start_time": "2021-12-04T13:36:41.855Z"
   },
   {
    "duration": 760,
    "start_time": "2021-12-04T13:37:26.715Z"
   },
   {
    "duration": 737,
    "start_time": "2021-12-04T13:37:42.462Z"
   },
   {
    "duration": 253,
    "start_time": "2021-12-04T13:37:51.842Z"
   },
   {
    "duration": 2042,
    "start_time": "2021-12-04T13:41:10.996Z"
   },
   {
    "duration": 758,
    "start_time": "2021-12-04T13:41:41.327Z"
   },
   {
    "duration": 798,
    "start_time": "2021-12-04T13:42:02.687Z"
   },
   {
    "duration": 371,
    "start_time": "2021-12-04T13:42:13.074Z"
   },
   {
    "duration": 785,
    "start_time": "2021-12-04T13:42:32.794Z"
   },
   {
    "duration": 365,
    "start_time": "2021-12-04T13:42:41.750Z"
   },
   {
    "duration": 565,
    "start_time": "2021-12-04T13:44:08.129Z"
   },
   {
    "duration": 1680,
    "start_time": "2021-12-04T13:44:28.990Z"
   },
   {
    "duration": 776,
    "start_time": "2021-12-04T13:44:50.681Z"
   },
   {
    "duration": 1708,
    "start_time": "2021-12-04T13:45:02.747Z"
   },
   {
    "duration": 528,
    "start_time": "2021-12-04T13:45:35.988Z"
   },
   {
    "duration": 606,
    "start_time": "2021-12-04T13:45:42.547Z"
   },
   {
    "duration": 212,
    "start_time": "2021-12-04T13:45:51.883Z"
   },
   {
    "duration": 244,
    "start_time": "2021-12-04T13:47:26.833Z"
   },
   {
    "duration": 253,
    "start_time": "2021-12-04T13:48:46.249Z"
   },
   {
    "duration": 254,
    "start_time": "2021-12-04T13:48:55.734Z"
   },
   {
    "duration": 293,
    "start_time": "2021-12-04T13:49:08.742Z"
   },
   {
    "duration": 790,
    "start_time": "2021-12-04T13:49:22.519Z"
   },
   {
    "duration": 301,
    "start_time": "2021-12-04T13:49:56.141Z"
   },
   {
    "duration": 487,
    "start_time": "2021-12-04T13:50:49.608Z"
   },
   {
    "duration": 654,
    "start_time": "2021-12-04T13:51:24.365Z"
   },
   {
    "duration": 445,
    "start_time": "2021-12-04T13:52:00.909Z"
   },
   {
    "duration": 320,
    "start_time": "2021-12-04T13:52:08.096Z"
   },
   {
    "duration": 302,
    "start_time": "2021-12-04T13:53:39.739Z"
   },
   {
    "duration": 373,
    "start_time": "2021-12-04T13:55:18.586Z"
   },
   {
    "duration": 477,
    "start_time": "2021-12-04T13:55:27.768Z"
   },
   {
    "duration": 533,
    "start_time": "2021-12-04T13:55:54.265Z"
   },
   {
    "duration": 439,
    "start_time": "2021-12-04T14:01:58.842Z"
   },
   {
    "duration": 419,
    "start_time": "2021-12-04T14:03:37.242Z"
   },
   {
    "duration": 326,
    "start_time": "2021-12-04T14:03:48.497Z"
   },
   {
    "duration": 3,
    "start_time": "2021-12-04T14:21:56.397Z"
   },
   {
    "duration": 299,
    "start_time": "2021-12-04T14:22:27.715Z"
   },
   {
    "duration": 313,
    "start_time": "2021-12-04T14:22:43.811Z"
   },
   {
    "duration": 713,
    "start_time": "2021-12-04T14:22:47.687Z"
   },
   {
    "duration": 455,
    "start_time": "2021-12-04T14:23:02.375Z"
   },
   {
    "duration": 395,
    "start_time": "2021-12-04T14:23:08.730Z"
   },
   {
    "duration": 365,
    "start_time": "2021-12-04T14:23:24.428Z"
   },
   {
    "duration": 394,
    "start_time": "2021-12-04T14:23:32.116Z"
   },
   {
    "duration": 399,
    "start_time": "2021-12-04T14:23:54.357Z"
   },
   {
    "duration": 4,
    "start_time": "2021-12-04T14:24:10.779Z"
   },
   {
    "duration": 4,
    "start_time": "2021-12-04T14:24:26.109Z"
   },
   {
    "duration": 4,
    "start_time": "2021-12-04T14:24:29.925Z"
   },
   {
    "duration": 4,
    "start_time": "2021-12-04T14:24:35.015Z"
   },
   {
    "duration": 315,
    "start_time": "2021-12-04T14:24:50.062Z"
   },
   {
    "duration": 398,
    "start_time": "2021-12-04T14:27:51.548Z"
   },
   {
    "duration": 330,
    "start_time": "2021-12-04T14:28:03.386Z"
   },
   {
    "duration": 407,
    "start_time": "2021-12-04T14:30:00.003Z"
   },
   {
    "duration": 311,
    "start_time": "2021-12-04T14:30:14.124Z"
   },
   {
    "duration": 313,
    "start_time": "2021-12-04T14:30:58.765Z"
   },
   {
    "duration": 129,
    "start_time": "2021-12-04T14:37:36.319Z"
   },
   {
    "duration": 127,
    "start_time": "2021-12-04T14:37:47.160Z"
   },
   {
    "duration": 935,
    "start_time": "2021-12-04T14:38:59.867Z"
   },
   {
    "duration": 466,
    "start_time": "2021-12-04T14:39:32.776Z"
   },
   {
    "duration": 1009,
    "start_time": "2021-12-04T14:40:06.124Z"
   },
   {
    "duration": 908,
    "start_time": "2021-12-04T14:40:23.904Z"
   },
   {
    "duration": 370,
    "start_time": "2021-12-04T14:40:37.808Z"
   },
   {
    "duration": 319,
    "start_time": "2021-12-04T14:42:21.932Z"
   },
   {
    "duration": 334,
    "start_time": "2021-12-04T14:50:33.435Z"
   },
   {
    "duration": 18,
    "start_time": "2021-12-04T14:54:18.416Z"
   },
   {
    "duration": 358,
    "start_time": "2021-12-04T14:55:01.157Z"
   },
   {
    "duration": 13,
    "start_time": "2021-12-04T14:55:06.235Z"
   },
   {
    "duration": 456,
    "start_time": "2021-12-04T14:55:19.575Z"
   },
   {
    "duration": 13,
    "start_time": "2021-12-04T14:55:31.141Z"
   },
   {
    "duration": 348,
    "start_time": "2021-12-04T14:55:51.955Z"
   },
   {
    "duration": 359,
    "start_time": "2021-12-04T14:56:02.567Z"
   },
   {
    "duration": 391,
    "start_time": "2021-12-04T14:56:05.891Z"
   },
   {
    "duration": 8,
    "start_time": "2021-12-04T14:57:10.159Z"
   },
   {
    "duration": 17,
    "start_time": "2021-12-04T14:59:06.209Z"
   },
   {
    "duration": 351,
    "start_time": "2021-12-04T14:59:17.109Z"
   },
   {
    "duration": 659,
    "start_time": "2021-12-04T14:59:40.775Z"
   },
   {
    "duration": 13,
    "start_time": "2021-12-04T14:59:44.884Z"
   },
   {
    "duration": 500,
    "start_time": "2021-12-04T15:00:53.346Z"
   },
   {
    "duration": 15,
    "start_time": "2021-12-04T15:01:21.422Z"
   },
   {
    "duration": 7,
    "start_time": "2021-12-04T15:01:44.978Z"
   },
   {
    "duration": 117,
    "start_time": "2021-12-04T15:10:22.736Z"
   },
   {
    "duration": 9,
    "start_time": "2021-12-04T15:11:07.693Z"
   },
   {
    "duration": 9,
    "start_time": "2021-12-04T15:11:29.604Z"
   },
   {
    "duration": 9,
    "start_time": "2021-12-04T15:11:46.398Z"
   },
   {
    "duration": 9,
    "start_time": "2021-12-04T15:11:56.988Z"
   },
   {
    "duration": 9,
    "start_time": "2021-12-04T15:12:03.435Z"
   },
   {
    "duration": 8,
    "start_time": "2021-12-04T15:12:33.913Z"
   },
   {
    "duration": 170,
    "start_time": "2021-12-04T15:13:01.038Z"
   },
   {
    "duration": 8,
    "start_time": "2021-12-04T15:13:08.744Z"
   },
   {
    "duration": 7,
    "start_time": "2021-12-04T15:13:13.295Z"
   },
   {
    "duration": 7,
    "start_time": "2021-12-04T15:13:22.635Z"
   },
   {
    "duration": 8,
    "start_time": "2021-12-04T15:13:39.060Z"
   },
   {
    "duration": 5,
    "start_time": "2021-12-04T15:25:37.893Z"
   },
   {
    "duration": 7,
    "start_time": "2021-12-04T15:25:39.897Z"
   },
   {
    "duration": 7,
    "start_time": "2021-12-04T15:25:43.053Z"
   },
   {
    "duration": 7,
    "start_time": "2021-12-04T15:25:46.770Z"
   },
   {
    "duration": 5,
    "start_time": "2021-12-04T15:26:06.332Z"
   },
   {
    "duration": 10,
    "start_time": "2021-12-04T15:30:25.535Z"
   },
   {
    "duration": 1154,
    "start_time": "2021-12-04T15:30:33.306Z"
   },
   {
    "duration": 55,
    "start_time": "2021-12-04T15:30:34.462Z"
   },
   {
    "duration": 9,
    "start_time": "2021-12-04T15:30:34.519Z"
   },
   {
    "duration": 6,
    "start_time": "2021-12-04T15:30:34.530Z"
   },
   {
    "duration": 5,
    "start_time": "2021-12-04T15:30:34.538Z"
   },
   {
    "duration": 19,
    "start_time": "2021-12-04T15:30:34.544Z"
   },
   {
    "duration": 5,
    "start_time": "2021-12-04T15:30:34.565Z"
   },
   {
    "duration": 42,
    "start_time": "2021-12-04T15:30:34.574Z"
   },
   {
    "duration": 9,
    "start_time": "2021-12-04T15:30:34.618Z"
   },
   {
    "duration": 30,
    "start_time": "2021-12-04T15:30:34.629Z"
   },
   {
    "duration": 9,
    "start_time": "2021-12-04T15:30:34.661Z"
   },
   {
    "duration": 217,
    "start_time": "2021-12-04T15:30:34.672Z"
   },
   {
    "duration": 17,
    "start_time": "2021-12-04T15:30:34.890Z"
   },
   {
    "duration": 2083,
    "start_time": "2021-12-04T15:30:34.909Z"
   },
   {
    "duration": 5,
    "start_time": "2021-12-04T15:30:36.994Z"
   },
   {
    "duration": 28,
    "start_time": "2021-12-04T15:30:37.007Z"
   },
   {
    "duration": 574,
    "start_time": "2021-12-04T15:30:37.037Z"
   },
   {
    "duration": 777,
    "start_time": "2021-12-04T15:30:37.613Z"
   },
   {
    "duration": 341,
    "start_time": "2021-12-04T15:30:38.392Z"
   },
   {
    "duration": 335,
    "start_time": "2021-12-04T15:30:38.735Z"
   },
   {
    "duration": 307,
    "start_time": "2021-12-04T15:30:39.072Z"
   },
   {
    "duration": 572,
    "start_time": "2021-12-04T15:30:39.381Z"
   },
   {
    "duration": 15,
    "start_time": "2021-12-04T15:30:39.958Z"
   },
   {
    "duration": 765,
    "start_time": "2021-12-04T15:30:39.975Z"
   },
   {
    "duration": 7,
    "start_time": "2021-12-04T15:30:40.741Z"
   },
   {
    "duration": 11,
    "start_time": "2021-12-04T15:30:40.750Z"
   },
   {
    "duration": 8,
    "start_time": "2021-12-04T15:30:40.762Z"
   },
   {
    "duration": 11,
    "start_time": "2021-12-04T15:30:40.771Z"
   },
   {
    "duration": 8,
    "start_time": "2021-12-04T15:30:40.807Z"
   },
   {
    "duration": 7,
    "start_time": "2021-12-04T15:30:40.817Z"
   },
   {
    "duration": 6,
    "start_time": "2021-12-04T15:30:40.826Z"
   },
   {
    "duration": 7,
    "start_time": "2021-12-04T15:30:40.834Z"
   },
   {
    "duration": 7,
    "start_time": "2021-12-04T15:30:40.843Z"
   },
   {
    "duration": 8,
    "start_time": "2021-12-04T15:30:40.851Z"
   },
   {
    "duration": 45,
    "start_time": "2021-12-04T15:30:40.861Z"
   },
   {
    "duration": 8,
    "start_time": "2021-12-04T15:30:40.908Z"
   },
   {
    "duration": 6,
    "start_time": "2021-12-04T15:30:40.918Z"
   },
   {
    "duration": 9,
    "start_time": "2021-12-04T15:30:40.926Z"
   },
   {
    "duration": 10,
    "start_time": "2021-12-04T15:30:40.937Z"
   },
   {
    "duration": 6,
    "start_time": "2021-12-04T15:30:40.948Z"
   },
   {
    "duration": 13,
    "start_time": "2021-12-04T15:30:40.955Z"
   },
   {
    "duration": 75,
    "start_time": "2021-12-04T15:30:40.970Z"
   },
   {
    "duration": 9,
    "start_time": "2021-12-04T15:30:41.047Z"
   },
   {
    "duration": 49,
    "start_time": "2021-12-04T15:30:41.058Z"
   },
   {
    "duration": 1132,
    "start_time": "2021-12-04T15:47:43.620Z"
   },
   {
    "duration": 54,
    "start_time": "2021-12-04T15:47:44.754Z"
   },
   {
    "duration": 9,
    "start_time": "2021-12-04T15:47:44.810Z"
   },
   {
    "duration": 6,
    "start_time": "2021-12-04T15:47:44.821Z"
   },
   {
    "duration": 6,
    "start_time": "2021-12-04T15:47:44.828Z"
   },
   {
    "duration": 20,
    "start_time": "2021-12-04T15:47:44.836Z"
   },
   {
    "duration": 5,
    "start_time": "2021-12-04T15:47:44.858Z"
   },
   {
    "duration": 13,
    "start_time": "2021-12-04T15:47:44.865Z"
   },
   {
    "duration": 33,
    "start_time": "2021-12-04T15:47:44.880Z"
   },
   {
    "duration": 22,
    "start_time": "2021-12-04T15:47:44.915Z"
   },
   {
    "duration": 7,
    "start_time": "2021-12-04T15:47:44.938Z"
   },
   {
    "duration": 200,
    "start_time": "2021-12-04T15:47:44.947Z"
   },
   {
    "duration": 7,
    "start_time": "2021-12-04T15:47:45.149Z"
   },
   {
    "duration": 1942,
    "start_time": "2021-12-04T15:47:45.158Z"
   },
   {
    "duration": 5,
    "start_time": "2021-12-04T15:47:47.106Z"
   },
   {
    "duration": 9,
    "start_time": "2021-12-04T15:47:47.112Z"
   },
   {
    "duration": 558,
    "start_time": "2021-12-04T15:47:47.123Z"
   },
   {
    "duration": 747,
    "start_time": "2021-12-04T15:47:47.682Z"
   },
   {
    "duration": 344,
    "start_time": "2021-12-04T15:47:48.431Z"
   },
   {
    "duration": 335,
    "start_time": "2021-12-04T15:47:48.777Z"
   },
   {
    "duration": 318,
    "start_time": "2021-12-04T15:47:49.114Z"
   },
   {
    "duration": 586,
    "start_time": "2021-12-04T15:47:49.434Z"
   },
   {
    "duration": 15,
    "start_time": "2021-12-04T15:47:50.024Z"
   },
   {
    "duration": 891,
    "start_time": "2021-12-04T15:47:50.041Z"
   },
   {
    "duration": 7,
    "start_time": "2021-12-04T15:47:50.933Z"
   },
   {
    "duration": 12,
    "start_time": "2021-12-04T15:47:50.941Z"
   },
   {
    "duration": 6,
    "start_time": "2021-12-04T15:47:50.955Z"
   },
   {
    "duration": 11,
    "start_time": "2021-12-04T15:47:50.962Z"
   },
   {
    "duration": 32,
    "start_time": "2021-12-04T15:47:50.975Z"
   },
   {
    "duration": 7,
    "start_time": "2021-12-04T15:47:51.009Z"
   },
   {
    "duration": 10,
    "start_time": "2021-12-04T15:47:51.017Z"
   },
   {
    "duration": 8,
    "start_time": "2021-12-04T15:47:51.029Z"
   },
   {
    "duration": 7,
    "start_time": "2021-12-04T15:47:51.039Z"
   },
   {
    "duration": 13,
    "start_time": "2021-12-04T15:47:51.047Z"
   },
   {
    "duration": 7,
    "start_time": "2021-12-04T15:47:51.062Z"
   },
   {
    "duration": 36,
    "start_time": "2021-12-04T15:47:51.071Z"
   },
   {
    "duration": 7,
    "start_time": "2021-12-04T15:47:51.109Z"
   },
   {
    "duration": 12,
    "start_time": "2021-12-04T15:47:51.117Z"
   },
   {
    "duration": 13,
    "start_time": "2021-12-04T15:47:51.131Z"
   },
   {
    "duration": 8,
    "start_time": "2021-12-04T15:47:51.146Z"
   },
   {
    "duration": 6,
    "start_time": "2021-12-04T15:47:51.156Z"
   },
   {
    "duration": 72,
    "start_time": "2021-12-04T15:47:51.164Z"
   },
   {
    "duration": 10,
    "start_time": "2021-12-04T15:47:51.237Z"
   },
   {
    "duration": 17,
    "start_time": "2021-12-04T15:47:51.248Z"
   },
   {
    "duration": 323,
    "start_time": "2021-12-04T15:50:11.693Z"
   },
   {
    "duration": 322,
    "start_time": "2021-12-04T15:52:29.906Z"
   },
   {
    "duration": 10,
    "start_time": "2021-12-04T15:56:21.238Z"
   },
   {
    "duration": 1121,
    "start_time": "2021-12-04T15:56:31.847Z"
   },
   {
    "duration": 56,
    "start_time": "2021-12-04T15:56:32.970Z"
   },
   {
    "duration": 10,
    "start_time": "2021-12-04T15:56:33.028Z"
   },
   {
    "duration": 7,
    "start_time": "2021-12-04T15:56:33.040Z"
   },
   {
    "duration": 5,
    "start_time": "2021-12-04T15:56:33.049Z"
   },
   {
    "duration": 18,
    "start_time": "2021-12-04T15:56:33.056Z"
   },
   {
    "duration": 5,
    "start_time": "2021-12-04T15:56:33.076Z"
   },
   {
    "duration": 12,
    "start_time": "2021-12-04T15:56:33.108Z"
   },
   {
    "duration": 8,
    "start_time": "2021-12-04T15:56:33.122Z"
   },
   {
    "duration": 26,
    "start_time": "2021-12-04T15:56:33.132Z"
   },
   {
    "duration": 10,
    "start_time": "2021-12-04T15:56:33.160Z"
   },
   {
    "duration": 223,
    "start_time": "2021-12-04T15:56:33.171Z"
   },
   {
    "duration": 16,
    "start_time": "2021-12-04T15:56:33.397Z"
   },
   {
    "duration": 2003,
    "start_time": "2021-12-04T15:56:33.415Z"
   },
   {
    "duration": 7,
    "start_time": "2021-12-04T15:56:35.420Z"
   },
   {
    "duration": 8,
    "start_time": "2021-12-04T15:56:35.429Z"
   },
   {
    "duration": 809,
    "start_time": "2021-12-04T15:56:35.439Z"
   },
   {
    "duration": 758,
    "start_time": "2021-12-04T15:56:36.250Z"
   },
   {
    "duration": 340,
    "start_time": "2021-12-04T15:56:37.009Z"
   },
   {
    "duration": 308,
    "start_time": "2021-12-04T15:56:37.350Z"
   },
   {
    "duration": 490,
    "start_time": "2021-12-04T15:56:37.659Z"
   },
   {
    "duration": 15,
    "start_time": "2021-12-04T15:56:38.151Z"
   },
   {
    "duration": 805,
    "start_time": "2021-12-04T15:56:38.169Z"
   },
   {
    "duration": 8,
    "start_time": "2021-12-04T15:56:38.976Z"
   },
   {
    "duration": 29,
    "start_time": "2021-12-04T15:56:38.986Z"
   },
   {
    "duration": 8,
    "start_time": "2021-12-04T15:56:39.017Z"
   },
   {
    "duration": 7,
    "start_time": "2021-12-04T15:56:39.027Z"
   },
   {
    "duration": 8,
    "start_time": "2021-12-04T15:56:39.036Z"
   },
   {
    "duration": 11,
    "start_time": "2021-12-04T15:56:39.046Z"
   },
   {
    "duration": 6,
    "start_time": "2021-12-04T15:56:39.059Z"
   },
   {
    "duration": 40,
    "start_time": "2021-12-04T15:56:39.067Z"
   },
   {
    "duration": 7,
    "start_time": "2021-12-04T15:56:39.110Z"
   },
   {
    "duration": 11,
    "start_time": "2021-12-04T15:56:39.119Z"
   },
   {
    "duration": 8,
    "start_time": "2021-12-04T15:56:39.132Z"
   },
   {
    "duration": 6,
    "start_time": "2021-12-04T15:56:39.141Z"
   },
   {
    "duration": 104,
    "start_time": "2021-12-04T15:56:39.149Z"
   },
   {
    "duration": 4,
    "start_time": "2021-12-04T15:56:39.254Z"
   },
   {
    "duration": 30,
    "start_time": "2021-12-04T15:56:39.260Z"
   },
   {
    "duration": 17,
    "start_time": "2021-12-04T15:56:39.291Z"
   },
   {
    "duration": 8,
    "start_time": "2021-12-04T15:56:39.310Z"
   },
   {
    "duration": 22,
    "start_time": "2021-12-04T15:56:39.319Z"
   },
   {
    "duration": 24,
    "start_time": "2021-12-04T15:56:39.343Z"
   },
   {
    "duration": 1181,
    "start_time": "2021-12-04T15:58:08.003Z"
   },
   {
    "duration": 58,
    "start_time": "2021-12-04T15:58:09.186Z"
   },
   {
    "duration": 11,
    "start_time": "2021-12-04T15:58:09.246Z"
   },
   {
    "duration": 6,
    "start_time": "2021-12-04T15:58:09.259Z"
   },
   {
    "duration": 4,
    "start_time": "2021-12-04T15:58:09.267Z"
   },
   {
    "duration": 36,
    "start_time": "2021-12-04T15:58:09.272Z"
   },
   {
    "duration": 5,
    "start_time": "2021-12-04T15:58:09.309Z"
   },
   {
    "duration": 11,
    "start_time": "2021-12-04T15:58:09.317Z"
   },
   {
    "duration": 8,
    "start_time": "2021-12-04T15:58:09.330Z"
   },
   {
    "duration": 31,
    "start_time": "2021-12-04T15:58:09.339Z"
   },
   {
    "duration": 9,
    "start_time": "2021-12-04T15:58:09.372Z"
   },
   {
    "duration": 227,
    "start_time": "2021-12-04T15:58:09.382Z"
   },
   {
    "duration": 8,
    "start_time": "2021-12-04T15:58:09.611Z"
   },
   {
    "duration": 2099,
    "start_time": "2021-12-04T15:58:09.621Z"
   },
   {
    "duration": 5,
    "start_time": "2021-12-04T15:58:11.722Z"
   },
   {
    "duration": 8,
    "start_time": "2021-12-04T15:58:11.728Z"
   },
   {
    "duration": 587,
    "start_time": "2021-12-04T15:58:11.738Z"
   },
   {
    "duration": 796,
    "start_time": "2021-12-04T15:58:12.327Z"
   },
   {
    "duration": 342,
    "start_time": "2021-12-04T15:58:13.125Z"
   },
   {
    "duration": 320,
    "start_time": "2021-12-04T15:58:13.469Z"
   },
   {
    "duration": 464,
    "start_time": "2021-12-04T15:58:13.792Z"
   },
   {
    "duration": 15,
    "start_time": "2021-12-04T15:58:14.258Z"
   },
   {
    "duration": 859,
    "start_time": "2021-12-04T15:58:14.277Z"
   },
   {
    "duration": 8,
    "start_time": "2021-12-04T15:58:15.138Z"
   },
   {
    "duration": 13,
    "start_time": "2021-12-04T15:58:15.148Z"
   },
   {
    "duration": 8,
    "start_time": "2021-12-04T15:58:15.163Z"
   },
   {
    "duration": 39,
    "start_time": "2021-12-04T15:58:15.173Z"
   },
   {
    "duration": 8,
    "start_time": "2021-12-04T15:58:15.214Z"
   },
   {
    "duration": 7,
    "start_time": "2021-12-04T15:58:15.223Z"
   },
   {
    "duration": 8,
    "start_time": "2021-12-04T15:58:15.231Z"
   },
   {
    "duration": 8,
    "start_time": "2021-12-04T15:58:15.240Z"
   },
   {
    "duration": 7,
    "start_time": "2021-12-04T15:58:15.250Z"
   },
   {
    "duration": 48,
    "start_time": "2021-12-04T15:58:15.259Z"
   },
   {
    "duration": 7,
    "start_time": "2021-12-04T15:58:15.309Z"
   },
   {
    "duration": 7,
    "start_time": "2021-12-04T15:58:15.318Z"
   },
   {
    "duration": 103,
    "start_time": "2021-12-04T15:58:15.327Z"
   },
   {
    "duration": 5,
    "start_time": "2021-12-04T15:58:15.431Z"
   },
   {
    "duration": 11,
    "start_time": "2021-12-04T15:58:15.437Z"
   },
   {
    "duration": 9,
    "start_time": "2021-12-04T15:58:15.450Z"
   },
   {
    "duration": 7,
    "start_time": "2021-12-04T15:58:15.460Z"
   },
   {
    "duration": 11,
    "start_time": "2021-12-04T15:58:15.468Z"
   },
   {
    "duration": 18,
    "start_time": "2021-12-04T15:58:15.507Z"
   },
   {
    "duration": 1546,
    "start_time": "2021-12-05T09:30:56.653Z"
   },
   {
    "duration": 72,
    "start_time": "2021-12-05T09:30:58.202Z"
   },
   {
    "duration": 13,
    "start_time": "2021-12-05T09:30:58.278Z"
   },
   {
    "duration": 9,
    "start_time": "2021-12-05T09:30:58.294Z"
   },
   {
    "duration": 5,
    "start_time": "2021-12-05T09:30:58.329Z"
   },
   {
    "duration": 45,
    "start_time": "2021-12-05T09:30:58.338Z"
   },
   {
    "duration": 8,
    "start_time": "2021-12-05T09:30:58.386Z"
   },
   {
    "duration": 45,
    "start_time": "2021-12-05T09:30:58.400Z"
   },
   {
    "duration": 13,
    "start_time": "2021-12-05T09:30:58.449Z"
   },
   {
    "duration": 49,
    "start_time": "2021-12-05T09:30:58.465Z"
   },
   {
    "duration": 18,
    "start_time": "2021-12-05T09:30:58.516Z"
   },
   {
    "duration": 321,
    "start_time": "2021-12-05T09:30:58.536Z"
   },
   {
    "duration": 10,
    "start_time": "2021-12-05T09:30:58.859Z"
   },
   {
    "duration": 3216,
    "start_time": "2021-12-05T09:30:58.872Z"
   },
   {
    "duration": 8,
    "start_time": "2021-12-05T09:31:02.090Z"
   },
   {
    "duration": 32,
    "start_time": "2021-12-05T09:31:02.101Z"
   },
   {
    "duration": 891,
    "start_time": "2021-12-05T09:31:02.136Z"
   },
   {
    "duration": 1243,
    "start_time": "2021-12-05T09:31:03.030Z"
   },
   {
    "duration": 561,
    "start_time": "2021-12-05T09:31:04.276Z"
   },
   {
    "duration": 508,
    "start_time": "2021-12-05T09:31:04.841Z"
   },
   {
    "duration": 817,
    "start_time": "2021-12-05T09:31:05.352Z"
   },
   {
    "duration": 28,
    "start_time": "2021-12-05T09:31:06.173Z"
   },
   {
    "duration": 1694,
    "start_time": "2021-12-05T09:31:06.229Z"
   },
   {
    "duration": 12,
    "start_time": "2021-12-05T09:31:07.931Z"
   },
   {
    "duration": 23,
    "start_time": "2021-12-05T09:31:07.946Z"
   },
   {
    "duration": 13,
    "start_time": "2021-12-05T09:31:07.972Z"
   },
   {
    "duration": 48,
    "start_time": "2021-12-05T09:31:07.988Z"
   },
   {
    "duration": 10,
    "start_time": "2021-12-05T09:31:08.039Z"
   },
   {
    "duration": 9,
    "start_time": "2021-12-05T09:31:08.051Z"
   },
   {
    "duration": 8,
    "start_time": "2021-12-05T09:31:08.063Z"
   },
   {
    "duration": 56,
    "start_time": "2021-12-05T09:31:08.073Z"
   },
   {
    "duration": 11,
    "start_time": "2021-12-05T09:31:08.132Z"
   },
   {
    "duration": 11,
    "start_time": "2021-12-05T09:31:08.145Z"
   },
   {
    "duration": 8,
    "start_time": "2021-12-05T09:31:08.158Z"
   },
   {
    "duration": 12,
    "start_time": "2021-12-05T09:31:08.168Z"
   },
   {
    "duration": 124,
    "start_time": "2021-12-05T09:31:08.182Z"
   },
   {
    "duration": 6,
    "start_time": "2021-12-05T09:31:08.309Z"
   },
   {
    "duration": 25,
    "start_time": "2021-12-05T09:31:08.317Z"
   },
   {
    "duration": 18,
    "start_time": "2021-12-05T09:31:08.345Z"
   },
   {
    "duration": 14,
    "start_time": "2021-12-05T09:31:08.365Z"
   },
   {
    "duration": 46,
    "start_time": "2021-12-05T09:31:08.382Z"
   },
   {
    "duration": 35,
    "start_time": "2021-12-05T09:31:08.431Z"
   },
   {
    "duration": 23,
    "start_time": "2021-12-05T09:41:02.200Z"
   },
   {
    "duration": 8,
    "start_time": "2021-12-05T09:41:05.459Z"
   },
   {
    "duration": 937,
    "start_time": "2021-12-05T09:45:40.906Z"
   },
   {
    "duration": 38,
    "start_time": "2021-12-05T09:45:46.940Z"
   },
   {
    "duration": 425,
    "start_time": "2021-12-05T09:45:53.441Z"
   }
  ],
  "kernelspec": {
   "display_name": "Python 3 (ipykernel)",
   "language": "python",
   "name": "python3"
  },
  "language_info": {
   "codemirror_mode": {
    "name": "ipython",
    "version": 3
   },
   "file_extension": ".py",
   "mimetype": "text/x-python",
   "name": "python",
   "nbconvert_exporter": "python",
   "pygments_lexer": "ipython3",
   "version": "3.9.7"
  },
  "toc": {
   "base_numbering": 1,
   "nav_menu": {},
   "number_sections": true,
   "sideBar": true,
   "skip_h1_title": true,
   "title_cell": "Table of Contents",
   "title_sidebar": "Contents",
   "toc_cell": false,
   "toc_position": {},
   "toc_section_display": true,
   "toc_window_display": false
  }
 },
 "nbformat": 4,
 "nbformat_minor": 2
}
